{
 "cells": [
  {
   "cell_type": "markdown",
   "metadata": {},
   "source": [
    "# Приоретизация гипотез по увеличению выручки и анализ A/B-теста для крупного интернет-магазина"
   ]
  },
  {
   "cell_type": "markdown",
   "metadata": {},
   "source": [
    "Цель: приоретизация гипотез и анализ A/B-теста    \n",
    "Задача: приоретизировать гипотезы , запустить A/B-тест и принять решение: продолжить ли тест и понять насколько он был успешен."
   ]
  },
  {
   "cell_type": "markdown",
   "metadata": {},
   "source": [
    "## Описание данных"
   ]
  },
  {
   "cell_type": "markdown",
   "metadata": {},
   "source": [
    "Файл с гипотезами  /datasets/hypothesis.csv.\n",
    "\n",
    "`Hypothesis` — краткое описание гипотезы;   \n",
    "`Reach` — охват пользователей по 10-балльной шкале;     \n",
    "`Impact` — влияние на пользователей по 10-балльной шкале;    \n",
    "`Confidence` — уверенность в гипотезе по 10-балльной шкале;    \n",
    "`Efforts` — затраты ресурсов на проверку гипотезы по 10-балльной шкале. Чем больше значение Efforts, тем дороже проверка гипотезы.     \n",
    "\n",
    "Файл с заказами  /datasets/orders.csv.    \n",
    "\n",
    "`transactionId` — идентификатор заказа;   \n",
    "`visitorId` — идентификатор пользователя, совершившего заказ;    \n",
    "`date` — дата, когда был совершён заказ;    \n",
    "`revenue` — выручка заказа;    \n",
    "`group` — группа A/B-теста, в которую попал заказ.    \n",
    "\n",
    "Файл с пользователями   /datasets/visitors.csv.    \n",
    "\n",
    "`date` — дата;   \n",
    "`group` — группа A/B-теста;   \n",
    "`visitors` — количество пользователей в указанную дату в указанной группе A/B-теста  "
   ]
  },
  {
   "cell_type": "markdown",
   "metadata": {},
   "source": [
    "## Подготовка данных к работе"
   ]
  },
  {
   "cell_type": "markdown",
   "metadata": {},
   "source": [
    "подключаем библиотеки для анализа"
   ]
  },
  {
   "cell_type": "code",
   "execution_count": 156,
   "metadata": {
    "trusted": true
   },
   "outputs": [],
   "source": [
    "import pandas as pd\n",
    "import numpy as np\n",
    "import scipy.stats as stat\n",
    "import plotly.express as px\n",
    "\n",
    "import warnings\n",
    "warnings.filterwarnings('ignore')\n",
    "\n",
    "# для вывода полного содержимого ячейки\n",
    "pd.options.display.max_colwidth = 190"
   ]
  },
  {
   "cell_type": "markdown",
   "metadata": {},
   "source": [
    "грузим исследуемые файлы"
   ]
  },
  {
   "cell_type": "code",
   "execution_count": 157,
   "metadata": {
    "trusted": true
   },
   "outputs": [],
   "source": [
    "\n",
    "hypotesis = pd.read_csv(\n",
    "    'https://code.s3.yandex.net/datasets/hypothesis.csv')\n",
    "orders = pd.read_csv('https://code.s3.yandex.net/datasets/orders.csv')\n",
    "visitors = pd.read_csv('https://code.s3.yandex.net/datasets/visitors.csv')"
   ]
  },
  {
   "cell_type": "markdown",
   "metadata": {},
   "source": [
    "выводим всю информацию о датафреймах - нужно проверить их на пропуски, дубликаты и прочее"
   ]
  },
  {
   "cell_type": "code",
   "execution_count": 158,
   "metadata": {
    "scrolled": false,
    "trusted": true
   },
   "outputs": [
    {
     "name": "stdout",
     "output_type": "stream",
     "text": [
      "\n",
      "DATAFRAME: \tHYPOTESIS\n",
      "-------------------------\n",
      "<class 'pandas.core.frame.DataFrame'>\n",
      "RangeIndex: 9 entries, 0 to 8\n",
      "Data columns (total 5 columns):\n",
      " #   Column      Non-Null Count  Dtype \n",
      "---  ------      --------------  ----- \n",
      " 0   Hypothesis  9 non-null      object\n",
      " 1   Reach       9 non-null      int64 \n",
      " 2   Impact      9 non-null      int64 \n",
      " 3   Confidence  9 non-null      int64 \n",
      " 4   Efforts     9 non-null      int64 \n",
      "dtypes: int64(4), object(1)\n",
      "memory usage: 488.0+ bytes\n",
      "None\n"
     ]
    },
    {
     "data": {
      "text/html": [
       "<div>\n",
       "<style scoped>\n",
       "    .dataframe tbody tr th:only-of-type {\n",
       "        vertical-align: middle;\n",
       "    }\n",
       "\n",
       "    .dataframe tbody tr th {\n",
       "        vertical-align: top;\n",
       "    }\n",
       "\n",
       "    .dataframe thead th {\n",
       "        text-align: right;\n",
       "    }\n",
       "</style>\n",
       "<table border=\"1\" class=\"dataframe\">\n",
       "  <thead>\n",
       "    <tr style=\"text-align: right;\">\n",
       "      <th></th>\n",
       "      <th>Hypothesis</th>\n",
       "      <th>Reach</th>\n",
       "      <th>Impact</th>\n",
       "      <th>Confidence</th>\n",
       "      <th>Efforts</th>\n",
       "    </tr>\n",
       "  </thead>\n",
       "  <tbody>\n",
       "    <tr>\n",
       "      <th>0</th>\n",
       "      <td>Добавить два новых канала привлечения трафика, что позволит привлекать на 30% больше пользователей</td>\n",
       "      <td>3</td>\n",
       "      <td>10</td>\n",
       "      <td>8</td>\n",
       "      <td>6</td>\n",
       "    </tr>\n",
       "    <tr>\n",
       "      <th>1</th>\n",
       "      <td>Запустить собственную службу доставки, что сократит срок доставки заказов</td>\n",
       "      <td>2</td>\n",
       "      <td>5</td>\n",
       "      <td>4</td>\n",
       "      <td>10</td>\n",
       "    </tr>\n",
       "    <tr>\n",
       "      <th>2</th>\n",
       "      <td>Добавить блоки рекомендаций товаров на сайт интернет магазина, чтобы повысить конверсию и средний чек заказа</td>\n",
       "      <td>8</td>\n",
       "      <td>3</td>\n",
       "      <td>7</td>\n",
       "      <td>3</td>\n",
       "    </tr>\n",
       "    <tr>\n",
       "      <th>3</th>\n",
       "      <td>Изменить структура категорий, что увеличит конверсию, т.к. пользователи быстрее найдут нужный товар</td>\n",
       "      <td>8</td>\n",
       "      <td>3</td>\n",
       "      <td>3</td>\n",
       "      <td>8</td>\n",
       "    </tr>\n",
       "    <tr>\n",
       "      <th>4</th>\n",
       "      <td>Изменить цвет фона главной страницы, чтобы увеличить вовлеченность пользователей</td>\n",
       "      <td>3</td>\n",
       "      <td>1</td>\n",
       "      <td>1</td>\n",
       "      <td>1</td>\n",
       "    </tr>\n",
       "  </tbody>\n",
       "</table>\n",
       "</div>"
      ],
      "text/plain": [
       "                                                                                                     Hypothesis  \\\n",
       "0            Добавить два новых канала привлечения трафика, что позволит привлекать на 30% больше пользователей   \n",
       "1                                     Запустить собственную службу доставки, что сократит срок доставки заказов   \n",
       "2  Добавить блоки рекомендаций товаров на сайт интернет магазина, чтобы повысить конверсию и средний чек заказа   \n",
       "3           Изменить структура категорий, что увеличит конверсию, т.к. пользователи быстрее найдут нужный товар   \n",
       "4                              Изменить цвет фона главной страницы, чтобы увеличить вовлеченность пользователей   \n",
       "\n",
       "   Reach  Impact  Confidence  Efforts  \n",
       "0      3      10           8        6  \n",
       "1      2       5           4       10  \n",
       "2      8       3           7        3  \n",
       "3      8       3           3        8  \n",
       "4      3       1           1        1  "
      ]
     },
     "metadata": {},
     "output_type": "display_data"
    },
    {
     "name": "stdout",
     "output_type": "stream",
     "text": [
      "\n",
      "ДУБЛИКАТОВ: 0\n",
      ". . . . . . . . . . \n",
      "\n",
      "ПРОПУСКИ\n",
      ". . . . . . . . . . \n",
      "Hypothesis    0\n",
      "Reach         0\n",
      "Impact        0\n",
      "Confidence    0\n",
      "Efforts       0\n",
      "dtype: int64\n",
      "--------------------------------------------------------------------------------\n",
      "\n",
      "DATAFRAME: \tORDERS\n",
      "-------------------------\n",
      "<class 'pandas.core.frame.DataFrame'>\n",
      "RangeIndex: 1197 entries, 0 to 1196\n",
      "Data columns (total 5 columns):\n",
      " #   Column         Non-Null Count  Dtype \n",
      "---  ------         --------------  ----- \n",
      " 0   transactionId  1197 non-null   int64 \n",
      " 1   visitorId      1197 non-null   int64 \n",
      " 2   date           1197 non-null   object\n",
      " 3   revenue        1197 non-null   int64 \n",
      " 4   group          1197 non-null   object\n",
      "dtypes: int64(3), object(2)\n",
      "memory usage: 46.9+ KB\n",
      "None\n"
     ]
    },
    {
     "data": {
      "text/html": [
       "<div>\n",
       "<style scoped>\n",
       "    .dataframe tbody tr th:only-of-type {\n",
       "        vertical-align: middle;\n",
       "    }\n",
       "\n",
       "    .dataframe tbody tr th {\n",
       "        vertical-align: top;\n",
       "    }\n",
       "\n",
       "    .dataframe thead th {\n",
       "        text-align: right;\n",
       "    }\n",
       "</style>\n",
       "<table border=\"1\" class=\"dataframe\">\n",
       "  <thead>\n",
       "    <tr style=\"text-align: right;\">\n",
       "      <th></th>\n",
       "      <th>transactionId</th>\n",
       "      <th>visitorId</th>\n",
       "      <th>date</th>\n",
       "      <th>revenue</th>\n",
       "      <th>group</th>\n",
       "    </tr>\n",
       "  </thead>\n",
       "  <tbody>\n",
       "    <tr>\n",
       "      <th>0</th>\n",
       "      <td>3667963787</td>\n",
       "      <td>3312258926</td>\n",
       "      <td>2019-08-15</td>\n",
       "      <td>1650</td>\n",
       "      <td>B</td>\n",
       "    </tr>\n",
       "    <tr>\n",
       "      <th>1</th>\n",
       "      <td>2804400009</td>\n",
       "      <td>3642806036</td>\n",
       "      <td>2019-08-15</td>\n",
       "      <td>730</td>\n",
       "      <td>B</td>\n",
       "    </tr>\n",
       "    <tr>\n",
       "      <th>2</th>\n",
       "      <td>2961555356</td>\n",
       "      <td>4069496402</td>\n",
       "      <td>2019-08-15</td>\n",
       "      <td>400</td>\n",
       "      <td>A</td>\n",
       "    </tr>\n",
       "    <tr>\n",
       "      <th>3</th>\n",
       "      <td>3797467345</td>\n",
       "      <td>1196621759</td>\n",
       "      <td>2019-08-15</td>\n",
       "      <td>9759</td>\n",
       "      <td>B</td>\n",
       "    </tr>\n",
       "    <tr>\n",
       "      <th>4</th>\n",
       "      <td>2282983706</td>\n",
       "      <td>2322279887</td>\n",
       "      <td>2019-08-15</td>\n",
       "      <td>2308</td>\n",
       "      <td>B</td>\n",
       "    </tr>\n",
       "  </tbody>\n",
       "</table>\n",
       "</div>"
      ],
      "text/plain": [
       "   transactionId   visitorId        date  revenue group\n",
       "0     3667963787  3312258926  2019-08-15     1650     B\n",
       "1     2804400009  3642806036  2019-08-15      730     B\n",
       "2     2961555356  4069496402  2019-08-15      400     A\n",
       "3     3797467345  1196621759  2019-08-15     9759     B\n",
       "4     2282983706  2322279887  2019-08-15     2308     B"
      ]
     },
     "metadata": {},
     "output_type": "display_data"
    },
    {
     "name": "stdout",
     "output_type": "stream",
     "text": [
      "\n",
      "ДУБЛИКАТОВ: 0\n",
      ". . . . . . . . . . \n",
      "\n",
      "ПРОПУСКИ\n",
      ". . . . . . . . . . \n",
      "transactionId    0\n",
      "visitorId        0\n",
      "date             0\n",
      "revenue          0\n",
      "group            0\n",
      "dtype: int64\n",
      "--------------------------------------------------------------------------------\n",
      "\n",
      "DATAFRAME: \tVISITORS\n",
      "-------------------------\n",
      "<class 'pandas.core.frame.DataFrame'>\n",
      "RangeIndex: 62 entries, 0 to 61\n",
      "Data columns (total 3 columns):\n",
      " #   Column    Non-Null Count  Dtype \n",
      "---  ------    --------------  ----- \n",
      " 0   date      62 non-null     object\n",
      " 1   group     62 non-null     object\n",
      " 2   visitors  62 non-null     int64 \n",
      "dtypes: int64(1), object(2)\n",
      "memory usage: 1.6+ KB\n",
      "None\n"
     ]
    },
    {
     "data": {
      "text/html": [
       "<div>\n",
       "<style scoped>\n",
       "    .dataframe tbody tr th:only-of-type {\n",
       "        vertical-align: middle;\n",
       "    }\n",
       "\n",
       "    .dataframe tbody tr th {\n",
       "        vertical-align: top;\n",
       "    }\n",
       "\n",
       "    .dataframe thead th {\n",
       "        text-align: right;\n",
       "    }\n",
       "</style>\n",
       "<table border=\"1\" class=\"dataframe\">\n",
       "  <thead>\n",
       "    <tr style=\"text-align: right;\">\n",
       "      <th></th>\n",
       "      <th>date</th>\n",
       "      <th>group</th>\n",
       "      <th>visitors</th>\n",
       "    </tr>\n",
       "  </thead>\n",
       "  <tbody>\n",
       "    <tr>\n",
       "      <th>0</th>\n",
       "      <td>2019-08-01</td>\n",
       "      <td>A</td>\n",
       "      <td>719</td>\n",
       "    </tr>\n",
       "    <tr>\n",
       "      <th>1</th>\n",
       "      <td>2019-08-02</td>\n",
       "      <td>A</td>\n",
       "      <td>619</td>\n",
       "    </tr>\n",
       "    <tr>\n",
       "      <th>2</th>\n",
       "      <td>2019-08-03</td>\n",
       "      <td>A</td>\n",
       "      <td>507</td>\n",
       "    </tr>\n",
       "    <tr>\n",
       "      <th>3</th>\n",
       "      <td>2019-08-04</td>\n",
       "      <td>A</td>\n",
       "      <td>717</td>\n",
       "    </tr>\n",
       "    <tr>\n",
       "      <th>4</th>\n",
       "      <td>2019-08-05</td>\n",
       "      <td>A</td>\n",
       "      <td>756</td>\n",
       "    </tr>\n",
       "  </tbody>\n",
       "</table>\n",
       "</div>"
      ],
      "text/plain": [
       "         date group  visitors\n",
       "0  2019-08-01     A       719\n",
       "1  2019-08-02     A       619\n",
       "2  2019-08-03     A       507\n",
       "3  2019-08-04     A       717\n",
       "4  2019-08-05     A       756"
      ]
     },
     "metadata": {},
     "output_type": "display_data"
    },
    {
     "name": "stdout",
     "output_type": "stream",
     "text": [
      "\n",
      "ДУБЛИКАТОВ: 0\n",
      ". . . . . . . . . . \n",
      "\n",
      "ПРОПУСКИ\n",
      ". . . . . . . . . . \n",
      "date        0\n",
      "group       0\n",
      "visitors    0\n",
      "dtype: int64\n",
      "--------------------------------------------------------------------------------\n"
     ]
    }
   ],
   "source": [
    "for df, name in zip([hypotesis, orders, visitors],\n",
    "                    ['hypotesis', 'orders', 'visitors']):\n",
    "    print(f'\\ndataframe: \\t{name}\\n{\"-\"*25}'.upper())\n",
    "    print(df.info())\n",
    "    display(df.head())\n",
    "\n",
    "    print(f'\\nдубликатов: {df.duplicated().sum()}\\n{\". \"*10}'.upper())\n",
    "\n",
    "    print(f'\\nпропуски\\n{\". \"*10}'.upper())\n",
    "    print(df.isna().sum())\n",
    "\n",
    "    print('----'*20)"
   ]
  },
  {
   "cell_type": "markdown",
   "metadata": {},
   "source": [
    "функция форматирования названий столбцов"
   ]
  },
  {
   "cell_type": "code",
   "execution_count": 159,
   "metadata": {
    "trusted": true
   },
   "outputs": [],
   "source": [
    "\n",
    "def get_format_columns(dataframe):\n",
    "    '''функция принимает датафрейм и возврашает форматированные названия столбцов: \n",
    "    (Основное)\n",
    "    1. без пробелов слева и справа\n",
    "    2. пробел внутри названия столбца заменяется на символ \"_\" \n",
    "    3. меняет регистр букв на строчный \n",
    "    '''\n",
    "\n",
    "    return list(\n",
    "        map(\n",
    "            lambda x: x\n",
    "            .strip()\n",
    "            .replace(' ', '_')\n",
    "            # дополнительное: замена окончаний названий столбцов\n",
    "            .replace('Id', '_id')\n",
    "            .lower(),\n",
    "            dataframe.columns))"
   ]
  },
  {
   "cell_type": "markdown",
   "metadata": {},
   "source": [
    "форматируем столбцы первым заходом - убираем (даже если их не было) пробелы слев и справа от названия,   \n"
   ]
  },
  {
   "cell_type": "code",
   "execution_count": 160,
   "metadata": {
    "trusted": true
   },
   "outputs": [
    {
     "name": "stdout",
     "output_type": "stream",
     "text": [
      "\n",
      "DATAFRAME: hypotesis\n",
      "----------\n",
      "Index(['hypothesis', 'reach', 'impact', 'confidence', 'efforts'], dtype='object')\n",
      "\n",
      "DATAFRAME: orders\n",
      "----------\n",
      "Index(['transaction_id', 'visitor_id', 'date', 'revenue', 'group'], dtype='object')\n",
      "\n",
      "DATAFRAME: visitors\n",
      "----------\n",
      "Index(['date', 'group', 'visitors'], dtype='object')\n"
     ]
    }
   ],
   "source": [
    "for df, name in zip([hypotesis, orders, visitors],\n",
    "                    ['hypotesis', 'orders', 'visitors']):\n",
    "\n",
    "\n",
    "    df.columns = get_format_columns(df)\n",
    "\n",
    "    print(f'\\nDATAFRAME: {name}\\n{\"-\"*10}')\n",
    "\n",
    "    print(df.columns)"
   ]
  },
  {
   "cell_type": "markdown",
   "metadata": {},
   "source": [
    "меняем тип даты в датафреймах `orders` и `visitors`"
   ]
  },
  {
   "cell_type": "code",
   "execution_count": 161,
   "metadata": {
    "trusted": true
   },
   "outputs": [
    {
     "name": "stdout",
     "output_type": "stream",
     "text": [
      "\n",
      "DATAFRAME: orders\n",
      "----------\n",
      "transaction_id             int64\n",
      "visitor_id                 int64\n",
      "date              datetime64[ns]\n",
      "revenue                    int64\n",
      "group                     object\n",
      "dtype: object\n",
      "\n",
      "DATAFRAME: visitors\n",
      "----------\n",
      "date        datetime64[ns]\n",
      "group               object\n",
      "visitors             int64\n",
      "dtype: object\n"
     ]
    }
   ],
   "source": [
    "for df, name in zip([orders, visitors],\n",
    "                    ['orders', 'visitors']):\n",
    "    \n",
    "    df['date'] = pd.to_datetime(df.date, format=\"%Y-%m-%d\")\n",
    "\n",
    "    print(f'\\nDATAFRAME: {name}\\n{\"-\"*10}')\n",
    "    print(df.dtypes)"
   ]
  },
  {
   "cell_type": "markdown",
   "metadata": {},
   "source": [
    "данные готовы к работе"
   ]
  },
  {
   "cell_type": "markdown",
   "metadata": {},
   "source": [
    "## Часть первая. Приоретизация гипотез"
   ]
  },
  {
   "cell_type": "markdown",
   "metadata": {},
   "source": [
    "Необходимые функции для расчета оценок `ICE` и `RICE`"
   ]
  },
  {
   "cell_type": "code",
   "execution_count": 162,
   "metadata": {
    "trusted": true
   },
   "outputs": [],
   "source": [
    "def get_ice(impact, confidence, efforts):\n",
    "    '''расчитывает оценку `ICE`   \n",
    "    1. `impact` - влияние   \n",
    "    2. `confidence` - уверенность в успехе\n",
    "    3. `efforts` - обьем затраченных усилий'''\n",
    "\n",
    "    ice = impact * confidence / efforts\n",
    "    return round(ice, 2)"
   ]
  },
  {
   "cell_type": "code",
   "execution_count": 163,
   "metadata": {
    "trusted": true
   },
   "outputs": [],
   "source": [
    "def get_rice(reach, ice):\n",
    "    '''расчитывает оценку `RICE`\n",
    "    1. `reach` - охват аудитории   '''\n",
    "\n",
    "    rice = reach * ice\n",
    "    return round(rice, 4)"
   ]
  },
  {
   "cell_type": "markdown",
   "metadata": {},
   "source": [
    "рассчитываем `ICE` `RICE`"
   ]
  },
  {
   "cell_type": "code",
   "execution_count": 164,
   "metadata": {
    "trusted": true
   },
   "outputs": [],
   "source": [
    "hypotesis['ice'] = (hypotesis\n",
    "                    .apply(\n",
    "                        lambda x:\n",
    "                            get_ice(x.impact,\n",
    "                                    x.confidence,\n",
    "                                    x.efforts),\n",
    "                            axis=1))\n",
    "\n",
    "\n",
    "hypotesis['rice'] = (hypotesis\n",
    "                     .apply(\n",
    "                         lambda x:\n",
    "                             get_rice(x.reach,\n",
    "                                      x.ice),\n",
    "                             axis=1))"
   ]
  },
  {
   "cell_type": "code",
   "execution_count": 165,
   "metadata": {
    "trusted": true
   },
   "outputs": [
    {
     "data": {
      "text/html": [
       "<div>\n",
       "<style scoped>\n",
       "    .dataframe tbody tr th:only-of-type {\n",
       "        vertical-align: middle;\n",
       "    }\n",
       "\n",
       "    .dataframe tbody tr th {\n",
       "        vertical-align: top;\n",
       "    }\n",
       "\n",
       "    .dataframe thead th {\n",
       "        text-align: right;\n",
       "    }\n",
       "</style>\n",
       "<table border=\"1\" class=\"dataframe\">\n",
       "  <thead>\n",
       "    <tr style=\"text-align: right;\">\n",
       "      <th></th>\n",
       "      <th>hypothesis</th>\n",
       "      <th>ice</th>\n",
       "    </tr>\n",
       "  </thead>\n",
       "  <tbody>\n",
       "    <tr>\n",
       "      <th>8</th>\n",
       "      <td>Запустить акцию, дающую скидку на товар в день рождения</td>\n",
       "      <td>16.20</td>\n",
       "    </tr>\n",
       "    <tr>\n",
       "      <th>0</th>\n",
       "      <td>Добавить два новых канала привлечения трафика, что позволит привлекать на 30% больше пользователей</td>\n",
       "      <td>13.33</td>\n",
       "    </tr>\n",
       "    <tr>\n",
       "      <th>7</th>\n",
       "      <td>Добавить форму подписки на все основные страницы, чтобы собрать базу клиентов для email-рассылок</td>\n",
       "      <td>11.20</td>\n",
       "    </tr>\n",
       "    <tr>\n",
       "      <th>6</th>\n",
       "      <td>Показать на главной странице баннеры с актуальными акциями и распродажами, чтобы увеличить конверсию</td>\n",
       "      <td>8.00</td>\n",
       "    </tr>\n",
       "    <tr>\n",
       "      <th>2</th>\n",
       "      <td>Добавить блоки рекомендаций товаров на сайт интернет магазина, чтобы повысить конверсию и средний чек заказа</td>\n",
       "      <td>7.00</td>\n",
       "    </tr>\n",
       "    <tr>\n",
       "      <th>1</th>\n",
       "      <td>Запустить собственную службу доставки, что сократит срок доставки заказов</td>\n",
       "      <td>2.00</td>\n",
       "    </tr>\n",
       "    <tr>\n",
       "      <th>5</th>\n",
       "      <td>Добавить страницу отзывов клиентов о магазине, что позволит увеличить количество заказов</td>\n",
       "      <td>1.33</td>\n",
       "    </tr>\n",
       "    <tr>\n",
       "      <th>3</th>\n",
       "      <td>Изменить структура категорий, что увеличит конверсию, т.к. пользователи быстрее найдут нужный товар</td>\n",
       "      <td>1.12</td>\n",
       "    </tr>\n",
       "    <tr>\n",
       "      <th>4</th>\n",
       "      <td>Изменить цвет фона главной страницы, чтобы увеличить вовлеченность пользователей</td>\n",
       "      <td>1.00</td>\n",
       "    </tr>\n",
       "  </tbody>\n",
       "</table>\n",
       "</div>"
      ],
      "text/plain": [
       "                                                                                                     hypothesis  \\\n",
       "8                                                       Запустить акцию, дающую скидку на товар в день рождения   \n",
       "0            Добавить два новых канала привлечения трафика, что позволит привлекать на 30% больше пользователей   \n",
       "7              Добавить форму подписки на все основные страницы, чтобы собрать базу клиентов для email-рассылок   \n",
       "6          Показать на главной странице баннеры с актуальными акциями и распродажами, чтобы увеличить конверсию   \n",
       "2  Добавить блоки рекомендаций товаров на сайт интернет магазина, чтобы повысить конверсию и средний чек заказа   \n",
       "1                                     Запустить собственную службу доставки, что сократит срок доставки заказов   \n",
       "5                      Добавить страницу отзывов клиентов о магазине, что позволит увеличить количество заказов   \n",
       "3           Изменить структура категорий, что увеличит конверсию, т.к. пользователи быстрее найдут нужный товар   \n",
       "4                              Изменить цвет фона главной страницы, чтобы увеличить вовлеченность пользователей   \n",
       "\n",
       "     ice  \n",
       "8  16.20  \n",
       "0  13.33  \n",
       "7  11.20  \n",
       "6   8.00  \n",
       "2   7.00  \n",
       "1   2.00  \n",
       "5   1.33  \n",
       "3   1.12  \n",
       "4   1.00  "
      ]
     },
     "execution_count": 165,
     "metadata": {},
     "output_type": "execute_result"
    }
   ],
   "source": [
    "hypotesis[\n",
    "    ['hypothesis', 'ice']\n",
    "].sort_values('ice',\n",
    "              ascending=False)"
   ]
  },
  {
   "cell_type": "code",
   "execution_count": 166,
   "metadata": {
    "trusted": true
   },
   "outputs": [
    {
     "data": {
      "text/html": [
       "<div>\n",
       "<style scoped>\n",
       "    .dataframe tbody tr th:only-of-type {\n",
       "        vertical-align: middle;\n",
       "    }\n",
       "\n",
       "    .dataframe tbody tr th {\n",
       "        vertical-align: top;\n",
       "    }\n",
       "\n",
       "    .dataframe thead th {\n",
       "        text-align: right;\n",
       "    }\n",
       "</style>\n",
       "<table border=\"1\" class=\"dataframe\">\n",
       "  <thead>\n",
       "    <tr style=\"text-align: right;\">\n",
       "      <th></th>\n",
       "      <th>hypothesis</th>\n",
       "      <th>reach</th>\n",
       "      <th>impact</th>\n",
       "      <th>confidence</th>\n",
       "      <th>efforts</th>\n",
       "      <th>ice</th>\n",
       "      <th>rice</th>\n",
       "    </tr>\n",
       "  </thead>\n",
       "  <tbody>\n",
       "    <tr>\n",
       "      <th>7</th>\n",
       "      <td>Добавить форму подписки на все основные страницы, чтобы собрать базу клиентов для email-рассылок</td>\n",
       "      <td>10</td>\n",
       "      <td>7</td>\n",
       "      <td>8</td>\n",
       "      <td>5</td>\n",
       "      <td>11.20</td>\n",
       "      <td>112.00</td>\n",
       "    </tr>\n",
       "    <tr>\n",
       "      <th>2</th>\n",
       "      <td>Добавить блоки рекомендаций товаров на сайт интернет магазина, чтобы повысить конверсию и средний чек заказа</td>\n",
       "      <td>8</td>\n",
       "      <td>3</td>\n",
       "      <td>7</td>\n",
       "      <td>3</td>\n",
       "      <td>7.00</td>\n",
       "      <td>56.00</td>\n",
       "    </tr>\n",
       "    <tr>\n",
       "      <th>6</th>\n",
       "      <td>Показать на главной странице баннеры с актуальными акциями и распродажами, чтобы увеличить конверсию</td>\n",
       "      <td>5</td>\n",
       "      <td>3</td>\n",
       "      <td>8</td>\n",
       "      <td>3</td>\n",
       "      <td>8.00</td>\n",
       "      <td>40.00</td>\n",
       "    </tr>\n",
       "    <tr>\n",
       "      <th>0</th>\n",
       "      <td>Добавить два новых канала привлечения трафика, что позволит привлекать на 30% больше пользователей</td>\n",
       "      <td>3</td>\n",
       "      <td>10</td>\n",
       "      <td>8</td>\n",
       "      <td>6</td>\n",
       "      <td>13.33</td>\n",
       "      <td>39.99</td>\n",
       "    </tr>\n",
       "    <tr>\n",
       "      <th>8</th>\n",
       "      <td>Запустить акцию, дающую скидку на товар в день рождения</td>\n",
       "      <td>1</td>\n",
       "      <td>9</td>\n",
       "      <td>9</td>\n",
       "      <td>5</td>\n",
       "      <td>16.20</td>\n",
       "      <td>16.20</td>\n",
       "    </tr>\n",
       "    <tr>\n",
       "      <th>3</th>\n",
       "      <td>Изменить структура категорий, что увеличит конверсию, т.к. пользователи быстрее найдут нужный товар</td>\n",
       "      <td>8</td>\n",
       "      <td>3</td>\n",
       "      <td>3</td>\n",
       "      <td>8</td>\n",
       "      <td>1.12</td>\n",
       "      <td>8.96</td>\n",
       "    </tr>\n",
       "    <tr>\n",
       "      <th>1</th>\n",
       "      <td>Запустить собственную службу доставки, что сократит срок доставки заказов</td>\n",
       "      <td>2</td>\n",
       "      <td>5</td>\n",
       "      <td>4</td>\n",
       "      <td>10</td>\n",
       "      <td>2.00</td>\n",
       "      <td>4.00</td>\n",
       "    </tr>\n",
       "    <tr>\n",
       "      <th>5</th>\n",
       "      <td>Добавить страницу отзывов клиентов о магазине, что позволит увеличить количество заказов</td>\n",
       "      <td>3</td>\n",
       "      <td>2</td>\n",
       "      <td>2</td>\n",
       "      <td>3</td>\n",
       "      <td>1.33</td>\n",
       "      <td>3.99</td>\n",
       "    </tr>\n",
       "    <tr>\n",
       "      <th>4</th>\n",
       "      <td>Изменить цвет фона главной страницы, чтобы увеличить вовлеченность пользователей</td>\n",
       "      <td>3</td>\n",
       "      <td>1</td>\n",
       "      <td>1</td>\n",
       "      <td>1</td>\n",
       "      <td>1.00</td>\n",
       "      <td>3.00</td>\n",
       "    </tr>\n",
       "  </tbody>\n",
       "</table>\n",
       "</div>"
      ],
      "text/plain": [
       "                                                                                                     hypothesis  \\\n",
       "7              Добавить форму подписки на все основные страницы, чтобы собрать базу клиентов для email-рассылок   \n",
       "2  Добавить блоки рекомендаций товаров на сайт интернет магазина, чтобы повысить конверсию и средний чек заказа   \n",
       "6          Показать на главной странице баннеры с актуальными акциями и распродажами, чтобы увеличить конверсию   \n",
       "0            Добавить два новых канала привлечения трафика, что позволит привлекать на 30% больше пользователей   \n",
       "8                                                       Запустить акцию, дающую скидку на товар в день рождения   \n",
       "3           Изменить структура категорий, что увеличит конверсию, т.к. пользователи быстрее найдут нужный товар   \n",
       "1                                     Запустить собственную службу доставки, что сократит срок доставки заказов   \n",
       "5                      Добавить страницу отзывов клиентов о магазине, что позволит увеличить количество заказов   \n",
       "4                              Изменить цвет фона главной страницы, чтобы увеличить вовлеченность пользователей   \n",
       "\n",
       "   reach  impact  confidence  efforts    ice    rice  \n",
       "7     10       7           8        5  11.20  112.00  \n",
       "2      8       3           7        3   7.00   56.00  \n",
       "6      5       3           8        3   8.00   40.00  \n",
       "0      3      10           8        6  13.33   39.99  \n",
       "8      1       9           9        5  16.20   16.20  \n",
       "3      8       3           3        8   1.12    8.96  \n",
       "1      2       5           4       10   2.00    4.00  \n",
       "5      3       2           2        3   1.33    3.99  \n",
       "4      3       1           1        1   1.00    3.00  "
      ]
     },
     "execution_count": 166,
     "metadata": {},
     "output_type": "execute_result"
    }
   ],
   "source": [
    "hypotesis.sort_values('rice', ascending=False)"
   ]
  },
  {
   "cell_type": "markdown",
   "metadata": {},
   "source": [
    "Самой высокой оценокй RICE обладает гипотеза:    \n",
    "*Добавить форму подписки на все основные страницы, чтобы собрать базу клиентов для email-рассылок*"
   ]
  },
  {
   "cell_type": "markdown",
   "metadata": {},
   "source": [
    "Оценка RICE является более точной в стравнении с ICE , т.к. затрагивает конкретную часть аудитории для выдвинутой гипотезы.   "
   ]
  },
  {
   "cell_type": "markdown",
   "metadata": {},
   "source": [
    "## Часть вторая. Анализ А/В-теста"
   ]
  },
  {
   "cell_type": "markdown",
   "metadata": {},
   "source": [
    "Узнаем сколько проводился тест"
   ]
  },
  {
   "cell_type": "code",
   "execution_count": 167,
   "metadata": {
    "trusted": true
   },
   "outputs": [
    {
     "name": "stdout",
     "output_type": "stream",
     "text": [
      "начало теста: 2019-08-01 00:00:00\n",
      "конец теста: 2019-08-31 00:00:00\n"
     ]
    }
   ],
   "source": [
    "print(f\"начало теста: {orders['date'].min()}\")\n",
    "print(f\"конец теста: {orders['date'].max()}\")"
   ]
  },
  {
   "cell_type": "markdown",
   "metadata": {},
   "source": [
    "тест проводился весь август"
   ]
  },
  {
   "cell_type": "markdown",
   "metadata": {},
   "source": [
    "проверим есть ли пользователи в обеих группах теста"
   ]
  },
  {
   "cell_type": "code",
   "execution_count": 168,
   "metadata": {
    "scrolled": true,
    "trusted": true
   },
   "outputs": [
    {
     "name": "stdout",
     "output_type": "stream",
     "text": [
      "количество пользователей сразу в 2х группах теста: 58\n"
     ]
    }
   ],
   "source": [
    "set_visitors_group_a = set(orders.query('group==\"A\"')['visitor_id'])\n",
    "set_visitors_group_b = set(orders.query('group==\"B\"')['visitor_id'])\n",
    "\n",
    "count_visitors_two_group = len(set_visitors_group_a & set_visitors_group_b)\n",
    "\n",
    "print('количество пользователей сразу в 2х группах теста:',\n",
    "      count_visitors_two_group)"
   ]
  },
  {
   "cell_type": "markdown",
   "metadata": {},
   "source": [
    "посчитаем вероятность"
   ]
  },
  {
   "cell_type": "code",
   "execution_count": 169,
   "metadata": {
    "trusted": true
   },
   "outputs": [
    {
     "name": "stdout",
     "output_type": "stream",
     "text": [
      "вероятность попадания одного человека в обе группы:\n",
      "4.85 %\n"
     ]
    }
   ],
   "source": [
    "print(\n",
    "    f\"\"\"вероятность попадания одного человека в обе группы:\n",
    "{\n",
    "        (count_visitors_two_group / orders['visitor_id']\n",
    "    .count()*100)\n",
    "    .round(2)\n",
    "    } %\"\"\")"
   ]
  },
  {
   "cell_type": "markdown",
   "metadata": {},
   "source": [
    "Отметим тот факт что    \n",
    " - группы теста различаются размерами    \n",
    "  - в обе группы входит 58 человек.   \n",
    "  \n",
    "   Удалить их не выйдет так как они находятся в агрегированной таблице с пользователями (`visitors`), а их отсутвие так же исказит результаты"
   ]
  },
  {
   "cell_type": "markdown",
   "metadata": {},
   "source": [
    "Посчитаем размер групп"
   ]
  },
  {
   "cell_type": "code",
   "execution_count": 170,
   "metadata": {
    "trusted": true
   },
   "outputs": [],
   "source": [
    "group_a = visitors.query('group==\"A\"')['visitors'].count()\n",
    "group_b = visitors.query('group==\"B\"')['visitors'].count()\n"
   ]
  },
  {
   "cell_type": "code",
   "execution_count": 171,
   "metadata": {
    "trusted": true
   },
   "outputs": [
    {
     "name": "stdout",
     "output_type": "stream",
     "text": [
      "разница между группами: 0.0 %\n"
     ]
    }
   ],
   "source": [
    "q = (1 - group_a / group_b) * 100\n",
    "\n",
    "print(f'разница между группами: {round(q, 2)} %')"
   ]
  },
  {
   "cell_type": "markdown",
   "metadata": {},
   "source": [
    "### Кумулятивная выручка по группам"
   ]
  },
  {
   "cell_type": "markdown",
   "metadata": {},
   "source": [
    "Узнаем кумулятивную выручку по группам теста на протяжении всего теста"
   ]
  },
  {
   "cell_type": "markdown",
   "metadata": {},
   "source": [
    "Перед этим подготовим данные"
   ]
  },
  {
   "cell_type": "markdown",
   "metadata": {},
   "source": [
    "создадим таблицу с уникальными парами 'дата-группа теста'"
   ]
  },
  {
   "cell_type": "code",
   "execution_count": 172,
   "metadata": {
    "trusted": true
   },
   "outputs": [],
   "source": [
    "dates_groups = orders[['date', 'group']].drop_duplicates()"
   ]
  },
  {
   "cell_type": "markdown",
   "metadata": {},
   "source": [
    "агрегируем таблицу с заказами и отсортируем по дате и группе теста по возрастанию"
   ]
  },
  {
   "cell_type": "code",
   "execution_count": 173,
   "metadata": {
    "trusted": true
   },
   "outputs": [],
   "source": [
    "orders_aggregated = (dates_groups\n",
    "                     .apply(\n",
    "                         lambda x:\n",
    "                         orders[\n",
    "                             np.logical_and(\n",
    "                                 orders['date'] <= x['date'],\n",
    "\n",
    "                                 orders['group'] == x['group']\n",
    "                             )\n",
    "                         ]\n",
    "\n",
    "                         .agg(\n",
    "                             {'date': 'max',\n",
    "\n",
    "                              'group': 'max',\n",
    "\n",
    "                              'transaction_id': 'nunique',\n",
    "\n",
    "                              'visitor_id': 'nunique',\n",
    "\n",
    "                              'revenue': 'sum'}\n",
    "                         ),\n",
    "                         axis=1)\n",
    "                     .sort_values(\n",
    "                         ['date', 'group']\n",
    "                     )\n",
    "                     )"
   ]
  },
  {
   "cell_type": "markdown",
   "metadata": {},
   "source": [
    "совершим такую же операцию с таблитцей пользователей"
   ]
  },
  {
   "cell_type": "code",
   "execution_count": 174,
   "metadata": {
    "trusted": true
   },
   "outputs": [],
   "source": [
    "visitors_aggregated = (dates_groups\n",
    "                       .apply(\n",
    "\n",
    "                           lambda x:\n",
    "                               visitors[\n",
    "                                   np.logical_and(\n",
    "                                       visitors['date'] <= x['date'],\n",
    "                                       visitors['group'] == x['group']\n",
    "                                   )\n",
    "                               ].agg(\n",
    "                                   {\n",
    "                                       'date': 'max',\n",
    "                                       'group': 'max',\n",
    "                                       'visitors': 'sum'\n",
    "                                   }\n",
    "                                   ), axis=1)\n",
    "                       .sort_values(\n",
    "                           ['date', 'group']\n",
    "                           )\n",
    "                       )"
   ]
  },
  {
   "cell_type": "markdown",
   "metadata": {},
   "source": [
    "соберем агрегированные таблицы в одну"
   ]
  },
  {
   "cell_type": "code",
   "execution_count": 175,
   "metadata": {
    "trusted": true
   },
   "outputs": [],
   "source": [
    "cumulative_data = (orders_aggregated\n",
    "                   .merge(\n",
    "                       visitors_aggregated,\n",
    "                       left_on=['date', 'group'],\n",
    "                       right_on=['date', 'group']\n",
    "                   )\n",
    "                   )"
   ]
  },
  {
   "cell_type": "code",
   "execution_count": 176,
   "metadata": {
    "trusted": true
   },
   "outputs": [
    {
     "data": {
      "text/html": [
       "<div>\n",
       "<style scoped>\n",
       "    .dataframe tbody tr th:only-of-type {\n",
       "        vertical-align: middle;\n",
       "    }\n",
       "\n",
       "    .dataframe tbody tr th {\n",
       "        vertical-align: top;\n",
       "    }\n",
       "\n",
       "    .dataframe thead th {\n",
       "        text-align: right;\n",
       "    }\n",
       "</style>\n",
       "<table border=\"1\" class=\"dataframe\">\n",
       "  <thead>\n",
       "    <tr style=\"text-align: right;\">\n",
       "      <th></th>\n",
       "      <th>date</th>\n",
       "      <th>group</th>\n",
       "      <th>transaction_id</th>\n",
       "      <th>visitor_id</th>\n",
       "      <th>revenue</th>\n",
       "      <th>visitors</th>\n",
       "    </tr>\n",
       "  </thead>\n",
       "  <tbody>\n",
       "    <tr>\n",
       "      <th>0</th>\n",
       "      <td>2019-08-01</td>\n",
       "      <td>A</td>\n",
       "      <td>24</td>\n",
       "      <td>20</td>\n",
       "      <td>148579</td>\n",
       "      <td>719</td>\n",
       "    </tr>\n",
       "    <tr>\n",
       "      <th>1</th>\n",
       "      <td>2019-08-01</td>\n",
       "      <td>B</td>\n",
       "      <td>21</td>\n",
       "      <td>20</td>\n",
       "      <td>101217</td>\n",
       "      <td>713</td>\n",
       "    </tr>\n",
       "    <tr>\n",
       "      <th>2</th>\n",
       "      <td>2019-08-02</td>\n",
       "      <td>A</td>\n",
       "      <td>44</td>\n",
       "      <td>38</td>\n",
       "      <td>242401</td>\n",
       "      <td>1338</td>\n",
       "    </tr>\n",
       "    <tr>\n",
       "      <th>3</th>\n",
       "      <td>2019-08-02</td>\n",
       "      <td>B</td>\n",
       "      <td>45</td>\n",
       "      <td>43</td>\n",
       "      <td>266748</td>\n",
       "      <td>1294</td>\n",
       "    </tr>\n",
       "    <tr>\n",
       "      <th>4</th>\n",
       "      <td>2019-08-03</td>\n",
       "      <td>A</td>\n",
       "      <td>68</td>\n",
       "      <td>62</td>\n",
       "      <td>354874</td>\n",
       "      <td>1845</td>\n",
       "    </tr>\n",
       "  </tbody>\n",
       "</table>\n",
       "</div>"
      ],
      "text/plain": [
       "        date group  transaction_id  visitor_id  revenue  visitors\n",
       "0 2019-08-01     A              24          20   148579       719\n",
       "1 2019-08-01     B              21          20   101217       713\n",
       "2 2019-08-02     A              44          38   242401      1338\n",
       "3 2019-08-02     B              45          43   266748      1294\n",
       "4 2019-08-03     A              68          62   354874      1845"
      ]
     },
     "execution_count": 176,
     "metadata": {},
     "output_type": "execute_result"
    }
   ],
   "source": [
    "cumulative_data.head()"
   ]
  },
  {
   "cell_type": "code",
   "execution_count": 177,
   "metadata": {
    "trusted": true
   },
   "outputs": [
    {
     "data": {
      "text/plain": [
       "Index(['date', 'group', 'transaction_id', 'visitor_id', 'revenue', 'visitors'], dtype='object')"
      ]
     },
     "execution_count": 177,
     "metadata": {},
     "output_type": "execute_result"
    }
   ],
   "source": [
    "cumulative_data.columns"
   ]
  },
  {
   "cell_type": "markdown",
   "metadata": {},
   "source": [
    "переименуем столбцы для удобства"
   ]
  },
  {
   "cell_type": "code",
   "execution_count": 178,
   "metadata": {
    "trusted": true
   },
   "outputs": [],
   "source": [
    "(cumulative_data\n",
    " .rename(columns={\n",
    "     'transaction_id': 'orders',\n",
    "     'visitor_id': 'buyers'},\n",
    "     inplace=True\n",
    " )\n",
    ")"
   ]
  },
  {
   "cell_type": "markdown",
   "metadata": {},
   "source": [
    "Строим график кумулятивной выручки по группам теста"
   ]
  },
  {
   "cell_type": "code",
   "execution_count": 221,
   "metadata": {
    "scrolled": false,
    "trusted": true
   },
   "outputs": [
    {
     "data": {
      "application/vnd.plotly.v1+json": {
       "config": {
        "plotlyServerURL": "https://plot.ly"
       },
       "data": [
        {
         "hovertemplate": "группа=A<br>дата=%{x}<br>кумулятивная выручка=%{y}<extra></extra>",
         "legendgroup": "A",
         "line": {
          "color": "#636efa",
          "dash": "solid",
          "width": 4
         },
         "marker": {
          "symbol": "circle"
         },
         "mode": "lines",
         "name": "A",
         "orientation": "v",
         "showlegend": true,
         "type": "scatter",
         "x": [
          "2019-08-01T00:00:00",
          "2019-08-02T00:00:00",
          "2019-08-03T00:00:00",
          "2019-08-04T00:00:00",
          "2019-08-05T00:00:00",
          "2019-08-06T00:00:00",
          "2019-08-07T00:00:00",
          "2019-08-08T00:00:00",
          "2019-08-09T00:00:00",
          "2019-08-10T00:00:00",
          "2019-08-11T00:00:00",
          "2019-08-12T00:00:00",
          "2019-08-13T00:00:00",
          "2019-08-14T00:00:00",
          "2019-08-15T00:00:00",
          "2019-08-16T00:00:00",
          "2019-08-17T00:00:00",
          "2019-08-18T00:00:00",
          "2019-08-19T00:00:00",
          "2019-08-20T00:00:00",
          "2019-08-21T00:00:00",
          "2019-08-22T00:00:00",
          "2019-08-23T00:00:00",
          "2019-08-24T00:00:00",
          "2019-08-25T00:00:00",
          "2019-08-26T00:00:00",
          "2019-08-27T00:00:00",
          "2019-08-28T00:00:00",
          "2019-08-29T00:00:00",
          "2019-08-30T00:00:00",
          "2019-08-31T00:00:00"
         ],
         "xaxis": "x",
         "y": [
          148579,
          242401,
          354874,
          425699,
          549917,
          598401,
          740818,
          837097,
          1025603,
          1236098,
          1313683,
          1562873,
          1826511,
          1890852,
          1979057,
          2078908,
          2129769,
          2202167,
          2391910,
          2469529,
          2643838,
          2756579,
          2874367,
          3002070,
          3070704,
          3227918,
          3514698,
          3615820,
          3936510,
          4022970,
          4084803
         ],
         "yaxis": "y"
        },
        {
         "hovertemplate": "группа=B<br>дата=%{x}<br>кумулятивная выручка=%{y}<extra></extra>",
         "legendgroup": "B",
         "line": {
          "color": "#EF553B",
          "dash": "solid",
          "width": 4
         },
         "marker": {
          "symbol": "circle"
         },
         "mode": "lines",
         "name": "B",
         "orientation": "v",
         "showlegend": true,
         "type": "scatter",
         "x": [
          "2019-08-01T00:00:00",
          "2019-08-02T00:00:00",
          "2019-08-03T00:00:00",
          "2019-08-04T00:00:00",
          "2019-08-05T00:00:00",
          "2019-08-06T00:00:00",
          "2019-08-07T00:00:00",
          "2019-08-08T00:00:00",
          "2019-08-09T00:00:00",
          "2019-08-10T00:00:00",
          "2019-08-11T00:00:00",
          "2019-08-12T00:00:00",
          "2019-08-13T00:00:00",
          "2019-08-14T00:00:00",
          "2019-08-15T00:00:00",
          "2019-08-16T00:00:00",
          "2019-08-17T00:00:00",
          "2019-08-18T00:00:00",
          "2019-08-19T00:00:00",
          "2019-08-20T00:00:00",
          "2019-08-21T00:00:00",
          "2019-08-22T00:00:00",
          "2019-08-23T00:00:00",
          "2019-08-24T00:00:00",
          "2019-08-25T00:00:00",
          "2019-08-26T00:00:00",
          "2019-08-27T00:00:00",
          "2019-08-28T00:00:00",
          "2019-08-29T00:00:00",
          "2019-08-30T00:00:00",
          "2019-08-31T00:00:00"
         ],
         "xaxis": "x",
         "y": [
          101217,
          266748,
          380996,
          489567,
          581995,
          824337,
          1049671,
          1270589,
          1431401,
          1539203,
          1592513,
          1734067,
          1853738,
          2025446,
          2367945,
          2539635,
          2620790,
          2686621,
          4116541,
          4263815,
          4426892,
          4589247,
          4703216,
          4798722,
          4901584,
          5084583,
          5232260,
          5328268,
          5559398,
          5774631,
          5907760
         ],
         "yaxis": "y"
        }
       ],
       "layout": {
        "legend": {
         "title": {
          "text": "группа"
         },
         "tracegroupgap": 0
        },
        "margin": {
         "t": 60
        },
        "template": {
         "data": {
          "bar": [
           {
            "error_x": {
             "color": "#2a3f5f"
            },
            "error_y": {
             "color": "#2a3f5f"
            },
            "marker": {
             "line": {
              "color": "#E5ECF6",
              "width": 0.5
             },
             "pattern": {
              "fillmode": "overlay",
              "size": 10,
              "solidity": 0.2
             }
            },
            "type": "bar"
           }
          ],
          "barpolar": [
           {
            "marker": {
             "line": {
              "color": "#E5ECF6",
              "width": 0.5
             },
             "pattern": {
              "fillmode": "overlay",
              "size": 10,
              "solidity": 0.2
             }
            },
            "type": "barpolar"
           }
          ],
          "carpet": [
           {
            "aaxis": {
             "endlinecolor": "#2a3f5f",
             "gridcolor": "white",
             "linecolor": "white",
             "minorgridcolor": "white",
             "startlinecolor": "#2a3f5f"
            },
            "baxis": {
             "endlinecolor": "#2a3f5f",
             "gridcolor": "white",
             "linecolor": "white",
             "minorgridcolor": "white",
             "startlinecolor": "#2a3f5f"
            },
            "type": "carpet"
           }
          ],
          "choropleth": [
           {
            "colorbar": {
             "outlinewidth": 0,
             "ticks": ""
            },
            "type": "choropleth"
           }
          ],
          "contour": [
           {
            "colorbar": {
             "outlinewidth": 0,
             "ticks": ""
            },
            "colorscale": [
             [
              0,
              "#0d0887"
             ],
             [
              0.1111111111111111,
              "#46039f"
             ],
             [
              0.2222222222222222,
              "#7201a8"
             ],
             [
              0.3333333333333333,
              "#9c179e"
             ],
             [
              0.4444444444444444,
              "#bd3786"
             ],
             [
              0.5555555555555556,
              "#d8576b"
             ],
             [
              0.6666666666666666,
              "#ed7953"
             ],
             [
              0.7777777777777778,
              "#fb9f3a"
             ],
             [
              0.8888888888888888,
              "#fdca26"
             ],
             [
              1,
              "#f0f921"
             ]
            ],
            "type": "contour"
           }
          ],
          "contourcarpet": [
           {
            "colorbar": {
             "outlinewidth": 0,
             "ticks": ""
            },
            "type": "contourcarpet"
           }
          ],
          "heatmap": [
           {
            "colorbar": {
             "outlinewidth": 0,
             "ticks": ""
            },
            "colorscale": [
             [
              0,
              "#0d0887"
             ],
             [
              0.1111111111111111,
              "#46039f"
             ],
             [
              0.2222222222222222,
              "#7201a8"
             ],
             [
              0.3333333333333333,
              "#9c179e"
             ],
             [
              0.4444444444444444,
              "#bd3786"
             ],
             [
              0.5555555555555556,
              "#d8576b"
             ],
             [
              0.6666666666666666,
              "#ed7953"
             ],
             [
              0.7777777777777778,
              "#fb9f3a"
             ],
             [
              0.8888888888888888,
              "#fdca26"
             ],
             [
              1,
              "#f0f921"
             ]
            ],
            "type": "heatmap"
           }
          ],
          "heatmapgl": [
           {
            "colorbar": {
             "outlinewidth": 0,
             "ticks": ""
            },
            "colorscale": [
             [
              0,
              "#0d0887"
             ],
             [
              0.1111111111111111,
              "#46039f"
             ],
             [
              0.2222222222222222,
              "#7201a8"
             ],
             [
              0.3333333333333333,
              "#9c179e"
             ],
             [
              0.4444444444444444,
              "#bd3786"
             ],
             [
              0.5555555555555556,
              "#d8576b"
             ],
             [
              0.6666666666666666,
              "#ed7953"
             ],
             [
              0.7777777777777778,
              "#fb9f3a"
             ],
             [
              0.8888888888888888,
              "#fdca26"
             ],
             [
              1,
              "#f0f921"
             ]
            ],
            "type": "heatmapgl"
           }
          ],
          "histogram": [
           {
            "marker": {
             "pattern": {
              "fillmode": "overlay",
              "size": 10,
              "solidity": 0.2
             }
            },
            "type": "histogram"
           }
          ],
          "histogram2d": [
           {
            "colorbar": {
             "outlinewidth": 0,
             "ticks": ""
            },
            "colorscale": [
             [
              0,
              "#0d0887"
             ],
             [
              0.1111111111111111,
              "#46039f"
             ],
             [
              0.2222222222222222,
              "#7201a8"
             ],
             [
              0.3333333333333333,
              "#9c179e"
             ],
             [
              0.4444444444444444,
              "#bd3786"
             ],
             [
              0.5555555555555556,
              "#d8576b"
             ],
             [
              0.6666666666666666,
              "#ed7953"
             ],
             [
              0.7777777777777778,
              "#fb9f3a"
             ],
             [
              0.8888888888888888,
              "#fdca26"
             ],
             [
              1,
              "#f0f921"
             ]
            ],
            "type": "histogram2d"
           }
          ],
          "histogram2dcontour": [
           {
            "colorbar": {
             "outlinewidth": 0,
             "ticks": ""
            },
            "colorscale": [
             [
              0,
              "#0d0887"
             ],
             [
              0.1111111111111111,
              "#46039f"
             ],
             [
              0.2222222222222222,
              "#7201a8"
             ],
             [
              0.3333333333333333,
              "#9c179e"
             ],
             [
              0.4444444444444444,
              "#bd3786"
             ],
             [
              0.5555555555555556,
              "#d8576b"
             ],
             [
              0.6666666666666666,
              "#ed7953"
             ],
             [
              0.7777777777777778,
              "#fb9f3a"
             ],
             [
              0.8888888888888888,
              "#fdca26"
             ],
             [
              1,
              "#f0f921"
             ]
            ],
            "type": "histogram2dcontour"
           }
          ],
          "mesh3d": [
           {
            "colorbar": {
             "outlinewidth": 0,
             "ticks": ""
            },
            "type": "mesh3d"
           }
          ],
          "parcoords": [
           {
            "line": {
             "colorbar": {
              "outlinewidth": 0,
              "ticks": ""
             }
            },
            "type": "parcoords"
           }
          ],
          "pie": [
           {
            "automargin": true,
            "type": "pie"
           }
          ],
          "scatter": [
           {
            "marker": {
             "colorbar": {
              "outlinewidth": 0,
              "ticks": ""
             }
            },
            "type": "scatter"
           }
          ],
          "scatter3d": [
           {
            "line": {
             "colorbar": {
              "outlinewidth": 0,
              "ticks": ""
             }
            },
            "marker": {
             "colorbar": {
              "outlinewidth": 0,
              "ticks": ""
             }
            },
            "type": "scatter3d"
           }
          ],
          "scattercarpet": [
           {
            "marker": {
             "colorbar": {
              "outlinewidth": 0,
              "ticks": ""
             }
            },
            "type": "scattercarpet"
           }
          ],
          "scattergeo": [
           {
            "marker": {
             "colorbar": {
              "outlinewidth": 0,
              "ticks": ""
             }
            },
            "type": "scattergeo"
           }
          ],
          "scattergl": [
           {
            "marker": {
             "colorbar": {
              "outlinewidth": 0,
              "ticks": ""
             }
            },
            "type": "scattergl"
           }
          ],
          "scattermapbox": [
           {
            "marker": {
             "colorbar": {
              "outlinewidth": 0,
              "ticks": ""
             }
            },
            "type": "scattermapbox"
           }
          ],
          "scatterpolar": [
           {
            "marker": {
             "colorbar": {
              "outlinewidth": 0,
              "ticks": ""
             }
            },
            "type": "scatterpolar"
           }
          ],
          "scatterpolargl": [
           {
            "marker": {
             "colorbar": {
              "outlinewidth": 0,
              "ticks": ""
             }
            },
            "type": "scatterpolargl"
           }
          ],
          "scatterternary": [
           {
            "marker": {
             "colorbar": {
              "outlinewidth": 0,
              "ticks": ""
             }
            },
            "type": "scatterternary"
           }
          ],
          "surface": [
           {
            "colorbar": {
             "outlinewidth": 0,
             "ticks": ""
            },
            "colorscale": [
             [
              0,
              "#0d0887"
             ],
             [
              0.1111111111111111,
              "#46039f"
             ],
             [
              0.2222222222222222,
              "#7201a8"
             ],
             [
              0.3333333333333333,
              "#9c179e"
             ],
             [
              0.4444444444444444,
              "#bd3786"
             ],
             [
              0.5555555555555556,
              "#d8576b"
             ],
             [
              0.6666666666666666,
              "#ed7953"
             ],
             [
              0.7777777777777778,
              "#fb9f3a"
             ],
             [
              0.8888888888888888,
              "#fdca26"
             ],
             [
              1,
              "#f0f921"
             ]
            ],
            "type": "surface"
           }
          ],
          "table": [
           {
            "cells": {
             "fill": {
              "color": "#EBF0F8"
             },
             "line": {
              "color": "white"
             }
            },
            "header": {
             "fill": {
              "color": "#C8D4E3"
             },
             "line": {
              "color": "white"
             }
            },
            "type": "table"
           }
          ]
         },
         "layout": {
          "annotationdefaults": {
           "arrowcolor": "#2a3f5f",
           "arrowhead": 0,
           "arrowwidth": 1
          },
          "autotypenumbers": "strict",
          "coloraxis": {
           "colorbar": {
            "outlinewidth": 0,
            "ticks": ""
           }
          },
          "colorscale": {
           "diverging": [
            [
             0,
             "#8e0152"
            ],
            [
             0.1,
             "#c51b7d"
            ],
            [
             0.2,
             "#de77ae"
            ],
            [
             0.3,
             "#f1b6da"
            ],
            [
             0.4,
             "#fde0ef"
            ],
            [
             0.5,
             "#f7f7f7"
            ],
            [
             0.6,
             "#e6f5d0"
            ],
            [
             0.7,
             "#b8e186"
            ],
            [
             0.8,
             "#7fbc41"
            ],
            [
             0.9,
             "#4d9221"
            ],
            [
             1,
             "#276419"
            ]
           ],
           "sequential": [
            [
             0,
             "#0d0887"
            ],
            [
             0.1111111111111111,
             "#46039f"
            ],
            [
             0.2222222222222222,
             "#7201a8"
            ],
            [
             0.3333333333333333,
             "#9c179e"
            ],
            [
             0.4444444444444444,
             "#bd3786"
            ],
            [
             0.5555555555555556,
             "#d8576b"
            ],
            [
             0.6666666666666666,
             "#ed7953"
            ],
            [
             0.7777777777777778,
             "#fb9f3a"
            ],
            [
             0.8888888888888888,
             "#fdca26"
            ],
            [
             1,
             "#f0f921"
            ]
           ],
           "sequentialminus": [
            [
             0,
             "#0d0887"
            ],
            [
             0.1111111111111111,
             "#46039f"
            ],
            [
             0.2222222222222222,
             "#7201a8"
            ],
            [
             0.3333333333333333,
             "#9c179e"
            ],
            [
             0.4444444444444444,
             "#bd3786"
            ],
            [
             0.5555555555555556,
             "#d8576b"
            ],
            [
             0.6666666666666666,
             "#ed7953"
            ],
            [
             0.7777777777777778,
             "#fb9f3a"
            ],
            [
             0.8888888888888888,
             "#fdca26"
            ],
            [
             1,
             "#f0f921"
            ]
           ]
          },
          "colorway": [
           "#636efa",
           "#EF553B",
           "#00cc96",
           "#ab63fa",
           "#FFA15A",
           "#19d3f3",
           "#FF6692",
           "#B6E880",
           "#FF97FF",
           "#FECB52"
          ],
          "font": {
           "color": "#2a3f5f"
          },
          "geo": {
           "bgcolor": "white",
           "lakecolor": "white",
           "landcolor": "#E5ECF6",
           "showlakes": true,
           "showland": true,
           "subunitcolor": "white"
          },
          "hoverlabel": {
           "align": "left"
          },
          "hovermode": "closest",
          "mapbox": {
           "style": "light"
          },
          "paper_bgcolor": "white",
          "plot_bgcolor": "#E5ECF6",
          "polar": {
           "angularaxis": {
            "gridcolor": "white",
            "linecolor": "white",
            "ticks": ""
           },
           "bgcolor": "#E5ECF6",
           "radialaxis": {
            "gridcolor": "white",
            "linecolor": "white",
            "ticks": ""
           }
          },
          "scene": {
           "xaxis": {
            "backgroundcolor": "#E5ECF6",
            "gridcolor": "white",
            "gridwidth": 2,
            "linecolor": "white",
            "showbackground": true,
            "ticks": "",
            "zerolinecolor": "white"
           },
           "yaxis": {
            "backgroundcolor": "#E5ECF6",
            "gridcolor": "white",
            "gridwidth": 2,
            "linecolor": "white",
            "showbackground": true,
            "ticks": "",
            "zerolinecolor": "white"
           },
           "zaxis": {
            "backgroundcolor": "#E5ECF6",
            "gridcolor": "white",
            "gridwidth": 2,
            "linecolor": "white",
            "showbackground": true,
            "ticks": "",
            "zerolinecolor": "white"
           }
          },
          "shapedefaults": {
           "line": {
            "color": "#2a3f5f"
           }
          },
          "ternary": {
           "aaxis": {
            "gridcolor": "white",
            "linecolor": "white",
            "ticks": ""
           },
           "baxis": {
            "gridcolor": "white",
            "linecolor": "white",
            "ticks": ""
           },
           "bgcolor": "#E5ECF6",
           "caxis": {
            "gridcolor": "white",
            "linecolor": "white",
            "ticks": ""
           }
          },
          "title": {
           "x": 0.05
          },
          "xaxis": {
           "automargin": true,
           "gridcolor": "white",
           "linecolor": "white",
           "ticks": "",
           "title": {
            "standoff": 15
           },
           "zerolinecolor": "white",
           "zerolinewidth": 2
          },
          "yaxis": {
           "automargin": true,
           "gridcolor": "white",
           "linecolor": "white",
           "ticks": "",
           "title": {
            "standoff": 15
           },
           "zerolinecolor": "white",
           "zerolinewidth": 2
          }
         }
        },
        "title": {
         "text": "Кумулятивная выручка по группам А/В-теста"
        },
        "width": 800,
        "xaxis": {
         "anchor": "y",
         "domain": [
          0,
          1
         ],
         "title": {
          "text": "дата"
         }
        },
        "yaxis": {
         "anchor": "x",
         "domain": [
          0,
          1
         ],
         "title": {
          "text": "кумулятивная выручка"
         }
        }
       }
      }
     },
     "metadata": {},
     "output_type": "display_data"
    }
   ],
   "source": [
    "fig = px.line(cumulative_data,\n",
    "              x='date',\n",
    "              y='revenue',\n",
    "              color='group',\n",
    "              labels={\n",
    "                  'date': 'дата',\n",
    "                  'revenue': 'кумулятивная выручка',\n",
    "                  'group': 'группа'}\n",
    "              )\n",
    "\n",
    "\n",
    "fig.update_layout(width=800,\n",
    "                  title='Кумулятивная выручка по группам А/В-теста')\n",
    "fig.update_traces(line_width=4)"
   ]
  },
  {
   "cell_type": "markdown",
   "metadata": {},
   "source": [
    "Промежуточный вывод:  \n",
    "у группы В резко возрастает выручка - это либо дорогой заказ, либо много заказов\n"
   ]
  },
  {
   "cell_type": "markdown",
   "metadata": {},
   "source": [
    "### Кумулятивный средний чек по группам"
   ]
  },
  {
   "cell_type": "markdown",
   "metadata": {},
   "source": [
    "Строим график кумулятивного среднего чека по группам теста"
   ]
  },
  {
   "cell_type": "code",
   "execution_count": 180,
   "metadata": {
    "trusted": true
   },
   "outputs": [
    {
     "data": {
      "application/vnd.plotly.v1+json": {
       "config": {
        "plotlyServerURL": "https://plot.ly"
       },
       "data": [
        {
         "hovertemplate": "группа=A<br>дата=%{x}<br>кумулятивный ср. чек=%{y}<extra></extra>",
         "legendgroup": "A",
         "line": {
          "color": "#636efa",
          "dash": "solid",
          "width": 4
         },
         "marker": {
          "symbol": "circle"
         },
         "mode": "lines",
         "name": "A",
         "orientation": "v",
         "showlegend": true,
         "type": "scatter",
         "x": [
          "2019-08-01T00:00:00",
          "2019-08-02T00:00:00",
          "2019-08-03T00:00:00",
          "2019-08-04T00:00:00",
          "2019-08-05T00:00:00",
          "2019-08-06T00:00:00",
          "2019-08-07T00:00:00",
          "2019-08-08T00:00:00",
          "2019-08-09T00:00:00",
          "2019-08-10T00:00:00",
          "2019-08-11T00:00:00",
          "2019-08-12T00:00:00",
          "2019-08-13T00:00:00",
          "2019-08-14T00:00:00",
          "2019-08-15T00:00:00",
          "2019-08-16T00:00:00",
          "2019-08-17T00:00:00",
          "2019-08-18T00:00:00",
          "2019-08-19T00:00:00",
          "2019-08-20T00:00:00",
          "2019-08-21T00:00:00",
          "2019-08-22T00:00:00",
          "2019-08-23T00:00:00",
          "2019-08-24T00:00:00",
          "2019-08-25T00:00:00",
          "2019-08-26T00:00:00",
          "2019-08-27T00:00:00",
          "2019-08-28T00:00:00",
          "2019-08-29T00:00:00",
          "2019-08-30T00:00:00",
          "2019-08-31T00:00:00"
         ],
         "xaxis": "x",
         "y": [
          6190.791666666667,
          5509.113636363636,
          5218.735294117647,
          5067.8452380952385,
          5045.1100917431195,
          4711.818897637795,
          5109.089655172414,
          5199.360248447205,
          5794.367231638418,
          6404.652849740933,
          6377.101941747573,
          6795.1,
          7485.700819672131,
          7055.417910447762,
          6993.134275618375,
          6906.671096345515,
          6848.131832797428,
          6713.923780487805,
          6834.028571428571,
          6821.903314917127,
          6867.111688311688,
          6874.261845386533,
          6747.340375586855,
          6807.414965986394,
          6808.656319290466,
          6912.029978586724,
          7100.4,
          7062.1484375,
          7371.741573033708,
          7381.59633027523,
          7333.578096947936
         ],
         "yaxis": "y"
        },
        {
         "hovertemplate": "группа=B<br>дата=%{x}<br>кумулятивный ср. чек=%{y}<extra></extra>",
         "legendgroup": "B",
         "line": {
          "color": "#EF553B",
          "dash": "solid",
          "width": 4
         },
         "marker": {
          "symbol": "circle"
         },
         "mode": "lines",
         "name": "B",
         "orientation": "v",
         "showlegend": true,
         "type": "scatter",
         "x": [
          "2019-08-01T00:00:00",
          "2019-08-02T00:00:00",
          "2019-08-03T00:00:00",
          "2019-08-04T00:00:00",
          "2019-08-05T00:00:00",
          "2019-08-06T00:00:00",
          "2019-08-07T00:00:00",
          "2019-08-08T00:00:00",
          "2019-08-09T00:00:00",
          "2019-08-10T00:00:00",
          "2019-08-11T00:00:00",
          "2019-08-12T00:00:00",
          "2019-08-13T00:00:00",
          "2019-08-14T00:00:00",
          "2019-08-15T00:00:00",
          "2019-08-16T00:00:00",
          "2019-08-17T00:00:00",
          "2019-08-18T00:00:00",
          "2019-08-19T00:00:00",
          "2019-08-20T00:00:00",
          "2019-08-21T00:00:00",
          "2019-08-22T00:00:00",
          "2019-08-23T00:00:00",
          "2019-08-24T00:00:00",
          "2019-08-25T00:00:00",
          "2019-08-26T00:00:00",
          "2019-08-27T00:00:00",
          "2019-08-28T00:00:00",
          "2019-08-29T00:00:00",
          "2019-08-30T00:00:00",
          "2019-08-31T00:00:00"
         ],
         "xaxis": "x",
         "y": [
          4819.857142857143,
          5927.733333333334,
          6245.836065573771,
          6276.5,
          5762.3267326732675,
          6390.209302325581,
          6860.59477124183,
          7058.827777777778,
          6982.443902439024,
          6750.890350877193,
          6607.9377593361,
          6568.435606060606,
          6504.343859649123,
          6576.123376623376,
          6985.088495575221,
          7074.192200557103,
          7026.246648793565,
          7033.039267015707,
          10214.741935483871,
          10079.940898345154,
          10130.187643020596,
          9933.435064935065,
          9859.991614255765,
          9733.71602434077,
          9667.818540433926,
          9557.486842105263,
          9547.919708029198,
          9250.465277777777,
          9327.848993288591,
          9313.920967741935,
          9230.875
         ],
         "yaxis": "y"
        }
       ],
       "layout": {
        "legend": {
         "title": {
          "text": "группа"
         },
         "tracegroupgap": 0
        },
        "margin": {
         "t": 60
        },
        "template": {
         "data": {
          "bar": [
           {
            "error_x": {
             "color": "#2a3f5f"
            },
            "error_y": {
             "color": "#2a3f5f"
            },
            "marker": {
             "line": {
              "color": "#E5ECF6",
              "width": 0.5
             },
             "pattern": {
              "fillmode": "overlay",
              "size": 10,
              "solidity": 0.2
             }
            },
            "type": "bar"
           }
          ],
          "barpolar": [
           {
            "marker": {
             "line": {
              "color": "#E5ECF6",
              "width": 0.5
             },
             "pattern": {
              "fillmode": "overlay",
              "size": 10,
              "solidity": 0.2
             }
            },
            "type": "barpolar"
           }
          ],
          "carpet": [
           {
            "aaxis": {
             "endlinecolor": "#2a3f5f",
             "gridcolor": "white",
             "linecolor": "white",
             "minorgridcolor": "white",
             "startlinecolor": "#2a3f5f"
            },
            "baxis": {
             "endlinecolor": "#2a3f5f",
             "gridcolor": "white",
             "linecolor": "white",
             "minorgridcolor": "white",
             "startlinecolor": "#2a3f5f"
            },
            "type": "carpet"
           }
          ],
          "choropleth": [
           {
            "colorbar": {
             "outlinewidth": 0,
             "ticks": ""
            },
            "type": "choropleth"
           }
          ],
          "contour": [
           {
            "colorbar": {
             "outlinewidth": 0,
             "ticks": ""
            },
            "colorscale": [
             [
              0,
              "#0d0887"
             ],
             [
              0.1111111111111111,
              "#46039f"
             ],
             [
              0.2222222222222222,
              "#7201a8"
             ],
             [
              0.3333333333333333,
              "#9c179e"
             ],
             [
              0.4444444444444444,
              "#bd3786"
             ],
             [
              0.5555555555555556,
              "#d8576b"
             ],
             [
              0.6666666666666666,
              "#ed7953"
             ],
             [
              0.7777777777777778,
              "#fb9f3a"
             ],
             [
              0.8888888888888888,
              "#fdca26"
             ],
             [
              1,
              "#f0f921"
             ]
            ],
            "type": "contour"
           }
          ],
          "contourcarpet": [
           {
            "colorbar": {
             "outlinewidth": 0,
             "ticks": ""
            },
            "type": "contourcarpet"
           }
          ],
          "heatmap": [
           {
            "colorbar": {
             "outlinewidth": 0,
             "ticks": ""
            },
            "colorscale": [
             [
              0,
              "#0d0887"
             ],
             [
              0.1111111111111111,
              "#46039f"
             ],
             [
              0.2222222222222222,
              "#7201a8"
             ],
             [
              0.3333333333333333,
              "#9c179e"
             ],
             [
              0.4444444444444444,
              "#bd3786"
             ],
             [
              0.5555555555555556,
              "#d8576b"
             ],
             [
              0.6666666666666666,
              "#ed7953"
             ],
             [
              0.7777777777777778,
              "#fb9f3a"
             ],
             [
              0.8888888888888888,
              "#fdca26"
             ],
             [
              1,
              "#f0f921"
             ]
            ],
            "type": "heatmap"
           }
          ],
          "heatmapgl": [
           {
            "colorbar": {
             "outlinewidth": 0,
             "ticks": ""
            },
            "colorscale": [
             [
              0,
              "#0d0887"
             ],
             [
              0.1111111111111111,
              "#46039f"
             ],
             [
              0.2222222222222222,
              "#7201a8"
             ],
             [
              0.3333333333333333,
              "#9c179e"
             ],
             [
              0.4444444444444444,
              "#bd3786"
             ],
             [
              0.5555555555555556,
              "#d8576b"
             ],
             [
              0.6666666666666666,
              "#ed7953"
             ],
             [
              0.7777777777777778,
              "#fb9f3a"
             ],
             [
              0.8888888888888888,
              "#fdca26"
             ],
             [
              1,
              "#f0f921"
             ]
            ],
            "type": "heatmapgl"
           }
          ],
          "histogram": [
           {
            "marker": {
             "pattern": {
              "fillmode": "overlay",
              "size": 10,
              "solidity": 0.2
             }
            },
            "type": "histogram"
           }
          ],
          "histogram2d": [
           {
            "colorbar": {
             "outlinewidth": 0,
             "ticks": ""
            },
            "colorscale": [
             [
              0,
              "#0d0887"
             ],
             [
              0.1111111111111111,
              "#46039f"
             ],
             [
              0.2222222222222222,
              "#7201a8"
             ],
             [
              0.3333333333333333,
              "#9c179e"
             ],
             [
              0.4444444444444444,
              "#bd3786"
             ],
             [
              0.5555555555555556,
              "#d8576b"
             ],
             [
              0.6666666666666666,
              "#ed7953"
             ],
             [
              0.7777777777777778,
              "#fb9f3a"
             ],
             [
              0.8888888888888888,
              "#fdca26"
             ],
             [
              1,
              "#f0f921"
             ]
            ],
            "type": "histogram2d"
           }
          ],
          "histogram2dcontour": [
           {
            "colorbar": {
             "outlinewidth": 0,
             "ticks": ""
            },
            "colorscale": [
             [
              0,
              "#0d0887"
             ],
             [
              0.1111111111111111,
              "#46039f"
             ],
             [
              0.2222222222222222,
              "#7201a8"
             ],
             [
              0.3333333333333333,
              "#9c179e"
             ],
             [
              0.4444444444444444,
              "#bd3786"
             ],
             [
              0.5555555555555556,
              "#d8576b"
             ],
             [
              0.6666666666666666,
              "#ed7953"
             ],
             [
              0.7777777777777778,
              "#fb9f3a"
             ],
             [
              0.8888888888888888,
              "#fdca26"
             ],
             [
              1,
              "#f0f921"
             ]
            ],
            "type": "histogram2dcontour"
           }
          ],
          "mesh3d": [
           {
            "colorbar": {
             "outlinewidth": 0,
             "ticks": ""
            },
            "type": "mesh3d"
           }
          ],
          "parcoords": [
           {
            "line": {
             "colorbar": {
              "outlinewidth": 0,
              "ticks": ""
             }
            },
            "type": "parcoords"
           }
          ],
          "pie": [
           {
            "automargin": true,
            "type": "pie"
           }
          ],
          "scatter": [
           {
            "marker": {
             "colorbar": {
              "outlinewidth": 0,
              "ticks": ""
             }
            },
            "type": "scatter"
           }
          ],
          "scatter3d": [
           {
            "line": {
             "colorbar": {
              "outlinewidth": 0,
              "ticks": ""
             }
            },
            "marker": {
             "colorbar": {
              "outlinewidth": 0,
              "ticks": ""
             }
            },
            "type": "scatter3d"
           }
          ],
          "scattercarpet": [
           {
            "marker": {
             "colorbar": {
              "outlinewidth": 0,
              "ticks": ""
             }
            },
            "type": "scattercarpet"
           }
          ],
          "scattergeo": [
           {
            "marker": {
             "colorbar": {
              "outlinewidth": 0,
              "ticks": ""
             }
            },
            "type": "scattergeo"
           }
          ],
          "scattergl": [
           {
            "marker": {
             "colorbar": {
              "outlinewidth": 0,
              "ticks": ""
             }
            },
            "type": "scattergl"
           }
          ],
          "scattermapbox": [
           {
            "marker": {
             "colorbar": {
              "outlinewidth": 0,
              "ticks": ""
             }
            },
            "type": "scattermapbox"
           }
          ],
          "scatterpolar": [
           {
            "marker": {
             "colorbar": {
              "outlinewidth": 0,
              "ticks": ""
             }
            },
            "type": "scatterpolar"
           }
          ],
          "scatterpolargl": [
           {
            "marker": {
             "colorbar": {
              "outlinewidth": 0,
              "ticks": ""
             }
            },
            "type": "scatterpolargl"
           }
          ],
          "scatterternary": [
           {
            "marker": {
             "colorbar": {
              "outlinewidth": 0,
              "ticks": ""
             }
            },
            "type": "scatterternary"
           }
          ],
          "surface": [
           {
            "colorbar": {
             "outlinewidth": 0,
             "ticks": ""
            },
            "colorscale": [
             [
              0,
              "#0d0887"
             ],
             [
              0.1111111111111111,
              "#46039f"
             ],
             [
              0.2222222222222222,
              "#7201a8"
             ],
             [
              0.3333333333333333,
              "#9c179e"
             ],
             [
              0.4444444444444444,
              "#bd3786"
             ],
             [
              0.5555555555555556,
              "#d8576b"
             ],
             [
              0.6666666666666666,
              "#ed7953"
             ],
             [
              0.7777777777777778,
              "#fb9f3a"
             ],
             [
              0.8888888888888888,
              "#fdca26"
             ],
             [
              1,
              "#f0f921"
             ]
            ],
            "type": "surface"
           }
          ],
          "table": [
           {
            "cells": {
             "fill": {
              "color": "#EBF0F8"
             },
             "line": {
              "color": "white"
             }
            },
            "header": {
             "fill": {
              "color": "#C8D4E3"
             },
             "line": {
              "color": "white"
             }
            },
            "type": "table"
           }
          ]
         },
         "layout": {
          "annotationdefaults": {
           "arrowcolor": "#2a3f5f",
           "arrowhead": 0,
           "arrowwidth": 1
          },
          "autotypenumbers": "strict",
          "coloraxis": {
           "colorbar": {
            "outlinewidth": 0,
            "ticks": ""
           }
          },
          "colorscale": {
           "diverging": [
            [
             0,
             "#8e0152"
            ],
            [
             0.1,
             "#c51b7d"
            ],
            [
             0.2,
             "#de77ae"
            ],
            [
             0.3,
             "#f1b6da"
            ],
            [
             0.4,
             "#fde0ef"
            ],
            [
             0.5,
             "#f7f7f7"
            ],
            [
             0.6,
             "#e6f5d0"
            ],
            [
             0.7,
             "#b8e186"
            ],
            [
             0.8,
             "#7fbc41"
            ],
            [
             0.9,
             "#4d9221"
            ],
            [
             1,
             "#276419"
            ]
           ],
           "sequential": [
            [
             0,
             "#0d0887"
            ],
            [
             0.1111111111111111,
             "#46039f"
            ],
            [
             0.2222222222222222,
             "#7201a8"
            ],
            [
             0.3333333333333333,
             "#9c179e"
            ],
            [
             0.4444444444444444,
             "#bd3786"
            ],
            [
             0.5555555555555556,
             "#d8576b"
            ],
            [
             0.6666666666666666,
             "#ed7953"
            ],
            [
             0.7777777777777778,
             "#fb9f3a"
            ],
            [
             0.8888888888888888,
             "#fdca26"
            ],
            [
             1,
             "#f0f921"
            ]
           ],
           "sequentialminus": [
            [
             0,
             "#0d0887"
            ],
            [
             0.1111111111111111,
             "#46039f"
            ],
            [
             0.2222222222222222,
             "#7201a8"
            ],
            [
             0.3333333333333333,
             "#9c179e"
            ],
            [
             0.4444444444444444,
             "#bd3786"
            ],
            [
             0.5555555555555556,
             "#d8576b"
            ],
            [
             0.6666666666666666,
             "#ed7953"
            ],
            [
             0.7777777777777778,
             "#fb9f3a"
            ],
            [
             0.8888888888888888,
             "#fdca26"
            ],
            [
             1,
             "#f0f921"
            ]
           ]
          },
          "colorway": [
           "#636efa",
           "#EF553B",
           "#00cc96",
           "#ab63fa",
           "#FFA15A",
           "#19d3f3",
           "#FF6692",
           "#B6E880",
           "#FF97FF",
           "#FECB52"
          ],
          "font": {
           "color": "#2a3f5f"
          },
          "geo": {
           "bgcolor": "white",
           "lakecolor": "white",
           "landcolor": "#E5ECF6",
           "showlakes": true,
           "showland": true,
           "subunitcolor": "white"
          },
          "hoverlabel": {
           "align": "left"
          },
          "hovermode": "closest",
          "mapbox": {
           "style": "light"
          },
          "paper_bgcolor": "white",
          "plot_bgcolor": "#E5ECF6",
          "polar": {
           "angularaxis": {
            "gridcolor": "white",
            "linecolor": "white",
            "ticks": ""
           },
           "bgcolor": "#E5ECF6",
           "radialaxis": {
            "gridcolor": "white",
            "linecolor": "white",
            "ticks": ""
           }
          },
          "scene": {
           "xaxis": {
            "backgroundcolor": "#E5ECF6",
            "gridcolor": "white",
            "gridwidth": 2,
            "linecolor": "white",
            "showbackground": true,
            "ticks": "",
            "zerolinecolor": "white"
           },
           "yaxis": {
            "backgroundcolor": "#E5ECF6",
            "gridcolor": "white",
            "gridwidth": 2,
            "linecolor": "white",
            "showbackground": true,
            "ticks": "",
            "zerolinecolor": "white"
           },
           "zaxis": {
            "backgroundcolor": "#E5ECF6",
            "gridcolor": "white",
            "gridwidth": 2,
            "linecolor": "white",
            "showbackground": true,
            "ticks": "",
            "zerolinecolor": "white"
           }
          },
          "shapedefaults": {
           "line": {
            "color": "#2a3f5f"
           }
          },
          "ternary": {
           "aaxis": {
            "gridcolor": "white",
            "linecolor": "white",
            "ticks": ""
           },
           "baxis": {
            "gridcolor": "white",
            "linecolor": "white",
            "ticks": ""
           },
           "bgcolor": "#E5ECF6",
           "caxis": {
            "gridcolor": "white",
            "linecolor": "white",
            "ticks": ""
           }
          },
          "title": {
           "x": 0.05
          },
          "xaxis": {
           "automargin": true,
           "gridcolor": "white",
           "linecolor": "white",
           "ticks": "",
           "title": {
            "standoff": 15
           },
           "zerolinecolor": "white",
           "zerolinewidth": 2
          },
          "yaxis": {
           "automargin": true,
           "gridcolor": "white",
           "linecolor": "white",
           "ticks": "",
           "title": {
            "standoff": 15
           },
           "zerolinecolor": "white",
           "zerolinewidth": 2
          }
         }
        },
        "title": {
         "text": "Кумулятивный ср. чек по группам А/В-теста"
        },
        "width": 800,
        "xaxis": {
         "anchor": "y",
         "domain": [
          0,
          1
         ],
         "title": {
          "text": "дата"
         }
        },
        "yaxis": {
         "anchor": "x",
         "domain": [
          0,
          1
         ],
         "title": {
          "text": "кумулятивный ср. чек"
         }
        }
       }
      }
     },
     "metadata": {},
     "output_type": "display_data"
    }
   ],
   "source": [
    "fig = px.line(cumulative_data,\n",
    "              x='date',\n",
    "              y=cumulative_data['revenue']/cumulative_data['orders'],\n",
    "              color='group',\n",
    "              labels={\n",
    "                  'date': 'дата',\n",
    "                  'y': 'кумулятивный ср. чек',\n",
    "                  'group': 'группа'}\n",
    "              )\n",
    "\n",
    "fig.update_layout(width=800,\n",
    "                  title='Кумулятивный ср. чек по группам А/В-теста')\n",
    "fig.update_traces(line_width=4)"
   ]
  },
  {
   "cell_type": "markdown",
   "metadata": {},
   "source": [
    "Промежуточный вывод:  \n",
    "У группы В наблюдается скачок - значит это был ОЧЕНЬ дорогой заказ"
   ]
  },
  {
   "cell_type": "markdown",
   "metadata": {},
   "source": [
    "### Относительное изменение кумулятивного среднего чека группы В к группе А"
   ]
  },
  {
   "cell_type": "markdown",
   "metadata": {},
   "source": [
    "Узнаем относительное изменение кумулятивного среднего чека группы В к группе А "
   ]
  },
  {
   "cell_type": "markdown",
   "metadata": {},
   "source": [
    "Разделяем данные по группам теста"
   ]
  },
  {
   "cell_type": "code",
   "execution_count": 181,
   "metadata": {
    "trusted": true
   },
   "outputs": [],
   "source": [
    "cumulative_data_a = cumulative_data[cumulative_data['group'] == 'A']\n",
    "cumulative_data_b = cumulative_data[cumulative_data['group'] == 'B']"
   ]
  },
  {
   "cell_type": "markdown",
   "metadata": {},
   "source": [
    "собираем в таблицу но уже подписываем, что куда относится"
   ]
  },
  {
   "cell_type": "code",
   "execution_count": 182,
   "metadata": {
    "trusted": true
   },
   "outputs": [],
   "source": [
    "cumulative_conversion_ab = (cumulative_data_a\n",
    "                            .merge(\n",
    "                                cumulative_data_b,\n",
    "                                how='left',\n",
    "                                on='date',\n",
    "                                suffixes=['_a', '_b']\n",
    "                            )\n",
    "                            )"
   ]
  },
  {
   "cell_type": "markdown",
   "metadata": {},
   "source": [
    "находим относительное изменение"
   ]
  },
  {
   "cell_type": "code",
   "execution_count": 183,
   "metadata": {
    "trusted": true
   },
   "outputs": [],
   "source": [
    "k = (\n",
    "    (cumulative_conversion_ab['revenue_b'] /\n",
    "     cumulative_conversion_ab['orders_b'])\n",
    "    /\n",
    "    (cumulative_conversion_ab['revenue_a'] /\n",
    "     cumulative_conversion_ab['orders_a']) - 1\n",
    ")"
   ]
  },
  {
   "cell_type": "markdown",
   "metadata": {},
   "source": [
    "Строим график"
   ]
  },
  {
   "cell_type": "code",
   "execution_count": 184,
   "metadata": {
    "trusted": true
   },
   "outputs": [
    {
     "data": {
      "application/vnd.plotly.v1+json": {
       "config": {
        "plotlyServerURL": "https://plot.ly"
       },
       "data": [
        {
         "hovertemplate": "дата=%{x}<br>относительное изменение=%{y}<extra></extra>",
         "legendgroup": "",
         "line": {
          "color": "#636efa",
          "dash": "solid",
          "width": 4
         },
         "marker": {
          "symbol": "circle"
         },
         "mode": "lines",
         "name": "",
         "orientation": "v",
         "showlegend": false,
         "type": "scatter",
         "x": [
          "2019-08-01T00:00:00",
          "2019-08-02T00:00:00",
          "2019-08-03T00:00:00",
          "2019-08-04T00:00:00",
          "2019-08-05T00:00:00",
          "2019-08-06T00:00:00",
          "2019-08-07T00:00:00",
          "2019-08-08T00:00:00",
          "2019-08-09T00:00:00",
          "2019-08-10T00:00:00",
          "2019-08-11T00:00:00",
          "2019-08-12T00:00:00",
          "2019-08-13T00:00:00",
          "2019-08-14T00:00:00",
          "2019-08-15T00:00:00",
          "2019-08-16T00:00:00",
          "2019-08-17T00:00:00",
          "2019-08-18T00:00:00",
          "2019-08-19T00:00:00",
          "2019-08-20T00:00:00",
          "2019-08-21T00:00:00",
          "2019-08-22T00:00:00",
          "2019-08-23T00:00:00",
          "2019-08-24T00:00:00",
          "2019-08-25T00:00:00",
          "2019-08-26T00:00:00",
          "2019-08-27T00:00:00",
          "2019-08-28T00:00:00",
          "2019-08-29T00:00:00",
          "2019-08-30T00:00:00",
          "2019-08-31T00:00:00"
         ],
         "xaxis": "x",
         "y": [
          -0.22144736854756442,
          0.07598676023063722,
          0.19681028325269367,
          0.2384948050148108,
          0.14216075127953154,
          0.3562085982398906,
          0.34282137020167625,
          0.3576339088805982,
          0.20503993331894232,
          0.05406030728898381,
          0.03619760507157088,
          -0.033357035796293566,
          -0.13109753965106907,
          -0.0679328340160601,
          -0.0011505256049788581,
          0.024254970574786316,
          0.026009256297184757,
          0.04753040054689395,
          0.4946882104340695,
          0.47758483710899746,
          0.4751744405530631,
          0.44501843083001114,
          0.46131528356433105,
          0.4298696455226827,
          0.4199304660220262,
          0.3827322612480113,
          0.344701665825756,
          0.30986559680023396,
          0.26535214248563,
          0.26177598327090545,
          0.2587136699126005
         ],
         "yaxis": "y"
        }
       ],
       "layout": {
        "font": {
         "size": 10
        },
        "legend": {
         "tracegroupgap": 0
        },
        "margin": {
         "t": 60
        },
        "shapes": [
         {
          "line": {
           "color": "red",
           "dash": "dot"
          },
          "type": "line",
          "x0": 0,
          "x1": 1,
          "xref": "x domain",
          "y0": 0,
          "y1": 0,
          "yref": "y"
         }
        ],
        "template": {
         "data": {
          "bar": [
           {
            "error_x": {
             "color": "#2a3f5f"
            },
            "error_y": {
             "color": "#2a3f5f"
            },
            "marker": {
             "line": {
              "color": "#E5ECF6",
              "width": 0.5
             },
             "pattern": {
              "fillmode": "overlay",
              "size": 10,
              "solidity": 0.2
             }
            },
            "type": "bar"
           }
          ],
          "barpolar": [
           {
            "marker": {
             "line": {
              "color": "#E5ECF6",
              "width": 0.5
             },
             "pattern": {
              "fillmode": "overlay",
              "size": 10,
              "solidity": 0.2
             }
            },
            "type": "barpolar"
           }
          ],
          "carpet": [
           {
            "aaxis": {
             "endlinecolor": "#2a3f5f",
             "gridcolor": "white",
             "linecolor": "white",
             "minorgridcolor": "white",
             "startlinecolor": "#2a3f5f"
            },
            "baxis": {
             "endlinecolor": "#2a3f5f",
             "gridcolor": "white",
             "linecolor": "white",
             "minorgridcolor": "white",
             "startlinecolor": "#2a3f5f"
            },
            "type": "carpet"
           }
          ],
          "choropleth": [
           {
            "colorbar": {
             "outlinewidth": 0,
             "ticks": ""
            },
            "type": "choropleth"
           }
          ],
          "contour": [
           {
            "colorbar": {
             "outlinewidth": 0,
             "ticks": ""
            },
            "colorscale": [
             [
              0,
              "#0d0887"
             ],
             [
              0.1111111111111111,
              "#46039f"
             ],
             [
              0.2222222222222222,
              "#7201a8"
             ],
             [
              0.3333333333333333,
              "#9c179e"
             ],
             [
              0.4444444444444444,
              "#bd3786"
             ],
             [
              0.5555555555555556,
              "#d8576b"
             ],
             [
              0.6666666666666666,
              "#ed7953"
             ],
             [
              0.7777777777777778,
              "#fb9f3a"
             ],
             [
              0.8888888888888888,
              "#fdca26"
             ],
             [
              1,
              "#f0f921"
             ]
            ],
            "type": "contour"
           }
          ],
          "contourcarpet": [
           {
            "colorbar": {
             "outlinewidth": 0,
             "ticks": ""
            },
            "type": "contourcarpet"
           }
          ],
          "heatmap": [
           {
            "colorbar": {
             "outlinewidth": 0,
             "ticks": ""
            },
            "colorscale": [
             [
              0,
              "#0d0887"
             ],
             [
              0.1111111111111111,
              "#46039f"
             ],
             [
              0.2222222222222222,
              "#7201a8"
             ],
             [
              0.3333333333333333,
              "#9c179e"
             ],
             [
              0.4444444444444444,
              "#bd3786"
             ],
             [
              0.5555555555555556,
              "#d8576b"
             ],
             [
              0.6666666666666666,
              "#ed7953"
             ],
             [
              0.7777777777777778,
              "#fb9f3a"
             ],
             [
              0.8888888888888888,
              "#fdca26"
             ],
             [
              1,
              "#f0f921"
             ]
            ],
            "type": "heatmap"
           }
          ],
          "heatmapgl": [
           {
            "colorbar": {
             "outlinewidth": 0,
             "ticks": ""
            },
            "colorscale": [
             [
              0,
              "#0d0887"
             ],
             [
              0.1111111111111111,
              "#46039f"
             ],
             [
              0.2222222222222222,
              "#7201a8"
             ],
             [
              0.3333333333333333,
              "#9c179e"
             ],
             [
              0.4444444444444444,
              "#bd3786"
             ],
             [
              0.5555555555555556,
              "#d8576b"
             ],
             [
              0.6666666666666666,
              "#ed7953"
             ],
             [
              0.7777777777777778,
              "#fb9f3a"
             ],
             [
              0.8888888888888888,
              "#fdca26"
             ],
             [
              1,
              "#f0f921"
             ]
            ],
            "type": "heatmapgl"
           }
          ],
          "histogram": [
           {
            "marker": {
             "pattern": {
              "fillmode": "overlay",
              "size": 10,
              "solidity": 0.2
             }
            },
            "type": "histogram"
           }
          ],
          "histogram2d": [
           {
            "colorbar": {
             "outlinewidth": 0,
             "ticks": ""
            },
            "colorscale": [
             [
              0,
              "#0d0887"
             ],
             [
              0.1111111111111111,
              "#46039f"
             ],
             [
              0.2222222222222222,
              "#7201a8"
             ],
             [
              0.3333333333333333,
              "#9c179e"
             ],
             [
              0.4444444444444444,
              "#bd3786"
             ],
             [
              0.5555555555555556,
              "#d8576b"
             ],
             [
              0.6666666666666666,
              "#ed7953"
             ],
             [
              0.7777777777777778,
              "#fb9f3a"
             ],
             [
              0.8888888888888888,
              "#fdca26"
             ],
             [
              1,
              "#f0f921"
             ]
            ],
            "type": "histogram2d"
           }
          ],
          "histogram2dcontour": [
           {
            "colorbar": {
             "outlinewidth": 0,
             "ticks": ""
            },
            "colorscale": [
             [
              0,
              "#0d0887"
             ],
             [
              0.1111111111111111,
              "#46039f"
             ],
             [
              0.2222222222222222,
              "#7201a8"
             ],
             [
              0.3333333333333333,
              "#9c179e"
             ],
             [
              0.4444444444444444,
              "#bd3786"
             ],
             [
              0.5555555555555556,
              "#d8576b"
             ],
             [
              0.6666666666666666,
              "#ed7953"
             ],
             [
              0.7777777777777778,
              "#fb9f3a"
             ],
             [
              0.8888888888888888,
              "#fdca26"
             ],
             [
              1,
              "#f0f921"
             ]
            ],
            "type": "histogram2dcontour"
           }
          ],
          "mesh3d": [
           {
            "colorbar": {
             "outlinewidth": 0,
             "ticks": ""
            },
            "type": "mesh3d"
           }
          ],
          "parcoords": [
           {
            "line": {
             "colorbar": {
              "outlinewidth": 0,
              "ticks": ""
             }
            },
            "type": "parcoords"
           }
          ],
          "pie": [
           {
            "automargin": true,
            "type": "pie"
           }
          ],
          "scatter": [
           {
            "marker": {
             "colorbar": {
              "outlinewidth": 0,
              "ticks": ""
             }
            },
            "type": "scatter"
           }
          ],
          "scatter3d": [
           {
            "line": {
             "colorbar": {
              "outlinewidth": 0,
              "ticks": ""
             }
            },
            "marker": {
             "colorbar": {
              "outlinewidth": 0,
              "ticks": ""
             }
            },
            "type": "scatter3d"
           }
          ],
          "scattercarpet": [
           {
            "marker": {
             "colorbar": {
              "outlinewidth": 0,
              "ticks": ""
             }
            },
            "type": "scattercarpet"
           }
          ],
          "scattergeo": [
           {
            "marker": {
             "colorbar": {
              "outlinewidth": 0,
              "ticks": ""
             }
            },
            "type": "scattergeo"
           }
          ],
          "scattergl": [
           {
            "marker": {
             "colorbar": {
              "outlinewidth": 0,
              "ticks": ""
             }
            },
            "type": "scattergl"
           }
          ],
          "scattermapbox": [
           {
            "marker": {
             "colorbar": {
              "outlinewidth": 0,
              "ticks": ""
             }
            },
            "type": "scattermapbox"
           }
          ],
          "scatterpolar": [
           {
            "marker": {
             "colorbar": {
              "outlinewidth": 0,
              "ticks": ""
             }
            },
            "type": "scatterpolar"
           }
          ],
          "scatterpolargl": [
           {
            "marker": {
             "colorbar": {
              "outlinewidth": 0,
              "ticks": ""
             }
            },
            "type": "scatterpolargl"
           }
          ],
          "scatterternary": [
           {
            "marker": {
             "colorbar": {
              "outlinewidth": 0,
              "ticks": ""
             }
            },
            "type": "scatterternary"
           }
          ],
          "surface": [
           {
            "colorbar": {
             "outlinewidth": 0,
             "ticks": ""
            },
            "colorscale": [
             [
              0,
              "#0d0887"
             ],
             [
              0.1111111111111111,
              "#46039f"
             ],
             [
              0.2222222222222222,
              "#7201a8"
             ],
             [
              0.3333333333333333,
              "#9c179e"
             ],
             [
              0.4444444444444444,
              "#bd3786"
             ],
             [
              0.5555555555555556,
              "#d8576b"
             ],
             [
              0.6666666666666666,
              "#ed7953"
             ],
             [
              0.7777777777777778,
              "#fb9f3a"
             ],
             [
              0.8888888888888888,
              "#fdca26"
             ],
             [
              1,
              "#f0f921"
             ]
            ],
            "type": "surface"
           }
          ],
          "table": [
           {
            "cells": {
             "fill": {
              "color": "#EBF0F8"
             },
             "line": {
              "color": "white"
             }
            },
            "header": {
             "fill": {
              "color": "#C8D4E3"
             },
             "line": {
              "color": "white"
             }
            },
            "type": "table"
           }
          ]
         },
         "layout": {
          "annotationdefaults": {
           "arrowcolor": "#2a3f5f",
           "arrowhead": 0,
           "arrowwidth": 1
          },
          "autotypenumbers": "strict",
          "coloraxis": {
           "colorbar": {
            "outlinewidth": 0,
            "ticks": ""
           }
          },
          "colorscale": {
           "diverging": [
            [
             0,
             "#8e0152"
            ],
            [
             0.1,
             "#c51b7d"
            ],
            [
             0.2,
             "#de77ae"
            ],
            [
             0.3,
             "#f1b6da"
            ],
            [
             0.4,
             "#fde0ef"
            ],
            [
             0.5,
             "#f7f7f7"
            ],
            [
             0.6,
             "#e6f5d0"
            ],
            [
             0.7,
             "#b8e186"
            ],
            [
             0.8,
             "#7fbc41"
            ],
            [
             0.9,
             "#4d9221"
            ],
            [
             1,
             "#276419"
            ]
           ],
           "sequential": [
            [
             0,
             "#0d0887"
            ],
            [
             0.1111111111111111,
             "#46039f"
            ],
            [
             0.2222222222222222,
             "#7201a8"
            ],
            [
             0.3333333333333333,
             "#9c179e"
            ],
            [
             0.4444444444444444,
             "#bd3786"
            ],
            [
             0.5555555555555556,
             "#d8576b"
            ],
            [
             0.6666666666666666,
             "#ed7953"
            ],
            [
             0.7777777777777778,
             "#fb9f3a"
            ],
            [
             0.8888888888888888,
             "#fdca26"
            ],
            [
             1,
             "#f0f921"
            ]
           ],
           "sequentialminus": [
            [
             0,
             "#0d0887"
            ],
            [
             0.1111111111111111,
             "#46039f"
            ],
            [
             0.2222222222222222,
             "#7201a8"
            ],
            [
             0.3333333333333333,
             "#9c179e"
            ],
            [
             0.4444444444444444,
             "#bd3786"
            ],
            [
             0.5555555555555556,
             "#d8576b"
            ],
            [
             0.6666666666666666,
             "#ed7953"
            ],
            [
             0.7777777777777778,
             "#fb9f3a"
            ],
            [
             0.8888888888888888,
             "#fdca26"
            ],
            [
             1,
             "#f0f921"
            ]
           ]
          },
          "colorway": [
           "#636efa",
           "#EF553B",
           "#00cc96",
           "#ab63fa",
           "#FFA15A",
           "#19d3f3",
           "#FF6692",
           "#B6E880",
           "#FF97FF",
           "#FECB52"
          ],
          "font": {
           "color": "#2a3f5f"
          },
          "geo": {
           "bgcolor": "white",
           "lakecolor": "white",
           "landcolor": "#E5ECF6",
           "showlakes": true,
           "showland": true,
           "subunitcolor": "white"
          },
          "hoverlabel": {
           "align": "left"
          },
          "hovermode": "closest",
          "mapbox": {
           "style": "light"
          },
          "paper_bgcolor": "white",
          "plot_bgcolor": "#E5ECF6",
          "polar": {
           "angularaxis": {
            "gridcolor": "white",
            "linecolor": "white",
            "ticks": ""
           },
           "bgcolor": "#E5ECF6",
           "radialaxis": {
            "gridcolor": "white",
            "linecolor": "white",
            "ticks": ""
           }
          },
          "scene": {
           "xaxis": {
            "backgroundcolor": "#E5ECF6",
            "gridcolor": "white",
            "gridwidth": 2,
            "linecolor": "white",
            "showbackground": true,
            "ticks": "",
            "zerolinecolor": "white"
           },
           "yaxis": {
            "backgroundcolor": "#E5ECF6",
            "gridcolor": "white",
            "gridwidth": 2,
            "linecolor": "white",
            "showbackground": true,
            "ticks": "",
            "zerolinecolor": "white"
           },
           "zaxis": {
            "backgroundcolor": "#E5ECF6",
            "gridcolor": "white",
            "gridwidth": 2,
            "linecolor": "white",
            "showbackground": true,
            "ticks": "",
            "zerolinecolor": "white"
           }
          },
          "shapedefaults": {
           "line": {
            "color": "#2a3f5f"
           }
          },
          "ternary": {
           "aaxis": {
            "gridcolor": "white",
            "linecolor": "white",
            "ticks": ""
           },
           "baxis": {
            "gridcolor": "white",
            "linecolor": "white",
            "ticks": ""
           },
           "bgcolor": "#E5ECF6",
           "caxis": {
            "gridcolor": "white",
            "linecolor": "white",
            "ticks": ""
           }
          },
          "title": {
           "x": 0.05
          },
          "xaxis": {
           "automargin": true,
           "gridcolor": "white",
           "linecolor": "white",
           "ticks": "",
           "title": {
            "standoff": 15
           },
           "zerolinecolor": "white",
           "zerolinewidth": 2
          },
          "yaxis": {
           "automargin": true,
           "gridcolor": "white",
           "linecolor": "white",
           "ticks": "",
           "title": {
            "standoff": 15
           },
           "zerolinecolor": "white",
           "zerolinewidth": 2
          }
         }
        },
        "title": {
         "text": "Относительное изменение кумулятивного среднего чека группы B к группе А"
        },
        "width": 800,
        "xaxis": {
         "anchor": "y",
         "domain": [
          0,
          1
         ],
         "title": {
          "text": "дата"
         }
        },
        "yaxis": {
         "anchor": "x",
         "domain": [
          0,
          1
         ],
         "title": {
          "text": "относительное изменение"
         }
        }
       }
      }
     },
     "metadata": {},
     "output_type": "display_data"
    }
   ],
   "source": [
    "\n",
    "fig = px.line(cumulative_conversion_ab,\n",
    "              x='date',\n",
    "              y=k,\n",
    "              labels={\n",
    "                  'date': 'дата',\n",
    "                  'y': 'относительное изменение',\n",
    "                  'group': 'группа'}\n",
    "              )\n",
    "\n",
    "fig.update_layout(width=800,\n",
    "                  title='Относительное изменение кумулятивного среднего чека группы B к группе А',\n",
    "                  font_size=10\n",
    "                  )\n",
    "fig.add_hline(y=0,\n",
    "              line_color='red',\n",
    "              line_dash='dot'\n",
    "              )\n",
    "fig.update_traces(line_width=4)"
   ]
  },
  {
   "cell_type": "markdown",
   "metadata": {},
   "source": [
    "Промежуточный вывод:  \n",
    "Наблюдаем следущее - средний чек группы В сначала больше, затем снижается до -13%, и резко поднимается до 49% (однозначно находится аномально дорогая покупка) плавно снижаясь до конца месяца"
   ]
  },
  {
   "cell_type": "markdown",
   "metadata": {},
   "source": [
    "### Кумулятивное ср. количество заказов на посетителя"
   ]
  },
  {
   "cell_type": "markdown",
   "metadata": {},
   "source": [
    "Вычислим конверсию - среднее количесвтво заказов на поситетиля "
   ]
  },
  {
   "cell_type": "code",
   "execution_count": 227,
   "metadata": {
    "trusted": true
   },
   "outputs": [],
   "source": [
    "cumulative_data['conversion'] = (cumulative_data['orders'] / \n",
    "                                 cumulative_data['visitors'])"
   ]
  },
  {
   "cell_type": "markdown",
   "metadata": {},
   "source": [
    "Строим график конверсии"
   ]
  },
  {
   "cell_type": "code",
   "execution_count": 226,
   "metadata": {
    "trusted": true
   },
   "outputs": [
    {
     "data": {
      "application/vnd.plotly.v1+json": {
       "config": {
        "plotlyServerURL": "https://plot.ly"
       },
       "data": [
        {
         "hovertemplate": "группа=A<br>дата=%{x}<br>коверсия=%{y}<extra></extra>",
         "legendgroup": "A",
         "line": {
          "color": "#636efa",
          "dash": "solid",
          "width": 3
         },
         "marker": {
          "symbol": "circle"
         },
         "mode": "lines",
         "name": "A",
         "orientation": "v",
         "showlegend": true,
         "type": "scatter",
         "x": [
          "2019-08-01T00:00:00",
          "2019-08-02T00:00:00",
          "2019-08-03T00:00:00",
          "2019-08-04T00:00:00",
          "2019-08-05T00:00:00",
          "2019-08-06T00:00:00",
          "2019-08-07T00:00:00",
          "2019-08-08T00:00:00",
          "2019-08-09T00:00:00",
          "2019-08-10T00:00:00",
          "2019-08-11T00:00:00",
          "2019-08-12T00:00:00",
          "2019-08-13T00:00:00",
          "2019-08-14T00:00:00",
          "2019-08-15T00:00:00",
          "2019-08-16T00:00:00",
          "2019-08-17T00:00:00",
          "2019-08-18T00:00:00",
          "2019-08-19T00:00:00",
          "2019-08-20T00:00:00",
          "2019-08-21T00:00:00",
          "2019-08-22T00:00:00",
          "2019-08-23T00:00:00",
          "2019-08-24T00:00:00",
          "2019-08-25T00:00:00",
          "2019-08-26T00:00:00",
          "2019-08-27T00:00:00",
          "2019-08-28T00:00:00",
          "2019-08-29T00:00:00",
          "2019-08-30T00:00:00",
          "2019-08-31T00:00:00"
         ],
         "xaxis": "x",
         "y": [
          0.03337969401947149,
          0.03288490284005979,
          0.03685636856368564,
          0.03278688524590164,
          0.03285111512959614,
          0.031869510664993723,
          0.031324260099373516,
          0.030731055544951327,
          0.030225409836065573,
          0.03082082401788566,
          0.029512893982808024,
          0.030363036303630363,
          0.02931635227682326,
          0.029587105321262974,
          0.029217427214536445,
          0.02995919179854683,
          0.029735156324696435,
          0.029477846679248673,
          0.0300971708659386,
          0.02966240576860046,
          0.029961089494163425,
          0.02979418976149788,
          0.030588066345946723,
          0.030791788856304986,
          0.030181355818778025,
          0.029811682093839772,
          0.03022716170004885,
          0.030170889805539187,
          0.030432552573089418,
          0.030215667793979044,
          0.029728864218616567
         ],
         "yaxis": "y"
        },
        {
         "hovertemplate": "группа=B<br>дата=%{x}<br>коверсия=%{y}<extra></extra>",
         "legendgroup": "B",
         "line": {
          "color": "#EF553B",
          "dash": "solid",
          "width": 3
         },
         "marker": {
          "symbol": "circle"
         },
         "mode": "lines",
         "name": "B",
         "orientation": "v",
         "showlegend": true,
         "type": "scatter",
         "x": [
          "2019-08-01T00:00:00",
          "2019-08-02T00:00:00",
          "2019-08-03T00:00:00",
          "2019-08-04T00:00:00",
          "2019-08-05T00:00:00",
          "2019-08-06T00:00:00",
          "2019-08-07T00:00:00",
          "2019-08-08T00:00:00",
          "2019-08-09T00:00:00",
          "2019-08-10T00:00:00",
          "2019-08-11T00:00:00",
          "2019-08-12T00:00:00",
          "2019-08-13T00:00:00",
          "2019-08-14T00:00:00",
          "2019-08-15T00:00:00",
          "2019-08-16T00:00:00",
          "2019-08-17T00:00:00",
          "2019-08-18T00:00:00",
          "2019-08-19T00:00:00",
          "2019-08-20T00:00:00",
          "2019-08-21T00:00:00",
          "2019-08-22T00:00:00",
          "2019-08-23T00:00:00",
          "2019-08-24T00:00:00",
          "2019-08-25T00:00:00",
          "2019-08-26T00:00:00",
          "2019-08-27T00:00:00",
          "2019-08-28T00:00:00",
          "2019-08-29T00:00:00",
          "2019-08-30T00:00:00",
          "2019-08-31T00:00:00"
         ],
         "xaxis": "x",
         "y": [
          0.029453015427769985,
          0.0347758887171561,
          0.03383250138657792,
          0.030314807617567042,
          0.030792682926829268,
          0.03278271918678526,
          0.03294573643410853,
          0.03397508493771234,
          0.034698713608666214,
          0.036323084275927994,
          0.03443841097456416,
          0.03500861954647925,
          0.03429602888086643,
          0.03401060070671378,
          0.0353125,
          0.035853390592230104,
          0.03574851447191873,
          0.03419568525646764,
          0.03456853662720878,
          0.03462105090849566,
          0.03394438402982756,
          0.034161490683229816,
          0.03390191897654584,
          0.03412236987818383,
          0.03351622925894097,
          0.033664494083401886,
          0.033165889971554806,
          0.033533213017407,
          0.03365710413372487,
          0.03406967798659193,
          0.033833791499259885
         ],
         "yaxis": "y"
        }
       ],
       "layout": {
        "legend": {
         "title": {
          "text": "группа"
         },
         "tracegroupgap": 0
        },
        "margin": {
         "t": 60
        },
        "shapes": [
         {
          "line": {
           "color": "red",
           "dash": "dot"
          },
          "type": "line",
          "x0": 0,
          "x1": 1,
          "xref": "x domain",
          "y0": 0.034,
          "y1": 0.034,
          "yref": "y"
         },
         {
          "line": {
           "color": "blue",
           "dash": "dot"
          },
          "type": "line",
          "x0": 0,
          "x1": 1,
          "xref": "x domain",
          "y0": 0.03,
          "y1": 0.03,
          "yref": "y"
         }
        ],
        "template": {
         "data": {
          "bar": [
           {
            "error_x": {
             "color": "#2a3f5f"
            },
            "error_y": {
             "color": "#2a3f5f"
            },
            "marker": {
             "line": {
              "color": "#E5ECF6",
              "width": 0.5
             },
             "pattern": {
              "fillmode": "overlay",
              "size": 10,
              "solidity": 0.2
             }
            },
            "type": "bar"
           }
          ],
          "barpolar": [
           {
            "marker": {
             "line": {
              "color": "#E5ECF6",
              "width": 0.5
             },
             "pattern": {
              "fillmode": "overlay",
              "size": 10,
              "solidity": 0.2
             }
            },
            "type": "barpolar"
           }
          ],
          "carpet": [
           {
            "aaxis": {
             "endlinecolor": "#2a3f5f",
             "gridcolor": "white",
             "linecolor": "white",
             "minorgridcolor": "white",
             "startlinecolor": "#2a3f5f"
            },
            "baxis": {
             "endlinecolor": "#2a3f5f",
             "gridcolor": "white",
             "linecolor": "white",
             "minorgridcolor": "white",
             "startlinecolor": "#2a3f5f"
            },
            "type": "carpet"
           }
          ],
          "choropleth": [
           {
            "colorbar": {
             "outlinewidth": 0,
             "ticks": ""
            },
            "type": "choropleth"
           }
          ],
          "contour": [
           {
            "colorbar": {
             "outlinewidth": 0,
             "ticks": ""
            },
            "colorscale": [
             [
              0,
              "#0d0887"
             ],
             [
              0.1111111111111111,
              "#46039f"
             ],
             [
              0.2222222222222222,
              "#7201a8"
             ],
             [
              0.3333333333333333,
              "#9c179e"
             ],
             [
              0.4444444444444444,
              "#bd3786"
             ],
             [
              0.5555555555555556,
              "#d8576b"
             ],
             [
              0.6666666666666666,
              "#ed7953"
             ],
             [
              0.7777777777777778,
              "#fb9f3a"
             ],
             [
              0.8888888888888888,
              "#fdca26"
             ],
             [
              1,
              "#f0f921"
             ]
            ],
            "type": "contour"
           }
          ],
          "contourcarpet": [
           {
            "colorbar": {
             "outlinewidth": 0,
             "ticks": ""
            },
            "type": "contourcarpet"
           }
          ],
          "heatmap": [
           {
            "colorbar": {
             "outlinewidth": 0,
             "ticks": ""
            },
            "colorscale": [
             [
              0,
              "#0d0887"
             ],
             [
              0.1111111111111111,
              "#46039f"
             ],
             [
              0.2222222222222222,
              "#7201a8"
             ],
             [
              0.3333333333333333,
              "#9c179e"
             ],
             [
              0.4444444444444444,
              "#bd3786"
             ],
             [
              0.5555555555555556,
              "#d8576b"
             ],
             [
              0.6666666666666666,
              "#ed7953"
             ],
             [
              0.7777777777777778,
              "#fb9f3a"
             ],
             [
              0.8888888888888888,
              "#fdca26"
             ],
             [
              1,
              "#f0f921"
             ]
            ],
            "type": "heatmap"
           }
          ],
          "heatmapgl": [
           {
            "colorbar": {
             "outlinewidth": 0,
             "ticks": ""
            },
            "colorscale": [
             [
              0,
              "#0d0887"
             ],
             [
              0.1111111111111111,
              "#46039f"
             ],
             [
              0.2222222222222222,
              "#7201a8"
             ],
             [
              0.3333333333333333,
              "#9c179e"
             ],
             [
              0.4444444444444444,
              "#bd3786"
             ],
             [
              0.5555555555555556,
              "#d8576b"
             ],
             [
              0.6666666666666666,
              "#ed7953"
             ],
             [
              0.7777777777777778,
              "#fb9f3a"
             ],
             [
              0.8888888888888888,
              "#fdca26"
             ],
             [
              1,
              "#f0f921"
             ]
            ],
            "type": "heatmapgl"
           }
          ],
          "histogram": [
           {
            "marker": {
             "pattern": {
              "fillmode": "overlay",
              "size": 10,
              "solidity": 0.2
             }
            },
            "type": "histogram"
           }
          ],
          "histogram2d": [
           {
            "colorbar": {
             "outlinewidth": 0,
             "ticks": ""
            },
            "colorscale": [
             [
              0,
              "#0d0887"
             ],
             [
              0.1111111111111111,
              "#46039f"
             ],
             [
              0.2222222222222222,
              "#7201a8"
             ],
             [
              0.3333333333333333,
              "#9c179e"
             ],
             [
              0.4444444444444444,
              "#bd3786"
             ],
             [
              0.5555555555555556,
              "#d8576b"
             ],
             [
              0.6666666666666666,
              "#ed7953"
             ],
             [
              0.7777777777777778,
              "#fb9f3a"
             ],
             [
              0.8888888888888888,
              "#fdca26"
             ],
             [
              1,
              "#f0f921"
             ]
            ],
            "type": "histogram2d"
           }
          ],
          "histogram2dcontour": [
           {
            "colorbar": {
             "outlinewidth": 0,
             "ticks": ""
            },
            "colorscale": [
             [
              0,
              "#0d0887"
             ],
             [
              0.1111111111111111,
              "#46039f"
             ],
             [
              0.2222222222222222,
              "#7201a8"
             ],
             [
              0.3333333333333333,
              "#9c179e"
             ],
             [
              0.4444444444444444,
              "#bd3786"
             ],
             [
              0.5555555555555556,
              "#d8576b"
             ],
             [
              0.6666666666666666,
              "#ed7953"
             ],
             [
              0.7777777777777778,
              "#fb9f3a"
             ],
             [
              0.8888888888888888,
              "#fdca26"
             ],
             [
              1,
              "#f0f921"
             ]
            ],
            "type": "histogram2dcontour"
           }
          ],
          "mesh3d": [
           {
            "colorbar": {
             "outlinewidth": 0,
             "ticks": ""
            },
            "type": "mesh3d"
           }
          ],
          "parcoords": [
           {
            "line": {
             "colorbar": {
              "outlinewidth": 0,
              "ticks": ""
             }
            },
            "type": "parcoords"
           }
          ],
          "pie": [
           {
            "automargin": true,
            "type": "pie"
           }
          ],
          "scatter": [
           {
            "marker": {
             "colorbar": {
              "outlinewidth": 0,
              "ticks": ""
             }
            },
            "type": "scatter"
           }
          ],
          "scatter3d": [
           {
            "line": {
             "colorbar": {
              "outlinewidth": 0,
              "ticks": ""
             }
            },
            "marker": {
             "colorbar": {
              "outlinewidth": 0,
              "ticks": ""
             }
            },
            "type": "scatter3d"
           }
          ],
          "scattercarpet": [
           {
            "marker": {
             "colorbar": {
              "outlinewidth": 0,
              "ticks": ""
             }
            },
            "type": "scattercarpet"
           }
          ],
          "scattergeo": [
           {
            "marker": {
             "colorbar": {
              "outlinewidth": 0,
              "ticks": ""
             }
            },
            "type": "scattergeo"
           }
          ],
          "scattergl": [
           {
            "marker": {
             "colorbar": {
              "outlinewidth": 0,
              "ticks": ""
             }
            },
            "type": "scattergl"
           }
          ],
          "scattermapbox": [
           {
            "marker": {
             "colorbar": {
              "outlinewidth": 0,
              "ticks": ""
             }
            },
            "type": "scattermapbox"
           }
          ],
          "scatterpolar": [
           {
            "marker": {
             "colorbar": {
              "outlinewidth": 0,
              "ticks": ""
             }
            },
            "type": "scatterpolar"
           }
          ],
          "scatterpolargl": [
           {
            "marker": {
             "colorbar": {
              "outlinewidth": 0,
              "ticks": ""
             }
            },
            "type": "scatterpolargl"
           }
          ],
          "scatterternary": [
           {
            "marker": {
             "colorbar": {
              "outlinewidth": 0,
              "ticks": ""
             }
            },
            "type": "scatterternary"
           }
          ],
          "surface": [
           {
            "colorbar": {
             "outlinewidth": 0,
             "ticks": ""
            },
            "colorscale": [
             [
              0,
              "#0d0887"
             ],
             [
              0.1111111111111111,
              "#46039f"
             ],
             [
              0.2222222222222222,
              "#7201a8"
             ],
             [
              0.3333333333333333,
              "#9c179e"
             ],
             [
              0.4444444444444444,
              "#bd3786"
             ],
             [
              0.5555555555555556,
              "#d8576b"
             ],
             [
              0.6666666666666666,
              "#ed7953"
             ],
             [
              0.7777777777777778,
              "#fb9f3a"
             ],
             [
              0.8888888888888888,
              "#fdca26"
             ],
             [
              1,
              "#f0f921"
             ]
            ],
            "type": "surface"
           }
          ],
          "table": [
           {
            "cells": {
             "fill": {
              "color": "#EBF0F8"
             },
             "line": {
              "color": "white"
             }
            },
            "header": {
             "fill": {
              "color": "#C8D4E3"
             },
             "line": {
              "color": "white"
             }
            },
            "type": "table"
           }
          ]
         },
         "layout": {
          "annotationdefaults": {
           "arrowcolor": "#2a3f5f",
           "arrowhead": 0,
           "arrowwidth": 1
          },
          "autotypenumbers": "strict",
          "coloraxis": {
           "colorbar": {
            "outlinewidth": 0,
            "ticks": ""
           }
          },
          "colorscale": {
           "diverging": [
            [
             0,
             "#8e0152"
            ],
            [
             0.1,
             "#c51b7d"
            ],
            [
             0.2,
             "#de77ae"
            ],
            [
             0.3,
             "#f1b6da"
            ],
            [
             0.4,
             "#fde0ef"
            ],
            [
             0.5,
             "#f7f7f7"
            ],
            [
             0.6,
             "#e6f5d0"
            ],
            [
             0.7,
             "#b8e186"
            ],
            [
             0.8,
             "#7fbc41"
            ],
            [
             0.9,
             "#4d9221"
            ],
            [
             1,
             "#276419"
            ]
           ],
           "sequential": [
            [
             0,
             "#0d0887"
            ],
            [
             0.1111111111111111,
             "#46039f"
            ],
            [
             0.2222222222222222,
             "#7201a8"
            ],
            [
             0.3333333333333333,
             "#9c179e"
            ],
            [
             0.4444444444444444,
             "#bd3786"
            ],
            [
             0.5555555555555556,
             "#d8576b"
            ],
            [
             0.6666666666666666,
             "#ed7953"
            ],
            [
             0.7777777777777778,
             "#fb9f3a"
            ],
            [
             0.8888888888888888,
             "#fdca26"
            ],
            [
             1,
             "#f0f921"
            ]
           ],
           "sequentialminus": [
            [
             0,
             "#0d0887"
            ],
            [
             0.1111111111111111,
             "#46039f"
            ],
            [
             0.2222222222222222,
             "#7201a8"
            ],
            [
             0.3333333333333333,
             "#9c179e"
            ],
            [
             0.4444444444444444,
             "#bd3786"
            ],
            [
             0.5555555555555556,
             "#d8576b"
            ],
            [
             0.6666666666666666,
             "#ed7953"
            ],
            [
             0.7777777777777778,
             "#fb9f3a"
            ],
            [
             0.8888888888888888,
             "#fdca26"
            ],
            [
             1,
             "#f0f921"
            ]
           ]
          },
          "colorway": [
           "#636efa",
           "#EF553B",
           "#00cc96",
           "#ab63fa",
           "#FFA15A",
           "#19d3f3",
           "#FF6692",
           "#B6E880",
           "#FF97FF",
           "#FECB52"
          ],
          "font": {
           "color": "#2a3f5f"
          },
          "geo": {
           "bgcolor": "white",
           "lakecolor": "white",
           "landcolor": "#E5ECF6",
           "showlakes": true,
           "showland": true,
           "subunitcolor": "white"
          },
          "hoverlabel": {
           "align": "left"
          },
          "hovermode": "closest",
          "mapbox": {
           "style": "light"
          },
          "paper_bgcolor": "white",
          "plot_bgcolor": "#E5ECF6",
          "polar": {
           "angularaxis": {
            "gridcolor": "white",
            "linecolor": "white",
            "ticks": ""
           },
           "bgcolor": "#E5ECF6",
           "radialaxis": {
            "gridcolor": "white",
            "linecolor": "white",
            "ticks": ""
           }
          },
          "scene": {
           "xaxis": {
            "backgroundcolor": "#E5ECF6",
            "gridcolor": "white",
            "gridwidth": 2,
            "linecolor": "white",
            "showbackground": true,
            "ticks": "",
            "zerolinecolor": "white"
           },
           "yaxis": {
            "backgroundcolor": "#E5ECF6",
            "gridcolor": "white",
            "gridwidth": 2,
            "linecolor": "white",
            "showbackground": true,
            "ticks": "",
            "zerolinecolor": "white"
           },
           "zaxis": {
            "backgroundcolor": "#E5ECF6",
            "gridcolor": "white",
            "gridwidth": 2,
            "linecolor": "white",
            "showbackground": true,
            "ticks": "",
            "zerolinecolor": "white"
           }
          },
          "shapedefaults": {
           "line": {
            "color": "#2a3f5f"
           }
          },
          "ternary": {
           "aaxis": {
            "gridcolor": "white",
            "linecolor": "white",
            "ticks": ""
           },
           "baxis": {
            "gridcolor": "white",
            "linecolor": "white",
            "ticks": ""
           },
           "bgcolor": "#E5ECF6",
           "caxis": {
            "gridcolor": "white",
            "linecolor": "white",
            "ticks": ""
           }
          },
          "title": {
           "x": 0.05
          },
          "xaxis": {
           "automargin": true,
           "gridcolor": "white",
           "linecolor": "white",
           "ticks": "",
           "title": {
            "standoff": 15
           },
           "zerolinecolor": "white",
           "zerolinewidth": 2
          },
          "yaxis": {
           "automargin": true,
           "gridcolor": "white",
           "linecolor": "white",
           "ticks": "",
           "title": {
            "standoff": 15
           },
           "zerolinecolor": "white",
           "zerolinewidth": 2
          }
         }
        },
        "title": {
         "text": "Кумулятивное ср. кол-во заказов на посетителя по группам"
        },
        "width": 800,
        "xaxis": {
         "anchor": "y",
         "domain": [
          0,
          1
         ],
         "title": {
          "text": "дата"
         }
        },
        "yaxis": {
         "anchor": "x",
         "domain": [
          0,
          1
         ],
         "title": {
          "text": "коверсия"
         }
        }
       }
      }
     },
     "metadata": {},
     "output_type": "display_data"
    }
   ],
   "source": [
    "fig = px.line(cumulative_data,\n",
    "              x='date',\n",
    "              y=cumulative_data['conversion'],\n",
    "              color='group',\n",
    "              labels={\n",
    "                  'date': 'дата',\n",
    "                  'conversion': 'коверсия',\n",
    "                  'group': 'группа'})\n",
    "\n",
    "fig.update_layout(width=800,\n",
    "                  title='Кумулятивное ср. кол-во заказов на посетителя по группам')\n",
    "\n",
    "fig.add_hline(y=0.034, line_color='red', line_dash='dot')\n",
    "fig.add_hline(y=0.03, line_color='blue', line_dash='dot')\n",
    "fig.update_traces(line_width=3)"
   ]
  },
  {
   "cell_type": "markdown",
   "metadata": {},
   "source": [
    "Промежуточный вывод:  \n",
    "Конверсия группы В чуть больше конверсии группы А. Показатели стабилизировались\n"
   ]
  },
  {
   "cell_type": "markdown",
   "metadata": {},
   "source": [
    "### Относительное изменение кумулятивного ср. кол-ва заказов на посетителя группы В к группе А"
   ]
  },
  {
   "cell_type": "markdown",
   "metadata": {},
   "source": [
    "Вычислим относительное изменнеие кумулятивного среденего кол-ва заказов , обозначим его за `k`"
   ]
  },
  {
   "cell_type": "code",
   "execution_count": 187,
   "metadata": {
    "trusted": true
   },
   "outputs": [],
   "source": [
    "k = (\n",
    "    (cumulative_conversion_ab['orders_b'] /\n",
    "     cumulative_conversion_ab['visitors_b']\n",
    "     ) \n",
    "    /\n",
    "    (cumulative_conversion_ab['orders_a'] /\n",
    "     cumulative_conversion_ab['visitors_a']\n",
    "     ) - 1\n",
    ")"
   ]
  },
  {
   "cell_type": "markdown",
   "metadata": {},
   "source": [
    "Строрим график"
   ]
  },
  {
   "cell_type": "code",
   "execution_count": 230,
   "metadata": {
    "trusted": true
   },
   "outputs": [
    {
     "data": {
      "application/vnd.plotly.v1+json": {
       "config": {
        "plotlyServerURL": "https://plot.ly"
       },
       "data": [
        {
         "hovertemplate": "дата=%{x}<br>относительное изменение, %=%{y}<extra></extra>",
         "legendgroup": "",
         "line": {
          "color": "#636efa",
          "dash": "solid",
          "width": 4
         },
         "marker": {
          "symbol": "circle"
         },
         "mode": "lines",
         "name": "",
         "orientation": "v",
         "showlegend": false,
         "type": "scatter",
         "x": [
          "2019-08-01T00:00:00",
          "2019-08-02T00:00:00",
          "2019-08-03T00:00:00",
          "2019-08-04T00:00:00",
          "2019-08-05T00:00:00",
          "2019-08-06T00:00:00",
          "2019-08-07T00:00:00",
          "2019-08-08T00:00:00",
          "2019-08-09T00:00:00",
          "2019-08-10T00:00:00",
          "2019-08-11T00:00:00",
          "2019-08-12T00:00:00",
          "2019-08-13T00:00:00",
          "2019-08-14T00:00:00",
          "2019-08-15T00:00:00",
          "2019-08-16T00:00:00",
          "2019-08-17T00:00:00",
          "2019-08-18T00:00:00",
          "2019-08-19T00:00:00",
          "2019-08-20T00:00:00",
          "2019-08-21T00:00:00",
          "2019-08-22T00:00:00",
          "2019-08-23T00:00:00",
          "2019-08-24T00:00:00",
          "2019-08-25T00:00:00",
          "2019-08-26T00:00:00",
          "2019-08-27T00:00:00",
          "2019-08-28T00:00:00",
          "2019-08-29T00:00:00",
          "2019-08-30T00:00:00",
          "2019-08-31T00:00:00"
         ],
         "xaxis": "x",
         "y": [
          -11.763674614305753,
          5.75031614444288,
          -8.204463149652552,
          -7.539836766420526,
          -6.265943164018795,
          2.8654613853065225,
          5.176423416198883,
          10.55619253954967,
          14.799811803587204,
          17.852411262104194,
          16.689373107989237,
          15.300127419382736,
          16.986003432562,
          14.950754179631875,
          20.861086572438147,
          19.67409145519463,
          20.223058798005766,
          16.004692027047398,
          14.856432125088826,
          16.71693516223234,
          13.294892151502369,
          14.658230200895295,
          10.833808823087775,
          10.81645836629226,
          11.049448739768252,
          12.923832937150003,
          9.722144277612422,
          11.144262676835304,
          10.595731504582462,
          12.755005842964895,
          13.807884655320146
         ],
         "yaxis": "y"
        }
       ],
       "layout": {
        "font": {
         "size": 11
        },
        "legend": {
         "tracegroupgap": 0
        },
        "margin": {
         "t": 60
        },
        "shapes": [
         {
          "line": {
           "color": "red",
           "dash": "dot"
          },
          "type": "line",
          "x0": 0,
          "x1": 1,
          "xref": "x domain",
          "y0": 0,
          "y1": 0,
          "yref": "y"
         }
        ],
        "template": {
         "data": {
          "bar": [
           {
            "error_x": {
             "color": "#2a3f5f"
            },
            "error_y": {
             "color": "#2a3f5f"
            },
            "marker": {
             "line": {
              "color": "#E5ECF6",
              "width": 0.5
             },
             "pattern": {
              "fillmode": "overlay",
              "size": 10,
              "solidity": 0.2
             }
            },
            "type": "bar"
           }
          ],
          "barpolar": [
           {
            "marker": {
             "line": {
              "color": "#E5ECF6",
              "width": 0.5
             },
             "pattern": {
              "fillmode": "overlay",
              "size": 10,
              "solidity": 0.2
             }
            },
            "type": "barpolar"
           }
          ],
          "carpet": [
           {
            "aaxis": {
             "endlinecolor": "#2a3f5f",
             "gridcolor": "white",
             "linecolor": "white",
             "minorgridcolor": "white",
             "startlinecolor": "#2a3f5f"
            },
            "baxis": {
             "endlinecolor": "#2a3f5f",
             "gridcolor": "white",
             "linecolor": "white",
             "minorgridcolor": "white",
             "startlinecolor": "#2a3f5f"
            },
            "type": "carpet"
           }
          ],
          "choropleth": [
           {
            "colorbar": {
             "outlinewidth": 0,
             "ticks": ""
            },
            "type": "choropleth"
           }
          ],
          "contour": [
           {
            "colorbar": {
             "outlinewidth": 0,
             "ticks": ""
            },
            "colorscale": [
             [
              0,
              "#0d0887"
             ],
             [
              0.1111111111111111,
              "#46039f"
             ],
             [
              0.2222222222222222,
              "#7201a8"
             ],
             [
              0.3333333333333333,
              "#9c179e"
             ],
             [
              0.4444444444444444,
              "#bd3786"
             ],
             [
              0.5555555555555556,
              "#d8576b"
             ],
             [
              0.6666666666666666,
              "#ed7953"
             ],
             [
              0.7777777777777778,
              "#fb9f3a"
             ],
             [
              0.8888888888888888,
              "#fdca26"
             ],
             [
              1,
              "#f0f921"
             ]
            ],
            "type": "contour"
           }
          ],
          "contourcarpet": [
           {
            "colorbar": {
             "outlinewidth": 0,
             "ticks": ""
            },
            "type": "contourcarpet"
           }
          ],
          "heatmap": [
           {
            "colorbar": {
             "outlinewidth": 0,
             "ticks": ""
            },
            "colorscale": [
             [
              0,
              "#0d0887"
             ],
             [
              0.1111111111111111,
              "#46039f"
             ],
             [
              0.2222222222222222,
              "#7201a8"
             ],
             [
              0.3333333333333333,
              "#9c179e"
             ],
             [
              0.4444444444444444,
              "#bd3786"
             ],
             [
              0.5555555555555556,
              "#d8576b"
             ],
             [
              0.6666666666666666,
              "#ed7953"
             ],
             [
              0.7777777777777778,
              "#fb9f3a"
             ],
             [
              0.8888888888888888,
              "#fdca26"
             ],
             [
              1,
              "#f0f921"
             ]
            ],
            "type": "heatmap"
           }
          ],
          "heatmapgl": [
           {
            "colorbar": {
             "outlinewidth": 0,
             "ticks": ""
            },
            "colorscale": [
             [
              0,
              "#0d0887"
             ],
             [
              0.1111111111111111,
              "#46039f"
             ],
             [
              0.2222222222222222,
              "#7201a8"
             ],
             [
              0.3333333333333333,
              "#9c179e"
             ],
             [
              0.4444444444444444,
              "#bd3786"
             ],
             [
              0.5555555555555556,
              "#d8576b"
             ],
             [
              0.6666666666666666,
              "#ed7953"
             ],
             [
              0.7777777777777778,
              "#fb9f3a"
             ],
             [
              0.8888888888888888,
              "#fdca26"
             ],
             [
              1,
              "#f0f921"
             ]
            ],
            "type": "heatmapgl"
           }
          ],
          "histogram": [
           {
            "marker": {
             "pattern": {
              "fillmode": "overlay",
              "size": 10,
              "solidity": 0.2
             }
            },
            "type": "histogram"
           }
          ],
          "histogram2d": [
           {
            "colorbar": {
             "outlinewidth": 0,
             "ticks": ""
            },
            "colorscale": [
             [
              0,
              "#0d0887"
             ],
             [
              0.1111111111111111,
              "#46039f"
             ],
             [
              0.2222222222222222,
              "#7201a8"
             ],
             [
              0.3333333333333333,
              "#9c179e"
             ],
             [
              0.4444444444444444,
              "#bd3786"
             ],
             [
              0.5555555555555556,
              "#d8576b"
             ],
             [
              0.6666666666666666,
              "#ed7953"
             ],
             [
              0.7777777777777778,
              "#fb9f3a"
             ],
             [
              0.8888888888888888,
              "#fdca26"
             ],
             [
              1,
              "#f0f921"
             ]
            ],
            "type": "histogram2d"
           }
          ],
          "histogram2dcontour": [
           {
            "colorbar": {
             "outlinewidth": 0,
             "ticks": ""
            },
            "colorscale": [
             [
              0,
              "#0d0887"
             ],
             [
              0.1111111111111111,
              "#46039f"
             ],
             [
              0.2222222222222222,
              "#7201a8"
             ],
             [
              0.3333333333333333,
              "#9c179e"
             ],
             [
              0.4444444444444444,
              "#bd3786"
             ],
             [
              0.5555555555555556,
              "#d8576b"
             ],
             [
              0.6666666666666666,
              "#ed7953"
             ],
             [
              0.7777777777777778,
              "#fb9f3a"
             ],
             [
              0.8888888888888888,
              "#fdca26"
             ],
             [
              1,
              "#f0f921"
             ]
            ],
            "type": "histogram2dcontour"
           }
          ],
          "mesh3d": [
           {
            "colorbar": {
             "outlinewidth": 0,
             "ticks": ""
            },
            "type": "mesh3d"
           }
          ],
          "parcoords": [
           {
            "line": {
             "colorbar": {
              "outlinewidth": 0,
              "ticks": ""
             }
            },
            "type": "parcoords"
           }
          ],
          "pie": [
           {
            "automargin": true,
            "type": "pie"
           }
          ],
          "scatter": [
           {
            "marker": {
             "colorbar": {
              "outlinewidth": 0,
              "ticks": ""
             }
            },
            "type": "scatter"
           }
          ],
          "scatter3d": [
           {
            "line": {
             "colorbar": {
              "outlinewidth": 0,
              "ticks": ""
             }
            },
            "marker": {
             "colorbar": {
              "outlinewidth": 0,
              "ticks": ""
             }
            },
            "type": "scatter3d"
           }
          ],
          "scattercarpet": [
           {
            "marker": {
             "colorbar": {
              "outlinewidth": 0,
              "ticks": ""
             }
            },
            "type": "scattercarpet"
           }
          ],
          "scattergeo": [
           {
            "marker": {
             "colorbar": {
              "outlinewidth": 0,
              "ticks": ""
             }
            },
            "type": "scattergeo"
           }
          ],
          "scattergl": [
           {
            "marker": {
             "colorbar": {
              "outlinewidth": 0,
              "ticks": ""
             }
            },
            "type": "scattergl"
           }
          ],
          "scattermapbox": [
           {
            "marker": {
             "colorbar": {
              "outlinewidth": 0,
              "ticks": ""
             }
            },
            "type": "scattermapbox"
           }
          ],
          "scatterpolar": [
           {
            "marker": {
             "colorbar": {
              "outlinewidth": 0,
              "ticks": ""
             }
            },
            "type": "scatterpolar"
           }
          ],
          "scatterpolargl": [
           {
            "marker": {
             "colorbar": {
              "outlinewidth": 0,
              "ticks": ""
             }
            },
            "type": "scatterpolargl"
           }
          ],
          "scatterternary": [
           {
            "marker": {
             "colorbar": {
              "outlinewidth": 0,
              "ticks": ""
             }
            },
            "type": "scatterternary"
           }
          ],
          "surface": [
           {
            "colorbar": {
             "outlinewidth": 0,
             "ticks": ""
            },
            "colorscale": [
             [
              0,
              "#0d0887"
             ],
             [
              0.1111111111111111,
              "#46039f"
             ],
             [
              0.2222222222222222,
              "#7201a8"
             ],
             [
              0.3333333333333333,
              "#9c179e"
             ],
             [
              0.4444444444444444,
              "#bd3786"
             ],
             [
              0.5555555555555556,
              "#d8576b"
             ],
             [
              0.6666666666666666,
              "#ed7953"
             ],
             [
              0.7777777777777778,
              "#fb9f3a"
             ],
             [
              0.8888888888888888,
              "#fdca26"
             ],
             [
              1,
              "#f0f921"
             ]
            ],
            "type": "surface"
           }
          ],
          "table": [
           {
            "cells": {
             "fill": {
              "color": "#EBF0F8"
             },
             "line": {
              "color": "white"
             }
            },
            "header": {
             "fill": {
              "color": "#C8D4E3"
             },
             "line": {
              "color": "white"
             }
            },
            "type": "table"
           }
          ]
         },
         "layout": {
          "annotationdefaults": {
           "arrowcolor": "#2a3f5f",
           "arrowhead": 0,
           "arrowwidth": 1
          },
          "autotypenumbers": "strict",
          "coloraxis": {
           "colorbar": {
            "outlinewidth": 0,
            "ticks": ""
           }
          },
          "colorscale": {
           "diverging": [
            [
             0,
             "#8e0152"
            ],
            [
             0.1,
             "#c51b7d"
            ],
            [
             0.2,
             "#de77ae"
            ],
            [
             0.3,
             "#f1b6da"
            ],
            [
             0.4,
             "#fde0ef"
            ],
            [
             0.5,
             "#f7f7f7"
            ],
            [
             0.6,
             "#e6f5d0"
            ],
            [
             0.7,
             "#b8e186"
            ],
            [
             0.8,
             "#7fbc41"
            ],
            [
             0.9,
             "#4d9221"
            ],
            [
             1,
             "#276419"
            ]
           ],
           "sequential": [
            [
             0,
             "#0d0887"
            ],
            [
             0.1111111111111111,
             "#46039f"
            ],
            [
             0.2222222222222222,
             "#7201a8"
            ],
            [
             0.3333333333333333,
             "#9c179e"
            ],
            [
             0.4444444444444444,
             "#bd3786"
            ],
            [
             0.5555555555555556,
             "#d8576b"
            ],
            [
             0.6666666666666666,
             "#ed7953"
            ],
            [
             0.7777777777777778,
             "#fb9f3a"
            ],
            [
             0.8888888888888888,
             "#fdca26"
            ],
            [
             1,
             "#f0f921"
            ]
           ],
           "sequentialminus": [
            [
             0,
             "#0d0887"
            ],
            [
             0.1111111111111111,
             "#46039f"
            ],
            [
             0.2222222222222222,
             "#7201a8"
            ],
            [
             0.3333333333333333,
             "#9c179e"
            ],
            [
             0.4444444444444444,
             "#bd3786"
            ],
            [
             0.5555555555555556,
             "#d8576b"
            ],
            [
             0.6666666666666666,
             "#ed7953"
            ],
            [
             0.7777777777777778,
             "#fb9f3a"
            ],
            [
             0.8888888888888888,
             "#fdca26"
            ],
            [
             1,
             "#f0f921"
            ]
           ]
          },
          "colorway": [
           "#636efa",
           "#EF553B",
           "#00cc96",
           "#ab63fa",
           "#FFA15A",
           "#19d3f3",
           "#FF6692",
           "#B6E880",
           "#FF97FF",
           "#FECB52"
          ],
          "font": {
           "color": "#2a3f5f"
          },
          "geo": {
           "bgcolor": "white",
           "lakecolor": "white",
           "landcolor": "#E5ECF6",
           "showlakes": true,
           "showland": true,
           "subunitcolor": "white"
          },
          "hoverlabel": {
           "align": "left"
          },
          "hovermode": "closest",
          "mapbox": {
           "style": "light"
          },
          "paper_bgcolor": "white",
          "plot_bgcolor": "#E5ECF6",
          "polar": {
           "angularaxis": {
            "gridcolor": "white",
            "linecolor": "white",
            "ticks": ""
           },
           "bgcolor": "#E5ECF6",
           "radialaxis": {
            "gridcolor": "white",
            "linecolor": "white",
            "ticks": ""
           }
          },
          "scene": {
           "xaxis": {
            "backgroundcolor": "#E5ECF6",
            "gridcolor": "white",
            "gridwidth": 2,
            "linecolor": "white",
            "showbackground": true,
            "ticks": "",
            "zerolinecolor": "white"
           },
           "yaxis": {
            "backgroundcolor": "#E5ECF6",
            "gridcolor": "white",
            "gridwidth": 2,
            "linecolor": "white",
            "showbackground": true,
            "ticks": "",
            "zerolinecolor": "white"
           },
           "zaxis": {
            "backgroundcolor": "#E5ECF6",
            "gridcolor": "white",
            "gridwidth": 2,
            "linecolor": "white",
            "showbackground": true,
            "ticks": "",
            "zerolinecolor": "white"
           }
          },
          "shapedefaults": {
           "line": {
            "color": "#2a3f5f"
           }
          },
          "ternary": {
           "aaxis": {
            "gridcolor": "white",
            "linecolor": "white",
            "ticks": ""
           },
           "baxis": {
            "gridcolor": "white",
            "linecolor": "white",
            "ticks": ""
           },
           "bgcolor": "#E5ECF6",
           "caxis": {
            "gridcolor": "white",
            "linecolor": "white",
            "ticks": ""
           }
          },
          "title": {
           "x": 0.05
          },
          "xaxis": {
           "automargin": true,
           "gridcolor": "white",
           "linecolor": "white",
           "ticks": "",
           "title": {
            "standoff": 15
           },
           "zerolinecolor": "white",
           "zerolinewidth": 2
          },
          "yaxis": {
           "automargin": true,
           "gridcolor": "white",
           "linecolor": "white",
           "ticks": "",
           "title": {
            "standoff": 15
           },
           "zerolinecolor": "white",
           "zerolinewidth": 2
          }
         }
        },
        "title": {
         "text": "Относительное изменение кумулятивного ср. кол-ва заказов на посетителя группы B к группе А"
        },
        "width": 900,
        "xaxis": {
         "anchor": "y",
         "domain": [
          0,
          1
         ],
         "title": {
          "text": "дата"
         }
        },
        "yaxis": {
         "anchor": "x",
         "domain": [
          0,
          1
         ],
         "title": {
          "text": "относительное изменение, %"
         }
        }
       }
      }
     },
     "metadata": {},
     "output_type": "display_data"
    }
   ],
   "source": [
    "fig = px.line(cumulative_conversion_ab,\n",
    "              x='date',\n",
    "              y=k*100,\n",
    "              labels={\n",
    "                  'date': 'дата',\n",
    "                  'y': 'относительное изменение, %',\n",
    "                  'group': 'группа'})\n",
    "\n",
    "\n",
    "fig.update_layout(\n",
    "    width=900,\n",
    "    title='Относительное изменение кумулятивного ср. кол-ва заказов на посетителя группы B к группе А',\n",
    "    font_size=11)\n",
    "\n",
    "fig.add_hline(y=0,\n",
    "              line_color='red',\n",
    "              line_dash='dot')\n",
    "\n",
    "fig.update_traces(line_width=4)"
   ]
  },
  {
   "cell_type": "markdown",
   "metadata": {},
   "source": [
    "Промежуточный вывод:  \n",
    "Среденне кол-во заказов группы B больше заказов группы А и под конец теста находится между 10% и 15%"
   ]
  },
  {
   "cell_type": "markdown",
   "metadata": {},
   "source": [
    "### Количество заказов по пользователям"
   ]
  },
  {
   "cell_type": "markdown",
   "metadata": {},
   "source": [
    "Посчитаем кол-во заказов пользователей чтоб найти аномалии"
   ]
  },
  {
   "cell_type": "code",
   "execution_count": 189,
   "metadata": {
    "trusted": true
   },
   "outputs": [
    {
     "data": {
      "text/html": [
       "<div>\n",
       "<style scoped>\n",
       "    .dataframe tbody tr th:only-of-type {\n",
       "        vertical-align: middle;\n",
       "    }\n",
       "\n",
       "    .dataframe tbody tr th {\n",
       "        vertical-align: top;\n",
       "    }\n",
       "\n",
       "    .dataframe thead th {\n",
       "        text-align: right;\n",
       "    }\n",
       "</style>\n",
       "<table border=\"1\" class=\"dataframe\">\n",
       "  <thead>\n",
       "    <tr style=\"text-align: right;\">\n",
       "      <th></th>\n",
       "      <th>visitor_id</th>\n",
       "      <th>count_orders</th>\n",
       "    </tr>\n",
       "  </thead>\n",
       "  <tbody>\n",
       "    <tr>\n",
       "      <th>0</th>\n",
       "      <td>5114589</td>\n",
       "      <td>1</td>\n",
       "    </tr>\n",
       "    <tr>\n",
       "      <th>1</th>\n",
       "      <td>6958315</td>\n",
       "      <td>1</td>\n",
       "    </tr>\n",
       "    <tr>\n",
       "      <th>2</th>\n",
       "      <td>8300375</td>\n",
       "      <td>2</td>\n",
       "    </tr>\n",
       "    <tr>\n",
       "      <th>3</th>\n",
       "      <td>11685486</td>\n",
       "      <td>1</td>\n",
       "    </tr>\n",
       "    <tr>\n",
       "      <th>4</th>\n",
       "      <td>39475350</td>\n",
       "      <td>1</td>\n",
       "    </tr>\n",
       "  </tbody>\n",
       "</table>\n",
       "</div>"
      ],
      "text/plain": [
       "   visitor_id  count_orders\n",
       "0     5114589             1\n",
       "1     6958315             1\n",
       "2     8300375             2\n",
       "3    11685486             1\n",
       "4    39475350             1"
      ]
     },
     "execution_count": 189,
     "metadata": {},
     "output_type": "execute_result"
    }
   ],
   "source": [
    "count_orders = (orders\n",
    "                .groupby(\n",
    "                    'visitor_id',\n",
    "                    as_index=False)\n",
    "                ['transaction_id']\n",
    "                .count()\n",
    "                .rename(\n",
    "                    columns={\n",
    "                        'transaction_id': 'count_orders'\n",
    "                    }\n",
    "                )\n",
    "                )\n",
    "\n",
    "\n",
    "\n",
    "count_orders.head()"
   ]
  },
  {
   "cell_type": "markdown",
   "metadata": {},
   "source": [
    "Строим график"
   ]
  },
  {
   "cell_type": "code",
   "execution_count": 236,
   "metadata": {
    "trusted": true
   },
   "outputs": [
    {
     "data": {
      "application/vnd.plotly.v1+json": {
       "config": {
        "plotlyServerURL": "https://plot.ly"
       },
       "data": [
        {
         "hovertemplate": "номер заказа=%{x}<br>число заказов=%{y}<extra></extra>",
         "legendgroup": "",
         "marker": {
          "color": "#636efa",
          "symbol": "circle"
         },
         "mode": "markers",
         "name": "",
         "showlegend": false,
         "type": "scattergl",
         "x": [
          0,
          1,
          2,
          3,
          4,
          5,
          6,
          7,
          8,
          9,
          10,
          11,
          12,
          13,
          14,
          15,
          16,
          17,
          18,
          19,
          20,
          21,
          22,
          23,
          24,
          25,
          26,
          27,
          28,
          29,
          30,
          31,
          32,
          33,
          34,
          35,
          36,
          37,
          38,
          39,
          40,
          41,
          42,
          43,
          44,
          45,
          46,
          47,
          48,
          49,
          50,
          51,
          52,
          53,
          54,
          55,
          56,
          57,
          58,
          59,
          60,
          61,
          62,
          63,
          64,
          65,
          66,
          67,
          68,
          69,
          70,
          71,
          72,
          73,
          74,
          75,
          76,
          77,
          78,
          79,
          80,
          81,
          82,
          83,
          84,
          85,
          86,
          87,
          88,
          89,
          90,
          91,
          92,
          93,
          94,
          95,
          96,
          97,
          98,
          99,
          100,
          101,
          102,
          103,
          104,
          105,
          106,
          107,
          108,
          109,
          110,
          111,
          112,
          113,
          114,
          115,
          116,
          117,
          118,
          119,
          120,
          121,
          122,
          123,
          124,
          125,
          126,
          127,
          128,
          129,
          130,
          131,
          132,
          133,
          134,
          135,
          136,
          137,
          138,
          139,
          140,
          141,
          142,
          143,
          144,
          145,
          146,
          147,
          148,
          149,
          150,
          151,
          152,
          153,
          154,
          155,
          156,
          157,
          158,
          159,
          160,
          161,
          162,
          163,
          164,
          165,
          166,
          167,
          168,
          169,
          170,
          171,
          172,
          173,
          174,
          175,
          176,
          177,
          178,
          179,
          180,
          181,
          182,
          183,
          184,
          185,
          186,
          187,
          188,
          189,
          190,
          191,
          192,
          193,
          194,
          195,
          196,
          197,
          198,
          199,
          200,
          201,
          202,
          203,
          204,
          205,
          206,
          207,
          208,
          209,
          210,
          211,
          212,
          213,
          214,
          215,
          216,
          217,
          218,
          219,
          220,
          221,
          222,
          223,
          224,
          225,
          226,
          227,
          228,
          229,
          230,
          231,
          232,
          233,
          234,
          235,
          236,
          237,
          238,
          239,
          240,
          241,
          242,
          243,
          244,
          245,
          246,
          247,
          248,
          249,
          250,
          251,
          252,
          253,
          254,
          255,
          256,
          257,
          258,
          259,
          260,
          261,
          262,
          263,
          264,
          265,
          266,
          267,
          268,
          269,
          270,
          271,
          272,
          273,
          274,
          275,
          276,
          277,
          278,
          279,
          280,
          281,
          282,
          283,
          284,
          285,
          286,
          287,
          288,
          289,
          290,
          291,
          292,
          293,
          294,
          295,
          296,
          297,
          298,
          299,
          300,
          301,
          302,
          303,
          304,
          305,
          306,
          307,
          308,
          309,
          310,
          311,
          312,
          313,
          314,
          315,
          316,
          317,
          318,
          319,
          320,
          321,
          322,
          323,
          324,
          325,
          326,
          327,
          328,
          329,
          330,
          331,
          332,
          333,
          334,
          335,
          336,
          337,
          338,
          339,
          340,
          341,
          342,
          343,
          344,
          345,
          346,
          347,
          348,
          349,
          350,
          351,
          352,
          353,
          354,
          355,
          356,
          357,
          358,
          359,
          360,
          361,
          362,
          363,
          364,
          365,
          366,
          367,
          368,
          369,
          370,
          371,
          372,
          373,
          374,
          375,
          376,
          377,
          378,
          379,
          380,
          381,
          382,
          383,
          384,
          385,
          386,
          387,
          388,
          389,
          390,
          391,
          392,
          393,
          394,
          395,
          396,
          397,
          398,
          399,
          400,
          401,
          402,
          403,
          404,
          405,
          406,
          407,
          408,
          409,
          410,
          411,
          412,
          413,
          414,
          415,
          416,
          417,
          418,
          419,
          420,
          421,
          422,
          423,
          424,
          425,
          426,
          427,
          428,
          429,
          430,
          431,
          432,
          433,
          434,
          435,
          436,
          437,
          438,
          439,
          440,
          441,
          442,
          443,
          444,
          445,
          446,
          447,
          448,
          449,
          450,
          451,
          452,
          453,
          454,
          455,
          456,
          457,
          458,
          459,
          460,
          461,
          462,
          463,
          464,
          465,
          466,
          467,
          468,
          469,
          470,
          471,
          472,
          473,
          474,
          475,
          476,
          477,
          478,
          479,
          480,
          481,
          482,
          483,
          484,
          485,
          486,
          487,
          488,
          489,
          490,
          491,
          492,
          493,
          494,
          495,
          496,
          497,
          498,
          499,
          500,
          501,
          502,
          503,
          504,
          505,
          506,
          507,
          508,
          509,
          510,
          511,
          512,
          513,
          514,
          515,
          516,
          517,
          518,
          519,
          520,
          521,
          522,
          523,
          524,
          525,
          526,
          527,
          528,
          529,
          530,
          531,
          532,
          533,
          534,
          535,
          536,
          537,
          538,
          539,
          540,
          541,
          542,
          543,
          544,
          545,
          546,
          547,
          548,
          549,
          550,
          551,
          552,
          553,
          554,
          555,
          556,
          557,
          558,
          559,
          560,
          561,
          562,
          563,
          564,
          565,
          566,
          567,
          568,
          569,
          570,
          571,
          572,
          573,
          574,
          575,
          576,
          577,
          578,
          579,
          580,
          581,
          582,
          583,
          584,
          585,
          586,
          587,
          588,
          589,
          590,
          591,
          592,
          593,
          594,
          595,
          596,
          597,
          598,
          599,
          600,
          601,
          602,
          603,
          604,
          605,
          606,
          607,
          608,
          609,
          610,
          611,
          612,
          613,
          614,
          615,
          616,
          617,
          618,
          619,
          620,
          621,
          622,
          623,
          624,
          625,
          626,
          627,
          628,
          629,
          630,
          631,
          632,
          633,
          634,
          635,
          636,
          637,
          638,
          639,
          640,
          641,
          642,
          643,
          644,
          645,
          646,
          647,
          648,
          649,
          650,
          651,
          652,
          653,
          654,
          655,
          656,
          657,
          658,
          659,
          660,
          661,
          662,
          663,
          664,
          665,
          666,
          667,
          668,
          669,
          670,
          671,
          672,
          673,
          674,
          675,
          676,
          677,
          678,
          679,
          680,
          681,
          682,
          683,
          684,
          685,
          686,
          687,
          688,
          689,
          690,
          691,
          692,
          693,
          694,
          695,
          696,
          697,
          698,
          699,
          700,
          701,
          702,
          703,
          704,
          705,
          706,
          707,
          708,
          709,
          710,
          711,
          712,
          713,
          714,
          715,
          716,
          717,
          718,
          719,
          720,
          721,
          722,
          723,
          724,
          725,
          726,
          727,
          728,
          729,
          730,
          731,
          732,
          733,
          734,
          735,
          736,
          737,
          738,
          739,
          740,
          741,
          742,
          743,
          744,
          745,
          746,
          747,
          748,
          749,
          750,
          751,
          752,
          753,
          754,
          755,
          756,
          757,
          758,
          759,
          760,
          761,
          762,
          763,
          764,
          765,
          766,
          767,
          768,
          769,
          770,
          771,
          772,
          773,
          774,
          775,
          776,
          777,
          778,
          779,
          780,
          781,
          782,
          783,
          784,
          785,
          786,
          787,
          788,
          789,
          790,
          791,
          792,
          793,
          794,
          795,
          796,
          797,
          798,
          799,
          800,
          801,
          802,
          803,
          804,
          805,
          806,
          807,
          808,
          809,
          810,
          811,
          812,
          813,
          814,
          815,
          816,
          817,
          818,
          819,
          820,
          821,
          822,
          823,
          824,
          825,
          826,
          827,
          828,
          829,
          830,
          831,
          832,
          833,
          834,
          835,
          836,
          837,
          838,
          839,
          840,
          841,
          842,
          843,
          844,
          845,
          846,
          847,
          848,
          849,
          850,
          851,
          852,
          853,
          854,
          855,
          856,
          857,
          858,
          859,
          860,
          861,
          862,
          863,
          864,
          865,
          866,
          867,
          868,
          869,
          870,
          871,
          872,
          873,
          874,
          875,
          876,
          877,
          878,
          879,
          880,
          881,
          882,
          883,
          884,
          885,
          886,
          887,
          888,
          889,
          890,
          891,
          892,
          893,
          894,
          895,
          896,
          897,
          898,
          899,
          900,
          901,
          902,
          903,
          904,
          905,
          906,
          907,
          908,
          909,
          910,
          911,
          912,
          913,
          914,
          915,
          916,
          917,
          918,
          919,
          920,
          921,
          922,
          923,
          924,
          925,
          926,
          927,
          928,
          929,
          930,
          931,
          932,
          933,
          934,
          935,
          936,
          937,
          938,
          939,
          940,
          941,
          942,
          943,
          944,
          945,
          946,
          947,
          948,
          949,
          950,
          951,
          952,
          953,
          954,
          955,
          956,
          957,
          958,
          959,
          960,
          961,
          962,
          963,
          964,
          965,
          966,
          967,
          968,
          969,
          970,
          971,
          972,
          973,
          974,
          975,
          976,
          977,
          978,
          979,
          980,
          981,
          982,
          983,
          984,
          985,
          986,
          987,
          988,
          989,
          990,
          991,
          992,
          993,
          994,
          995,
          996,
          997,
          998,
          999,
          1000,
          1001,
          1002,
          1003,
          1004,
          1005,
          1006,
          1007,
          1008,
          1009,
          1010,
          1011,
          1012,
          1013,
          1014,
          1015,
          1016,
          1017,
          1018,
          1019,
          1020,
          1021,
          1022,
          1023,
          1024,
          1025,
          1026,
          1027,
          1028,
          1029,
          1030
         ],
         "xaxis": "x",
         "y": [
          1,
          1,
          2,
          1,
          1,
          1,
          1,
          1,
          1,
          1,
          1,
          1,
          1,
          1,
          1,
          1,
          1,
          1,
          1,
          1,
          1,
          1,
          1,
          1,
          1,
          1,
          1,
          1,
          1,
          1,
          1,
          1,
          1,
          1,
          1,
          1,
          1,
          1,
          1,
          1,
          1,
          1,
          1,
          1,
          5,
          1,
          1,
          1,
          1,
          1,
          1,
          2,
          1,
          1,
          1,
          5,
          1,
          1,
          1,
          3,
          1,
          1,
          1,
          1,
          1,
          1,
          2,
          1,
          1,
          1,
          1,
          1,
          1,
          1,
          1,
          1,
          1,
          1,
          1,
          1,
          1,
          1,
          1,
          1,
          2,
          1,
          1,
          1,
          2,
          1,
          1,
          1,
          1,
          1,
          1,
          1,
          1,
          3,
          1,
          1,
          1,
          2,
          1,
          1,
          1,
          1,
          1,
          1,
          1,
          1,
          1,
          1,
          1,
          1,
          4,
          1,
          1,
          1,
          1,
          2,
          1,
          1,
          2,
          1,
          1,
          1,
          1,
          1,
          2,
          1,
          1,
          1,
          1,
          1,
          1,
          1,
          1,
          1,
          1,
          1,
          1,
          1,
          1,
          1,
          1,
          1,
          1,
          1,
          3,
          1,
          1,
          1,
          1,
          1,
          1,
          1,
          1,
          1,
          1,
          1,
          1,
          1,
          1,
          1,
          1,
          1,
          1,
          2,
          1,
          1,
          1,
          1,
          1,
          1,
          1,
          1,
          1,
          1,
          1,
          1,
          1,
          1,
          1,
          1,
          1,
          1,
          2,
          1,
          1,
          1,
          1,
          1,
          2,
          1,
          1,
          1,
          1,
          1,
          1,
          1,
          1,
          1,
          1,
          1,
          1,
          1,
          1,
          1,
          1,
          1,
          1,
          1,
          1,
          1,
          1,
          1,
          1,
          1,
          1,
          1,
          1,
          1,
          1,
          1,
          1,
          1,
          1,
          1,
          1,
          1,
          1,
          1,
          1,
          1,
          1,
          1,
          2,
          1,
          1,
          1,
          1,
          1,
          1,
          1,
          1,
          1,
          1,
          1,
          1,
          1,
          1,
          1,
          1,
          1,
          1,
          1,
          1,
          1,
          1,
          1,
          1,
          1,
          1,
          1,
          1,
          1,
          1,
          1,
          1,
          1,
          1,
          1,
          1,
          1,
          1,
          1,
          1,
          1,
          1,
          1,
          1,
          1,
          1,
          1,
          1,
          1,
          1,
          1,
          1,
          1,
          1,
          1,
          1,
          1,
          1,
          1,
          1,
          1,
          1,
          5,
          1,
          1,
          1,
          1,
          1,
          1,
          1,
          1,
          1,
          1,
          1,
          3,
          1,
          1,
          1,
          1,
          2,
          1,
          2,
          1,
          1,
          1,
          1,
          1,
          1,
          1,
          1,
          1,
          1,
          1,
          1,
          1,
          1,
          1,
          1,
          1,
          1,
          1,
          1,
          2,
          3,
          1,
          1,
          1,
          1,
          1,
          1,
          1,
          1,
          1,
          1,
          1,
          1,
          1,
          1,
          1,
          1,
          1,
          1,
          1,
          1,
          1,
          1,
          1,
          1,
          1,
          1,
          1,
          1,
          1,
          1,
          1,
          1,
          1,
          1,
          1,
          1,
          1,
          1,
          1,
          1,
          1,
          1,
          1,
          1,
          1,
          2,
          1,
          1,
          1,
          1,
          1,
          1,
          4,
          2,
          1,
          1,
          1,
          1,
          2,
          1,
          1,
          2,
          1,
          1,
          1,
          3,
          1,
          1,
          1,
          1,
          1,
          1,
          1,
          1,
          1,
          1,
          1,
          1,
          1,
          1,
          1,
          3,
          1,
          1,
          1,
          1,
          1,
          1,
          2,
          1,
          1,
          1,
          1,
          1,
          1,
          2,
          1,
          1,
          1,
          1,
          1,
          1,
          1,
          1,
          1,
          1,
          1,
          1,
          1,
          1,
          1,
          1,
          1,
          1,
          1,
          1,
          1,
          1,
          1,
          1,
          1,
          1,
          1,
          1,
          1,
          1,
          1,
          1,
          2,
          1,
          1,
          1,
          1,
          1,
          1,
          2,
          1,
          1,
          1,
          1,
          1,
          1,
          2,
          1,
          1,
          1,
          8,
          1,
          1,
          1,
          3,
          1,
          1,
          1,
          1,
          1,
          1,
          1,
          1,
          1,
          1,
          2,
          1,
          3,
          1,
          1,
          1,
          1,
          1,
          1,
          1,
          1,
          1,
          1,
          1,
          1,
          1,
          1,
          1,
          1,
          1,
          1,
          1,
          1,
          1,
          1,
          1,
          1,
          1,
          1,
          1,
          1,
          1,
          1,
          2,
          1,
          1,
          1,
          1,
          1,
          1,
          1,
          1,
          1,
          1,
          1,
          1,
          1,
          1,
          1,
          1,
          1,
          1,
          1,
          2,
          1,
          1,
          1,
          1,
          1,
          1,
          1,
          1,
          1,
          2,
          1,
          1,
          1,
          9,
          1,
          1,
          1,
          1,
          1,
          2,
          1,
          1,
          1,
          1,
          1,
          1,
          1,
          1,
          1,
          1,
          1,
          1,
          1,
          1,
          1,
          11,
          1,
          1,
          1,
          1,
          1,
          1,
          1,
          1,
          1,
          1,
          1,
          1,
          1,
          1,
          1,
          1,
          1,
          1,
          1,
          1,
          1,
          1,
          2,
          1,
          1,
          1,
          1,
          4,
          1,
          1,
          2,
          1,
          1,
          1,
          1,
          1,
          1,
          1,
          1,
          1,
          1,
          1,
          1,
          1,
          1,
          1,
          1,
          2,
          1,
          1,
          1,
          1,
          1,
          1,
          1,
          1,
          2,
          1,
          1,
          1,
          1,
          1,
          1,
          1,
          1,
          2,
          1,
          1,
          1,
          2,
          2,
          2,
          1,
          1,
          1,
          3,
          1,
          2,
          1,
          1,
          1,
          1,
          1,
          1,
          1,
          3,
          1,
          1,
          1,
          1,
          1,
          1,
          1,
          1,
          1,
          1,
          1,
          1,
          1,
          1,
          1,
          1,
          1,
          1,
          1,
          1,
          1,
          1,
          2,
          1,
          1,
          1,
          1,
          1,
          1,
          1,
          1,
          1,
          2,
          1,
          1,
          1,
          1,
          2,
          1,
          1,
          2,
          1,
          1,
          1,
          1,
          1,
          1,
          1,
          3,
          1,
          1,
          1,
          1,
          1,
          1,
          1,
          1,
          1,
          1,
          1,
          1,
          1,
          1,
          1,
          1,
          1,
          5,
          1,
          1,
          1,
          1,
          2,
          1,
          1,
          1,
          1,
          1,
          1,
          1,
          1,
          1,
          1,
          1,
          1,
          1,
          1,
          1,
          1,
          1,
          1,
          1,
          1,
          1,
          1,
          1,
          1,
          1,
          1,
          1,
          1,
          1,
          1,
          1,
          1,
          1,
          1,
          2,
          1,
          1,
          1,
          1,
          1,
          1,
          1,
          2,
          1,
          1,
          1,
          1,
          1,
          1,
          1,
          1,
          1,
          1,
          1,
          1,
          1,
          1,
          1,
          1,
          1,
          1,
          1,
          1,
          1,
          1,
          1,
          1,
          1,
          1,
          1,
          1,
          1,
          2,
          1,
          1,
          1,
          1,
          1,
          1,
          2,
          1,
          1,
          1,
          1,
          2,
          1,
          1,
          1,
          1,
          1,
          1,
          1,
          1,
          1,
          1,
          1,
          1,
          1,
          1,
          2,
          1,
          1,
          1,
          1,
          1,
          1,
          1,
          1,
          1,
          1,
          1,
          1,
          1,
          1,
          1,
          1,
          1,
          1,
          1,
          1,
          1,
          1,
          1,
          1,
          1,
          1,
          1,
          1,
          1,
          1,
          1,
          1,
          1,
          1,
          2,
          1,
          1,
          1,
          1,
          1,
          1,
          1,
          1,
          1,
          1,
          1,
          1,
          5,
          1,
          1,
          1,
          1,
          1,
          1,
          1,
          1,
          1,
          1,
          1,
          2,
          1,
          1,
          1,
          1,
          1,
          1,
          1,
          5,
          1,
          1,
          1,
          1,
          1,
          1,
          1,
          1,
          1,
          1,
          1,
          1,
          1,
          1,
          3,
          1,
          1,
          1,
          1,
          3,
          1,
          1,
          1,
          1,
          1,
          1,
          2,
          1,
          1,
          1,
          2,
          1,
          2,
          1,
          1,
          1,
          2,
          1,
          1,
          2,
          2,
          3,
          2,
          1,
          1,
          3,
          1,
          1,
          1,
          1,
          1,
          1,
          1,
          1,
          1,
          1,
          1,
          1,
          1,
          1,
          1,
          1,
          1,
          1,
          1,
          1,
          2,
          1,
          1,
          1,
          1,
          1,
          1,
          2,
          2,
          1,
          1,
          2,
          1,
          1,
          1,
          1,
          1,
          1,
          1,
          1,
          1,
          1,
          1,
          1,
          1,
          3,
          1,
          1,
          1,
          1,
          1,
          1,
          1,
          1,
          1,
          1,
          1,
          1,
          1,
          11,
          1,
          1,
          2,
          1,
          1,
          1,
          1
         ],
         "yaxis": "y"
        }
       ],
       "layout": {
        "legend": {
         "tracegroupgap": 0
        },
        "margin": {
         "t": 60
        },
        "template": {
         "data": {
          "bar": [
           {
            "error_x": {
             "color": "#2a3f5f"
            },
            "error_y": {
             "color": "#2a3f5f"
            },
            "marker": {
             "line": {
              "color": "#E5ECF6",
              "width": 0.5
             },
             "pattern": {
              "fillmode": "overlay",
              "size": 10,
              "solidity": 0.2
             }
            },
            "type": "bar"
           }
          ],
          "barpolar": [
           {
            "marker": {
             "line": {
              "color": "#E5ECF6",
              "width": 0.5
             },
             "pattern": {
              "fillmode": "overlay",
              "size": 10,
              "solidity": 0.2
             }
            },
            "type": "barpolar"
           }
          ],
          "carpet": [
           {
            "aaxis": {
             "endlinecolor": "#2a3f5f",
             "gridcolor": "white",
             "linecolor": "white",
             "minorgridcolor": "white",
             "startlinecolor": "#2a3f5f"
            },
            "baxis": {
             "endlinecolor": "#2a3f5f",
             "gridcolor": "white",
             "linecolor": "white",
             "minorgridcolor": "white",
             "startlinecolor": "#2a3f5f"
            },
            "type": "carpet"
           }
          ],
          "choropleth": [
           {
            "colorbar": {
             "outlinewidth": 0,
             "ticks": ""
            },
            "type": "choropleth"
           }
          ],
          "contour": [
           {
            "colorbar": {
             "outlinewidth": 0,
             "ticks": ""
            },
            "colorscale": [
             [
              0,
              "#0d0887"
             ],
             [
              0.1111111111111111,
              "#46039f"
             ],
             [
              0.2222222222222222,
              "#7201a8"
             ],
             [
              0.3333333333333333,
              "#9c179e"
             ],
             [
              0.4444444444444444,
              "#bd3786"
             ],
             [
              0.5555555555555556,
              "#d8576b"
             ],
             [
              0.6666666666666666,
              "#ed7953"
             ],
             [
              0.7777777777777778,
              "#fb9f3a"
             ],
             [
              0.8888888888888888,
              "#fdca26"
             ],
             [
              1,
              "#f0f921"
             ]
            ],
            "type": "contour"
           }
          ],
          "contourcarpet": [
           {
            "colorbar": {
             "outlinewidth": 0,
             "ticks": ""
            },
            "type": "contourcarpet"
           }
          ],
          "heatmap": [
           {
            "colorbar": {
             "outlinewidth": 0,
             "ticks": ""
            },
            "colorscale": [
             [
              0,
              "#0d0887"
             ],
             [
              0.1111111111111111,
              "#46039f"
             ],
             [
              0.2222222222222222,
              "#7201a8"
             ],
             [
              0.3333333333333333,
              "#9c179e"
             ],
             [
              0.4444444444444444,
              "#bd3786"
             ],
             [
              0.5555555555555556,
              "#d8576b"
             ],
             [
              0.6666666666666666,
              "#ed7953"
             ],
             [
              0.7777777777777778,
              "#fb9f3a"
             ],
             [
              0.8888888888888888,
              "#fdca26"
             ],
             [
              1,
              "#f0f921"
             ]
            ],
            "type": "heatmap"
           }
          ],
          "heatmapgl": [
           {
            "colorbar": {
             "outlinewidth": 0,
             "ticks": ""
            },
            "colorscale": [
             [
              0,
              "#0d0887"
             ],
             [
              0.1111111111111111,
              "#46039f"
             ],
             [
              0.2222222222222222,
              "#7201a8"
             ],
             [
              0.3333333333333333,
              "#9c179e"
             ],
             [
              0.4444444444444444,
              "#bd3786"
             ],
             [
              0.5555555555555556,
              "#d8576b"
             ],
             [
              0.6666666666666666,
              "#ed7953"
             ],
             [
              0.7777777777777778,
              "#fb9f3a"
             ],
             [
              0.8888888888888888,
              "#fdca26"
             ],
             [
              1,
              "#f0f921"
             ]
            ],
            "type": "heatmapgl"
           }
          ],
          "histogram": [
           {
            "marker": {
             "pattern": {
              "fillmode": "overlay",
              "size": 10,
              "solidity": 0.2
             }
            },
            "type": "histogram"
           }
          ],
          "histogram2d": [
           {
            "colorbar": {
             "outlinewidth": 0,
             "ticks": ""
            },
            "colorscale": [
             [
              0,
              "#0d0887"
             ],
             [
              0.1111111111111111,
              "#46039f"
             ],
             [
              0.2222222222222222,
              "#7201a8"
             ],
             [
              0.3333333333333333,
              "#9c179e"
             ],
             [
              0.4444444444444444,
              "#bd3786"
             ],
             [
              0.5555555555555556,
              "#d8576b"
             ],
             [
              0.6666666666666666,
              "#ed7953"
             ],
             [
              0.7777777777777778,
              "#fb9f3a"
             ],
             [
              0.8888888888888888,
              "#fdca26"
             ],
             [
              1,
              "#f0f921"
             ]
            ],
            "type": "histogram2d"
           }
          ],
          "histogram2dcontour": [
           {
            "colorbar": {
             "outlinewidth": 0,
             "ticks": ""
            },
            "colorscale": [
             [
              0,
              "#0d0887"
             ],
             [
              0.1111111111111111,
              "#46039f"
             ],
             [
              0.2222222222222222,
              "#7201a8"
             ],
             [
              0.3333333333333333,
              "#9c179e"
             ],
             [
              0.4444444444444444,
              "#bd3786"
             ],
             [
              0.5555555555555556,
              "#d8576b"
             ],
             [
              0.6666666666666666,
              "#ed7953"
             ],
             [
              0.7777777777777778,
              "#fb9f3a"
             ],
             [
              0.8888888888888888,
              "#fdca26"
             ],
             [
              1,
              "#f0f921"
             ]
            ],
            "type": "histogram2dcontour"
           }
          ],
          "mesh3d": [
           {
            "colorbar": {
             "outlinewidth": 0,
             "ticks": ""
            },
            "type": "mesh3d"
           }
          ],
          "parcoords": [
           {
            "line": {
             "colorbar": {
              "outlinewidth": 0,
              "ticks": ""
             }
            },
            "type": "parcoords"
           }
          ],
          "pie": [
           {
            "automargin": true,
            "type": "pie"
           }
          ],
          "scatter": [
           {
            "marker": {
             "colorbar": {
              "outlinewidth": 0,
              "ticks": ""
             }
            },
            "type": "scatter"
           }
          ],
          "scatter3d": [
           {
            "line": {
             "colorbar": {
              "outlinewidth": 0,
              "ticks": ""
             }
            },
            "marker": {
             "colorbar": {
              "outlinewidth": 0,
              "ticks": ""
             }
            },
            "type": "scatter3d"
           }
          ],
          "scattercarpet": [
           {
            "marker": {
             "colorbar": {
              "outlinewidth": 0,
              "ticks": ""
             }
            },
            "type": "scattercarpet"
           }
          ],
          "scattergeo": [
           {
            "marker": {
             "colorbar": {
              "outlinewidth": 0,
              "ticks": ""
             }
            },
            "type": "scattergeo"
           }
          ],
          "scattergl": [
           {
            "marker": {
             "colorbar": {
              "outlinewidth": 0,
              "ticks": ""
             }
            },
            "type": "scattergl"
           }
          ],
          "scattermapbox": [
           {
            "marker": {
             "colorbar": {
              "outlinewidth": 0,
              "ticks": ""
             }
            },
            "type": "scattermapbox"
           }
          ],
          "scatterpolar": [
           {
            "marker": {
             "colorbar": {
              "outlinewidth": 0,
              "ticks": ""
             }
            },
            "type": "scatterpolar"
           }
          ],
          "scatterpolargl": [
           {
            "marker": {
             "colorbar": {
              "outlinewidth": 0,
              "ticks": ""
             }
            },
            "type": "scatterpolargl"
           }
          ],
          "scatterternary": [
           {
            "marker": {
             "colorbar": {
              "outlinewidth": 0,
              "ticks": ""
             }
            },
            "type": "scatterternary"
           }
          ],
          "surface": [
           {
            "colorbar": {
             "outlinewidth": 0,
             "ticks": ""
            },
            "colorscale": [
             [
              0,
              "#0d0887"
             ],
             [
              0.1111111111111111,
              "#46039f"
             ],
             [
              0.2222222222222222,
              "#7201a8"
             ],
             [
              0.3333333333333333,
              "#9c179e"
             ],
             [
              0.4444444444444444,
              "#bd3786"
             ],
             [
              0.5555555555555556,
              "#d8576b"
             ],
             [
              0.6666666666666666,
              "#ed7953"
             ],
             [
              0.7777777777777778,
              "#fb9f3a"
             ],
             [
              0.8888888888888888,
              "#fdca26"
             ],
             [
              1,
              "#f0f921"
             ]
            ],
            "type": "surface"
           }
          ],
          "table": [
           {
            "cells": {
             "fill": {
              "color": "#EBF0F8"
             },
             "line": {
              "color": "white"
             }
            },
            "header": {
             "fill": {
              "color": "#C8D4E3"
             },
             "line": {
              "color": "white"
             }
            },
            "type": "table"
           }
          ]
         },
         "layout": {
          "annotationdefaults": {
           "arrowcolor": "#2a3f5f",
           "arrowhead": 0,
           "arrowwidth": 1
          },
          "autotypenumbers": "strict",
          "coloraxis": {
           "colorbar": {
            "outlinewidth": 0,
            "ticks": ""
           }
          },
          "colorscale": {
           "diverging": [
            [
             0,
             "#8e0152"
            ],
            [
             0.1,
             "#c51b7d"
            ],
            [
             0.2,
             "#de77ae"
            ],
            [
             0.3,
             "#f1b6da"
            ],
            [
             0.4,
             "#fde0ef"
            ],
            [
             0.5,
             "#f7f7f7"
            ],
            [
             0.6,
             "#e6f5d0"
            ],
            [
             0.7,
             "#b8e186"
            ],
            [
             0.8,
             "#7fbc41"
            ],
            [
             0.9,
             "#4d9221"
            ],
            [
             1,
             "#276419"
            ]
           ],
           "sequential": [
            [
             0,
             "#0d0887"
            ],
            [
             0.1111111111111111,
             "#46039f"
            ],
            [
             0.2222222222222222,
             "#7201a8"
            ],
            [
             0.3333333333333333,
             "#9c179e"
            ],
            [
             0.4444444444444444,
             "#bd3786"
            ],
            [
             0.5555555555555556,
             "#d8576b"
            ],
            [
             0.6666666666666666,
             "#ed7953"
            ],
            [
             0.7777777777777778,
             "#fb9f3a"
            ],
            [
             0.8888888888888888,
             "#fdca26"
            ],
            [
             1,
             "#f0f921"
            ]
           ],
           "sequentialminus": [
            [
             0,
             "#0d0887"
            ],
            [
             0.1111111111111111,
             "#46039f"
            ],
            [
             0.2222222222222222,
             "#7201a8"
            ],
            [
             0.3333333333333333,
             "#9c179e"
            ],
            [
             0.4444444444444444,
             "#bd3786"
            ],
            [
             0.5555555555555556,
             "#d8576b"
            ],
            [
             0.6666666666666666,
             "#ed7953"
            ],
            [
             0.7777777777777778,
             "#fb9f3a"
            ],
            [
             0.8888888888888888,
             "#fdca26"
            ],
            [
             1,
             "#f0f921"
            ]
           ]
          },
          "colorway": [
           "#636efa",
           "#EF553B",
           "#00cc96",
           "#ab63fa",
           "#FFA15A",
           "#19d3f3",
           "#FF6692",
           "#B6E880",
           "#FF97FF",
           "#FECB52"
          ],
          "font": {
           "color": "#2a3f5f"
          },
          "geo": {
           "bgcolor": "white",
           "lakecolor": "white",
           "landcolor": "#E5ECF6",
           "showlakes": true,
           "showland": true,
           "subunitcolor": "white"
          },
          "hoverlabel": {
           "align": "left"
          },
          "hovermode": "closest",
          "mapbox": {
           "style": "light"
          },
          "paper_bgcolor": "white",
          "plot_bgcolor": "#E5ECF6",
          "polar": {
           "angularaxis": {
            "gridcolor": "white",
            "linecolor": "white",
            "ticks": ""
           },
           "bgcolor": "#E5ECF6",
           "radialaxis": {
            "gridcolor": "white",
            "linecolor": "white",
            "ticks": ""
           }
          },
          "scene": {
           "xaxis": {
            "backgroundcolor": "#E5ECF6",
            "gridcolor": "white",
            "gridwidth": 2,
            "linecolor": "white",
            "showbackground": true,
            "ticks": "",
            "zerolinecolor": "white"
           },
           "yaxis": {
            "backgroundcolor": "#E5ECF6",
            "gridcolor": "white",
            "gridwidth": 2,
            "linecolor": "white",
            "showbackground": true,
            "ticks": "",
            "zerolinecolor": "white"
           },
           "zaxis": {
            "backgroundcolor": "#E5ECF6",
            "gridcolor": "white",
            "gridwidth": 2,
            "linecolor": "white",
            "showbackground": true,
            "ticks": "",
            "zerolinecolor": "white"
           }
          },
          "shapedefaults": {
           "line": {
            "color": "#2a3f5f"
           }
          },
          "ternary": {
           "aaxis": {
            "gridcolor": "white",
            "linecolor": "white",
            "ticks": ""
           },
           "baxis": {
            "gridcolor": "white",
            "linecolor": "white",
            "ticks": ""
           },
           "bgcolor": "#E5ECF6",
           "caxis": {
            "gridcolor": "white",
            "linecolor": "white",
            "ticks": ""
           }
          },
          "title": {
           "x": 0.05
          },
          "xaxis": {
           "automargin": true,
           "gridcolor": "white",
           "linecolor": "white",
           "ticks": "",
           "title": {
            "standoff": 15
           },
           "zerolinecolor": "white",
           "zerolinewidth": 2
          },
          "yaxis": {
           "automargin": true,
           "gridcolor": "white",
           "linecolor": "white",
           "ticks": "",
           "title": {
            "standoff": 15
           },
           "zerolinecolor": "white",
           "zerolinewidth": 2
          }
         }
        },
        "title": {
         "text": "Количество заказов пользователей"
        },
        "width": 800,
        "xaxis": {
         "anchor": "y",
         "domain": [
          0,
          1
         ],
         "title": {
          "text": "номер заказа"
         }
        },
        "yaxis": {
         "anchor": "x",
         "domain": [
          0,
          1
         ],
         "title": {
          "text": "число заказов"
         }
        }
       }
      }
     },
     "metadata": {},
     "output_type": "display_data"
    }
   ],
   "source": [
    "fig = px.scatter(count_orders,\n",
    "                 y='count_orders',\n",
    "                 labels={\n",
    "                         'count_orders': 'число заказов',\n",
    "                         'index': 'номер заказа'\n",
    "                         }\n",
    "                 )\n",
    "\n",
    "fig.update_layout(width=800,\n",
    "                  title='Количество заказов пользователей')"
   ]
  },
  {
   "cell_type": "markdown",
   "metadata": {},
   "source": [
    "Видно что пользователи совершали даже 11 покупок. Выясним сколько на самом деле совершают заказов пользователи"
   ]
  },
  {
   "cell_type": "markdown",
   "metadata": {},
   "source": [
    "найдем 95 и 99 перцентили"
   ]
  },
  {
   "cell_type": "code",
   "execution_count": 234,
   "metadata": {
    "trusted": true
   },
   "outputs": [
    {
     "data": {
      "text/plain": [
       "array([2., 4.])"
      ]
     },
     "execution_count": 234,
     "metadata": {},
     "output_type": "execute_result"
    }
   ],
   "source": [
    "bound_count_orders = np.percentile(\n",
    "    count_orders['count_orders'],\n",
    "    [95, 99]\n",
    ")\n",
    "\n",
    "\n",
    "\n",
    "bound_count_orders"
   ]
  },
  {
   "cell_type": "markdown",
   "metadata": {},
   "source": [
    "выходит что 95 % пользователей совершают 2 заказа    \n",
    "а 99 % - менее 4 заказов"
   ]
  },
  {
   "cell_type": "markdown",
   "metadata": {},
   "source": [
    "Выберем границей нормального числа заказов -  4"
   ]
  },
  {
   "cell_type": "code",
   "execution_count": 192,
   "metadata": {
    "trusted": true
   },
   "outputs": [],
   "source": [
    "bound_normal_orders = bound_count_orders[1]"
   ]
  },
  {
   "cell_type": "markdown",
   "metadata": {},
   "source": [
    "### Стоимость заказов пользователей"
   ]
  },
  {
   "cell_type": "markdown",
   "metadata": {},
   "source": [
    "Посмотрим на стоимости заказов пользователей , наверняка есть что-то дорогое"
   ]
  },
  {
   "cell_type": "markdown",
   "metadata": {},
   "source": [
    "сторим соответсвующий график"
   ]
  },
  {
   "cell_type": "code",
   "execution_count": null,
   "metadata": {
    "trusted": true
   },
   "outputs": [
    {
     "data": {
      "application/vnd.plotly.v1+json": {
       "config": {
        "plotlyServerURL": "https://plot.ly"
       },
       "data": [
        {
         "hovertemplate": "заказы=%{x}<br>стоимость=%{y}<extra></extra>",
         "legendgroup": "",
         "marker": {
          "color": "#636efa",
          "symbol": "circle"
         },
         "mode": "markers",
         "name": "",
         "showlegend": false,
         "type": "scattergl",
         "x": [
          0,
          1,
          2,
          3,
          4,
          5,
          6,
          7,
          8,
          9,
          10,
          11,
          12,
          13,
          14,
          15,
          16,
          17,
          18,
          19,
          20,
          21,
          22,
          23,
          24,
          25,
          26,
          27,
          28,
          29,
          30,
          31,
          32,
          33,
          34,
          35,
          36,
          37,
          38,
          39,
          40,
          41,
          42,
          43,
          44,
          45,
          46,
          47,
          48,
          49,
          50,
          51,
          52,
          53,
          54,
          55,
          56,
          57,
          58,
          59,
          60,
          61,
          62,
          63,
          64,
          65,
          66,
          67,
          68,
          69,
          70,
          71,
          72,
          73,
          74,
          75,
          76,
          77,
          78,
          79,
          80,
          81,
          82,
          83,
          84,
          85,
          86,
          87,
          88,
          89,
          90,
          91,
          92,
          93,
          94,
          95,
          96,
          97,
          98,
          99,
          100,
          101,
          102,
          103,
          104,
          105,
          106,
          107,
          108,
          109,
          110,
          111,
          112,
          113,
          114,
          115,
          116,
          117,
          118,
          119,
          120,
          121,
          122,
          123,
          124,
          125,
          126,
          127,
          128,
          129,
          130,
          131,
          132,
          133,
          134,
          135,
          136,
          137,
          138,
          139,
          140,
          141,
          142,
          143,
          144,
          145,
          146,
          147,
          148,
          149,
          150,
          151,
          152,
          153,
          154,
          155,
          156,
          157,
          158,
          159,
          160,
          161,
          162,
          163,
          164,
          165,
          166,
          167,
          168,
          169,
          170,
          171,
          172,
          173,
          174,
          175,
          176,
          177,
          178,
          179,
          180,
          181,
          182,
          183,
          184,
          185,
          186,
          187,
          188,
          189,
          190,
          191,
          192,
          193,
          194,
          195,
          196,
          197,
          198,
          199,
          200,
          201,
          202,
          203,
          204,
          205,
          206,
          207,
          208,
          209,
          210,
          211,
          212,
          213,
          214,
          215,
          216,
          217,
          218,
          219,
          220,
          221,
          222,
          223,
          224,
          225,
          226,
          227,
          228,
          229,
          230,
          231,
          232,
          233,
          234,
          235,
          236,
          237,
          238,
          239,
          240,
          241,
          242,
          243,
          244,
          245,
          246,
          247,
          248,
          249,
          250,
          251,
          252,
          253,
          254,
          255,
          256,
          257,
          258,
          259,
          260,
          261,
          262,
          263,
          264,
          265,
          266,
          267,
          268,
          269,
          270,
          271,
          272,
          273,
          274,
          275,
          276,
          277,
          278,
          279,
          280,
          281,
          282,
          283,
          284,
          285,
          286,
          287,
          288,
          289,
          290,
          291,
          292,
          293,
          294,
          295,
          296,
          297,
          298,
          299,
          300,
          301,
          302,
          303,
          304,
          305,
          306,
          307,
          308,
          309,
          310,
          311,
          312,
          313,
          314,
          315,
          316,
          317,
          318,
          319,
          320,
          321,
          322,
          323,
          324,
          325,
          326,
          327,
          328,
          329,
          330,
          331,
          332,
          333,
          334,
          335,
          336,
          337,
          338,
          339,
          340,
          341,
          342,
          343,
          344,
          345,
          346,
          347,
          348,
          349,
          350,
          351,
          352,
          353,
          354,
          355,
          356,
          357,
          358,
          359,
          360,
          361,
          362,
          363,
          364,
          365,
          366,
          367,
          368,
          369,
          370,
          371,
          372,
          373,
          374,
          375,
          376,
          377,
          378,
          379,
          380,
          381,
          382,
          383,
          384,
          385,
          386,
          387,
          388,
          389,
          390,
          391,
          392,
          393,
          394,
          395,
          396,
          397,
          398,
          399,
          400,
          401,
          402,
          403,
          404,
          405,
          406,
          407,
          408,
          409,
          410,
          411,
          412,
          413,
          414,
          415,
          416,
          417,
          418,
          419,
          420,
          421,
          422,
          423,
          424,
          425,
          426,
          427,
          428,
          429,
          430,
          431,
          432,
          433,
          434,
          435,
          436,
          437,
          438,
          439,
          440,
          441,
          442,
          443,
          444,
          445,
          446,
          447,
          448,
          449,
          450,
          451,
          452,
          453,
          454,
          455,
          456,
          457,
          458,
          459,
          460,
          461,
          462,
          463,
          464,
          465,
          466,
          467,
          468,
          469,
          470,
          471,
          472,
          473,
          474,
          475,
          476,
          477,
          478,
          479,
          480,
          481,
          482,
          483,
          484,
          485,
          486,
          487,
          488,
          489,
          490,
          491,
          492,
          493,
          494,
          495,
          496,
          497,
          498,
          499,
          500,
          501,
          502,
          503,
          504,
          505,
          506,
          507,
          508,
          509,
          510,
          511,
          512,
          513,
          514,
          515,
          516,
          517,
          518,
          519,
          520,
          521,
          522,
          523,
          524,
          525,
          526,
          527,
          528,
          529,
          530,
          531,
          532,
          533,
          534,
          535,
          536,
          537,
          538,
          539,
          540,
          541,
          542,
          543,
          544,
          545,
          546,
          547,
          548,
          549,
          550,
          551,
          552,
          553,
          554,
          555,
          556,
          557,
          558,
          559,
          560,
          561,
          562,
          563,
          564,
          565,
          566,
          567,
          568,
          569,
          570,
          571,
          572,
          573,
          574,
          575,
          576,
          577,
          578,
          579,
          580,
          581,
          582,
          583,
          584,
          585,
          586,
          587,
          588,
          589,
          590,
          591,
          592,
          593,
          594,
          595,
          596,
          597,
          598,
          599,
          600,
          601,
          602,
          603,
          604,
          605,
          606,
          607,
          608,
          609,
          610,
          611,
          612,
          613,
          614,
          615,
          616,
          617,
          618,
          619,
          620,
          621,
          622,
          623,
          624,
          625,
          626,
          627,
          628,
          629,
          630,
          631,
          632,
          633,
          634,
          635,
          636,
          637,
          638,
          639,
          640,
          641,
          642,
          643,
          644,
          645,
          646,
          647,
          648,
          649,
          650,
          651,
          652,
          653,
          654,
          655,
          656,
          657,
          658,
          659,
          660,
          661,
          662,
          663,
          664,
          665,
          666,
          667,
          668,
          669,
          670,
          671,
          672,
          673,
          674,
          675,
          676,
          677,
          678,
          679,
          680,
          681,
          682,
          683,
          684,
          685,
          686,
          687,
          688,
          689,
          690,
          691,
          692,
          693,
          694,
          695,
          696,
          697,
          698,
          699,
          700,
          701,
          702,
          703,
          704,
          705,
          706,
          707,
          708,
          709,
          710,
          711,
          712,
          713,
          714,
          715,
          716,
          717,
          718,
          719,
          720,
          721,
          722,
          723,
          724,
          725,
          726,
          727,
          728,
          729,
          730,
          731,
          732,
          733,
          734,
          735,
          736,
          737,
          738,
          739,
          740,
          741,
          742,
          743,
          744,
          745,
          746,
          747,
          748,
          749,
          750,
          751,
          752,
          753,
          754,
          755,
          756,
          757,
          758,
          759,
          760,
          761,
          762,
          763,
          764,
          765,
          766,
          767,
          768,
          769,
          770,
          771,
          772,
          773,
          774,
          775,
          776,
          777,
          778,
          779,
          780,
          781,
          782,
          783,
          784,
          785,
          786,
          787,
          788,
          789,
          790,
          791,
          792,
          793,
          794,
          795,
          796,
          797,
          798,
          799,
          800,
          801,
          802,
          803,
          804,
          805,
          806,
          807,
          808,
          809,
          810,
          811,
          812,
          813,
          814,
          815,
          816,
          817,
          818,
          819,
          820,
          821,
          822,
          823,
          824,
          825,
          826,
          827,
          828,
          829,
          830,
          831,
          832,
          833,
          834,
          835,
          836,
          837,
          838,
          839,
          840,
          841,
          842,
          843,
          844,
          845,
          846,
          847,
          848,
          849,
          850,
          851,
          852,
          853,
          854,
          855,
          856,
          857,
          858,
          859,
          860,
          861,
          862,
          863,
          864,
          865,
          866,
          867,
          868,
          869,
          870,
          871,
          872,
          873,
          874,
          875,
          876,
          877,
          878,
          879,
          880,
          881,
          882,
          883,
          884,
          885,
          886,
          887,
          888,
          889,
          890,
          891,
          892,
          893,
          894,
          895,
          896,
          897,
          898,
          899,
          900,
          901,
          902,
          903,
          904,
          905,
          906,
          907,
          908,
          909,
          910,
          911,
          912,
          913,
          914,
          915,
          916,
          917,
          918,
          919,
          920,
          921,
          922,
          923,
          924,
          925,
          926,
          927,
          928,
          929,
          930,
          931,
          932,
          933,
          934,
          935,
          936,
          937,
          938,
          939,
          940,
          941,
          942,
          943,
          944,
          945,
          946,
          947,
          948,
          949,
          950,
          951,
          952,
          953,
          954,
          955,
          956,
          957,
          958,
          959,
          960,
          961,
          962,
          963,
          964,
          965,
          966,
          967,
          968,
          969,
          970,
          971,
          972,
          973,
          974,
          975,
          976,
          977,
          978,
          979,
          980,
          981,
          982,
          983,
          984,
          985,
          986,
          987,
          988,
          989,
          990,
          991,
          992,
          993,
          994,
          995,
          996,
          997,
          998,
          999,
          1000,
          1001,
          1002,
          1003,
          1004,
          1005,
          1006,
          1007,
          1008,
          1009,
          1010,
          1011,
          1012,
          1013,
          1014,
          1015,
          1016,
          1017,
          1018,
          1019,
          1020,
          1021,
          1022,
          1023,
          1024,
          1025,
          1026,
          1027,
          1028,
          1029,
          1030,
          1031,
          1032,
          1033,
          1034,
          1035,
          1036,
          1037,
          1038,
          1039,
          1040,
          1041,
          1042,
          1043,
          1044,
          1045,
          1046,
          1047,
          1048,
          1049,
          1050,
          1051,
          1052,
          1053,
          1054,
          1055,
          1056,
          1057,
          1058,
          1059,
          1060,
          1061,
          1062,
          1063,
          1064,
          1065,
          1066,
          1067,
          1068,
          1069,
          1070,
          1071,
          1072,
          1073,
          1074,
          1075,
          1076,
          1077,
          1078,
          1079,
          1080,
          1081,
          1082,
          1083,
          1084,
          1085,
          1086,
          1087,
          1088,
          1089,
          1090,
          1091,
          1092,
          1093,
          1094,
          1095,
          1096,
          1097,
          1098,
          1099,
          1100,
          1101,
          1102,
          1103,
          1104,
          1105,
          1106,
          1107,
          1108,
          1109,
          1110,
          1111,
          1112,
          1113,
          1114,
          1115,
          1116,
          1117,
          1118,
          1119,
          1120,
          1121,
          1122,
          1123,
          1124,
          1125,
          1126,
          1127,
          1128,
          1129,
          1130,
          1131,
          1132,
          1133,
          1134,
          1135,
          1136,
          1137,
          1138,
          1139,
          1140,
          1141,
          1142,
          1143,
          1144,
          1145,
          1146,
          1147,
          1148,
          1149,
          1150,
          1151,
          1152,
          1153,
          1154,
          1155,
          1156,
          1157,
          1158,
          1159,
          1160,
          1161,
          1162,
          1163,
          1164,
          1165,
          1166,
          1167,
          1168,
          1169,
          1170,
          1171,
          1172,
          1173,
          1174,
          1175,
          1176,
          1177,
          1178,
          1179,
          1180,
          1181,
          1182,
          1183,
          1184,
          1185,
          1186,
          1187,
          1188,
          1189,
          1190,
          1191,
          1192,
          1193,
          1194,
          1195,
          1196
         ],
         "xaxis": "x",
         "y": [
          1650,
          730,
          400,
          9759,
          2308,
          2210,
          1860,
          1044,
          13710,
          1855,
          4008,
          4499,
          7370,
          11985,
          10980,
          15277,
          1060,
          990,
          16490,
          1190,
          300,
          1050,
          632,
          15185,
          7555,
          300,
          3488,
          7620,
          5280,
          700,
          190,
          383,
          1680,
          1650,
          22785,
          2355,
          2470,
          6250,
          19260,
          610,
          2986,
          1090,
          9290,
          2480,
          3000,
          2140,
          3590,
          6990,
          1250,
          3488,
          2970,
          18100,
          400,
          400,
          100,
          2750,
          570,
          2978,
          1440,
          7860,
          56650,
          790,
          400,
          1350,
          2540,
          1710,
          2350,
          2540,
          14610,
          19260,
          8999,
          10510,
          700,
          29499,
          780,
          890,
          4400,
          32350,
          40740,
          2490,
          2080,
          5400,
          5100,
          4020,
          690,
          12350,
          1290,
          382,
          190,
          2110,
          1490,
          17868,
          1940,
          26550,
          5970,
          987,
          9024,
          5555,
          7129,
          300,
          3240,
          2350,
          2995,
          2550,
          17600,
          850,
          5365,
          8390,
          5870,
          5020,
          6990,
          14489,
          8470,
          1630,
          5800,
          172,
          6230,
          760,
          3390,
          4480,
          4480,
          1139,
          12336,
          1450,
          4480,
          7990,
          5099,
          9400,
          6441,
          3070,
          6145,
          53904,
          6922,
          5190,
          6976,
          7690,
          426,
          28490,
          390,
          7990,
          1190,
          299,
          1490,
          6329,
          2750,
          8800,
          2990,
          990,
          300,
          9448,
          2920,
          426,
          9980,
          1790,
          4970,
          3760,
          8090,
          400,
          11990,
          990,
          18900,
          6420,
          1990,
          650,
          1440,
          6990,
          436,
          1038,
          1780,
          1940,
          3564,
          3340,
          5480,
          38160,
          2800,
          3040,
          995,
          2750,
          3210,
          310,
          2090,
          3468,
          778,
          5740,
          4580,
          1840,
          3488,
          1550,
          17990,
          290,
          6940,
          1690,
          890,
          5369,
          11115,
          165,
          2646,
          2220,
          1690,
          2190,
          2845,
          1799,
          1498,
          9850,
          6700,
          500,
          2640,
          4717,
          30649,
          5640,
          100,
          2350,
          2820,
          2750,
          17422,
          14155,
          4185,
          1680,
          2210,
          10960,
          2350,
          1140,
          1310,
          2490,
          1380,
          10791,
          9310,
          3470,
          2955,
          15850,
          27550,
          15485,
          2646,
          6201,
          2320,
          599,
          660,
          6149,
          2938,
          10590,
          110,
          2350,
          12810,
          9880,
          920,
          1190,
          3488,
          15417,
          950,
          7555,
          2339,
          3190,
          2360,
          16950,
          34340,
          500,
          1620,
          14271,
          1920,
          380,
          2355,
          8240,
          282,
          10970,
          170,
          1922,
          14400,
          19538,
          10450,
          2480,
          290,
          2290,
          1830,
          33970,
          1100,
          1940,
          2290,
          4877,
          12680,
          860,
          3354,
          1000,
          1990,
          1100,
          990,
          6890,
          19260,
          53904,
          1990,
          2210,
          426,
          4299,
          12562,
          420,
          23750,
          6350,
          490,
          22040,
          2950,
          1630,
          2342,
          5622,
          7485,
          390,
          1200,
          1190,
          2057,
          76,
          1900,
          2690,
          20219,
          4195,
          990,
          490,
          830,
          2330,
          2490,
          2526,
          11985,
          1435,
          1460,
          1090,
          250,
          1990,
          6194,
          3460,
          780,
          5070,
          8850,
          1410,
          890,
          300,
          1758,
          790,
          1220,
          987,
          8000,
          610,
          15072,
          41450,
          1990,
          760,
          690,
          5870,
          1530,
          1290,
          1390,
          4370,
          420,
          2820,
          6000,
          400,
          2580,
          1860,
          5160,
          6536,
          5000,
          14970,
          9080,
          910,
          8850,
          16770,
          2190,
          2500,
          1590,
          380,
          16770,
          3990,
          20026,
          12470,
          2540,
          4980,
          390,
          490,
          16680,
          16480,
          4780,
          3450,
          5415,
          16279,
          2385,
          120,
          2540,
          1490,
          4980,
          1398,
          20990,
          1450,
          5539,
          4008,
          270,
          21220,
          2640,
          1253,
          12550,
          880,
          9990,
          690,
          3890,
          9990,
          5555,
          19240,
          3080,
          460,
          70,
          870,
          26980,
          9990,
          13990,
          570,
          780,
          24744,
          990,
          4500,
          270,
          8870,
          600,
          440,
          750,
          1950,
          37550,
          31680,
          9490,
          11249,
          470,
          1294500,
          2630,
          1460,
          4930,
          1100,
          3150,
          17650,
          5450,
          5770,
          1575,
          20450,
          11050,
          2000,
          2255,
          170,
          1999,
          2955,
          490,
          7300,
          18464,
          390,
          6677,
          2890,
          2970,
          6248,
          1460,
          490,
          5270,
          4485,
          7349,
          3070,
          1620,
          3030,
          1290,
          50,
          3190,
          26550,
          9232,
          16480,
          1790,
          9934,
          2840,
          400,
          1490,
          8990,
          8780,
          2490,
          1990,
          4410,
          1000,
          350,
          300,
          19280,
          13769,
          2190,
          1530,
          30649,
          1790,
          6681,
          6260,
          390,
          1130,
          1490,
          1650,
          11135,
          20100,
          2722,
          8885,
          8585,
          1980,
          10195,
          30990,
          2490,
          2359,
          9448,
          1220,
          490,
          320,
          990,
          2590,
          2550,
          8250,
          580,
          5350,
          3140,
          1910,
          17379,
          4840,
          6930,
          5690,
          1690,
          6090,
          990,
          3140,
          390,
          740,
          10440,
          3390,
          4880,
          6590,
          21550,
          500,
          33405,
          750,
          3525,
          43990,
          13390,
          9934,
          697,
          4495,
          8401,
          20219,
          390,
          4880,
          6382,
          1090,
          2285,
          10485,
          6288,
          11711,
          17990,
          3950,
          25080,
          1580,
          35485,
          9750,
          27490,
          1510,
          1850,
          890,
          4499,
          4990,
          3650,
          4990,
          890,
          1530,
          2480,
          33050,
          35485,
          990,
          2355,
          5530,
          1490,
          27600,
          1893,
          31350,
          360,
          1990,
          1490,
          300,
          5249,
          6716,
          2800,
          1530,
          3559,
          19260,
          5790,
          1758,
          604,
          50,
          4008,
          3488,
          1290,
          17650,
          5740,
          1290,
          3550,
          240,
          2235,
          10550,
          4690,
          12888,
          7995,
          3220,
          2840,
          495,
          740,
          265,
          4790,
          13990,
          2540,
          480,
          1721,
          12550,
          5020,
          2830,
          340,
          1870,
          53904,
          11990,
          1850,
          1990,
          6990,
          1060,
          17990,
          1290,
          26550,
          19280,
          2670,
          2420,
          3261,
          1634,
          39800,
          400,
          12990,
          25890,
          18990,
          3826,
          16950,
          18010,
          10250,
          4990,
          17030,
          3040,
          5119,
          15485,
          110,
          9870,
          13860,
          1530,
          8877,
          4620,
          9490,
          43690,
          19260,
          1846,
          90,
          4190,
          1530,
          34550,
          10765,
          390,
          7024,
          17990,
          4698,
          2030,
          2690,
          78990,
          2590,
          4877,
          10850,
          1250,
          550,
          2630,
          16990,
          620,
          654,
          6613,
          10160,
          6400,
          6440,
          1690,
          27390,
          1950,
          2050,
          1680,
          17990,
          78990,
          540,
          42740,
          9680,
          5150,
          1530,
          2950,
          410,
          17990,
          3680,
          5227,
          590,
          9290,
          5776,
          2390,
          30649,
          14495,
          890,
          2070,
          1190,
          2555,
          1790,
          19520,
          11688,
          3590,
          4180,
          1399,
          45880,
          10550,
          3050,
          2390,
          470,
          295,
          17792,
          470,
          3590,
          24381,
          690,
          390,
          1805,
          6990,
          28350,
          2955,
          1490,
          3190,
          17379,
          29499,
          6170,
          7300,
          2590,
          3650,
          4990,
          9850,
          3270,
          14489,
          2960,
          1020,
          10137,
          580,
          3354,
          14490,
          67990,
          86620,
          4900,
          49495,
          890,
          690,
          19260,
          3170,
          37150,
          390,
          19660,
          2580,
          45780,
          50,
          24860,
          1737,
          1040,
          1090,
          990,
          5690,
          9690,
          1149,
          990,
          5490,
          750,
          2355,
          590,
          1870,
          1460,
          1640,
          9232,
          2550,
          390,
          840,
          12490,
          4740,
          3480,
          785,
          7890,
          2600,
          16480,
          4990,
          3739,
          3190,
          900,
          3888,
          1993,
          350,
          13770,
          990,
          20290,
          1398,
          2578,
          1190,
          5330,
          5719,
          2436,
          1640,
          890,
          650,
          5030,
          4210,
          100,
          890,
          990,
          1460,
          2400,
          8099,
          1540,
          690,
          6242,
          18560,
          250,
          7990,
          150,
          4600,
          13740,
          320,
          17990,
          2355,
          2790,
          19990,
          110,
          1090,
          6990,
          2690,
          980,
          1120,
          190,
          360,
          590,
          9448,
          15416,
          3410,
          5840,
          4170,
          1410,
          9448,
          10170,
          990,
          985,
          22950,
          1180,
          1990,
          1188,
          14489,
          2290,
          2674,
          590,
          4710,
          2000,
          760,
          18270,
          770,
          540,
          93940,
          2970,
          8885,
          2000,
          7110,
          790,
          12642,
          4920,
          3290,
          35890,
          4363,
          6445,
          17990,
          1130,
          890,
          58220,
          1590,
          3740,
          3500,
          1390,
          90,
          390,
          13990,
          1600,
          3190,
          2420,
          1420,
          5280,
          24744,
          1729,
          3250,
          450,
          30649,
          3740,
          11440,
          4188,
          530,
          13354,
          1490,
          20990,
          17300,
          2180,
          830,
          1630,
          160,
          1960,
          359,
          510,
          2590,
          19386,
          75,
          6420,
          2550,
          1885,
          3990,
          1390,
          4040,
          1050,
          5227,
          25790,
          690,
          13203,
          5530,
          350,
          2250,
          4690,
          730,
          34990,
          3430,
          870,
          33050,
          380,
          19490,
          420,
          720,
          60,
          1530,
          7390,
          2190,
          1090,
          1540,
          3910,
          58550,
          800,
          7240,
          18350,
          18463,
          15485,
          3330,
          6660,
          4283,
          60450,
          24350,
          1090,
          2070,
          9050,
          1290,
          2540,
          1188,
          5170,
          3390,
          1850,
          28750,
          11250,
          19260,
          1920,
          1730,
          5900,
          390,
          2348,
          2290,
          2540,
          3600,
          500,
          3600,
          1320,
          3806,
          12336,
          2907,
          971,
          2640,
          14990,
          190,
          640,
          8290,
          1950,
          100,
          5430,
          820,
          1440,
          1620,
          190,
          6382,
          120,
          4685,
          1450,
          1460,
          2610,
          100,
          14250,
          11985,
          1790,
          3990,
          990,
          1120,
          130,
          1200,
          100,
          52900,
          3550,
          2790,
          2640,
          3490,
          17379,
          4390,
          60,
          9800,
          570,
          500,
          13070,
          5170,
          1850,
          890,
          15500,
          2610,
          6674,
          160,
          3404,
          18557,
          420,
          1190,
          58220,
          2790,
          2640,
          3070,
          1540,
          11990,
          8439,
          8340,
          1830,
          27985,
          6645,
          18560,
          1780,
          250,
          1120,
          8640,
          6060,
          1799,
          3190,
          1720,
          3190,
          3739,
          785,
          14489,
          460,
          3390,
          350,
          15450,
          990,
          16990,
          1800,
          8950,
          420,
          8280,
          1190,
          18350,
          1825,
          5688,
          4240,
          3739,
          2061,
          640,
          7690,
          1780,
          12150,
          1280,
          3240,
          8777,
          590,
          340,
          9300,
          8090,
          8590,
          6015,
          1170,
          830,
          4650,
          450,
          39500,
          6585,
          4790,
          400,
          50,
          300,
          5050,
          4499,
          14000,
          32610,
          340,
          16920,
          65710,
          2970,
          725,
          6438,
          66350,
          1540,
          6645,
          3320,
          290,
          1190,
          11490,
          1630,
          7500,
          290,
          3990,
          7550,
          2640,
          890,
          11565,
          750,
          2752,
          1320,
          28060,
          1980,
          1707,
          6780,
          5390,
          7990,
          3260,
          990,
          17940,
          24990,
          3980,
          8529,
          5440,
          2510,
          18893,
          92550,
          52480,
          1380,
          1253,
          2290,
          300,
          52900,
          910,
          1490,
          4900,
          4140,
          1920,
          890,
          9448,
          1390,
          3520,
          995,
          2955,
          3180,
          4120,
          1980,
          590,
          370,
          3470,
          3480,
          1100,
          6385,
          400,
          9368,
          7485,
          3460,
          4990,
          1799,
          3780,
          1329,
          6613,
          790,
          2490,
          1290,
          2400,
          3020,
          490,
          190,
          1190,
          6180,
          25250,
          1290,
          4940,
          10380,
          730,
          15380,
          750,
          112,
          31550,
          8600,
          16490,
          6490,
          3190,
          10550,
          100,
          202740
         ],
         "yaxis": "y"
        },
        {
         "alignmentgroup": "True",
         "boxpoints": "all",
         "fillcolor": "rgba(255,255,255,0)",
         "hoveron": "points",
         "hovertemplate": "стоимость=%{y}<extra></extra>",
         "jitter": 0,
         "legendgroup": "",
         "line": {
          "color": "rgba(255,255,255,0)"
         },
         "marker": {
          "color": "#636efa",
          "symbol": "line-ew-open"
         },
         "name": "",
         "offsetgroup": "",
         "showlegend": false,
         "type": "box",
         "xaxis": "x2",
         "y": [
          1650,
          730,
          400,
          9759,
          2308,
          2210,
          1860,
          1044,
          13710,
          1855,
          4008,
          4499,
          7370,
          11985,
          10980,
          15277,
          1060,
          990,
          16490,
          1190,
          300,
          1050,
          632,
          15185,
          7555,
          300,
          3488,
          7620,
          5280,
          700,
          190,
          383,
          1680,
          1650,
          22785,
          2355,
          2470,
          6250,
          19260,
          610,
          2986,
          1090,
          9290,
          2480,
          3000,
          2140,
          3590,
          6990,
          1250,
          3488,
          2970,
          18100,
          400,
          400,
          100,
          2750,
          570,
          2978,
          1440,
          7860,
          56650,
          790,
          400,
          1350,
          2540,
          1710,
          2350,
          2540,
          14610,
          19260,
          8999,
          10510,
          700,
          29499,
          780,
          890,
          4400,
          32350,
          40740,
          2490,
          2080,
          5400,
          5100,
          4020,
          690,
          12350,
          1290,
          382,
          190,
          2110,
          1490,
          17868,
          1940,
          26550,
          5970,
          987,
          9024,
          5555,
          7129,
          300,
          3240,
          2350,
          2995,
          2550,
          17600,
          850,
          5365,
          8390,
          5870,
          5020,
          6990,
          14489,
          8470,
          1630,
          5800,
          172,
          6230,
          760,
          3390,
          4480,
          4480,
          1139,
          12336,
          1450,
          4480,
          7990,
          5099,
          9400,
          6441,
          3070,
          6145,
          53904,
          6922,
          5190,
          6976,
          7690,
          426,
          28490,
          390,
          7990,
          1190,
          299,
          1490,
          6329,
          2750,
          8800,
          2990,
          990,
          300,
          9448,
          2920,
          426,
          9980,
          1790,
          4970,
          3760,
          8090,
          400,
          11990,
          990,
          18900,
          6420,
          1990,
          650,
          1440,
          6990,
          436,
          1038,
          1780,
          1940,
          3564,
          3340,
          5480,
          38160,
          2800,
          3040,
          995,
          2750,
          3210,
          310,
          2090,
          3468,
          778,
          5740,
          4580,
          1840,
          3488,
          1550,
          17990,
          290,
          6940,
          1690,
          890,
          5369,
          11115,
          165,
          2646,
          2220,
          1690,
          2190,
          2845,
          1799,
          1498,
          9850,
          6700,
          500,
          2640,
          4717,
          30649,
          5640,
          100,
          2350,
          2820,
          2750,
          17422,
          14155,
          4185,
          1680,
          2210,
          10960,
          2350,
          1140,
          1310,
          2490,
          1380,
          10791,
          9310,
          3470,
          2955,
          15850,
          27550,
          15485,
          2646,
          6201,
          2320,
          599,
          660,
          6149,
          2938,
          10590,
          110,
          2350,
          12810,
          9880,
          920,
          1190,
          3488,
          15417,
          950,
          7555,
          2339,
          3190,
          2360,
          16950,
          34340,
          500,
          1620,
          14271,
          1920,
          380,
          2355,
          8240,
          282,
          10970,
          170,
          1922,
          14400,
          19538,
          10450,
          2480,
          290,
          2290,
          1830,
          33970,
          1100,
          1940,
          2290,
          4877,
          12680,
          860,
          3354,
          1000,
          1990,
          1100,
          990,
          6890,
          19260,
          53904,
          1990,
          2210,
          426,
          4299,
          12562,
          420,
          23750,
          6350,
          490,
          22040,
          2950,
          1630,
          2342,
          5622,
          7485,
          390,
          1200,
          1190,
          2057,
          76,
          1900,
          2690,
          20219,
          4195,
          990,
          490,
          830,
          2330,
          2490,
          2526,
          11985,
          1435,
          1460,
          1090,
          250,
          1990,
          6194,
          3460,
          780,
          5070,
          8850,
          1410,
          890,
          300,
          1758,
          790,
          1220,
          987,
          8000,
          610,
          15072,
          41450,
          1990,
          760,
          690,
          5870,
          1530,
          1290,
          1390,
          4370,
          420,
          2820,
          6000,
          400,
          2580,
          1860,
          5160,
          6536,
          5000,
          14970,
          9080,
          910,
          8850,
          16770,
          2190,
          2500,
          1590,
          380,
          16770,
          3990,
          20026,
          12470,
          2540,
          4980,
          390,
          490,
          16680,
          16480,
          4780,
          3450,
          5415,
          16279,
          2385,
          120,
          2540,
          1490,
          4980,
          1398,
          20990,
          1450,
          5539,
          4008,
          270,
          21220,
          2640,
          1253,
          12550,
          880,
          9990,
          690,
          3890,
          9990,
          5555,
          19240,
          3080,
          460,
          70,
          870,
          26980,
          9990,
          13990,
          570,
          780,
          24744,
          990,
          4500,
          270,
          8870,
          600,
          440,
          750,
          1950,
          37550,
          31680,
          9490,
          11249,
          470,
          1294500,
          2630,
          1460,
          4930,
          1100,
          3150,
          17650,
          5450,
          5770,
          1575,
          20450,
          11050,
          2000,
          2255,
          170,
          1999,
          2955,
          490,
          7300,
          18464,
          390,
          6677,
          2890,
          2970,
          6248,
          1460,
          490,
          5270,
          4485,
          7349,
          3070,
          1620,
          3030,
          1290,
          50,
          3190,
          26550,
          9232,
          16480,
          1790,
          9934,
          2840,
          400,
          1490,
          8990,
          8780,
          2490,
          1990,
          4410,
          1000,
          350,
          300,
          19280,
          13769,
          2190,
          1530,
          30649,
          1790,
          6681,
          6260,
          390,
          1130,
          1490,
          1650,
          11135,
          20100,
          2722,
          8885,
          8585,
          1980,
          10195,
          30990,
          2490,
          2359,
          9448,
          1220,
          490,
          320,
          990,
          2590,
          2550,
          8250,
          580,
          5350,
          3140,
          1910,
          17379,
          4840,
          6930,
          5690,
          1690,
          6090,
          990,
          3140,
          390,
          740,
          10440,
          3390,
          4880,
          6590,
          21550,
          500,
          33405,
          750,
          3525,
          43990,
          13390,
          9934,
          697,
          4495,
          8401,
          20219,
          390,
          4880,
          6382,
          1090,
          2285,
          10485,
          6288,
          11711,
          17990,
          3950,
          25080,
          1580,
          35485,
          9750,
          27490,
          1510,
          1850,
          890,
          4499,
          4990,
          3650,
          4990,
          890,
          1530,
          2480,
          33050,
          35485,
          990,
          2355,
          5530,
          1490,
          27600,
          1893,
          31350,
          360,
          1990,
          1490,
          300,
          5249,
          6716,
          2800,
          1530,
          3559,
          19260,
          5790,
          1758,
          604,
          50,
          4008,
          3488,
          1290,
          17650,
          5740,
          1290,
          3550,
          240,
          2235,
          10550,
          4690,
          12888,
          7995,
          3220,
          2840,
          495,
          740,
          265,
          4790,
          13990,
          2540,
          480,
          1721,
          12550,
          5020,
          2830,
          340,
          1870,
          53904,
          11990,
          1850,
          1990,
          6990,
          1060,
          17990,
          1290,
          26550,
          19280,
          2670,
          2420,
          3261,
          1634,
          39800,
          400,
          12990,
          25890,
          18990,
          3826,
          16950,
          18010,
          10250,
          4990,
          17030,
          3040,
          5119,
          15485,
          110,
          9870,
          13860,
          1530,
          8877,
          4620,
          9490,
          43690,
          19260,
          1846,
          90,
          4190,
          1530,
          34550,
          10765,
          390,
          7024,
          17990,
          4698,
          2030,
          2690,
          78990,
          2590,
          4877,
          10850,
          1250,
          550,
          2630,
          16990,
          620,
          654,
          6613,
          10160,
          6400,
          6440,
          1690,
          27390,
          1950,
          2050,
          1680,
          17990,
          78990,
          540,
          42740,
          9680,
          5150,
          1530,
          2950,
          410,
          17990,
          3680,
          5227,
          590,
          9290,
          5776,
          2390,
          30649,
          14495,
          890,
          2070,
          1190,
          2555,
          1790,
          19520,
          11688,
          3590,
          4180,
          1399,
          45880,
          10550,
          3050,
          2390,
          470,
          295,
          17792,
          470,
          3590,
          24381,
          690,
          390,
          1805,
          6990,
          28350,
          2955,
          1490,
          3190,
          17379,
          29499,
          6170,
          7300,
          2590,
          3650,
          4990,
          9850,
          3270,
          14489,
          2960,
          1020,
          10137,
          580,
          3354,
          14490,
          67990,
          86620,
          4900,
          49495,
          890,
          690,
          19260,
          3170,
          37150,
          390,
          19660,
          2580,
          45780,
          50,
          24860,
          1737,
          1040,
          1090,
          990,
          5690,
          9690,
          1149,
          990,
          5490,
          750,
          2355,
          590,
          1870,
          1460,
          1640,
          9232,
          2550,
          390,
          840,
          12490,
          4740,
          3480,
          785,
          7890,
          2600,
          16480,
          4990,
          3739,
          3190,
          900,
          3888,
          1993,
          350,
          13770,
          990,
          20290,
          1398,
          2578,
          1190,
          5330,
          5719,
          2436,
          1640,
          890,
          650,
          5030,
          4210,
          100,
          890,
          990,
          1460,
          2400,
          8099,
          1540,
          690,
          6242,
          18560,
          250,
          7990,
          150,
          4600,
          13740,
          320,
          17990,
          2355,
          2790,
          19990,
          110,
          1090,
          6990,
          2690,
          980,
          1120,
          190,
          360,
          590,
          9448,
          15416,
          3410,
          5840,
          4170,
          1410,
          9448,
          10170,
          990,
          985,
          22950,
          1180,
          1990,
          1188,
          14489,
          2290,
          2674,
          590,
          4710,
          2000,
          760,
          18270,
          770,
          540,
          93940,
          2970,
          8885,
          2000,
          7110,
          790,
          12642,
          4920,
          3290,
          35890,
          4363,
          6445,
          17990,
          1130,
          890,
          58220,
          1590,
          3740,
          3500,
          1390,
          90,
          390,
          13990,
          1600,
          3190,
          2420,
          1420,
          5280,
          24744,
          1729,
          3250,
          450,
          30649,
          3740,
          11440,
          4188,
          530,
          13354,
          1490,
          20990,
          17300,
          2180,
          830,
          1630,
          160,
          1960,
          359,
          510,
          2590,
          19386,
          75,
          6420,
          2550,
          1885,
          3990,
          1390,
          4040,
          1050,
          5227,
          25790,
          690,
          13203,
          5530,
          350,
          2250,
          4690,
          730,
          34990,
          3430,
          870,
          33050,
          380,
          19490,
          420,
          720,
          60,
          1530,
          7390,
          2190,
          1090,
          1540,
          3910,
          58550,
          800,
          7240,
          18350,
          18463,
          15485,
          3330,
          6660,
          4283,
          60450,
          24350,
          1090,
          2070,
          9050,
          1290,
          2540,
          1188,
          5170,
          3390,
          1850,
          28750,
          11250,
          19260,
          1920,
          1730,
          5900,
          390,
          2348,
          2290,
          2540,
          3600,
          500,
          3600,
          1320,
          3806,
          12336,
          2907,
          971,
          2640,
          14990,
          190,
          640,
          8290,
          1950,
          100,
          5430,
          820,
          1440,
          1620,
          190,
          6382,
          120,
          4685,
          1450,
          1460,
          2610,
          100,
          14250,
          11985,
          1790,
          3990,
          990,
          1120,
          130,
          1200,
          100,
          52900,
          3550,
          2790,
          2640,
          3490,
          17379,
          4390,
          60,
          9800,
          570,
          500,
          13070,
          5170,
          1850,
          890,
          15500,
          2610,
          6674,
          160,
          3404,
          18557,
          420,
          1190,
          58220,
          2790,
          2640,
          3070,
          1540,
          11990,
          8439,
          8340,
          1830,
          27985,
          6645,
          18560,
          1780,
          250,
          1120,
          8640,
          6060,
          1799,
          3190,
          1720,
          3190,
          3739,
          785,
          14489,
          460,
          3390,
          350,
          15450,
          990,
          16990,
          1800,
          8950,
          420,
          8280,
          1190,
          18350,
          1825,
          5688,
          4240,
          3739,
          2061,
          640,
          7690,
          1780,
          12150,
          1280,
          3240,
          8777,
          590,
          340,
          9300,
          8090,
          8590,
          6015,
          1170,
          830,
          4650,
          450,
          39500,
          6585,
          4790,
          400,
          50,
          300,
          5050,
          4499,
          14000,
          32610,
          340,
          16920,
          65710,
          2970,
          725,
          6438,
          66350,
          1540,
          6645,
          3320,
          290,
          1190,
          11490,
          1630,
          7500,
          290,
          3990,
          7550,
          2640,
          890,
          11565,
          750,
          2752,
          1320,
          28060,
          1980,
          1707,
          6780,
          5390,
          7990,
          3260,
          990,
          17940,
          24990,
          3980,
          8529,
          5440,
          2510,
          18893,
          92550,
          52480,
          1380,
          1253,
          2290,
          300,
          52900,
          910,
          1490,
          4900,
          4140,
          1920,
          890,
          9448,
          1390,
          3520,
          995,
          2955,
          3180,
          4120,
          1980,
          590,
          370,
          3470,
          3480,
          1100,
          6385,
          400,
          9368,
          7485,
          3460,
          4990,
          1799,
          3780,
          1329,
          6613,
          790,
          2490,
          1290,
          2400,
          3020,
          490,
          190,
          1190,
          6180,
          25250,
          1290,
          4940,
          10380,
          730,
          15380,
          750,
          112,
          31550,
          8600,
          16490,
          6490,
          3190,
          10550,
          100,
          202740
         ],
         "yaxis": "y2"
        }
       ],
       "layout": {
        "legend": {
         "tracegroupgap": 0
        },
        "margin": {
         "t": 60
        },
        "template": {
         "data": {
          "bar": [
           {
            "error_x": {
             "color": "#2a3f5f"
            },
            "error_y": {
             "color": "#2a3f5f"
            },
            "marker": {
             "line": {
              "color": "#E5ECF6",
              "width": 0.5
             },
             "pattern": {
              "fillmode": "overlay",
              "size": 10,
              "solidity": 0.2
             }
            },
            "type": "bar"
           }
          ],
          "barpolar": [
           {
            "marker": {
             "line": {
              "color": "#E5ECF6",
              "width": 0.5
             },
             "pattern": {
              "fillmode": "overlay",
              "size": 10,
              "solidity": 0.2
             }
            },
            "type": "barpolar"
           }
          ],
          "carpet": [
           {
            "aaxis": {
             "endlinecolor": "#2a3f5f",
             "gridcolor": "white",
             "linecolor": "white",
             "minorgridcolor": "white",
             "startlinecolor": "#2a3f5f"
            },
            "baxis": {
             "endlinecolor": "#2a3f5f",
             "gridcolor": "white",
             "linecolor": "white",
             "minorgridcolor": "white",
             "startlinecolor": "#2a3f5f"
            },
            "type": "carpet"
           }
          ],
          "choropleth": [
           {
            "colorbar": {
             "outlinewidth": 0,
             "ticks": ""
            },
            "type": "choropleth"
           }
          ],
          "contour": [
           {
            "colorbar": {
             "outlinewidth": 0,
             "ticks": ""
            },
            "colorscale": [
             [
              0,
              "#0d0887"
             ],
             [
              0.1111111111111111,
              "#46039f"
             ],
             [
              0.2222222222222222,
              "#7201a8"
             ],
             [
              0.3333333333333333,
              "#9c179e"
             ],
             [
              0.4444444444444444,
              "#bd3786"
             ],
             [
              0.5555555555555556,
              "#d8576b"
             ],
             [
              0.6666666666666666,
              "#ed7953"
             ],
             [
              0.7777777777777778,
              "#fb9f3a"
             ],
             [
              0.8888888888888888,
              "#fdca26"
             ],
             [
              1,
              "#f0f921"
             ]
            ],
            "type": "contour"
           }
          ],
          "contourcarpet": [
           {
            "colorbar": {
             "outlinewidth": 0,
             "ticks": ""
            },
            "type": "contourcarpet"
           }
          ],
          "heatmap": [
           {
            "colorbar": {
             "outlinewidth": 0,
             "ticks": ""
            },
            "colorscale": [
             [
              0,
              "#0d0887"
             ],
             [
              0.1111111111111111,
              "#46039f"
             ],
             [
              0.2222222222222222,
              "#7201a8"
             ],
             [
              0.3333333333333333,
              "#9c179e"
             ],
             [
              0.4444444444444444,
              "#bd3786"
             ],
             [
              0.5555555555555556,
              "#d8576b"
             ],
             [
              0.6666666666666666,
              "#ed7953"
             ],
             [
              0.7777777777777778,
              "#fb9f3a"
             ],
             [
              0.8888888888888888,
              "#fdca26"
             ],
             [
              1,
              "#f0f921"
             ]
            ],
            "type": "heatmap"
           }
          ],
          "heatmapgl": [
           {
            "colorbar": {
             "outlinewidth": 0,
             "ticks": ""
            },
            "colorscale": [
             [
              0,
              "#0d0887"
             ],
             [
              0.1111111111111111,
              "#46039f"
             ],
             [
              0.2222222222222222,
              "#7201a8"
             ],
             [
              0.3333333333333333,
              "#9c179e"
             ],
             [
              0.4444444444444444,
              "#bd3786"
             ],
             [
              0.5555555555555556,
              "#d8576b"
             ],
             [
              0.6666666666666666,
              "#ed7953"
             ],
             [
              0.7777777777777778,
              "#fb9f3a"
             ],
             [
              0.8888888888888888,
              "#fdca26"
             ],
             [
              1,
              "#f0f921"
             ]
            ],
            "type": "heatmapgl"
           }
          ],
          "histogram": [
           {
            "marker": {
             "pattern": {
              "fillmode": "overlay",
              "size": 10,
              "solidity": 0.2
             }
            },
            "type": "histogram"
           }
          ],
          "histogram2d": [
           {
            "colorbar": {
             "outlinewidth": 0,
             "ticks": ""
            },
            "colorscale": [
             [
              0,
              "#0d0887"
             ],
             [
              0.1111111111111111,
              "#46039f"
             ],
             [
              0.2222222222222222,
              "#7201a8"
             ],
             [
              0.3333333333333333,
              "#9c179e"
             ],
             [
              0.4444444444444444,
              "#bd3786"
             ],
             [
              0.5555555555555556,
              "#d8576b"
             ],
             [
              0.6666666666666666,
              "#ed7953"
             ],
             [
              0.7777777777777778,
              "#fb9f3a"
             ],
             [
              0.8888888888888888,
              "#fdca26"
             ],
             [
              1,
              "#f0f921"
             ]
            ],
            "type": "histogram2d"
           }
          ],
          "histogram2dcontour": [
           {
            "colorbar": {
             "outlinewidth": 0,
             "ticks": ""
            },
            "colorscale": [
             [
              0,
              "#0d0887"
             ],
             [
              0.1111111111111111,
              "#46039f"
             ],
             [
              0.2222222222222222,
              "#7201a8"
             ],
             [
              0.3333333333333333,
              "#9c179e"
             ],
             [
              0.4444444444444444,
              "#bd3786"
             ],
             [
              0.5555555555555556,
              "#d8576b"
             ],
             [
              0.6666666666666666,
              "#ed7953"
             ],
             [
              0.7777777777777778,
              "#fb9f3a"
             ],
             [
              0.8888888888888888,
              "#fdca26"
             ],
             [
              1,
              "#f0f921"
             ]
            ],
            "type": "histogram2dcontour"
           }
          ],
          "mesh3d": [
           {
            "colorbar": {
             "outlinewidth": 0,
             "ticks": ""
            },
            "type": "mesh3d"
           }
          ],
          "parcoords": [
           {
            "line": {
             "colorbar": {
              "outlinewidth": 0,
              "ticks": ""
             }
            },
            "type": "parcoords"
           }
          ],
          "pie": [
           {
            "automargin": true,
            "type": "pie"
           }
          ],
          "scatter": [
           {
            "marker": {
             "colorbar": {
              "outlinewidth": 0,
              "ticks": ""
             }
            },
            "type": "scatter"
           }
          ],
          "scatter3d": [
           {
            "line": {
             "colorbar": {
              "outlinewidth": 0,
              "ticks": ""
             }
            },
            "marker": {
             "colorbar": {
              "outlinewidth": 0,
              "ticks": ""
             }
            },
            "type": "scatter3d"
           }
          ],
          "scattercarpet": [
           {
            "marker": {
             "colorbar": {
              "outlinewidth": 0,
              "ticks": ""
             }
            },
            "type": "scattercarpet"
           }
          ],
          "scattergeo": [
           {
            "marker": {
             "colorbar": {
              "outlinewidth": 0,
              "ticks": ""
             }
            },
            "type": "scattergeo"
           }
          ],
          "scattergl": [
           {
            "marker": {
             "colorbar": {
              "outlinewidth": 0,
              "ticks": ""
             }
            },
            "type": "scattergl"
           }
          ],
          "scattermapbox": [
           {
            "marker": {
             "colorbar": {
              "outlinewidth": 0,
              "ticks": ""
             }
            },
            "type": "scattermapbox"
           }
          ],
          "scatterpolar": [
           {
            "marker": {
             "colorbar": {
              "outlinewidth": 0,
              "ticks": ""
             }
            },
            "type": "scatterpolar"
           }
          ],
          "scatterpolargl": [
           {
            "marker": {
             "colorbar": {
              "outlinewidth": 0,
              "ticks": ""
             }
            },
            "type": "scatterpolargl"
           }
          ],
          "scatterternary": [
           {
            "marker": {
             "colorbar": {
              "outlinewidth": 0,
              "ticks": ""
             }
            },
            "type": "scatterternary"
           }
          ],
          "surface": [
           {
            "colorbar": {
             "outlinewidth": 0,
             "ticks": ""
            },
            "colorscale": [
             [
              0,
              "#0d0887"
             ],
             [
              0.1111111111111111,
              "#46039f"
             ],
             [
              0.2222222222222222,
              "#7201a8"
             ],
             [
              0.3333333333333333,
              "#9c179e"
             ],
             [
              0.4444444444444444,
              "#bd3786"
             ],
             [
              0.5555555555555556,
              "#d8576b"
             ],
             [
              0.6666666666666666,
              "#ed7953"
             ],
             [
              0.7777777777777778,
              "#fb9f3a"
             ],
             [
              0.8888888888888888,
              "#fdca26"
             ],
             [
              1,
              "#f0f921"
             ]
            ],
            "type": "surface"
           }
          ],
          "table": [
           {
            "cells": {
             "fill": {
              "color": "#EBF0F8"
             },
             "line": {
              "color": "white"
             }
            },
            "header": {
             "fill": {
              "color": "#C8D4E3"
             },
             "line": {
              "color": "white"
             }
            },
            "type": "table"
           }
          ]
         },
         "layout": {
          "annotationdefaults": {
           "arrowcolor": "#2a3f5f",
           "arrowhead": 0,
           "arrowwidth": 1
          },
          "autotypenumbers": "strict",
          "coloraxis": {
           "colorbar": {
            "outlinewidth": 0,
            "ticks": ""
           }
          },
          "colorscale": {
           "diverging": [
            [
             0,
             "#8e0152"
            ],
            [
             0.1,
             "#c51b7d"
            ],
            [
             0.2,
             "#de77ae"
            ],
            [
             0.3,
             "#f1b6da"
            ],
            [
             0.4,
             "#fde0ef"
            ],
            [
             0.5,
             "#f7f7f7"
            ],
            [
             0.6,
             "#e6f5d0"
            ],
            [
             0.7,
             "#b8e186"
            ],
            [
             0.8,
             "#7fbc41"
            ],
            [
             0.9,
             "#4d9221"
            ],
            [
             1,
             "#276419"
            ]
           ],
           "sequential": [
            [
             0,
             "#0d0887"
            ],
            [
             0.1111111111111111,
             "#46039f"
            ],
            [
             0.2222222222222222,
             "#7201a8"
            ],
            [
             0.3333333333333333,
             "#9c179e"
            ],
            [
             0.4444444444444444,
             "#bd3786"
            ],
            [
             0.5555555555555556,
             "#d8576b"
            ],
            [
             0.6666666666666666,
             "#ed7953"
            ],
            [
             0.7777777777777778,
             "#fb9f3a"
            ],
            [
             0.8888888888888888,
             "#fdca26"
            ],
            [
             1,
             "#f0f921"
            ]
           ],
           "sequentialminus": [
            [
             0,
             "#0d0887"
            ],
            [
             0.1111111111111111,
             "#46039f"
            ],
            [
             0.2222222222222222,
             "#7201a8"
            ],
            [
             0.3333333333333333,
             "#9c179e"
            ],
            [
             0.4444444444444444,
             "#bd3786"
            ],
            [
             0.5555555555555556,
             "#d8576b"
            ],
            [
             0.6666666666666666,
             "#ed7953"
            ],
            [
             0.7777777777777778,
             "#fb9f3a"
            ],
            [
             0.8888888888888888,
             "#fdca26"
            ],
            [
             1,
             "#f0f921"
            ]
           ]
          },
          "colorway": [
           "#636efa",
           "#EF553B",
           "#00cc96",
           "#ab63fa",
           "#FFA15A",
           "#19d3f3",
           "#FF6692",
           "#B6E880",
           "#FF97FF",
           "#FECB52"
          ],
          "font": {
           "color": "#2a3f5f"
          },
          "geo": {
           "bgcolor": "white",
           "lakecolor": "white",
           "landcolor": "#E5ECF6",
           "showlakes": true,
           "showland": true,
           "subunitcolor": "white"
          },
          "hoverlabel": {
           "align": "left"
          },
          "hovermode": "closest",
          "mapbox": {
           "style": "light"
          },
          "paper_bgcolor": "white",
          "plot_bgcolor": "#E5ECF6",
          "polar": {
           "angularaxis": {
            "gridcolor": "white",
            "linecolor": "white",
            "ticks": ""
           },
           "bgcolor": "#E5ECF6",
           "radialaxis": {
            "gridcolor": "white",
            "linecolor": "white",
            "ticks": ""
           }
          },
          "scene": {
           "xaxis": {
            "backgroundcolor": "#E5ECF6",
            "gridcolor": "white",
            "gridwidth": 2,
            "linecolor": "white",
            "showbackground": true,
            "ticks": "",
            "zerolinecolor": "white"
           },
           "yaxis": {
            "backgroundcolor": "#E5ECF6",
            "gridcolor": "white",
            "gridwidth": 2,
            "linecolor": "white",
            "showbackground": true,
            "ticks": "",
            "zerolinecolor": "white"
           },
           "zaxis": {
            "backgroundcolor": "#E5ECF6",
            "gridcolor": "white",
            "gridwidth": 2,
            "linecolor": "white",
            "showbackground": true,
            "ticks": "",
            "zerolinecolor": "white"
           }
          },
          "shapedefaults": {
           "line": {
            "color": "#2a3f5f"
           }
          },
          "ternary": {
           "aaxis": {
            "gridcolor": "white",
            "linecolor": "white",
            "ticks": ""
           },
           "baxis": {
            "gridcolor": "white",
            "linecolor": "white",
            "ticks": ""
           },
           "bgcolor": "#E5ECF6",
           "caxis": {
            "gridcolor": "white",
            "linecolor": "white",
            "ticks": ""
           }
          },
          "title": {
           "x": 0.05
          },
          "xaxis": {
           "automargin": true,
           "gridcolor": "white",
           "linecolor": "white",
           "ticks": "",
           "title": {
            "standoff": 15
           },
           "zerolinecolor": "white",
           "zerolinewidth": 2
          },
          "yaxis": {
           "automargin": true,
           "gridcolor": "white",
           "linecolor": "white",
           "ticks": "",
           "title": {
            "standoff": 15
           },
           "zerolinecolor": "white",
           "zerolinewidth": 2
          }
         }
        },
        "title": {
         "text": "Стоимость заказов пользователей"
        },
        "width": 800,
        "xaxis": {
         "anchor": "y",
         "domain": [
          0,
          0.8358
         ],
         "title": {
          "text": "заказы"
         }
        },
        "xaxis2": {
         "anchor": "y2",
         "domain": [
          0.8408,
          1
         ],
         "matches": "x2",
         "showgrid": false,
         "showline": false,
         "showticklabels": false,
         "ticks": ""
        },
        "yaxis": {
         "anchor": "x",
         "domain": [
          0,
          1
         ],
         "range": [
          0,
          120000
         ],
         "title": {
          "text": "стоимость"
         }
        },
        "yaxis2": {
         "anchor": "x2",
         "domain": [
          0,
          1
         ],
         "matches": "y",
         "showgrid": true,
         "showticklabels": false
        }
       }
      }
     },
     "metadata": {},
     "output_type": "display_data"
    }
   ],
   "source": [
    "fig = px.scatter(orders,\n",
    "                 y='revenue',\n",
    "                 labels={\n",
    "                   'revenue': 'стоимость',\n",
    "                     'index': 'заказы'\n",
    "                 },\n",
    "                 range_y=[0, 120e3],  # меняем масштаб\n",
    "                 marginal_y='rug'\n",
    "                 )\n",
    "\n",
    "fig.update_layout(\n",
    "    width=800, title='Стоимость заказов пользователей')"
   ]
  },
  {
   "cell_type": "markdown",
   "metadata": {},
   "source": [
    "Какая граница стоимостей заказа - найдем 95 и 99 перцентили:"
   ]
  },
  {
   "cell_type": "code",
   "execution_count": 194,
   "metadata": {
    "trusted": true
   },
   "outputs": [
    {
     "data": {
      "text/plain": [
       "array([28000. , 58233.2])"
      ]
     },
     "execution_count": 194,
     "metadata": {},
     "output_type": "execute_result"
    }
   ],
   "source": [
    "bound_revenue = np.percentile(orders['revenue'],\n",
    "                              [95, 99]\n",
    "                              )\n",
    "\n",
    "bound_revenue"
   ]
  },
  {
   "cell_type": "markdown",
   "metadata": {},
   "source": [
    "выходит что 95 и 99 % пользователей совершают покупки до 28_000 и до 58_233.2 соответсвенно.    \n",
    "Примем, что покупки больше 58_233.2 считаются аномальными"
   ]
  },
  {
   "cell_type": "code",
   "execution_count": 195,
   "metadata": {
    "trusted": true
   },
   "outputs": [],
   "source": [
    "bound_normal_revenue = bound_revenue[1]"
   ]
  },
  {
   "cell_type": "markdown",
   "metadata": {},
   "source": [
    "### Статистическая значимость различий в среднем кол-ве заказов на посетителя между группами по сырым данным"
   ]
  },
  {
   "cell_type": "markdown",
   "metadata": {},
   "source": [
    "Сформулируем нулевую и альтернативную гипотезы    "
   ]
  },
  {
   "cell_type": "code",
   "execution_count": 196,
   "metadata": {
    "trusted": true
   },
   "outputs": [],
   "source": [
    "H_0 = \"среднее количенство заказов на посетителя обеих групп одинаково\"\n",
    "H_1 = \"среднее количенство заказов на посетителя обеих групп разное\""
   ]
  },
  {
   "cell_type": "markdown",
   "metadata": {},
   "source": [
    "Выберем уровень статистической значимости 5% как общепринятый "
   ]
  },
  {
   "cell_type": "code",
   "execution_count": 197,
   "metadata": {
    "trusted": true
   },
   "outputs": [],
   "source": [
    "alpha = .05"
   ]
  },
  {
   "cell_type": "markdown",
   "metadata": {},
   "source": [
    "Проверять гипотезы будем методом Манна-Уитни"
   ]
  },
  {
   "cell_type": "markdown",
   "metadata": {},
   "source": [
    "разделим заказы по группам"
   ]
  },
  {
   "cell_type": "code",
   "execution_count": 198,
   "metadata": {
    "trusted": true
   },
   "outputs": [],
   "source": [
    "orders_group_a = orders.query('group == \"A\"')\n",
    "orders_group_b = orders.query('group == \"B\"')"
   ]
  },
  {
   "cell_type": "markdown",
   "metadata": {},
   "source": [
    "разделим заказы по группам но уже посчитаем сколько каждый пользователь совершил покупок"
   ]
  },
  {
   "cell_type": "code",
   "execution_count": 199,
   "metadata": {
    "trusted": true
   },
   "outputs": [],
   "source": [
    "orders_by_user_a = (orders_group_a\n",
    "                    .groupby(\n",
    "                        'visitor_id',\n",
    "                        as_index=False\n",
    "                    )\n",
    "                    .agg({'transaction_id': pd.Series.nunique})\n",
    "                    .rename(\n",
    "                        columns={'transaction_id': 'count_orders'})\n",
    "                    )\n",
    "\n",
    "orders_by_user_b = (orders_group_b\n",
    "                    .groupby(\n",
    "                        'visitor_id',\n",
    "                        as_index=False\n",
    "                    )\n",
    "                    .agg({'transaction_id': pd.Series.nunique})\n",
    "                    .rename(\n",
    "                        columns={'transaction_id': 'count_orders'}\n",
    "                    )\n",
    "                    )"
   ]
  },
  {
   "cell_type": "markdown",
   "metadata": {},
   "source": [
    "разделим пользователей по группам"
   ]
  },
  {
   "cell_type": "code",
   "execution_count": 200,
   "metadata": {
    "trusted": true
   },
   "outputs": [],
   "source": [
    "visitors_group_a = visitors.query('group == \"A\"')\n",
    "visitors_group_b = visitors.query('group == \"B\"')"
   ]
  },
  {
   "cell_type": "markdown",
   "metadata": {},
   "source": [
    "запишем для соответсвующи групп пользователей не совершивших покупки"
   ]
  },
  {
   "cell_type": "code",
   "execution_count": 201,
   "metadata": {
    "trusted": true
   },
   "outputs": [],
   "source": [
    "users_group_a_with_zero_orders = (pd.Series(0,\n",
    "                                            index=np.arange(\n",
    "\n",
    "                                                visitors_group_a['visitors'].sum() -\n",
    "                                                len(orders_by_user_a['visitor_id'])\n",
    "                                            ),\n",
    "                                            name='count_orders')\n",
    "                                  )\n",
    "\n",
    "\n",
    "\n",
    "users_group_b_with_zero_orders = (pd.Series(0,\n",
    "                                            index=np.arange(\n",
    "                                                visitors_group_b['visitors'].sum() -\n",
    "                                                len(orders_by_user_b['visitor_id'])\n",
    "                                            ),\n",
    "                                            name='count_orders')\n",
    "                                  )"
   ]
  },
  {
   "cell_type": "markdown",
   "metadata": {},
   "source": [
    "соберем покупки пользователей и не совершенные покупки в массивы для соответствующих групп"
   ]
  },
  {
   "cell_type": "code",
   "execution_count": 202,
   "metadata": {
    "trusted": true
   },
   "outputs": [],
   "source": [
    "sample_a = pd.concat(\n",
    "    [orders_by_user_a['count_orders'],\n",
    "     users_group_a_with_zero_orders]\n",
    ")\n",
    "\n",
    "\n",
    "\n",
    "sample_b = pd.concat(\n",
    "    [orders_by_user_b['count_orders'],\n",
    "     users_group_b_with_zero_orders]\n",
    ")"
   ]
  },
  {
   "cell_type": "markdown",
   "metadata": {},
   "source": [
    "применим метод Манна-Уитни и рассчитаем относительный прирост ср. числа заказов между группами"
   ]
  },
  {
   "cell_type": "code",
   "execution_count": 203,
   "metadata": {
    "trusted": true
   },
   "outputs": [],
   "source": [
    "p_value = stat.mannwhitneyu(sample_a, sample_b)[1]\n",
    "\n",
    "prirost = sample_b.mean()/sample_a.mean()-1"
   ]
  },
  {
   "cell_type": "markdown",
   "metadata": {},
   "source": [
    "напишем функцию которая выведет для наглядности p-value, относительный прирост, и принимаемую гипотезу"
   ]
  },
  {
   "cell_type": "code",
   "execution_count": 204,
   "metadata": {
    "trusted": true
   },
   "outputs": [],
   "source": [
    "def get_info_test(p_value, prirost, info_prirost):\n",
    "    '''выводит:    \n",
    "    p-value    \n",
    "    относительный прирост    \n",
    "     и принимаемую гипотезу'''\n",
    "\n",
    "    print(\"p_value = {:.3f}\".format(p_value))\n",
    "    print(\n",
    "        \"{}: {:.3f}\\n\".format(info_prirost, prirost))\n",
    "\n",
    "    if p_value > alpha:\n",
    "        print(\"принимаем гипотезу:\", H_0)\n",
    "    else:\n",
    "        print(\"принимаем гипотезу:\", H_1)"
   ]
  },
  {
   "cell_type": "markdown",
   "metadata": {},
   "source": [
    "Получаем"
   ]
  },
  {
   "cell_type": "code",
   "execution_count": 205,
   "metadata": {
    "trusted": true
   },
   "outputs": [
    {
     "name": "stdout",
     "output_type": "stream",
     "text": [
      "p_value = 0.017\n",
      "относительный прирост ср. числа заказов группы B по сырым данным: 0.138\n",
      "\n",
      "принимаем гипотезу: среднее количенство заказов на посетителя обеих групп разное\n"
     ]
    }
   ],
   "source": [
    "get_info_test(p_value, prirost,\n",
    "              info_prirost=\"относительный прирост ср. числа заказов группы B по сырым данным\")"
   ]
  },
  {
   "cell_type": "markdown",
   "metadata": {},
   "source": [
    "### Статистическая значимость различий в среднем чеке заказа  между группами по сырым данным"
   ]
  },
  {
   "cell_type": "markdown",
   "metadata": {},
   "source": [
    "Сформулируем нулевую и альтернативную гипотезы    "
   ]
  },
  {
   "cell_type": "code",
   "execution_count": 206,
   "metadata": {
    "trusted": true
   },
   "outputs": [],
   "source": [
    "H_0 = \"различий в среднем чеке между группами нет\"\n",
    "H_1 = \"средние чеки групп разные\""
   ]
  },
  {
   "cell_type": "markdown",
   "metadata": {},
   "source": [
    "уровень статистической значимости"
   ]
  },
  {
   "cell_type": "code",
   "execution_count": 207,
   "metadata": {
    "trusted": true
   },
   "outputs": [],
   "source": [
    "alpha = 0.05"
   ]
  },
  {
   "cell_type": "markdown",
   "metadata": {},
   "source": [
    "применим метод Манна-Уитни к средним чекам групп, и рассчитаем относительный прирост"
   ]
  },
  {
   "cell_type": "code",
   "execution_count": 208,
   "metadata": {
    "trusted": true
   },
   "outputs": [],
   "source": [
    "p_value = stat.mannwhitneyu(\n",
    "    orders_group_a['revenue'],\n",
    "    orders_group_b['revenue'])[1]\n",
    "\n",
    "prirost = (\n",
    "    orders_group_b['revenue'].mean() /\n",
    "    orders_group_a['revenue'].mean() - 1\n",
    ")"
   ]
  },
  {
   "cell_type": "markdown",
   "metadata": {},
   "source": [
    "Получаем"
   ]
  },
  {
   "cell_type": "code",
   "execution_count": 209,
   "metadata": {
    "trusted": true
   },
   "outputs": [
    {
     "name": "stdout",
     "output_type": "stream",
     "text": [
      "p_value = 0.729\n",
      "относительный прирост ср. чека заказов группы В по сырым данным: 0.259\n",
      "\n",
      "принимаем гипотезу: различий в среднем чеке между группами нет\n"
     ]
    }
   ],
   "source": [
    "get_info_test(p_value,\n",
    "              prirost,\n",
    "              info_prirost=\"относительный прирост ср. чека заказов группы В по сырым данным\")"
   ]
  },
  {
   "cell_type": "markdown",
   "metadata": {},
   "source": [
    "### Очистка данных от аномалий"
   ]
  },
  {
   "cell_type": "markdown",
   "metadata": {},
   "source": [
    "Теперь необходимо рассчитать то же самое, но уже по очищенным данным."
   ]
  },
  {
   "cell_type": "markdown",
   "metadata": {},
   "source": [
    "План: найти всех аномальных пользователей и убрать их.   \n",
    "Для начала найдем их в таблице с заказами во всех группах используя границу нормального числа заков найденную ранее при помощи перцентилей"
   ]
  },
  {
   "cell_type": "code",
   "execution_count": 210,
   "metadata": {
    "trusted": true
   },
   "outputs": [],
   "source": [
    "anomal_users_orders = pd.concat(\n",
    "    [orders_by_user_a.query('count_orders > @bound_normal_orders')['visitor_id'],\n",
    "     orders_by_user_b.query('count_orders > @bound_normal_orders')['visitor_id']], axis=0)"
   ]
  },
  {
   "cell_type": "markdown",
   "metadata": {},
   "source": [
    "Теперь отыщем их в таблице с посетителями по границе нормального чека найденного ранее"
   ]
  },
  {
   "cell_type": "code",
   "execution_count": 211,
   "metadata": {
    "trusted": true
   },
   "outputs": [],
   "source": [
    "anomal_users_revenue = orders[\n",
    "    orders['revenue'] > bound_normal_revenue\n",
    "]['visitor_id']"
   ]
  },
  {
   "cell_type": "markdown",
   "metadata": {},
   "source": [
    "соберем их до кучи"
   ]
  },
  {
   "cell_type": "code",
   "execution_count": 212,
   "metadata": {
    "trusted": true
   },
   "outputs": [],
   "source": [
    "anomal_users = (pd.concat(\n",
    "    [\n",
    "        anomal_users_orders,\n",
    "        anomal_users_revenue\n",
    "    ],\n",
    "    axis=0)\n",
    "    .drop_duplicates()\n",
    "    .sort_values()\n",
    ")"
   ]
  },
  {
   "cell_type": "markdown",
   "metadata": {},
   "source": [
    "посмотрим сколько их"
   ]
  },
  {
   "cell_type": "code",
   "execution_count": 213,
   "metadata": {
    "scrolled": true,
    "trusted": true
   },
   "outputs": [
    {
     "name": "stdout",
     "output_type": "stream",
     "text": [
      "количество аномальных пользователей:  15\n"
     ]
    }
   ],
   "source": [
    "print(\"количество аномальных пользователей: \", anomal_users.shape[0])"
   ]
  },
  {
   "cell_type": "markdown",
   "metadata": {},
   "source": [
    "а теперь прицельно уберем их из групп"
   ]
  },
  {
   "cell_type": "code",
   "execution_count": 214,
   "metadata": {
    "trusted": true
   },
   "outputs": [],
   "source": [
    "orders_by_user_a_without_anomal_users = (orders_by_user_a[\n",
    "    np.logical_not(\n",
    "        orders_by_user_a\n",
    "        .isin(anomal_users)\n",
    "    )\n",
    "]\n",
    "    ['count_orders']\n",
    ")\n",
    "\n",
    "orders_by_user_b_without_anomal_users = (orders_by_user_b[\n",
    "    np.logical_not(\n",
    "        orders_by_user_b\n",
    "        .isin(anomal_users)\n",
    "    )\n",
    "]\n",
    "    ['count_orders']\n",
    ")"
   ]
  },
  {
   "cell_type": "markdown",
   "metadata": {},
   "source": [
    "и соберем в массивы число заказов и заказов которых не было по группам"
   ]
  },
  {
   "cell_type": "code",
   "execution_count": 215,
   "metadata": {
    "trusted": true
   },
   "outputs": [],
   "source": [
    "sample_a_filtered = pd.concat(\n",
    "    [\n",
    "        orders_by_user_a_without_anomal_users,\n",
    "        users_group_a_with_zero_orders\n",
    "    ],\n",
    "    axis=0\n",
    ")\n",
    "\n",
    "sample_b_filtered = pd.concat(\n",
    "    [\n",
    "        orders_by_user_b_without_anomal_users,\n",
    "        users_group_b_with_zero_orders\n",
    "    ],\n",
    "    axis=0\n",
    ")"
   ]
  },
  {
   "cell_type": "markdown",
   "metadata": {},
   "source": [
    "применим метод  Манна-Уитни к очищенным данным"
   ]
  },
  {
   "cell_type": "markdown",
   "metadata": {},
   "source": [
    "### Статистическая значимость различий в среднем количестве заказов на посетителя между группами по «очищенным» данным"
   ]
  },
  {
   "cell_type": "markdown",
   "metadata": {},
   "source": [
    "Сформулируем гипотезы и выберем уровень стат значимости"
   ]
  },
  {
   "cell_type": "code",
   "execution_count": 216,
   "metadata": {
    "trusted": true
   },
   "outputs": [],
   "source": [
    "H_0 = \"среднее количенство заказов на посетителя обеих групп одинаково\"\n",
    "H_1 = \"среднее количенство заказов на посетителя обеих групп разное\"\n",
    "alpha = .05"
   ]
  },
  {
   "cell_type": "markdown",
   "metadata": {},
   "source": [
    "применим критерий, найдем относительный прирост "
   ]
  },
  {
   "cell_type": "code",
   "execution_count": 217,
   "metadata": {
    "trusted": true
   },
   "outputs": [
    {
     "name": "stdout",
     "output_type": "stream",
     "text": [
      "p_value = 0.017\n",
      "прирост среднего количества заказов группы В по очищенным данным: 0.138\n",
      "\n",
      "принимаем гипотезу: среднее количенство заказов на посетителя обеих групп разное\n"
     ]
    }
   ],
   "source": [
    "p_value = stat.mannwhitneyu(\n",
    "    sample_a_filtered,\n",
    "    sample_b_filtered)[1]\n",
    "\n",
    "\n",
    "prirost = sample_b_filtered.mean() / sample_a_filtered.mean() - 1\n",
    "\n",
    "\n",
    "\n",
    "get_info_test(p_value, \n",
    "              prirost,\n",
    "              info_prirost=\"прирост среднего количества заказов группы В по очищенным данным\")"
   ]
  },
  {
   "cell_type": "markdown",
   "metadata": {},
   "source": [
    "Отметим, что после устранения аномалий p-value и относительный прирост среднего числа закзов не изменился"
   ]
  },
  {
   "cell_type": "markdown",
   "metadata": {},
   "source": [
    "### Cтатистическая значимость различий в среднем чеке заказа между группами по «очищенным» данным."
   ]
  },
  {
   "cell_type": "markdown",
   "metadata": {},
   "source": [
    "Сформулируем гипотезы и уровень стат значимости по прежнему 0,05"
   ]
  },
  {
   "cell_type": "code",
   "execution_count": 218,
   "metadata": {
    "trusted": true
   },
   "outputs": [],
   "source": [
    "H_0 = \"средний чек обеих групп одинаковый\"\n",
    "H_1 = \"средний чек обеих групп разный\"\n",
    "alpha = .05"
   ]
  },
  {
   "cell_type": "markdown",
   "metadata": {},
   "source": [
    "перед рассчетами среднего чека  уберем аномальных пользователей"
   ]
  },
  {
   "cell_type": "code",
   "execution_count": 219,
   "metadata": {
    "trusted": true
   },
   "outputs": [],
   "source": [
    "revenue_filter_group_a = (orders[\n",
    "    np.logical_and(\n",
    "        orders['group'] == \"A\",\n",
    "\n",
    "\n",
    "\n",
    "        np.logical_not(\n",
    "            orders['visitor_id']\n",
    "            .isin(anomal_users)\n",
    "        )\n",
    "    )\n",
    "]['revenue']\n",
    ")\n",
    "\n",
    "\n",
    "\n",
    "revenue_filter_group_b = (\n",
    "    orders[\n",
    "        np.logical_and(\n",
    "            orders['group'] == \"B\",\n",
    "            np.logical_not(\n",
    "                orders['visitor_id']\n",
    "                .isin(anomal_users)\n",
    "            )\n",
    "        )\n",
    "    ]['revenue']\n",
    ")"
   ]
  },
  {
   "cell_type": "markdown",
   "metadata": {},
   "source": [
    "смотрим результаты"
   ]
  },
  {
   "cell_type": "code",
   "execution_count": 220,
   "metadata": {
    "trusted": true
   },
   "outputs": [
    {
     "name": "stdout",
     "output_type": "stream",
     "text": [
      "p_value = 0.851\n",
      "прирост среднего чека группы В: -0.006\n",
      "\n",
      "принимаем гипотезу: средний чек обеих групп одинаковый\n"
     ]
    }
   ],
   "source": [
    "p_value = stat.mannwhitneyu(revenue_filter_group_a, revenue_filter_group_b)[1]\n",
    "prirost = revenue_filter_group_b.mean() / revenue_filter_group_a.mean() - 1\n",
    "\n",
    "get_info_test(p_value, prirost,\n",
    "              info_prirost=\"прирост среднего чека группы В\")"
   ]
  },
  {
   "cell_type": "markdown",
   "metadata": {},
   "source": [
    "Отметим:    \n",
    "p-value после устранения аномальных значений увеличился,    \n",
    "средний чек уменьшился с 26% до -0,6%"
   ]
  },
  {
   "cell_type": "markdown",
   "metadata": {},
   "source": [
    "## Вывод по результатам A/B-теста"
   ]
  },
  {
   "cell_type": "markdown",
   "metadata": {},
   "source": [
    "Тест следует завершить и признать неуспешным. Средний чек заказа сегмента В не отличается от сегмета А, и даже уменьшается. "
   ]
  },
  {
   "cell_type": "markdown",
   "metadata": {},
   "source": [
    "# Итоговый вывод "
   ]
  },
  {
   "cell_type": "markdown",
   "metadata": {},
   "source": [
    "Загрузив необходимые файлы с гипотезами, заказами и посетителями,   \n",
    "проверив их на пропуски , дубликаты, соответсвие типам данных содержимых столбцов,\n",
    "приведя названия столбцов к необходимому формату, привели данные к соответствующемк типу данных, \n",
    "произвели приоретизацию гипотез методами приоретизации `ICE` и `RICE`.  \n",
    "\n",
    "Затем вычислили период проведения AB- теста , размер групп и проверили наличие пользователей в обеих руппах и еще проанализировали результаты A/B теста с предварительной подготовкой данных для таких метрик : \n",
    " - кумулятивная вырчка \n",
    "- кумулятивный средний чек\n",
    "- относительное изменение кумулятивного среднего чего группы В к группе А\n",
    "- кумулятивное среденне количество закзов на посетителя\n",
    "- относительное изменение кумулятивного среднего количества заказов на посетителя группы В к группе А,   \n",
    "после чего построили их графики и проанализировали.\n",
    "\n",
    "Далее подготовили данные для нахождения пределов значений кол-ва заказов и их стоимостей чтоб отсечь аномальные значения\n",
    "\n",
    "Затем вычислили статистическую значимость различий в :\n",
    "- среднем количестве заказов на посетителя между группами\n",
    "- среднем чеке заказа между группами\n",
    "\n",
    "до и после фильтрации аномалий."
   ]
  },
  {
   "cell_type": "markdown",
   "metadata": {},
   "source": [
    "\n",
    "Выяснили следующее:\n",
    "\n",
    " -  что приоритетной (по методу `RICE`) гипотезой  является:  \n",
    "\n",
    "`Добавить форму подписки на все основные страницы, чтобы собрать базу клиентов для email-рассылок`.  \n",
    "\n",
    "  \n",
    "- тест проводился весь август\n",
    "- группы теста разделены не равномерно и различаются на 13 %\n",
    "- что 58 человек находятся сразу в обеих группах , но удалять их не представляется возможным т.к. они агрегированы в таблице с посетителями, по этому было принято оставить их для дальнейшего анализа\n",
    "- кумулятивная выручка , кумулятивный средний чек, относительное изменение кумулятивного среднего чека группы В к группы А резко возрастает из-за одной большой покупки,\n",
    "- кумулятивное среднее количество заказов группы В чуть больше чем у группы А и составляет примерно 3,4% против 3%\n",
    "- относительное изменение кумулятивного среднего кол-ва заказов на посетителя группы В к группе А к концу теста находится в пределах 10-14%\n",
    "- 99 % пользователей совершают менее 4 покупок\n",
    "- 99 % пользователей совершают покупки  на сумму менее 58 233.2 рублей"
   ]
  },
  {
   "cell_type": "markdown",
   "metadata": {},
   "source": [
    "до очистки данных от аномалий \n",
    "- прирост ср. количество заказов 13,8% \n",
    "- средний чек группы В на 26% больше чем у группы А\n",
    "\n",
    "после удаления аномальных значений\n",
    "- ср. кол-во заказов увеличилось до 13,8%\n",
    "- средний чек группы B уменьшился и сотавил -0.6%.\n",
    "\n",
    "Т.к. ср. кол-во заказов увеличилось при отсутствии знаяимых изменений по ср. чеку , следовательно стали покупать чаще - выручка увеличилась. \n",
    "Поэтому А/В тест  следует завершить и признать для группы В успешным, т.к. поставленная цель по  увеличения выручки выполняется."
   ]
  }
 ],
 "metadata": {
  "ExecuteTimeLog": [
   {
    "duration": 912,
    "start_time": "2024-10-24T05:09:24.735Z"
   },
   {
    "duration": 229,
    "start_time": "2024-10-24T05:09:25.649Z"
   },
   {
    "duration": 48,
    "start_time": "2024-10-24T05:09:25.879Z"
   },
   {
    "duration": 3,
    "start_time": "2024-10-24T05:09:25.929Z"
   },
   {
    "duration": 18,
    "start_time": "2024-10-24T05:09:25.934Z"
   },
   {
    "duration": 8,
    "start_time": "2024-10-24T05:09:25.953Z"
   },
   {
    "duration": 2,
    "start_time": "2024-10-24T05:09:25.963Z"
   },
   {
    "duration": 4,
    "start_time": "2024-10-24T05:09:25.967Z"
   },
   {
    "duration": 7,
    "start_time": "2024-10-24T05:09:25.972Z"
   },
   {
    "duration": 8,
    "start_time": "2024-10-24T05:09:25.982Z"
   },
   {
    "duration": 69,
    "start_time": "2024-10-24T05:09:25.991Z"
   },
   {
    "duration": 7,
    "start_time": "2024-10-24T05:09:26.061Z"
   },
   {
    "duration": 21,
    "start_time": "2024-10-24T05:09:26.070Z"
   },
   {
    "duration": 7,
    "start_time": "2024-10-24T05:09:26.092Z"
   },
   {
    "duration": 14,
    "start_time": "2024-10-24T05:09:26.100Z"
   },
   {
    "duration": 3,
    "start_time": "2024-10-24T05:09:26.115Z"
   },
   {
    "duration": 5,
    "start_time": "2024-10-24T05:09:26.119Z"
   },
   {
    "duration": 152,
    "start_time": "2024-10-24T05:09:26.125Z"
   },
   {
    "duration": 113,
    "start_time": "2024-10-24T05:09:26.278Z"
   },
   {
    "duration": 5,
    "start_time": "2024-10-24T05:09:26.392Z"
   },
   {
    "duration": 8,
    "start_time": "2024-10-24T05:09:26.398Z"
   },
   {
    "duration": 12,
    "start_time": "2024-10-24T05:09:26.407Z"
   },
   {
    "duration": 488,
    "start_time": "2024-10-24T05:09:26.420Z"
   },
   {
    "duration": 67,
    "start_time": "2024-10-24T05:09:26.909Z"
   },
   {
    "duration": 4,
    "start_time": "2024-10-24T05:09:26.977Z"
   },
   {
    "duration": 9,
    "start_time": "2024-10-24T05:09:26.982Z"
   },
   {
    "duration": 84,
    "start_time": "2024-10-24T05:09:26.992Z"
   },
   {
    "duration": 50,
    "start_time": "2024-10-24T05:09:27.079Z"
   },
   {
    "duration": 3,
    "start_time": "2024-10-24T05:09:27.130Z"
   },
   {
    "duration": 51,
    "start_time": "2024-10-24T05:09:27.134Z"
   },
   {
    "duration": 3,
    "start_time": "2024-10-24T05:09:27.186Z"
   },
   {
    "duration": 44,
    "start_time": "2024-10-24T05:09:27.190Z"
   },
   {
    "duration": 8,
    "start_time": "2024-10-24T05:09:27.235Z"
   },
   {
    "duration": 58,
    "start_time": "2024-10-24T05:09:27.244Z"
   },
   {
    "duration": 3,
    "start_time": "2024-10-24T05:09:27.304Z"
   },
   {
    "duration": 3,
    "start_time": "2024-10-24T05:09:27.309Z"
   },
   {
    "duration": 63,
    "start_time": "2024-10-24T05:09:27.313Z"
   },
   {
    "duration": 4,
    "start_time": "2024-10-24T05:09:27.378Z"
   },
   {
    "duration": 3,
    "start_time": "2024-10-24T05:09:27.383Z"
   },
   {
    "duration": 12,
    "start_time": "2024-10-24T05:09:27.387Z"
   },
   {
    "duration": 13,
    "start_time": "2024-10-24T05:09:27.400Z"
   },
   {
    "duration": 11,
    "start_time": "2024-10-24T05:09:27.414Z"
   },
   {
    "duration": 37,
    "start_time": "2024-10-24T05:09:27.427Z"
   },
   {
    "duration": 6,
    "start_time": "2024-10-24T05:09:27.466Z"
   },
   {
    "duration": 12,
    "start_time": "2024-10-24T05:09:27.473Z"
   },
   {
    "duration": 14,
    "start_time": "2024-10-24T05:09:27.486Z"
   },
   {
    "duration": 13,
    "start_time": "2024-10-24T05:09:27.501Z"
   },
   {
    "duration": 14,
    "start_time": "2024-10-24T05:09:27.515Z"
   },
   {
    "duration": 4,
    "start_time": "2024-10-24T05:09:27.558Z"
   },
   {
    "duration": 50,
    "start_time": "2024-10-24T05:09:27.563Z"
   },
   {
    "duration": 7,
    "start_time": "2024-10-24T05:09:27.614Z"
   },
   {
    "duration": 12,
    "start_time": "2024-10-24T05:09:27.623Z"
   },
   {
    "duration": 6,
    "start_time": "2024-10-24T05:48:16.961Z"
   },
   {
    "duration": 3,
    "start_time": "2024-10-24T05:48:34.450Z"
   },
   {
    "duration": 11,
    "start_time": "2024-10-24T05:59:23.062Z"
   },
   {
    "duration": 11,
    "start_time": "2024-10-24T06:10:18.211Z"
   },
   {
    "duration": 11,
    "start_time": "2024-10-24T06:11:21.404Z"
   },
   {
    "duration": 916,
    "start_time": "2024-10-24T06:11:31.556Z"
   },
   {
    "duration": 273,
    "start_time": "2024-10-24T06:11:32.474Z"
   },
   {
    "duration": 47,
    "start_time": "2024-10-24T06:11:32.748Z"
   },
   {
    "duration": 3,
    "start_time": "2024-10-24T06:11:32.797Z"
   },
   {
    "duration": 9,
    "start_time": "2024-10-24T06:11:32.801Z"
   },
   {
    "duration": 7,
    "start_time": "2024-10-24T06:11:32.811Z"
   },
   {
    "duration": 23,
    "start_time": "2024-10-24T06:11:32.819Z"
   },
   {
    "duration": 4,
    "start_time": "2024-10-24T06:11:32.843Z"
   },
   {
    "duration": 17,
    "start_time": "2024-10-24T06:11:32.848Z"
   },
   {
    "duration": 9,
    "start_time": "2024-10-24T06:11:32.867Z"
   },
   {
    "duration": 39,
    "start_time": "2024-10-24T06:11:32.877Z"
   },
   {
    "duration": 7,
    "start_time": "2024-10-24T06:11:32.918Z"
   },
   {
    "duration": 24,
    "start_time": "2024-10-24T06:11:32.927Z"
   },
   {
    "duration": 8,
    "start_time": "2024-10-24T06:11:32.953Z"
   },
   {
    "duration": 9,
    "start_time": "2024-10-24T06:11:32.962Z"
   },
   {
    "duration": 11,
    "start_time": "2024-10-24T06:11:32.973Z"
   },
   {
    "duration": 14,
    "start_time": "2024-10-24T06:11:32.986Z"
   },
   {
    "duration": 145,
    "start_time": "2024-10-24T06:11:33.001Z"
   },
   {
    "duration": 100,
    "start_time": "2024-10-24T06:11:33.148Z"
   },
   {
    "duration": 8,
    "start_time": "2024-10-24T06:11:33.249Z"
   },
   {
    "duration": 116,
    "start_time": "2024-10-24T06:11:33.259Z"
   },
   {
    "duration": 26,
    "start_time": "2024-10-24T06:11:33.376Z"
   },
   {
    "duration": 14,
    "start_time": "2024-10-24T06:11:33.404Z"
   },
   {
    "duration": 517,
    "start_time": "2024-10-24T06:11:33.419Z"
   },
   {
    "duration": 52,
    "start_time": "2024-10-24T06:11:33.937Z"
   },
   {
    "duration": 4,
    "start_time": "2024-10-24T06:11:33.991Z"
   },
   {
    "duration": 61,
    "start_time": "2024-10-24T06:11:33.996Z"
   },
   {
    "duration": 11,
    "start_time": "2024-10-24T06:11:34.061Z"
   },
   {
    "duration": 62,
    "start_time": "2024-10-24T06:11:34.073Z"
   },
   {
    "duration": 3,
    "start_time": "2024-10-24T06:11:34.137Z"
   },
   {
    "duration": 61,
    "start_time": "2024-10-24T06:11:34.157Z"
   },
   {
    "duration": 27,
    "start_time": "2024-10-24T06:11:34.220Z"
   },
   {
    "duration": 70,
    "start_time": "2024-10-24T06:11:34.248Z"
   },
   {
    "duration": 8,
    "start_time": "2024-10-24T06:11:34.320Z"
   },
   {
    "duration": 49,
    "start_time": "2024-10-24T06:11:34.329Z"
   },
   {
    "duration": 4,
    "start_time": "2024-10-24T06:11:34.379Z"
   },
   {
    "duration": 22,
    "start_time": "2024-10-24T06:11:34.384Z"
   },
   {
    "duration": 65,
    "start_time": "2024-10-24T06:11:34.408Z"
   },
   {
    "duration": 61,
    "start_time": "2024-10-24T06:11:34.475Z"
   },
   {
    "duration": 21,
    "start_time": "2024-10-24T06:11:34.537Z"
   },
   {
    "duration": 18,
    "start_time": "2024-10-24T06:11:34.559Z"
   },
   {
    "duration": 25,
    "start_time": "2024-10-24T06:11:34.579Z"
   },
   {
    "duration": 15,
    "start_time": "2024-10-24T06:11:34.605Z"
   },
   {
    "duration": 20,
    "start_time": "2024-10-24T06:11:34.622Z"
   },
   {
    "duration": 3,
    "start_time": "2024-10-24T06:11:34.643Z"
   },
   {
    "duration": 15,
    "start_time": "2024-10-24T06:11:34.647Z"
   },
   {
    "duration": 10,
    "start_time": "2024-10-24T06:11:34.663Z"
   },
   {
    "duration": 11,
    "start_time": "2024-10-24T06:11:34.674Z"
   },
   {
    "duration": 16,
    "start_time": "2024-10-24T06:11:34.686Z"
   },
   {
    "duration": 14,
    "start_time": "2024-10-24T06:11:34.703Z"
   },
   {
    "duration": 13,
    "start_time": "2024-10-24T06:11:34.718Z"
   },
   {
    "duration": 25,
    "start_time": "2024-10-24T06:11:34.732Z"
   },
   {
    "duration": 14,
    "start_time": "2024-10-24T06:11:34.759Z"
   },
   {
    "duration": 3,
    "start_time": "2024-10-24T06:11:34.774Z"
   },
   {
    "duration": 32,
    "start_time": "2024-10-24T06:11:34.778Z"
   },
   {
    "duration": 4,
    "start_time": "2024-10-24T06:14:35.727Z"
   },
   {
    "duration": 4,
    "start_time": "2024-10-24T06:14:41.687Z"
   },
   {
    "duration": 847,
    "start_time": "2024-10-24T06:17:42.604Z"
   },
   {
    "duration": 159,
    "start_time": "2024-10-24T06:17:43.453Z"
   },
   {
    "duration": 48,
    "start_time": "2024-10-24T06:17:43.613Z"
   },
   {
    "duration": 4,
    "start_time": "2024-10-24T06:17:43.662Z"
   },
   {
    "duration": 7,
    "start_time": "2024-10-24T06:17:43.667Z"
   },
   {
    "duration": 7,
    "start_time": "2024-10-24T06:17:43.675Z"
   },
   {
    "duration": 24,
    "start_time": "2024-10-24T06:17:43.684Z"
   },
   {
    "duration": 12,
    "start_time": "2024-10-24T06:17:43.709Z"
   },
   {
    "duration": 11,
    "start_time": "2024-10-24T06:17:43.723Z"
   },
   {
    "duration": 8,
    "start_time": "2024-10-24T06:17:43.736Z"
   },
   {
    "duration": 86,
    "start_time": "2024-10-24T06:17:43.745Z"
   },
   {
    "duration": 28,
    "start_time": "2024-10-24T06:17:43.833Z"
   },
   {
    "duration": 11,
    "start_time": "2024-10-24T06:17:43.863Z"
   },
   {
    "duration": 17,
    "start_time": "2024-10-24T06:17:43.875Z"
   },
   {
    "duration": 28,
    "start_time": "2024-10-24T06:17:43.893Z"
   },
   {
    "duration": 3,
    "start_time": "2024-10-24T06:17:43.922Z"
   },
   {
    "duration": 6,
    "start_time": "2024-10-24T06:17:43.926Z"
   },
   {
    "duration": 155,
    "start_time": "2024-10-24T06:17:43.933Z"
   },
   {
    "duration": 107,
    "start_time": "2024-10-24T06:17:44.090Z"
   },
   {
    "duration": 70,
    "start_time": "2024-10-24T06:17:44.199Z"
   },
   {
    "duration": 15,
    "start_time": "2024-10-24T06:17:44.271Z"
   },
   {
    "duration": 5,
    "start_time": "2024-10-24T06:17:44.287Z"
   },
   {
    "duration": 4,
    "start_time": "2024-10-24T06:17:44.293Z"
   },
   {
    "duration": 509,
    "start_time": "2024-10-24T06:17:44.298Z"
   },
   {
    "duration": 68,
    "start_time": "2024-10-24T06:17:44.808Z"
   },
   {
    "duration": 4,
    "start_time": "2024-10-24T06:17:44.878Z"
   },
   {
    "duration": 26,
    "start_time": "2024-10-24T06:17:44.884Z"
   },
   {
    "duration": 18,
    "start_time": "2024-10-24T06:17:44.913Z"
   },
   {
    "duration": 68,
    "start_time": "2024-10-24T06:17:44.932Z"
   },
   {
    "duration": 3,
    "start_time": "2024-10-24T06:17:45.001Z"
   },
   {
    "duration": 104,
    "start_time": "2024-10-24T06:17:45.006Z"
   },
   {
    "duration": 3,
    "start_time": "2024-10-24T06:17:45.112Z"
   },
   {
    "duration": 98,
    "start_time": "2024-10-24T06:17:45.117Z"
   },
   {
    "duration": 15,
    "start_time": "2024-10-24T06:17:45.217Z"
   },
   {
    "duration": 64,
    "start_time": "2024-10-24T06:17:45.234Z"
   },
   {
    "duration": 4,
    "start_time": "2024-10-24T06:17:45.300Z"
   },
   {
    "duration": 84,
    "start_time": "2024-10-24T06:17:45.305Z"
   },
   {
    "duration": 55,
    "start_time": "2024-10-24T06:17:45.390Z"
   },
   {
    "duration": 5,
    "start_time": "2024-10-24T06:17:45.446Z"
   },
   {
    "duration": 8,
    "start_time": "2024-10-24T06:17:45.452Z"
   },
   {
    "duration": 40,
    "start_time": "2024-10-24T06:17:45.462Z"
   },
   {
    "duration": 19,
    "start_time": "2024-10-24T06:17:45.503Z"
   },
   {
    "duration": 8,
    "start_time": "2024-10-24T06:17:45.523Z"
   },
   {
    "duration": 29,
    "start_time": "2024-10-24T06:17:45.533Z"
   },
   {
    "duration": 17,
    "start_time": "2024-10-24T06:17:45.563Z"
   },
   {
    "duration": 21,
    "start_time": "2024-10-24T06:17:45.582Z"
   },
   {
    "duration": 9,
    "start_time": "2024-10-24T06:17:45.604Z"
   },
   {
    "duration": 12,
    "start_time": "2024-10-24T06:17:45.615Z"
   },
   {
    "duration": 12,
    "start_time": "2024-10-24T06:17:45.629Z"
   },
   {
    "duration": 7,
    "start_time": "2024-10-24T06:17:45.643Z"
   },
   {
    "duration": 16,
    "start_time": "2024-10-24T06:17:45.651Z"
   },
   {
    "duration": 2,
    "start_time": "2024-10-24T06:17:45.668Z"
   },
   {
    "duration": 34,
    "start_time": "2024-10-24T06:17:45.672Z"
   },
   {
    "duration": 1091,
    "start_time": "2024-10-25T09:35:57.386Z"
   },
   {
    "duration": 300,
    "start_time": "2024-10-25T09:35:58.479Z"
   },
   {
    "duration": 55,
    "start_time": "2024-10-25T09:35:58.780Z"
   },
   {
    "duration": 77,
    "start_time": "2024-10-25T09:35:58.837Z"
   },
   {
    "duration": 9,
    "start_time": "2024-10-25T09:35:58.915Z"
   },
   {
    "duration": 19,
    "start_time": "2024-10-25T09:35:58.925Z"
   },
   {
    "duration": 6,
    "start_time": "2024-10-25T09:35:58.946Z"
   },
   {
    "duration": 6,
    "start_time": "2024-10-25T09:35:58.953Z"
   },
   {
    "duration": 107,
    "start_time": "2024-10-25T09:35:58.960Z"
   },
   {
    "duration": 18,
    "start_time": "2024-10-25T09:35:59.069Z"
   },
   {
    "duration": 19,
    "start_time": "2024-10-25T09:35:59.089Z"
   },
   {
    "duration": 4,
    "start_time": "2024-10-25T09:35:59.109Z"
   },
   {
    "duration": 16,
    "start_time": "2024-10-25T09:35:59.115Z"
   },
   {
    "duration": 13,
    "start_time": "2024-10-25T09:35:59.133Z"
   },
   {
    "duration": 11,
    "start_time": "2024-10-25T09:35:59.148Z"
   },
   {
    "duration": 24,
    "start_time": "2024-10-25T09:35:59.161Z"
   },
   {
    "duration": 188,
    "start_time": "2024-10-25T09:35:59.187Z"
   },
   {
    "duration": 128,
    "start_time": "2024-10-25T09:35:59.377Z"
   },
   {
    "duration": 6,
    "start_time": "2024-10-25T09:35:59.507Z"
   },
   {
    "duration": 26,
    "start_time": "2024-10-25T09:35:59.514Z"
   },
   {
    "duration": 4,
    "start_time": "2024-10-25T09:35:59.542Z"
   },
   {
    "duration": 4,
    "start_time": "2024-10-25T09:35:59.548Z"
   },
   {
    "duration": 592,
    "start_time": "2024-10-25T09:35:59.554Z"
   },
   {
    "duration": 100,
    "start_time": "2024-10-25T09:36:00.148Z"
   },
   {
    "duration": 19,
    "start_time": "2024-10-25T09:36:00.249Z"
   },
   {
    "duration": 54,
    "start_time": "2024-10-25T09:36:00.270Z"
   },
   {
    "duration": 69,
    "start_time": "2024-10-25T09:36:00.326Z"
   },
   {
    "duration": 80,
    "start_time": "2024-10-25T09:36:00.399Z"
   },
   {
    "duration": 39,
    "start_time": "2024-10-25T09:36:00.481Z"
   },
   {
    "duration": 98,
    "start_time": "2024-10-25T09:36:00.522Z"
   },
   {
    "duration": 6,
    "start_time": "2024-10-25T09:36:00.622Z"
   },
   {
    "duration": 81,
    "start_time": "2024-10-25T09:36:00.630Z"
   },
   {
    "duration": 9,
    "start_time": "2024-10-25T09:36:00.713Z"
   },
   {
    "duration": 74,
    "start_time": "2024-10-25T09:36:00.724Z"
   },
   {
    "duration": 5,
    "start_time": "2024-10-25T09:36:00.800Z"
   },
   {
    "duration": 73,
    "start_time": "2024-10-25T09:36:00.806Z"
   },
   {
    "duration": 121,
    "start_time": "2024-10-25T09:36:00.880Z"
   },
   {
    "duration": 5,
    "start_time": "2024-10-25T09:36:01.003Z"
   },
   {
    "duration": 60,
    "start_time": "2024-10-25T09:36:01.011Z"
   },
   {
    "duration": 10,
    "start_time": "2024-10-25T09:36:01.073Z"
   },
   {
    "duration": 4,
    "start_time": "2024-10-25T09:36:01.085Z"
   },
   {
    "duration": 11,
    "start_time": "2024-10-25T09:36:01.091Z"
   },
   {
    "duration": 137,
    "start_time": "2024-10-25T09:36:01.104Z"
   },
   {
    "duration": 6,
    "start_time": "2024-10-25T09:36:01.243Z"
   },
   {
    "duration": 38,
    "start_time": "2024-10-25T09:36:01.251Z"
   },
   {
    "duration": 34,
    "start_time": "2024-10-25T09:36:01.291Z"
   },
   {
    "duration": 81,
    "start_time": "2024-10-25T09:36:01.327Z"
   },
   {
    "duration": 9,
    "start_time": "2024-10-25T09:36:01.410Z"
   },
   {
    "duration": 29,
    "start_time": "2024-10-25T09:36:01.421Z"
   },
   {
    "duration": 33,
    "start_time": "2024-10-25T09:36:01.452Z"
   },
   {
    "duration": 52,
    "start_time": "2024-10-25T09:36:01.487Z"
   },
   {
    "duration": 13,
    "start_time": "2024-10-25T09:36:01.541Z"
   },
   {
    "duration": 31,
    "start_time": "2024-10-25T09:36:01.556Z"
   },
   {
    "duration": 30,
    "start_time": "2024-10-25T09:36:01.589Z"
   },
   {
    "duration": 62,
    "start_time": "2024-10-25T09:36:01.621Z"
   },
   {
    "duration": 50,
    "start_time": "2024-10-25T09:36:01.685Z"
   },
   {
    "duration": 53,
    "start_time": "2024-10-25T09:36:01.736Z"
   },
   {
    "duration": 41,
    "start_time": "2024-10-25T09:36:01.791Z"
   },
   {
    "duration": 9,
    "start_time": "2024-10-25T09:36:01.833Z"
   },
   {
    "duration": 56,
    "start_time": "2024-10-25T09:36:01.844Z"
   },
   {
    "duration": 61,
    "start_time": "2024-10-25T09:36:01.902Z"
   },
   {
    "duration": 26,
    "start_time": "2024-10-25T09:36:01.965Z"
   },
   {
    "duration": 56,
    "start_time": "2024-10-25T09:36:01.993Z"
   },
   {
    "duration": 43,
    "start_time": "2024-10-25T09:36:02.051Z"
   },
   {
    "duration": 1073,
    "start_time": "2024-10-25T09:54:05.401Z"
   },
   {
    "duration": 253,
    "start_time": "2024-10-25T09:54:06.476Z"
   },
   {
    "duration": 58,
    "start_time": "2024-10-25T09:54:06.731Z"
   },
   {
    "duration": 4,
    "start_time": "2024-10-25T09:54:06.790Z"
   },
   {
    "duration": 37,
    "start_time": "2024-10-25T09:54:06.796Z"
   },
   {
    "duration": 17,
    "start_time": "2024-10-25T09:54:06.835Z"
   },
   {
    "duration": 23,
    "start_time": "2024-10-25T09:54:06.854Z"
   },
   {
    "duration": 100,
    "start_time": "2024-10-25T09:54:06.879Z"
   },
   {
    "duration": 41,
    "start_time": "2024-10-25T09:54:06.981Z"
   },
   {
    "duration": 71,
    "start_time": "2024-10-25T09:54:07.024Z"
   },
   {
    "duration": 79,
    "start_time": "2024-10-25T09:54:07.097Z"
   },
   {
    "duration": 36,
    "start_time": "2024-10-25T09:54:07.178Z"
   },
   {
    "duration": 67,
    "start_time": "2024-10-25T09:54:07.215Z"
   },
   {
    "duration": 45,
    "start_time": "2024-10-25T09:54:07.285Z"
   },
   {
    "duration": 16,
    "start_time": "2024-10-25T09:54:07.331Z"
   },
   {
    "duration": 25,
    "start_time": "2024-10-25T09:54:07.349Z"
   },
   {
    "duration": 182,
    "start_time": "2024-10-25T09:54:07.376Z"
   },
   {
    "duration": 119,
    "start_time": "2024-10-25T09:54:07.560Z"
   },
   {
    "duration": 7,
    "start_time": "2024-10-25T09:54:07.681Z"
   },
   {
    "duration": 41,
    "start_time": "2024-10-25T09:54:07.690Z"
   },
   {
    "duration": 40,
    "start_time": "2024-10-25T09:54:07.733Z"
   },
   {
    "duration": 47,
    "start_time": "2024-10-25T09:54:07.776Z"
   },
   {
    "duration": 583,
    "start_time": "2024-10-25T09:54:07.825Z"
   },
   {
    "duration": 122,
    "start_time": "2024-10-25T09:54:08.409Z"
   },
   {
    "duration": 5,
    "start_time": "2024-10-25T09:54:08.532Z"
   },
   {
    "duration": 26,
    "start_time": "2024-10-25T09:54:08.539Z"
   },
   {
    "duration": 35,
    "start_time": "2024-10-25T09:54:08.566Z"
   },
   {
    "duration": 71,
    "start_time": "2024-10-25T09:54:08.602Z"
   },
   {
    "duration": 4,
    "start_time": "2024-10-25T09:54:08.674Z"
   },
   {
    "duration": 85,
    "start_time": "2024-10-25T09:54:08.680Z"
   },
   {
    "duration": 6,
    "start_time": "2024-10-25T09:54:08.767Z"
   },
   {
    "duration": 72,
    "start_time": "2024-10-25T09:54:08.775Z"
   },
   {
    "duration": 12,
    "start_time": "2024-10-25T09:54:08.849Z"
   },
   {
    "duration": 72,
    "start_time": "2024-10-25T09:54:08.863Z"
   },
   {
    "duration": 43,
    "start_time": "2024-10-25T09:54:08.938Z"
   },
   {
    "duration": 22,
    "start_time": "2024-10-25T09:54:08.984Z"
   },
   {
    "duration": 62,
    "start_time": "2024-10-25T09:54:09.008Z"
   },
   {
    "duration": 6,
    "start_time": "2024-10-25T09:54:09.072Z"
   },
   {
    "duration": 40,
    "start_time": "2024-10-25T09:54:09.080Z"
   },
   {
    "duration": 8,
    "start_time": "2024-10-25T09:54:09.122Z"
   },
   {
    "duration": 4,
    "start_time": "2024-10-25T09:54:09.136Z"
   },
   {
    "duration": 12,
    "start_time": "2024-10-25T09:54:09.142Z"
   },
   {
    "duration": 159,
    "start_time": "2024-10-25T09:54:09.156Z"
   },
   {
    "duration": 7,
    "start_time": "2024-10-25T09:54:09.321Z"
   },
   {
    "duration": 8,
    "start_time": "2024-10-25T09:54:09.329Z"
   },
   {
    "duration": 40,
    "start_time": "2024-10-25T09:54:09.338Z"
   },
   {
    "duration": 33,
    "start_time": "2024-10-25T09:54:09.379Z"
   },
   {
    "duration": 3,
    "start_time": "2024-10-25T09:54:09.415Z"
   },
   {
    "duration": 64,
    "start_time": "2024-10-25T09:54:09.420Z"
   },
   {
    "duration": 74,
    "start_time": "2024-10-25T09:54:09.485Z"
   },
   {
    "duration": 88,
    "start_time": "2024-10-25T09:54:09.560Z"
   },
   {
    "duration": 191,
    "start_time": "2024-10-25T09:54:09.650Z"
   },
   {
    "duration": 213,
    "start_time": "2024-10-25T09:54:09.843Z"
   },
   {
    "duration": 80,
    "start_time": "2024-10-25T09:54:10.058Z"
   },
   {
    "duration": 26,
    "start_time": "2024-10-25T09:54:10.139Z"
   },
   {
    "duration": 61,
    "start_time": "2024-10-25T09:54:10.167Z"
   },
   {
    "duration": 21,
    "start_time": "2024-10-25T09:54:10.229Z"
   },
   {
    "duration": 9,
    "start_time": "2024-10-25T09:54:10.251Z"
   },
   {
    "duration": 22,
    "start_time": "2024-10-25T09:54:10.261Z"
   },
   {
    "duration": 24,
    "start_time": "2024-10-25T09:54:10.284Z"
   },
   {
    "duration": 129,
    "start_time": "2024-10-25T09:54:10.309Z"
   },
   {
    "duration": 2,
    "start_time": "2024-10-25T09:54:10.440Z"
   },
   {
    "duration": 22,
    "start_time": "2024-10-25T09:54:10.444Z"
   },
   {
    "duration": 8,
    "start_time": "2024-10-25T09:54:10.467Z"
   },
   {
    "duration": 945,
    "start_time": "2024-10-26T07:31:20.244Z"
   },
   {
    "duration": 243,
    "start_time": "2024-10-26T07:31:21.191Z"
   },
   {
    "duration": 50,
    "start_time": "2024-10-26T07:31:21.436Z"
   },
   {
    "duration": 3,
    "start_time": "2024-10-26T07:31:21.488Z"
   },
   {
    "duration": 6,
    "start_time": "2024-10-26T07:31:21.492Z"
   },
   {
    "duration": 24,
    "start_time": "2024-10-26T07:31:21.499Z"
   },
   {
    "duration": 12,
    "start_time": "2024-10-26T07:31:21.524Z"
   },
   {
    "duration": 7,
    "start_time": "2024-10-26T07:31:21.537Z"
   },
   {
    "duration": 12,
    "start_time": "2024-10-26T07:31:21.545Z"
   },
   {
    "duration": 9,
    "start_time": "2024-10-26T07:31:21.560Z"
   },
   {
    "duration": 11,
    "start_time": "2024-10-26T07:31:21.570Z"
   },
   {
    "duration": 9,
    "start_time": "2024-10-26T07:31:21.583Z"
   },
   {
    "duration": 24,
    "start_time": "2024-10-26T07:31:21.593Z"
   },
   {
    "duration": 12,
    "start_time": "2024-10-26T07:31:21.619Z"
   },
   {
    "duration": 20,
    "start_time": "2024-10-26T07:31:21.633Z"
   },
   {
    "duration": 5,
    "start_time": "2024-10-26T07:31:21.655Z"
   },
   {
    "duration": 9,
    "start_time": "2024-10-26T07:31:21.662Z"
   },
   {
    "duration": 155,
    "start_time": "2024-10-26T07:31:21.673Z"
   },
   {
    "duration": 117,
    "start_time": "2024-10-26T07:31:21.829Z"
   },
   {
    "duration": 5,
    "start_time": "2024-10-26T07:31:21.947Z"
   },
   {
    "duration": 16,
    "start_time": "2024-10-26T07:31:21.953Z"
   },
   {
    "duration": 8,
    "start_time": "2024-10-26T07:31:21.970Z"
   },
   {
    "duration": 9,
    "start_time": "2024-10-26T07:31:21.980Z"
   },
   {
    "duration": 528,
    "start_time": "2024-10-26T07:31:21.990Z"
   },
   {
    "duration": 104,
    "start_time": "2024-10-26T07:31:22.519Z"
   },
   {
    "duration": 5,
    "start_time": "2024-10-26T07:31:22.624Z"
   },
   {
    "duration": 12,
    "start_time": "2024-10-26T07:31:22.631Z"
   },
   {
    "duration": 3,
    "start_time": "2024-10-26T07:31:22.647Z"
   },
   {
    "duration": 98,
    "start_time": "2024-10-26T07:31:22.651Z"
   },
   {
    "duration": 4,
    "start_time": "2024-10-26T07:31:22.750Z"
   },
   {
    "duration": 72,
    "start_time": "2024-10-26T07:31:22.755Z"
   },
   {
    "duration": 3,
    "start_time": "2024-10-26T07:31:22.829Z"
   },
   {
    "duration": 49,
    "start_time": "2024-10-26T07:31:22.834Z"
   },
   {
    "duration": 9,
    "start_time": "2024-10-26T07:31:22.884Z"
   },
   {
    "duration": 71,
    "start_time": "2024-10-26T07:31:22.895Z"
   },
   {
    "duration": 5,
    "start_time": "2024-10-26T07:31:22.968Z"
   },
   {
    "duration": 5,
    "start_time": "2024-10-26T07:31:22.974Z"
   },
   {
    "duration": 87,
    "start_time": "2024-10-26T07:31:22.980Z"
   },
   {
    "duration": 6,
    "start_time": "2024-10-26T07:31:23.069Z"
   },
   {
    "duration": 4,
    "start_time": "2024-10-26T07:31:23.077Z"
   },
   {
    "duration": 7,
    "start_time": "2024-10-26T07:31:23.082Z"
   },
   {
    "duration": 6,
    "start_time": "2024-10-26T07:31:23.090Z"
   },
   {
    "duration": 24,
    "start_time": "2024-10-26T07:31:23.097Z"
   },
   {
    "duration": 136,
    "start_time": "2024-10-26T07:31:23.123Z"
   },
   {
    "duration": 5,
    "start_time": "2024-10-26T07:31:23.261Z"
   },
   {
    "duration": 11,
    "start_time": "2024-10-26T07:31:23.268Z"
   },
   {
    "duration": 9,
    "start_time": "2024-10-26T07:31:23.280Z"
   },
   {
    "duration": 29,
    "start_time": "2024-10-26T07:31:23.290Z"
   },
   {
    "duration": 3,
    "start_time": "2024-10-26T07:31:23.320Z"
   },
   {
    "duration": 5,
    "start_time": "2024-10-26T07:31:23.325Z"
   },
   {
    "duration": 18,
    "start_time": "2024-10-26T07:31:23.331Z"
   },
   {
    "duration": 7,
    "start_time": "2024-10-26T07:31:23.351Z"
   },
   {
    "duration": 8,
    "start_time": "2024-10-26T07:31:23.359Z"
   },
   {
    "duration": 4,
    "start_time": "2024-10-26T07:31:23.368Z"
   },
   {
    "duration": 7,
    "start_time": "2024-10-26T07:31:23.373Z"
   },
   {
    "duration": 5,
    "start_time": "2024-10-26T07:31:23.381Z"
   },
   {
    "duration": 12,
    "start_time": "2024-10-26T07:31:23.388Z"
   },
   {
    "duration": 21,
    "start_time": "2024-10-26T07:31:23.401Z"
   },
   {
    "duration": 9,
    "start_time": "2024-10-26T07:31:23.424Z"
   },
   {
    "duration": 4,
    "start_time": "2024-10-26T07:31:23.434Z"
   },
   {
    "duration": 12,
    "start_time": "2024-10-26T07:31:23.439Z"
   },
   {
    "duration": 25,
    "start_time": "2024-10-26T07:31:23.452Z"
   },
   {
    "duration": 2,
    "start_time": "2024-10-26T07:31:23.479Z"
   },
   {
    "duration": 6,
    "start_time": "2024-10-26T07:31:23.483Z"
   },
   {
    "duration": 5,
    "start_time": "2024-10-26T07:31:23.491Z"
   },
   {
    "duration": 1061,
    "start_time": "2024-10-26T07:36:06.191Z"
   },
   {
    "duration": 169,
    "start_time": "2024-10-26T07:36:07.254Z"
   },
   {
    "duration": 56,
    "start_time": "2024-10-26T07:36:07.425Z"
   },
   {
    "duration": 36,
    "start_time": "2024-10-26T07:36:07.482Z"
   },
   {
    "duration": 13,
    "start_time": "2024-10-26T07:36:07.520Z"
   },
   {
    "duration": 21,
    "start_time": "2024-10-26T07:36:07.534Z"
   },
   {
    "duration": 34,
    "start_time": "2024-10-26T07:36:07.556Z"
   },
   {
    "duration": 17,
    "start_time": "2024-10-26T07:36:07.592Z"
   },
   {
    "duration": 32,
    "start_time": "2024-10-26T07:36:07.611Z"
   },
   {
    "duration": 26,
    "start_time": "2024-10-26T07:36:07.647Z"
   },
   {
    "duration": 56,
    "start_time": "2024-10-26T07:36:07.676Z"
   },
   {
    "duration": 6,
    "start_time": "2024-10-26T07:36:07.734Z"
   },
   {
    "duration": 46,
    "start_time": "2024-10-26T07:36:07.742Z"
   },
   {
    "duration": 10,
    "start_time": "2024-10-26T07:36:07.790Z"
   },
   {
    "duration": 15,
    "start_time": "2024-10-26T07:36:07.801Z"
   },
   {
    "duration": 18,
    "start_time": "2024-10-26T07:36:07.818Z"
   },
   {
    "duration": 39,
    "start_time": "2024-10-26T07:36:07.838Z"
   },
   {
    "duration": 229,
    "start_time": "2024-10-26T07:36:07.879Z"
   },
   {
    "duration": 140,
    "start_time": "2024-10-26T07:36:08.110Z"
   },
   {
    "duration": 29,
    "start_time": "2024-10-26T07:36:08.252Z"
   },
   {
    "duration": 77,
    "start_time": "2024-10-26T07:36:08.282Z"
   },
   {
    "duration": 42,
    "start_time": "2024-10-26T07:36:08.361Z"
   },
   {
    "duration": 16,
    "start_time": "2024-10-26T07:36:08.405Z"
   },
   {
    "duration": 578,
    "start_time": "2024-10-26T07:36:08.423Z"
   },
   {
    "duration": 120,
    "start_time": "2024-10-26T07:36:09.003Z"
   },
   {
    "duration": 5,
    "start_time": "2024-10-26T07:36:09.124Z"
   },
   {
    "duration": 12,
    "start_time": "2024-10-26T07:36:09.131Z"
   },
   {
    "duration": 14,
    "start_time": "2024-10-26T07:36:09.147Z"
   },
   {
    "duration": 83,
    "start_time": "2024-10-26T07:36:09.163Z"
   },
   {
    "duration": 4,
    "start_time": "2024-10-26T07:36:09.247Z"
   },
   {
    "duration": 83,
    "start_time": "2024-10-26T07:36:09.253Z"
   },
   {
    "duration": 4,
    "start_time": "2024-10-26T07:36:09.337Z"
   },
   {
    "duration": 61,
    "start_time": "2024-10-26T07:36:09.343Z"
   },
   {
    "duration": 12,
    "start_time": "2024-10-26T07:36:09.418Z"
   },
   {
    "duration": 53,
    "start_time": "2024-10-26T07:36:09.432Z"
   },
   {
    "duration": 5,
    "start_time": "2024-10-26T07:36:09.487Z"
   },
   {
    "duration": 26,
    "start_time": "2024-10-26T07:36:09.494Z"
   },
   {
    "duration": 61,
    "start_time": "2024-10-26T07:36:09.521Z"
   },
   {
    "duration": 5,
    "start_time": "2024-10-26T07:36:09.584Z"
   },
   {
    "duration": 4,
    "start_time": "2024-10-26T07:36:09.591Z"
   },
   {
    "duration": 3,
    "start_time": "2024-10-26T07:36:09.618Z"
   },
   {
    "duration": 5,
    "start_time": "2024-10-26T07:36:09.623Z"
   },
   {
    "duration": 8,
    "start_time": "2024-10-26T07:36:09.631Z"
   },
   {
    "duration": 198,
    "start_time": "2024-10-26T07:36:09.641Z"
   },
   {
    "duration": 6,
    "start_time": "2024-10-26T07:36:09.841Z"
   },
   {
    "duration": 35,
    "start_time": "2024-10-26T07:36:09.849Z"
   },
   {
    "duration": 41,
    "start_time": "2024-10-26T07:36:09.886Z"
   },
   {
    "duration": 35,
    "start_time": "2024-10-26T07:36:09.928Z"
   },
   {
    "duration": 4,
    "start_time": "2024-10-26T07:36:09.964Z"
   },
   {
    "duration": 36,
    "start_time": "2024-10-26T07:36:09.969Z"
   },
   {
    "duration": 53,
    "start_time": "2024-10-26T07:36:10.007Z"
   },
   {
    "duration": 24,
    "start_time": "2024-10-26T07:36:10.061Z"
   },
   {
    "duration": 37,
    "start_time": "2024-10-26T07:36:10.087Z"
   },
   {
    "duration": 36,
    "start_time": "2024-10-26T07:36:10.126Z"
   },
   {
    "duration": 13,
    "start_time": "2024-10-26T07:36:10.164Z"
   },
   {
    "duration": 42,
    "start_time": "2024-10-26T07:36:10.178Z"
   },
   {
    "duration": 22,
    "start_time": "2024-10-26T07:36:10.222Z"
   },
   {
    "duration": 19,
    "start_time": "2024-10-26T07:36:10.246Z"
   },
   {
    "duration": 18,
    "start_time": "2024-10-26T07:36:10.267Z"
   },
   {
    "duration": 15,
    "start_time": "2024-10-26T07:36:10.286Z"
   },
   {
    "duration": 7,
    "start_time": "2024-10-26T07:36:10.302Z"
   },
   {
    "duration": 43,
    "start_time": "2024-10-26T07:36:10.311Z"
   },
   {
    "duration": 3,
    "start_time": "2024-10-26T07:36:10.356Z"
   },
   {
    "duration": 34,
    "start_time": "2024-10-26T07:36:10.360Z"
   },
   {
    "duration": 48,
    "start_time": "2024-10-26T07:36:10.395Z"
   }
  ],
  "kernelspec": {
   "display_name": "practicum",
   "language": "python",
   "name": "python3"
  },
  "language_info": {
   "codemirror_mode": {
    "name": "ipython",
    "version": 3
   },
   "file_extension": ".py",
   "mimetype": "text/x-python",
   "name": "python",
   "nbconvert_exporter": "python",
   "pygments_lexer": "ipython3",
   "version": "3.9.18"
  },
  "toc": {
   "base_numbering": 1,
   "nav_menu": {},
   "number_sections": true,
   "sideBar": true,
   "skip_h1_title": true,
   "title_cell": "Table of Contents",
   "title_sidebar": "Contents",
   "toc_cell": false,
   "toc_position": {},
   "toc_section_display": true,
   "toc_window_display": false
  }
 },
 "nbformat": 4,
 "nbformat_minor": 2
}
