{
 "cells": [
  {
   "cell_type": "markdown",
   "metadata": {},
   "source": [
    "# Исследовательский анализ профилей потребления пользователей интернет-магазина \"Пока все еще тут\""
   ]
  },
  {
   "cell_type": "markdown",
   "metadata": {},
   "source": [
    "## Материалы  \n",
    "[презентация](https://drive.google.com/file/d/1ZQf3DY9k2iywRuIsTg3M1KeCNh9TBGXh/view?usp=sharing)"
   ]
  },
  {
   "cell_type": "markdown",
   "metadata": {},
   "source": [
    "## Описание данных"
   ]
  },
  {
   "cell_type": "markdown",
   "metadata": {},
   "source": [
    "Датасет описывает транзакции интернет магазина товаров для дома и быта \"Пока все ещё тут\"   \n",
    "\n",
    "Колонки `ecom_dataset_upd.csv`:   \n",
    "`date` - дата заказа   \n",
    "`customer_id` - идентификатор покупателя   \n",
    "`order_id` - идентификатор заказа   \n",
    "`product` - наименование товара   \n",
    "`quantity` - количество товара в заказе   \n",
    "`price` - цена товара  \n",
    "\n"
   ]
  },
  {
   "cell_type": "markdown",
   "metadata": {},
   "source": [
    "## Декомпозиция"
   ]
  },
  {
   "cell_type": "markdown",
   "metadata": {},
   "source": [
    " \n",
    "### Цели: \n",
    "1. разработать рекомендации: каким клиентам и когда рассылать рекламные предложения о каких-либо категориях товаров   \n",
    "2. разработать стратегию по увеличению количества продаваемого товара для каждого сегмента    \n",
    "3. предложить способы повышения возвращаемости покупателей для различных сегментов\n",
    "\n"
   ]
  },
  {
   "cell_type": "markdown",
   "metadata": {},
   "source": [
    "### Предобработка\n"
   ]
  },
  {
   "cell_type": "markdown",
   "metadata": {},
   "source": [
    "1. форматирование названия столбцов\n",
    "2. проверка типов данных\n",
    "3. приведение данных к нужному типу\n",
    "4. проверка на явные и неявные дубликаты \n",
    "5. устранение дубликатов \n",
    "6. проверка на пропуски\n",
    "7. устранение пропусков\n",
    "8. приведение даты к нужному формату и типу\n"
   ]
  },
  {
   "cell_type": "markdown",
   "metadata": {},
   "source": [
    "### Исследовательский аналих данных\n"
   ]
  },
  {
   "cell_type": "markdown",
   "metadata": {},
   "source": [
    "1. Узнать период за который собраны данные\n",
    "2. найти выбросы и их обработать\n",
    "3. выделить основные показатели интернет-магазина\n",
    "    1) динамика выручки\n",
    "    2) средний чек и его динамику\n",
    "    3) помесячную динамику средней выручки\n",
    "4. сегментация покупателей на основе из истории покупок при помощи RFM анализа\n",
    "5. анализ сегментов\n",
    "    1) количество покупателей\n",
    "    2)  средний чек\n",
    "    3) основные продукты и категории\n",
    "    \n",
    "6. анализ сезонности товаров в разрезе сегментов покупателей \n",
    "\n",
    "7. Гипотезы   \n",
    "    1) Нулевая гипотеза: средние чеки сегментов групп равны   \n",
    "    Альт. гипотеза: средние чеки сегментов групп разные\n",
    "       \n",
    "    2) Нулевая гипотеза: средняя выручка сегментов групп одинаковая     \n",
    "    Альт. гипотеза: ср. выручка сегментов групп разная \n"
   ]
  },
  {
   "cell_type": "markdown",
   "metadata": {},
   "source": [
    "## Загрузка библиотек и файлов исследования"
   ]
  },
  {
   "cell_type": "markdown",
   "metadata": {},
   "source": [
    "Выполним загрузку  для анализа и файлов исследования"
   ]
  },
  {
   "cell_type": "code",
   "execution_count": null,
   "metadata": {},
   "outputs": [
    {
     "data": {
      "text/html": [
       "        <script type=\"text/javascript\">\n",
       "        window.PlotlyConfig = {MathJaxConfig: 'local'};\n",
       "        if (window.MathJax && window.MathJax.Hub && window.MathJax.Hub.Config) {window.MathJax.Hub.Config({SVG: {font: \"STIX-Web\"}});}\n",
       "        </script>\n",
       "        <script type=\"module\">import \"https://cdn.plot.ly/plotly-3.0.1.min\"</script>\n",
       "        "
      ]
     },
     "metadata": {},
     "output_type": "display_data"
    }
   ],
   "source": [
    "import pandas as pd\n",
    "import plotly.express as px\n",
    "\n",
    "\n",
    "import numpy as np\n",
    "import scipy.stats as st\n",
    "\n",
    "# для вывода полного содержимого ячейки\n",
    "pd.options.display.max_colwidth = 190\n",
    "\n",
    "\n",
    "import warnings\n",
    "warnings.filterwarnings('ignore')\n",
    "\n",
    "from plotly.offline import init_notebook_mode, iplot\n",
    "init_notebook_mode(connected=True)\n",
    "\n"
   ]
  },
  {
   "cell_type": "markdown",
   "metadata": {},
   "source": [
    "Так как состояние данных - это неизвестность пока их не посмотришь, выполним этап предобработки - ведь от их качества зависит все результатаы исследования"
   ]
  },
  {
   "cell_type": "markdown",
   "metadata": {},
   "source": [
    "## Предобработка"
   ]
  },
  {
   "cell_type": "markdown",
   "metadata": {},
   "source": [
    " \n",
    "Для начала отформатируем названия столбцов - избавимся от пробелов слева и/или справа от названия столбцов"
   ]
  },
  {
   "cell_type": "code",
   "execution_count": 54,
   "metadata": {},
   "outputs": [],
   "source": [
    "data.columns = list(map(lambda x: x.strip(), data.columns))"
   ]
  },
  {
   "cell_type": "markdown",
   "metadata": {},
   "source": [
    "Посмотрим на данные при помощи самодельной функции"
   ]
  },
  {
   "cell_type": "code",
   "execution_count": 55,
   "metadata": {},
   "outputs": [],
   "source": [
    "def get_info_dataframe(dataframe,\n",
    "                       transpose=False,\n",
    "                       count_rows=5\n",
    "                       ):\n",
    "    \"\"\"\n",
    "    получение основной информации о датафрейме: первые строки датафрейма, количество строк, столбцов, дубликатов, пропусков, типы данных\n",
    "    `dataframe` - исследуемый датафрейм,  \n",
    "    `transpose` - перевернуть таблицу на 90°,   \n",
    "    `count_rows` - чило выводимых строк датафрейма (по умолчанию 5)\n",
    "    \"\"\"\n",
    "\n",
    "    # -----------------сбока таблицы с пропусками---------------------\n",
    "\n",
    "    # число пропусков\n",
    "\n",
    "    count_missing = dataframe.isna().sum()\n",
    "\n",
    "    # доля пропусков\n",
    "\n",
    "    missing_percent = count_missing/len(dataframe)*100\n",
    "\n",
    "    # сборка\n",
    "\n",
    "    df = pd.DataFrame(data={'missing': missing_percent,\n",
    "                            'count_missing': count_missing\n",
    "                            }\n",
    "                      )\n",
    "\n",
    "    dt = pd.DataFrame(data={'type': dataframe.dtypes})\n",
    "    df = df.join(dt)\n",
    "\n",
    "    # цветной бар в столбце с долей пропусков и добапвляем знак %\n",
    "\n",
    "    df = df.sort_values('missing', ascending=True)\n",
    "\n",
    "    def color(x):\n",
    "\n",
    "        dict_color = {\n",
    "            \"int64\": \"#3399ff\",\n",
    "            \"float64\": \"#3399ff\",\n",
    "            \"object\": \"magenta\"\n",
    "        }\n",
    "\n",
    "        x = str(x)\n",
    "        return f\"color: {dict_color.get(x)}\"\n",
    "\n",
    "    table_missing = (df.style\n",
    "\n",
    "                     .set_table_styles([{\n",
    "                         'selector': 'tr:hover',\n",
    "                         'props': [('background-color', '#222222'), ('color', '#fff')]\n",
    "                         # [('border-color', 'blue'), ('border-style', 'solid'), ('border-width', '1pt')]\n",
    "                     }])\n",
    "                     .map(lambda x: \"\"\n",
    "                          if x > 0\n",
    "                          else \"color: #32cd32; font-weight:600\",\n",
    "                          subset=[\"missing\", \"count_missing\"])\n",
    "                     .map(color,\n",
    "                          subset=\"type\")\n",
    "                     .bar(subset=\"missing\",\n",
    "                          vmax=100,\n",
    "                          height=90,\n",
    "                          color=\"#f00\",\n",
    "                          )\n",
    "                     .set_caption('Пропуски и тип данных')\n",
    "                     .format(subset=\"missing\",\n",
    "                             formatter=\"{:.2f} %\")\n",
    "\n",
    "                     )\n",
    "\n",
    "    # --------------------------------------\n",
    "\n",
    "    # -------------------------\n",
    "\n",
    "    # часть таблицы\n",
    "    rows, columns = dataframe.shape\n",
    "\n",
    "    # поиск дубликатов\n",
    "    dublicat = dataframe.duplicated().sum()\n",
    "\n",
    "    # харатеристики таблицы\n",
    "    table_shape_duplicat = pd.DataFrame({\"rows\": [rows],\n",
    "                                         \"columns\": [columns],\n",
    "                                         \"duplicates\": [dublicat]})\n",
    "\n",
    "    table_shape_duplicat = (table_shape_duplicat.style\n",
    "\n",
    "                            .map(lambda x: \"background-color: #ff0000; color:black; font-weight:600\"\n",
    "                                 if x > 0\n",
    "                                 else \"background: #32cd32; color:black; font-weight:600\",\n",
    "                                 subset=[\"duplicates\"]).set_caption(\"Размер\"))\n",
    "\n",
    "    # -------------------- вывод на экран --------------\n",
    "\n",
    "    table_first_row = dataframe.head(count_rows)\n",
    "\n",
    "    if transpose:\n",
    "        display(table_first_row.T)\n",
    "    else:\n",
    "        display(table_first_row)\n",
    "\n",
    "    display(table_shape_duplicat)\n",
    "\n",
    "    display(table_missing)\n",
    "\n",
    "    # разделительная линия\n",
    "    print(\"====\"*10, \"\\n\")\n",
    "\n",
    "    # -------------------------------------------------"
   ]
  },
  {
   "cell_type": "code",
   "execution_count": 56,
   "metadata": {},
   "outputs": [
    {
     "data": {
      "text/html": [
       "<div>\n",
       "<style scoped>\n",
       "    .dataframe tbody tr th:only-of-type {\n",
       "        vertical-align: middle;\n",
       "    }\n",
       "\n",
       "    .dataframe tbody tr th {\n",
       "        vertical-align: top;\n",
       "    }\n",
       "\n",
       "    .dataframe thead th {\n",
       "        text-align: right;\n",
       "    }\n",
       "</style>\n",
       "<table border=\"1\" class=\"dataframe\">\n",
       "  <thead>\n",
       "    <tr style=\"text-align: right;\">\n",
       "      <th></th>\n",
       "      <th>date</th>\n",
       "      <th>customer_id</th>\n",
       "      <th>order_id</th>\n",
       "      <th>product</th>\n",
       "      <th>quantity</th>\n",
       "      <th>price</th>\n",
       "    </tr>\n",
       "  </thead>\n",
       "  <tbody>\n",
       "    <tr>\n",
       "      <th>0</th>\n",
       "      <td>2018100100</td>\n",
       "      <td>ee47d746-6d2f-4d3c-9622-c31412542920</td>\n",
       "      <td>68477</td>\n",
       "      <td>Комнатное растение в горшке Алое Вера, d12, h30</td>\n",
       "      <td>1</td>\n",
       "      <td>142.0</td>\n",
       "    </tr>\n",
       "    <tr>\n",
       "      <th>1</th>\n",
       "      <td>2018100100</td>\n",
       "      <td>ee47d746-6d2f-4d3c-9622-c31412542920</td>\n",
       "      <td>68477</td>\n",
       "      <td>Комнатное растение в горшке Кофе Арабика, d12, h25</td>\n",
       "      <td>1</td>\n",
       "      <td>194.0</td>\n",
       "    </tr>\n",
       "    <tr>\n",
       "      <th>2</th>\n",
       "      <td>2018100100</td>\n",
       "      <td>ee47d746-6d2f-4d3c-9622-c31412542920</td>\n",
       "      <td>68477</td>\n",
       "      <td>Радермахера d-12 см h-20 см</td>\n",
       "      <td>1</td>\n",
       "      <td>112.0</td>\n",
       "    </tr>\n",
       "    <tr>\n",
       "      <th>3</th>\n",
       "      <td>2018100100</td>\n",
       "      <td>ee47d746-6d2f-4d3c-9622-c31412542920</td>\n",
       "      <td>68477</td>\n",
       "      <td>Хризолидокарпус Лутесценс d-9 см</td>\n",
       "      <td>1</td>\n",
       "      <td>179.0</td>\n",
       "    </tr>\n",
       "    <tr>\n",
       "      <th>4</th>\n",
       "      <td>2018100100</td>\n",
       "      <td>ee47d746-6d2f-4d3c-9622-c31412542920</td>\n",
       "      <td>68477</td>\n",
       "      <td>Циперус Зумула d-12 см h-25 см</td>\n",
       "      <td>1</td>\n",
       "      <td>112.0</td>\n",
       "    </tr>\n",
       "    <tr>\n",
       "      <th>5</th>\n",
       "      <td>2018100100</td>\n",
       "      <td>ee47d746-6d2f-4d3c-9622-c31412542920</td>\n",
       "      <td>68477</td>\n",
       "      <td>Шеффлера Лузеана d-9 см</td>\n",
       "      <td>1</td>\n",
       "      <td>164.0</td>\n",
       "    </tr>\n",
       "    <tr>\n",
       "      <th>6</th>\n",
       "      <td>2018100100</td>\n",
       "      <td>ee47d746-6d2f-4d3c-9622-c31412542920</td>\n",
       "      <td>68477</td>\n",
       "      <td>Юкка нитчатая d-12 см h-25-35 см</td>\n",
       "      <td>1</td>\n",
       "      <td>134.0</td>\n",
       "    </tr>\n",
       "    <tr>\n",
       "      <th>7</th>\n",
       "      <td>2018100108</td>\n",
       "      <td>375e0724-f033-4c76-b579-84969cf38ee2</td>\n",
       "      <td>68479</td>\n",
       "      <td>Настенная сушилка для белья Gimi Brio Super 100</td>\n",
       "      <td>1</td>\n",
       "      <td>824.0</td>\n",
       "    </tr>\n",
       "    <tr>\n",
       "      <th>8</th>\n",
       "      <td>2018100108</td>\n",
       "      <td>6644e5b4-9934-4863-9778-aaa125207701</td>\n",
       "      <td>68478</td>\n",
       "      <td>Таз пластмассовый 21,0 л круглый \"Водолей\" С614, 1404056</td>\n",
       "      <td>1</td>\n",
       "      <td>269.0</td>\n",
       "    </tr>\n",
       "    <tr>\n",
       "      <th>9</th>\n",
       "      <td>2018100109</td>\n",
       "      <td>c971fb21-d54c-4134-938f-16b62ee86d3b</td>\n",
       "      <td>68480</td>\n",
       "      <td>Чехол для гладильной доски Colombo Persia Beige 130х50 см из хлопка 5379</td>\n",
       "      <td>1</td>\n",
       "      <td>674.0</td>\n",
       "    </tr>\n",
       "    <tr>\n",
       "      <th>10</th>\n",
       "      <td>2018100111</td>\n",
       "      <td>161e1b98-45ba-4b4e-8236-e6e3e70f6f7c</td>\n",
       "      <td>68483</td>\n",
       "      <td>Вешалка для брюк металлическая с резиновым покрытием 26 см цвет: синяя, Attribute, AHS331</td>\n",
       "      <td>10</td>\n",
       "      <td>82.0</td>\n",
       "    </tr>\n",
       "    <tr>\n",
       "      <th>11</th>\n",
       "      <td>2018100112</td>\n",
       "      <td>86432d8d-b706-463b-bd5d-6a9e170daee3</td>\n",
       "      <td>68484</td>\n",
       "      <td>Сушилка для белья потолочная Zalger Lift Basic 1520 200 см, 10 м</td>\n",
       "      <td>1</td>\n",
       "      <td>614.0</td>\n",
       "    </tr>\n",
       "    <tr>\n",
       "      <th>12</th>\n",
       "      <td>2018100113</td>\n",
       "      <td>4d93d3f6-8b24-403b-a74b-f5173e40d7db</td>\n",
       "      <td>68485</td>\n",
       "      <td>Чехол Eurogold Clean Basic хлопок для досок 120х38-120х42 см C42</td>\n",
       "      <td>1</td>\n",
       "      <td>187.0</td>\n",
       "    </tr>\n",
       "    <tr>\n",
       "      <th>13</th>\n",
       "      <td>2018100115</td>\n",
       "      <td>0948b0c2-990b-4a11-b835-69ac4714b21d</td>\n",
       "      <td>68486</td>\n",
       "      <td>Крючок одежный 2-х рожковый серый металлик с полимерным покрытием *Тонар*, 1110027</td>\n",
       "      <td>96</td>\n",
       "      <td>38.0</td>\n",
       "    </tr>\n",
       "    <tr>\n",
       "      <th>14</th>\n",
       "      <td>2018100116</td>\n",
       "      <td>a576fa59-7b28-4a4c-a496-92f128754a94</td>\n",
       "      <td>68487</td>\n",
       "      <td>Корзина мягкая пластиковая 17 л, М-пластика, M2880</td>\n",
       "      <td>1</td>\n",
       "      <td>188.0</td>\n",
       "    </tr>\n",
       "  </tbody>\n",
       "</table>\n",
       "</div>"
      ],
      "text/plain": [
       "          date                           customer_id  order_id  \\\n",
       "0   2018100100  ee47d746-6d2f-4d3c-9622-c31412542920     68477   \n",
       "1   2018100100  ee47d746-6d2f-4d3c-9622-c31412542920     68477   \n",
       "2   2018100100  ee47d746-6d2f-4d3c-9622-c31412542920     68477   \n",
       "3   2018100100  ee47d746-6d2f-4d3c-9622-c31412542920     68477   \n",
       "4   2018100100  ee47d746-6d2f-4d3c-9622-c31412542920     68477   \n",
       "5   2018100100  ee47d746-6d2f-4d3c-9622-c31412542920     68477   \n",
       "6   2018100100  ee47d746-6d2f-4d3c-9622-c31412542920     68477   \n",
       "7   2018100108  375e0724-f033-4c76-b579-84969cf38ee2     68479   \n",
       "8   2018100108  6644e5b4-9934-4863-9778-aaa125207701     68478   \n",
       "9   2018100109  c971fb21-d54c-4134-938f-16b62ee86d3b     68480   \n",
       "10  2018100111  161e1b98-45ba-4b4e-8236-e6e3e70f6f7c     68483   \n",
       "11  2018100112  86432d8d-b706-463b-bd5d-6a9e170daee3     68484   \n",
       "12  2018100113  4d93d3f6-8b24-403b-a74b-f5173e40d7db     68485   \n",
       "13  2018100115  0948b0c2-990b-4a11-b835-69ac4714b21d     68486   \n",
       "14  2018100116  a576fa59-7b28-4a4c-a496-92f128754a94     68487   \n",
       "\n",
       "                                                                                      product  \\\n",
       "0                                             Комнатное растение в горшке Алое Вера, d12, h30   \n",
       "1                                          Комнатное растение в горшке Кофе Арабика, d12, h25   \n",
       "2                                                                 Радермахера d-12 см h-20 см   \n",
       "3                                                            Хризолидокарпус Лутесценс d-9 см   \n",
       "4                                                              Циперус Зумула d-12 см h-25 см   \n",
       "5                                                                     Шеффлера Лузеана d-9 см   \n",
       "6                                                            Юкка нитчатая d-12 см h-25-35 см   \n",
       "7                                             Настенная сушилка для белья Gimi Brio Super 100   \n",
       "8                                    Таз пластмассовый 21,0 л круглый \"Водолей\" С614, 1404056   \n",
       "9                    Чехол для гладильной доски Colombo Persia Beige 130х50 см из хлопка 5379   \n",
       "10  Вешалка для брюк металлическая с резиновым покрытием 26 см цвет: синяя, Attribute, AHS331   \n",
       "11                           Сушилка для белья потолочная Zalger Lift Basic 1520 200 см, 10 м   \n",
       "12                           Чехол Eurogold Clean Basic хлопок для досок 120х38-120х42 см C42   \n",
       "13         Крючок одежный 2-х рожковый серый металлик с полимерным покрытием *Тонар*, 1110027   \n",
       "14                                         Корзина мягкая пластиковая 17 л, М-пластика, M2880   \n",
       "\n",
       "    quantity  price  \n",
       "0          1  142.0  \n",
       "1          1  194.0  \n",
       "2          1  112.0  \n",
       "3          1  179.0  \n",
       "4          1  112.0  \n",
       "5          1  164.0  \n",
       "6          1  134.0  \n",
       "7          1  824.0  \n",
       "8          1  269.0  \n",
       "9          1  674.0  \n",
       "10        10   82.0  \n",
       "11         1  614.0  \n",
       "12         1  187.0  \n",
       "13        96   38.0  \n",
       "14         1  188.0  "
      ]
     },
     "metadata": {},
     "output_type": "display_data"
    },
    {
     "data": {
      "text/html": [
       "<style type=\"text/css\">\n",
       "#T_6613f_row0_col2 {\n",
       "  background: #32cd32;\n",
       "  color: black;\n",
       "  font-weight: 600;\n",
       "}\n",
       "</style>\n",
       "<table id=\"T_6613f\">\n",
       "  <caption>Размер</caption>\n",
       "  <thead>\n",
       "    <tr>\n",
       "      <th class=\"blank level0\" >&nbsp;</th>\n",
       "      <th id=\"T_6613f_level0_col0\" class=\"col_heading level0 col0\" >rows</th>\n",
       "      <th id=\"T_6613f_level0_col1\" class=\"col_heading level0 col1\" >columns</th>\n",
       "      <th id=\"T_6613f_level0_col2\" class=\"col_heading level0 col2\" >duplicates</th>\n",
       "    </tr>\n",
       "  </thead>\n",
       "  <tbody>\n",
       "    <tr>\n",
       "      <th id=\"T_6613f_level0_row0\" class=\"row_heading level0 row0\" >0</th>\n",
       "      <td id=\"T_6613f_row0_col0\" class=\"data row0 col0\" >7474</td>\n",
       "      <td id=\"T_6613f_row0_col1\" class=\"data row0 col1\" >6</td>\n",
       "      <td id=\"T_6613f_row0_col2\" class=\"data row0 col2\" >0</td>\n",
       "    </tr>\n",
       "  </tbody>\n",
       "</table>\n"
      ],
      "text/plain": [
       "<pandas.io.formats.style.Styler at 0x79d5ab9d9b70>"
      ]
     },
     "metadata": {},
     "output_type": "display_data"
    },
    {
     "data": {
      "text/html": [
       "<style type=\"text/css\">\n",
       "#T_08a3d tr:hover {\n",
       "  background-color: #222222;\n",
       "  color: #fff;\n",
       "}\n",
       "#T_08a3d_row0_col0, #T_08a3d_row1_col0, #T_08a3d_row2_col0, #T_08a3d_row3_col0, #T_08a3d_row4_col0, #T_08a3d_row5_col0 {\n",
       "  color: #32cd32;\n",
       "  font-weight: 600;\n",
       "  width: 10em;\n",
       "}\n",
       "#T_08a3d_row0_col1, #T_08a3d_row1_col1, #T_08a3d_row2_col1, #T_08a3d_row3_col1, #T_08a3d_row4_col1, #T_08a3d_row5_col1 {\n",
       "  color: #32cd32;\n",
       "  font-weight: 600;\n",
       "}\n",
       "#T_08a3d_row0_col2, #T_08a3d_row2_col2, #T_08a3d_row4_col2, #T_08a3d_row5_col2 {\n",
       "  color: #3399ff;\n",
       "}\n",
       "#T_08a3d_row1_col2, #T_08a3d_row3_col2 {\n",
       "  color: magenta;\n",
       "}\n",
       "</style>\n",
       "<table id=\"T_08a3d\">\n",
       "  <caption>Пропуски и тип данных</caption>\n",
       "  <thead>\n",
       "    <tr>\n",
       "      <th class=\"blank level0\" >&nbsp;</th>\n",
       "      <th id=\"T_08a3d_level0_col0\" class=\"col_heading level0 col0\" >missing</th>\n",
       "      <th id=\"T_08a3d_level0_col1\" class=\"col_heading level0 col1\" >count_missing</th>\n",
       "      <th id=\"T_08a3d_level0_col2\" class=\"col_heading level0 col2\" >type</th>\n",
       "    </tr>\n",
       "  </thead>\n",
       "  <tbody>\n",
       "    <tr>\n",
       "      <th id=\"T_08a3d_level0_row0\" class=\"row_heading level0 row0\" >date</th>\n",
       "      <td id=\"T_08a3d_row0_col0\" class=\"data row0 col0\" >0.00 %</td>\n",
       "      <td id=\"T_08a3d_row0_col1\" class=\"data row0 col1\" >0</td>\n",
       "      <td id=\"T_08a3d_row0_col2\" class=\"data row0 col2\" >int64</td>\n",
       "    </tr>\n",
       "    <tr>\n",
       "      <th id=\"T_08a3d_level0_row1\" class=\"row_heading level0 row1\" >customer_id</th>\n",
       "      <td id=\"T_08a3d_row1_col0\" class=\"data row1 col0\" >0.00 %</td>\n",
       "      <td id=\"T_08a3d_row1_col1\" class=\"data row1 col1\" >0</td>\n",
       "      <td id=\"T_08a3d_row1_col2\" class=\"data row1 col2\" >object</td>\n",
       "    </tr>\n",
       "    <tr>\n",
       "      <th id=\"T_08a3d_level0_row2\" class=\"row_heading level0 row2\" >order_id</th>\n",
       "      <td id=\"T_08a3d_row2_col0\" class=\"data row2 col0\" >0.00 %</td>\n",
       "      <td id=\"T_08a3d_row2_col1\" class=\"data row2 col1\" >0</td>\n",
       "      <td id=\"T_08a3d_row2_col2\" class=\"data row2 col2\" >int64</td>\n",
       "    </tr>\n",
       "    <tr>\n",
       "      <th id=\"T_08a3d_level0_row3\" class=\"row_heading level0 row3\" >product</th>\n",
       "      <td id=\"T_08a3d_row3_col0\" class=\"data row3 col0\" >0.00 %</td>\n",
       "      <td id=\"T_08a3d_row3_col1\" class=\"data row3 col1\" >0</td>\n",
       "      <td id=\"T_08a3d_row3_col2\" class=\"data row3 col2\" >object</td>\n",
       "    </tr>\n",
       "    <tr>\n",
       "      <th id=\"T_08a3d_level0_row4\" class=\"row_heading level0 row4\" >quantity</th>\n",
       "      <td id=\"T_08a3d_row4_col0\" class=\"data row4 col0\" >0.00 %</td>\n",
       "      <td id=\"T_08a3d_row4_col1\" class=\"data row4 col1\" >0</td>\n",
       "      <td id=\"T_08a3d_row4_col2\" class=\"data row4 col2\" >int64</td>\n",
       "    </tr>\n",
       "    <tr>\n",
       "      <th id=\"T_08a3d_level0_row5\" class=\"row_heading level0 row5\" >price</th>\n",
       "      <td id=\"T_08a3d_row5_col0\" class=\"data row5 col0\" >0.00 %</td>\n",
       "      <td id=\"T_08a3d_row5_col1\" class=\"data row5 col1\" >0</td>\n",
       "      <td id=\"T_08a3d_row5_col2\" class=\"data row5 col2\" >float64</td>\n",
       "    </tr>\n",
       "  </tbody>\n",
       "</table>\n"
      ],
      "text/plain": [
       "<pandas.io.formats.style.Styler at 0x79d5abe4d1b0>"
      ]
     },
     "metadata": {},
     "output_type": "display_data"
    },
    {
     "name": "stdout",
     "output_type": "stream",
     "text": [
      "======================================== \n",
      "\n"
     ]
    }
   ],
   "source": [
    "get_info_dataframe(data, count_rows=15)"
   ]
  },
  {
   "cell_type": "markdown",
   "metadata": {},
   "source": [
    "Явных дубликатов  и пропусков тоже нет во всем датафрейме."
   ]
  },
  {
   "cell_type": "markdown",
   "metadata": {},
   "source": [
    "Проверим на наличие и устраним неявные дубликаты- такие могут встретиться в столбце с товаром `product`"
   ]
  },
  {
   "cell_type": "markdown",
   "metadata": {},
   "source": [
    "Для начала запомним сколько было уникальных товаров до предобработки"
   ]
  },
  {
   "cell_type": "code",
   "execution_count": 57,
   "metadata": {},
   "outputs": [],
   "source": [
    "count_unique_product_old = data['product'].nunique()"
   ]
  },
  {
   "cell_type": "markdown",
   "metadata": {},
   "source": [
    "Приведем все названия товара к нижнему регистру. Так как в названии товара где описаны его габариты в виде диаметра и высоты разнятся по оформлению, например `h-12` и `h12` то приведем их к единообразию убрав знак `-`. Буквы `ё` меняем на `е`, запятые тоже устраняем"
   ]
  },
  {
   "cell_type": "code",
   "execution_count": 58,
   "metadata": {},
   "outputs": [],
   "source": [
    "data['product'] = (data['product']\n",
    "                   .apply(lambda x: x\n",
    "                          .strip()\n",
    "                          .lower()\n",
    "                          .replace('d-', 'd')\n",
    "                          .replace('h-', 'h')\n",
    "                          .replace(',', '')\n",
    "                          .replace('ё', 'е')\n",
    "                          )\n",
    "                   )"
   ]
  },
  {
   "cell_type": "markdown",
   "metadata": {},
   "source": [
    "посчитаем число уникальных товаров после обработки и выведем количество устаненных(никуда не делись просто стали как близнецы) неявных дубликатов"
   ]
  },
  {
   "cell_type": "code",
   "execution_count": 59,
   "metadata": {},
   "outputs": [
    {
     "name": "stdout",
     "output_type": "stream",
     "text": [
      "Устранено неявных дубликатов: 5\n"
     ]
    }
   ],
   "source": [
    "count_unique_product_new = data['product'].nunique()\n",
    "\n",
    "print('Устранено неявных дубликатов:',\n",
    "      count_unique_product_old - count_unique_product_new)"
   ]
  },
  {
   "cell_type": "markdown",
   "metadata": {},
   "source": [
    "Проверим теперь на явные дубликаты в ключевых столбцах"
   ]
  },
  {
   "cell_type": "markdown",
   "metadata": {},
   "source": [
    "посмоьтрим, есть ли такие номера заказов совершенные разными покупателями"
   ]
  },
  {
   "cell_type": "code",
   "execution_count": 60,
   "metadata": {},
   "outputs": [
    {
     "data": {
      "text/html": [
       "<div>\n",
       "<style scoped>\n",
       "    .dataframe tbody tr th:only-of-type {\n",
       "        vertical-align: middle;\n",
       "    }\n",
       "\n",
       "    .dataframe tbody tr th {\n",
       "        vertical-align: top;\n",
       "    }\n",
       "\n",
       "    .dataframe thead th {\n",
       "        text-align: right;\n",
       "    }\n",
       "</style>\n",
       "<table border=\"1\" class=\"dataframe\">\n",
       "  <thead>\n",
       "    <tr style=\"text-align: right;\">\n",
       "      <th></th>\n",
       "      <th>order_id</th>\n",
       "      <th>times</th>\n",
       "    </tr>\n",
       "  </thead>\n",
       "  <tbody>\n",
       "    <tr>\n",
       "      <th>0</th>\n",
       "      <td>12624</td>\n",
       "      <td>1</td>\n",
       "    </tr>\n",
       "    <tr>\n",
       "      <th>1</th>\n",
       "      <td>13547</td>\n",
       "      <td>1</td>\n",
       "    </tr>\n",
       "    <tr>\n",
       "      <th>2</th>\n",
       "      <td>14480</td>\n",
       "      <td>1</td>\n",
       "    </tr>\n",
       "    <tr>\n",
       "      <th>3</th>\n",
       "      <td>14481</td>\n",
       "      <td>1</td>\n",
       "    </tr>\n",
       "    <tr>\n",
       "      <th>4</th>\n",
       "      <td>14482</td>\n",
       "      <td>1</td>\n",
       "    </tr>\n",
       "  </tbody>\n",
       "</table>\n",
       "</div>"
      ],
      "text/plain": [
       "   order_id  times\n",
       "0     12624      1\n",
       "1     13547      1\n",
       "2     14480      1\n",
       "3     14481      1\n",
       "4     14482      1"
      ]
     },
     "execution_count": 60,
     "metadata": {},
     "output_type": "execute_result"
    }
   ],
   "source": [
    "duplicat_orders = (data\n",
    "                   .groupby('order_id')\n",
    "                   ['customer_id']\n",
    "                   .nunique()\n",
    "                   .reset_index()\n",
    "                   .rename(\n",
    "                       columns=dict(customer_id='times')\n",
    "                   )\n",
    "                   )\n",
    "\n",
    "\n",
    "\n",
    "duplicat_orders.head()"
   ]
  },
  {
   "cell_type": "markdown",
   "metadata": {},
   "source": [
    "и посчитаем сколько покупателей \"владеют\" чужими номерами заказов"
   ]
  },
  {
   "cell_type": "code",
   "execution_count": 61,
   "metadata": {},
   "outputs": [
    {
     "data": {
      "text/html": [
       "<div>\n",
       "<style scoped>\n",
       "    .dataframe tbody tr th:only-of-type {\n",
       "        vertical-align: middle;\n",
       "    }\n",
       "\n",
       "    .dataframe tbody tr th {\n",
       "        vertical-align: top;\n",
       "    }\n",
       "\n",
       "    .dataframe thead th {\n",
       "        text-align: right;\n",
       "    }\n",
       "</style>\n",
       "<table border=\"1\" class=\"dataframe\">\n",
       "  <thead>\n",
       "    <tr style=\"text-align: right;\">\n",
       "      <th></th>\n",
       "      <th>times</th>\n",
       "      <th>count_order_id</th>\n",
       "    </tr>\n",
       "  </thead>\n",
       "  <tbody>\n",
       "    <tr>\n",
       "      <th>0</th>\n",
       "      <td>1</td>\n",
       "      <td>3492</td>\n",
       "    </tr>\n",
       "    <tr>\n",
       "      <th>1</th>\n",
       "      <td>2</td>\n",
       "      <td>26</td>\n",
       "    </tr>\n",
       "    <tr>\n",
       "      <th>2</th>\n",
       "      <td>3</td>\n",
       "      <td>2</td>\n",
       "    </tr>\n",
       "    <tr>\n",
       "      <th>3</th>\n",
       "      <td>4</td>\n",
       "      <td>1</td>\n",
       "    </tr>\n",
       "  </tbody>\n",
       "</table>\n",
       "</div>"
      ],
      "text/plain": [
       "   times  count_order_id\n",
       "0      1            3492\n",
       "1      2              26\n",
       "2      3               2\n",
       "3      4               1"
      ]
     },
     "execution_count": 61,
     "metadata": {},
     "output_type": "execute_result"
    }
   ],
   "source": [
    "(duplicat_orders\n",
    " .groupby('times')['order_id']\n",
    " .count()\n",
    " .reset_index()\n",
    " .rename(\n",
    "     columns={'order_id': 'count_order_id'}\n",
    " )\n",
    " )"
   ]
  },
  {
   "cell_type": "markdown",
   "metadata": {},
   "source": [
    "Получается, что существует 3492 уникальных номера заказа которые не повторяются у других пользователей, остальные- встречаются у 2,3 и 4 разлтчных пользователей N-раз. Такое следует исправить."
   ]
  },
  {
   "cell_type": "markdown",
   "metadata": {},
   "source": [
    "отфильтруем датасет по уникальным заказам взятыми из `duplicat_orders`"
   ]
  },
  {
   "cell_type": "code",
   "execution_count": 62,
   "metadata": {},
   "outputs": [],
   "source": [
    "data = (data[\n",
    "    data['order_id']\n",
    "    .isin(\n",
    "        duplicat_orders\n",
    "        .query('times==1')['order_id'])\n",
    "]\n",
    ")"
   ]
  },
  {
   "cell_type": "markdown",
   "metadata": {},
   "source": [
    "теперь проверим дубликаты по пользователю,номеру заказа и его содержимому. "
   ]
  },
  {
   "cell_type": "code",
   "execution_count": 63,
   "metadata": {},
   "outputs": [
    {
     "data": {
      "text/plain": [
       "np.int64(1841)"
      ]
     },
     "execution_count": 63,
     "metadata": {},
     "output_type": "execute_result"
    }
   ],
   "source": [
    "(data\n",
    " .duplicated(\n",
    "     subset=[\n",
    "         'customer_id',\n",
    "         'order_id',\n",
    "         'product',\n",
    "         'quantity',\n",
    "         'price'\n",
    "     ]\n",
    " ).sum()\n",
    " )"
   ]
  },
  {
   "cell_type": "markdown",
   "metadata": {},
   "source": [
    "Они есть. Ликвидируем"
   ]
  },
  {
   "cell_type": "code",
   "execution_count": 64,
   "metadata": {},
   "outputs": [],
   "source": [
    "data = data.drop_duplicates().reset_index(drop=True)"
   ]
  },
  {
   "cell_type": "markdown",
   "metadata": {},
   "source": [
    "Теперь вернемся к типам данных и посмотрим на дату.\n",
    "Во-первых это число , а во-вторых запись очень похожа на дату в виде `ГГГГММДДЧЧ`,  \n",
    "где `ГГГГ` - год    \n",
    "`ММ` - месяц     \n",
    "`ДД` -день   \n",
    "`ЧЧ` - час   "
   ]
  },
  {
   "cell_type": "markdown",
   "metadata": {},
   "source": [
    "приведем ее к виду `ГГГГ-ММ-ДД ЧЧ:00:00`\n"
   ]
  },
  {
   "cell_type": "code",
   "execution_count": 65,
   "metadata": {},
   "outputs": [
    {
     "data": {
      "text/html": [
       "<div>\n",
       "<style scoped>\n",
       "    .dataframe tbody tr th:only-of-type {\n",
       "        vertical-align: middle;\n",
       "    }\n",
       "\n",
       "    .dataframe tbody tr th {\n",
       "        vertical-align: top;\n",
       "    }\n",
       "\n",
       "    .dataframe thead th {\n",
       "        text-align: right;\n",
       "    }\n",
       "</style>\n",
       "<table border=\"1\" class=\"dataframe\">\n",
       "  <thead>\n",
       "    <tr style=\"text-align: right;\">\n",
       "      <th></th>\n",
       "      <th>date</th>\n",
       "      <th>customer_id</th>\n",
       "      <th>order_id</th>\n",
       "      <th>product</th>\n",
       "      <th>quantity</th>\n",
       "      <th>price</th>\n",
       "      <th>datetime</th>\n",
       "    </tr>\n",
       "  </thead>\n",
       "  <tbody>\n",
       "    <tr>\n",
       "      <th>0</th>\n",
       "      <td>2018100100</td>\n",
       "      <td>ee47d746-6d2f-4d3c-9622-c31412542920</td>\n",
       "      <td>68477</td>\n",
       "      <td>комнатное растение в горшке алое вера d12 h30</td>\n",
       "      <td>1</td>\n",
       "      <td>142.0</td>\n",
       "      <td>2018-10-01 00:00:00</td>\n",
       "    </tr>\n",
       "    <tr>\n",
       "      <th>1</th>\n",
       "      <td>2018100100</td>\n",
       "      <td>ee47d746-6d2f-4d3c-9622-c31412542920</td>\n",
       "      <td>68477</td>\n",
       "      <td>комнатное растение в горшке кофе арабика d12 h25</td>\n",
       "      <td>1</td>\n",
       "      <td>194.0</td>\n",
       "      <td>2018-10-01 00:00:00</td>\n",
       "    </tr>\n",
       "    <tr>\n",
       "      <th>2</th>\n",
       "      <td>2018100100</td>\n",
       "      <td>ee47d746-6d2f-4d3c-9622-c31412542920</td>\n",
       "      <td>68477</td>\n",
       "      <td>радермахера d12 см h20 см</td>\n",
       "      <td>1</td>\n",
       "      <td>112.0</td>\n",
       "      <td>2018-10-01 00:00:00</td>\n",
       "    </tr>\n",
       "    <tr>\n",
       "      <th>3</th>\n",
       "      <td>2018100100</td>\n",
       "      <td>ee47d746-6d2f-4d3c-9622-c31412542920</td>\n",
       "      <td>68477</td>\n",
       "      <td>хризолидокарпус лутесценс d9 см</td>\n",
       "      <td>1</td>\n",
       "      <td>179.0</td>\n",
       "      <td>2018-10-01 00:00:00</td>\n",
       "    </tr>\n",
       "    <tr>\n",
       "      <th>4</th>\n",
       "      <td>2018100100</td>\n",
       "      <td>ee47d746-6d2f-4d3c-9622-c31412542920</td>\n",
       "      <td>68477</td>\n",
       "      <td>циперус зумула d12 см h25 см</td>\n",
       "      <td>1</td>\n",
       "      <td>112.0</td>\n",
       "      <td>2018-10-01 00:00:00</td>\n",
       "    </tr>\n",
       "    <tr>\n",
       "      <th>5</th>\n",
       "      <td>2018100100</td>\n",
       "      <td>ee47d746-6d2f-4d3c-9622-c31412542920</td>\n",
       "      <td>68477</td>\n",
       "      <td>шеффлера лузеана d9 см</td>\n",
       "      <td>1</td>\n",
       "      <td>164.0</td>\n",
       "      <td>2018-10-01 00:00:00</td>\n",
       "    </tr>\n",
       "    <tr>\n",
       "      <th>6</th>\n",
       "      <td>2018100100</td>\n",
       "      <td>ee47d746-6d2f-4d3c-9622-c31412542920</td>\n",
       "      <td>68477</td>\n",
       "      <td>юкка нитчатая d12 см h25-35 см</td>\n",
       "      <td>1</td>\n",
       "      <td>134.0</td>\n",
       "      <td>2018-10-01 00:00:00</td>\n",
       "    </tr>\n",
       "    <tr>\n",
       "      <th>7</th>\n",
       "      <td>2018100108</td>\n",
       "      <td>375e0724-f033-4c76-b579-84969cf38ee2</td>\n",
       "      <td>68479</td>\n",
       "      <td>настенная сушилка для белья gimi brio super 100</td>\n",
       "      <td>1</td>\n",
       "      <td>824.0</td>\n",
       "      <td>2018-10-01 08:00:00</td>\n",
       "    </tr>\n",
       "    <tr>\n",
       "      <th>8</th>\n",
       "      <td>2018100108</td>\n",
       "      <td>6644e5b4-9934-4863-9778-aaa125207701</td>\n",
       "      <td>68478</td>\n",
       "      <td>таз пластмассовый 210 л круглый \"водолей\" с614 1404056</td>\n",
       "      <td>1</td>\n",
       "      <td>269.0</td>\n",
       "      <td>2018-10-01 08:00:00</td>\n",
       "    </tr>\n",
       "    <tr>\n",
       "      <th>9</th>\n",
       "      <td>2018100109</td>\n",
       "      <td>c971fb21-d54c-4134-938f-16b62ee86d3b</td>\n",
       "      <td>68480</td>\n",
       "      <td>чехол для гладильной доски colombo persia beige 130х50 см из хлопка 5379</td>\n",
       "      <td>1</td>\n",
       "      <td>674.0</td>\n",
       "      <td>2018-10-01 09:00:00</td>\n",
       "    </tr>\n",
       "  </tbody>\n",
       "</table>\n",
       "</div>"
      ],
      "text/plain": [
       "         date                           customer_id  order_id  \\\n",
       "0  2018100100  ee47d746-6d2f-4d3c-9622-c31412542920     68477   \n",
       "1  2018100100  ee47d746-6d2f-4d3c-9622-c31412542920     68477   \n",
       "2  2018100100  ee47d746-6d2f-4d3c-9622-c31412542920     68477   \n",
       "3  2018100100  ee47d746-6d2f-4d3c-9622-c31412542920     68477   \n",
       "4  2018100100  ee47d746-6d2f-4d3c-9622-c31412542920     68477   \n",
       "5  2018100100  ee47d746-6d2f-4d3c-9622-c31412542920     68477   \n",
       "6  2018100100  ee47d746-6d2f-4d3c-9622-c31412542920     68477   \n",
       "7  2018100108  375e0724-f033-4c76-b579-84969cf38ee2     68479   \n",
       "8  2018100108  6644e5b4-9934-4863-9778-aaa125207701     68478   \n",
       "9  2018100109  c971fb21-d54c-4134-938f-16b62ee86d3b     68480   \n",
       "\n",
       "                                                                    product  \\\n",
       "0                             комнатное растение в горшке алое вера d12 h30   \n",
       "1                          комнатное растение в горшке кофе арабика d12 h25   \n",
       "2                                                 радермахера d12 см h20 см   \n",
       "3                                           хризолидокарпус лутесценс d9 см   \n",
       "4                                              циперус зумула d12 см h25 см   \n",
       "5                                                    шеффлера лузеана d9 см   \n",
       "6                                            юкка нитчатая d12 см h25-35 см   \n",
       "7                           настенная сушилка для белья gimi brio super 100   \n",
       "8                    таз пластмассовый 210 л круглый \"водолей\" с614 1404056   \n",
       "9  чехол для гладильной доски colombo persia beige 130х50 см из хлопка 5379   \n",
       "\n",
       "   quantity  price            datetime  \n",
       "0         1  142.0 2018-10-01 00:00:00  \n",
       "1         1  194.0 2018-10-01 00:00:00  \n",
       "2         1  112.0 2018-10-01 00:00:00  \n",
       "3         1  179.0 2018-10-01 00:00:00  \n",
       "4         1  112.0 2018-10-01 00:00:00  \n",
       "5         1  164.0 2018-10-01 00:00:00  \n",
       "6         1  134.0 2018-10-01 00:00:00  \n",
       "7         1  824.0 2018-10-01 08:00:00  \n",
       "8         1  269.0 2018-10-01 08:00:00  \n",
       "9         1  674.0 2018-10-01 09:00:00  "
      ]
     },
     "execution_count": 65,
     "metadata": {},
     "output_type": "execute_result"
    }
   ],
   "source": [
    "data['datetime'] = pd.to_datetime(data['date'], format='%Y%m%d%H')\n",
    "\n",
    "data.head(10)"
   ]
  },
  {
   "cell_type": "markdown",
   "metadata": {},
   "source": [
    "так как нам определенно понадобится просто дата без времени, то создадим столбец в который запишем дату без времени. Но для удобства уберем старый столбец `date`"
   ]
  },
  {
   "cell_type": "code",
   "execution_count": 66,
   "metadata": {},
   "outputs": [
    {
     "data": {
      "text/plain": [
       "Index(['customer_id', 'order_id', 'product', 'quantity', 'price', 'datetime'], dtype='object')"
      ]
     },
     "execution_count": 66,
     "metadata": {},
     "output_type": "execute_result"
    }
   ],
   "source": [
    "data.drop(columns='date', inplace=True)\n",
    "data.columns"
   ]
  },
  {
   "cell_type": "markdown",
   "metadata": {},
   "source": [
    "создвеам столбец с датой"
   ]
  },
  {
   "cell_type": "code",
   "execution_count": 67,
   "metadata": {},
   "outputs": [
    {
     "data": {
      "text/html": [
       "<div>\n",
       "<style scoped>\n",
       "    .dataframe tbody tr th:only-of-type {\n",
       "        vertical-align: middle;\n",
       "    }\n",
       "\n",
       "    .dataframe tbody tr th {\n",
       "        vertical-align: top;\n",
       "    }\n",
       "\n",
       "    .dataframe thead th {\n",
       "        text-align: right;\n",
       "    }\n",
       "</style>\n",
       "<table border=\"1\" class=\"dataframe\">\n",
       "  <thead>\n",
       "    <tr style=\"text-align: right;\">\n",
       "      <th></th>\n",
       "      <th>customer_id</th>\n",
       "      <th>order_id</th>\n",
       "      <th>product</th>\n",
       "      <th>quantity</th>\n",
       "      <th>price</th>\n",
       "      <th>datetime</th>\n",
       "      <th>date</th>\n",
       "    </tr>\n",
       "  </thead>\n",
       "  <tbody>\n",
       "    <tr>\n",
       "      <th>0</th>\n",
       "      <td>ee47d746-6d2f-4d3c-9622-c31412542920</td>\n",
       "      <td>68477</td>\n",
       "      <td>комнатное растение в горшке алое вера d12 h30</td>\n",
       "      <td>1</td>\n",
       "      <td>142.0</td>\n",
       "      <td>2018-10-01 00:00:00</td>\n",
       "      <td>2018-10-01</td>\n",
       "    </tr>\n",
       "    <tr>\n",
       "      <th>1</th>\n",
       "      <td>ee47d746-6d2f-4d3c-9622-c31412542920</td>\n",
       "      <td>68477</td>\n",
       "      <td>комнатное растение в горшке кофе арабика d12 h25</td>\n",
       "      <td>1</td>\n",
       "      <td>194.0</td>\n",
       "      <td>2018-10-01 00:00:00</td>\n",
       "      <td>2018-10-01</td>\n",
       "    </tr>\n",
       "    <tr>\n",
       "      <th>2</th>\n",
       "      <td>ee47d746-6d2f-4d3c-9622-c31412542920</td>\n",
       "      <td>68477</td>\n",
       "      <td>радермахера d12 см h20 см</td>\n",
       "      <td>1</td>\n",
       "      <td>112.0</td>\n",
       "      <td>2018-10-01 00:00:00</td>\n",
       "      <td>2018-10-01</td>\n",
       "    </tr>\n",
       "    <tr>\n",
       "      <th>3</th>\n",
       "      <td>ee47d746-6d2f-4d3c-9622-c31412542920</td>\n",
       "      <td>68477</td>\n",
       "      <td>хризолидокарпус лутесценс d9 см</td>\n",
       "      <td>1</td>\n",
       "      <td>179.0</td>\n",
       "      <td>2018-10-01 00:00:00</td>\n",
       "      <td>2018-10-01</td>\n",
       "    </tr>\n",
       "    <tr>\n",
       "      <th>4</th>\n",
       "      <td>ee47d746-6d2f-4d3c-9622-c31412542920</td>\n",
       "      <td>68477</td>\n",
       "      <td>циперус зумула d12 см h25 см</td>\n",
       "      <td>1</td>\n",
       "      <td>112.0</td>\n",
       "      <td>2018-10-01 00:00:00</td>\n",
       "      <td>2018-10-01</td>\n",
       "    </tr>\n",
       "    <tr>\n",
       "      <th>5</th>\n",
       "      <td>ee47d746-6d2f-4d3c-9622-c31412542920</td>\n",
       "      <td>68477</td>\n",
       "      <td>шеффлера лузеана d9 см</td>\n",
       "      <td>1</td>\n",
       "      <td>164.0</td>\n",
       "      <td>2018-10-01 00:00:00</td>\n",
       "      <td>2018-10-01</td>\n",
       "    </tr>\n",
       "    <tr>\n",
       "      <th>6</th>\n",
       "      <td>ee47d746-6d2f-4d3c-9622-c31412542920</td>\n",
       "      <td>68477</td>\n",
       "      <td>юкка нитчатая d12 см h25-35 см</td>\n",
       "      <td>1</td>\n",
       "      <td>134.0</td>\n",
       "      <td>2018-10-01 00:00:00</td>\n",
       "      <td>2018-10-01</td>\n",
       "    </tr>\n",
       "    <tr>\n",
       "      <th>7</th>\n",
       "      <td>375e0724-f033-4c76-b579-84969cf38ee2</td>\n",
       "      <td>68479</td>\n",
       "      <td>настенная сушилка для белья gimi brio super 100</td>\n",
       "      <td>1</td>\n",
       "      <td>824.0</td>\n",
       "      <td>2018-10-01 08:00:00</td>\n",
       "      <td>2018-10-01</td>\n",
       "    </tr>\n",
       "    <tr>\n",
       "      <th>8</th>\n",
       "      <td>6644e5b4-9934-4863-9778-aaa125207701</td>\n",
       "      <td>68478</td>\n",
       "      <td>таз пластмассовый 210 л круглый \"водолей\" с614 1404056</td>\n",
       "      <td>1</td>\n",
       "      <td>269.0</td>\n",
       "      <td>2018-10-01 08:00:00</td>\n",
       "      <td>2018-10-01</td>\n",
       "    </tr>\n",
       "    <tr>\n",
       "      <th>9</th>\n",
       "      <td>c971fb21-d54c-4134-938f-16b62ee86d3b</td>\n",
       "      <td>68480</td>\n",
       "      <td>чехол для гладильной доски colombo persia beige 130х50 см из хлопка 5379</td>\n",
       "      <td>1</td>\n",
       "      <td>674.0</td>\n",
       "      <td>2018-10-01 09:00:00</td>\n",
       "      <td>2018-10-01</td>\n",
       "    </tr>\n",
       "  </tbody>\n",
       "</table>\n",
       "</div>"
      ],
      "text/plain": [
       "                            customer_id  order_id  \\\n",
       "0  ee47d746-6d2f-4d3c-9622-c31412542920     68477   \n",
       "1  ee47d746-6d2f-4d3c-9622-c31412542920     68477   \n",
       "2  ee47d746-6d2f-4d3c-9622-c31412542920     68477   \n",
       "3  ee47d746-6d2f-4d3c-9622-c31412542920     68477   \n",
       "4  ee47d746-6d2f-4d3c-9622-c31412542920     68477   \n",
       "5  ee47d746-6d2f-4d3c-9622-c31412542920     68477   \n",
       "6  ee47d746-6d2f-4d3c-9622-c31412542920     68477   \n",
       "7  375e0724-f033-4c76-b579-84969cf38ee2     68479   \n",
       "8  6644e5b4-9934-4863-9778-aaa125207701     68478   \n",
       "9  c971fb21-d54c-4134-938f-16b62ee86d3b     68480   \n",
       "\n",
       "                                                                    product  \\\n",
       "0                             комнатное растение в горшке алое вера d12 h30   \n",
       "1                          комнатное растение в горшке кофе арабика d12 h25   \n",
       "2                                                 радермахера d12 см h20 см   \n",
       "3                                           хризолидокарпус лутесценс d9 см   \n",
       "4                                              циперус зумула d12 см h25 см   \n",
       "5                                                    шеффлера лузеана d9 см   \n",
       "6                                            юкка нитчатая d12 см h25-35 см   \n",
       "7                           настенная сушилка для белья gimi brio super 100   \n",
       "8                    таз пластмассовый 210 л круглый \"водолей\" с614 1404056   \n",
       "9  чехол для гладильной доски colombo persia beige 130х50 см из хлопка 5379   \n",
       "\n",
       "   quantity  price            datetime        date  \n",
       "0         1  142.0 2018-10-01 00:00:00  2018-10-01  \n",
       "1         1  194.0 2018-10-01 00:00:00  2018-10-01  \n",
       "2         1  112.0 2018-10-01 00:00:00  2018-10-01  \n",
       "3         1  179.0 2018-10-01 00:00:00  2018-10-01  \n",
       "4         1  112.0 2018-10-01 00:00:00  2018-10-01  \n",
       "5         1  164.0 2018-10-01 00:00:00  2018-10-01  \n",
       "6         1  134.0 2018-10-01 00:00:00  2018-10-01  \n",
       "7         1  824.0 2018-10-01 08:00:00  2018-10-01  \n",
       "8         1  269.0 2018-10-01 08:00:00  2018-10-01  \n",
       "9         1  674.0 2018-10-01 09:00:00  2018-10-01  "
      ]
     },
     "execution_count": 67,
     "metadata": {},
     "output_type": "execute_result"
    }
   ],
   "source": [
    "data['date'] = data['datetime'].dt.date\n",
    "data.head(10)"
   ]
  },
  {
   "cell_type": "markdown",
   "metadata": {},
   "source": [
    "Теперь данные готовы для дальнейшего анализа"
   ]
  },
  {
   "cell_type": "markdown",
   "metadata": {},
   "source": [
    "## Исследовательский анализ данных"
   ]
  },
  {
   "cell_type": "markdown",
   "metadata": {},
   "source": [
    "### Изучаемый период"
   ]
  },
  {
   "cell_type": "markdown",
   "metadata": {},
   "source": [
    "Для начала узнаем период за который предоставленны данные"
   ]
  },
  {
   "cell_type": "code",
   "execution_count": 68,
   "metadata": {},
   "outputs": [
    {
     "name": "stdout",
     "output_type": "stream",
     "text": [
      "2018-10-01 - 2020-01-31\n"
     ]
    }
   ],
   "source": [
    "print(data['date'].min(), '-', data['date'].max())"
   ]
  },
  {
   "cell_type": "markdown",
   "metadata": {},
   "source": [
    "в годах времени прошло мало, а вот в месяцах - больше 12. Отметим это для себя при построении графиков от времени"
   ]
  },
  {
   "cell_type": "markdown",
   "metadata": {},
   "source": [
    "### Проверка на выбросы и их обработка"
   ]
  },
  {
   "cell_type": "markdown",
   "metadata": {},
   "source": [
    "Поищем выбросы среди полной стоимости заказа и количества заказов на пользователя.   \n",
    "Сначала нужно посчитать стоимость товарной позиции . Потом собрать таблицу с стоимость товаров в заказе"
   ]
  },
  {
   "cell_type": "code",
   "execution_count": 69,
   "metadata": {},
   "outputs": [],
   "source": [
    "data['total_price'] = data['quantity'] * data['price']"
   ]
  },
  {
   "cell_type": "code",
   "execution_count": 70,
   "metadata": {},
   "outputs": [
    {
     "data": {
      "text/html": [
       "<div>\n",
       "<style scoped>\n",
       "    .dataframe tbody tr th:only-of-type {\n",
       "        vertical-align: middle;\n",
       "    }\n",
       "\n",
       "    .dataframe tbody tr th {\n",
       "        vertical-align: top;\n",
       "    }\n",
       "\n",
       "    .dataframe thead th {\n",
       "        text-align: right;\n",
       "    }\n",
       "</style>\n",
       "<table border=\"1\" class=\"dataframe\">\n",
       "  <thead>\n",
       "    <tr style=\"text-align: right;\">\n",
       "      <th></th>\n",
       "      <th>order_id</th>\n",
       "      <th>total_coast</th>\n",
       "    </tr>\n",
       "  </thead>\n",
       "  <tbody>\n",
       "    <tr>\n",
       "      <th>0</th>\n",
       "      <td>12624</td>\n",
       "      <td>375.0</td>\n",
       "    </tr>\n",
       "    <tr>\n",
       "      <th>1</th>\n",
       "      <td>13547</td>\n",
       "      <td>4788.0</td>\n",
       "    </tr>\n",
       "    <tr>\n",
       "      <th>2</th>\n",
       "      <td>14480</td>\n",
       "      <td>359.0</td>\n",
       "    </tr>\n",
       "    <tr>\n",
       "      <th>3</th>\n",
       "      <td>14481</td>\n",
       "      <td>600.0</td>\n",
       "    </tr>\n",
       "    <tr>\n",
       "      <th>4</th>\n",
       "      <td>14482</td>\n",
       "      <td>376.0</td>\n",
       "    </tr>\n",
       "  </tbody>\n",
       "</table>\n",
       "</div>"
      ],
      "text/plain": [
       "   order_id  total_coast\n",
       "0     12624        375.0\n",
       "1     13547       4788.0\n",
       "2     14480        359.0\n",
       "3     14481        600.0\n",
       "4     14482        376.0"
      ]
     },
     "execution_count": 70,
     "metadata": {},
     "output_type": "execute_result"
    }
   ],
   "source": [
    "info_chek = (data\n",
    "             .groupby(['order_id'], as_index=False)\n",
    "             .aggregate({'total_price': 'sum'})\n",
    "             .rename(columns=dict(total_price='total_coast')))\n",
    "\n",
    "\n",
    "info_chek.head()"
   ]
  },
  {
   "cell_type": "markdown",
   "metadata": {},
   "source": [
    "смотрим сумму заказов"
   ]
  },
  {
   "cell_type": "code",
   "execution_count": 71,
   "metadata": {},
   "outputs": [
    {
     "data": {
      "application/vnd.plotly.v1+json": {
       "config": {
        "linkText": "Export to plot.ly",
        "plotlyServerURL": "https://plot.ly",
        "showLink": false
       },
       "data": [
        {
         "hovertemplate": "заказ=%{x}<br>сумма=%{y}<extra></extra>",
         "legendgroup": "",
         "marker": {
          "color": "#636efa",
          "symbol": "circle"
         },
         "mode": "markers",
         "name": "",
         "showlegend": false,
         "type": "scattergl",
         "x": {
          "bdata": "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",
          "dtype": "i2"
         },
         "xaxis": "x",
         "y": {
          "bdata": "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",
          "dtype": "f8"
         },
         "yaxis": "y"
        },
        {
         "alignmentgroup": "True",
         "boxpoints": "all",
         "fillcolor": "rgba(255,255,255,0)",
         "hoveron": "points",
         "hovertemplate": "сумма=%{y}<extra></extra>",
         "jitter": 0,
         "legendgroup": "",
         "line": {
          "color": "rgba(255,255,255,0)"
         },
         "marker": {
          "color": "#636efa",
          "symbol": "line-ew-open"
         },
         "name": "",
         "offsetgroup": "",
         "showlegend": false,
         "type": "box",
         "xaxis": "x2",
         "y": {
          "bdata": "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",
          "dtype": "f8"
         },
         "yaxis": "y2"
        }
       ],
       "layout": {
        "legend": {
         "tracegroupgap": 0
        },
        "template": {
         "data": {
          "bar": [
           {
            "error_x": {
             "color": "#2a3f5f"
            },
            "error_y": {
             "color": "#2a3f5f"
            },
            "marker": {
             "line": {
              "color": "#E5ECF6",
              "width": 0.5
             },
             "pattern": {
              "fillmode": "overlay",
              "size": 10,
              "solidity": 0.2
             }
            },
            "type": "bar"
           }
          ],
          "barpolar": [
           {
            "marker": {
             "line": {
              "color": "#E5ECF6",
              "width": 0.5
             },
             "pattern": {
              "fillmode": "overlay",
              "size": 10,
              "solidity": 0.2
             }
            },
            "type": "barpolar"
           }
          ],
          "carpet": [
           {
            "aaxis": {
             "endlinecolor": "#2a3f5f",
             "gridcolor": "white",
             "linecolor": "white",
             "minorgridcolor": "white",
             "startlinecolor": "#2a3f5f"
            },
            "baxis": {
             "endlinecolor": "#2a3f5f",
             "gridcolor": "white",
             "linecolor": "white",
             "minorgridcolor": "white",
             "startlinecolor": "#2a3f5f"
            },
            "type": "carpet"
           }
          ],
          "choropleth": [
           {
            "colorbar": {
             "outlinewidth": 0,
             "ticks": ""
            },
            "type": "choropleth"
           }
          ],
          "contour": [
           {
            "colorbar": {
             "outlinewidth": 0,
             "ticks": ""
            },
            "colorscale": [
             [
              0,
              "#0d0887"
             ],
             [
              0.1111111111111111,
              "#46039f"
             ],
             [
              0.2222222222222222,
              "#7201a8"
             ],
             [
              0.3333333333333333,
              "#9c179e"
             ],
             [
              0.4444444444444444,
              "#bd3786"
             ],
             [
              0.5555555555555556,
              "#d8576b"
             ],
             [
              0.6666666666666666,
              "#ed7953"
             ],
             [
              0.7777777777777778,
              "#fb9f3a"
             ],
             [
              0.8888888888888888,
              "#fdca26"
             ],
             [
              1,
              "#f0f921"
             ]
            ],
            "type": "contour"
           }
          ],
          "contourcarpet": [
           {
            "colorbar": {
             "outlinewidth": 0,
             "ticks": ""
            },
            "type": "contourcarpet"
           }
          ],
          "heatmap": [
           {
            "colorbar": {
             "outlinewidth": 0,
             "ticks": ""
            },
            "colorscale": [
             [
              0,
              "#0d0887"
             ],
             [
              0.1111111111111111,
              "#46039f"
             ],
             [
              0.2222222222222222,
              "#7201a8"
             ],
             [
              0.3333333333333333,
              "#9c179e"
             ],
             [
              0.4444444444444444,
              "#bd3786"
             ],
             [
              0.5555555555555556,
              "#d8576b"
             ],
             [
              0.6666666666666666,
              "#ed7953"
             ],
             [
              0.7777777777777778,
              "#fb9f3a"
             ],
             [
              0.8888888888888888,
              "#fdca26"
             ],
             [
              1,
              "#f0f921"
             ]
            ],
            "type": "heatmap"
           }
          ],
          "histogram": [
           {
            "marker": {
             "pattern": {
              "fillmode": "overlay",
              "size": 10,
              "solidity": 0.2
             }
            },
            "type": "histogram"
           }
          ],
          "histogram2d": [
           {
            "colorbar": {
             "outlinewidth": 0,
             "ticks": ""
            },
            "colorscale": [
             [
              0,
              "#0d0887"
             ],
             [
              0.1111111111111111,
              "#46039f"
             ],
             [
              0.2222222222222222,
              "#7201a8"
             ],
             [
              0.3333333333333333,
              "#9c179e"
             ],
             [
              0.4444444444444444,
              "#bd3786"
             ],
             [
              0.5555555555555556,
              "#d8576b"
             ],
             [
              0.6666666666666666,
              "#ed7953"
             ],
             [
              0.7777777777777778,
              "#fb9f3a"
             ],
             [
              0.8888888888888888,
              "#fdca26"
             ],
             [
              1,
              "#f0f921"
             ]
            ],
            "type": "histogram2d"
           }
          ],
          "histogram2dcontour": [
           {
            "colorbar": {
             "outlinewidth": 0,
             "ticks": ""
            },
            "colorscale": [
             [
              0,
              "#0d0887"
             ],
             [
              0.1111111111111111,
              "#46039f"
             ],
             [
              0.2222222222222222,
              "#7201a8"
             ],
             [
              0.3333333333333333,
              "#9c179e"
             ],
             [
              0.4444444444444444,
              "#bd3786"
             ],
             [
              0.5555555555555556,
              "#d8576b"
             ],
             [
              0.6666666666666666,
              "#ed7953"
             ],
             [
              0.7777777777777778,
              "#fb9f3a"
             ],
             [
              0.8888888888888888,
              "#fdca26"
             ],
             [
              1,
              "#f0f921"
             ]
            ],
            "type": "histogram2dcontour"
           }
          ],
          "mesh3d": [
           {
            "colorbar": {
             "outlinewidth": 0,
             "ticks": ""
            },
            "type": "mesh3d"
           }
          ],
          "parcoords": [
           {
            "line": {
             "colorbar": {
              "outlinewidth": 0,
              "ticks": ""
             }
            },
            "type": "parcoords"
           }
          ],
          "pie": [
           {
            "automargin": true,
            "type": "pie"
           }
          ],
          "scatter": [
           {
            "fillpattern": {
             "fillmode": "overlay",
             "size": 10,
             "solidity": 0.2
            },
            "type": "scatter"
           }
          ],
          "scatter3d": [
           {
            "line": {
             "colorbar": {
              "outlinewidth": 0,
              "ticks": ""
             }
            },
            "marker": {
             "colorbar": {
              "outlinewidth": 0,
              "ticks": ""
             }
            },
            "type": "scatter3d"
           }
          ],
          "scattercarpet": [
           {
            "marker": {
             "colorbar": {
              "outlinewidth": 0,
              "ticks": ""
             }
            },
            "type": "scattercarpet"
           }
          ],
          "scattergeo": [
           {
            "marker": {
             "colorbar": {
              "outlinewidth": 0,
              "ticks": ""
             }
            },
            "type": "scattergeo"
           }
          ],
          "scattergl": [
           {
            "marker": {
             "colorbar": {
              "outlinewidth": 0,
              "ticks": ""
             }
            },
            "type": "scattergl"
           }
          ],
          "scattermap": [
           {
            "marker": {
             "colorbar": {
              "outlinewidth": 0,
              "ticks": ""
             }
            },
            "type": "scattermap"
           }
          ],
          "scattermapbox": [
           {
            "marker": {
             "colorbar": {
              "outlinewidth": 0,
              "ticks": ""
             }
            },
            "type": "scattermapbox"
           }
          ],
          "scatterpolar": [
           {
            "marker": {
             "colorbar": {
              "outlinewidth": 0,
              "ticks": ""
             }
            },
            "type": "scatterpolar"
           }
          ],
          "scatterpolargl": [
           {
            "marker": {
             "colorbar": {
              "outlinewidth": 0,
              "ticks": ""
             }
            },
            "type": "scatterpolargl"
           }
          ],
          "scatterternary": [
           {
            "marker": {
             "colorbar": {
              "outlinewidth": 0,
              "ticks": ""
             }
            },
            "type": "scatterternary"
           }
          ],
          "surface": [
           {
            "colorbar": {
             "outlinewidth": 0,
             "ticks": ""
            },
            "colorscale": [
             [
              0,
              "#0d0887"
             ],
             [
              0.1111111111111111,
              "#46039f"
             ],
             [
              0.2222222222222222,
              "#7201a8"
             ],
             [
              0.3333333333333333,
              "#9c179e"
             ],
             [
              0.4444444444444444,
              "#bd3786"
             ],
             [
              0.5555555555555556,
              "#d8576b"
             ],
             [
              0.6666666666666666,
              "#ed7953"
             ],
             [
              0.7777777777777778,
              "#fb9f3a"
             ],
             [
              0.8888888888888888,
              "#fdca26"
             ],
             [
              1,
              "#f0f921"
             ]
            ],
            "type": "surface"
           }
          ],
          "table": [
           {
            "cells": {
             "fill": {
              "color": "#EBF0F8"
             },
             "line": {
              "color": "white"
             }
            },
            "header": {
             "fill": {
              "color": "#C8D4E3"
             },
             "line": {
              "color": "white"
             }
            },
            "type": "table"
           }
          ]
         },
         "layout": {
          "annotationdefaults": {
           "arrowcolor": "#2a3f5f",
           "arrowhead": 0,
           "arrowwidth": 1
          },
          "autotypenumbers": "strict",
          "coloraxis": {
           "colorbar": {
            "outlinewidth": 0,
            "ticks": ""
           }
          },
          "colorscale": {
           "diverging": [
            [
             0,
             "#8e0152"
            ],
            [
             0.1,
             "#c51b7d"
            ],
            [
             0.2,
             "#de77ae"
            ],
            [
             0.3,
             "#f1b6da"
            ],
            [
             0.4,
             "#fde0ef"
            ],
            [
             0.5,
             "#f7f7f7"
            ],
            [
             0.6,
             "#e6f5d0"
            ],
            [
             0.7,
             "#b8e186"
            ],
            [
             0.8,
             "#7fbc41"
            ],
            [
             0.9,
             "#4d9221"
            ],
            [
             1,
             "#276419"
            ]
           ],
           "sequential": [
            [
             0,
             "#0d0887"
            ],
            [
             0.1111111111111111,
             "#46039f"
            ],
            [
             0.2222222222222222,
             "#7201a8"
            ],
            [
             0.3333333333333333,
             "#9c179e"
            ],
            [
             0.4444444444444444,
             "#bd3786"
            ],
            [
             0.5555555555555556,
             "#d8576b"
            ],
            [
             0.6666666666666666,
             "#ed7953"
            ],
            [
             0.7777777777777778,
             "#fb9f3a"
            ],
            [
             0.8888888888888888,
             "#fdca26"
            ],
            [
             1,
             "#f0f921"
            ]
           ],
           "sequentialminus": [
            [
             0,
             "#0d0887"
            ],
            [
             0.1111111111111111,
             "#46039f"
            ],
            [
             0.2222222222222222,
             "#7201a8"
            ],
            [
             0.3333333333333333,
             "#9c179e"
            ],
            [
             0.4444444444444444,
             "#bd3786"
            ],
            [
             0.5555555555555556,
             "#d8576b"
            ],
            [
             0.6666666666666666,
             "#ed7953"
            ],
            [
             0.7777777777777778,
             "#fb9f3a"
            ],
            [
             0.8888888888888888,
             "#fdca26"
            ],
            [
             1,
             "#f0f921"
            ]
           ]
          },
          "colorway": [
           "#636efa",
           "#EF553B",
           "#00cc96",
           "#ab63fa",
           "#FFA15A",
           "#19d3f3",
           "#FF6692",
           "#B6E880",
           "#FF97FF",
           "#FECB52"
          ],
          "font": {
           "color": "#2a3f5f"
          },
          "geo": {
           "bgcolor": "white",
           "lakecolor": "white",
           "landcolor": "#E5ECF6",
           "showlakes": true,
           "showland": true,
           "subunitcolor": "white"
          },
          "hoverlabel": {
           "align": "left"
          },
          "hovermode": "closest",
          "mapbox": {
           "style": "light"
          },
          "paper_bgcolor": "white",
          "plot_bgcolor": "#E5ECF6",
          "polar": {
           "angularaxis": {
            "gridcolor": "white",
            "linecolor": "white",
            "ticks": ""
           },
           "bgcolor": "#E5ECF6",
           "radialaxis": {
            "gridcolor": "white",
            "linecolor": "white",
            "ticks": ""
           }
          },
          "scene": {
           "xaxis": {
            "backgroundcolor": "#E5ECF6",
            "gridcolor": "white",
            "gridwidth": 2,
            "linecolor": "white",
            "showbackground": true,
            "ticks": "",
            "zerolinecolor": "white"
           },
           "yaxis": {
            "backgroundcolor": "#E5ECF6",
            "gridcolor": "white",
            "gridwidth": 2,
            "linecolor": "white",
            "showbackground": true,
            "ticks": "",
            "zerolinecolor": "white"
           },
           "zaxis": {
            "backgroundcolor": "#E5ECF6",
            "gridcolor": "white",
            "gridwidth": 2,
            "linecolor": "white",
            "showbackground": true,
            "ticks": "",
            "zerolinecolor": "white"
           }
          },
          "shapedefaults": {
           "line": {
            "color": "#2a3f5f"
           }
          },
          "ternary": {
           "aaxis": {
            "gridcolor": "white",
            "linecolor": "white",
            "ticks": ""
           },
           "baxis": {
            "gridcolor": "white",
            "linecolor": "white",
            "ticks": ""
           },
           "bgcolor": "#E5ECF6",
           "caxis": {
            "gridcolor": "white",
            "linecolor": "white",
            "ticks": ""
           }
          },
          "title": {
           "x": 0.05
          },
          "xaxis": {
           "automargin": true,
           "gridcolor": "white",
           "linecolor": "white",
           "ticks": "",
           "title": {
            "standoff": 15
           },
           "zerolinecolor": "white",
           "zerolinewidth": 2
          },
          "yaxis": {
           "automargin": true,
           "gridcolor": "white",
           "linecolor": "white",
           "ticks": "",
           "title": {
            "standoff": 15
           },
           "zerolinecolor": "white",
           "zerolinewidth": 2
          }
         }
        },
        "title": {
         "text": "Общая сумма заказа"
        },
        "xaxis": {
         "anchor": "y",
         "domain": [
          0,
          0.8358
         ],
         "title": {
          "text": "заказ"
         }
        },
        "xaxis2": {
         "anchor": "y2",
         "domain": [
          0.8408,
          1
         ],
         "matches": "x2",
         "showgrid": false,
         "showline": false,
         "showticklabels": false,
         "ticks": ""
        },
        "yaxis": {
         "anchor": "x",
         "domain": [
          0,
          1
         ],
         "title": {
          "text": "сумма"
         }
        },
        "yaxis2": {
         "anchor": "x2",
         "domain": [
          0,
          1
         ],
         "matches": "y",
         "showgrid": true,
         "showticklabels": false
        }
       }
      },
      "text/html": [
       "<div>            <script src=\"https://cdnjs.cloudflare.com/ajax/libs/mathjax/2.7.5/MathJax.js?config=TeX-AMS-MML_SVG\"></script><script type=\"text/javascript\">if (window.MathJax && window.MathJax.Hub && window.MathJax.Hub.Config) {window.MathJax.Hub.Config({SVG: {font: \"STIX-Web\"}});}</script>                <script type=\"text/javascript\">window.PlotlyConfig = {MathJaxConfig: 'local'};</script>\n",
       "        <script charset=\"utf-8\" src=\"https://cdn.plot.ly/plotly-3.0.1.min.js\"></script>                <div id=\"f4fa7a4f-c7cf-4646-9f34-543d50456e46\" class=\"plotly-graph-div\" style=\"height:525px; width:100%;\"></div>            <script type=\"text/javascript\">                window.PLOTLYENV=window.PLOTLYENV || {};                                if (document.getElementById(\"f4fa7a4f-c7cf-4646-9f34-543d50456e46\")) {                    Plotly.newPlot(                        \"f4fa7a4f-c7cf-4646-9f34-543d50456e46\",                        [{\"hovertemplate\":\"\\u0437\\u0430\\u043a\\u0430\\u0437=%{x}\\u003cbr\\u003e\\u0441\\u0443\\u043c\\u043c\\u0430=%{y}\\u003cextra\\u003e\\u003c\\u002fextra\\u003e\",\"legendgroup\":\"\",\"marker\":{\"color\":\"#636efa\",\"symbol\":\"circle\"},\"mode\":\"markers\",\"name\":\"\",\"showlegend\":false,\"x\":{\"dtype\":\"i2\",\"bdata\":\"AAABAAIAAwAEAAUABgAHAAgACQAKAAsADAANAA4ADwAQABEAEgATABQAFQAWABcAGAAZABoAGwAcAB0AHgAfACAAIQAiACMAJAAlACYAJwAoACkAKgArACwALQAuAC8AMAAxADIAMwA0ADUANgA3ADgAOQA6ADsAPAA9AD4APwBAAEEAQgBDAEQARQBGAEcASABJAEoASwBMAE0ATgBPAFAAUQBSAFMAVABVAFYAVwBYAFkAWgBbAFwAXQBeAF8AYABhAGIAYwBkAGUAZgBnAGgAaQBqAGsAbABtAG4AbwBwAHEAcgBzAHQAdQB2AHcAeAB5AHoAewB8AH0AfgB\\u002fAIAAgQCCAIMAhACFAIYAhwCIAIkAigCLAIwAjQCOAI8AkACRAJIAkwCUAJUAlgCXAJgAmQCaAJsAnACdAJ4AnwCgAKEAogCjAKQApQCmAKcAqACpAKoAqwCsAK0ArgCvALAAsQCyALMAtAC1ALYAtwC4ALkAugC7ALwAvQC+AL8AwADBAMIAwwDEAMUAxgDHAMgAyQDKAMsAzADNAM4AzwDQANEA0gDTANQA1QDWANcA2ADZANoA2wDcAN0A3gDfAOAA4QDiAOMA5ADlAOYA5wDoAOkA6gDrAOwA7QDuAO8A8ADxAPIA8wD0APUA9gD3APgA+QD6APsA\\u002fAD9AP4A\\u002fwAAAQEBAgEDAQQBBQEGAQcBCAEJAQoBCwEMAQ0BDgEPARABEQESARMBFAEVARYBFwEYARkBGgEbARwBHQEeAR8BIAEhASIBIwEkASUBJgEnASgBKQEqASsBLAEtAS4BLwEwATEBMgEzATQBNQE2ATcBOAE5AToBOwE8AT0BPgE\\u002fAUABQQFCAUMBRAFFAUYBRwFIAUkBSgFLAUwBTQFOAU8BUAFRAVIBUwFUAVUBVgFXAVgBWQFaAVsBXAFdAV4BXwFgAWEBYgFjAWQBZQFmAWcBaAFpAWoBawFsAW0BbgFvAXABcQFyAXMBdAF1AXYBdwF4AXkBegF7AXwBfQF+AX8BgAGBAYIBgwGEAYUBhgGHAYgBiQGKAYsBjAGNAY4BjwGQAZEBkgGTAZQBlQGWAZcBmAGZAZoBmwGcAZ0BngGfAaABoQGiAaMBpAGlAaYBpwGoAakBqgGrAawBrQGuAa8BsAGxAbIBswG0AbUBtgG3AbgBuQG6AbsBvAG9Ab4BvwHAAcEBwgHDAcQBxQHGAccByAHJAcoBywHMAc0BzgHPAdAB0QHSAdMB1AHVAdYB1wHYAdkB2gHbAdwB3QHeAd8B4AHhAeIB4wHkAeUB5gHnAegB6QHqAesB7AHtAe4B7wHwAfEB8gHzAfQB9QH2AfcB+AH5AfoB+wH8Af0B\\u002fgH\\u002fAQACAQICAgMCBAIFAgYCBwIIAgkCCgILAgwCDQIOAg8CEAIRAhICEwIUAhUCFgIXAhgCGQIaAhsCHAIdAh4CHwIgAiECIgIjAiQCJQImAicCKAIpAioCKwIsAi0CLgIvAjACMQIyAjMCNAI1AjYCNwI4AjkCOgI7AjwCPQI+Aj8CQAJBAkICQwJEAkUCRgJHAkgCSQJKAksCTAJNAk4CTwJQAlECUgJTAlQCVQJWAlcCWAJZAloCWwJcAl0CXgJfAmACYQJiAmMCZAJlAmYCZwJoAmkCagJrAmwCbQJuAm8CcAJxAnICcwJ0AnUCdgJ3AngCeQJ6AnsCfAJ9An4CfwKAAoECggKDAoQChQKGAocCiAKJAooCiwKMAo0CjgKPApACkQKSApMClAKVApYClwKYApkCmgKbApwCnQKeAp8CoAKhAqICowKkAqUCpgKnAqgCqQKqAqsCrAKtAq4CrwKwArECsgKzArQCtQK2ArcCuAK5AroCuwK8Ar0CvgK\\u002fAsACwQLCAsMCxALFAsYCxwLIAskCygLLAswCzQLOAs8C0ALRAtIC0wLUAtUC1gLXAtgC2QLaAtsC3ALdAt4C3wLgAuEC4gLjAuQC5QLmAucC6ALpAuoC6wLsAu0C7gLvAvAC8QLyAvMC9AL1AvYC9wL4AvkC+gL7AvwC\\u002fQL+Av8CAAMBAwIDAwMEAwUDBgMHAwgDCQMKAwsDDAMNAw4DDwMQAxEDEgMTAxQDFQMWAxcDGAMZAxoDGwMcAx0DHgMfAyADIQMiAyMDJAMlAyYDJwMoAykDKgMrAywDLQMuAy8DMAMxAzIDMwM0AzUDNgM3AzgDOQM6AzsDPAM9Az4DPwNAA0EDQgNDA0QDRQNGA0cDSANJA0oDSwNMA00DTgNPA1ADUQNSA1MDVANVA1YDVwNYA1kDWgNbA1wDXQNeA18DYANhA2IDYwNkA2UDZgNnA2gDaQNqA2sDbANtA24DbwNwA3EDcgNzA3QDdQN2A3cDeAN5A3oDewN8A30DfgN\\u002fA4ADgQOCA4MDhAOFA4YDhwOIA4kDigOLA4wDjQOOA48DkAORA5IDkwOUA5UDlgOXA5gDmQOaA5sDnAOdA54DnwOgA6EDogOjA6QDpQOmA6cDqAOpA6oDqwOsA60DrgOvA7ADsQOyA7MDtAO1A7YDtwO4A7kDugO7A7wDvQO+A78DwAPBA8IDwwPEA8UDxgPHA8gDyQPKA8sDzAPNA84DzwPQA9ED0gPTA9QD1QPWA9cD2APZA9oD2wPcA90D3gPfA+AD4QPiA+MD5APlA+YD5wPoA+kD6gPrA+wD7QPuA+8D8APxA\\u002fID8wP0A\\u002fUD9gP3A\\u002fgD+QP6A\\u002fsD\\u002fAP9A\\u002f4D\\u002fwMABAEEAgQDBAQEBQQGBAcECAQJBAoECwQMBA0EDgQPBBAEEQQSBBMEFAQVBBYEFwQYBBkEGgQbBBwEHQQeBB8EIAQhBCIEIwQkBCUEJgQnBCgEKQQqBCsELAQtBC4ELwQwBDEEMgQzBDQENQQ2BDcEOAQ5BDoEOwQ8BD0EPgQ\\u002fBEAEQQRCBEMERARFBEYERwRIBEkESgRLBEwETQROBE8EUARRBFIEUwRUBFUEVgRXBFgEWQRaBFsEXARdBF4EXwRgBGEEYgRjBGQEZQRmBGcEaARpBGoEawRsBG0EbgRvBHAEcQRyBHMEdAR1BHYEdwR4BHkEegR7BHwEfQR+BH8EgASBBIIEgwSEBIUEhgSHBIgEiQSKBIsEjASNBI4EjwSQBJEEkgSTBJQElQSWBJcEmASZBJoEmwScBJ0EngSfBKAEoQSiBKMEpASlBKYEpwSoBKkEqgSrBKwErQSuBK8EsASxBLIEswS0BLUEtgS3BLgEuQS6BLsEvAS9BL4EvwTABMEEwgTDBMQExQTGBMcEyATJBMoEywTMBM0EzgTPBNAE0QTSBNME1ATVBNYE1wTYBNkE2gTbBNwE3QTeBN8E4AThBOIE4wTkBOUE5gTnBOgE6QTqBOsE7ATtBO4E7wTwBPEE8gTzBPQE9QT2BPcE+AT5BPoE+wT8BP0E\\u002fgT\\u002fBAAFAQUCBQMFBAUFBQYFBwUIBQkFCgULBQwFDQUOBQ8FEAURBRIFEwUUBRUFFgUXBRgFGQUaBRsFHAUdBR4FHwUgBSEFIgUjBSQFJQUmBScFKAUpBSoFKwUsBS0FLgUvBTAFMQUyBTMFNAU1BTYFNwU4BTkFOgU7BTwFPQU+BT8FQAVBBUIFQwVEBUUFRgVHBUgFSQVKBUsFTAVNBU4FTwVQBVEFUgVTBVQFVQVWBVcFWAVZBVoFWwVcBV0FXgVfBWAFYQViBWMFZAVlBWYFZwVoBWkFagVrBWwFbQVuBW8FcAVxBXIFcwV0BXUFdgV3BXgFeQV6BXsFfAV9BX4FfwWABYEFggWDBYQFhQWGBYcFiAWJBYoFiwWMBY0FjgWPBZAFkQWSBZMFlAWVBZYFlwWYBZkFmgWbBZwFnQWeBZ8FoAWhBaIFowWkBaUFpgWnBagFqQWqBasFrAWtBa4FrwWwBbEFsgWzBbQFtQW2BbcFuAW5BboFuwW8Bb0FvgW\\u002fBcAFwQXCBcMFxAXFBcYFxwXIBckFygXLBcwFzQXOBc8F0AXRBdIF0wXUBdUF1gXXBdgF2QXaBdsF3AXdBd4F3wXgBeEF4gXjBeQF5QXmBecF6AXpBeoF6wXsBe0F7gXvBfAF8QXyBfMF9AX1BfYF9wX4BfkF+gX7BfwF\\u002fQX+Bf8FAAYBBgIGAwYEBgUGBgYHBggGCQYKBgsGDAYNBg4GDwYQBhEGEgYTBhQGFQYWBhcGGAYZBhoGGwYcBh0GHgYfBiAGIQYiBiMGJAYlBiYGJwYoBikGKgYrBiwGLQYuBi8GMAYxBjIGMwY0BjUGNgY3BjgGOQY6BjsGPAY9Bj4GPwZABkEGQgZDBkQGRQZGBkcGSAZJBkoGSwZMBk0GTgZPBlAGUQZSBlMGVAZVBlYGVwZYBlkGWgZbBlwGXQZeBl8GYAZhBmIGYwZkBmUGZgZnBmgGaQZqBmsGbAZtBm4GbwZwBnEGcgZzBnQGdQZ2BncGeAZ5BnoGewZ8Bn0GfgZ\\u002fBoAGgQaCBoMGhAaFBoYGhwaIBokGigaLBowGjQaOBo8GkAaRBpIGkwaUBpUGlgaXBpgGmQaaBpsGnAadBp4GnwagBqEGogajBqQGpQamBqcGqAapBqoGqwasBq0GrgavBrAGsQayBrMGtAa1BrYGtwa4BrkGuga7BrwGvQa+Br8GwAbBBsIGwwbEBsUGxgbHBsgGyQbKBssGzAbNBs4GzwbQBtEG0gbTBtQG1QbWBtcG2AbZBtoG2wbcBt0G3gbfBuAG4QbiBuMG5AblBuYG5wboBukG6gbrBuwG7QbuBu8G8AbxBvIG8wb0BvUG9gb3BvgG+Qb6BvsG\\u002fAb9Bv4G\\u002fwYABwEHAgcDBwQHBQcGBwcHCAcJBwoHCwcMBw0HDgcPBxAHEQcSBxMHFAcVBxYHFwcYBxkHGgcbBxwHHQceBx8HIAchByIHIwckByUHJgcnBygHKQcqBysHLActBy4HLwcwBzEHMgczBzQHNQc2BzcHOAc5BzoHOwc8Bz0HPgc\\u002fB0AHQQdCB0MHRAdFB0YHRwdIB0kHSgdLB0wHTQdOB08HUAdRB1IHUwdUB1UHVgdXB1gHWQdaB1sHXAddB14HXwdgB2EHYgdjB2QHZQdmB2cHaAdpB2oHawdsB20HbgdvB3AHcQdyB3MHdAd1B3YHdwd4B3kHegd7B3wHfQd+B38HgAeBB4IHgweEB4UHhgeHB4gHiQeKB4sHjAeNB44HjweQB5EHkgeTB5QHlQeWB5cHmAeZB5oHmwecB50HngefB6AHoQeiB6MHpAelB6YHpweoB6kHqgerB6wHrQeuB68HsAexB7IHswe0B7UHtge3B7gHuQe6B7sHvAe9B74HvwfAB8EHwgfDB8QHxQfGB8cHyAfJB8oHywfMB80HzgfPB9AH0QfSB9MH1AfVB9YH1wfYB9kH2gfbB9wH3QfeB98H4AfhB+IH4wfkB+UH5gfnB+gH6QfqB+sH7AftB+4H7wfwB\\u002fEH8gfzB\\u002fQH9Qf2B\\u002fcH+Af5B\\u002foH+wf8B\\u002f0H\\u002fgf\\u002fBwAIAQgCCAMIBAgFCAYIBwgICAkICggLCAwIDQgOCA8IEAgRCBIIEwgUCBUIFggXCBgIGQgaCBsIHAgdCB4IHwggCCEIIggjCCQIJQgmCCcIKAgpCCoIKwgsCC0ILggvCDAIMQgyCDMINAg1CDYINwg4CDkIOgg7CDwIPQg+CD8IQAhBCEIIQwhECEUIRghHCEgISQhKCEsITAhNCE4ITwhQCFEIUghTCFQIVQhWCFcIWAhZCFoIWwhcCF0IXghfCGAIYQhiCGMIZAhlCGYIZwhoCGkIaghrCGwIbQhuCG8IcAhxCHIIcwh0CHUIdgh3CHgIeQh6CHsIfAh9CH4IfwiACIEIggiDCIQIhQiGCIcIiAiJCIoIiwiMCI0IjgiPCJAIkQiSCJMIlAiVCJYIlwiYCJkImgibCJwInQieCJ8IoAihCKIIowikCKUIpginCKgIqQiqCKsIrAitCK4IrwiwCLEIsgizCLQItQi2CLcIuAi5CLoIuwi8CL0Ivgi\\u002fCMAIwQjCCMMIxAjFCMYIxwjICMkIygjLCMwIzQjOCM8I0AjRCNII0wjUCNUI1gjXCNgI2QjaCNsI3AjdCN4I3wjgCOEI4gjjCOQI5QjmCOcI6AjpCOoI6wjsCO0I7gjvCPAI8QjyCPMI9Aj1CPYI9wj4CPkI+gj7CPwI\\u002fQj+CP8IAAkBCQIJAwkECQUJBgkHCQgJCQkKCQsJDAkNCQ4JDwkQCREJEgkTCRQJFQkWCRcJGAkZCRoJGwkcCR0JHgkfCSAJIQkiCSMJJAklCSYJJwkoCSkJKgkrCSwJLQkuCS8JMAkxCTIJMwk0CTUJNgk3CTgJOQk6CTsJPAk9CT4JPwlACUEJQglDCUQJRQlGCUcJSAlJCUoJSwlMCU0JTglPCVAJUQlSCVMJVAlVCVYJVwlYCVkJWglbCVwJXQleCV8JYAlhCWIJYwlkCWUJZglnCWgJaQlqCWsJbAltCW4JbwlwCXEJcglzCXQJdQl2CXcJeAl5CXoJewl8CX0Jfgl\\u002fCYAJgQmCCYMJhAmFCYYJhwmICYkJigmLCYwJjQmOCY8JkAmRCZIJkwmUCZUJlgmXCZgJmQmaCZsJnAmdCZ4JnwmgCaEJogmjCaQJpQmmCacJqAmpCaoJqwmsCa0JrgmvCbAJsQmyCbMJtAm1CbYJtwm4CbkJugm7CbwJvQm+Cb8JwAnBCcIJwwnECcUJxgnHCcgJyQnKCcsJzAnNCc4JzwnQCdEJ0gnTCdQJ1QnWCdcJ2AnZCdoJ2wncCd0J3gnfCeAJ4QniCeMJ5AnlCeYJ5wnoCekJ6gnrCewJ7QnuCe8J8AnxCfIJ8wn0CfUJ9gn3CfgJ+Qn6CfsJ\\u002fAn9Cf4J\\u002fwkACgEKAgoDCgQKBQoGCgcKCAoJCgoKCwoMCg0KDgoPChAKEQoSChMKFAoVChYKFwoYChkKGgobChwKHQoeCh8KIAohCiIKIwokCiUKJgonCigKKQoqCisKLAotCi4KLwowCjEKMgozCjQKNQo2CjcKOAo5CjoKOwo8Cj0KPgo\\u002fCkAKQQpCCkMKRApFCkYKRwpICkkKSgpLCkwKTQpOCk8KUApRClIKUwpUClUKVgpXClgKWQpaClsKXApdCl4KXwpgCmEKYgpjCmQKZQpmCmcKaAppCmoKawpsCm0KbgpvCnAKcQpyCnMKdAp1CnYKdwp4CnkKegp7CnwKfQp+Cn8KgAqBCoIKgwqECoUKhgqHCogKiQqKCosKjAqNCo4KjwqQCpEKkgqTCpQKlQqWCpcKmAqZCpoKmwqcCp0KngqfCqAKoQqiCqMKpAqlCqYKpwqoCqkKqgqrCqwKrQquCq8KsAqxCrIKswq0CrUKtgq3CrgKuQq6CrsKvAq9Cr4KvwrACsEKwgrDCsQKxQrGCscKyArJCsoKywrMCs0KzgrPCtAK0QrSCtMK1ArVCtYK1wrYCtkK2grbCtwK3QreCt8K4ArhCuIK4wrkCuUK5grnCugK6QrqCusK7ArtCu4K7wrwCvEK8grzCvQK9Qr2CvcK+Ar5CvoK+wr8Cv0K\\u002fgr\\u002fCgALAQsCCwMLBAsFCwYLBwsICwkLCgsLCwwLDQsOCw8LEAsRCxILEwsUCxULFgsXCxgLGQsaCxsLHAsdCx4LHwsgCyELIgsjCyQLJQsmCycLKAspCyoLKwssCy0LLgsvCzALMQsyCzMLNAs1CzYLNws4CzkLOgs7CzwLPQs+Cz8LQAtBC0ILQwtEC0ULRgtHC0gLSQtKC0sLTAtNC04LTwtQC1ELUgtTC1QLVQtWC1cLWAtZC1oLWwtcC10LXgtfC2ALYQtiC2MLZAtlC2YLZwtoC2kLagtrC2wLbQtuC28LcAtxC3ILcwt0C3ULdgt3C3gLeQt6C3sLfAt9C34LfwuAC4ELgguDC4QLhQuGC4cLiAuJC4oLiwuMC40LjguPC5ALkQuSC5MLlAuVC5YLlwuYC5kLmgubC5wLnQueC58LoAuhC6ILowukC6ULpgunC6gLqQuqC6sLrAutC64LrwuwC7ELsguzC7QLtQu2C7cLuAu5C7oLuwu8C70Lvgu\\u002fC8ALwQvCC8MLxAvFC8YLxwvIC8kLygvLC8wLzQvOC88L0AvRC9IL0wvUC9UL1gvXC9gL2QvaC9sL3AvdC94L3wvgC+EL4gvjC+QL5QvmC+cL6AvpC+oL6wvsC+0L7gvvC\\u002fAL8QvyC\\u002fML9Av1C\\u002fYL9wv4C\\u002fkL+gv7C\\u002fwL\\u002fQv+C\\u002f8LAAwBDAIMAwwEDAUMBgwHDAgMCQwKDAsMDAwNDA4MDwwQDBEMEgwTDBQMFQwWDBcMGAwZDBoMGwwcDB0MHgwfDCAMIQwiDCMMJAwlDCYMJwwoDCkMKgwrDCwMLQwuDC8MMAwxDDIMMww0DDUMNgw3DDgMOQw6DDsMPAw9DD4MPwxADEEMQgxDDEQMRQxGDEcMSAxJDEoMSwxMDE0MTgxPDFAMUQxSDFMMVAxVDFYMVwxYDFkMWgxbDFwMXQxeDF8MYAxhDGIMYwxkDGUMZgxnDGgMaQxqDGsMbAxtDG4MbwxwDHEMcgxzDHQMdQx2DHcMeAx5DHoMewx8DH0Mfgx\\u002fDIAMgQyCDIMMhAyFDIYMhwyIDIkMigyLDIwMjQyODI8MkAyRDJIMkwyUDJUMlgyXDJgMmQyaDJsMnAydDJ4MnwygDKEMogyjDKQMpQymDKcMqAypDKoMqwysDK0MrgyvDLAMsQyyDLMMtAy1DLYMtwy4DLkMugy7DLwMvQy+DL8MwAzBDMIMwwzEDMUMxgzHDMgMyQzKDMsMzAzNDM4MzwzQDNEM0gzTDNQM1QzWDNcM2AzZDNoM2wzcDN0M3gzfDOAM4QziDOMM5AzlDOYM5wzoDOkM6gzrDOwM7QzuDO8M8AzxDPIM8wz0DPUM9gz3DPgM+Qz6DPsM\\u002fAz9DP4M\\u002fwwADQENAg0DDQQNBQ0GDQcNCA0JDQoNCw0MDQ0NDg0PDRANEQ0SDRMNFA0VDRYNFw0YDRkNGg0bDRwNHQ0eDR8NIA0hDSINIw0kDSUNJg0nDSgNKQ0qDSsNLA0tDS4NLw0wDTENMg0zDTQNNQ02DTcNOA05DToNOw08DT0NPg0\\u002fDUANQQ1CDUMNRA1FDUYNRw1IDUkNSg1LDUwNTQ1ODU8NUA1RDVINUw1UDVUNVg1XDVgNWQ1aDVsNXA1dDV4NXw1gDWENYg1jDWQNZQ1mDWcNaA1pDWoNaw1sDW0Nbg1vDXANcQ1yDXMNdA11DXYNdw14DXkNeg17DXwNfQ1+DX8NgA2BDYINgw2EDYUNhg2HDYgNiQ2KDYsNjA2NDY4Njw2QDZENkg2TDZQNlQ2WDZcNmA2ZDZoNmw2cDZ0Nng2fDaANoQ2iDaMN\"},\"xaxis\":\"x\",\"y\":{\"dtype\":\"f8\",\"bdata\":\"AAAAAABwd0AAAAAAALSyQAAAAAAAcHZAAAAAAADAgkAAAAAAAIB3QAAAAAAAIIVAAAAAAABgnUAAAAAAABCAQAAAAAAAcIdAAAAAAACAh0AAAAAAAFiTQAAAAAAA8HJAAAAAAADwckAAAAAAACiDQAAAAAAA3LNAAAAAAACwj0AAAAAAAIB3QAAAAAAAQIlAAAAAAABsoEAAAAAAAKCBQAAAAAAAcIdAAAAAAADogUAAAAAAAHCHQAAAAAAAyIRAAAAAAACAfkAAAAAAAJyRQAAAAAAAIHtAAAAAAABwqkAAAAAAACiWQAAAAAAAgIdAAAAAAACAd0AAAAAAADByQAAAAAAA6JtAAAAAAACgc0AAAAAAAJiIQAAAAAAAAItAAAAAAAD4kkAAAAAAADSaQAAAAAAAwIJAAAAAAACAVkAAAAAAAFB5QAAAAAAANqZAAAAAAADggEAAAAAAAMByQAAAAAAA4GBAAAAAAACAdkAAAAAAAACKQAAAAAAAaI9AAAAAAAC2okAAAAAAAMByQAAAAAAA4HBAAAAAAAD4lkAAAAAAACB8QAAAAAAAyKVAAAAAAACglEAAAAAAAPyWQAAAAAAAYIlAAAAAAADAekAAAAAAAIBcQAAAAAAAgH5AAAAAAADQeUAAAAAAAAiRQAAAAAAA4JBAAAAAAAAgfEAAAAAAAICXQAAAAAAAEIlAAAAAAABQmUAAAAAAANidQAAAAAAAIIJAAAAAAAAIj0AAAAAAANSgQAAAAAAA4H5AAAAAAAD4ikAAAAAAACSXQAAAAAAAYH1AAAAAAADYnUAAAAAAABymQAAAAAAAUHlAAAAAAAAgrEAAAAAAAJiBQAAAAAAA\\u002fJJAAAAAAADwk0AAAAAAANCRQAAAAAAARqVAAAAAAAB8m0AAAAAAAFiKQAAAAAAAoJFAAAAAAAAIgkAAAAAAAPCdQAAAAAAAoIpAAAAAAACAZEAAAAAAAPyVQAAAAAAAiIFAAAAAAACQfUAAAAAAANCFQAAAAAAAwHJAAAAAAAAgd0AAAAAAAJyhQAAAAAAAUHlAAAAAAAAwokAAAAAAAMByQAAAAAAAkIFAAAAAAACAh0AAAAAAAACTQAAAAAAAwGJAAAAAAACIkkAAAAAAACClQAAAAAAAgHdAAAAAAAA4p0AAAAAAACB7QAAAAAAAGIhAAAAAAAAIk0AAAAAAAOygQAAAAAAAAHhAAAAAAAAQpkAAAAAAAECdQAAAAAAARKZAAAAAAADPsEAAAAAAAPCTQAAAAAAAVKBAAAAAAAAAc0AAAAAAANBxQAAAAAAAUHlAAAAAAAAgikAAAAAAAFiBQAAAAAAAeI5AAAAAAACQjEAAAAAAACyXQAAAAAAA+JdAAAAAAADQoUAAAAAAAACDQAAAAAAA4IBAAAAAAAAgjEAAAAAAABiTQAAAAAAAoHpAAAAAAAAEoEAAAAAAACBqQAAAAAAA1KZAAAAAAACgj0AAAAAAAErCQAAAAAAAUIlAAAAAAACArUAAAAAAAICQQAAAAAAACIZAAAAAAADQmEAAAAAAAM6xQAAAAAAAcIBAAAAAAAAAdkAAAAAAAPiWQAAAAAAAkIhAAAAAAADgm0AAAAAAALyQQAAAAAAA0MRAAAAAAAAgjEAAAAAAAECKQAAAAAAArJBAAAAAAAAmpUAAAAAAAGiWQAAAAAAAlJVAAAAAAAAooEAAAAAAAPCJQAAAAAAAhJVAAAAAAAAYiUAAAAAAAIySQAAAAAAAXKxAAAAAAADQjUAAAAAAACyQQAAAAAAAqKRAAAAAAACgf0AAAAAAAJCFQAAAAAAAgI5AAAAAAADom0AAAAAAAHiqQAAAAAAAMJlAAAAAAACQhUAAAAAAAKCAQAAAAAAAvJtAAAAAAABAjkAAAAAAANSQQAAAAAAAfJdAAAAAAABAhkAAAAAAAFSgQAAAAAAA4IxAAAAAAACwf0AAAAAAAFB5QAAAAAAAoJBAAAAAAADqokAAAAAAAEiZQAAAAAAAMJRAAAAAAAB4oUAAAAAAAOBgQAAAAAAAIG9AAAAAAAAAY0AAAAAAALS1QAAAAAAA4HBAAAAAAABwjUAAAAAAACCOQAAAAAAAmIxAAAAAAACAdkAAAAAAAAB+QAAAAAAAyJNAAAAAAAAgfUAAAAAAABiVQAAAAAAAQIlAAAAAAACQiUAAAAAAAACWQAAAAAAA2IhAAAAAAADAgkAAAAAAAACGQAAAAAAAgHxAAAAAAACAeUAAAAAAAAB+QAAAAAAA2J5AAAAAAABghUAAAAAAANyTQAAAAAAA8IlAAAAAAACAfEAAAAAAAFuwQAAAAAAAjJVAAAAAAADQgUAAAAAAAEB6QAAAAADgA\\u002fxAAAAAAAAb10AAAAAAAOCQQAAAAAAAwGdAAAAAAAAwnEAAAAAAADCQQAAAAAAASKxAAAAAAAAYlUAAAAAAAKB5QAAAAAAAgI5AAAAAAAAIoUAAAAAAAMCDQAAAAAAAwIJAAAAAAAAEr0AAAAAAAOB\\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\\u002fKBAAAAAAAD4iUAAAAAAAJCBQAAAAAAAwHJAAAAAAADwikAAAAAAALyyQAAAAAAADK9AAAAAAADQeEAAAAAAANCBQAAAAAAAvLtAAAAAAADwe0AAAAAAALySQAAAAAAAgIFAAAAAAABog0AAAAAAAPCGQAAAAAAADJVAAAAAAABIjUAAAAAAAKCPQAAAAAAAPJlAAAAAAADsl0AAAAAAAJCfQAAAAAAAxJlAAAAAAAAYnEAAAAAAALCcQAAAAAAACIxAAAAAAADsmkAAAAAAAABsQAAAAAAAoIpAAAAAAADAiUAAAAAAAJSsQAAAAAAAcHVAAAAAAABoh0AAAAAAABCFQAAAAAAAsHpAAAAAAACWqEAAAAAAAKBiQAAAAAAASI1AAAAAAABup0AAAAAAAOqjQAAAAAAA1qZAAAAAAAAsmEAAAAAAAJiSQAAAAAAA7JBAAAAAAADwhkAAAAAAAL6iQAAAAAAA9J5AAAAAAAC4gkAAAAAAAOiDQAAAAAAAZqBAAAAAAAC8kkAAAAAAAJnBQAAAAAAA8JpAAAAAAACAgUAAAAAAAOqjQAAAAAAAoGJAAAAAAACwckAAAAAAAJiYQAAAAAAAXbVAAAAAAAAQfEAAAAAAAACMQAAAAAAAgFRAAAAAAACYmEAAAAAAADCZQAAAAAAAIIRAAAAAAADok0AAAAAAANimQAAAAAAAAI1AAAAAAACgj0AAAAAAAEqtQAAAAAAAaIdAAAAAAEDK6EAAAAAAAKyXQAAAAAAAFJxAAAAAAABQcUAAAAAAAMBgQAAAAAAAIGxAAAAAAAC4g0AAAAAAAMByQAAAAAAA6INAAAAAAACir0AAAAAAAAyXQAAAAAAAAGxAAAAAAAAgbEAAAAAAAIB0QAAAAAAAbqdAAAAAAAAwc0AAAAAAAOyRQAAAAAAAwIlAAAAAAABgd0AAAAAAAH6kQAAAAAAAvJJAAAAAAAA0kUAAAAAAAFiaQAAAAAAAgG1AAAAAAABAakAAAAAAAHqoQAAAAAAAaKdAAAAAAAAwh0AAAAAAAHCOQAAAAAAAoGJAAAAAAACAb0AAAAAAAO\\u002fAQAAAAAAAMIdAAAAAAAAwh0AAAAAAAGCHQAAAAAAAgJZAAAAAAAAAgUAAAAAAAJySQAAAAAAAoI9AAAAAAAAiwEAAAAAAAMCCQAAAAAAAbJdAAAAAAAAEl0AAAAAAAIG0QAAAAAAAkqFAAAAAAACgYkAAAAAAAAB8QAAAAAAAZJBAAAAAAAB8nkAAAAAAACuwQAAAAAAA4G1AAAAAAABCpkAAAAAAAEB5QAAAAAAA8HtAAAAAAADis0AAAAAAAHe3QAAAAAAAAJZAAAAAAABMmUAAAAAAAHCOQAAAAAAAYI5AAAAAAADEqUAAAAAAADCDQAAAAAAAQFRAAAAAAAB3t0AAAAAAAK29QAAAAAAAYIBAAAAAAIDM10AAAAAAAHSeQAAAAAAASI1AAAAAAABwjkAAAAAAAFClQAAAAAAAkJFAAAAAAADog0AAAAAAALCAQAAAAAAAAI1AAAAAAADIhUAAAAAAAFK3QAAAAAAAdJ5AAAAAAAAYgUAAAAAAAKBiQAAAAAAA0HdAAAAAAAC4gkAAAAAAAGB3QAAAAAAAKr5AAAAAAADwi0AAAAAAABB8QAAAAAAA4KpAAAAAAABoh0AAAAAAAMCMQAAAAAAAdJ5AAAAAAAAgfEAAAAAAABCBQAAAAAAA8IZAAAAAAACAe0AAAAAAAMSZQAAAAAAArKVAAAAAAAAwh0AAAAAAAHB+QAAAAAAAXKpAAAAAAABVs0AAAAAAALySQAAAAAAAZJBAAAAAAACwnEAAAAAAALB5QAAAAAAAfqBAAAAAAACAY0AAAAAAAABWQAAAAAAAgGZAAAAAAAC8kkAAAAAAAGSQQAAAAAAA\\u002fJBAAAAAAABAdkAAAAAAAEqtQAAAAAAAYrVAAAAAAACAfUAAAAAAAOBtQAAAAAAAaIdAAAAAAACgiUAAAAAAAJiYQAAAAAAAYH1AAAAAAADAcEAAAAAAAAiPQAAAAAAAxJBAAAAAAABInUAAAAAAAGy3QAAAAAAAQqZAAAAAAAAYjEAAAAAAAMBQQAAAAAAA6INAAAAAAADwg0AAAAAAACB2QAAAAAAAAC5AAAAAAADAiUAAAAAAABB8QAAAAAAAFKVAAAAAAABAeUAAAAAAAIBzQAAAAAAAMIdAAAAAAADAeUAAAAAAAJiIQAAAAAAAIGxAAAAAAABoh0AAAAAAAMCZQAAAAAAAuIJAAAAAAADgfUAAAAAAANiAQAAAAAAAmJhAAAAAAAAYjEAAAAAAAIBNQAAAAAAAEIhAAAAAAABkkEAAAAAAAMB3QAAAAAAAQHNAAAAAAAAAdUAAAAAAAMB3QAAAAAAAsHJAAAAAAADQeEAAAAAAAIBNQAAAAAAA8IZAAAAAAADwfUAAAAAAAECGQAAAAAAAHJxAAAAAAAD4mUAAAAAAAMSZQAAAAAAAEqNAAAAAAAB8p0AAAAAAAMySQAAAAAAA8KJAAAAAAADIo0AAAAAAALCSQAAAAAAAIIZAAAAAAABCoUAAAAAAAMB3QAAAAAAAaIxAAAAAAADYpkAAAAAAAIBGQAAAAAAA0IxAAAAAAADwi0AAAAAAAOBtQAAAAAAAvJJAAAAAAAB6oEAAAAAAABSVQAAAAAAASJ1AAAAAAADgnUAAAAAAAICkQAAAAAAAsHZAAAAAAADsoEAAAAAAAAyvQAAAAAAACJVAAAAAAADwlkAAAAAAALB6QAAAAAAAoJ5AAAAAAABSo0AAAAAAAABsQAAAAAAAA7NAAAAAAACAYEAAAAAAAPB7QAAAAAAAwHJAAAAAAADog0AAAAAAANCaQAAAAAAAj7FAAAAAAAD0kkAAAAAAgF3DQAAAAAAA4G5AAAAAAADok0AAAAAAALB6QAAAAAAAkqFAAAAAAACApEAAAAAAAKKvQAAAAAAAkJFAAAAAAACQj0AAAAAAAGCAQAAAAAAAAGxAAAAAAAAWpUAAAAAAACi0QAAAAAAAIIdAAAAAAAC+okAAAAAAANimQAAAAAAAtJxAAAAAAABy4EAAAAAAAIBNQAAAAAAA4HtAAAAAAAAQnUAAAAAAACibQAAAAAAAoJ9AAAAAAABkkEAAAAAAAEBWQAAAAAAAEHxAAAAAAADwhkAAAAAAAABuQAAAAAAAcH5AAAAAAAAIgkAAAAAAABiOQAAAAAAAGI5AAAAAAAAWoUAAAAAAAJyWQAAAAAAAdJVAAAAAAABIjUAAAAAAAEiNQAAAAAAAYGdAAAAAAABQiUAAAAAAALByQAAAAAAAZJBAAAAAAAAWpkAAAAAAADCpQAAAAAAA8IZAAAAAAAAATkAAAAAAAMSZQAAAAAAAsHJAAAAAAACIhUAAAAAAAGiHQAAAAAAAQIZAAAAAAABQpEAAAAAAAGiHQAAAAAAAaIdAAAAAAABAaEAAAAAAAPuyQAAAAAAAcI5AAAAAAACgn0AAAAAAAACtQAAAAAAAAFxAAAAAAADIhUAAAAAAAGSQQAAAAAAAAFxAAAAAAACBxEAAAAAAAGSQQAAAAAAAQqZAAAAAAABAckAAAAAAAOCdQAAAAAAA9rdAAAAAAAAAVkAAAAAAAMBgQAAAAAAAwF9AAAAAAAACqkAAAAAAACiQQAAAAAAA1JZAAAAAAADAYEAAAAAAAJB0QAAAAAAADJVAAAAAAAAQfEAAAAAAAIBNQAAAAAAA6qNAAAAAAABAhkAAAAAAAPyQQAAAAAAA4G1AAAAAAAAokkAAAAAAAEidQAAAAAAAZJBAAAAAAACAcEAAAAAAANB\\u002fQAAAAAAAoGJAAAAAAAD0mkAAAAAAAIiVQAAAAAAAgJBAAAAAAAAookAAAAAAACB5QAAAAAAAqLZAAAAAAACgYkAAAAAAAECCQAAAAAAA8H1AAAAAAACYmEAAAAAAAMapQAAAAAAAAIZAAAAAAADEmUAAAAAAAEBpQAAAAAAAcHZAAAAAAAAWpUAAAAAAADCSQAAAAAAAHJxAAAAAAACgs0AAAAAAAIBdQAAAAAAAGIxAAAAAAADwe0AAAAAAAEByQAAAAAAAAEZAAAAAAAAetkAAAAAAACBmQAAAAAAA4G1AAAAAAADAYEAAAAAAABB8QAAAAAAAgF1AAAAAAABCpkAAAAAAAABsQAAAAAAAeIZAAAAAAAD8oEAAAAAAAICEQAAAAAAAgHRAAAAAAAAASkAAAAAAAOiDQAAAAAAAaIdAAAAAAACgY0AAAAAAABCFQAAAAAAAwGBAAAAAAABkkEAAAAAAAKCfQAAAAAAASJ1AAAAAAABQiEAAAAAAAG6nQAAAAAAAmJhAAAAAAABggEAAAAAAAIBNQAAAAAAAxKlAAAAAAABkoEAAAAAAABB8QAAAAAAAkqFAAAAAAABkkEAAAAAAAPCWQAAAAAAAVJNAAAAAAABIl0AAAAAAAEBWQAAAAAAAUHhAAAAAAADwmkAAAAAAABB8QAAAAAAAAIZAAAAAAAAgikAAAAAAACBqQAAAAAAAgGJAAAAAAACAg0AAAAAAAFiEQAAAAAAAAL1AAAAAAAAcsEAAAAAAAEiiQAAAAAAA6INAAAAAAADAeUAAAAAAABCcQAAAAAAAAEpAAAAAAACgYkAAAAAAAGSQQAAAAAAAZJBAAAAAAACge0AAAAAAAOiDQAAAAAAAxJlAAAAAAABkkEAAAAAAAMCBQAAAAAAAoHtAAAAAAAAWpUAAAAAAAMBwQAAAAAAAxJlAAAAAAAAAfEAAAAAAAMBgQAAAAAAAIIZAAAAAAAAAVkAAAAAAAGB3QAAAAAAAiKtAAAAAAABoh0AAAAAAAHB2QAAAAAAAYHdAAAAAAADAVUAAAAAAAGSQQAAAAAAA8HZAAAAAAADYgEAAAAAAAECGQAAAAAAASIdAAAAAAAC8kkAAAAAAAIBlQAAAAAAAZKBAAAAAAABInUAAAAAAADCZQAAAAAAAAEZAAAAAAACwgkAAAAAAAGSQQAAAAAAAIIBAAAAAAACYiEAAAAAAABalQAAAAAAAoGJAAAAAAAB+uEAAAAAAAIBSQAAAAAAAwIlAAAAAAADEmUAAAAAAgPPfQAAAAAAAHKxAAAAAAADMokAAAAAAAHCeQAAAAAAAIHtAAAAAAADog0AAAAAAAABsQAAAAAAAAEpAAAAAAAD8kkAAAAAAAECSQAAAAAAAZJBAAAAAAABkoEAAAAAAAHCiQAAAAAAA4H1AAAAAAAB\\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\\u002fJBAAAAAAACgn0AAAAAAAAA2QAAAAAAAwHJAAAAAAAAAXEAAAAAAACBqQAAAAAAAAJhAAAAAAAAcnEAAAAAAAJiDQAAAAAAAxJlAAAAAAAAQfEAAAAAAAMBQQAAAAAAAZqBAAAAAAAAQhUAAAAAAAFB4QAAAAAAAwF1AAAAAAACgYkAAAAAAAGB3QAAAAAAAoGJAAAAAAADwnUAAAAAAAEjBQAAAAAAAvqNAAAAAAACPtkAAAAAAALByQAAAAAAAmJhAAAAAAACgj0AAAAAAAGCAQAAAAAAAcH5AAAAAAAAAbEAAAAAAALByQAAAAAAAXbNAAAAAAAAokkAAAAAAAMBfQAAAAAAAAHxAAAAAAADAWUAAAAAAALiGQAAAAAAASq1AAAAAAABwjkAAAAAAAECWQAAAAAAAgFJAAAAAAABAlkAAAAAAANiEQAAAAAAAoGNAAAAAAAAAfUAAAAAAACBqQAAAAAAA2JNAAAAAAACBtEAAAAAAALiGQAAAAAAAuIZAAAAAAAAMr0AAAAAAAMBgQAAAAAAAAEZAAAAAAADAckAAAAAAALiCQAAAAAAAoGJAAAAAAABAaUAAAAAAACbQQAAAAAAAFqVAAAAAAACwckAAAAAAAJiYQAAAAAAAcI5AAAAAAAAcnEAAAAAAAAA2QAAAAAAABbhAAAAAAADsk0AAAAAAAEiNQAAAAAAAEIlAAAAAAACAVEAAAAAAAMBQQAAAAAAAdJ5AAAAAAAASpUAAAAAAAOBxQAAAAAAAAFpAAAAAAADAYEAAAAAAABiMQAAAAAAA2IRAAAAAAACgiUAAAAAAAMBwQAAAAAAAAEZAAAAAAAAYjEAAAAAAABicQAAAAAAAxJlAAAAAAABol0AAAAAAAGCEQAAAAAAAQJZAAAAAAAAAakAAAAAAAMiBQAAAAAAAuIZAAAAAAACATUAAAAAAAHzFQAAAAAAAgIJAAAAAAAA4zUAAAAAAAGBnQAAAAAAAxJlAAAAAAAAwmEAAAAAAAJCRQAAAAAAAHJxAAAAAAAAwg0AAAAAAAG6nQAAAAAAAAFZAAAAAAADAYEAAAAAAAIirQAAAAAAAzJFAAAAAAAB0nkAAAAAAAEByQAAAAAAAyJdAAAAAAACgn0AAAAAAAFB4QAAAAAAAwF1AAAAAAAAAVkAAAAAAANCaQAAAAAAAAG5AAAAAAABgjUAAAAAAAGCEQAAAAAAAgIJAAAAAAAD8kEAAAAAAAABaQAAAAAAAwHFAAAAAAAAge0AAAAAAAIBbQAAAAAAAUHFAAAAAAAAwg0AAAAAAACiiQAAAAAAAIGpAAAAAAAAcnEAAAAAAAJiIQAAAAAAAAHVAAAAAAAAcnEAAAAAAAFB4QAAAAAAAwGBAAAAAAAAAbUAAAAAAAJiYQAAAAAAA\\u002fJBAAAAAAACAUEAAAAAAAIiRQAAAAAAAgGRAAAAAAADAYEAAAAAAAABGQAAAAAAABJZAAAAAAAACqkAAAAAAAMBgQAAAAAAAsHJAAAAAAADUq0AAAAAAAIB0QAAAAAAAYIdAAAAAAAAYjEAAAAAAAMBgQAAAAAAA+IJAAAAAAACmrEAAAAAAAKBjQAAAAAAAYGZAAAAAAACAXUAAAAAAAAKqQAAAAAAAwGBAAAAAAABInUAAAAAAACiiQAAAAAAAgHRAAAAAAAD8kEAAAAAAAIB7QAAAAAAAUKhAAAAAAAAgm0AAAAAAAKB3QAAAAAAAsHJAAAAAAACQsEAAAAAAAKBjQAAAAAAA8H1AAAAAAADAX0AAAAAAAJiIQAAAAAAAEIxAAAAAAADAiUAAAAAAAKB7QAAAAAAAKJ9AAAAAAABAaEAAAAAAAKBiQAAAAAAAwFBAAAAAAAAAfUAAAAAAAMBgQAAAAAAAuIZAAAAAAAAokkAAAAAAAAA9QAAAAAAAwF9AAAAAAABggEAAAAAAALiGQAAAAAAAkIFAAAAAAACQkUAAAAAAAEahQAAAAAAAgIFAAAAAAAAAbEAAAAAAACiHQAAAAAAAYH9AAAAAAAAWpUAAAAAAAMSgQAAAAAAA7KNAAAAAAAD8kEAAAAAAAEKmQAAAAAAAwH5AAAAAAAAAVkAAAAAAALiSQAAAAAAA8IpAAAAAAAAgiUAAAAAAAICYQAAAAAAAxJlAAAAAAABoh0AAAAAAABB1QAAAAAAAQq1AAAAAAABwjkAAAAAAAEKmQAAAAAAAoGJAAAAAAABAhUAAAAAAABiMQAAAAAAAtKxAAAAAAADAYEAAAAAAAMSZQAAAAAAAEHxAAAAAAACgc0AAAAAAAMBgQAAAAAAAYHdAAAAAAAC4hkAAAAAAAPSQQAAAAAAAAFxAAAAAAAAWpUAAAAAAAHB+QAAAAAAAIGpAAAAAAACwckAAAAAAAKBjQAAAAAAA0JtAAAAAAACspUAAAAAAAABeQAAAAAAAoIlAAAAAAAAQhUAAAAAAAMBgQAAAAAAA\\u002fJBAAAAAAADAYEAAAAAAAHB9QAAAAAAAZqBAAAAAAABAaEAAAAAAAKBjQAAAAAAAoGNAAAAAAADgbUAAAAAAAHB+QAAAAAAAwFVAAAAAAABwfkAAAAAAAMBdQAAAAAAAeqlAAAAAAADwmkAAAAAAAHCOQAAAAAAAcI5AAAAAAADAYEAAAAAAAOK4QAAAAAAADJ9AAAAAAIB6wEAAAAAAANS7QAAAAAAAcI5AAAAAAAC+okAAAAAAAABcQAAAAAAAwGBAAAAAAAACqkAAAAAAAKB7QAAAAAAAxJlAAAAAAADAYEAAAAAAAIChQAAAAAAAwGBAAAAAAAD4hkAAAAAAAMCJQAAAAAAAQJBAAAAAAAConUAAAAAAAIBkQAAAAAAAgE1AAAAAAAC8kkAAAAAAADCDQAAAAAAAGJVAAAAAAAAwh0AAAAAAADCHQAAAAAAAoGJAAAAAAACskkAAAAAAAFB4QAAAAAAAEIVAAAAAAAAAfUAAAAAAACCMQAAAAAAAcI5AAAAAAABgd0AAAAAAAABaQAAAAAAA4IpAAAAAAAAATUAAAAAAAOyjQAAAAAAAkIFAAAAAAACQjEAAAAAAAIBSQAAAAAAAQGhAAAAAAADAUEAAAAAAAIBSQAAAAAAAcH5AAAAAAAC4hkAAAAAAAOSfQAAAAAAAWKFAAAAAAABwfkAAAAAAAMBQQAAAAAAA4HVAAAAAAAC4gkAAAAAAAIBSQAAAAAAAoK9AAAAAAAC4hkAAAAAAANq1QAAAAAAAJLNAAAAAAACAgUAAAAAAAMSZQAAAAAAAgFJAAAAAAABAeEAAAAAAAMBfQAAAAAAA8IRAAAAAAAAIkkAAAAAAAPyQQAAAAAAAQHhAAAAAAACAUkAAAAAAACCUQAAAAAAAMHNAAAAAAADAX0AAAAAAABSVQAAAAAAAiqtAAAAAAAC4gkAAAAAAAMBgQAAAAAAASJ1AAAAAAADQjEAAAAAAAKBjQAAAAAAA2KZAAAAAAADAcEAAAAAAAPCGQAAAAAAA2KZAAAAAAAC4hkAAAAAAAMBwQAAAAAAAQIVAAAAAAAD8kEAAAAAAAHB+QAAAAAAAIGxAAAAAAABAaEAAAAAAAIBSQAAAAAAAqINAAAAAAACIu0AAAAAAAECIQAAAAAAAcHJAAAAAAAB0nkAAAAAAAMBdQAAAAAAAQHJAAAAAAAD8kEAAAAAAANCEQAAAAAAAYHdAAAAAAACIhUAAAAAAALySQAAAAAAA2IJAAAAAAAAQjEAAAAAAAFiBQAAAAAAA4IdAAAAAAACAUkAAAAAAALKgQAAAAAAAwGBAAAAAAAAQfEAAAAAAAABaQAAAAAAADq1AAAAAAAB0nkAAAAAAAAB+QAAAAAAAkqFAAAAAAAAwg0AAAAAAAFCNQAAAAAAAwHlAAAAAAAAgbEAAAAAAAFO1QAAAAAAAFbBAAAAAAACWrUAAAAAAAFCJQAAAAAAAQGhAAAAAAACgj0AAAAAAANB5QAAAAAAA\\u002fJBAAAAAAADAYEAAAAAAAICVQAAAAAAA\\u002fKBAAAAAAABwjkAAAAAAAOiTQAAAAAAAgbRAAAAAAAC4hkAAAAAAALiGQAAAAAAAZJBAAAAAAACAUkAAAAAAAABcQAAAAAAAMINAAAAAAADqo0AAAAAAAHCOQAAAAAAAgGJAAAAAAAAEqEAAAAAAAIBSQAAAAAAAvqJAAAAAAACAdUAAAAAAAKBiQAAAAAAAwK5AAAAAAAC8kkAAAAAAAPyQQAAAAAAAoHNAAAAAAADqo0AAAAAAADCDQAAAAAAAIGpAAAAAAACgc0AAAAAAAABKQAAAAAAASJ1AAAAAAABTs0AAAAAAACBqQAAAAAAAWIhAAAAAAADQf0AAAAAAANB4QAAAAAAAbKdAAAAAAABghEAAAAAAAGBnQAAAAACAFMFAAAAAAAAAWkAAAAAAAKBjQAAAAAAA\\u002fJBAAAAAAADAX0AAAAAAAJiYQAAAAAAAcH1AAAAAAAB0nkAAAAAAAP+9QAAAAAAAYGdAAAAAAACQnUAAAAAAALiGQAAAAAAAZJBAAAAAAABInUAAAAAAAJCRQAAAAAAAwGtAAAAAAAAAWkAAAAAAAJKhQAAAAAAAFrVAAAAAAAD8kEAAAAAAAJiYQAAAAAAAEHxAAAAAAADAf0AAAAAAAMBgQAAAAAAAQKVAAAAAAAC8kkAAAAAAAKBjQAAAAAAAwFBAAAAAAACATUAAAAAAAHyTQAAAAAAAaIdAAAAAAABAaEAAAAAAAMCLQAAAAAAAMIdAAAAAAABKrUAAAAAAAPyQQAAAAAAAsHJAAAAAAADatUAAAAAAAMCJQAAAAAAAcIdAAAAAAAAgbEAAAAAAAHCCQAAAAAAAgE1AAAAAAACAUkAAAAAAAECGQAAAAAAAYJRAAAAAAADAYEAAAAAAAIBtQAAAAAAAvqJAAAAAAACAbUAAAAAAAAylQAAAAAAAYGdAAAAAAACYmEAAAAAAAHCOQAAAAAAAjqFAAAAAAADEmUAAAAAAAHCOQAAAAAAAcKdAAAAAAAAQfEAAAAAAAOqzQAAAAAAAQIFAAAAAAACAgkAAAAAAAMSZQAAAAAAAQGpAAAAAAAAAZkAAAAAAAKBiQAAAAAAAoINAAAAAAABwkkAAAAAAAABaQAAAAAAAgFJAAAAAAABwg0AAAAAAAB7MQAAAAAAA0IxAAAAAAADwhkAAAAAAAICQQAAAAAAAAFpAAAAAAAAQjEAAAAAAABysQAAAAAAAoq9AAAAAAACom0AAAAAAAICgQAAAAAAAwH9AAAAAAADAb0AAAAAAAGCXQAAAAAAAQIZAAAAAAADAYEAAAAAAAIBxQAAAAAAAgKRAAAAAAACAUkAAAAAAAIBSQAAAAAAAwJlAAAAAAADAYEAAAAAAAMBgQAAAAAAAlq1AAAAAAACAUkAAAAAAAGCAQAAAAAAAYINAAAAAAACAUkAAAAAAAABGQAAAAAAAqJtAAAAAAACATUAAAAAAAPCqQAAAAAAAoHtAAAAAAABgd0AAAAAAAGCAQAAAAAAAwHBAAAAAAACAUkAAAAAAACB7QAAAAAAAdL5AAAAAAADwhkAAAAAAAPCGQAAAAAAAgHJAAAAAAAAgakAAAAAAAFCGQAAAAAAAwFVAAAAAAAA8kkAAAAAAgNjvQAAAAAAAwJJAAAAAAAAowkAAAAAAAIBiQAAAAAAAAFVAAAAAAAAAjUAAAAAAAICtQAAAAAAAp7RAAAAAAACgckAAAAAAAOiMQAAAAAAAiJtAAAAAAAAASkAAAAAAAAB2QAAAAAAAUHlAAAAAAADEmUAAAAAAAMBdQAAAAAAAADZAAAAAAAACqkAAAAAAAOCOQAAAAAAAGIFAAAAAAACApEAAAAAAAHB+QAAAAAAAwHlAAAAAAACAYUAAAAAAAGSSQAAAAAAAFrVAAAAAAABoh0AAAAAAAPCGQAAAAAAA3rFAAAAAAABwjkAAAAAAAMCCQAAAAAAAwGBAAAAAAACKoUAAAAAAAJKhQAAAAAAAMIdAAAAAAABoh0AAAAAAAAW4QAAAAAAAEHxAAAAAAABAhkAAAAAAAABKQAAAAAAA8IZAAAAAAIAQwUAAAAAAAIBSQAAAAAAAgGRAAAAAAADAYEAAAAAAAMSZQAAAAAAAkIFAAAAAAABggEAAAAAAAJiIQAAAAAAAMKlAAAAAAAD8kEAAAAAAAMBdQAAAAAAAoGNAAAAAAADEmUAAAAAAAPKsQAAAAAAA\\u002fJBAAAAAAADAYEAAAAAAAIBSQAAAAAAABbhAAAAAAICSwUAAAAAAAMBgQAAAAAAA8IZAAAAAAACAgUAAAAAAAMBgQAAAAAAAwHBAAAAAAABkkEAAAAAAAKB7QAAAAAAALrpAAAAAAAAEqEAAAAAAAGB3QAAAAAAAmIRAAAAAAACAUkAAAAAAAABsQAAAAAAAYIBAAAAAAADwhkAAAAAAAMBoQAAAAAAAAEZAAAAAAACBtEAAAAAAAJiYQAAAAAAAZJBAAAAAAAB0rkAAAAAAAAA2QAAAAAAAYGJAAAAAAACwgkAAAAAAANiWQAAAAAAAGJxAAAAAAACAQkAAAAAAABCFQAAAAAAAIHlAAAAAAADAckAAAAAAACBmQAAAAAAAgE1AAAAAAAD8kEAAAAAAAABpQAAAAAAAgF1AAAAAAICf30AAAAAAAJiIQAAAAAAAUHhAAAAAAABwjkAAAAAAAKCPQAAAAAAAvJJAAAAAAABAaEAAAAAAAMSZQAAAAAAAgE1AAAAAAADQiEAAAAAAAIBtQAAAAAAA0HBAAAAAAADAVUAAAAAAAECWQAAAAAAAQJZAAAAAAABwhkAAAAAAACiLQAAAAAAAAGlAAAAAAAAgd0AAAAAAAAA2QAAAAAAAuIJAAAAAAAAYnEAAAAAAAGB3QAAAAAAARJ9AAAAAAAAAbUAAAAAAAIBNQAAAAAAAYIBAAAAAAACAYkAAAAAAAICUQAAAAAAAgJRAAAAAAABixkAAAAAAALrLQAAAAAAAoM5AAAAAAACggUAAAAAAAD28QAAAAAAAYGdAAAAAAACAUkAAAAAAABB1QAAAAAAAwF1AAAAAAADAXUAAAAAAAABtQAAAAAAArKVAAAAAAAAATUAAAAAAAIBSQAAAAAAA6JNAAAAAAACNv0AAAAAAAMBgQAAAAAAAwHlAAAAAAADIgUAAAAAAAMiBQAAAAAAAgFJAAAAAAACAc0AAAAAAAAA8QAAAAAAAgIVAAAAAAAAANkAAAAAAAABGQAAAAAAAAI1AAAAAAABQk0AAAAAAAICkQAAAAAAAFqVAAAAAAADAYEAAAAAAALB9QAAAAAAAYGZAAAAAAABohkAAAAAAABalQAAAAAAAQFhAAAAAAADgbEAAAAAAAGyXQAAAAAAAmIhAAAAAAAB2sUAAAAAAAICCQAAAAAAAwHBAAAAAAABAWEAAAAAAAGB3QAAAAAAAgGNAAAAAAAAAjEAAAAAAAIB9QAAAAAAAgH1AAAAAAAAga0AAAAAAACBrQAAAAAAAIGtAAAAAAADAb0AAAAAAAOiDQAAAAAAA\\u002fJBAAAAAAAD8kEAAAAAAAMBvQAAAAAAAwJJAAAAAAADAYUAAAAAAAAA2QAAAAAAAAJ5AAAAAAADAYEAAAAAAAIBCQAAAAAAAmJhAAAAAAADAYEAAAAAAAKBjQAAAAAAAAGxAAAAAAAAAbEAAAAAAAHByQAAAAAAAgFJAAAAAAABwfkAAAAAAAABeQAAAAAAAYKdAAAAAAAAAakAAAAAAAEB2QAAAAAAAQFhAAAAAAAC0rEAAAAAAAECAQAAAAAAAYHBAAAAAAACYmEAAAAAAAEidQAAAAAAAUHhAAAAAAIBJzUAAAAAAAG6nQAAAAAAAoI9AAAAAAABBwEAAAAAAACB5QAAAAAAAYH9AAAAAAACAZEAAAAAAAHB2QAAAAAAASI1AAAAAAAAAVkAAAAAAABCcQAAAAAAAGIxAAAAAAAAAakAAAAAAAAqzQAAAAAAAuIJAAAAAAADwhkAAAAAAAHqpQAAAAAAAQKZAAAAAAAD8sEAAAAAAAGyXQAAAAAAA8JpAAAAAAADQf0AAAAAAAICRQAAAAAAA0H9AAAAAAADAcUAAAAAAALiCQAAAAAAAsHJAAAAAAADQkEAAAAAAAHSuQAAAAAAA0bdAAAAAAAAAbUAAAAAAAIBSQAAAAAAAAEZAAAAAAAAAeUAAAAAAAMCBQAAAAAAA0bdAAAAAAADAcUAAAAAAAPCGQAAAAAAAIHtAAAAAAACwckAAAAAAABSWQAAAAAAAEHxAAAAAAACgc0AAAAAAAGiHQAAAAAAAwGBAAAAAAADizUAAAAAAAPygQAAAAAAAAFxAAAAAAABghEAAAAAAAJiYQAAAAAAAAJ5AAAAAAACAUkAAAAAAACBqQAAAAAAA1KtAAAAAAADEmUAAAAAAABB1QAAAAAAAGIxAAAAAAACqrkAAAAAAAMBxQAAAAAAA\\u002fJBAAAAAAADol0AAAAAAAKBjQAAAAAAAcI5AAAAAAADwhkAAAAAAADG5QAAAAAAAgHVAAAAAAABsl0AAAAAAAGiXQAAAAAAAlq1AAAAAAAAQmEAAAAAAAAB9QAAAAAAAADZAAAAAAADQeEAAAAAAAMBgQAAAAAAA2LBAAAAAAAAAnkAAAAAAAABDQAAAAAAAoGJAAAAAAACAZEAAAAAAAABDQAAAAAAAIGtAAAAAAADgnUAAAAAAANy2QAAAAAAAbKFAAAAAAAAga0AAAAAAAAB8QAAAAAAAwF9AAAAAAAAYjEAAAAAAACB5QAAAAAAAcI5AAAAAAADgbUAAAAAAAMBfQAAAAAAAcH5AAAAAAAB0nkAAAAAAADB6QAAAAAAAcH5AAAAAAACAUkAAAAAAAHCSQAAAAAAAAJpAAAAAAACwgkAAAAAAAPCGQAAAAAAARMZAAAAAAAC4gkAAAAAAAMBgQAAAAAAAwGBAAAAAAADAeUAAAAAAAMSZQAAAAAAAkHRAAAAAAACwkkAAAAAAAAB8QAAAAAAAgIRAAAAAAACIm0AAAAAAAGCtQAAAAAAA2I5AAAAAAACwckAAAAAAAJC\\u002fQAAAAAAAgFJAAAAAAMBB0EAAAAAAAAAsQAAAAAAA0HtAAAAAAACAfUAAAAAAAIB0QAAAAAAAUIhAAAAAAADAYUAAAAAAAF65QAAAAAAAgHJAAAAAAABAaEAAAAAAAPCGQAAAAAAAAEpAAAAAAAC+o0AAAAAAAMB5QAAAAAAAAC5AAAAAAAAAakAAAAAAAHCHQAAAAAAAcI5AAAAAAAD8kEAAAAAAACPoQAAAAAAAAHVAAAAAAADAiUAAAAAAAFy7QAAAAAAAmbpAAAAAAABwfkAAAAAAAOqjQAAAAAAAgHJAAAAAAADwhkAAAAAAAACGQAAAAAAAQMFAAAAAAADWuUAAAAAAABKlQAAAAAAA2IBAAAAAAAAAakAAAAAAACB8QAAAAAAAgGRAAAAAAAAAhkAAAAAAAEB4QAAAAAAA8IZAAAAAAABgnUAAAAAAAGiHQAAAAAAA8IZAAAAAAACYmEAAAAAAAIBSQAAAAAAASq1AAAAAAACYmEAAAAAAAMSZQAAAAAAA\\u002fJBAAAAAAAAokkAAAAAAAAyvQAAAAAAAcH5AAAAAAADAckAAAAAAAOBtQAAAAAAA6rNAAAAAAADAcEAAAAAAAOBtQAAAAABwmSRBAAAAAADEmUAAAAAAAGCQQAAAAAAAaIdAAAAAAADEmUAAAAAAAHCOQAAAAAAAIHlAAAAAAAAgrEAAAAAAAIBkQAAAAAAAgFJAAAAAAACgc0AAAAAAAGBnQAAAAAAAgGRAAAAAAACAUkAAAAAAAOyTQAAAAAAAgIFAAAAAAADAgkAAAAAAAPCGQAAAAAAA\\u002fJBAAAAAAAD8kEAAAAAAAGB3QAAAAAAAwGBAAAAAAADAiUAAAAAAAIB3QAAAAAAAwIlAAAAAAADAl0AAAAAAAGCAQAAAAAAAQGhAAAAAAABwjkAAAAAAAABpQAAAAAAAoGJAAAAAAACgc0AAAAAAAEBYQAAAAAAAEIVAAAAAAADAb0AAAAAAABCVQAAAAAAAwH5AAAAAAABgd0AAAAAAACiyQAAAAAAA\\u002fJBAAAAAAADwhkAAAAAAACB5QAAAAAAA\\u002fJBAAAAAAAAQfEAAAAAAALB6QAAAAAAAM7dAAAAAAAAwg0AAAAAAAKBiQAAAAAAAQJZAAAAAAADAf0AAAAAAAGBiQAAAAAAAgIFAAAAAAADAgkAAAAAAAL6zQAAAAAAAmIhAAAAAAABoh0AAAAAAALiCQAAAAAAAoIJAAAAAAADAYEAAAAAAAEB5QAAAAAAAwGBAAAAAAAAAVkAAAAAAAMiFQAAAAAAAdq5AAAAAAABgZkAAAAAAAJaoQAAAAAAAgGJAAAAAAAB0nkAAAAAAALB6QAAAAAAAYH9AAAAAAACAUkAAAAAAAL6jQAAAAAAAEHxAAAAAAACOsUAAAAAAAJB0QAAAAAAAoGNAAAAAAACAfkAAAAAAAMB5QAAAAAAAwGBAAAAAAACAdEAAAAAAANB4QAAAAAAAuIJAAAAAAABwckAAAAAAAABKQAAAAAAAUHFAAAAAAACAdEAAAAAAAAB9QAAAAAAAob9AAAAAAAAQlUAAAAAAAFBxQAAAAAAA4G1AAAAAAABohkAAAAAAAEBoQAAAAAAAwGBAAAAAAACSoUAAAAAAAICCQAAAAAAAFJVAAAAAAADQeUAAAAAAAABaQAAAAAAAgE1AAAAAAAD8oEAAAAAAAL6+QAAAAAAA\\u002fJBAAAAAAABAf0AAAAAAAECmQAAAAAAA2KZAAAAAAABAlkAAAAAAABicQAAAAAAAaIdAAAAAAADAf0AAAAAAAJatQAAAAAAAoHNAAAAAAAAARkAAAAAAAPCGQAAAAAAAQIFAAAAAAACATUAAAAAAAGBnQAAAAAAAsI1AAAAAAADIhUAAAAAAAIibQAAAAAAAwGBAAAAAAABghEAAAAAAAMBgQAAAAAAAgF1AAAAAAADIgUAAAAAAACaxQAAAAAAA4G5AAAAAAADEmUAAAAAAAMBoQAAAAAAAwF1AAAAAAABInUAAAAAAAPyQQAAAAAAABLhAAAAAAABAaEAAAAAAABiMQAAAAAAAUHhAAAAAAADEmUAAAAAAAGiHQAAAAAAAsIJAAAAAAABeqkAAAAAAALSsQAAAAAAASK1AAAAAAADyqkAAAAAAAKBiQAAAAAAAEIxAAAAAAAAAdkAAAAAAAL6jQAAAAAAAgFJAAAAAAADAcEAAAAAAALB6QAAAAAAAkqFAAAAAAAAWpUAAAAAAADCDQAAAAAAAEIVAAAAAAAC8kkAAAAAAAAiSQAAAAAAAMJlAAAAAAADAeUAAAAAAAIBNQAAAAAAAOI1AAAAAAAC7x0AAAAAAAHB3QAAAAAAAsKBAAAAAAAAge0AAAAAAAGiHQAAAAAAAdKNAAAAAAABKrUAAAAAAAIBrQAAAAAAAKJBAAAAAAAAQhUAAAAAAAMBfQAAAAAAAgFJAAAAAAAAATUAAAAAAAECWQAAAAAAAkJBAAAAAAADEmUAAAAAAAAB9QAAAAAAAxJlAAAAAAACAgkAAAAAAAFCBQAAAAAAAFqVAAAAAAAD8kEAAAAAAALiCQAAAAAAAaIdAAAAAAACQgUAAAAAAAPCDQAAAAAAAwGBAAAAAAAD8kEAAAAAAAPCGQAAAAAAAEIVAAAAAAAAgnEAAAAAAACB2QAAAAAAAQG5AAAAAAADAaEAAAAAAAIBrQAAAAAAANJFAAAAAAABAVkAAAAAAAJyWQAAAAAAAAEpAAAAAAAAARUAAAAAAAOiTQAAAAAAAKKJAAAAAAIAizUAAAAAAAP+9QAAAAAAAwGJAAAAAAADAYkAAAAAAAJCRQAAAAAAAoGJAAAAAAAAQfEAAAAAAAEB5QAAAAAAAH7xAAAAAAADAmUAAAAAAAHCOQAAAAAAANdFAAAAAAAAwg0AAAAAAABiMQAAAAAAAgFJAAAAAAADgfkAAAAAAAL6zQAAAAAAAAEZAAAAAAABAaEAAAAAAAIBUQAAAAAAAEHVAAAAAAABIh0AAAAAAAMBiQAAAAAAA3rFAAAAAAAC4gkAAAAAAAMBvQAAAAAAA\\u002fJBAAAAAAABAWEAAAAAAAPyQQAAAAAAApJ9AAAAAAAAgeUAAAAAAAICCQAAAAAAAZKJAAAAAAACspUAAAAAAAMBgQAAAAAAAoItAAAAAAABsl0AAAAAAAEBYQAAAAAAA8IZAAAAAAAAWpUAAAAAAAMBgQAAAAAAAAGxAAAAAAACAUkAAAAAAACiSQAAAAAAAMJlAAAAAAABggEAAAAAAANCSQAAAAAAAwGBAAAAAAAC8kkAAAAAAACiSQAAAAAAAgFJAAAAAAACwckAAAAAAAIB7QAAAAAAAwHBAAAAAAACUkUAAAAAAAEidQAAAAAAAUJFAAAAAAACQkUAAAAAAANB\\u002fQAAAAAAAaJBAAAAAAADAckAAAAAAAMBfQAAAAAAAAF1AAAAAAADAYEAAAAAAAPyQQAAAAAAAMIJAAAAAAAAAakAAAAAAAABdQAAAAAAAmIhAAAAAAABogEAAAAAAABCFQAAAAAAA6rNAAAAAAABAeUAAAAAAAHiOQAAAAAAAgFtAAAAAAADAYEAAAAAAABB8QAAAAAAAtKxAAAAAAABggEAAAAAAABalQAAAAAAAEIVAAAAAAAAIgkAAAAAAANSrQAAAAAAAMIpAAAAAAAAQfEAAAAAAABe1QAAAAAAAoIFAAAAAAAC+okAAAAAAAJiYQAAAAAAAgH1AAAAAAADYg0AAAAAAACB3QAAAAAAAxJlAAAAAAACAZUAAAAAAAMSpQAAAAAAAwGBAAAAAAABwh0AAAAAAAMBxQAAAAAAA8IZAAAAAAABgaEAAAAAAAPKqQAAAAAAA8qpAAAAAAADqo0AAAAAAABCFQAAAAAAAMINAAAAAAADAYEAAAAAAAGiAQAAAAAAAQGhAAAAAAACAUkAAAAAAAJCBQAAAAAAAcHdAAAAAAACPsUAAAAAAAIBSQAAAAAAA\\u002fJBAAAAAAAAAWkAAAAAAABiMQAAAAAAAcH5AAAAAAAAgfEAAAAAAABSVQAAAAAAAFJVAAAAAAACAZ0AAAAAAAKiZQAAAAAAAkJFAAAAAAAAQgUAAAAAAAEBpQAAAAAAAIHxAAAAAAACgY0AAAAAAACB8QAAAAAAAwFtAAAAAAAC1vEAAAAAAAIBNQAAAAAAAgFRAAAAAAACARkAAAAAAADG5QAAAAAAAIHxAAAAAAAAwg0AAAAAAAMiBQAAAAAAA\\u002fJBAAAAAAABoh0AAAAAAAPyQQAAAAAAA\\u002fJBAAAAAAABgl0AAAAAAAABNQAAAAAAAtJxAAAAAAACwckAAAAAAAGCVQAAAAAAAwIlAAAAAAADAYkAAAAAAAOCdQAAAAAAAsJ1AAAAAAABQeEAAAAAAAPiJQAAAAAAAkJFAAAAAAACAZEAAAAAAAECGQAAAAAAAwGBAAAAAAABogEAAAAAAAPyQQAAAAAAAYHBAAAAAAACwpkAAAAAAAN6xQAAAAAAAiKtAAAAAAAD8kEAAAAAAAMSZQAAAAAAAIHlAAAAAAADEmUAAAAAAAIBiQAAAAAAAIGJAAAAAAABokEAAAAAAAFB4QAAAAAAAAJ1AAAAAAAAWpUAAAAAAAMSZQAAAAAAAuIJAAAAAAADAeUAAAAAAAAB0QAAAAAAAAEpAAAAAAAB0nkAAAAAAAMB5QAAAAAAAnJRAAAAAAAAokEAAAAAAABSVQAAAAAAAIHxAAAAAAACQkEAAAAAAAEidQAAAAAAAwHlAAAAAAAD8kEAAAAAAAFB4QAAAAAAAgGRAAAAAAADAeUAAAAAAAGSQQAAAAAAAgKRAAAAAAADAUkAAAAAAAHSeQAAAAAAAgE1AAAAAAABgd0AAAAAAAMBwQAAAAAAAgGdAAAAAAACgY0AAAAAAACBsQAAAAAAAwHBAAAAAAAB8v0AAAAAAAGCHQAAAAAAAsqBAAAAAAAAQhUAAAAAAAECWQAAAAAAAYIdAAAAAAAAoskAAAAAAACiQQAAAAAAAgFBAAAAAAABgZ0AAAAAAABiMQAAAAAAAEHxAAAAAAAC4gkAAAAAAAIirQAAAAAAA3rFAAAAAAADgbUAAAAAAAHCOQAAAAAAAgFJAAAAAAABgeEAAAAAAACBsQAAAAAAAkqFAAAAAAACAUkAAAAAAAF6qQAAAAAAAqIpAAAAAAABokEAAAAAAAJCRQAAAAAAA\\u002fJBAAAAAAADAgkAAAAAAAPCGQAAAAAAAaIdAAAAAAACQkUAAAAAAANq1QAAAAAAA\\u002fKBAAAAAAACQkUAAAAAAALiSQAAAAAAAdK5AAAAAAAAYhUAAAAAAAGCAQAAAAAAAAHxAAAAAAABAaUAAAAAAAKCSQAAAAAAAwGBAAAAAAACgY0AAAAAAAGyXQAAAAAAAxJlAAAAAAABwl0AAAAAAAMBgQAAAAAAAwGJAAAAAAACgY0AAAAAAAKBjQAAAAAAAXqpAAAAAAAAAPkAAAAAAAJCBQAAAAAAAwGBAAAAAAACYmEAAAAAAAHB+QAAAAAAAwGBAAAAAAACAZ0AAAAAAAAA9QAAAAAAAwGBAAAAAAABsl0AAAAAAAMCJQAAAAAAA6JNAAAAAAAAcrEAAAAAAAIBNQAAAAAAAYIBAAAAAAADgfUAAAAAAACB8QAAAAAAAxJlAAAAAAABIvUAAAAAAADCDQAAAAAAAgFJAAAAAAABElkAAAAAAAB6sQAAAAAAArKVAAAAAAADAb0AAAAAAAJCRQAAAAAAAwIlAAAAAAACAUkAAAAAAABSVQAAAAAAACIJAAAAAAADQcEAAAAAAAIBSQAAAAAAAkrFAAAAAAAAgrEAAAAAAAMBgQAAAAAAAsIJAAAAAAACAUkAAAAAAALKwQAAAAAAAcHdAAAAAAAAAhUAAAAAAAABGQAAAAAAAQHBAAAAAAADwg0AAAAAAAHiUQAAAAAAA6JJAAAAAAAAAbEAAAAAAACBrQAAAAAAAAEpAAAAAAABmoEAAAAAAAMB5QAAAAAAAmIhAAAAAAADAYEAAAAAAABCVQAAAAAAAwGBAAAAAAAC0qUAAAAAAAFCBQAAAAAAAMHNAAAAAAACwgkAAAAAAAIBSQAAAAAAAwGBAAAAAAACAUkAAAAAAAIBjQAAAAAAA8IZAAAAAAADAckAAAAAAAPCGQAAAAAAA+KtAAAAAAAAgeUAAAAAAALiCQAAAAAAAgH1AAAAAAADEmUAAAAAAAPCGQAAAAAAA\\u002fJBAAAAAAAC8okAAAAAAAB6sQAAAAAAA6INAAAAAAACQhEAAAAAAAJiYQAAAAAAAcI5AAAAAAADEmUAAAAAAAEiHQAAAAAAAKKJAAAAAAACAUkAAAAAAAPCKQAAAAAAAAFxAAAAAAACgY0AAAAAAALiCQAAAAAAAQJZAAAAAAACQkUAAAAAAAIBSQAAAAAAAoGNAAAAAAADQsUAAAAAAALiCQAAAAAAA\\u002fJBAAAAAAABgd0AAAAAAAJiYQAAAAAAAuIJAAAAAAAAQtEAAAAAAAMBrQAAAAAAA8KlAAAAAAABAiUAAAAAAAIBQQAAAAAAA\\u002fJBAAAAAAADAXUAAAAAAAMBlQAAAAAAAQJJAAAAAAAAAhkAAAAAAAA6vQAAAAAAADq9AAAAAAAC4gkAAAAAAAIBNQAAAAAAAgGVAAAAAAABAeUAAAAAAAKCfQAAAAAAAoJ9AAAAAAADEmUAAAAAAABScQAAAAAAAAHxAAAAAAACAUkAAAAAAAIB0QAAAAAAAvJJAAAAAAACgn0AAAAAAAJB0QAAAAAAAaJdAAAAAAABQdkAAAAAAAECWQAAAAAAAcH5AAAAAAAD8kEAAAAAAAMiFQAAAAAAA8IZAAAAAAABgZ0AAAAAAAABsQAAAAAAAAK1AAAAAAACwnUAAAAAAAGiHQAAAAAAAAFxAAAAAAAAsxUAAAAAAAKBiQAAAAAAA8INAAAAAAABgZ0AAAAAAALySQAAAAAAAYHdAAAAAAACAQkAAAAAAALiCQAAAAAAAKIBAAAAAAABwjkAAAAAAAGB3QAAAAAAAgHNAAAAAAABCpkAAAAAAAMSpQAAAAAAAuIJAAAAAAACAdEAAAAAAAGCAQAAAAAAAYIBAAAAAAABAoEAAAAAAAPyQQAAAAAAA\\u002fJBAAAAAAAAgbEAAAAAAAGBwQAAAAAAAlLFAAAAAAABAaUAAAAAAALu3QAAAAAAAkHRAAAAAAAD8kEAAAAAAAABWQAAAAAAAdLJAAAAAAACstUAAAAAAAFCNQAAAAAAA8HtAAAAAAACgj0AAAAAAADCjQAAAAAAAQqZAAAAAAADog0AAAAAAAMBfQAAAAAAAoHNAAAAAAACAUkAAAAAAAEiNQAAAAAAAYGdAAAAAAACAUkAAAAAAAIB9QAAAAAAAwGFAAAAAAACQjEAAAAAAABCFQAAAAAAAmqhAAAAAAACIq0AAAAAAAABsQAAAAAAAwGtAAAAAAABwjkAAAAAAAGawQAAAAAAAQGlAAAAAAAD8kEAAAAAAAMSZQAAAAAAA\\u002fJBAAAAAAADIuUAAAAAAAHSeQAAAAAAAAGxAAAAAAABwe0AAAAAAACy+QAAAAAAAQHlAAAAAAACgYkAAAAAAAMCJQAAAAAAA8JpAAAAAAACgYkAAAAAAAFSjQAAAAAAA0HtAAAAAAACQqEAAAAAAAHCeQAAAAAAAVKNAAAAAAAD8kEAAAAAAAIBrQAAAAAAAoGJAAAAAAAAgjEAAAAAAAGiHQAAAAAAAwJlAAAAAAACgY0AAAAAAAKBiQAAAAAAAAH5AAAAAAACAY0AAAAAAAMBiQAAAAAAAMIdAAAAAAAAcsEAAAAAAAABpQAAAAAAAADZAAAAAAADQgUAAAAAAAJiYQAAAAAAAAIZAAAAAAAD8kEAAAAAAAIBCQAAAAAAAwGBAAAAAAADog0AAAAAAAGCAQAAAAAAAIGZAAAAAAAAIgkAAAAAAAOyjQAAAAAAAcHdAAAAAAAC+okAAAAAAAMSpQAAAAAAAyIVAAAAAAACAUkAAAAAAAACpQAAAAAAAgFJAAAAAAADzukAAAAAAAIatQAAAAAAAAE1AAAAAAABwe0AAAAAAAMSZQAAAAAAAQH9AAAAAAAAAXEAAAAAAAMSZQAAAAAAAwJ1AAAAAAACQgUAAAAAAAIByQAAAAAAAAIVAAAAAAADAb0AAAAAAAMBwQAAAAAAAMLFAAAAAAAAokEAAAAAAAIBSQAAAAAAAaIdAAAAAAACgYkAAAAAAAIB1QAAAAAAAoGJAAAAAAACgYkAAAAAAAJySQAAAAAAA\\u002fKBAAAAAAADwe0AAAAAAANB\\u002fQAAAAAAAFJVAAAAAAAAAVkAAAAAAAHSeQAAAAAAAYIBAAAAAAADAXUAAAAAAABiMQAAAAAAAwF9AAAAAAACgc0AAAAAAAABcQAAAAAAAkHRAAAAAAABAeUAAAAAAAPyQQAAAAAAAoGNAAAAAAADQeEAAAAAAAHSeQAAAAAAAQIZAAAAAAACAZ0AAAAAAAIBkQAAAAAAAIHVAAAAAAAAAQ0AAAAAAAHB3QAAAAAAAAE5AAAAAAACAUkAAAAAAAABeQAAAAAAAYGdAAAAAAABATEAAAAAAAOBdQAAAAAAAgE1AAAAAAAAgekAAAAAAAGagQAAAAAAAQFhAAAAAAAAAQ0AAAAAAAGBmQAAAAAAAACxAAAAAAAC4hkAAAAAAAKB7QAAAAAAAAC1AAAAAAAAgdUAAAAAAAABeQAAAAAAAMINAAAAAAAAAfUAAAAAAAEByQAAAAAAAgFRAAAAAAAAAJkAAAAAAAABgQAAAAAAAuIZAAAAAAABAakAAAAAAACB7QAAAAAAAAENAAAAAAABwjkAAAAAAAPCWQAAAAAAAgGRAAAAAAAAATkAAAAAAAABTQAAAAAAAcH5AAAAAAAAATkAAAAAAAGCAQAAAAAAAIGpAAAAAAAAAWkAAAAAAAIB+QAAAAAAAnrlAAAAAAAAANUAAAAAAAMSZQAAAAAAAdK5AAAAAAADwdkAAAAAAAEBeQAAAAAAAwGJAAAAAAADgnUAAAAAAACB7QAAAAAAAACxAAAAAAADAUUAAAAAAAGSSQAAAAAAA\\u002fJBAAAAAAAAAQ0AAAAAAAIBkQAAAAAAAwGpAAAAAAADAXUAAAAAAAAAmQAAAAAAAAGxAAAAAAAAQfEAAAAAAAJCRQAAAAAAAgGhAAAAAAABAeUAAAAAAAJB8QAAAAAAAAF5AAAAAAAAwmUAAAAAAAKiDQAAAAAAAQFZAAAAAAAB0nkAAAAAAACBqQAAAAAAAK7BAAAAAAACQkUAAAAAAAABDQAAAAAAAAK1AAAAAAADwdkAAAAAAABiBQAAAAAAAYHdAAAAAAACAUkAAAAAAAGB\\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\\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\\u002fJBAAAAAAACAVUAAAAAAAEB6QAAAAAAAvqJAAAAAAABAeEAAAAAAAKBiQAAAAAAAADhAAAAAAACIq0AAAAAAAIBWQAAAAAAAgEZAAAAAAAAgZUAAAAAAAFB4QAAAAAAAgFJAAAAAAADAY0AAAAAAAABTQAAAAAAA4GBAAAAAAACQgUAAAAAAANySQAAAAAAAADZAAAAAAACIhUAAAAAAAGCAQAAAAAAAkJFAAAAAAADgbkAAAAAAAOBgQAAAAAAAgJhAAAAAAABkkUAAAAAAAGBoQAAAAAAAAENAAAAAAAAARUAAAAAAAGSQQAAAAAAAOHZAAAAAAABAaEAAAAAAAHSeQAAAAAAAGIxAAAAAAADAYUAAAAAAAGBnQAAAAAAA4F1AAAAAAABgd0AAAAAAAIB1QAAAAAAAiLVAAAAAAADAXUAAAAAAAKBiQAAAAAAAwGFAAAAAAAAAQ0AAAAAAAEBoQAAAAAAAgFZAAAAAAACQkUAAAAAAAOBuQAAAAAAA4HdAAAAAAAD3pUAAAAAAAABTQAAAAAAAQqZAAAAAAAAAQ0AAAAAAANySQAAAAAAAQFhAAAAAAACBtEAAAAAAAABuQAAAAAAAwHJAAAAAAABAekAAAAAAAAA2QAAAAAAA4GRAAAAAAACclkAAAAAAAIygQAAAAAAAwGNAAAAAAABAWUAAAAAAAKCPQFRVVVVV1UtAAAAAAADAYEAAAAAAAL6iQKuqqqqqqktAAAAAAACgYkAAAAAAAIB+QAAAAAAAAF5AAAAAAAAAJEAAAAAAANiAQAAAAAAAADZAAAAAAABInUAAAAAAACB8QAAAAAAAgFZAAAAAAAAAQ0AAAAAAAIBlQAAAAAAAFKVA\"},\"yaxis\":\"y\",\"type\":\"scattergl\"},{\"alignmentgroup\":\"True\",\"boxpoints\":\"all\",\"fillcolor\":\"rgba(255,255,255,0)\",\"hoveron\":\"points\",\"hovertemplate\":\"\\u0441\\u0443\\u043c\\u043c\\u0430=%{y}\\u003cextra\\u003e\\u003c\\u002fextra\\u003e\",\"jitter\":0,\"legendgroup\":\"\",\"line\":{\"color\":\"rgba(255,255,255,0)\"},\"marker\":{\"color\":\"#636efa\",\"symbol\":\"line-ew-open\"},\"name\":\"\",\"offsetgroup\":\"\",\"showlegend\":false,\"xaxis\":\"x2\",\"y\":{\"dtype\":\"f8\",\"bdata\":\"AAAAAABwd0AAAAAAALSyQAAAAAAAcHZAAAAAAADAgkAAAAAAAIB3QAAAAAAAIIVAAAAAAABgnUAAAAAAABCAQAAAAAAAcIdAAAAAAACAh0AAAAAAAFiTQAAAAAAA8HJAAAAAAADwckAAAAAAACiDQAAAAAAA3LNAAAAAAACwj0AAAAAAAIB3QAAAAAAAQIlAAAAAAABsoEAAAAAAAKCBQAAAAAAAcIdAAAAAAADogUAAAAAAAHCHQAAAAAAAyIRAAAAAAACAfkAAAAAAAJyRQAAAAAAAIHtAAAAAAABwqkAAAAAAACiWQAAAAAAAgIdAAAAAAACAd0AAAAAAADByQAAAAAAA6JtAAAAAAACgc0AAAAAAAJiIQAAAAAAAAItAAAAAAAD4kkAAAAAAADSaQAAAAAAAwIJAAAAAAACAVkAAAAAAAFB5QAAAAAAANqZAAAAAAADggEAAAAAAAMByQAAAAAAA4GBAAAAAAACAdkAAAAAAAACKQAAAAAAAaI9AAAAAAAC2okAAAAAAAMByQAAAAAAA4HBAAAAAAAD4lkAAAAAAACB8QAAAAAAAyKVAAAAAAACglEAAAAAAAPyWQAAAAAAAYIlAAAAAAADAekAAAAAAAIBcQAAAAAAAgH5AAAAAAADQeUAAAAAAAAiRQAAAAAAA4JBAAAAAAAAgfEAAAAAAAICXQAAAAAAAEIlAAAAAAABQmUAAAAAAANidQAAAAAAAIIJAAAAAAAAIj0AAAAAAANSgQAAAAAAA4H5AAAAAAAD4ikAAAAAAACSXQAAAAAAAYH1AAAAAAADYnUAAAAAAABymQAAAAAAAUHlAAAAAAAAgrEAAAAAAAJiBQAAAAAAA\\u002fJJAAAAAAADwk0AAAAAAANCRQAAAAAAARqVAAAAAAAB8m0AAAAAAAFiKQAAAAAAAoJFAAAAAAAAIgkAAAAAAAPCdQAAAAAAAoIpAAAAAAACAZEAAAAAAAPyVQAAAAAAAiIFAAAAAAACQfUAAAAAAANCFQAAAAAAAwHJAAAAAAAAgd0AAAAAAAJyhQAAAAAAAUHlAAAAAAAAwokAAAAAAAMByQAAAAAAAkIFAAAAAAACAh0AAAAAAAACTQAAAAAAAwGJAAAAAAACIkkAAAAAAACClQAAAAAAAgHdAAAAAAAA4p0AAAAAAACB7QAAAAAAAGIhAAAAAAAAIk0AAAAAAAOygQAAAAAAAAHhAAAAAAAAQpkAAAAAAAECdQAAAAAAARKZAAAAAAADPsEAAAAAAAPCTQAAAAAAAVKBAAAAAAAAAc0AAAAAAANBxQAAAAAAAUHlAAAAAAAAgikAAAAAAAFiBQAAAAAAAeI5AAAAAAACQjEAAAAAAACyXQAAAAAAA+JdAAAAAAADQoUAAAAAAAACDQAAAAAAA4IBAAAAAAAAgjEAAAAAAABiTQAAAAAAAoHpAAAAAAAAEoEAAAAAAACBqQAAAAAAA1KZAAAAAAACgj0AAAAAAAErCQAAAAAAAUIlAAAAAAACArUAAAAAAAICQQAAAAAAACIZAAAAAAADQmEAAAAAAAM6xQAAAAAAAcIBAAAAAAAAAdkAAAAAAAPiWQAAAAAAAkIhAAAAAAADgm0AAAAAAALyQQAAAAAAA0MRAAAAAAAAgjEAAAAAAAECKQAAAAAAArJBAAAAAAAAmpUAAAAAAAGiWQAAAAAAAlJVAAAAAAAAooEAAAAAAAPCJQAAAAAAAhJVAAAAAAAAYiUAAAAAAAIySQAAAAAAAXKxAAAAAAADQjUAAAAAAACyQQAAAAAAAqKRAAAAAAACgf0AAAAAAAJCFQAAAAAAAgI5AAAAAAADom0AAAAAAAHiqQAAAAAAAMJlAAAAAAACQhUAAAAAAAKCAQAAAAAAAvJtAAAAAAABAjkAAAAAAANSQQAAAAAAAfJdAAAAAAABAhkAAAAAAAFSgQAAAAAAA4IxAAAAAAACwf0AAAAAAAFB5QAAAAAAAoJBAAAAAAADqokAAAAAAAEiZQAAAAAAAMJRAAAAAAAB4oUAAAAAAAOBgQAAAAAAAIG9AAAAAAAAAY0AAAAAAALS1QAAAAAAA4HBAAAAAAABwjUAAAAAAACCOQAAAAAAAmIxAAAAAAACAdkAAAAAAAAB+QAAAAAAAyJNAAAAAAAAgfUAAAAAAABiVQAAAAAAAQIlAAAAAAACQiUAAAAAAAACWQAAAAAAA2IhAAAAAAADAgkAAAAAAAACGQAAAAAAAgHxAAAAAAACAeUAAAAAAAAB+QAAAAAAA2J5AAAAAAABghUAAAAAAANyTQAAAAAAA8IlAAAAAAACAfEAAAAAAAFuwQAAAAAAAjJVAAAAAAADQgUAAAAAAAEB6QAAAAADgA\\u002fxAAAAAAAAb10AAAAAAAOCQQAAAAAAAwGdAAAAAAAAwnEAAAAAAADCQQAAAAAAASKxAAAAAAAAYlUAAAAAAAKB5QAAAAAAAgI5AAAAAAAAIoUAAAAAAAMCDQAAAAAAAwIJAAAAAAAAEr0AAAAAAAOB\\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\\u002fKBAAAAAAAD4iUAAAAAAAJCBQAAAAAAAwHJAAAAAAADwikAAAAAAALyyQAAAAAAADK9AAAAAAADQeEAAAAAAANCBQAAAAAAAvLtAAAAAAADwe0AAAAAAALySQAAAAAAAgIFAAAAAAABog0AAAAAAAPCGQAAAAAAADJVAAAAAAABIjUAAAAAAAKCPQAAAAAAAPJlAAAAAAADsl0AAAAAAAJCfQAAAAAAAxJlAAAAAAAAYnEAAAAAAALCcQAAAAAAACIxAAAAAAADsmkAAAAAAAABsQAAAAAAAoIpAAAAAAADAiUAAAAAAAJSsQAAAAAAAcHVAAAAAAABoh0AAAAAAABCFQAAAAAAAsHpAAAAAAACWqEAAAAAAAKBiQAAAAAAASI1AAAAAAABup0AAAAAAAOqjQAAAAAAA1qZAAAAAAAAsmEAAAAAAAJiSQAAAAAAA7JBAAAAAAADwhkAAAAAAAL6iQAAAAAAA9J5AAAAAAAC4gkAAAAAAAOiDQAAAAAAAZqBAAAAAAAC8kkAAAAAAAJnBQAAAAAAA8JpAAAAAAACAgUAAAAAAAOqjQAAAAAAAoGJAAAAAAACwckAAAAAAAJiYQAAAAAAAXbVAAAAAAAAQfEAAAAAAAACMQAAAAAAAgFRAAAAAAACYmEAAAAAAADCZQAAAAAAAIIRAAAAAAADok0AAAAAAANimQAAAAAAAAI1AAAAAAACgj0AAAAAAAEqtQAAAAAAAaIdAAAAAAEDK6EAAAAAAAKyXQAAAAAAAFJxAAAAAAABQcUAAAAAAAMBgQAAAAAAAIGxAAAAAAAC4g0AAAAAAAMByQAAAAAAA6INAAAAAAACir0AAAAAAAAyXQAAAAAAAAGxAAAAAAAAgbEAAAAAAAIB0QAAAAAAAbqdAAAAAAAAwc0AAAAAAAOyRQAAAAAAAwIlAAAAAAABgd0AAAAAAAH6kQAAAAAAAvJJAAAAAAAA0kUAAAAAAAFiaQAAAAAAAgG1AAAAAAABAakAAAAAAAHqoQAAAAAAAaKdAAAAAAAAwh0AAAAAAAHCOQAAAAAAAoGJAAAAAAACAb0AAAAAAAO\\u002fAQAAAAAAAMIdAAAAAAAAwh0AAAAAAAGCHQAAAAAAAgJZAAAAAAAAAgUAAAAAAAJySQAAAAAAAoI9AAAAAAAAiwEAAAAAAAMCCQAAAAAAAbJdAAAAAAAAEl0AAAAAAAIG0QAAAAAAAkqFAAAAAAACgYkAAAAAAAAB8QAAAAAAAZJBAAAAAAAB8nkAAAAAAACuwQAAAAAAA4G1AAAAAAABCpkAAAAAAAEB5QAAAAAAA8HtAAAAAAADis0AAAAAAAHe3QAAAAAAAAJZAAAAAAABMmUAAAAAAAHCOQAAAAAAAYI5AAAAAAADEqUAAAAAAADCDQAAAAAAAQFRAAAAAAAB3t0AAAAAAAK29QAAAAAAAYIBAAAAAAIDM10AAAAAAAHSeQAAAAAAASI1AAAAAAABwjkAAAAAAAFClQAAAAAAAkJFAAAAAAADog0AAAAAAALCAQAAAAAAAAI1AAAAAAADIhUAAAAAAAFK3QAAAAAAAdJ5AAAAAAAAYgUAAAAAAAKBiQAAAAAAA0HdAAAAAAAC4gkAAAAAAAGB3QAAAAAAAKr5AAAAAAADwi0AAAAAAABB8QAAAAAAA4KpAAAAAAABoh0AAAAAAAMCMQAAAAAAAdJ5AAAAAAAAgfEAAAAAAABCBQAAAAAAA8IZAAAAAAACAe0AAAAAAAMSZQAAAAAAArKVAAAAAAAAwh0AAAAAAAHB+QAAAAAAAXKpAAAAAAABVs0AAAAAAALySQAAAAAAAZJBAAAAAAACwnEAAAAAAALB5QAAAAAAAfqBAAAAAAACAY0AAAAAAAABWQAAAAAAAgGZAAAAAAAC8kkAAAAAAAGSQQAAAAAAA\\u002fJBAAAAAAABAdkAAAAAAAEqtQAAAAAAAYrVAAAAAAACAfUAAAAAAAOBtQAAAAAAAaIdAAAAAAACgiUAAAAAAAJiYQAAAAAAAYH1AAAAAAADAcEAAAAAAAAiPQAAAAAAAxJBAAAAAAABInUAAAAAAAGy3QAAAAAAAQqZAAAAAAAAYjEAAAAAAAMBQQAAAAAAA6INAAAAAAADwg0AAAAAAACB2QAAAAAAAAC5AAAAAAADAiUAAAAAAABB8QAAAAAAAFKVAAAAAAABAeUAAAAAAAIBzQAAAAAAAMIdAAAAAAADAeUAAAAAAAJiIQAAAAAAAIGxAAAAAAABoh0AAAAAAAMCZQAAAAAAAuIJAAAAAAADgfUAAAAAAANiAQAAAAAAAmJhAAAAAAAAYjEAAAAAAAIBNQAAAAAAAEIhAAAAAAABkkEAAAAAAAMB3QAAAAAAAQHNAAAAAAAAAdUAAAAAAAMB3QAAAAAAAsHJAAAAAAADQeEAAAAAAAIBNQAAAAAAA8IZAAAAAAADwfUAAAAAAAECGQAAAAAAAHJxAAAAAAAD4mUAAAAAAAMSZQAAAAAAAEqNAAAAAAAB8p0AAAAAAAMySQAAAAAAA8KJAAAAAAADIo0AAAAAAALCSQAAAAAAAIIZAAAAAAABCoUAAAAAAAMB3QAAAAAAAaIxAAAAAAADYpkAAAAAAAIBGQAAAAAAA0IxAAAAAAADwi0AAAAAAAOBtQAAAAAAAvJJAAAAAAAB6oEAAAAAAABSVQAAAAAAASJ1AAAAAAADgnUAAAAAAAICkQAAAAAAAsHZAAAAAAADsoEAAAAAAAAyvQAAAAAAACJVAAAAAAADwlkAAAAAAALB6QAAAAAAAoJ5AAAAAAABSo0AAAAAAAABsQAAAAAAAA7NAAAAAAACAYEAAAAAAAPB7QAAAAAAAwHJAAAAAAADog0AAAAAAANCaQAAAAAAAj7FAAAAAAAD0kkAAAAAAgF3DQAAAAAAA4G5AAAAAAADok0AAAAAAALB6QAAAAAAAkqFAAAAAAACApEAAAAAAAKKvQAAAAAAAkJFAAAAAAACQj0AAAAAAAGCAQAAAAAAAAGxAAAAAAAAWpUAAAAAAACi0QAAAAAAAIIdAAAAAAAC+okAAAAAAANimQAAAAAAAtJxAAAAAAABy4EAAAAAAAIBNQAAAAAAA4HtAAAAAAAAQnUAAAAAAACibQAAAAAAAoJ9AAAAAAABkkEAAAAAAAEBWQAAAAAAAEHxAAAAAAADwhkAAAAAAAABuQAAAAAAAcH5AAAAAAAAIgkAAAAAAABiOQAAAAAAAGI5AAAAAAAAWoUAAAAAAAJyWQAAAAAAAdJVAAAAAAABIjUAAAAAAAEiNQAAAAAAAYGdAAAAAAABQiUAAAAAAALByQAAAAAAAZJBAAAAAAAAWpkAAAAAAADCpQAAAAAAA8IZAAAAAAAAATkAAAAAAAMSZQAAAAAAAsHJAAAAAAACIhUAAAAAAAGiHQAAAAAAAQIZAAAAAAABQpEAAAAAAAGiHQAAAAAAAaIdAAAAAAABAaEAAAAAAAPuyQAAAAAAAcI5AAAAAAACgn0AAAAAAAACtQAAAAAAAAFxAAAAAAADIhUAAAAAAAGSQQAAAAAAAAFxAAAAAAACBxEAAAAAAAGSQQAAAAAAAQqZAAAAAAABAckAAAAAAAOCdQAAAAAAA9rdAAAAAAAAAVkAAAAAAAMBgQAAAAAAAwF9AAAAAAAACqkAAAAAAACiQQAAAAAAA1JZAAAAAAADAYEAAAAAAAJB0QAAAAAAADJVAAAAAAAAQfEAAAAAAAIBNQAAAAAAA6qNAAAAAAABAhkAAAAAAAPyQQAAAAAAA4G1AAAAAAAAokkAAAAAAAEidQAAAAAAAZJBAAAAAAACAcEAAAAAAANB\\u002fQAAAAAAAoGJAAAAAAAD0mkAAAAAAAIiVQAAAAAAAgJBAAAAAAAAookAAAAAAACB5QAAAAAAAqLZAAAAAAACgYkAAAAAAAECCQAAAAAAA8H1AAAAAAACYmEAAAAAAAMapQAAAAAAAAIZAAAAAAADEmUAAAAAAAEBpQAAAAAAAcHZAAAAAAAAWpUAAAAAAADCSQAAAAAAAHJxAAAAAAACgs0AAAAAAAIBdQAAAAAAAGIxAAAAAAADwe0AAAAAAAEByQAAAAAAAAEZAAAAAAAAetkAAAAAAACBmQAAAAAAA4G1AAAAAAADAYEAAAAAAABB8QAAAAAAAgF1AAAAAAABCpkAAAAAAAABsQAAAAAAAeIZAAAAAAAD8oEAAAAAAAICEQAAAAAAAgHRAAAAAAAAASkAAAAAAAOiDQAAAAAAAaIdAAAAAAACgY0AAAAAAABCFQAAAAAAAwGBAAAAAAABkkEAAAAAAAKCfQAAAAAAASJ1AAAAAAABQiEAAAAAAAG6nQAAAAAAAmJhAAAAAAABggEAAAAAAAIBNQAAAAAAAxKlAAAAAAABkoEAAAAAAABB8QAAAAAAAkqFAAAAAAABkkEAAAAAAAPCWQAAAAAAAVJNAAAAAAABIl0AAAAAAAEBWQAAAAAAAUHhAAAAAAADwmkAAAAAAABB8QAAAAAAAAIZAAAAAAAAgikAAAAAAACBqQAAAAAAAgGJAAAAAAACAg0AAAAAAAFiEQAAAAAAAAL1AAAAAAAAcsEAAAAAAAEiiQAAAAAAA6INAAAAAAADAeUAAAAAAABCcQAAAAAAAAEpAAAAAAACgYkAAAAAAAGSQQAAAAAAAZJBAAAAAAACge0AAAAAAAOiDQAAAAAAAxJlAAAAAAABkkEAAAAAAAMCBQAAAAAAAoHtAAAAAAAAWpUAAAAAAAMBwQAAAAAAAxJlAAAAAAAAAfEAAAAAAAMBgQAAAAAAAIIZAAAAAAAAAVkAAAAAAAGB3QAAAAAAAiKtAAAAAAABoh0AAAAAAAHB2QAAAAAAAYHdAAAAAAADAVUAAAAAAAGSQQAAAAAAA8HZAAAAAAADYgEAAAAAAAECGQAAAAAAASIdAAAAAAAC8kkAAAAAAAIBlQAAAAAAAZKBAAAAAAABInUAAAAAAADCZQAAAAAAAAEZAAAAAAACwgkAAAAAAAGSQQAAAAAAAIIBAAAAAAACYiEAAAAAAABalQAAAAAAAoGJAAAAAAAB+uEAAAAAAAIBSQAAAAAAAwIlAAAAAAADEmUAAAAAAgPPfQAAAAAAAHKxAAAAAAADMokAAAAAAAHCeQAAAAAAAIHtAAAAAAADog0AAAAAAAABsQAAAAAAAAEpAAAAAAAD8kkAAAAAAAECSQAAAAAAAZJBAAAAAAABkoEAAAAAAAHCiQAAAAAAA4H1AAAAAAAB\\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\\u002fJBAAAAAAACgn0AAAAAAAAA2QAAAAAAAwHJAAAAAAAAAXEAAAAAAACBqQAAAAAAAAJhAAAAAAAAcnEAAAAAAAJiDQAAAAAAAxJlAAAAAAAAQfEAAAAAAAMBQQAAAAAAAZqBAAAAAAAAQhUAAAAAAAFB4QAAAAAAAwF1AAAAAAACgYkAAAAAAAGB3QAAAAAAAoGJAAAAAAADwnUAAAAAAAEjBQAAAAAAAvqNAAAAAAACPtkAAAAAAALByQAAAAAAAmJhAAAAAAACgj0AAAAAAAGCAQAAAAAAAcH5AAAAAAAAAbEAAAAAAALByQAAAAAAAXbNAAAAAAAAokkAAAAAAAMBfQAAAAAAAAHxAAAAAAADAWUAAAAAAALiGQAAAAAAASq1AAAAAAABwjkAAAAAAAECWQAAAAAAAgFJAAAAAAABAlkAAAAAAANiEQAAAAAAAoGNAAAAAAAAAfUAAAAAAACBqQAAAAAAA2JNAAAAAAACBtEAAAAAAALiGQAAAAAAAuIZAAAAAAAAMr0AAAAAAAMBgQAAAAAAAAEZAAAAAAADAckAAAAAAALiCQAAAAAAAoGJAAAAAAABAaUAAAAAAACbQQAAAAAAAFqVAAAAAAACwckAAAAAAAJiYQAAAAAAAcI5AAAAAAAAcnEAAAAAAAAA2QAAAAAAABbhAAAAAAADsk0AAAAAAAEiNQAAAAAAAEIlAAAAAAACAVEAAAAAAAMBQQAAAAAAAdJ5AAAAAAAASpUAAAAAAAOBxQAAAAAAAAFpAAAAAAADAYEAAAAAAABiMQAAAAAAA2IRAAAAAAACgiUAAAAAAAMBwQAAAAAAAAEZAAAAAAAAYjEAAAAAAABicQAAAAAAAxJlAAAAAAABol0AAAAAAAGCEQAAAAAAAQJZAAAAAAAAAakAAAAAAAMiBQAAAAAAAuIZAAAAAAACATUAAAAAAAHzFQAAAAAAAgIJAAAAAAAA4zUAAAAAAAGBnQAAAAAAAxJlAAAAAAAAwmEAAAAAAAJCRQAAAAAAAHJxAAAAAAAAwg0AAAAAAAG6nQAAAAAAAAFZAAAAAAADAYEAAAAAAAIirQAAAAAAAzJFAAAAAAAB0nkAAAAAAAEByQAAAAAAAyJdAAAAAAACgn0AAAAAAAFB4QAAAAAAAwF1AAAAAAAAAVkAAAAAAANCaQAAAAAAAAG5AAAAAAABgjUAAAAAAAGCEQAAAAAAAgIJAAAAAAAD8kEAAAAAAAABaQAAAAAAAwHFAAAAAAAAge0AAAAAAAIBbQAAAAAAAUHFAAAAAAAAwg0AAAAAAACiiQAAAAAAAIGpAAAAAAAAcnEAAAAAAAJiIQAAAAAAAAHVAAAAAAAAcnEAAAAAAAFB4QAAAAAAAwGBAAAAAAAAAbUAAAAAAAJiYQAAAAAAA\\u002fJBAAAAAAACAUEAAAAAAAIiRQAAAAAAAgGRAAAAAAADAYEAAAAAAAABGQAAAAAAABJZAAAAAAAACqkAAAAAAAMBgQAAAAAAAsHJAAAAAAADUq0AAAAAAAIB0QAAAAAAAYIdAAAAAAAAYjEAAAAAAAMBgQAAAAAAA+IJAAAAAAACmrEAAAAAAAKBjQAAAAAAAYGZAAAAAAACAXUAAAAAAAAKqQAAAAAAAwGBAAAAAAABInUAAAAAAACiiQAAAAAAAgHRAAAAAAAD8kEAAAAAAAIB7QAAAAAAAUKhAAAAAAAAgm0AAAAAAAKB3QAAAAAAAsHJAAAAAAACQsEAAAAAAAKBjQAAAAAAA8H1AAAAAAADAX0AAAAAAAJiIQAAAAAAAEIxAAAAAAADAiUAAAAAAAKB7QAAAAAAAKJ9AAAAAAABAaEAAAAAAAKBiQAAAAAAAwFBAAAAAAAAAfUAAAAAAAMBgQAAAAAAAuIZAAAAAAAAokkAAAAAAAAA9QAAAAAAAwF9AAAAAAABggEAAAAAAALiGQAAAAAAAkIFAAAAAAACQkUAAAAAAAEahQAAAAAAAgIFAAAAAAAAAbEAAAAAAACiHQAAAAAAAYH9AAAAAAAAWpUAAAAAAAMSgQAAAAAAA7KNAAAAAAAD8kEAAAAAAAEKmQAAAAAAAwH5AAAAAAAAAVkAAAAAAALiSQAAAAAAA8IpAAAAAAAAgiUAAAAAAAICYQAAAAAAAxJlAAAAAAABoh0AAAAAAABB1QAAAAAAAQq1AAAAAAABwjkAAAAAAAEKmQAAAAAAAoGJAAAAAAABAhUAAAAAAABiMQAAAAAAAtKxAAAAAAADAYEAAAAAAAMSZQAAAAAAAEHxAAAAAAACgc0AAAAAAAMBgQAAAAAAAYHdAAAAAAAC4hkAAAAAAAPSQQAAAAAAAAFxAAAAAAAAWpUAAAAAAAHB+QAAAAAAAIGpAAAAAAACwckAAAAAAAKBjQAAAAAAA0JtAAAAAAACspUAAAAAAAABeQAAAAAAAoIlAAAAAAAAQhUAAAAAAAMBgQAAAAAAA\\u002fJBAAAAAAADAYEAAAAAAAHB9QAAAAAAAZqBAAAAAAABAaEAAAAAAAKBjQAAAAAAAoGNAAAAAAADgbUAAAAAAAHB+QAAAAAAAwFVAAAAAAABwfkAAAAAAAMBdQAAAAAAAeqlAAAAAAADwmkAAAAAAAHCOQAAAAAAAcI5AAAAAAADAYEAAAAAAAOK4QAAAAAAADJ9AAAAAAIB6wEAAAAAAANS7QAAAAAAAcI5AAAAAAAC+okAAAAAAAABcQAAAAAAAwGBAAAAAAAACqkAAAAAAAKB7QAAAAAAAxJlAAAAAAADAYEAAAAAAAIChQAAAAAAAwGBAAAAAAAD4hkAAAAAAAMCJQAAAAAAAQJBAAAAAAAConUAAAAAAAIBkQAAAAAAAgE1AAAAAAAC8kkAAAAAAADCDQAAAAAAAGJVAAAAAAAAwh0AAAAAAADCHQAAAAAAAoGJAAAAAAACskkAAAAAAAFB4QAAAAAAAEIVAAAAAAAAAfUAAAAAAACCMQAAAAAAAcI5AAAAAAABgd0AAAAAAAABaQAAAAAAA4IpAAAAAAAAATUAAAAAAAOyjQAAAAAAAkIFAAAAAAACQjEAAAAAAAIBSQAAAAAAAQGhAAAAAAADAUEAAAAAAAIBSQAAAAAAAcH5AAAAAAAC4hkAAAAAAAOSfQAAAAAAAWKFAAAAAAABwfkAAAAAAAMBQQAAAAAAA4HVAAAAAAAC4gkAAAAAAAIBSQAAAAAAAoK9AAAAAAAC4hkAAAAAAANq1QAAAAAAAJLNAAAAAAACAgUAAAAAAAMSZQAAAAAAAgFJAAAAAAABAeEAAAAAAAMBfQAAAAAAA8IRAAAAAAAAIkkAAAAAAAPyQQAAAAAAAQHhAAAAAAACAUkAAAAAAACCUQAAAAAAAMHNAAAAAAADAX0AAAAAAABSVQAAAAAAAiqtAAAAAAAC4gkAAAAAAAMBgQAAAAAAASJ1AAAAAAADQjEAAAAAAAKBjQAAAAAAA2KZAAAAAAADAcEAAAAAAAPCGQAAAAAAA2KZAAAAAAAC4hkAAAAAAAMBwQAAAAAAAQIVAAAAAAAD8kEAAAAAAAHB+QAAAAAAAIGxAAAAAAABAaEAAAAAAAIBSQAAAAAAAqINAAAAAAACIu0AAAAAAAECIQAAAAAAAcHJAAAAAAAB0nkAAAAAAAMBdQAAAAAAAQHJAAAAAAAD8kEAAAAAAANCEQAAAAAAAYHdAAAAAAACIhUAAAAAAALySQAAAAAAA2IJAAAAAAAAQjEAAAAAAAFiBQAAAAAAA4IdAAAAAAACAUkAAAAAAALKgQAAAAAAAwGBAAAAAAAAQfEAAAAAAAABaQAAAAAAADq1AAAAAAAB0nkAAAAAAAAB+QAAAAAAAkqFAAAAAAAAwg0AAAAAAAFCNQAAAAAAAwHlAAAAAAAAgbEAAAAAAAFO1QAAAAAAAFbBAAAAAAACWrUAAAAAAAFCJQAAAAAAAQGhAAAAAAACgj0AAAAAAANB5QAAAAAAA\\u002fJBAAAAAAADAYEAAAAAAAICVQAAAAAAA\\u002fKBAAAAAAABwjkAAAAAAAOiTQAAAAAAAgbRAAAAAAAC4hkAAAAAAALiGQAAAAAAAZJBAAAAAAACAUkAAAAAAAABcQAAAAAAAMINAAAAAAADqo0AAAAAAAHCOQAAAAAAAgGJAAAAAAAAEqEAAAAAAAIBSQAAAAAAAvqJAAAAAAACAdUAAAAAAAKBiQAAAAAAAwK5AAAAAAAC8kkAAAAAAAPyQQAAAAAAAoHNAAAAAAADqo0AAAAAAADCDQAAAAAAAIGpAAAAAAACgc0AAAAAAAABKQAAAAAAASJ1AAAAAAABTs0AAAAAAACBqQAAAAAAAWIhAAAAAAADQf0AAAAAAANB4QAAAAAAAbKdAAAAAAABghEAAAAAAAGBnQAAAAACAFMFAAAAAAAAAWkAAAAAAAKBjQAAAAAAA\\u002fJBAAAAAAADAX0AAAAAAAJiYQAAAAAAAcH1AAAAAAAB0nkAAAAAAAP+9QAAAAAAAYGdAAAAAAACQnUAAAAAAALiGQAAAAAAAZJBAAAAAAABInUAAAAAAAJCRQAAAAAAAwGtAAAAAAAAAWkAAAAAAAJKhQAAAAAAAFrVAAAAAAAD8kEAAAAAAAJiYQAAAAAAAEHxAAAAAAADAf0AAAAAAAMBgQAAAAAAAQKVAAAAAAAC8kkAAAAAAAKBjQAAAAAAAwFBAAAAAAACATUAAAAAAAHyTQAAAAAAAaIdAAAAAAABAaEAAAAAAAMCLQAAAAAAAMIdAAAAAAABKrUAAAAAAAPyQQAAAAAAAsHJAAAAAAADatUAAAAAAAMCJQAAAAAAAcIdAAAAAAAAgbEAAAAAAAHCCQAAAAAAAgE1AAAAAAACAUkAAAAAAAECGQAAAAAAAYJRAAAAAAADAYEAAAAAAAIBtQAAAAAAAvqJAAAAAAACAbUAAAAAAAAylQAAAAAAAYGdAAAAAAACYmEAAAAAAAHCOQAAAAAAAjqFAAAAAAADEmUAAAAAAAHCOQAAAAAAAcKdAAAAAAAAQfEAAAAAAAOqzQAAAAAAAQIFAAAAAAACAgkAAAAAAAMSZQAAAAAAAQGpAAAAAAAAAZkAAAAAAAKBiQAAAAAAAoINAAAAAAABwkkAAAAAAAABaQAAAAAAAgFJAAAAAAABwg0AAAAAAAB7MQAAAAAAA0IxAAAAAAADwhkAAAAAAAICQQAAAAAAAAFpAAAAAAAAQjEAAAAAAABysQAAAAAAAoq9AAAAAAACom0AAAAAAAICgQAAAAAAAwH9AAAAAAADAb0AAAAAAAGCXQAAAAAAAQIZAAAAAAADAYEAAAAAAAIBxQAAAAAAAgKRAAAAAAACAUkAAAAAAAIBSQAAAAAAAwJlAAAAAAADAYEAAAAAAAMBgQAAAAAAAlq1AAAAAAACAUkAAAAAAAGCAQAAAAAAAYINAAAAAAACAUkAAAAAAAABGQAAAAAAAqJtAAAAAAACATUAAAAAAAPCqQAAAAAAAoHtAAAAAAABgd0AAAAAAAGCAQAAAAAAAwHBAAAAAAACAUkAAAAAAACB7QAAAAAAAdL5AAAAAAADwhkAAAAAAAPCGQAAAAAAAgHJAAAAAAAAgakAAAAAAAFCGQAAAAAAAwFVAAAAAAAA8kkAAAAAAgNjvQAAAAAAAwJJAAAAAAAAowkAAAAAAAIBiQAAAAAAAAFVAAAAAAAAAjUAAAAAAAICtQAAAAAAAp7RAAAAAAACgckAAAAAAAOiMQAAAAAAAiJtAAAAAAAAASkAAAAAAAAB2QAAAAAAAUHlAAAAAAADEmUAAAAAAAMBdQAAAAAAAADZAAAAAAAACqkAAAAAAAOCOQAAAAAAAGIFAAAAAAACApEAAAAAAAHB+QAAAAAAAwHlAAAAAAACAYUAAAAAAAGSSQAAAAAAAFrVAAAAAAABoh0AAAAAAAPCGQAAAAAAA3rFAAAAAAABwjkAAAAAAAMCCQAAAAAAAwGBAAAAAAACKoUAAAAAAAJKhQAAAAAAAMIdAAAAAAABoh0AAAAAAAAW4QAAAAAAAEHxAAAAAAABAhkAAAAAAAABKQAAAAAAA8IZAAAAAAIAQwUAAAAAAAIBSQAAAAAAAgGRAAAAAAADAYEAAAAAAAMSZQAAAAAAAkIFAAAAAAABggEAAAAAAAJiIQAAAAAAAMKlAAAAAAAD8kEAAAAAAAMBdQAAAAAAAoGNAAAAAAADEmUAAAAAAAPKsQAAAAAAA\\u002fJBAAAAAAADAYEAAAAAAAIBSQAAAAAAABbhAAAAAAICSwUAAAAAAAMBgQAAAAAAA8IZAAAAAAACAgUAAAAAAAMBgQAAAAAAAwHBAAAAAAABkkEAAAAAAAKB7QAAAAAAALrpAAAAAAAAEqEAAAAAAAGB3QAAAAAAAmIRAAAAAAACAUkAAAAAAAABsQAAAAAAAYIBAAAAAAADwhkAAAAAAAMBoQAAAAAAAAEZAAAAAAACBtEAAAAAAAJiYQAAAAAAAZJBAAAAAAAB0rkAAAAAAAAA2QAAAAAAAYGJAAAAAAACwgkAAAAAAANiWQAAAAAAAGJxAAAAAAACAQkAAAAAAABCFQAAAAAAAIHlAAAAAAADAckAAAAAAACBmQAAAAAAAgE1AAAAAAAD8kEAAAAAAAABpQAAAAAAAgF1AAAAAAICf30AAAAAAAJiIQAAAAAAAUHhAAAAAAABwjkAAAAAAAKCPQAAAAAAAvJJAAAAAAABAaEAAAAAAAMSZQAAAAAAAgE1AAAAAAADQiEAAAAAAAIBtQAAAAAAA0HBAAAAAAADAVUAAAAAAAECWQAAAAAAAQJZAAAAAAABwhkAAAAAAACiLQAAAAAAAAGlAAAAAAAAgd0AAAAAAAAA2QAAAAAAAuIJAAAAAAAAYnEAAAAAAAGB3QAAAAAAARJ9AAAAAAAAAbUAAAAAAAIBNQAAAAAAAYIBAAAAAAACAYkAAAAAAAICUQAAAAAAAgJRAAAAAAABixkAAAAAAALrLQAAAAAAAoM5AAAAAAACggUAAAAAAAD28QAAAAAAAYGdAAAAAAACAUkAAAAAAABB1QAAAAAAAwF1AAAAAAADAXUAAAAAAAABtQAAAAAAArKVAAAAAAAAATUAAAAAAAIBSQAAAAAAA6JNAAAAAAACNv0AAAAAAAMBgQAAAAAAAwHlAAAAAAADIgUAAAAAAAMiBQAAAAAAAgFJAAAAAAACAc0AAAAAAAAA8QAAAAAAAgIVAAAAAAAAANkAAAAAAAABGQAAAAAAAAI1AAAAAAABQk0AAAAAAAICkQAAAAAAAFqVAAAAAAADAYEAAAAAAALB9QAAAAAAAYGZAAAAAAABohkAAAAAAABalQAAAAAAAQFhAAAAAAADgbEAAAAAAAGyXQAAAAAAAmIhAAAAAAAB2sUAAAAAAAICCQAAAAAAAwHBAAAAAAABAWEAAAAAAAGB3QAAAAAAAgGNAAAAAAAAAjEAAAAAAAIB9QAAAAAAAgH1AAAAAAAAga0AAAAAAACBrQAAAAAAAIGtAAAAAAADAb0AAAAAAAOiDQAAAAAAA\\u002fJBAAAAAAAD8kEAAAAAAAMBvQAAAAAAAwJJAAAAAAADAYUAAAAAAAAA2QAAAAAAAAJ5AAAAAAADAYEAAAAAAAIBCQAAAAAAAmJhAAAAAAADAYEAAAAAAAKBjQAAAAAAAAGxAAAAAAAAAbEAAAAAAAHByQAAAAAAAgFJAAAAAAABwfkAAAAAAAABeQAAAAAAAYKdAAAAAAAAAakAAAAAAAEB2QAAAAAAAQFhAAAAAAAC0rEAAAAAAAECAQAAAAAAAYHBAAAAAAACYmEAAAAAAAEidQAAAAAAAUHhAAAAAAIBJzUAAAAAAAG6nQAAAAAAAoI9AAAAAAABBwEAAAAAAACB5QAAAAAAAYH9AAAAAAACAZEAAAAAAAHB2QAAAAAAASI1AAAAAAAAAVkAAAAAAABCcQAAAAAAAGIxAAAAAAAAAakAAAAAAAAqzQAAAAAAAuIJAAAAAAADwhkAAAAAAAHqpQAAAAAAAQKZAAAAAAAD8sEAAAAAAAGyXQAAAAAAA8JpAAAAAAADQf0AAAAAAAICRQAAAAAAA0H9AAAAAAADAcUAAAAAAALiCQAAAAAAAsHJAAAAAAADQkEAAAAAAAHSuQAAAAAAA0bdAAAAAAAAAbUAAAAAAAIBSQAAAAAAAAEZAAAAAAAAAeUAAAAAAAMCBQAAAAAAA0bdAAAAAAADAcUAAAAAAAPCGQAAAAAAAIHtAAAAAAACwckAAAAAAABSWQAAAAAAAEHxAAAAAAACgc0AAAAAAAGiHQAAAAAAAwGBAAAAAAADizUAAAAAAAPygQAAAAAAAAFxAAAAAAABghEAAAAAAAJiYQAAAAAAAAJ5AAAAAAACAUkAAAAAAACBqQAAAAAAA1KtAAAAAAADEmUAAAAAAABB1QAAAAAAAGIxAAAAAAACqrkAAAAAAAMBxQAAAAAAA\\u002fJBAAAAAAADol0AAAAAAAKBjQAAAAAAAcI5AAAAAAADwhkAAAAAAADG5QAAAAAAAgHVAAAAAAABsl0AAAAAAAGiXQAAAAAAAlq1AAAAAAAAQmEAAAAAAAAB9QAAAAAAAADZAAAAAAADQeEAAAAAAAMBgQAAAAAAA2LBAAAAAAAAAnkAAAAAAAABDQAAAAAAAoGJAAAAAAACAZEAAAAAAAABDQAAAAAAAIGtAAAAAAADgnUAAAAAAANy2QAAAAAAAbKFAAAAAAAAga0AAAAAAAAB8QAAAAAAAwF9AAAAAAAAYjEAAAAAAACB5QAAAAAAAcI5AAAAAAADgbUAAAAAAAMBfQAAAAAAAcH5AAAAAAAB0nkAAAAAAADB6QAAAAAAAcH5AAAAAAACAUkAAAAAAAHCSQAAAAAAAAJpAAAAAAACwgkAAAAAAAPCGQAAAAAAARMZAAAAAAAC4gkAAAAAAAMBgQAAAAAAAwGBAAAAAAADAeUAAAAAAAMSZQAAAAAAAkHRAAAAAAACwkkAAAAAAAAB8QAAAAAAAgIRAAAAAAACIm0AAAAAAAGCtQAAAAAAA2I5AAAAAAACwckAAAAAAAJC\\u002fQAAAAAAAgFJAAAAAAMBB0EAAAAAAAAAsQAAAAAAA0HtAAAAAAACAfUAAAAAAAIB0QAAAAAAAUIhAAAAAAADAYUAAAAAAAF65QAAAAAAAgHJAAAAAAABAaEAAAAAAAPCGQAAAAAAAAEpAAAAAAAC+o0AAAAAAAMB5QAAAAAAAAC5AAAAAAAAAakAAAAAAAHCHQAAAAAAAcI5AAAAAAAD8kEAAAAAAACPoQAAAAAAAAHVAAAAAAADAiUAAAAAAAFy7QAAAAAAAmbpAAAAAAABwfkAAAAAAAOqjQAAAAAAAgHJAAAAAAADwhkAAAAAAAACGQAAAAAAAQMFAAAAAAADWuUAAAAAAABKlQAAAAAAA2IBAAAAAAAAAakAAAAAAACB8QAAAAAAAgGRAAAAAAAAAhkAAAAAAAEB4QAAAAAAA8IZAAAAAAABgnUAAAAAAAGiHQAAAAAAA8IZAAAAAAACYmEAAAAAAAIBSQAAAAAAASq1AAAAAAACYmEAAAAAAAMSZQAAAAAAA\\u002fJBAAAAAAAAokkAAAAAAAAyvQAAAAAAAcH5AAAAAAADAckAAAAAAAOBtQAAAAAAA6rNAAAAAAADAcEAAAAAAAOBtQAAAAABwmSRBAAAAAADEmUAAAAAAAGCQQAAAAAAAaIdAAAAAAADEmUAAAAAAAHCOQAAAAAAAIHlAAAAAAAAgrEAAAAAAAIBkQAAAAAAAgFJAAAAAAACgc0AAAAAAAGBnQAAAAAAAgGRAAAAAAACAUkAAAAAAAOyTQAAAAAAAgIFAAAAAAADAgkAAAAAAAPCGQAAAAAAA\\u002fJBAAAAAAAD8kEAAAAAAAGB3QAAAAAAAwGBAAAAAAADAiUAAAAAAAIB3QAAAAAAAwIlAAAAAAADAl0AAAAAAAGCAQAAAAAAAQGhAAAAAAABwjkAAAAAAAABpQAAAAAAAoGJAAAAAAACgc0AAAAAAAEBYQAAAAAAAEIVAAAAAAADAb0AAAAAAABCVQAAAAAAAwH5AAAAAAABgd0AAAAAAACiyQAAAAAAA\\u002fJBAAAAAAADwhkAAAAAAACB5QAAAAAAA\\u002fJBAAAAAAAAQfEAAAAAAALB6QAAAAAAAM7dAAAAAAAAwg0AAAAAAAKBiQAAAAAAAQJZAAAAAAADAf0AAAAAAAGBiQAAAAAAAgIFAAAAAAADAgkAAAAAAAL6zQAAAAAAAmIhAAAAAAABoh0AAAAAAALiCQAAAAAAAoIJAAAAAAADAYEAAAAAAAEB5QAAAAAAAwGBAAAAAAAAAVkAAAAAAAMiFQAAAAAAAdq5AAAAAAABgZkAAAAAAAJaoQAAAAAAAgGJAAAAAAAB0nkAAAAAAALB6QAAAAAAAYH9AAAAAAACAUkAAAAAAAL6jQAAAAAAAEHxAAAAAAACOsUAAAAAAAJB0QAAAAAAAoGNAAAAAAACAfkAAAAAAAMB5QAAAAAAAwGBAAAAAAACAdEAAAAAAANB4QAAAAAAAuIJAAAAAAABwckAAAAAAAABKQAAAAAAAUHFAAAAAAACAdEAAAAAAAAB9QAAAAAAAob9AAAAAAAAQlUAAAAAAAFBxQAAAAAAA4G1AAAAAAABohkAAAAAAAEBoQAAAAAAAwGBAAAAAAACSoUAAAAAAAICCQAAAAAAAFJVAAAAAAADQeUAAAAAAAABaQAAAAAAAgE1AAAAAAAD8oEAAAAAAAL6+QAAAAAAA\\u002fJBAAAAAAABAf0AAAAAAAECmQAAAAAAA2KZAAAAAAABAlkAAAAAAABicQAAAAAAAaIdAAAAAAADAf0AAAAAAAJatQAAAAAAAoHNAAAAAAAAARkAAAAAAAPCGQAAAAAAAQIFAAAAAAACATUAAAAAAAGBnQAAAAAAAsI1AAAAAAADIhUAAAAAAAIibQAAAAAAAwGBAAAAAAABghEAAAAAAAMBgQAAAAAAAgF1AAAAAAADIgUAAAAAAACaxQAAAAAAA4G5AAAAAAADEmUAAAAAAAMBoQAAAAAAAwF1AAAAAAABInUAAAAAAAPyQQAAAAAAABLhAAAAAAABAaEAAAAAAABiMQAAAAAAAUHhAAAAAAADEmUAAAAAAAGiHQAAAAAAAsIJAAAAAAABeqkAAAAAAALSsQAAAAAAASK1AAAAAAADyqkAAAAAAAKBiQAAAAAAAEIxAAAAAAAAAdkAAAAAAAL6jQAAAAAAAgFJAAAAAAADAcEAAAAAAALB6QAAAAAAAkqFAAAAAAAAWpUAAAAAAADCDQAAAAAAAEIVAAAAAAAC8kkAAAAAAAAiSQAAAAAAAMJlAAAAAAADAeUAAAAAAAIBNQAAAAAAAOI1AAAAAAAC7x0AAAAAAAHB3QAAAAAAAsKBAAAAAAAAge0AAAAAAAGiHQAAAAAAAdKNAAAAAAABKrUAAAAAAAIBrQAAAAAAAKJBAAAAAAAAQhUAAAAAAAMBfQAAAAAAAgFJAAAAAAAAATUAAAAAAAECWQAAAAAAAkJBAAAAAAADEmUAAAAAAAAB9QAAAAAAAxJlAAAAAAACAgkAAAAAAAFCBQAAAAAAAFqVAAAAAAAD8kEAAAAAAALiCQAAAAAAAaIdAAAAAAACQgUAAAAAAAPCDQAAAAAAAwGBAAAAAAAD8kEAAAAAAAPCGQAAAAAAAEIVAAAAAAAAgnEAAAAAAACB2QAAAAAAAQG5AAAAAAADAaEAAAAAAAIBrQAAAAAAANJFAAAAAAABAVkAAAAAAAJyWQAAAAAAAAEpAAAAAAAAARUAAAAAAAOiTQAAAAAAAKKJAAAAAAIAizUAAAAAAAP+9QAAAAAAAwGJAAAAAAADAYkAAAAAAAJCRQAAAAAAAoGJAAAAAAAAQfEAAAAAAAEB5QAAAAAAAH7xAAAAAAADAmUAAAAAAAHCOQAAAAAAANdFAAAAAAAAwg0AAAAAAABiMQAAAAAAAgFJAAAAAAADgfkAAAAAAAL6zQAAAAAAAAEZAAAAAAABAaEAAAAAAAIBUQAAAAAAAEHVAAAAAAABIh0AAAAAAAMBiQAAAAAAA3rFAAAAAAAC4gkAAAAAAAMBvQAAAAAAA\\u002fJBAAAAAAABAWEAAAAAAAPyQQAAAAAAApJ9AAAAAAAAgeUAAAAAAAICCQAAAAAAAZKJAAAAAAACspUAAAAAAAMBgQAAAAAAAoItAAAAAAABsl0AAAAAAAEBYQAAAAAAA8IZAAAAAAAAWpUAAAAAAAMBgQAAAAAAAAGxAAAAAAACAUkAAAAAAACiSQAAAAAAAMJlAAAAAAABggEAAAAAAANCSQAAAAAAAwGBAAAAAAAC8kkAAAAAAACiSQAAAAAAAgFJAAAAAAACwckAAAAAAAIB7QAAAAAAAwHBAAAAAAACUkUAAAAAAAEidQAAAAAAAUJFAAAAAAACQkUAAAAAAANB\\u002fQAAAAAAAaJBAAAAAAADAckAAAAAAAMBfQAAAAAAAAF1AAAAAAADAYEAAAAAAAPyQQAAAAAAAMIJAAAAAAAAAakAAAAAAAABdQAAAAAAAmIhAAAAAAABogEAAAAAAABCFQAAAAAAA6rNAAAAAAABAeUAAAAAAAHiOQAAAAAAAgFtAAAAAAADAYEAAAAAAABB8QAAAAAAAtKxAAAAAAABggEAAAAAAABalQAAAAAAAEIVAAAAAAAAIgkAAAAAAANSrQAAAAAAAMIpAAAAAAAAQfEAAAAAAABe1QAAAAAAAoIFAAAAAAAC+okAAAAAAAJiYQAAAAAAAgH1AAAAAAADYg0AAAAAAACB3QAAAAAAAxJlAAAAAAACAZUAAAAAAAMSpQAAAAAAAwGBAAAAAAABwh0AAAAAAAMBxQAAAAAAA8IZAAAAAAABgaEAAAAAAAPKqQAAAAAAA8qpAAAAAAADqo0AAAAAAABCFQAAAAAAAMINAAAAAAADAYEAAAAAAAGiAQAAAAAAAQGhAAAAAAACAUkAAAAAAAJCBQAAAAAAAcHdAAAAAAACPsUAAAAAAAIBSQAAAAAAA\\u002fJBAAAAAAAAAWkAAAAAAABiMQAAAAAAAcH5AAAAAAAAgfEAAAAAAABSVQAAAAAAAFJVAAAAAAACAZ0AAAAAAAKiZQAAAAAAAkJFAAAAAAAAQgUAAAAAAAEBpQAAAAAAAIHxAAAAAAACgY0AAAAAAACB8QAAAAAAAwFtAAAAAAAC1vEAAAAAAAIBNQAAAAAAAgFRAAAAAAACARkAAAAAAADG5QAAAAAAAIHxAAAAAAAAwg0AAAAAAAMiBQAAAAAAA\\u002fJBAAAAAAABoh0AAAAAAAPyQQAAAAAAA\\u002fJBAAAAAAABgl0AAAAAAAABNQAAAAAAAtJxAAAAAAACwckAAAAAAAGCVQAAAAAAAwIlAAAAAAADAYkAAAAAAAOCdQAAAAAAAsJ1AAAAAAABQeEAAAAAAAPiJQAAAAAAAkJFAAAAAAACAZEAAAAAAAECGQAAAAAAAwGBAAAAAAABogEAAAAAAAPyQQAAAAAAAYHBAAAAAAACwpkAAAAAAAN6xQAAAAAAAiKtAAAAAAAD8kEAAAAAAAMSZQAAAAAAAIHlAAAAAAADEmUAAAAAAAIBiQAAAAAAAIGJAAAAAAABokEAAAAAAAFB4QAAAAAAAAJ1AAAAAAAAWpUAAAAAAAMSZQAAAAAAAuIJAAAAAAADAeUAAAAAAAAB0QAAAAAAAAEpAAAAAAAB0nkAAAAAAAMB5QAAAAAAAnJRAAAAAAAAokEAAAAAAABSVQAAAAAAAIHxAAAAAAACQkEAAAAAAAEidQAAAAAAAwHlAAAAAAAD8kEAAAAAAAFB4QAAAAAAAgGRAAAAAAADAeUAAAAAAAGSQQAAAAAAAgKRAAAAAAADAUkAAAAAAAHSeQAAAAAAAgE1AAAAAAABgd0AAAAAAAMBwQAAAAAAAgGdAAAAAAACgY0AAAAAAACBsQAAAAAAAwHBAAAAAAAB8v0AAAAAAAGCHQAAAAAAAsqBAAAAAAAAQhUAAAAAAAECWQAAAAAAAYIdAAAAAAAAoskAAAAAAACiQQAAAAAAAgFBAAAAAAABgZ0AAAAAAABiMQAAAAAAAEHxAAAAAAAC4gkAAAAAAAIirQAAAAAAA3rFAAAAAAADgbUAAAAAAAHCOQAAAAAAAgFJAAAAAAABgeEAAAAAAACBsQAAAAAAAkqFAAAAAAACAUkAAAAAAAF6qQAAAAAAAqIpAAAAAAABokEAAAAAAAJCRQAAAAAAA\\u002fJBAAAAAAADAgkAAAAAAAPCGQAAAAAAAaIdAAAAAAACQkUAAAAAAANq1QAAAAAAA\\u002fKBAAAAAAACQkUAAAAAAALiSQAAAAAAAdK5AAAAAAAAYhUAAAAAAAGCAQAAAAAAAAHxAAAAAAABAaUAAAAAAAKCSQAAAAAAAwGBAAAAAAACgY0AAAAAAAGyXQAAAAAAAxJlAAAAAAABwl0AAAAAAAMBgQAAAAAAAwGJAAAAAAACgY0AAAAAAAKBjQAAAAAAAXqpAAAAAAAAAPkAAAAAAAJCBQAAAAAAAwGBAAAAAAACYmEAAAAAAAHB+QAAAAAAAwGBAAAAAAACAZ0AAAAAAAAA9QAAAAAAAwGBAAAAAAABsl0AAAAAAAMCJQAAAAAAA6JNAAAAAAAAcrEAAAAAAAIBNQAAAAAAAYIBAAAAAAADgfUAAAAAAACB8QAAAAAAAxJlAAAAAAABIvUAAAAAAADCDQAAAAAAAgFJAAAAAAABElkAAAAAAAB6sQAAAAAAArKVAAAAAAADAb0AAAAAAAJCRQAAAAAAAwIlAAAAAAACAUkAAAAAAABSVQAAAAAAACIJAAAAAAADQcEAAAAAAAIBSQAAAAAAAkrFAAAAAAAAgrEAAAAAAAMBgQAAAAAAAsIJAAAAAAACAUkAAAAAAALKwQAAAAAAAcHdAAAAAAAAAhUAAAAAAAABGQAAAAAAAQHBAAAAAAADwg0AAAAAAAHiUQAAAAAAA6JJAAAAAAAAAbEAAAAAAACBrQAAAAAAAAEpAAAAAAABmoEAAAAAAAMB5QAAAAAAAmIhAAAAAAADAYEAAAAAAABCVQAAAAAAAwGBAAAAAAAC0qUAAAAAAAFCBQAAAAAAAMHNAAAAAAACwgkAAAAAAAIBSQAAAAAAAwGBAAAAAAACAUkAAAAAAAIBjQAAAAAAA8IZAAAAAAADAckAAAAAAAPCGQAAAAAAA+KtAAAAAAAAgeUAAAAAAALiCQAAAAAAAgH1AAAAAAADEmUAAAAAAAPCGQAAAAAAA\\u002fJBAAAAAAAC8okAAAAAAAB6sQAAAAAAA6INAAAAAAACQhEAAAAAAAJiYQAAAAAAAcI5AAAAAAADEmUAAAAAAAEiHQAAAAAAAKKJAAAAAAACAUkAAAAAAAPCKQAAAAAAAAFxAAAAAAACgY0AAAAAAALiCQAAAAAAAQJZAAAAAAACQkUAAAAAAAIBSQAAAAAAAoGNAAAAAAADQsUAAAAAAALiCQAAAAAAA\\u002fJBAAAAAAABgd0AAAAAAAJiYQAAAAAAAuIJAAAAAAAAQtEAAAAAAAMBrQAAAAAAA8KlAAAAAAABAiUAAAAAAAIBQQAAAAAAA\\u002fJBAAAAAAADAXUAAAAAAAMBlQAAAAAAAQJJAAAAAAAAAhkAAAAAAAA6vQAAAAAAADq9AAAAAAAC4gkAAAAAAAIBNQAAAAAAAgGVAAAAAAABAeUAAAAAAAKCfQAAAAAAAoJ9AAAAAAADEmUAAAAAAABScQAAAAAAAAHxAAAAAAACAUkAAAAAAAIB0QAAAAAAAvJJAAAAAAACgn0AAAAAAAJB0QAAAAAAAaJdAAAAAAABQdkAAAAAAAECWQAAAAAAAcH5AAAAAAAD8kEAAAAAAAMiFQAAAAAAA8IZAAAAAAABgZ0AAAAAAAABsQAAAAAAAAK1AAAAAAACwnUAAAAAAAGiHQAAAAAAAAFxAAAAAAAAsxUAAAAAAAKBiQAAAAAAA8INAAAAAAABgZ0AAAAAAALySQAAAAAAAYHdAAAAAAACAQkAAAAAAALiCQAAAAAAAKIBAAAAAAABwjkAAAAAAAGB3QAAAAAAAgHNAAAAAAABCpkAAAAAAAMSpQAAAAAAAuIJAAAAAAACAdEAAAAAAAGCAQAAAAAAAYIBAAAAAAABAoEAAAAAAAPyQQAAAAAAA\\u002fJBAAAAAAAAgbEAAAAAAAGBwQAAAAAAAlLFAAAAAAABAaUAAAAAAALu3QAAAAAAAkHRAAAAAAAD8kEAAAAAAAABWQAAAAAAAdLJAAAAAAACstUAAAAAAAFCNQAAAAAAA8HtAAAAAAACgj0AAAAAAADCjQAAAAAAAQqZAAAAAAADog0AAAAAAAMBfQAAAAAAAoHNAAAAAAACAUkAAAAAAAEiNQAAAAAAAYGdAAAAAAACAUkAAAAAAAIB9QAAAAAAAwGFAAAAAAACQjEAAAAAAABCFQAAAAAAAmqhAAAAAAACIq0AAAAAAAABsQAAAAAAAwGtAAAAAAABwjkAAAAAAAGawQAAAAAAAQGlAAAAAAAD8kEAAAAAAAMSZQAAAAAAA\\u002fJBAAAAAAADIuUAAAAAAAHSeQAAAAAAAAGxAAAAAAABwe0AAAAAAACy+QAAAAAAAQHlAAAAAAACgYkAAAAAAAMCJQAAAAAAA8JpAAAAAAACgYkAAAAAAAFSjQAAAAAAA0HtAAAAAAACQqEAAAAAAAHCeQAAAAAAAVKNAAAAAAAD8kEAAAAAAAIBrQAAAAAAAoGJAAAAAAAAgjEAAAAAAAGiHQAAAAAAAwJlAAAAAAACgY0AAAAAAAKBiQAAAAAAAAH5AAAAAAACAY0AAAAAAAMBiQAAAAAAAMIdAAAAAAAAcsEAAAAAAAABpQAAAAAAAADZAAAAAAADQgUAAAAAAAJiYQAAAAAAAAIZAAAAAAAD8kEAAAAAAAIBCQAAAAAAAwGBAAAAAAADog0AAAAAAAGCAQAAAAAAAIGZAAAAAAAAIgkAAAAAAAOyjQAAAAAAAcHdAAAAAAAC+okAAAAAAAMSpQAAAAAAAyIVAAAAAAACAUkAAAAAAAACpQAAAAAAAgFJAAAAAAADzukAAAAAAAIatQAAAAAAAAE1AAAAAAABwe0AAAAAAAMSZQAAAAAAAQH9AAAAAAAAAXEAAAAAAAMSZQAAAAAAAwJ1AAAAAAACQgUAAAAAAAIByQAAAAAAAAIVAAAAAAADAb0AAAAAAAMBwQAAAAAAAMLFAAAAAAAAokEAAAAAAAIBSQAAAAAAAaIdAAAAAAACgYkAAAAAAAIB1QAAAAAAAoGJAAAAAAACgYkAAAAAAAJySQAAAAAAA\\u002fKBAAAAAAADwe0AAAAAAANB\\u002fQAAAAAAAFJVAAAAAAAAAVkAAAAAAAHSeQAAAAAAAYIBAAAAAAADAXUAAAAAAABiMQAAAAAAAwF9AAAAAAACgc0AAAAAAAABcQAAAAAAAkHRAAAAAAABAeUAAAAAAAPyQQAAAAAAAoGNAAAAAAADQeEAAAAAAAHSeQAAAAAAAQIZAAAAAAACAZ0AAAAAAAIBkQAAAAAAAIHVAAAAAAAAAQ0AAAAAAAHB3QAAAAAAAAE5AAAAAAACAUkAAAAAAAABeQAAAAAAAYGdAAAAAAABATEAAAAAAAOBdQAAAAAAAgE1AAAAAAAAgekAAAAAAAGagQAAAAAAAQFhAAAAAAAAAQ0AAAAAAAGBmQAAAAAAAACxAAAAAAAC4hkAAAAAAAKB7QAAAAAAAAC1AAAAAAAAgdUAAAAAAAABeQAAAAAAAMINAAAAAAAAAfUAAAAAAAEByQAAAAAAAgFRAAAAAAAAAJkAAAAAAAABgQAAAAAAAuIZAAAAAAABAakAAAAAAACB7QAAAAAAAAENAAAAAAABwjkAAAAAAAPCWQAAAAAAAgGRAAAAAAAAATkAAAAAAAABTQAAAAAAAcH5AAAAAAAAATkAAAAAAAGCAQAAAAAAAIGpAAAAAAAAAWkAAAAAAAIB+QAAAAAAAnrlAAAAAAAAANUAAAAAAAMSZQAAAAAAAdK5AAAAAAADwdkAAAAAAAEBeQAAAAAAAwGJAAAAAAADgnUAAAAAAACB7QAAAAAAAACxAAAAAAADAUUAAAAAAAGSSQAAAAAAA\\u002fJBAAAAAAAAAQ0AAAAAAAIBkQAAAAAAAwGpAAAAAAADAXUAAAAAAAAAmQAAAAAAAAGxAAAAAAAAQfEAAAAAAAJCRQAAAAAAAgGhAAAAAAABAeUAAAAAAAJB8QAAAAAAAAF5AAAAAAAAwmUAAAAAAAKiDQAAAAAAAQFZAAAAAAAB0nkAAAAAAACBqQAAAAAAAK7BAAAAAAACQkUAAAAAAAABDQAAAAAAAAK1AAAAAAADwdkAAAAAAABiBQAAAAAAAYHdAAAAAAACAUkAAAAAAAGB\\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\\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\\u002fJBAAAAAAACAVUAAAAAAAEB6QAAAAAAAvqJAAAAAAABAeEAAAAAAAKBiQAAAAAAAADhAAAAAAACIq0AAAAAAAIBWQAAAAAAAgEZAAAAAAAAgZUAAAAAAAFB4QAAAAAAAgFJAAAAAAADAY0AAAAAAAABTQAAAAAAA4GBAAAAAAACQgUAAAAAAANySQAAAAAAAADZAAAAAAACIhUAAAAAAAGCAQAAAAAAAkJFAAAAAAADgbkAAAAAAAOBgQAAAAAAAgJhAAAAAAABkkUAAAAAAAGBoQAAAAAAAAENAAAAAAAAARUAAAAAAAGSQQAAAAAAAOHZAAAAAAABAaEAAAAAAAHSeQAAAAAAAGIxAAAAAAADAYUAAAAAAAGBnQAAAAAAA4F1AAAAAAABgd0AAAAAAAIB1QAAAAAAAiLVAAAAAAADAXUAAAAAAAKBiQAAAAAAAwGFAAAAAAAAAQ0AAAAAAAEBoQAAAAAAAgFZAAAAAAACQkUAAAAAAAOBuQAAAAAAA4HdAAAAAAAD3pUAAAAAAAABTQAAAAAAAQqZAAAAAAAAAQ0AAAAAAANySQAAAAAAAQFhAAAAAAACBtEAAAAAAAABuQAAAAAAAwHJAAAAAAABAekAAAAAAAAA2QAAAAAAA4GRAAAAAAACclkAAAAAAAIygQAAAAAAAwGNAAAAAAABAWUAAAAAAAKCPQFRVVVVV1UtAAAAAAADAYEAAAAAAAL6iQKuqqqqqqktAAAAAAACgYkAAAAAAAIB+QAAAAAAAAF5AAAAAAAAAJEAAAAAAANiAQAAAAAAAADZAAAAAAABInUAAAAAAACB8QAAAAAAAgFZAAAAAAAAAQ0AAAAAAAIBlQAAAAAAAFKVA\"},\"yaxis\":\"y2\",\"type\":\"box\"}],                        {\"legend\":{\"tracegroupgap\":0},\"template\":{\"data\":{\"barpolar\":[{\"marker\":{\"line\":{\"color\":\"#E5ECF6\",\"width\":0.5},\"pattern\":{\"fillmode\":\"overlay\",\"size\":10,\"solidity\":0.2}},\"type\":\"barpolar\"}],\"bar\":[{\"error_x\":{\"color\":\"#2a3f5f\"},\"error_y\":{\"color\":\"#2a3f5f\"},\"marker\":{\"line\":{\"color\":\"#E5ECF6\",\"width\":0.5},\"pattern\":{\"fillmode\":\"overlay\",\"size\":10,\"solidity\":0.2}},\"type\":\"bar\"}],\"carpet\":[{\"aaxis\":{\"endlinecolor\":\"#2a3f5f\",\"gridcolor\":\"white\",\"linecolor\":\"white\",\"minorgridcolor\":\"white\",\"startlinecolor\":\"#2a3f5f\"},\"baxis\":{\"endlinecolor\":\"#2a3f5f\",\"gridcolor\":\"white\",\"linecolor\":\"white\",\"minorgridcolor\":\"white\",\"startlinecolor\":\"#2a3f5f\"},\"type\":\"carpet\"}],\"choropleth\":[{\"colorbar\":{\"outlinewidth\":0,\"ticks\":\"\"},\"type\":\"choropleth\"}],\"contourcarpet\":[{\"colorbar\":{\"outlinewidth\":0,\"ticks\":\"\"},\"type\":\"contourcarpet\"}],\"contour\":[{\"colorbar\":{\"outlinewidth\":0,\"ticks\":\"\"},\"colorscale\":[[0.0,\"#0d0887\"],[0.1111111111111111,\"#46039f\"],[0.2222222222222222,\"#7201a8\"],[0.3333333333333333,\"#9c179e\"],[0.4444444444444444,\"#bd3786\"],[0.5555555555555556,\"#d8576b\"],[0.6666666666666666,\"#ed7953\"],[0.7777777777777778,\"#fb9f3a\"],[0.8888888888888888,\"#fdca26\"],[1.0,\"#f0f921\"]],\"type\":\"contour\"}],\"heatmap\":[{\"colorbar\":{\"outlinewidth\":0,\"ticks\":\"\"},\"colorscale\":[[0.0,\"#0d0887\"],[0.1111111111111111,\"#46039f\"],[0.2222222222222222,\"#7201a8\"],[0.3333333333333333,\"#9c179e\"],[0.4444444444444444,\"#bd3786\"],[0.5555555555555556,\"#d8576b\"],[0.6666666666666666,\"#ed7953\"],[0.7777777777777778,\"#fb9f3a\"],[0.8888888888888888,\"#fdca26\"],[1.0,\"#f0f921\"]],\"type\":\"heatmap\"}],\"histogram2dcontour\":[{\"colorbar\":{\"outlinewidth\":0,\"ticks\":\"\"},\"colorscale\":[[0.0,\"#0d0887\"],[0.1111111111111111,\"#46039f\"],[0.2222222222222222,\"#7201a8\"],[0.3333333333333333,\"#9c179e\"],[0.4444444444444444,\"#bd3786\"],[0.5555555555555556,\"#d8576b\"],[0.6666666666666666,\"#ed7953\"],[0.7777777777777778,\"#fb9f3a\"],[0.8888888888888888,\"#fdca26\"],[1.0,\"#f0f921\"]],\"type\":\"histogram2dcontour\"}],\"histogram2d\":[{\"colorbar\":{\"outlinewidth\":0,\"ticks\":\"\"},\"colorscale\":[[0.0,\"#0d0887\"],[0.1111111111111111,\"#46039f\"],[0.2222222222222222,\"#7201a8\"],[0.3333333333333333,\"#9c179e\"],[0.4444444444444444,\"#bd3786\"],[0.5555555555555556,\"#d8576b\"],[0.6666666666666666,\"#ed7953\"],[0.7777777777777778,\"#fb9f3a\"],[0.8888888888888888,\"#fdca26\"],[1.0,\"#f0f921\"]],\"type\":\"histogram2d\"}],\"histogram\":[{\"marker\":{\"pattern\":{\"fillmode\":\"overlay\",\"size\":10,\"solidity\":0.2}},\"type\":\"histogram\"}],\"mesh3d\":[{\"colorbar\":{\"outlinewidth\":0,\"ticks\":\"\"},\"type\":\"mesh3d\"}],\"parcoords\":[{\"line\":{\"colorbar\":{\"outlinewidth\":0,\"ticks\":\"\"}},\"type\":\"parcoords\"}],\"pie\":[{\"automargin\":true,\"type\":\"pie\"}],\"scatter3d\":[{\"line\":{\"colorbar\":{\"outlinewidth\":0,\"ticks\":\"\"}},\"marker\":{\"colorbar\":{\"outlinewidth\":0,\"ticks\":\"\"}},\"type\":\"scatter3d\"}],\"scattercarpet\":[{\"marker\":{\"colorbar\":{\"outlinewidth\":0,\"ticks\":\"\"}},\"type\":\"scattercarpet\"}],\"scattergeo\":[{\"marker\":{\"colorbar\":{\"outlinewidth\":0,\"ticks\":\"\"}},\"type\":\"scattergeo\"}],\"scattergl\":[{\"marker\":{\"colorbar\":{\"outlinewidth\":0,\"ticks\":\"\"}},\"type\":\"scattergl\"}],\"scattermapbox\":[{\"marker\":{\"colorbar\":{\"outlinewidth\":0,\"ticks\":\"\"}},\"type\":\"scattermapbox\"}],\"scattermap\":[{\"marker\":{\"colorbar\":{\"outlinewidth\":0,\"ticks\":\"\"}},\"type\":\"scattermap\"}],\"scatterpolargl\":[{\"marker\":{\"colorbar\":{\"outlinewidth\":0,\"ticks\":\"\"}},\"type\":\"scatterpolargl\"}],\"scatterpolar\":[{\"marker\":{\"colorbar\":{\"outlinewidth\":0,\"ticks\":\"\"}},\"type\":\"scatterpolar\"}],\"scatter\":[{\"fillpattern\":{\"fillmode\":\"overlay\",\"size\":10,\"solidity\":0.2},\"type\":\"scatter\"}],\"scatterternary\":[{\"marker\":{\"colorbar\":{\"outlinewidth\":0,\"ticks\":\"\"}},\"type\":\"scatterternary\"}],\"surface\":[{\"colorbar\":{\"outlinewidth\":0,\"ticks\":\"\"},\"colorscale\":[[0.0,\"#0d0887\"],[0.1111111111111111,\"#46039f\"],[0.2222222222222222,\"#7201a8\"],[0.3333333333333333,\"#9c179e\"],[0.4444444444444444,\"#bd3786\"],[0.5555555555555556,\"#d8576b\"],[0.6666666666666666,\"#ed7953\"],[0.7777777777777778,\"#fb9f3a\"],[0.8888888888888888,\"#fdca26\"],[1.0,\"#f0f921\"]],\"type\":\"surface\"}],\"table\":[{\"cells\":{\"fill\":{\"color\":\"#EBF0F8\"},\"line\":{\"color\":\"white\"}},\"header\":{\"fill\":{\"color\":\"#C8D4E3\"},\"line\":{\"color\":\"white\"}},\"type\":\"table\"}]},\"layout\":{\"annotationdefaults\":{\"arrowcolor\":\"#2a3f5f\",\"arrowhead\":0,\"arrowwidth\":1},\"autotypenumbers\":\"strict\",\"coloraxis\":{\"colorbar\":{\"outlinewidth\":0,\"ticks\":\"\"}},\"colorscale\":{\"diverging\":[[0,\"#8e0152\"],[0.1,\"#c51b7d\"],[0.2,\"#de77ae\"],[0.3,\"#f1b6da\"],[0.4,\"#fde0ef\"],[0.5,\"#f7f7f7\"],[0.6,\"#e6f5d0\"],[0.7,\"#b8e186\"],[0.8,\"#7fbc41\"],[0.9,\"#4d9221\"],[1,\"#276419\"]],\"sequential\":[[0.0,\"#0d0887\"],[0.1111111111111111,\"#46039f\"],[0.2222222222222222,\"#7201a8\"],[0.3333333333333333,\"#9c179e\"],[0.4444444444444444,\"#bd3786\"],[0.5555555555555556,\"#d8576b\"],[0.6666666666666666,\"#ed7953\"],[0.7777777777777778,\"#fb9f3a\"],[0.8888888888888888,\"#fdca26\"],[1.0,\"#f0f921\"]],\"sequentialminus\":[[0.0,\"#0d0887\"],[0.1111111111111111,\"#46039f\"],[0.2222222222222222,\"#7201a8\"],[0.3333333333333333,\"#9c179e\"],[0.4444444444444444,\"#bd3786\"],[0.5555555555555556,\"#d8576b\"],[0.6666666666666666,\"#ed7953\"],[0.7777777777777778,\"#fb9f3a\"],[0.8888888888888888,\"#fdca26\"],[1.0,\"#f0f921\"]]},\"colorway\":[\"#636efa\",\"#EF553B\",\"#00cc96\",\"#ab63fa\",\"#FFA15A\",\"#19d3f3\",\"#FF6692\",\"#B6E880\",\"#FF97FF\",\"#FECB52\"],\"font\":{\"color\":\"#2a3f5f\"},\"geo\":{\"bgcolor\":\"white\",\"lakecolor\":\"white\",\"landcolor\":\"#E5ECF6\",\"showlakes\":true,\"showland\":true,\"subunitcolor\":\"white\"},\"hoverlabel\":{\"align\":\"left\"},\"hovermode\":\"closest\",\"mapbox\":{\"style\":\"light\"},\"paper_bgcolor\":\"white\",\"plot_bgcolor\":\"#E5ECF6\",\"polar\":{\"angularaxis\":{\"gridcolor\":\"white\",\"linecolor\":\"white\",\"ticks\":\"\"},\"bgcolor\":\"#E5ECF6\",\"radialaxis\":{\"gridcolor\":\"white\",\"linecolor\":\"white\",\"ticks\":\"\"}},\"scene\":{\"xaxis\":{\"backgroundcolor\":\"#E5ECF6\",\"gridcolor\":\"white\",\"gridwidth\":2,\"linecolor\":\"white\",\"showbackground\":true,\"ticks\":\"\",\"zerolinecolor\":\"white\"},\"yaxis\":{\"backgroundcolor\":\"#E5ECF6\",\"gridcolor\":\"white\",\"gridwidth\":2,\"linecolor\":\"white\",\"showbackground\":true,\"ticks\":\"\",\"zerolinecolor\":\"white\"},\"zaxis\":{\"backgroundcolor\":\"#E5ECF6\",\"gridcolor\":\"white\",\"gridwidth\":2,\"linecolor\":\"white\",\"showbackground\":true,\"ticks\":\"\",\"zerolinecolor\":\"white\"}},\"shapedefaults\":{\"line\":{\"color\":\"#2a3f5f\"}},\"ternary\":{\"aaxis\":{\"gridcolor\":\"white\",\"linecolor\":\"white\",\"ticks\":\"\"},\"baxis\":{\"gridcolor\":\"white\",\"linecolor\":\"white\",\"ticks\":\"\"},\"bgcolor\":\"#E5ECF6\",\"caxis\":{\"gridcolor\":\"white\",\"linecolor\":\"white\",\"ticks\":\"\"}},\"title\":{\"x\":0.05},\"xaxis\":{\"automargin\":true,\"gridcolor\":\"white\",\"linecolor\":\"white\",\"ticks\":\"\",\"title\":{\"standoff\":15},\"zerolinecolor\":\"white\",\"zerolinewidth\":2},\"yaxis\":{\"automargin\":true,\"gridcolor\":\"white\",\"linecolor\":\"white\",\"ticks\":\"\",\"title\":{\"standoff\":15},\"zerolinecolor\":\"white\",\"zerolinewidth\":2}}},\"title\":{\"text\":\"\\u041e\\u0431\\u0449\\u0430\\u044f \\u0441\\u0443\\u043c\\u043c\\u0430 \\u0437\\u0430\\u043a\\u0430\\u0437\\u0430\"},\"xaxis\":{\"anchor\":\"y\",\"domain\":[0.0,0.8358],\"title\":{\"text\":\"\\u0437\\u0430\\u043a\\u0430\\u0437\"}},\"yaxis\":{\"anchor\":\"x\",\"domain\":[0.0,1.0],\"title\":{\"text\":\"\\u0441\\u0443\\u043c\\u043c\\u0430\"}},\"xaxis2\":{\"anchor\":\"y2\",\"domain\":[0.8408,1.0],\"matches\":\"x2\",\"showgrid\":false,\"showline\":false,\"showticklabels\":false,\"ticks\":\"\"},\"yaxis2\":{\"anchor\":\"x2\",\"domain\":[0.0,1.0],\"matches\":\"y\",\"showgrid\":true,\"showticklabels\":false}},                        {\"responsive\": true}                    ).then(function(){\n",
       "                            \n",
       "var gd = document.getElementById('f4fa7a4f-c7cf-4646-9f34-543d50456e46');\n",
       "var x = new MutationObserver(function (mutations, observer) {{\n",
       "        var display = window.getComputedStyle(gd).display;\n",
       "        if (!display || display === 'none') {{\n",
       "            console.log([gd, 'removed!']);\n",
       "            Plotly.purge(gd);\n",
       "            observer.disconnect();\n",
       "        }}\n",
       "}});\n",
       "\n",
       "// Listen for the removal of the full notebook cells\n",
       "var notebookContainer = gd.closest('#notebook-container');\n",
       "if (notebookContainer) {{\n",
       "    x.observe(notebookContainer, {childList: true});\n",
       "}}\n",
       "\n",
       "// Listen for the clearing of the current output cell\n",
       "var outputEl = gd.closest('.output');\n",
       "if (outputEl) {{\n",
       "    x.observe(outputEl, {childList: true});\n",
       "}}\n",
       "\n",
       "                        })                };            </script>        </div>"
      ]
     },
     "metadata": {},
     "output_type": "display_data"
    }
   ],
   "source": [
    "fig = px.scatter(info_chek,\n",
    "                 y='total_coast',\n",
    "                 labels={'total_coast': 'сумма',\n",
    "                         'index': 'заказ'},\n",
    "                 marginal_y='rug',\n",
    "                 title='Общая сумма заказа')\n",
    "iplot(fig)\n"
   ]
  },
  {
   "cell_type": "markdown",
   "metadata": {},
   "source": [
    "как видим есть выброс в 675 000 руб и весьма значительный. Устраним его и отфильтруем заказы"
   ]
  },
  {
   "cell_type": "code",
   "execution_count": 72,
   "metadata": {},
   "outputs": [
    {
     "data": {
      "text/plain": [
       "np.float64(675000.0)"
      ]
     },
     "execution_count": 72,
     "metadata": {},
     "output_type": "execute_result"
    }
   ],
   "source": [
    "lim_max = info_chek['total_coast'].max()  # тот самый выброс\n",
    "lim_max"
   ]
  },
  {
   "cell_type": "code",
   "execution_count": 73,
   "metadata": {},
   "outputs": [],
   "source": [
    "normal_orders = info_chek.query('total_coast < @lim_max')['order_id']"
   ]
  },
  {
   "cell_type": "markdown",
   "metadata": {},
   "source": [
    "и отфильтруем датасет по ним"
   ]
  },
  {
   "cell_type": "code",
   "execution_count": 74,
   "metadata": {},
   "outputs": [],
   "source": [
    "data = data.query('order_id in @normal_orders')"
   ]
  },
  {
   "cell_type": "markdown",
   "metadata": {},
   "source": [
    "Теперь построим таблицу с количеством заказов на пользователя и постмотрим есть ли там выбросы."
   ]
  },
  {
   "cell_type": "code",
   "execution_count": 75,
   "metadata": {},
   "outputs": [
    {
     "data": {
      "text/html": [
       "<div>\n",
       "<style scoped>\n",
       "    .dataframe tbody tr th:only-of-type {\n",
       "        vertical-align: middle;\n",
       "    }\n",
       "\n",
       "    .dataframe tbody tr th {\n",
       "        vertical-align: top;\n",
       "    }\n",
       "\n",
       "    .dataframe thead th {\n",
       "        text-align: right;\n",
       "    }\n",
       "</style>\n",
       "<table border=\"1\" class=\"dataframe\">\n",
       "  <thead>\n",
       "    <tr style=\"text-align: right;\">\n",
       "      <th></th>\n",
       "      <th>customer_id</th>\n",
       "      <th>orders</th>\n",
       "    </tr>\n",
       "  </thead>\n",
       "  <tbody>\n",
       "    <tr>\n",
       "      <th>0</th>\n",
       "      <td>000d6849-084e-4d9f-ac03-37174eaf60c4</td>\n",
       "      <td>1</td>\n",
       "    </tr>\n",
       "    <tr>\n",
       "      <th>1</th>\n",
       "      <td>001cee7f-0b29-4716-b202-0042213ab038</td>\n",
       "      <td>1</td>\n",
       "    </tr>\n",
       "    <tr>\n",
       "      <th>2</th>\n",
       "      <td>00299f34-5385-4d13-9aea-c80b81658e1b</td>\n",
       "      <td>1</td>\n",
       "    </tr>\n",
       "    <tr>\n",
       "      <th>3</th>\n",
       "      <td>002d4d3a-4a59-406b-86ec-c3314357e498</td>\n",
       "      <td>1</td>\n",
       "    </tr>\n",
       "    <tr>\n",
       "      <th>4</th>\n",
       "      <td>003bbd39-0000-41ff-b7f9-2ddaec152037</td>\n",
       "      <td>1</td>\n",
       "    </tr>\n",
       "  </tbody>\n",
       "</table>\n",
       "</div>"
      ],
      "text/plain": [
       "                            customer_id  orders\n",
       "0  000d6849-084e-4d9f-ac03-37174eaf60c4       1\n",
       "1  001cee7f-0b29-4716-b202-0042213ab038       1\n",
       "2  00299f34-5385-4d13-9aea-c80b81658e1b       1\n",
       "3  002d4d3a-4a59-406b-86ec-c3314357e498       1\n",
       "4  003bbd39-0000-41ff-b7f9-2ddaec152037       1"
      ]
     },
     "execution_count": 75,
     "metadata": {},
     "output_type": "execute_result"
    }
   ],
   "source": [
    "count_product_on_customer = (data\n",
    "                             .groupby('customer_id', as_index=False)['order_id']\n",
    "                             .nunique()\n",
    "                             .rename(columns=dict(order_id='orders')))\n",
    "\n",
    "\n",
    "count_product_on_customer.head()"
   ]
  },
  {
   "cell_type": "code",
   "execution_count": 76,
   "metadata": {},
   "outputs": [
    {
     "data": {
      "application/vnd.plotly.v1+json": {
       "config": {
        "linkText": "Export to plot.ly",
        "plotlyServerURL": "https://plot.ly",
        "showLink": false
       },
       "data": [
        {
         "hovertemplate": "пользователь=%{x}<br>число заказов=%{y}<extra></extra>",
         "legendgroup": "",
         "marker": {
          "color": "#636efa",
          "symbol": "circle"
         },
         "mode": "markers",
         "name": "",
         "showlegend": false,
         "type": "scattergl",
         "x": {
          "bdata": "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",
          "dtype": "i2"
         },
         "xaxis": "x",
         "y": {
          "bdata": "AQEBAQEBAgECAQIBAgEBAQEFAQEBAgEBAQIBAQIBAQICAgECAQECAgEBAgECAgECAgIBAQEBAQICAQIBAQEBAQEBAQICAgIBAQIBAgECAgECAQICAQIBAgIBAQEBAQIBAgIBAgECAQEBAQIBAgEDAQEBAQIBAQEBAQEBAQEBAQEDAQECAQEBAgIBAQEBAQIBAgEBAQECAQIBAgECAQEBAQEBAQEBAQEBAQEBAgEBAQIBAgECAQECAQECAQEBAgECAgEBAQECAQEBAQEBAgICAgEBAQICAQICAgECAQEBAQEBAgEBAQEBAQEBAQIBAQEBAgEBAgECAQIBAQIBAgIBAQIBAQIBAQIBAgEBAQECAQEBAQICAQECAgIBAQEBAQICAQECAQEBAQIBAgECAQIBAgIBAQEBAQEBAQEBAQICAgIBAQIBAgEBAgEBAQEBAgIBAgIBAQEBAgEBAQICAgECAQICAgEBAQEBAgEBAgECAgECAgEBAgIBAQIBAQIBAgIBAQEBAgECAQIBAgICAQECAgEBAQEBAgICAQEBAQEBAQECAQEBAgICAgICAQEBAQICAQIBAQEBAgEBAQICAQEBAQEBAQEBAQECAQEBAQIBAgICAQICAQECAQICAgIBAQECAQIBAQEBAgEBAQECAQICAQIBAQECAQEBAgIBAQEBAQIBAQIBAQICAQIBAgEBAgECAgEBAgEBAQICAQICAQEBAgEBAgECAgICAQECAQEBAQICAQEBAQIBAQICAQEBAQIBAQEBAQIBAQICAQECAQIBAgEBAQIBAQEBAQEBAgEBAQIBAgEBAQEDAQEBAQIBAQECAgEBAQEBAQIBAQECAgECAQECAgICAQICAgEBAQIBAQEBAQIBAQECAgEBAgIBAQEBAgECAQEBAwEBAQICAQEBBAEBAQECAQEBAgEBAQIBAgICAQEBAQECAgECAgIBAQIBAgIBAQEBAQEBIwECAQEBAgECAQECAgIBAgEBAQIBAQIBAgECAQECAQIBAQIBAQEBAQEBAQEBAQICAgIBAQECAgECAgIDAQECAgIBAgEBAQECAQIBAgEBAQEBAQIBAQICAQEBAgEBAgEBAQIBAQECAgICAQIBAQICAgEBAQICAQEBAQEBAQEBAQEBAQEBAwEBAQIBAgICAgIBAQECAQECAQECAgICAgEBAQEBAgIBAQICAQICAQEBAgICAQEBAQMBAgEBAQECAgMBAgECAQEBAQEBAQEBAgEBAQIBAQEBAQECAQICAQIBAgICAQECAQIBAgECAgEBAgEBAQEBAQEBAQECAgEBAQEBAgMBAQEBAwICAQECAQECAQECAQIBAQECAgECAgECAQECAQEBAgECAQECAQICAQEBAgIBAQIBAQEBAQICAgEBAgECAgEBAQIBAQICAgEBAQICAQEBAQICAQIBAQICAQERAQEBAQECAQIBAgIBAQICAQEBAQEBAQICAgICAQIBAgEBAQEBAQEBAQEBAQIBAQEBAgIBAQECAQECAgIBAgIBAgICAQICAQECAQEBAQEBAQEBAwEBAQEDAQEBAQECAQECAgEBAQEBAQEBAgEBAQECAgECAgEBAQEBAgIBAgIBAQEBAQEBAQEBAQECAQECAQICAQIBAgECAQEBAgIBAQECAgICAgICAgEBAgICAgEBAQECAQICAQIBAgIBAQIBAQEBAQECAgEBAgEBAQEBAQEBAgEBAQEBAQECAgEBAQICAQEBAQIBAgEBAQEBAgEBAQECAQEBAgECAgEBAQEBAQEBAQEBAQECAgEBAgEBAQECAQIBAQIBAQICAQEBAQICAgECAQEBAgEBAQICAQECAQEBAQECAQEBAgIBAgEBAQEBAgIBAQICAQIBAQICAgIBAgEBAgEBAgEBAQEBAgEBAQEBAQEBAgICAgIBAQEBAQECAQIBAgEBAgEBAgIBAgEBAQEBAgEBAQEBAQEBAQEBAQEBAgIBAgIBAQEBAQEBAQICAQECAQIBAQEBAQECAgIBAQECAQECAQEBAQIBAQICAQEBAgEBAQEBAgEBAQIBAQEBAgIBAQEBAgECAgIBAwEBAgEBAQIBAQEBAQECAQEBAgICAQICAQEBAgIBAgICAQEBAQEBAgIBAQECAgIBAgECAQIBAQIBAQEBAQEBAQECAQEBAQECAQEBAQIBAgECAgEBAgEBAgEBAgICAQIBAgEBAQEBAgICAQIBAgEBAQICAgECAQICAQEBAQIBAQICAQIBAQEBAQECAQEBAQIBAgECAgEBAgECAgEBAQECAQIBAgIHAQIBAQECAgEBAQIBAQICAQIBAQEBAQECAgECAQEBAQECAgECAQEBAQEBAgIBAQEBAgEBAgEBAQIBAQEBAQECAQECAQEBAQQCAgECAQEBAQICAQEBAQEBAQEBAQECAQEBAQEBAgICAQECAQEBAgICAQEBAgEBAQECAgIBAQIBAQEBAQEBAQECAgECAgEBAQECAQECAgEBAQECAQEBAgICAQIBAQIBfgEBAQICAgECAQIBAgIBAgECAQIBAQEBAQEBAQIBAQECAQIBAQEBAgECAQECAQIBAgIBAQECAgICAgICAQIBAwIBAQIBAgEBAQEBAQICAQEDAQEBAgEBAQIBAgEBAQEBAQEBAgIBAQEBAQECAQEBAQEBAQEBAQEBAQIBAQICAQECAQICAQECAQECAQEBAQEBAgECAgECAQIBAQECAQIBAQIBAgECAgIBAQICAQECAgIBAQEBAgICAQEBAQIBAgIBAQEBAQECAgECAQECAQICAQEBAgICAgEBAQIBAwIBAQEBBAEBAQIBAgIBAgICAQIBAQECAgICAgECAQEBAgEBAQEBAQEBAQEBAQEBAQICAQIBAQECAQECAQIBAQICAgMBAQIBAQECAgEBAgECAQEBAgECAQIBAQEBAwECAgECAgICAQECAgICAQECAgEBAgECAQICAgIBAQEBAgEBAQECAQEBAQIBAgIBAQECAgIBAgECAQEBAQEBAQECAQIBAQEBAwEBAgIBAgIBAQIBAgECAgECAQECAQICAQECAgECAgEBAQEBAgIBAQEBAQEBAQEBAgEBAQECAQEBAQEBAgICAQECAQEBAQEBAQEBAgECAgIBAgIBAQEBAgIBAQIBAQICAQECAgIBAQICAQECAQIBAgICAQEBAgEBAgEBAQICAgECAgEBAQEBAgECAwIBAQEB",
          "dtype": "i1"
         },
         "yaxis": "y"
        },
        {
         "alignmentgroup": "True",
         "boxpoints": "all",
         "fillcolor": "rgba(255,255,255,0)",
         "hoveron": "points",
         "hovertemplate": "число заказов=%{y}<extra></extra>",
         "jitter": 0,
         "legendgroup": "",
         "line": {
          "color": "rgba(255,255,255,0)"
         },
         "marker": {
          "color": "#636efa",
          "symbol": "line-ew-open"
         },
         "name": "",
         "offsetgroup": "",
         "showlegend": false,
         "type": "box",
         "xaxis": "x2",
         "y": {
          "bdata": "AQEBAQEBAgECAQIBAgEBAQEFAQEBAgEBAQIBAQIBAQICAgECAQECAgEBAgECAgECAgIBAQEBAQICAQIBAQEBAQEBAQICAgIBAQIBAgECAgECAQICAQIBAgIBAQEBAQIBAgIBAgECAQEBAQIBAgEDAQEBAQIBAQEBAQEBAQEBAQEDAQECAQEBAgIBAQEBAQIBAgEBAQECAQIBAgECAQEBAQEBAQEBAQEBAQEBAgEBAQIBAgECAQECAQECAQEBAgECAgEBAQECAQEBAQEBAgICAgEBAQICAQICAgECAQEBAQEBAgEBAQEBAQEBAQIBAQEBAgEBAgECAQIBAQIBAgIBAQIBAQIBAQIBAgEBAQECAQEBAQICAQECAgIBAQEBAQICAQECAQEBAQIBAgECAQIBAgIBAQEBAQEBAQEBAQICAgIBAQIBAgEBAgEBAQEBAgIBAgIBAQEBAgEBAQICAgECAQICAgEBAQEBAgEBAgECAgECAgEBAgIBAQIBAQIBAgIBAQEBAgECAQIBAgICAQECAgEBAQEBAgICAQEBAQEBAQECAQEBAgICAgICAQEBAQICAQIBAQEBAgEBAQICAQEBAQEBAQEBAQECAQEBAQIBAgICAQICAQECAQICAgIBAQECAQIBAQEBAgEBAQECAQICAQIBAQECAQEBAgIBAQEBAQIBAQIBAQICAQIBAgEBAgECAgEBAgEBAQICAQICAQEBAgEBAgECAgICAQECAQEBAQICAQEBAQIBAQICAQEBAQIBAQEBAQIBAQICAQECAQIBAgEBAQIBAQEBAQEBAgEBAQIBAgEBAQEDAQEBAQIBAQECAgEBAQEBAQIBAQECAgECAQECAgICAQICAgEBAQIBAQEBAQIBAQECAgEBAgIBAQEBAgECAQEBAwEBAQICAQEBBAEBAQECAQEBAgEBAQIBAgICAQEBAQECAgECAgIBAQIBAgIBAQEBAQEBIwECAQEBAgECAQECAgIBAgEBAQIBAQIBAgECAQECAQIBAQIBAQEBAQEBAQEBAQICAgIBAQECAgECAgIDAQECAgIBAgEBAQECAQIBAgEBAQEBAQIBAQICAQEBAgEBAgEBAQIBAQECAgICAQIBAQICAgEBAQICAQEBAQEBAQEBAQEBAQEBAwEBAQIBAgICAgIBAQECAQECAQECAgICAgEBAQEBAgIBAQICAQICAQEBAgICAQEBAQMBAgEBAQECAgMBAgECAQEBAQEBAQEBAgEBAQIBAQEBAQECAQICAQIBAgICAQECAQIBAgECAgEBAgEBAQEBAQEBAQECAgEBAQEBAgMBAQEBAwICAQECAQECAQECAQIBAQECAgECAgECAQECAQEBAgECAQECAQICAQEBAgIBAQIBAQEBAQICAgEBAgECAgEBAQIBAQICAgEBAQICAQEBAQICAQIBAQICAQERAQEBAQECAQIBAgIBAQICAQEBAQEBAQICAgICAQIBAgEBAQEBAQEBAQEBAQIBAQEBAgIBAQECAQECAgIBAgIBAgICAQICAQECAQEBAQEBAQEBAwEBAQEDAQEBAQECAQECAgEBAQEBAQEBAgEBAQECAgECAgEBAQEBAgIBAgIBAQEBAQEBAQEBAQECAQECAQICAQIBAgECAQEBAgIBAQECAgICAgICAgEBAgICAgEBAQECAQICAQIBAgIBAQIBAQEBAQECAgEBAgEBAQEBAQEBAgEBAQEBAQECAgEBAQICAQEBAQIBAgEBAQEBAgEBAQECAQEBAgECAgEBAQEBAQEBAQEBAQECAgEBAgEBAQECAQIBAQIBAQICAQEBAQICAgECAQEBAgEBAQICAQECAQEBAQECAQEBAgIBAgEBAQEBAgIBAQICAQIBAQICAgIBAgEBAgEBAgEBAQEBAgEBAQEBAQEBAgICAgIBAQEBAQECAQIBAgEBAgEBAgIBAgEBAQEBAgEBAQEBAQEBAQEBAQEBAgIBAgIBAQEBAQEBAQICAQECAQIBAQEBAQECAgIBAQECAQECAQEBAQIBAQICAQEBAgEBAQEBAgEBAQIBAQEBAgIBAQEBAgECAgIBAwEBAgEBAQIBAQEBAQECAQEBAgICAQICAQEBAgIBAgICAQEBAQEBAgIBAQECAgIBAgECAQIBAQIBAQEBAQEBAQECAQEBAQECAQEBAQIBAgECAgEBAgEBAgEBAgICAQIBAgEBAQEBAgICAQIBAgEBAQICAgECAQICAQEBAQIBAQICAQIBAQEBAQECAQEBAQIBAgECAgEBAgECAgEBAQECAQIBAgIHAQIBAQECAgEBAQIBAQICAQIBAQEBAQECAgECAQEBAQECAgECAQEBAQEBAgIBAQEBAgEBAgEBAQIBAQEBAQECAQECAQEBAQQCAgECAQEBAQICAQEBAQEBAQEBAQECAQEBAQEBAgICAQECAQEBAgICAQEBAgEBAQECAgIBAQIBAQEBAQEBAQECAgECAgEBAQECAQECAgEBAQECAQEBAgICAQIBAQIBfgEBAQICAgECAQIBAgIBAgECAQIBAQEBAQEBAQIBAQECAQIBAQEBAgECAQECAQIBAgIBAQECAgICAgICAQIBAwIBAQIBAgEBAQEBAQICAQEDAQEBAgEBAQIBAgEBAQEBAQEBAgIBAQEBAQECAQEBAQEBAQEBAQEBAQIBAQICAQECAQICAQECAQECAQEBAQEBAgECAgECAQIBAQECAQIBAQIBAgECAgIBAQICAQECAgIBAQEBAgICAQEBAQIBAgIBAQEBAQECAgECAQECAQICAQEBAgICAgEBAQIBAwIBAQEBBAEBAQIBAgIBAgICAQIBAQECAgICAgECAQEBAgEBAQEBAQEBAQEBAQEBAQICAQIBAQECAQECAQIBAQICAgMBAQIBAQECAgEBAgECAQEBAgECAQIBAQEBAwECAgECAgICAQECAgICAQECAgEBAgECAQICAgIBAQEBAgEBAQECAQEBAQIBAgIBAQECAgIBAgECAQEBAQEBAQECAQIBAQEBAwEBAgIBAgIBAQIBAgECAgECAQECAQICAQECAgECAgEBAQEBAgIBAQEBAQEBAQEBAgEBAQECAQEBAQEBAgICAQECAQEBAQEBAQEBAgECAgIBAgIBAQEBAgIBAQIBAQICAQECAgIBAQICAQECAQIBAgICAQEBAgEBAgEBAQICAgECAgEBAQEBAgECAwIBAQEB",
          "dtype": "i1"
         },
         "yaxis": "y2"
        }
       ],
       "layout": {
        "legend": {
         "tracegroupgap": 0
        },
        "template": {
         "data": {
          "bar": [
           {
            "error_x": {
             "color": "#2a3f5f"
            },
            "error_y": {
             "color": "#2a3f5f"
            },
            "marker": {
             "line": {
              "color": "#E5ECF6",
              "width": 0.5
             },
             "pattern": {
              "fillmode": "overlay",
              "size": 10,
              "solidity": 0.2
             }
            },
            "type": "bar"
           }
          ],
          "barpolar": [
           {
            "marker": {
             "line": {
              "color": "#E5ECF6",
              "width": 0.5
             },
             "pattern": {
              "fillmode": "overlay",
              "size": 10,
              "solidity": 0.2
             }
            },
            "type": "barpolar"
           }
          ],
          "carpet": [
           {
            "aaxis": {
             "endlinecolor": "#2a3f5f",
             "gridcolor": "white",
             "linecolor": "white",
             "minorgridcolor": "white",
             "startlinecolor": "#2a3f5f"
            },
            "baxis": {
             "endlinecolor": "#2a3f5f",
             "gridcolor": "white",
             "linecolor": "white",
             "minorgridcolor": "white",
             "startlinecolor": "#2a3f5f"
            },
            "type": "carpet"
           }
          ],
          "choropleth": [
           {
            "colorbar": {
             "outlinewidth": 0,
             "ticks": ""
            },
            "type": "choropleth"
           }
          ],
          "contour": [
           {
            "colorbar": {
             "outlinewidth": 0,
             "ticks": ""
            },
            "colorscale": [
             [
              0,
              "#0d0887"
             ],
             [
              0.1111111111111111,
              "#46039f"
             ],
             [
              0.2222222222222222,
              "#7201a8"
             ],
             [
              0.3333333333333333,
              "#9c179e"
             ],
             [
              0.4444444444444444,
              "#bd3786"
             ],
             [
              0.5555555555555556,
              "#d8576b"
             ],
             [
              0.6666666666666666,
              "#ed7953"
             ],
             [
              0.7777777777777778,
              "#fb9f3a"
             ],
             [
              0.8888888888888888,
              "#fdca26"
             ],
             [
              1,
              "#f0f921"
             ]
            ],
            "type": "contour"
           }
          ],
          "contourcarpet": [
           {
            "colorbar": {
             "outlinewidth": 0,
             "ticks": ""
            },
            "type": "contourcarpet"
           }
          ],
          "heatmap": [
           {
            "colorbar": {
             "outlinewidth": 0,
             "ticks": ""
            },
            "colorscale": [
             [
              0,
              "#0d0887"
             ],
             [
              0.1111111111111111,
              "#46039f"
             ],
             [
              0.2222222222222222,
              "#7201a8"
             ],
             [
              0.3333333333333333,
              "#9c179e"
             ],
             [
              0.4444444444444444,
              "#bd3786"
             ],
             [
              0.5555555555555556,
              "#d8576b"
             ],
             [
              0.6666666666666666,
              "#ed7953"
             ],
             [
              0.7777777777777778,
              "#fb9f3a"
             ],
             [
              0.8888888888888888,
              "#fdca26"
             ],
             [
              1,
              "#f0f921"
             ]
            ],
            "type": "heatmap"
           }
          ],
          "histogram": [
           {
            "marker": {
             "pattern": {
              "fillmode": "overlay",
              "size": 10,
              "solidity": 0.2
             }
            },
            "type": "histogram"
           }
          ],
          "histogram2d": [
           {
            "colorbar": {
             "outlinewidth": 0,
             "ticks": ""
            },
            "colorscale": [
             [
              0,
              "#0d0887"
             ],
             [
              0.1111111111111111,
              "#46039f"
             ],
             [
              0.2222222222222222,
              "#7201a8"
             ],
             [
              0.3333333333333333,
              "#9c179e"
             ],
             [
              0.4444444444444444,
              "#bd3786"
             ],
             [
              0.5555555555555556,
              "#d8576b"
             ],
             [
              0.6666666666666666,
              "#ed7953"
             ],
             [
              0.7777777777777778,
              "#fb9f3a"
             ],
             [
              0.8888888888888888,
              "#fdca26"
             ],
             [
              1,
              "#f0f921"
             ]
            ],
            "type": "histogram2d"
           }
          ],
          "histogram2dcontour": [
           {
            "colorbar": {
             "outlinewidth": 0,
             "ticks": ""
            },
            "colorscale": [
             [
              0,
              "#0d0887"
             ],
             [
              0.1111111111111111,
              "#46039f"
             ],
             [
              0.2222222222222222,
              "#7201a8"
             ],
             [
              0.3333333333333333,
              "#9c179e"
             ],
             [
              0.4444444444444444,
              "#bd3786"
             ],
             [
              0.5555555555555556,
              "#d8576b"
             ],
             [
              0.6666666666666666,
              "#ed7953"
             ],
             [
              0.7777777777777778,
              "#fb9f3a"
             ],
             [
              0.8888888888888888,
              "#fdca26"
             ],
             [
              1,
              "#f0f921"
             ]
            ],
            "type": "histogram2dcontour"
           }
          ],
          "mesh3d": [
           {
            "colorbar": {
             "outlinewidth": 0,
             "ticks": ""
            },
            "type": "mesh3d"
           }
          ],
          "parcoords": [
           {
            "line": {
             "colorbar": {
              "outlinewidth": 0,
              "ticks": ""
             }
            },
            "type": "parcoords"
           }
          ],
          "pie": [
           {
            "automargin": true,
            "type": "pie"
           }
          ],
          "scatter": [
           {
            "fillpattern": {
             "fillmode": "overlay",
             "size": 10,
             "solidity": 0.2
            },
            "type": "scatter"
           }
          ],
          "scatter3d": [
           {
            "line": {
             "colorbar": {
              "outlinewidth": 0,
              "ticks": ""
             }
            },
            "marker": {
             "colorbar": {
              "outlinewidth": 0,
              "ticks": ""
             }
            },
            "type": "scatter3d"
           }
          ],
          "scattercarpet": [
           {
            "marker": {
             "colorbar": {
              "outlinewidth": 0,
              "ticks": ""
             }
            },
            "type": "scattercarpet"
           }
          ],
          "scattergeo": [
           {
            "marker": {
             "colorbar": {
              "outlinewidth": 0,
              "ticks": ""
             }
            },
            "type": "scattergeo"
           }
          ],
          "scattergl": [
           {
            "marker": {
             "colorbar": {
              "outlinewidth": 0,
              "ticks": ""
             }
            },
            "type": "scattergl"
           }
          ],
          "scattermap": [
           {
            "marker": {
             "colorbar": {
              "outlinewidth": 0,
              "ticks": ""
             }
            },
            "type": "scattermap"
           }
          ],
          "scattermapbox": [
           {
            "marker": {
             "colorbar": {
              "outlinewidth": 0,
              "ticks": ""
             }
            },
            "type": "scattermapbox"
           }
          ],
          "scatterpolar": [
           {
            "marker": {
             "colorbar": {
              "outlinewidth": 0,
              "ticks": ""
             }
            },
            "type": "scatterpolar"
           }
          ],
          "scatterpolargl": [
           {
            "marker": {
             "colorbar": {
              "outlinewidth": 0,
              "ticks": ""
             }
            },
            "type": "scatterpolargl"
           }
          ],
          "scatterternary": [
           {
            "marker": {
             "colorbar": {
              "outlinewidth": 0,
              "ticks": ""
             }
            },
            "type": "scatterternary"
           }
          ],
          "surface": [
           {
            "colorbar": {
             "outlinewidth": 0,
             "ticks": ""
            },
            "colorscale": [
             [
              0,
              "#0d0887"
             ],
             [
              0.1111111111111111,
              "#46039f"
             ],
             [
              0.2222222222222222,
              "#7201a8"
             ],
             [
              0.3333333333333333,
              "#9c179e"
             ],
             [
              0.4444444444444444,
              "#bd3786"
             ],
             [
              0.5555555555555556,
              "#d8576b"
             ],
             [
              0.6666666666666666,
              "#ed7953"
             ],
             [
              0.7777777777777778,
              "#fb9f3a"
             ],
             [
              0.8888888888888888,
              "#fdca26"
             ],
             [
              1,
              "#f0f921"
             ]
            ],
            "type": "surface"
           }
          ],
          "table": [
           {
            "cells": {
             "fill": {
              "color": "#EBF0F8"
             },
             "line": {
              "color": "white"
             }
            },
            "header": {
             "fill": {
              "color": "#C8D4E3"
             },
             "line": {
              "color": "white"
             }
            },
            "type": "table"
           }
          ]
         },
         "layout": {
          "annotationdefaults": {
           "arrowcolor": "#2a3f5f",
           "arrowhead": 0,
           "arrowwidth": 1
          },
          "autotypenumbers": "strict",
          "coloraxis": {
           "colorbar": {
            "outlinewidth": 0,
            "ticks": ""
           }
          },
          "colorscale": {
           "diverging": [
            [
             0,
             "#8e0152"
            ],
            [
             0.1,
             "#c51b7d"
            ],
            [
             0.2,
             "#de77ae"
            ],
            [
             0.3,
             "#f1b6da"
            ],
            [
             0.4,
             "#fde0ef"
            ],
            [
             0.5,
             "#f7f7f7"
            ],
            [
             0.6,
             "#e6f5d0"
            ],
            [
             0.7,
             "#b8e186"
            ],
            [
             0.8,
             "#7fbc41"
            ],
            [
             0.9,
             "#4d9221"
            ],
            [
             1,
             "#276419"
            ]
           ],
           "sequential": [
            [
             0,
             "#0d0887"
            ],
            [
             0.1111111111111111,
             "#46039f"
            ],
            [
             0.2222222222222222,
             "#7201a8"
            ],
            [
             0.3333333333333333,
             "#9c179e"
            ],
            [
             0.4444444444444444,
             "#bd3786"
            ],
            [
             0.5555555555555556,
             "#d8576b"
            ],
            [
             0.6666666666666666,
             "#ed7953"
            ],
            [
             0.7777777777777778,
             "#fb9f3a"
            ],
            [
             0.8888888888888888,
             "#fdca26"
            ],
            [
             1,
             "#f0f921"
            ]
           ],
           "sequentialminus": [
            [
             0,
             "#0d0887"
            ],
            [
             0.1111111111111111,
             "#46039f"
            ],
            [
             0.2222222222222222,
             "#7201a8"
            ],
            [
             0.3333333333333333,
             "#9c179e"
            ],
            [
             0.4444444444444444,
             "#bd3786"
            ],
            [
             0.5555555555555556,
             "#d8576b"
            ],
            [
             0.6666666666666666,
             "#ed7953"
            ],
            [
             0.7777777777777778,
             "#fb9f3a"
            ],
            [
             0.8888888888888888,
             "#fdca26"
            ],
            [
             1,
             "#f0f921"
            ]
           ]
          },
          "colorway": [
           "#636efa",
           "#EF553B",
           "#00cc96",
           "#ab63fa",
           "#FFA15A",
           "#19d3f3",
           "#FF6692",
           "#B6E880",
           "#FF97FF",
           "#FECB52"
          ],
          "font": {
           "color": "#2a3f5f"
          },
          "geo": {
           "bgcolor": "white",
           "lakecolor": "white",
           "landcolor": "#E5ECF6",
           "showlakes": true,
           "showland": true,
           "subunitcolor": "white"
          },
          "hoverlabel": {
           "align": "left"
          },
          "hovermode": "closest",
          "mapbox": {
           "style": "light"
          },
          "paper_bgcolor": "white",
          "plot_bgcolor": "#E5ECF6",
          "polar": {
           "angularaxis": {
            "gridcolor": "white",
            "linecolor": "white",
            "ticks": ""
           },
           "bgcolor": "#E5ECF6",
           "radialaxis": {
            "gridcolor": "white",
            "linecolor": "white",
            "ticks": ""
           }
          },
          "scene": {
           "xaxis": {
            "backgroundcolor": "#E5ECF6",
            "gridcolor": "white",
            "gridwidth": 2,
            "linecolor": "white",
            "showbackground": true,
            "ticks": "",
            "zerolinecolor": "white"
           },
           "yaxis": {
            "backgroundcolor": "#E5ECF6",
            "gridcolor": "white",
            "gridwidth": 2,
            "linecolor": "white",
            "showbackground": true,
            "ticks": "",
            "zerolinecolor": "white"
           },
           "zaxis": {
            "backgroundcolor": "#E5ECF6",
            "gridcolor": "white",
            "gridwidth": 2,
            "linecolor": "white",
            "showbackground": true,
            "ticks": "",
            "zerolinecolor": "white"
           }
          },
          "shapedefaults": {
           "line": {
            "color": "#2a3f5f"
           }
          },
          "ternary": {
           "aaxis": {
            "gridcolor": "white",
            "linecolor": "white",
            "ticks": ""
           },
           "baxis": {
            "gridcolor": "white",
            "linecolor": "white",
            "ticks": ""
           },
           "bgcolor": "#E5ECF6",
           "caxis": {
            "gridcolor": "white",
            "linecolor": "white",
            "ticks": ""
           }
          },
          "title": {
           "x": 0.05
          },
          "xaxis": {
           "automargin": true,
           "gridcolor": "white",
           "linecolor": "white",
           "ticks": "",
           "title": {
            "standoff": 15
           },
           "zerolinecolor": "white",
           "zerolinewidth": 2
          },
          "yaxis": {
           "automargin": true,
           "gridcolor": "white",
           "linecolor": "white",
           "ticks": "",
           "title": {
            "standoff": 15
           },
           "zerolinecolor": "white",
           "zerolinewidth": 2
          }
         }
        },
        "title": {
         "text": "Количество заказов на пользователя"
        },
        "xaxis": {
         "anchor": "y",
         "domain": [
          0,
          0.8358
         ],
         "title": {
          "text": "пользователь"
         }
        },
        "xaxis2": {
         "anchor": "y2",
         "domain": [
          0.8408,
          1
         ],
         "matches": "x2",
         "showgrid": false,
         "showline": false,
         "showticklabels": false,
         "ticks": ""
        },
        "yaxis": {
         "anchor": "x",
         "domain": [
          0,
          1
         ],
         "title": {
          "text": "число заказов"
         }
        },
        "yaxis2": {
         "anchor": "x2",
         "domain": [
          0,
          1
         ],
         "matches": "y",
         "showgrid": true,
         "showticklabels": false
        }
       }
      },
      "text/html": [
       "<div>            <script src=\"https://cdnjs.cloudflare.com/ajax/libs/mathjax/2.7.5/MathJax.js?config=TeX-AMS-MML_SVG\"></script><script type=\"text/javascript\">if (window.MathJax && window.MathJax.Hub && window.MathJax.Hub.Config) {window.MathJax.Hub.Config({SVG: {font: \"STIX-Web\"}});}</script>                <script type=\"text/javascript\">window.PlotlyConfig = {MathJaxConfig: 'local'};</script>\n",
       "        <script charset=\"utf-8\" src=\"https://cdn.plot.ly/plotly-3.0.1.min.js\"></script>                <div id=\"41e38ea4-0a81-4f95-9c65-1c98c3cd8e15\" class=\"plotly-graph-div\" style=\"height:525px; width:100%;\"></div>            <script type=\"text/javascript\">                window.PLOTLYENV=window.PLOTLYENV || {};                                if (document.getElementById(\"41e38ea4-0a81-4f95-9c65-1c98c3cd8e15\")) {                    Plotly.newPlot(                        \"41e38ea4-0a81-4f95-9c65-1c98c3cd8e15\",                        [{\"hovertemplate\":\"\\u043f\\u043e\\u043b\\u044c\\u0437\\u043e\\u0432\\u0430\\u0442\\u0435\\u043b\\u044c=%{x}\\u003cbr\\u003e\\u0447\\u0438\\u0441\\u043b\\u043e \\u0437\\u0430\\u043a\\u0430\\u0437\\u043e\\u0432=%{y}\\u003cextra\\u003e\\u003c\\u002fextra\\u003e\",\"legendgroup\":\"\",\"marker\":{\"color\":\"#636efa\",\"symbol\":\"circle\"},\"mode\":\"markers\",\"name\":\"\",\"showlegend\":false,\"x\":{\"dtype\":\"i2\",\"bdata\":\"AAABAAIAAwAEAAUABgAHAAgACQAKAAsADAANAA4ADwAQABEAEgATABQAFQAWABcAGAAZABoAGwAcAB0AHgAfACAAIQAiACMAJAAlACYAJwAoACkAKgArACwALQAuAC8AMAAxADIAMwA0ADUANgA3ADgAOQA6ADsAPAA9AD4APwBAAEEAQgBDAEQARQBGAEcASABJAEoASwBMAE0ATgBPAFAAUQBSAFMAVABVAFYAVwBYAFkAWgBbAFwAXQBeAF8AYABhAGIAYwBkAGUAZgBnAGgAaQBqAGsAbABtAG4AbwBwAHEAcgBzAHQAdQB2AHcAeAB5AHoAewB8AH0AfgB\\u002fAIAAgQCCAIMAhACFAIYAhwCIAIkAigCLAIwAjQCOAI8AkACRAJIAkwCUAJUAlgCXAJgAmQCaAJsAnACdAJ4AnwCgAKEAogCjAKQApQCmAKcAqACpAKoAqwCsAK0ArgCvALAAsQCyALMAtAC1ALYAtwC4ALkAugC7ALwAvQC+AL8AwADBAMIAwwDEAMUAxgDHAMgAyQDKAMsAzADNAM4AzwDQANEA0gDTANQA1QDWANcA2ADZANoA2wDcAN0A3gDfAOAA4QDiAOMA5ADlAOYA5wDoAOkA6gDrAOwA7QDuAO8A8ADxAPIA8wD0APUA9gD3APgA+QD6APsA\\u002fAD9AP4A\\u002fwAAAQEBAgEDAQQBBQEGAQcBCAEJAQoBCwEMAQ0BDgEPARABEQESARMBFAEVARYBFwEYARkBGgEbARwBHQEeAR8BIAEhASIBIwEkASUBJgEnASgBKQEqASsBLAEtAS4BLwEwATEBMgEzATQBNQE2ATcBOAE5AToBOwE8AT0BPgE\\u002fAUABQQFCAUMBRAFFAUYBRwFIAUkBSgFLAUwBTQFOAU8BUAFRAVIBUwFUAVUBVgFXAVgBWQFaAVsBXAFdAV4BXwFgAWEBYgFjAWQBZQFmAWcBaAFpAWoBawFsAW0BbgFvAXABcQFyAXMBdAF1AXYBdwF4AXkBegF7AXwBfQF+AX8BgAGBAYIBgwGEAYUBhgGHAYgBiQGKAYsBjAGNAY4BjwGQAZEBkgGTAZQBlQGWAZcBmAGZAZoBmwGcAZ0BngGfAaABoQGiAaMBpAGlAaYBpwGoAakBqgGrAawBrQGuAa8BsAGxAbIBswG0AbUBtgG3AbgBuQG6AbsBvAG9Ab4BvwHAAcEBwgHDAcQBxQHGAccByAHJAcoBywHMAc0BzgHPAdAB0QHSAdMB1AHVAdYB1wHYAdkB2gHbAdwB3QHeAd8B4AHhAeIB4wHkAeUB5gHnAegB6QHqAesB7AHtAe4B7wHwAfEB8gHzAfQB9QH2AfcB+AH5AfoB+wH8Af0B\\u002fgH\\u002fAQACAQICAgMCBAIFAgYCBwIIAgkCCgILAgwCDQIOAg8CEAIRAhICEwIUAhUCFgIXAhgCGQIaAhsCHAIdAh4CHwIgAiECIgIjAiQCJQImAicCKAIpAioCKwIsAi0CLgIvAjACMQIyAjMCNAI1AjYCNwI4AjkCOgI7AjwCPQI+Aj8CQAJBAkICQwJEAkUCRgJHAkgCSQJKAksCTAJNAk4CTwJQAlECUgJTAlQCVQJWAlcCWAJZAloCWwJcAl0CXgJfAmACYQJiAmMCZAJlAmYCZwJoAmkCagJrAmwCbQJuAm8CcAJxAnICcwJ0AnUCdgJ3AngCeQJ6AnsCfAJ9An4CfwKAAoECggKDAoQChQKGAocCiAKJAooCiwKMAo0CjgKPApACkQKSApMClAKVApYClwKYApkCmgKbApwCnQKeAp8CoAKhAqICowKkAqUCpgKnAqgCqQKqAqsCrAKtAq4CrwKwArECsgKzArQCtQK2ArcCuAK5AroCuwK8Ar0CvgK\\u002fAsACwQLCAsMCxALFAsYCxwLIAskCygLLAswCzQLOAs8C0ALRAtIC0wLUAtUC1gLXAtgC2QLaAtsC3ALdAt4C3wLgAuEC4gLjAuQC5QLmAucC6ALpAuoC6wLsAu0C7gLvAvAC8QLyAvMC9AL1AvYC9wL4AvkC+gL7AvwC\\u002fQL+Av8CAAMBAwIDAwMEAwUDBgMHAwgDCQMKAwsDDAMNAw4DDwMQAxEDEgMTAxQDFQMWAxcDGAMZAxoDGwMcAx0DHgMfAyADIQMiAyMDJAMlAyYDJwMoAykDKgMrAywDLQMuAy8DMAMxAzIDMwM0AzUDNgM3AzgDOQM6AzsDPAM9Az4DPwNAA0EDQgNDA0QDRQNGA0cDSANJA0oDSwNMA00DTgNPA1ADUQNSA1MDVANVA1YDVwNYA1kDWgNbA1wDXQNeA18DYANhA2IDYwNkA2UDZgNnA2gDaQNqA2sDbANtA24DbwNwA3EDcgNzA3QDdQN2A3cDeAN5A3oDewN8A30DfgN\\u002fA4ADgQOCA4MDhAOFA4YDhwOIA4kDigOLA4wDjQOOA48DkAORA5IDkwOUA5UDlgOXA5gDmQOaA5sDnAOdA54DnwOgA6EDogOjA6QDpQOmA6cDqAOpA6oDqwOsA60DrgOvA7ADsQOyA7MDtAO1A7YDtwO4A7kDugO7A7wDvQO+A78DwAPBA8IDwwPEA8UDxgPHA8gDyQPKA8sDzAPNA84DzwPQA9ED0gPTA9QD1QPWA9cD2APZA9oD2wPcA90D3gPfA+AD4QPiA+MD5APlA+YD5wPoA+kD6gPrA+wD7QPuA+8D8APxA\\u002fID8wP0A\\u002fUD9gP3A\\u002fgD+QP6A\\u002fsD\\u002fAP9A\\u002f4D\\u002fwMABAEEAgQDBAQEBQQGBAcECAQJBAoECwQMBA0EDgQPBBAEEQQSBBMEFAQVBBYEFwQYBBkEGgQbBBwEHQQeBB8EIAQhBCIEIwQkBCUEJgQnBCgEKQQqBCsELAQtBC4ELwQwBDEEMgQzBDQENQQ2BDcEOAQ5BDoEOwQ8BD0EPgQ\\u002fBEAEQQRCBEMERARFBEYERwRIBEkESgRLBEwETQROBE8EUARRBFIEUwRUBFUEVgRXBFgEWQRaBFsEXARdBF4EXwRgBGEEYgRjBGQEZQRmBGcEaARpBGoEawRsBG0EbgRvBHAEcQRyBHMEdAR1BHYEdwR4BHkEegR7BHwEfQR+BH8EgASBBIIEgwSEBIUEhgSHBIgEiQSKBIsEjASNBI4EjwSQBJEEkgSTBJQElQSWBJcEmASZBJoEmwScBJ0EngSfBKAEoQSiBKMEpASlBKYEpwSoBKkEqgSrBKwErQSuBK8EsASxBLIEswS0BLUEtgS3BLgEuQS6BLsEvAS9BL4EvwTABMEEwgTDBMQExQTGBMcEyATJBMoEywTMBM0EzgTPBNAE0QTSBNME1ATVBNYE1wTYBNkE2gTbBNwE3QTeBN8E4AThBOIE4wTkBOUE5gTnBOgE6QTqBOsE7ATtBO4E7wTwBPEE8gTzBPQE9QT2BPcE+AT5BPoE+wT8BP0E\\u002fgT\\u002fBAAFAQUCBQMFBAUFBQYFBwUIBQkFCgULBQwFDQUOBQ8FEAURBRIFEwUUBRUFFgUXBRgFGQUaBRsFHAUdBR4FHwUgBSEFIgUjBSQFJQUmBScFKAUpBSoFKwUsBS0FLgUvBTAFMQUyBTMFNAU1BTYFNwU4BTkFOgU7BTwFPQU+BT8FQAVBBUIFQwVEBUUFRgVHBUgFSQVKBUsFTAVNBU4FTwVQBVEFUgVTBVQFVQVWBVcFWAVZBVoFWwVcBV0FXgVfBWAFYQViBWMFZAVlBWYFZwVoBWkFagVrBWwFbQVuBW8FcAVxBXIFcwV0BXUFdgV3BXgFeQV6BXsFfAV9BX4FfwWABYEFggWDBYQFhQWGBYcFiAWJBYoFiwWMBY0FjgWPBZAFkQWSBZMFlAWVBZYFlwWYBZkFmgWbBZwFnQWeBZ8FoAWhBaIFowWkBaUFpgWnBagFqQWqBasFrAWtBa4FrwWwBbEFsgWzBbQFtQW2BbcFuAW5BboFuwW8Bb0FvgW\\u002fBcAFwQXCBcMFxAXFBcYFxwXIBckFygXLBcwFzQXOBc8F0AXRBdIF0wXUBdUF1gXXBdgF2QXaBdsF3AXdBd4F3wXgBeEF4gXjBeQF5QXmBecF6AXpBeoF6wXsBe0F7gXvBfAF8QXyBfMF9AX1BfYF9wX4BfkF+gX7BfwF\\u002fQX+Bf8FAAYBBgIGAwYEBgUGBgYHBggGCQYKBgsGDAYNBg4GDwYQBhEGEgYTBhQGFQYWBhcGGAYZBhoGGwYcBh0GHgYfBiAGIQYiBiMGJAYlBiYGJwYoBikGKgYrBiwGLQYuBi8GMAYxBjIGMwY0BjUGNgY3BjgGOQY6BjsGPAY9Bj4GPwZABkEGQgZDBkQGRQZGBkcGSAZJBkoGSwZMBk0GTgZPBlAGUQZSBlMGVAZVBlYGVwZYBlkGWgZbBlwGXQZeBl8GYAZhBmIGYwZkBmUGZgZnBmgGaQZqBmsGbAZtBm4GbwZwBnEGcgZzBnQGdQZ2BncGeAZ5BnoGewZ8Bn0GfgZ\\u002fBoAGgQaCBoMGhAaFBoYGhwaIBokGigaLBowGjQaOBo8GkAaRBpIGkwaUBpUGlgaXBpgGmQaaBpsGnAadBp4GnwagBqEGogajBqQGpQamBqcGqAapBqoGqwasBq0GrgavBrAGsQayBrMGtAa1BrYGtwa4BrkGuga7BrwGvQa+Br8GwAbBBsIGwwbEBsUGxgbHBsgGyQbKBssGzAbNBs4GzwbQBtEG0gbTBtQG1QbWBtcG2AbZBtoG2wbcBt0G3gbfBuAG4QbiBuMG5AblBuYG5wboBukG6gbrBuwG7QbuBu8G8AbxBvIG8wb0BvUG9gb3BvgG+Qb6BvsG\\u002fAb9Bv4G\\u002fwYABwEHAgcDBwQHBQcGBwcHCAcJBwoHCwcMBw0HDgcPBxAHEQcSBxMHFAcVBxYHFwcYBxkHGgcbBxwHHQceBx8HIAchByIHIwckByUHJgcnBygHKQcqBysHLActBy4HLwcwBzEHMgczBzQHNQc2BzcHOAc5BzoHOwc8Bz0HPgc\\u002fB0AHQQdCB0MHRAdFB0YHRwdIB0kHSgdLB0wHTQdOB08HUAdRB1IHUwdUB1UHVgdXB1gHWQdaB1sHXAddB14HXwdgB2EHYgdjB2QHZQdmB2cHaAdpB2oHawdsB20HbgdvB3AHcQdyB3MHdAd1B3YHdwd4B3kHegd7B3wHfQd+B38HgAeBB4IHgweEB4UHhgeHB4gHiQeKB4sHjAeNB44HjweQB5EHkgeTB5QHlQeWB5cHmAeZB5oHmwecB50HngefB6AHoQeiB6MHpAelB6YHpweoB6kHqgerB6wHrQeuB68HsAexB7IHswe0B7UHtge3B7gHuQe6B7sHvAe9B74HvwfAB8EHwgfDB8QHxQfGB8cHyAfJB8oHywfMB80HzgfPB9AH0QfSB9MH1AfVB9YH1wfYB9kH2gfbB9wH3QfeB98H4AfhB+IH4wfkB+UH5gfnB+gH6QfqB+sH7AftB+4H7wfwB\\u002fEH8gfzB\\u002fQH9Qf2B\\u002fcH+Af5B\\u002foH+wf8B\\u002f0H\\u002fgf\\u002fBwAIAQgCCAMIBAgFCAYIBwgICAkICggLCAwIDQgOCA8IEAgRCBIIEwgUCBUIFggXCBgIGQgaCBsIHAgdCB4IHwggCCEIIggjCCQIJQgmCCcIKAgpCCoIKwgsCC0ILggvCDAIMQgyCDMINAg1CDYINwg4CDkIOgg7CDwIPQg+CD8IQAhBCEIIQwhECEUIRghHCEgISQhKCEsITAhNCE4ITwhQCFEIUghTCFQIVQhWCFcIWAhZCFoIWwhcCF0IXghfCGAIYQhiCGMIZAhlCGYIZwhoCGkIaghrCGwIbQhuCG8IcAhxCHIIcwh0CHUIdgh3CHgIeQh6CHsIfAh9CH4IfwiACIEIggiDCIQIhQiGCIcIiAiJCIoIiwiMCI0IjgiPCJAIkQiSCJMIlAiVCJYIlwiYCJkImgibCJwInQieCJ8IoAihCKIIowikCKUIpginCKgIqQiqCKsIrAitCK4IrwiwCLEIsgizCLQItQi2CLcIuAi5CLoIuwi8CL0Ivgi\\u002fCMAIwQjCCMMIxAjFCMYIxwjICMkIygjLCMwIzQjOCM8I0AjRCNII0wjUCNUI1gjXCNgI2QjaCNsI3AjdCN4I3wjgCOEI4gjjCOQI5QjmCOcI6AjpCOoI6wjsCO0I7gjvCPAI8QjyCPMI9Aj1CPYI9wj4CPkI+gj7CPwI\\u002fQj+CP8IAAkBCQIJAwkECQUJBgkHCQgJCQkKCQsJDAkNCQ4JDwkQCREJEgkTCRQJFQkWCRcJGAkZCRoJGwkcCR0JHgkfCSAJIQkiCSMJJAklCSYJJwkoCSkJKgkrCSwJLQkuCS8JMAkxCTIJMwk0CTUJNgk3CTgJOQk6CTsJPAk9CT4JPwlACUEJQglDCUQJRQlGCUcJSAlJCUoJSwlMCU0JTglPCVAJUQlSCVMJVAlVCVYJVwlYCVkJWglbCVwJXQleCV8JYAlhCWIJYwlkCWUJZglnCWgJaQlqCWsJ\"},\"xaxis\":\"x\",\"y\":{\"dtype\":\"i1\",\"bdata\":\"AQEBAQEBAgECAQIBAgEBAQEFAQEBAgEBAQIBAQIBAQICAgECAQECAgEBAgECAgECAgIBAQEBAQICAQIBAQEBAQEBAQICAgIBAQIBAgECAgECAQICAQIBAgIBAQEBAQIBAgIBAgECAQEBAQIBAgEDAQEBAQIBAQEBAQEBAQEBAQEDAQECAQEBAgIBAQEBAQIBAgEBAQECAQIBAgECAQEBAQEBAQEBAQEBAQEBAgEBAQIBAgECAQECAQECAQEBAgECAgEBAQECAQEBAQEBAgICAgEBAQICAQICAgECAQEBAQEBAgEBAQEBAQEBAQIBAQEBAgEBAgECAQIBAQIBAgIBAQIBAQIBAQIBAgEBAQECAQEBAQICAQECAgIBAQEBAQICAQECAQEBAQIBAgECAQIBAgIBAQEBAQEBAQEBAQICAgIBAQIBAgEBAgEBAQEBAgIBAgIBAQEBAgEBAQICAgECAQICAgEBAQEBAgEBAgECAgECAgEBAgIBAQIBAQIBAgIBAQEBAgECAQIBAgICAQECAgEBAQEBAgICAQEBAQEBAQECAQEBAgICAgICAQEBAQICAQIBAQEBAgEBAQICAQEBAQEBAQEBAQECAQEBAQIBAgICAQICAQECAQICAgIBAQECAQIBAQEBAgEBAQECAQICAQIBAQECAQEBAgIBAQEBAQIBAQIBAQICAQIBAgEBAgECAgEBAgEBAQICAQICAQEBAgEBAgECAgICAQECAQEBAQICAQEBAQIBAQICAQEBAQIBAQEBAQIBAQICAQECAQIBAgEBAQIBAQEBAQEBAgEBAQIBAgEBAQEDAQEBAQIBAQECAgEBAQEBAQIBAQECAgECAQECAgICAQICAgEBAQIBAQEBAQIBAQECAgEBAgIBAQEBAgECAQEBAwEBAQICAQEBBAEBAQECAQEBAgEBAQIBAgICAQEBAQECAgECAgIBAQIBAgIBAQEBAQEBIwECAQEBAgECAQECAgIBAgEBAQIBAQIBAgECAQECAQIBAQIBAQEBAQEBAQEBAQICAgIBAQECAgECAgIDAQECAgIBAgEBAQECAQIBAgEBAQEBAQIBAQICAQEBAgEBAgEBAQIBAQECAgICAQIBAQICAgEBAQICAQEBAQEBAQEBAQEBAQEBAwEBAQIBAgICAgIBAQECAQECAQECAgICAgEBAQEBAgIBAQICAQICAQEBAgICAQEBAQMBAgEBAQECAgMBAgECAQEBAQEBAQEBAgEBAQIBAQEBAQECAQICAQIBAgICAQECAQIBAgECAgEBAgEBAQEBAQEBAQECAgEBAQEBAgMBAQEBAwICAQECAQECAQECAQIBAQECAgECAgECAQECAQEBAgECAQECAQICAQEBAgIBAQIBAQEBAQICAgEBAgECAgEBAQIBAQICAgEBAQICAQEBAQICAQIBAQICAQERAQEBAQECAQIBAgIBAQICAQEBAQEBAQICAgICAQIBAgEBAQEBAQEBAQEBAQIBAQEBAgIBAQECAQECAgIBAgIBAgICAQICAQECAQEBAQEBAQEBAwEBAQEDAQEBAQECAQECAgEBAQEBAQEBAgEBAQECAgECAgEBAQEBAgIBAgIBAQEBAQEBAQEBAQECAQECAQICAQIBAgECAQEBAgIBAQECAgICAgICAgEBAgICAgEBAQECAQICAQIBAgIBAQIBAQEBAQECAgEBAgEBAQEBAQEBAgEBAQEBAQECAgEBAQICAQEBAQIBAgEBAQEBAgEBAQECAQEBAgECAgEBAQEBAQEBAQEBAQECAgEBAgEBAQECAQIBAQIBAQICAQEBAQICAgECAQEBAgEBAQICAQECAQEBAQECAQEBAgIBAgEBAQEBAgIBAQICAQIBAQICAgIBAgEBAgEBAgEBAQEBAgEBAQEBAQEBAgICAgIBAQEBAQECAQIBAgEBAgEBAgIBAgEBAQEBAgEBAQEBAQEBAQEBAQEBAgIBAgIBAQEBAQEBAQICAQECAQIBAQEBAQECAgIBAQECAQECAQEBAQIBAQICAQEBAgEBAQEBAgEBAQIBAQEBAgIBAQEBAgECAgIBAwEBAgEBAQIBAQEBAQECAQEBAgICAQICAQEBAgIBAgICAQEBAQEBAgIBAQECAgIBAgECAQIBAQIBAQEBAQEBAQECAQEBAQECAQEBAQIBAgECAgEBAgEBAgEBAgICAQIBAgEBAQEBAgICAQIBAgEBAQICAgECAQICAQEBAQIBAQICAQIBAQEBAQECAQEBAQIBAgECAgEBAgECAgEBAQECAQIBAgIHAQIBAQECAgEBAQIBAQICAQIBAQEBAQECAgECAQEBAQECAgECAQEBAQEBAgIBAQEBAgEBAgEBAQIBAQEBAQECAQECAQEBAQQCAgECAQEBAQICAQEBAQEBAQEBAQECAQEBAQEBAgICAQECAQEBAgICAQEBAgEBAQECAgIBAQIBAQEBAQEBAQECAgECAgEBAQECAQECAgEBAQECAQEBAgICAQIBAQIBfgEBAQICAgECAQIBAgIBAgECAQIBAQEBAQEBAQIBAQECAQIBAQEBAgECAQECAQIBAgIBAQECAgICAgICAQIBAwIBAQIBAgEBAQEBAQICAQEDAQEBAgEBAQIBAgEBAQEBAQEBAgIBAQEBAQECAQEBAQEBAQEBAQEBAQIBAQICAQECAQICAQECAQECAQEBAQEBAgECAgECAQIBAQECAQIBAQIBAgECAgIBAQICAQECAgIBAQEBAgICAQEBAQIBAgIBAQEBAQECAgECAQECAQICAQEBAgICAgEBAQIBAwIBAQEBBAEBAQIBAgIBAgICAQIBAQECAgICAgECAQEBAgEBAQEBAQEBAQEBAQEBAQICAQIBAQECAQECAQIBAQICAgMBAQIBAQECAgEBAgECAQEBAgECAQIBAQEBAwECAgECAgICAQECAgICAQECAgEBAgECAQICAgIBAQEBAgEBAQECAQEBAQIBAgIBAQECAgIBAgECAQEBAQEBAQECAQIBAQEBAwEBAgIBAgIBAQIBAgECAgECAQECAQICAQECAgECAgEBAQEBAgIBAQEBAQEBAQEBAgEBAQECAQEBAQEBAgICAQECAQEBAQEBAQEBAgECAgIBAgIBAQEBAgIBAQIBAQICAQECAgIBAQICAQECAQIBAgICAQEBAgEBAgEBAQICAgECAgEBAQEBAgECAwIBAQEB\"},\"yaxis\":\"y\",\"type\":\"scattergl\"},{\"alignmentgroup\":\"True\",\"boxpoints\":\"all\",\"fillcolor\":\"rgba(255,255,255,0)\",\"hoveron\":\"points\",\"hovertemplate\":\"\\u0447\\u0438\\u0441\\u043b\\u043e \\u0437\\u0430\\u043a\\u0430\\u0437\\u043e\\u0432=%{y}\\u003cextra\\u003e\\u003c\\u002fextra\\u003e\",\"jitter\":0,\"legendgroup\":\"\",\"line\":{\"color\":\"rgba(255,255,255,0)\"},\"marker\":{\"color\":\"#636efa\",\"symbol\":\"line-ew-open\"},\"name\":\"\",\"offsetgroup\":\"\",\"showlegend\":false,\"xaxis\":\"x2\",\"y\":{\"dtype\":\"i1\",\"bdata\":\"AQEBAQEBAgECAQIBAgEBAQEFAQEBAgEBAQIBAQIBAQICAgECAQECAgEBAgECAgECAgIBAQEBAQICAQIBAQEBAQEBAQICAgIBAQIBAgECAgECAQICAQIBAgIBAQEBAQIBAgIBAgECAQEBAQIBAgEDAQEBAQIBAQEBAQEBAQEBAQEDAQECAQEBAgIBAQEBAQIBAgEBAQECAQIBAgECAQEBAQEBAQEBAQEBAQEBAgEBAQIBAgECAQECAQECAQEBAgECAgEBAQECAQEBAQEBAgICAgEBAQICAQICAgECAQEBAQEBAgEBAQEBAQEBAQIBAQEBAgEBAgECAQIBAQIBAgIBAQIBAQIBAQIBAgEBAQECAQEBAQICAQECAgIBAQEBAQICAQECAQEBAQIBAgECAQIBAgIBAQEBAQEBAQEBAQICAgIBAQIBAgEBAgEBAQEBAgIBAgIBAQEBAgEBAQICAgECAQICAgEBAQEBAgEBAgECAgECAgEBAgIBAQIBAQIBAgIBAQEBAgECAQIBAgICAQECAgEBAQEBAgICAQEBAQEBAQECAQEBAgICAgICAQEBAQICAQIBAQEBAgEBAQICAQEBAQEBAQEBAQECAQEBAQIBAgICAQICAQECAQICAgIBAQECAQIBAQEBAgEBAQECAQICAQIBAQECAQEBAgIBAQEBAQIBAQIBAQICAQIBAgEBAgECAgEBAgEBAQICAQICAQEBAgEBAgECAgICAQECAQEBAQICAQEBAQIBAQICAQEBAQIBAQEBAQIBAQICAQECAQIBAgEBAQIBAQEBAQEBAgEBAQIBAgEBAQEDAQEBAQIBAQECAgEBAQEBAQIBAQECAgECAQECAgICAQICAgEBAQIBAQEBAQIBAQECAgEBAgIBAQEBAgECAQEBAwEBAQICAQEBBAEBAQECAQEBAgEBAQIBAgICAQEBAQECAgECAgIBAQIBAgIBAQEBAQEBIwECAQEBAgECAQECAgIBAgEBAQIBAQIBAgECAQECAQIBAQIBAQEBAQEBAQEBAQICAgIBAQECAgECAgIDAQECAgIBAgEBAQECAQIBAgEBAQEBAQIBAQICAQEBAgEBAgEBAQIBAQECAgICAQIBAQICAgEBAQICAQEBAQEBAQEBAQEBAQEBAwEBAQIBAgICAgIBAQECAQECAQECAgICAgEBAQEBAgIBAQICAQICAQEBAgICAQEBAQMBAgEBAQECAgMBAgECAQEBAQEBAQEBAgEBAQIBAQEBAQECAQICAQIBAgICAQECAQIBAgECAgEBAgEBAQEBAQEBAQECAgEBAQEBAgMBAQEBAwICAQECAQECAQECAQIBAQECAgECAgECAQECAQEBAgECAQECAQICAQEBAgIBAQIBAQEBAQICAgEBAgECAgEBAQIBAQICAgEBAQICAQEBAQICAQIBAQICAQERAQEBAQECAQIBAgIBAQICAQEBAQEBAQICAgICAQIBAgEBAQEBAQEBAQEBAQIBAQEBAgIBAQECAQECAgIBAgIBAgICAQICAQECAQEBAQEBAQEBAwEBAQEDAQEBAQECAQECAgEBAQEBAQEBAgEBAQECAgECAgEBAQEBAgIBAgIBAQEBAQEBAQEBAQECAQECAQICAQIBAgECAQEBAgIBAQECAgICAgICAgEBAgICAgEBAQECAQICAQIBAgIBAQIBAQEBAQECAgEBAgEBAQEBAQEBAgEBAQEBAQECAgEBAQICAQEBAQIBAgEBAQEBAgEBAQECAQEBAgECAgEBAQEBAQEBAQEBAQECAgEBAgEBAQECAQIBAQIBAQICAQEBAQICAgECAQEBAgEBAQICAQECAQEBAQECAQEBAgIBAgEBAQEBAgIBAQICAQIBAQICAgIBAgEBAgEBAgEBAQEBAgEBAQEBAQEBAgICAgIBAQEBAQECAQIBAgEBAgEBAgIBAgEBAQEBAgEBAQEBAQEBAQEBAQEBAgIBAgIBAQEBAQEBAQICAQECAQIBAQEBAQECAgIBAQECAQECAQEBAQIBAQICAQEBAgEBAQEBAgEBAQIBAQEBAgIBAQEBAgECAgIBAwEBAgEBAQIBAQEBAQECAQEBAgICAQICAQEBAgIBAgICAQEBAQEBAgIBAQECAgIBAgECAQIBAQIBAQEBAQEBAQECAQEBAQECAQEBAQIBAgECAgEBAgEBAgEBAgICAQIBAgEBAQEBAgICAQIBAgEBAQICAgECAQICAQEBAQIBAQICAQIBAQEBAQECAQEBAQIBAgECAgEBAgECAgEBAQECAQIBAgIHAQIBAQECAgEBAQIBAQICAQIBAQEBAQECAgECAQEBAQECAgECAQEBAQEBAgIBAQEBAgEBAgEBAQIBAQEBAQECAQECAQEBAQQCAgECAQEBAQICAQEBAQEBAQEBAQECAQEBAQEBAgICAQECAQEBAgICAQEBAgEBAQECAgIBAQIBAQEBAQEBAQECAgECAgEBAQECAQECAgEBAQECAQEBAgICAQIBAQIBfgEBAQICAgECAQIBAgIBAgECAQIBAQEBAQEBAQIBAQECAQIBAQEBAgECAQECAQIBAgIBAQECAgICAgICAQIBAwIBAQIBAgEBAQEBAQICAQEDAQEBAgEBAQIBAgEBAQEBAQEBAgIBAQEBAQECAQEBAQEBAQEBAQEBAQIBAQICAQECAQICAQECAQECAQEBAQEBAgECAgECAQIBAQECAQIBAQIBAgECAgIBAQICAQECAgIBAQEBAgICAQEBAQIBAgIBAQEBAQECAgECAQECAQICAQEBAgICAgEBAQIBAwIBAQEBBAEBAQIBAgIBAgICAQIBAQECAgICAgECAQEBAgEBAQEBAQEBAQEBAQEBAQICAQIBAQECAQECAQIBAQICAgMBAQIBAQECAgEBAgECAQEBAgECAQIBAQEBAwECAgECAgICAQECAgICAQECAgEBAgECAQICAgIBAQEBAgEBAQECAQEBAQIBAgIBAQECAgIBAgECAQEBAQEBAQECAQIBAQEBAwEBAgIBAgIBAQIBAgECAgECAQECAQICAQECAgECAgEBAQEBAgIBAQEBAQEBAQEBAgEBAQECAQEBAQEBAgICAQECAQEBAQEBAQEBAgECAgIBAgIBAQEBAgIBAQIBAQICAQECAgIBAQICAQECAQIBAgICAQEBAgEBAgEBAQICAgECAgEBAQEBAgECAwIBAQEB\"},\"yaxis\":\"y2\",\"type\":\"box\"}],                        {\"legend\":{\"tracegroupgap\":0},\"template\":{\"data\":{\"barpolar\":[{\"marker\":{\"line\":{\"color\":\"#E5ECF6\",\"width\":0.5},\"pattern\":{\"fillmode\":\"overlay\",\"size\":10,\"solidity\":0.2}},\"type\":\"barpolar\"}],\"bar\":[{\"error_x\":{\"color\":\"#2a3f5f\"},\"error_y\":{\"color\":\"#2a3f5f\"},\"marker\":{\"line\":{\"color\":\"#E5ECF6\",\"width\":0.5},\"pattern\":{\"fillmode\":\"overlay\",\"size\":10,\"solidity\":0.2}},\"type\":\"bar\"}],\"carpet\":[{\"aaxis\":{\"endlinecolor\":\"#2a3f5f\",\"gridcolor\":\"white\",\"linecolor\":\"white\",\"minorgridcolor\":\"white\",\"startlinecolor\":\"#2a3f5f\"},\"baxis\":{\"endlinecolor\":\"#2a3f5f\",\"gridcolor\":\"white\",\"linecolor\":\"white\",\"minorgridcolor\":\"white\",\"startlinecolor\":\"#2a3f5f\"},\"type\":\"carpet\"}],\"choropleth\":[{\"colorbar\":{\"outlinewidth\":0,\"ticks\":\"\"},\"type\":\"choropleth\"}],\"contourcarpet\":[{\"colorbar\":{\"outlinewidth\":0,\"ticks\":\"\"},\"type\":\"contourcarpet\"}],\"contour\":[{\"colorbar\":{\"outlinewidth\":0,\"ticks\":\"\"},\"colorscale\":[[0.0,\"#0d0887\"],[0.1111111111111111,\"#46039f\"],[0.2222222222222222,\"#7201a8\"],[0.3333333333333333,\"#9c179e\"],[0.4444444444444444,\"#bd3786\"],[0.5555555555555556,\"#d8576b\"],[0.6666666666666666,\"#ed7953\"],[0.7777777777777778,\"#fb9f3a\"],[0.8888888888888888,\"#fdca26\"],[1.0,\"#f0f921\"]],\"type\":\"contour\"}],\"heatmap\":[{\"colorbar\":{\"outlinewidth\":0,\"ticks\":\"\"},\"colorscale\":[[0.0,\"#0d0887\"],[0.1111111111111111,\"#46039f\"],[0.2222222222222222,\"#7201a8\"],[0.3333333333333333,\"#9c179e\"],[0.4444444444444444,\"#bd3786\"],[0.5555555555555556,\"#d8576b\"],[0.6666666666666666,\"#ed7953\"],[0.7777777777777778,\"#fb9f3a\"],[0.8888888888888888,\"#fdca26\"],[1.0,\"#f0f921\"]],\"type\":\"heatmap\"}],\"histogram2dcontour\":[{\"colorbar\":{\"outlinewidth\":0,\"ticks\":\"\"},\"colorscale\":[[0.0,\"#0d0887\"],[0.1111111111111111,\"#46039f\"],[0.2222222222222222,\"#7201a8\"],[0.3333333333333333,\"#9c179e\"],[0.4444444444444444,\"#bd3786\"],[0.5555555555555556,\"#d8576b\"],[0.6666666666666666,\"#ed7953\"],[0.7777777777777778,\"#fb9f3a\"],[0.8888888888888888,\"#fdca26\"],[1.0,\"#f0f921\"]],\"type\":\"histogram2dcontour\"}],\"histogram2d\":[{\"colorbar\":{\"outlinewidth\":0,\"ticks\":\"\"},\"colorscale\":[[0.0,\"#0d0887\"],[0.1111111111111111,\"#46039f\"],[0.2222222222222222,\"#7201a8\"],[0.3333333333333333,\"#9c179e\"],[0.4444444444444444,\"#bd3786\"],[0.5555555555555556,\"#d8576b\"],[0.6666666666666666,\"#ed7953\"],[0.7777777777777778,\"#fb9f3a\"],[0.8888888888888888,\"#fdca26\"],[1.0,\"#f0f921\"]],\"type\":\"histogram2d\"}],\"histogram\":[{\"marker\":{\"pattern\":{\"fillmode\":\"overlay\",\"size\":10,\"solidity\":0.2}},\"type\":\"histogram\"}],\"mesh3d\":[{\"colorbar\":{\"outlinewidth\":0,\"ticks\":\"\"},\"type\":\"mesh3d\"}],\"parcoords\":[{\"line\":{\"colorbar\":{\"outlinewidth\":0,\"ticks\":\"\"}},\"type\":\"parcoords\"}],\"pie\":[{\"automargin\":true,\"type\":\"pie\"}],\"scatter3d\":[{\"line\":{\"colorbar\":{\"outlinewidth\":0,\"ticks\":\"\"}},\"marker\":{\"colorbar\":{\"outlinewidth\":0,\"ticks\":\"\"}},\"type\":\"scatter3d\"}],\"scattercarpet\":[{\"marker\":{\"colorbar\":{\"outlinewidth\":0,\"ticks\":\"\"}},\"type\":\"scattercarpet\"}],\"scattergeo\":[{\"marker\":{\"colorbar\":{\"outlinewidth\":0,\"ticks\":\"\"}},\"type\":\"scattergeo\"}],\"scattergl\":[{\"marker\":{\"colorbar\":{\"outlinewidth\":0,\"ticks\":\"\"}},\"type\":\"scattergl\"}],\"scattermapbox\":[{\"marker\":{\"colorbar\":{\"outlinewidth\":0,\"ticks\":\"\"}},\"type\":\"scattermapbox\"}],\"scattermap\":[{\"marker\":{\"colorbar\":{\"outlinewidth\":0,\"ticks\":\"\"}},\"type\":\"scattermap\"}],\"scatterpolargl\":[{\"marker\":{\"colorbar\":{\"outlinewidth\":0,\"ticks\":\"\"}},\"type\":\"scatterpolargl\"}],\"scatterpolar\":[{\"marker\":{\"colorbar\":{\"outlinewidth\":0,\"ticks\":\"\"}},\"type\":\"scatterpolar\"}],\"scatter\":[{\"fillpattern\":{\"fillmode\":\"overlay\",\"size\":10,\"solidity\":0.2},\"type\":\"scatter\"}],\"scatterternary\":[{\"marker\":{\"colorbar\":{\"outlinewidth\":0,\"ticks\":\"\"}},\"type\":\"scatterternary\"}],\"surface\":[{\"colorbar\":{\"outlinewidth\":0,\"ticks\":\"\"},\"colorscale\":[[0.0,\"#0d0887\"],[0.1111111111111111,\"#46039f\"],[0.2222222222222222,\"#7201a8\"],[0.3333333333333333,\"#9c179e\"],[0.4444444444444444,\"#bd3786\"],[0.5555555555555556,\"#d8576b\"],[0.6666666666666666,\"#ed7953\"],[0.7777777777777778,\"#fb9f3a\"],[0.8888888888888888,\"#fdca26\"],[1.0,\"#f0f921\"]],\"type\":\"surface\"}],\"table\":[{\"cells\":{\"fill\":{\"color\":\"#EBF0F8\"},\"line\":{\"color\":\"white\"}},\"header\":{\"fill\":{\"color\":\"#C8D4E3\"},\"line\":{\"color\":\"white\"}},\"type\":\"table\"}]},\"layout\":{\"annotationdefaults\":{\"arrowcolor\":\"#2a3f5f\",\"arrowhead\":0,\"arrowwidth\":1},\"autotypenumbers\":\"strict\",\"coloraxis\":{\"colorbar\":{\"outlinewidth\":0,\"ticks\":\"\"}},\"colorscale\":{\"diverging\":[[0,\"#8e0152\"],[0.1,\"#c51b7d\"],[0.2,\"#de77ae\"],[0.3,\"#f1b6da\"],[0.4,\"#fde0ef\"],[0.5,\"#f7f7f7\"],[0.6,\"#e6f5d0\"],[0.7,\"#b8e186\"],[0.8,\"#7fbc41\"],[0.9,\"#4d9221\"],[1,\"#276419\"]],\"sequential\":[[0.0,\"#0d0887\"],[0.1111111111111111,\"#46039f\"],[0.2222222222222222,\"#7201a8\"],[0.3333333333333333,\"#9c179e\"],[0.4444444444444444,\"#bd3786\"],[0.5555555555555556,\"#d8576b\"],[0.6666666666666666,\"#ed7953\"],[0.7777777777777778,\"#fb9f3a\"],[0.8888888888888888,\"#fdca26\"],[1.0,\"#f0f921\"]],\"sequentialminus\":[[0.0,\"#0d0887\"],[0.1111111111111111,\"#46039f\"],[0.2222222222222222,\"#7201a8\"],[0.3333333333333333,\"#9c179e\"],[0.4444444444444444,\"#bd3786\"],[0.5555555555555556,\"#d8576b\"],[0.6666666666666666,\"#ed7953\"],[0.7777777777777778,\"#fb9f3a\"],[0.8888888888888888,\"#fdca26\"],[1.0,\"#f0f921\"]]},\"colorway\":[\"#636efa\",\"#EF553B\",\"#00cc96\",\"#ab63fa\",\"#FFA15A\",\"#19d3f3\",\"#FF6692\",\"#B6E880\",\"#FF97FF\",\"#FECB52\"],\"font\":{\"color\":\"#2a3f5f\"},\"geo\":{\"bgcolor\":\"white\",\"lakecolor\":\"white\",\"landcolor\":\"#E5ECF6\",\"showlakes\":true,\"showland\":true,\"subunitcolor\":\"white\"},\"hoverlabel\":{\"align\":\"left\"},\"hovermode\":\"closest\",\"mapbox\":{\"style\":\"light\"},\"paper_bgcolor\":\"white\",\"plot_bgcolor\":\"#E5ECF6\",\"polar\":{\"angularaxis\":{\"gridcolor\":\"white\",\"linecolor\":\"white\",\"ticks\":\"\"},\"bgcolor\":\"#E5ECF6\",\"radialaxis\":{\"gridcolor\":\"white\",\"linecolor\":\"white\",\"ticks\":\"\"}},\"scene\":{\"xaxis\":{\"backgroundcolor\":\"#E5ECF6\",\"gridcolor\":\"white\",\"gridwidth\":2,\"linecolor\":\"white\",\"showbackground\":true,\"ticks\":\"\",\"zerolinecolor\":\"white\"},\"yaxis\":{\"backgroundcolor\":\"#E5ECF6\",\"gridcolor\":\"white\",\"gridwidth\":2,\"linecolor\":\"white\",\"showbackground\":true,\"ticks\":\"\",\"zerolinecolor\":\"white\"},\"zaxis\":{\"backgroundcolor\":\"#E5ECF6\",\"gridcolor\":\"white\",\"gridwidth\":2,\"linecolor\":\"white\",\"showbackground\":true,\"ticks\":\"\",\"zerolinecolor\":\"white\"}},\"shapedefaults\":{\"line\":{\"color\":\"#2a3f5f\"}},\"ternary\":{\"aaxis\":{\"gridcolor\":\"white\",\"linecolor\":\"white\",\"ticks\":\"\"},\"baxis\":{\"gridcolor\":\"white\",\"linecolor\":\"white\",\"ticks\":\"\"},\"bgcolor\":\"#E5ECF6\",\"caxis\":{\"gridcolor\":\"white\",\"linecolor\":\"white\",\"ticks\":\"\"}},\"title\":{\"x\":0.05},\"xaxis\":{\"automargin\":true,\"gridcolor\":\"white\",\"linecolor\":\"white\",\"ticks\":\"\",\"title\":{\"standoff\":15},\"zerolinecolor\":\"white\",\"zerolinewidth\":2},\"yaxis\":{\"automargin\":true,\"gridcolor\":\"white\",\"linecolor\":\"white\",\"ticks\":\"\",\"title\":{\"standoff\":15},\"zerolinecolor\":\"white\",\"zerolinewidth\":2}}},\"title\":{\"text\":\"\\u041a\\u043e\\u043b\\u0438\\u0447\\u0435\\u0441\\u0442\\u0432\\u043e \\u0437\\u0430\\u043a\\u0430\\u0437\\u043e\\u0432 \\u043d\\u0430 \\u043f\\u043e\\u043b\\u044c\\u0437\\u043e\\u0432\\u0430\\u0442\\u0435\\u043b\\u044f\"},\"xaxis\":{\"anchor\":\"y\",\"domain\":[0.0,0.8358],\"title\":{\"text\":\"\\u043f\\u043e\\u043b\\u044c\\u0437\\u043e\\u0432\\u0430\\u0442\\u0435\\u043b\\u044c\"}},\"yaxis\":{\"anchor\":\"x\",\"domain\":[0.0,1.0],\"title\":{\"text\":\"\\u0447\\u0438\\u0441\\u043b\\u043e \\u0437\\u0430\\u043a\\u0430\\u0437\\u043e\\u0432\"}},\"xaxis2\":{\"anchor\":\"y2\",\"domain\":[0.8408,1.0],\"matches\":\"x2\",\"showgrid\":false,\"showline\":false,\"showticklabels\":false,\"ticks\":\"\"},\"yaxis2\":{\"anchor\":\"x2\",\"domain\":[0.0,1.0],\"matches\":\"y\",\"showgrid\":true,\"showticklabels\":false}},                        {\"responsive\": true}                    ).then(function(){\n",
       "                            \n",
       "var gd = document.getElementById('41e38ea4-0a81-4f95-9c65-1c98c3cd8e15');\n",
       "var x = new MutationObserver(function (mutations, observer) {{\n",
       "        var display = window.getComputedStyle(gd).display;\n",
       "        if (!display || display === 'none') {{\n",
       "            console.log([gd, 'removed!']);\n",
       "            Plotly.purge(gd);\n",
       "            observer.disconnect();\n",
       "        }}\n",
       "}});\n",
       "\n",
       "// Listen for the removal of the full notebook cells\n",
       "var notebookContainer = gd.closest('#notebook-container');\n",
       "if (notebookContainer) {{\n",
       "    x.observe(notebookContainer, {childList: true});\n",
       "}}\n",
       "\n",
       "// Listen for the clearing of the current output cell\n",
       "var outputEl = gd.closest('.output');\n",
       "if (outputEl) {{\n",
       "    x.observe(outputEl, {childList: true});\n",
       "}}\n",
       "\n",
       "                        })                };            </script>        </div>"
      ]
     },
     "metadata": {},
     "output_type": "display_data"
    }
   ],
   "source": [
    "fig = px.scatter(count_product_on_customer,\n",
    "                 y='orders',\n",
    "                 marginal_y='rug',\n",
    "                 labels={'orders': 'число заказов',\n",
    "                         'index': 'пользователь'},\n",
    "                 title='Количество заказов на пользователя')\n",
    "iplot(fig)"
   ]
  },
  {
   "cell_type": "markdown",
   "metadata": {},
   "source": [
    "Видим огоромный выброс в 126 заказов, ликвидируем его ."
   ]
  },
  {
   "cell_type": "markdown",
   "metadata": {},
   "source": [
    "отфильтруем пользователей по выбранной границе"
   ]
  },
  {
   "cell_type": "code",
   "execution_count": 77,
   "metadata": {},
   "outputs": [
    {
     "data": {
      "text/plain": [
       "np.int64(126)"
      ]
     },
     "execution_count": 77,
     "metadata": {},
     "output_type": "execute_result"
    }
   ],
   "source": [
    "lim_max = count_product_on_customer['orders'].max()\n",
    "lim_max"
   ]
  },
  {
   "cell_type": "code",
   "execution_count": 78,
   "metadata": {},
   "outputs": [],
   "source": [
    "normal_customer = (count_product_on_customer\n",
    "                   .query('orders<@lim_max')['customer_id'])"
   ]
  },
  {
   "cell_type": "markdown",
   "metadata": {},
   "source": [
    "отфильтруем по пользователям датафрейм"
   ]
  },
  {
   "cell_type": "code",
   "execution_count": 79,
   "metadata": {},
   "outputs": [],
   "source": [
    "data = data.query('customer_id in @normal_customer')"
   ]
  },
  {
   "cell_type": "markdown",
   "metadata": {},
   "source": [
    "## Динамика выручки "
   ]
  },
  {
   "cell_type": "markdown",
   "metadata": {},
   "source": [
    "Для построения динамики выручки нужна стоимсоть товарной позиции с учетом количества единиц товара, но ее мы посчитали в пункте выше."
   ]
  },
  {
   "cell_type": "markdown",
   "metadata": {},
   "source": [
    "Для построения динамики дохода по месяцам нужна еще и дата, но перед этим ее нужно округлить с точностью до месяца:   \n",
    "например, `2019-12-16 и 2020-10-12` станет `2019-12-01` и `2020-10-01` соответсвенно."
   ]
  },
  {
   "cell_type": "code",
   "execution_count": 80,
   "metadata": {},
   "outputs": [],
   "source": [
    "\n",
    "data['date_round'] = (data['date']\n",
    "                      .apply(lambda x:\n",
    "                             pd.Timestamp(\n",
    "                                 pd.Timestamp(\n",
    "                                     f\"{x.month} / {x.year}\"\n",
    "                                 )\n",
    "                             )\n",
    "                             .normalize()\n",
    "                             )\n",
    "                      )"
   ]
  },
  {
   "cell_type": "markdown",
   "metadata": {},
   "source": [
    "Проверим себя"
   ]
  },
  {
   "cell_type": "code",
   "execution_count": 81,
   "metadata": {},
   "outputs": [
    {
     "data": {
      "text/html": [
       "<div>\n",
       "<style scoped>\n",
       "    .dataframe tbody tr th:only-of-type {\n",
       "        vertical-align: middle;\n",
       "    }\n",
       "\n",
       "    .dataframe tbody tr th {\n",
       "        vertical-align: top;\n",
       "    }\n",
       "\n",
       "    .dataframe thead th {\n",
       "        text-align: right;\n",
       "    }\n",
       "</style>\n",
       "<table border=\"1\" class=\"dataframe\">\n",
       "  <thead>\n",
       "    <tr style=\"text-align: right;\">\n",
       "      <th></th>\n",
       "      <th>date</th>\n",
       "      <th>date_round</th>\n",
       "    </tr>\n",
       "  </thead>\n",
       "  <tbody>\n",
       "    <tr>\n",
       "      <th>1476</th>\n",
       "      <td>2019-01-12</td>\n",
       "      <td>2019-01-01</td>\n",
       "    </tr>\n",
       "    <tr>\n",
       "      <th>1477</th>\n",
       "      <td>2019-01-13</td>\n",
       "      <td>2019-01-01</td>\n",
       "    </tr>\n",
       "    <tr>\n",
       "      <th>1478</th>\n",
       "      <td>2019-01-13</td>\n",
       "      <td>2019-01-01</td>\n",
       "    </tr>\n",
       "    <tr>\n",
       "      <th>1479</th>\n",
       "      <td>2019-01-13</td>\n",
       "      <td>2019-01-01</td>\n",
       "    </tr>\n",
       "    <tr>\n",
       "      <th>1480</th>\n",
       "      <td>2019-01-13</td>\n",
       "      <td>2019-01-01</td>\n",
       "    </tr>\n",
       "    <tr>\n",
       "      <th>1481</th>\n",
       "      <td>2019-01-13</td>\n",
       "      <td>2019-01-01</td>\n",
       "    </tr>\n",
       "    <tr>\n",
       "      <th>1482</th>\n",
       "      <td>2019-01-13</td>\n",
       "      <td>2019-01-01</td>\n",
       "    </tr>\n",
       "    <tr>\n",
       "      <th>1483</th>\n",
       "      <td>2019-01-13</td>\n",
       "      <td>2019-01-01</td>\n",
       "    </tr>\n",
       "    <tr>\n",
       "      <th>1484</th>\n",
       "      <td>2019-01-13</td>\n",
       "      <td>2019-01-01</td>\n",
       "    </tr>\n",
       "    <tr>\n",
       "      <th>1485</th>\n",
       "      <td>2019-01-13</td>\n",
       "      <td>2019-01-01</td>\n",
       "    </tr>\n",
       "    <tr>\n",
       "      <th>1486</th>\n",
       "      <td>2019-01-14</td>\n",
       "      <td>2019-01-01</td>\n",
       "    </tr>\n",
       "    <tr>\n",
       "      <th>1487</th>\n",
       "      <td>2019-01-14</td>\n",
       "      <td>2019-01-01</td>\n",
       "    </tr>\n",
       "    <tr>\n",
       "      <th>1488</th>\n",
       "      <td>2019-01-14</td>\n",
       "      <td>2019-01-01</td>\n",
       "    </tr>\n",
       "    <tr>\n",
       "      <th>1489</th>\n",
       "      <td>2019-01-14</td>\n",
       "      <td>2019-01-01</td>\n",
       "    </tr>\n",
       "    <tr>\n",
       "      <th>1490</th>\n",
       "      <td>2019-01-14</td>\n",
       "      <td>2019-01-01</td>\n",
       "    </tr>\n",
       "  </tbody>\n",
       "</table>\n",
       "</div>"
      ],
      "text/plain": [
       "            date date_round\n",
       "1476  2019-01-12 2019-01-01\n",
       "1477  2019-01-13 2019-01-01\n",
       "1478  2019-01-13 2019-01-01\n",
       "1479  2019-01-13 2019-01-01\n",
       "1480  2019-01-13 2019-01-01\n",
       "1481  2019-01-13 2019-01-01\n",
       "1482  2019-01-13 2019-01-01\n",
       "1483  2019-01-13 2019-01-01\n",
       "1484  2019-01-13 2019-01-01\n",
       "1485  2019-01-13 2019-01-01\n",
       "1486  2019-01-14 2019-01-01\n",
       "1487  2019-01-14 2019-01-01\n",
       "1488  2019-01-14 2019-01-01\n",
       "1489  2019-01-14 2019-01-01\n",
       "1490  2019-01-14 2019-01-01"
      ]
     },
     "execution_count": 81,
     "metadata": {},
     "output_type": "execute_result"
    }
   ],
   "source": [
    "data[['date', 'date_round']].iloc[1375:1390]"
   ]
  },
  {
   "cell_type": "markdown",
   "metadata": {},
   "source": [
    "округление работает корректно как задумывалось."
   ]
  },
  {
   "cell_type": "markdown",
   "metadata": {},
   "source": [
    "Построим теперь таблицу с доходами по месяцам"
   ]
  },
  {
   "cell_type": "code",
   "execution_count": 82,
   "metadata": {},
   "outputs": [
    {
     "data": {
      "text/html": [
       "<div>\n",
       "<style scoped>\n",
       "    .dataframe tbody tr th:only-of-type {\n",
       "        vertical-align: middle;\n",
       "    }\n",
       "\n",
       "    .dataframe tbody tr th {\n",
       "        vertical-align: top;\n",
       "    }\n",
       "\n",
       "    .dataframe thead th {\n",
       "        text-align: right;\n",
       "    }\n",
       "</style>\n",
       "<table border=\"1\" class=\"dataframe\">\n",
       "  <thead>\n",
       "    <tr style=\"text-align: right;\">\n",
       "      <th></th>\n",
       "      <th>date_round</th>\n",
       "      <th>revenue</th>\n",
       "    </tr>\n",
       "  </thead>\n",
       "  <tbody>\n",
       "    <tr>\n",
       "      <th>0</th>\n",
       "      <td>2018-10-01</td>\n",
       "      <td>391767.0</td>\n",
       "    </tr>\n",
       "    <tr>\n",
       "      <th>1</th>\n",
       "      <td>2018-11-01</td>\n",
       "      <td>346199.0</td>\n",
       "    </tr>\n",
       "    <tr>\n",
       "      <th>2</th>\n",
       "      <td>2018-12-01</td>\n",
       "      <td>339076.0</td>\n",
       "    </tr>\n",
       "    <tr>\n",
       "      <th>3</th>\n",
       "      <td>2019-01-01</td>\n",
       "      <td>254022.0</td>\n",
       "    </tr>\n",
       "    <tr>\n",
       "      <th>4</th>\n",
       "      <td>2019-02-01</td>\n",
       "      <td>290355.0</td>\n",
       "    </tr>\n",
       "  </tbody>\n",
       "</table>\n",
       "</div>"
      ],
      "text/plain": [
       "  date_round   revenue\n",
       "0 2018-10-01  391767.0\n",
       "1 2018-11-01  346199.0\n",
       "2 2018-12-01  339076.0\n",
       "3 2019-01-01  254022.0\n",
       "4 2019-02-01  290355.0"
      ]
     },
     "execution_count": 82,
     "metadata": {},
     "output_type": "execute_result"
    }
   ],
   "source": [
    "total_price_dynamic = (data\n",
    "                       .groupby('date_round', as_index=False)['total_price']\n",
    "                       .sum()\n",
    "                       .rename(columns=dict(total_price='revenue'))\n",
    "                       )\n",
    "\n",
    "total_price_dynamic.head()"
   ]
  },
  {
   "cell_type": "markdown",
   "metadata": {},
   "source": [
    "и наконец график"
   ]
  },
  {
   "cell_type": "code",
   "execution_count": 83,
   "metadata": {},
   "outputs": [
    {
     "data": {
      "application/vnd.plotly.v1+json": {
       "config": {
        "linkText": "Export to plot.ly",
        "plotlyServerURL": "https://plot.ly",
        "showLink": false
       },
       "data": [
        {
         "hovertemplate": "дата=%{x}<br>выручка=%{y}<extra></extra>",
         "legendgroup": "",
         "line": {
          "color": "#636efa",
          "dash": "solid",
          "shape": "spline",
          "width": 6
         },
         "marker": {
          "symbol": "circle"
         },
         "mode": "lines",
         "name": "",
         "orientation": "v",
         "showlegend": false,
         "type": "scatter",
         "x": [
          "2018-10-01T00:00:00.000000000",
          "2018-11-01T00:00:00.000000000",
          "2018-12-01T00:00:00.000000000",
          "2019-01-01T00:00:00.000000000",
          "2019-02-01T00:00:00.000000000",
          "2019-03-01T00:00:00.000000000",
          "2019-04-01T00:00:00.000000000",
          "2019-05-01T00:00:00.000000000",
          "2019-06-01T00:00:00.000000000",
          "2019-07-01T00:00:00.000000000",
          "2019-08-01T00:00:00.000000000",
          "2019-09-01T00:00:00.000000000",
          "2019-10-01T00:00:00.000000000",
          "2019-11-01T00:00:00.000000000",
          "2019-12-01T00:00:00.000000000",
          "2020-01-01T00:00:00.000000000"
         ],
         "xaxis": "x",
         "y": {
          "bdata": "AAAAAFzpF0EAAAAAXCEVQQAAAAAQshRBAAAAADACD0EAAAAAzLgRQQAAAADEuBFBAAAAABwuF0EAAAAAAGcSQQAAAAAk5hhBAAAAAAzhEEEAAAAAkBsIQQAAAADYlwhBAAAAAMhNDUEAAAAAfHH/QKuqqqoqxAhBq6qqqqI+BUE=",
          "dtype": "f8"
         },
         "yaxis": "y"
        }
       ],
       "layout": {
        "legend": {
         "tracegroupgap": 0
        },
        "template": {
         "data": {
          "bar": [
           {
            "error_x": {
             "color": "#2a3f5f"
            },
            "error_y": {
             "color": "#2a3f5f"
            },
            "marker": {
             "line": {
              "color": "#E5ECF6",
              "width": 0.5
             },
             "pattern": {
              "fillmode": "overlay",
              "size": 10,
              "solidity": 0.2
             }
            },
            "type": "bar"
           }
          ],
          "barpolar": [
           {
            "marker": {
             "line": {
              "color": "#E5ECF6",
              "width": 0.5
             },
             "pattern": {
              "fillmode": "overlay",
              "size": 10,
              "solidity": 0.2
             }
            },
            "type": "barpolar"
           }
          ],
          "carpet": [
           {
            "aaxis": {
             "endlinecolor": "#2a3f5f",
             "gridcolor": "white",
             "linecolor": "white",
             "minorgridcolor": "white",
             "startlinecolor": "#2a3f5f"
            },
            "baxis": {
             "endlinecolor": "#2a3f5f",
             "gridcolor": "white",
             "linecolor": "white",
             "minorgridcolor": "white",
             "startlinecolor": "#2a3f5f"
            },
            "type": "carpet"
           }
          ],
          "choropleth": [
           {
            "colorbar": {
             "outlinewidth": 0,
             "ticks": ""
            },
            "type": "choropleth"
           }
          ],
          "contour": [
           {
            "colorbar": {
             "outlinewidth": 0,
             "ticks": ""
            },
            "colorscale": [
             [
              0,
              "#0d0887"
             ],
             [
              0.1111111111111111,
              "#46039f"
             ],
             [
              0.2222222222222222,
              "#7201a8"
             ],
             [
              0.3333333333333333,
              "#9c179e"
             ],
             [
              0.4444444444444444,
              "#bd3786"
             ],
             [
              0.5555555555555556,
              "#d8576b"
             ],
             [
              0.6666666666666666,
              "#ed7953"
             ],
             [
              0.7777777777777778,
              "#fb9f3a"
             ],
             [
              0.8888888888888888,
              "#fdca26"
             ],
             [
              1,
              "#f0f921"
             ]
            ],
            "type": "contour"
           }
          ],
          "contourcarpet": [
           {
            "colorbar": {
             "outlinewidth": 0,
             "ticks": ""
            },
            "type": "contourcarpet"
           }
          ],
          "heatmap": [
           {
            "colorbar": {
             "outlinewidth": 0,
             "ticks": ""
            },
            "colorscale": [
             [
              0,
              "#0d0887"
             ],
             [
              0.1111111111111111,
              "#46039f"
             ],
             [
              0.2222222222222222,
              "#7201a8"
             ],
             [
              0.3333333333333333,
              "#9c179e"
             ],
             [
              0.4444444444444444,
              "#bd3786"
             ],
             [
              0.5555555555555556,
              "#d8576b"
             ],
             [
              0.6666666666666666,
              "#ed7953"
             ],
             [
              0.7777777777777778,
              "#fb9f3a"
             ],
             [
              0.8888888888888888,
              "#fdca26"
             ],
             [
              1,
              "#f0f921"
             ]
            ],
            "type": "heatmap"
           }
          ],
          "histogram": [
           {
            "marker": {
             "pattern": {
              "fillmode": "overlay",
              "size": 10,
              "solidity": 0.2
             }
            },
            "type": "histogram"
           }
          ],
          "histogram2d": [
           {
            "colorbar": {
             "outlinewidth": 0,
             "ticks": ""
            },
            "colorscale": [
             [
              0,
              "#0d0887"
             ],
             [
              0.1111111111111111,
              "#46039f"
             ],
             [
              0.2222222222222222,
              "#7201a8"
             ],
             [
              0.3333333333333333,
              "#9c179e"
             ],
             [
              0.4444444444444444,
              "#bd3786"
             ],
             [
              0.5555555555555556,
              "#d8576b"
             ],
             [
              0.6666666666666666,
              "#ed7953"
             ],
             [
              0.7777777777777778,
              "#fb9f3a"
             ],
             [
              0.8888888888888888,
              "#fdca26"
             ],
             [
              1,
              "#f0f921"
             ]
            ],
            "type": "histogram2d"
           }
          ],
          "histogram2dcontour": [
           {
            "colorbar": {
             "outlinewidth": 0,
             "ticks": ""
            },
            "colorscale": [
             [
              0,
              "#0d0887"
             ],
             [
              0.1111111111111111,
              "#46039f"
             ],
             [
              0.2222222222222222,
              "#7201a8"
             ],
             [
              0.3333333333333333,
              "#9c179e"
             ],
             [
              0.4444444444444444,
              "#bd3786"
             ],
             [
              0.5555555555555556,
              "#d8576b"
             ],
             [
              0.6666666666666666,
              "#ed7953"
             ],
             [
              0.7777777777777778,
              "#fb9f3a"
             ],
             [
              0.8888888888888888,
              "#fdca26"
             ],
             [
              1,
              "#f0f921"
             ]
            ],
            "type": "histogram2dcontour"
           }
          ],
          "mesh3d": [
           {
            "colorbar": {
             "outlinewidth": 0,
             "ticks": ""
            },
            "type": "mesh3d"
           }
          ],
          "parcoords": [
           {
            "line": {
             "colorbar": {
              "outlinewidth": 0,
              "ticks": ""
             }
            },
            "type": "parcoords"
           }
          ],
          "pie": [
           {
            "automargin": true,
            "type": "pie"
           }
          ],
          "scatter": [
           {
            "fillpattern": {
             "fillmode": "overlay",
             "size": 10,
             "solidity": 0.2
            },
            "type": "scatter"
           }
          ],
          "scatter3d": [
           {
            "line": {
             "colorbar": {
              "outlinewidth": 0,
              "ticks": ""
             }
            },
            "marker": {
             "colorbar": {
              "outlinewidth": 0,
              "ticks": ""
             }
            },
            "type": "scatter3d"
           }
          ],
          "scattercarpet": [
           {
            "marker": {
             "colorbar": {
              "outlinewidth": 0,
              "ticks": ""
             }
            },
            "type": "scattercarpet"
           }
          ],
          "scattergeo": [
           {
            "marker": {
             "colorbar": {
              "outlinewidth": 0,
              "ticks": ""
             }
            },
            "type": "scattergeo"
           }
          ],
          "scattergl": [
           {
            "marker": {
             "colorbar": {
              "outlinewidth": 0,
              "ticks": ""
             }
            },
            "type": "scattergl"
           }
          ],
          "scattermap": [
           {
            "marker": {
             "colorbar": {
              "outlinewidth": 0,
              "ticks": ""
             }
            },
            "type": "scattermap"
           }
          ],
          "scattermapbox": [
           {
            "marker": {
             "colorbar": {
              "outlinewidth": 0,
              "ticks": ""
             }
            },
            "type": "scattermapbox"
           }
          ],
          "scatterpolar": [
           {
            "marker": {
             "colorbar": {
              "outlinewidth": 0,
              "ticks": ""
             }
            },
            "type": "scatterpolar"
           }
          ],
          "scatterpolargl": [
           {
            "marker": {
             "colorbar": {
              "outlinewidth": 0,
              "ticks": ""
             }
            },
            "type": "scatterpolargl"
           }
          ],
          "scatterternary": [
           {
            "marker": {
             "colorbar": {
              "outlinewidth": 0,
              "ticks": ""
             }
            },
            "type": "scatterternary"
           }
          ],
          "surface": [
           {
            "colorbar": {
             "outlinewidth": 0,
             "ticks": ""
            },
            "colorscale": [
             [
              0,
              "#0d0887"
             ],
             [
              0.1111111111111111,
              "#46039f"
             ],
             [
              0.2222222222222222,
              "#7201a8"
             ],
             [
              0.3333333333333333,
              "#9c179e"
             ],
             [
              0.4444444444444444,
              "#bd3786"
             ],
             [
              0.5555555555555556,
              "#d8576b"
             ],
             [
              0.6666666666666666,
              "#ed7953"
             ],
             [
              0.7777777777777778,
              "#fb9f3a"
             ],
             [
              0.8888888888888888,
              "#fdca26"
             ],
             [
              1,
              "#f0f921"
             ]
            ],
            "type": "surface"
           }
          ],
          "table": [
           {
            "cells": {
             "fill": {
              "color": "#EBF0F8"
             },
             "line": {
              "color": "white"
             }
            },
            "header": {
             "fill": {
              "color": "#C8D4E3"
             },
             "line": {
              "color": "white"
             }
            },
            "type": "table"
           }
          ]
         },
         "layout": {
          "annotationdefaults": {
           "arrowcolor": "#2a3f5f",
           "arrowhead": 0,
           "arrowwidth": 1
          },
          "autotypenumbers": "strict",
          "coloraxis": {
           "colorbar": {
            "outlinewidth": 0,
            "ticks": ""
           }
          },
          "colorscale": {
           "diverging": [
            [
             0,
             "#8e0152"
            ],
            [
             0.1,
             "#c51b7d"
            ],
            [
             0.2,
             "#de77ae"
            ],
            [
             0.3,
             "#f1b6da"
            ],
            [
             0.4,
             "#fde0ef"
            ],
            [
             0.5,
             "#f7f7f7"
            ],
            [
             0.6,
             "#e6f5d0"
            ],
            [
             0.7,
             "#b8e186"
            ],
            [
             0.8,
             "#7fbc41"
            ],
            [
             0.9,
             "#4d9221"
            ],
            [
             1,
             "#276419"
            ]
           ],
           "sequential": [
            [
             0,
             "#0d0887"
            ],
            [
             0.1111111111111111,
             "#46039f"
            ],
            [
             0.2222222222222222,
             "#7201a8"
            ],
            [
             0.3333333333333333,
             "#9c179e"
            ],
            [
             0.4444444444444444,
             "#bd3786"
            ],
            [
             0.5555555555555556,
             "#d8576b"
            ],
            [
             0.6666666666666666,
             "#ed7953"
            ],
            [
             0.7777777777777778,
             "#fb9f3a"
            ],
            [
             0.8888888888888888,
             "#fdca26"
            ],
            [
             1,
             "#f0f921"
            ]
           ],
           "sequentialminus": [
            [
             0,
             "#0d0887"
            ],
            [
             0.1111111111111111,
             "#46039f"
            ],
            [
             0.2222222222222222,
             "#7201a8"
            ],
            [
             0.3333333333333333,
             "#9c179e"
            ],
            [
             0.4444444444444444,
             "#bd3786"
            ],
            [
             0.5555555555555556,
             "#d8576b"
            ],
            [
             0.6666666666666666,
             "#ed7953"
            ],
            [
             0.7777777777777778,
             "#fb9f3a"
            ],
            [
             0.8888888888888888,
             "#fdca26"
            ],
            [
             1,
             "#f0f921"
            ]
           ]
          },
          "colorway": [
           "#636efa",
           "#EF553B",
           "#00cc96",
           "#ab63fa",
           "#FFA15A",
           "#19d3f3",
           "#FF6692",
           "#B6E880",
           "#FF97FF",
           "#FECB52"
          ],
          "font": {
           "color": "#2a3f5f"
          },
          "geo": {
           "bgcolor": "white",
           "lakecolor": "white",
           "landcolor": "#E5ECF6",
           "showlakes": true,
           "showland": true,
           "subunitcolor": "white"
          },
          "hoverlabel": {
           "align": "left"
          },
          "hovermode": "closest",
          "mapbox": {
           "style": "light"
          },
          "paper_bgcolor": "white",
          "plot_bgcolor": "#E5ECF6",
          "polar": {
           "angularaxis": {
            "gridcolor": "white",
            "linecolor": "white",
            "ticks": ""
           },
           "bgcolor": "#E5ECF6",
           "radialaxis": {
            "gridcolor": "white",
            "linecolor": "white",
            "ticks": ""
           }
          },
          "scene": {
           "xaxis": {
            "backgroundcolor": "#E5ECF6",
            "gridcolor": "white",
            "gridwidth": 2,
            "linecolor": "white",
            "showbackground": true,
            "ticks": "",
            "zerolinecolor": "white"
           },
           "yaxis": {
            "backgroundcolor": "#E5ECF6",
            "gridcolor": "white",
            "gridwidth": 2,
            "linecolor": "white",
            "showbackground": true,
            "ticks": "",
            "zerolinecolor": "white"
           },
           "zaxis": {
            "backgroundcolor": "#E5ECF6",
            "gridcolor": "white",
            "gridwidth": 2,
            "linecolor": "white",
            "showbackground": true,
            "ticks": "",
            "zerolinecolor": "white"
           }
          },
          "shapedefaults": {
           "line": {
            "color": "#2a3f5f"
           }
          },
          "ternary": {
           "aaxis": {
            "gridcolor": "white",
            "linecolor": "white",
            "ticks": ""
           },
           "baxis": {
            "gridcolor": "white",
            "linecolor": "white",
            "ticks": ""
           },
           "bgcolor": "#E5ECF6",
           "caxis": {
            "gridcolor": "white",
            "linecolor": "white",
            "ticks": ""
           }
          },
          "title": {
           "x": 0.05
          },
          "xaxis": {
           "automargin": true,
           "gridcolor": "white",
           "linecolor": "white",
           "ticks": "",
           "title": {
            "standoff": 15
           },
           "zerolinecolor": "white",
           "zerolinewidth": 2
          },
          "yaxis": {
           "automargin": true,
           "gridcolor": "white",
           "linecolor": "white",
           "ticks": "",
           "title": {
            "standoff": 15
           },
           "zerolinecolor": "white",
           "zerolinewidth": 2
          }
         }
        },
        "title": {
         "text": "Выручка по месяцам за период с 2018-10-01 по 2020-01-31"
        },
        "xaxis": {
         "anchor": "y",
         "domain": [
          0,
          1
         ],
         "title": {
          "text": "дата"
         }
        },
        "yaxis": {
         "anchor": "x",
         "domain": [
          0,
          1
         ],
         "title": {
          "text": "выручка"
         }
        }
       }
      },
      "text/html": [
       "<div>            <script src=\"https://cdnjs.cloudflare.com/ajax/libs/mathjax/2.7.5/MathJax.js?config=TeX-AMS-MML_SVG\"></script><script type=\"text/javascript\">if (window.MathJax && window.MathJax.Hub && window.MathJax.Hub.Config) {window.MathJax.Hub.Config({SVG: {font: \"STIX-Web\"}});}</script>                <script type=\"text/javascript\">window.PlotlyConfig = {MathJaxConfig: 'local'};</script>\n",
       "        <script charset=\"utf-8\" src=\"https://cdn.plot.ly/plotly-3.0.1.min.js\"></script>                <div id=\"fbfe24c1-faba-47d6-81a2-26a470954594\" class=\"plotly-graph-div\" style=\"height:525px; width:100%;\"></div>            <script type=\"text/javascript\">                window.PLOTLYENV=window.PLOTLYENV || {};                                if (document.getElementById(\"fbfe24c1-faba-47d6-81a2-26a470954594\")) {                    Plotly.newPlot(                        \"fbfe24c1-faba-47d6-81a2-26a470954594\",                        [{\"hovertemplate\":\"\\u0434\\u0430\\u0442\\u0430=%{x}\\u003cbr\\u003e\\u0432\\u044b\\u0440\\u0443\\u0447\\u043a\\u0430=%{y}\\u003cextra\\u003e\\u003c\\u002fextra\\u003e\",\"legendgroup\":\"\",\"line\":{\"color\":\"#636efa\",\"dash\":\"solid\",\"shape\":\"spline\",\"width\":6},\"marker\":{\"symbol\":\"circle\"},\"mode\":\"lines\",\"name\":\"\",\"orientation\":\"v\",\"showlegend\":false,\"x\":[\"2018-10-01T00:00:00.000000000\",\"2018-11-01T00:00:00.000000000\",\"2018-12-01T00:00:00.000000000\",\"2019-01-01T00:00:00.000000000\",\"2019-02-01T00:00:00.000000000\",\"2019-03-01T00:00:00.000000000\",\"2019-04-01T00:00:00.000000000\",\"2019-05-01T00:00:00.000000000\",\"2019-06-01T00:00:00.000000000\",\"2019-07-01T00:00:00.000000000\",\"2019-08-01T00:00:00.000000000\",\"2019-09-01T00:00:00.000000000\",\"2019-10-01T00:00:00.000000000\",\"2019-11-01T00:00:00.000000000\",\"2019-12-01T00:00:00.000000000\",\"2020-01-01T00:00:00.000000000\"],\"xaxis\":\"x\",\"y\":{\"dtype\":\"f8\",\"bdata\":\"AAAAAFzpF0EAAAAAXCEVQQAAAAAQshRBAAAAADACD0EAAAAAzLgRQQAAAADEuBFBAAAAABwuF0EAAAAAAGcSQQAAAAAk5hhBAAAAAAzhEEEAAAAAkBsIQQAAAADYlwhBAAAAAMhNDUEAAAAAfHH\\u002fQKuqqqoqxAhBq6qqqqI+BUE=\"},\"yaxis\":\"y\",\"type\":\"scatter\"}],                        {\"legend\":{\"tracegroupgap\":0},\"template\":{\"data\":{\"barpolar\":[{\"marker\":{\"line\":{\"color\":\"#E5ECF6\",\"width\":0.5},\"pattern\":{\"fillmode\":\"overlay\",\"size\":10,\"solidity\":0.2}},\"type\":\"barpolar\"}],\"bar\":[{\"error_x\":{\"color\":\"#2a3f5f\"},\"error_y\":{\"color\":\"#2a3f5f\"},\"marker\":{\"line\":{\"color\":\"#E5ECF6\",\"width\":0.5},\"pattern\":{\"fillmode\":\"overlay\",\"size\":10,\"solidity\":0.2}},\"type\":\"bar\"}],\"carpet\":[{\"aaxis\":{\"endlinecolor\":\"#2a3f5f\",\"gridcolor\":\"white\",\"linecolor\":\"white\",\"minorgridcolor\":\"white\",\"startlinecolor\":\"#2a3f5f\"},\"baxis\":{\"endlinecolor\":\"#2a3f5f\",\"gridcolor\":\"white\",\"linecolor\":\"white\",\"minorgridcolor\":\"white\",\"startlinecolor\":\"#2a3f5f\"},\"type\":\"carpet\"}],\"choropleth\":[{\"colorbar\":{\"outlinewidth\":0,\"ticks\":\"\"},\"type\":\"choropleth\"}],\"contourcarpet\":[{\"colorbar\":{\"outlinewidth\":0,\"ticks\":\"\"},\"type\":\"contourcarpet\"}],\"contour\":[{\"colorbar\":{\"outlinewidth\":0,\"ticks\":\"\"},\"colorscale\":[[0.0,\"#0d0887\"],[0.1111111111111111,\"#46039f\"],[0.2222222222222222,\"#7201a8\"],[0.3333333333333333,\"#9c179e\"],[0.4444444444444444,\"#bd3786\"],[0.5555555555555556,\"#d8576b\"],[0.6666666666666666,\"#ed7953\"],[0.7777777777777778,\"#fb9f3a\"],[0.8888888888888888,\"#fdca26\"],[1.0,\"#f0f921\"]],\"type\":\"contour\"}],\"heatmap\":[{\"colorbar\":{\"outlinewidth\":0,\"ticks\":\"\"},\"colorscale\":[[0.0,\"#0d0887\"],[0.1111111111111111,\"#46039f\"],[0.2222222222222222,\"#7201a8\"],[0.3333333333333333,\"#9c179e\"],[0.4444444444444444,\"#bd3786\"],[0.5555555555555556,\"#d8576b\"],[0.6666666666666666,\"#ed7953\"],[0.7777777777777778,\"#fb9f3a\"],[0.8888888888888888,\"#fdca26\"],[1.0,\"#f0f921\"]],\"type\":\"heatmap\"}],\"histogram2dcontour\":[{\"colorbar\":{\"outlinewidth\":0,\"ticks\":\"\"},\"colorscale\":[[0.0,\"#0d0887\"],[0.1111111111111111,\"#46039f\"],[0.2222222222222222,\"#7201a8\"],[0.3333333333333333,\"#9c179e\"],[0.4444444444444444,\"#bd3786\"],[0.5555555555555556,\"#d8576b\"],[0.6666666666666666,\"#ed7953\"],[0.7777777777777778,\"#fb9f3a\"],[0.8888888888888888,\"#fdca26\"],[1.0,\"#f0f921\"]],\"type\":\"histogram2dcontour\"}],\"histogram2d\":[{\"colorbar\":{\"outlinewidth\":0,\"ticks\":\"\"},\"colorscale\":[[0.0,\"#0d0887\"],[0.1111111111111111,\"#46039f\"],[0.2222222222222222,\"#7201a8\"],[0.3333333333333333,\"#9c179e\"],[0.4444444444444444,\"#bd3786\"],[0.5555555555555556,\"#d8576b\"],[0.6666666666666666,\"#ed7953\"],[0.7777777777777778,\"#fb9f3a\"],[0.8888888888888888,\"#fdca26\"],[1.0,\"#f0f921\"]],\"type\":\"histogram2d\"}],\"histogram\":[{\"marker\":{\"pattern\":{\"fillmode\":\"overlay\",\"size\":10,\"solidity\":0.2}},\"type\":\"histogram\"}],\"mesh3d\":[{\"colorbar\":{\"outlinewidth\":0,\"ticks\":\"\"},\"type\":\"mesh3d\"}],\"parcoords\":[{\"line\":{\"colorbar\":{\"outlinewidth\":0,\"ticks\":\"\"}},\"type\":\"parcoords\"}],\"pie\":[{\"automargin\":true,\"type\":\"pie\"}],\"scatter3d\":[{\"line\":{\"colorbar\":{\"outlinewidth\":0,\"ticks\":\"\"}},\"marker\":{\"colorbar\":{\"outlinewidth\":0,\"ticks\":\"\"}},\"type\":\"scatter3d\"}],\"scattercarpet\":[{\"marker\":{\"colorbar\":{\"outlinewidth\":0,\"ticks\":\"\"}},\"type\":\"scattercarpet\"}],\"scattergeo\":[{\"marker\":{\"colorbar\":{\"outlinewidth\":0,\"ticks\":\"\"}},\"type\":\"scattergeo\"}],\"scattergl\":[{\"marker\":{\"colorbar\":{\"outlinewidth\":0,\"ticks\":\"\"}},\"type\":\"scattergl\"}],\"scattermapbox\":[{\"marker\":{\"colorbar\":{\"outlinewidth\":0,\"ticks\":\"\"}},\"type\":\"scattermapbox\"}],\"scattermap\":[{\"marker\":{\"colorbar\":{\"outlinewidth\":0,\"ticks\":\"\"}},\"type\":\"scattermap\"}],\"scatterpolargl\":[{\"marker\":{\"colorbar\":{\"outlinewidth\":0,\"ticks\":\"\"}},\"type\":\"scatterpolargl\"}],\"scatterpolar\":[{\"marker\":{\"colorbar\":{\"outlinewidth\":0,\"ticks\":\"\"}},\"type\":\"scatterpolar\"}],\"scatter\":[{\"fillpattern\":{\"fillmode\":\"overlay\",\"size\":10,\"solidity\":0.2},\"type\":\"scatter\"}],\"scatterternary\":[{\"marker\":{\"colorbar\":{\"outlinewidth\":0,\"ticks\":\"\"}},\"type\":\"scatterternary\"}],\"surface\":[{\"colorbar\":{\"outlinewidth\":0,\"ticks\":\"\"},\"colorscale\":[[0.0,\"#0d0887\"],[0.1111111111111111,\"#46039f\"],[0.2222222222222222,\"#7201a8\"],[0.3333333333333333,\"#9c179e\"],[0.4444444444444444,\"#bd3786\"],[0.5555555555555556,\"#d8576b\"],[0.6666666666666666,\"#ed7953\"],[0.7777777777777778,\"#fb9f3a\"],[0.8888888888888888,\"#fdca26\"],[1.0,\"#f0f921\"]],\"type\":\"surface\"}],\"table\":[{\"cells\":{\"fill\":{\"color\":\"#EBF0F8\"},\"line\":{\"color\":\"white\"}},\"header\":{\"fill\":{\"color\":\"#C8D4E3\"},\"line\":{\"color\":\"white\"}},\"type\":\"table\"}]},\"layout\":{\"annotationdefaults\":{\"arrowcolor\":\"#2a3f5f\",\"arrowhead\":0,\"arrowwidth\":1},\"autotypenumbers\":\"strict\",\"coloraxis\":{\"colorbar\":{\"outlinewidth\":0,\"ticks\":\"\"}},\"colorscale\":{\"diverging\":[[0,\"#8e0152\"],[0.1,\"#c51b7d\"],[0.2,\"#de77ae\"],[0.3,\"#f1b6da\"],[0.4,\"#fde0ef\"],[0.5,\"#f7f7f7\"],[0.6,\"#e6f5d0\"],[0.7,\"#b8e186\"],[0.8,\"#7fbc41\"],[0.9,\"#4d9221\"],[1,\"#276419\"]],\"sequential\":[[0.0,\"#0d0887\"],[0.1111111111111111,\"#46039f\"],[0.2222222222222222,\"#7201a8\"],[0.3333333333333333,\"#9c179e\"],[0.4444444444444444,\"#bd3786\"],[0.5555555555555556,\"#d8576b\"],[0.6666666666666666,\"#ed7953\"],[0.7777777777777778,\"#fb9f3a\"],[0.8888888888888888,\"#fdca26\"],[1.0,\"#f0f921\"]],\"sequentialminus\":[[0.0,\"#0d0887\"],[0.1111111111111111,\"#46039f\"],[0.2222222222222222,\"#7201a8\"],[0.3333333333333333,\"#9c179e\"],[0.4444444444444444,\"#bd3786\"],[0.5555555555555556,\"#d8576b\"],[0.6666666666666666,\"#ed7953\"],[0.7777777777777778,\"#fb9f3a\"],[0.8888888888888888,\"#fdca26\"],[1.0,\"#f0f921\"]]},\"colorway\":[\"#636efa\",\"#EF553B\",\"#00cc96\",\"#ab63fa\",\"#FFA15A\",\"#19d3f3\",\"#FF6692\",\"#B6E880\",\"#FF97FF\",\"#FECB52\"],\"font\":{\"color\":\"#2a3f5f\"},\"geo\":{\"bgcolor\":\"white\",\"lakecolor\":\"white\",\"landcolor\":\"#E5ECF6\",\"showlakes\":true,\"showland\":true,\"subunitcolor\":\"white\"},\"hoverlabel\":{\"align\":\"left\"},\"hovermode\":\"closest\",\"mapbox\":{\"style\":\"light\"},\"paper_bgcolor\":\"white\",\"plot_bgcolor\":\"#E5ECF6\",\"polar\":{\"angularaxis\":{\"gridcolor\":\"white\",\"linecolor\":\"white\",\"ticks\":\"\"},\"bgcolor\":\"#E5ECF6\",\"radialaxis\":{\"gridcolor\":\"white\",\"linecolor\":\"white\",\"ticks\":\"\"}},\"scene\":{\"xaxis\":{\"backgroundcolor\":\"#E5ECF6\",\"gridcolor\":\"white\",\"gridwidth\":2,\"linecolor\":\"white\",\"showbackground\":true,\"ticks\":\"\",\"zerolinecolor\":\"white\"},\"yaxis\":{\"backgroundcolor\":\"#E5ECF6\",\"gridcolor\":\"white\",\"gridwidth\":2,\"linecolor\":\"white\",\"showbackground\":true,\"ticks\":\"\",\"zerolinecolor\":\"white\"},\"zaxis\":{\"backgroundcolor\":\"#E5ECF6\",\"gridcolor\":\"white\",\"gridwidth\":2,\"linecolor\":\"white\",\"showbackground\":true,\"ticks\":\"\",\"zerolinecolor\":\"white\"}},\"shapedefaults\":{\"line\":{\"color\":\"#2a3f5f\"}},\"ternary\":{\"aaxis\":{\"gridcolor\":\"white\",\"linecolor\":\"white\",\"ticks\":\"\"},\"baxis\":{\"gridcolor\":\"white\",\"linecolor\":\"white\",\"ticks\":\"\"},\"bgcolor\":\"#E5ECF6\",\"caxis\":{\"gridcolor\":\"white\",\"linecolor\":\"white\",\"ticks\":\"\"}},\"title\":{\"x\":0.05},\"xaxis\":{\"automargin\":true,\"gridcolor\":\"white\",\"linecolor\":\"white\",\"ticks\":\"\",\"title\":{\"standoff\":15},\"zerolinecolor\":\"white\",\"zerolinewidth\":2},\"yaxis\":{\"automargin\":true,\"gridcolor\":\"white\",\"linecolor\":\"white\",\"ticks\":\"\",\"title\":{\"standoff\":15},\"zerolinecolor\":\"white\",\"zerolinewidth\":2}}},\"title\":{\"text\":\"\\u0412\\u044b\\u0440\\u0443\\u0447\\u043a\\u0430 \\u043f\\u043e \\u043c\\u0435\\u0441\\u044f\\u0446\\u0430\\u043c \\u0437\\u0430 \\u043f\\u0435\\u0440\\u0438\\u043e\\u0434 \\u0441 2018-10-01 \\u043f\\u043e 2020-01-31\"},\"xaxis\":{\"anchor\":\"y\",\"domain\":[0.0,1.0],\"title\":{\"text\":\"\\u0434\\u0430\\u0442\\u0430\"}},\"yaxis\":{\"anchor\":\"x\",\"domain\":[0.0,1.0],\"title\":{\"text\":\"\\u0432\\u044b\\u0440\\u0443\\u0447\\u043a\\u0430\"}}},                        {\"responsive\": true}                    ).then(function(){\n",
       "                            \n",
       "var gd = document.getElementById('fbfe24c1-faba-47d6-81a2-26a470954594');\n",
       "var x = new MutationObserver(function (mutations, observer) {{\n",
       "        var display = window.getComputedStyle(gd).display;\n",
       "        if (!display || display === 'none') {{\n",
       "            console.log([gd, 'removed!']);\n",
       "            Plotly.purge(gd);\n",
       "            observer.disconnect();\n",
       "        }}\n",
       "}});\n",
       "\n",
       "// Listen for the removal of the full notebook cells\n",
       "var notebookContainer = gd.closest('#notebook-container');\n",
       "if (notebookContainer) {{\n",
       "    x.observe(notebookContainer, {childList: true});\n",
       "}}\n",
       "\n",
       "// Listen for the clearing of the current output cell\n",
       "var outputEl = gd.closest('.output');\n",
       "if (outputEl) {{\n",
       "    x.observe(outputEl, {childList: true});\n",
       "}}\n",
       "\n",
       "                        })                };            </script>        </div>"
      ]
     },
     "metadata": {},
     "output_type": "display_data"
    }
   ],
   "source": [
    "fig = px.line(total_price_dynamic,\n",
    "              x='date_round',\n",
    "              y='revenue',\n",
    "              labels=dict(date_round='дата', revenue='выручка'),\n",
    "              line_shape='spline',\n",
    "              title=f\"Выручка по месяцам за период с {data['date'].min()} по {data['date'].max()}\")\n",
    "\n",
    "fig.update_traces(line_width=6)\n",
    "iplot(fig)"
   ]
  },
  {
   "cell_type": "markdown",
   "metadata": {},
   "source": [
    "Видно  что в апреле и июне высокая выручка - время готовить рассаду и летом высаживать(магазин же товаров для сада и дома)"
   ]
  },
  {
   "cell_type": "markdown",
   "metadata": {},
   "source": [
    "## Средний чек и его динамика"
   ]
  },
  {
   "cell_type": "markdown",
   "metadata": {},
   "source": [
    "Вычислим затем средний чек "
   ]
  },
  {
   "cell_type": "code",
   "execution_count": 84,
   "metadata": {},
   "outputs": [
    {
     "data": {
      "text/html": [
       "<div>\n",
       "<style scoped>\n",
       "    .dataframe tbody tr th:only-of-type {\n",
       "        vertical-align: middle;\n",
       "    }\n",
       "\n",
       "    .dataframe tbody tr th {\n",
       "        vertical-align: top;\n",
       "    }\n",
       "\n",
       "    .dataframe thead th {\n",
       "        text-align: right;\n",
       "    }\n",
       "</style>\n",
       "<table border=\"1\" class=\"dataframe\">\n",
       "  <thead>\n",
       "    <tr style=\"text-align: right;\">\n",
       "      <th></th>\n",
       "      <th>date_round</th>\n",
       "      <th>revenue</th>\n",
       "      <th>count_order</th>\n",
       "      <th>mean_chek</th>\n",
       "    </tr>\n",
       "  </thead>\n",
       "  <tbody>\n",
       "    <tr>\n",
       "      <th>0</th>\n",
       "      <td>2018-10-01</td>\n",
       "      <td>391767.000000</td>\n",
       "      <td>217</td>\n",
       "      <td>1805.0</td>\n",
       "    </tr>\n",
       "    <tr>\n",
       "      <th>1</th>\n",
       "      <td>2018-11-01</td>\n",
       "      <td>346199.000000</td>\n",
       "      <td>185</td>\n",
       "      <td>1871.0</td>\n",
       "    </tr>\n",
       "    <tr>\n",
       "      <th>2</th>\n",
       "      <td>2018-12-01</td>\n",
       "      <td>339076.000000</td>\n",
       "      <td>237</td>\n",
       "      <td>1431.0</td>\n",
       "    </tr>\n",
       "    <tr>\n",
       "      <th>3</th>\n",
       "      <td>2019-01-01</td>\n",
       "      <td>254022.000000</td>\n",
       "      <td>163</td>\n",
       "      <td>1558.0</td>\n",
       "    </tr>\n",
       "    <tr>\n",
       "      <th>4</th>\n",
       "      <td>2019-02-01</td>\n",
       "      <td>290355.000000</td>\n",
       "      <td>260</td>\n",
       "      <td>1117.0</td>\n",
       "    </tr>\n",
       "    <tr>\n",
       "      <th>5</th>\n",
       "      <td>2019-03-01</td>\n",
       "      <td>290353.000000</td>\n",
       "      <td>236</td>\n",
       "      <td>1230.0</td>\n",
       "    </tr>\n",
       "    <tr>\n",
       "      <th>6</th>\n",
       "      <td>2019-04-01</td>\n",
       "      <td>379783.000000</td>\n",
       "      <td>266</td>\n",
       "      <td>1428.0</td>\n",
       "    </tr>\n",
       "    <tr>\n",
       "      <th>7</th>\n",
       "      <td>2019-05-01</td>\n",
       "      <td>301504.000000</td>\n",
       "      <td>180</td>\n",
       "      <td>1675.0</td>\n",
       "    </tr>\n",
       "    <tr>\n",
       "      <th>8</th>\n",
       "      <td>2019-06-01</td>\n",
       "      <td>407945.000000</td>\n",
       "      <td>160</td>\n",
       "      <td>2550.0</td>\n",
       "    </tr>\n",
       "    <tr>\n",
       "      <th>9</th>\n",
       "      <td>2019-07-01</td>\n",
       "      <td>276547.000000</td>\n",
       "      <td>199</td>\n",
       "      <td>1390.0</td>\n",
       "    </tr>\n",
       "    <tr>\n",
       "      <th>10</th>\n",
       "      <td>2019-08-01</td>\n",
       "      <td>197490.000000</td>\n",
       "      <td>174</td>\n",
       "      <td>1135.0</td>\n",
       "    </tr>\n",
       "    <tr>\n",
       "      <th>11</th>\n",
       "      <td>2019-09-01</td>\n",
       "      <td>201467.000000</td>\n",
       "      <td>180</td>\n",
       "      <td>1119.0</td>\n",
       "    </tr>\n",
       "    <tr>\n",
       "      <th>12</th>\n",
       "      <td>2019-10-01</td>\n",
       "      <td>240057.000000</td>\n",
       "      <td>203</td>\n",
       "      <td>1183.0</td>\n",
       "    </tr>\n",
       "    <tr>\n",
       "      <th>13</th>\n",
       "      <td>2019-11-01</td>\n",
       "      <td>128791.750000</td>\n",
       "      <td>217</td>\n",
       "      <td>594.0</td>\n",
       "    </tr>\n",
       "    <tr>\n",
       "      <th>14</th>\n",
       "      <td>2019-12-01</td>\n",
       "      <td>202885.333333</td>\n",
       "      <td>246</td>\n",
       "      <td>825.0</td>\n",
       "    </tr>\n",
       "    <tr>\n",
       "      <th>15</th>\n",
       "      <td>2020-01-01</td>\n",
       "      <td>174036.333333</td>\n",
       "      <td>269</td>\n",
       "      <td>647.0</td>\n",
       "    </tr>\n",
       "  </tbody>\n",
       "</table>\n",
       "</div>"
      ],
      "text/plain": [
       "   date_round        revenue  count_order  mean_chek\n",
       "0  2018-10-01  391767.000000          217     1805.0\n",
       "1  2018-11-01  346199.000000          185     1871.0\n",
       "2  2018-12-01  339076.000000          237     1431.0\n",
       "3  2019-01-01  254022.000000          163     1558.0\n",
       "4  2019-02-01  290355.000000          260     1117.0\n",
       "5  2019-03-01  290353.000000          236     1230.0\n",
       "6  2019-04-01  379783.000000          266     1428.0\n",
       "7  2019-05-01  301504.000000          180     1675.0\n",
       "8  2019-06-01  407945.000000          160     2550.0\n",
       "9  2019-07-01  276547.000000          199     1390.0\n",
       "10 2019-08-01  197490.000000          174     1135.0\n",
       "11 2019-09-01  201467.000000          180     1119.0\n",
       "12 2019-10-01  240057.000000          203     1183.0\n",
       "13 2019-11-01  128791.750000          217      594.0\n",
       "14 2019-12-01  202885.333333          246      825.0\n",
       "15 2020-01-01  174036.333333          269      647.0"
      ]
     },
     "execution_count": 84,
     "metadata": {},
     "output_type": "execute_result"
    }
   ],
   "source": [
    "mean_chek = (data\n",
    "             .groupby('date_round', as_index=False)\n",
    "             .aggregate(\n",
    "                 dict(\n",
    "                     total_price='sum',\n",
    "                     order_id='nunique'\n",
    "                 )\n",
    "             )\n",
    "             .rename(\n",
    "                 columns=dict(\n",
    "                     total_price='revenue',\n",
    "                     order_id='count_order'\n",
    "                 )\n",
    "             )\n",
    "             )\n",
    "\n",
    "mean_chek['mean_chek'] = round(mean_chek['revenue'] / mean_chek['count_order'])\n",
    "mean_chek"
   ]
  },
  {
   "cell_type": "markdown",
   "metadata": {},
   "source": [
    "смотрим через призму времени!"
   ]
  },
  {
   "cell_type": "code",
   "execution_count": 85,
   "metadata": {},
   "outputs": [
    {
     "data": {
      "application/vnd.plotly.v1+json": {
       "config": {
        "linkText": "Export to plot.ly",
        "plotlyServerURL": "https://plot.ly",
        "showLink": false
       },
       "data": [
        {
         "hovertemplate": "дата=%{x}<br>средний чек, руб=%{y}<extra></extra>",
         "legendgroup": "",
         "line": {
          "color": "seagreen",
          "dash": "solid",
          "shape": "spline",
          "width": 6
         },
         "marker": {
          "symbol": "circle"
         },
         "mode": "lines",
         "name": "",
         "orientation": "v",
         "showlegend": false,
         "type": "scatter",
         "x": [
          "2018-10-01T00:00:00.000000000",
          "2018-11-01T00:00:00.000000000",
          "2018-12-01T00:00:00.000000000",
          "2019-01-01T00:00:00.000000000",
          "2019-02-01T00:00:00.000000000",
          "2019-03-01T00:00:00.000000000",
          "2019-04-01T00:00:00.000000000",
          "2019-05-01T00:00:00.000000000",
          "2019-06-01T00:00:00.000000000",
          "2019-07-01T00:00:00.000000000",
          "2019-08-01T00:00:00.000000000",
          "2019-09-01T00:00:00.000000000",
          "2019-10-01T00:00:00.000000000",
          "2019-11-01T00:00:00.000000000",
          "2019-12-01T00:00:00.000000000",
          "2020-01-01T00:00:00.000000000"
         ],
         "xaxis": "x",
         "y": {
          "bdata": "AAAAAAA0nEAAAAAAADydQAAAAAAAXJZAAAAAAABYmEAAAAAAAHSRQAAAAAAAOJNAAAAAAABQlkAAAAAAACyaQAAAAAAA7KNAAAAAAAC4lUAAAAAAALyRQAAAAAAAfJFAAAAAAAB8kkAAAAAAAJCCQAAAAAAAyIlAAAAAAAA4hEA=",
          "dtype": "f8"
         },
         "yaxis": "y"
        }
       ],
       "layout": {
        "legend": {
         "tracegroupgap": 0
        },
        "template": {
         "data": {
          "bar": [
           {
            "error_x": {
             "color": "#2a3f5f"
            },
            "error_y": {
             "color": "#2a3f5f"
            },
            "marker": {
             "line": {
              "color": "#E5ECF6",
              "width": 0.5
             },
             "pattern": {
              "fillmode": "overlay",
              "size": 10,
              "solidity": 0.2
             }
            },
            "type": "bar"
           }
          ],
          "barpolar": [
           {
            "marker": {
             "line": {
              "color": "#E5ECF6",
              "width": 0.5
             },
             "pattern": {
              "fillmode": "overlay",
              "size": 10,
              "solidity": 0.2
             }
            },
            "type": "barpolar"
           }
          ],
          "carpet": [
           {
            "aaxis": {
             "endlinecolor": "#2a3f5f",
             "gridcolor": "white",
             "linecolor": "white",
             "minorgridcolor": "white",
             "startlinecolor": "#2a3f5f"
            },
            "baxis": {
             "endlinecolor": "#2a3f5f",
             "gridcolor": "white",
             "linecolor": "white",
             "minorgridcolor": "white",
             "startlinecolor": "#2a3f5f"
            },
            "type": "carpet"
           }
          ],
          "choropleth": [
           {
            "colorbar": {
             "outlinewidth": 0,
             "ticks": ""
            },
            "type": "choropleth"
           }
          ],
          "contour": [
           {
            "colorbar": {
             "outlinewidth": 0,
             "ticks": ""
            },
            "colorscale": [
             [
              0,
              "#0d0887"
             ],
             [
              0.1111111111111111,
              "#46039f"
             ],
             [
              0.2222222222222222,
              "#7201a8"
             ],
             [
              0.3333333333333333,
              "#9c179e"
             ],
             [
              0.4444444444444444,
              "#bd3786"
             ],
             [
              0.5555555555555556,
              "#d8576b"
             ],
             [
              0.6666666666666666,
              "#ed7953"
             ],
             [
              0.7777777777777778,
              "#fb9f3a"
             ],
             [
              0.8888888888888888,
              "#fdca26"
             ],
             [
              1,
              "#f0f921"
             ]
            ],
            "type": "contour"
           }
          ],
          "contourcarpet": [
           {
            "colorbar": {
             "outlinewidth": 0,
             "ticks": ""
            },
            "type": "contourcarpet"
           }
          ],
          "heatmap": [
           {
            "colorbar": {
             "outlinewidth": 0,
             "ticks": ""
            },
            "colorscale": [
             [
              0,
              "#0d0887"
             ],
             [
              0.1111111111111111,
              "#46039f"
             ],
             [
              0.2222222222222222,
              "#7201a8"
             ],
             [
              0.3333333333333333,
              "#9c179e"
             ],
             [
              0.4444444444444444,
              "#bd3786"
             ],
             [
              0.5555555555555556,
              "#d8576b"
             ],
             [
              0.6666666666666666,
              "#ed7953"
             ],
             [
              0.7777777777777778,
              "#fb9f3a"
             ],
             [
              0.8888888888888888,
              "#fdca26"
             ],
             [
              1,
              "#f0f921"
             ]
            ],
            "type": "heatmap"
           }
          ],
          "histogram": [
           {
            "marker": {
             "pattern": {
              "fillmode": "overlay",
              "size": 10,
              "solidity": 0.2
             }
            },
            "type": "histogram"
           }
          ],
          "histogram2d": [
           {
            "colorbar": {
             "outlinewidth": 0,
             "ticks": ""
            },
            "colorscale": [
             [
              0,
              "#0d0887"
             ],
             [
              0.1111111111111111,
              "#46039f"
             ],
             [
              0.2222222222222222,
              "#7201a8"
             ],
             [
              0.3333333333333333,
              "#9c179e"
             ],
             [
              0.4444444444444444,
              "#bd3786"
             ],
             [
              0.5555555555555556,
              "#d8576b"
             ],
             [
              0.6666666666666666,
              "#ed7953"
             ],
             [
              0.7777777777777778,
              "#fb9f3a"
             ],
             [
              0.8888888888888888,
              "#fdca26"
             ],
             [
              1,
              "#f0f921"
             ]
            ],
            "type": "histogram2d"
           }
          ],
          "histogram2dcontour": [
           {
            "colorbar": {
             "outlinewidth": 0,
             "ticks": ""
            },
            "colorscale": [
             [
              0,
              "#0d0887"
             ],
             [
              0.1111111111111111,
              "#46039f"
             ],
             [
              0.2222222222222222,
              "#7201a8"
             ],
             [
              0.3333333333333333,
              "#9c179e"
             ],
             [
              0.4444444444444444,
              "#bd3786"
             ],
             [
              0.5555555555555556,
              "#d8576b"
             ],
             [
              0.6666666666666666,
              "#ed7953"
             ],
             [
              0.7777777777777778,
              "#fb9f3a"
             ],
             [
              0.8888888888888888,
              "#fdca26"
             ],
             [
              1,
              "#f0f921"
             ]
            ],
            "type": "histogram2dcontour"
           }
          ],
          "mesh3d": [
           {
            "colorbar": {
             "outlinewidth": 0,
             "ticks": ""
            },
            "type": "mesh3d"
           }
          ],
          "parcoords": [
           {
            "line": {
             "colorbar": {
              "outlinewidth": 0,
              "ticks": ""
             }
            },
            "type": "parcoords"
           }
          ],
          "pie": [
           {
            "automargin": true,
            "type": "pie"
           }
          ],
          "scatter": [
           {
            "fillpattern": {
             "fillmode": "overlay",
             "size": 10,
             "solidity": 0.2
            },
            "type": "scatter"
           }
          ],
          "scatter3d": [
           {
            "line": {
             "colorbar": {
              "outlinewidth": 0,
              "ticks": ""
             }
            },
            "marker": {
             "colorbar": {
              "outlinewidth": 0,
              "ticks": ""
             }
            },
            "type": "scatter3d"
           }
          ],
          "scattercarpet": [
           {
            "marker": {
             "colorbar": {
              "outlinewidth": 0,
              "ticks": ""
             }
            },
            "type": "scattercarpet"
           }
          ],
          "scattergeo": [
           {
            "marker": {
             "colorbar": {
              "outlinewidth": 0,
              "ticks": ""
             }
            },
            "type": "scattergeo"
           }
          ],
          "scattergl": [
           {
            "marker": {
             "colorbar": {
              "outlinewidth": 0,
              "ticks": ""
             }
            },
            "type": "scattergl"
           }
          ],
          "scattermap": [
           {
            "marker": {
             "colorbar": {
              "outlinewidth": 0,
              "ticks": ""
             }
            },
            "type": "scattermap"
           }
          ],
          "scattermapbox": [
           {
            "marker": {
             "colorbar": {
              "outlinewidth": 0,
              "ticks": ""
             }
            },
            "type": "scattermapbox"
           }
          ],
          "scatterpolar": [
           {
            "marker": {
             "colorbar": {
              "outlinewidth": 0,
              "ticks": ""
             }
            },
            "type": "scatterpolar"
           }
          ],
          "scatterpolargl": [
           {
            "marker": {
             "colorbar": {
              "outlinewidth": 0,
              "ticks": ""
             }
            },
            "type": "scatterpolargl"
           }
          ],
          "scatterternary": [
           {
            "marker": {
             "colorbar": {
              "outlinewidth": 0,
              "ticks": ""
             }
            },
            "type": "scatterternary"
           }
          ],
          "surface": [
           {
            "colorbar": {
             "outlinewidth": 0,
             "ticks": ""
            },
            "colorscale": [
             [
              0,
              "#0d0887"
             ],
             [
              0.1111111111111111,
              "#46039f"
             ],
             [
              0.2222222222222222,
              "#7201a8"
             ],
             [
              0.3333333333333333,
              "#9c179e"
             ],
             [
              0.4444444444444444,
              "#bd3786"
             ],
             [
              0.5555555555555556,
              "#d8576b"
             ],
             [
              0.6666666666666666,
              "#ed7953"
             ],
             [
              0.7777777777777778,
              "#fb9f3a"
             ],
             [
              0.8888888888888888,
              "#fdca26"
             ],
             [
              1,
              "#f0f921"
             ]
            ],
            "type": "surface"
           }
          ],
          "table": [
           {
            "cells": {
             "fill": {
              "color": "#EBF0F8"
             },
             "line": {
              "color": "white"
             }
            },
            "header": {
             "fill": {
              "color": "#C8D4E3"
             },
             "line": {
              "color": "white"
             }
            },
            "type": "table"
           }
          ]
         },
         "layout": {
          "annotationdefaults": {
           "arrowcolor": "#2a3f5f",
           "arrowhead": 0,
           "arrowwidth": 1
          },
          "autotypenumbers": "strict",
          "coloraxis": {
           "colorbar": {
            "outlinewidth": 0,
            "ticks": ""
           }
          },
          "colorscale": {
           "diverging": [
            [
             0,
             "#8e0152"
            ],
            [
             0.1,
             "#c51b7d"
            ],
            [
             0.2,
             "#de77ae"
            ],
            [
             0.3,
             "#f1b6da"
            ],
            [
             0.4,
             "#fde0ef"
            ],
            [
             0.5,
             "#f7f7f7"
            ],
            [
             0.6,
             "#e6f5d0"
            ],
            [
             0.7,
             "#b8e186"
            ],
            [
             0.8,
             "#7fbc41"
            ],
            [
             0.9,
             "#4d9221"
            ],
            [
             1,
             "#276419"
            ]
           ],
           "sequential": [
            [
             0,
             "#0d0887"
            ],
            [
             0.1111111111111111,
             "#46039f"
            ],
            [
             0.2222222222222222,
             "#7201a8"
            ],
            [
             0.3333333333333333,
             "#9c179e"
            ],
            [
             0.4444444444444444,
             "#bd3786"
            ],
            [
             0.5555555555555556,
             "#d8576b"
            ],
            [
             0.6666666666666666,
             "#ed7953"
            ],
            [
             0.7777777777777778,
             "#fb9f3a"
            ],
            [
             0.8888888888888888,
             "#fdca26"
            ],
            [
             1,
             "#f0f921"
            ]
           ],
           "sequentialminus": [
            [
             0,
             "#0d0887"
            ],
            [
             0.1111111111111111,
             "#46039f"
            ],
            [
             0.2222222222222222,
             "#7201a8"
            ],
            [
             0.3333333333333333,
             "#9c179e"
            ],
            [
             0.4444444444444444,
             "#bd3786"
            ],
            [
             0.5555555555555556,
             "#d8576b"
            ],
            [
             0.6666666666666666,
             "#ed7953"
            ],
            [
             0.7777777777777778,
             "#fb9f3a"
            ],
            [
             0.8888888888888888,
             "#fdca26"
            ],
            [
             1,
             "#f0f921"
            ]
           ]
          },
          "colorway": [
           "#636efa",
           "#EF553B",
           "#00cc96",
           "#ab63fa",
           "#FFA15A",
           "#19d3f3",
           "#FF6692",
           "#B6E880",
           "#FF97FF",
           "#FECB52"
          ],
          "font": {
           "color": "#2a3f5f"
          },
          "geo": {
           "bgcolor": "white",
           "lakecolor": "white",
           "landcolor": "#E5ECF6",
           "showlakes": true,
           "showland": true,
           "subunitcolor": "white"
          },
          "hoverlabel": {
           "align": "left"
          },
          "hovermode": "closest",
          "mapbox": {
           "style": "light"
          },
          "paper_bgcolor": "white",
          "plot_bgcolor": "#E5ECF6",
          "polar": {
           "angularaxis": {
            "gridcolor": "white",
            "linecolor": "white",
            "ticks": ""
           },
           "bgcolor": "#E5ECF6",
           "radialaxis": {
            "gridcolor": "white",
            "linecolor": "white",
            "ticks": ""
           }
          },
          "scene": {
           "xaxis": {
            "backgroundcolor": "#E5ECF6",
            "gridcolor": "white",
            "gridwidth": 2,
            "linecolor": "white",
            "showbackground": true,
            "ticks": "",
            "zerolinecolor": "white"
           },
           "yaxis": {
            "backgroundcolor": "#E5ECF6",
            "gridcolor": "white",
            "gridwidth": 2,
            "linecolor": "white",
            "showbackground": true,
            "ticks": "",
            "zerolinecolor": "white"
           },
           "zaxis": {
            "backgroundcolor": "#E5ECF6",
            "gridcolor": "white",
            "gridwidth": 2,
            "linecolor": "white",
            "showbackground": true,
            "ticks": "",
            "zerolinecolor": "white"
           }
          },
          "shapedefaults": {
           "line": {
            "color": "#2a3f5f"
           }
          },
          "ternary": {
           "aaxis": {
            "gridcolor": "white",
            "linecolor": "white",
            "ticks": ""
           },
           "baxis": {
            "gridcolor": "white",
            "linecolor": "white",
            "ticks": ""
           },
           "bgcolor": "#E5ECF6",
           "caxis": {
            "gridcolor": "white",
            "linecolor": "white",
            "ticks": ""
           }
          },
          "title": {
           "x": 0.05
          },
          "xaxis": {
           "automargin": true,
           "gridcolor": "white",
           "linecolor": "white",
           "ticks": "",
           "title": {
            "standoff": 15
           },
           "zerolinecolor": "white",
           "zerolinewidth": 2
          },
          "yaxis": {
           "automargin": true,
           "gridcolor": "white",
           "linecolor": "white",
           "ticks": "",
           "title": {
            "standoff": 15
           },
           "zerolinecolor": "white",
           "zerolinewidth": 2
          }
         }
        },
        "title": {
         "text": "Динамика среднего чека по месяцам"
        },
        "xaxis": {
         "anchor": "y",
         "domain": [
          0,
          1
         ],
         "title": {
          "text": "дата"
         }
        },
        "yaxis": {
         "anchor": "x",
         "domain": [
          0,
          1
         ],
         "title": {
          "text": "средний чек, руб"
         }
        }
       }
      },
      "text/html": [
       "<div>            <script src=\"https://cdnjs.cloudflare.com/ajax/libs/mathjax/2.7.5/MathJax.js?config=TeX-AMS-MML_SVG\"></script><script type=\"text/javascript\">if (window.MathJax && window.MathJax.Hub && window.MathJax.Hub.Config) {window.MathJax.Hub.Config({SVG: {font: \"STIX-Web\"}});}</script>                <script type=\"text/javascript\">window.PlotlyConfig = {MathJaxConfig: 'local'};</script>\n",
       "        <script charset=\"utf-8\" src=\"https://cdn.plot.ly/plotly-3.0.1.min.js\"></script>                <div id=\"b868804a-7001-46e9-9b2b-55967bd9fa0d\" class=\"plotly-graph-div\" style=\"height:525px; width:100%;\"></div>            <script type=\"text/javascript\">                window.PLOTLYENV=window.PLOTLYENV || {};                                if (document.getElementById(\"b868804a-7001-46e9-9b2b-55967bd9fa0d\")) {                    Plotly.newPlot(                        \"b868804a-7001-46e9-9b2b-55967bd9fa0d\",                        [{\"hovertemplate\":\"\\u0434\\u0430\\u0442\\u0430=%{x}\\u003cbr\\u003e\\u0441\\u0440\\u0435\\u0434\\u043d\\u0438\\u0439 \\u0447\\u0435\\u043a, \\u0440\\u0443\\u0431=%{y}\\u003cextra\\u003e\\u003c\\u002fextra\\u003e\",\"legendgroup\":\"\",\"line\":{\"color\":\"seagreen\",\"dash\":\"solid\",\"shape\":\"spline\",\"width\":6},\"marker\":{\"symbol\":\"circle\"},\"mode\":\"lines\",\"name\":\"\",\"orientation\":\"v\",\"showlegend\":false,\"x\":[\"2018-10-01T00:00:00.000000000\",\"2018-11-01T00:00:00.000000000\",\"2018-12-01T00:00:00.000000000\",\"2019-01-01T00:00:00.000000000\",\"2019-02-01T00:00:00.000000000\",\"2019-03-01T00:00:00.000000000\",\"2019-04-01T00:00:00.000000000\",\"2019-05-01T00:00:00.000000000\",\"2019-06-01T00:00:00.000000000\",\"2019-07-01T00:00:00.000000000\",\"2019-08-01T00:00:00.000000000\",\"2019-09-01T00:00:00.000000000\",\"2019-10-01T00:00:00.000000000\",\"2019-11-01T00:00:00.000000000\",\"2019-12-01T00:00:00.000000000\",\"2020-01-01T00:00:00.000000000\"],\"xaxis\":\"x\",\"y\":{\"dtype\":\"f8\",\"bdata\":\"AAAAAAA0nEAAAAAAADydQAAAAAAAXJZAAAAAAABYmEAAAAAAAHSRQAAAAAAAOJNAAAAAAABQlkAAAAAAACyaQAAAAAAA7KNAAAAAAAC4lUAAAAAAALyRQAAAAAAAfJFAAAAAAAB8kkAAAAAAAJCCQAAAAAAAyIlAAAAAAAA4hEA=\"},\"yaxis\":\"y\",\"type\":\"scatter\"}],                        {\"legend\":{\"tracegroupgap\":0},\"template\":{\"data\":{\"barpolar\":[{\"marker\":{\"line\":{\"color\":\"#E5ECF6\",\"width\":0.5},\"pattern\":{\"fillmode\":\"overlay\",\"size\":10,\"solidity\":0.2}},\"type\":\"barpolar\"}],\"bar\":[{\"error_x\":{\"color\":\"#2a3f5f\"},\"error_y\":{\"color\":\"#2a3f5f\"},\"marker\":{\"line\":{\"color\":\"#E5ECF6\",\"width\":0.5},\"pattern\":{\"fillmode\":\"overlay\",\"size\":10,\"solidity\":0.2}},\"type\":\"bar\"}],\"carpet\":[{\"aaxis\":{\"endlinecolor\":\"#2a3f5f\",\"gridcolor\":\"white\",\"linecolor\":\"white\",\"minorgridcolor\":\"white\",\"startlinecolor\":\"#2a3f5f\"},\"baxis\":{\"endlinecolor\":\"#2a3f5f\",\"gridcolor\":\"white\",\"linecolor\":\"white\",\"minorgridcolor\":\"white\",\"startlinecolor\":\"#2a3f5f\"},\"type\":\"carpet\"}],\"choropleth\":[{\"colorbar\":{\"outlinewidth\":0,\"ticks\":\"\"},\"type\":\"choropleth\"}],\"contourcarpet\":[{\"colorbar\":{\"outlinewidth\":0,\"ticks\":\"\"},\"type\":\"contourcarpet\"}],\"contour\":[{\"colorbar\":{\"outlinewidth\":0,\"ticks\":\"\"},\"colorscale\":[[0.0,\"#0d0887\"],[0.1111111111111111,\"#46039f\"],[0.2222222222222222,\"#7201a8\"],[0.3333333333333333,\"#9c179e\"],[0.4444444444444444,\"#bd3786\"],[0.5555555555555556,\"#d8576b\"],[0.6666666666666666,\"#ed7953\"],[0.7777777777777778,\"#fb9f3a\"],[0.8888888888888888,\"#fdca26\"],[1.0,\"#f0f921\"]],\"type\":\"contour\"}],\"heatmap\":[{\"colorbar\":{\"outlinewidth\":0,\"ticks\":\"\"},\"colorscale\":[[0.0,\"#0d0887\"],[0.1111111111111111,\"#46039f\"],[0.2222222222222222,\"#7201a8\"],[0.3333333333333333,\"#9c179e\"],[0.4444444444444444,\"#bd3786\"],[0.5555555555555556,\"#d8576b\"],[0.6666666666666666,\"#ed7953\"],[0.7777777777777778,\"#fb9f3a\"],[0.8888888888888888,\"#fdca26\"],[1.0,\"#f0f921\"]],\"type\":\"heatmap\"}],\"histogram2dcontour\":[{\"colorbar\":{\"outlinewidth\":0,\"ticks\":\"\"},\"colorscale\":[[0.0,\"#0d0887\"],[0.1111111111111111,\"#46039f\"],[0.2222222222222222,\"#7201a8\"],[0.3333333333333333,\"#9c179e\"],[0.4444444444444444,\"#bd3786\"],[0.5555555555555556,\"#d8576b\"],[0.6666666666666666,\"#ed7953\"],[0.7777777777777778,\"#fb9f3a\"],[0.8888888888888888,\"#fdca26\"],[1.0,\"#f0f921\"]],\"type\":\"histogram2dcontour\"}],\"histogram2d\":[{\"colorbar\":{\"outlinewidth\":0,\"ticks\":\"\"},\"colorscale\":[[0.0,\"#0d0887\"],[0.1111111111111111,\"#46039f\"],[0.2222222222222222,\"#7201a8\"],[0.3333333333333333,\"#9c179e\"],[0.4444444444444444,\"#bd3786\"],[0.5555555555555556,\"#d8576b\"],[0.6666666666666666,\"#ed7953\"],[0.7777777777777778,\"#fb9f3a\"],[0.8888888888888888,\"#fdca26\"],[1.0,\"#f0f921\"]],\"type\":\"histogram2d\"}],\"histogram\":[{\"marker\":{\"pattern\":{\"fillmode\":\"overlay\",\"size\":10,\"solidity\":0.2}},\"type\":\"histogram\"}],\"mesh3d\":[{\"colorbar\":{\"outlinewidth\":0,\"ticks\":\"\"},\"type\":\"mesh3d\"}],\"parcoords\":[{\"line\":{\"colorbar\":{\"outlinewidth\":0,\"ticks\":\"\"}},\"type\":\"parcoords\"}],\"pie\":[{\"automargin\":true,\"type\":\"pie\"}],\"scatter3d\":[{\"line\":{\"colorbar\":{\"outlinewidth\":0,\"ticks\":\"\"}},\"marker\":{\"colorbar\":{\"outlinewidth\":0,\"ticks\":\"\"}},\"type\":\"scatter3d\"}],\"scattercarpet\":[{\"marker\":{\"colorbar\":{\"outlinewidth\":0,\"ticks\":\"\"}},\"type\":\"scattercarpet\"}],\"scattergeo\":[{\"marker\":{\"colorbar\":{\"outlinewidth\":0,\"ticks\":\"\"}},\"type\":\"scattergeo\"}],\"scattergl\":[{\"marker\":{\"colorbar\":{\"outlinewidth\":0,\"ticks\":\"\"}},\"type\":\"scattergl\"}],\"scattermapbox\":[{\"marker\":{\"colorbar\":{\"outlinewidth\":0,\"ticks\":\"\"}},\"type\":\"scattermapbox\"}],\"scattermap\":[{\"marker\":{\"colorbar\":{\"outlinewidth\":0,\"ticks\":\"\"}},\"type\":\"scattermap\"}],\"scatterpolargl\":[{\"marker\":{\"colorbar\":{\"outlinewidth\":0,\"ticks\":\"\"}},\"type\":\"scatterpolargl\"}],\"scatterpolar\":[{\"marker\":{\"colorbar\":{\"outlinewidth\":0,\"ticks\":\"\"}},\"type\":\"scatterpolar\"}],\"scatter\":[{\"fillpattern\":{\"fillmode\":\"overlay\",\"size\":10,\"solidity\":0.2},\"type\":\"scatter\"}],\"scatterternary\":[{\"marker\":{\"colorbar\":{\"outlinewidth\":0,\"ticks\":\"\"}},\"type\":\"scatterternary\"}],\"surface\":[{\"colorbar\":{\"outlinewidth\":0,\"ticks\":\"\"},\"colorscale\":[[0.0,\"#0d0887\"],[0.1111111111111111,\"#46039f\"],[0.2222222222222222,\"#7201a8\"],[0.3333333333333333,\"#9c179e\"],[0.4444444444444444,\"#bd3786\"],[0.5555555555555556,\"#d8576b\"],[0.6666666666666666,\"#ed7953\"],[0.7777777777777778,\"#fb9f3a\"],[0.8888888888888888,\"#fdca26\"],[1.0,\"#f0f921\"]],\"type\":\"surface\"}],\"table\":[{\"cells\":{\"fill\":{\"color\":\"#EBF0F8\"},\"line\":{\"color\":\"white\"}},\"header\":{\"fill\":{\"color\":\"#C8D4E3\"},\"line\":{\"color\":\"white\"}},\"type\":\"table\"}]},\"layout\":{\"annotationdefaults\":{\"arrowcolor\":\"#2a3f5f\",\"arrowhead\":0,\"arrowwidth\":1},\"autotypenumbers\":\"strict\",\"coloraxis\":{\"colorbar\":{\"outlinewidth\":0,\"ticks\":\"\"}},\"colorscale\":{\"diverging\":[[0,\"#8e0152\"],[0.1,\"#c51b7d\"],[0.2,\"#de77ae\"],[0.3,\"#f1b6da\"],[0.4,\"#fde0ef\"],[0.5,\"#f7f7f7\"],[0.6,\"#e6f5d0\"],[0.7,\"#b8e186\"],[0.8,\"#7fbc41\"],[0.9,\"#4d9221\"],[1,\"#276419\"]],\"sequential\":[[0.0,\"#0d0887\"],[0.1111111111111111,\"#46039f\"],[0.2222222222222222,\"#7201a8\"],[0.3333333333333333,\"#9c179e\"],[0.4444444444444444,\"#bd3786\"],[0.5555555555555556,\"#d8576b\"],[0.6666666666666666,\"#ed7953\"],[0.7777777777777778,\"#fb9f3a\"],[0.8888888888888888,\"#fdca26\"],[1.0,\"#f0f921\"]],\"sequentialminus\":[[0.0,\"#0d0887\"],[0.1111111111111111,\"#46039f\"],[0.2222222222222222,\"#7201a8\"],[0.3333333333333333,\"#9c179e\"],[0.4444444444444444,\"#bd3786\"],[0.5555555555555556,\"#d8576b\"],[0.6666666666666666,\"#ed7953\"],[0.7777777777777778,\"#fb9f3a\"],[0.8888888888888888,\"#fdca26\"],[1.0,\"#f0f921\"]]},\"colorway\":[\"#636efa\",\"#EF553B\",\"#00cc96\",\"#ab63fa\",\"#FFA15A\",\"#19d3f3\",\"#FF6692\",\"#B6E880\",\"#FF97FF\",\"#FECB52\"],\"font\":{\"color\":\"#2a3f5f\"},\"geo\":{\"bgcolor\":\"white\",\"lakecolor\":\"white\",\"landcolor\":\"#E5ECF6\",\"showlakes\":true,\"showland\":true,\"subunitcolor\":\"white\"},\"hoverlabel\":{\"align\":\"left\"},\"hovermode\":\"closest\",\"mapbox\":{\"style\":\"light\"},\"paper_bgcolor\":\"white\",\"plot_bgcolor\":\"#E5ECF6\",\"polar\":{\"angularaxis\":{\"gridcolor\":\"white\",\"linecolor\":\"white\",\"ticks\":\"\"},\"bgcolor\":\"#E5ECF6\",\"radialaxis\":{\"gridcolor\":\"white\",\"linecolor\":\"white\",\"ticks\":\"\"}},\"scene\":{\"xaxis\":{\"backgroundcolor\":\"#E5ECF6\",\"gridcolor\":\"white\",\"gridwidth\":2,\"linecolor\":\"white\",\"showbackground\":true,\"ticks\":\"\",\"zerolinecolor\":\"white\"},\"yaxis\":{\"backgroundcolor\":\"#E5ECF6\",\"gridcolor\":\"white\",\"gridwidth\":2,\"linecolor\":\"white\",\"showbackground\":true,\"ticks\":\"\",\"zerolinecolor\":\"white\"},\"zaxis\":{\"backgroundcolor\":\"#E5ECF6\",\"gridcolor\":\"white\",\"gridwidth\":2,\"linecolor\":\"white\",\"showbackground\":true,\"ticks\":\"\",\"zerolinecolor\":\"white\"}},\"shapedefaults\":{\"line\":{\"color\":\"#2a3f5f\"}},\"ternary\":{\"aaxis\":{\"gridcolor\":\"white\",\"linecolor\":\"white\",\"ticks\":\"\"},\"baxis\":{\"gridcolor\":\"white\",\"linecolor\":\"white\",\"ticks\":\"\"},\"bgcolor\":\"#E5ECF6\",\"caxis\":{\"gridcolor\":\"white\",\"linecolor\":\"white\",\"ticks\":\"\"}},\"title\":{\"x\":0.05},\"xaxis\":{\"automargin\":true,\"gridcolor\":\"white\",\"linecolor\":\"white\",\"ticks\":\"\",\"title\":{\"standoff\":15},\"zerolinecolor\":\"white\",\"zerolinewidth\":2},\"yaxis\":{\"automargin\":true,\"gridcolor\":\"white\",\"linecolor\":\"white\",\"ticks\":\"\",\"title\":{\"standoff\":15},\"zerolinecolor\":\"white\",\"zerolinewidth\":2}}},\"title\":{\"text\":\"\\u0414\\u0438\\u043d\\u0430\\u043c\\u0438\\u043a\\u0430 \\u0441\\u0440\\u0435\\u0434\\u043d\\u0435\\u0433\\u043e \\u0447\\u0435\\u043a\\u0430 \\u043f\\u043e \\u043c\\u0435\\u0441\\u044f\\u0446\\u0430\\u043c\"},\"xaxis\":{\"anchor\":\"y\",\"domain\":[0.0,1.0],\"title\":{\"text\":\"\\u0434\\u0430\\u0442\\u0430\"}},\"yaxis\":{\"anchor\":\"x\",\"domain\":[0.0,1.0],\"title\":{\"text\":\"\\u0441\\u0440\\u0435\\u0434\\u043d\\u0438\\u0439 \\u0447\\u0435\\u043a, \\u0440\\u0443\\u0431\"}}},                        {\"responsive\": true}                    ).then(function(){\n",
       "                            \n",
       "var gd = document.getElementById('b868804a-7001-46e9-9b2b-55967bd9fa0d');\n",
       "var x = new MutationObserver(function (mutations, observer) {{\n",
       "        var display = window.getComputedStyle(gd).display;\n",
       "        if (!display || display === 'none') {{\n",
       "            console.log([gd, 'removed!']);\n",
       "            Plotly.purge(gd);\n",
       "            observer.disconnect();\n",
       "        }}\n",
       "}});\n",
       "\n",
       "// Listen for the removal of the full notebook cells\n",
       "var notebookContainer = gd.closest('#notebook-container');\n",
       "if (notebookContainer) {{\n",
       "    x.observe(notebookContainer, {childList: true});\n",
       "}}\n",
       "\n",
       "// Listen for the clearing of the current output cell\n",
       "var outputEl = gd.closest('.output');\n",
       "if (outputEl) {{\n",
       "    x.observe(outputEl, {childList: true});\n",
       "}}\n",
       "\n",
       "                        })                };            </script>        </div>"
      ]
     },
     "metadata": {},
     "output_type": "display_data"
    }
   ],
   "source": [
    "fig = px.line(mean_chek,\n",
    "              x='date_round',\n",
    "              y='mean_chek',\n",
    "              line_shape='spline',\n",
    "              labels=dict(\n",
    "                  date_round='дата',\n",
    "                  mean_chek='средний чек, руб'\n",
    "              ),\n",
    "              title=f\"Динамика среднего чека по месяцам\")\n",
    "\n",
    "fig.update_traces(line_width=6, line_color='seagreen')\n",
    "iplot(fig)"
   ]
  },
  {
   "cell_type": "markdown",
   "metadata": {},
   "source": [
    "отметим что в июне большой чек, а это значит что покупают на большие суммы но за меньшее число заказов."
   ]
  },
  {
   "cell_type": "markdown",
   "metadata": {},
   "source": [
    "## Помесячная динамика средней выручки"
   ]
  },
  {
   "cell_type": "markdown",
   "metadata": {},
   "source": [
    "Рассмотрим тперь помесячную динамику средней выручки с покупателя."
   ]
  },
  {
   "cell_type": "code",
   "execution_count": 86,
   "metadata": {},
   "outputs": [
    {
     "data": {
      "text/html": [
       "<div>\n",
       "<style scoped>\n",
       "    .dataframe tbody tr th:only-of-type {\n",
       "        vertical-align: middle;\n",
       "    }\n",
       "\n",
       "    .dataframe tbody tr th {\n",
       "        vertical-align: top;\n",
       "    }\n",
       "\n",
       "    .dataframe thead th {\n",
       "        text-align: right;\n",
       "    }\n",
       "</style>\n",
       "<table border=\"1\" class=\"dataframe\">\n",
       "  <thead>\n",
       "    <tr style=\"text-align: right;\">\n",
       "      <th></th>\n",
       "      <th>date_round</th>\n",
       "      <th>revenue</th>\n",
       "      <th>count_customer</th>\n",
       "      <th>mean_revenue</th>\n",
       "    </tr>\n",
       "  </thead>\n",
       "  <tbody>\n",
       "    <tr>\n",
       "      <th>0</th>\n",
       "      <td>2018-10-01</td>\n",
       "      <td>391767.000000</td>\n",
       "      <td>178</td>\n",
       "      <td>2201.0</td>\n",
       "    </tr>\n",
       "    <tr>\n",
       "      <th>1</th>\n",
       "      <td>2018-11-01</td>\n",
       "      <td>346199.000000</td>\n",
       "      <td>178</td>\n",
       "      <td>1945.0</td>\n",
       "    </tr>\n",
       "    <tr>\n",
       "      <th>2</th>\n",
       "      <td>2018-12-01</td>\n",
       "      <td>339076.000000</td>\n",
       "      <td>229</td>\n",
       "      <td>1481.0</td>\n",
       "    </tr>\n",
       "    <tr>\n",
       "      <th>3</th>\n",
       "      <td>2019-01-01</td>\n",
       "      <td>254022.000000</td>\n",
       "      <td>152</td>\n",
       "      <td>1671.0</td>\n",
       "    </tr>\n",
       "    <tr>\n",
       "      <th>4</th>\n",
       "      <td>2019-02-01</td>\n",
       "      <td>290355.000000</td>\n",
       "      <td>245</td>\n",
       "      <td>1185.0</td>\n",
       "    </tr>\n",
       "    <tr>\n",
       "      <th>5</th>\n",
       "      <td>2019-03-01</td>\n",
       "      <td>290353.000000</td>\n",
       "      <td>228</td>\n",
       "      <td>1273.0</td>\n",
       "    </tr>\n",
       "    <tr>\n",
       "      <th>6</th>\n",
       "      <td>2019-04-01</td>\n",
       "      <td>379783.000000</td>\n",
       "      <td>237</td>\n",
       "      <td>1602.0</td>\n",
       "    </tr>\n",
       "    <tr>\n",
       "      <th>7</th>\n",
       "      <td>2019-05-01</td>\n",
       "      <td>301504.000000</td>\n",
       "      <td>166</td>\n",
       "      <td>1816.0</td>\n",
       "    </tr>\n",
       "    <tr>\n",
       "      <th>8</th>\n",
       "      <td>2019-06-01</td>\n",
       "      <td>407945.000000</td>\n",
       "      <td>151</td>\n",
       "      <td>2702.0</td>\n",
       "    </tr>\n",
       "    <tr>\n",
       "      <th>9</th>\n",
       "      <td>2019-07-01</td>\n",
       "      <td>276547.000000</td>\n",
       "      <td>187</td>\n",
       "      <td>1479.0</td>\n",
       "    </tr>\n",
       "    <tr>\n",
       "      <th>10</th>\n",
       "      <td>2019-08-01</td>\n",
       "      <td>197490.000000</td>\n",
       "      <td>166</td>\n",
       "      <td>1190.0</td>\n",
       "    </tr>\n",
       "    <tr>\n",
       "      <th>11</th>\n",
       "      <td>2019-09-01</td>\n",
       "      <td>201467.000000</td>\n",
       "      <td>172</td>\n",
       "      <td>1171.0</td>\n",
       "    </tr>\n",
       "    <tr>\n",
       "      <th>12</th>\n",
       "      <td>2019-10-01</td>\n",
       "      <td>240057.000000</td>\n",
       "      <td>174</td>\n",
       "      <td>1380.0</td>\n",
       "    </tr>\n",
       "    <tr>\n",
       "      <th>13</th>\n",
       "      <td>2019-11-01</td>\n",
       "      <td>128791.750000</td>\n",
       "      <td>217</td>\n",
       "      <td>594.0</td>\n",
       "    </tr>\n",
       "    <tr>\n",
       "      <th>14</th>\n",
       "      <td>2019-12-01</td>\n",
       "      <td>202885.333333</td>\n",
       "      <td>246</td>\n",
       "      <td>825.0</td>\n",
       "    </tr>\n",
       "    <tr>\n",
       "      <th>15</th>\n",
       "      <td>2020-01-01</td>\n",
       "      <td>174036.333333</td>\n",
       "      <td>269</td>\n",
       "      <td>647.0</td>\n",
       "    </tr>\n",
       "  </tbody>\n",
       "</table>\n",
       "</div>"
      ],
      "text/plain": [
       "   date_round        revenue  count_customer  mean_revenue\n",
       "0  2018-10-01  391767.000000             178        2201.0\n",
       "1  2018-11-01  346199.000000             178        1945.0\n",
       "2  2018-12-01  339076.000000             229        1481.0\n",
       "3  2019-01-01  254022.000000             152        1671.0\n",
       "4  2019-02-01  290355.000000             245        1185.0\n",
       "5  2019-03-01  290353.000000             228        1273.0\n",
       "6  2019-04-01  379783.000000             237        1602.0\n",
       "7  2019-05-01  301504.000000             166        1816.0\n",
       "8  2019-06-01  407945.000000             151        2702.0\n",
       "9  2019-07-01  276547.000000             187        1479.0\n",
       "10 2019-08-01  197490.000000             166        1190.0\n",
       "11 2019-09-01  201467.000000             172        1171.0\n",
       "12 2019-10-01  240057.000000             174        1380.0\n",
       "13 2019-11-01  128791.750000             217         594.0\n",
       "14 2019-12-01  202885.333333             246         825.0\n",
       "15 2020-01-01  174036.333333             269         647.0"
      ]
     },
     "execution_count": 86,
     "metadata": {},
     "output_type": "execute_result"
    }
   ],
   "source": [
    "revenue_month_dynamic = (data\n",
    "                         .groupby('date_round', as_index=False)\n",
    "                         .aggregate(dict(total_price='sum',\n",
    "\n",
    "                                         customer_id='nunique'))\n",
    "                         .rename(columns=dict(\n",
    "\n",
    "                             total_price='revenue',\n",
    "                             customer_id='count_customer')))\n",
    "\n",
    "\n",
    "\n",
    "revenue_month_dynamic['mean_revenue'] = round(revenue_month_dynamic['revenue'] /\n",
    "                                              revenue_month_dynamic['count_customer'])\n",
    "\n",
    "\n",
    "\n",
    "revenue_month_dynamic"
   ]
  },
  {
   "cell_type": "code",
   "execution_count": 87,
   "metadata": {},
   "outputs": [
    {
     "data": {
      "application/vnd.plotly.v1+json": {
       "config": {
        "linkText": "Export to plot.ly",
        "plotlyServerURL": "https://plot.ly",
        "showLink": false
       },
       "data": [
        {
         "hovertemplate": "дата=%{x}<br>средняя выручка, руб=%{y}<extra></extra>",
         "legendgroup": "",
         "line": {
          "color": "lightseagreen",
          "dash": "solid",
          "shape": "spline",
          "width": 6
         },
         "marker": {
          "symbol": "circle"
         },
         "mode": "lines",
         "name": "",
         "orientation": "v",
         "showlegend": false,
         "type": "scatter",
         "x": [
          "2018-10-01T00:00:00.000000000",
          "2018-11-01T00:00:00.000000000",
          "2018-12-01T00:00:00.000000000",
          "2019-01-01T00:00:00.000000000",
          "2019-02-01T00:00:00.000000000",
          "2019-03-01T00:00:00.000000000",
          "2019-04-01T00:00:00.000000000",
          "2019-05-01T00:00:00.000000000",
          "2019-06-01T00:00:00.000000000",
          "2019-07-01T00:00:00.000000000",
          "2019-08-01T00:00:00.000000000",
          "2019-09-01T00:00:00.000000000",
          "2019-10-01T00:00:00.000000000",
          "2019-11-01T00:00:00.000000000",
          "2019-12-01T00:00:00.000000000",
          "2020-01-01T00:00:00.000000000"
         ],
         "xaxis": "x",
         "y": {
          "bdata": "AAAAAAAyoUAAAAAAAGSeQAAAAAAAJJdAAAAAAAAcmkAAAAAAAISSQAAAAAAA5JNAAAAAAAAImUAAAAAAAGCcQAAAAAAAHKVAAAAAAAAcl0AAAAAAAJiSQAAAAAAATJJAAAAAAACQlUAAAAAAAJCCQAAAAAAAyIlAAAAAAAA4hEA=",
          "dtype": "f8"
         },
         "yaxis": "y"
        }
       ],
       "layout": {
        "legend": {
         "tracegroupgap": 0
        },
        "template": {
         "data": {
          "bar": [
           {
            "error_x": {
             "color": "#2a3f5f"
            },
            "error_y": {
             "color": "#2a3f5f"
            },
            "marker": {
             "line": {
              "color": "#E5ECF6",
              "width": 0.5
             },
             "pattern": {
              "fillmode": "overlay",
              "size": 10,
              "solidity": 0.2
             }
            },
            "type": "bar"
           }
          ],
          "barpolar": [
           {
            "marker": {
             "line": {
              "color": "#E5ECF6",
              "width": 0.5
             },
             "pattern": {
              "fillmode": "overlay",
              "size": 10,
              "solidity": 0.2
             }
            },
            "type": "barpolar"
           }
          ],
          "carpet": [
           {
            "aaxis": {
             "endlinecolor": "#2a3f5f",
             "gridcolor": "white",
             "linecolor": "white",
             "minorgridcolor": "white",
             "startlinecolor": "#2a3f5f"
            },
            "baxis": {
             "endlinecolor": "#2a3f5f",
             "gridcolor": "white",
             "linecolor": "white",
             "minorgridcolor": "white",
             "startlinecolor": "#2a3f5f"
            },
            "type": "carpet"
           }
          ],
          "choropleth": [
           {
            "colorbar": {
             "outlinewidth": 0,
             "ticks": ""
            },
            "type": "choropleth"
           }
          ],
          "contour": [
           {
            "colorbar": {
             "outlinewidth": 0,
             "ticks": ""
            },
            "colorscale": [
             [
              0,
              "#0d0887"
             ],
             [
              0.1111111111111111,
              "#46039f"
             ],
             [
              0.2222222222222222,
              "#7201a8"
             ],
             [
              0.3333333333333333,
              "#9c179e"
             ],
             [
              0.4444444444444444,
              "#bd3786"
             ],
             [
              0.5555555555555556,
              "#d8576b"
             ],
             [
              0.6666666666666666,
              "#ed7953"
             ],
             [
              0.7777777777777778,
              "#fb9f3a"
             ],
             [
              0.8888888888888888,
              "#fdca26"
             ],
             [
              1,
              "#f0f921"
             ]
            ],
            "type": "contour"
           }
          ],
          "contourcarpet": [
           {
            "colorbar": {
             "outlinewidth": 0,
             "ticks": ""
            },
            "type": "contourcarpet"
           }
          ],
          "heatmap": [
           {
            "colorbar": {
             "outlinewidth": 0,
             "ticks": ""
            },
            "colorscale": [
             [
              0,
              "#0d0887"
             ],
             [
              0.1111111111111111,
              "#46039f"
             ],
             [
              0.2222222222222222,
              "#7201a8"
             ],
             [
              0.3333333333333333,
              "#9c179e"
             ],
             [
              0.4444444444444444,
              "#bd3786"
             ],
             [
              0.5555555555555556,
              "#d8576b"
             ],
             [
              0.6666666666666666,
              "#ed7953"
             ],
             [
              0.7777777777777778,
              "#fb9f3a"
             ],
             [
              0.8888888888888888,
              "#fdca26"
             ],
             [
              1,
              "#f0f921"
             ]
            ],
            "type": "heatmap"
           }
          ],
          "histogram": [
           {
            "marker": {
             "pattern": {
              "fillmode": "overlay",
              "size": 10,
              "solidity": 0.2
             }
            },
            "type": "histogram"
           }
          ],
          "histogram2d": [
           {
            "colorbar": {
             "outlinewidth": 0,
             "ticks": ""
            },
            "colorscale": [
             [
              0,
              "#0d0887"
             ],
             [
              0.1111111111111111,
              "#46039f"
             ],
             [
              0.2222222222222222,
              "#7201a8"
             ],
             [
              0.3333333333333333,
              "#9c179e"
             ],
             [
              0.4444444444444444,
              "#bd3786"
             ],
             [
              0.5555555555555556,
              "#d8576b"
             ],
             [
              0.6666666666666666,
              "#ed7953"
             ],
             [
              0.7777777777777778,
              "#fb9f3a"
             ],
             [
              0.8888888888888888,
              "#fdca26"
             ],
             [
              1,
              "#f0f921"
             ]
            ],
            "type": "histogram2d"
           }
          ],
          "histogram2dcontour": [
           {
            "colorbar": {
             "outlinewidth": 0,
             "ticks": ""
            },
            "colorscale": [
             [
              0,
              "#0d0887"
             ],
             [
              0.1111111111111111,
              "#46039f"
             ],
             [
              0.2222222222222222,
              "#7201a8"
             ],
             [
              0.3333333333333333,
              "#9c179e"
             ],
             [
              0.4444444444444444,
              "#bd3786"
             ],
             [
              0.5555555555555556,
              "#d8576b"
             ],
             [
              0.6666666666666666,
              "#ed7953"
             ],
             [
              0.7777777777777778,
              "#fb9f3a"
             ],
             [
              0.8888888888888888,
              "#fdca26"
             ],
             [
              1,
              "#f0f921"
             ]
            ],
            "type": "histogram2dcontour"
           }
          ],
          "mesh3d": [
           {
            "colorbar": {
             "outlinewidth": 0,
             "ticks": ""
            },
            "type": "mesh3d"
           }
          ],
          "parcoords": [
           {
            "line": {
             "colorbar": {
              "outlinewidth": 0,
              "ticks": ""
             }
            },
            "type": "parcoords"
           }
          ],
          "pie": [
           {
            "automargin": true,
            "type": "pie"
           }
          ],
          "scatter": [
           {
            "fillpattern": {
             "fillmode": "overlay",
             "size": 10,
             "solidity": 0.2
            },
            "type": "scatter"
           }
          ],
          "scatter3d": [
           {
            "line": {
             "colorbar": {
              "outlinewidth": 0,
              "ticks": ""
             }
            },
            "marker": {
             "colorbar": {
              "outlinewidth": 0,
              "ticks": ""
             }
            },
            "type": "scatter3d"
           }
          ],
          "scattercarpet": [
           {
            "marker": {
             "colorbar": {
              "outlinewidth": 0,
              "ticks": ""
             }
            },
            "type": "scattercarpet"
           }
          ],
          "scattergeo": [
           {
            "marker": {
             "colorbar": {
              "outlinewidth": 0,
              "ticks": ""
             }
            },
            "type": "scattergeo"
           }
          ],
          "scattergl": [
           {
            "marker": {
             "colorbar": {
              "outlinewidth": 0,
              "ticks": ""
             }
            },
            "type": "scattergl"
           }
          ],
          "scattermap": [
           {
            "marker": {
             "colorbar": {
              "outlinewidth": 0,
              "ticks": ""
             }
            },
            "type": "scattermap"
           }
          ],
          "scattermapbox": [
           {
            "marker": {
             "colorbar": {
              "outlinewidth": 0,
              "ticks": ""
             }
            },
            "type": "scattermapbox"
           }
          ],
          "scatterpolar": [
           {
            "marker": {
             "colorbar": {
              "outlinewidth": 0,
              "ticks": ""
             }
            },
            "type": "scatterpolar"
           }
          ],
          "scatterpolargl": [
           {
            "marker": {
             "colorbar": {
              "outlinewidth": 0,
              "ticks": ""
             }
            },
            "type": "scatterpolargl"
           }
          ],
          "scatterternary": [
           {
            "marker": {
             "colorbar": {
              "outlinewidth": 0,
              "ticks": ""
             }
            },
            "type": "scatterternary"
           }
          ],
          "surface": [
           {
            "colorbar": {
             "outlinewidth": 0,
             "ticks": ""
            },
            "colorscale": [
             [
              0,
              "#0d0887"
             ],
             [
              0.1111111111111111,
              "#46039f"
             ],
             [
              0.2222222222222222,
              "#7201a8"
             ],
             [
              0.3333333333333333,
              "#9c179e"
             ],
             [
              0.4444444444444444,
              "#bd3786"
             ],
             [
              0.5555555555555556,
              "#d8576b"
             ],
             [
              0.6666666666666666,
              "#ed7953"
             ],
             [
              0.7777777777777778,
              "#fb9f3a"
             ],
             [
              0.8888888888888888,
              "#fdca26"
             ],
             [
              1,
              "#f0f921"
             ]
            ],
            "type": "surface"
           }
          ],
          "table": [
           {
            "cells": {
             "fill": {
              "color": "#EBF0F8"
             },
             "line": {
              "color": "white"
             }
            },
            "header": {
             "fill": {
              "color": "#C8D4E3"
             },
             "line": {
              "color": "white"
             }
            },
            "type": "table"
           }
          ]
         },
         "layout": {
          "annotationdefaults": {
           "arrowcolor": "#2a3f5f",
           "arrowhead": 0,
           "arrowwidth": 1
          },
          "autotypenumbers": "strict",
          "coloraxis": {
           "colorbar": {
            "outlinewidth": 0,
            "ticks": ""
           }
          },
          "colorscale": {
           "diverging": [
            [
             0,
             "#8e0152"
            ],
            [
             0.1,
             "#c51b7d"
            ],
            [
             0.2,
             "#de77ae"
            ],
            [
             0.3,
             "#f1b6da"
            ],
            [
             0.4,
             "#fde0ef"
            ],
            [
             0.5,
             "#f7f7f7"
            ],
            [
             0.6,
             "#e6f5d0"
            ],
            [
             0.7,
             "#b8e186"
            ],
            [
             0.8,
             "#7fbc41"
            ],
            [
             0.9,
             "#4d9221"
            ],
            [
             1,
             "#276419"
            ]
           ],
           "sequential": [
            [
             0,
             "#0d0887"
            ],
            [
             0.1111111111111111,
             "#46039f"
            ],
            [
             0.2222222222222222,
             "#7201a8"
            ],
            [
             0.3333333333333333,
             "#9c179e"
            ],
            [
             0.4444444444444444,
             "#bd3786"
            ],
            [
             0.5555555555555556,
             "#d8576b"
            ],
            [
             0.6666666666666666,
             "#ed7953"
            ],
            [
             0.7777777777777778,
             "#fb9f3a"
            ],
            [
             0.8888888888888888,
             "#fdca26"
            ],
            [
             1,
             "#f0f921"
            ]
           ],
           "sequentialminus": [
            [
             0,
             "#0d0887"
            ],
            [
             0.1111111111111111,
             "#46039f"
            ],
            [
             0.2222222222222222,
             "#7201a8"
            ],
            [
             0.3333333333333333,
             "#9c179e"
            ],
            [
             0.4444444444444444,
             "#bd3786"
            ],
            [
             0.5555555555555556,
             "#d8576b"
            ],
            [
             0.6666666666666666,
             "#ed7953"
            ],
            [
             0.7777777777777778,
             "#fb9f3a"
            ],
            [
             0.8888888888888888,
             "#fdca26"
            ],
            [
             1,
             "#f0f921"
            ]
           ]
          },
          "colorway": [
           "#636efa",
           "#EF553B",
           "#00cc96",
           "#ab63fa",
           "#FFA15A",
           "#19d3f3",
           "#FF6692",
           "#B6E880",
           "#FF97FF",
           "#FECB52"
          ],
          "font": {
           "color": "#2a3f5f"
          },
          "geo": {
           "bgcolor": "white",
           "lakecolor": "white",
           "landcolor": "#E5ECF6",
           "showlakes": true,
           "showland": true,
           "subunitcolor": "white"
          },
          "hoverlabel": {
           "align": "left"
          },
          "hovermode": "closest",
          "mapbox": {
           "style": "light"
          },
          "paper_bgcolor": "white",
          "plot_bgcolor": "#E5ECF6",
          "polar": {
           "angularaxis": {
            "gridcolor": "white",
            "linecolor": "white",
            "ticks": ""
           },
           "bgcolor": "#E5ECF6",
           "radialaxis": {
            "gridcolor": "white",
            "linecolor": "white",
            "ticks": ""
           }
          },
          "scene": {
           "xaxis": {
            "backgroundcolor": "#E5ECF6",
            "gridcolor": "white",
            "gridwidth": 2,
            "linecolor": "white",
            "showbackground": true,
            "ticks": "",
            "zerolinecolor": "white"
           },
           "yaxis": {
            "backgroundcolor": "#E5ECF6",
            "gridcolor": "white",
            "gridwidth": 2,
            "linecolor": "white",
            "showbackground": true,
            "ticks": "",
            "zerolinecolor": "white"
           },
           "zaxis": {
            "backgroundcolor": "#E5ECF6",
            "gridcolor": "white",
            "gridwidth": 2,
            "linecolor": "white",
            "showbackground": true,
            "ticks": "",
            "zerolinecolor": "white"
           }
          },
          "shapedefaults": {
           "line": {
            "color": "#2a3f5f"
           }
          },
          "ternary": {
           "aaxis": {
            "gridcolor": "white",
            "linecolor": "white",
            "ticks": ""
           },
           "baxis": {
            "gridcolor": "white",
            "linecolor": "white",
            "ticks": ""
           },
           "bgcolor": "#E5ECF6",
           "caxis": {
            "gridcolor": "white",
            "linecolor": "white",
            "ticks": ""
           }
          },
          "title": {
           "x": 0.05
          },
          "xaxis": {
           "automargin": true,
           "gridcolor": "white",
           "linecolor": "white",
           "ticks": "",
           "title": {
            "standoff": 15
           },
           "zerolinecolor": "white",
           "zerolinewidth": 2
          },
          "yaxis": {
           "automargin": true,
           "gridcolor": "white",
           "linecolor": "white",
           "ticks": "",
           "title": {
            "standoff": 15
           },
           "zerolinecolor": "white",
           "zerolinewidth": 2
          }
         }
        },
        "title": {
         "text": "Динамика средней выручки с покупателя по месяцам"
        },
        "xaxis": {
         "anchor": "y",
         "domain": [
          0,
          1
         ],
         "title": {
          "text": "дата"
         }
        },
        "yaxis": {
         "anchor": "x",
         "domain": [
          0,
          1
         ],
         "title": {
          "text": "средняя выручка, руб"
         }
        }
       }
      },
      "text/html": [
       "<div>            <script src=\"https://cdnjs.cloudflare.com/ajax/libs/mathjax/2.7.5/MathJax.js?config=TeX-AMS-MML_SVG\"></script><script type=\"text/javascript\">if (window.MathJax && window.MathJax.Hub && window.MathJax.Hub.Config) {window.MathJax.Hub.Config({SVG: {font: \"STIX-Web\"}});}</script>                <script type=\"text/javascript\">window.PlotlyConfig = {MathJaxConfig: 'local'};</script>\n",
       "        <script charset=\"utf-8\" src=\"https://cdn.plot.ly/plotly-3.0.1.min.js\"></script>                <div id=\"06bebd06-cd23-42dd-b1fe-ca13762ea8d7\" class=\"plotly-graph-div\" style=\"height:525px; width:100%;\"></div>            <script type=\"text/javascript\">                window.PLOTLYENV=window.PLOTLYENV || {};                                if (document.getElementById(\"06bebd06-cd23-42dd-b1fe-ca13762ea8d7\")) {                    Plotly.newPlot(                        \"06bebd06-cd23-42dd-b1fe-ca13762ea8d7\",                        [{\"hovertemplate\":\"\\u0434\\u0430\\u0442\\u0430=%{x}\\u003cbr\\u003e\\u0441\\u0440\\u0435\\u0434\\u043d\\u044f\\u044f \\u0432\\u044b\\u0440\\u0443\\u0447\\u043a\\u0430, \\u0440\\u0443\\u0431=%{y}\\u003cextra\\u003e\\u003c\\u002fextra\\u003e\",\"legendgroup\":\"\",\"line\":{\"color\":\"lightseagreen\",\"dash\":\"solid\",\"shape\":\"spline\",\"width\":6},\"marker\":{\"symbol\":\"circle\"},\"mode\":\"lines\",\"name\":\"\",\"orientation\":\"v\",\"showlegend\":false,\"x\":[\"2018-10-01T00:00:00.000000000\",\"2018-11-01T00:00:00.000000000\",\"2018-12-01T00:00:00.000000000\",\"2019-01-01T00:00:00.000000000\",\"2019-02-01T00:00:00.000000000\",\"2019-03-01T00:00:00.000000000\",\"2019-04-01T00:00:00.000000000\",\"2019-05-01T00:00:00.000000000\",\"2019-06-01T00:00:00.000000000\",\"2019-07-01T00:00:00.000000000\",\"2019-08-01T00:00:00.000000000\",\"2019-09-01T00:00:00.000000000\",\"2019-10-01T00:00:00.000000000\",\"2019-11-01T00:00:00.000000000\",\"2019-12-01T00:00:00.000000000\",\"2020-01-01T00:00:00.000000000\"],\"xaxis\":\"x\",\"y\":{\"dtype\":\"f8\",\"bdata\":\"AAAAAAAyoUAAAAAAAGSeQAAAAAAAJJdAAAAAAAAcmkAAAAAAAISSQAAAAAAA5JNAAAAAAAAImUAAAAAAAGCcQAAAAAAAHKVAAAAAAAAcl0AAAAAAAJiSQAAAAAAATJJAAAAAAACQlUAAAAAAAJCCQAAAAAAAyIlAAAAAAAA4hEA=\"},\"yaxis\":\"y\",\"type\":\"scatter\"}],                        {\"legend\":{\"tracegroupgap\":0},\"template\":{\"data\":{\"barpolar\":[{\"marker\":{\"line\":{\"color\":\"#E5ECF6\",\"width\":0.5},\"pattern\":{\"fillmode\":\"overlay\",\"size\":10,\"solidity\":0.2}},\"type\":\"barpolar\"}],\"bar\":[{\"error_x\":{\"color\":\"#2a3f5f\"},\"error_y\":{\"color\":\"#2a3f5f\"},\"marker\":{\"line\":{\"color\":\"#E5ECF6\",\"width\":0.5},\"pattern\":{\"fillmode\":\"overlay\",\"size\":10,\"solidity\":0.2}},\"type\":\"bar\"}],\"carpet\":[{\"aaxis\":{\"endlinecolor\":\"#2a3f5f\",\"gridcolor\":\"white\",\"linecolor\":\"white\",\"minorgridcolor\":\"white\",\"startlinecolor\":\"#2a3f5f\"},\"baxis\":{\"endlinecolor\":\"#2a3f5f\",\"gridcolor\":\"white\",\"linecolor\":\"white\",\"minorgridcolor\":\"white\",\"startlinecolor\":\"#2a3f5f\"},\"type\":\"carpet\"}],\"choropleth\":[{\"colorbar\":{\"outlinewidth\":0,\"ticks\":\"\"},\"type\":\"choropleth\"}],\"contourcarpet\":[{\"colorbar\":{\"outlinewidth\":0,\"ticks\":\"\"},\"type\":\"contourcarpet\"}],\"contour\":[{\"colorbar\":{\"outlinewidth\":0,\"ticks\":\"\"},\"colorscale\":[[0.0,\"#0d0887\"],[0.1111111111111111,\"#46039f\"],[0.2222222222222222,\"#7201a8\"],[0.3333333333333333,\"#9c179e\"],[0.4444444444444444,\"#bd3786\"],[0.5555555555555556,\"#d8576b\"],[0.6666666666666666,\"#ed7953\"],[0.7777777777777778,\"#fb9f3a\"],[0.8888888888888888,\"#fdca26\"],[1.0,\"#f0f921\"]],\"type\":\"contour\"}],\"heatmap\":[{\"colorbar\":{\"outlinewidth\":0,\"ticks\":\"\"},\"colorscale\":[[0.0,\"#0d0887\"],[0.1111111111111111,\"#46039f\"],[0.2222222222222222,\"#7201a8\"],[0.3333333333333333,\"#9c179e\"],[0.4444444444444444,\"#bd3786\"],[0.5555555555555556,\"#d8576b\"],[0.6666666666666666,\"#ed7953\"],[0.7777777777777778,\"#fb9f3a\"],[0.8888888888888888,\"#fdca26\"],[1.0,\"#f0f921\"]],\"type\":\"heatmap\"}],\"histogram2dcontour\":[{\"colorbar\":{\"outlinewidth\":0,\"ticks\":\"\"},\"colorscale\":[[0.0,\"#0d0887\"],[0.1111111111111111,\"#46039f\"],[0.2222222222222222,\"#7201a8\"],[0.3333333333333333,\"#9c179e\"],[0.4444444444444444,\"#bd3786\"],[0.5555555555555556,\"#d8576b\"],[0.6666666666666666,\"#ed7953\"],[0.7777777777777778,\"#fb9f3a\"],[0.8888888888888888,\"#fdca26\"],[1.0,\"#f0f921\"]],\"type\":\"histogram2dcontour\"}],\"histogram2d\":[{\"colorbar\":{\"outlinewidth\":0,\"ticks\":\"\"},\"colorscale\":[[0.0,\"#0d0887\"],[0.1111111111111111,\"#46039f\"],[0.2222222222222222,\"#7201a8\"],[0.3333333333333333,\"#9c179e\"],[0.4444444444444444,\"#bd3786\"],[0.5555555555555556,\"#d8576b\"],[0.6666666666666666,\"#ed7953\"],[0.7777777777777778,\"#fb9f3a\"],[0.8888888888888888,\"#fdca26\"],[1.0,\"#f0f921\"]],\"type\":\"histogram2d\"}],\"histogram\":[{\"marker\":{\"pattern\":{\"fillmode\":\"overlay\",\"size\":10,\"solidity\":0.2}},\"type\":\"histogram\"}],\"mesh3d\":[{\"colorbar\":{\"outlinewidth\":0,\"ticks\":\"\"},\"type\":\"mesh3d\"}],\"parcoords\":[{\"line\":{\"colorbar\":{\"outlinewidth\":0,\"ticks\":\"\"}},\"type\":\"parcoords\"}],\"pie\":[{\"automargin\":true,\"type\":\"pie\"}],\"scatter3d\":[{\"line\":{\"colorbar\":{\"outlinewidth\":0,\"ticks\":\"\"}},\"marker\":{\"colorbar\":{\"outlinewidth\":0,\"ticks\":\"\"}},\"type\":\"scatter3d\"}],\"scattercarpet\":[{\"marker\":{\"colorbar\":{\"outlinewidth\":0,\"ticks\":\"\"}},\"type\":\"scattercarpet\"}],\"scattergeo\":[{\"marker\":{\"colorbar\":{\"outlinewidth\":0,\"ticks\":\"\"}},\"type\":\"scattergeo\"}],\"scattergl\":[{\"marker\":{\"colorbar\":{\"outlinewidth\":0,\"ticks\":\"\"}},\"type\":\"scattergl\"}],\"scattermapbox\":[{\"marker\":{\"colorbar\":{\"outlinewidth\":0,\"ticks\":\"\"}},\"type\":\"scattermapbox\"}],\"scattermap\":[{\"marker\":{\"colorbar\":{\"outlinewidth\":0,\"ticks\":\"\"}},\"type\":\"scattermap\"}],\"scatterpolargl\":[{\"marker\":{\"colorbar\":{\"outlinewidth\":0,\"ticks\":\"\"}},\"type\":\"scatterpolargl\"}],\"scatterpolar\":[{\"marker\":{\"colorbar\":{\"outlinewidth\":0,\"ticks\":\"\"}},\"type\":\"scatterpolar\"}],\"scatter\":[{\"fillpattern\":{\"fillmode\":\"overlay\",\"size\":10,\"solidity\":0.2},\"type\":\"scatter\"}],\"scatterternary\":[{\"marker\":{\"colorbar\":{\"outlinewidth\":0,\"ticks\":\"\"}},\"type\":\"scatterternary\"}],\"surface\":[{\"colorbar\":{\"outlinewidth\":0,\"ticks\":\"\"},\"colorscale\":[[0.0,\"#0d0887\"],[0.1111111111111111,\"#46039f\"],[0.2222222222222222,\"#7201a8\"],[0.3333333333333333,\"#9c179e\"],[0.4444444444444444,\"#bd3786\"],[0.5555555555555556,\"#d8576b\"],[0.6666666666666666,\"#ed7953\"],[0.7777777777777778,\"#fb9f3a\"],[0.8888888888888888,\"#fdca26\"],[1.0,\"#f0f921\"]],\"type\":\"surface\"}],\"table\":[{\"cells\":{\"fill\":{\"color\":\"#EBF0F8\"},\"line\":{\"color\":\"white\"}},\"header\":{\"fill\":{\"color\":\"#C8D4E3\"},\"line\":{\"color\":\"white\"}},\"type\":\"table\"}]},\"layout\":{\"annotationdefaults\":{\"arrowcolor\":\"#2a3f5f\",\"arrowhead\":0,\"arrowwidth\":1},\"autotypenumbers\":\"strict\",\"coloraxis\":{\"colorbar\":{\"outlinewidth\":0,\"ticks\":\"\"}},\"colorscale\":{\"diverging\":[[0,\"#8e0152\"],[0.1,\"#c51b7d\"],[0.2,\"#de77ae\"],[0.3,\"#f1b6da\"],[0.4,\"#fde0ef\"],[0.5,\"#f7f7f7\"],[0.6,\"#e6f5d0\"],[0.7,\"#b8e186\"],[0.8,\"#7fbc41\"],[0.9,\"#4d9221\"],[1,\"#276419\"]],\"sequential\":[[0.0,\"#0d0887\"],[0.1111111111111111,\"#46039f\"],[0.2222222222222222,\"#7201a8\"],[0.3333333333333333,\"#9c179e\"],[0.4444444444444444,\"#bd3786\"],[0.5555555555555556,\"#d8576b\"],[0.6666666666666666,\"#ed7953\"],[0.7777777777777778,\"#fb9f3a\"],[0.8888888888888888,\"#fdca26\"],[1.0,\"#f0f921\"]],\"sequentialminus\":[[0.0,\"#0d0887\"],[0.1111111111111111,\"#46039f\"],[0.2222222222222222,\"#7201a8\"],[0.3333333333333333,\"#9c179e\"],[0.4444444444444444,\"#bd3786\"],[0.5555555555555556,\"#d8576b\"],[0.6666666666666666,\"#ed7953\"],[0.7777777777777778,\"#fb9f3a\"],[0.8888888888888888,\"#fdca26\"],[1.0,\"#f0f921\"]]},\"colorway\":[\"#636efa\",\"#EF553B\",\"#00cc96\",\"#ab63fa\",\"#FFA15A\",\"#19d3f3\",\"#FF6692\",\"#B6E880\",\"#FF97FF\",\"#FECB52\"],\"font\":{\"color\":\"#2a3f5f\"},\"geo\":{\"bgcolor\":\"white\",\"lakecolor\":\"white\",\"landcolor\":\"#E5ECF6\",\"showlakes\":true,\"showland\":true,\"subunitcolor\":\"white\"},\"hoverlabel\":{\"align\":\"left\"},\"hovermode\":\"closest\",\"mapbox\":{\"style\":\"light\"},\"paper_bgcolor\":\"white\",\"plot_bgcolor\":\"#E5ECF6\",\"polar\":{\"angularaxis\":{\"gridcolor\":\"white\",\"linecolor\":\"white\",\"ticks\":\"\"},\"bgcolor\":\"#E5ECF6\",\"radialaxis\":{\"gridcolor\":\"white\",\"linecolor\":\"white\",\"ticks\":\"\"}},\"scene\":{\"xaxis\":{\"backgroundcolor\":\"#E5ECF6\",\"gridcolor\":\"white\",\"gridwidth\":2,\"linecolor\":\"white\",\"showbackground\":true,\"ticks\":\"\",\"zerolinecolor\":\"white\"},\"yaxis\":{\"backgroundcolor\":\"#E5ECF6\",\"gridcolor\":\"white\",\"gridwidth\":2,\"linecolor\":\"white\",\"showbackground\":true,\"ticks\":\"\",\"zerolinecolor\":\"white\"},\"zaxis\":{\"backgroundcolor\":\"#E5ECF6\",\"gridcolor\":\"white\",\"gridwidth\":2,\"linecolor\":\"white\",\"showbackground\":true,\"ticks\":\"\",\"zerolinecolor\":\"white\"}},\"shapedefaults\":{\"line\":{\"color\":\"#2a3f5f\"}},\"ternary\":{\"aaxis\":{\"gridcolor\":\"white\",\"linecolor\":\"white\",\"ticks\":\"\"},\"baxis\":{\"gridcolor\":\"white\",\"linecolor\":\"white\",\"ticks\":\"\"},\"bgcolor\":\"#E5ECF6\",\"caxis\":{\"gridcolor\":\"white\",\"linecolor\":\"white\",\"ticks\":\"\"}},\"title\":{\"x\":0.05},\"xaxis\":{\"automargin\":true,\"gridcolor\":\"white\",\"linecolor\":\"white\",\"ticks\":\"\",\"title\":{\"standoff\":15},\"zerolinecolor\":\"white\",\"zerolinewidth\":2},\"yaxis\":{\"automargin\":true,\"gridcolor\":\"white\",\"linecolor\":\"white\",\"ticks\":\"\",\"title\":{\"standoff\":15},\"zerolinecolor\":\"white\",\"zerolinewidth\":2}}},\"title\":{\"text\":\"\\u0414\\u0438\\u043d\\u0430\\u043c\\u0438\\u043a\\u0430 \\u0441\\u0440\\u0435\\u0434\\u043d\\u0435\\u0439 \\u0432\\u044b\\u0440\\u0443\\u0447\\u043a\\u0438 \\u0441 \\u043f\\u043e\\u043a\\u0443\\u043f\\u0430\\u0442\\u0435\\u043b\\u044f \\u043f\\u043e \\u043c\\u0435\\u0441\\u044f\\u0446\\u0430\\u043c\"},\"xaxis\":{\"anchor\":\"y\",\"domain\":[0.0,1.0],\"title\":{\"text\":\"\\u0434\\u0430\\u0442\\u0430\"}},\"yaxis\":{\"anchor\":\"x\",\"domain\":[0.0,1.0],\"title\":{\"text\":\"\\u0441\\u0440\\u0435\\u0434\\u043d\\u044f\\u044f \\u0432\\u044b\\u0440\\u0443\\u0447\\u043a\\u0430, \\u0440\\u0443\\u0431\"}}},                        {\"responsive\": true}                    ).then(function(){\n",
       "                            \n",
       "var gd = document.getElementById('06bebd06-cd23-42dd-b1fe-ca13762ea8d7');\n",
       "var x = new MutationObserver(function (mutations, observer) {{\n",
       "        var display = window.getComputedStyle(gd).display;\n",
       "        if (!display || display === 'none') {{\n",
       "            console.log([gd, 'removed!']);\n",
       "            Plotly.purge(gd);\n",
       "            observer.disconnect();\n",
       "        }}\n",
       "}});\n",
       "\n",
       "// Listen for the removal of the full notebook cells\n",
       "var notebookContainer = gd.closest('#notebook-container');\n",
       "if (notebookContainer) {{\n",
       "    x.observe(notebookContainer, {childList: true});\n",
       "}}\n",
       "\n",
       "// Listen for the clearing of the current output cell\n",
       "var outputEl = gd.closest('.output');\n",
       "if (outputEl) {{\n",
       "    x.observe(outputEl, {childList: true});\n",
       "}}\n",
       "\n",
       "                        })                };            </script>        </div>"
      ]
     },
     "metadata": {},
     "output_type": "display_data"
    }
   ],
   "source": [
    "fig = px.line(revenue_month_dynamic,\n",
    "              x='date_round',\n",
    "              y='mean_revenue',\n",
    "              line_shape='spline',\n",
    "              labels=dict(date_round='дата',\n",
    "                          mean_revenue='средняя выручка, руб'),\n",
    "              title=f\"Динамика средней выручки с покупателя по месяцам\")\n",
    "\n",
    "fig.update_traces(line_width=6, line_color='lightseagreen')\n",
    "iplot(fig)"
   ]
  },
  {
   "cell_type": "markdown",
   "metadata": {},
   "source": [
    "в Июне 2019 средняя выручка высокая - значит закупаются клиенты которые знакомы с интернет-магазиноом и знают что покупать в этолт месяц ."
   ]
  },
  {
   "cell_type": "markdown",
   "metadata": {},
   "source": [
    "## Сегментация покупателей на основе истории покупок"
   ]
  },
  {
   "cell_type": "markdown",
   "metadata": {},
   "source": [
    "Выполним сегментацию пользователей на основе истории их покупок при помощи RFM анализа"
   ]
  },
  {
   "cell_type": "markdown",
   "metadata": {},
   "source": [
    "Необходимое для этого метода: \n",
    "-  давность покупки,    \n",
    "-  количество покупок,    \n",
    "- сумма покупок"
   ]
  },
  {
   "cell_type": "markdown",
   "metadata": {},
   "source": [
    "Для начала созданим таблицу пользователей с первой и последней датой покупки , числом заказов, и стоимостью заказа"
   ]
  },
  {
   "cell_type": "code",
   "execution_count": 88,
   "metadata": {},
   "outputs": [
    {
     "data": {
      "text/html": [
       "<div>\n",
       "<style scoped>\n",
       "    .dataframe tbody tr th:only-of-type {\n",
       "        vertical-align: middle;\n",
       "    }\n",
       "\n",
       "    .dataframe tbody tr th {\n",
       "        vertical-align: top;\n",
       "    }\n",
       "\n",
       "    .dataframe thead th {\n",
       "        text-align: right;\n",
       "    }\n",
       "</style>\n",
       "<table border=\"1\" class=\"dataframe\">\n",
       "  <thead>\n",
       "    <tr style=\"text-align: right;\">\n",
       "      <th></th>\n",
       "      <th>customer_id</th>\n",
       "      <th>last_date</th>\n",
       "      <th>count_orders</th>\n",
       "      <th>revenue</th>\n",
       "    </tr>\n",
       "  </thead>\n",
       "  <tbody>\n",
       "    <tr>\n",
       "      <th>0</th>\n",
       "      <td>000d6849-084e-4d9f-ac03-37174eaf60c4</td>\n",
       "      <td>2019-10-16</td>\n",
       "      <td>1</td>\n",
       "      <td>555.0</td>\n",
       "    </tr>\n",
       "    <tr>\n",
       "      <th>1</th>\n",
       "      <td>001cee7f-0b29-4716-b202-0042213ab038</td>\n",
       "      <td>2019-02-16</td>\n",
       "      <td>1</td>\n",
       "      <td>442.0</td>\n",
       "    </tr>\n",
       "    <tr>\n",
       "      <th>2</th>\n",
       "      <td>00299f34-5385-4d13-9aea-c80b81658e1b</td>\n",
       "      <td>2019-10-14</td>\n",
       "      <td>1</td>\n",
       "      <td>914.0</td>\n",
       "    </tr>\n",
       "    <tr>\n",
       "      <th>3</th>\n",
       "      <td>002d4d3a-4a59-406b-86ec-c3314357e498</td>\n",
       "      <td>2019-01-27</td>\n",
       "      <td>1</td>\n",
       "      <td>1649.0</td>\n",
       "    </tr>\n",
       "    <tr>\n",
       "      <th>4</th>\n",
       "      <td>003bbd39-0000-41ff-b7f9-2ddaec152037</td>\n",
       "      <td>2019-09-29</td>\n",
       "      <td>1</td>\n",
       "      <td>2324.0</td>\n",
       "    </tr>\n",
       "  </tbody>\n",
       "</table>\n",
       "</div>"
      ],
      "text/plain": [
       "                            customer_id   last_date  count_orders  revenue\n",
       "0  000d6849-084e-4d9f-ac03-37174eaf60c4  2019-10-16             1    555.0\n",
       "1  001cee7f-0b29-4716-b202-0042213ab038  2019-02-16             1    442.0\n",
       "2  00299f34-5385-4d13-9aea-c80b81658e1b  2019-10-14             1    914.0\n",
       "3  002d4d3a-4a59-406b-86ec-c3314357e498  2019-01-27             1   1649.0\n",
       "4  003bbd39-0000-41ff-b7f9-2ddaec152037  2019-09-29             1   2324.0"
      ]
     },
     "execution_count": 88,
     "metadata": {},
     "output_type": "execute_result"
    }
   ],
   "source": [
    "table_customer = (data\n",
    "                  .groupby('customer_id', as_index=False)\n",
    "                  .aggregate(dict(date='max',\n",
    "\n",
    "                                  order_id='nunique',\n",
    "\n",
    "                                  total_price='sum')))\n",
    "\n",
    "\n",
    "table_customer.rename(columns=dict(date='last_date',\n",
    "                                   order_id='count_orders',\n",
    "\n",
    "                                   total_price='revenue'), inplace=True)\n",
    "\n",
    "\n",
    "table_customer.head()"
   ]
  },
  {
   "cell_type": "markdown",
   "metadata": {},
   "source": [
    "Запишем в данную таблицу сколько дней назад была провденена последняя покупка. "
   ]
  },
  {
   "cell_type": "code",
   "execution_count": 89,
   "metadata": {},
   "outputs": [
    {
     "name": "stdout",
     "output_type": "stream",
     "text": [
      "Датой отсчета берем самую последнюю дату - 2020-01-31\n"
     ]
    }
   ],
   "source": [
    "start_date = data['date'].max()\n",
    "print('Датой отсчета берем самую последнюю дату -', start_date)"
   ]
  },
  {
   "cell_type": "code",
   "execution_count": 90,
   "metadata": {},
   "outputs": [
    {
     "data": {
      "text/html": [
       "<div>\n",
       "<style scoped>\n",
       "    .dataframe tbody tr th:only-of-type {\n",
       "        vertical-align: middle;\n",
       "    }\n",
       "\n",
       "    .dataframe tbody tr th {\n",
       "        vertical-align: top;\n",
       "    }\n",
       "\n",
       "    .dataframe thead th {\n",
       "        text-align: right;\n",
       "    }\n",
       "</style>\n",
       "<table border=\"1\" class=\"dataframe\">\n",
       "  <thead>\n",
       "    <tr style=\"text-align: right;\">\n",
       "      <th></th>\n",
       "      <th>customer_id</th>\n",
       "      <th>last_date</th>\n",
       "      <th>count_orders</th>\n",
       "      <th>revenue</th>\n",
       "      <th>delta_date</th>\n",
       "    </tr>\n",
       "  </thead>\n",
       "  <tbody>\n",
       "    <tr>\n",
       "      <th>0</th>\n",
       "      <td>000d6849-084e-4d9f-ac03-37174eaf60c4</td>\n",
       "      <td>2019-10-16</td>\n",
       "      <td>1</td>\n",
       "      <td>555.0</td>\n",
       "      <td>107 days</td>\n",
       "    </tr>\n",
       "    <tr>\n",
       "      <th>1</th>\n",
       "      <td>001cee7f-0b29-4716-b202-0042213ab038</td>\n",
       "      <td>2019-02-16</td>\n",
       "      <td>1</td>\n",
       "      <td>442.0</td>\n",
       "      <td>349 days</td>\n",
       "    </tr>\n",
       "    <tr>\n",
       "      <th>2</th>\n",
       "      <td>00299f34-5385-4d13-9aea-c80b81658e1b</td>\n",
       "      <td>2019-10-14</td>\n",
       "      <td>1</td>\n",
       "      <td>914.0</td>\n",
       "      <td>109 days</td>\n",
       "    </tr>\n",
       "    <tr>\n",
       "      <th>3</th>\n",
       "      <td>002d4d3a-4a59-406b-86ec-c3314357e498</td>\n",
       "      <td>2019-01-27</td>\n",
       "      <td>1</td>\n",
       "      <td>1649.0</td>\n",
       "      <td>369 days</td>\n",
       "    </tr>\n",
       "    <tr>\n",
       "      <th>4</th>\n",
       "      <td>003bbd39-0000-41ff-b7f9-2ddaec152037</td>\n",
       "      <td>2019-09-29</td>\n",
       "      <td>1</td>\n",
       "      <td>2324.0</td>\n",
       "      <td>124 days</td>\n",
       "    </tr>\n",
       "  </tbody>\n",
       "</table>\n",
       "</div>"
      ],
      "text/plain": [
       "                            customer_id   last_date  count_orders  revenue  \\\n",
       "0  000d6849-084e-4d9f-ac03-37174eaf60c4  2019-10-16             1    555.0   \n",
       "1  001cee7f-0b29-4716-b202-0042213ab038  2019-02-16             1    442.0   \n",
       "2  00299f34-5385-4d13-9aea-c80b81658e1b  2019-10-14             1    914.0   \n",
       "3  002d4d3a-4a59-406b-86ec-c3314357e498  2019-01-27             1   1649.0   \n",
       "4  003bbd39-0000-41ff-b7f9-2ddaec152037  2019-09-29             1   2324.0   \n",
       "\n",
       "  delta_date  \n",
       "0   107 days  \n",
       "1   349 days  \n",
       "2   109 days  \n",
       "3   369 days  \n",
       "4   124 days  "
      ]
     },
     "execution_count": 90,
     "metadata": {},
     "output_type": "execute_result"
    }
   ],
   "source": [
    "table_customer['delta_date'] = (table_customer['last_date']\n",
    "                                .apply(lambda x:\n",
    "                                       pd.to_timedelta(start_date - x)\n",
    "                                       )\n",
    "                                )\n",
    "\n",
    "\n",
    "table_customer.head()"
   ]
  },
  {
   "cell_type": "code",
   "execution_count": 91,
   "metadata": {},
   "outputs": [
    {
     "data": {
      "text/plain": [
       "customer_id              object\n",
       "last_date                object\n",
       "count_orders              int64\n",
       "revenue                 float64\n",
       "delta_date      timedelta64[ns]\n",
       "dtype: object"
      ]
     },
     "execution_count": 91,
     "metadata": {},
     "output_type": "execute_result"
    }
   ],
   "source": [
    "table_customer.dtypes"
   ]
  },
  {
   "cell_type": "markdown",
   "metadata": {},
   "source": [
    "Так как данные типа `timedelta64` могут возвращать в перцентилях не дни а секунды то окончательно превратим разницу дат в дни как число для удобных вычислений"
   ]
  },
  {
   "cell_type": "code",
   "execution_count": 92,
   "metadata": {},
   "outputs": [
    {
     "data": {
      "text/plain": [
       "customer_id      object\n",
       "last_date        object\n",
       "count_orders      int64\n",
       "revenue         float64\n",
       "delta_date        int64\n",
       "dtype: object"
      ]
     },
     "execution_count": 92,
     "metadata": {},
     "output_type": "execute_result"
    }
   ],
   "source": [
    "table_customer['delta_date'] = table_customer['delta_date'].dt.days\n",
    "table_customer.dtypes"
   ]
  },
  {
   "cell_type": "markdown",
   "metadata": {},
   "source": [
    "**Проранжируем клиентов следующим образом**   \n",
    "\n",
    "Ранжирование по давности  \n",
    " - 1- клиенты, покупавшие очень давно  \n",
    " - 2 - относительно недавние клиенты\n",
    " - 3 - только пришедшие клиенты\n",
    "\n",
    " Ранжирование по частоте покупок   \n",
    " - 1- клиенты, совершившие очень мало покупок   \n",
    " - 2 - клиент, крайне редко покупающий\n",
    " - 3 - постоянный покупатель\n",
    "\n",
    " Ранжирование по сумме покупки   \n",
    " - 1- небольшая сумма покупки  \n",
    " - 2 - средние затраты\n",
    " - 3 - крупная сумма, потраченная клиентом"
   ]
  },
  {
   "cell_type": "markdown",
   "metadata": {},
   "source": [
    "Границы значений для рангов определим через перцентили"
   ]
  },
  {
   "cell_type": "code",
   "execution_count": 93,
   "metadata": {},
   "outputs": [],
   "source": [
    "bounds = [33, 66]"
   ]
  },
  {
   "cell_type": "code",
   "execution_count": 94,
   "metadata": {},
   "outputs": [
    {
     "name": "stdout",
     "output_type": "stream",
     "text": [
      "Границы дней последней покупки: 103.0 и 298.0\n",
      "Границы количества заказов: 1.0 и 2.0\n",
      "Границы суммы покупки: 562.0 и 1496.0\n"
     ]
    }
   ],
   "source": [
    "\n",
    "bounds_delta_days = np.percentile(table_customer['delta_date'], bounds)\n",
    "print(\n",
    "    f'Границы дней последней покупки: {bounds_delta_days[0]} и {bounds_delta_days[1]}')\n",
    "\n",
    "bounds_orders = np.percentile(table_customer['count_orders'], bounds)\n",
    "print(f'Границы количества заказов: {bounds_orders[0]} и {bounds_orders[1]}')\n",
    "\n",
    "\n",
    "bounds_revenue = np.percentile(table_customer['revenue'], bounds)\n",
    "print(f'Границы суммы покупки: {bounds_revenue[0]} и {bounds_revenue[1]}')"
   ]
  },
  {
   "cell_type": "markdown",
   "metadata": {},
   "source": [
    "Запишем каждый ранг для каждого пользователля в своем столбце"
   ]
  },
  {
   "cell_type": "markdown",
   "metadata": {},
   "source": [
    "Ранжирование по давности:"
   ]
  },
  {
   "cell_type": "code",
   "execution_count": 95,
   "metadata": {},
   "outputs": [
    {
     "data": {
      "text/html": [
       "<div>\n",
       "<style scoped>\n",
       "    .dataframe tbody tr th:only-of-type {\n",
       "        vertical-align: middle;\n",
       "    }\n",
       "\n",
       "    .dataframe tbody tr th {\n",
       "        vertical-align: top;\n",
       "    }\n",
       "\n",
       "    .dataframe thead th {\n",
       "        text-align: right;\n",
       "    }\n",
       "</style>\n",
       "<table border=\"1\" class=\"dataframe\">\n",
       "  <thead>\n",
       "    <tr style=\"text-align: right;\">\n",
       "      <th></th>\n",
       "      <th>customer_id</th>\n",
       "      <th>last_date</th>\n",
       "      <th>count_orders</th>\n",
       "      <th>revenue</th>\n",
       "      <th>delta_date</th>\n",
       "      <th>range_r</th>\n",
       "    </tr>\n",
       "  </thead>\n",
       "  <tbody>\n",
       "    <tr>\n",
       "      <th>0</th>\n",
       "      <td>000d6849-084e-4d9f-ac03-37174eaf60c4</td>\n",
       "      <td>2019-10-16</td>\n",
       "      <td>1</td>\n",
       "      <td>555.0</td>\n",
       "      <td>107</td>\n",
       "      <td>2</td>\n",
       "    </tr>\n",
       "    <tr>\n",
       "      <th>1</th>\n",
       "      <td>001cee7f-0b29-4716-b202-0042213ab038</td>\n",
       "      <td>2019-02-16</td>\n",
       "      <td>1</td>\n",
       "      <td>442.0</td>\n",
       "      <td>349</td>\n",
       "      <td>1</td>\n",
       "    </tr>\n",
       "    <tr>\n",
       "      <th>2</th>\n",
       "      <td>00299f34-5385-4d13-9aea-c80b81658e1b</td>\n",
       "      <td>2019-10-14</td>\n",
       "      <td>1</td>\n",
       "      <td>914.0</td>\n",
       "      <td>109</td>\n",
       "      <td>2</td>\n",
       "    </tr>\n",
       "    <tr>\n",
       "      <th>3</th>\n",
       "      <td>002d4d3a-4a59-406b-86ec-c3314357e498</td>\n",
       "      <td>2019-01-27</td>\n",
       "      <td>1</td>\n",
       "      <td>1649.0</td>\n",
       "      <td>369</td>\n",
       "      <td>1</td>\n",
       "    </tr>\n",
       "    <tr>\n",
       "      <th>4</th>\n",
       "      <td>003bbd39-0000-41ff-b7f9-2ddaec152037</td>\n",
       "      <td>2019-09-29</td>\n",
       "      <td>1</td>\n",
       "      <td>2324.0</td>\n",
       "      <td>124</td>\n",
       "      <td>2</td>\n",
       "    </tr>\n",
       "  </tbody>\n",
       "</table>\n",
       "</div>"
      ],
      "text/plain": [
       "                            customer_id   last_date  count_orders  revenue  \\\n",
       "0  000d6849-084e-4d9f-ac03-37174eaf60c4  2019-10-16             1    555.0   \n",
       "1  001cee7f-0b29-4716-b202-0042213ab038  2019-02-16             1    442.0   \n",
       "2  00299f34-5385-4d13-9aea-c80b81658e1b  2019-10-14             1    914.0   \n",
       "3  002d4d3a-4a59-406b-86ec-c3314357e498  2019-01-27             1   1649.0   \n",
       "4  003bbd39-0000-41ff-b7f9-2ddaec152037  2019-09-29             1   2324.0   \n",
       "\n",
       "   delta_date range_r  \n",
       "0         107       2  \n",
       "1         349       1  \n",
       "2         109       2  \n",
       "3         369       1  \n",
       "4         124       2  "
      ]
     },
     "execution_count": 95,
     "metadata": {},
     "output_type": "execute_result"
    }
   ],
   "source": [
    "table_customer['range_r'] = np.where(\n",
    "    table_customer['delta_date'] <= bounds_delta_days[0],\n",
    "    '3',\n",
    "    np.where(\n",
    "        table_customer['delta_date'] > bounds_delta_days[1],\n",
    "        '1',\n",
    "        '2'\n",
    "    )\n",
    ")\n",
    "\n",
    "\n",
    "table_customer.head()"
   ]
  },
  {
   "cell_type": "markdown",
   "metadata": {},
   "source": [
    "Ранжирование по количеству заказов:"
   ]
  },
  {
   "cell_type": "code",
   "execution_count": 96,
   "metadata": {},
   "outputs": [
    {
     "data": {
      "text/html": [
       "<div>\n",
       "<style scoped>\n",
       "    .dataframe tbody tr th:only-of-type {\n",
       "        vertical-align: middle;\n",
       "    }\n",
       "\n",
       "    .dataframe tbody tr th {\n",
       "        vertical-align: top;\n",
       "    }\n",
       "\n",
       "    .dataframe thead th {\n",
       "        text-align: right;\n",
       "    }\n",
       "</style>\n",
       "<table border=\"1\" class=\"dataframe\">\n",
       "  <thead>\n",
       "    <tr style=\"text-align: right;\">\n",
       "      <th></th>\n",
       "      <th>customer_id</th>\n",
       "      <th>last_date</th>\n",
       "      <th>count_orders</th>\n",
       "      <th>revenue</th>\n",
       "      <th>delta_date</th>\n",
       "      <th>range_r</th>\n",
       "      <th>range_f</th>\n",
       "    </tr>\n",
       "  </thead>\n",
       "  <tbody>\n",
       "    <tr>\n",
       "      <th>0</th>\n",
       "      <td>000d6849-084e-4d9f-ac03-37174eaf60c4</td>\n",
       "      <td>2019-10-16</td>\n",
       "      <td>1</td>\n",
       "      <td>555.0</td>\n",
       "      <td>107</td>\n",
       "      <td>2</td>\n",
       "      <td>1</td>\n",
       "    </tr>\n",
       "    <tr>\n",
       "      <th>1</th>\n",
       "      <td>001cee7f-0b29-4716-b202-0042213ab038</td>\n",
       "      <td>2019-02-16</td>\n",
       "      <td>1</td>\n",
       "      <td>442.0</td>\n",
       "      <td>349</td>\n",
       "      <td>1</td>\n",
       "      <td>1</td>\n",
       "    </tr>\n",
       "    <tr>\n",
       "      <th>2</th>\n",
       "      <td>00299f34-5385-4d13-9aea-c80b81658e1b</td>\n",
       "      <td>2019-10-14</td>\n",
       "      <td>1</td>\n",
       "      <td>914.0</td>\n",
       "      <td>109</td>\n",
       "      <td>2</td>\n",
       "      <td>1</td>\n",
       "    </tr>\n",
       "    <tr>\n",
       "      <th>3</th>\n",
       "      <td>002d4d3a-4a59-406b-86ec-c3314357e498</td>\n",
       "      <td>2019-01-27</td>\n",
       "      <td>1</td>\n",
       "      <td>1649.0</td>\n",
       "      <td>369</td>\n",
       "      <td>1</td>\n",
       "      <td>1</td>\n",
       "    </tr>\n",
       "    <tr>\n",
       "      <th>4</th>\n",
       "      <td>003bbd39-0000-41ff-b7f9-2ddaec152037</td>\n",
       "      <td>2019-09-29</td>\n",
       "      <td>1</td>\n",
       "      <td>2324.0</td>\n",
       "      <td>124</td>\n",
       "      <td>2</td>\n",
       "      <td>1</td>\n",
       "    </tr>\n",
       "  </tbody>\n",
       "</table>\n",
       "</div>"
      ],
      "text/plain": [
       "                            customer_id   last_date  count_orders  revenue  \\\n",
       "0  000d6849-084e-4d9f-ac03-37174eaf60c4  2019-10-16             1    555.0   \n",
       "1  001cee7f-0b29-4716-b202-0042213ab038  2019-02-16             1    442.0   \n",
       "2  00299f34-5385-4d13-9aea-c80b81658e1b  2019-10-14             1    914.0   \n",
       "3  002d4d3a-4a59-406b-86ec-c3314357e498  2019-01-27             1   1649.0   \n",
       "4  003bbd39-0000-41ff-b7f9-2ddaec152037  2019-09-29             1   2324.0   \n",
       "\n",
       "   delta_date range_r range_f  \n",
       "0         107       2       1  \n",
       "1         349       1       1  \n",
       "2         109       2       1  \n",
       "3         369       1       1  \n",
       "4         124       2       1  "
      ]
     },
     "execution_count": 96,
     "metadata": {},
     "output_type": "execute_result"
    }
   ],
   "source": [
    "table_customer['range_f'] = (np.where(\n",
    "    table_customer['count_orders'] <= bounds_orders[0],\n",
    "    '1',\n",
    "    np.where(table_customer['count_orders'] > bounds_orders[1], '3', '2')))\n",
    "\n",
    "table_customer.head()"
   ]
  },
  {
   "cell_type": "markdown",
   "metadata": {},
   "source": [
    "Ранжирование по сумме заказов:"
   ]
  },
  {
   "cell_type": "code",
   "execution_count": 97,
   "metadata": {},
   "outputs": [
    {
     "data": {
      "text/html": [
       "<div>\n",
       "<style scoped>\n",
       "    .dataframe tbody tr th:only-of-type {\n",
       "        vertical-align: middle;\n",
       "    }\n",
       "\n",
       "    .dataframe tbody tr th {\n",
       "        vertical-align: top;\n",
       "    }\n",
       "\n",
       "    .dataframe thead th {\n",
       "        text-align: right;\n",
       "    }\n",
       "</style>\n",
       "<table border=\"1\" class=\"dataframe\">\n",
       "  <thead>\n",
       "    <tr style=\"text-align: right;\">\n",
       "      <th></th>\n",
       "      <th>customer_id</th>\n",
       "      <th>last_date</th>\n",
       "      <th>count_orders</th>\n",
       "      <th>revenue</th>\n",
       "      <th>delta_date</th>\n",
       "      <th>range_r</th>\n",
       "      <th>range_f</th>\n",
       "      <th>range_m</th>\n",
       "    </tr>\n",
       "  </thead>\n",
       "  <tbody>\n",
       "    <tr>\n",
       "      <th>0</th>\n",
       "      <td>000d6849-084e-4d9f-ac03-37174eaf60c4</td>\n",
       "      <td>2019-10-16</td>\n",
       "      <td>1</td>\n",
       "      <td>555.0</td>\n",
       "      <td>107</td>\n",
       "      <td>2</td>\n",
       "      <td>1</td>\n",
       "      <td>1</td>\n",
       "    </tr>\n",
       "    <tr>\n",
       "      <th>1</th>\n",
       "      <td>001cee7f-0b29-4716-b202-0042213ab038</td>\n",
       "      <td>2019-02-16</td>\n",
       "      <td>1</td>\n",
       "      <td>442.0</td>\n",
       "      <td>349</td>\n",
       "      <td>1</td>\n",
       "      <td>1</td>\n",
       "      <td>1</td>\n",
       "    </tr>\n",
       "    <tr>\n",
       "      <th>2</th>\n",
       "      <td>00299f34-5385-4d13-9aea-c80b81658e1b</td>\n",
       "      <td>2019-10-14</td>\n",
       "      <td>1</td>\n",
       "      <td>914.0</td>\n",
       "      <td>109</td>\n",
       "      <td>2</td>\n",
       "      <td>1</td>\n",
       "      <td>2</td>\n",
       "    </tr>\n",
       "    <tr>\n",
       "      <th>3</th>\n",
       "      <td>002d4d3a-4a59-406b-86ec-c3314357e498</td>\n",
       "      <td>2019-01-27</td>\n",
       "      <td>1</td>\n",
       "      <td>1649.0</td>\n",
       "      <td>369</td>\n",
       "      <td>1</td>\n",
       "      <td>1</td>\n",
       "      <td>3</td>\n",
       "    </tr>\n",
       "    <tr>\n",
       "      <th>4</th>\n",
       "      <td>003bbd39-0000-41ff-b7f9-2ddaec152037</td>\n",
       "      <td>2019-09-29</td>\n",
       "      <td>1</td>\n",
       "      <td>2324.0</td>\n",
       "      <td>124</td>\n",
       "      <td>2</td>\n",
       "      <td>1</td>\n",
       "      <td>3</td>\n",
       "    </tr>\n",
       "  </tbody>\n",
       "</table>\n",
       "</div>"
      ],
      "text/plain": [
       "                            customer_id   last_date  count_orders  revenue  \\\n",
       "0  000d6849-084e-4d9f-ac03-37174eaf60c4  2019-10-16             1    555.0   \n",
       "1  001cee7f-0b29-4716-b202-0042213ab038  2019-02-16             1    442.0   \n",
       "2  00299f34-5385-4d13-9aea-c80b81658e1b  2019-10-14             1    914.0   \n",
       "3  002d4d3a-4a59-406b-86ec-c3314357e498  2019-01-27             1   1649.0   \n",
       "4  003bbd39-0000-41ff-b7f9-2ddaec152037  2019-09-29             1   2324.0   \n",
       "\n",
       "   delta_date range_r range_f range_m  \n",
       "0         107       2       1       1  \n",
       "1         349       1       1       1  \n",
       "2         109       2       1       2  \n",
       "3         369       1       1       3  \n",
       "4         124       2       1       3  "
      ]
     },
     "execution_count": 97,
     "metadata": {},
     "output_type": "execute_result"
    }
   ],
   "source": [
    "table_customer['range_m'] = (np.where(\n",
    "    table_customer['revenue'] <= bounds_revenue[0],\n",
    "    '1',\n",
    "    np.where(table_customer['revenue'] > bounds_revenue[1], '3', '2')))\n",
    "\n",
    "table_customer.head()"
   ]
  },
  {
   "cell_type": "markdown",
   "metadata": {},
   "source": [
    "Теперь собирем всю оценку  RFM воедино из соотвествующих столбцов `range_r`, `range_f`, `range_m`"
   ]
  },
  {
   "cell_type": "code",
   "execution_count": 98,
   "metadata": {},
   "outputs": [
    {
     "data": {
      "text/html": [
       "<div>\n",
       "<style scoped>\n",
       "    .dataframe tbody tr th:only-of-type {\n",
       "        vertical-align: middle;\n",
       "    }\n",
       "\n",
       "    .dataframe tbody tr th {\n",
       "        vertical-align: top;\n",
       "    }\n",
       "\n",
       "    .dataframe thead th {\n",
       "        text-align: right;\n",
       "    }\n",
       "</style>\n",
       "<table border=\"1\" class=\"dataframe\">\n",
       "  <thead>\n",
       "    <tr style=\"text-align: right;\">\n",
       "      <th></th>\n",
       "      <th>customer_id</th>\n",
       "      <th>last_date</th>\n",
       "      <th>count_orders</th>\n",
       "      <th>revenue</th>\n",
       "      <th>delta_date</th>\n",
       "      <th>range_r</th>\n",
       "      <th>range_f</th>\n",
       "      <th>range_m</th>\n",
       "      <th>group</th>\n",
       "    </tr>\n",
       "  </thead>\n",
       "  <tbody>\n",
       "    <tr>\n",
       "      <th>0</th>\n",
       "      <td>000d6849-084e-4d9f-ac03-37174eaf60c4</td>\n",
       "      <td>2019-10-16</td>\n",
       "      <td>1</td>\n",
       "      <td>555.0</td>\n",
       "      <td>107</td>\n",
       "      <td>2</td>\n",
       "      <td>1</td>\n",
       "      <td>1</td>\n",
       "      <td>211</td>\n",
       "    </tr>\n",
       "    <tr>\n",
       "      <th>1</th>\n",
       "      <td>001cee7f-0b29-4716-b202-0042213ab038</td>\n",
       "      <td>2019-02-16</td>\n",
       "      <td>1</td>\n",
       "      <td>442.0</td>\n",
       "      <td>349</td>\n",
       "      <td>1</td>\n",
       "      <td>1</td>\n",
       "      <td>1</td>\n",
       "      <td>111</td>\n",
       "    </tr>\n",
       "    <tr>\n",
       "      <th>2</th>\n",
       "      <td>00299f34-5385-4d13-9aea-c80b81658e1b</td>\n",
       "      <td>2019-10-14</td>\n",
       "      <td>1</td>\n",
       "      <td>914.0</td>\n",
       "      <td>109</td>\n",
       "      <td>2</td>\n",
       "      <td>1</td>\n",
       "      <td>2</td>\n",
       "      <td>212</td>\n",
       "    </tr>\n",
       "    <tr>\n",
       "      <th>3</th>\n",
       "      <td>002d4d3a-4a59-406b-86ec-c3314357e498</td>\n",
       "      <td>2019-01-27</td>\n",
       "      <td>1</td>\n",
       "      <td>1649.0</td>\n",
       "      <td>369</td>\n",
       "      <td>1</td>\n",
       "      <td>1</td>\n",
       "      <td>3</td>\n",
       "      <td>113</td>\n",
       "    </tr>\n",
       "    <tr>\n",
       "      <th>4</th>\n",
       "      <td>003bbd39-0000-41ff-b7f9-2ddaec152037</td>\n",
       "      <td>2019-09-29</td>\n",
       "      <td>1</td>\n",
       "      <td>2324.0</td>\n",
       "      <td>124</td>\n",
       "      <td>2</td>\n",
       "      <td>1</td>\n",
       "      <td>3</td>\n",
       "      <td>213</td>\n",
       "    </tr>\n",
       "  </tbody>\n",
       "</table>\n",
       "</div>"
      ],
      "text/plain": [
       "                            customer_id   last_date  count_orders  revenue  \\\n",
       "0  000d6849-084e-4d9f-ac03-37174eaf60c4  2019-10-16             1    555.0   \n",
       "1  001cee7f-0b29-4716-b202-0042213ab038  2019-02-16             1    442.0   \n",
       "2  00299f34-5385-4d13-9aea-c80b81658e1b  2019-10-14             1    914.0   \n",
       "3  002d4d3a-4a59-406b-86ec-c3314357e498  2019-01-27             1   1649.0   \n",
       "4  003bbd39-0000-41ff-b7f9-2ddaec152037  2019-09-29             1   2324.0   \n",
       "\n",
       "   delta_date range_r range_f range_m group  \n",
       "0         107       2       1       1   211  \n",
       "1         349       1       1       1   111  \n",
       "2         109       2       1       2   212  \n",
       "3         369       1       1       3   113  \n",
       "4         124       2       1       3   213  "
      ]
     },
     "execution_count": 98,
     "metadata": {},
     "output_type": "execute_result"
    }
   ],
   "source": [
    "table_customer['group'] = (table_customer[['range_r', 'range_f', 'range_m']]\n",
    "                           .apply(lambda x:\n",
    "                                  ''.join(x),\n",
    "                                  axis=1\n",
    "                                  )\n",
    "                           )\n",
    "\n",
    "\n",
    "table_customer.head()"
   ]
  },
  {
   "cell_type": "markdown",
   "metadata": {},
   "source": [
    "Распределим теперь их по трем большим группам - оценки больше 300 относятся к группе 3 , оценки от 200 до 300 -> 2 группа и остальные в 1 группу. За рязряд сотен отвечает оценка `range_r` - ее и применим для распределния по группам - так быстрее"
   ]
  },
  {
   "cell_type": "code",
   "execution_count": 99,
   "metadata": {},
   "outputs": [
    {
     "data": {
      "text/html": [
       "<div>\n",
       "<style scoped>\n",
       "    .dataframe tbody tr th:only-of-type {\n",
       "        vertical-align: middle;\n",
       "    }\n",
       "\n",
       "    .dataframe tbody tr th {\n",
       "        vertical-align: top;\n",
       "    }\n",
       "\n",
       "    .dataframe thead th {\n",
       "        text-align: right;\n",
       "    }\n",
       "</style>\n",
       "<table border=\"1\" class=\"dataframe\">\n",
       "  <thead>\n",
       "    <tr style=\"text-align: right;\">\n",
       "      <th></th>\n",
       "      <th>customer_id</th>\n",
       "      <th>last_date</th>\n",
       "      <th>count_orders</th>\n",
       "      <th>revenue</th>\n",
       "      <th>delta_date</th>\n",
       "      <th>range_r</th>\n",
       "      <th>range_f</th>\n",
       "      <th>range_m</th>\n",
       "      <th>group</th>\n",
       "      <th>major_group</th>\n",
       "    </tr>\n",
       "  </thead>\n",
       "  <tbody>\n",
       "    <tr>\n",
       "      <th>0</th>\n",
       "      <td>000d6849-084e-4d9f-ac03-37174eaf60c4</td>\n",
       "      <td>2019-10-16</td>\n",
       "      <td>1</td>\n",
       "      <td>555.0</td>\n",
       "      <td>107</td>\n",
       "      <td>2</td>\n",
       "      <td>1</td>\n",
       "      <td>1</td>\n",
       "      <td>211</td>\n",
       "      <td>group_2</td>\n",
       "    </tr>\n",
       "    <tr>\n",
       "      <th>1</th>\n",
       "      <td>001cee7f-0b29-4716-b202-0042213ab038</td>\n",
       "      <td>2019-02-16</td>\n",
       "      <td>1</td>\n",
       "      <td>442.0</td>\n",
       "      <td>349</td>\n",
       "      <td>1</td>\n",
       "      <td>1</td>\n",
       "      <td>1</td>\n",
       "      <td>111</td>\n",
       "      <td>group_1</td>\n",
       "    </tr>\n",
       "    <tr>\n",
       "      <th>2</th>\n",
       "      <td>00299f34-5385-4d13-9aea-c80b81658e1b</td>\n",
       "      <td>2019-10-14</td>\n",
       "      <td>1</td>\n",
       "      <td>914.0</td>\n",
       "      <td>109</td>\n",
       "      <td>2</td>\n",
       "      <td>1</td>\n",
       "      <td>2</td>\n",
       "      <td>212</td>\n",
       "      <td>group_2</td>\n",
       "    </tr>\n",
       "    <tr>\n",
       "      <th>3</th>\n",
       "      <td>002d4d3a-4a59-406b-86ec-c3314357e498</td>\n",
       "      <td>2019-01-27</td>\n",
       "      <td>1</td>\n",
       "      <td>1649.0</td>\n",
       "      <td>369</td>\n",
       "      <td>1</td>\n",
       "      <td>1</td>\n",
       "      <td>3</td>\n",
       "      <td>113</td>\n",
       "      <td>group_1</td>\n",
       "    </tr>\n",
       "    <tr>\n",
       "      <th>4</th>\n",
       "      <td>003bbd39-0000-41ff-b7f9-2ddaec152037</td>\n",
       "      <td>2019-09-29</td>\n",
       "      <td>1</td>\n",
       "      <td>2324.0</td>\n",
       "      <td>124</td>\n",
       "      <td>2</td>\n",
       "      <td>1</td>\n",
       "      <td>3</td>\n",
       "      <td>213</td>\n",
       "      <td>group_2</td>\n",
       "    </tr>\n",
       "  </tbody>\n",
       "</table>\n",
       "</div>"
      ],
      "text/plain": [
       "                            customer_id   last_date  count_orders  revenue  \\\n",
       "0  000d6849-084e-4d9f-ac03-37174eaf60c4  2019-10-16             1    555.0   \n",
       "1  001cee7f-0b29-4716-b202-0042213ab038  2019-02-16             1    442.0   \n",
       "2  00299f34-5385-4d13-9aea-c80b81658e1b  2019-10-14             1    914.0   \n",
       "3  002d4d3a-4a59-406b-86ec-c3314357e498  2019-01-27             1   1649.0   \n",
       "4  003bbd39-0000-41ff-b7f9-2ddaec152037  2019-09-29             1   2324.0   \n",
       "\n",
       "   delta_date range_r range_f range_m group major_group  \n",
       "0         107       2       1       1   211     group_2  \n",
       "1         349       1       1       1   111     group_1  \n",
       "2         109       2       1       2   212     group_2  \n",
       "3         369       1       1       3   113     group_1  \n",
       "4         124       2       1       3   213     group_2  "
      ]
     },
     "execution_count": 99,
     "metadata": {},
     "output_type": "execute_result"
    }
   ],
   "source": [
    "table_customer['major_group'] = (table_customer['range_r']\n",
    "                                 .apply(lambda x:\n",
    "                                        'group_' + x))\n",
    "\n",
    "table_customer.head()"
   ]
  },
  {
   "cell_type": "markdown",
   "metadata": {},
   "source": [
    "### Число пользователей"
   ]
  },
  {
   "cell_type": "markdown",
   "metadata": {},
   "source": [
    "Посмотрим на чмсло пользователей в группах RFM"
   ]
  },
  {
   "cell_type": "code",
   "execution_count": 100,
   "metadata": {},
   "outputs": [],
   "source": [
    "q = (table_customer['group']\n",
    "     .value_counts()\n",
    "     .reset_index()\n",
    "     .sort_values('group', ascending=False))"
   ]
  },
  {
   "cell_type": "code",
   "execution_count": 101,
   "metadata": {},
   "outputs": [
    {
     "ename": "ValueError",
     "evalue": "Value of 'x' is not the name of a column in 'data_frame'. Expected one of ['group', 'count'] but received: index\n To use the index, pass it in directly as `df.index`.",
     "output_type": "error",
     "traceback": [
      "\u001b[0;31m---------------------------------------------------------------------------\u001b[0m",
      "\u001b[0;31mValueError\u001b[0m                                Traceback (most recent call last)",
      "Cell \u001b[0;32mIn[101], line 1\u001b[0m\n\u001b[0;32m----> 1\u001b[0m fig \u001b[38;5;241m=\u001b[39m \u001b[43mpx\u001b[49m\u001b[38;5;241;43m.\u001b[39;49m\u001b[43mbar\u001b[49m\u001b[43m(\u001b[49m\u001b[43mq\u001b[49m\u001b[43m,\u001b[49m\n\u001b[1;32m      2\u001b[0m \u001b[43m       \u001b[49m\u001b[43mx\u001b[49m\u001b[38;5;241;43m=\u001b[39;49m\u001b[38;5;124;43m'\u001b[39;49m\u001b[38;5;124;43mindex\u001b[39;49m\u001b[38;5;124;43m'\u001b[39;49m\u001b[43m,\u001b[49m\n\u001b[1;32m      3\u001b[0m \u001b[43m       \u001b[49m\u001b[43my\u001b[49m\u001b[38;5;241;43m=\u001b[39;49m\u001b[38;5;124;43m'\u001b[39;49m\u001b[38;5;124;43mgroup\u001b[39;49m\u001b[38;5;124;43m'\u001b[39;49m\u001b[43m,\u001b[49m\n\u001b[1;32m      4\u001b[0m \u001b[43m       \u001b[49m\u001b[43mtitle\u001b[49m\u001b[38;5;241;43m=\u001b[39;49m\u001b[38;5;124;43m'\u001b[39;49m\u001b[38;5;124;43mКоличество пользователей в группах согласно анализу RFM\u001b[39;49m\u001b[38;5;124;43m'\u001b[39;49m\u001b[43m,\u001b[49m\n\u001b[1;32m      5\u001b[0m \u001b[43m       \u001b[49m\u001b[43mlabels\u001b[49m\u001b[38;5;241;43m=\u001b[39;49m\u001b[38;5;28;43mdict\u001b[39;49m\u001b[43m(\u001b[49m\u001b[43mgroup\u001b[49m\u001b[38;5;241;43m=\u001b[39;49m\u001b[38;5;124;43m'\u001b[39;49m\u001b[38;5;124;43mгруппы\u001b[39;49m\u001b[38;5;124;43m'\u001b[39;49m\u001b[43m,\u001b[49m\u001b[43m \u001b[49m\u001b[43mcount\u001b[49m\u001b[38;5;241;43m=\u001b[39;49m\u001b[38;5;124;43m'\u001b[39;49m\u001b[38;5;124;43mколичество\u001b[39;49m\u001b[38;5;124;43m'\u001b[39;49m\u001b[43m)\u001b[49m\u001b[43m)\u001b[49m\n\u001b[1;32m      6\u001b[0m iplot(fig)\n",
      "File \u001b[0;32m~/.local/lib/python3.10/site-packages/plotly/express/_chart_types.py:381\u001b[0m, in \u001b[0;36mbar\u001b[0;34m(data_frame, x, y, color, pattern_shape, facet_row, facet_col, facet_col_wrap, facet_row_spacing, facet_col_spacing, hover_name, hover_data, custom_data, text, base, error_x, error_x_minus, error_y, error_y_minus, animation_frame, animation_group, category_orders, labels, color_discrete_sequence, color_discrete_map, color_continuous_scale, pattern_shape_sequence, pattern_shape_map, range_color, color_continuous_midpoint, opacity, orientation, barmode, log_x, log_y, range_x, range_y, text_auto, title, subtitle, template, width, height)\u001b[0m\n\u001b[1;32m    332\u001b[0m \u001b[38;5;28;01mdef\u001b[39;00m\u001b[38;5;250m \u001b[39m\u001b[38;5;21mbar\u001b[39m(\n\u001b[1;32m    333\u001b[0m     data_frame\u001b[38;5;241m=\u001b[39m\u001b[38;5;28;01mNone\u001b[39;00m,\n\u001b[1;32m    334\u001b[0m     x\u001b[38;5;241m=\u001b[39m\u001b[38;5;28;01mNone\u001b[39;00m,\n\u001b[0;32m   (...)\u001b[0m\n\u001b[1;32m    375\u001b[0m     height\u001b[38;5;241m=\u001b[39m\u001b[38;5;28;01mNone\u001b[39;00m,\n\u001b[1;32m    376\u001b[0m ) \u001b[38;5;241m-\u001b[39m\u001b[38;5;241m>\u001b[39m go\u001b[38;5;241m.\u001b[39mFigure:\n\u001b[1;32m    377\u001b[0m \u001b[38;5;250m    \u001b[39m\u001b[38;5;124;03m\"\"\"\u001b[39;00m\n\u001b[1;32m    378\u001b[0m \u001b[38;5;124;03m    In a bar plot, each row of `data_frame` is represented as a rectangular\u001b[39;00m\n\u001b[1;32m    379\u001b[0m \u001b[38;5;124;03m    mark.\u001b[39;00m\n\u001b[1;32m    380\u001b[0m \u001b[38;5;124;03m    \"\"\"\u001b[39;00m\n\u001b[0;32m--> 381\u001b[0m     \u001b[38;5;28;01mreturn\u001b[39;00m \u001b[43mmake_figure\u001b[49m\u001b[43m(\u001b[49m\n\u001b[1;32m    382\u001b[0m \u001b[43m        \u001b[49m\u001b[43margs\u001b[49m\u001b[38;5;241;43m=\u001b[39;49m\u001b[38;5;28;43mlocals\u001b[39;49m\u001b[43m(\u001b[49m\u001b[43m)\u001b[49m\u001b[43m,\u001b[49m\n\u001b[1;32m    383\u001b[0m \u001b[43m        \u001b[49m\u001b[43mconstructor\u001b[49m\u001b[38;5;241;43m=\u001b[39;49m\u001b[43mgo\u001b[49m\u001b[38;5;241;43m.\u001b[39;49m\u001b[43mBar\u001b[49m\u001b[43m,\u001b[49m\n\u001b[1;32m    384\u001b[0m \u001b[43m        \u001b[49m\u001b[43mtrace_patch\u001b[49m\u001b[38;5;241;43m=\u001b[39;49m\u001b[38;5;28;43mdict\u001b[39;49m\u001b[43m(\u001b[49m\u001b[43mtextposition\u001b[49m\u001b[38;5;241;43m=\u001b[39;49m\u001b[38;5;124;43m\"\u001b[39;49m\u001b[38;5;124;43mauto\u001b[39;49m\u001b[38;5;124;43m\"\u001b[39;49m\u001b[43m)\u001b[49m\u001b[43m,\u001b[49m\n\u001b[1;32m    385\u001b[0m \u001b[43m        \u001b[49m\u001b[43mlayout_patch\u001b[49m\u001b[38;5;241;43m=\u001b[39;49m\u001b[38;5;28;43mdict\u001b[39;49m\u001b[43m(\u001b[49m\u001b[43mbarmode\u001b[49m\u001b[38;5;241;43m=\u001b[39;49m\u001b[43mbarmode\u001b[49m\u001b[43m)\u001b[49m\u001b[43m,\u001b[49m\n\u001b[1;32m    386\u001b[0m \u001b[43m    \u001b[49m\u001b[43m)\u001b[49m\n",
      "File \u001b[0;32m~/.local/lib/python3.10/site-packages/plotly/express/_core.py:2479\u001b[0m, in \u001b[0;36mmake_figure\u001b[0;34m(args, constructor, trace_patch, layout_patch)\u001b[0m\n\u001b[1;32m   2476\u001b[0m layout_patch \u001b[38;5;241m=\u001b[39m layout_patch \u001b[38;5;129;01mor\u001b[39;00m {}\n\u001b[1;32m   2477\u001b[0m apply_default_cascade(args)\n\u001b[0;32m-> 2479\u001b[0m args \u001b[38;5;241m=\u001b[39m \u001b[43mbuild_dataframe\u001b[49m\u001b[43m(\u001b[49m\u001b[43margs\u001b[49m\u001b[43m,\u001b[49m\u001b[43m \u001b[49m\u001b[43mconstructor\u001b[49m\u001b[43m)\u001b[49m\n\u001b[1;32m   2480\u001b[0m \u001b[38;5;28;01mif\u001b[39;00m constructor \u001b[38;5;129;01min\u001b[39;00m [go\u001b[38;5;241m.\u001b[39mTreemap, go\u001b[38;5;241m.\u001b[39mSunburst, go\u001b[38;5;241m.\u001b[39mIcicle] \u001b[38;5;129;01mand\u001b[39;00m args[\u001b[38;5;124m\"\u001b[39m\u001b[38;5;124mpath\u001b[39m\u001b[38;5;124m\"\u001b[39m] \u001b[38;5;129;01mis\u001b[39;00m \u001b[38;5;129;01mnot\u001b[39;00m \u001b[38;5;28;01mNone\u001b[39;00m:\n\u001b[1;32m   2481\u001b[0m     args \u001b[38;5;241m=\u001b[39m process_dataframe_hierarchy(args)\n",
      "File \u001b[0;32m~/.local/lib/python3.10/site-packages/plotly/express/_core.py:1727\u001b[0m, in \u001b[0;36mbuild_dataframe\u001b[0;34m(args, constructor)\u001b[0m\n\u001b[1;32m   1724\u001b[0m     args[\u001b[38;5;124m\"\u001b[39m\u001b[38;5;124mcolor\u001b[39m\u001b[38;5;124m\"\u001b[39m] \u001b[38;5;241m=\u001b[39m \u001b[38;5;28;01mNone\u001b[39;00m\n\u001b[1;32m   1725\u001b[0m \u001b[38;5;66;03m# now that things have been prepped, we do the systematic rewriting of `args`\u001b[39;00m\n\u001b[0;32m-> 1727\u001b[0m df_output, wide_id_vars \u001b[38;5;241m=\u001b[39m \u001b[43mprocess_args_into_dataframe\u001b[49m\u001b[43m(\u001b[49m\n\u001b[1;32m   1728\u001b[0m \u001b[43m    \u001b[49m\u001b[43margs\u001b[49m\u001b[43m,\u001b[49m\n\u001b[1;32m   1729\u001b[0m \u001b[43m    \u001b[49m\u001b[43mwide_mode\u001b[49m\u001b[43m,\u001b[49m\n\u001b[1;32m   1730\u001b[0m \u001b[43m    \u001b[49m\u001b[43mvar_name\u001b[49m\u001b[43m,\u001b[49m\n\u001b[1;32m   1731\u001b[0m \u001b[43m    \u001b[49m\u001b[43mvalue_name\u001b[49m\u001b[43m,\u001b[49m\n\u001b[1;32m   1732\u001b[0m \u001b[43m    \u001b[49m\u001b[43mis_pd_like\u001b[49m\u001b[43m,\u001b[49m\n\u001b[1;32m   1733\u001b[0m \u001b[43m    \u001b[49m\u001b[43mnative_namespace\u001b[49m\u001b[43m,\u001b[49m\n\u001b[1;32m   1734\u001b[0m \u001b[43m\u001b[49m\u001b[43m)\u001b[49m\n\u001b[1;32m   1735\u001b[0m df_output: nw\u001b[38;5;241m.\u001b[39mDataFrame\n\u001b[1;32m   1736\u001b[0m \u001b[38;5;66;03m# now that `df_output` exists and `args` contains only references, we complete\u001b[39;00m\n\u001b[1;32m   1737\u001b[0m \u001b[38;5;66;03m# the special-case and wide-mode handling by further rewriting args and/or mutating\u001b[39;00m\n\u001b[1;32m   1738\u001b[0m \u001b[38;5;66;03m# df_output\u001b[39;00m\n",
      "File \u001b[0;32m~/.local/lib/python3.10/site-packages/plotly/express/_core.py:1328\u001b[0m, in \u001b[0;36mprocess_args_into_dataframe\u001b[0;34m(args, wide_mode, var_name, value_name, is_pd_like, native_namespace)\u001b[0m\n\u001b[1;32m   1326\u001b[0m         \u001b[38;5;28;01mif\u001b[39;00m argument \u001b[38;5;241m==\u001b[39m \u001b[38;5;124m\"\u001b[39m\u001b[38;5;124mindex\u001b[39m\u001b[38;5;124m\"\u001b[39m:\n\u001b[1;32m   1327\u001b[0m             err_msg \u001b[38;5;241m+\u001b[39m\u001b[38;5;241m=\u001b[39m \u001b[38;5;124m\"\u001b[39m\u001b[38;5;130;01m\\n\u001b[39;00m\u001b[38;5;124m To use the index, pass it in directly as `df.index`.\u001b[39m\u001b[38;5;124m\"\u001b[39m\n\u001b[0;32m-> 1328\u001b[0m         \u001b[38;5;28;01mraise\u001b[39;00m \u001b[38;5;167;01mValueError\u001b[39;00m(err_msg)\n\u001b[1;32m   1329\u001b[0m \u001b[38;5;28;01melif\u001b[39;00m length \u001b[38;5;129;01mand\u001b[39;00m (actual_len \u001b[38;5;241m:=\u001b[39m \u001b[38;5;28mlen\u001b[39m(df_input)) \u001b[38;5;241m!=\u001b[39m length:\n\u001b[1;32m   1330\u001b[0m     \u001b[38;5;28;01mraise\u001b[39;00m \u001b[38;5;167;01mValueError\u001b[39;00m(\n\u001b[1;32m   1331\u001b[0m         \u001b[38;5;124m\"\u001b[39m\u001b[38;5;124mAll arguments should have the same length. \u001b[39m\u001b[38;5;124m\"\u001b[39m\n\u001b[1;32m   1332\u001b[0m         \u001b[38;5;124m\"\u001b[39m\u001b[38;5;124mThe length of column argument `df[\u001b[39m\u001b[38;5;132;01m%s\u001b[39;00m\u001b[38;5;124m]` is \u001b[39m\u001b[38;5;132;01m%d\u001b[39;00m\u001b[38;5;124m, whereas the \u001b[39m\u001b[38;5;124m\"\u001b[39m\n\u001b[0;32m   (...)\u001b[0m\n\u001b[1;32m   1339\u001b[0m         )\n\u001b[1;32m   1340\u001b[0m     )\n",
      "\u001b[0;31mValueError\u001b[0m: Value of 'x' is not the name of a column in 'data_frame'. Expected one of ['group', 'count'] but received: index\n To use the index, pass it in directly as `df.index`."
     ]
    }
   ],
   "source": [
    "fig = px.bar(q,\n",
    "       x='index',\n",
    "       y='group',\n",
    "       title='Количество пользователей в группах согласно анализу RFM',\n",
    "       labels=dict(group='группы', count='количество'))\n",
    "iplot(fig)"
   ]
  },
  {
   "cell_type": "markdown",
   "metadata": {},
   "source": [
    "Как видим, много пользователей с оценкой 323 - постоянные клиеты, 211- недавние клиенты, 111 ,113, 112 - редкие покупатели/ушедшие"
   ]
  },
  {
   "cell_type": "markdown",
   "metadata": {},
   "source": [
    "Проверим, одинаковые ли группы по числу пользователей"
   ]
  },
  {
   "cell_type": "code",
   "execution_count": null,
   "metadata": {},
   "outputs": [
    {
     "data": {
      "text/html": [
       "<div>\n",
       "<style scoped>\n",
       "    .dataframe tbody tr th:only-of-type {\n",
       "        vertical-align: middle;\n",
       "    }\n",
       "\n",
       "    .dataframe tbody tr th {\n",
       "        vertical-align: top;\n",
       "    }\n",
       "\n",
       "    .dataframe thead th {\n",
       "        text-align: right;\n",
       "    }\n",
       "</style>\n",
       "<table border=\"1\" class=\"dataframe\">\n",
       "  <thead>\n",
       "    <tr style=\"text-align: right;\">\n",
       "      <th></th>\n",
       "      <th>group</th>\n",
       "      <th>count</th>\n",
       "    </tr>\n",
       "  </thead>\n",
       "  <tbody>\n",
       "    <tr>\n",
       "      <th>0</th>\n",
       "      <td>group_1</td>\n",
       "      <td>819</td>\n",
       "    </tr>\n",
       "    <tr>\n",
       "      <th>1</th>\n",
       "      <td>group_3</td>\n",
       "      <td>798</td>\n",
       "    </tr>\n",
       "    <tr>\n",
       "      <th>2</th>\n",
       "      <td>group_2</td>\n",
       "      <td>794</td>\n",
       "    </tr>\n",
       "  </tbody>\n",
       "</table>\n",
       "</div>"
      ],
      "text/plain": [
       "     group  count\n",
       "0  group_1    819\n",
       "1  group_3    798\n",
       "2  group_2    794"
      ]
     },
     "execution_count": 50,
     "metadata": {},
     "output_type": "execute_result"
    }
   ],
   "source": [
    "size_group = (table_customer['major_group']\n",
    "              .value_counts()\n",
    "              .reset_index()\n",
    "              .rename(columns=dict(major_group='count', index='group')))\n",
    "\n",
    "size_group.head()"
   ]
  },
  {
   "cell_type": "markdown",
   "metadata": {},
   "source": [
    "желательно в процентах"
   ]
  },
  {
   "cell_type": "code",
   "execution_count": null,
   "metadata": {},
   "outputs": [
    {
     "data": {
      "text/html": [
       "<div>\n",
       "<style scoped>\n",
       "    .dataframe tbody tr th:only-of-type {\n",
       "        vertical-align: middle;\n",
       "    }\n",
       "\n",
       "    .dataframe tbody tr th {\n",
       "        vertical-align: top;\n",
       "    }\n",
       "\n",
       "    .dataframe thead th {\n",
       "        text-align: right;\n",
       "    }\n",
       "</style>\n",
       "<table border=\"1\" class=\"dataframe\">\n",
       "  <thead>\n",
       "    <tr style=\"text-align: right;\">\n",
       "      <th></th>\n",
       "      <th>group</th>\n",
       "      <th>count</th>\n",
       "      <th>%</th>\n",
       "    </tr>\n",
       "  </thead>\n",
       "  <tbody>\n",
       "    <tr>\n",
       "      <th>0</th>\n",
       "      <td>group_1</td>\n",
       "      <td>819</td>\n",
       "      <td>33.97</td>\n",
       "    </tr>\n",
       "    <tr>\n",
       "      <th>1</th>\n",
       "      <td>group_3</td>\n",
       "      <td>798</td>\n",
       "      <td>33.10</td>\n",
       "    </tr>\n",
       "    <tr>\n",
       "      <th>2</th>\n",
       "      <td>group_2</td>\n",
       "      <td>794</td>\n",
       "      <td>32.93</td>\n",
       "    </tr>\n",
       "  </tbody>\n",
       "</table>\n",
       "</div>"
      ],
      "text/plain": [
       "     group  count      %\n",
       "0  group_1    819  33.97\n",
       "1  group_3    798  33.10\n",
       "2  group_2    794  32.93"
      ]
     },
     "execution_count": 51,
     "metadata": {},
     "output_type": "execute_result"
    }
   ],
   "source": [
    "size_group['%'] = (size_group['count'] /\n",
    "                   size_group['count'].sum()*100).round(2)\n",
    "size_group.head()"
   ]
  },
  {
   "cell_type": "markdown",
   "metadata": {},
   "source": [
    "Действительно, почти поровну на 3 части"
   ]
  },
  {
   "cell_type": "markdown",
   "metadata": {},
   "source": [
    "### Средний чек групп пользователей"
   ]
  },
  {
   "cell_type": "code",
   "execution_count": null,
   "metadata": {},
   "outputs": [
    {
     "data": {
      "text/html": [
       "<div>\n",
       "<style scoped>\n",
       "    .dataframe tbody tr th:only-of-type {\n",
       "        vertical-align: middle;\n",
       "    }\n",
       "\n",
       "    .dataframe tbody tr th {\n",
       "        vertical-align: top;\n",
       "    }\n",
       "\n",
       "    .dataframe thead th {\n",
       "        text-align: right;\n",
       "    }\n",
       "</style>\n",
       "<table border=\"1\" class=\"dataframe\">\n",
       "  <thead>\n",
       "    <tr style=\"text-align: right;\">\n",
       "      <th></th>\n",
       "      <th>customer_id</th>\n",
       "      <th>order_id</th>\n",
       "      <th>product</th>\n",
       "      <th>quantity</th>\n",
       "      <th>price</th>\n",
       "      <th>datetime</th>\n",
       "      <th>date</th>\n",
       "      <th>total_price</th>\n",
       "      <th>date_round</th>\n",
       "      <th>major_group</th>\n",
       "    </tr>\n",
       "  </thead>\n",
       "  <tbody>\n",
       "    <tr>\n",
       "      <th>0</th>\n",
       "      <td>ee47d746-6d2f-4d3c-9622-c31412542920</td>\n",
       "      <td>68477</td>\n",
       "      <td>комнатное растение в горшке алое вера d12 h30</td>\n",
       "      <td>1</td>\n",
       "      <td>142.0</td>\n",
       "      <td>2018-10-01</td>\n",
       "      <td>2018-10-01</td>\n",
       "      <td>142.0</td>\n",
       "      <td>2018-10-01</td>\n",
       "      <td>group_1</td>\n",
       "    </tr>\n",
       "    <tr>\n",
       "      <th>1</th>\n",
       "      <td>ee47d746-6d2f-4d3c-9622-c31412542920</td>\n",
       "      <td>68477</td>\n",
       "      <td>комнатное растение в горшке кофе арабика d12 h25</td>\n",
       "      <td>1</td>\n",
       "      <td>194.0</td>\n",
       "      <td>2018-10-01</td>\n",
       "      <td>2018-10-01</td>\n",
       "      <td>194.0</td>\n",
       "      <td>2018-10-01</td>\n",
       "      <td>group_1</td>\n",
       "    </tr>\n",
       "    <tr>\n",
       "      <th>2</th>\n",
       "      <td>ee47d746-6d2f-4d3c-9622-c31412542920</td>\n",
       "      <td>68477</td>\n",
       "      <td>радермахера d12 см h20 см</td>\n",
       "      <td>1</td>\n",
       "      <td>112.0</td>\n",
       "      <td>2018-10-01</td>\n",
       "      <td>2018-10-01</td>\n",
       "      <td>112.0</td>\n",
       "      <td>2018-10-01</td>\n",
       "      <td>group_1</td>\n",
       "    </tr>\n",
       "    <tr>\n",
       "      <th>3</th>\n",
       "      <td>ee47d746-6d2f-4d3c-9622-c31412542920</td>\n",
       "      <td>68477</td>\n",
       "      <td>хризолидокарпус лутесценс d9 см</td>\n",
       "      <td>1</td>\n",
       "      <td>179.0</td>\n",
       "      <td>2018-10-01</td>\n",
       "      <td>2018-10-01</td>\n",
       "      <td>179.0</td>\n",
       "      <td>2018-10-01</td>\n",
       "      <td>group_1</td>\n",
       "    </tr>\n",
       "    <tr>\n",
       "      <th>4</th>\n",
       "      <td>ee47d746-6d2f-4d3c-9622-c31412542920</td>\n",
       "      <td>68477</td>\n",
       "      <td>циперус зумула d12 см h25 см</td>\n",
       "      <td>1</td>\n",
       "      <td>112.0</td>\n",
       "      <td>2018-10-01</td>\n",
       "      <td>2018-10-01</td>\n",
       "      <td>112.0</td>\n",
       "      <td>2018-10-01</td>\n",
       "      <td>group_1</td>\n",
       "    </tr>\n",
       "  </tbody>\n",
       "</table>\n",
       "</div>"
      ],
      "text/plain": [
       "                            customer_id  order_id  \\\n",
       "0  ee47d746-6d2f-4d3c-9622-c31412542920     68477   \n",
       "1  ee47d746-6d2f-4d3c-9622-c31412542920     68477   \n",
       "2  ee47d746-6d2f-4d3c-9622-c31412542920     68477   \n",
       "3  ee47d746-6d2f-4d3c-9622-c31412542920     68477   \n",
       "4  ee47d746-6d2f-4d3c-9622-c31412542920     68477   \n",
       "\n",
       "                                            product  quantity  price  \\\n",
       "0     комнатное растение в горшке алое вера d12 h30         1  142.0   \n",
       "1  комнатное растение в горшке кофе арабика d12 h25         1  194.0   \n",
       "2                         радермахера d12 см h20 см         1  112.0   \n",
       "3                   хризолидокарпус лутесценс d9 см         1  179.0   \n",
       "4                      циперус зумула d12 см h25 см         1  112.0   \n",
       "\n",
       "    datetime        date  total_price date_round major_group  \n",
       "0 2018-10-01  2018-10-01        142.0 2018-10-01     group_1  \n",
       "1 2018-10-01  2018-10-01        194.0 2018-10-01     group_1  \n",
       "2 2018-10-01  2018-10-01        112.0 2018-10-01     group_1  \n",
       "3 2018-10-01  2018-10-01        179.0 2018-10-01     group_1  \n",
       "4 2018-10-01  2018-10-01        112.0 2018-10-01     group_1  "
      ]
     },
     "execution_count": 52,
     "metadata": {},
     "output_type": "execute_result"
    }
   ],
   "source": [
    "customer_with_group = data.merge(table_customer[['customer_id', 'major_group']],\n",
    "                                 how='left',\n",
    "                                 on='customer_id')\n",
    "\n",
    "customer_with_group.head()"
   ]
  },
  {
   "cell_type": "code",
   "execution_count": null,
   "metadata": {},
   "outputs": [
    {
     "data": {
      "text/html": [
       "<div>\n",
       "<style scoped>\n",
       "    .dataframe tbody tr th:only-of-type {\n",
       "        vertical-align: middle;\n",
       "    }\n",
       "\n",
       "    .dataframe tbody tr th {\n",
       "        vertical-align: top;\n",
       "    }\n",
       "\n",
       "    .dataframe thead th {\n",
       "        text-align: right;\n",
       "    }\n",
       "</style>\n",
       "<table border=\"1\" class=\"dataframe\">\n",
       "  <thead>\n",
       "    <tr style=\"text-align: right;\">\n",
       "      <th></th>\n",
       "      <th>date_round</th>\n",
       "      <th>major_group</th>\n",
       "      <th>total_price</th>\n",
       "      <th>order_id</th>\n",
       "      <th>mean_chek</th>\n",
       "    </tr>\n",
       "  </thead>\n",
       "  <tbody>\n",
       "    <tr>\n",
       "      <th>0</th>\n",
       "      <td>2018-10-01</td>\n",
       "      <td>group_1</td>\n",
       "      <td>335799.0</td>\n",
       "      <td>170</td>\n",
       "      <td>1975.0</td>\n",
       "    </tr>\n",
       "    <tr>\n",
       "      <th>1</th>\n",
       "      <td>2018-10-01</td>\n",
       "      <td>group_3</td>\n",
       "      <td>55968.0</td>\n",
       "      <td>47</td>\n",
       "      <td>1191.0</td>\n",
       "    </tr>\n",
       "    <tr>\n",
       "      <th>2</th>\n",
       "      <td>2018-11-01</td>\n",
       "      <td>group_1</td>\n",
       "      <td>290965.0</td>\n",
       "      <td>139</td>\n",
       "      <td>2093.0</td>\n",
       "    </tr>\n",
       "    <tr>\n",
       "      <th>3</th>\n",
       "      <td>2018-11-01</td>\n",
       "      <td>group_3</td>\n",
       "      <td>55234.0</td>\n",
       "      <td>46</td>\n",
       "      <td>1201.0</td>\n",
       "    </tr>\n",
       "    <tr>\n",
       "      <th>4</th>\n",
       "      <td>2018-12-01</td>\n",
       "      <td>group_1</td>\n",
       "      <td>247828.0</td>\n",
       "      <td>158</td>\n",
       "      <td>1569.0</td>\n",
       "    </tr>\n",
       "  </tbody>\n",
       "</table>\n",
       "</div>"
      ],
      "text/plain": [
       "  date_round major_group  total_price  order_id  mean_chek\n",
       "0 2018-10-01     group_1     335799.0       170     1975.0\n",
       "1 2018-10-01     group_3      55968.0        47     1191.0\n",
       "2 2018-11-01     group_1     290965.0       139     2093.0\n",
       "3 2018-11-01     group_3      55234.0        46     1201.0\n",
       "4 2018-12-01     group_1     247828.0       158     1569.0"
      ]
     },
     "execution_count": 53,
     "metadata": {},
     "output_type": "execute_result"
    }
   ],
   "source": [
    "mean_chek = (customer_with_group\n",
    "             .groupby(['date_round', 'major_group'], as_index=False)\n",
    "             .aggregate(\n",
    "                 dict(\n",
    "                     total_price='sum',\n",
    "                     order_id='nunique'\n",
    "                 )\n",
    "             )\n",
    "             )\n",
    "\n",
    "\n",
    "mean_chek['mean_chek'] = (mean_chek['total_price'] /\n",
    "                          mean_chek['order_id']\n",
    "                          ).round()\n",
    "\n",
    "mean_chek.head()"
   ]
  },
  {
   "cell_type": "code",
   "execution_count": null,
   "metadata": {},
   "outputs": [
    {
     "data": {
      "application/vnd.plotly.v1+json": {
       "config": {
        "plotlyServerURL": "https://plot.ly"
       },
       "data": [
        {
         "hovertemplate": "группа покупателей=group_1<br>дата=%{x}<br>средний чек=%{y}<extra></extra>",
         "legendgroup": "group_1",
         "line": {
          "color": "#636efa",
          "dash": "solid",
          "shape": "spline",
          "width": 4
         },
         "marker": {
          "symbol": "circle"
         },
         "mode": "lines",
         "name": "group_1",
         "orientation": "v",
         "showlegend": true,
         "type": "scatter",
         "x": [
          "2018-10-01T00:00:00",
          "2018-11-01T00:00:00",
          "2018-12-01T00:00:00",
          "2019-01-01T00:00:00",
          "2019-02-01T00:00:00",
          "2019-03-01T00:00:00",
          "2019-04-01T00:00:00"
         ],
         "xaxis": "x",
         "y": [
          1975,
          2093,
          1569,
          1783,
          1227,
          1254,
          1633
         ],
         "yaxis": "y"
        },
        {
         "hovertemplate": "группа покупателей=group_3<br>дата=%{x}<br>средний чек=%{y}<extra></extra>",
         "legendgroup": "group_3",
         "line": {
          "color": "#EF553B",
          "dash": "solid",
          "shape": "spline",
          "width": 4
         },
         "marker": {
          "symbol": "circle"
         },
         "mode": "lines",
         "name": "group_3",
         "orientation": "v",
         "showlegend": true,
         "type": "scatter",
         "x": [
          "2018-10-01T00:00:00",
          "2018-11-01T00:00:00",
          "2018-12-01T00:00:00",
          "2019-01-01T00:00:00",
          "2019-02-01T00:00:00",
          "2019-03-01T00:00:00",
          "2019-04-01T00:00:00",
          "2019-05-01T00:00:00",
          "2019-06-01T00:00:00",
          "2019-07-01T00:00:00",
          "2019-08-01T00:00:00",
          "2019-09-01T00:00:00",
          "2019-10-01T00:00:00",
          "2019-11-01T00:00:00",
          "2019-12-01T00:00:00",
          "2020-01-01T00:00:00"
         ],
         "xaxis": "x",
         "y": [
          1191,
          1201,
          1155,
          1028,
          968,
          1218,
          1350,
          1058,
          1508,
          1031,
          877,
          1106,
          1044,
          594,
          825,
          647
         ],
         "yaxis": "y"
        },
        {
         "hovertemplate": "группа покупателей=group_2<br>дата=%{x}<br>средний чек=%{y}<extra></extra>",
         "legendgroup": "group_2",
         "line": {
          "color": "#00cc96",
          "dash": "solid",
          "shape": "spline",
          "width": 4
         },
         "marker": {
          "symbol": "circle"
         },
         "mode": "lines",
         "name": "group_2",
         "orientation": "v",
         "showlegend": true,
         "type": "scatter",
         "x": [
          "2019-01-01T00:00:00",
          "2019-02-01T00:00:00",
          "2019-03-01T00:00:00",
          "2019-04-01T00:00:00",
          "2019-05-01T00:00:00",
          "2019-06-01T00:00:00",
          "2019-07-01T00:00:00",
          "2019-08-01T00:00:00",
          "2019-09-01T00:00:00",
          "2019-10-01T00:00:00"
         ],
         "xaxis": "x",
         "y": [
          1418,
          589,
          616,
          1400,
          1824,
          2897,
          1556,
          1248,
          1127,
          1291
         ],
         "yaxis": "y"
        }
       ],
       "layout": {
        "legend": {
         "title": {
          "text": "группа покупателей"
         },
         "tracegroupgap": 0
        },
        "template": {
         "data": {
          "bar": [
           {
            "error_x": {
             "color": "#2a3f5f"
            },
            "error_y": {
             "color": "#2a3f5f"
            },
            "marker": {
             "line": {
              "color": "#E5ECF6",
              "width": 0.5
             },
             "pattern": {
              "fillmode": "overlay",
              "size": 10,
              "solidity": 0.2
             }
            },
            "type": "bar"
           }
          ],
          "barpolar": [
           {
            "marker": {
             "line": {
              "color": "#E5ECF6",
              "width": 0.5
             },
             "pattern": {
              "fillmode": "overlay",
              "size": 10,
              "solidity": 0.2
             }
            },
            "type": "barpolar"
           }
          ],
          "carpet": [
           {
            "aaxis": {
             "endlinecolor": "#2a3f5f",
             "gridcolor": "white",
             "linecolor": "white",
             "minorgridcolor": "white",
             "startlinecolor": "#2a3f5f"
            },
            "baxis": {
             "endlinecolor": "#2a3f5f",
             "gridcolor": "white",
             "linecolor": "white",
             "minorgridcolor": "white",
             "startlinecolor": "#2a3f5f"
            },
            "type": "carpet"
           }
          ],
          "choropleth": [
           {
            "colorbar": {
             "outlinewidth": 0,
             "ticks": ""
            },
            "type": "choropleth"
           }
          ],
          "contour": [
           {
            "colorbar": {
             "outlinewidth": 0,
             "ticks": ""
            },
            "colorscale": [
             [
              0,
              "#0d0887"
             ],
             [
              0.1111111111111111,
              "#46039f"
             ],
             [
              0.2222222222222222,
              "#7201a8"
             ],
             [
              0.3333333333333333,
              "#9c179e"
             ],
             [
              0.4444444444444444,
              "#bd3786"
             ],
             [
              0.5555555555555556,
              "#d8576b"
             ],
             [
              0.6666666666666666,
              "#ed7953"
             ],
             [
              0.7777777777777778,
              "#fb9f3a"
             ],
             [
              0.8888888888888888,
              "#fdca26"
             ],
             [
              1,
              "#f0f921"
             ]
            ],
            "type": "contour"
           }
          ],
          "contourcarpet": [
           {
            "colorbar": {
             "outlinewidth": 0,
             "ticks": ""
            },
            "type": "contourcarpet"
           }
          ],
          "heatmap": [
           {
            "colorbar": {
             "outlinewidth": 0,
             "ticks": ""
            },
            "colorscale": [
             [
              0,
              "#0d0887"
             ],
             [
              0.1111111111111111,
              "#46039f"
             ],
             [
              0.2222222222222222,
              "#7201a8"
             ],
             [
              0.3333333333333333,
              "#9c179e"
             ],
             [
              0.4444444444444444,
              "#bd3786"
             ],
             [
              0.5555555555555556,
              "#d8576b"
             ],
             [
              0.6666666666666666,
              "#ed7953"
             ],
             [
              0.7777777777777778,
              "#fb9f3a"
             ],
             [
              0.8888888888888888,
              "#fdca26"
             ],
             [
              1,
              "#f0f921"
             ]
            ],
            "type": "heatmap"
           }
          ],
          "heatmapgl": [
           {
            "colorbar": {
             "outlinewidth": 0,
             "ticks": ""
            },
            "colorscale": [
             [
              0,
              "#0d0887"
             ],
             [
              0.1111111111111111,
              "#46039f"
             ],
             [
              0.2222222222222222,
              "#7201a8"
             ],
             [
              0.3333333333333333,
              "#9c179e"
             ],
             [
              0.4444444444444444,
              "#bd3786"
             ],
             [
              0.5555555555555556,
              "#d8576b"
             ],
             [
              0.6666666666666666,
              "#ed7953"
             ],
             [
              0.7777777777777778,
              "#fb9f3a"
             ],
             [
              0.8888888888888888,
              "#fdca26"
             ],
             [
              1,
              "#f0f921"
             ]
            ],
            "type": "heatmapgl"
           }
          ],
          "histogram": [
           {
            "marker": {
             "pattern": {
              "fillmode": "overlay",
              "size": 10,
              "solidity": 0.2
             }
            },
            "type": "histogram"
           }
          ],
          "histogram2d": [
           {
            "colorbar": {
             "outlinewidth": 0,
             "ticks": ""
            },
            "colorscale": [
             [
              0,
              "#0d0887"
             ],
             [
              0.1111111111111111,
              "#46039f"
             ],
             [
              0.2222222222222222,
              "#7201a8"
             ],
             [
              0.3333333333333333,
              "#9c179e"
             ],
             [
              0.4444444444444444,
              "#bd3786"
             ],
             [
              0.5555555555555556,
              "#d8576b"
             ],
             [
              0.6666666666666666,
              "#ed7953"
             ],
             [
              0.7777777777777778,
              "#fb9f3a"
             ],
             [
              0.8888888888888888,
              "#fdca26"
             ],
             [
              1,
              "#f0f921"
             ]
            ],
            "type": "histogram2d"
           }
          ],
          "histogram2dcontour": [
           {
            "colorbar": {
             "outlinewidth": 0,
             "ticks": ""
            },
            "colorscale": [
             [
              0,
              "#0d0887"
             ],
             [
              0.1111111111111111,
              "#46039f"
             ],
             [
              0.2222222222222222,
              "#7201a8"
             ],
             [
              0.3333333333333333,
              "#9c179e"
             ],
             [
              0.4444444444444444,
              "#bd3786"
             ],
             [
              0.5555555555555556,
              "#d8576b"
             ],
             [
              0.6666666666666666,
              "#ed7953"
             ],
             [
              0.7777777777777778,
              "#fb9f3a"
             ],
             [
              0.8888888888888888,
              "#fdca26"
             ],
             [
              1,
              "#f0f921"
             ]
            ],
            "type": "histogram2dcontour"
           }
          ],
          "mesh3d": [
           {
            "colorbar": {
             "outlinewidth": 0,
             "ticks": ""
            },
            "type": "mesh3d"
           }
          ],
          "parcoords": [
           {
            "line": {
             "colorbar": {
              "outlinewidth": 0,
              "ticks": ""
             }
            },
            "type": "parcoords"
           }
          ],
          "pie": [
           {
            "automargin": true,
            "type": "pie"
           }
          ],
          "scatter": [
           {
            "marker": {
             "colorbar": {
              "outlinewidth": 0,
              "ticks": ""
             }
            },
            "type": "scatter"
           }
          ],
          "scatter3d": [
           {
            "line": {
             "colorbar": {
              "outlinewidth": 0,
              "ticks": ""
             }
            },
            "marker": {
             "colorbar": {
              "outlinewidth": 0,
              "ticks": ""
             }
            },
            "type": "scatter3d"
           }
          ],
          "scattercarpet": [
           {
            "marker": {
             "colorbar": {
              "outlinewidth": 0,
              "ticks": ""
             }
            },
            "type": "scattercarpet"
           }
          ],
          "scattergeo": [
           {
            "marker": {
             "colorbar": {
              "outlinewidth": 0,
              "ticks": ""
             }
            },
            "type": "scattergeo"
           }
          ],
          "scattergl": [
           {
            "marker": {
             "colorbar": {
              "outlinewidth": 0,
              "ticks": ""
             }
            },
            "type": "scattergl"
           }
          ],
          "scattermapbox": [
           {
            "marker": {
             "colorbar": {
              "outlinewidth": 0,
              "ticks": ""
             }
            },
            "type": "scattermapbox"
           }
          ],
          "scatterpolar": [
           {
            "marker": {
             "colorbar": {
              "outlinewidth": 0,
              "ticks": ""
             }
            },
            "type": "scatterpolar"
           }
          ],
          "scatterpolargl": [
           {
            "marker": {
             "colorbar": {
              "outlinewidth": 0,
              "ticks": ""
             }
            },
            "type": "scatterpolargl"
           }
          ],
          "scatterternary": [
           {
            "marker": {
             "colorbar": {
              "outlinewidth": 0,
              "ticks": ""
             }
            },
            "type": "scatterternary"
           }
          ],
          "surface": [
           {
            "colorbar": {
             "outlinewidth": 0,
             "ticks": ""
            },
            "colorscale": [
             [
              0,
              "#0d0887"
             ],
             [
              0.1111111111111111,
              "#46039f"
             ],
             [
              0.2222222222222222,
              "#7201a8"
             ],
             [
              0.3333333333333333,
              "#9c179e"
             ],
             [
              0.4444444444444444,
              "#bd3786"
             ],
             [
              0.5555555555555556,
              "#d8576b"
             ],
             [
              0.6666666666666666,
              "#ed7953"
             ],
             [
              0.7777777777777778,
              "#fb9f3a"
             ],
             [
              0.8888888888888888,
              "#fdca26"
             ],
             [
              1,
              "#f0f921"
             ]
            ],
            "type": "surface"
           }
          ],
          "table": [
           {
            "cells": {
             "fill": {
              "color": "#EBF0F8"
             },
             "line": {
              "color": "white"
             }
            },
            "header": {
             "fill": {
              "color": "#C8D4E3"
             },
             "line": {
              "color": "white"
             }
            },
            "type": "table"
           }
          ]
         },
         "layout": {
          "annotationdefaults": {
           "arrowcolor": "#2a3f5f",
           "arrowhead": 0,
           "arrowwidth": 1
          },
          "autotypenumbers": "strict",
          "coloraxis": {
           "colorbar": {
            "outlinewidth": 0,
            "ticks": ""
           }
          },
          "colorscale": {
           "diverging": [
            [
             0,
             "#8e0152"
            ],
            [
             0.1,
             "#c51b7d"
            ],
            [
             0.2,
             "#de77ae"
            ],
            [
             0.3,
             "#f1b6da"
            ],
            [
             0.4,
             "#fde0ef"
            ],
            [
             0.5,
             "#f7f7f7"
            ],
            [
             0.6,
             "#e6f5d0"
            ],
            [
             0.7,
             "#b8e186"
            ],
            [
             0.8,
             "#7fbc41"
            ],
            [
             0.9,
             "#4d9221"
            ],
            [
             1,
             "#276419"
            ]
           ],
           "sequential": [
            [
             0,
             "#0d0887"
            ],
            [
             0.1111111111111111,
             "#46039f"
            ],
            [
             0.2222222222222222,
             "#7201a8"
            ],
            [
             0.3333333333333333,
             "#9c179e"
            ],
            [
             0.4444444444444444,
             "#bd3786"
            ],
            [
             0.5555555555555556,
             "#d8576b"
            ],
            [
             0.6666666666666666,
             "#ed7953"
            ],
            [
             0.7777777777777778,
             "#fb9f3a"
            ],
            [
             0.8888888888888888,
             "#fdca26"
            ],
            [
             1,
             "#f0f921"
            ]
           ],
           "sequentialminus": [
            [
             0,
             "#0d0887"
            ],
            [
             0.1111111111111111,
             "#46039f"
            ],
            [
             0.2222222222222222,
             "#7201a8"
            ],
            [
             0.3333333333333333,
             "#9c179e"
            ],
            [
             0.4444444444444444,
             "#bd3786"
            ],
            [
             0.5555555555555556,
             "#d8576b"
            ],
            [
             0.6666666666666666,
             "#ed7953"
            ],
            [
             0.7777777777777778,
             "#fb9f3a"
            ],
            [
             0.8888888888888888,
             "#fdca26"
            ],
            [
             1,
             "#f0f921"
            ]
           ]
          },
          "colorway": [
           "#636efa",
           "#EF553B",
           "#00cc96",
           "#ab63fa",
           "#FFA15A",
           "#19d3f3",
           "#FF6692",
           "#B6E880",
           "#FF97FF",
           "#FECB52"
          ],
          "font": {
           "color": "#2a3f5f"
          },
          "geo": {
           "bgcolor": "white",
           "lakecolor": "white",
           "landcolor": "#E5ECF6",
           "showlakes": true,
           "showland": true,
           "subunitcolor": "white"
          },
          "hoverlabel": {
           "align": "left"
          },
          "hovermode": "closest",
          "mapbox": {
           "style": "light"
          },
          "paper_bgcolor": "white",
          "plot_bgcolor": "#E5ECF6",
          "polar": {
           "angularaxis": {
            "gridcolor": "white",
            "linecolor": "white",
            "ticks": ""
           },
           "bgcolor": "#E5ECF6",
           "radialaxis": {
            "gridcolor": "white",
            "linecolor": "white",
            "ticks": ""
           }
          },
          "scene": {
           "xaxis": {
            "backgroundcolor": "#E5ECF6",
            "gridcolor": "white",
            "gridwidth": 2,
            "linecolor": "white",
            "showbackground": true,
            "ticks": "",
            "zerolinecolor": "white"
           },
           "yaxis": {
            "backgroundcolor": "#E5ECF6",
            "gridcolor": "white",
            "gridwidth": 2,
            "linecolor": "white",
            "showbackground": true,
            "ticks": "",
            "zerolinecolor": "white"
           },
           "zaxis": {
            "backgroundcolor": "#E5ECF6",
            "gridcolor": "white",
            "gridwidth": 2,
            "linecolor": "white",
            "showbackground": true,
            "ticks": "",
            "zerolinecolor": "white"
           }
          },
          "shapedefaults": {
           "line": {
            "color": "#2a3f5f"
           }
          },
          "ternary": {
           "aaxis": {
            "gridcolor": "white",
            "linecolor": "white",
            "ticks": ""
           },
           "baxis": {
            "gridcolor": "white",
            "linecolor": "white",
            "ticks": ""
           },
           "bgcolor": "#E5ECF6",
           "caxis": {
            "gridcolor": "white",
            "linecolor": "white",
            "ticks": ""
           }
          },
          "title": {
           "x": 0.05
          },
          "xaxis": {
           "automargin": true,
           "gridcolor": "white",
           "linecolor": "white",
           "ticks": "",
           "title": {
            "standoff": 15
           },
           "zerolinecolor": "white",
           "zerolinewidth": 2
          },
          "yaxis": {
           "automargin": true,
           "gridcolor": "white",
           "linecolor": "white",
           "ticks": "",
           "title": {
            "standoff": 15
           },
           "zerolinecolor": "white",
           "zerolinewidth": 2
          }
         }
        },
        "title": {
         "text": "Средний чек групп покупателей"
        },
        "xaxis": {
         "anchor": "y",
         "domain": [
          0,
          1
         ],
         "title": {
          "text": "дата"
         }
        },
        "yaxis": {
         "anchor": "x",
         "domain": [
          0,
          1
         ],
         "title": {
          "text": "средний чек"
         }
        }
       }
      },
      "text/html": [
       "<div>                            <div id=\"8dcd8e1e-ed79-4e0a-a774-84666af272f8\" class=\"plotly-graph-div\" style=\"height:525px; width:100%;\"></div>            <script type=\"text/javascript\">                require([\"plotly\"], function(Plotly) {                    window.PLOTLYENV=window.PLOTLYENV || {};                                    if (document.getElementById(\"8dcd8e1e-ed79-4e0a-a774-84666af272f8\")) {                    Plotly.newPlot(                        \"8dcd8e1e-ed79-4e0a-a774-84666af272f8\",                        [{\"hovertemplate\":\"\\u0433\\u0440\\u0443\\u043f\\u043f\\u0430 \\u043f\\u043e\\u043a\\u0443\\u043f\\u0430\\u0442\\u0435\\u043b\\u0435\\u0439=group_1<br>\\u0434\\u0430\\u0442\\u0430=%{x}<br>\\u0441\\u0440\\u0435\\u0434\\u043d\\u0438\\u0439 \\u0447\\u0435\\u043a=%{y}<extra></extra>\",\"legendgroup\":\"group_1\",\"line\":{\"color\":\"#636efa\",\"dash\":\"solid\",\"shape\":\"spline\",\"width\":4},\"marker\":{\"symbol\":\"circle\"},\"mode\":\"lines\",\"name\":\"group_1\",\"orientation\":\"v\",\"showlegend\":true,\"x\":[\"2018-10-01T00:00:00\",\"2018-11-01T00:00:00\",\"2018-12-01T00:00:00\",\"2019-01-01T00:00:00\",\"2019-02-01T00:00:00\",\"2019-03-01T00:00:00\",\"2019-04-01T00:00:00\"],\"xaxis\":\"x\",\"y\":[1975.0,2093.0,1569.0,1783.0,1227.0,1254.0,1633.0],\"yaxis\":\"y\",\"type\":\"scatter\"},{\"hovertemplate\":\"\\u0433\\u0440\\u0443\\u043f\\u043f\\u0430 \\u043f\\u043e\\u043a\\u0443\\u043f\\u0430\\u0442\\u0435\\u043b\\u0435\\u0439=group_3<br>\\u0434\\u0430\\u0442\\u0430=%{x}<br>\\u0441\\u0440\\u0435\\u0434\\u043d\\u0438\\u0439 \\u0447\\u0435\\u043a=%{y}<extra></extra>\",\"legendgroup\":\"group_3\",\"line\":{\"color\":\"#EF553B\",\"dash\":\"solid\",\"shape\":\"spline\",\"width\":4},\"marker\":{\"symbol\":\"circle\"},\"mode\":\"lines\",\"name\":\"group_3\",\"orientation\":\"v\",\"showlegend\":true,\"x\":[\"2018-10-01T00:00:00\",\"2018-11-01T00:00:00\",\"2018-12-01T00:00:00\",\"2019-01-01T00:00:00\",\"2019-02-01T00:00:00\",\"2019-03-01T00:00:00\",\"2019-04-01T00:00:00\",\"2019-05-01T00:00:00\",\"2019-06-01T00:00:00\",\"2019-07-01T00:00:00\",\"2019-08-01T00:00:00\",\"2019-09-01T00:00:00\",\"2019-10-01T00:00:00\",\"2019-11-01T00:00:00\",\"2019-12-01T00:00:00\",\"2020-01-01T00:00:00\"],\"xaxis\":\"x\",\"y\":[1191.0,1201.0,1155.0,1028.0,968.0,1218.0,1350.0,1058.0,1508.0,1031.0,877.0,1106.0,1044.0,594.0,825.0,647.0],\"yaxis\":\"y\",\"type\":\"scatter\"},{\"hovertemplate\":\"\\u0433\\u0440\\u0443\\u043f\\u043f\\u0430 \\u043f\\u043e\\u043a\\u0443\\u043f\\u0430\\u0442\\u0435\\u043b\\u0435\\u0439=group_2<br>\\u0434\\u0430\\u0442\\u0430=%{x}<br>\\u0441\\u0440\\u0435\\u0434\\u043d\\u0438\\u0439 \\u0447\\u0435\\u043a=%{y}<extra></extra>\",\"legendgroup\":\"group_2\",\"line\":{\"color\":\"#00cc96\",\"dash\":\"solid\",\"shape\":\"spline\",\"width\":4},\"marker\":{\"symbol\":\"circle\"},\"mode\":\"lines\",\"name\":\"group_2\",\"orientation\":\"v\",\"showlegend\":true,\"x\":[\"2019-01-01T00:00:00\",\"2019-02-01T00:00:00\",\"2019-03-01T00:00:00\",\"2019-04-01T00:00:00\",\"2019-05-01T00:00:00\",\"2019-06-01T00:00:00\",\"2019-07-01T00:00:00\",\"2019-08-01T00:00:00\",\"2019-09-01T00:00:00\",\"2019-10-01T00:00:00\"],\"xaxis\":\"x\",\"y\":[1418.0,589.0,616.0,1400.0,1824.0,2897.0,1556.0,1248.0,1127.0,1291.0],\"yaxis\":\"y\",\"type\":\"scatter\"}],                        {\"template\":{\"data\":{\"bar\":[{\"error_x\":{\"color\":\"#2a3f5f\"},\"error_y\":{\"color\":\"#2a3f5f\"},\"marker\":{\"line\":{\"color\":\"#E5ECF6\",\"width\":0.5},\"pattern\":{\"fillmode\":\"overlay\",\"size\":10,\"solidity\":0.2}},\"type\":\"bar\"}],\"barpolar\":[{\"marker\":{\"line\":{\"color\":\"#E5ECF6\",\"width\":0.5},\"pattern\":{\"fillmode\":\"overlay\",\"size\":10,\"solidity\":0.2}},\"type\":\"barpolar\"}],\"carpet\":[{\"aaxis\":{\"endlinecolor\":\"#2a3f5f\",\"gridcolor\":\"white\",\"linecolor\":\"white\",\"minorgridcolor\":\"white\",\"startlinecolor\":\"#2a3f5f\"},\"baxis\":{\"endlinecolor\":\"#2a3f5f\",\"gridcolor\":\"white\",\"linecolor\":\"white\",\"minorgridcolor\":\"white\",\"startlinecolor\":\"#2a3f5f\"},\"type\":\"carpet\"}],\"choropleth\":[{\"colorbar\":{\"outlinewidth\":0,\"ticks\":\"\"},\"type\":\"choropleth\"}],\"contour\":[{\"colorbar\":{\"outlinewidth\":0,\"ticks\":\"\"},\"colorscale\":[[0.0,\"#0d0887\"],[0.1111111111111111,\"#46039f\"],[0.2222222222222222,\"#7201a8\"],[0.3333333333333333,\"#9c179e\"],[0.4444444444444444,\"#bd3786\"],[0.5555555555555556,\"#d8576b\"],[0.6666666666666666,\"#ed7953\"],[0.7777777777777778,\"#fb9f3a\"],[0.8888888888888888,\"#fdca26\"],[1.0,\"#f0f921\"]],\"type\":\"contour\"}],\"contourcarpet\":[{\"colorbar\":{\"outlinewidth\":0,\"ticks\":\"\"},\"type\":\"contourcarpet\"}],\"heatmap\":[{\"colorbar\":{\"outlinewidth\":0,\"ticks\":\"\"},\"colorscale\":[[0.0,\"#0d0887\"],[0.1111111111111111,\"#46039f\"],[0.2222222222222222,\"#7201a8\"],[0.3333333333333333,\"#9c179e\"],[0.4444444444444444,\"#bd3786\"],[0.5555555555555556,\"#d8576b\"],[0.6666666666666666,\"#ed7953\"],[0.7777777777777778,\"#fb9f3a\"],[0.8888888888888888,\"#fdca26\"],[1.0,\"#f0f921\"]],\"type\":\"heatmap\"}],\"heatmapgl\":[{\"colorbar\":{\"outlinewidth\":0,\"ticks\":\"\"},\"colorscale\":[[0.0,\"#0d0887\"],[0.1111111111111111,\"#46039f\"],[0.2222222222222222,\"#7201a8\"],[0.3333333333333333,\"#9c179e\"],[0.4444444444444444,\"#bd3786\"],[0.5555555555555556,\"#d8576b\"],[0.6666666666666666,\"#ed7953\"],[0.7777777777777778,\"#fb9f3a\"],[0.8888888888888888,\"#fdca26\"],[1.0,\"#f0f921\"]],\"type\":\"heatmapgl\"}],\"histogram\":[{\"marker\":{\"pattern\":{\"fillmode\":\"overlay\",\"size\":10,\"solidity\":0.2}},\"type\":\"histogram\"}],\"histogram2d\":[{\"colorbar\":{\"outlinewidth\":0,\"ticks\":\"\"},\"colorscale\":[[0.0,\"#0d0887\"],[0.1111111111111111,\"#46039f\"],[0.2222222222222222,\"#7201a8\"],[0.3333333333333333,\"#9c179e\"],[0.4444444444444444,\"#bd3786\"],[0.5555555555555556,\"#d8576b\"],[0.6666666666666666,\"#ed7953\"],[0.7777777777777778,\"#fb9f3a\"],[0.8888888888888888,\"#fdca26\"],[1.0,\"#f0f921\"]],\"type\":\"histogram2d\"}],\"histogram2dcontour\":[{\"colorbar\":{\"outlinewidth\":0,\"ticks\":\"\"},\"colorscale\":[[0.0,\"#0d0887\"],[0.1111111111111111,\"#46039f\"],[0.2222222222222222,\"#7201a8\"],[0.3333333333333333,\"#9c179e\"],[0.4444444444444444,\"#bd3786\"],[0.5555555555555556,\"#d8576b\"],[0.6666666666666666,\"#ed7953\"],[0.7777777777777778,\"#fb9f3a\"],[0.8888888888888888,\"#fdca26\"],[1.0,\"#f0f921\"]],\"type\":\"histogram2dcontour\"}],\"mesh3d\":[{\"colorbar\":{\"outlinewidth\":0,\"ticks\":\"\"},\"type\":\"mesh3d\"}],\"parcoords\":[{\"line\":{\"colorbar\":{\"outlinewidth\":0,\"ticks\":\"\"}},\"type\":\"parcoords\"}],\"pie\":[{\"automargin\":true,\"type\":\"pie\"}],\"scatter\":[{\"marker\":{\"colorbar\":{\"outlinewidth\":0,\"ticks\":\"\"}},\"type\":\"scatter\"}],\"scatter3d\":[{\"line\":{\"colorbar\":{\"outlinewidth\":0,\"ticks\":\"\"}},\"marker\":{\"colorbar\":{\"outlinewidth\":0,\"ticks\":\"\"}},\"type\":\"scatter3d\"}],\"scattercarpet\":[{\"marker\":{\"colorbar\":{\"outlinewidth\":0,\"ticks\":\"\"}},\"type\":\"scattercarpet\"}],\"scattergeo\":[{\"marker\":{\"colorbar\":{\"outlinewidth\":0,\"ticks\":\"\"}},\"type\":\"scattergeo\"}],\"scattergl\":[{\"marker\":{\"colorbar\":{\"outlinewidth\":0,\"ticks\":\"\"}},\"type\":\"scattergl\"}],\"scattermapbox\":[{\"marker\":{\"colorbar\":{\"outlinewidth\":0,\"ticks\":\"\"}},\"type\":\"scattermapbox\"}],\"scatterpolar\":[{\"marker\":{\"colorbar\":{\"outlinewidth\":0,\"ticks\":\"\"}},\"type\":\"scatterpolar\"}],\"scatterpolargl\":[{\"marker\":{\"colorbar\":{\"outlinewidth\":0,\"ticks\":\"\"}},\"type\":\"scatterpolargl\"}],\"scatterternary\":[{\"marker\":{\"colorbar\":{\"outlinewidth\":0,\"ticks\":\"\"}},\"type\":\"scatterternary\"}],\"surface\":[{\"colorbar\":{\"outlinewidth\":0,\"ticks\":\"\"},\"colorscale\":[[0.0,\"#0d0887\"],[0.1111111111111111,\"#46039f\"],[0.2222222222222222,\"#7201a8\"],[0.3333333333333333,\"#9c179e\"],[0.4444444444444444,\"#bd3786\"],[0.5555555555555556,\"#d8576b\"],[0.6666666666666666,\"#ed7953\"],[0.7777777777777778,\"#fb9f3a\"],[0.8888888888888888,\"#fdca26\"],[1.0,\"#f0f921\"]],\"type\":\"surface\"}],\"table\":[{\"cells\":{\"fill\":{\"color\":\"#EBF0F8\"},\"line\":{\"color\":\"white\"}},\"header\":{\"fill\":{\"color\":\"#C8D4E3\"},\"line\":{\"color\":\"white\"}},\"type\":\"table\"}]},\"layout\":{\"annotationdefaults\":{\"arrowcolor\":\"#2a3f5f\",\"arrowhead\":0,\"arrowwidth\":1},\"autotypenumbers\":\"strict\",\"coloraxis\":{\"colorbar\":{\"outlinewidth\":0,\"ticks\":\"\"}},\"colorscale\":{\"diverging\":[[0,\"#8e0152\"],[0.1,\"#c51b7d\"],[0.2,\"#de77ae\"],[0.3,\"#f1b6da\"],[0.4,\"#fde0ef\"],[0.5,\"#f7f7f7\"],[0.6,\"#e6f5d0\"],[0.7,\"#b8e186\"],[0.8,\"#7fbc41\"],[0.9,\"#4d9221\"],[1,\"#276419\"]],\"sequential\":[[0.0,\"#0d0887\"],[0.1111111111111111,\"#46039f\"],[0.2222222222222222,\"#7201a8\"],[0.3333333333333333,\"#9c179e\"],[0.4444444444444444,\"#bd3786\"],[0.5555555555555556,\"#d8576b\"],[0.6666666666666666,\"#ed7953\"],[0.7777777777777778,\"#fb9f3a\"],[0.8888888888888888,\"#fdca26\"],[1.0,\"#f0f921\"]],\"sequentialminus\":[[0.0,\"#0d0887\"],[0.1111111111111111,\"#46039f\"],[0.2222222222222222,\"#7201a8\"],[0.3333333333333333,\"#9c179e\"],[0.4444444444444444,\"#bd3786\"],[0.5555555555555556,\"#d8576b\"],[0.6666666666666666,\"#ed7953\"],[0.7777777777777778,\"#fb9f3a\"],[0.8888888888888888,\"#fdca26\"],[1.0,\"#f0f921\"]]},\"colorway\":[\"#636efa\",\"#EF553B\",\"#00cc96\",\"#ab63fa\",\"#FFA15A\",\"#19d3f3\",\"#FF6692\",\"#B6E880\",\"#FF97FF\",\"#FECB52\"],\"font\":{\"color\":\"#2a3f5f\"},\"geo\":{\"bgcolor\":\"white\",\"lakecolor\":\"white\",\"landcolor\":\"#E5ECF6\",\"showlakes\":true,\"showland\":true,\"subunitcolor\":\"white\"},\"hoverlabel\":{\"align\":\"left\"},\"hovermode\":\"closest\",\"mapbox\":{\"style\":\"light\"},\"paper_bgcolor\":\"white\",\"plot_bgcolor\":\"#E5ECF6\",\"polar\":{\"angularaxis\":{\"gridcolor\":\"white\",\"linecolor\":\"white\",\"ticks\":\"\"},\"bgcolor\":\"#E5ECF6\",\"radialaxis\":{\"gridcolor\":\"white\",\"linecolor\":\"white\",\"ticks\":\"\"}},\"scene\":{\"xaxis\":{\"backgroundcolor\":\"#E5ECF6\",\"gridcolor\":\"white\",\"gridwidth\":2,\"linecolor\":\"white\",\"showbackground\":true,\"ticks\":\"\",\"zerolinecolor\":\"white\"},\"yaxis\":{\"backgroundcolor\":\"#E5ECF6\",\"gridcolor\":\"white\",\"gridwidth\":2,\"linecolor\":\"white\",\"showbackground\":true,\"ticks\":\"\",\"zerolinecolor\":\"white\"},\"zaxis\":{\"backgroundcolor\":\"#E5ECF6\",\"gridcolor\":\"white\",\"gridwidth\":2,\"linecolor\":\"white\",\"showbackground\":true,\"ticks\":\"\",\"zerolinecolor\":\"white\"}},\"shapedefaults\":{\"line\":{\"color\":\"#2a3f5f\"}},\"ternary\":{\"aaxis\":{\"gridcolor\":\"white\",\"linecolor\":\"white\",\"ticks\":\"\"},\"baxis\":{\"gridcolor\":\"white\",\"linecolor\":\"white\",\"ticks\":\"\"},\"bgcolor\":\"#E5ECF6\",\"caxis\":{\"gridcolor\":\"white\",\"linecolor\":\"white\",\"ticks\":\"\"}},\"title\":{\"x\":0.05},\"xaxis\":{\"automargin\":true,\"gridcolor\":\"white\",\"linecolor\":\"white\",\"ticks\":\"\",\"title\":{\"standoff\":15},\"zerolinecolor\":\"white\",\"zerolinewidth\":2},\"yaxis\":{\"automargin\":true,\"gridcolor\":\"white\",\"linecolor\":\"white\",\"ticks\":\"\",\"title\":{\"standoff\":15},\"zerolinecolor\":\"white\",\"zerolinewidth\":2}}},\"xaxis\":{\"anchor\":\"y\",\"domain\":[0.0,1.0],\"title\":{\"text\":\"\\u0434\\u0430\\u0442\\u0430\"}},\"yaxis\":{\"anchor\":\"x\",\"domain\":[0.0,1.0],\"title\":{\"text\":\"\\u0441\\u0440\\u0435\\u0434\\u043d\\u0438\\u0439 \\u0447\\u0435\\u043a\"}},\"legend\":{\"title\":{\"text\":\"\\u0433\\u0440\\u0443\\u043f\\u043f\\u0430 \\u043f\\u043e\\u043a\\u0443\\u043f\\u0430\\u0442\\u0435\\u043b\\u0435\\u0439\"},\"tracegroupgap\":0},\"title\":{\"text\":\"\\u0421\\u0440\\u0435\\u0434\\u043d\\u0438\\u0439 \\u0447\\u0435\\u043a \\u0433\\u0440\\u0443\\u043f\\u043f \\u043f\\u043e\\u043a\\u0443\\u043f\\u0430\\u0442\\u0435\\u043b\\u0435\\u0439\"}},                        {\"responsive\": true}                    ).then(function(){\n",
       "                            \n",
       "var gd = document.getElementById('8dcd8e1e-ed79-4e0a-a774-84666af272f8');\n",
       "var x = new MutationObserver(function (mutations, observer) {{\n",
       "        var display = window.getComputedStyle(gd).display;\n",
       "        if (!display || display === 'none') {{\n",
       "            console.log([gd, 'removed!']);\n",
       "            Plotly.purge(gd);\n",
       "            observer.disconnect();\n",
       "        }}\n",
       "}});\n",
       "\n",
       "// Listen for the removal of the full notebook cells\n",
       "var notebookContainer = gd.closest('#notebook-container');\n",
       "if (notebookContainer) {{\n",
       "    x.observe(notebookContainer, {childList: true});\n",
       "}}\n",
       "\n",
       "// Listen for the clearing of the current output cell\n",
       "var outputEl = gd.closest('.output');\n",
       "if (outputEl) {{\n",
       "    x.observe(outputEl, {childList: true});\n",
       "}}\n",
       "\n",
       "                        })                };                });            </script>        </div>"
      ]
     },
     "metadata": {},
     "output_type": "display_data"
    }
   ],
   "source": [
    "fig = px.line(mean_chek,\n",
    "              x='date_round',\n",
    "              y='mean_chek',\n",
    "              color='major_group',\n",
    "              title='Средний чек групп покупателей',\n",
    "              labels=dict(date_round='дата', mean_chek='средний чек',\n",
    "                          major_group='группа покупателей'),\n",
    "              line_shape='spline'\n",
    "              )\n",
    "\n",
    "fig.update_traces(line_width=4)\n",
    "iplot(fig)"
   ]
  },
  {
   "cell_type": "markdown",
   "metadata": {},
   "source": [
    "Как видим, группа 1 (ушедщие пользователи) имеют средний чек выше ,чем у постоянных пользователей(группа 3) с октября по апрель - покупают на большие суммы за меньшее число заказов. А в группе 2 (неактивные пользователи) просаживается средний чек в феврал и марте - то есть они совершают много заказов. У постоянных пользователей средний чек скачет в марте, июне , сентябре и декабре - совершают дорогие покупки за меньшее число заказов."
   ]
  },
  {
   "cell_type": "markdown",
   "metadata": {},
   "source": [
    "### Товары"
   ]
  },
  {
   "cell_type": "markdown",
   "metadata": {},
   "source": [
    "Совершим теперь категоризацию товаров обобщив по принадлежности, например, если есть слова `рассада` или `сорт` то ему присвоится `рассада и растения`. Напишем функцию с сключевыми словами и окнчаниями слов, на основе котрых можно присвоить категорию. "
   ]
  },
  {
   "cell_type": "code",
   "execution_count": null,
   "metadata": {},
   "outputs": [],
   "source": [
    "def categorizator(words):\n",
    "    \"\"\"категоризатор товаров\"\"\"\n",
    "\n",
    "    # проверка на входящие слова - если есть то вернет Правду\n",
    "    def proverka(key_words):\n",
    "        \n",
    "        return any(\n",
    "            filter(\n",
    "                lambda x: x in words,\n",
    "                key_words\n",
    "            )\n",
    "        )\n",
    "\n",
    "    if proverka(['рассада', 'растение', 'цветок', 'в упаковке',\n",
    "                 'пеларгония', 'бакопа', 'вербена',\n",
    "                 'сорт', 'герань', 'фуксия', 'лист',\n",
    "                 'петуния', 'черенок', 'в горшке', 'баклажан',\n",
    "                 'калибрахоа', 'цикламен', 'эвкалипт', 'колокольчик',\n",
    "                 'циперус', 'раннеспел', 'крупноцветков',\n",
    "                 'среднеспел', 'скороспел', 'комнатн', 'олистн', 'лаванда', 'кипарис',\n",
    "                 'томат', 'гвоздика', 'дыня', 'фиалка', 'смесь', 'в кассете', 'лекарствен', 'обыкновен',\n",
    "\n",
    "                 'ум ', 'ения ', 'егия ', 'ус ', 'ния ', 'ония ', 'ис ', 'ия ', 'ея ', 'ин ', 'лик ', 'лла ',\n",
    "                 'ола ', 'ера ', 'оза ', 'барвинок', 'сантолина',\n",
    "\n",
    "                 'базилик', 'травянист', 'тимьян', 'зверобой ', 'мята', 'каланхое', 'замиокулькас ',\n",
    "                 'камнеломка', 'овсянница', 'горшок', 'календула', 'юкка', 'солидаго ', 'подсолнечник',\n",
    "                 'роза', 'котовник', 'афеляндра ', 'хризантема', 'лавр', 'муррайя ', 'огурец ',\n",
    "                 'вербейник ', 'лобелия', ' микс ', 'арбуз', 'морковь', 'алоэ', 'бархатцы', 'монарда',\n",
    "                 'настурция', 'садов', 'капуста', 'седум', 'флокс ', 'крассула ', 'тюльпан ',\n",
    "                 'калатея ', 'мирт ', 'ясколка ', 'кофе', 'настурция', 'чабер', 'петрушка ', 'земляника ',\n",
    "                 'эхеверия ', 'незабудка ', 'мединилла ', 'нолина ', 'папоротник', 'лен ', 'львиный зев', 'георгина ',\n",
    "                 'клубника ', 'каллуна ', 'смолевка ', 'драцена ', 'пахира ', 'анемона ', 'лантана ']):\n",
    "\n",
    "        return 'рассада и растения'\n",
    "\n",
    "    elif proverka(['муляж', 'новогод', 'кашпо', 'искусствен', 'декор']):\n",
    "        return 'декор'\n",
    "\n",
    "    elif proverka(['для ванн', 'мыл', 'для туалет', 'для унитаза', 'в ванну']):\n",
    "        return 'предметы для ванной комнаты'\n",
    "\n",
    "    elif proverka(['средство', 'чист', 'для мытья', 'антижир', 'для стирки', 'сумка', 'тележка', 'вешал', 'для посудомоеч',\n",
    "                   'сушилка', 'стремян', 'лестница', 'для хранения', 'окон', 'крючок', 'кофр ', 'корзин',\n",
    "                   'плечики', 'щетка', 'подкладка', 'для глаженного', 'короб', 'веник', 'для тележки', 'прищеп',\n",
    "                   'для белья', 'одежды', 'гладил', 'корыто', 'подрукав', 'ковш', 'для штор', 'бидон', 'мусор', 'лапчатка ',\n",
    "                   'таз', 'ванна ', 'вантуз', 'для одежды', 'для досок', 'ведр', 'урна', 'зажигал', 'рассекатель ',\n",
    "                   'окномойка', 'швабра', 'подголовник', 'котел', 'для костюма', 'для утюг', 'совок', 'совком', 'ерш', 'ящик', 'ложка обувная',\n",
    "                   'тряпкодержатель', 'перчатки', 'для полировки', 'зубная паста', 'eurohouse', 'rozenbal', 'стирки']):\n",
    "        return 'хозтовары'\n",
    "\n",
    "    elif proverka(['полки', 'комод', 'для обуви',\n",
    "                   'обувница', 'пуф ', 'придверный',\n",
    "                   'этажерка', 'коврик', 'картина', 'золот', 'фоторамка']):\n",
    "        return 'интерьер, мебель'\n",
    "\n",
    "    elif proverka(['махров', 'ткань', 'флис',\n",
    "                   'пух', 'покрывало', 'микрофибр', 'чехол ',\n",
    "                   'скатерть', 'халат', 'хлопок',\n",
    "                   'постельн', 'полиэстер']):\n",
    "        return 'текстиль'\n",
    "\n",
    "    elif proverka(['блюд', 'кувшин', 'салатник', 'для кухни', 'кухонн',\n",
    "                   'кружка', 'сковород', 'хлебница', 'сито ', 'webber',\n",
    "                   'салфет', 'фарфор', 'термос ', ' эмал', 'банк', 'кастр', 'чеснок',\n",
    "                   'тарелка', 'банка', 'терка', 'миксер', 'чайн', 'варка', 'толкушка', 'противень ',\n",
    "                   'миска', 'для муки', 'тортница', 'штопор', 'венчик', 'кондитер', 'отделитель ',\n",
    "                   'скалка', 'столов', 'для выпечки', 'pasabahce', 'лоток ', 'attribute blossom',\n",
    "                   'для свч', 'контейнер', 'luminarc', 'стакан', 'pyrex', 'tvs', 'viva attribute',\n",
    "                   'разделочн', 'кекс', 'картофелемялка', 'bamboo', 'wilmax']):\n",
    "\n",
    "        return 'посуда, товары для кухни'\n",
    "\n",
    "    elif proverka(['термометр', 'нож', 'штангенциркуль', 'весы', 'сверло', 'сверел',\n",
    "                   'шило',\n",
    "                   'фал', 'шпагат ', 'шнур ', 'фиксатор',\n",
    "                   'линейка', 'напильник', 'инструмент', 'измерительн']):\n",
    "        return 'инструменты, такелаж'\n",
    "\n",
    "    elif proverka([' вт ', ' квт ', 'электр', 'perfectolight']):\n",
    "        return 'электроприборы'\n",
    "\n",
    "    elif proverka(['петля', 'стяжка', 'шпингалет', 'крепеж', 'завертка', 'ручка']):\n",
    "        return 'фурнитура'\n",
    "\n",
    "    elif proverka(['подароч']):\n",
    "        return 'подарки на праздники'\n",
    "\n",
    "    else:\n",
    "        return words  # проверка"
   ]
  },
  {
   "cell_type": "markdown",
   "metadata": {},
   "source": [
    "применим и проверим"
   ]
  },
  {
   "cell_type": "code",
   "execution_count": null,
   "metadata": {},
   "outputs": [
    {
     "data": {
      "text/plain": [
       "рассада и растения             4587\n",
       "хозтовары                      1581\n",
       "посуда, товары для кухни        392\n",
       "декор                           196\n",
       "предметы для ванной комнаты     169\n",
       "интерьер, мебель                145\n",
       "инструменты, такелаж             73\n",
       "текстиль                         73\n",
       "фурнитура                        17\n",
       "электроприборы                    4\n",
       "подарки на праздники              3\n",
       "Name: category_product, dtype: int64"
      ]
     },
     "execution_count": 56,
     "metadata": {},
     "output_type": "execute_result"
    }
   ],
   "source": [
    "customer_with_group['category_product'] = (customer_with_group['product']\n",
    "                                           .apply(categorizator))\n",
    "\n",
    "\n",
    "customer_with_group['category_product'].value_counts()"
   ]
  },
  {
   "cell_type": "markdown",
   "metadata": {},
   "source": [
    "Товары побеждены и категоризированы"
   ]
  },
  {
   "cell_type": "code",
   "execution_count": null,
   "metadata": {},
   "outputs": [],
   "source": [
    "pop_category = (customer_with_group\n",
    "                .groupby(['major_group', 'category_product'], as_index=False)\n",
    "                .agg({'quantity': 'sum'}))"
   ]
  },
  {
   "cell_type": "markdown",
   "metadata": {},
   "source": [
    "перед построением гррафика отсортируем по группе по числу товаров"
   ]
  },
  {
   "cell_type": "code",
   "execution_count": null,
   "metadata": {},
   "outputs": [],
   "source": [
    "pop_category = (pop_category\n",
    "                .sort_values(['major_group', 'quantity'], ascending=[True, False]))"
   ]
  },
  {
   "cell_type": "code",
   "execution_count": null,
   "metadata": {},
   "outputs": [
    {
     "data": {
      "application/vnd.plotly.v1+json": {
       "config": {
        "plotlyServerURL": "https://plot.ly"
       },
       "data": [
        {
         "alignmentgroup": "True",
         "hovertemplate": "категория товара=рассада и растения<br>сегмент пользователей=%{x}<br>кол-во купленных товаров в категории=%{y}<extra></extra>",
         "legendgroup": "рассада и растения",
         "marker": {
          "color": "rgb(95, 70, 144)",
          "pattern": {
           "shape": ""
          }
         },
         "name": "рассада и растения",
         "offsetgroup": "рассада и растения",
         "orientation": "v",
         "showlegend": true,
         "textposition": "auto",
         "type": "bar",
         "x": [
          "group_1",
          "group_2",
          "group_3"
         ],
         "xaxis": "x",
         "y": [
          2430,
          4403,
          697
         ],
         "yaxis": "y"
        },
        {
         "alignmentgroup": "True",
         "hovertemplate": "категория товара=хозтовары<br>сегмент пользователей=%{x}<br>кол-во купленных товаров в категории=%{y}<extra></extra>",
         "legendgroup": "хозтовары",
         "marker": {
          "color": "rgb(29, 105, 150)",
          "pattern": {
           "shape": ""
          }
         },
         "name": "хозтовары",
         "offsetgroup": "хозтовары",
         "orientation": "v",
         "showlegend": true,
         "textposition": "auto",
         "type": "bar",
         "x": [
          "group_1",
          "group_2",
          "group_3"
         ],
         "xaxis": "x",
         "y": [
          1969,
          1117,
          792
         ],
         "yaxis": "y"
        },
        {
         "alignmentgroup": "True",
         "hovertemplate": "категория товара=декор<br>сегмент пользователей=%{x}<br>кол-во купленных товаров в категории=%{y}<extra></extra>",
         "legendgroup": "декор",
         "marker": {
          "color": "rgb(56, 166, 165)",
          "pattern": {
           "shape": ""
          }
         },
         "name": "декор",
         "offsetgroup": "декор",
         "orientation": "v",
         "showlegend": true,
         "textposition": "auto",
         "type": "bar",
         "x": [
          "group_1",
          "group_2",
          "group_3"
         ],
         "xaxis": "x",
         "y": [
          908,
          497,
          81
         ],
         "yaxis": "y"
        },
        {
         "alignmentgroup": "True",
         "hovertemplate": "категория товара=посуда, товары для кухни<br>сегмент пользователей=%{x}<br>кол-во купленных товаров в категории=%{y}<extra></extra>",
         "legendgroup": "посуда, товары для кухни",
         "marker": {
          "color": "rgb(15, 133, 84)",
          "pattern": {
           "shape": ""
          }
         },
         "name": "посуда, товары для кухни",
         "offsetgroup": "посуда, товары для кухни",
         "orientation": "v",
         "showlegend": true,
         "textposition": "auto",
         "type": "bar",
         "x": [
          "group_1",
          "group_2",
          "group_3"
         ],
         "xaxis": "x",
         "y": [
          695,
          387,
          145
         ],
         "yaxis": "y"
        },
        {
         "alignmentgroup": "True",
         "hovertemplate": "категория товара=фурнитура<br>сегмент пользователей=%{x}<br>кол-во купленных товаров в категории=%{y}<extra></extra>",
         "legendgroup": "фурнитура",
         "marker": {
          "color": "rgb(115, 175, 72)",
          "pattern": {
           "shape": ""
          }
         },
         "name": "фурнитура",
         "offsetgroup": "фурнитура",
         "orientation": "v",
         "showlegend": true,
         "textposition": "auto",
         "type": "bar",
         "x": [
          "group_1",
          "group_2",
          "group_3"
         ],
         "xaxis": "x",
         "y": [
          576,
          212,
          101
         ],
         "yaxis": "y"
        },
        {
         "alignmentgroup": "True",
         "hovertemplate": "категория товара=инструменты, такелаж<br>сегмент пользователей=%{x}<br>кол-во купленных товаров в категории=%{y}<extra></extra>",
         "legendgroup": "инструменты, такелаж",
         "marker": {
          "color": "rgb(237, 173, 8)",
          "pattern": {
           "shape": ""
          }
         },
         "name": "инструменты, такелаж",
         "offsetgroup": "инструменты, такелаж",
         "orientation": "v",
         "showlegend": true,
         "textposition": "auto",
         "type": "bar",
         "x": [
          "group_1",
          "group_2",
          "group_3"
         ],
         "xaxis": "x",
         "y": [
          149,
          31,
          22
         ],
         "yaxis": "y"
        },
        {
         "alignmentgroup": "True",
         "hovertemplate": "категория товара=текстиль<br>сегмент пользователей=%{x}<br>кол-во купленных товаров в категории=%{y}<extra></extra>",
         "legendgroup": "текстиль",
         "marker": {
          "color": "rgb(225, 124, 5)",
          "pattern": {
           "shape": ""
          }
         },
         "name": "текстиль",
         "offsetgroup": "текстиль",
         "orientation": "v",
         "showlegend": true,
         "textposition": "auto",
         "type": "bar",
         "x": [
          "group_1",
          "group_2",
          "group_3"
         ],
         "xaxis": "x",
         "y": [
          111,
          71,
          26
         ],
         "yaxis": "y"
        },
        {
         "alignmentgroup": "True",
         "hovertemplate": "категория товара=интерьер, мебель<br>сегмент пользователей=%{x}<br>кол-во купленных товаров в категории=%{y}<extra></extra>",
         "legendgroup": "интерьер, мебель",
         "marker": {
          "color": "rgb(204, 80, 62)",
          "pattern": {
           "shape": ""
          }
         },
         "name": "интерьер, мебель",
         "offsetgroup": "интерьер, мебель",
         "orientation": "v",
         "showlegend": true,
         "textposition": "auto",
         "type": "bar",
         "x": [
          "group_1",
          "group_2",
          "group_3"
         ],
         "xaxis": "x",
         "y": [
          93,
          95,
          65
         ],
         "yaxis": "y"
        },
        {
         "alignmentgroup": "True",
         "hovertemplate": "категория товара=предметы для ванной комнаты<br>сегмент пользователей=%{x}<br>кол-во купленных товаров в категории=%{y}<extra></extra>",
         "legendgroup": "предметы для ванной комнаты",
         "marker": {
          "color": "rgb(148, 52, 110)",
          "pattern": {
           "shape": ""
          }
         },
         "name": "предметы для ванной комнаты",
         "offsetgroup": "предметы для ванной комнаты",
         "orientation": "v",
         "showlegend": true,
         "textposition": "auto",
         "type": "bar",
         "x": [
          "group_1",
          "group_2",
          "group_3"
         ],
         "xaxis": "x",
         "y": [
          73,
          98,
          64
         ],
         "yaxis": "y"
        },
        {
         "alignmentgroup": "True",
         "hovertemplate": "категория товара=подарки на праздники<br>сегмент пользователей=%{x}<br>кол-во купленных товаров в категории=%{y}<extra></extra>",
         "legendgroup": "подарки на праздники",
         "marker": {
          "color": "rgb(111, 64, 112)",
          "pattern": {
           "shape": ""
          }
         },
         "name": "подарки на праздники",
         "offsetgroup": "подарки на праздники",
         "orientation": "v",
         "showlegend": true,
         "textposition": "auto",
         "type": "bar",
         "x": [
          "group_1",
          "group_3"
         ],
         "xaxis": "x",
         "y": [
          17,
          1
         ],
         "yaxis": "y"
        },
        {
         "alignmentgroup": "True",
         "hovertemplate": "категория товара=электроприборы<br>сегмент пользователей=%{x}<br>кол-во купленных товаров в категории=%{y}<extra></extra>",
         "legendgroup": "электроприборы",
         "marker": {
          "color": "rgb(102, 102, 102)",
          "pattern": {
           "shape": ""
          }
         },
         "name": "электроприборы",
         "offsetgroup": "электроприборы",
         "orientation": "v",
         "showlegend": true,
         "textposition": "auto",
         "type": "bar",
         "x": [
          "group_1",
          "group_3"
         ],
         "xaxis": "x",
         "y": [
          2,
          4
         ],
         "yaxis": "y"
        }
       ],
       "layout": {
        "barmode": "group",
        "legend": {
         "title": {
          "text": "категория товара"
         },
         "tracegroupgap": 0
        },
        "template": {
         "data": {
          "bar": [
           {
            "error_x": {
             "color": "#2a3f5f"
            },
            "error_y": {
             "color": "#2a3f5f"
            },
            "marker": {
             "line": {
              "color": "#E5ECF6",
              "width": 0.5
             },
             "pattern": {
              "fillmode": "overlay",
              "size": 10,
              "solidity": 0.2
             }
            },
            "type": "bar"
           }
          ],
          "barpolar": [
           {
            "marker": {
             "line": {
              "color": "#E5ECF6",
              "width": 0.5
             },
             "pattern": {
              "fillmode": "overlay",
              "size": 10,
              "solidity": 0.2
             }
            },
            "type": "barpolar"
           }
          ],
          "carpet": [
           {
            "aaxis": {
             "endlinecolor": "#2a3f5f",
             "gridcolor": "white",
             "linecolor": "white",
             "minorgridcolor": "white",
             "startlinecolor": "#2a3f5f"
            },
            "baxis": {
             "endlinecolor": "#2a3f5f",
             "gridcolor": "white",
             "linecolor": "white",
             "minorgridcolor": "white",
             "startlinecolor": "#2a3f5f"
            },
            "type": "carpet"
           }
          ],
          "choropleth": [
           {
            "colorbar": {
             "outlinewidth": 0,
             "ticks": ""
            },
            "type": "choropleth"
           }
          ],
          "contour": [
           {
            "colorbar": {
             "outlinewidth": 0,
             "ticks": ""
            },
            "colorscale": [
             [
              0,
              "#0d0887"
             ],
             [
              0.1111111111111111,
              "#46039f"
             ],
             [
              0.2222222222222222,
              "#7201a8"
             ],
             [
              0.3333333333333333,
              "#9c179e"
             ],
             [
              0.4444444444444444,
              "#bd3786"
             ],
             [
              0.5555555555555556,
              "#d8576b"
             ],
             [
              0.6666666666666666,
              "#ed7953"
             ],
             [
              0.7777777777777778,
              "#fb9f3a"
             ],
             [
              0.8888888888888888,
              "#fdca26"
             ],
             [
              1,
              "#f0f921"
             ]
            ],
            "type": "contour"
           }
          ],
          "contourcarpet": [
           {
            "colorbar": {
             "outlinewidth": 0,
             "ticks": ""
            },
            "type": "contourcarpet"
           }
          ],
          "heatmap": [
           {
            "colorbar": {
             "outlinewidth": 0,
             "ticks": ""
            },
            "colorscale": [
             [
              0,
              "#0d0887"
             ],
             [
              0.1111111111111111,
              "#46039f"
             ],
             [
              0.2222222222222222,
              "#7201a8"
             ],
             [
              0.3333333333333333,
              "#9c179e"
             ],
             [
              0.4444444444444444,
              "#bd3786"
             ],
             [
              0.5555555555555556,
              "#d8576b"
             ],
             [
              0.6666666666666666,
              "#ed7953"
             ],
             [
              0.7777777777777778,
              "#fb9f3a"
             ],
             [
              0.8888888888888888,
              "#fdca26"
             ],
             [
              1,
              "#f0f921"
             ]
            ],
            "type": "heatmap"
           }
          ],
          "heatmapgl": [
           {
            "colorbar": {
             "outlinewidth": 0,
             "ticks": ""
            },
            "colorscale": [
             [
              0,
              "#0d0887"
             ],
             [
              0.1111111111111111,
              "#46039f"
             ],
             [
              0.2222222222222222,
              "#7201a8"
             ],
             [
              0.3333333333333333,
              "#9c179e"
             ],
             [
              0.4444444444444444,
              "#bd3786"
             ],
             [
              0.5555555555555556,
              "#d8576b"
             ],
             [
              0.6666666666666666,
              "#ed7953"
             ],
             [
              0.7777777777777778,
              "#fb9f3a"
             ],
             [
              0.8888888888888888,
              "#fdca26"
             ],
             [
              1,
              "#f0f921"
             ]
            ],
            "type": "heatmapgl"
           }
          ],
          "histogram": [
           {
            "marker": {
             "pattern": {
              "fillmode": "overlay",
              "size": 10,
              "solidity": 0.2
             }
            },
            "type": "histogram"
           }
          ],
          "histogram2d": [
           {
            "colorbar": {
             "outlinewidth": 0,
             "ticks": ""
            },
            "colorscale": [
             [
              0,
              "#0d0887"
             ],
             [
              0.1111111111111111,
              "#46039f"
             ],
             [
              0.2222222222222222,
              "#7201a8"
             ],
             [
              0.3333333333333333,
              "#9c179e"
             ],
             [
              0.4444444444444444,
              "#bd3786"
             ],
             [
              0.5555555555555556,
              "#d8576b"
             ],
             [
              0.6666666666666666,
              "#ed7953"
             ],
             [
              0.7777777777777778,
              "#fb9f3a"
             ],
             [
              0.8888888888888888,
              "#fdca26"
             ],
             [
              1,
              "#f0f921"
             ]
            ],
            "type": "histogram2d"
           }
          ],
          "histogram2dcontour": [
           {
            "colorbar": {
             "outlinewidth": 0,
             "ticks": ""
            },
            "colorscale": [
             [
              0,
              "#0d0887"
             ],
             [
              0.1111111111111111,
              "#46039f"
             ],
             [
              0.2222222222222222,
              "#7201a8"
             ],
             [
              0.3333333333333333,
              "#9c179e"
             ],
             [
              0.4444444444444444,
              "#bd3786"
             ],
             [
              0.5555555555555556,
              "#d8576b"
             ],
             [
              0.6666666666666666,
              "#ed7953"
             ],
             [
              0.7777777777777778,
              "#fb9f3a"
             ],
             [
              0.8888888888888888,
              "#fdca26"
             ],
             [
              1,
              "#f0f921"
             ]
            ],
            "type": "histogram2dcontour"
           }
          ],
          "mesh3d": [
           {
            "colorbar": {
             "outlinewidth": 0,
             "ticks": ""
            },
            "type": "mesh3d"
           }
          ],
          "parcoords": [
           {
            "line": {
             "colorbar": {
              "outlinewidth": 0,
              "ticks": ""
             }
            },
            "type": "parcoords"
           }
          ],
          "pie": [
           {
            "automargin": true,
            "type": "pie"
           }
          ],
          "scatter": [
           {
            "marker": {
             "colorbar": {
              "outlinewidth": 0,
              "ticks": ""
             }
            },
            "type": "scatter"
           }
          ],
          "scatter3d": [
           {
            "line": {
             "colorbar": {
              "outlinewidth": 0,
              "ticks": ""
             }
            },
            "marker": {
             "colorbar": {
              "outlinewidth": 0,
              "ticks": ""
             }
            },
            "type": "scatter3d"
           }
          ],
          "scattercarpet": [
           {
            "marker": {
             "colorbar": {
              "outlinewidth": 0,
              "ticks": ""
             }
            },
            "type": "scattercarpet"
           }
          ],
          "scattergeo": [
           {
            "marker": {
             "colorbar": {
              "outlinewidth": 0,
              "ticks": ""
             }
            },
            "type": "scattergeo"
           }
          ],
          "scattergl": [
           {
            "marker": {
             "colorbar": {
              "outlinewidth": 0,
              "ticks": ""
             }
            },
            "type": "scattergl"
           }
          ],
          "scattermapbox": [
           {
            "marker": {
             "colorbar": {
              "outlinewidth": 0,
              "ticks": ""
             }
            },
            "type": "scattermapbox"
           }
          ],
          "scatterpolar": [
           {
            "marker": {
             "colorbar": {
              "outlinewidth": 0,
              "ticks": ""
             }
            },
            "type": "scatterpolar"
           }
          ],
          "scatterpolargl": [
           {
            "marker": {
             "colorbar": {
              "outlinewidth": 0,
              "ticks": ""
             }
            },
            "type": "scatterpolargl"
           }
          ],
          "scatterternary": [
           {
            "marker": {
             "colorbar": {
              "outlinewidth": 0,
              "ticks": ""
             }
            },
            "type": "scatterternary"
           }
          ],
          "surface": [
           {
            "colorbar": {
             "outlinewidth": 0,
             "ticks": ""
            },
            "colorscale": [
             [
              0,
              "#0d0887"
             ],
             [
              0.1111111111111111,
              "#46039f"
             ],
             [
              0.2222222222222222,
              "#7201a8"
             ],
             [
              0.3333333333333333,
              "#9c179e"
             ],
             [
              0.4444444444444444,
              "#bd3786"
             ],
             [
              0.5555555555555556,
              "#d8576b"
             ],
             [
              0.6666666666666666,
              "#ed7953"
             ],
             [
              0.7777777777777778,
              "#fb9f3a"
             ],
             [
              0.8888888888888888,
              "#fdca26"
             ],
             [
              1,
              "#f0f921"
             ]
            ],
            "type": "surface"
           }
          ],
          "table": [
           {
            "cells": {
             "fill": {
              "color": "#EBF0F8"
             },
             "line": {
              "color": "white"
             }
            },
            "header": {
             "fill": {
              "color": "#C8D4E3"
             },
             "line": {
              "color": "white"
             }
            },
            "type": "table"
           }
          ]
         },
         "layout": {
          "annotationdefaults": {
           "arrowcolor": "#2a3f5f",
           "arrowhead": 0,
           "arrowwidth": 1
          },
          "autotypenumbers": "strict",
          "coloraxis": {
           "colorbar": {
            "outlinewidth": 0,
            "ticks": ""
           }
          },
          "colorscale": {
           "diverging": [
            [
             0,
             "#8e0152"
            ],
            [
             0.1,
             "#c51b7d"
            ],
            [
             0.2,
             "#de77ae"
            ],
            [
             0.3,
             "#f1b6da"
            ],
            [
             0.4,
             "#fde0ef"
            ],
            [
             0.5,
             "#f7f7f7"
            ],
            [
             0.6,
             "#e6f5d0"
            ],
            [
             0.7,
             "#b8e186"
            ],
            [
             0.8,
             "#7fbc41"
            ],
            [
             0.9,
             "#4d9221"
            ],
            [
             1,
             "#276419"
            ]
           ],
           "sequential": [
            [
             0,
             "#0d0887"
            ],
            [
             0.1111111111111111,
             "#46039f"
            ],
            [
             0.2222222222222222,
             "#7201a8"
            ],
            [
             0.3333333333333333,
             "#9c179e"
            ],
            [
             0.4444444444444444,
             "#bd3786"
            ],
            [
             0.5555555555555556,
             "#d8576b"
            ],
            [
             0.6666666666666666,
             "#ed7953"
            ],
            [
             0.7777777777777778,
             "#fb9f3a"
            ],
            [
             0.8888888888888888,
             "#fdca26"
            ],
            [
             1,
             "#f0f921"
            ]
           ],
           "sequentialminus": [
            [
             0,
             "#0d0887"
            ],
            [
             0.1111111111111111,
             "#46039f"
            ],
            [
             0.2222222222222222,
             "#7201a8"
            ],
            [
             0.3333333333333333,
             "#9c179e"
            ],
            [
             0.4444444444444444,
             "#bd3786"
            ],
            [
             0.5555555555555556,
             "#d8576b"
            ],
            [
             0.6666666666666666,
             "#ed7953"
            ],
            [
             0.7777777777777778,
             "#fb9f3a"
            ],
            [
             0.8888888888888888,
             "#fdca26"
            ],
            [
             1,
             "#f0f921"
            ]
           ]
          },
          "colorway": [
           "#636efa",
           "#EF553B",
           "#00cc96",
           "#ab63fa",
           "#FFA15A",
           "#19d3f3",
           "#FF6692",
           "#B6E880",
           "#FF97FF",
           "#FECB52"
          ],
          "font": {
           "color": "#2a3f5f"
          },
          "geo": {
           "bgcolor": "white",
           "lakecolor": "white",
           "landcolor": "#E5ECF6",
           "showlakes": true,
           "showland": true,
           "subunitcolor": "white"
          },
          "hoverlabel": {
           "align": "left"
          },
          "hovermode": "closest",
          "mapbox": {
           "style": "light"
          },
          "paper_bgcolor": "white",
          "plot_bgcolor": "#E5ECF6",
          "polar": {
           "angularaxis": {
            "gridcolor": "white",
            "linecolor": "white",
            "ticks": ""
           },
           "bgcolor": "#E5ECF6",
           "radialaxis": {
            "gridcolor": "white",
            "linecolor": "white",
            "ticks": ""
           }
          },
          "scene": {
           "xaxis": {
            "backgroundcolor": "#E5ECF6",
            "gridcolor": "white",
            "gridwidth": 2,
            "linecolor": "white",
            "showbackground": true,
            "ticks": "",
            "zerolinecolor": "white"
           },
           "yaxis": {
            "backgroundcolor": "#E5ECF6",
            "gridcolor": "white",
            "gridwidth": 2,
            "linecolor": "white",
            "showbackground": true,
            "ticks": "",
            "zerolinecolor": "white"
           },
           "zaxis": {
            "backgroundcolor": "#E5ECF6",
            "gridcolor": "white",
            "gridwidth": 2,
            "linecolor": "white",
            "showbackground": true,
            "ticks": "",
            "zerolinecolor": "white"
           }
          },
          "shapedefaults": {
           "line": {
            "color": "#2a3f5f"
           }
          },
          "ternary": {
           "aaxis": {
            "gridcolor": "white",
            "linecolor": "white",
            "ticks": ""
           },
           "baxis": {
            "gridcolor": "white",
            "linecolor": "white",
            "ticks": ""
           },
           "bgcolor": "#E5ECF6",
           "caxis": {
            "gridcolor": "white",
            "linecolor": "white",
            "ticks": ""
           }
          },
          "title": {
           "x": 0.05
          },
          "xaxis": {
           "automargin": true,
           "gridcolor": "white",
           "linecolor": "white",
           "ticks": "",
           "title": {
            "standoff": 15
           },
           "zerolinecolor": "white",
           "zerolinewidth": 2
          },
          "yaxis": {
           "automargin": true,
           "gridcolor": "white",
           "linecolor": "white",
           "ticks": "",
           "title": {
            "standoff": 15
           },
           "zerolinecolor": "white",
           "zerolinewidth": 2
          }
         }
        },
        "title": {
         "text": "Популярные категории товаров сегментов пользователей"
        },
        "xaxis": {
         "anchor": "y",
         "domain": [
          0,
          1
         ],
         "title": {
          "text": "сегмент пользователей"
         }
        },
        "yaxis": {
         "anchor": "x",
         "domain": [
          0,
          1
         ],
         "title": {
          "text": "кол-во купленных товаров в категории"
         }
        }
       }
      },
      "text/html": [
       "<div>                            <div id=\"1b66b659-6450-458b-b668-42828b9c99bf\" class=\"plotly-graph-div\" style=\"height:525px; width:100%;\"></div>            <script type=\"text/javascript\">                require([\"plotly\"], function(Plotly) {                    window.PLOTLYENV=window.PLOTLYENV || {};                                    if (document.getElementById(\"1b66b659-6450-458b-b668-42828b9c99bf\")) {                    Plotly.newPlot(                        \"1b66b659-6450-458b-b668-42828b9c99bf\",                        [{\"alignmentgroup\":\"True\",\"hovertemplate\":\"\\u043a\\u0430\\u0442\\u0435\\u0433\\u043e\\u0440\\u0438\\u044f \\u0442\\u043e\\u0432\\u0430\\u0440\\u0430=\\u0440\\u0430\\u0441\\u0441\\u0430\\u0434\\u0430 \\u0438 \\u0440\\u0430\\u0441\\u0442\\u0435\\u043d\\u0438\\u044f<br>\\u0441\\u0435\\u0433\\u043c\\u0435\\u043d\\u0442 \\u043f\\u043e\\u043b\\u044c\\u0437\\u043e\\u0432\\u0430\\u0442\\u0435\\u043b\\u0435\\u0439=%{x}<br>\\u043a\\u043e\\u043b-\\u0432\\u043e \\u043a\\u0443\\u043f\\u043b\\u0435\\u043d\\u043d\\u044b\\u0445 \\u0442\\u043e\\u0432\\u0430\\u0440\\u043e\\u0432 \\u0432 \\u043a\\u0430\\u0442\\u0435\\u0433\\u043e\\u0440\\u0438\\u0438=%{y}<extra></extra>\",\"legendgroup\":\"\\u0440\\u0430\\u0441\\u0441\\u0430\\u0434\\u0430 \\u0438 \\u0440\\u0430\\u0441\\u0442\\u0435\\u043d\\u0438\\u044f\",\"marker\":{\"color\":\"rgb(95, 70, 144)\",\"pattern\":{\"shape\":\"\"}},\"name\":\"\\u0440\\u0430\\u0441\\u0441\\u0430\\u0434\\u0430 \\u0438 \\u0440\\u0430\\u0441\\u0442\\u0435\\u043d\\u0438\\u044f\",\"offsetgroup\":\"\\u0440\\u0430\\u0441\\u0441\\u0430\\u0434\\u0430 \\u0438 \\u0440\\u0430\\u0441\\u0442\\u0435\\u043d\\u0438\\u044f\",\"orientation\":\"v\",\"showlegend\":true,\"textposition\":\"auto\",\"x\":[\"group_1\",\"group_2\",\"group_3\"],\"xaxis\":\"x\",\"y\":[2430,4403,697],\"yaxis\":\"y\",\"type\":\"bar\"},{\"alignmentgroup\":\"True\",\"hovertemplate\":\"\\u043a\\u0430\\u0442\\u0435\\u0433\\u043e\\u0440\\u0438\\u044f \\u0442\\u043e\\u0432\\u0430\\u0440\\u0430=\\u0445\\u043e\\u0437\\u0442\\u043e\\u0432\\u0430\\u0440\\u044b<br>\\u0441\\u0435\\u0433\\u043c\\u0435\\u043d\\u0442 \\u043f\\u043e\\u043b\\u044c\\u0437\\u043e\\u0432\\u0430\\u0442\\u0435\\u043b\\u0435\\u0439=%{x}<br>\\u043a\\u043e\\u043b-\\u0432\\u043e \\u043a\\u0443\\u043f\\u043b\\u0435\\u043d\\u043d\\u044b\\u0445 \\u0442\\u043e\\u0432\\u0430\\u0440\\u043e\\u0432 \\u0432 \\u043a\\u0430\\u0442\\u0435\\u0433\\u043e\\u0440\\u0438\\u0438=%{y}<extra></extra>\",\"legendgroup\":\"\\u0445\\u043e\\u0437\\u0442\\u043e\\u0432\\u0430\\u0440\\u044b\",\"marker\":{\"color\":\"rgb(29, 105, 150)\",\"pattern\":{\"shape\":\"\"}},\"name\":\"\\u0445\\u043e\\u0437\\u0442\\u043e\\u0432\\u0430\\u0440\\u044b\",\"offsetgroup\":\"\\u0445\\u043e\\u0437\\u0442\\u043e\\u0432\\u0430\\u0440\\u044b\",\"orientation\":\"v\",\"showlegend\":true,\"textposition\":\"auto\",\"x\":[\"group_1\",\"group_2\",\"group_3\"],\"xaxis\":\"x\",\"y\":[1969,1117,792],\"yaxis\":\"y\",\"type\":\"bar\"},{\"alignmentgroup\":\"True\",\"hovertemplate\":\"\\u043a\\u0430\\u0442\\u0435\\u0433\\u043e\\u0440\\u0438\\u044f \\u0442\\u043e\\u0432\\u0430\\u0440\\u0430=\\u0434\\u0435\\u043a\\u043e\\u0440<br>\\u0441\\u0435\\u0433\\u043c\\u0435\\u043d\\u0442 \\u043f\\u043e\\u043b\\u044c\\u0437\\u043e\\u0432\\u0430\\u0442\\u0435\\u043b\\u0435\\u0439=%{x}<br>\\u043a\\u043e\\u043b-\\u0432\\u043e \\u043a\\u0443\\u043f\\u043b\\u0435\\u043d\\u043d\\u044b\\u0445 \\u0442\\u043e\\u0432\\u0430\\u0440\\u043e\\u0432 \\u0432 \\u043a\\u0430\\u0442\\u0435\\u0433\\u043e\\u0440\\u0438\\u0438=%{y}<extra></extra>\",\"legendgroup\":\"\\u0434\\u0435\\u043a\\u043e\\u0440\",\"marker\":{\"color\":\"rgb(56, 166, 165)\",\"pattern\":{\"shape\":\"\"}},\"name\":\"\\u0434\\u0435\\u043a\\u043e\\u0440\",\"offsetgroup\":\"\\u0434\\u0435\\u043a\\u043e\\u0440\",\"orientation\":\"v\",\"showlegend\":true,\"textposition\":\"auto\",\"x\":[\"group_1\",\"group_2\",\"group_3\"],\"xaxis\":\"x\",\"y\":[908,497,81],\"yaxis\":\"y\",\"type\":\"bar\"},{\"alignmentgroup\":\"True\",\"hovertemplate\":\"\\u043a\\u0430\\u0442\\u0435\\u0433\\u043e\\u0440\\u0438\\u044f \\u0442\\u043e\\u0432\\u0430\\u0440\\u0430=\\u043f\\u043e\\u0441\\u0443\\u0434\\u0430, \\u0442\\u043e\\u0432\\u0430\\u0440\\u044b \\u0434\\u043b\\u044f \\u043a\\u0443\\u0445\\u043d\\u0438<br>\\u0441\\u0435\\u0433\\u043c\\u0435\\u043d\\u0442 \\u043f\\u043e\\u043b\\u044c\\u0437\\u043e\\u0432\\u0430\\u0442\\u0435\\u043b\\u0435\\u0439=%{x}<br>\\u043a\\u043e\\u043b-\\u0432\\u043e \\u043a\\u0443\\u043f\\u043b\\u0435\\u043d\\u043d\\u044b\\u0445 \\u0442\\u043e\\u0432\\u0430\\u0440\\u043e\\u0432 \\u0432 \\u043a\\u0430\\u0442\\u0435\\u0433\\u043e\\u0440\\u0438\\u0438=%{y}<extra></extra>\",\"legendgroup\":\"\\u043f\\u043e\\u0441\\u0443\\u0434\\u0430, \\u0442\\u043e\\u0432\\u0430\\u0440\\u044b \\u0434\\u043b\\u044f \\u043a\\u0443\\u0445\\u043d\\u0438\",\"marker\":{\"color\":\"rgb(15, 133, 84)\",\"pattern\":{\"shape\":\"\"}},\"name\":\"\\u043f\\u043e\\u0441\\u0443\\u0434\\u0430, \\u0442\\u043e\\u0432\\u0430\\u0440\\u044b \\u0434\\u043b\\u044f \\u043a\\u0443\\u0445\\u043d\\u0438\",\"offsetgroup\":\"\\u043f\\u043e\\u0441\\u0443\\u0434\\u0430, \\u0442\\u043e\\u0432\\u0430\\u0440\\u044b \\u0434\\u043b\\u044f \\u043a\\u0443\\u0445\\u043d\\u0438\",\"orientation\":\"v\",\"showlegend\":true,\"textposition\":\"auto\",\"x\":[\"group_1\",\"group_2\",\"group_3\"],\"xaxis\":\"x\",\"y\":[695,387,145],\"yaxis\":\"y\",\"type\":\"bar\"},{\"alignmentgroup\":\"True\",\"hovertemplate\":\"\\u043a\\u0430\\u0442\\u0435\\u0433\\u043e\\u0440\\u0438\\u044f \\u0442\\u043e\\u0432\\u0430\\u0440\\u0430=\\u0444\\u0443\\u0440\\u043d\\u0438\\u0442\\u0443\\u0440\\u0430<br>\\u0441\\u0435\\u0433\\u043c\\u0435\\u043d\\u0442 \\u043f\\u043e\\u043b\\u044c\\u0437\\u043e\\u0432\\u0430\\u0442\\u0435\\u043b\\u0435\\u0439=%{x}<br>\\u043a\\u043e\\u043b-\\u0432\\u043e \\u043a\\u0443\\u043f\\u043b\\u0435\\u043d\\u043d\\u044b\\u0445 \\u0442\\u043e\\u0432\\u0430\\u0440\\u043e\\u0432 \\u0432 \\u043a\\u0430\\u0442\\u0435\\u0433\\u043e\\u0440\\u0438\\u0438=%{y}<extra></extra>\",\"legendgroup\":\"\\u0444\\u0443\\u0440\\u043d\\u0438\\u0442\\u0443\\u0440\\u0430\",\"marker\":{\"color\":\"rgb(115, 175, 72)\",\"pattern\":{\"shape\":\"\"}},\"name\":\"\\u0444\\u0443\\u0440\\u043d\\u0438\\u0442\\u0443\\u0440\\u0430\",\"offsetgroup\":\"\\u0444\\u0443\\u0440\\u043d\\u0438\\u0442\\u0443\\u0440\\u0430\",\"orientation\":\"v\",\"showlegend\":true,\"textposition\":\"auto\",\"x\":[\"group_1\",\"group_2\",\"group_3\"],\"xaxis\":\"x\",\"y\":[576,212,101],\"yaxis\":\"y\",\"type\":\"bar\"},{\"alignmentgroup\":\"True\",\"hovertemplate\":\"\\u043a\\u0430\\u0442\\u0435\\u0433\\u043e\\u0440\\u0438\\u044f \\u0442\\u043e\\u0432\\u0430\\u0440\\u0430=\\u0438\\u043d\\u0441\\u0442\\u0440\\u0443\\u043c\\u0435\\u043d\\u0442\\u044b, \\u0442\\u0430\\u043a\\u0435\\u043b\\u0430\\u0436<br>\\u0441\\u0435\\u0433\\u043c\\u0435\\u043d\\u0442 \\u043f\\u043e\\u043b\\u044c\\u0437\\u043e\\u0432\\u0430\\u0442\\u0435\\u043b\\u0435\\u0439=%{x}<br>\\u043a\\u043e\\u043b-\\u0432\\u043e \\u043a\\u0443\\u043f\\u043b\\u0435\\u043d\\u043d\\u044b\\u0445 \\u0442\\u043e\\u0432\\u0430\\u0440\\u043e\\u0432 \\u0432 \\u043a\\u0430\\u0442\\u0435\\u0433\\u043e\\u0440\\u0438\\u0438=%{y}<extra></extra>\",\"legendgroup\":\"\\u0438\\u043d\\u0441\\u0442\\u0440\\u0443\\u043c\\u0435\\u043d\\u0442\\u044b, \\u0442\\u0430\\u043a\\u0435\\u043b\\u0430\\u0436\",\"marker\":{\"color\":\"rgb(237, 173, 8)\",\"pattern\":{\"shape\":\"\"}},\"name\":\"\\u0438\\u043d\\u0441\\u0442\\u0440\\u0443\\u043c\\u0435\\u043d\\u0442\\u044b, \\u0442\\u0430\\u043a\\u0435\\u043b\\u0430\\u0436\",\"offsetgroup\":\"\\u0438\\u043d\\u0441\\u0442\\u0440\\u0443\\u043c\\u0435\\u043d\\u0442\\u044b, \\u0442\\u0430\\u043a\\u0435\\u043b\\u0430\\u0436\",\"orientation\":\"v\",\"showlegend\":true,\"textposition\":\"auto\",\"x\":[\"group_1\",\"group_2\",\"group_3\"],\"xaxis\":\"x\",\"y\":[149,31,22],\"yaxis\":\"y\",\"type\":\"bar\"},{\"alignmentgroup\":\"True\",\"hovertemplate\":\"\\u043a\\u0430\\u0442\\u0435\\u0433\\u043e\\u0440\\u0438\\u044f \\u0442\\u043e\\u0432\\u0430\\u0440\\u0430=\\u0442\\u0435\\u043a\\u0441\\u0442\\u0438\\u043b\\u044c<br>\\u0441\\u0435\\u0433\\u043c\\u0435\\u043d\\u0442 \\u043f\\u043e\\u043b\\u044c\\u0437\\u043e\\u0432\\u0430\\u0442\\u0435\\u043b\\u0435\\u0439=%{x}<br>\\u043a\\u043e\\u043b-\\u0432\\u043e \\u043a\\u0443\\u043f\\u043b\\u0435\\u043d\\u043d\\u044b\\u0445 \\u0442\\u043e\\u0432\\u0430\\u0440\\u043e\\u0432 \\u0432 \\u043a\\u0430\\u0442\\u0435\\u0433\\u043e\\u0440\\u0438\\u0438=%{y}<extra></extra>\",\"legendgroup\":\"\\u0442\\u0435\\u043a\\u0441\\u0442\\u0438\\u043b\\u044c\",\"marker\":{\"color\":\"rgb(225, 124, 5)\",\"pattern\":{\"shape\":\"\"}},\"name\":\"\\u0442\\u0435\\u043a\\u0441\\u0442\\u0438\\u043b\\u044c\",\"offsetgroup\":\"\\u0442\\u0435\\u043a\\u0441\\u0442\\u0438\\u043b\\u044c\",\"orientation\":\"v\",\"showlegend\":true,\"textposition\":\"auto\",\"x\":[\"group_1\",\"group_2\",\"group_3\"],\"xaxis\":\"x\",\"y\":[111,71,26],\"yaxis\":\"y\",\"type\":\"bar\"},{\"alignmentgroup\":\"True\",\"hovertemplate\":\"\\u043a\\u0430\\u0442\\u0435\\u0433\\u043e\\u0440\\u0438\\u044f \\u0442\\u043e\\u0432\\u0430\\u0440\\u0430=\\u0438\\u043d\\u0442\\u0435\\u0440\\u044c\\u0435\\u0440, \\u043c\\u0435\\u0431\\u0435\\u043b\\u044c<br>\\u0441\\u0435\\u0433\\u043c\\u0435\\u043d\\u0442 \\u043f\\u043e\\u043b\\u044c\\u0437\\u043e\\u0432\\u0430\\u0442\\u0435\\u043b\\u0435\\u0439=%{x}<br>\\u043a\\u043e\\u043b-\\u0432\\u043e \\u043a\\u0443\\u043f\\u043b\\u0435\\u043d\\u043d\\u044b\\u0445 \\u0442\\u043e\\u0432\\u0430\\u0440\\u043e\\u0432 \\u0432 \\u043a\\u0430\\u0442\\u0435\\u0433\\u043e\\u0440\\u0438\\u0438=%{y}<extra></extra>\",\"legendgroup\":\"\\u0438\\u043d\\u0442\\u0435\\u0440\\u044c\\u0435\\u0440, \\u043c\\u0435\\u0431\\u0435\\u043b\\u044c\",\"marker\":{\"color\":\"rgb(204, 80, 62)\",\"pattern\":{\"shape\":\"\"}},\"name\":\"\\u0438\\u043d\\u0442\\u0435\\u0440\\u044c\\u0435\\u0440, \\u043c\\u0435\\u0431\\u0435\\u043b\\u044c\",\"offsetgroup\":\"\\u0438\\u043d\\u0442\\u0435\\u0440\\u044c\\u0435\\u0440, \\u043c\\u0435\\u0431\\u0435\\u043b\\u044c\",\"orientation\":\"v\",\"showlegend\":true,\"textposition\":\"auto\",\"x\":[\"group_1\",\"group_2\",\"group_3\"],\"xaxis\":\"x\",\"y\":[93,95,65],\"yaxis\":\"y\",\"type\":\"bar\"},{\"alignmentgroup\":\"True\",\"hovertemplate\":\"\\u043a\\u0430\\u0442\\u0435\\u0433\\u043e\\u0440\\u0438\\u044f \\u0442\\u043e\\u0432\\u0430\\u0440\\u0430=\\u043f\\u0440\\u0435\\u0434\\u043c\\u0435\\u0442\\u044b \\u0434\\u043b\\u044f \\u0432\\u0430\\u043d\\u043d\\u043e\\u0439 \\u043a\\u043e\\u043c\\u043d\\u0430\\u0442\\u044b<br>\\u0441\\u0435\\u0433\\u043c\\u0435\\u043d\\u0442 \\u043f\\u043e\\u043b\\u044c\\u0437\\u043e\\u0432\\u0430\\u0442\\u0435\\u043b\\u0435\\u0439=%{x}<br>\\u043a\\u043e\\u043b-\\u0432\\u043e \\u043a\\u0443\\u043f\\u043b\\u0435\\u043d\\u043d\\u044b\\u0445 \\u0442\\u043e\\u0432\\u0430\\u0440\\u043e\\u0432 \\u0432 \\u043a\\u0430\\u0442\\u0435\\u0433\\u043e\\u0440\\u0438\\u0438=%{y}<extra></extra>\",\"legendgroup\":\"\\u043f\\u0440\\u0435\\u0434\\u043c\\u0435\\u0442\\u044b \\u0434\\u043b\\u044f \\u0432\\u0430\\u043d\\u043d\\u043e\\u0439 \\u043a\\u043e\\u043c\\u043d\\u0430\\u0442\\u044b\",\"marker\":{\"color\":\"rgb(148, 52, 110)\",\"pattern\":{\"shape\":\"\"}},\"name\":\"\\u043f\\u0440\\u0435\\u0434\\u043c\\u0435\\u0442\\u044b \\u0434\\u043b\\u044f \\u0432\\u0430\\u043d\\u043d\\u043e\\u0439 \\u043a\\u043e\\u043c\\u043d\\u0430\\u0442\\u044b\",\"offsetgroup\":\"\\u043f\\u0440\\u0435\\u0434\\u043c\\u0435\\u0442\\u044b \\u0434\\u043b\\u044f \\u0432\\u0430\\u043d\\u043d\\u043e\\u0439 \\u043a\\u043e\\u043c\\u043d\\u0430\\u0442\\u044b\",\"orientation\":\"v\",\"showlegend\":true,\"textposition\":\"auto\",\"x\":[\"group_1\",\"group_2\",\"group_3\"],\"xaxis\":\"x\",\"y\":[73,98,64],\"yaxis\":\"y\",\"type\":\"bar\"},{\"alignmentgroup\":\"True\",\"hovertemplate\":\"\\u043a\\u0430\\u0442\\u0435\\u0433\\u043e\\u0440\\u0438\\u044f \\u0442\\u043e\\u0432\\u0430\\u0440\\u0430=\\u043f\\u043e\\u0434\\u0430\\u0440\\u043a\\u0438 \\u043d\\u0430 \\u043f\\u0440\\u0430\\u0437\\u0434\\u043d\\u0438\\u043a\\u0438<br>\\u0441\\u0435\\u0433\\u043c\\u0435\\u043d\\u0442 \\u043f\\u043e\\u043b\\u044c\\u0437\\u043e\\u0432\\u0430\\u0442\\u0435\\u043b\\u0435\\u0439=%{x}<br>\\u043a\\u043e\\u043b-\\u0432\\u043e \\u043a\\u0443\\u043f\\u043b\\u0435\\u043d\\u043d\\u044b\\u0445 \\u0442\\u043e\\u0432\\u0430\\u0440\\u043e\\u0432 \\u0432 \\u043a\\u0430\\u0442\\u0435\\u0433\\u043e\\u0440\\u0438\\u0438=%{y}<extra></extra>\",\"legendgroup\":\"\\u043f\\u043e\\u0434\\u0430\\u0440\\u043a\\u0438 \\u043d\\u0430 \\u043f\\u0440\\u0430\\u0437\\u0434\\u043d\\u0438\\u043a\\u0438\",\"marker\":{\"color\":\"rgb(111, 64, 112)\",\"pattern\":{\"shape\":\"\"}},\"name\":\"\\u043f\\u043e\\u0434\\u0430\\u0440\\u043a\\u0438 \\u043d\\u0430 \\u043f\\u0440\\u0430\\u0437\\u0434\\u043d\\u0438\\u043a\\u0438\",\"offsetgroup\":\"\\u043f\\u043e\\u0434\\u0430\\u0440\\u043a\\u0438 \\u043d\\u0430 \\u043f\\u0440\\u0430\\u0437\\u0434\\u043d\\u0438\\u043a\\u0438\",\"orientation\":\"v\",\"showlegend\":true,\"textposition\":\"auto\",\"x\":[\"group_1\",\"group_3\"],\"xaxis\":\"x\",\"y\":[17,1],\"yaxis\":\"y\",\"type\":\"bar\"},{\"alignmentgroup\":\"True\",\"hovertemplate\":\"\\u043a\\u0430\\u0442\\u0435\\u0433\\u043e\\u0440\\u0438\\u044f \\u0442\\u043e\\u0432\\u0430\\u0440\\u0430=\\u044d\\u043b\\u0435\\u043a\\u0442\\u0440\\u043e\\u043f\\u0440\\u0438\\u0431\\u043e\\u0440\\u044b<br>\\u0441\\u0435\\u0433\\u043c\\u0435\\u043d\\u0442 \\u043f\\u043e\\u043b\\u044c\\u0437\\u043e\\u0432\\u0430\\u0442\\u0435\\u043b\\u0435\\u0439=%{x}<br>\\u043a\\u043e\\u043b-\\u0432\\u043e \\u043a\\u0443\\u043f\\u043b\\u0435\\u043d\\u043d\\u044b\\u0445 \\u0442\\u043e\\u0432\\u0430\\u0440\\u043e\\u0432 \\u0432 \\u043a\\u0430\\u0442\\u0435\\u0433\\u043e\\u0440\\u0438\\u0438=%{y}<extra></extra>\",\"legendgroup\":\"\\u044d\\u043b\\u0435\\u043a\\u0442\\u0440\\u043e\\u043f\\u0440\\u0438\\u0431\\u043e\\u0440\\u044b\",\"marker\":{\"color\":\"rgb(102, 102, 102)\",\"pattern\":{\"shape\":\"\"}},\"name\":\"\\u044d\\u043b\\u0435\\u043a\\u0442\\u0440\\u043e\\u043f\\u0440\\u0438\\u0431\\u043e\\u0440\\u044b\",\"offsetgroup\":\"\\u044d\\u043b\\u0435\\u043a\\u0442\\u0440\\u043e\\u043f\\u0440\\u0438\\u0431\\u043e\\u0440\\u044b\",\"orientation\":\"v\",\"showlegend\":true,\"textposition\":\"auto\",\"x\":[\"group_1\",\"group_3\"],\"xaxis\":\"x\",\"y\":[2,4],\"yaxis\":\"y\",\"type\":\"bar\"}],                        {\"template\":{\"data\":{\"bar\":[{\"error_x\":{\"color\":\"#2a3f5f\"},\"error_y\":{\"color\":\"#2a3f5f\"},\"marker\":{\"line\":{\"color\":\"#E5ECF6\",\"width\":0.5},\"pattern\":{\"fillmode\":\"overlay\",\"size\":10,\"solidity\":0.2}},\"type\":\"bar\"}],\"barpolar\":[{\"marker\":{\"line\":{\"color\":\"#E5ECF6\",\"width\":0.5},\"pattern\":{\"fillmode\":\"overlay\",\"size\":10,\"solidity\":0.2}},\"type\":\"barpolar\"}],\"carpet\":[{\"aaxis\":{\"endlinecolor\":\"#2a3f5f\",\"gridcolor\":\"white\",\"linecolor\":\"white\",\"minorgridcolor\":\"white\",\"startlinecolor\":\"#2a3f5f\"},\"baxis\":{\"endlinecolor\":\"#2a3f5f\",\"gridcolor\":\"white\",\"linecolor\":\"white\",\"minorgridcolor\":\"white\",\"startlinecolor\":\"#2a3f5f\"},\"type\":\"carpet\"}],\"choropleth\":[{\"colorbar\":{\"outlinewidth\":0,\"ticks\":\"\"},\"type\":\"choropleth\"}],\"contour\":[{\"colorbar\":{\"outlinewidth\":0,\"ticks\":\"\"},\"colorscale\":[[0.0,\"#0d0887\"],[0.1111111111111111,\"#46039f\"],[0.2222222222222222,\"#7201a8\"],[0.3333333333333333,\"#9c179e\"],[0.4444444444444444,\"#bd3786\"],[0.5555555555555556,\"#d8576b\"],[0.6666666666666666,\"#ed7953\"],[0.7777777777777778,\"#fb9f3a\"],[0.8888888888888888,\"#fdca26\"],[1.0,\"#f0f921\"]],\"type\":\"contour\"}],\"contourcarpet\":[{\"colorbar\":{\"outlinewidth\":0,\"ticks\":\"\"},\"type\":\"contourcarpet\"}],\"heatmap\":[{\"colorbar\":{\"outlinewidth\":0,\"ticks\":\"\"},\"colorscale\":[[0.0,\"#0d0887\"],[0.1111111111111111,\"#46039f\"],[0.2222222222222222,\"#7201a8\"],[0.3333333333333333,\"#9c179e\"],[0.4444444444444444,\"#bd3786\"],[0.5555555555555556,\"#d8576b\"],[0.6666666666666666,\"#ed7953\"],[0.7777777777777778,\"#fb9f3a\"],[0.8888888888888888,\"#fdca26\"],[1.0,\"#f0f921\"]],\"type\":\"heatmap\"}],\"heatmapgl\":[{\"colorbar\":{\"outlinewidth\":0,\"ticks\":\"\"},\"colorscale\":[[0.0,\"#0d0887\"],[0.1111111111111111,\"#46039f\"],[0.2222222222222222,\"#7201a8\"],[0.3333333333333333,\"#9c179e\"],[0.4444444444444444,\"#bd3786\"],[0.5555555555555556,\"#d8576b\"],[0.6666666666666666,\"#ed7953\"],[0.7777777777777778,\"#fb9f3a\"],[0.8888888888888888,\"#fdca26\"],[1.0,\"#f0f921\"]],\"type\":\"heatmapgl\"}],\"histogram\":[{\"marker\":{\"pattern\":{\"fillmode\":\"overlay\",\"size\":10,\"solidity\":0.2}},\"type\":\"histogram\"}],\"histogram2d\":[{\"colorbar\":{\"outlinewidth\":0,\"ticks\":\"\"},\"colorscale\":[[0.0,\"#0d0887\"],[0.1111111111111111,\"#46039f\"],[0.2222222222222222,\"#7201a8\"],[0.3333333333333333,\"#9c179e\"],[0.4444444444444444,\"#bd3786\"],[0.5555555555555556,\"#d8576b\"],[0.6666666666666666,\"#ed7953\"],[0.7777777777777778,\"#fb9f3a\"],[0.8888888888888888,\"#fdca26\"],[1.0,\"#f0f921\"]],\"type\":\"histogram2d\"}],\"histogram2dcontour\":[{\"colorbar\":{\"outlinewidth\":0,\"ticks\":\"\"},\"colorscale\":[[0.0,\"#0d0887\"],[0.1111111111111111,\"#46039f\"],[0.2222222222222222,\"#7201a8\"],[0.3333333333333333,\"#9c179e\"],[0.4444444444444444,\"#bd3786\"],[0.5555555555555556,\"#d8576b\"],[0.6666666666666666,\"#ed7953\"],[0.7777777777777778,\"#fb9f3a\"],[0.8888888888888888,\"#fdca26\"],[1.0,\"#f0f921\"]],\"type\":\"histogram2dcontour\"}],\"mesh3d\":[{\"colorbar\":{\"outlinewidth\":0,\"ticks\":\"\"},\"type\":\"mesh3d\"}],\"parcoords\":[{\"line\":{\"colorbar\":{\"outlinewidth\":0,\"ticks\":\"\"}},\"type\":\"parcoords\"}],\"pie\":[{\"automargin\":true,\"type\":\"pie\"}],\"scatter\":[{\"marker\":{\"colorbar\":{\"outlinewidth\":0,\"ticks\":\"\"}},\"type\":\"scatter\"}],\"scatter3d\":[{\"line\":{\"colorbar\":{\"outlinewidth\":0,\"ticks\":\"\"}},\"marker\":{\"colorbar\":{\"outlinewidth\":0,\"ticks\":\"\"}},\"type\":\"scatter3d\"}],\"scattercarpet\":[{\"marker\":{\"colorbar\":{\"outlinewidth\":0,\"ticks\":\"\"}},\"type\":\"scattercarpet\"}],\"scattergeo\":[{\"marker\":{\"colorbar\":{\"outlinewidth\":0,\"ticks\":\"\"}},\"type\":\"scattergeo\"}],\"scattergl\":[{\"marker\":{\"colorbar\":{\"outlinewidth\":0,\"ticks\":\"\"}},\"type\":\"scattergl\"}],\"scattermapbox\":[{\"marker\":{\"colorbar\":{\"outlinewidth\":0,\"ticks\":\"\"}},\"type\":\"scattermapbox\"}],\"scatterpolar\":[{\"marker\":{\"colorbar\":{\"outlinewidth\":0,\"ticks\":\"\"}},\"type\":\"scatterpolar\"}],\"scatterpolargl\":[{\"marker\":{\"colorbar\":{\"outlinewidth\":0,\"ticks\":\"\"}},\"type\":\"scatterpolargl\"}],\"scatterternary\":[{\"marker\":{\"colorbar\":{\"outlinewidth\":0,\"ticks\":\"\"}},\"type\":\"scatterternary\"}],\"surface\":[{\"colorbar\":{\"outlinewidth\":0,\"ticks\":\"\"},\"colorscale\":[[0.0,\"#0d0887\"],[0.1111111111111111,\"#46039f\"],[0.2222222222222222,\"#7201a8\"],[0.3333333333333333,\"#9c179e\"],[0.4444444444444444,\"#bd3786\"],[0.5555555555555556,\"#d8576b\"],[0.6666666666666666,\"#ed7953\"],[0.7777777777777778,\"#fb9f3a\"],[0.8888888888888888,\"#fdca26\"],[1.0,\"#f0f921\"]],\"type\":\"surface\"}],\"table\":[{\"cells\":{\"fill\":{\"color\":\"#EBF0F8\"},\"line\":{\"color\":\"white\"}},\"header\":{\"fill\":{\"color\":\"#C8D4E3\"},\"line\":{\"color\":\"white\"}},\"type\":\"table\"}]},\"layout\":{\"annotationdefaults\":{\"arrowcolor\":\"#2a3f5f\",\"arrowhead\":0,\"arrowwidth\":1},\"autotypenumbers\":\"strict\",\"coloraxis\":{\"colorbar\":{\"outlinewidth\":0,\"ticks\":\"\"}},\"colorscale\":{\"diverging\":[[0,\"#8e0152\"],[0.1,\"#c51b7d\"],[0.2,\"#de77ae\"],[0.3,\"#f1b6da\"],[0.4,\"#fde0ef\"],[0.5,\"#f7f7f7\"],[0.6,\"#e6f5d0\"],[0.7,\"#b8e186\"],[0.8,\"#7fbc41\"],[0.9,\"#4d9221\"],[1,\"#276419\"]],\"sequential\":[[0.0,\"#0d0887\"],[0.1111111111111111,\"#46039f\"],[0.2222222222222222,\"#7201a8\"],[0.3333333333333333,\"#9c179e\"],[0.4444444444444444,\"#bd3786\"],[0.5555555555555556,\"#d8576b\"],[0.6666666666666666,\"#ed7953\"],[0.7777777777777778,\"#fb9f3a\"],[0.8888888888888888,\"#fdca26\"],[1.0,\"#f0f921\"]],\"sequentialminus\":[[0.0,\"#0d0887\"],[0.1111111111111111,\"#46039f\"],[0.2222222222222222,\"#7201a8\"],[0.3333333333333333,\"#9c179e\"],[0.4444444444444444,\"#bd3786\"],[0.5555555555555556,\"#d8576b\"],[0.6666666666666666,\"#ed7953\"],[0.7777777777777778,\"#fb9f3a\"],[0.8888888888888888,\"#fdca26\"],[1.0,\"#f0f921\"]]},\"colorway\":[\"#636efa\",\"#EF553B\",\"#00cc96\",\"#ab63fa\",\"#FFA15A\",\"#19d3f3\",\"#FF6692\",\"#B6E880\",\"#FF97FF\",\"#FECB52\"],\"font\":{\"color\":\"#2a3f5f\"},\"geo\":{\"bgcolor\":\"white\",\"lakecolor\":\"white\",\"landcolor\":\"#E5ECF6\",\"showlakes\":true,\"showland\":true,\"subunitcolor\":\"white\"},\"hoverlabel\":{\"align\":\"left\"},\"hovermode\":\"closest\",\"mapbox\":{\"style\":\"light\"},\"paper_bgcolor\":\"white\",\"plot_bgcolor\":\"#E5ECF6\",\"polar\":{\"angularaxis\":{\"gridcolor\":\"white\",\"linecolor\":\"white\",\"ticks\":\"\"},\"bgcolor\":\"#E5ECF6\",\"radialaxis\":{\"gridcolor\":\"white\",\"linecolor\":\"white\",\"ticks\":\"\"}},\"scene\":{\"xaxis\":{\"backgroundcolor\":\"#E5ECF6\",\"gridcolor\":\"white\",\"gridwidth\":2,\"linecolor\":\"white\",\"showbackground\":true,\"ticks\":\"\",\"zerolinecolor\":\"white\"},\"yaxis\":{\"backgroundcolor\":\"#E5ECF6\",\"gridcolor\":\"white\",\"gridwidth\":2,\"linecolor\":\"white\",\"showbackground\":true,\"ticks\":\"\",\"zerolinecolor\":\"white\"},\"zaxis\":{\"backgroundcolor\":\"#E5ECF6\",\"gridcolor\":\"white\",\"gridwidth\":2,\"linecolor\":\"white\",\"showbackground\":true,\"ticks\":\"\",\"zerolinecolor\":\"white\"}},\"shapedefaults\":{\"line\":{\"color\":\"#2a3f5f\"}},\"ternary\":{\"aaxis\":{\"gridcolor\":\"white\",\"linecolor\":\"white\",\"ticks\":\"\"},\"baxis\":{\"gridcolor\":\"white\",\"linecolor\":\"white\",\"ticks\":\"\"},\"bgcolor\":\"#E5ECF6\",\"caxis\":{\"gridcolor\":\"white\",\"linecolor\":\"white\",\"ticks\":\"\"}},\"title\":{\"x\":0.05},\"xaxis\":{\"automargin\":true,\"gridcolor\":\"white\",\"linecolor\":\"white\",\"ticks\":\"\",\"title\":{\"standoff\":15},\"zerolinecolor\":\"white\",\"zerolinewidth\":2},\"yaxis\":{\"automargin\":true,\"gridcolor\":\"white\",\"linecolor\":\"white\",\"ticks\":\"\",\"title\":{\"standoff\":15},\"zerolinecolor\":\"white\",\"zerolinewidth\":2}}},\"xaxis\":{\"anchor\":\"y\",\"domain\":[0.0,1.0],\"title\":{\"text\":\"\\u0441\\u0435\\u0433\\u043c\\u0435\\u043d\\u0442 \\u043f\\u043e\\u043b\\u044c\\u0437\\u043e\\u0432\\u0430\\u0442\\u0435\\u043b\\u0435\\u0439\"}},\"yaxis\":{\"anchor\":\"x\",\"domain\":[0.0,1.0],\"title\":{\"text\":\"\\u043a\\u043e\\u043b-\\u0432\\u043e \\u043a\\u0443\\u043f\\u043b\\u0435\\u043d\\u043d\\u044b\\u0445 \\u0442\\u043e\\u0432\\u0430\\u0440\\u043e\\u0432 \\u0432 \\u043a\\u0430\\u0442\\u0435\\u0433\\u043e\\u0440\\u0438\\u0438\"}},\"legend\":{\"title\":{\"text\":\"\\u043a\\u0430\\u0442\\u0435\\u0433\\u043e\\u0440\\u0438\\u044f \\u0442\\u043e\\u0432\\u0430\\u0440\\u0430\"},\"tracegroupgap\":0},\"title\":{\"text\":\"\\u041f\\u043e\\u043f\\u0443\\u043b\\u044f\\u0440\\u043d\\u044b\\u0435 \\u043a\\u0430\\u0442\\u0435\\u0433\\u043e\\u0440\\u0438\\u0438 \\u0442\\u043e\\u0432\\u0430\\u0440\\u043e\\u0432 \\u0441\\u0435\\u0433\\u043c\\u0435\\u043d\\u0442\\u043e\\u0432 \\u043f\\u043e\\u043b\\u044c\\u0437\\u043e\\u0432\\u0430\\u0442\\u0435\\u043b\\u0435\\u0439\"},\"barmode\":\"group\"},                        {\"responsive\": true}                    ).then(function(){\n",
       "                            \n",
       "var gd = document.getElementById('1b66b659-6450-458b-b668-42828b9c99bf');\n",
       "var x = new MutationObserver(function (mutations, observer) {{\n",
       "        var display = window.getComputedStyle(gd).display;\n",
       "        if (!display || display === 'none') {{\n",
       "            console.log([gd, 'removed!']);\n",
       "            Plotly.purge(gd);\n",
       "            observer.disconnect();\n",
       "        }}\n",
       "}});\n",
       "\n",
       "// Listen for the removal of the full notebook cells\n",
       "var notebookContainer = gd.closest('#notebook-container');\n",
       "if (notebookContainer) {{\n",
       "    x.observe(notebookContainer, {childList: true});\n",
       "}}\n",
       "\n",
       "// Listen for the clearing of the current output cell\n",
       "var outputEl = gd.closest('.output');\n",
       "if (outputEl) {{\n",
       "    x.observe(outputEl, {childList: true});\n",
       "}}\n",
       "\n",
       "                        })                };                });            </script>        </div>"
      ]
     },
     "metadata": {},
     "output_type": "display_data"
    }
   ],
   "source": [
    "fig = px.bar(pop_category,\n",
    "       x='major_group',\n",
    "       y='quantity',\n",
    "       color='category_product',\n",
    "       barmode='group',\n",
    "       color_discrete_sequence=px.colors.qualitative.Prism,\n",
    "       labels=dict(quantity='кол-во купленных товаров в категории',\n",
    "                   major_group='сегмент пользователей',\n",
    "                   category_product='категория товара'),\n",
    "       title='Популярные категории товаров сегментов пользователей',\n",
    "       )\n",
    "iplot(fig)"
   ]
  },
  {
   "cell_type": "markdown",
   "metadata": {},
   "source": [
    "Для группы 1 (ушедшие пользователи) характерны товары: рассада, хозтовары, посуда и товары для кухни, декор, фурнитура.  \n",
    "Для группы 2 (неактивные пользователи) характерны покупки в виде рассады и расстения и хозтовары.  \n",
    "Для группы 3 (постоянные покупатели) характерны покупки хозтоваров и также рассады и растений (но меньше чем в других сегиентах)."
   ]
  },
  {
   "cell_type": "markdown",
   "metadata": {},
   "source": [
    "## Анализ сезонности товаров в разрезе сегментов покупателей"
   ]
  },
  {
   "cell_type": "markdown",
   "metadata": {},
   "source": [
    "Построение графика произведем по месяцам - пригодится округленная дата."
   ]
  },
  {
   "cell_type": "code",
   "execution_count": null,
   "metadata": {},
   "outputs": [
    {
     "data": {
      "text/html": [
       "<div>\n",
       "<style scoped>\n",
       "    .dataframe tbody tr th:only-of-type {\n",
       "        vertical-align: middle;\n",
       "    }\n",
       "\n",
       "    .dataframe tbody tr th {\n",
       "        vertical-align: top;\n",
       "    }\n",
       "\n",
       "    .dataframe thead th {\n",
       "        text-align: right;\n",
       "    }\n",
       "</style>\n",
       "<table border=\"1\" class=\"dataframe\">\n",
       "  <thead>\n",
       "    <tr style=\"text-align: right;\">\n",
       "      <th></th>\n",
       "      <th>major_group</th>\n",
       "      <th>date_round</th>\n",
       "      <th>category_product</th>\n",
       "      <th>quantity</th>\n",
       "    </tr>\n",
       "  </thead>\n",
       "  <tbody>\n",
       "    <tr>\n",
       "      <th>0</th>\n",
       "      <td>group_1</td>\n",
       "      <td>2018-10-01</td>\n",
       "      <td>декор</td>\n",
       "      <td>122</td>\n",
       "    </tr>\n",
       "    <tr>\n",
       "      <th>1</th>\n",
       "      <td>group_1</td>\n",
       "      <td>2018-10-01</td>\n",
       "      <td>инструменты, такелаж</td>\n",
       "      <td>7</td>\n",
       "    </tr>\n",
       "    <tr>\n",
       "      <th>2</th>\n",
       "      <td>group_1</td>\n",
       "      <td>2018-10-01</td>\n",
       "      <td>интерьер, мебель</td>\n",
       "      <td>17</td>\n",
       "    </tr>\n",
       "    <tr>\n",
       "      <th>3</th>\n",
       "      <td>group_1</td>\n",
       "      <td>2018-10-01</td>\n",
       "      <td>посуда, товары для кухни</td>\n",
       "      <td>74</td>\n",
       "    </tr>\n",
       "    <tr>\n",
       "      <th>4</th>\n",
       "      <td>group_1</td>\n",
       "      <td>2018-10-01</td>\n",
       "      <td>предметы для ванной комнаты</td>\n",
       "      <td>15</td>\n",
       "    </tr>\n",
       "  </tbody>\n",
       "</table>\n",
       "</div>"
      ],
      "text/plain": [
       "  major_group date_round             category_product  quantity\n",
       "0     group_1 2018-10-01                        декор       122\n",
       "1     group_1 2018-10-01         инструменты, такелаж         7\n",
       "2     group_1 2018-10-01             интерьер, мебель        17\n",
       "3     group_1 2018-10-01     посуда, товары для кухни        74\n",
       "4     group_1 2018-10-01  предметы для ванной комнаты        15"
      ]
     },
     "execution_count": 60,
     "metadata": {},
     "output_type": "execute_result"
    }
   ],
   "source": [
    "history_category = (customer_with_group\n",
    "\n",
    "                    .groupby(['major_group',\n",
    "                              'date_round',\n",
    "                              'category_product'],\n",
    "                             as_index=False)['quantity']\n",
    "                    .sum())\n",
    "\n",
    "\n",
    "history_category.head()"
   ]
  },
  {
   "cell_type": "code",
   "execution_count": null,
   "metadata": {},
   "outputs": [
    {
     "data": {
      "application/vnd.plotly.v1+json": {
       "config": {
        "plotlyServerURL": "https://plot.ly"
       },
       "data": [
        {
         "hovertemplate": "категория товара=декор<br>месяц=%{x}<br>кол-во проданного товара=%{y}<extra></extra>",
         "legendgroup": "декор",
         "line": {
          "color": "rgb(229, 134, 6)",
          "dash": "solid",
          "shape": "spline",
          "width": 3
         },
         "marker": {
          "symbol": "circle"
         },
         "mode": "markers+lines",
         "name": "декор",
         "orientation": "v",
         "showlegend": true,
         "type": "scatter",
         "x": [
          "2018-10-01T00:00:00",
          "2018-11-01T00:00:00",
          "2018-12-01T00:00:00",
          "2019-01-01T00:00:00",
          "2019-02-01T00:00:00",
          "2019-03-01T00:00:00",
          "2019-04-01T00:00:00"
         ],
         "xaxis": "x",
         "y": [
          122,
          442,
          66,
          32,
          148,
          95,
          3
         ],
         "yaxis": "y"
        },
        {
         "hovertemplate": "категория товара=инструменты, такелаж<br>месяц=%{x}<br>кол-во проданного товара=%{y}<extra></extra>",
         "legendgroup": "инструменты, такелаж",
         "line": {
          "color": "rgb(93, 105, 177)",
          "dash": "solid",
          "shape": "spline",
          "width": 3
         },
         "marker": {
          "symbol": "circle"
         },
         "mode": "markers+lines",
         "name": "инструменты, такелаж",
         "orientation": "v",
         "showlegend": true,
         "type": "scatter",
         "x": [
          "2018-10-01T00:00:00",
          "2018-11-01T00:00:00",
          "2018-12-01T00:00:00",
          "2019-01-01T00:00:00",
          "2019-02-01T00:00:00",
          "2019-03-01T00:00:00"
         ],
         "xaxis": "x",
         "y": [
          7,
          71,
          49,
          6,
          1,
          15
         ],
         "yaxis": "y"
        },
        {
         "hovertemplate": "категория товара=интерьер, мебель<br>месяц=%{x}<br>кол-во проданного товара=%{y}<extra></extra>",
         "legendgroup": "интерьер, мебель",
         "line": {
          "color": "rgb(82, 188, 163)",
          "dash": "solid",
          "shape": "spline",
          "width": 3
         },
         "marker": {
          "symbol": "circle"
         },
         "mode": "markers+lines",
         "name": "интерьер, мебель",
         "orientation": "v",
         "showlegend": true,
         "type": "scatter",
         "x": [
          "2018-10-01T00:00:00",
          "2018-11-01T00:00:00",
          "2018-12-01T00:00:00",
          "2019-01-01T00:00:00",
          "2019-02-01T00:00:00",
          "2019-03-01T00:00:00",
          "2019-04-01T00:00:00"
         ],
         "xaxis": "x",
         "y": [
          17,
          33,
          22,
          5,
          5,
          7,
          4
         ],
         "yaxis": "y"
        },
        {
         "hovertemplate": "категория товара=посуда, товары для кухни<br>месяц=%{x}<br>кол-во проданного товара=%{y}<extra></extra>",
         "legendgroup": "посуда, товары для кухни",
         "line": {
          "color": "rgb(153, 201, 69)",
          "dash": "solid",
          "shape": "spline",
          "width": 3
         },
         "marker": {
          "symbol": "circle"
         },
         "mode": "markers+lines",
         "name": "посуда, товары для кухни",
         "orientation": "v",
         "showlegend": true,
         "type": "scatter",
         "x": [
          "2018-10-01T00:00:00",
          "2018-11-01T00:00:00",
          "2018-12-01T00:00:00",
          "2019-01-01T00:00:00",
          "2019-02-01T00:00:00",
          "2019-03-01T00:00:00",
          "2019-04-01T00:00:00"
         ],
         "xaxis": "x",
         "y": [
          74,
          138,
          182,
          98,
          84,
          95,
          24
         ],
         "yaxis": "y"
        },
        {
         "hovertemplate": "категория товара=предметы для ванной комнаты<br>месяц=%{x}<br>кол-во проданного товара=%{y}<extra></extra>",
         "legendgroup": "предметы для ванной комнаты",
         "line": {
          "color": "rgb(204, 97, 176)",
          "dash": "solid",
          "shape": "spline",
          "width": 3
         },
         "marker": {
          "symbol": "circle"
         },
         "mode": "markers+lines",
         "name": "предметы для ванной комнаты",
         "orientation": "v",
         "showlegend": true,
         "type": "scatter",
         "x": [
          "2018-10-01T00:00:00",
          "2018-11-01T00:00:00",
          "2018-12-01T00:00:00",
          "2019-01-01T00:00:00",
          "2019-02-01T00:00:00",
          "2019-03-01T00:00:00"
         ],
         "xaxis": "x",
         "y": [
          15,
          14,
          9,
          2,
          10,
          23
         ],
         "yaxis": "y"
        },
        {
         "hovertemplate": "категория товара=рассада и растения<br>месяц=%{x}<br>кол-во проданного товара=%{y}<extra></extra>",
         "legendgroup": "рассада и растения",
         "line": {
          "color": "rgb(36, 121, 108)",
          "dash": "solid",
          "shape": "spline",
          "width": 3
         },
         "marker": {
          "symbol": "circle"
         },
         "mode": "markers+lines",
         "name": "рассада и растения",
         "orientation": "v",
         "showlegend": true,
         "type": "scatter",
         "x": [
          "2018-10-01T00:00:00",
          "2018-11-01T00:00:00",
          "2018-12-01T00:00:00",
          "2019-01-01T00:00:00",
          "2019-02-01T00:00:00",
          "2019-03-01T00:00:00",
          "2019-04-01T00:00:00"
         ],
         "xaxis": "x",
         "y": [
          731,
          247,
          127,
          180,
          372,
          631,
          142
         ],
         "yaxis": "y"
        },
        {
         "hovertemplate": "категория товара=текстиль<br>месяц=%{x}<br>кол-во проданного товара=%{y}<extra></extra>",
         "legendgroup": "текстиль",
         "line": {
          "color": "rgb(218, 165, 27)",
          "dash": "solid",
          "shape": "spline",
          "width": 3
         },
         "marker": {
          "symbol": "circle"
         },
         "mode": "markers+lines",
         "name": "текстиль",
         "orientation": "v",
         "showlegend": true,
         "type": "scatter",
         "x": [
          "2018-10-01T00:00:00",
          "2018-11-01T00:00:00",
          "2018-12-01T00:00:00",
          "2019-01-01T00:00:00",
          "2019-02-01T00:00:00",
          "2019-03-01T00:00:00",
          "2019-04-01T00:00:00"
         ],
         "xaxis": "x",
         "y": [
          12,
          13,
          6,
          33,
          21,
          11,
          15
         ],
         "yaxis": "y"
        },
        {
         "hovertemplate": "категория товара=фурнитура<br>месяц=%{x}<br>кол-во проданного товара=%{y}<extra></extra>",
         "legendgroup": "фурнитура",
         "line": {
          "color": "rgb(47, 138, 196)",
          "dash": "solid",
          "shape": "spline",
          "width": 3
         },
         "marker": {
          "symbol": "circle"
         },
         "mode": "markers+lines",
         "name": "фурнитура",
         "orientation": "v",
         "showlegend": true,
         "type": "scatter",
         "x": [
          "2018-10-01T00:00:00",
          "2018-11-01T00:00:00",
          "2018-12-01T00:00:00",
          "2019-02-01T00:00:00"
         ],
         "xaxis": "x",
         "y": [
          350,
          6,
          200,
          20
         ],
         "yaxis": "y"
        },
        {
         "hovertemplate": "категория товара=хозтовары<br>месяц=%{x}<br>кол-во проданного товара=%{y}<extra></extra>",
         "legendgroup": "хозтовары",
         "line": {
          "color": "rgb(118, 78, 159)",
          "dash": "solid",
          "shape": "spline",
          "width": 3
         },
         "marker": {
          "symbol": "circle"
         },
         "mode": "markers+lines",
         "name": "хозтовары",
         "orientation": "v",
         "showlegend": true,
         "type": "scatter",
         "x": [
          "2018-10-01T00:00:00",
          "2018-11-01T00:00:00",
          "2018-12-01T00:00:00",
          "2019-01-01T00:00:00",
          "2019-02-01T00:00:00",
          "2019-03-01T00:00:00",
          "2019-04-01T00:00:00"
         ],
         "xaxis": "x",
         "y": [
          557,
          283,
          336,
          263,
          187,
          234,
          109
         ],
         "yaxis": "y"
        },
        {
         "hovertemplate": "категория товара=электроприборы<br>месяц=%{x}<br>кол-во проданного товара=%{y}<extra></extra>",
         "legendgroup": "электроприборы",
         "line": {
          "color": "rgb(237, 100, 90)",
          "dash": "solid",
          "shape": "spline",
          "width": 3
         },
         "marker": {
          "symbol": "circle"
         },
         "mode": "markers+lines",
         "name": "электроприборы",
         "orientation": "v",
         "showlegend": true,
         "type": "scatter",
         "x": [
          "2018-10-01T00:00:00",
          "2018-11-01T00:00:00"
         ],
         "xaxis": "x",
         "y": [
          1,
          1
         ],
         "yaxis": "y"
        },
        {
         "hovertemplate": "категория товара=подарки на праздники<br>месяц=%{x}<br>кол-во проданного товара=%{y}<extra></extra>",
         "legendgroup": "подарки на праздники",
         "line": {
          "color": "rgb(165, 170, 153)",
          "dash": "solid",
          "shape": "spline",
          "width": 3
         },
         "marker": {
          "symbol": "circle"
         },
         "mode": "markers+lines",
         "name": "подарки на праздники",
         "orientation": "v",
         "showlegend": true,
         "type": "scatter",
         "x": [
          "2019-02-01T00:00:00",
          "2019-03-01T00:00:00"
         ],
         "xaxis": "x",
         "y": [
          13,
          4
         ],
         "yaxis": "y"
        }
       ],
       "layout": {
        "legend": {
         "title": {
          "text": "категория товара"
         },
         "tracegroupgap": 0
        },
        "template": {
         "data": {
          "bar": [
           {
            "error_x": {
             "color": "rgb(36,36,36)"
            },
            "error_y": {
             "color": "rgb(36,36,36)"
            },
            "marker": {
             "line": {
              "color": "white",
              "width": 0.5
             },
             "pattern": {
              "fillmode": "overlay",
              "size": 10,
              "solidity": 0.2
             }
            },
            "type": "bar"
           }
          ],
          "barpolar": [
           {
            "marker": {
             "line": {
              "color": "white",
              "width": 0.5
             },
             "pattern": {
              "fillmode": "overlay",
              "size": 10,
              "solidity": 0.2
             }
            },
            "type": "barpolar"
           }
          ],
          "carpet": [
           {
            "aaxis": {
             "endlinecolor": "rgb(36,36,36)",
             "gridcolor": "white",
             "linecolor": "white",
             "minorgridcolor": "white",
             "startlinecolor": "rgb(36,36,36)"
            },
            "baxis": {
             "endlinecolor": "rgb(36,36,36)",
             "gridcolor": "white",
             "linecolor": "white",
             "minorgridcolor": "white",
             "startlinecolor": "rgb(36,36,36)"
            },
            "type": "carpet"
           }
          ],
          "choropleth": [
           {
            "colorbar": {
             "outlinewidth": 1,
             "tickcolor": "rgb(36,36,36)",
             "ticks": "outside"
            },
            "type": "choropleth"
           }
          ],
          "contour": [
           {
            "colorbar": {
             "outlinewidth": 1,
             "tickcolor": "rgb(36,36,36)",
             "ticks": "outside"
            },
            "colorscale": [
             [
              0,
              "#440154"
             ],
             [
              0.1111111111111111,
              "#482878"
             ],
             [
              0.2222222222222222,
              "#3e4989"
             ],
             [
              0.3333333333333333,
              "#31688e"
             ],
             [
              0.4444444444444444,
              "#26828e"
             ],
             [
              0.5555555555555556,
              "#1f9e89"
             ],
             [
              0.6666666666666666,
              "#35b779"
             ],
             [
              0.7777777777777778,
              "#6ece58"
             ],
             [
              0.8888888888888888,
              "#b5de2b"
             ],
             [
              1,
              "#fde725"
             ]
            ],
            "type": "contour"
           }
          ],
          "contourcarpet": [
           {
            "colorbar": {
             "outlinewidth": 1,
             "tickcolor": "rgb(36,36,36)",
             "ticks": "outside"
            },
            "type": "contourcarpet"
           }
          ],
          "heatmap": [
           {
            "colorbar": {
             "outlinewidth": 1,
             "tickcolor": "rgb(36,36,36)",
             "ticks": "outside"
            },
            "colorscale": [
             [
              0,
              "#440154"
             ],
             [
              0.1111111111111111,
              "#482878"
             ],
             [
              0.2222222222222222,
              "#3e4989"
             ],
             [
              0.3333333333333333,
              "#31688e"
             ],
             [
              0.4444444444444444,
              "#26828e"
             ],
             [
              0.5555555555555556,
              "#1f9e89"
             ],
             [
              0.6666666666666666,
              "#35b779"
             ],
             [
              0.7777777777777778,
              "#6ece58"
             ],
             [
              0.8888888888888888,
              "#b5de2b"
             ],
             [
              1,
              "#fde725"
             ]
            ],
            "type": "heatmap"
           }
          ],
          "heatmapgl": [
           {
            "colorbar": {
             "outlinewidth": 1,
             "tickcolor": "rgb(36,36,36)",
             "ticks": "outside"
            },
            "colorscale": [
             [
              0,
              "#440154"
             ],
             [
              0.1111111111111111,
              "#482878"
             ],
             [
              0.2222222222222222,
              "#3e4989"
             ],
             [
              0.3333333333333333,
              "#31688e"
             ],
             [
              0.4444444444444444,
              "#26828e"
             ],
             [
              0.5555555555555556,
              "#1f9e89"
             ],
             [
              0.6666666666666666,
              "#35b779"
             ],
             [
              0.7777777777777778,
              "#6ece58"
             ],
             [
              0.8888888888888888,
              "#b5de2b"
             ],
             [
              1,
              "#fde725"
             ]
            ],
            "type": "heatmapgl"
           }
          ],
          "histogram": [
           {
            "marker": {
             "line": {
              "color": "white",
              "width": 0.6
             }
            },
            "type": "histogram"
           }
          ],
          "histogram2d": [
           {
            "colorbar": {
             "outlinewidth": 1,
             "tickcolor": "rgb(36,36,36)",
             "ticks": "outside"
            },
            "colorscale": [
             [
              0,
              "#440154"
             ],
             [
              0.1111111111111111,
              "#482878"
             ],
             [
              0.2222222222222222,
              "#3e4989"
             ],
             [
              0.3333333333333333,
              "#31688e"
             ],
             [
              0.4444444444444444,
              "#26828e"
             ],
             [
              0.5555555555555556,
              "#1f9e89"
             ],
             [
              0.6666666666666666,
              "#35b779"
             ],
             [
              0.7777777777777778,
              "#6ece58"
             ],
             [
              0.8888888888888888,
              "#b5de2b"
             ],
             [
              1,
              "#fde725"
             ]
            ],
            "type": "histogram2d"
           }
          ],
          "histogram2dcontour": [
           {
            "colorbar": {
             "outlinewidth": 1,
             "tickcolor": "rgb(36,36,36)",
             "ticks": "outside"
            },
            "colorscale": [
             [
              0,
              "#440154"
             ],
             [
              0.1111111111111111,
              "#482878"
             ],
             [
              0.2222222222222222,
              "#3e4989"
             ],
             [
              0.3333333333333333,
              "#31688e"
             ],
             [
              0.4444444444444444,
              "#26828e"
             ],
             [
              0.5555555555555556,
              "#1f9e89"
             ],
             [
              0.6666666666666666,
              "#35b779"
             ],
             [
              0.7777777777777778,
              "#6ece58"
             ],
             [
              0.8888888888888888,
              "#b5de2b"
             ],
             [
              1,
              "#fde725"
             ]
            ],
            "type": "histogram2dcontour"
           }
          ],
          "mesh3d": [
           {
            "colorbar": {
             "outlinewidth": 1,
             "tickcolor": "rgb(36,36,36)",
             "ticks": "outside"
            },
            "type": "mesh3d"
           }
          ],
          "parcoords": [
           {
            "line": {
             "colorbar": {
              "outlinewidth": 1,
              "tickcolor": "rgb(36,36,36)",
              "ticks": "outside"
             }
            },
            "type": "parcoords"
           }
          ],
          "pie": [
           {
            "automargin": true,
            "type": "pie"
           }
          ],
          "scatter": [
           {
            "marker": {
             "colorbar": {
              "outlinewidth": 1,
              "tickcolor": "rgb(36,36,36)",
              "ticks": "outside"
             }
            },
            "type": "scatter"
           }
          ],
          "scatter3d": [
           {
            "line": {
             "colorbar": {
              "outlinewidth": 1,
              "tickcolor": "rgb(36,36,36)",
              "ticks": "outside"
             }
            },
            "marker": {
             "colorbar": {
              "outlinewidth": 1,
              "tickcolor": "rgb(36,36,36)",
              "ticks": "outside"
             }
            },
            "type": "scatter3d"
           }
          ],
          "scattercarpet": [
           {
            "marker": {
             "colorbar": {
              "outlinewidth": 1,
              "tickcolor": "rgb(36,36,36)",
              "ticks": "outside"
             }
            },
            "type": "scattercarpet"
           }
          ],
          "scattergeo": [
           {
            "marker": {
             "colorbar": {
              "outlinewidth": 1,
              "tickcolor": "rgb(36,36,36)",
              "ticks": "outside"
             }
            },
            "type": "scattergeo"
           }
          ],
          "scattergl": [
           {
            "marker": {
             "colorbar": {
              "outlinewidth": 1,
              "tickcolor": "rgb(36,36,36)",
              "ticks": "outside"
             }
            },
            "type": "scattergl"
           }
          ],
          "scattermapbox": [
           {
            "marker": {
             "colorbar": {
              "outlinewidth": 1,
              "tickcolor": "rgb(36,36,36)",
              "ticks": "outside"
             }
            },
            "type": "scattermapbox"
           }
          ],
          "scatterpolar": [
           {
            "marker": {
             "colorbar": {
              "outlinewidth": 1,
              "tickcolor": "rgb(36,36,36)",
              "ticks": "outside"
             }
            },
            "type": "scatterpolar"
           }
          ],
          "scatterpolargl": [
           {
            "marker": {
             "colorbar": {
              "outlinewidth": 1,
              "tickcolor": "rgb(36,36,36)",
              "ticks": "outside"
             }
            },
            "type": "scatterpolargl"
           }
          ],
          "scatterternary": [
           {
            "marker": {
             "colorbar": {
              "outlinewidth": 1,
              "tickcolor": "rgb(36,36,36)",
              "ticks": "outside"
             }
            },
            "type": "scatterternary"
           }
          ],
          "surface": [
           {
            "colorbar": {
             "outlinewidth": 1,
             "tickcolor": "rgb(36,36,36)",
             "ticks": "outside"
            },
            "colorscale": [
             [
              0,
              "#440154"
             ],
             [
              0.1111111111111111,
              "#482878"
             ],
             [
              0.2222222222222222,
              "#3e4989"
             ],
             [
              0.3333333333333333,
              "#31688e"
             ],
             [
              0.4444444444444444,
              "#26828e"
             ],
             [
              0.5555555555555556,
              "#1f9e89"
             ],
             [
              0.6666666666666666,
              "#35b779"
             ],
             [
              0.7777777777777778,
              "#6ece58"
             ],
             [
              0.8888888888888888,
              "#b5de2b"
             ],
             [
              1,
              "#fde725"
             ]
            ],
            "type": "surface"
           }
          ],
          "table": [
           {
            "cells": {
             "fill": {
              "color": "rgb(237,237,237)"
             },
             "line": {
              "color": "white"
             }
            },
            "header": {
             "fill": {
              "color": "rgb(217,217,217)"
             },
             "line": {
              "color": "white"
             }
            },
            "type": "table"
           }
          ]
         },
         "layout": {
          "annotationdefaults": {
           "arrowhead": 0,
           "arrowwidth": 1
          },
          "autotypenumbers": "strict",
          "coloraxis": {
           "colorbar": {
            "outlinewidth": 1,
            "tickcolor": "rgb(36,36,36)",
            "ticks": "outside"
           }
          },
          "colorscale": {
           "diverging": [
            [
             0,
             "rgb(103,0,31)"
            ],
            [
             0.1,
             "rgb(178,24,43)"
            ],
            [
             0.2,
             "rgb(214,96,77)"
            ],
            [
             0.3,
             "rgb(244,165,130)"
            ],
            [
             0.4,
             "rgb(253,219,199)"
            ],
            [
             0.5,
             "rgb(247,247,247)"
            ],
            [
             0.6,
             "rgb(209,229,240)"
            ],
            [
             0.7,
             "rgb(146,197,222)"
            ],
            [
             0.8,
             "rgb(67,147,195)"
            ],
            [
             0.9,
             "rgb(33,102,172)"
            ],
            [
             1,
             "rgb(5,48,97)"
            ]
           ],
           "sequential": [
            [
             0,
             "#440154"
            ],
            [
             0.1111111111111111,
             "#482878"
            ],
            [
             0.2222222222222222,
             "#3e4989"
            ],
            [
             0.3333333333333333,
             "#31688e"
            ],
            [
             0.4444444444444444,
             "#26828e"
            ],
            [
             0.5555555555555556,
             "#1f9e89"
            ],
            [
             0.6666666666666666,
             "#35b779"
            ],
            [
             0.7777777777777778,
             "#6ece58"
            ],
            [
             0.8888888888888888,
             "#b5de2b"
            ],
            [
             1,
             "#fde725"
            ]
           ],
           "sequentialminus": [
            [
             0,
             "#440154"
            ],
            [
             0.1111111111111111,
             "#482878"
            ],
            [
             0.2222222222222222,
             "#3e4989"
            ],
            [
             0.3333333333333333,
             "#31688e"
            ],
            [
             0.4444444444444444,
             "#26828e"
            ],
            [
             0.5555555555555556,
             "#1f9e89"
            ],
            [
             0.6666666666666666,
             "#35b779"
            ],
            [
             0.7777777777777778,
             "#6ece58"
            ],
            [
             0.8888888888888888,
             "#b5de2b"
            ],
            [
             1,
             "#fde725"
            ]
           ]
          },
          "colorway": [
           "#1F77B4",
           "#FF7F0E",
           "#2CA02C",
           "#D62728",
           "#9467BD",
           "#8C564B",
           "#E377C2",
           "#7F7F7F",
           "#BCBD22",
           "#17BECF"
          ],
          "font": {
           "color": "rgb(36,36,36)"
          },
          "geo": {
           "bgcolor": "white",
           "lakecolor": "white",
           "landcolor": "white",
           "showlakes": true,
           "showland": true,
           "subunitcolor": "white"
          },
          "hoverlabel": {
           "align": "left"
          },
          "hovermode": "closest",
          "mapbox": {
           "style": "light"
          },
          "paper_bgcolor": "white",
          "plot_bgcolor": "white",
          "polar": {
           "angularaxis": {
            "gridcolor": "rgb(232,232,232)",
            "linecolor": "rgb(36,36,36)",
            "showgrid": false,
            "showline": true,
            "ticks": "outside"
           },
           "bgcolor": "white",
           "radialaxis": {
            "gridcolor": "rgb(232,232,232)",
            "linecolor": "rgb(36,36,36)",
            "showgrid": false,
            "showline": true,
            "ticks": "outside"
           }
          },
          "scene": {
           "xaxis": {
            "backgroundcolor": "white",
            "gridcolor": "rgb(232,232,232)",
            "gridwidth": 2,
            "linecolor": "rgb(36,36,36)",
            "showbackground": true,
            "showgrid": false,
            "showline": true,
            "ticks": "outside",
            "zeroline": false,
            "zerolinecolor": "rgb(36,36,36)"
           },
           "yaxis": {
            "backgroundcolor": "white",
            "gridcolor": "rgb(232,232,232)",
            "gridwidth": 2,
            "linecolor": "rgb(36,36,36)",
            "showbackground": true,
            "showgrid": false,
            "showline": true,
            "ticks": "outside",
            "zeroline": false,
            "zerolinecolor": "rgb(36,36,36)"
           },
           "zaxis": {
            "backgroundcolor": "white",
            "gridcolor": "rgb(232,232,232)",
            "gridwidth": 2,
            "linecolor": "rgb(36,36,36)",
            "showbackground": true,
            "showgrid": false,
            "showline": true,
            "ticks": "outside",
            "zeroline": false,
            "zerolinecolor": "rgb(36,36,36)"
           }
          },
          "shapedefaults": {
           "fillcolor": "black",
           "line": {
            "width": 0
           },
           "opacity": 0.3
          },
          "ternary": {
           "aaxis": {
            "gridcolor": "rgb(232,232,232)",
            "linecolor": "rgb(36,36,36)",
            "showgrid": false,
            "showline": true,
            "ticks": "outside"
           },
           "baxis": {
            "gridcolor": "rgb(232,232,232)",
            "linecolor": "rgb(36,36,36)",
            "showgrid": false,
            "showline": true,
            "ticks": "outside"
           },
           "bgcolor": "white",
           "caxis": {
            "gridcolor": "rgb(232,232,232)",
            "linecolor": "rgb(36,36,36)",
            "showgrid": false,
            "showline": true,
            "ticks": "outside"
           }
          },
          "title": {
           "x": 0.05
          },
          "xaxis": {
           "automargin": true,
           "gridcolor": "rgb(232,232,232)",
           "linecolor": "rgb(36,36,36)",
           "showgrid": false,
           "showline": true,
           "ticks": "outside",
           "title": {
            "standoff": 15
           },
           "zeroline": false,
           "zerolinecolor": "rgb(36,36,36)"
          },
          "yaxis": {
           "automargin": true,
           "gridcolor": "rgb(232,232,232)",
           "linecolor": "rgb(36,36,36)",
           "showgrid": false,
           "showline": true,
           "ticks": "outside",
           "title": {
            "standoff": 15
           },
           "zeroline": false,
           "zerolinecolor": "rgb(36,36,36)"
          }
         }
        },
        "title": {
         "text": "Сегмент 1й. Покупка товаров разных категорий по месяцам"
        },
        "xaxis": {
         "anchor": "y",
         "domain": [
          0,
          1
         ],
         "title": {
          "text": "месяц"
         }
        },
        "yaxis": {
         "anchor": "x",
         "domain": [
          0,
          1
         ],
         "title": {
          "text": "кол-во проданного товара"
         }
        }
       }
      },
      "text/html": [
       "<div>                            <div id=\"62f26b0b-c91b-46c7-83c9-60462b8c9302\" class=\"plotly-graph-div\" style=\"height:525px; width:100%;\"></div>            <script type=\"text/javascript\">                require([\"plotly\"], function(Plotly) {                    window.PLOTLYENV=window.PLOTLYENV || {};                                    if (document.getElementById(\"62f26b0b-c91b-46c7-83c9-60462b8c9302\")) {                    Plotly.newPlot(                        \"62f26b0b-c91b-46c7-83c9-60462b8c9302\",                        [{\"hovertemplate\":\"\\u043a\\u0430\\u0442\\u0435\\u0433\\u043e\\u0440\\u0438\\u044f \\u0442\\u043e\\u0432\\u0430\\u0440\\u0430=\\u0434\\u0435\\u043a\\u043e\\u0440<br>\\u043c\\u0435\\u0441\\u044f\\u0446=%{x}<br>\\u043a\\u043e\\u043b-\\u0432\\u043e \\u043f\\u0440\\u043e\\u0434\\u0430\\u043d\\u043d\\u043e\\u0433\\u043e \\u0442\\u043e\\u0432\\u0430\\u0440\\u0430=%{y}<extra></extra>\",\"legendgroup\":\"\\u0434\\u0435\\u043a\\u043e\\u0440\",\"line\":{\"color\":\"rgb(229, 134, 6)\",\"dash\":\"solid\",\"shape\":\"spline\",\"width\":3},\"marker\":{\"symbol\":\"circle\"},\"mode\":\"markers+lines\",\"name\":\"\\u0434\\u0435\\u043a\\u043e\\u0440\",\"orientation\":\"v\",\"showlegend\":true,\"x\":[\"2018-10-01T00:00:00\",\"2018-11-01T00:00:00\",\"2018-12-01T00:00:00\",\"2019-01-01T00:00:00\",\"2019-02-01T00:00:00\",\"2019-03-01T00:00:00\",\"2019-04-01T00:00:00\"],\"xaxis\":\"x\",\"y\":[122,442,66,32,148,95,3],\"yaxis\":\"y\",\"type\":\"scatter\"},{\"hovertemplate\":\"\\u043a\\u0430\\u0442\\u0435\\u0433\\u043e\\u0440\\u0438\\u044f \\u0442\\u043e\\u0432\\u0430\\u0440\\u0430=\\u0438\\u043d\\u0441\\u0442\\u0440\\u0443\\u043c\\u0435\\u043d\\u0442\\u044b, \\u0442\\u0430\\u043a\\u0435\\u043b\\u0430\\u0436<br>\\u043c\\u0435\\u0441\\u044f\\u0446=%{x}<br>\\u043a\\u043e\\u043b-\\u0432\\u043e \\u043f\\u0440\\u043e\\u0434\\u0430\\u043d\\u043d\\u043e\\u0433\\u043e \\u0442\\u043e\\u0432\\u0430\\u0440\\u0430=%{y}<extra></extra>\",\"legendgroup\":\"\\u0438\\u043d\\u0441\\u0442\\u0440\\u0443\\u043c\\u0435\\u043d\\u0442\\u044b, \\u0442\\u0430\\u043a\\u0435\\u043b\\u0430\\u0436\",\"line\":{\"color\":\"rgb(93, 105, 177)\",\"dash\":\"solid\",\"shape\":\"spline\",\"width\":3},\"marker\":{\"symbol\":\"circle\"},\"mode\":\"markers+lines\",\"name\":\"\\u0438\\u043d\\u0441\\u0442\\u0440\\u0443\\u043c\\u0435\\u043d\\u0442\\u044b, \\u0442\\u0430\\u043a\\u0435\\u043b\\u0430\\u0436\",\"orientation\":\"v\",\"showlegend\":true,\"x\":[\"2018-10-01T00:00:00\",\"2018-11-01T00:00:00\",\"2018-12-01T00:00:00\",\"2019-01-01T00:00:00\",\"2019-02-01T00:00:00\",\"2019-03-01T00:00:00\"],\"xaxis\":\"x\",\"y\":[7,71,49,6,1,15],\"yaxis\":\"y\",\"type\":\"scatter\"},{\"hovertemplate\":\"\\u043a\\u0430\\u0442\\u0435\\u0433\\u043e\\u0440\\u0438\\u044f \\u0442\\u043e\\u0432\\u0430\\u0440\\u0430=\\u0438\\u043d\\u0442\\u0435\\u0440\\u044c\\u0435\\u0440, \\u043c\\u0435\\u0431\\u0435\\u043b\\u044c<br>\\u043c\\u0435\\u0441\\u044f\\u0446=%{x}<br>\\u043a\\u043e\\u043b-\\u0432\\u043e \\u043f\\u0440\\u043e\\u0434\\u0430\\u043d\\u043d\\u043e\\u0433\\u043e \\u0442\\u043e\\u0432\\u0430\\u0440\\u0430=%{y}<extra></extra>\",\"legendgroup\":\"\\u0438\\u043d\\u0442\\u0435\\u0440\\u044c\\u0435\\u0440, \\u043c\\u0435\\u0431\\u0435\\u043b\\u044c\",\"line\":{\"color\":\"rgb(82, 188, 163)\",\"dash\":\"solid\",\"shape\":\"spline\",\"width\":3},\"marker\":{\"symbol\":\"circle\"},\"mode\":\"markers+lines\",\"name\":\"\\u0438\\u043d\\u0442\\u0435\\u0440\\u044c\\u0435\\u0440, \\u043c\\u0435\\u0431\\u0435\\u043b\\u044c\",\"orientation\":\"v\",\"showlegend\":true,\"x\":[\"2018-10-01T00:00:00\",\"2018-11-01T00:00:00\",\"2018-12-01T00:00:00\",\"2019-01-01T00:00:00\",\"2019-02-01T00:00:00\",\"2019-03-01T00:00:00\",\"2019-04-01T00:00:00\"],\"xaxis\":\"x\",\"y\":[17,33,22,5,5,7,4],\"yaxis\":\"y\",\"type\":\"scatter\"},{\"hovertemplate\":\"\\u043a\\u0430\\u0442\\u0435\\u0433\\u043e\\u0440\\u0438\\u044f \\u0442\\u043e\\u0432\\u0430\\u0440\\u0430=\\u043f\\u043e\\u0441\\u0443\\u0434\\u0430, \\u0442\\u043e\\u0432\\u0430\\u0440\\u044b \\u0434\\u043b\\u044f \\u043a\\u0443\\u0445\\u043d\\u0438<br>\\u043c\\u0435\\u0441\\u044f\\u0446=%{x}<br>\\u043a\\u043e\\u043b-\\u0432\\u043e \\u043f\\u0440\\u043e\\u0434\\u0430\\u043d\\u043d\\u043e\\u0433\\u043e \\u0442\\u043e\\u0432\\u0430\\u0440\\u0430=%{y}<extra></extra>\",\"legendgroup\":\"\\u043f\\u043e\\u0441\\u0443\\u0434\\u0430, \\u0442\\u043e\\u0432\\u0430\\u0440\\u044b \\u0434\\u043b\\u044f \\u043a\\u0443\\u0445\\u043d\\u0438\",\"line\":{\"color\":\"rgb(153, 201, 69)\",\"dash\":\"solid\",\"shape\":\"spline\",\"width\":3},\"marker\":{\"symbol\":\"circle\"},\"mode\":\"markers+lines\",\"name\":\"\\u043f\\u043e\\u0441\\u0443\\u0434\\u0430, \\u0442\\u043e\\u0432\\u0430\\u0440\\u044b \\u0434\\u043b\\u044f \\u043a\\u0443\\u0445\\u043d\\u0438\",\"orientation\":\"v\",\"showlegend\":true,\"x\":[\"2018-10-01T00:00:00\",\"2018-11-01T00:00:00\",\"2018-12-01T00:00:00\",\"2019-01-01T00:00:00\",\"2019-02-01T00:00:00\",\"2019-03-01T00:00:00\",\"2019-04-01T00:00:00\"],\"xaxis\":\"x\",\"y\":[74,138,182,98,84,95,24],\"yaxis\":\"y\",\"type\":\"scatter\"},{\"hovertemplate\":\"\\u043a\\u0430\\u0442\\u0435\\u0433\\u043e\\u0440\\u0438\\u044f \\u0442\\u043e\\u0432\\u0430\\u0440\\u0430=\\u043f\\u0440\\u0435\\u0434\\u043c\\u0435\\u0442\\u044b \\u0434\\u043b\\u044f \\u0432\\u0430\\u043d\\u043d\\u043e\\u0439 \\u043a\\u043e\\u043c\\u043d\\u0430\\u0442\\u044b<br>\\u043c\\u0435\\u0441\\u044f\\u0446=%{x}<br>\\u043a\\u043e\\u043b-\\u0432\\u043e \\u043f\\u0440\\u043e\\u0434\\u0430\\u043d\\u043d\\u043e\\u0433\\u043e \\u0442\\u043e\\u0432\\u0430\\u0440\\u0430=%{y}<extra></extra>\",\"legendgroup\":\"\\u043f\\u0440\\u0435\\u0434\\u043c\\u0435\\u0442\\u044b \\u0434\\u043b\\u044f \\u0432\\u0430\\u043d\\u043d\\u043e\\u0439 \\u043a\\u043e\\u043c\\u043d\\u0430\\u0442\\u044b\",\"line\":{\"color\":\"rgb(204, 97, 176)\",\"dash\":\"solid\",\"shape\":\"spline\",\"width\":3},\"marker\":{\"symbol\":\"circle\"},\"mode\":\"markers+lines\",\"name\":\"\\u043f\\u0440\\u0435\\u0434\\u043c\\u0435\\u0442\\u044b \\u0434\\u043b\\u044f \\u0432\\u0430\\u043d\\u043d\\u043e\\u0439 \\u043a\\u043e\\u043c\\u043d\\u0430\\u0442\\u044b\",\"orientation\":\"v\",\"showlegend\":true,\"x\":[\"2018-10-01T00:00:00\",\"2018-11-01T00:00:00\",\"2018-12-01T00:00:00\",\"2019-01-01T00:00:00\",\"2019-02-01T00:00:00\",\"2019-03-01T00:00:00\"],\"xaxis\":\"x\",\"y\":[15,14,9,2,10,23],\"yaxis\":\"y\",\"type\":\"scatter\"},{\"hovertemplate\":\"\\u043a\\u0430\\u0442\\u0435\\u0433\\u043e\\u0440\\u0438\\u044f \\u0442\\u043e\\u0432\\u0430\\u0440\\u0430=\\u0440\\u0430\\u0441\\u0441\\u0430\\u0434\\u0430 \\u0438 \\u0440\\u0430\\u0441\\u0442\\u0435\\u043d\\u0438\\u044f<br>\\u043c\\u0435\\u0441\\u044f\\u0446=%{x}<br>\\u043a\\u043e\\u043b-\\u0432\\u043e \\u043f\\u0440\\u043e\\u0434\\u0430\\u043d\\u043d\\u043e\\u0433\\u043e \\u0442\\u043e\\u0432\\u0430\\u0440\\u0430=%{y}<extra></extra>\",\"legendgroup\":\"\\u0440\\u0430\\u0441\\u0441\\u0430\\u0434\\u0430 \\u0438 \\u0440\\u0430\\u0441\\u0442\\u0435\\u043d\\u0438\\u044f\",\"line\":{\"color\":\"rgb(36, 121, 108)\",\"dash\":\"solid\",\"shape\":\"spline\",\"width\":3},\"marker\":{\"symbol\":\"circle\"},\"mode\":\"markers+lines\",\"name\":\"\\u0440\\u0430\\u0441\\u0441\\u0430\\u0434\\u0430 \\u0438 \\u0440\\u0430\\u0441\\u0442\\u0435\\u043d\\u0438\\u044f\",\"orientation\":\"v\",\"showlegend\":true,\"x\":[\"2018-10-01T00:00:00\",\"2018-11-01T00:00:00\",\"2018-12-01T00:00:00\",\"2019-01-01T00:00:00\",\"2019-02-01T00:00:00\",\"2019-03-01T00:00:00\",\"2019-04-01T00:00:00\"],\"xaxis\":\"x\",\"y\":[731,247,127,180,372,631,142],\"yaxis\":\"y\",\"type\":\"scatter\"},{\"hovertemplate\":\"\\u043a\\u0430\\u0442\\u0435\\u0433\\u043e\\u0440\\u0438\\u044f \\u0442\\u043e\\u0432\\u0430\\u0440\\u0430=\\u0442\\u0435\\u043a\\u0441\\u0442\\u0438\\u043b\\u044c<br>\\u043c\\u0435\\u0441\\u044f\\u0446=%{x}<br>\\u043a\\u043e\\u043b-\\u0432\\u043e \\u043f\\u0440\\u043e\\u0434\\u0430\\u043d\\u043d\\u043e\\u0433\\u043e \\u0442\\u043e\\u0432\\u0430\\u0440\\u0430=%{y}<extra></extra>\",\"legendgroup\":\"\\u0442\\u0435\\u043a\\u0441\\u0442\\u0438\\u043b\\u044c\",\"line\":{\"color\":\"rgb(218, 165, 27)\",\"dash\":\"solid\",\"shape\":\"spline\",\"width\":3},\"marker\":{\"symbol\":\"circle\"},\"mode\":\"markers+lines\",\"name\":\"\\u0442\\u0435\\u043a\\u0441\\u0442\\u0438\\u043b\\u044c\",\"orientation\":\"v\",\"showlegend\":true,\"x\":[\"2018-10-01T00:00:00\",\"2018-11-01T00:00:00\",\"2018-12-01T00:00:00\",\"2019-01-01T00:00:00\",\"2019-02-01T00:00:00\",\"2019-03-01T00:00:00\",\"2019-04-01T00:00:00\"],\"xaxis\":\"x\",\"y\":[12,13,6,33,21,11,15],\"yaxis\":\"y\",\"type\":\"scatter\"},{\"hovertemplate\":\"\\u043a\\u0430\\u0442\\u0435\\u0433\\u043e\\u0440\\u0438\\u044f \\u0442\\u043e\\u0432\\u0430\\u0440\\u0430=\\u0444\\u0443\\u0440\\u043d\\u0438\\u0442\\u0443\\u0440\\u0430<br>\\u043c\\u0435\\u0441\\u044f\\u0446=%{x}<br>\\u043a\\u043e\\u043b-\\u0432\\u043e \\u043f\\u0440\\u043e\\u0434\\u0430\\u043d\\u043d\\u043e\\u0433\\u043e \\u0442\\u043e\\u0432\\u0430\\u0440\\u0430=%{y}<extra></extra>\",\"legendgroup\":\"\\u0444\\u0443\\u0440\\u043d\\u0438\\u0442\\u0443\\u0440\\u0430\",\"line\":{\"color\":\"rgb(47, 138, 196)\",\"dash\":\"solid\",\"shape\":\"spline\",\"width\":3},\"marker\":{\"symbol\":\"circle\"},\"mode\":\"markers+lines\",\"name\":\"\\u0444\\u0443\\u0440\\u043d\\u0438\\u0442\\u0443\\u0440\\u0430\",\"orientation\":\"v\",\"showlegend\":true,\"x\":[\"2018-10-01T00:00:00\",\"2018-11-01T00:00:00\",\"2018-12-01T00:00:00\",\"2019-02-01T00:00:00\"],\"xaxis\":\"x\",\"y\":[350,6,200,20],\"yaxis\":\"y\",\"type\":\"scatter\"},{\"hovertemplate\":\"\\u043a\\u0430\\u0442\\u0435\\u0433\\u043e\\u0440\\u0438\\u044f \\u0442\\u043e\\u0432\\u0430\\u0440\\u0430=\\u0445\\u043e\\u0437\\u0442\\u043e\\u0432\\u0430\\u0440\\u044b<br>\\u043c\\u0435\\u0441\\u044f\\u0446=%{x}<br>\\u043a\\u043e\\u043b-\\u0432\\u043e \\u043f\\u0440\\u043e\\u0434\\u0430\\u043d\\u043d\\u043e\\u0433\\u043e \\u0442\\u043e\\u0432\\u0430\\u0440\\u0430=%{y}<extra></extra>\",\"legendgroup\":\"\\u0445\\u043e\\u0437\\u0442\\u043e\\u0432\\u0430\\u0440\\u044b\",\"line\":{\"color\":\"rgb(118, 78, 159)\",\"dash\":\"solid\",\"shape\":\"spline\",\"width\":3},\"marker\":{\"symbol\":\"circle\"},\"mode\":\"markers+lines\",\"name\":\"\\u0445\\u043e\\u0437\\u0442\\u043e\\u0432\\u0430\\u0440\\u044b\",\"orientation\":\"v\",\"showlegend\":true,\"x\":[\"2018-10-01T00:00:00\",\"2018-11-01T00:00:00\",\"2018-12-01T00:00:00\",\"2019-01-01T00:00:00\",\"2019-02-01T00:00:00\",\"2019-03-01T00:00:00\",\"2019-04-01T00:00:00\"],\"xaxis\":\"x\",\"y\":[557,283,336,263,187,234,109],\"yaxis\":\"y\",\"type\":\"scatter\"},{\"hovertemplate\":\"\\u043a\\u0430\\u0442\\u0435\\u0433\\u043e\\u0440\\u0438\\u044f \\u0442\\u043e\\u0432\\u0430\\u0440\\u0430=\\u044d\\u043b\\u0435\\u043a\\u0442\\u0440\\u043e\\u043f\\u0440\\u0438\\u0431\\u043e\\u0440\\u044b<br>\\u043c\\u0435\\u0441\\u044f\\u0446=%{x}<br>\\u043a\\u043e\\u043b-\\u0432\\u043e \\u043f\\u0440\\u043e\\u0434\\u0430\\u043d\\u043d\\u043e\\u0433\\u043e \\u0442\\u043e\\u0432\\u0430\\u0440\\u0430=%{y}<extra></extra>\",\"legendgroup\":\"\\u044d\\u043b\\u0435\\u043a\\u0442\\u0440\\u043e\\u043f\\u0440\\u0438\\u0431\\u043e\\u0440\\u044b\",\"line\":{\"color\":\"rgb(237, 100, 90)\",\"dash\":\"solid\",\"shape\":\"spline\",\"width\":3},\"marker\":{\"symbol\":\"circle\"},\"mode\":\"markers+lines\",\"name\":\"\\u044d\\u043b\\u0435\\u043a\\u0442\\u0440\\u043e\\u043f\\u0440\\u0438\\u0431\\u043e\\u0440\\u044b\",\"orientation\":\"v\",\"showlegend\":true,\"x\":[\"2018-10-01T00:00:00\",\"2018-11-01T00:00:00\"],\"xaxis\":\"x\",\"y\":[1,1],\"yaxis\":\"y\",\"type\":\"scatter\"},{\"hovertemplate\":\"\\u043a\\u0430\\u0442\\u0435\\u0433\\u043e\\u0440\\u0438\\u044f \\u0442\\u043e\\u0432\\u0430\\u0440\\u0430=\\u043f\\u043e\\u0434\\u0430\\u0440\\u043a\\u0438 \\u043d\\u0430 \\u043f\\u0440\\u0430\\u0437\\u0434\\u043d\\u0438\\u043a\\u0438<br>\\u043c\\u0435\\u0441\\u044f\\u0446=%{x}<br>\\u043a\\u043e\\u043b-\\u0432\\u043e \\u043f\\u0440\\u043e\\u0434\\u0430\\u043d\\u043d\\u043e\\u0433\\u043e \\u0442\\u043e\\u0432\\u0430\\u0440\\u0430=%{y}<extra></extra>\",\"legendgroup\":\"\\u043f\\u043e\\u0434\\u0430\\u0440\\u043a\\u0438 \\u043d\\u0430 \\u043f\\u0440\\u0430\\u0437\\u0434\\u043d\\u0438\\u043a\\u0438\",\"line\":{\"color\":\"rgb(165, 170, 153)\",\"dash\":\"solid\",\"shape\":\"spline\",\"width\":3},\"marker\":{\"symbol\":\"circle\"},\"mode\":\"markers+lines\",\"name\":\"\\u043f\\u043e\\u0434\\u0430\\u0440\\u043a\\u0438 \\u043d\\u0430 \\u043f\\u0440\\u0430\\u0437\\u0434\\u043d\\u0438\\u043a\\u0438\",\"orientation\":\"v\",\"showlegend\":true,\"x\":[\"2019-02-01T00:00:00\",\"2019-03-01T00:00:00\"],\"xaxis\":\"x\",\"y\":[13,4],\"yaxis\":\"y\",\"type\":\"scatter\"}],                        {\"template\":{\"data\":{\"barpolar\":[{\"marker\":{\"line\":{\"color\":\"white\",\"width\":0.5},\"pattern\":{\"fillmode\":\"overlay\",\"size\":10,\"solidity\":0.2}},\"type\":\"barpolar\"}],\"bar\":[{\"error_x\":{\"color\":\"rgb(36,36,36)\"},\"error_y\":{\"color\":\"rgb(36,36,36)\"},\"marker\":{\"line\":{\"color\":\"white\",\"width\":0.5},\"pattern\":{\"fillmode\":\"overlay\",\"size\":10,\"solidity\":0.2}},\"type\":\"bar\"}],\"carpet\":[{\"aaxis\":{\"endlinecolor\":\"rgb(36,36,36)\",\"gridcolor\":\"white\",\"linecolor\":\"white\",\"minorgridcolor\":\"white\",\"startlinecolor\":\"rgb(36,36,36)\"},\"baxis\":{\"endlinecolor\":\"rgb(36,36,36)\",\"gridcolor\":\"white\",\"linecolor\":\"white\",\"minorgridcolor\":\"white\",\"startlinecolor\":\"rgb(36,36,36)\"},\"type\":\"carpet\"}],\"choropleth\":[{\"colorbar\":{\"outlinewidth\":1,\"tickcolor\":\"rgb(36,36,36)\",\"ticks\":\"outside\"},\"type\":\"choropleth\"}],\"contourcarpet\":[{\"colorbar\":{\"outlinewidth\":1,\"tickcolor\":\"rgb(36,36,36)\",\"ticks\":\"outside\"},\"type\":\"contourcarpet\"}],\"contour\":[{\"colorbar\":{\"outlinewidth\":1,\"tickcolor\":\"rgb(36,36,36)\",\"ticks\":\"outside\"},\"colorscale\":[[0.0,\"#440154\"],[0.1111111111111111,\"#482878\"],[0.2222222222222222,\"#3e4989\"],[0.3333333333333333,\"#31688e\"],[0.4444444444444444,\"#26828e\"],[0.5555555555555556,\"#1f9e89\"],[0.6666666666666666,\"#35b779\"],[0.7777777777777778,\"#6ece58\"],[0.8888888888888888,\"#b5de2b\"],[1.0,\"#fde725\"]],\"type\":\"contour\"}],\"heatmapgl\":[{\"colorbar\":{\"outlinewidth\":1,\"tickcolor\":\"rgb(36,36,36)\",\"ticks\":\"outside\"},\"colorscale\":[[0.0,\"#440154\"],[0.1111111111111111,\"#482878\"],[0.2222222222222222,\"#3e4989\"],[0.3333333333333333,\"#31688e\"],[0.4444444444444444,\"#26828e\"],[0.5555555555555556,\"#1f9e89\"],[0.6666666666666666,\"#35b779\"],[0.7777777777777778,\"#6ece58\"],[0.8888888888888888,\"#b5de2b\"],[1.0,\"#fde725\"]],\"type\":\"heatmapgl\"}],\"heatmap\":[{\"colorbar\":{\"outlinewidth\":1,\"tickcolor\":\"rgb(36,36,36)\",\"ticks\":\"outside\"},\"colorscale\":[[0.0,\"#440154\"],[0.1111111111111111,\"#482878\"],[0.2222222222222222,\"#3e4989\"],[0.3333333333333333,\"#31688e\"],[0.4444444444444444,\"#26828e\"],[0.5555555555555556,\"#1f9e89\"],[0.6666666666666666,\"#35b779\"],[0.7777777777777778,\"#6ece58\"],[0.8888888888888888,\"#b5de2b\"],[1.0,\"#fde725\"]],\"type\":\"heatmap\"}],\"histogram2dcontour\":[{\"colorbar\":{\"outlinewidth\":1,\"tickcolor\":\"rgb(36,36,36)\",\"ticks\":\"outside\"},\"colorscale\":[[0.0,\"#440154\"],[0.1111111111111111,\"#482878\"],[0.2222222222222222,\"#3e4989\"],[0.3333333333333333,\"#31688e\"],[0.4444444444444444,\"#26828e\"],[0.5555555555555556,\"#1f9e89\"],[0.6666666666666666,\"#35b779\"],[0.7777777777777778,\"#6ece58\"],[0.8888888888888888,\"#b5de2b\"],[1.0,\"#fde725\"]],\"type\":\"histogram2dcontour\"}],\"histogram2d\":[{\"colorbar\":{\"outlinewidth\":1,\"tickcolor\":\"rgb(36,36,36)\",\"ticks\":\"outside\"},\"colorscale\":[[0.0,\"#440154\"],[0.1111111111111111,\"#482878\"],[0.2222222222222222,\"#3e4989\"],[0.3333333333333333,\"#31688e\"],[0.4444444444444444,\"#26828e\"],[0.5555555555555556,\"#1f9e89\"],[0.6666666666666666,\"#35b779\"],[0.7777777777777778,\"#6ece58\"],[0.8888888888888888,\"#b5de2b\"],[1.0,\"#fde725\"]],\"type\":\"histogram2d\"}],\"histogram\":[{\"marker\":{\"line\":{\"color\":\"white\",\"width\":0.6}},\"type\":\"histogram\"}],\"mesh3d\":[{\"colorbar\":{\"outlinewidth\":1,\"tickcolor\":\"rgb(36,36,36)\",\"ticks\":\"outside\"},\"type\":\"mesh3d\"}],\"parcoords\":[{\"line\":{\"colorbar\":{\"outlinewidth\":1,\"tickcolor\":\"rgb(36,36,36)\",\"ticks\":\"outside\"}},\"type\":\"parcoords\"}],\"pie\":[{\"automargin\":true,\"type\":\"pie\"}],\"scatter3d\":[{\"line\":{\"colorbar\":{\"outlinewidth\":1,\"tickcolor\":\"rgb(36,36,36)\",\"ticks\":\"outside\"}},\"marker\":{\"colorbar\":{\"outlinewidth\":1,\"tickcolor\":\"rgb(36,36,36)\",\"ticks\":\"outside\"}},\"type\":\"scatter3d\"}],\"scattercarpet\":[{\"marker\":{\"colorbar\":{\"outlinewidth\":1,\"tickcolor\":\"rgb(36,36,36)\",\"ticks\":\"outside\"}},\"type\":\"scattercarpet\"}],\"scattergeo\":[{\"marker\":{\"colorbar\":{\"outlinewidth\":1,\"tickcolor\":\"rgb(36,36,36)\",\"ticks\":\"outside\"}},\"type\":\"scattergeo\"}],\"scattergl\":[{\"marker\":{\"colorbar\":{\"outlinewidth\":1,\"tickcolor\":\"rgb(36,36,36)\",\"ticks\":\"outside\"}},\"type\":\"scattergl\"}],\"scattermapbox\":[{\"marker\":{\"colorbar\":{\"outlinewidth\":1,\"tickcolor\":\"rgb(36,36,36)\",\"ticks\":\"outside\"}},\"type\":\"scattermapbox\"}],\"scatterpolargl\":[{\"marker\":{\"colorbar\":{\"outlinewidth\":1,\"tickcolor\":\"rgb(36,36,36)\",\"ticks\":\"outside\"}},\"type\":\"scatterpolargl\"}],\"scatterpolar\":[{\"marker\":{\"colorbar\":{\"outlinewidth\":1,\"tickcolor\":\"rgb(36,36,36)\",\"ticks\":\"outside\"}},\"type\":\"scatterpolar\"}],\"scatter\":[{\"marker\":{\"colorbar\":{\"outlinewidth\":1,\"tickcolor\":\"rgb(36,36,36)\",\"ticks\":\"outside\"}},\"type\":\"scatter\"}],\"scatterternary\":[{\"marker\":{\"colorbar\":{\"outlinewidth\":1,\"tickcolor\":\"rgb(36,36,36)\",\"ticks\":\"outside\"}},\"type\":\"scatterternary\"}],\"surface\":[{\"colorbar\":{\"outlinewidth\":1,\"tickcolor\":\"rgb(36,36,36)\",\"ticks\":\"outside\"},\"colorscale\":[[0.0,\"#440154\"],[0.1111111111111111,\"#482878\"],[0.2222222222222222,\"#3e4989\"],[0.3333333333333333,\"#31688e\"],[0.4444444444444444,\"#26828e\"],[0.5555555555555556,\"#1f9e89\"],[0.6666666666666666,\"#35b779\"],[0.7777777777777778,\"#6ece58\"],[0.8888888888888888,\"#b5de2b\"],[1.0,\"#fde725\"]],\"type\":\"surface\"}],\"table\":[{\"cells\":{\"fill\":{\"color\":\"rgb(237,237,237)\"},\"line\":{\"color\":\"white\"}},\"header\":{\"fill\":{\"color\":\"rgb(217,217,217)\"},\"line\":{\"color\":\"white\"}},\"type\":\"table\"}]},\"layout\":{\"annotationdefaults\":{\"arrowhead\":0,\"arrowwidth\":1},\"autotypenumbers\":\"strict\",\"coloraxis\":{\"colorbar\":{\"outlinewidth\":1,\"tickcolor\":\"rgb(36,36,36)\",\"ticks\":\"outside\"}},\"colorscale\":{\"diverging\":[[0.0,\"rgb(103,0,31)\"],[0.1,\"rgb(178,24,43)\"],[0.2,\"rgb(214,96,77)\"],[0.3,\"rgb(244,165,130)\"],[0.4,\"rgb(253,219,199)\"],[0.5,\"rgb(247,247,247)\"],[0.6,\"rgb(209,229,240)\"],[0.7,\"rgb(146,197,222)\"],[0.8,\"rgb(67,147,195)\"],[0.9,\"rgb(33,102,172)\"],[1.0,\"rgb(5,48,97)\"]],\"sequential\":[[0.0,\"#440154\"],[0.1111111111111111,\"#482878\"],[0.2222222222222222,\"#3e4989\"],[0.3333333333333333,\"#31688e\"],[0.4444444444444444,\"#26828e\"],[0.5555555555555556,\"#1f9e89\"],[0.6666666666666666,\"#35b779\"],[0.7777777777777778,\"#6ece58\"],[0.8888888888888888,\"#b5de2b\"],[1.0,\"#fde725\"]],\"sequentialminus\":[[0.0,\"#440154\"],[0.1111111111111111,\"#482878\"],[0.2222222222222222,\"#3e4989\"],[0.3333333333333333,\"#31688e\"],[0.4444444444444444,\"#26828e\"],[0.5555555555555556,\"#1f9e89\"],[0.6666666666666666,\"#35b779\"],[0.7777777777777778,\"#6ece58\"],[0.8888888888888888,\"#b5de2b\"],[1.0,\"#fde725\"]]},\"colorway\":[\"#1F77B4\",\"#FF7F0E\",\"#2CA02C\",\"#D62728\",\"#9467BD\",\"#8C564B\",\"#E377C2\",\"#7F7F7F\",\"#BCBD22\",\"#17BECF\"],\"font\":{\"color\":\"rgb(36,36,36)\"},\"geo\":{\"bgcolor\":\"white\",\"lakecolor\":\"white\",\"landcolor\":\"white\",\"showlakes\":true,\"showland\":true,\"subunitcolor\":\"white\"},\"hoverlabel\":{\"align\":\"left\"},\"hovermode\":\"closest\",\"mapbox\":{\"style\":\"light\"},\"paper_bgcolor\":\"white\",\"plot_bgcolor\":\"white\",\"polar\":{\"angularaxis\":{\"gridcolor\":\"rgb(232,232,232)\",\"linecolor\":\"rgb(36,36,36)\",\"showgrid\":false,\"showline\":true,\"ticks\":\"outside\"},\"bgcolor\":\"white\",\"radialaxis\":{\"gridcolor\":\"rgb(232,232,232)\",\"linecolor\":\"rgb(36,36,36)\",\"showgrid\":false,\"showline\":true,\"ticks\":\"outside\"}},\"scene\":{\"xaxis\":{\"backgroundcolor\":\"white\",\"gridcolor\":\"rgb(232,232,232)\",\"gridwidth\":2,\"linecolor\":\"rgb(36,36,36)\",\"showbackground\":true,\"showgrid\":false,\"showline\":true,\"ticks\":\"outside\",\"zeroline\":false,\"zerolinecolor\":\"rgb(36,36,36)\"},\"yaxis\":{\"backgroundcolor\":\"white\",\"gridcolor\":\"rgb(232,232,232)\",\"gridwidth\":2,\"linecolor\":\"rgb(36,36,36)\",\"showbackground\":true,\"showgrid\":false,\"showline\":true,\"ticks\":\"outside\",\"zeroline\":false,\"zerolinecolor\":\"rgb(36,36,36)\"},\"zaxis\":{\"backgroundcolor\":\"white\",\"gridcolor\":\"rgb(232,232,232)\",\"gridwidth\":2,\"linecolor\":\"rgb(36,36,36)\",\"showbackground\":true,\"showgrid\":false,\"showline\":true,\"ticks\":\"outside\",\"zeroline\":false,\"zerolinecolor\":\"rgb(36,36,36)\"}},\"shapedefaults\":{\"fillcolor\":\"black\",\"line\":{\"width\":0},\"opacity\":0.3},\"ternary\":{\"aaxis\":{\"gridcolor\":\"rgb(232,232,232)\",\"linecolor\":\"rgb(36,36,36)\",\"showgrid\":false,\"showline\":true,\"ticks\":\"outside\"},\"baxis\":{\"gridcolor\":\"rgb(232,232,232)\",\"linecolor\":\"rgb(36,36,36)\",\"showgrid\":false,\"showline\":true,\"ticks\":\"outside\"},\"bgcolor\":\"white\",\"caxis\":{\"gridcolor\":\"rgb(232,232,232)\",\"linecolor\":\"rgb(36,36,36)\",\"showgrid\":false,\"showline\":true,\"ticks\":\"outside\"}},\"title\":{\"x\":0.05},\"xaxis\":{\"automargin\":true,\"gridcolor\":\"rgb(232,232,232)\",\"linecolor\":\"rgb(36,36,36)\",\"showgrid\":false,\"showline\":true,\"ticks\":\"outside\",\"title\":{\"standoff\":15},\"zeroline\":false,\"zerolinecolor\":\"rgb(36,36,36)\"},\"yaxis\":{\"automargin\":true,\"gridcolor\":\"rgb(232,232,232)\",\"linecolor\":\"rgb(36,36,36)\",\"showgrid\":false,\"showline\":true,\"ticks\":\"outside\",\"title\":{\"standoff\":15},\"zeroline\":false,\"zerolinecolor\":\"rgb(36,36,36)\"}}},\"xaxis\":{\"anchor\":\"y\",\"domain\":[0.0,1.0],\"title\":{\"text\":\"\\u043c\\u0435\\u0441\\u044f\\u0446\"}},\"yaxis\":{\"anchor\":\"x\",\"domain\":[0.0,1.0],\"title\":{\"text\":\"\\u043a\\u043e\\u043b-\\u0432\\u043e \\u043f\\u0440\\u043e\\u0434\\u0430\\u043d\\u043d\\u043e\\u0433\\u043e \\u0442\\u043e\\u0432\\u0430\\u0440\\u0430\"}},\"legend\":{\"title\":{\"text\":\"\\u043a\\u0430\\u0442\\u0435\\u0433\\u043e\\u0440\\u0438\\u044f \\u0442\\u043e\\u0432\\u0430\\u0440\\u0430\"},\"tracegroupgap\":0},\"title\":{\"text\":\"\\u0421\\u0435\\u0433\\u043c\\u0435\\u043d\\u0442 1\\u0439. \\u041f\\u043e\\u043a\\u0443\\u043f\\u043a\\u0430 \\u0442\\u043e\\u0432\\u0430\\u0440\\u043e\\u0432 \\u0440\\u0430\\u0437\\u043d\\u044b\\u0445 \\u043a\\u0430\\u0442\\u0435\\u0433\\u043e\\u0440\\u0438\\u0439 \\u043f\\u043e \\u043c\\u0435\\u0441\\u044f\\u0446\\u0430\\u043c\"}},                        {\"responsive\": true}                    ).then(function(){\n",
       "                            \n",
       "var gd = document.getElementById('62f26b0b-c91b-46c7-83c9-60462b8c9302');\n",
       "var x = new MutationObserver(function (mutations, observer) {{\n",
       "        var display = window.getComputedStyle(gd).display;\n",
       "        if (!display || display === 'none') {{\n",
       "            console.log([gd, 'removed!']);\n",
       "            Plotly.purge(gd);\n",
       "            observer.disconnect();\n",
       "        }}\n",
       "}});\n",
       "\n",
       "// Listen for the removal of the full notebook cells\n",
       "var notebookContainer = gd.closest('#notebook-container');\n",
       "if (notebookContainer) {{\n",
       "    x.observe(notebookContainer, {childList: true});\n",
       "}}\n",
       "\n",
       "// Listen for the clearing of the current output cell\n",
       "var outputEl = gd.closest('.output');\n",
       "if (outputEl) {{\n",
       "    x.observe(outputEl, {childList: true});\n",
       "}}\n",
       "\n",
       "                        })                };                });            </script>        </div>"
      ]
     },
     "metadata": {},
     "output_type": "display_data"
    }
   ],
   "source": [
    "fig = px.line(history_category.query('major_group==\"group_1\"'),\n",
    "              x='date_round',\n",
    "              y='quantity',\n",
    "\n",
    "              color='category_product',\n",
    "              title='Сегмент 1й. Покупка товаров разных категорий по месяцам',\n",
    "              labels=dict(quantity='кол-во проданного товара',\n",
    "                          category_product='категория товара',\n",
    "                          date_round='месяц'),\n",
    "              color_discrete_sequence=px.colors.qualitative.Vivid,\n",
    "              template='simple_white')\n",
    "\n",
    "fig.update_traces(\n",
    "    mode='markers+lines',\n",
    "      line_shape='spline',\n",
    "      line_width=3\n",
    ")\n",
    "iplot(fig)"
   ]
  },
  {
   "cell_type": "markdown",
   "metadata": {},
   "source": [
    "Видим, что первый сегмент активно закупался рассадой и растениями в октябре,феврале и марте. Также приобретал товары для декора - много в ноябре и феврале.Фурнитура больше приобретается в октябре и декабре. Посуда и товары для кухни чаще приобретаются в декабре.  "
   ]
  },
  {
   "cell_type": "code",
   "execution_count": null,
   "metadata": {},
   "outputs": [
    {
     "data": {
      "application/vnd.plotly.v1+json": {
       "config": {
        "plotlyServerURL": "https://plot.ly"
       },
       "data": [
        {
         "hovertemplate": "категория товара=рассада и растения<br>месяц=%{x}<br>кол-во проданного товара=%{y}<extra></extra>",
         "legendgroup": "рассада и растения",
         "line": {
          "color": "rgb(229, 134, 6)",
          "dash": "solid",
          "shape": "spline",
          "width": 3
         },
         "marker": {
          "symbol": "circle"
         },
         "mode": "markers+lines",
         "name": "рассада и растения",
         "orientation": "v",
         "showlegend": true,
         "type": "scatter",
         "x": [
          "2019-01-01T00:00:00",
          "2019-02-01T00:00:00",
          "2019-03-01T00:00:00",
          "2019-04-01T00:00:00",
          "2019-05-01T00:00:00",
          "2019-06-01T00:00:00",
          "2019-07-01T00:00:00",
          "2019-08-01T00:00:00",
          "2019-09-01T00:00:00",
          "2019-10-01T00:00:00"
         ],
         "xaxis": "x",
         "y": [
          10,
          13,
          16,
          924,
          1143,
          1381,
          452,
          157,
          154,
          153
         ],
         "yaxis": "y"
        },
        {
         "hovertemplate": "категория товара=посуда, товары для кухни<br>месяц=%{x}<br>кол-во проданного товара=%{y}<extra></extra>",
         "legendgroup": "посуда, товары для кухни",
         "line": {
          "color": "rgb(93, 105, 177)",
          "dash": "solid",
          "shape": "spline",
          "width": 3
         },
         "marker": {
          "symbol": "circle"
         },
         "mode": "markers+lines",
         "name": "посуда, товары для кухни",
         "orientation": "v",
         "showlegend": true,
         "type": "scatter",
         "x": [
          "2019-03-01T00:00:00",
          "2019-04-01T00:00:00",
          "2019-05-01T00:00:00",
          "2019-06-01T00:00:00",
          "2019-07-01T00:00:00",
          "2019-08-01T00:00:00",
          "2019-09-01T00:00:00",
          "2019-10-01T00:00:00"
         ],
         "xaxis": "x",
         "y": [
          1,
          71,
          44,
          21,
          20,
          18,
          163,
          49
         ],
         "yaxis": "y"
        },
        {
         "hovertemplate": "категория товара=декор<br>месяц=%{x}<br>кол-во проданного товара=%{y}<extra></extra>",
         "legendgroup": "декор",
         "line": {
          "color": "rgb(82, 188, 163)",
          "dash": "solid",
          "shape": "spline",
          "width": 3
         },
         "marker": {
          "symbol": "circle"
         },
         "mode": "markers+lines",
         "name": "декор",
         "orientation": "v",
         "showlegend": true,
         "type": "scatter",
         "x": [
          "2019-04-01T00:00:00",
          "2019-05-01T00:00:00",
          "2019-06-01T00:00:00",
          "2019-07-01T00:00:00",
          "2019-08-01T00:00:00",
          "2019-09-01T00:00:00",
          "2019-10-01T00:00:00"
         ],
         "xaxis": "x",
         "y": [
          32,
          312,
          59,
          52,
          20,
          12,
          10
         ],
         "yaxis": "y"
        },
        {
         "hovertemplate": "категория товара=инструменты, такелаж<br>месяц=%{x}<br>кол-во проданного товара=%{y}<extra></extra>",
         "legendgroup": "инструменты, такелаж",
         "line": {
          "color": "rgb(153, 201, 69)",
          "dash": "solid",
          "shape": "spline",
          "width": 3
         },
         "marker": {
          "symbol": "circle"
         },
         "mode": "markers+lines",
         "name": "инструменты, такелаж",
         "orientation": "v",
         "showlegend": true,
         "type": "scatter",
         "x": [
          "2019-04-01T00:00:00",
          "2019-05-01T00:00:00",
          "2019-06-01T00:00:00",
          "2019-07-01T00:00:00",
          "2019-08-01T00:00:00",
          "2019-09-01T00:00:00"
         ],
         "xaxis": "x",
         "y": [
          16,
          2,
          1,
          6,
          5,
          1
         ],
         "yaxis": "y"
        },
        {
         "hovertemplate": "категория товара=интерьер, мебель<br>месяц=%{x}<br>кол-во проданного товара=%{y}<extra></extra>",
         "legendgroup": "интерьер, мебель",
         "line": {
          "color": "rgb(204, 97, 176)",
          "dash": "solid",
          "shape": "spline",
          "width": 3
         },
         "marker": {
          "symbol": "circle"
         },
         "mode": "markers+lines",
         "name": "интерьер, мебель",
         "orientation": "v",
         "showlegend": true,
         "type": "scatter",
         "x": [
          "2019-04-01T00:00:00",
          "2019-05-01T00:00:00",
          "2019-06-01T00:00:00",
          "2019-07-01T00:00:00",
          "2019-08-01T00:00:00",
          "2019-09-01T00:00:00",
          "2019-10-01T00:00:00"
         ],
         "xaxis": "x",
         "y": [
          2,
          4,
          50,
          4,
          14,
          14,
          7
         ],
         "yaxis": "y"
        },
        {
         "hovertemplate": "категория товара=предметы для ванной комнаты<br>месяц=%{x}<br>кол-во проданного товара=%{y}<extra></extra>",
         "legendgroup": "предметы для ванной комнаты",
         "line": {
          "color": "rgb(36, 121, 108)",
          "dash": "solid",
          "shape": "spline",
          "width": 3
         },
         "marker": {
          "symbol": "circle"
         },
         "mode": "markers+lines",
         "name": "предметы для ванной комнаты",
         "orientation": "v",
         "showlegend": true,
         "type": "scatter",
         "x": [
          "2019-04-01T00:00:00",
          "2019-05-01T00:00:00",
          "2019-06-01T00:00:00",
          "2019-07-01T00:00:00",
          "2019-08-01T00:00:00",
          "2019-09-01T00:00:00",
          "2019-10-01T00:00:00"
         ],
         "xaxis": "x",
         "y": [
          15,
          16,
          11,
          10,
          3,
          11,
          32
         ],
         "yaxis": "y"
        },
        {
         "hovertemplate": "категория товара=текстиль<br>месяц=%{x}<br>кол-во проданного товара=%{y}<extra></extra>",
         "legendgroup": "текстиль",
         "line": {
          "color": "rgb(218, 165, 27)",
          "dash": "solid",
          "shape": "spline",
          "width": 3
         },
         "marker": {
          "symbol": "circle"
         },
         "mode": "markers+lines",
         "name": "текстиль",
         "orientation": "v",
         "showlegend": true,
         "type": "scatter",
         "x": [
          "2019-04-01T00:00:00",
          "2019-06-01T00:00:00",
          "2019-07-01T00:00:00",
          "2019-08-01T00:00:00",
          "2019-09-01T00:00:00",
          "2019-10-01T00:00:00"
         ],
         "xaxis": "x",
         "y": [
          22,
          23,
          5,
          1,
          17,
          3
         ],
         "yaxis": "y"
        },
        {
         "hovertemplate": "категория товара=хозтовары<br>месяц=%{x}<br>кол-во проданного товара=%{y}<extra></extra>",
         "legendgroup": "хозтовары",
         "line": {
          "color": "rgb(47, 138, 196)",
          "dash": "solid",
          "shape": "spline",
          "width": 3
         },
         "marker": {
          "symbol": "circle"
         },
         "mode": "markers+lines",
         "name": "хозтовары",
         "orientation": "v",
         "showlegend": true,
         "type": "scatter",
         "x": [
          "2019-04-01T00:00:00",
          "2019-05-01T00:00:00",
          "2019-06-01T00:00:00",
          "2019-07-01T00:00:00",
          "2019-08-01T00:00:00",
          "2019-09-01T00:00:00",
          "2019-10-01T00:00:00"
         ],
         "xaxis": "x",
         "y": [
          134,
          145,
          425,
          152,
          87,
          90,
          84
         ],
         "yaxis": "y"
        },
        {
         "hovertemplate": "категория товара=фурнитура<br>месяц=%{x}<br>кол-во проданного товара=%{y}<extra></extra>",
         "legendgroup": "фурнитура",
         "line": {
          "color": "rgb(118, 78, 159)",
          "dash": "solid",
          "shape": "spline",
          "width": 3
         },
         "marker": {
          "symbol": "circle"
         },
         "mode": "markers+lines",
         "name": "фурнитура",
         "orientation": "v",
         "showlegend": true,
         "type": "scatter",
         "x": [
          "2019-06-01T00:00:00",
          "2019-08-01T00:00:00",
          "2019-10-01T00:00:00"
         ],
         "xaxis": "x",
         "y": [
          41,
          71,
          100
         ],
         "yaxis": "y"
        }
       ],
       "layout": {
        "legend": {
         "title": {
          "text": "категория товара"
         },
         "tracegroupgap": 0
        },
        "template": {
         "data": {
          "bar": [
           {
            "error_x": {
             "color": "rgb(36,36,36)"
            },
            "error_y": {
             "color": "rgb(36,36,36)"
            },
            "marker": {
             "line": {
              "color": "white",
              "width": 0.5
             },
             "pattern": {
              "fillmode": "overlay",
              "size": 10,
              "solidity": 0.2
             }
            },
            "type": "bar"
           }
          ],
          "barpolar": [
           {
            "marker": {
             "line": {
              "color": "white",
              "width": 0.5
             },
             "pattern": {
              "fillmode": "overlay",
              "size": 10,
              "solidity": 0.2
             }
            },
            "type": "barpolar"
           }
          ],
          "carpet": [
           {
            "aaxis": {
             "endlinecolor": "rgb(36,36,36)",
             "gridcolor": "white",
             "linecolor": "white",
             "minorgridcolor": "white",
             "startlinecolor": "rgb(36,36,36)"
            },
            "baxis": {
             "endlinecolor": "rgb(36,36,36)",
             "gridcolor": "white",
             "linecolor": "white",
             "minorgridcolor": "white",
             "startlinecolor": "rgb(36,36,36)"
            },
            "type": "carpet"
           }
          ],
          "choropleth": [
           {
            "colorbar": {
             "outlinewidth": 1,
             "tickcolor": "rgb(36,36,36)",
             "ticks": "outside"
            },
            "type": "choropleth"
           }
          ],
          "contour": [
           {
            "colorbar": {
             "outlinewidth": 1,
             "tickcolor": "rgb(36,36,36)",
             "ticks": "outside"
            },
            "colorscale": [
             [
              0,
              "#440154"
             ],
             [
              0.1111111111111111,
              "#482878"
             ],
             [
              0.2222222222222222,
              "#3e4989"
             ],
             [
              0.3333333333333333,
              "#31688e"
             ],
             [
              0.4444444444444444,
              "#26828e"
             ],
             [
              0.5555555555555556,
              "#1f9e89"
             ],
             [
              0.6666666666666666,
              "#35b779"
             ],
             [
              0.7777777777777778,
              "#6ece58"
             ],
             [
              0.8888888888888888,
              "#b5de2b"
             ],
             [
              1,
              "#fde725"
             ]
            ],
            "type": "contour"
           }
          ],
          "contourcarpet": [
           {
            "colorbar": {
             "outlinewidth": 1,
             "tickcolor": "rgb(36,36,36)",
             "ticks": "outside"
            },
            "type": "contourcarpet"
           }
          ],
          "heatmap": [
           {
            "colorbar": {
             "outlinewidth": 1,
             "tickcolor": "rgb(36,36,36)",
             "ticks": "outside"
            },
            "colorscale": [
             [
              0,
              "#440154"
             ],
             [
              0.1111111111111111,
              "#482878"
             ],
             [
              0.2222222222222222,
              "#3e4989"
             ],
             [
              0.3333333333333333,
              "#31688e"
             ],
             [
              0.4444444444444444,
              "#26828e"
             ],
             [
              0.5555555555555556,
              "#1f9e89"
             ],
             [
              0.6666666666666666,
              "#35b779"
             ],
             [
              0.7777777777777778,
              "#6ece58"
             ],
             [
              0.8888888888888888,
              "#b5de2b"
             ],
             [
              1,
              "#fde725"
             ]
            ],
            "type": "heatmap"
           }
          ],
          "heatmapgl": [
           {
            "colorbar": {
             "outlinewidth": 1,
             "tickcolor": "rgb(36,36,36)",
             "ticks": "outside"
            },
            "colorscale": [
             [
              0,
              "#440154"
             ],
             [
              0.1111111111111111,
              "#482878"
             ],
             [
              0.2222222222222222,
              "#3e4989"
             ],
             [
              0.3333333333333333,
              "#31688e"
             ],
             [
              0.4444444444444444,
              "#26828e"
             ],
             [
              0.5555555555555556,
              "#1f9e89"
             ],
             [
              0.6666666666666666,
              "#35b779"
             ],
             [
              0.7777777777777778,
              "#6ece58"
             ],
             [
              0.8888888888888888,
              "#b5de2b"
             ],
             [
              1,
              "#fde725"
             ]
            ],
            "type": "heatmapgl"
           }
          ],
          "histogram": [
           {
            "marker": {
             "line": {
              "color": "white",
              "width": 0.6
             }
            },
            "type": "histogram"
           }
          ],
          "histogram2d": [
           {
            "colorbar": {
             "outlinewidth": 1,
             "tickcolor": "rgb(36,36,36)",
             "ticks": "outside"
            },
            "colorscale": [
             [
              0,
              "#440154"
             ],
             [
              0.1111111111111111,
              "#482878"
             ],
             [
              0.2222222222222222,
              "#3e4989"
             ],
             [
              0.3333333333333333,
              "#31688e"
             ],
             [
              0.4444444444444444,
              "#26828e"
             ],
             [
              0.5555555555555556,
              "#1f9e89"
             ],
             [
              0.6666666666666666,
              "#35b779"
             ],
             [
              0.7777777777777778,
              "#6ece58"
             ],
             [
              0.8888888888888888,
              "#b5de2b"
             ],
             [
              1,
              "#fde725"
             ]
            ],
            "type": "histogram2d"
           }
          ],
          "histogram2dcontour": [
           {
            "colorbar": {
             "outlinewidth": 1,
             "tickcolor": "rgb(36,36,36)",
             "ticks": "outside"
            },
            "colorscale": [
             [
              0,
              "#440154"
             ],
             [
              0.1111111111111111,
              "#482878"
             ],
             [
              0.2222222222222222,
              "#3e4989"
             ],
             [
              0.3333333333333333,
              "#31688e"
             ],
             [
              0.4444444444444444,
              "#26828e"
             ],
             [
              0.5555555555555556,
              "#1f9e89"
             ],
             [
              0.6666666666666666,
              "#35b779"
             ],
             [
              0.7777777777777778,
              "#6ece58"
             ],
             [
              0.8888888888888888,
              "#b5de2b"
             ],
             [
              1,
              "#fde725"
             ]
            ],
            "type": "histogram2dcontour"
           }
          ],
          "mesh3d": [
           {
            "colorbar": {
             "outlinewidth": 1,
             "tickcolor": "rgb(36,36,36)",
             "ticks": "outside"
            },
            "type": "mesh3d"
           }
          ],
          "parcoords": [
           {
            "line": {
             "colorbar": {
              "outlinewidth": 1,
              "tickcolor": "rgb(36,36,36)",
              "ticks": "outside"
             }
            },
            "type": "parcoords"
           }
          ],
          "pie": [
           {
            "automargin": true,
            "type": "pie"
           }
          ],
          "scatter": [
           {
            "marker": {
             "colorbar": {
              "outlinewidth": 1,
              "tickcolor": "rgb(36,36,36)",
              "ticks": "outside"
             }
            },
            "type": "scatter"
           }
          ],
          "scatter3d": [
           {
            "line": {
             "colorbar": {
              "outlinewidth": 1,
              "tickcolor": "rgb(36,36,36)",
              "ticks": "outside"
             }
            },
            "marker": {
             "colorbar": {
              "outlinewidth": 1,
              "tickcolor": "rgb(36,36,36)",
              "ticks": "outside"
             }
            },
            "type": "scatter3d"
           }
          ],
          "scattercarpet": [
           {
            "marker": {
             "colorbar": {
              "outlinewidth": 1,
              "tickcolor": "rgb(36,36,36)",
              "ticks": "outside"
             }
            },
            "type": "scattercarpet"
           }
          ],
          "scattergeo": [
           {
            "marker": {
             "colorbar": {
              "outlinewidth": 1,
              "tickcolor": "rgb(36,36,36)",
              "ticks": "outside"
             }
            },
            "type": "scattergeo"
           }
          ],
          "scattergl": [
           {
            "marker": {
             "colorbar": {
              "outlinewidth": 1,
              "tickcolor": "rgb(36,36,36)",
              "ticks": "outside"
             }
            },
            "type": "scattergl"
           }
          ],
          "scattermapbox": [
           {
            "marker": {
             "colorbar": {
              "outlinewidth": 1,
              "tickcolor": "rgb(36,36,36)",
              "ticks": "outside"
             }
            },
            "type": "scattermapbox"
           }
          ],
          "scatterpolar": [
           {
            "marker": {
             "colorbar": {
              "outlinewidth": 1,
              "tickcolor": "rgb(36,36,36)",
              "ticks": "outside"
             }
            },
            "type": "scatterpolar"
           }
          ],
          "scatterpolargl": [
           {
            "marker": {
             "colorbar": {
              "outlinewidth": 1,
              "tickcolor": "rgb(36,36,36)",
              "ticks": "outside"
             }
            },
            "type": "scatterpolargl"
           }
          ],
          "scatterternary": [
           {
            "marker": {
             "colorbar": {
              "outlinewidth": 1,
              "tickcolor": "rgb(36,36,36)",
              "ticks": "outside"
             }
            },
            "type": "scatterternary"
           }
          ],
          "surface": [
           {
            "colorbar": {
             "outlinewidth": 1,
             "tickcolor": "rgb(36,36,36)",
             "ticks": "outside"
            },
            "colorscale": [
             [
              0,
              "#440154"
             ],
             [
              0.1111111111111111,
              "#482878"
             ],
             [
              0.2222222222222222,
              "#3e4989"
             ],
             [
              0.3333333333333333,
              "#31688e"
             ],
             [
              0.4444444444444444,
              "#26828e"
             ],
             [
              0.5555555555555556,
              "#1f9e89"
             ],
             [
              0.6666666666666666,
              "#35b779"
             ],
             [
              0.7777777777777778,
              "#6ece58"
             ],
             [
              0.8888888888888888,
              "#b5de2b"
             ],
             [
              1,
              "#fde725"
             ]
            ],
            "type": "surface"
           }
          ],
          "table": [
           {
            "cells": {
             "fill": {
              "color": "rgb(237,237,237)"
             },
             "line": {
              "color": "white"
             }
            },
            "header": {
             "fill": {
              "color": "rgb(217,217,217)"
             },
             "line": {
              "color": "white"
             }
            },
            "type": "table"
           }
          ]
         },
         "layout": {
          "annotationdefaults": {
           "arrowhead": 0,
           "arrowwidth": 1
          },
          "autotypenumbers": "strict",
          "coloraxis": {
           "colorbar": {
            "outlinewidth": 1,
            "tickcolor": "rgb(36,36,36)",
            "ticks": "outside"
           }
          },
          "colorscale": {
           "diverging": [
            [
             0,
             "rgb(103,0,31)"
            ],
            [
             0.1,
             "rgb(178,24,43)"
            ],
            [
             0.2,
             "rgb(214,96,77)"
            ],
            [
             0.3,
             "rgb(244,165,130)"
            ],
            [
             0.4,
             "rgb(253,219,199)"
            ],
            [
             0.5,
             "rgb(247,247,247)"
            ],
            [
             0.6,
             "rgb(209,229,240)"
            ],
            [
             0.7,
             "rgb(146,197,222)"
            ],
            [
             0.8,
             "rgb(67,147,195)"
            ],
            [
             0.9,
             "rgb(33,102,172)"
            ],
            [
             1,
             "rgb(5,48,97)"
            ]
           ],
           "sequential": [
            [
             0,
             "#440154"
            ],
            [
             0.1111111111111111,
             "#482878"
            ],
            [
             0.2222222222222222,
             "#3e4989"
            ],
            [
             0.3333333333333333,
             "#31688e"
            ],
            [
             0.4444444444444444,
             "#26828e"
            ],
            [
             0.5555555555555556,
             "#1f9e89"
            ],
            [
             0.6666666666666666,
             "#35b779"
            ],
            [
             0.7777777777777778,
             "#6ece58"
            ],
            [
             0.8888888888888888,
             "#b5de2b"
            ],
            [
             1,
             "#fde725"
            ]
           ],
           "sequentialminus": [
            [
             0,
             "#440154"
            ],
            [
             0.1111111111111111,
             "#482878"
            ],
            [
             0.2222222222222222,
             "#3e4989"
            ],
            [
             0.3333333333333333,
             "#31688e"
            ],
            [
             0.4444444444444444,
             "#26828e"
            ],
            [
             0.5555555555555556,
             "#1f9e89"
            ],
            [
             0.6666666666666666,
             "#35b779"
            ],
            [
             0.7777777777777778,
             "#6ece58"
            ],
            [
             0.8888888888888888,
             "#b5de2b"
            ],
            [
             1,
             "#fde725"
            ]
           ]
          },
          "colorway": [
           "#1F77B4",
           "#FF7F0E",
           "#2CA02C",
           "#D62728",
           "#9467BD",
           "#8C564B",
           "#E377C2",
           "#7F7F7F",
           "#BCBD22",
           "#17BECF"
          ],
          "font": {
           "color": "rgb(36,36,36)"
          },
          "geo": {
           "bgcolor": "white",
           "lakecolor": "white",
           "landcolor": "white",
           "showlakes": true,
           "showland": true,
           "subunitcolor": "white"
          },
          "hoverlabel": {
           "align": "left"
          },
          "hovermode": "closest",
          "mapbox": {
           "style": "light"
          },
          "paper_bgcolor": "white",
          "plot_bgcolor": "white",
          "polar": {
           "angularaxis": {
            "gridcolor": "rgb(232,232,232)",
            "linecolor": "rgb(36,36,36)",
            "showgrid": false,
            "showline": true,
            "ticks": "outside"
           },
           "bgcolor": "white",
           "radialaxis": {
            "gridcolor": "rgb(232,232,232)",
            "linecolor": "rgb(36,36,36)",
            "showgrid": false,
            "showline": true,
            "ticks": "outside"
           }
          },
          "scene": {
           "xaxis": {
            "backgroundcolor": "white",
            "gridcolor": "rgb(232,232,232)",
            "gridwidth": 2,
            "linecolor": "rgb(36,36,36)",
            "showbackground": true,
            "showgrid": false,
            "showline": true,
            "ticks": "outside",
            "zeroline": false,
            "zerolinecolor": "rgb(36,36,36)"
           },
           "yaxis": {
            "backgroundcolor": "white",
            "gridcolor": "rgb(232,232,232)",
            "gridwidth": 2,
            "linecolor": "rgb(36,36,36)",
            "showbackground": true,
            "showgrid": false,
            "showline": true,
            "ticks": "outside",
            "zeroline": false,
            "zerolinecolor": "rgb(36,36,36)"
           },
           "zaxis": {
            "backgroundcolor": "white",
            "gridcolor": "rgb(232,232,232)",
            "gridwidth": 2,
            "linecolor": "rgb(36,36,36)",
            "showbackground": true,
            "showgrid": false,
            "showline": true,
            "ticks": "outside",
            "zeroline": false,
            "zerolinecolor": "rgb(36,36,36)"
           }
          },
          "shapedefaults": {
           "fillcolor": "black",
           "line": {
            "width": 0
           },
           "opacity": 0.3
          },
          "ternary": {
           "aaxis": {
            "gridcolor": "rgb(232,232,232)",
            "linecolor": "rgb(36,36,36)",
            "showgrid": false,
            "showline": true,
            "ticks": "outside"
           },
           "baxis": {
            "gridcolor": "rgb(232,232,232)",
            "linecolor": "rgb(36,36,36)",
            "showgrid": false,
            "showline": true,
            "ticks": "outside"
           },
           "bgcolor": "white",
           "caxis": {
            "gridcolor": "rgb(232,232,232)",
            "linecolor": "rgb(36,36,36)",
            "showgrid": false,
            "showline": true,
            "ticks": "outside"
           }
          },
          "title": {
           "x": 0.05
          },
          "xaxis": {
           "automargin": true,
           "gridcolor": "rgb(232,232,232)",
           "linecolor": "rgb(36,36,36)",
           "showgrid": false,
           "showline": true,
           "ticks": "outside",
           "title": {
            "standoff": 15
           },
           "zeroline": false,
           "zerolinecolor": "rgb(36,36,36)"
          },
          "yaxis": {
           "automargin": true,
           "gridcolor": "rgb(232,232,232)",
           "linecolor": "rgb(36,36,36)",
           "showgrid": false,
           "showline": true,
           "ticks": "outside",
           "title": {
            "standoff": 15
           },
           "zeroline": false,
           "zerolinecolor": "rgb(36,36,36)"
          }
         }
        },
        "title": {
         "text": "Сегмент 2й. Покупка товаров разных категорий по месяцам"
        },
        "xaxis": {
         "anchor": "y",
         "domain": [
          0,
          1
         ],
         "title": {
          "text": "месяц"
         }
        },
        "yaxis": {
         "anchor": "x",
         "domain": [
          0,
          1
         ],
         "title": {
          "text": "кол-во проданного товара"
         }
        }
       }
      },
      "text/html": [
       "<div>                            <div id=\"f3f62bf8-efe0-4fa8-91d5-1bd077263066\" class=\"plotly-graph-div\" style=\"height:525px; width:100%;\"></div>            <script type=\"text/javascript\">                require([\"plotly\"], function(Plotly) {                    window.PLOTLYENV=window.PLOTLYENV || {};                                    if (document.getElementById(\"f3f62bf8-efe0-4fa8-91d5-1bd077263066\")) {                    Plotly.newPlot(                        \"f3f62bf8-efe0-4fa8-91d5-1bd077263066\",                        [{\"hovertemplate\":\"\\u043a\\u0430\\u0442\\u0435\\u0433\\u043e\\u0440\\u0438\\u044f \\u0442\\u043e\\u0432\\u0430\\u0440\\u0430=\\u0440\\u0430\\u0441\\u0441\\u0430\\u0434\\u0430 \\u0438 \\u0440\\u0430\\u0441\\u0442\\u0435\\u043d\\u0438\\u044f<br>\\u043c\\u0435\\u0441\\u044f\\u0446=%{x}<br>\\u043a\\u043e\\u043b-\\u0432\\u043e \\u043f\\u0440\\u043e\\u0434\\u0430\\u043d\\u043d\\u043e\\u0433\\u043e \\u0442\\u043e\\u0432\\u0430\\u0440\\u0430=%{y}<extra></extra>\",\"legendgroup\":\"\\u0440\\u0430\\u0441\\u0441\\u0430\\u0434\\u0430 \\u0438 \\u0440\\u0430\\u0441\\u0442\\u0435\\u043d\\u0438\\u044f\",\"line\":{\"color\":\"rgb(229, 134, 6)\",\"dash\":\"solid\",\"shape\":\"spline\",\"width\":3},\"marker\":{\"symbol\":\"circle\"},\"mode\":\"markers+lines\",\"name\":\"\\u0440\\u0430\\u0441\\u0441\\u0430\\u0434\\u0430 \\u0438 \\u0440\\u0430\\u0441\\u0442\\u0435\\u043d\\u0438\\u044f\",\"orientation\":\"v\",\"showlegend\":true,\"x\":[\"2019-01-01T00:00:00\",\"2019-02-01T00:00:00\",\"2019-03-01T00:00:00\",\"2019-04-01T00:00:00\",\"2019-05-01T00:00:00\",\"2019-06-01T00:00:00\",\"2019-07-01T00:00:00\",\"2019-08-01T00:00:00\",\"2019-09-01T00:00:00\",\"2019-10-01T00:00:00\"],\"xaxis\":\"x\",\"y\":[10,13,16,924,1143,1381,452,157,154,153],\"yaxis\":\"y\",\"type\":\"scatter\"},{\"hovertemplate\":\"\\u043a\\u0430\\u0442\\u0435\\u0433\\u043e\\u0440\\u0438\\u044f \\u0442\\u043e\\u0432\\u0430\\u0440\\u0430=\\u043f\\u043e\\u0441\\u0443\\u0434\\u0430, \\u0442\\u043e\\u0432\\u0430\\u0440\\u044b \\u0434\\u043b\\u044f \\u043a\\u0443\\u0445\\u043d\\u0438<br>\\u043c\\u0435\\u0441\\u044f\\u0446=%{x}<br>\\u043a\\u043e\\u043b-\\u0432\\u043e \\u043f\\u0440\\u043e\\u0434\\u0430\\u043d\\u043d\\u043e\\u0433\\u043e \\u0442\\u043e\\u0432\\u0430\\u0440\\u0430=%{y}<extra></extra>\",\"legendgroup\":\"\\u043f\\u043e\\u0441\\u0443\\u0434\\u0430, \\u0442\\u043e\\u0432\\u0430\\u0440\\u044b \\u0434\\u043b\\u044f \\u043a\\u0443\\u0445\\u043d\\u0438\",\"line\":{\"color\":\"rgb(93, 105, 177)\",\"dash\":\"solid\",\"shape\":\"spline\",\"width\":3},\"marker\":{\"symbol\":\"circle\"},\"mode\":\"markers+lines\",\"name\":\"\\u043f\\u043e\\u0441\\u0443\\u0434\\u0430, \\u0442\\u043e\\u0432\\u0430\\u0440\\u044b \\u0434\\u043b\\u044f \\u043a\\u0443\\u0445\\u043d\\u0438\",\"orientation\":\"v\",\"showlegend\":true,\"x\":[\"2019-03-01T00:00:00\",\"2019-04-01T00:00:00\",\"2019-05-01T00:00:00\",\"2019-06-01T00:00:00\",\"2019-07-01T00:00:00\",\"2019-08-01T00:00:00\",\"2019-09-01T00:00:00\",\"2019-10-01T00:00:00\"],\"xaxis\":\"x\",\"y\":[1,71,44,21,20,18,163,49],\"yaxis\":\"y\",\"type\":\"scatter\"},{\"hovertemplate\":\"\\u043a\\u0430\\u0442\\u0435\\u0433\\u043e\\u0440\\u0438\\u044f \\u0442\\u043e\\u0432\\u0430\\u0440\\u0430=\\u0434\\u0435\\u043a\\u043e\\u0440<br>\\u043c\\u0435\\u0441\\u044f\\u0446=%{x}<br>\\u043a\\u043e\\u043b-\\u0432\\u043e \\u043f\\u0440\\u043e\\u0434\\u0430\\u043d\\u043d\\u043e\\u0433\\u043e \\u0442\\u043e\\u0432\\u0430\\u0440\\u0430=%{y}<extra></extra>\",\"legendgroup\":\"\\u0434\\u0435\\u043a\\u043e\\u0440\",\"line\":{\"color\":\"rgb(82, 188, 163)\",\"dash\":\"solid\",\"shape\":\"spline\",\"width\":3},\"marker\":{\"symbol\":\"circle\"},\"mode\":\"markers+lines\",\"name\":\"\\u0434\\u0435\\u043a\\u043e\\u0440\",\"orientation\":\"v\",\"showlegend\":true,\"x\":[\"2019-04-01T00:00:00\",\"2019-05-01T00:00:00\",\"2019-06-01T00:00:00\",\"2019-07-01T00:00:00\",\"2019-08-01T00:00:00\",\"2019-09-01T00:00:00\",\"2019-10-01T00:00:00\"],\"xaxis\":\"x\",\"y\":[32,312,59,52,20,12,10],\"yaxis\":\"y\",\"type\":\"scatter\"},{\"hovertemplate\":\"\\u043a\\u0430\\u0442\\u0435\\u0433\\u043e\\u0440\\u0438\\u044f \\u0442\\u043e\\u0432\\u0430\\u0440\\u0430=\\u0438\\u043d\\u0441\\u0442\\u0440\\u0443\\u043c\\u0435\\u043d\\u0442\\u044b, \\u0442\\u0430\\u043a\\u0435\\u043b\\u0430\\u0436<br>\\u043c\\u0435\\u0441\\u044f\\u0446=%{x}<br>\\u043a\\u043e\\u043b-\\u0432\\u043e \\u043f\\u0440\\u043e\\u0434\\u0430\\u043d\\u043d\\u043e\\u0433\\u043e \\u0442\\u043e\\u0432\\u0430\\u0440\\u0430=%{y}<extra></extra>\",\"legendgroup\":\"\\u0438\\u043d\\u0441\\u0442\\u0440\\u0443\\u043c\\u0435\\u043d\\u0442\\u044b, \\u0442\\u0430\\u043a\\u0435\\u043b\\u0430\\u0436\",\"line\":{\"color\":\"rgb(153, 201, 69)\",\"dash\":\"solid\",\"shape\":\"spline\",\"width\":3},\"marker\":{\"symbol\":\"circle\"},\"mode\":\"markers+lines\",\"name\":\"\\u0438\\u043d\\u0441\\u0442\\u0440\\u0443\\u043c\\u0435\\u043d\\u0442\\u044b, \\u0442\\u0430\\u043a\\u0435\\u043b\\u0430\\u0436\",\"orientation\":\"v\",\"showlegend\":true,\"x\":[\"2019-04-01T00:00:00\",\"2019-05-01T00:00:00\",\"2019-06-01T00:00:00\",\"2019-07-01T00:00:00\",\"2019-08-01T00:00:00\",\"2019-09-01T00:00:00\"],\"xaxis\":\"x\",\"y\":[16,2,1,6,5,1],\"yaxis\":\"y\",\"type\":\"scatter\"},{\"hovertemplate\":\"\\u043a\\u0430\\u0442\\u0435\\u0433\\u043e\\u0440\\u0438\\u044f \\u0442\\u043e\\u0432\\u0430\\u0440\\u0430=\\u0438\\u043d\\u0442\\u0435\\u0440\\u044c\\u0435\\u0440, \\u043c\\u0435\\u0431\\u0435\\u043b\\u044c<br>\\u043c\\u0435\\u0441\\u044f\\u0446=%{x}<br>\\u043a\\u043e\\u043b-\\u0432\\u043e \\u043f\\u0440\\u043e\\u0434\\u0430\\u043d\\u043d\\u043e\\u0433\\u043e \\u0442\\u043e\\u0432\\u0430\\u0440\\u0430=%{y}<extra></extra>\",\"legendgroup\":\"\\u0438\\u043d\\u0442\\u0435\\u0440\\u044c\\u0435\\u0440, \\u043c\\u0435\\u0431\\u0435\\u043b\\u044c\",\"line\":{\"color\":\"rgb(204, 97, 176)\",\"dash\":\"solid\",\"shape\":\"spline\",\"width\":3},\"marker\":{\"symbol\":\"circle\"},\"mode\":\"markers+lines\",\"name\":\"\\u0438\\u043d\\u0442\\u0435\\u0440\\u044c\\u0435\\u0440, \\u043c\\u0435\\u0431\\u0435\\u043b\\u044c\",\"orientation\":\"v\",\"showlegend\":true,\"x\":[\"2019-04-01T00:00:00\",\"2019-05-01T00:00:00\",\"2019-06-01T00:00:00\",\"2019-07-01T00:00:00\",\"2019-08-01T00:00:00\",\"2019-09-01T00:00:00\",\"2019-10-01T00:00:00\"],\"xaxis\":\"x\",\"y\":[2,4,50,4,14,14,7],\"yaxis\":\"y\",\"type\":\"scatter\"},{\"hovertemplate\":\"\\u043a\\u0430\\u0442\\u0435\\u0433\\u043e\\u0440\\u0438\\u044f \\u0442\\u043e\\u0432\\u0430\\u0440\\u0430=\\u043f\\u0440\\u0435\\u0434\\u043c\\u0435\\u0442\\u044b \\u0434\\u043b\\u044f \\u0432\\u0430\\u043d\\u043d\\u043e\\u0439 \\u043a\\u043e\\u043c\\u043d\\u0430\\u0442\\u044b<br>\\u043c\\u0435\\u0441\\u044f\\u0446=%{x}<br>\\u043a\\u043e\\u043b-\\u0432\\u043e \\u043f\\u0440\\u043e\\u0434\\u0430\\u043d\\u043d\\u043e\\u0433\\u043e \\u0442\\u043e\\u0432\\u0430\\u0440\\u0430=%{y}<extra></extra>\",\"legendgroup\":\"\\u043f\\u0440\\u0435\\u0434\\u043c\\u0435\\u0442\\u044b \\u0434\\u043b\\u044f \\u0432\\u0430\\u043d\\u043d\\u043e\\u0439 \\u043a\\u043e\\u043c\\u043d\\u0430\\u0442\\u044b\",\"line\":{\"color\":\"rgb(36, 121, 108)\",\"dash\":\"solid\",\"shape\":\"spline\",\"width\":3},\"marker\":{\"symbol\":\"circle\"},\"mode\":\"markers+lines\",\"name\":\"\\u043f\\u0440\\u0435\\u0434\\u043c\\u0435\\u0442\\u044b \\u0434\\u043b\\u044f \\u0432\\u0430\\u043d\\u043d\\u043e\\u0439 \\u043a\\u043e\\u043c\\u043d\\u0430\\u0442\\u044b\",\"orientation\":\"v\",\"showlegend\":true,\"x\":[\"2019-04-01T00:00:00\",\"2019-05-01T00:00:00\",\"2019-06-01T00:00:00\",\"2019-07-01T00:00:00\",\"2019-08-01T00:00:00\",\"2019-09-01T00:00:00\",\"2019-10-01T00:00:00\"],\"xaxis\":\"x\",\"y\":[15,16,11,10,3,11,32],\"yaxis\":\"y\",\"type\":\"scatter\"},{\"hovertemplate\":\"\\u043a\\u0430\\u0442\\u0435\\u0433\\u043e\\u0440\\u0438\\u044f \\u0442\\u043e\\u0432\\u0430\\u0440\\u0430=\\u0442\\u0435\\u043a\\u0441\\u0442\\u0438\\u043b\\u044c<br>\\u043c\\u0435\\u0441\\u044f\\u0446=%{x}<br>\\u043a\\u043e\\u043b-\\u0432\\u043e \\u043f\\u0440\\u043e\\u0434\\u0430\\u043d\\u043d\\u043e\\u0433\\u043e \\u0442\\u043e\\u0432\\u0430\\u0440\\u0430=%{y}<extra></extra>\",\"legendgroup\":\"\\u0442\\u0435\\u043a\\u0441\\u0442\\u0438\\u043b\\u044c\",\"line\":{\"color\":\"rgb(218, 165, 27)\",\"dash\":\"solid\",\"shape\":\"spline\",\"width\":3},\"marker\":{\"symbol\":\"circle\"},\"mode\":\"markers+lines\",\"name\":\"\\u0442\\u0435\\u043a\\u0441\\u0442\\u0438\\u043b\\u044c\",\"orientation\":\"v\",\"showlegend\":true,\"x\":[\"2019-04-01T00:00:00\",\"2019-06-01T00:00:00\",\"2019-07-01T00:00:00\",\"2019-08-01T00:00:00\",\"2019-09-01T00:00:00\",\"2019-10-01T00:00:00\"],\"xaxis\":\"x\",\"y\":[22,23,5,1,17,3],\"yaxis\":\"y\",\"type\":\"scatter\"},{\"hovertemplate\":\"\\u043a\\u0430\\u0442\\u0435\\u0433\\u043e\\u0440\\u0438\\u044f \\u0442\\u043e\\u0432\\u0430\\u0440\\u0430=\\u0445\\u043e\\u0437\\u0442\\u043e\\u0432\\u0430\\u0440\\u044b<br>\\u043c\\u0435\\u0441\\u044f\\u0446=%{x}<br>\\u043a\\u043e\\u043b-\\u0432\\u043e \\u043f\\u0440\\u043e\\u0434\\u0430\\u043d\\u043d\\u043e\\u0433\\u043e \\u0442\\u043e\\u0432\\u0430\\u0440\\u0430=%{y}<extra></extra>\",\"legendgroup\":\"\\u0445\\u043e\\u0437\\u0442\\u043e\\u0432\\u0430\\u0440\\u044b\",\"line\":{\"color\":\"rgb(47, 138, 196)\",\"dash\":\"solid\",\"shape\":\"spline\",\"width\":3},\"marker\":{\"symbol\":\"circle\"},\"mode\":\"markers+lines\",\"name\":\"\\u0445\\u043e\\u0437\\u0442\\u043e\\u0432\\u0430\\u0440\\u044b\",\"orientation\":\"v\",\"showlegend\":true,\"x\":[\"2019-04-01T00:00:00\",\"2019-05-01T00:00:00\",\"2019-06-01T00:00:00\",\"2019-07-01T00:00:00\",\"2019-08-01T00:00:00\",\"2019-09-01T00:00:00\",\"2019-10-01T00:00:00\"],\"xaxis\":\"x\",\"y\":[134,145,425,152,87,90,84],\"yaxis\":\"y\",\"type\":\"scatter\"},{\"hovertemplate\":\"\\u043a\\u0430\\u0442\\u0435\\u0433\\u043e\\u0440\\u0438\\u044f \\u0442\\u043e\\u0432\\u0430\\u0440\\u0430=\\u0444\\u0443\\u0440\\u043d\\u0438\\u0442\\u0443\\u0440\\u0430<br>\\u043c\\u0435\\u0441\\u044f\\u0446=%{x}<br>\\u043a\\u043e\\u043b-\\u0432\\u043e \\u043f\\u0440\\u043e\\u0434\\u0430\\u043d\\u043d\\u043e\\u0433\\u043e \\u0442\\u043e\\u0432\\u0430\\u0440\\u0430=%{y}<extra></extra>\",\"legendgroup\":\"\\u0444\\u0443\\u0440\\u043d\\u0438\\u0442\\u0443\\u0440\\u0430\",\"line\":{\"color\":\"rgb(118, 78, 159)\",\"dash\":\"solid\",\"shape\":\"spline\",\"width\":3},\"marker\":{\"symbol\":\"circle\"},\"mode\":\"markers+lines\",\"name\":\"\\u0444\\u0443\\u0440\\u043d\\u0438\\u0442\\u0443\\u0440\\u0430\",\"orientation\":\"v\",\"showlegend\":true,\"x\":[\"2019-06-01T00:00:00\",\"2019-08-01T00:00:00\",\"2019-10-01T00:00:00\"],\"xaxis\":\"x\",\"y\":[41,71,100],\"yaxis\":\"y\",\"type\":\"scatter\"}],                        {\"template\":{\"data\":{\"barpolar\":[{\"marker\":{\"line\":{\"color\":\"white\",\"width\":0.5},\"pattern\":{\"fillmode\":\"overlay\",\"size\":10,\"solidity\":0.2}},\"type\":\"barpolar\"}],\"bar\":[{\"error_x\":{\"color\":\"rgb(36,36,36)\"},\"error_y\":{\"color\":\"rgb(36,36,36)\"},\"marker\":{\"line\":{\"color\":\"white\",\"width\":0.5},\"pattern\":{\"fillmode\":\"overlay\",\"size\":10,\"solidity\":0.2}},\"type\":\"bar\"}],\"carpet\":[{\"aaxis\":{\"endlinecolor\":\"rgb(36,36,36)\",\"gridcolor\":\"white\",\"linecolor\":\"white\",\"minorgridcolor\":\"white\",\"startlinecolor\":\"rgb(36,36,36)\"},\"baxis\":{\"endlinecolor\":\"rgb(36,36,36)\",\"gridcolor\":\"white\",\"linecolor\":\"white\",\"minorgridcolor\":\"white\",\"startlinecolor\":\"rgb(36,36,36)\"},\"type\":\"carpet\"}],\"choropleth\":[{\"colorbar\":{\"outlinewidth\":1,\"tickcolor\":\"rgb(36,36,36)\",\"ticks\":\"outside\"},\"type\":\"choropleth\"}],\"contourcarpet\":[{\"colorbar\":{\"outlinewidth\":1,\"tickcolor\":\"rgb(36,36,36)\",\"ticks\":\"outside\"},\"type\":\"contourcarpet\"}],\"contour\":[{\"colorbar\":{\"outlinewidth\":1,\"tickcolor\":\"rgb(36,36,36)\",\"ticks\":\"outside\"},\"colorscale\":[[0.0,\"#440154\"],[0.1111111111111111,\"#482878\"],[0.2222222222222222,\"#3e4989\"],[0.3333333333333333,\"#31688e\"],[0.4444444444444444,\"#26828e\"],[0.5555555555555556,\"#1f9e89\"],[0.6666666666666666,\"#35b779\"],[0.7777777777777778,\"#6ece58\"],[0.8888888888888888,\"#b5de2b\"],[1.0,\"#fde725\"]],\"type\":\"contour\"}],\"heatmapgl\":[{\"colorbar\":{\"outlinewidth\":1,\"tickcolor\":\"rgb(36,36,36)\",\"ticks\":\"outside\"},\"colorscale\":[[0.0,\"#440154\"],[0.1111111111111111,\"#482878\"],[0.2222222222222222,\"#3e4989\"],[0.3333333333333333,\"#31688e\"],[0.4444444444444444,\"#26828e\"],[0.5555555555555556,\"#1f9e89\"],[0.6666666666666666,\"#35b779\"],[0.7777777777777778,\"#6ece58\"],[0.8888888888888888,\"#b5de2b\"],[1.0,\"#fde725\"]],\"type\":\"heatmapgl\"}],\"heatmap\":[{\"colorbar\":{\"outlinewidth\":1,\"tickcolor\":\"rgb(36,36,36)\",\"ticks\":\"outside\"},\"colorscale\":[[0.0,\"#440154\"],[0.1111111111111111,\"#482878\"],[0.2222222222222222,\"#3e4989\"],[0.3333333333333333,\"#31688e\"],[0.4444444444444444,\"#26828e\"],[0.5555555555555556,\"#1f9e89\"],[0.6666666666666666,\"#35b779\"],[0.7777777777777778,\"#6ece58\"],[0.8888888888888888,\"#b5de2b\"],[1.0,\"#fde725\"]],\"type\":\"heatmap\"}],\"histogram2dcontour\":[{\"colorbar\":{\"outlinewidth\":1,\"tickcolor\":\"rgb(36,36,36)\",\"ticks\":\"outside\"},\"colorscale\":[[0.0,\"#440154\"],[0.1111111111111111,\"#482878\"],[0.2222222222222222,\"#3e4989\"],[0.3333333333333333,\"#31688e\"],[0.4444444444444444,\"#26828e\"],[0.5555555555555556,\"#1f9e89\"],[0.6666666666666666,\"#35b779\"],[0.7777777777777778,\"#6ece58\"],[0.8888888888888888,\"#b5de2b\"],[1.0,\"#fde725\"]],\"type\":\"histogram2dcontour\"}],\"histogram2d\":[{\"colorbar\":{\"outlinewidth\":1,\"tickcolor\":\"rgb(36,36,36)\",\"ticks\":\"outside\"},\"colorscale\":[[0.0,\"#440154\"],[0.1111111111111111,\"#482878\"],[0.2222222222222222,\"#3e4989\"],[0.3333333333333333,\"#31688e\"],[0.4444444444444444,\"#26828e\"],[0.5555555555555556,\"#1f9e89\"],[0.6666666666666666,\"#35b779\"],[0.7777777777777778,\"#6ece58\"],[0.8888888888888888,\"#b5de2b\"],[1.0,\"#fde725\"]],\"type\":\"histogram2d\"}],\"histogram\":[{\"marker\":{\"line\":{\"color\":\"white\",\"width\":0.6}},\"type\":\"histogram\"}],\"mesh3d\":[{\"colorbar\":{\"outlinewidth\":1,\"tickcolor\":\"rgb(36,36,36)\",\"ticks\":\"outside\"},\"type\":\"mesh3d\"}],\"parcoords\":[{\"line\":{\"colorbar\":{\"outlinewidth\":1,\"tickcolor\":\"rgb(36,36,36)\",\"ticks\":\"outside\"}},\"type\":\"parcoords\"}],\"pie\":[{\"automargin\":true,\"type\":\"pie\"}],\"scatter3d\":[{\"line\":{\"colorbar\":{\"outlinewidth\":1,\"tickcolor\":\"rgb(36,36,36)\",\"ticks\":\"outside\"}},\"marker\":{\"colorbar\":{\"outlinewidth\":1,\"tickcolor\":\"rgb(36,36,36)\",\"ticks\":\"outside\"}},\"type\":\"scatter3d\"}],\"scattercarpet\":[{\"marker\":{\"colorbar\":{\"outlinewidth\":1,\"tickcolor\":\"rgb(36,36,36)\",\"ticks\":\"outside\"}},\"type\":\"scattercarpet\"}],\"scattergeo\":[{\"marker\":{\"colorbar\":{\"outlinewidth\":1,\"tickcolor\":\"rgb(36,36,36)\",\"ticks\":\"outside\"}},\"type\":\"scattergeo\"}],\"scattergl\":[{\"marker\":{\"colorbar\":{\"outlinewidth\":1,\"tickcolor\":\"rgb(36,36,36)\",\"ticks\":\"outside\"}},\"type\":\"scattergl\"}],\"scattermapbox\":[{\"marker\":{\"colorbar\":{\"outlinewidth\":1,\"tickcolor\":\"rgb(36,36,36)\",\"ticks\":\"outside\"}},\"type\":\"scattermapbox\"}],\"scatterpolargl\":[{\"marker\":{\"colorbar\":{\"outlinewidth\":1,\"tickcolor\":\"rgb(36,36,36)\",\"ticks\":\"outside\"}},\"type\":\"scatterpolargl\"}],\"scatterpolar\":[{\"marker\":{\"colorbar\":{\"outlinewidth\":1,\"tickcolor\":\"rgb(36,36,36)\",\"ticks\":\"outside\"}},\"type\":\"scatterpolar\"}],\"scatter\":[{\"marker\":{\"colorbar\":{\"outlinewidth\":1,\"tickcolor\":\"rgb(36,36,36)\",\"ticks\":\"outside\"}},\"type\":\"scatter\"}],\"scatterternary\":[{\"marker\":{\"colorbar\":{\"outlinewidth\":1,\"tickcolor\":\"rgb(36,36,36)\",\"ticks\":\"outside\"}},\"type\":\"scatterternary\"}],\"surface\":[{\"colorbar\":{\"outlinewidth\":1,\"tickcolor\":\"rgb(36,36,36)\",\"ticks\":\"outside\"},\"colorscale\":[[0.0,\"#440154\"],[0.1111111111111111,\"#482878\"],[0.2222222222222222,\"#3e4989\"],[0.3333333333333333,\"#31688e\"],[0.4444444444444444,\"#26828e\"],[0.5555555555555556,\"#1f9e89\"],[0.6666666666666666,\"#35b779\"],[0.7777777777777778,\"#6ece58\"],[0.8888888888888888,\"#b5de2b\"],[1.0,\"#fde725\"]],\"type\":\"surface\"}],\"table\":[{\"cells\":{\"fill\":{\"color\":\"rgb(237,237,237)\"},\"line\":{\"color\":\"white\"}},\"header\":{\"fill\":{\"color\":\"rgb(217,217,217)\"},\"line\":{\"color\":\"white\"}},\"type\":\"table\"}]},\"layout\":{\"annotationdefaults\":{\"arrowhead\":0,\"arrowwidth\":1},\"autotypenumbers\":\"strict\",\"coloraxis\":{\"colorbar\":{\"outlinewidth\":1,\"tickcolor\":\"rgb(36,36,36)\",\"ticks\":\"outside\"}},\"colorscale\":{\"diverging\":[[0.0,\"rgb(103,0,31)\"],[0.1,\"rgb(178,24,43)\"],[0.2,\"rgb(214,96,77)\"],[0.3,\"rgb(244,165,130)\"],[0.4,\"rgb(253,219,199)\"],[0.5,\"rgb(247,247,247)\"],[0.6,\"rgb(209,229,240)\"],[0.7,\"rgb(146,197,222)\"],[0.8,\"rgb(67,147,195)\"],[0.9,\"rgb(33,102,172)\"],[1.0,\"rgb(5,48,97)\"]],\"sequential\":[[0.0,\"#440154\"],[0.1111111111111111,\"#482878\"],[0.2222222222222222,\"#3e4989\"],[0.3333333333333333,\"#31688e\"],[0.4444444444444444,\"#26828e\"],[0.5555555555555556,\"#1f9e89\"],[0.6666666666666666,\"#35b779\"],[0.7777777777777778,\"#6ece58\"],[0.8888888888888888,\"#b5de2b\"],[1.0,\"#fde725\"]],\"sequentialminus\":[[0.0,\"#440154\"],[0.1111111111111111,\"#482878\"],[0.2222222222222222,\"#3e4989\"],[0.3333333333333333,\"#31688e\"],[0.4444444444444444,\"#26828e\"],[0.5555555555555556,\"#1f9e89\"],[0.6666666666666666,\"#35b779\"],[0.7777777777777778,\"#6ece58\"],[0.8888888888888888,\"#b5de2b\"],[1.0,\"#fde725\"]]},\"colorway\":[\"#1F77B4\",\"#FF7F0E\",\"#2CA02C\",\"#D62728\",\"#9467BD\",\"#8C564B\",\"#E377C2\",\"#7F7F7F\",\"#BCBD22\",\"#17BECF\"],\"font\":{\"color\":\"rgb(36,36,36)\"},\"geo\":{\"bgcolor\":\"white\",\"lakecolor\":\"white\",\"landcolor\":\"white\",\"showlakes\":true,\"showland\":true,\"subunitcolor\":\"white\"},\"hoverlabel\":{\"align\":\"left\"},\"hovermode\":\"closest\",\"mapbox\":{\"style\":\"light\"},\"paper_bgcolor\":\"white\",\"plot_bgcolor\":\"white\",\"polar\":{\"angularaxis\":{\"gridcolor\":\"rgb(232,232,232)\",\"linecolor\":\"rgb(36,36,36)\",\"showgrid\":false,\"showline\":true,\"ticks\":\"outside\"},\"bgcolor\":\"white\",\"radialaxis\":{\"gridcolor\":\"rgb(232,232,232)\",\"linecolor\":\"rgb(36,36,36)\",\"showgrid\":false,\"showline\":true,\"ticks\":\"outside\"}},\"scene\":{\"xaxis\":{\"backgroundcolor\":\"white\",\"gridcolor\":\"rgb(232,232,232)\",\"gridwidth\":2,\"linecolor\":\"rgb(36,36,36)\",\"showbackground\":true,\"showgrid\":false,\"showline\":true,\"ticks\":\"outside\",\"zeroline\":false,\"zerolinecolor\":\"rgb(36,36,36)\"},\"yaxis\":{\"backgroundcolor\":\"white\",\"gridcolor\":\"rgb(232,232,232)\",\"gridwidth\":2,\"linecolor\":\"rgb(36,36,36)\",\"showbackground\":true,\"showgrid\":false,\"showline\":true,\"ticks\":\"outside\",\"zeroline\":false,\"zerolinecolor\":\"rgb(36,36,36)\"},\"zaxis\":{\"backgroundcolor\":\"white\",\"gridcolor\":\"rgb(232,232,232)\",\"gridwidth\":2,\"linecolor\":\"rgb(36,36,36)\",\"showbackground\":true,\"showgrid\":false,\"showline\":true,\"ticks\":\"outside\",\"zeroline\":false,\"zerolinecolor\":\"rgb(36,36,36)\"}},\"shapedefaults\":{\"fillcolor\":\"black\",\"line\":{\"width\":0},\"opacity\":0.3},\"ternary\":{\"aaxis\":{\"gridcolor\":\"rgb(232,232,232)\",\"linecolor\":\"rgb(36,36,36)\",\"showgrid\":false,\"showline\":true,\"ticks\":\"outside\"},\"baxis\":{\"gridcolor\":\"rgb(232,232,232)\",\"linecolor\":\"rgb(36,36,36)\",\"showgrid\":false,\"showline\":true,\"ticks\":\"outside\"},\"bgcolor\":\"white\",\"caxis\":{\"gridcolor\":\"rgb(232,232,232)\",\"linecolor\":\"rgb(36,36,36)\",\"showgrid\":false,\"showline\":true,\"ticks\":\"outside\"}},\"title\":{\"x\":0.05},\"xaxis\":{\"automargin\":true,\"gridcolor\":\"rgb(232,232,232)\",\"linecolor\":\"rgb(36,36,36)\",\"showgrid\":false,\"showline\":true,\"ticks\":\"outside\",\"title\":{\"standoff\":15},\"zeroline\":false,\"zerolinecolor\":\"rgb(36,36,36)\"},\"yaxis\":{\"automargin\":true,\"gridcolor\":\"rgb(232,232,232)\",\"linecolor\":\"rgb(36,36,36)\",\"showgrid\":false,\"showline\":true,\"ticks\":\"outside\",\"title\":{\"standoff\":15},\"zeroline\":false,\"zerolinecolor\":\"rgb(36,36,36)\"}}},\"xaxis\":{\"anchor\":\"y\",\"domain\":[0.0,1.0],\"title\":{\"text\":\"\\u043c\\u0435\\u0441\\u044f\\u0446\"}},\"yaxis\":{\"anchor\":\"x\",\"domain\":[0.0,1.0],\"title\":{\"text\":\"\\u043a\\u043e\\u043b-\\u0432\\u043e \\u043f\\u0440\\u043e\\u0434\\u0430\\u043d\\u043d\\u043e\\u0433\\u043e \\u0442\\u043e\\u0432\\u0430\\u0440\\u0430\"}},\"legend\":{\"title\":{\"text\":\"\\u043a\\u0430\\u0442\\u0435\\u0433\\u043e\\u0440\\u0438\\u044f \\u0442\\u043e\\u0432\\u0430\\u0440\\u0430\"},\"tracegroupgap\":0},\"title\":{\"text\":\"\\u0421\\u0435\\u0433\\u043c\\u0435\\u043d\\u0442 2\\u0439. \\u041f\\u043e\\u043a\\u0443\\u043f\\u043a\\u0430 \\u0442\\u043e\\u0432\\u0430\\u0440\\u043e\\u0432 \\u0440\\u0430\\u0437\\u043d\\u044b\\u0445 \\u043a\\u0430\\u0442\\u0435\\u0433\\u043e\\u0440\\u0438\\u0439 \\u043f\\u043e \\u043c\\u0435\\u0441\\u044f\\u0446\\u0430\\u043c\"}},                        {\"responsive\": true}                    ).then(function(){\n",
       "                            \n",
       "var gd = document.getElementById('f3f62bf8-efe0-4fa8-91d5-1bd077263066');\n",
       "var x = new MutationObserver(function (mutations, observer) {{\n",
       "        var display = window.getComputedStyle(gd).display;\n",
       "        if (!display || display === 'none') {{\n",
       "            console.log([gd, 'removed!']);\n",
       "            Plotly.purge(gd);\n",
       "            observer.disconnect();\n",
       "        }}\n",
       "}});\n",
       "\n",
       "// Listen for the removal of the full notebook cells\n",
       "var notebookContainer = gd.closest('#notebook-container');\n",
       "if (notebookContainer) {{\n",
       "    x.observe(notebookContainer, {childList: true});\n",
       "}}\n",
       "\n",
       "// Listen for the clearing of the current output cell\n",
       "var outputEl = gd.closest('.output');\n",
       "if (outputEl) {{\n",
       "    x.observe(outputEl, {childList: true});\n",
       "}}\n",
       "\n",
       "                        })                };                });            </script>        </div>"
      ]
     },
     "metadata": {},
     "output_type": "display_data"
    }
   ],
   "source": [
    "fig = px.line(history_category.query('major_group==\"group_2\"'),\n",
    "              x='date_round',\n",
    "              y='quantity',\n",
    "\n",
    "              color='category_product',\n",
    "              title='Сегмент 2й. Покупка товаров разных категорий по месяцам',\n",
    "              labels=dict(quantity='кол-во проданного товара',\n",
    "                          category_product='категория товара',\n",
    "                          date_round='месяц'),\n",
    "              color_discrete_sequence=px.colors.qualitative.Vivid,\n",
    "              template='simple_white'\n",
    "              )\n",
    "\n",
    "fig.update_traces(mode='markers+lines',\n",
    "                  line_shape='spline',\n",
    "                  line_width=3\n",
    "                  )\n",
    "iplot(fig)"
   ]
  },
  {
   "cell_type": "markdown",
   "metadata": {},
   "source": [
    "Сегмент 2(неактивные пользователи). Активно закупаются рассадой и растениями особенно в апреле и июнь. В мае заказывали для декора больше чем за предстиавленный период. В июне приобретают больше хозтоваров."
   ]
  },
  {
   "cell_type": "code",
   "execution_count": null,
   "metadata": {},
   "outputs": [
    {
     "data": {
      "application/vnd.plotly.v1+json": {
       "config": {
        "plotlyServerURL": "https://plot.ly"
       },
       "data": [
        {
         "hovertemplate": "категория товара=интерьер, мебель<br>месяц=%{x}<br>кол-во проданного товара=%{y}<extra></extra>",
         "legendgroup": "интерьер, мебель",
         "line": {
          "color": "rgb(229, 134, 6)",
          "dash": "solid",
          "shape": "spline",
          "width": 3
         },
         "marker": {
          "symbol": "circle"
         },
         "mode": "markers+lines",
         "name": "интерьер, мебель",
         "orientation": "v",
         "showlegend": true,
         "type": "scatter",
         "x": [
          "2018-10-01T00:00:00",
          "2018-11-01T00:00:00",
          "2018-12-01T00:00:00",
          "2019-01-01T00:00:00",
          "2019-02-01T00:00:00",
          "2019-03-01T00:00:00",
          "2019-04-01T00:00:00",
          "2019-05-01T00:00:00",
          "2019-07-01T00:00:00",
          "2019-08-01T00:00:00",
          "2019-09-01T00:00:00",
          "2019-11-01T00:00:00",
          "2019-12-01T00:00:00",
          "2020-01-01T00:00:00"
         ],
         "xaxis": "x",
         "y": [
          2,
          1,
          10,
          4,
          2,
          3,
          2,
          2,
          4,
          2,
          2,
          7,
          12,
          12
         ],
         "yaxis": "y"
        },
        {
         "hovertemplate": "категория товара=посуда, товары для кухни<br>месяц=%{x}<br>кол-во проданного товара=%{y}<extra></extra>",
         "legendgroup": "посуда, товары для кухни",
         "line": {
          "color": "rgb(93, 105, 177)",
          "dash": "solid",
          "shape": "spline",
          "width": 3
         },
         "marker": {
          "symbol": "circle"
         },
         "mode": "markers+lines",
         "name": "посуда, товары для кухни",
         "orientation": "v",
         "showlegend": true,
         "type": "scatter",
         "x": [
          "2018-10-01T00:00:00",
          "2018-11-01T00:00:00",
          "2018-12-01T00:00:00",
          "2019-01-01T00:00:00",
          "2019-02-01T00:00:00",
          "2019-03-01T00:00:00",
          "2019-04-01T00:00:00",
          "2019-05-01T00:00:00",
          "2019-06-01T00:00:00",
          "2019-07-01T00:00:00",
          "2019-08-01T00:00:00",
          "2019-09-01T00:00:00",
          "2019-10-01T00:00:00",
          "2019-11-01T00:00:00",
          "2019-12-01T00:00:00",
          "2020-01-01T00:00:00"
         ],
         "xaxis": "x",
         "y": [
          4,
          2,
          7,
          4,
          13,
          6,
          1,
          3,
          1,
          5,
          3,
          6,
          6,
          24,
          27,
          33
         ],
         "yaxis": "y"
        },
        {
         "hovertemplate": "категория товара=предметы для ванной комнаты<br>месяц=%{x}<br>кол-во проданного товара=%{y}<extra></extra>",
         "legendgroup": "предметы для ванной комнаты",
         "line": {
          "color": "rgb(82, 188, 163)",
          "dash": "solid",
          "shape": "spline",
          "width": 3
         },
         "marker": {
          "symbol": "circle"
         },
         "mode": "markers+lines",
         "name": "предметы для ванной комнаты",
         "orientation": "v",
         "showlegend": true,
         "type": "scatter",
         "x": [
          "2018-10-01T00:00:00",
          "2018-11-01T00:00:00",
          "2018-12-01T00:00:00",
          "2019-01-01T00:00:00",
          "2019-02-01T00:00:00",
          "2019-03-01T00:00:00",
          "2019-04-01T00:00:00",
          "2019-05-01T00:00:00",
          "2019-06-01T00:00:00",
          "2019-07-01T00:00:00",
          "2019-08-01T00:00:00",
          "2019-09-01T00:00:00",
          "2019-11-01T00:00:00",
          "2019-12-01T00:00:00",
          "2020-01-01T00:00:00"
         ],
         "xaxis": "x",
         "y": [
          4,
          3,
          6,
          2,
          6,
          8,
          5,
          1,
          2,
          2,
          2,
          1,
          7,
          11,
          4
         ],
         "yaxis": "y"
        },
        {
         "hovertemplate": "категория товара=рассада и растения<br>месяц=%{x}<br>кол-во проданного товара=%{y}<extra></extra>",
         "legendgroup": "рассада и растения",
         "line": {
          "color": "rgb(153, 201, 69)",
          "dash": "solid",
          "shape": "spline",
          "width": 3
         },
         "marker": {
          "symbol": "circle"
         },
         "mode": "markers+lines",
         "name": "рассада и растения",
         "orientation": "v",
         "showlegend": true,
         "type": "scatter",
         "x": [
          "2018-10-01T00:00:00",
          "2018-11-01T00:00:00",
          "2018-12-01T00:00:00",
          "2019-01-01T00:00:00",
          "2019-02-01T00:00:00",
          "2019-03-01T00:00:00",
          "2019-04-01T00:00:00",
          "2019-05-01T00:00:00",
          "2019-06-01T00:00:00",
          "2019-07-01T00:00:00",
          "2019-08-01T00:00:00",
          "2019-09-01T00:00:00",
          "2019-10-01T00:00:00",
          "2019-11-01T00:00:00",
          "2019-12-01T00:00:00",
          "2020-01-01T00:00:00"
         ],
         "xaxis": "x",
         "y": [
          6,
          7,
          7,
          10,
          30,
          24,
          27,
          9,
          10,
          13,
          15,
          24,
          129,
          116,
          115,
          155
         ],
         "yaxis": "y"
        },
        {
         "hovertemplate": "категория товара=хозтовары<br>месяц=%{x}<br>кол-во проданного товара=%{y}<extra></extra>",
         "legendgroup": "хозтовары",
         "line": {
          "color": "rgb(204, 97, 176)",
          "dash": "solid",
          "shape": "spline",
          "width": 3
         },
         "marker": {
          "symbol": "circle"
         },
         "mode": "markers+lines",
         "name": "хозтовары",
         "orientation": "v",
         "showlegend": true,
         "type": "scatter",
         "x": [
          "2018-10-01T00:00:00",
          "2018-11-01T00:00:00",
          "2018-12-01T00:00:00",
          "2019-01-01T00:00:00",
          "2019-02-01T00:00:00",
          "2019-03-01T00:00:00",
          "2019-04-01T00:00:00",
          "2019-05-01T00:00:00",
          "2019-06-01T00:00:00",
          "2019-07-01T00:00:00",
          "2019-08-01T00:00:00",
          "2019-09-01T00:00:00",
          "2019-10-01T00:00:00",
          "2019-11-01T00:00:00",
          "2019-12-01T00:00:00",
          "2020-01-01T00:00:00"
         ],
         "xaxis": "x",
         "y": [
          31,
          30,
          43,
          24,
          43,
          40,
          44,
          28,
          33,
          45,
          33,
          37,
          130,
          63,
          87,
          81
         ],
         "yaxis": "y"
        },
        {
         "hovertemplate": "категория товара=текстиль<br>месяц=%{x}<br>кол-во проданного товара=%{y}<extra></extra>",
         "legendgroup": "текстиль",
         "line": {
          "color": "rgb(36, 121, 108)",
          "dash": "solid",
          "shape": "spline",
          "width": 3
         },
         "marker": {
          "symbol": "circle"
         },
         "mode": "markers+lines",
         "name": "текстиль",
         "orientation": "v",
         "showlegend": true,
         "type": "scatter",
         "x": [
          "2018-11-01T00:00:00",
          "2018-12-01T00:00:00",
          "2019-01-01T00:00:00",
          "2019-03-01T00:00:00",
          "2019-04-01T00:00:00",
          "2019-05-01T00:00:00",
          "2019-06-01T00:00:00",
          "2019-09-01T00:00:00",
          "2019-10-01T00:00:00",
          "2019-11-01T00:00:00",
          "2019-12-01T00:00:00",
          "2020-01-01T00:00:00"
         ],
         "xaxis": "x",
         "y": [
          3,
          3,
          2,
          1,
          1,
          1,
          2,
          1,
          2,
          6,
          2,
          2
         ],
         "yaxis": "y"
        },
        {
         "hovertemplate": "категория товара=декор<br>месяц=%{x}<br>кол-во проданного товара=%{y}<extra></extra>",
         "legendgroup": "декор",
         "line": {
          "color": "rgb(218, 165, 27)",
          "dash": "solid",
          "shape": "spline",
          "width": 3
         },
         "marker": {
          "symbol": "circle"
         },
         "mode": "markers+lines",
         "name": "декор",
         "orientation": "v",
         "showlegend": true,
         "type": "scatter",
         "x": [
          "2018-12-01T00:00:00",
          "2019-02-01T00:00:00",
          "2019-10-01T00:00:00",
          "2019-11-01T00:00:00",
          "2019-12-01T00:00:00",
          "2020-01-01T00:00:00"
         ],
         "xaxis": "x",
         "y": [
          2,
          2,
          53,
          8,
          6,
          10
         ],
         "yaxis": "y"
        },
        {
         "hovertemplate": "категория товара=инструменты, такелаж<br>месяц=%{x}<br>кол-во проданного товара=%{y}<extra></extra>",
         "legendgroup": "инструменты, такелаж",
         "line": {
          "color": "rgb(47, 138, 196)",
          "dash": "solid",
          "shape": "spline",
          "width": 3
         },
         "marker": {
          "symbol": "circle"
         },
         "mode": "markers+lines",
         "name": "инструменты, такелаж",
         "orientation": "v",
         "showlegend": true,
         "type": "scatter",
         "x": [
          "2018-12-01T00:00:00",
          "2019-01-01T00:00:00",
          "2019-02-01T00:00:00",
          "2019-03-01T00:00:00",
          "2019-04-01T00:00:00",
          "2019-05-01T00:00:00",
          "2019-08-01T00:00:00",
          "2019-10-01T00:00:00",
          "2019-11-01T00:00:00",
          "2019-12-01T00:00:00",
          "2020-01-01T00:00:00"
         ],
         "xaxis": "x",
         "y": [
          1,
          2,
          2,
          1,
          1,
          1,
          1,
          1,
          5,
          3,
          4
         ],
         "yaxis": "y"
        },
        {
         "hovertemplate": "категория товара=фурнитура<br>месяц=%{x}<br>кол-во проданного товара=%{y}<extra></extra>",
         "legendgroup": "фурнитура",
         "line": {
          "color": "rgb(118, 78, 159)",
          "dash": "solid",
          "shape": "spline",
          "width": 3
         },
         "marker": {
          "symbol": "circle"
         },
         "mode": "markers+lines",
         "name": "фурнитура",
         "orientation": "v",
         "showlegend": true,
         "type": "scatter",
         "x": [
          "2019-10-01T00:00:00",
          "2019-12-01T00:00:00"
         ],
         "xaxis": "x",
         "y": [
          100,
          1
         ],
         "yaxis": "y"
        },
        {
         "hovertemplate": "категория товара=электроприборы<br>месяц=%{x}<br>кол-во проданного товара=%{y}<extra></extra>",
         "legendgroup": "электроприборы",
         "line": {
          "color": "rgb(237, 100, 90)",
          "dash": "solid",
          "shape": "spline",
          "width": 3
         },
         "marker": {
          "symbol": "circle"
         },
         "mode": "markers+lines",
         "name": "электроприборы",
         "orientation": "v",
         "showlegend": true,
         "type": "scatter",
         "x": [
          "2019-10-01T00:00:00"
         ],
         "xaxis": "x",
         "y": [
          4
         ],
         "yaxis": "y"
        },
        {
         "hovertemplate": "категория товара=подарки на праздники<br>месяц=%{x}<br>кол-во проданного товара=%{y}<extra></extra>",
         "legendgroup": "подарки на праздники",
         "line": {
          "color": "rgb(165, 170, 153)",
          "dash": "solid",
          "shape": "spline",
          "width": 3
         },
         "marker": {
          "symbol": "circle"
         },
         "mode": "markers+lines",
         "name": "подарки на праздники",
         "orientation": "v",
         "showlegend": true,
         "type": "scatter",
         "x": [
          "2019-12-01T00:00:00"
         ],
         "xaxis": "x",
         "y": [
          1
         ],
         "yaxis": "y"
        }
       ],
       "layout": {
        "legend": {
         "title": {
          "text": "категория товара"
         },
         "tracegroupgap": 0
        },
        "template": {
         "data": {
          "bar": [
           {
            "error_x": {
             "color": "rgb(36,36,36)"
            },
            "error_y": {
             "color": "rgb(36,36,36)"
            },
            "marker": {
             "line": {
              "color": "white",
              "width": 0.5
             },
             "pattern": {
              "fillmode": "overlay",
              "size": 10,
              "solidity": 0.2
             }
            },
            "type": "bar"
           }
          ],
          "barpolar": [
           {
            "marker": {
             "line": {
              "color": "white",
              "width": 0.5
             },
             "pattern": {
              "fillmode": "overlay",
              "size": 10,
              "solidity": 0.2
             }
            },
            "type": "barpolar"
           }
          ],
          "carpet": [
           {
            "aaxis": {
             "endlinecolor": "rgb(36,36,36)",
             "gridcolor": "white",
             "linecolor": "white",
             "minorgridcolor": "white",
             "startlinecolor": "rgb(36,36,36)"
            },
            "baxis": {
             "endlinecolor": "rgb(36,36,36)",
             "gridcolor": "white",
             "linecolor": "white",
             "minorgridcolor": "white",
             "startlinecolor": "rgb(36,36,36)"
            },
            "type": "carpet"
           }
          ],
          "choropleth": [
           {
            "colorbar": {
             "outlinewidth": 1,
             "tickcolor": "rgb(36,36,36)",
             "ticks": "outside"
            },
            "type": "choropleth"
           }
          ],
          "contour": [
           {
            "colorbar": {
             "outlinewidth": 1,
             "tickcolor": "rgb(36,36,36)",
             "ticks": "outside"
            },
            "colorscale": [
             [
              0,
              "#440154"
             ],
             [
              0.1111111111111111,
              "#482878"
             ],
             [
              0.2222222222222222,
              "#3e4989"
             ],
             [
              0.3333333333333333,
              "#31688e"
             ],
             [
              0.4444444444444444,
              "#26828e"
             ],
             [
              0.5555555555555556,
              "#1f9e89"
             ],
             [
              0.6666666666666666,
              "#35b779"
             ],
             [
              0.7777777777777778,
              "#6ece58"
             ],
             [
              0.8888888888888888,
              "#b5de2b"
             ],
             [
              1,
              "#fde725"
             ]
            ],
            "type": "contour"
           }
          ],
          "contourcarpet": [
           {
            "colorbar": {
             "outlinewidth": 1,
             "tickcolor": "rgb(36,36,36)",
             "ticks": "outside"
            },
            "type": "contourcarpet"
           }
          ],
          "heatmap": [
           {
            "colorbar": {
             "outlinewidth": 1,
             "tickcolor": "rgb(36,36,36)",
             "ticks": "outside"
            },
            "colorscale": [
             [
              0,
              "#440154"
             ],
             [
              0.1111111111111111,
              "#482878"
             ],
             [
              0.2222222222222222,
              "#3e4989"
             ],
             [
              0.3333333333333333,
              "#31688e"
             ],
             [
              0.4444444444444444,
              "#26828e"
             ],
             [
              0.5555555555555556,
              "#1f9e89"
             ],
             [
              0.6666666666666666,
              "#35b779"
             ],
             [
              0.7777777777777778,
              "#6ece58"
             ],
             [
              0.8888888888888888,
              "#b5de2b"
             ],
             [
              1,
              "#fde725"
             ]
            ],
            "type": "heatmap"
           }
          ],
          "heatmapgl": [
           {
            "colorbar": {
             "outlinewidth": 1,
             "tickcolor": "rgb(36,36,36)",
             "ticks": "outside"
            },
            "colorscale": [
             [
              0,
              "#440154"
             ],
             [
              0.1111111111111111,
              "#482878"
             ],
             [
              0.2222222222222222,
              "#3e4989"
             ],
             [
              0.3333333333333333,
              "#31688e"
             ],
             [
              0.4444444444444444,
              "#26828e"
             ],
             [
              0.5555555555555556,
              "#1f9e89"
             ],
             [
              0.6666666666666666,
              "#35b779"
             ],
             [
              0.7777777777777778,
              "#6ece58"
             ],
             [
              0.8888888888888888,
              "#b5de2b"
             ],
             [
              1,
              "#fde725"
             ]
            ],
            "type": "heatmapgl"
           }
          ],
          "histogram": [
           {
            "marker": {
             "line": {
              "color": "white",
              "width": 0.6
             }
            },
            "type": "histogram"
           }
          ],
          "histogram2d": [
           {
            "colorbar": {
             "outlinewidth": 1,
             "tickcolor": "rgb(36,36,36)",
             "ticks": "outside"
            },
            "colorscale": [
             [
              0,
              "#440154"
             ],
             [
              0.1111111111111111,
              "#482878"
             ],
             [
              0.2222222222222222,
              "#3e4989"
             ],
             [
              0.3333333333333333,
              "#31688e"
             ],
             [
              0.4444444444444444,
              "#26828e"
             ],
             [
              0.5555555555555556,
              "#1f9e89"
             ],
             [
              0.6666666666666666,
              "#35b779"
             ],
             [
              0.7777777777777778,
              "#6ece58"
             ],
             [
              0.8888888888888888,
              "#b5de2b"
             ],
             [
              1,
              "#fde725"
             ]
            ],
            "type": "histogram2d"
           }
          ],
          "histogram2dcontour": [
           {
            "colorbar": {
             "outlinewidth": 1,
             "tickcolor": "rgb(36,36,36)",
             "ticks": "outside"
            },
            "colorscale": [
             [
              0,
              "#440154"
             ],
             [
              0.1111111111111111,
              "#482878"
             ],
             [
              0.2222222222222222,
              "#3e4989"
             ],
             [
              0.3333333333333333,
              "#31688e"
             ],
             [
              0.4444444444444444,
              "#26828e"
             ],
             [
              0.5555555555555556,
              "#1f9e89"
             ],
             [
              0.6666666666666666,
              "#35b779"
             ],
             [
              0.7777777777777778,
              "#6ece58"
             ],
             [
              0.8888888888888888,
              "#b5de2b"
             ],
             [
              1,
              "#fde725"
             ]
            ],
            "type": "histogram2dcontour"
           }
          ],
          "mesh3d": [
           {
            "colorbar": {
             "outlinewidth": 1,
             "tickcolor": "rgb(36,36,36)",
             "ticks": "outside"
            },
            "type": "mesh3d"
           }
          ],
          "parcoords": [
           {
            "line": {
             "colorbar": {
              "outlinewidth": 1,
              "tickcolor": "rgb(36,36,36)",
              "ticks": "outside"
             }
            },
            "type": "parcoords"
           }
          ],
          "pie": [
           {
            "automargin": true,
            "type": "pie"
           }
          ],
          "scatter": [
           {
            "marker": {
             "colorbar": {
              "outlinewidth": 1,
              "tickcolor": "rgb(36,36,36)",
              "ticks": "outside"
             }
            },
            "type": "scatter"
           }
          ],
          "scatter3d": [
           {
            "line": {
             "colorbar": {
              "outlinewidth": 1,
              "tickcolor": "rgb(36,36,36)",
              "ticks": "outside"
             }
            },
            "marker": {
             "colorbar": {
              "outlinewidth": 1,
              "tickcolor": "rgb(36,36,36)",
              "ticks": "outside"
             }
            },
            "type": "scatter3d"
           }
          ],
          "scattercarpet": [
           {
            "marker": {
             "colorbar": {
              "outlinewidth": 1,
              "tickcolor": "rgb(36,36,36)",
              "ticks": "outside"
             }
            },
            "type": "scattercarpet"
           }
          ],
          "scattergeo": [
           {
            "marker": {
             "colorbar": {
              "outlinewidth": 1,
              "tickcolor": "rgb(36,36,36)",
              "ticks": "outside"
             }
            },
            "type": "scattergeo"
           }
          ],
          "scattergl": [
           {
            "marker": {
             "colorbar": {
              "outlinewidth": 1,
              "tickcolor": "rgb(36,36,36)",
              "ticks": "outside"
             }
            },
            "type": "scattergl"
           }
          ],
          "scattermapbox": [
           {
            "marker": {
             "colorbar": {
              "outlinewidth": 1,
              "tickcolor": "rgb(36,36,36)",
              "ticks": "outside"
             }
            },
            "type": "scattermapbox"
           }
          ],
          "scatterpolar": [
           {
            "marker": {
             "colorbar": {
              "outlinewidth": 1,
              "tickcolor": "rgb(36,36,36)",
              "ticks": "outside"
             }
            },
            "type": "scatterpolar"
           }
          ],
          "scatterpolargl": [
           {
            "marker": {
             "colorbar": {
              "outlinewidth": 1,
              "tickcolor": "rgb(36,36,36)",
              "ticks": "outside"
             }
            },
            "type": "scatterpolargl"
           }
          ],
          "scatterternary": [
           {
            "marker": {
             "colorbar": {
              "outlinewidth": 1,
              "tickcolor": "rgb(36,36,36)",
              "ticks": "outside"
             }
            },
            "type": "scatterternary"
           }
          ],
          "surface": [
           {
            "colorbar": {
             "outlinewidth": 1,
             "tickcolor": "rgb(36,36,36)",
             "ticks": "outside"
            },
            "colorscale": [
             [
              0,
              "#440154"
             ],
             [
              0.1111111111111111,
              "#482878"
             ],
             [
              0.2222222222222222,
              "#3e4989"
             ],
             [
              0.3333333333333333,
              "#31688e"
             ],
             [
              0.4444444444444444,
              "#26828e"
             ],
             [
              0.5555555555555556,
              "#1f9e89"
             ],
             [
              0.6666666666666666,
              "#35b779"
             ],
             [
              0.7777777777777778,
              "#6ece58"
             ],
             [
              0.8888888888888888,
              "#b5de2b"
             ],
             [
              1,
              "#fde725"
             ]
            ],
            "type": "surface"
           }
          ],
          "table": [
           {
            "cells": {
             "fill": {
              "color": "rgb(237,237,237)"
             },
             "line": {
              "color": "white"
             }
            },
            "header": {
             "fill": {
              "color": "rgb(217,217,217)"
             },
             "line": {
              "color": "white"
             }
            },
            "type": "table"
           }
          ]
         },
         "layout": {
          "annotationdefaults": {
           "arrowhead": 0,
           "arrowwidth": 1
          },
          "autotypenumbers": "strict",
          "coloraxis": {
           "colorbar": {
            "outlinewidth": 1,
            "tickcolor": "rgb(36,36,36)",
            "ticks": "outside"
           }
          },
          "colorscale": {
           "diverging": [
            [
             0,
             "rgb(103,0,31)"
            ],
            [
             0.1,
             "rgb(178,24,43)"
            ],
            [
             0.2,
             "rgb(214,96,77)"
            ],
            [
             0.3,
             "rgb(244,165,130)"
            ],
            [
             0.4,
             "rgb(253,219,199)"
            ],
            [
             0.5,
             "rgb(247,247,247)"
            ],
            [
             0.6,
             "rgb(209,229,240)"
            ],
            [
             0.7,
             "rgb(146,197,222)"
            ],
            [
             0.8,
             "rgb(67,147,195)"
            ],
            [
             0.9,
             "rgb(33,102,172)"
            ],
            [
             1,
             "rgb(5,48,97)"
            ]
           ],
           "sequential": [
            [
             0,
             "#440154"
            ],
            [
             0.1111111111111111,
             "#482878"
            ],
            [
             0.2222222222222222,
             "#3e4989"
            ],
            [
             0.3333333333333333,
             "#31688e"
            ],
            [
             0.4444444444444444,
             "#26828e"
            ],
            [
             0.5555555555555556,
             "#1f9e89"
            ],
            [
             0.6666666666666666,
             "#35b779"
            ],
            [
             0.7777777777777778,
             "#6ece58"
            ],
            [
             0.8888888888888888,
             "#b5de2b"
            ],
            [
             1,
             "#fde725"
            ]
           ],
           "sequentialminus": [
            [
             0,
             "#440154"
            ],
            [
             0.1111111111111111,
             "#482878"
            ],
            [
             0.2222222222222222,
             "#3e4989"
            ],
            [
             0.3333333333333333,
             "#31688e"
            ],
            [
             0.4444444444444444,
             "#26828e"
            ],
            [
             0.5555555555555556,
             "#1f9e89"
            ],
            [
             0.6666666666666666,
             "#35b779"
            ],
            [
             0.7777777777777778,
             "#6ece58"
            ],
            [
             0.8888888888888888,
             "#b5de2b"
            ],
            [
             1,
             "#fde725"
            ]
           ]
          },
          "colorway": [
           "#1F77B4",
           "#FF7F0E",
           "#2CA02C",
           "#D62728",
           "#9467BD",
           "#8C564B",
           "#E377C2",
           "#7F7F7F",
           "#BCBD22",
           "#17BECF"
          ],
          "font": {
           "color": "rgb(36,36,36)"
          },
          "geo": {
           "bgcolor": "white",
           "lakecolor": "white",
           "landcolor": "white",
           "showlakes": true,
           "showland": true,
           "subunitcolor": "white"
          },
          "hoverlabel": {
           "align": "left"
          },
          "hovermode": "closest",
          "mapbox": {
           "style": "light"
          },
          "paper_bgcolor": "white",
          "plot_bgcolor": "white",
          "polar": {
           "angularaxis": {
            "gridcolor": "rgb(232,232,232)",
            "linecolor": "rgb(36,36,36)",
            "showgrid": false,
            "showline": true,
            "ticks": "outside"
           },
           "bgcolor": "white",
           "radialaxis": {
            "gridcolor": "rgb(232,232,232)",
            "linecolor": "rgb(36,36,36)",
            "showgrid": false,
            "showline": true,
            "ticks": "outside"
           }
          },
          "scene": {
           "xaxis": {
            "backgroundcolor": "white",
            "gridcolor": "rgb(232,232,232)",
            "gridwidth": 2,
            "linecolor": "rgb(36,36,36)",
            "showbackground": true,
            "showgrid": false,
            "showline": true,
            "ticks": "outside",
            "zeroline": false,
            "zerolinecolor": "rgb(36,36,36)"
           },
           "yaxis": {
            "backgroundcolor": "white",
            "gridcolor": "rgb(232,232,232)",
            "gridwidth": 2,
            "linecolor": "rgb(36,36,36)",
            "showbackground": true,
            "showgrid": false,
            "showline": true,
            "ticks": "outside",
            "zeroline": false,
            "zerolinecolor": "rgb(36,36,36)"
           },
           "zaxis": {
            "backgroundcolor": "white",
            "gridcolor": "rgb(232,232,232)",
            "gridwidth": 2,
            "linecolor": "rgb(36,36,36)",
            "showbackground": true,
            "showgrid": false,
            "showline": true,
            "ticks": "outside",
            "zeroline": false,
            "zerolinecolor": "rgb(36,36,36)"
           }
          },
          "shapedefaults": {
           "fillcolor": "black",
           "line": {
            "width": 0
           },
           "opacity": 0.3
          },
          "ternary": {
           "aaxis": {
            "gridcolor": "rgb(232,232,232)",
            "linecolor": "rgb(36,36,36)",
            "showgrid": false,
            "showline": true,
            "ticks": "outside"
           },
           "baxis": {
            "gridcolor": "rgb(232,232,232)",
            "linecolor": "rgb(36,36,36)",
            "showgrid": false,
            "showline": true,
            "ticks": "outside"
           },
           "bgcolor": "white",
           "caxis": {
            "gridcolor": "rgb(232,232,232)",
            "linecolor": "rgb(36,36,36)",
            "showgrid": false,
            "showline": true,
            "ticks": "outside"
           }
          },
          "title": {
           "x": 0.05
          },
          "xaxis": {
           "automargin": true,
           "gridcolor": "rgb(232,232,232)",
           "linecolor": "rgb(36,36,36)",
           "showgrid": false,
           "showline": true,
           "ticks": "outside",
           "title": {
            "standoff": 15
           },
           "zeroline": false,
           "zerolinecolor": "rgb(36,36,36)"
          },
          "yaxis": {
           "automargin": true,
           "gridcolor": "rgb(232,232,232)",
           "linecolor": "rgb(36,36,36)",
           "showgrid": false,
           "showline": true,
           "ticks": "outside",
           "title": {
            "standoff": 15
           },
           "zeroline": false,
           "zerolinecolor": "rgb(36,36,36)"
          }
         }
        },
        "title": {
         "text": "Сегмент 3й. Покупка товаров разных категорий по месяцам"
        },
        "xaxis": {
         "anchor": "y",
         "domain": [
          0,
          1
         ],
         "title": {
          "text": "месяц"
         }
        },
        "yaxis": {
         "anchor": "x",
         "domain": [
          0,
          1
         ],
         "title": {
          "text": "кол-во проданного товара"
         }
        }
       }
      },
      "text/html": [
       "<div>                            <div id=\"75a771ef-dc0e-4502-ae8a-290f3b5d6dc0\" class=\"plotly-graph-div\" style=\"height:525px; width:100%;\"></div>            <script type=\"text/javascript\">                require([\"plotly\"], function(Plotly) {                    window.PLOTLYENV=window.PLOTLYENV || {};                                    if (document.getElementById(\"75a771ef-dc0e-4502-ae8a-290f3b5d6dc0\")) {                    Plotly.newPlot(                        \"75a771ef-dc0e-4502-ae8a-290f3b5d6dc0\",                        [{\"hovertemplate\":\"\\u043a\\u0430\\u0442\\u0435\\u0433\\u043e\\u0440\\u0438\\u044f \\u0442\\u043e\\u0432\\u0430\\u0440\\u0430=\\u0438\\u043d\\u0442\\u0435\\u0440\\u044c\\u0435\\u0440, \\u043c\\u0435\\u0431\\u0435\\u043b\\u044c<br>\\u043c\\u0435\\u0441\\u044f\\u0446=%{x}<br>\\u043a\\u043e\\u043b-\\u0432\\u043e \\u043f\\u0440\\u043e\\u0434\\u0430\\u043d\\u043d\\u043e\\u0433\\u043e \\u0442\\u043e\\u0432\\u0430\\u0440\\u0430=%{y}<extra></extra>\",\"legendgroup\":\"\\u0438\\u043d\\u0442\\u0435\\u0440\\u044c\\u0435\\u0440, \\u043c\\u0435\\u0431\\u0435\\u043b\\u044c\",\"line\":{\"color\":\"rgb(229, 134, 6)\",\"dash\":\"solid\",\"shape\":\"spline\",\"width\":3},\"marker\":{\"symbol\":\"circle\"},\"mode\":\"markers+lines\",\"name\":\"\\u0438\\u043d\\u0442\\u0435\\u0440\\u044c\\u0435\\u0440, \\u043c\\u0435\\u0431\\u0435\\u043b\\u044c\",\"orientation\":\"v\",\"showlegend\":true,\"x\":[\"2018-10-01T00:00:00\",\"2018-11-01T00:00:00\",\"2018-12-01T00:00:00\",\"2019-01-01T00:00:00\",\"2019-02-01T00:00:00\",\"2019-03-01T00:00:00\",\"2019-04-01T00:00:00\",\"2019-05-01T00:00:00\",\"2019-07-01T00:00:00\",\"2019-08-01T00:00:00\",\"2019-09-01T00:00:00\",\"2019-11-01T00:00:00\",\"2019-12-01T00:00:00\",\"2020-01-01T00:00:00\"],\"xaxis\":\"x\",\"y\":[2,1,10,4,2,3,2,2,4,2,2,7,12,12],\"yaxis\":\"y\",\"type\":\"scatter\"},{\"hovertemplate\":\"\\u043a\\u0430\\u0442\\u0435\\u0433\\u043e\\u0440\\u0438\\u044f \\u0442\\u043e\\u0432\\u0430\\u0440\\u0430=\\u043f\\u043e\\u0441\\u0443\\u0434\\u0430, \\u0442\\u043e\\u0432\\u0430\\u0440\\u044b \\u0434\\u043b\\u044f \\u043a\\u0443\\u0445\\u043d\\u0438<br>\\u043c\\u0435\\u0441\\u044f\\u0446=%{x}<br>\\u043a\\u043e\\u043b-\\u0432\\u043e \\u043f\\u0440\\u043e\\u0434\\u0430\\u043d\\u043d\\u043e\\u0433\\u043e \\u0442\\u043e\\u0432\\u0430\\u0440\\u0430=%{y}<extra></extra>\",\"legendgroup\":\"\\u043f\\u043e\\u0441\\u0443\\u0434\\u0430, \\u0442\\u043e\\u0432\\u0430\\u0440\\u044b \\u0434\\u043b\\u044f \\u043a\\u0443\\u0445\\u043d\\u0438\",\"line\":{\"color\":\"rgb(93, 105, 177)\",\"dash\":\"solid\",\"shape\":\"spline\",\"width\":3},\"marker\":{\"symbol\":\"circle\"},\"mode\":\"markers+lines\",\"name\":\"\\u043f\\u043e\\u0441\\u0443\\u0434\\u0430, \\u0442\\u043e\\u0432\\u0430\\u0440\\u044b \\u0434\\u043b\\u044f \\u043a\\u0443\\u0445\\u043d\\u0438\",\"orientation\":\"v\",\"showlegend\":true,\"x\":[\"2018-10-01T00:00:00\",\"2018-11-01T00:00:00\",\"2018-12-01T00:00:00\",\"2019-01-01T00:00:00\",\"2019-02-01T00:00:00\",\"2019-03-01T00:00:00\",\"2019-04-01T00:00:00\",\"2019-05-01T00:00:00\",\"2019-06-01T00:00:00\",\"2019-07-01T00:00:00\",\"2019-08-01T00:00:00\",\"2019-09-01T00:00:00\",\"2019-10-01T00:00:00\",\"2019-11-01T00:00:00\",\"2019-12-01T00:00:00\",\"2020-01-01T00:00:00\"],\"xaxis\":\"x\",\"y\":[4,2,7,4,13,6,1,3,1,5,3,6,6,24,27,33],\"yaxis\":\"y\",\"type\":\"scatter\"},{\"hovertemplate\":\"\\u043a\\u0430\\u0442\\u0435\\u0433\\u043e\\u0440\\u0438\\u044f \\u0442\\u043e\\u0432\\u0430\\u0440\\u0430=\\u043f\\u0440\\u0435\\u0434\\u043c\\u0435\\u0442\\u044b \\u0434\\u043b\\u044f \\u0432\\u0430\\u043d\\u043d\\u043e\\u0439 \\u043a\\u043e\\u043c\\u043d\\u0430\\u0442\\u044b<br>\\u043c\\u0435\\u0441\\u044f\\u0446=%{x}<br>\\u043a\\u043e\\u043b-\\u0432\\u043e \\u043f\\u0440\\u043e\\u0434\\u0430\\u043d\\u043d\\u043e\\u0433\\u043e \\u0442\\u043e\\u0432\\u0430\\u0440\\u0430=%{y}<extra></extra>\",\"legendgroup\":\"\\u043f\\u0440\\u0435\\u0434\\u043c\\u0435\\u0442\\u044b \\u0434\\u043b\\u044f \\u0432\\u0430\\u043d\\u043d\\u043e\\u0439 \\u043a\\u043e\\u043c\\u043d\\u0430\\u0442\\u044b\",\"line\":{\"color\":\"rgb(82, 188, 163)\",\"dash\":\"solid\",\"shape\":\"spline\",\"width\":3},\"marker\":{\"symbol\":\"circle\"},\"mode\":\"markers+lines\",\"name\":\"\\u043f\\u0440\\u0435\\u0434\\u043c\\u0435\\u0442\\u044b \\u0434\\u043b\\u044f \\u0432\\u0430\\u043d\\u043d\\u043e\\u0439 \\u043a\\u043e\\u043c\\u043d\\u0430\\u0442\\u044b\",\"orientation\":\"v\",\"showlegend\":true,\"x\":[\"2018-10-01T00:00:00\",\"2018-11-01T00:00:00\",\"2018-12-01T00:00:00\",\"2019-01-01T00:00:00\",\"2019-02-01T00:00:00\",\"2019-03-01T00:00:00\",\"2019-04-01T00:00:00\",\"2019-05-01T00:00:00\",\"2019-06-01T00:00:00\",\"2019-07-01T00:00:00\",\"2019-08-01T00:00:00\",\"2019-09-01T00:00:00\",\"2019-11-01T00:00:00\",\"2019-12-01T00:00:00\",\"2020-01-01T00:00:00\"],\"xaxis\":\"x\",\"y\":[4,3,6,2,6,8,5,1,2,2,2,1,7,11,4],\"yaxis\":\"y\",\"type\":\"scatter\"},{\"hovertemplate\":\"\\u043a\\u0430\\u0442\\u0435\\u0433\\u043e\\u0440\\u0438\\u044f \\u0442\\u043e\\u0432\\u0430\\u0440\\u0430=\\u0440\\u0430\\u0441\\u0441\\u0430\\u0434\\u0430 \\u0438 \\u0440\\u0430\\u0441\\u0442\\u0435\\u043d\\u0438\\u044f<br>\\u043c\\u0435\\u0441\\u044f\\u0446=%{x}<br>\\u043a\\u043e\\u043b-\\u0432\\u043e \\u043f\\u0440\\u043e\\u0434\\u0430\\u043d\\u043d\\u043e\\u0433\\u043e \\u0442\\u043e\\u0432\\u0430\\u0440\\u0430=%{y}<extra></extra>\",\"legendgroup\":\"\\u0440\\u0430\\u0441\\u0441\\u0430\\u0434\\u0430 \\u0438 \\u0440\\u0430\\u0441\\u0442\\u0435\\u043d\\u0438\\u044f\",\"line\":{\"color\":\"rgb(153, 201, 69)\",\"dash\":\"solid\",\"shape\":\"spline\",\"width\":3},\"marker\":{\"symbol\":\"circle\"},\"mode\":\"markers+lines\",\"name\":\"\\u0440\\u0430\\u0441\\u0441\\u0430\\u0434\\u0430 \\u0438 \\u0440\\u0430\\u0441\\u0442\\u0435\\u043d\\u0438\\u044f\",\"orientation\":\"v\",\"showlegend\":true,\"x\":[\"2018-10-01T00:00:00\",\"2018-11-01T00:00:00\",\"2018-12-01T00:00:00\",\"2019-01-01T00:00:00\",\"2019-02-01T00:00:00\",\"2019-03-01T00:00:00\",\"2019-04-01T00:00:00\",\"2019-05-01T00:00:00\",\"2019-06-01T00:00:00\",\"2019-07-01T00:00:00\",\"2019-08-01T00:00:00\",\"2019-09-01T00:00:00\",\"2019-10-01T00:00:00\",\"2019-11-01T00:00:00\",\"2019-12-01T00:00:00\",\"2020-01-01T00:00:00\"],\"xaxis\":\"x\",\"y\":[6,7,7,10,30,24,27,9,10,13,15,24,129,116,115,155],\"yaxis\":\"y\",\"type\":\"scatter\"},{\"hovertemplate\":\"\\u043a\\u0430\\u0442\\u0435\\u0433\\u043e\\u0440\\u0438\\u044f \\u0442\\u043e\\u0432\\u0430\\u0440\\u0430=\\u0445\\u043e\\u0437\\u0442\\u043e\\u0432\\u0430\\u0440\\u044b<br>\\u043c\\u0435\\u0441\\u044f\\u0446=%{x}<br>\\u043a\\u043e\\u043b-\\u0432\\u043e \\u043f\\u0440\\u043e\\u0434\\u0430\\u043d\\u043d\\u043e\\u0433\\u043e \\u0442\\u043e\\u0432\\u0430\\u0440\\u0430=%{y}<extra></extra>\",\"legendgroup\":\"\\u0445\\u043e\\u0437\\u0442\\u043e\\u0432\\u0430\\u0440\\u044b\",\"line\":{\"color\":\"rgb(204, 97, 176)\",\"dash\":\"solid\",\"shape\":\"spline\",\"width\":3},\"marker\":{\"symbol\":\"circle\"},\"mode\":\"markers+lines\",\"name\":\"\\u0445\\u043e\\u0437\\u0442\\u043e\\u0432\\u0430\\u0440\\u044b\",\"orientation\":\"v\",\"showlegend\":true,\"x\":[\"2018-10-01T00:00:00\",\"2018-11-01T00:00:00\",\"2018-12-01T00:00:00\",\"2019-01-01T00:00:00\",\"2019-02-01T00:00:00\",\"2019-03-01T00:00:00\",\"2019-04-01T00:00:00\",\"2019-05-01T00:00:00\",\"2019-06-01T00:00:00\",\"2019-07-01T00:00:00\",\"2019-08-01T00:00:00\",\"2019-09-01T00:00:00\",\"2019-10-01T00:00:00\",\"2019-11-01T00:00:00\",\"2019-12-01T00:00:00\",\"2020-01-01T00:00:00\"],\"xaxis\":\"x\",\"y\":[31,30,43,24,43,40,44,28,33,45,33,37,130,63,87,81],\"yaxis\":\"y\",\"type\":\"scatter\"},{\"hovertemplate\":\"\\u043a\\u0430\\u0442\\u0435\\u0433\\u043e\\u0440\\u0438\\u044f \\u0442\\u043e\\u0432\\u0430\\u0440\\u0430=\\u0442\\u0435\\u043a\\u0441\\u0442\\u0438\\u043b\\u044c<br>\\u043c\\u0435\\u0441\\u044f\\u0446=%{x}<br>\\u043a\\u043e\\u043b-\\u0432\\u043e \\u043f\\u0440\\u043e\\u0434\\u0430\\u043d\\u043d\\u043e\\u0433\\u043e \\u0442\\u043e\\u0432\\u0430\\u0440\\u0430=%{y}<extra></extra>\",\"legendgroup\":\"\\u0442\\u0435\\u043a\\u0441\\u0442\\u0438\\u043b\\u044c\",\"line\":{\"color\":\"rgb(36, 121, 108)\",\"dash\":\"solid\",\"shape\":\"spline\",\"width\":3},\"marker\":{\"symbol\":\"circle\"},\"mode\":\"markers+lines\",\"name\":\"\\u0442\\u0435\\u043a\\u0441\\u0442\\u0438\\u043b\\u044c\",\"orientation\":\"v\",\"showlegend\":true,\"x\":[\"2018-11-01T00:00:00\",\"2018-12-01T00:00:00\",\"2019-01-01T00:00:00\",\"2019-03-01T00:00:00\",\"2019-04-01T00:00:00\",\"2019-05-01T00:00:00\",\"2019-06-01T00:00:00\",\"2019-09-01T00:00:00\",\"2019-10-01T00:00:00\",\"2019-11-01T00:00:00\",\"2019-12-01T00:00:00\",\"2020-01-01T00:00:00\"],\"xaxis\":\"x\",\"y\":[3,3,2,1,1,1,2,1,2,6,2,2],\"yaxis\":\"y\",\"type\":\"scatter\"},{\"hovertemplate\":\"\\u043a\\u0430\\u0442\\u0435\\u0433\\u043e\\u0440\\u0438\\u044f \\u0442\\u043e\\u0432\\u0430\\u0440\\u0430=\\u0434\\u0435\\u043a\\u043e\\u0440<br>\\u043c\\u0435\\u0441\\u044f\\u0446=%{x}<br>\\u043a\\u043e\\u043b-\\u0432\\u043e \\u043f\\u0440\\u043e\\u0434\\u0430\\u043d\\u043d\\u043e\\u0433\\u043e \\u0442\\u043e\\u0432\\u0430\\u0440\\u0430=%{y}<extra></extra>\",\"legendgroup\":\"\\u0434\\u0435\\u043a\\u043e\\u0440\",\"line\":{\"color\":\"rgb(218, 165, 27)\",\"dash\":\"solid\",\"shape\":\"spline\",\"width\":3},\"marker\":{\"symbol\":\"circle\"},\"mode\":\"markers+lines\",\"name\":\"\\u0434\\u0435\\u043a\\u043e\\u0440\",\"orientation\":\"v\",\"showlegend\":true,\"x\":[\"2018-12-01T00:00:00\",\"2019-02-01T00:00:00\",\"2019-10-01T00:00:00\",\"2019-11-01T00:00:00\",\"2019-12-01T00:00:00\",\"2020-01-01T00:00:00\"],\"xaxis\":\"x\",\"y\":[2,2,53,8,6,10],\"yaxis\":\"y\",\"type\":\"scatter\"},{\"hovertemplate\":\"\\u043a\\u0430\\u0442\\u0435\\u0433\\u043e\\u0440\\u0438\\u044f \\u0442\\u043e\\u0432\\u0430\\u0440\\u0430=\\u0438\\u043d\\u0441\\u0442\\u0440\\u0443\\u043c\\u0435\\u043d\\u0442\\u044b, \\u0442\\u0430\\u043a\\u0435\\u043b\\u0430\\u0436<br>\\u043c\\u0435\\u0441\\u044f\\u0446=%{x}<br>\\u043a\\u043e\\u043b-\\u0432\\u043e \\u043f\\u0440\\u043e\\u0434\\u0430\\u043d\\u043d\\u043e\\u0433\\u043e \\u0442\\u043e\\u0432\\u0430\\u0440\\u0430=%{y}<extra></extra>\",\"legendgroup\":\"\\u0438\\u043d\\u0441\\u0442\\u0440\\u0443\\u043c\\u0435\\u043d\\u0442\\u044b, \\u0442\\u0430\\u043a\\u0435\\u043b\\u0430\\u0436\",\"line\":{\"color\":\"rgb(47, 138, 196)\",\"dash\":\"solid\",\"shape\":\"spline\",\"width\":3},\"marker\":{\"symbol\":\"circle\"},\"mode\":\"markers+lines\",\"name\":\"\\u0438\\u043d\\u0441\\u0442\\u0440\\u0443\\u043c\\u0435\\u043d\\u0442\\u044b, \\u0442\\u0430\\u043a\\u0435\\u043b\\u0430\\u0436\",\"orientation\":\"v\",\"showlegend\":true,\"x\":[\"2018-12-01T00:00:00\",\"2019-01-01T00:00:00\",\"2019-02-01T00:00:00\",\"2019-03-01T00:00:00\",\"2019-04-01T00:00:00\",\"2019-05-01T00:00:00\",\"2019-08-01T00:00:00\",\"2019-10-01T00:00:00\",\"2019-11-01T00:00:00\",\"2019-12-01T00:00:00\",\"2020-01-01T00:00:00\"],\"xaxis\":\"x\",\"y\":[1,2,2,1,1,1,1,1,5,3,4],\"yaxis\":\"y\",\"type\":\"scatter\"},{\"hovertemplate\":\"\\u043a\\u0430\\u0442\\u0435\\u0433\\u043e\\u0440\\u0438\\u044f \\u0442\\u043e\\u0432\\u0430\\u0440\\u0430=\\u0444\\u0443\\u0440\\u043d\\u0438\\u0442\\u0443\\u0440\\u0430<br>\\u043c\\u0435\\u0441\\u044f\\u0446=%{x}<br>\\u043a\\u043e\\u043b-\\u0432\\u043e \\u043f\\u0440\\u043e\\u0434\\u0430\\u043d\\u043d\\u043e\\u0433\\u043e \\u0442\\u043e\\u0432\\u0430\\u0440\\u0430=%{y}<extra></extra>\",\"legendgroup\":\"\\u0444\\u0443\\u0440\\u043d\\u0438\\u0442\\u0443\\u0440\\u0430\",\"line\":{\"color\":\"rgb(118, 78, 159)\",\"dash\":\"solid\",\"shape\":\"spline\",\"width\":3},\"marker\":{\"symbol\":\"circle\"},\"mode\":\"markers+lines\",\"name\":\"\\u0444\\u0443\\u0440\\u043d\\u0438\\u0442\\u0443\\u0440\\u0430\",\"orientation\":\"v\",\"showlegend\":true,\"x\":[\"2019-10-01T00:00:00\",\"2019-12-01T00:00:00\"],\"xaxis\":\"x\",\"y\":[100,1],\"yaxis\":\"y\",\"type\":\"scatter\"},{\"hovertemplate\":\"\\u043a\\u0430\\u0442\\u0435\\u0433\\u043e\\u0440\\u0438\\u044f \\u0442\\u043e\\u0432\\u0430\\u0440\\u0430=\\u044d\\u043b\\u0435\\u043a\\u0442\\u0440\\u043e\\u043f\\u0440\\u0438\\u0431\\u043e\\u0440\\u044b<br>\\u043c\\u0435\\u0441\\u044f\\u0446=%{x}<br>\\u043a\\u043e\\u043b-\\u0432\\u043e \\u043f\\u0440\\u043e\\u0434\\u0430\\u043d\\u043d\\u043e\\u0433\\u043e \\u0442\\u043e\\u0432\\u0430\\u0440\\u0430=%{y}<extra></extra>\",\"legendgroup\":\"\\u044d\\u043b\\u0435\\u043a\\u0442\\u0440\\u043e\\u043f\\u0440\\u0438\\u0431\\u043e\\u0440\\u044b\",\"line\":{\"color\":\"rgb(237, 100, 90)\",\"dash\":\"solid\",\"shape\":\"spline\",\"width\":3},\"marker\":{\"symbol\":\"circle\"},\"mode\":\"markers+lines\",\"name\":\"\\u044d\\u043b\\u0435\\u043a\\u0442\\u0440\\u043e\\u043f\\u0440\\u0438\\u0431\\u043e\\u0440\\u044b\",\"orientation\":\"v\",\"showlegend\":true,\"x\":[\"2019-10-01T00:00:00\"],\"xaxis\":\"x\",\"y\":[4],\"yaxis\":\"y\",\"type\":\"scatter\"},{\"hovertemplate\":\"\\u043a\\u0430\\u0442\\u0435\\u0433\\u043e\\u0440\\u0438\\u044f \\u0442\\u043e\\u0432\\u0430\\u0440\\u0430=\\u043f\\u043e\\u0434\\u0430\\u0440\\u043a\\u0438 \\u043d\\u0430 \\u043f\\u0440\\u0430\\u0437\\u0434\\u043d\\u0438\\u043a\\u0438<br>\\u043c\\u0435\\u0441\\u044f\\u0446=%{x}<br>\\u043a\\u043e\\u043b-\\u0432\\u043e \\u043f\\u0440\\u043e\\u0434\\u0430\\u043d\\u043d\\u043e\\u0433\\u043e \\u0442\\u043e\\u0432\\u0430\\u0440\\u0430=%{y}<extra></extra>\",\"legendgroup\":\"\\u043f\\u043e\\u0434\\u0430\\u0440\\u043a\\u0438 \\u043d\\u0430 \\u043f\\u0440\\u0430\\u0437\\u0434\\u043d\\u0438\\u043a\\u0438\",\"line\":{\"color\":\"rgb(165, 170, 153)\",\"dash\":\"solid\",\"shape\":\"spline\",\"width\":3},\"marker\":{\"symbol\":\"circle\"},\"mode\":\"markers+lines\",\"name\":\"\\u043f\\u043e\\u0434\\u0430\\u0440\\u043a\\u0438 \\u043d\\u0430 \\u043f\\u0440\\u0430\\u0437\\u0434\\u043d\\u0438\\u043a\\u0438\",\"orientation\":\"v\",\"showlegend\":true,\"x\":[\"2019-12-01T00:00:00\"],\"xaxis\":\"x\",\"y\":[1],\"yaxis\":\"y\",\"type\":\"scatter\"}],                        {\"template\":{\"data\":{\"barpolar\":[{\"marker\":{\"line\":{\"color\":\"white\",\"width\":0.5},\"pattern\":{\"fillmode\":\"overlay\",\"size\":10,\"solidity\":0.2}},\"type\":\"barpolar\"}],\"bar\":[{\"error_x\":{\"color\":\"rgb(36,36,36)\"},\"error_y\":{\"color\":\"rgb(36,36,36)\"},\"marker\":{\"line\":{\"color\":\"white\",\"width\":0.5},\"pattern\":{\"fillmode\":\"overlay\",\"size\":10,\"solidity\":0.2}},\"type\":\"bar\"}],\"carpet\":[{\"aaxis\":{\"endlinecolor\":\"rgb(36,36,36)\",\"gridcolor\":\"white\",\"linecolor\":\"white\",\"minorgridcolor\":\"white\",\"startlinecolor\":\"rgb(36,36,36)\"},\"baxis\":{\"endlinecolor\":\"rgb(36,36,36)\",\"gridcolor\":\"white\",\"linecolor\":\"white\",\"minorgridcolor\":\"white\",\"startlinecolor\":\"rgb(36,36,36)\"},\"type\":\"carpet\"}],\"choropleth\":[{\"colorbar\":{\"outlinewidth\":1,\"tickcolor\":\"rgb(36,36,36)\",\"ticks\":\"outside\"},\"type\":\"choropleth\"}],\"contourcarpet\":[{\"colorbar\":{\"outlinewidth\":1,\"tickcolor\":\"rgb(36,36,36)\",\"ticks\":\"outside\"},\"type\":\"contourcarpet\"}],\"contour\":[{\"colorbar\":{\"outlinewidth\":1,\"tickcolor\":\"rgb(36,36,36)\",\"ticks\":\"outside\"},\"colorscale\":[[0.0,\"#440154\"],[0.1111111111111111,\"#482878\"],[0.2222222222222222,\"#3e4989\"],[0.3333333333333333,\"#31688e\"],[0.4444444444444444,\"#26828e\"],[0.5555555555555556,\"#1f9e89\"],[0.6666666666666666,\"#35b779\"],[0.7777777777777778,\"#6ece58\"],[0.8888888888888888,\"#b5de2b\"],[1.0,\"#fde725\"]],\"type\":\"contour\"}],\"heatmapgl\":[{\"colorbar\":{\"outlinewidth\":1,\"tickcolor\":\"rgb(36,36,36)\",\"ticks\":\"outside\"},\"colorscale\":[[0.0,\"#440154\"],[0.1111111111111111,\"#482878\"],[0.2222222222222222,\"#3e4989\"],[0.3333333333333333,\"#31688e\"],[0.4444444444444444,\"#26828e\"],[0.5555555555555556,\"#1f9e89\"],[0.6666666666666666,\"#35b779\"],[0.7777777777777778,\"#6ece58\"],[0.8888888888888888,\"#b5de2b\"],[1.0,\"#fde725\"]],\"type\":\"heatmapgl\"}],\"heatmap\":[{\"colorbar\":{\"outlinewidth\":1,\"tickcolor\":\"rgb(36,36,36)\",\"ticks\":\"outside\"},\"colorscale\":[[0.0,\"#440154\"],[0.1111111111111111,\"#482878\"],[0.2222222222222222,\"#3e4989\"],[0.3333333333333333,\"#31688e\"],[0.4444444444444444,\"#26828e\"],[0.5555555555555556,\"#1f9e89\"],[0.6666666666666666,\"#35b779\"],[0.7777777777777778,\"#6ece58\"],[0.8888888888888888,\"#b5de2b\"],[1.0,\"#fde725\"]],\"type\":\"heatmap\"}],\"histogram2dcontour\":[{\"colorbar\":{\"outlinewidth\":1,\"tickcolor\":\"rgb(36,36,36)\",\"ticks\":\"outside\"},\"colorscale\":[[0.0,\"#440154\"],[0.1111111111111111,\"#482878\"],[0.2222222222222222,\"#3e4989\"],[0.3333333333333333,\"#31688e\"],[0.4444444444444444,\"#26828e\"],[0.5555555555555556,\"#1f9e89\"],[0.6666666666666666,\"#35b779\"],[0.7777777777777778,\"#6ece58\"],[0.8888888888888888,\"#b5de2b\"],[1.0,\"#fde725\"]],\"type\":\"histogram2dcontour\"}],\"histogram2d\":[{\"colorbar\":{\"outlinewidth\":1,\"tickcolor\":\"rgb(36,36,36)\",\"ticks\":\"outside\"},\"colorscale\":[[0.0,\"#440154\"],[0.1111111111111111,\"#482878\"],[0.2222222222222222,\"#3e4989\"],[0.3333333333333333,\"#31688e\"],[0.4444444444444444,\"#26828e\"],[0.5555555555555556,\"#1f9e89\"],[0.6666666666666666,\"#35b779\"],[0.7777777777777778,\"#6ece58\"],[0.8888888888888888,\"#b5de2b\"],[1.0,\"#fde725\"]],\"type\":\"histogram2d\"}],\"histogram\":[{\"marker\":{\"line\":{\"color\":\"white\",\"width\":0.6}},\"type\":\"histogram\"}],\"mesh3d\":[{\"colorbar\":{\"outlinewidth\":1,\"tickcolor\":\"rgb(36,36,36)\",\"ticks\":\"outside\"},\"type\":\"mesh3d\"}],\"parcoords\":[{\"line\":{\"colorbar\":{\"outlinewidth\":1,\"tickcolor\":\"rgb(36,36,36)\",\"ticks\":\"outside\"}},\"type\":\"parcoords\"}],\"pie\":[{\"automargin\":true,\"type\":\"pie\"}],\"scatter3d\":[{\"line\":{\"colorbar\":{\"outlinewidth\":1,\"tickcolor\":\"rgb(36,36,36)\",\"ticks\":\"outside\"}},\"marker\":{\"colorbar\":{\"outlinewidth\":1,\"tickcolor\":\"rgb(36,36,36)\",\"ticks\":\"outside\"}},\"type\":\"scatter3d\"}],\"scattercarpet\":[{\"marker\":{\"colorbar\":{\"outlinewidth\":1,\"tickcolor\":\"rgb(36,36,36)\",\"ticks\":\"outside\"}},\"type\":\"scattercarpet\"}],\"scattergeo\":[{\"marker\":{\"colorbar\":{\"outlinewidth\":1,\"tickcolor\":\"rgb(36,36,36)\",\"ticks\":\"outside\"}},\"type\":\"scattergeo\"}],\"scattergl\":[{\"marker\":{\"colorbar\":{\"outlinewidth\":1,\"tickcolor\":\"rgb(36,36,36)\",\"ticks\":\"outside\"}},\"type\":\"scattergl\"}],\"scattermapbox\":[{\"marker\":{\"colorbar\":{\"outlinewidth\":1,\"tickcolor\":\"rgb(36,36,36)\",\"ticks\":\"outside\"}},\"type\":\"scattermapbox\"}],\"scatterpolargl\":[{\"marker\":{\"colorbar\":{\"outlinewidth\":1,\"tickcolor\":\"rgb(36,36,36)\",\"ticks\":\"outside\"}},\"type\":\"scatterpolargl\"}],\"scatterpolar\":[{\"marker\":{\"colorbar\":{\"outlinewidth\":1,\"tickcolor\":\"rgb(36,36,36)\",\"ticks\":\"outside\"}},\"type\":\"scatterpolar\"}],\"scatter\":[{\"marker\":{\"colorbar\":{\"outlinewidth\":1,\"tickcolor\":\"rgb(36,36,36)\",\"ticks\":\"outside\"}},\"type\":\"scatter\"}],\"scatterternary\":[{\"marker\":{\"colorbar\":{\"outlinewidth\":1,\"tickcolor\":\"rgb(36,36,36)\",\"ticks\":\"outside\"}},\"type\":\"scatterternary\"}],\"surface\":[{\"colorbar\":{\"outlinewidth\":1,\"tickcolor\":\"rgb(36,36,36)\",\"ticks\":\"outside\"},\"colorscale\":[[0.0,\"#440154\"],[0.1111111111111111,\"#482878\"],[0.2222222222222222,\"#3e4989\"],[0.3333333333333333,\"#31688e\"],[0.4444444444444444,\"#26828e\"],[0.5555555555555556,\"#1f9e89\"],[0.6666666666666666,\"#35b779\"],[0.7777777777777778,\"#6ece58\"],[0.8888888888888888,\"#b5de2b\"],[1.0,\"#fde725\"]],\"type\":\"surface\"}],\"table\":[{\"cells\":{\"fill\":{\"color\":\"rgb(237,237,237)\"},\"line\":{\"color\":\"white\"}},\"header\":{\"fill\":{\"color\":\"rgb(217,217,217)\"},\"line\":{\"color\":\"white\"}},\"type\":\"table\"}]},\"layout\":{\"annotationdefaults\":{\"arrowhead\":0,\"arrowwidth\":1},\"autotypenumbers\":\"strict\",\"coloraxis\":{\"colorbar\":{\"outlinewidth\":1,\"tickcolor\":\"rgb(36,36,36)\",\"ticks\":\"outside\"}},\"colorscale\":{\"diverging\":[[0.0,\"rgb(103,0,31)\"],[0.1,\"rgb(178,24,43)\"],[0.2,\"rgb(214,96,77)\"],[0.3,\"rgb(244,165,130)\"],[0.4,\"rgb(253,219,199)\"],[0.5,\"rgb(247,247,247)\"],[0.6,\"rgb(209,229,240)\"],[0.7,\"rgb(146,197,222)\"],[0.8,\"rgb(67,147,195)\"],[0.9,\"rgb(33,102,172)\"],[1.0,\"rgb(5,48,97)\"]],\"sequential\":[[0.0,\"#440154\"],[0.1111111111111111,\"#482878\"],[0.2222222222222222,\"#3e4989\"],[0.3333333333333333,\"#31688e\"],[0.4444444444444444,\"#26828e\"],[0.5555555555555556,\"#1f9e89\"],[0.6666666666666666,\"#35b779\"],[0.7777777777777778,\"#6ece58\"],[0.8888888888888888,\"#b5de2b\"],[1.0,\"#fde725\"]],\"sequentialminus\":[[0.0,\"#440154\"],[0.1111111111111111,\"#482878\"],[0.2222222222222222,\"#3e4989\"],[0.3333333333333333,\"#31688e\"],[0.4444444444444444,\"#26828e\"],[0.5555555555555556,\"#1f9e89\"],[0.6666666666666666,\"#35b779\"],[0.7777777777777778,\"#6ece58\"],[0.8888888888888888,\"#b5de2b\"],[1.0,\"#fde725\"]]},\"colorway\":[\"#1F77B4\",\"#FF7F0E\",\"#2CA02C\",\"#D62728\",\"#9467BD\",\"#8C564B\",\"#E377C2\",\"#7F7F7F\",\"#BCBD22\",\"#17BECF\"],\"font\":{\"color\":\"rgb(36,36,36)\"},\"geo\":{\"bgcolor\":\"white\",\"lakecolor\":\"white\",\"landcolor\":\"white\",\"showlakes\":true,\"showland\":true,\"subunitcolor\":\"white\"},\"hoverlabel\":{\"align\":\"left\"},\"hovermode\":\"closest\",\"mapbox\":{\"style\":\"light\"},\"paper_bgcolor\":\"white\",\"plot_bgcolor\":\"white\",\"polar\":{\"angularaxis\":{\"gridcolor\":\"rgb(232,232,232)\",\"linecolor\":\"rgb(36,36,36)\",\"showgrid\":false,\"showline\":true,\"ticks\":\"outside\"},\"bgcolor\":\"white\",\"radialaxis\":{\"gridcolor\":\"rgb(232,232,232)\",\"linecolor\":\"rgb(36,36,36)\",\"showgrid\":false,\"showline\":true,\"ticks\":\"outside\"}},\"scene\":{\"xaxis\":{\"backgroundcolor\":\"white\",\"gridcolor\":\"rgb(232,232,232)\",\"gridwidth\":2,\"linecolor\":\"rgb(36,36,36)\",\"showbackground\":true,\"showgrid\":false,\"showline\":true,\"ticks\":\"outside\",\"zeroline\":false,\"zerolinecolor\":\"rgb(36,36,36)\"},\"yaxis\":{\"backgroundcolor\":\"white\",\"gridcolor\":\"rgb(232,232,232)\",\"gridwidth\":2,\"linecolor\":\"rgb(36,36,36)\",\"showbackground\":true,\"showgrid\":false,\"showline\":true,\"ticks\":\"outside\",\"zeroline\":false,\"zerolinecolor\":\"rgb(36,36,36)\"},\"zaxis\":{\"backgroundcolor\":\"white\",\"gridcolor\":\"rgb(232,232,232)\",\"gridwidth\":2,\"linecolor\":\"rgb(36,36,36)\",\"showbackground\":true,\"showgrid\":false,\"showline\":true,\"ticks\":\"outside\",\"zeroline\":false,\"zerolinecolor\":\"rgb(36,36,36)\"}},\"shapedefaults\":{\"fillcolor\":\"black\",\"line\":{\"width\":0},\"opacity\":0.3},\"ternary\":{\"aaxis\":{\"gridcolor\":\"rgb(232,232,232)\",\"linecolor\":\"rgb(36,36,36)\",\"showgrid\":false,\"showline\":true,\"ticks\":\"outside\"},\"baxis\":{\"gridcolor\":\"rgb(232,232,232)\",\"linecolor\":\"rgb(36,36,36)\",\"showgrid\":false,\"showline\":true,\"ticks\":\"outside\"},\"bgcolor\":\"white\",\"caxis\":{\"gridcolor\":\"rgb(232,232,232)\",\"linecolor\":\"rgb(36,36,36)\",\"showgrid\":false,\"showline\":true,\"ticks\":\"outside\"}},\"title\":{\"x\":0.05},\"xaxis\":{\"automargin\":true,\"gridcolor\":\"rgb(232,232,232)\",\"linecolor\":\"rgb(36,36,36)\",\"showgrid\":false,\"showline\":true,\"ticks\":\"outside\",\"title\":{\"standoff\":15},\"zeroline\":false,\"zerolinecolor\":\"rgb(36,36,36)\"},\"yaxis\":{\"automargin\":true,\"gridcolor\":\"rgb(232,232,232)\",\"linecolor\":\"rgb(36,36,36)\",\"showgrid\":false,\"showline\":true,\"ticks\":\"outside\",\"title\":{\"standoff\":15},\"zeroline\":false,\"zerolinecolor\":\"rgb(36,36,36)\"}}},\"xaxis\":{\"anchor\":\"y\",\"domain\":[0.0,1.0],\"title\":{\"text\":\"\\u043c\\u0435\\u0441\\u044f\\u0446\"}},\"yaxis\":{\"anchor\":\"x\",\"domain\":[0.0,1.0],\"title\":{\"text\":\"\\u043a\\u043e\\u043b-\\u0432\\u043e \\u043f\\u0440\\u043e\\u0434\\u0430\\u043d\\u043d\\u043e\\u0433\\u043e \\u0442\\u043e\\u0432\\u0430\\u0440\\u0430\"}},\"legend\":{\"title\":{\"text\":\"\\u043a\\u0430\\u0442\\u0435\\u0433\\u043e\\u0440\\u0438\\u044f \\u0442\\u043e\\u0432\\u0430\\u0440\\u0430\"},\"tracegroupgap\":0},\"title\":{\"text\":\"\\u0421\\u0435\\u0433\\u043c\\u0435\\u043d\\u0442 3\\u0439. \\u041f\\u043e\\u043a\\u0443\\u043f\\u043a\\u0430 \\u0442\\u043e\\u0432\\u0430\\u0440\\u043e\\u0432 \\u0440\\u0430\\u0437\\u043d\\u044b\\u0445 \\u043a\\u0430\\u0442\\u0435\\u0433\\u043e\\u0440\\u0438\\u0439 \\u043f\\u043e \\u043c\\u0435\\u0441\\u044f\\u0446\\u0430\\u043c\"}},                        {\"responsive\": true}                    ).then(function(){\n",
       "                            \n",
       "var gd = document.getElementById('75a771ef-dc0e-4502-ae8a-290f3b5d6dc0');\n",
       "var x = new MutationObserver(function (mutations, observer) {{\n",
       "        var display = window.getComputedStyle(gd).display;\n",
       "        if (!display || display === 'none') {{\n",
       "            console.log([gd, 'removed!']);\n",
       "            Plotly.purge(gd);\n",
       "            observer.disconnect();\n",
       "        }}\n",
       "}});\n",
       "\n",
       "// Listen for the removal of the full notebook cells\n",
       "var notebookContainer = gd.closest('#notebook-container');\n",
       "if (notebookContainer) {{\n",
       "    x.observe(notebookContainer, {childList: true});\n",
       "}}\n",
       "\n",
       "// Listen for the clearing of the current output cell\n",
       "var outputEl = gd.closest('.output');\n",
       "if (outputEl) {{\n",
       "    x.observe(outputEl, {childList: true});\n",
       "}}\n",
       "\n",
       "                        })                };                });            </script>        </div>"
      ]
     },
     "metadata": {},
     "output_type": "display_data"
    }
   ],
   "source": [
    "fig = px.line(history_category.query('major_group==\"group_3\"'),\n",
    "              x='date_round',\n",
    "              y='quantity',\n",
    "\n",
    "              color='category_product',\n",
    "              title='Сегмент 3й. Покупка товаров разных категорий по месяцам',\n",
    "              labels=dict(quantity='кол-во проданного товара',\n",
    "                          category_product='категория товара',\n",
    "                          date_round='месяц'),\n",
    "              color_discrete_sequence=px.colors.qualitative.Vivid,\n",
    "              template='simple_white')\n",
    "\n",
    "fig.update_traces(mode='markers+lines',\n",
    "                  line_shape='spline',\n",
    "                  line_width=3\n",
    "                  )\n",
    "iplot(fig)"
   ]
  },
  {
   "cell_type": "markdown",
   "metadata": {},
   "source": [
    "Сегмент 3 (постоянные покупатели). Активно приобретают растения и хозтовары в октябре-декабе 2019 и январе 2020.   \n",
    "В остальные месяцы менее активны,но продолжают приобретать хозтовары. В Октябре 2019 Активно приобретают фурнитуру и товары для декора."
   ]
  },
  {
   "cell_type": "markdown",
   "metadata": {},
   "source": [
    "# Проверка гипотез"
   ]
  },
  {
   "cell_type": "markdown",
   "metadata": {},
   "source": [
    "## Гипотеза 1. Средние чеки сегментов групп равны"
   ]
  },
  {
   "cell_type": "markdown",
   "metadata": {},
   "source": [
    "Сформулируем гипотезу   \n",
    "1) Нулевая гипотеза: средние чеки сегментов групп равны   \n",
    "    Альт. гипотеза: средние чеки сегментов групп разные"
   ]
  },
  {
   "cell_type": "code",
   "execution_count": null,
   "metadata": {},
   "outputs": [],
   "source": [
    "hipotesys_1 = dict(H_0='средние чеки сегментов групп равны',\n",
    "                   H_1='средние чеки сегментов групп разные')"
   ]
  },
  {
   "cell_type": "markdown",
   "metadata": {},
   "source": [
    "И посчитаем средний чек для каждого пользователя"
   ]
  },
  {
   "cell_type": "code",
   "execution_count": null,
   "metadata": {},
   "outputs": [
    {
     "data": {
      "text/html": [
       "<div>\n",
       "<style scoped>\n",
       "    .dataframe tbody tr th:only-of-type {\n",
       "        vertical-align: middle;\n",
       "    }\n",
       "\n",
       "    .dataframe tbody tr th {\n",
       "        vertical-align: top;\n",
       "    }\n",
       "\n",
       "    .dataframe thead th {\n",
       "        text-align: right;\n",
       "    }\n",
       "</style>\n",
       "<table border=\"1\" class=\"dataframe\">\n",
       "  <thead>\n",
       "    <tr style=\"text-align: right;\">\n",
       "      <th></th>\n",
       "      <th>major_group</th>\n",
       "      <th>customer_id</th>\n",
       "      <th>total_price</th>\n",
       "      <th>orders</th>\n",
       "    </tr>\n",
       "  </thead>\n",
       "  <tbody>\n",
       "    <tr>\n",
       "      <th>0</th>\n",
       "      <td>group_1</td>\n",
       "      <td>001cee7f-0b29-4716-b202-0042213ab038</td>\n",
       "      <td>442.0</td>\n",
       "      <td>1</td>\n",
       "    </tr>\n",
       "    <tr>\n",
       "      <th>1</th>\n",
       "      <td>group_1</td>\n",
       "      <td>002d4d3a-4a59-406b-86ec-c3314357e498</td>\n",
       "      <td>1649.0</td>\n",
       "      <td>1</td>\n",
       "    </tr>\n",
       "    <tr>\n",
       "      <th>2</th>\n",
       "      <td>group_1</td>\n",
       "      <td>004d24e9-4a6c-4d0e-8727-8391dfd4b43a</td>\n",
       "      <td>1536.0</td>\n",
       "      <td>1</td>\n",
       "    </tr>\n",
       "    <tr>\n",
       "      <th>3</th>\n",
       "      <td>group_1</td>\n",
       "      <td>00bd74b1-2792-47db-a2f1-680a09ac5026</td>\n",
       "      <td>937.0</td>\n",
       "      <td>1</td>\n",
       "    </tr>\n",
       "    <tr>\n",
       "      <th>4</th>\n",
       "      <td>group_1</td>\n",
       "      <td>018dc738-2846-464d-a421-126a8ed64bc5</td>\n",
       "      <td>940.0</td>\n",
       "      <td>1</td>\n",
       "    </tr>\n",
       "  </tbody>\n",
       "</table>\n",
       "</div>"
      ],
      "text/plain": [
       "  major_group                           customer_id  total_price  orders\n",
       "0     group_1  001cee7f-0b29-4716-b202-0042213ab038        442.0       1\n",
       "1     group_1  002d4d3a-4a59-406b-86ec-c3314357e498       1649.0       1\n",
       "2     group_1  004d24e9-4a6c-4d0e-8727-8391dfd4b43a       1536.0       1\n",
       "3     group_1  00bd74b1-2792-47db-a2f1-680a09ac5026        937.0       1\n",
       "4     group_1  018dc738-2846-464d-a421-126a8ed64bc5        940.0       1"
      ]
     },
     "execution_count": 65,
     "metadata": {},
     "output_type": "execute_result"
    }
   ],
   "source": [
    "mean_chek_groups = (customer_with_group\n",
    "                    .groupby(['major_group', 'customer_id'], as_index=False)\n",
    "                    .aggregate(\n",
    "                        {'total_price': 'sum', 'order_id': 'nunique'})\n",
    "                    .rename(columns=dict(order_id='orders')))\n",
    "\n",
    "mean_chek_groups.head()"
   ]
  },
  {
   "cell_type": "code",
   "execution_count": null,
   "metadata": {},
   "outputs": [
    {
     "data": {
      "text/html": [
       "<div>\n",
       "<style scoped>\n",
       "    .dataframe tbody tr th:only-of-type {\n",
       "        vertical-align: middle;\n",
       "    }\n",
       "\n",
       "    .dataframe tbody tr th {\n",
       "        vertical-align: top;\n",
       "    }\n",
       "\n",
       "    .dataframe thead th {\n",
       "        text-align: right;\n",
       "    }\n",
       "</style>\n",
       "<table border=\"1\" class=\"dataframe\">\n",
       "  <thead>\n",
       "    <tr style=\"text-align: right;\">\n",
       "      <th></th>\n",
       "      <th>major_group</th>\n",
       "      <th>customer_id</th>\n",
       "      <th>total_price</th>\n",
       "      <th>orders</th>\n",
       "      <th>mean_chek</th>\n",
       "    </tr>\n",
       "  </thead>\n",
       "  <tbody>\n",
       "    <tr>\n",
       "      <th>0</th>\n",
       "      <td>group_1</td>\n",
       "      <td>001cee7f-0b29-4716-b202-0042213ab038</td>\n",
       "      <td>442.0</td>\n",
       "      <td>1</td>\n",
       "      <td>442.0</td>\n",
       "    </tr>\n",
       "    <tr>\n",
       "      <th>1</th>\n",
       "      <td>group_1</td>\n",
       "      <td>002d4d3a-4a59-406b-86ec-c3314357e498</td>\n",
       "      <td>1649.0</td>\n",
       "      <td>1</td>\n",
       "      <td>1649.0</td>\n",
       "    </tr>\n",
       "    <tr>\n",
       "      <th>2</th>\n",
       "      <td>group_1</td>\n",
       "      <td>004d24e9-4a6c-4d0e-8727-8391dfd4b43a</td>\n",
       "      <td>1536.0</td>\n",
       "      <td>1</td>\n",
       "      <td>1536.0</td>\n",
       "    </tr>\n",
       "    <tr>\n",
       "      <th>3</th>\n",
       "      <td>group_1</td>\n",
       "      <td>00bd74b1-2792-47db-a2f1-680a09ac5026</td>\n",
       "      <td>937.0</td>\n",
       "      <td>1</td>\n",
       "      <td>937.0</td>\n",
       "    </tr>\n",
       "    <tr>\n",
       "      <th>4</th>\n",
       "      <td>group_1</td>\n",
       "      <td>018dc738-2846-464d-a421-126a8ed64bc5</td>\n",
       "      <td>940.0</td>\n",
       "      <td>1</td>\n",
       "      <td>940.0</td>\n",
       "    </tr>\n",
       "  </tbody>\n",
       "</table>\n",
       "</div>"
      ],
      "text/plain": [
       "  major_group                           customer_id  total_price  orders  \\\n",
       "0     group_1  001cee7f-0b29-4716-b202-0042213ab038        442.0       1   \n",
       "1     group_1  002d4d3a-4a59-406b-86ec-c3314357e498       1649.0       1   \n",
       "2     group_1  004d24e9-4a6c-4d0e-8727-8391dfd4b43a       1536.0       1   \n",
       "3     group_1  00bd74b1-2792-47db-a2f1-680a09ac5026        937.0       1   \n",
       "4     group_1  018dc738-2846-464d-a421-126a8ed64bc5        940.0       1   \n",
       "\n",
       "   mean_chek  \n",
       "0      442.0  \n",
       "1     1649.0  \n",
       "2     1536.0  \n",
       "3      937.0  \n",
       "4      940.0  "
      ]
     },
     "execution_count": 66,
     "metadata": {},
     "output_type": "execute_result"
    }
   ],
   "source": [
    "mean_chek_groups['mean_chek'] = (mean_chek_groups['total_price'] / \n",
    "                                 mean_chek_groups['orders'])\n",
    "mean_chek_groups.head()"
   ]
  },
  {
   "cell_type": "markdown",
   "metadata": {},
   "source": [
    "настало время статистического теста. Сравнивать будем группы между собой попарно . Использовать будем t-тест для независимых выборок. "
   ]
  },
  {
   "cell_type": "markdown",
   "metadata": {},
   "source": [
    "Затем напишем функцию выводящую результат теста"
   ]
  },
  {
   "cell_type": "code",
   "execution_count": null,
   "metadata": {},
   "outputs": [],
   "source": [
    "def get_result_ttest(list_groups, hipotesys, table, column):\n",
    "    \"\"\"Проводит t-тест между парами групп пользователей. Возвращает принятую гипотезу.\n",
    "\n",
    "    `list_groups` - список групп,\\n\n",
    "    `hipotesys` - гипотеза,\\n\n",
    "    `table` - таблица на основе которой проводится тест,\\n\n",
    "    `columns` - колонка в которой данные для теста\"\"\"\n",
    "\n",
    "    first_group = table.query('major_group==@list_groups[0]')[column]\n",
    "    second_group = table.query('major_group==@list_groups[1]')[column]\n",
    "\n",
    "    p_value = st.ttest_ind(first_group, second_group)[1]\n",
    "\n",
    "    # поправка Бонферони, где \"3\" - количество тестов\n",
    "    alpha = 0.05\n",
    "    alpha_corr = alpha / 3\n",
    "\n",
    "    print('\\nТест между группами', list_groups)\n",
    "\n",
    "    print(f'Среднее {list_groups[0]}:', round(first_group.mean()))\n",
    "    print(f'Среднее {list_groups[1]}:', round(second_group.mean()))\n",
    "\n",
    "    print('p_value:', '{:.3}'.format(p_value))\n",
    "\n",
    "    if p_value > alpha_corr:\n",
    "        print(\n",
    "            f'Результаты теста не противоречат нулевой гипотезе: {hipotesys.get(\"H_0\")}')\n",
    "    else:\n",
    "        print(\n",
    "            f'Отвергаем нул. гипотезу в пользу альтернативной: {hipotesys.get(\"H_1\")}')"
   ]
  },
  {
   "cell_type": "markdown",
   "metadata": {},
   "source": [
    "Созданим кортеж пар груп между которыми будет проведен тест"
   ]
  },
  {
   "cell_type": "code",
   "execution_count": null,
   "metadata": {},
   "outputs": [],
   "source": [
    "list_pair_group = (('group_1', 'group_2'),\n",
    "                   ('group_1', 'group_3'),\n",
    "                   ('group_2', 'group_3'))"
   ]
  },
  {
   "cell_type": "code",
   "execution_count": null,
   "metadata": {},
   "outputs": [
    {
     "name": "stdout",
     "output_type": "stream",
     "text": [
      "\n",
      "Тест между группами ('group_1', 'group_2')\n",
      "Среднее group_1: 1689\n",
      "Среднее group_2: 1660\n",
      "p_value: 0.89\n",
      "Результаты теста не противоречат нулевой гипотезе: средние чеки сегментов групп равны\n",
      "\n",
      "Тест между группами ('group_1', 'group_3')\n",
      "Среднее group_1: 1689\n",
      "Среднее group_3: 962\n",
      "p_value: 5.43e-07\n",
      "Отвергаем нул. гипотезу в пользу альтернативной: средние чеки сегментов групп разные\n",
      "\n",
      "Тест между группами ('group_2', 'group_3')\n",
      "Среднее group_2: 1660\n",
      "Среднее group_3: 962\n",
      "p_value: 0.000418\n",
      "Отвергаем нул. гипотезу в пользу альтернативной: средние чеки сегментов групп разные\n"
     ]
    }
   ],
   "source": [
    "for i in list_pair_group:\n",
    "    get_result_ttest(i,\n",
    "                     hipotesys_1,\n",
    "                     table=mean_chek_groups,\n",
    "                     column='mean_chek')"
   ]
  },
  {
   "cell_type": "markdown",
   "metadata": {},
   "source": [
    "Согласно теста, средние чеки    \n",
    "сегмента 1 и сегмента 2 равны"
   ]
  },
  {
   "cell_type": "markdown",
   "metadata": {},
   "source": [
    "## Гипотеза 2. Средняя выручка сегментов групп равны"
   ]
  },
  {
   "cell_type": "markdown",
   "metadata": {},
   "source": [
    "Сформулируем гипотезы "
   ]
  },
  {
   "cell_type": "code",
   "execution_count": null,
   "metadata": {},
   "outputs": [],
   "source": [
    "hipotesys_2 = dict(H_0='средние выручки сегментов групп равны',\n",
    "                   H_1='средние выручки сегментов групп разные')"
   ]
  },
  {
   "cell_type": "markdown",
   "metadata": {},
   "source": [
    "Далее приготовим данные - найдем среднюю выручку для каждого пользователя"
   ]
  },
  {
   "cell_type": "code",
   "execution_count": null,
   "metadata": {},
   "outputs": [
    {
     "data": {
      "text/html": [
       "<div>\n",
       "<style scoped>\n",
       "    .dataframe tbody tr th:only-of-type {\n",
       "        vertical-align: middle;\n",
       "    }\n",
       "\n",
       "    .dataframe tbody tr th {\n",
       "        vertical-align: top;\n",
       "    }\n",
       "\n",
       "    .dataframe thead th {\n",
       "        text-align: right;\n",
       "    }\n",
       "</style>\n",
       "<table border=\"1\" class=\"dataframe\">\n",
       "  <thead>\n",
       "    <tr style=\"text-align: right;\">\n",
       "      <th></th>\n",
       "      <th>major_group</th>\n",
       "      <th>customer_id</th>\n",
       "      <th>revenue</th>\n",
       "      <th>count_customer</th>\n",
       "      <th>mean_revenue</th>\n",
       "    </tr>\n",
       "  </thead>\n",
       "  <tbody>\n",
       "    <tr>\n",
       "      <th>0</th>\n",
       "      <td>group_1</td>\n",
       "      <td>001cee7f-0b29-4716-b202-0042213ab038</td>\n",
       "      <td>442.0</td>\n",
       "      <td>1</td>\n",
       "      <td>442.0</td>\n",
       "    </tr>\n",
       "    <tr>\n",
       "      <th>1</th>\n",
       "      <td>group_1</td>\n",
       "      <td>002d4d3a-4a59-406b-86ec-c3314357e498</td>\n",
       "      <td>1649.0</td>\n",
       "      <td>1</td>\n",
       "      <td>1649.0</td>\n",
       "    </tr>\n",
       "    <tr>\n",
       "      <th>2</th>\n",
       "      <td>group_1</td>\n",
       "      <td>004d24e9-4a6c-4d0e-8727-8391dfd4b43a</td>\n",
       "      <td>1536.0</td>\n",
       "      <td>12</td>\n",
       "      <td>128.0</td>\n",
       "    </tr>\n",
       "    <tr>\n",
       "      <th>3</th>\n",
       "      <td>group_1</td>\n",
       "      <td>00bd74b1-2792-47db-a2f1-680a09ac5026</td>\n",
       "      <td>937.0</td>\n",
       "      <td>1</td>\n",
       "      <td>937.0</td>\n",
       "    </tr>\n",
       "    <tr>\n",
       "      <th>4</th>\n",
       "      <td>group_1</td>\n",
       "      <td>018dc738-2846-464d-a421-126a8ed64bc5</td>\n",
       "      <td>940.0</td>\n",
       "      <td>10</td>\n",
       "      <td>94.0</td>\n",
       "    </tr>\n",
       "  </tbody>\n",
       "</table>\n",
       "</div>"
      ],
      "text/plain": [
       "  major_group                           customer_id  revenue  count_customer  \\\n",
       "0     group_1  001cee7f-0b29-4716-b202-0042213ab038    442.0               1   \n",
       "1     group_1  002d4d3a-4a59-406b-86ec-c3314357e498   1649.0               1   \n",
       "2     group_1  004d24e9-4a6c-4d0e-8727-8391dfd4b43a   1536.0              12   \n",
       "3     group_1  00bd74b1-2792-47db-a2f1-680a09ac5026    937.0               1   \n",
       "4     group_1  018dc738-2846-464d-a421-126a8ed64bc5    940.0              10   \n",
       "\n",
       "   mean_revenue  \n",
       "0         442.0  \n",
       "1        1649.0  \n",
       "2         128.0  \n",
       "3         937.0  \n",
       "4          94.0  "
      ]
     },
     "execution_count": 71,
     "metadata": {},
     "output_type": "execute_result"
    }
   ],
   "source": [
    "mean_revenue_month = (customer_with_group\n",
    "                      .groupby(['major_group', 'customer_id'], as_index=False)\n",
    "                      .aggregate(dict(total_price='sum', quantity='sum'))\n",
    "                      .rename(columns=dict(total_price='revenue', quantity='count_customer')))\n",
    "\n",
    "\n",
    "mean_revenue_month['mean_revenue'] = round(mean_revenue_month['revenue'] /\n",
    "                                           mean_revenue_month['count_customer'])\n",
    "\n",
    "\n",
    "mean_revenue_month.head()"
   ]
  },
  {
   "cell_type": "markdown",
   "metadata": {},
   "source": [
    "Проведем тесты"
   ]
  },
  {
   "cell_type": "code",
   "execution_count": null,
   "metadata": {},
   "outputs": [
    {
     "name": "stdout",
     "output_type": "stream",
     "text": [
      "\n",
      "Тест между группами ('group_1', 'group_2')\n",
      "Среднее group_1: 650\n",
      "Среднее group_2: 664\n",
      "p_value: 0.79\n",
      "Результаты теста не противоречат нулевой гипотезе: средние выручки сегментов групп равны\n",
      "\n",
      "Тест между группами ('group_1', 'group_3')\n",
      "Среднее group_1: 650\n",
      "Среднее group_3: 818\n",
      "p_value: 0.000303\n",
      "Отвергаем нул. гипотезу в пользу альтернативной: средние выручки сегментов групп разные\n",
      "\n",
      "Тест между группами ('group_2', 'group_3')\n",
      "Среднее group_2: 664\n",
      "Среднее group_3: 818\n",
      "p_value: 0.00347\n",
      "Отвергаем нул. гипотезу в пользу альтернативной: средние выручки сегментов групп разные\n"
     ]
    }
   ],
   "source": [
    "for i in list_pair_group:\n",
    "    get_result_ttest(i,\n",
    "                     hipotesys_2,\n",
    "                     table=mean_revenue_month,\n",
    "                     column='mean_revenue')"
   ]
  },
  {
   "cell_type": "markdown",
   "metadata": {},
   "source": [
    "Согласно теста, средние выручки   \n",
    "сегмента 2 и сегмента 3 а также   \n",
    "сегмента 1 и сегмента 3   \n",
    "разные."
   ]
  },
  {
   "cell_type": "markdown",
   "metadata": {},
   "source": [
    "# Общий вывод"
   ]
  },
  {
   "cell_type": "markdown",
   "metadata": {},
   "source": [
    "Декомпозировав, и совершив предобработку данных, вкдючающую в себя:  \n",
    "- проверку на пропуски,  \n",
    "- проверку типов данных, \n",
    "- форматирование названий столбцов, \n",
    "- проверка на явные и неявные дубликаты,  \n",
    "- устранение неявных дубликатов,  \n",
    "- приведение даты к нужному формату и виду.\n",
    "\n",
    "Затем произвели исследовательский анализ данных и выяснили, \n",
    "- за какой период взяты двнные  \n",
    "- изучили данные на выбросы и устранили их  \n",
    "- Изучили динамику выручки, среднего чека и средней выручки  \n",
    "- Сегментировали пользователей на основе исории покупок при помощи RFM анализа   \n",
    "- Изучили средний чек сегментов пользователей.  \n",
    "- Изучили какие категории товаров покупаются в сегментах  \n",
    "- Произвыели анализ сезонности товаров в разрезе сегментов покупателей и проверили гипотезы о средних чеках сегментов и средних выручках сегментов.  \n",
    "\n",
    "Обнаружили и нашли, что: \n",
    " - данные взяты за период 2018-10-01 - 2020-01-31   \n",
    " - Проверили данные на выбросы и устранили их во избежание искажения данных  \n",
    " - Построили динамику выручки за предоставленный период  \n",
    "и выяснили  , что:   \n",
    "в Июне 2019 средняя выручка высокая - значит закупаются клиенты которые знакомы с интернет-магазиноом и знают что покупать в этолт месяц .\n",
    "- При помощи RFM анализа выяснили что много  постоянных клиеты, недавних клиенты, редких покупателей/ушедших.   \n",
    "\n",
    " - группа 1 (ушедщие пользователи) имеют средний чек выше ,чем у постоянных пользователей(группа 3) с октября по апрель - покупают на большие суммы за меньшее число заказов. А в группе 2 (неактивные пользователи) просаживается средний чек в марте - то есть они совершают много заказов. У постоянных пользователей средний чек скачет в марте, июне , сентябре и декабре - совершают дорогие покупки за меньшее число заказов.\n",
    "\n",
    "-Для группы 1 (ушедшие пользователи) характерны товары: рассада, хозтовары, посуда и товары для кухни, декор.  \n",
    "Для группы 2 (неактивные пользователи) характерны покупки в виде рассады и расстения и хозтовары.  \n",
    "Для группы 3 (постоянные покупатели) характерны покупки хозтоваров и также рассады и растений (но меньше чем в других сегиентах).\n",
    "  \n",
    "- первый сегмент активно закупался рассадой и растениями в октябре,феврале и марте. Также приобретал товары для декора - много в ноябре и феврале.Фурнитура больше приобретается в октябре и декабре. Посуда и товары для кухни чаще приобретаются в декабре.  \n",
    "\n",
    "- Сегмент 2(неактивные пользователи). Активно закупаются рассадой и растениями особенно в апреле и июнь. В мае заказывали для декора больше чем за предстиавленный период. В июне приобретают больше хозтоваров.\n",
    "\n",
    "- Сегмент 3 (постоянные покупатели). Активно приобретают растения и хозтовары в октябре-декабе и январе.   \n",
    "В остальные месяцы менее активны,но продолжают приобретать хозтовары. В Октябре Активно приобретают фурнитуру и товары для декора.\n",
    "\n",
    "\n",
    "- выяснили что средние чеки ушедших клиентов и неактивных клиентов равны   \n",
    "- средние выручки ушедших пользователей и неактивных пользователей равны. \n",
    "\n",
    "\n",
    "\n",
    "\n"
   ]
  },
  {
   "cell_type": "markdown",
   "metadata": {},
   "source": [
    "Рекомендации:   \n",
    "отправлять рассылки рекламных предложениях для разных сегментов по месяцам о категориях товаров.    \n",
    "Ниже приведены месяца и категории товаров для каждого сегмента.   \n",
    "\n",
    "\n",
    "Ушедшие (Сегмент 1)  \n",
    "Январь - рассылать о рассаде, хозтоварах   \n",
    "Февраль - рассада,хозтовары, декор   \n",
    "март - рассада, хозтовапры   \n",
    "апрель - рассада и хозтовары    \n",
    "Октябрь - рассада, хозтовары, фурнитура  \n",
    "Ноябрь  - декор, хозтовары, рассада   \n",
    "Декабрь - хозтовары, фурнитура, товары для кухни     \n",
    "\n",
    "\n"
   ]
  },
  {
   "cell_type": "markdown",
   "metadata": {},
   "source": [
    "Неактивные ( Сегмент 2)  \n",
    "\n",
    "апрель - рассада    \n",
    "май - рассада + декор   \n",
    "июнь - рассада и хозтовары   \n",
    "июль - рассада и хозтовары   \n",
    "август - рассада и хозтовары,   \n",
    "сентябрь - товары для кухни  \n",
    "октябрь - рассада  \n"
   ]
  },
  {
   "cell_type": "markdown",
   "metadata": {},
   "source": [
    "Постоянные пользователи (Сегмент 3)    \n",
    "Январь - рассада и хозтовары, товары для кухни   \n",
    "Февраль - рассада и хозтовары   \n",
    "Март - рассада и хозтовары   \n",
    "Апрель - рассада и хозтовары   \n",
    "Май - хозтовары   \n",
    "Июнь  - хозтовары   \n",
    "Июль - хозтовары   \n",
    "Август - хозтовары   \n",
    "Сентябрь - хозтовары и рассада   \n",
    "\n",
    "Октябрь - хозтовары, рассада, фурнитура   \n",
    "Ноябрь - рассада, хозтовары, товары для кухни     \n",
    "Декабрь - хозтовары и рассада + товары для кухни        "
   ]
  }
 ],
 "metadata": {
  "ExecuteTimeLog": [
   {
    "duration": 1032,
    "start_time": "2024-12-23T10:20:22.084Z"
   },
   {
    "duration": 101,
    "start_time": "2024-12-23T10:20:23.118Z"
   },
   {
    "duration": 0,
    "start_time": "2024-12-23T10:20:23.227Z"
   },
   {
    "duration": 0,
    "start_time": "2024-12-23T10:20:23.228Z"
   },
   {
    "duration": 0,
    "start_time": "2024-12-23T10:20:23.230Z"
   },
   {
    "duration": 0,
    "start_time": "2024-12-23T10:20:23.231Z"
   },
   {
    "duration": 0,
    "start_time": "2024-12-23T10:20:23.233Z"
   },
   {
    "duration": 0,
    "start_time": "2024-12-23T10:20:23.234Z"
   },
   {
    "duration": 0,
    "start_time": "2024-12-23T10:20:23.235Z"
   },
   {
    "duration": 0,
    "start_time": "2024-12-23T10:20:23.236Z"
   },
   {
    "duration": 0,
    "start_time": "2024-12-23T10:20:23.237Z"
   },
   {
    "duration": 0,
    "start_time": "2024-12-23T10:20:23.238Z"
   },
   {
    "duration": 0,
    "start_time": "2024-12-23T10:20:23.239Z"
   },
   {
    "duration": 0,
    "start_time": "2024-12-23T10:20:23.240Z"
   },
   {
    "duration": 0,
    "start_time": "2024-12-23T10:20:23.241Z"
   },
   {
    "duration": 0,
    "start_time": "2024-12-23T10:20:23.242Z"
   },
   {
    "duration": 0,
    "start_time": "2024-12-23T10:20:23.243Z"
   },
   {
    "duration": 0,
    "start_time": "2024-12-23T10:20:23.244Z"
   },
   {
    "duration": 0,
    "start_time": "2024-12-23T10:20:23.246Z"
   },
   {
    "duration": 0,
    "start_time": "2024-12-23T10:20:23.247Z"
   },
   {
    "duration": 0,
    "start_time": "2024-12-23T10:20:23.248Z"
   },
   {
    "duration": 0,
    "start_time": "2024-12-23T10:20:23.249Z"
   },
   {
    "duration": 0,
    "start_time": "2024-12-23T10:20:23.250Z"
   },
   {
    "duration": 0,
    "start_time": "2024-12-23T10:20:23.251Z"
   },
   {
    "duration": 0,
    "start_time": "2024-12-23T10:20:23.252Z"
   },
   {
    "duration": 0,
    "start_time": "2024-12-23T10:20:23.253Z"
   },
   {
    "duration": 0,
    "start_time": "2024-12-23T10:20:23.254Z"
   },
   {
    "duration": 0,
    "start_time": "2024-12-23T10:20:23.255Z"
   },
   {
    "duration": 0,
    "start_time": "2024-12-23T10:20:23.256Z"
   },
   {
    "duration": 0,
    "start_time": "2024-12-23T10:20:23.257Z"
   },
   {
    "duration": 0,
    "start_time": "2024-12-23T10:20:23.258Z"
   },
   {
    "duration": 0,
    "start_time": "2024-12-23T10:20:23.259Z"
   },
   {
    "duration": 0,
    "start_time": "2024-12-23T10:20:23.261Z"
   },
   {
    "duration": 0,
    "start_time": "2024-12-23T10:20:23.317Z"
   },
   {
    "duration": 0,
    "start_time": "2024-12-23T10:20:23.319Z"
   },
   {
    "duration": 0,
    "start_time": "2024-12-23T10:20:23.320Z"
   },
   {
    "duration": 0,
    "start_time": "2024-12-23T10:20:23.322Z"
   },
   {
    "duration": 0,
    "start_time": "2024-12-23T10:20:23.324Z"
   },
   {
    "duration": 0,
    "start_time": "2024-12-23T10:20:23.325Z"
   },
   {
    "duration": 0,
    "start_time": "2024-12-23T10:20:23.326Z"
   },
   {
    "duration": 0,
    "start_time": "2024-12-23T10:20:23.328Z"
   },
   {
    "duration": 0,
    "start_time": "2024-12-23T10:20:23.330Z"
   },
   {
    "duration": 0,
    "start_time": "2024-12-23T10:20:23.331Z"
   },
   {
    "duration": 1,
    "start_time": "2024-12-23T10:20:23.332Z"
   },
   {
    "duration": 0,
    "start_time": "2024-12-23T10:20:23.334Z"
   },
   {
    "duration": 0,
    "start_time": "2024-12-23T10:20:23.335Z"
   },
   {
    "duration": 0,
    "start_time": "2024-12-23T10:20:23.337Z"
   },
   {
    "duration": 0,
    "start_time": "2024-12-23T10:20:23.338Z"
   },
   {
    "duration": 0,
    "start_time": "2024-12-23T10:20:23.339Z"
   },
   {
    "duration": 0,
    "start_time": "2024-12-23T10:20:23.341Z"
   },
   {
    "duration": 0,
    "start_time": "2024-12-23T10:20:23.343Z"
   },
   {
    "duration": 0,
    "start_time": "2024-12-23T10:20:23.344Z"
   },
   {
    "duration": 0,
    "start_time": "2024-12-23T10:20:23.346Z"
   },
   {
    "duration": 0,
    "start_time": "2024-12-23T10:20:23.347Z"
   },
   {
    "duration": 0,
    "start_time": "2024-12-23T10:20:23.349Z"
   },
   {
    "duration": 0,
    "start_time": "2024-12-23T10:20:23.350Z"
   },
   {
    "duration": 0,
    "start_time": "2024-12-23T10:20:23.351Z"
   },
   {
    "duration": 0,
    "start_time": "2024-12-23T10:20:23.352Z"
   },
   {
    "duration": 0,
    "start_time": "2024-12-23T10:20:23.353Z"
   },
   {
    "duration": 0,
    "start_time": "2024-12-23T10:20:23.354Z"
   },
   {
    "duration": 0,
    "start_time": "2024-12-23T10:20:23.355Z"
   },
   {
    "duration": 0,
    "start_time": "2024-12-23T10:20:23.356Z"
   },
   {
    "duration": 0,
    "start_time": "2024-12-23T10:20:23.357Z"
   },
   {
    "duration": 0,
    "start_time": "2024-12-23T10:20:23.415Z"
   },
   {
    "duration": 0,
    "start_time": "2024-12-23T10:20:23.416Z"
   },
   {
    "duration": 1,
    "start_time": "2024-12-23T10:20:23.416Z"
   },
   {
    "duration": 0,
    "start_time": "2024-12-23T10:20:23.417Z"
   },
   {
    "duration": 0,
    "start_time": "2024-12-23T10:20:23.418Z"
   },
   {
    "duration": 0,
    "start_time": "2024-12-23T10:20:23.419Z"
   },
   {
    "duration": 0,
    "start_time": "2024-12-23T10:20:23.420Z"
   },
   {
    "duration": 0,
    "start_time": "2024-12-23T10:20:23.421Z"
   },
   {
    "duration": 0,
    "start_time": "2024-12-23T10:20:23.421Z"
   },
   {
    "duration": 0,
    "start_time": "2024-12-23T10:20:23.425Z"
   },
   {
    "duration": 0,
    "start_time": "2024-12-23T10:20:23.426Z"
   },
   {
    "duration": 0,
    "start_time": "2024-12-23T10:20:23.427Z"
   },
   {
    "duration": 0,
    "start_time": "2024-12-23T10:20:23.429Z"
   },
   {
    "duration": 0,
    "start_time": "2024-12-23T10:20:23.430Z"
   },
   {
    "duration": 1047,
    "start_time": "2024-12-23T10:21:58.040Z"
   },
   {
    "duration": 110,
    "start_time": "2024-12-23T10:21:59.089Z"
   },
   {
    "duration": 0,
    "start_time": "2024-12-23T10:21:59.203Z"
   },
   {
    "duration": 0,
    "start_time": "2024-12-23T10:21:59.204Z"
   },
   {
    "duration": 0,
    "start_time": "2024-12-23T10:21:59.205Z"
   },
   {
    "duration": 0,
    "start_time": "2024-12-23T10:21:59.214Z"
   },
   {
    "duration": 0,
    "start_time": "2024-12-23T10:21:59.215Z"
   },
   {
    "duration": 0,
    "start_time": "2024-12-23T10:21:59.217Z"
   },
   {
    "duration": 0,
    "start_time": "2024-12-23T10:21:59.218Z"
   },
   {
    "duration": 0,
    "start_time": "2024-12-23T10:21:59.220Z"
   },
   {
    "duration": 0,
    "start_time": "2024-12-23T10:21:59.221Z"
   },
   {
    "duration": 0,
    "start_time": "2024-12-23T10:21:59.222Z"
   },
   {
    "duration": 0,
    "start_time": "2024-12-23T10:21:59.224Z"
   },
   {
    "duration": 0,
    "start_time": "2024-12-23T10:21:59.225Z"
   },
   {
    "duration": 0,
    "start_time": "2024-12-23T10:21:59.227Z"
   },
   {
    "duration": 0,
    "start_time": "2024-12-23T10:21:59.228Z"
   },
   {
    "duration": 0,
    "start_time": "2024-12-23T10:21:59.230Z"
   },
   {
    "duration": 0,
    "start_time": "2024-12-23T10:21:59.231Z"
   },
   {
    "duration": 0,
    "start_time": "2024-12-23T10:21:59.233Z"
   },
   {
    "duration": 0,
    "start_time": "2024-12-23T10:21:59.234Z"
   },
   {
    "duration": 0,
    "start_time": "2024-12-23T10:21:59.236Z"
   },
   {
    "duration": 0,
    "start_time": "2024-12-23T10:21:59.237Z"
   },
   {
    "duration": 0,
    "start_time": "2024-12-23T10:21:59.239Z"
   },
   {
    "duration": 0,
    "start_time": "2024-12-23T10:21:59.240Z"
   },
   {
    "duration": 1,
    "start_time": "2024-12-23T10:21:59.241Z"
   },
   {
    "duration": 0,
    "start_time": "2024-12-23T10:21:59.243Z"
   },
   {
    "duration": 0,
    "start_time": "2024-12-23T10:21:59.244Z"
   },
   {
    "duration": 0,
    "start_time": "2024-12-23T10:21:59.245Z"
   },
   {
    "duration": 1,
    "start_time": "2024-12-23T10:21:59.246Z"
   },
   {
    "duration": 0,
    "start_time": "2024-12-23T10:21:59.248Z"
   },
   {
    "duration": 0,
    "start_time": "2024-12-23T10:21:59.249Z"
   },
   {
    "duration": 0,
    "start_time": "2024-12-23T10:21:59.250Z"
   },
   {
    "duration": 0,
    "start_time": "2024-12-23T10:21:59.252Z"
   },
   {
    "duration": 0,
    "start_time": "2024-12-23T10:21:59.253Z"
   },
   {
    "duration": 0,
    "start_time": "2024-12-23T10:21:59.254Z"
   },
   {
    "duration": 0,
    "start_time": "2024-12-23T10:21:59.256Z"
   },
   {
    "duration": 0,
    "start_time": "2024-12-23T10:21:59.257Z"
   },
   {
    "duration": 0,
    "start_time": "2024-12-23T10:21:59.258Z"
   },
   {
    "duration": 0,
    "start_time": "2024-12-23T10:21:59.260Z"
   },
   {
    "duration": 0,
    "start_time": "2024-12-23T10:21:59.261Z"
   },
   {
    "duration": 0,
    "start_time": "2024-12-23T10:21:59.315Z"
   },
   {
    "duration": 0,
    "start_time": "2024-12-23T10:21:59.322Z"
   },
   {
    "duration": 0,
    "start_time": "2024-12-23T10:21:59.325Z"
   },
   {
    "duration": 0,
    "start_time": "2024-12-23T10:21:59.327Z"
   },
   {
    "duration": 0,
    "start_time": "2024-12-23T10:21:59.329Z"
   },
   {
    "duration": 0,
    "start_time": "2024-12-23T10:21:59.332Z"
   },
   {
    "duration": 0,
    "start_time": "2024-12-23T10:21:59.334Z"
   },
   {
    "duration": 0,
    "start_time": "2024-12-23T10:21:59.336Z"
   },
   {
    "duration": 0,
    "start_time": "2024-12-23T10:21:59.337Z"
   },
   {
    "duration": 0,
    "start_time": "2024-12-23T10:21:59.339Z"
   },
   {
    "duration": 0,
    "start_time": "2024-12-23T10:21:59.340Z"
   },
   {
    "duration": 0,
    "start_time": "2024-12-23T10:21:59.341Z"
   },
   {
    "duration": 0,
    "start_time": "2024-12-23T10:21:59.343Z"
   },
   {
    "duration": 0,
    "start_time": "2024-12-23T10:21:59.345Z"
   },
   {
    "duration": 0,
    "start_time": "2024-12-23T10:21:59.346Z"
   },
   {
    "duration": 0,
    "start_time": "2024-12-23T10:21:59.348Z"
   },
   {
    "duration": 0,
    "start_time": "2024-12-23T10:21:59.350Z"
   },
   {
    "duration": 0,
    "start_time": "2024-12-23T10:21:59.351Z"
   },
   {
    "duration": 0,
    "start_time": "2024-12-23T10:21:59.353Z"
   },
   {
    "duration": 0,
    "start_time": "2024-12-23T10:21:59.354Z"
   },
   {
    "duration": 0,
    "start_time": "2024-12-23T10:21:59.356Z"
   },
   {
    "duration": 1,
    "start_time": "2024-12-23T10:21:59.415Z"
   },
   {
    "duration": 0,
    "start_time": "2024-12-23T10:21:59.417Z"
   },
   {
    "duration": 0,
    "start_time": "2024-12-23T10:21:59.419Z"
   },
   {
    "duration": 0,
    "start_time": "2024-12-23T10:21:59.420Z"
   },
   {
    "duration": 0,
    "start_time": "2024-12-23T10:21:59.422Z"
   },
   {
    "duration": 0,
    "start_time": "2024-12-23T10:21:59.424Z"
   },
   {
    "duration": 0,
    "start_time": "2024-12-23T10:21:59.427Z"
   },
   {
    "duration": 0,
    "start_time": "2024-12-23T10:21:59.429Z"
   },
   {
    "duration": 0,
    "start_time": "2024-12-23T10:21:59.430Z"
   },
   {
    "duration": 0,
    "start_time": "2024-12-23T10:21:59.432Z"
   },
   {
    "duration": 0,
    "start_time": "2024-12-23T10:21:59.433Z"
   },
   {
    "duration": 0,
    "start_time": "2024-12-23T10:21:59.435Z"
   },
   {
    "duration": 0,
    "start_time": "2024-12-23T10:21:59.436Z"
   },
   {
    "duration": 0,
    "start_time": "2024-12-23T10:21:59.437Z"
   },
   {
    "duration": 0,
    "start_time": "2024-12-23T10:21:59.438Z"
   },
   {
    "duration": 0,
    "start_time": "2024-12-23T10:21:59.439Z"
   },
   {
    "duration": 50344,
    "start_time": "2024-12-23T10:22:14.016Z"
   },
   {
    "duration": 1072,
    "start_time": "2024-12-23T10:23:12.912Z"
   },
   {
    "duration": 102,
    "start_time": "2024-12-23T10:23:13.986Z"
   },
   {
    "duration": 0,
    "start_time": "2024-12-23T10:23:14.092Z"
   },
   {
    "duration": 0,
    "start_time": "2024-12-23T10:23:14.093Z"
   },
   {
    "duration": 0,
    "start_time": "2024-12-23T10:23:14.095Z"
   },
   {
    "duration": 0,
    "start_time": "2024-12-23T10:23:14.096Z"
   },
   {
    "duration": 0,
    "start_time": "2024-12-23T10:23:14.097Z"
   },
   {
    "duration": 0,
    "start_time": "2024-12-23T10:23:14.098Z"
   },
   {
    "duration": 0,
    "start_time": "2024-12-23T10:23:14.099Z"
   },
   {
    "duration": 0,
    "start_time": "2024-12-23T10:23:14.115Z"
   },
   {
    "duration": 0,
    "start_time": "2024-12-23T10:23:14.116Z"
   },
   {
    "duration": 0,
    "start_time": "2024-12-23T10:23:14.117Z"
   },
   {
    "duration": 0,
    "start_time": "2024-12-23T10:23:14.119Z"
   },
   {
    "duration": 0,
    "start_time": "2024-12-23T10:23:14.120Z"
   },
   {
    "duration": 1,
    "start_time": "2024-12-23T10:23:14.120Z"
   },
   {
    "duration": 0,
    "start_time": "2024-12-23T10:23:14.121Z"
   },
   {
    "duration": 0,
    "start_time": "2024-12-23T10:23:14.123Z"
   },
   {
    "duration": 0,
    "start_time": "2024-12-23T10:23:14.124Z"
   },
   {
    "duration": 0,
    "start_time": "2024-12-23T10:23:14.124Z"
   },
   {
    "duration": 0,
    "start_time": "2024-12-23T10:23:14.125Z"
   },
   {
    "duration": 0,
    "start_time": "2024-12-23T10:23:14.126Z"
   },
   {
    "duration": 0,
    "start_time": "2024-12-23T10:23:14.127Z"
   },
   {
    "duration": 0,
    "start_time": "2024-12-23T10:23:14.128Z"
   },
   {
    "duration": 0,
    "start_time": "2024-12-23T10:23:14.130Z"
   },
   {
    "duration": 0,
    "start_time": "2024-12-23T10:23:14.131Z"
   },
   {
    "duration": 0,
    "start_time": "2024-12-23T10:23:14.132Z"
   },
   {
    "duration": 0,
    "start_time": "2024-12-23T10:23:14.133Z"
   },
   {
    "duration": 0,
    "start_time": "2024-12-23T10:23:14.135Z"
   },
   {
    "duration": 0,
    "start_time": "2024-12-23T10:23:14.137Z"
   },
   {
    "duration": 0,
    "start_time": "2024-12-23T10:23:14.138Z"
   },
   {
    "duration": 0,
    "start_time": "2024-12-23T10:23:14.139Z"
   },
   {
    "duration": 0,
    "start_time": "2024-12-23T10:23:14.140Z"
   },
   {
    "duration": 0,
    "start_time": "2024-12-23T10:23:14.141Z"
   },
   {
    "duration": 0,
    "start_time": "2024-12-23T10:23:14.143Z"
   },
   {
    "duration": 0,
    "start_time": "2024-12-23T10:23:14.143Z"
   },
   {
    "duration": 0,
    "start_time": "2024-12-23T10:23:14.145Z"
   },
   {
    "duration": 0,
    "start_time": "2024-12-23T10:23:14.146Z"
   },
   {
    "duration": 0,
    "start_time": "2024-12-23T10:23:14.147Z"
   },
   {
    "duration": 0,
    "start_time": "2024-12-23T10:23:14.148Z"
   },
   {
    "duration": 0,
    "start_time": "2024-12-23T10:23:14.149Z"
   },
   {
    "duration": 0,
    "start_time": "2024-12-23T10:23:14.150Z"
   },
   {
    "duration": 0,
    "start_time": "2024-12-23T10:23:14.151Z"
   },
   {
    "duration": 0,
    "start_time": "2024-12-23T10:23:14.152Z"
   },
   {
    "duration": 0,
    "start_time": "2024-12-23T10:23:14.153Z"
   },
   {
    "duration": 0,
    "start_time": "2024-12-23T10:23:14.154Z"
   },
   {
    "duration": 0,
    "start_time": "2024-12-23T10:23:14.155Z"
   },
   {
    "duration": 0,
    "start_time": "2024-12-23T10:23:14.221Z"
   },
   {
    "duration": 0,
    "start_time": "2024-12-23T10:23:14.226Z"
   },
   {
    "duration": 0,
    "start_time": "2024-12-23T10:23:14.231Z"
   },
   {
    "duration": 0,
    "start_time": "2024-12-23T10:23:14.232Z"
   },
   {
    "duration": 0,
    "start_time": "2024-12-23T10:23:14.234Z"
   },
   {
    "duration": 0,
    "start_time": "2024-12-23T10:23:14.235Z"
   },
   {
    "duration": 0,
    "start_time": "2024-12-23T10:23:14.238Z"
   },
   {
    "duration": 0,
    "start_time": "2024-12-23T10:23:14.239Z"
   },
   {
    "duration": 0,
    "start_time": "2024-12-23T10:23:14.240Z"
   },
   {
    "duration": 0,
    "start_time": "2024-12-23T10:23:14.241Z"
   },
   {
    "duration": 0,
    "start_time": "2024-12-23T10:23:14.242Z"
   },
   {
    "duration": 0,
    "start_time": "2024-12-23T10:23:14.243Z"
   },
   {
    "duration": 0,
    "start_time": "2024-12-23T10:23:14.244Z"
   },
   {
    "duration": 0,
    "start_time": "2024-12-23T10:23:14.245Z"
   },
   {
    "duration": 0,
    "start_time": "2024-12-23T10:23:14.246Z"
   },
   {
    "duration": 0,
    "start_time": "2024-12-23T10:23:14.247Z"
   },
   {
    "duration": 0,
    "start_time": "2024-12-23T10:23:14.248Z"
   },
   {
    "duration": 0,
    "start_time": "2024-12-23T10:23:14.249Z"
   },
   {
    "duration": 0,
    "start_time": "2024-12-23T10:23:14.250Z"
   },
   {
    "duration": 0,
    "start_time": "2024-12-23T10:23:14.253Z"
   },
   {
    "duration": 0,
    "start_time": "2024-12-23T10:23:14.254Z"
   },
   {
    "duration": 0,
    "start_time": "2024-12-23T10:23:14.255Z"
   },
   {
    "duration": 0,
    "start_time": "2024-12-23T10:23:14.256Z"
   },
   {
    "duration": 0,
    "start_time": "2024-12-23T10:23:14.257Z"
   },
   {
    "duration": 0,
    "start_time": "2024-12-23T10:23:14.258Z"
   },
   {
    "duration": 0,
    "start_time": "2024-12-23T10:23:14.316Z"
   },
   {
    "duration": 0,
    "start_time": "2024-12-23T10:23:14.318Z"
   },
   {
    "duration": 0,
    "start_time": "2024-12-23T10:23:14.319Z"
   },
   {
    "duration": 0,
    "start_time": "2024-12-23T10:23:14.321Z"
   },
   {
    "duration": 0,
    "start_time": "2024-12-23T10:23:14.323Z"
   },
   {
    "duration": 0,
    "start_time": "2024-12-23T10:23:14.325Z"
   },
   {
    "duration": 905,
    "start_time": "2024-12-23T10:26:12.369Z"
   },
   {
    "duration": 84,
    "start_time": "2024-12-23T10:26:13.275Z"
   },
   {
    "duration": 0,
    "start_time": "2024-12-23T10:26:13.363Z"
   },
   {
    "duration": 0,
    "start_time": "2024-12-23T10:26:13.364Z"
   },
   {
    "duration": 0,
    "start_time": "2024-12-23T10:26:13.364Z"
   },
   {
    "duration": 0,
    "start_time": "2024-12-23T10:26:13.365Z"
   },
   {
    "duration": 0,
    "start_time": "2024-12-23T10:26:13.367Z"
   },
   {
    "duration": 0,
    "start_time": "2024-12-23T10:26:13.367Z"
   },
   {
    "duration": 0,
    "start_time": "2024-12-23T10:26:13.368Z"
   },
   {
    "duration": 0,
    "start_time": "2024-12-23T10:26:13.369Z"
   },
   {
    "duration": 0,
    "start_time": "2024-12-23T10:26:13.370Z"
   },
   {
    "duration": 0,
    "start_time": "2024-12-23T10:26:13.371Z"
   },
   {
    "duration": 0,
    "start_time": "2024-12-23T10:26:13.372Z"
   },
   {
    "duration": 0,
    "start_time": "2024-12-23T10:26:13.373Z"
   },
   {
    "duration": 0,
    "start_time": "2024-12-23T10:26:13.374Z"
   },
   {
    "duration": 0,
    "start_time": "2024-12-23T10:26:13.375Z"
   },
   {
    "duration": 0,
    "start_time": "2024-12-23T10:26:13.376Z"
   },
   {
    "duration": 0,
    "start_time": "2024-12-23T10:26:13.377Z"
   },
   {
    "duration": 0,
    "start_time": "2024-12-23T10:26:13.378Z"
   },
   {
    "duration": 0,
    "start_time": "2024-12-23T10:26:13.379Z"
   },
   {
    "duration": 0,
    "start_time": "2024-12-23T10:26:13.380Z"
   },
   {
    "duration": 0,
    "start_time": "2024-12-23T10:26:13.381Z"
   },
   {
    "duration": 0,
    "start_time": "2024-12-23T10:26:13.382Z"
   },
   {
    "duration": 0,
    "start_time": "2024-12-23T10:26:13.383Z"
   },
   {
    "duration": 0,
    "start_time": "2024-12-23T10:26:13.384Z"
   },
   {
    "duration": 0,
    "start_time": "2024-12-23T10:26:13.385Z"
   },
   {
    "duration": 0,
    "start_time": "2024-12-23T10:26:13.422Z"
   },
   {
    "duration": 0,
    "start_time": "2024-12-23T10:26:13.423Z"
   },
   {
    "duration": 0,
    "start_time": "2024-12-23T10:26:13.424Z"
   },
   {
    "duration": 0,
    "start_time": "2024-12-23T10:26:13.425Z"
   },
   {
    "duration": 0,
    "start_time": "2024-12-23T10:26:13.426Z"
   },
   {
    "duration": 0,
    "start_time": "2024-12-23T10:26:13.427Z"
   },
   {
    "duration": 0,
    "start_time": "2024-12-23T10:26:13.428Z"
   },
   {
    "duration": 0,
    "start_time": "2024-12-23T10:26:13.429Z"
   },
   {
    "duration": 0,
    "start_time": "2024-12-23T10:26:13.430Z"
   },
   {
    "duration": 0,
    "start_time": "2024-12-23T10:26:13.431Z"
   },
   {
    "duration": 0,
    "start_time": "2024-12-23T10:26:13.432Z"
   },
   {
    "duration": 0,
    "start_time": "2024-12-23T10:26:13.433Z"
   },
   {
    "duration": 0,
    "start_time": "2024-12-23T10:26:13.434Z"
   },
   {
    "duration": 0,
    "start_time": "2024-12-23T10:26:13.435Z"
   },
   {
    "duration": 0,
    "start_time": "2024-12-23T10:26:13.436Z"
   },
   {
    "duration": 0,
    "start_time": "2024-12-23T10:26:13.437Z"
   },
   {
    "duration": 0,
    "start_time": "2024-12-23T10:26:13.438Z"
   },
   {
    "duration": 0,
    "start_time": "2024-12-23T10:26:13.439Z"
   },
   {
    "duration": 0,
    "start_time": "2024-12-23T10:26:13.440Z"
   },
   {
    "duration": 0,
    "start_time": "2024-12-23T10:26:13.441Z"
   },
   {
    "duration": 0,
    "start_time": "2024-12-23T10:26:13.442Z"
   },
   {
    "duration": 0,
    "start_time": "2024-12-23T10:26:13.443Z"
   },
   {
    "duration": 0,
    "start_time": "2024-12-23T10:26:13.443Z"
   },
   {
    "duration": 0,
    "start_time": "2024-12-23T10:26:13.444Z"
   },
   {
    "duration": 0,
    "start_time": "2024-12-23T10:26:13.445Z"
   },
   {
    "duration": 0,
    "start_time": "2024-12-23T10:26:13.446Z"
   },
   {
    "duration": 0,
    "start_time": "2024-12-23T10:26:13.447Z"
   },
   {
    "duration": 0,
    "start_time": "2024-12-23T10:26:13.447Z"
   },
   {
    "duration": 0,
    "start_time": "2024-12-23T10:26:13.448Z"
   },
   {
    "duration": 0,
    "start_time": "2024-12-23T10:26:13.449Z"
   },
   {
    "duration": 0,
    "start_time": "2024-12-23T10:26:13.450Z"
   },
   {
    "duration": 0,
    "start_time": "2024-12-23T10:26:13.451Z"
   },
   {
    "duration": 0,
    "start_time": "2024-12-23T10:26:13.452Z"
   },
   {
    "duration": 0,
    "start_time": "2024-12-23T10:26:13.453Z"
   },
   {
    "duration": 0,
    "start_time": "2024-12-23T10:26:13.454Z"
   },
   {
    "duration": 0,
    "start_time": "2024-12-23T10:26:13.455Z"
   },
   {
    "duration": 0,
    "start_time": "2024-12-23T10:26:13.456Z"
   },
   {
    "duration": 0,
    "start_time": "2024-12-23T10:26:13.457Z"
   },
   {
    "duration": 0,
    "start_time": "2024-12-23T10:26:13.458Z"
   },
   {
    "duration": 0,
    "start_time": "2024-12-23T10:26:13.522Z"
   },
   {
    "duration": 0,
    "start_time": "2024-12-23T10:26:13.523Z"
   },
   {
    "duration": 0,
    "start_time": "2024-12-23T10:26:13.523Z"
   },
   {
    "duration": 0,
    "start_time": "2024-12-23T10:26:13.524Z"
   },
   {
    "duration": 0,
    "start_time": "2024-12-23T10:26:13.525Z"
   },
   {
    "duration": 0,
    "start_time": "2024-12-23T10:26:13.526Z"
   },
   {
    "duration": 0,
    "start_time": "2024-12-23T10:26:13.527Z"
   },
   {
    "duration": 0,
    "start_time": "2024-12-23T10:26:13.528Z"
   },
   {
    "duration": 1,
    "start_time": "2024-12-23T10:26:13.528Z"
   },
   {
    "duration": 0,
    "start_time": "2024-12-23T10:26:13.530Z"
   },
   {
    "duration": 0,
    "start_time": "2024-12-23T10:26:13.530Z"
   },
   {
    "duration": 0,
    "start_time": "2024-12-23T10:26:13.531Z"
   },
   {
    "duration": 7,
    "start_time": "2024-12-23T10:27:47.584Z"
   },
   {
    "duration": 9,
    "start_time": "2024-12-23T10:27:57.524Z"
   },
   {
    "duration": 7,
    "start_time": "2024-12-23T10:28:47.512Z"
   },
   {
    "duration": 8,
    "start_time": "2024-12-23T10:29:03.064Z"
   },
   {
    "duration": 922,
    "start_time": "2024-12-23T10:29:18.635Z"
   },
   {
    "duration": 83,
    "start_time": "2024-12-23T10:29:19.559Z"
   },
   {
    "duration": 0,
    "start_time": "2024-12-23T10:29:19.646Z"
   },
   {
    "duration": 0,
    "start_time": "2024-12-23T10:29:19.647Z"
   },
   {
    "duration": 0,
    "start_time": "2024-12-23T10:29:19.649Z"
   },
   {
    "duration": 1,
    "start_time": "2024-12-23T10:29:19.649Z"
   },
   {
    "duration": 0,
    "start_time": "2024-12-23T10:29:19.650Z"
   },
   {
    "duration": 0,
    "start_time": "2024-12-23T10:29:19.651Z"
   },
   {
    "duration": 0,
    "start_time": "2024-12-23T10:29:19.652Z"
   },
   {
    "duration": 0,
    "start_time": "2024-12-23T10:29:19.653Z"
   },
   {
    "duration": 0,
    "start_time": "2024-12-23T10:29:19.654Z"
   },
   {
    "duration": 0,
    "start_time": "2024-12-23T10:29:19.655Z"
   },
   {
    "duration": 0,
    "start_time": "2024-12-23T10:29:19.656Z"
   },
   {
    "duration": 0,
    "start_time": "2024-12-23T10:29:19.657Z"
   },
   {
    "duration": 0,
    "start_time": "2024-12-23T10:29:19.657Z"
   },
   {
    "duration": 0,
    "start_time": "2024-12-23T10:29:19.658Z"
   },
   {
    "duration": 0,
    "start_time": "2024-12-23T10:29:19.659Z"
   },
   {
    "duration": 0,
    "start_time": "2024-12-23T10:29:19.660Z"
   },
   {
    "duration": 0,
    "start_time": "2024-12-23T10:29:19.661Z"
   },
   {
    "duration": 0,
    "start_time": "2024-12-23T10:29:19.662Z"
   },
   {
    "duration": 0,
    "start_time": "2024-12-23T10:29:19.663Z"
   },
   {
    "duration": 0,
    "start_time": "2024-12-23T10:29:19.664Z"
   },
   {
    "duration": 0,
    "start_time": "2024-12-23T10:29:19.665Z"
   },
   {
    "duration": 0,
    "start_time": "2024-12-23T10:29:19.666Z"
   },
   {
    "duration": 0,
    "start_time": "2024-12-23T10:29:19.666Z"
   },
   {
    "duration": 0,
    "start_time": "2024-12-23T10:29:19.667Z"
   },
   {
    "duration": 0,
    "start_time": "2024-12-23T10:29:19.668Z"
   },
   {
    "duration": 0,
    "start_time": "2024-12-23T10:29:19.669Z"
   },
   {
    "duration": 0,
    "start_time": "2024-12-23T10:29:19.670Z"
   },
   {
    "duration": 0,
    "start_time": "2024-12-23T10:29:19.671Z"
   },
   {
    "duration": 0,
    "start_time": "2024-12-23T10:29:19.672Z"
   },
   {
    "duration": 0,
    "start_time": "2024-12-23T10:29:19.673Z"
   },
   {
    "duration": 0,
    "start_time": "2024-12-23T10:29:19.674Z"
   },
   {
    "duration": 0,
    "start_time": "2024-12-23T10:29:19.722Z"
   },
   {
    "duration": 0,
    "start_time": "2024-12-23T10:29:19.722Z"
   },
   {
    "duration": 0,
    "start_time": "2024-12-23T10:29:19.723Z"
   },
   {
    "duration": 0,
    "start_time": "2024-12-23T10:29:19.724Z"
   },
   {
    "duration": 0,
    "start_time": "2024-12-23T10:29:19.725Z"
   },
   {
    "duration": 0,
    "start_time": "2024-12-23T10:29:19.726Z"
   },
   {
    "duration": 0,
    "start_time": "2024-12-23T10:29:19.727Z"
   },
   {
    "duration": 0,
    "start_time": "2024-12-23T10:29:19.728Z"
   },
   {
    "duration": 0,
    "start_time": "2024-12-23T10:29:19.729Z"
   },
   {
    "duration": 0,
    "start_time": "2024-12-23T10:29:19.730Z"
   },
   {
    "duration": 0,
    "start_time": "2024-12-23T10:29:19.731Z"
   },
   {
    "duration": 0,
    "start_time": "2024-12-23T10:29:19.732Z"
   },
   {
    "duration": 0,
    "start_time": "2024-12-23T10:29:19.733Z"
   },
   {
    "duration": 0,
    "start_time": "2024-12-23T10:29:19.734Z"
   },
   {
    "duration": 0,
    "start_time": "2024-12-23T10:29:19.735Z"
   },
   {
    "duration": 1,
    "start_time": "2024-12-23T10:29:19.735Z"
   },
   {
    "duration": 0,
    "start_time": "2024-12-23T10:29:19.736Z"
   },
   {
    "duration": 0,
    "start_time": "2024-12-23T10:29:19.737Z"
   },
   {
    "duration": 0,
    "start_time": "2024-12-23T10:29:19.738Z"
   },
   {
    "duration": 0,
    "start_time": "2024-12-23T10:29:19.739Z"
   },
   {
    "duration": 0,
    "start_time": "2024-12-23T10:29:19.739Z"
   },
   {
    "duration": 0,
    "start_time": "2024-12-23T10:29:19.741Z"
   },
   {
    "duration": 0,
    "start_time": "2024-12-23T10:29:19.741Z"
   },
   {
    "duration": 0,
    "start_time": "2024-12-23T10:29:19.743Z"
   },
   {
    "duration": 0,
    "start_time": "2024-12-23T10:29:19.743Z"
   },
   {
    "duration": 0,
    "start_time": "2024-12-23T10:29:19.744Z"
   },
   {
    "duration": 0,
    "start_time": "2024-12-23T10:29:19.745Z"
   },
   {
    "duration": 0,
    "start_time": "2024-12-23T10:29:19.746Z"
   },
   {
    "duration": 0,
    "start_time": "2024-12-23T10:29:19.746Z"
   },
   {
    "duration": 0,
    "start_time": "2024-12-23T10:29:19.747Z"
   },
   {
    "duration": 0,
    "start_time": "2024-12-23T10:29:19.748Z"
   },
   {
    "duration": 0,
    "start_time": "2024-12-23T10:29:19.749Z"
   },
   {
    "duration": 0,
    "start_time": "2024-12-23T10:29:19.750Z"
   },
   {
    "duration": 0,
    "start_time": "2024-12-23T10:29:19.751Z"
   },
   {
    "duration": 0,
    "start_time": "2024-12-23T10:29:19.751Z"
   },
   {
    "duration": 0,
    "start_time": "2024-12-23T10:29:19.752Z"
   },
   {
    "duration": 0,
    "start_time": "2024-12-23T10:29:19.753Z"
   },
   {
    "duration": 0,
    "start_time": "2024-12-23T10:29:19.754Z"
   },
   {
    "duration": 0,
    "start_time": "2024-12-23T10:29:19.755Z"
   },
   {
    "duration": 0,
    "start_time": "2024-12-23T10:29:19.756Z"
   },
   {
    "duration": 0,
    "start_time": "2024-12-23T10:29:19.756Z"
   },
   {
    "duration": 0,
    "start_time": "2024-12-23T10:29:19.757Z"
   },
   {
    "duration": 0,
    "start_time": "2024-12-23T10:29:19.822Z"
   },
   {
    "duration": 0,
    "start_time": "2024-12-23T10:29:19.822Z"
   },
   {
    "duration": 924,
    "start_time": "2024-12-23T10:29:40.728Z"
   },
   {
    "duration": 81,
    "start_time": "2024-12-23T10:29:41.654Z"
   },
   {
    "duration": 0,
    "start_time": "2024-12-23T10:29:41.739Z"
   },
   {
    "duration": 0,
    "start_time": "2024-12-23T10:29:41.740Z"
   },
   {
    "duration": 0,
    "start_time": "2024-12-23T10:29:41.741Z"
   },
   {
    "duration": 0,
    "start_time": "2024-12-23T10:29:41.742Z"
   },
   {
    "duration": 0,
    "start_time": "2024-12-23T10:29:41.742Z"
   },
   {
    "duration": 0,
    "start_time": "2024-12-23T10:29:41.743Z"
   },
   {
    "duration": 0,
    "start_time": "2024-12-23T10:29:41.744Z"
   },
   {
    "duration": 0,
    "start_time": "2024-12-23T10:29:41.745Z"
   },
   {
    "duration": 0,
    "start_time": "2024-12-23T10:29:41.746Z"
   },
   {
    "duration": 0,
    "start_time": "2024-12-23T10:29:41.747Z"
   },
   {
    "duration": 0,
    "start_time": "2024-12-23T10:29:41.748Z"
   },
   {
    "duration": 0,
    "start_time": "2024-12-23T10:29:41.748Z"
   },
   {
    "duration": 0,
    "start_time": "2024-12-23T10:29:41.749Z"
   },
   {
    "duration": 0,
    "start_time": "2024-12-23T10:29:41.750Z"
   },
   {
    "duration": 0,
    "start_time": "2024-12-23T10:29:41.751Z"
   },
   {
    "duration": 0,
    "start_time": "2024-12-23T10:29:41.752Z"
   },
   {
    "duration": 0,
    "start_time": "2024-12-23T10:29:41.753Z"
   },
   {
    "duration": 0,
    "start_time": "2024-12-23T10:29:41.754Z"
   },
   {
    "duration": 0,
    "start_time": "2024-12-23T10:29:41.755Z"
   },
   {
    "duration": 0,
    "start_time": "2024-12-23T10:29:41.756Z"
   },
   {
    "duration": 0,
    "start_time": "2024-12-23T10:29:41.757Z"
   },
   {
    "duration": 0,
    "start_time": "2024-12-23T10:29:41.758Z"
   },
   {
    "duration": 0,
    "start_time": "2024-12-23T10:29:41.759Z"
   },
   {
    "duration": 0,
    "start_time": "2024-12-23T10:29:41.759Z"
   },
   {
    "duration": 0,
    "start_time": "2024-12-23T10:29:41.760Z"
   },
   {
    "duration": 0,
    "start_time": "2024-12-23T10:29:41.761Z"
   },
   {
    "duration": 0,
    "start_time": "2024-12-23T10:29:41.762Z"
   },
   {
    "duration": 0,
    "start_time": "2024-12-23T10:29:41.763Z"
   },
   {
    "duration": 0,
    "start_time": "2024-12-23T10:29:41.764Z"
   },
   {
    "duration": 0,
    "start_time": "2024-12-23T10:29:41.765Z"
   },
   {
    "duration": 0,
    "start_time": "2024-12-23T10:29:41.766Z"
   },
   {
    "duration": 0,
    "start_time": "2024-12-23T10:29:41.767Z"
   },
   {
    "duration": 0,
    "start_time": "2024-12-23T10:29:41.768Z"
   },
   {
    "duration": 0,
    "start_time": "2024-12-23T10:29:41.769Z"
   },
   {
    "duration": 0,
    "start_time": "2024-12-23T10:29:41.770Z"
   },
   {
    "duration": 0,
    "start_time": "2024-12-23T10:29:41.770Z"
   },
   {
    "duration": 0,
    "start_time": "2024-12-23T10:29:41.771Z"
   },
   {
    "duration": 0,
    "start_time": "2024-12-23T10:29:41.772Z"
   },
   {
    "duration": 0,
    "start_time": "2024-12-23T10:29:41.822Z"
   },
   {
    "duration": 0,
    "start_time": "2024-12-23T10:29:41.823Z"
   },
   {
    "duration": 0,
    "start_time": "2024-12-23T10:29:41.824Z"
   },
   {
    "duration": 0,
    "start_time": "2024-12-23T10:29:41.825Z"
   },
   {
    "duration": 0,
    "start_time": "2024-12-23T10:29:41.826Z"
   },
   {
    "duration": 0,
    "start_time": "2024-12-23T10:29:41.827Z"
   },
   {
    "duration": 0,
    "start_time": "2024-12-23T10:29:41.828Z"
   },
   {
    "duration": 0,
    "start_time": "2024-12-23T10:29:41.829Z"
   },
   {
    "duration": 0,
    "start_time": "2024-12-23T10:29:41.830Z"
   },
   {
    "duration": 0,
    "start_time": "2024-12-23T10:29:41.831Z"
   },
   {
    "duration": 0,
    "start_time": "2024-12-23T10:29:41.832Z"
   },
   {
    "duration": 0,
    "start_time": "2024-12-23T10:29:41.833Z"
   },
   {
    "duration": 0,
    "start_time": "2024-12-23T10:29:41.834Z"
   },
   {
    "duration": 0,
    "start_time": "2024-12-23T10:29:41.835Z"
   },
   {
    "duration": 0,
    "start_time": "2024-12-23T10:29:41.836Z"
   },
   {
    "duration": 0,
    "start_time": "2024-12-23T10:29:41.837Z"
   },
   {
    "duration": 0,
    "start_time": "2024-12-23T10:29:41.838Z"
   },
   {
    "duration": 0,
    "start_time": "2024-12-23T10:29:41.839Z"
   },
   {
    "duration": 0,
    "start_time": "2024-12-23T10:29:41.840Z"
   },
   {
    "duration": 0,
    "start_time": "2024-12-23T10:29:41.841Z"
   },
   {
    "duration": 0,
    "start_time": "2024-12-23T10:29:41.842Z"
   },
   {
    "duration": 0,
    "start_time": "2024-12-23T10:29:41.843Z"
   },
   {
    "duration": 0,
    "start_time": "2024-12-23T10:29:41.844Z"
   },
   {
    "duration": 0,
    "start_time": "2024-12-23T10:29:41.845Z"
   },
   {
    "duration": 0,
    "start_time": "2024-12-23T10:29:41.846Z"
   },
   {
    "duration": 0,
    "start_time": "2024-12-23T10:29:41.847Z"
   },
   {
    "duration": 0,
    "start_time": "2024-12-23T10:29:41.848Z"
   },
   {
    "duration": 0,
    "start_time": "2024-12-23T10:29:41.849Z"
   },
   {
    "duration": 0,
    "start_time": "2024-12-23T10:29:41.850Z"
   },
   {
    "duration": 0,
    "start_time": "2024-12-23T10:29:41.851Z"
   },
   {
    "duration": 0,
    "start_time": "2024-12-23T10:29:41.852Z"
   },
   {
    "duration": 0,
    "start_time": "2024-12-23T10:29:41.853Z"
   },
   {
    "duration": 0,
    "start_time": "2024-12-23T10:29:41.854Z"
   },
   {
    "duration": 0,
    "start_time": "2024-12-23T10:29:41.855Z"
   },
   {
    "duration": 0,
    "start_time": "2024-12-23T10:29:41.855Z"
   },
   {
    "duration": 0,
    "start_time": "2024-12-23T10:29:41.857Z"
   },
   {
    "duration": 0,
    "start_time": "2024-12-23T10:29:41.858Z"
   },
   {
    "duration": 8,
    "start_time": "2024-12-23T10:30:56.288Z"
   },
   {
    "duration": 7,
    "start_time": "2024-12-23T10:31:04.678Z"
   },
   {
    "duration": 7,
    "start_time": "2024-12-23T10:31:20.928Z"
   },
   {
    "duration": 7,
    "start_time": "2024-12-23T10:31:31.208Z"
   },
   {
    "duration": 948,
    "start_time": "2024-12-23T10:35:02.514Z"
   },
   {
    "duration": 85,
    "start_time": "2024-12-23T10:35:03.463Z"
   },
   {
    "duration": 0,
    "start_time": "2024-12-23T10:35:03.552Z"
   },
   {
    "duration": 0,
    "start_time": "2024-12-23T10:35:03.553Z"
   },
   {
    "duration": 0,
    "start_time": "2024-12-23T10:35:03.554Z"
   },
   {
    "duration": 0,
    "start_time": "2024-12-23T10:35:03.555Z"
   },
   {
    "duration": 0,
    "start_time": "2024-12-23T10:35:03.556Z"
   },
   {
    "duration": 0,
    "start_time": "2024-12-23T10:35:03.557Z"
   },
   {
    "duration": 1,
    "start_time": "2024-12-23T10:35:03.557Z"
   },
   {
    "duration": 0,
    "start_time": "2024-12-23T10:35:03.558Z"
   },
   {
    "duration": 0,
    "start_time": "2024-12-23T10:35:03.560Z"
   },
   {
    "duration": 0,
    "start_time": "2024-12-23T10:35:03.560Z"
   },
   {
    "duration": 0,
    "start_time": "2024-12-23T10:35:03.561Z"
   },
   {
    "duration": 0,
    "start_time": "2024-12-23T10:35:03.562Z"
   },
   {
    "duration": 0,
    "start_time": "2024-12-23T10:35:03.563Z"
   },
   {
    "duration": 0,
    "start_time": "2024-12-23T10:35:03.564Z"
   },
   {
    "duration": 0,
    "start_time": "2024-12-23T10:35:03.565Z"
   },
   {
    "duration": 0,
    "start_time": "2024-12-23T10:35:03.566Z"
   },
   {
    "duration": 0,
    "start_time": "2024-12-23T10:35:03.567Z"
   },
   {
    "duration": 0,
    "start_time": "2024-12-23T10:35:03.568Z"
   },
   {
    "duration": 0,
    "start_time": "2024-12-23T10:35:03.568Z"
   },
   {
    "duration": 0,
    "start_time": "2024-12-23T10:35:03.569Z"
   },
   {
    "duration": 0,
    "start_time": "2024-12-23T10:35:03.570Z"
   },
   {
    "duration": 0,
    "start_time": "2024-12-23T10:35:03.571Z"
   },
   {
    "duration": 0,
    "start_time": "2024-12-23T10:35:03.572Z"
   },
   {
    "duration": 0,
    "start_time": "2024-12-23T10:35:03.573Z"
   },
   {
    "duration": 0,
    "start_time": "2024-12-23T10:35:03.574Z"
   },
   {
    "duration": 0,
    "start_time": "2024-12-23T10:35:03.575Z"
   },
   {
    "duration": 0,
    "start_time": "2024-12-23T10:35:03.576Z"
   },
   {
    "duration": 0,
    "start_time": "2024-12-23T10:35:03.576Z"
   },
   {
    "duration": 0,
    "start_time": "2024-12-23T10:35:03.577Z"
   },
   {
    "duration": 0,
    "start_time": "2024-12-23T10:35:03.578Z"
   },
   {
    "duration": 0,
    "start_time": "2024-12-23T10:35:03.579Z"
   },
   {
    "duration": 0,
    "start_time": "2024-12-23T10:35:03.580Z"
   },
   {
    "duration": 0,
    "start_time": "2024-12-23T10:35:03.581Z"
   },
   {
    "duration": 0,
    "start_time": "2024-12-23T10:35:03.621Z"
   },
   {
    "duration": 1,
    "start_time": "2024-12-23T10:35:03.622Z"
   },
   {
    "duration": 0,
    "start_time": "2024-12-23T10:35:03.623Z"
   },
   {
    "duration": 0,
    "start_time": "2024-12-23T10:35:03.624Z"
   },
   {
    "duration": 0,
    "start_time": "2024-12-23T10:35:03.625Z"
   },
   {
    "duration": 0,
    "start_time": "2024-12-23T10:35:03.626Z"
   },
   {
    "duration": 0,
    "start_time": "2024-12-23T10:35:03.627Z"
   },
   {
    "duration": 0,
    "start_time": "2024-12-23T10:35:03.628Z"
   },
   {
    "duration": 0,
    "start_time": "2024-12-23T10:35:03.629Z"
   },
   {
    "duration": 0,
    "start_time": "2024-12-23T10:35:03.630Z"
   },
   {
    "duration": 0,
    "start_time": "2024-12-23T10:35:03.631Z"
   },
   {
    "duration": 0,
    "start_time": "2024-12-23T10:35:03.632Z"
   },
   {
    "duration": 0,
    "start_time": "2024-12-23T10:35:03.633Z"
   },
   {
    "duration": 0,
    "start_time": "2024-12-23T10:35:03.634Z"
   },
   {
    "duration": 0,
    "start_time": "2024-12-23T10:35:03.635Z"
   },
   {
    "duration": 0,
    "start_time": "2024-12-23T10:35:03.636Z"
   },
   {
    "duration": 0,
    "start_time": "2024-12-23T10:35:03.637Z"
   },
   {
    "duration": 0,
    "start_time": "2024-12-23T10:35:03.638Z"
   },
   {
    "duration": 0,
    "start_time": "2024-12-23T10:35:03.639Z"
   },
   {
    "duration": 0,
    "start_time": "2024-12-23T10:35:03.640Z"
   },
   {
    "duration": 0,
    "start_time": "2024-12-23T10:35:03.640Z"
   },
   {
    "duration": 0,
    "start_time": "2024-12-23T10:35:03.641Z"
   },
   {
    "duration": 0,
    "start_time": "2024-12-23T10:35:03.642Z"
   },
   {
    "duration": 0,
    "start_time": "2024-12-23T10:35:03.643Z"
   },
   {
    "duration": 0,
    "start_time": "2024-12-23T10:35:03.644Z"
   },
   {
    "duration": 0,
    "start_time": "2024-12-23T10:35:03.645Z"
   },
   {
    "duration": 0,
    "start_time": "2024-12-23T10:35:03.645Z"
   },
   {
    "duration": 0,
    "start_time": "2024-12-23T10:35:03.646Z"
   },
   {
    "duration": 0,
    "start_time": "2024-12-23T10:35:03.647Z"
   },
   {
    "duration": 0,
    "start_time": "2024-12-23T10:35:03.648Z"
   },
   {
    "duration": 0,
    "start_time": "2024-12-23T10:35:03.649Z"
   },
   {
    "duration": 0,
    "start_time": "2024-12-23T10:35:03.649Z"
   },
   {
    "duration": 0,
    "start_time": "2024-12-23T10:35:03.650Z"
   },
   {
    "duration": 0,
    "start_time": "2024-12-23T10:35:03.651Z"
   },
   {
    "duration": 0,
    "start_time": "2024-12-23T10:35:03.652Z"
   },
   {
    "duration": 0,
    "start_time": "2024-12-23T10:35:03.653Z"
   },
   {
    "duration": 0,
    "start_time": "2024-12-23T10:35:03.654Z"
   },
   {
    "duration": 0,
    "start_time": "2024-12-23T10:35:03.655Z"
   },
   {
    "duration": 0,
    "start_time": "2024-12-23T10:35:03.656Z"
   },
   {
    "duration": 0,
    "start_time": "2024-12-23T10:35:03.656Z"
   },
   {
    "duration": 0,
    "start_time": "2024-12-23T10:35:03.657Z"
   },
   {
    "duration": 0,
    "start_time": "2024-12-23T10:35:03.658Z"
   },
   {
    "duration": 8,
    "start_time": "2024-12-23T10:37:12.364Z"
   },
   {
    "duration": 13,
    "start_time": "2024-12-23T10:37:22.394Z"
   },
   {
    "duration": 8,
    "start_time": "2024-12-23T10:37:28.344Z"
   },
   {
    "duration": 9,
    "start_time": "2024-12-23T10:37:53.594Z"
   },
   {
    "duration": 8,
    "start_time": "2024-12-23T10:39:54.134Z"
   },
   {
    "duration": 9,
    "start_time": "2024-12-23T10:40:01.425Z"
   },
   {
    "duration": 9,
    "start_time": "2024-12-23T10:42:07.484Z"
   },
   {
    "duration": 7,
    "start_time": "2024-12-23T10:47:44.414Z"
   },
   {
    "duration": 7,
    "start_time": "2024-12-23T10:48:02.554Z"
   },
   {
    "duration": 8,
    "start_time": "2024-12-23T10:48:06.524Z"
   },
   {
    "duration": 8,
    "start_time": "2024-12-23T10:49:20.344Z"
   },
   {
    "duration": 1051,
    "start_time": "2024-12-23T10:50:17.604Z"
   },
   {
    "duration": 3,
    "start_time": "2024-12-23T10:50:18.657Z"
   },
   {
    "duration": 25,
    "start_time": "2024-12-23T10:50:18.661Z"
   },
   {
    "duration": 499,
    "start_time": "2024-12-23T10:50:18.688Z"
   },
   {
    "duration": 5,
    "start_time": "2024-12-23T10:50:19.189Z"
   },
   {
    "duration": 69,
    "start_time": "2024-12-23T10:50:19.196Z"
   },
   {
    "duration": 39,
    "start_time": "2024-12-23T10:50:19.267Z"
   },
   {
    "duration": 21,
    "start_time": "2024-12-23T10:50:19.307Z"
   },
   {
    "duration": 27,
    "start_time": "2024-12-23T10:50:19.329Z"
   },
   {
    "duration": 35,
    "start_time": "2024-12-23T10:50:19.358Z"
   },
   {
    "duration": 34,
    "start_time": "2024-12-23T10:50:19.395Z"
   },
   {
    "duration": 30,
    "start_time": "2024-12-23T10:50:19.430Z"
   },
   {
    "duration": 413,
    "start_time": "2024-12-23T10:50:19.461Z"
   },
   {
    "duration": 4,
    "start_time": "2024-12-23T10:50:19.876Z"
   },
   {
    "duration": 205,
    "start_time": "2024-12-23T10:50:19.882Z"
   },
   {
    "duration": 178,
    "start_time": "2024-12-23T10:50:20.088Z"
   },
   {
    "duration": 4,
    "start_time": "2024-12-23T10:50:20.267Z"
   },
   {
    "duration": 54,
    "start_time": "2024-12-23T10:50:20.273Z"
   },
   {
    "duration": 19,
    "start_time": "2024-12-23T10:50:20.328Z"
   },
   {
    "duration": 320,
    "start_time": "2024-12-23T10:50:20.348Z"
   },
   {
    "duration": 9,
    "start_time": "2024-12-23T10:50:20.669Z"
   },
   {
    "duration": 27,
    "start_time": "2024-12-23T10:50:20.679Z"
   },
   {
    "duration": 191,
    "start_time": "2024-12-23T10:50:20.707Z"
   },
   {
    "duration": 15,
    "start_time": "2024-12-23T10:50:20.900Z"
   },
   {
    "duration": 43,
    "start_time": "2024-12-23T10:50:20.917Z"
   },
   {
    "duration": 43,
    "start_time": "2024-12-23T10:50:20.962Z"
   },
   {
    "duration": 44,
    "start_time": "2024-12-23T10:50:21.007Z"
   },
   {
    "duration": 221,
    "start_time": "2024-12-23T10:50:21.056Z"
   },
   {
    "duration": 5,
    "start_time": "2024-12-23T10:50:21.278Z"
   },
   {
    "duration": 44,
    "start_time": "2024-12-23T10:50:21.284Z"
   },
   {
    "duration": 66,
    "start_time": "2024-12-23T10:50:21.330Z"
   },
   {
    "duration": 34,
    "start_time": "2024-12-23T10:50:21.397Z"
   },
   {
    "duration": 25,
    "start_time": "2024-12-23T10:50:21.433Z"
   },
   {
    "duration": 31,
    "start_time": "2024-12-23T10:50:21.459Z"
   },
   {
    "duration": 16,
    "start_time": "2024-12-23T10:50:21.492Z"
   },
   {
    "duration": 20,
    "start_time": "2024-12-23T10:50:21.509Z"
   },
   {
    "duration": 32,
    "start_time": "2024-12-23T10:50:21.531Z"
   },
   {
    "duration": 30,
    "start_time": "2024-12-23T10:50:21.564Z"
   },
   {
    "duration": 13,
    "start_time": "2024-12-23T10:50:21.595Z"
   },
   {
    "duration": 24,
    "start_time": "2024-12-23T10:50:21.609Z"
   },
   {
    "duration": 46,
    "start_time": "2024-12-23T10:50:21.634Z"
   },
   {
    "duration": 10,
    "start_time": "2024-12-23T10:50:21.682Z"
   },
   {
    "duration": 10,
    "start_time": "2024-12-23T10:50:21.693Z"
   },
   {
    "duration": 41,
    "start_time": "2024-12-23T10:50:21.705Z"
   },
   {
    "duration": 16,
    "start_time": "2024-12-23T10:50:21.748Z"
   },
   {
    "duration": 56,
    "start_time": "2024-12-23T10:50:21.766Z"
   },
   {
    "duration": 16,
    "start_time": "2024-12-23T10:50:21.824Z"
   },
   {
    "duration": 7,
    "start_time": "2024-12-23T10:50:21.841Z"
   },
   {
    "duration": 12,
    "start_time": "2024-12-23T10:50:21.850Z"
   },
   {
    "duration": 10,
    "start_time": "2024-12-23T10:50:21.863Z"
   },
   {
    "duration": 59,
    "start_time": "2024-12-23T10:50:21.874Z"
   },
   {
    "duration": 8,
    "start_time": "2024-12-23T10:50:21.934Z"
   },
   {
    "duration": 31,
    "start_time": "2024-12-23T10:50:21.944Z"
   },
   {
    "duration": 50,
    "start_time": "2024-12-23T10:50:21.976Z"
   },
   {
    "duration": 18,
    "start_time": "2024-12-23T10:50:22.028Z"
   },
   {
    "duration": 8,
    "start_time": "2024-12-23T10:50:22.048Z"
   },
   {
    "duration": 1248,
    "start_time": "2024-12-23T10:50:22.058Z"
   },
   {
    "duration": 14,
    "start_time": "2024-12-23T10:50:23.308Z"
   },
   {
    "duration": 23,
    "start_time": "2024-12-23T10:50:23.323Z"
   },
   {
    "duration": 19,
    "start_time": "2024-12-23T10:50:23.348Z"
   },
   {
    "duration": 8,
    "start_time": "2024-12-23T10:50:23.368Z"
   },
   {
    "duration": 28,
    "start_time": "2024-12-23T10:50:23.377Z"
   },
   {
    "duration": 4,
    "start_time": "2024-12-23T10:50:23.407Z"
   },
   {
    "duration": 69,
    "start_time": "2024-12-23T10:50:23.412Z"
   },
   {
    "duration": 4,
    "start_time": "2024-12-23T10:50:23.483Z"
   },
   {
    "duration": 45,
    "start_time": "2024-12-23T10:50:23.488Z"
   },
   {
    "duration": 6,
    "start_time": "2024-12-23T10:50:23.535Z"
   },
   {
    "duration": 29,
    "start_time": "2024-12-23T10:50:23.542Z"
   },
   {
    "duration": 437,
    "start_time": "2024-12-23T10:50:23.573Z"
   },
   {
    "duration": 3,
    "start_time": "2024-12-23T10:50:24.011Z"
   },
   {
    "duration": 23,
    "start_time": "2024-12-23T10:50:24.022Z"
   },
   {
    "duration": 8,
    "start_time": "2024-12-23T10:50:24.047Z"
   },
   {
    "duration": 7,
    "start_time": "2024-12-23T10:50:24.057Z"
   },
   {
    "duration": 110,
    "start_time": "2024-12-23T10:50:24.066Z"
   },
   {
    "duration": 3,
    "start_time": "2024-12-23T10:50:24.177Z"
   },
   {
    "duration": 41,
    "start_time": "2024-12-23T10:50:24.181Z"
   },
   {
    "duration": 187,
    "start_time": "2024-12-23T10:50:24.224Z"
   },
   {
    "duration": 84,
    "start_time": "2024-12-23T10:54:24.004Z"
   },
   {
    "duration": 82,
    "start_time": "2024-12-23T11:07:22.523Z"
   },
   {
    "duration": 978,
    "start_time": "2024-12-23T11:09:20.256Z"
   },
   {
    "duration": 3,
    "start_time": "2024-12-23T11:09:21.236Z"
   },
   {
    "duration": 26,
    "start_time": "2024-12-23T11:09:21.240Z"
   },
   {
    "duration": 317,
    "start_time": "2024-12-23T11:09:21.267Z"
   },
   {
    "duration": 4,
    "start_time": "2024-12-23T11:09:21.586Z"
   },
   {
    "duration": 35,
    "start_time": "2024-12-23T11:09:21.592Z"
   },
   {
    "duration": 17,
    "start_time": "2024-12-23T11:09:21.628Z"
   },
   {
    "duration": 54,
    "start_time": "2024-12-23T11:09:21.646Z"
   },
   {
    "duration": 25,
    "start_time": "2024-12-23T11:09:21.701Z"
   },
   {
    "duration": 20,
    "start_time": "2024-12-23T11:09:21.729Z"
   },
   {
    "duration": 22,
    "start_time": "2024-12-23T11:09:21.750Z"
   },
   {
    "duration": 43,
    "start_time": "2024-12-23T11:09:21.773Z"
   },
   {
    "duration": 393,
    "start_time": "2024-12-23T11:09:21.817Z"
   },
   {
    "duration": 4,
    "start_time": "2024-12-23T11:09:22.212Z"
   },
   {
    "duration": 235,
    "start_time": "2024-12-23T11:09:22.221Z"
   },
   {
    "duration": 289,
    "start_time": "2024-12-23T11:09:22.458Z"
   },
   {
    "duration": 5,
    "start_time": "2024-12-23T11:09:22.748Z"
   },
   {
    "duration": 30,
    "start_time": "2024-12-23T11:09:22.754Z"
   },
   {
    "duration": 20,
    "start_time": "2024-12-23T11:09:22.785Z"
   },
   {
    "duration": 326,
    "start_time": "2024-12-23T11:09:22.822Z"
   },
   {
    "duration": 8,
    "start_time": "2024-12-23T11:09:23.150Z"
   },
   {
    "duration": 19,
    "start_time": "2024-12-23T11:09:23.159Z"
   },
   {
    "duration": 52,
    "start_time": "2024-12-23T11:09:23.179Z"
   },
   {
    "duration": 15,
    "start_time": "2024-12-23T11:09:23.232Z"
   },
   {
    "duration": 44,
    "start_time": "2024-12-23T11:09:23.249Z"
   },
   {
    "duration": 15,
    "start_time": "2024-12-23T11:09:23.295Z"
   },
   {
    "duration": 63,
    "start_time": "2024-12-23T11:09:23.311Z"
   },
   {
    "duration": 281,
    "start_time": "2024-12-23T11:09:23.378Z"
   },
   {
    "duration": 4,
    "start_time": "2024-12-23T11:09:23.660Z"
   },
   {
    "duration": 95,
    "start_time": "2024-12-23T11:09:23.665Z"
   },
   {
    "duration": 4,
    "start_time": "2024-12-23T11:09:23.762Z"
   },
   {
    "duration": 56,
    "start_time": "2024-12-23T11:09:23.767Z"
   },
   {
    "duration": 58,
    "start_time": "2024-12-23T11:09:23.824Z"
   },
   {
    "duration": 12,
    "start_time": "2024-12-23T11:09:23.883Z"
   },
   {
    "duration": 25,
    "start_time": "2024-12-23T11:09:23.896Z"
   },
   {
    "duration": 11,
    "start_time": "2024-12-23T11:09:23.923Z"
   },
   {
    "duration": 19,
    "start_time": "2024-12-23T11:09:23.935Z"
   },
   {
    "duration": 39,
    "start_time": "2024-12-23T11:09:23.956Z"
   },
   {
    "duration": 11,
    "start_time": "2024-12-23T11:09:23.997Z"
   },
   {
    "duration": 9,
    "start_time": "2024-12-23T11:09:24.009Z"
   },
   {
    "duration": 50,
    "start_time": "2024-12-23T11:09:24.019Z"
   },
   {
    "duration": 8,
    "start_time": "2024-12-23T11:09:24.071Z"
   },
   {
    "duration": 23,
    "start_time": "2024-12-23T11:09:24.081Z"
   },
   {
    "duration": 25,
    "start_time": "2024-12-23T11:09:24.105Z"
   },
   {
    "duration": 16,
    "start_time": "2024-12-23T11:09:24.131Z"
   },
   {
    "duration": 104,
    "start_time": "2024-12-23T11:09:24.149Z"
   },
   {
    "duration": 75,
    "start_time": "2024-12-23T11:09:24.254Z"
   },
   {
    "duration": 7,
    "start_time": "2024-12-23T11:09:24.331Z"
   },
   {
    "duration": 83,
    "start_time": "2024-12-23T11:09:24.339Z"
   },
   {
    "duration": 5,
    "start_time": "2024-12-23T11:09:24.424Z"
   },
   {
    "duration": 94,
    "start_time": "2024-12-23T11:09:24.431Z"
   },
   {
    "duration": 10,
    "start_time": "2024-12-23T11:09:24.526Z"
   },
   {
    "duration": 17,
    "start_time": "2024-12-23T11:09:24.538Z"
   },
   {
    "duration": 26,
    "start_time": "2024-12-23T11:09:24.556Z"
   },
   {
    "duration": 7,
    "start_time": "2024-12-23T11:09:24.584Z"
   },
   {
    "duration": 9,
    "start_time": "2024-12-23T11:09:24.592Z"
   },
   {
    "duration": 1258,
    "start_time": "2024-12-23T11:09:24.603Z"
   },
   {
    "duration": 7,
    "start_time": "2024-12-23T11:09:25.862Z"
   },
   {
    "duration": 32,
    "start_time": "2024-12-23T11:09:25.871Z"
   },
   {
    "duration": 5,
    "start_time": "2024-12-23T11:09:25.905Z"
   },
   {
    "duration": 27,
    "start_time": "2024-12-23T11:09:25.912Z"
   },
   {
    "duration": 59,
    "start_time": "2024-12-23T11:09:25.940Z"
   },
   {
    "duration": 5,
    "start_time": "2024-12-23T11:09:26.001Z"
   },
   {
    "duration": 74,
    "start_time": "2024-12-23T11:09:26.007Z"
   },
   {
    "duration": 4,
    "start_time": "2024-12-23T11:09:26.083Z"
   },
   {
    "duration": 49,
    "start_time": "2024-12-23T11:09:26.088Z"
   },
   {
    "duration": 16,
    "start_time": "2024-12-23T11:09:26.139Z"
   },
   {
    "duration": 8,
    "start_time": "2024-12-23T11:09:26.157Z"
   },
   {
    "duration": 578,
    "start_time": "2024-12-23T11:09:26.167Z"
   },
   {
    "duration": 3,
    "start_time": "2024-12-23T11:09:26.746Z"
   },
   {
    "duration": 35,
    "start_time": "2024-12-23T11:09:26.750Z"
   },
   {
    "duration": 13,
    "start_time": "2024-12-23T11:09:26.786Z"
   },
   {
    "duration": 12,
    "start_time": "2024-12-23T11:09:26.801Z"
   },
   {
    "duration": 153,
    "start_time": "2024-12-23T11:09:26.814Z"
   },
   {
    "duration": 0,
    "start_time": "2024-12-23T11:09:26.969Z"
   },
   {
    "duration": 0,
    "start_time": "2024-12-23T11:09:26.971Z"
   },
   {
    "duration": 0,
    "start_time": "2024-12-23T11:09:26.972Z"
   },
   {
    "duration": 0,
    "start_time": "2024-12-23T11:09:26.974Z"
   },
   {
    "duration": 0,
    "start_time": "2024-12-23T11:09:26.975Z"
   },
   {
    "duration": 1154,
    "start_time": "2024-12-23T15:16:24.678Z"
   },
   {
    "duration": 3,
    "start_time": "2024-12-23T15:16:25.834Z"
   },
   {
    "duration": 15,
    "start_time": "2024-12-23T15:16:25.839Z"
   },
   {
    "duration": 289,
    "start_time": "2024-12-23T15:16:25.856Z"
   },
   {
    "duration": 6,
    "start_time": "2024-12-23T15:16:26.154Z"
   },
   {
    "duration": 21,
    "start_time": "2024-12-23T15:16:26.162Z"
   },
   {
    "duration": 8,
    "start_time": "2024-12-23T15:16:26.184Z"
   },
   {
    "duration": 10,
    "start_time": "2024-12-23T15:16:26.194Z"
   },
   {
    "duration": 18,
    "start_time": "2024-12-23T15:16:26.205Z"
   },
   {
    "duration": 5,
    "start_time": "2024-12-23T15:16:26.225Z"
   },
   {
    "duration": 12,
    "start_time": "2024-12-23T15:16:26.254Z"
   },
   {
    "duration": 6,
    "start_time": "2024-12-23T15:16:26.268Z"
   },
   {
    "duration": 743,
    "start_time": "2024-12-23T15:16:26.275Z"
   },
   {
    "duration": 5,
    "start_time": "2024-12-23T15:16:27.020Z"
   },
   {
    "duration": 209,
    "start_time": "2024-12-23T15:16:27.026Z"
   },
   {
    "duration": 189,
    "start_time": "2024-12-23T15:16:27.237Z"
   },
   {
    "duration": 5,
    "start_time": "2024-12-23T15:16:27.428Z"
   },
   {
    "duration": 43,
    "start_time": "2024-12-23T15:16:27.435Z"
   },
   {
    "duration": 14,
    "start_time": "2024-12-23T15:16:27.479Z"
   },
   {
    "duration": 333,
    "start_time": "2024-12-23T15:16:27.495Z"
   },
   {
    "duration": 9,
    "start_time": "2024-12-23T15:16:27.829Z"
   },
   {
    "duration": 27,
    "start_time": "2024-12-23T15:16:27.839Z"
   },
   {
    "duration": 51,
    "start_time": "2024-12-23T15:16:27.867Z"
   },
   {
    "duration": 14,
    "start_time": "2024-12-23T15:16:27.919Z"
   },
   {
    "duration": 54,
    "start_time": "2024-12-23T15:16:27.934Z"
   },
   {
    "duration": 14,
    "start_time": "2024-12-23T15:16:27.989Z"
   },
   {
    "duration": 59,
    "start_time": "2024-12-23T15:16:28.004Z"
   },
   {
    "duration": 189,
    "start_time": "2024-12-23T15:16:28.066Z"
   },
   {
    "duration": 4,
    "start_time": "2024-12-23T15:16:28.256Z"
   },
   {
    "duration": 34,
    "start_time": "2024-12-23T15:16:28.261Z"
   },
   {
    "duration": 5,
    "start_time": "2024-12-23T15:16:28.296Z"
   },
   {
    "duration": 18,
    "start_time": "2024-12-23T15:16:28.302Z"
   },
   {
    "duration": 3,
    "start_time": "2024-12-23T15:16:28.322Z"
   },
   {
    "duration": 6,
    "start_time": "2024-12-23T15:16:28.327Z"
   },
   {
    "duration": 28,
    "start_time": "2024-12-23T15:16:28.335Z"
   },
   {
    "duration": 11,
    "start_time": "2024-12-23T15:16:28.365Z"
   },
   {
    "duration": 11,
    "start_time": "2024-12-23T15:16:28.378Z"
   },
   {
    "duration": 26,
    "start_time": "2024-12-23T15:16:28.391Z"
   },
   {
    "duration": 45,
    "start_time": "2024-12-23T15:16:28.418Z"
   },
   {
    "duration": 5,
    "start_time": "2024-12-23T15:16:28.465Z"
   },
   {
    "duration": 47,
    "start_time": "2024-12-23T15:16:28.471Z"
   },
   {
    "duration": 9,
    "start_time": "2024-12-23T15:16:28.520Z"
   },
   {
    "duration": 9,
    "start_time": "2024-12-23T15:16:28.554Z"
   },
   {
    "duration": 21,
    "start_time": "2024-12-23T15:16:28.565Z"
   },
   {
    "duration": 16,
    "start_time": "2024-12-23T15:16:28.588Z"
   },
   {
    "duration": 81,
    "start_time": "2024-12-23T15:16:28.606Z"
   },
   {
    "duration": 18,
    "start_time": "2024-12-23T15:16:28.688Z"
   },
   {
    "duration": 7,
    "start_time": "2024-12-23T15:16:28.708Z"
   },
   {
    "duration": 3,
    "start_time": "2024-12-23T15:16:28.717Z"
   },
   {
    "duration": 32,
    "start_time": "2024-12-23T15:16:28.722Z"
   },
   {
    "duration": 47,
    "start_time": "2024-12-23T15:16:28.756Z"
   },
   {
    "duration": 8,
    "start_time": "2024-12-23T15:16:28.805Z"
   },
   {
    "duration": 20,
    "start_time": "2024-12-23T15:16:28.814Z"
   },
   {
    "duration": 96,
    "start_time": "2024-12-23T15:16:28.836Z"
   },
   {
    "duration": 8,
    "start_time": "2024-12-23T15:16:28.934Z"
   },
   {
    "duration": 6,
    "start_time": "2024-12-23T15:16:28.943Z"
   },
   {
    "duration": 1239,
    "start_time": "2024-12-23T15:16:28.950Z"
   },
   {
    "duration": 8,
    "start_time": "2024-12-23T15:16:30.191Z"
   },
   {
    "duration": 60,
    "start_time": "2024-12-23T15:16:30.201Z"
   },
   {
    "duration": 57,
    "start_time": "2024-12-23T15:16:30.262Z"
   },
   {
    "duration": 69,
    "start_time": "2024-12-23T15:16:30.320Z"
   },
   {
    "duration": 61,
    "start_time": "2024-12-23T15:16:30.390Z"
   },
   {
    "duration": 49,
    "start_time": "2024-12-23T15:16:30.452Z"
   },
   {
    "duration": 103,
    "start_time": "2024-12-23T15:16:30.502Z"
   },
   {
    "duration": 4,
    "start_time": "2024-12-23T15:16:30.607Z"
   },
   {
    "duration": 61,
    "start_time": "2024-12-23T15:16:30.613Z"
   },
   {
    "duration": 42,
    "start_time": "2024-12-23T15:16:30.676Z"
   },
   {
    "duration": 32,
    "start_time": "2024-12-23T15:16:30.720Z"
   },
   {
    "duration": 419,
    "start_time": "2024-12-23T15:16:30.753Z"
   },
   {
    "duration": 3,
    "start_time": "2024-12-23T15:16:31.174Z"
   },
   {
    "duration": 26,
    "start_time": "2024-12-23T15:16:31.179Z"
   },
   {
    "duration": 14,
    "start_time": "2024-12-23T15:16:31.206Z"
   },
   {
    "duration": 6,
    "start_time": "2024-12-23T15:16:31.222Z"
   },
   {
    "duration": 80,
    "start_time": "2024-12-23T15:16:31.230Z"
   },
   {
    "duration": 0,
    "start_time": "2024-12-23T15:16:31.312Z"
   },
   {
    "duration": 0,
    "start_time": "2024-12-23T15:16:31.314Z"
   },
   {
    "duration": 0,
    "start_time": "2024-12-23T15:16:31.315Z"
   },
   {
    "duration": 0,
    "start_time": "2024-12-23T15:16:31.317Z"
   },
   {
    "duration": 0,
    "start_time": "2024-12-23T15:16:31.318Z"
   },
   {
    "duration": 969,
    "start_time": "2024-12-23T15:16:41.712Z"
   },
   {
    "duration": 3,
    "start_time": "2024-12-23T15:16:42.683Z"
   },
   {
    "duration": 5,
    "start_time": "2024-12-23T15:16:42.688Z"
   },
   {
    "duration": 304,
    "start_time": "2024-12-23T15:16:42.695Z"
   },
   {
    "duration": 4,
    "start_time": "2024-12-23T15:16:43.001Z"
   },
   {
    "duration": 19,
    "start_time": "2024-12-23T15:16:43.006Z"
   },
   {
    "duration": 29,
    "start_time": "2024-12-23T15:16:43.026Z"
   },
   {
    "duration": 9,
    "start_time": "2024-12-23T15:16:43.056Z"
   },
   {
    "duration": 20,
    "start_time": "2024-12-23T15:16:43.066Z"
   },
   {
    "duration": 5,
    "start_time": "2024-12-23T15:16:43.088Z"
   },
   {
    "duration": 20,
    "start_time": "2024-12-23T15:16:43.095Z"
   },
   {
    "duration": 4,
    "start_time": "2024-12-23T15:16:43.117Z"
   },
   {
    "duration": 752,
    "start_time": "2024-12-23T15:16:43.122Z"
   },
   {
    "duration": 5,
    "start_time": "2024-12-23T15:16:43.875Z"
   },
   {
    "duration": 232,
    "start_time": "2024-12-23T15:16:43.882Z"
   },
   {
    "duration": 167,
    "start_time": "2024-12-23T15:16:44.116Z"
   },
   {
    "duration": 5,
    "start_time": "2024-12-23T15:16:44.284Z"
   },
   {
    "duration": 30,
    "start_time": "2024-12-23T15:16:44.290Z"
   },
   {
    "duration": 13,
    "start_time": "2024-12-23T15:16:44.321Z"
   },
   {
    "duration": 373,
    "start_time": "2024-12-23T15:16:44.335Z"
   },
   {
    "duration": 10,
    "start_time": "2024-12-23T15:16:44.709Z"
   },
   {
    "duration": 11,
    "start_time": "2024-12-23T15:16:44.720Z"
   },
   {
    "duration": 66,
    "start_time": "2024-12-23T15:16:44.732Z"
   },
   {
    "duration": 14,
    "start_time": "2024-12-23T15:16:44.799Z"
   },
   {
    "duration": 56,
    "start_time": "2024-12-23T15:16:44.815Z"
   },
   {
    "duration": 45,
    "start_time": "2024-12-23T15:16:44.873Z"
   },
   {
    "duration": 42,
    "start_time": "2024-12-23T15:16:44.919Z"
   },
   {
    "duration": 203,
    "start_time": "2024-12-23T15:16:44.965Z"
   },
   {
    "duration": 3,
    "start_time": "2024-12-23T15:16:45.170Z"
   },
   {
    "duration": 47,
    "start_time": "2024-12-23T15:16:45.175Z"
   },
   {
    "duration": 21,
    "start_time": "2024-12-23T15:16:45.223Z"
   },
   {
    "duration": 81,
    "start_time": "2024-12-23T15:16:45.245Z"
   },
   {
    "duration": 14,
    "start_time": "2024-12-23T15:16:45.328Z"
   },
   {
    "duration": 18,
    "start_time": "2024-12-23T15:16:45.343Z"
   },
   {
    "duration": 18,
    "start_time": "2024-12-23T15:16:45.362Z"
   },
   {
    "duration": 38,
    "start_time": "2024-12-23T15:16:45.382Z"
   },
   {
    "duration": 15,
    "start_time": "2024-12-23T15:16:45.421Z"
   },
   {
    "duration": 52,
    "start_time": "2024-12-23T15:16:45.437Z"
   },
   {
    "duration": 12,
    "start_time": "2024-12-23T15:16:45.490Z"
   },
   {
    "duration": 10,
    "start_time": "2024-12-23T15:16:45.504Z"
   },
   {
    "duration": 50,
    "start_time": "2024-12-23T15:16:45.516Z"
   },
   {
    "duration": 9,
    "start_time": "2024-12-23T15:16:45.568Z"
   },
   {
    "duration": 39,
    "start_time": "2024-12-23T15:16:45.579Z"
   },
   {
    "duration": 57,
    "start_time": "2024-12-23T15:16:45.619Z"
   },
   {
    "duration": 21,
    "start_time": "2024-12-23T15:16:45.677Z"
   },
   {
    "duration": 55,
    "start_time": "2024-12-23T15:16:45.699Z"
   },
   {
    "duration": 16,
    "start_time": "2024-12-23T15:16:45.755Z"
   },
   {
    "duration": 7,
    "start_time": "2024-12-23T15:16:45.772Z"
   },
   {
    "duration": 5,
    "start_time": "2024-12-23T15:16:45.780Z"
   },
   {
    "duration": 5,
    "start_time": "2024-12-23T15:16:45.786Z"
   },
   {
    "duration": 68,
    "start_time": "2024-12-23T15:16:45.792Z"
   },
   {
    "duration": 7,
    "start_time": "2024-12-23T15:16:45.862Z"
   },
   {
    "duration": 19,
    "start_time": "2024-12-23T15:16:45.870Z"
   },
   {
    "duration": 25,
    "start_time": "2024-12-23T15:16:45.890Z"
   },
   {
    "duration": 7,
    "start_time": "2024-12-23T15:16:45.916Z"
   },
   {
    "duration": 7,
    "start_time": "2024-12-23T15:16:45.924Z"
   },
   {
    "duration": 1236,
    "start_time": "2024-12-23T15:16:45.933Z"
   },
   {
    "duration": 7,
    "start_time": "2024-12-23T15:16:47.170Z"
   },
   {
    "duration": 10,
    "start_time": "2024-12-23T15:16:47.178Z"
   },
   {
    "duration": 7,
    "start_time": "2024-12-23T15:16:47.189Z"
   },
   {
    "duration": 8,
    "start_time": "2024-12-23T15:16:47.198Z"
   },
   {
    "duration": 24,
    "start_time": "2024-12-23T15:16:47.207Z"
   },
   {
    "duration": 4,
    "start_time": "2024-12-23T15:16:47.254Z"
   },
   {
    "duration": 87,
    "start_time": "2024-12-23T15:16:47.259Z"
   },
   {
    "duration": 3,
    "start_time": "2024-12-23T15:16:47.348Z"
   },
   {
    "duration": 36,
    "start_time": "2024-12-23T15:16:47.352Z"
   },
   {
    "duration": 6,
    "start_time": "2024-12-23T15:16:47.389Z"
   },
   {
    "duration": 8,
    "start_time": "2024-12-23T15:16:47.397Z"
   },
   {
    "duration": 442,
    "start_time": "2024-12-23T15:16:47.406Z"
   },
   {
    "duration": 2,
    "start_time": "2024-12-23T15:16:47.853Z"
   },
   {
    "duration": 49,
    "start_time": "2024-12-23T15:16:47.857Z"
   },
   {
    "duration": 10,
    "start_time": "2024-12-23T15:16:47.907Z"
   },
   {
    "duration": 25,
    "start_time": "2024-12-23T15:16:47.918Z"
   },
   {
    "duration": 3,
    "start_time": "2024-12-23T15:16:47.945Z"
   },
   {
    "duration": 116,
    "start_time": "2024-12-23T15:16:47.949Z"
   },
   {
    "duration": 3,
    "start_time": "2024-12-23T15:16:48.066Z"
   },
   {
    "duration": 69,
    "start_time": "2024-12-23T15:16:48.070Z"
   },
   {
    "duration": 93,
    "start_time": "2024-12-23T15:16:48.141Z"
   },
   {
    "duration": 1040,
    "start_time": "2024-12-24T07:38:48.539Z"
   },
   {
    "duration": 3,
    "start_time": "2024-12-24T07:38:49.580Z"
   },
   {
    "duration": 8,
    "start_time": "2024-12-24T07:38:49.584Z"
   },
   {
    "duration": 341,
    "start_time": "2024-12-24T07:38:49.594Z"
   },
   {
    "duration": 21,
    "start_time": "2024-12-24T07:38:49.936Z"
   },
   {
    "duration": 28,
    "start_time": "2024-12-24T07:38:49.958Z"
   },
   {
    "duration": 10,
    "start_time": "2024-12-24T07:38:49.988Z"
   },
   {
    "duration": 19,
    "start_time": "2024-12-24T07:38:49.999Z"
   },
   {
    "duration": 34,
    "start_time": "2024-12-24T07:38:50.020Z"
   },
   {
    "duration": 12,
    "start_time": "2024-12-24T07:38:50.056Z"
   },
   {
    "duration": 17,
    "start_time": "2024-12-24T07:38:50.069Z"
   },
   {
    "duration": 20,
    "start_time": "2024-12-24T07:38:50.087Z"
   },
   {
    "duration": 713,
    "start_time": "2024-12-24T07:38:50.109Z"
   },
   {
    "duration": 5,
    "start_time": "2024-12-24T07:38:50.823Z"
   },
   {
    "duration": 219,
    "start_time": "2024-12-24T07:38:50.829Z"
   },
   {
    "duration": 169,
    "start_time": "2024-12-24T07:38:51.050Z"
   },
   {
    "duration": 4,
    "start_time": "2024-12-24T07:38:51.220Z"
   },
   {
    "duration": 39,
    "start_time": "2024-12-24T07:38:51.226Z"
   },
   {
    "duration": 13,
    "start_time": "2024-12-24T07:38:51.267Z"
   },
   {
    "duration": 325,
    "start_time": "2024-12-24T07:38:51.282Z"
   },
   {
    "duration": 11,
    "start_time": "2024-12-24T07:38:51.608Z"
   },
   {
    "duration": 11,
    "start_time": "2024-12-24T07:38:51.620Z"
   },
   {
    "duration": 71,
    "start_time": "2024-12-24T07:38:51.633Z"
   },
   {
    "duration": 15,
    "start_time": "2024-12-24T07:38:51.706Z"
   },
   {
    "duration": 61,
    "start_time": "2024-12-24T07:38:51.723Z"
   },
   {
    "duration": 16,
    "start_time": "2024-12-24T07:38:51.786Z"
   },
   {
    "duration": 79,
    "start_time": "2024-12-24T07:38:51.804Z"
   },
   {
    "duration": 208,
    "start_time": "2024-12-24T07:38:51.888Z"
   },
   {
    "duration": 5,
    "start_time": "2024-12-24T07:38:52.097Z"
   },
   {
    "duration": 36,
    "start_time": "2024-12-24T07:38:52.103Z"
   },
   {
    "duration": 23,
    "start_time": "2024-12-24T07:38:52.141Z"
   },
   {
    "duration": 17,
    "start_time": "2024-12-24T07:38:52.166Z"
   },
   {
    "duration": 14,
    "start_time": "2024-12-24T07:38:52.184Z"
   },
   {
    "duration": 7,
    "start_time": "2024-12-24T07:38:52.199Z"
   },
   {
    "duration": 32,
    "start_time": "2024-12-24T07:38:52.207Z"
   },
   {
    "duration": 14,
    "start_time": "2024-12-24T07:38:52.240Z"
   },
   {
    "duration": 11,
    "start_time": "2024-12-24T07:38:52.256Z"
   },
   {
    "duration": 24,
    "start_time": "2024-12-24T07:38:52.269Z"
   },
   {
    "duration": 13,
    "start_time": "2024-12-24T07:38:52.295Z"
   },
   {
    "duration": 12,
    "start_time": "2024-12-24T07:38:52.310Z"
   },
   {
    "duration": 65,
    "start_time": "2024-12-24T07:38:52.323Z"
   },
   {
    "duration": 10,
    "start_time": "2024-12-24T07:38:52.390Z"
   },
   {
    "duration": 17,
    "start_time": "2024-12-24T07:38:52.402Z"
   },
   {
    "duration": 36,
    "start_time": "2024-12-24T07:38:52.421Z"
   },
   {
    "duration": 18,
    "start_time": "2024-12-24T07:38:52.458Z"
   },
   {
    "duration": 54,
    "start_time": "2024-12-24T07:38:52.477Z"
   },
   {
    "duration": 34,
    "start_time": "2024-12-24T07:38:52.533Z"
   },
   {
    "duration": 8,
    "start_time": "2024-12-24T07:38:52.569Z"
   },
   {
    "duration": 4,
    "start_time": "2024-12-24T07:38:52.578Z"
   },
   {
    "duration": 15,
    "start_time": "2024-12-24T07:38:52.583Z"
   },
   {
    "duration": 69,
    "start_time": "2024-12-24T07:38:52.599Z"
   },
   {
    "duration": 7,
    "start_time": "2024-12-24T07:38:52.669Z"
   },
   {
    "duration": 17,
    "start_time": "2024-12-24T07:38:52.677Z"
   },
   {
    "duration": 38,
    "start_time": "2024-12-24T07:38:52.695Z"
   },
   {
    "duration": 14,
    "start_time": "2024-12-24T07:38:52.734Z"
   },
   {
    "duration": 16,
    "start_time": "2024-12-24T07:38:52.750Z"
   },
   {
    "duration": 1207,
    "start_time": "2024-12-24T07:38:52.768Z"
   },
   {
    "duration": 7,
    "start_time": "2024-12-24T07:38:53.976Z"
   },
   {
    "duration": 11,
    "start_time": "2024-12-24T07:38:53.984Z"
   },
   {
    "duration": 10,
    "start_time": "2024-12-24T07:38:53.996Z"
   },
   {
    "duration": 13,
    "start_time": "2024-12-24T07:38:54.007Z"
   },
   {
    "duration": 38,
    "start_time": "2024-12-24T07:38:54.021Z"
   },
   {
    "duration": 4,
    "start_time": "2024-12-24T07:38:54.060Z"
   },
   {
    "duration": 97,
    "start_time": "2024-12-24T07:38:54.066Z"
   },
   {
    "duration": 4,
    "start_time": "2024-12-24T07:38:54.164Z"
   },
   {
    "duration": 35,
    "start_time": "2024-12-24T07:38:54.169Z"
   },
   {
    "duration": 10,
    "start_time": "2024-12-24T07:38:54.205Z"
   },
   {
    "duration": 9,
    "start_time": "2024-12-24T07:38:54.216Z"
   },
   {
    "duration": 458,
    "start_time": "2024-12-24T07:38:54.226Z"
   },
   {
    "duration": 2,
    "start_time": "2024-12-24T07:38:54.686Z"
   },
   {
    "duration": 42,
    "start_time": "2024-12-24T07:38:54.690Z"
   },
   {
    "duration": 10,
    "start_time": "2024-12-24T07:38:54.733Z"
   },
   {
    "duration": 41,
    "start_time": "2024-12-24T07:38:54.745Z"
   },
   {
    "duration": 7,
    "start_time": "2024-12-24T07:38:54.787Z"
   },
   {
    "duration": 104,
    "start_time": "2024-12-24T07:38:54.795Z"
   },
   {
    "duration": 2,
    "start_time": "2024-12-24T07:38:54.901Z"
   },
   {
    "duration": 75,
    "start_time": "2024-12-24T07:38:54.905Z"
   },
   {
    "duration": 107,
    "start_time": "2024-12-24T07:38:54.982Z"
   },
   {
    "duration": 13,
    "start_time": "2024-12-24T07:46:55.453Z"
   },
   {
    "duration": 1063,
    "start_time": "2024-12-26T09:40:14.263Z"
   },
   {
    "duration": 3,
    "start_time": "2024-12-26T09:40:15.328Z"
   },
   {
    "duration": 31,
    "start_time": "2024-12-26T09:40:15.332Z"
   },
   {
    "duration": 513,
    "start_time": "2024-12-26T09:40:15.364Z"
   },
   {
    "duration": 4,
    "start_time": "2024-12-26T09:40:15.879Z"
   },
   {
    "duration": 16,
    "start_time": "2024-12-26T09:40:15.884Z"
   },
   {
    "duration": 25,
    "start_time": "2024-12-26T09:40:15.902Z"
   },
   {
    "duration": 14,
    "start_time": "2024-12-26T09:40:15.928Z"
   },
   {
    "duration": 11,
    "start_time": "2024-12-26T09:40:15.945Z"
   },
   {
    "duration": 8,
    "start_time": "2024-12-26T09:40:15.958Z"
   },
   {
    "duration": 12,
    "start_time": "2024-12-26T09:40:15.968Z"
   },
   {
    "duration": 47,
    "start_time": "2024-12-26T09:40:15.982Z"
   },
   {
    "duration": 20,
    "start_time": "2024-12-26T09:40:16.031Z"
   },
   {
    "duration": 15,
    "start_time": "2024-12-26T09:40:16.054Z"
   },
   {
    "duration": 16,
    "start_time": "2024-12-26T09:40:16.071Z"
   },
   {
    "duration": 11,
    "start_time": "2024-12-26T09:40:16.089Z"
   },
   {
    "duration": 29,
    "start_time": "2024-12-26T09:40:16.102Z"
   },
   {
    "duration": 732,
    "start_time": "2024-12-26T09:40:16.132Z"
   },
   {
    "duration": 5,
    "start_time": "2024-12-26T09:40:16.866Z"
   },
   {
    "duration": 240,
    "start_time": "2024-12-26T09:40:16.872Z"
   },
   {
    "duration": 10,
    "start_time": "2024-12-26T09:40:17.114Z"
   },
   {
    "duration": 35,
    "start_time": "2024-12-26T09:40:17.125Z"
   },
   {
    "duration": 82,
    "start_time": "2024-12-26T09:40:17.162Z"
   },
   {
    "duration": 54,
    "start_time": "2024-12-26T09:40:17.245Z"
   },
   {
    "duration": 24,
    "start_time": "2024-12-26T09:40:17.301Z"
   },
   {
    "duration": 40,
    "start_time": "2024-12-26T09:40:17.326Z"
   },
   {
    "duration": 6,
    "start_time": "2024-12-26T09:40:17.368Z"
   },
   {
    "duration": 18,
    "start_time": "2024-12-26T09:40:17.375Z"
   },
   {
    "duration": 315,
    "start_time": "2024-12-26T09:40:17.395Z"
   },
   {
    "duration": 11,
    "start_time": "2024-12-26T09:40:17.711Z"
   },
   {
    "duration": 74,
    "start_time": "2024-12-26T09:40:17.724Z"
   },
   {
    "duration": 66,
    "start_time": "2024-12-26T09:40:17.800Z"
   },
   {
    "duration": 14,
    "start_time": "2024-12-26T09:40:17.868Z"
   },
   {
    "duration": 73,
    "start_time": "2024-12-26T09:40:17.884Z"
   },
   {
    "duration": 23,
    "start_time": "2024-12-26T09:40:17.959Z"
   },
   {
    "duration": 64,
    "start_time": "2024-12-26T09:40:17.983Z"
   },
   {
    "duration": 193,
    "start_time": "2024-12-26T09:40:18.048Z"
   },
   {
    "duration": 3,
    "start_time": "2024-12-26T09:40:18.243Z"
   },
   {
    "duration": 61,
    "start_time": "2024-12-26T09:40:18.248Z"
   },
   {
    "duration": 15,
    "start_time": "2024-12-26T09:40:18.311Z"
   },
   {
    "duration": 6,
    "start_time": "2024-12-26T09:40:18.332Z"
   },
   {
    "duration": 32,
    "start_time": "2024-12-26T09:40:18.339Z"
   },
   {
    "duration": 8,
    "start_time": "2024-12-26T09:40:18.373Z"
   },
   {
    "duration": 11,
    "start_time": "2024-12-26T09:40:18.383Z"
   },
   {
    "duration": 12,
    "start_time": "2024-12-26T09:40:18.396Z"
   },
   {
    "duration": 13,
    "start_time": "2024-12-26T09:40:18.410Z"
   },
   {
    "duration": 56,
    "start_time": "2024-12-26T09:40:18.424Z"
   },
   {
    "duration": 19,
    "start_time": "2024-12-26T09:40:18.481Z"
   },
   {
    "duration": 6,
    "start_time": "2024-12-26T09:40:18.502Z"
   },
   {
    "duration": 54,
    "start_time": "2024-12-26T09:40:18.510Z"
   },
   {
    "duration": 9,
    "start_time": "2024-12-26T09:40:18.565Z"
   },
   {
    "duration": 16,
    "start_time": "2024-12-26T09:40:18.575Z"
   },
   {
    "duration": 40,
    "start_time": "2024-12-26T09:40:18.593Z"
   },
   {
    "duration": 15,
    "start_time": "2024-12-26T09:40:18.635Z"
   },
   {
    "duration": 72,
    "start_time": "2024-12-26T09:40:18.652Z"
   },
   {
    "duration": 12,
    "start_time": "2024-12-26T09:40:18.726Z"
   },
   {
    "duration": 100,
    "start_time": "2024-12-26T09:40:18.739Z"
   },
   {
    "duration": 61,
    "start_time": "2024-12-26T09:40:18.840Z"
   },
   {
    "duration": 5,
    "start_time": "2024-12-26T09:40:18.903Z"
   },
   {
    "duration": 80,
    "start_time": "2024-12-26T09:40:18.909Z"
   },
   {
    "duration": 33,
    "start_time": "2024-12-26T09:40:18.991Z"
   },
   {
    "duration": 35,
    "start_time": "2024-12-26T09:40:19.026Z"
   },
   {
    "duration": 88,
    "start_time": "2024-12-26T09:40:19.063Z"
   },
   {
    "duration": 88,
    "start_time": "2024-12-26T09:40:19.153Z"
   },
   {
    "duration": 88,
    "start_time": "2024-12-26T09:40:19.243Z"
   },
   {
    "duration": 3,
    "start_time": "2024-12-26T09:40:19.332Z"
   },
   {
    "duration": 29,
    "start_time": "2024-12-26T09:40:19.336Z"
   },
   {
    "duration": 10,
    "start_time": "2024-12-26T09:40:19.367Z"
   },
   {
    "duration": 36,
    "start_time": "2024-12-26T09:40:19.378Z"
   },
   {
    "duration": 43,
    "start_time": "2024-12-26T09:40:19.416Z"
   },
   {
    "duration": 119,
    "start_time": "2024-12-26T09:40:19.461Z"
   },
   {
    "duration": 3,
    "start_time": "2024-12-26T09:40:19.581Z"
   },
   {
    "duration": 33,
    "start_time": "2024-12-26T09:40:19.585Z"
   },
   {
    "duration": 103,
    "start_time": "2024-12-26T09:40:19.620Z"
   },
   {
    "duration": 1154,
    "start_time": "2024-12-27T05:40:01.591Z"
   },
   {
    "duration": 4,
    "start_time": "2024-12-27T05:40:02.747Z"
   },
   {
    "duration": 142,
    "start_time": "2024-12-27T05:40:02.752Z"
   },
   {
    "duration": 584,
    "start_time": "2024-12-27T05:40:02.896Z"
   },
   {
    "duration": 5,
    "start_time": "2024-12-27T05:40:03.482Z"
   },
   {
    "duration": 155,
    "start_time": "2024-12-27T05:40:03.489Z"
   },
   {
    "duration": 40,
    "start_time": "2024-12-27T05:40:03.645Z"
   },
   {
    "duration": 17,
    "start_time": "2024-12-27T05:40:03.687Z"
   },
   {
    "duration": 30,
    "start_time": "2024-12-27T05:40:03.706Z"
   },
   {
    "duration": 31,
    "start_time": "2024-12-27T05:40:03.739Z"
   },
   {
    "duration": 11,
    "start_time": "2024-12-27T05:40:03.772Z"
   },
   {
    "duration": 10,
    "start_time": "2024-12-27T05:40:03.784Z"
   },
   {
    "duration": 31,
    "start_time": "2024-12-27T05:40:03.795Z"
   },
   {
    "duration": 17,
    "start_time": "2024-12-27T05:40:03.828Z"
   },
   {
    "duration": 19,
    "start_time": "2024-12-27T05:40:03.847Z"
   },
   {
    "duration": 5,
    "start_time": "2024-12-27T05:40:03.868Z"
   },
   {
    "duration": 4,
    "start_time": "2024-12-27T05:40:03.875Z"
   },
   {
    "duration": 11,
    "start_time": "2024-12-27T05:40:03.880Z"
   },
   {
    "duration": 846,
    "start_time": "2024-12-27T05:40:03.893Z"
   },
   {
    "duration": 5,
    "start_time": "2024-12-27T05:40:04.741Z"
   },
   {
    "duration": 167,
    "start_time": "2024-12-27T05:40:04.748Z"
   },
   {
    "duration": 16,
    "start_time": "2024-12-27T05:40:04.916Z"
   },
   {
    "duration": 60,
    "start_time": "2024-12-27T05:40:04.933Z"
   },
   {
    "duration": 6,
    "start_time": "2024-12-27T05:40:04.995Z"
   },
   {
    "duration": 16,
    "start_time": "2024-12-27T05:40:05.002Z"
   },
   {
    "duration": 385,
    "start_time": "2024-12-27T05:40:05.019Z"
   },
   {
    "duration": 9,
    "start_time": "2024-12-27T05:40:05.406Z"
   },
   {
    "duration": 30,
    "start_time": "2024-12-27T05:40:05.419Z"
   },
   {
    "duration": 54,
    "start_time": "2024-12-27T05:40:05.450Z"
   },
   {
    "duration": 15,
    "start_time": "2024-12-27T05:40:05.506Z"
   },
   {
    "duration": 145,
    "start_time": "2024-12-27T05:40:05.522Z"
   },
   {
    "duration": 47,
    "start_time": "2024-12-27T05:40:05.669Z"
   },
   {
    "duration": 82,
    "start_time": "2024-12-27T05:40:05.717Z"
   },
   {
    "duration": 211,
    "start_time": "2024-12-27T05:40:05.801Z"
   },
   {
    "duration": 4,
    "start_time": "2024-12-27T05:40:06.014Z"
   },
   {
    "duration": 58,
    "start_time": "2024-12-27T05:40:06.020Z"
   },
   {
    "duration": 13,
    "start_time": "2024-12-27T05:40:06.079Z"
   },
   {
    "duration": 22,
    "start_time": "2024-12-27T05:40:06.093Z"
   },
   {
    "duration": 13,
    "start_time": "2024-12-27T05:40:06.116Z"
   },
   {
    "duration": 27,
    "start_time": "2024-12-27T05:40:06.131Z"
   },
   {
    "duration": 44,
    "start_time": "2024-12-27T05:40:06.160Z"
   },
   {
    "duration": 21,
    "start_time": "2024-12-27T05:40:06.205Z"
   },
   {
    "duration": 13,
    "start_time": "2024-12-27T05:40:06.227Z"
   },
   {
    "duration": 40,
    "start_time": "2024-12-27T05:40:06.241Z"
   },
   {
    "duration": 13,
    "start_time": "2024-12-27T05:40:06.283Z"
   },
   {
    "duration": 26,
    "start_time": "2024-12-27T05:40:06.297Z"
   },
   {
    "duration": 54,
    "start_time": "2024-12-27T05:40:06.325Z"
   },
   {
    "duration": 10,
    "start_time": "2024-12-27T05:40:06.381Z"
   },
   {
    "duration": 21,
    "start_time": "2024-12-27T05:40:06.393Z"
   },
   {
    "duration": 50,
    "start_time": "2024-12-27T05:40:06.416Z"
   },
   {
    "duration": 30,
    "start_time": "2024-12-27T05:40:06.468Z"
   },
   {
    "duration": 63,
    "start_time": "2024-12-27T05:40:06.500Z"
   },
   {
    "duration": 16,
    "start_time": "2024-12-27T05:40:06.565Z"
   },
   {
    "duration": 117,
    "start_time": "2024-12-27T05:40:06.583Z"
   },
   {
    "duration": 9,
    "start_time": "2024-12-27T05:40:06.702Z"
   },
   {
    "duration": 22,
    "start_time": "2024-12-27T05:40:06.713Z"
   },
   {
    "duration": 210,
    "start_time": "2024-12-27T05:40:06.737Z"
   },
   {
    "duration": 32,
    "start_time": "2024-12-27T05:40:06.949Z"
   },
   {
    "duration": 36,
    "start_time": "2024-12-27T05:40:06.982Z"
   },
   {
    "duration": 46,
    "start_time": "2024-12-27T05:40:07.020Z"
   },
   {
    "duration": 93,
    "start_time": "2024-12-27T05:40:07.068Z"
   },
   {
    "duration": 78,
    "start_time": "2024-12-27T05:40:07.171Z"
   },
   {
    "duration": 102,
    "start_time": "2024-12-27T05:40:07.251Z"
   },
   {
    "duration": 3,
    "start_time": "2024-12-27T05:40:07.354Z"
   },
   {
    "duration": 19,
    "start_time": "2024-12-27T05:40:07.371Z"
   },
   {
    "duration": 14,
    "start_time": "2024-12-27T05:40:07.391Z"
   },
   {
    "duration": 10,
    "start_time": "2024-12-27T05:40:07.407Z"
   },
   {
    "duration": 37,
    "start_time": "2024-12-27T05:40:07.419Z"
   },
   {
    "duration": 271,
    "start_time": "2024-12-27T05:40:07.458Z"
   },
   {
    "duration": 2,
    "start_time": "2024-12-27T05:40:07.731Z"
   },
   {
    "duration": 30,
    "start_time": "2024-12-27T05:40:07.734Z"
   },
   {
    "duration": 120,
    "start_time": "2024-12-27T05:40:07.770Z"
   },
   {
    "duration": 1249,
    "start_time": "2024-12-27T11:37:04.939Z"
   },
   {
    "duration": 4,
    "start_time": "2024-12-27T11:37:06.190Z"
   },
   {
    "duration": 45,
    "start_time": "2024-12-27T11:37:06.195Z"
   },
   {
    "duration": 634,
    "start_time": "2024-12-27T11:37:06.241Z"
   },
   {
    "duration": 14,
    "start_time": "2024-12-27T11:37:06.879Z"
   },
   {
    "duration": 69,
    "start_time": "2024-12-27T11:37:06.895Z"
   },
   {
    "duration": 17,
    "start_time": "2024-12-27T11:37:06.966Z"
   },
   {
    "duration": 16,
    "start_time": "2024-12-27T11:37:06.989Z"
   },
   {
    "duration": 10,
    "start_time": "2024-12-27T11:37:07.006Z"
   },
   {
    "duration": 33,
    "start_time": "2024-12-27T11:37:07.017Z"
   },
   {
    "duration": 34,
    "start_time": "2024-12-27T11:37:07.051Z"
   },
   {
    "duration": 16,
    "start_time": "2024-12-27T11:37:07.087Z"
   },
   {
    "duration": 24,
    "start_time": "2024-12-27T11:37:07.105Z"
   },
   {
    "duration": 19,
    "start_time": "2024-12-27T11:37:07.132Z"
   },
   {
    "duration": 34,
    "start_time": "2024-12-27T11:37:07.153Z"
   },
   {
    "duration": 8,
    "start_time": "2024-12-27T11:37:07.189Z"
   },
   {
    "duration": 23,
    "start_time": "2024-12-27T11:37:07.199Z"
   },
   {
    "duration": 61,
    "start_time": "2024-12-27T11:37:07.224Z"
   },
   {
    "duration": 453,
    "start_time": "2024-12-27T11:37:07.288Z"
   },
   {
    "duration": 37,
    "start_time": "2024-12-27T11:37:07.744Z"
   },
   {
    "duration": 11,
    "start_time": "2024-12-27T11:37:07.787Z"
   },
   {
    "duration": 8,
    "start_time": "2024-12-27T11:37:07.800Z"
   },
   {
    "duration": 14,
    "start_time": "2024-12-27T11:37:07.810Z"
   },
   {
    "duration": 115,
    "start_time": "2024-12-27T11:37:07.873Z"
   },
   {
    "duration": 5,
    "start_time": "2024-12-27T11:37:07.995Z"
   },
   {
    "duration": 11,
    "start_time": "2024-12-27T11:37:08.002Z"
   },
   {
    "duration": 26,
    "start_time": "2024-12-27T11:37:08.014Z"
   },
   {
    "duration": 491,
    "start_time": "2024-12-27T11:37:08.042Z"
   },
   {
    "duration": 11,
    "start_time": "2024-12-27T11:37:08.534Z"
   },
   {
    "duration": 38,
    "start_time": "2024-12-27T11:37:08.547Z"
   },
   {
    "duration": 57,
    "start_time": "2024-12-27T11:37:08.591Z"
   },
   {
    "duration": 40,
    "start_time": "2024-12-27T11:37:08.650Z"
   },
   {
    "duration": 53,
    "start_time": "2024-12-27T11:37:08.692Z"
   },
   {
    "duration": 43,
    "start_time": "2024-12-27T11:37:08.747Z"
   },
   {
    "duration": 51,
    "start_time": "2024-12-27T11:37:08.792Z"
   },
   {
    "duration": 289,
    "start_time": "2024-12-27T11:37:08.846Z"
   },
   {
    "duration": 5,
    "start_time": "2024-12-27T11:37:09.137Z"
   },
   {
    "duration": 59,
    "start_time": "2024-12-27T11:37:09.144Z"
   },
   {
    "duration": 5,
    "start_time": "2024-12-27T11:37:09.205Z"
   },
   {
    "duration": 6,
    "start_time": "2024-12-27T11:37:09.212Z"
   },
   {
    "duration": 3,
    "start_time": "2024-12-27T11:37:09.222Z"
   },
   {
    "duration": 9,
    "start_time": "2024-12-27T11:37:09.227Z"
   },
   {
    "duration": 20,
    "start_time": "2024-12-27T11:37:09.271Z"
   },
   {
    "duration": 19,
    "start_time": "2024-12-27T11:37:09.293Z"
   },
   {
    "duration": 13,
    "start_time": "2024-12-27T11:37:09.315Z"
   },
   {
    "duration": 66,
    "start_time": "2024-12-27T11:37:09.330Z"
   },
   {
    "duration": 15,
    "start_time": "2024-12-27T11:37:09.397Z"
   },
   {
    "duration": 17,
    "start_time": "2024-12-27T11:37:09.413Z"
   },
   {
    "duration": 88,
    "start_time": "2024-12-27T11:37:09.432Z"
   },
   {
    "duration": 11,
    "start_time": "2024-12-27T11:37:09.522Z"
   },
   {
    "duration": 23,
    "start_time": "2024-12-27T11:37:09.535Z"
   },
   {
    "duration": 35,
    "start_time": "2024-12-27T11:37:09.570Z"
   },
   {
    "duration": 18,
    "start_time": "2024-12-27T11:37:09.607Z"
   },
   {
    "duration": 92,
    "start_time": "2024-12-27T11:37:09.627Z"
   },
   {
    "duration": 14,
    "start_time": "2024-12-27T11:37:09.721Z"
   },
   {
    "duration": 116,
    "start_time": "2024-12-27T11:37:09.736Z"
   },
   {
    "duration": 19,
    "start_time": "2024-12-27T11:37:09.854Z"
   },
   {
    "duration": 7,
    "start_time": "2024-12-27T11:37:09.876Z"
   },
   {
    "duration": 102,
    "start_time": "2024-12-27T11:37:09.894Z"
   },
   {
    "duration": 29,
    "start_time": "2024-12-27T11:37:10.007Z"
   },
   {
    "duration": 134,
    "start_time": "2024-12-27T11:37:10.039Z"
   },
   {
    "duration": 125,
    "start_time": "2024-12-27T11:37:10.179Z"
   },
   {
    "duration": 114,
    "start_time": "2024-12-27T11:37:10.307Z"
   },
   {
    "duration": 3,
    "start_time": "2024-12-27T11:37:10.422Z"
   },
   {
    "duration": 110,
    "start_time": "2024-12-27T11:37:10.427Z"
   },
   {
    "duration": 11,
    "start_time": "2024-12-27T11:37:10.539Z"
   },
   {
    "duration": 6,
    "start_time": "2024-12-27T11:37:10.552Z"
   },
   {
    "duration": 13,
    "start_time": "2024-12-27T11:37:10.559Z"
   },
   {
    "duration": 336,
    "start_time": "2024-12-27T11:37:10.575Z"
   },
   {
    "duration": 3,
    "start_time": "2024-12-27T11:37:10.913Z"
   },
   {
    "duration": 51,
    "start_time": "2024-12-27T11:37:10.918Z"
   },
   {
    "duration": 141,
    "start_time": "2024-12-27T11:37:10.974Z"
   },
   {
    "duration": 1226,
    "start_time": "2024-12-27T18:07:43.362Z"
   },
   {
    "duration": 4,
    "start_time": "2024-12-27T18:07:44.591Z"
   },
   {
    "duration": 6,
    "start_time": "2024-12-27T18:07:44.597Z"
   },
   {
    "duration": 551,
    "start_time": "2024-12-27T18:07:44.606Z"
   },
   {
    "duration": 15,
    "start_time": "2024-12-27T18:07:45.158Z"
   },
   {
    "duration": 39,
    "start_time": "2024-12-27T18:07:45.175Z"
   },
   {
    "duration": 44,
    "start_time": "2024-12-27T18:07:45.216Z"
   },
   {
    "duration": 53,
    "start_time": "2024-12-27T18:07:45.262Z"
   },
   {
    "duration": 71,
    "start_time": "2024-12-27T18:07:45.317Z"
   },
   {
    "duration": 26,
    "start_time": "2024-12-27T18:07:45.393Z"
   },
   {
    "duration": 59,
    "start_time": "2024-12-27T18:07:45.420Z"
   },
   {
    "duration": 35,
    "start_time": "2024-12-27T18:07:45.480Z"
   },
   {
    "duration": 30,
    "start_time": "2024-12-27T18:07:45.517Z"
   },
   {
    "duration": 25,
    "start_time": "2024-12-27T18:07:45.549Z"
   },
   {
    "duration": 39,
    "start_time": "2024-12-27T18:07:45.575Z"
   },
   {
    "duration": 11,
    "start_time": "2024-12-27T18:07:45.616Z"
   },
   {
    "duration": 33,
    "start_time": "2024-12-27T18:07:45.628Z"
   },
   {
    "duration": 67,
    "start_time": "2024-12-27T18:07:45.662Z"
   },
   {
    "duration": 852,
    "start_time": "2024-12-27T18:07:45.731Z"
   },
   {
    "duration": 6,
    "start_time": "2024-12-27T18:07:46.585Z"
   },
   {
    "duration": 77,
    "start_time": "2024-12-27T18:07:46.593Z"
   },
   {
    "duration": 7,
    "start_time": "2024-12-27T18:07:46.672Z"
   },
   {
    "duration": 35,
    "start_time": "2024-12-27T18:07:46.682Z"
   },
   {
    "duration": 105,
    "start_time": "2024-12-27T18:07:46.719Z"
   },
   {
    "duration": 4,
    "start_time": "2024-12-27T18:07:46.826Z"
   },
   {
    "duration": 28,
    "start_time": "2024-12-27T18:07:46.832Z"
   },
   {
    "duration": 8,
    "start_time": "2024-12-27T18:07:46.862Z"
   },
   {
    "duration": 449,
    "start_time": "2024-12-27T18:07:46.875Z"
   },
   {
    "duration": 10,
    "start_time": "2024-12-27T18:07:47.326Z"
   },
   {
    "duration": 26,
    "start_time": "2024-12-27T18:07:47.338Z"
   },
   {
    "duration": 54,
    "start_time": "2024-12-27T18:07:47.371Z"
   },
   {
    "duration": 18,
    "start_time": "2024-12-27T18:07:47.427Z"
   },
   {
    "duration": 53,
    "start_time": "2024-12-27T18:07:47.469Z"
   },
   {
    "duration": 18,
    "start_time": "2024-12-27T18:07:47.525Z"
   },
   {
    "duration": 73,
    "start_time": "2024-12-27T18:07:47.545Z"
   },
   {
    "duration": 227,
    "start_time": "2024-12-27T18:07:47.620Z"
   },
   {
    "duration": 5,
    "start_time": "2024-12-27T18:07:47.848Z"
   },
   {
    "duration": 44,
    "start_time": "2024-12-27T18:07:47.854Z"
   },
   {
    "duration": 6,
    "start_time": "2024-12-27T18:07:47.899Z"
   },
   {
    "duration": 12,
    "start_time": "2024-12-27T18:07:47.906Z"
   },
   {
    "duration": 3,
    "start_time": "2024-12-27T18:07:47.920Z"
   },
   {
    "duration": 7,
    "start_time": "2024-12-27T18:07:47.925Z"
   },
   {
    "duration": 39,
    "start_time": "2024-12-27T18:07:47.933Z"
   },
   {
    "duration": 13,
    "start_time": "2024-12-27T18:07:47.974Z"
   },
   {
    "duration": 13,
    "start_time": "2024-12-27T18:07:47.989Z"
   },
   {
    "duration": 29,
    "start_time": "2024-12-27T18:07:48.003Z"
   },
   {
    "duration": 43,
    "start_time": "2024-12-27T18:07:48.034Z"
   },
   {
    "duration": 17,
    "start_time": "2024-12-27T18:07:48.079Z"
   },
   {
    "duration": 50,
    "start_time": "2024-12-27T18:07:48.098Z"
   },
   {
    "duration": 20,
    "start_time": "2024-12-27T18:07:48.150Z"
   },
   {
    "duration": 10,
    "start_time": "2024-12-27T18:07:48.172Z"
   },
   {
    "duration": 21,
    "start_time": "2024-12-27T18:07:48.184Z"
   },
   {
    "duration": 18,
    "start_time": "2024-12-27T18:07:48.207Z"
   },
   {
    "duration": 93,
    "start_time": "2024-12-27T18:07:48.227Z"
   },
   {
    "duration": 14,
    "start_time": "2024-12-27T18:07:48.322Z"
   },
   {
    "duration": 103,
    "start_time": "2024-12-27T18:07:48.337Z"
   },
   {
    "duration": 9,
    "start_time": "2024-12-27T18:07:48.442Z"
   },
   {
    "duration": 39,
    "start_time": "2024-12-27T18:07:48.452Z"
   },
   {
    "duration": 82,
    "start_time": "2024-12-27T18:07:48.493Z"
   },
   {
    "duration": 17,
    "start_time": "2024-12-27T18:07:48.576Z"
   },
   {
    "duration": 118,
    "start_time": "2024-12-27T18:07:48.595Z"
   },
   {
    "duration": 101,
    "start_time": "2024-12-27T18:07:48.715Z"
   },
   {
    "duration": 108,
    "start_time": "2024-12-27T18:07:48.817Z"
   },
   {
    "duration": 3,
    "start_time": "2024-12-27T18:07:48.927Z"
   },
   {
    "duration": 39,
    "start_time": "2024-12-27T18:07:48.931Z"
   },
   {
    "duration": 12,
    "start_time": "2024-12-27T18:07:48.972Z"
   },
   {
    "duration": 5,
    "start_time": "2024-12-27T18:07:48.986Z"
   },
   {
    "duration": 16,
    "start_time": "2024-12-27T18:07:48.993Z"
   },
   {
    "duration": 275,
    "start_time": "2024-12-27T18:07:49.011Z"
   },
   {
    "duration": 3,
    "start_time": "2024-12-27T18:07:49.288Z"
   },
   {
    "duration": 28,
    "start_time": "2024-12-27T18:07:49.293Z"
   },
   {
    "duration": 126,
    "start_time": "2024-12-27T18:07:49.322Z"
   }
  ],
  "kernelspec": {
   "display_name": "Python 3",
   "language": "python",
   "name": "python3"
  },
  "language_info": {
   "codemirror_mode": {
    "name": "ipython",
    "version": 3
   },
   "file_extension": ".py",
   "mimetype": "text/x-python",
   "name": "python",
   "nbconvert_exporter": "python",
   "pygments_lexer": "ipython3",
   "version": "3.10.12"
  },
  "toc": {
   "base_numbering": 1,
   "nav_menu": {},
   "number_sections": true,
   "sideBar": true,
   "skip_h1_title": true,
   "title_cell": "Table of Contents",
   "title_sidebar": "Contents",
   "toc_cell": false,
   "toc_position": {},
   "toc_section_display": true,
   "toc_window_display": false
  }
 },
 "nbformat": 4,
 "nbformat_minor": 2
}
