{
 "cells": [
  {
   "cell_type": "markdown",
   "metadata": {},
   "source": [
    "# Исследовательский анализ профилей потребления пользователей интернет-магазина \"Пока все еще тут\""
   ]
  },
  {
   "cell_type": "markdown",
   "metadata": {},
   "source": [
    "## Материалы  \n",
    "[презентация](https://drive.google.com/file/d/1ZQf3DY9k2iywRuIsTg3M1KeCNh9TBGXh/view?usp=sharing)"
   ]
  },
  {
   "cell_type": "markdown",
   "metadata": {},
   "source": [
    "## Описание данных"
   ]
  },
  {
   "cell_type": "markdown",
   "metadata": {},
   "source": [
    "Датасет описывает транзакции интернет магазина товаров для дома и быта \"Пока все ещё тут\"   \n",
    "\n",
    "Колонки `ecom_dataset_upd.csv`:   \n",
    "`date` - дата заказа   \n",
    "`customer_id` - идентификатор покупателя   \n",
    "`order_id` - идентификатор заказа   \n",
    "`product` - наименование товара   \n",
    "`quantity` - количество товара в заказе   \n",
    "`price` - цена товара  \n",
    "\n"
   ]
  },
  {
   "cell_type": "markdown",
   "metadata": {},
   "source": [
    "## Декомпозиция"
   ]
  },
  {
   "cell_type": "markdown",
   "metadata": {},
   "source": [
    " \n",
    "### Цели: \n",
    "1. разработать рекомендации: каким клиентам и когда рассылать рекламные предложения о каких-либо категориях товаров   \n",
    "2. разработать стратегию по увеличению количества продаваемого товара для каждого сегмента    \n",
    "3. предложить способы повышения возвращаемости покупателей для различных сегментов\n",
    "\n"
   ]
  },
  {
   "cell_type": "markdown",
   "metadata": {},
   "source": [
    "### Предобработка\n"
   ]
  },
  {
   "cell_type": "markdown",
   "metadata": {},
   "source": [
    "1. форматирование названия столбцов\n",
    "2. проверка типов данных\n",
    "3. приведение данных к нужному типу\n",
    "4. проверка на явные и неявные дубликаты \n",
    "5. устранение дубликатов \n",
    "6. проверка на пропуски\n",
    "7. устранение пропусков\n",
    "8. приведение даты к нужному формату и типу\n"
   ]
  },
  {
   "cell_type": "markdown",
   "metadata": {},
   "source": [
    "### Исследовательский аналих данных\n"
   ]
  },
  {
   "cell_type": "markdown",
   "metadata": {},
   "source": [
    "1. Узнать период за который собраны данные\n",
    "2. найти выбросы и их обработать\n",
    "3. выделить основные показатели интернет-магазина\n",
    "    1) динамика выручки\n",
    "    2) средний чек и его динамику\n",
    "    3) помесячную динамику средней выручки\n",
    "4. сегментация покупателей на основе из истории покупок при помощи RFM анализа\n",
    "5. анализ сегментов\n",
    "    1) количество покупателей\n",
    "    2)  средний чек\n",
    "    3) основные продукты и категории\n",
    "    \n",
    "6. анализ сезонности товаров в разрезе сегментов покупателей \n",
    "\n",
    "7. Гипотезы   \n",
    "    1) Нулевая гипотеза: средние чеки сегментов групп равны   \n",
    "    Альт. гипотеза: средние чеки сегментов групп разные\n",
    "       \n",
    "    2) Нулевая гипотеза: средняя выручка сегментов групп одинаковая     \n",
    "    Альт. гипотеза: ср. выручка сегментов групп разная \n"
   ]
  },
  {
   "cell_type": "markdown",
   "metadata": {},
   "source": [
    "## Загрузка библиотек и файлов исследования"
   ]
  },
  {
   "cell_type": "markdown",
   "metadata": {},
   "source": [
    "Выполним загрузку  для анализа и файлов исследования"
   ]
  },
  {
   "cell_type": "code",
   "execution_count": 79,
   "metadata": {},
   "outputs": [],
   "source": [
    "import pandas as pd\n",
    "import plotly.express as px\n",
    "\n",
    "\n",
    "import numpy as np\n",
    "import scipy.stats as st\n",
    "\n",
    "# для вывода полного содержимого ячейки\n",
    "pd.options.display.max_colwidth = 190\n",
    "\n",
    "\n",
    "import warnings\n",
    "warnings.filterwarnings('ignore')\n",
    "\n",
    "\n",
    "\n",
    "\n",
    "data = pd.read_csv(\n",
    "        'https://code.s3.yandex.net/datasets/ecom_dataset_upd.csv')"
   ]
  },
  {
   "cell_type": "markdown",
   "metadata": {},
   "source": [
    "Так как состояние данных - это неизвестность пока их не посмотришь, выполним этап предобработки - ведь от их качества зависит все результатаы исследования"
   ]
  },
  {
   "cell_type": "markdown",
   "metadata": {},
   "source": [
    "## Предобработка"
   ]
  },
  {
   "cell_type": "markdown",
   "metadata": {},
   "source": [
    " \n",
    "Для начала отформатируем названия столбцов - избавимся от пробелов слева и/или справа от названия столбцов"
   ]
  },
  {
   "cell_type": "code",
   "execution_count": 80,
   "metadata": {},
   "outputs": [],
   "source": [
    "data.columns = list(map(lambda x: x.strip(), data.columns))"
   ]
  },
  {
   "cell_type": "markdown",
   "metadata": {},
   "source": [
    "Посмотрим на данные при помощи самодельной функции"
   ]
  },
  {
   "cell_type": "code",
   "execution_count": 81,
   "metadata": {},
   "outputs": [],
   "source": [
    "def get_info_dataframe(dataframe,\n",
    "                       transpose=False,\n",
    "                       count_rows=5\n",
    "                       ):\n",
    "    \"\"\"\n",
    "    Получение основной информации о датафрейме\\n\n",
    "\n",
    "    `dataframe` - исследуемый датафрейм\\n\n",
    "    `transpose` - перевернуть таблицу на 90°\\n\n",
    "    `count_rows` - количество первых выводимых строк\n",
    "    \"\"\"\n",
    "\n",
    "    # -----------------сборка таблицы с пропусками---------------------\n",
    "    # число пропусков\n",
    "    count_missing = dataframe.isna().sum()\n",
    "    \n",
    "    # доля пропусков\n",
    "    missing_percent = count_missing / len(dataframe)*100\n",
    "\n",
    "    # сборка\n",
    "    df = pd.DataFrame(\n",
    "        data={\n",
    "            'missing_percent': missing_percent,\n",
    "            'count_missing': count_missing\n",
    "        })\n",
    "    \n",
    "    # цветной бар в столбце с долей пропусков и добапвляем знак %\n",
    "    table = (df\n",
    "             .style\n",
    "             .bar(\n",
    "                 subset=\"missing_percent\",\n",
    "                 vmax=100,\n",
    "                 color='red'\n",
    "             )\n",
    "             .format(\n",
    "                 subset=\"missing_percent\",\n",
    "                 formatter=\"{:.2f} %\"\n",
    "             )\n",
    "             )\n",
    "    # --------------------------------------\n",
    "\n",
    "    # сводная информация\n",
    "    print(dataframe.info())\n",
    "\n",
    "    # часть таблицы\n",
    "    if transpose == True:\n",
    "        display(dataframe.head(count_rows).T)\n",
    "    else:\n",
    "        display(dataframe.head(count_rows))\n",
    "\n",
    "    # число дубликатов\n",
    "    print(\n",
    "        f'\\nявных дубликатов: {dataframe.duplicated().sum()}\\n{\". \"*10}'.upper())\n",
    "\n",
    "    # число пропусков\n",
    "    print(f'\\nпропуски'.upper())\n",
    "    display(table)\n",
    "\n",
    "    print('----'*20)"
   ]
  },
  {
   "cell_type": "code",
   "execution_count": 82,
   "metadata": {},
   "outputs": [
    {
     "name": "stdout",
     "output_type": "stream",
     "text": [
      "<class 'pandas.core.frame.DataFrame'>\n",
      "RangeIndex: 7474 entries, 0 to 7473\n",
      "Data columns (total 6 columns):\n",
      " #   Column       Non-Null Count  Dtype  \n",
      "---  ------       --------------  -----  \n",
      " 0   date         7474 non-null   int64  \n",
      " 1   customer_id  7474 non-null   object \n",
      " 2   order_id     7474 non-null   int64  \n",
      " 3   product      7474 non-null   object \n",
      " 4   quantity     7474 non-null   int64  \n",
      " 5   price        7474 non-null   float64\n",
      "dtypes: float64(1), int64(3), object(2)\n",
      "memory usage: 350.5+ KB\n",
      "None\n"
     ]
    },
    {
     "data": {
      "text/html": [
       "<div>\n",
       "<style scoped>\n",
       "    .dataframe tbody tr th:only-of-type {\n",
       "        vertical-align: middle;\n",
       "    }\n",
       "\n",
       "    .dataframe tbody tr th {\n",
       "        vertical-align: top;\n",
       "    }\n",
       "\n",
       "    .dataframe thead th {\n",
       "        text-align: right;\n",
       "    }\n",
       "</style>\n",
       "<table border=\"1\" class=\"dataframe\">\n",
       "  <thead>\n",
       "    <tr style=\"text-align: right;\">\n",
       "      <th></th>\n",
       "      <th>date</th>\n",
       "      <th>customer_id</th>\n",
       "      <th>order_id</th>\n",
       "      <th>product</th>\n",
       "      <th>quantity</th>\n",
       "      <th>price</th>\n",
       "    </tr>\n",
       "  </thead>\n",
       "  <tbody>\n",
       "    <tr>\n",
       "      <th>0</th>\n",
       "      <td>2018100100</td>\n",
       "      <td>ee47d746-6d2f-4d3c-9622-c31412542920</td>\n",
       "      <td>68477</td>\n",
       "      <td>Комнатное растение в горшке Алое Вера, d12, h30</td>\n",
       "      <td>1</td>\n",
       "      <td>142.0</td>\n",
       "    </tr>\n",
       "    <tr>\n",
       "      <th>1</th>\n",
       "      <td>2018100100</td>\n",
       "      <td>ee47d746-6d2f-4d3c-9622-c31412542920</td>\n",
       "      <td>68477</td>\n",
       "      <td>Комнатное растение в горшке Кофе Арабика, d12, h25</td>\n",
       "      <td>1</td>\n",
       "      <td>194.0</td>\n",
       "    </tr>\n",
       "    <tr>\n",
       "      <th>2</th>\n",
       "      <td>2018100100</td>\n",
       "      <td>ee47d746-6d2f-4d3c-9622-c31412542920</td>\n",
       "      <td>68477</td>\n",
       "      <td>Радермахера d-12 см h-20 см</td>\n",
       "      <td>1</td>\n",
       "      <td>112.0</td>\n",
       "    </tr>\n",
       "    <tr>\n",
       "      <th>3</th>\n",
       "      <td>2018100100</td>\n",
       "      <td>ee47d746-6d2f-4d3c-9622-c31412542920</td>\n",
       "      <td>68477</td>\n",
       "      <td>Хризолидокарпус Лутесценс d-9 см</td>\n",
       "      <td>1</td>\n",
       "      <td>179.0</td>\n",
       "    </tr>\n",
       "    <tr>\n",
       "      <th>4</th>\n",
       "      <td>2018100100</td>\n",
       "      <td>ee47d746-6d2f-4d3c-9622-c31412542920</td>\n",
       "      <td>68477</td>\n",
       "      <td>Циперус Зумула d-12 см h-25 см</td>\n",
       "      <td>1</td>\n",
       "      <td>112.0</td>\n",
       "    </tr>\n",
       "    <tr>\n",
       "      <th>5</th>\n",
       "      <td>2018100100</td>\n",
       "      <td>ee47d746-6d2f-4d3c-9622-c31412542920</td>\n",
       "      <td>68477</td>\n",
       "      <td>Шеффлера Лузеана d-9 см</td>\n",
       "      <td>1</td>\n",
       "      <td>164.0</td>\n",
       "    </tr>\n",
       "    <tr>\n",
       "      <th>6</th>\n",
       "      <td>2018100100</td>\n",
       "      <td>ee47d746-6d2f-4d3c-9622-c31412542920</td>\n",
       "      <td>68477</td>\n",
       "      <td>Юкка нитчатая d-12 см h-25-35 см</td>\n",
       "      <td>1</td>\n",
       "      <td>134.0</td>\n",
       "    </tr>\n",
       "    <tr>\n",
       "      <th>7</th>\n",
       "      <td>2018100108</td>\n",
       "      <td>375e0724-f033-4c76-b579-84969cf38ee2</td>\n",
       "      <td>68479</td>\n",
       "      <td>Настенная сушилка для белья Gimi Brio Super 100</td>\n",
       "      <td>1</td>\n",
       "      <td>824.0</td>\n",
       "    </tr>\n",
       "    <tr>\n",
       "      <th>8</th>\n",
       "      <td>2018100108</td>\n",
       "      <td>6644e5b4-9934-4863-9778-aaa125207701</td>\n",
       "      <td>68478</td>\n",
       "      <td>Таз пластмассовый 21,0 л круглый \"Водолей\" С614, 1404056</td>\n",
       "      <td>1</td>\n",
       "      <td>269.0</td>\n",
       "    </tr>\n",
       "    <tr>\n",
       "      <th>9</th>\n",
       "      <td>2018100109</td>\n",
       "      <td>c971fb21-d54c-4134-938f-16b62ee86d3b</td>\n",
       "      <td>68480</td>\n",
       "      <td>Чехол для гладильной доски Colombo Persia Beige 130х50 см из хлопка 5379</td>\n",
       "      <td>1</td>\n",
       "      <td>674.0</td>\n",
       "    </tr>\n",
       "    <tr>\n",
       "      <th>10</th>\n",
       "      <td>2018100111</td>\n",
       "      <td>161e1b98-45ba-4b4e-8236-e6e3e70f6f7c</td>\n",
       "      <td>68483</td>\n",
       "      <td>Вешалка для брюк металлическая с резиновым покрытием 26 см цвет: синяя, Attribute, AHS331</td>\n",
       "      <td>10</td>\n",
       "      <td>82.0</td>\n",
       "    </tr>\n",
       "    <tr>\n",
       "      <th>11</th>\n",
       "      <td>2018100112</td>\n",
       "      <td>86432d8d-b706-463b-bd5d-6a9e170daee3</td>\n",
       "      <td>68484</td>\n",
       "      <td>Сушилка для белья потолочная Zalger Lift Basic 1520 200 см, 10 м</td>\n",
       "      <td>1</td>\n",
       "      <td>614.0</td>\n",
       "    </tr>\n",
       "    <tr>\n",
       "      <th>12</th>\n",
       "      <td>2018100113</td>\n",
       "      <td>4d93d3f6-8b24-403b-a74b-f5173e40d7db</td>\n",
       "      <td>68485</td>\n",
       "      <td>Чехол Eurogold Clean Basic хлопок для досок 120х38-120х42 см C42</td>\n",
       "      <td>1</td>\n",
       "      <td>187.0</td>\n",
       "    </tr>\n",
       "    <tr>\n",
       "      <th>13</th>\n",
       "      <td>2018100115</td>\n",
       "      <td>0948b0c2-990b-4a11-b835-69ac4714b21d</td>\n",
       "      <td>68486</td>\n",
       "      <td>Крючок одежный 2-х рожковый серый металлик с полимерным покрытием *Тонар*, 1110027</td>\n",
       "      <td>96</td>\n",
       "      <td>38.0</td>\n",
       "    </tr>\n",
       "    <tr>\n",
       "      <th>14</th>\n",
       "      <td>2018100116</td>\n",
       "      <td>a576fa59-7b28-4a4c-a496-92f128754a94</td>\n",
       "      <td>68487</td>\n",
       "      <td>Корзина мягкая пластиковая 17 л, М-пластика, M2880</td>\n",
       "      <td>1</td>\n",
       "      <td>188.0</td>\n",
       "    </tr>\n",
       "  </tbody>\n",
       "</table>\n",
       "</div>"
      ],
      "text/plain": [
       "          date                           customer_id  order_id  \\\n",
       "0   2018100100  ee47d746-6d2f-4d3c-9622-c31412542920     68477   \n",
       "1   2018100100  ee47d746-6d2f-4d3c-9622-c31412542920     68477   \n",
       "2   2018100100  ee47d746-6d2f-4d3c-9622-c31412542920     68477   \n",
       "3   2018100100  ee47d746-6d2f-4d3c-9622-c31412542920     68477   \n",
       "4   2018100100  ee47d746-6d2f-4d3c-9622-c31412542920     68477   \n",
       "5   2018100100  ee47d746-6d2f-4d3c-9622-c31412542920     68477   \n",
       "6   2018100100  ee47d746-6d2f-4d3c-9622-c31412542920     68477   \n",
       "7   2018100108  375e0724-f033-4c76-b579-84969cf38ee2     68479   \n",
       "8   2018100108  6644e5b4-9934-4863-9778-aaa125207701     68478   \n",
       "9   2018100109  c971fb21-d54c-4134-938f-16b62ee86d3b     68480   \n",
       "10  2018100111  161e1b98-45ba-4b4e-8236-e6e3e70f6f7c     68483   \n",
       "11  2018100112  86432d8d-b706-463b-bd5d-6a9e170daee3     68484   \n",
       "12  2018100113  4d93d3f6-8b24-403b-a74b-f5173e40d7db     68485   \n",
       "13  2018100115  0948b0c2-990b-4a11-b835-69ac4714b21d     68486   \n",
       "14  2018100116  a576fa59-7b28-4a4c-a496-92f128754a94     68487   \n",
       "\n",
       "                                                                                      product  \\\n",
       "0                                             Комнатное растение в горшке Алое Вера, d12, h30   \n",
       "1                                          Комнатное растение в горшке Кофе Арабика, d12, h25   \n",
       "2                                                                 Радермахера d-12 см h-20 см   \n",
       "3                                                            Хризолидокарпус Лутесценс d-9 см   \n",
       "4                                                              Циперус Зумула d-12 см h-25 см   \n",
       "5                                                                     Шеффлера Лузеана d-9 см   \n",
       "6                                                            Юкка нитчатая d-12 см h-25-35 см   \n",
       "7                                             Настенная сушилка для белья Gimi Brio Super 100   \n",
       "8                                    Таз пластмассовый 21,0 л круглый \"Водолей\" С614, 1404056   \n",
       "9                    Чехол для гладильной доски Colombo Persia Beige 130х50 см из хлопка 5379   \n",
       "10  Вешалка для брюк металлическая с резиновым покрытием 26 см цвет: синяя, Attribute, AHS331   \n",
       "11                           Сушилка для белья потолочная Zalger Lift Basic 1520 200 см, 10 м   \n",
       "12                           Чехол Eurogold Clean Basic хлопок для досок 120х38-120х42 см C42   \n",
       "13         Крючок одежный 2-х рожковый серый металлик с полимерным покрытием *Тонар*, 1110027   \n",
       "14                                         Корзина мягкая пластиковая 17 л, М-пластика, M2880   \n",
       "\n",
       "    quantity  price  \n",
       "0          1  142.0  \n",
       "1          1  194.0  \n",
       "2          1  112.0  \n",
       "3          1  179.0  \n",
       "4          1  112.0  \n",
       "5          1  164.0  \n",
       "6          1  134.0  \n",
       "7          1  824.0  \n",
       "8          1  269.0  \n",
       "9          1  674.0  \n",
       "10        10   82.0  \n",
       "11         1  614.0  \n",
       "12         1  187.0  \n",
       "13        96   38.0  \n",
       "14         1  188.0  "
      ]
     },
     "metadata": {},
     "output_type": "display_data"
    },
    {
     "name": "stdout",
     "output_type": "stream",
     "text": [
      "\n",
      "ЯВНЫХ ДУБЛИКАТОВ: 0\n",
      ". . . . . . . . . . \n",
      "\n",
      "ПРОПУСКИ\n"
     ]
    },
    {
     "data": {
      "text/html": [
       "<style  type=\"text/css\" >\n",
       "#T_11a55_row0_col0,#T_11a55_row1_col0,#T_11a55_row2_col0,#T_11a55_row3_col0,#T_11a55_row4_col0,#T_11a55_row5_col0{\n",
       "            width:  10em;\n",
       "             height:  80%;\n",
       "        }</style><table id=\"T_11a55_\" ><thead>    <tr>        <th class=\"blank level0\" ></th>        <th class=\"col_heading level0 col0\" >missing_percent</th>        <th class=\"col_heading level0 col1\" >count_missing</th>    </tr></thead><tbody>\n",
       "                <tr>\n",
       "                        <th id=\"T_11a55_level0_row0\" class=\"row_heading level0 row0\" >date</th>\n",
       "                        <td id=\"T_11a55_row0_col0\" class=\"data row0 col0\" >0.00 %</td>\n",
       "                        <td id=\"T_11a55_row0_col1\" class=\"data row0 col1\" >0</td>\n",
       "            </tr>\n",
       "            <tr>\n",
       "                        <th id=\"T_11a55_level0_row1\" class=\"row_heading level0 row1\" >customer_id</th>\n",
       "                        <td id=\"T_11a55_row1_col0\" class=\"data row1 col0\" >0.00 %</td>\n",
       "                        <td id=\"T_11a55_row1_col1\" class=\"data row1 col1\" >0</td>\n",
       "            </tr>\n",
       "            <tr>\n",
       "                        <th id=\"T_11a55_level0_row2\" class=\"row_heading level0 row2\" >order_id</th>\n",
       "                        <td id=\"T_11a55_row2_col0\" class=\"data row2 col0\" >0.00 %</td>\n",
       "                        <td id=\"T_11a55_row2_col1\" class=\"data row2 col1\" >0</td>\n",
       "            </tr>\n",
       "            <tr>\n",
       "                        <th id=\"T_11a55_level0_row3\" class=\"row_heading level0 row3\" >product</th>\n",
       "                        <td id=\"T_11a55_row3_col0\" class=\"data row3 col0\" >0.00 %</td>\n",
       "                        <td id=\"T_11a55_row3_col1\" class=\"data row3 col1\" >0</td>\n",
       "            </tr>\n",
       "            <tr>\n",
       "                        <th id=\"T_11a55_level0_row4\" class=\"row_heading level0 row4\" >quantity</th>\n",
       "                        <td id=\"T_11a55_row4_col0\" class=\"data row4 col0\" >0.00 %</td>\n",
       "                        <td id=\"T_11a55_row4_col1\" class=\"data row4 col1\" >0</td>\n",
       "            </tr>\n",
       "            <tr>\n",
       "                        <th id=\"T_11a55_level0_row5\" class=\"row_heading level0 row5\" >price</th>\n",
       "                        <td id=\"T_11a55_row5_col0\" class=\"data row5 col0\" >0.00 %</td>\n",
       "                        <td id=\"T_11a55_row5_col1\" class=\"data row5 col1\" >0</td>\n",
       "            </tr>\n",
       "    </tbody></table>"
      ],
      "text/plain": [
       "<pandas.io.formats.style.Styler at 0x1567ee40850>"
      ]
     },
     "metadata": {},
     "output_type": "display_data"
    },
    {
     "name": "stdout",
     "output_type": "stream",
     "text": [
      "--------------------------------------------------------------------------------\n"
     ]
    }
   ],
   "source": [
    "get_info_dataframe(data, count_rows=15)"
   ]
  },
  {
   "cell_type": "markdown",
   "metadata": {},
   "source": [
    "Явных дубликатов  и пропусков тоже нет во всем датафрейме."
   ]
  },
  {
   "cell_type": "markdown",
   "metadata": {},
   "source": [
    "Проверим на наличие и устраним неявные дубликаты- такие могут встретиться в столбце с товаром `product`"
   ]
  },
  {
   "cell_type": "markdown",
   "metadata": {},
   "source": [
    "Для начала запомним сколько было уникальных товаров до предобработки"
   ]
  },
  {
   "cell_type": "code",
   "execution_count": 83,
   "metadata": {},
   "outputs": [],
   "source": [
    "count_unique_product_old = data['product'].nunique()"
   ]
  },
  {
   "cell_type": "markdown",
   "metadata": {},
   "source": [
    "Приведем все названия товара к нижнему регистру. Так как в названии товара где описаны его габариты в виде диаметра и высоты разнятся по оформлению, например `h-12` и `h12` то приведем их к единообразию убрав знак `-`. Буквы `ё` меняем на `е`, запятые тоже устраняем"
   ]
  },
  {
   "cell_type": "code",
   "execution_count": 84,
   "metadata": {},
   "outputs": [],
   "source": [
    "data['product'] = (data['product']\n",
    "                   .apply(lambda x: x\n",
    "                          .strip()\n",
    "                          .lower()\n",
    "                          .replace('d-', 'd')\n",
    "                          .replace('h-', 'h')\n",
    "                          .replace(',', '')\n",
    "                          .replace('ё', 'е')\n",
    "                          )\n",
    "                   )"
   ]
  },
  {
   "cell_type": "markdown",
   "metadata": {},
   "source": [
    "посчитаем число уникальных товаров после обработки и выведем количество устаненных(никуда не делись просто стали как близнецы) неявных дубликатов"
   ]
  },
  {
   "cell_type": "code",
   "execution_count": 85,
   "metadata": {},
   "outputs": [
    {
     "name": "stdout",
     "output_type": "stream",
     "text": [
      "Устранено неявных дубликатов: 5\n"
     ]
    }
   ],
   "source": [
    "count_unique_product_new = data['product'].nunique()\n",
    "\n",
    "print('Устранено неявных дубликатов:',\n",
    "      count_unique_product_old - count_unique_product_new)"
   ]
  },
  {
   "cell_type": "markdown",
   "metadata": {},
   "source": [
    "Проверим теперь на явные дубликаты в ключевых столбцах"
   ]
  },
  {
   "cell_type": "markdown",
   "metadata": {},
   "source": [
    "посмоьтрим, есть ли такие номера заказов совершенные разными покупателями"
   ]
  },
  {
   "cell_type": "code",
   "execution_count": 86,
   "metadata": {},
   "outputs": [
    {
     "data": {
      "text/html": [
       "<div>\n",
       "<style scoped>\n",
       "    .dataframe tbody tr th:only-of-type {\n",
       "        vertical-align: middle;\n",
       "    }\n",
       "\n",
       "    .dataframe tbody tr th {\n",
       "        vertical-align: top;\n",
       "    }\n",
       "\n",
       "    .dataframe thead th {\n",
       "        text-align: right;\n",
       "    }\n",
       "</style>\n",
       "<table border=\"1\" class=\"dataframe\">\n",
       "  <thead>\n",
       "    <tr style=\"text-align: right;\">\n",
       "      <th></th>\n",
       "      <th>order_id</th>\n",
       "      <th>times</th>\n",
       "    </tr>\n",
       "  </thead>\n",
       "  <tbody>\n",
       "    <tr>\n",
       "      <th>0</th>\n",
       "      <td>12624</td>\n",
       "      <td>1</td>\n",
       "    </tr>\n",
       "    <tr>\n",
       "      <th>1</th>\n",
       "      <td>13547</td>\n",
       "      <td>1</td>\n",
       "    </tr>\n",
       "    <tr>\n",
       "      <th>2</th>\n",
       "      <td>14480</td>\n",
       "      <td>1</td>\n",
       "    </tr>\n",
       "    <tr>\n",
       "      <th>3</th>\n",
       "      <td>14481</td>\n",
       "      <td>1</td>\n",
       "    </tr>\n",
       "    <tr>\n",
       "      <th>4</th>\n",
       "      <td>14482</td>\n",
       "      <td>1</td>\n",
       "    </tr>\n",
       "  </tbody>\n",
       "</table>\n",
       "</div>"
      ],
      "text/plain": [
       "   order_id  times\n",
       "0     12624      1\n",
       "1     13547      1\n",
       "2     14480      1\n",
       "3     14481      1\n",
       "4     14482      1"
      ]
     },
     "execution_count": 86,
     "metadata": {},
     "output_type": "execute_result"
    }
   ],
   "source": [
    "duplicat_orders = (data\n",
    "                   .groupby('order_id')\n",
    "                   ['customer_id']\n",
    "                   .nunique()\n",
    "                   .reset_index()\n",
    "                   .rename(\n",
    "                       columns=dict(customer_id='times')\n",
    "                   )\n",
    "                   )\n",
    "\n",
    "\n",
    "\n",
    "duplicat_orders.head()"
   ]
  },
  {
   "cell_type": "markdown",
   "metadata": {},
   "source": [
    "и посчитаем сколько покупателей \"владеют\" чужими номерами заказов"
   ]
  },
  {
   "cell_type": "code",
   "execution_count": 87,
   "metadata": {},
   "outputs": [
    {
     "data": {
      "text/html": [
       "<div>\n",
       "<style scoped>\n",
       "    .dataframe tbody tr th:only-of-type {\n",
       "        vertical-align: middle;\n",
       "    }\n",
       "\n",
       "    .dataframe tbody tr th {\n",
       "        vertical-align: top;\n",
       "    }\n",
       "\n",
       "    .dataframe thead th {\n",
       "        text-align: right;\n",
       "    }\n",
       "</style>\n",
       "<table border=\"1\" class=\"dataframe\">\n",
       "  <thead>\n",
       "    <tr style=\"text-align: right;\">\n",
       "      <th></th>\n",
       "      <th>times</th>\n",
       "      <th>count_order_id</th>\n",
       "    </tr>\n",
       "  </thead>\n",
       "  <tbody>\n",
       "    <tr>\n",
       "      <th>0</th>\n",
       "      <td>1</td>\n",
       "      <td>3492</td>\n",
       "    </tr>\n",
       "    <tr>\n",
       "      <th>1</th>\n",
       "      <td>2</td>\n",
       "      <td>26</td>\n",
       "    </tr>\n",
       "    <tr>\n",
       "      <th>2</th>\n",
       "      <td>3</td>\n",
       "      <td>2</td>\n",
       "    </tr>\n",
       "    <tr>\n",
       "      <th>3</th>\n",
       "      <td>4</td>\n",
       "      <td>1</td>\n",
       "    </tr>\n",
       "  </tbody>\n",
       "</table>\n",
       "</div>"
      ],
      "text/plain": [
       "   times  count_order_id\n",
       "0      1            3492\n",
       "1      2              26\n",
       "2      3               2\n",
       "3      4               1"
      ]
     },
     "execution_count": 87,
     "metadata": {},
     "output_type": "execute_result"
    }
   ],
   "source": [
    "(duplicat_orders\n",
    " .groupby('times')['order_id']\n",
    " .count()\n",
    " .reset_index()\n",
    " .rename(\n",
    "     columns={'order_id': 'count_order_id'}\n",
    " )\n",
    " )"
   ]
  },
  {
   "cell_type": "markdown",
   "metadata": {},
   "source": [
    "Получается, что существует 3492 уникальных номера заказа которые не повторяются у других пользователей, остальные- встречаются у 2,3 и 4 разлтчных пользователей N-раз. Такое следует исправить."
   ]
  },
  {
   "cell_type": "markdown",
   "metadata": {},
   "source": [
    "отфильтруем датасет по уникальным заказам взятыми из `duplicat_orders`"
   ]
  },
  {
   "cell_type": "code",
   "execution_count": 88,
   "metadata": {},
   "outputs": [],
   "source": [
    "data = (data[\n",
    "    data['order_id']\n",
    "    .isin(\n",
    "        duplicat_orders\n",
    "        .query('times==1')['order_id'])\n",
    "]\n",
    ")"
   ]
  },
  {
   "cell_type": "markdown",
   "metadata": {},
   "source": [
    "теперь проверим дубликаты по пользователю,номеру заказа и его содержимому. "
   ]
  },
  {
   "cell_type": "code",
   "execution_count": 89,
   "metadata": {},
   "outputs": [
    {
     "data": {
      "text/plain": [
       "1841"
      ]
     },
     "execution_count": 89,
     "metadata": {},
     "output_type": "execute_result"
    }
   ],
   "source": [
    "(data\n",
    " .duplicated(\n",
    "     subset=[\n",
    "         'customer_id',\n",
    "         'order_id',\n",
    "         'product',\n",
    "         'quantity',\n",
    "         'price'\n",
    "     ]\n",
    " ).sum()\n",
    " )"
   ]
  },
  {
   "cell_type": "markdown",
   "metadata": {},
   "source": [
    "Они есть. Ликвидируем"
   ]
  },
  {
   "cell_type": "code",
   "execution_count": 90,
   "metadata": {},
   "outputs": [],
   "source": [
    "data = data.drop_duplicates().reset_index(drop=True)"
   ]
  },
  {
   "cell_type": "markdown",
   "metadata": {},
   "source": [
    "Теперь вернемся к типам данных и посмотрим на дату.\n",
    "Во-первых это число , а во-вторых запись очень похожа на дату в виде `ГГГГММДДЧЧ`,  \n",
    "где `ГГГГ` - год    \n",
    "`ММ` - месяц     \n",
    "`ДД` -день   \n",
    "`ЧЧ` - час   "
   ]
  },
  {
   "cell_type": "markdown",
   "metadata": {},
   "source": [
    "приведем ее к виду `ГГГГ-ММ-ДД ЧЧ:00:00`\n"
   ]
  },
  {
   "cell_type": "code",
   "execution_count": 91,
   "metadata": {},
   "outputs": [
    {
     "data": {
      "text/html": [
       "<div>\n",
       "<style scoped>\n",
       "    .dataframe tbody tr th:only-of-type {\n",
       "        vertical-align: middle;\n",
       "    }\n",
       "\n",
       "    .dataframe tbody tr th {\n",
       "        vertical-align: top;\n",
       "    }\n",
       "\n",
       "    .dataframe thead th {\n",
       "        text-align: right;\n",
       "    }\n",
       "</style>\n",
       "<table border=\"1\" class=\"dataframe\">\n",
       "  <thead>\n",
       "    <tr style=\"text-align: right;\">\n",
       "      <th></th>\n",
       "      <th>date</th>\n",
       "      <th>customer_id</th>\n",
       "      <th>order_id</th>\n",
       "      <th>product</th>\n",
       "      <th>quantity</th>\n",
       "      <th>price</th>\n",
       "      <th>datetime</th>\n",
       "    </tr>\n",
       "  </thead>\n",
       "  <tbody>\n",
       "    <tr>\n",
       "      <th>0</th>\n",
       "      <td>2018100100</td>\n",
       "      <td>ee47d746-6d2f-4d3c-9622-c31412542920</td>\n",
       "      <td>68477</td>\n",
       "      <td>комнатное растение в горшке алое вера d12 h30</td>\n",
       "      <td>1</td>\n",
       "      <td>142.0</td>\n",
       "      <td>2018-10-01 00:00:00</td>\n",
       "    </tr>\n",
       "    <tr>\n",
       "      <th>1</th>\n",
       "      <td>2018100100</td>\n",
       "      <td>ee47d746-6d2f-4d3c-9622-c31412542920</td>\n",
       "      <td>68477</td>\n",
       "      <td>комнатное растение в горшке кофе арабика d12 h25</td>\n",
       "      <td>1</td>\n",
       "      <td>194.0</td>\n",
       "      <td>2018-10-01 00:00:00</td>\n",
       "    </tr>\n",
       "    <tr>\n",
       "      <th>2</th>\n",
       "      <td>2018100100</td>\n",
       "      <td>ee47d746-6d2f-4d3c-9622-c31412542920</td>\n",
       "      <td>68477</td>\n",
       "      <td>радермахера d12 см h20 см</td>\n",
       "      <td>1</td>\n",
       "      <td>112.0</td>\n",
       "      <td>2018-10-01 00:00:00</td>\n",
       "    </tr>\n",
       "    <tr>\n",
       "      <th>3</th>\n",
       "      <td>2018100100</td>\n",
       "      <td>ee47d746-6d2f-4d3c-9622-c31412542920</td>\n",
       "      <td>68477</td>\n",
       "      <td>хризолидокарпус лутесценс d9 см</td>\n",
       "      <td>1</td>\n",
       "      <td>179.0</td>\n",
       "      <td>2018-10-01 00:00:00</td>\n",
       "    </tr>\n",
       "    <tr>\n",
       "      <th>4</th>\n",
       "      <td>2018100100</td>\n",
       "      <td>ee47d746-6d2f-4d3c-9622-c31412542920</td>\n",
       "      <td>68477</td>\n",
       "      <td>циперус зумула d12 см h25 см</td>\n",
       "      <td>1</td>\n",
       "      <td>112.0</td>\n",
       "      <td>2018-10-01 00:00:00</td>\n",
       "    </tr>\n",
       "    <tr>\n",
       "      <th>5</th>\n",
       "      <td>2018100100</td>\n",
       "      <td>ee47d746-6d2f-4d3c-9622-c31412542920</td>\n",
       "      <td>68477</td>\n",
       "      <td>шеффлера лузеана d9 см</td>\n",
       "      <td>1</td>\n",
       "      <td>164.0</td>\n",
       "      <td>2018-10-01 00:00:00</td>\n",
       "    </tr>\n",
       "    <tr>\n",
       "      <th>6</th>\n",
       "      <td>2018100100</td>\n",
       "      <td>ee47d746-6d2f-4d3c-9622-c31412542920</td>\n",
       "      <td>68477</td>\n",
       "      <td>юкка нитчатая d12 см h25-35 см</td>\n",
       "      <td>1</td>\n",
       "      <td>134.0</td>\n",
       "      <td>2018-10-01 00:00:00</td>\n",
       "    </tr>\n",
       "    <tr>\n",
       "      <th>7</th>\n",
       "      <td>2018100108</td>\n",
       "      <td>375e0724-f033-4c76-b579-84969cf38ee2</td>\n",
       "      <td>68479</td>\n",
       "      <td>настенная сушилка для белья gimi brio super 100</td>\n",
       "      <td>1</td>\n",
       "      <td>824.0</td>\n",
       "      <td>2018-10-01 08:00:00</td>\n",
       "    </tr>\n",
       "    <tr>\n",
       "      <th>8</th>\n",
       "      <td>2018100108</td>\n",
       "      <td>6644e5b4-9934-4863-9778-aaa125207701</td>\n",
       "      <td>68478</td>\n",
       "      <td>таз пластмассовый 210 л круглый \"водолей\" с614 1404056</td>\n",
       "      <td>1</td>\n",
       "      <td>269.0</td>\n",
       "      <td>2018-10-01 08:00:00</td>\n",
       "    </tr>\n",
       "    <tr>\n",
       "      <th>9</th>\n",
       "      <td>2018100109</td>\n",
       "      <td>c971fb21-d54c-4134-938f-16b62ee86d3b</td>\n",
       "      <td>68480</td>\n",
       "      <td>чехол для гладильной доски colombo persia beige 130х50 см из хлопка 5379</td>\n",
       "      <td>1</td>\n",
       "      <td>674.0</td>\n",
       "      <td>2018-10-01 09:00:00</td>\n",
       "    </tr>\n",
       "  </tbody>\n",
       "</table>\n",
       "</div>"
      ],
      "text/plain": [
       "         date                           customer_id  order_id  \\\n",
       "0  2018100100  ee47d746-6d2f-4d3c-9622-c31412542920     68477   \n",
       "1  2018100100  ee47d746-6d2f-4d3c-9622-c31412542920     68477   \n",
       "2  2018100100  ee47d746-6d2f-4d3c-9622-c31412542920     68477   \n",
       "3  2018100100  ee47d746-6d2f-4d3c-9622-c31412542920     68477   \n",
       "4  2018100100  ee47d746-6d2f-4d3c-9622-c31412542920     68477   \n",
       "5  2018100100  ee47d746-6d2f-4d3c-9622-c31412542920     68477   \n",
       "6  2018100100  ee47d746-6d2f-4d3c-9622-c31412542920     68477   \n",
       "7  2018100108  375e0724-f033-4c76-b579-84969cf38ee2     68479   \n",
       "8  2018100108  6644e5b4-9934-4863-9778-aaa125207701     68478   \n",
       "9  2018100109  c971fb21-d54c-4134-938f-16b62ee86d3b     68480   \n",
       "\n",
       "                                                                    product  \\\n",
       "0                             комнатное растение в горшке алое вера d12 h30   \n",
       "1                          комнатное растение в горшке кофе арабика d12 h25   \n",
       "2                                                 радермахера d12 см h20 см   \n",
       "3                                           хризолидокарпус лутесценс d9 см   \n",
       "4                                              циперус зумула d12 см h25 см   \n",
       "5                                                    шеффлера лузеана d9 см   \n",
       "6                                            юкка нитчатая d12 см h25-35 см   \n",
       "7                           настенная сушилка для белья gimi brio super 100   \n",
       "8                    таз пластмассовый 210 л круглый \"водолей\" с614 1404056   \n",
       "9  чехол для гладильной доски colombo persia beige 130х50 см из хлопка 5379   \n",
       "\n",
       "   quantity  price            datetime  \n",
       "0         1  142.0 2018-10-01 00:00:00  \n",
       "1         1  194.0 2018-10-01 00:00:00  \n",
       "2         1  112.0 2018-10-01 00:00:00  \n",
       "3         1  179.0 2018-10-01 00:00:00  \n",
       "4         1  112.0 2018-10-01 00:00:00  \n",
       "5         1  164.0 2018-10-01 00:00:00  \n",
       "6         1  134.0 2018-10-01 00:00:00  \n",
       "7         1  824.0 2018-10-01 08:00:00  \n",
       "8         1  269.0 2018-10-01 08:00:00  \n",
       "9         1  674.0 2018-10-01 09:00:00  "
      ]
     },
     "execution_count": 91,
     "metadata": {},
     "output_type": "execute_result"
    }
   ],
   "source": [
    "data['datetime'] = pd.to_datetime(data['date'], format='%Y%m%d%H')\n",
    "\n",
    "data.head(10)"
   ]
  },
  {
   "cell_type": "markdown",
   "metadata": {},
   "source": [
    "так как нам определенно понадобится просто дата без времени, то создадим столбец в который запишем дату без времени. Но для удобства уберем старый столбец `date`"
   ]
  },
  {
   "cell_type": "code",
   "execution_count": 92,
   "metadata": {},
   "outputs": [
    {
     "data": {
      "text/plain": [
       "Index(['customer_id', 'order_id', 'product', 'quantity', 'price', 'datetime'], dtype='object')"
      ]
     },
     "execution_count": 92,
     "metadata": {},
     "output_type": "execute_result"
    }
   ],
   "source": [
    "data.drop(columns='date', inplace=True)\n",
    "data.columns"
   ]
  },
  {
   "cell_type": "markdown",
   "metadata": {},
   "source": [
    "создвеам столбец с датой"
   ]
  },
  {
   "cell_type": "code",
   "execution_count": 93,
   "metadata": {},
   "outputs": [
    {
     "data": {
      "text/html": [
       "<div>\n",
       "<style scoped>\n",
       "    .dataframe tbody tr th:only-of-type {\n",
       "        vertical-align: middle;\n",
       "    }\n",
       "\n",
       "    .dataframe tbody tr th {\n",
       "        vertical-align: top;\n",
       "    }\n",
       "\n",
       "    .dataframe thead th {\n",
       "        text-align: right;\n",
       "    }\n",
       "</style>\n",
       "<table border=\"1\" class=\"dataframe\">\n",
       "  <thead>\n",
       "    <tr style=\"text-align: right;\">\n",
       "      <th></th>\n",
       "      <th>customer_id</th>\n",
       "      <th>order_id</th>\n",
       "      <th>product</th>\n",
       "      <th>quantity</th>\n",
       "      <th>price</th>\n",
       "      <th>datetime</th>\n",
       "      <th>date</th>\n",
       "    </tr>\n",
       "  </thead>\n",
       "  <tbody>\n",
       "    <tr>\n",
       "      <th>0</th>\n",
       "      <td>ee47d746-6d2f-4d3c-9622-c31412542920</td>\n",
       "      <td>68477</td>\n",
       "      <td>комнатное растение в горшке алое вера d12 h30</td>\n",
       "      <td>1</td>\n",
       "      <td>142.0</td>\n",
       "      <td>2018-10-01 00:00:00</td>\n",
       "      <td>2018-10-01</td>\n",
       "    </tr>\n",
       "    <tr>\n",
       "      <th>1</th>\n",
       "      <td>ee47d746-6d2f-4d3c-9622-c31412542920</td>\n",
       "      <td>68477</td>\n",
       "      <td>комнатное растение в горшке кофе арабика d12 h25</td>\n",
       "      <td>1</td>\n",
       "      <td>194.0</td>\n",
       "      <td>2018-10-01 00:00:00</td>\n",
       "      <td>2018-10-01</td>\n",
       "    </tr>\n",
       "    <tr>\n",
       "      <th>2</th>\n",
       "      <td>ee47d746-6d2f-4d3c-9622-c31412542920</td>\n",
       "      <td>68477</td>\n",
       "      <td>радермахера d12 см h20 см</td>\n",
       "      <td>1</td>\n",
       "      <td>112.0</td>\n",
       "      <td>2018-10-01 00:00:00</td>\n",
       "      <td>2018-10-01</td>\n",
       "    </tr>\n",
       "    <tr>\n",
       "      <th>3</th>\n",
       "      <td>ee47d746-6d2f-4d3c-9622-c31412542920</td>\n",
       "      <td>68477</td>\n",
       "      <td>хризолидокарпус лутесценс d9 см</td>\n",
       "      <td>1</td>\n",
       "      <td>179.0</td>\n",
       "      <td>2018-10-01 00:00:00</td>\n",
       "      <td>2018-10-01</td>\n",
       "    </tr>\n",
       "    <tr>\n",
       "      <th>4</th>\n",
       "      <td>ee47d746-6d2f-4d3c-9622-c31412542920</td>\n",
       "      <td>68477</td>\n",
       "      <td>циперус зумула d12 см h25 см</td>\n",
       "      <td>1</td>\n",
       "      <td>112.0</td>\n",
       "      <td>2018-10-01 00:00:00</td>\n",
       "      <td>2018-10-01</td>\n",
       "    </tr>\n",
       "    <tr>\n",
       "      <th>5</th>\n",
       "      <td>ee47d746-6d2f-4d3c-9622-c31412542920</td>\n",
       "      <td>68477</td>\n",
       "      <td>шеффлера лузеана d9 см</td>\n",
       "      <td>1</td>\n",
       "      <td>164.0</td>\n",
       "      <td>2018-10-01 00:00:00</td>\n",
       "      <td>2018-10-01</td>\n",
       "    </tr>\n",
       "    <tr>\n",
       "      <th>6</th>\n",
       "      <td>ee47d746-6d2f-4d3c-9622-c31412542920</td>\n",
       "      <td>68477</td>\n",
       "      <td>юкка нитчатая d12 см h25-35 см</td>\n",
       "      <td>1</td>\n",
       "      <td>134.0</td>\n",
       "      <td>2018-10-01 00:00:00</td>\n",
       "      <td>2018-10-01</td>\n",
       "    </tr>\n",
       "    <tr>\n",
       "      <th>7</th>\n",
       "      <td>375e0724-f033-4c76-b579-84969cf38ee2</td>\n",
       "      <td>68479</td>\n",
       "      <td>настенная сушилка для белья gimi brio super 100</td>\n",
       "      <td>1</td>\n",
       "      <td>824.0</td>\n",
       "      <td>2018-10-01 08:00:00</td>\n",
       "      <td>2018-10-01</td>\n",
       "    </tr>\n",
       "    <tr>\n",
       "      <th>8</th>\n",
       "      <td>6644e5b4-9934-4863-9778-aaa125207701</td>\n",
       "      <td>68478</td>\n",
       "      <td>таз пластмассовый 210 л круглый \"водолей\" с614 1404056</td>\n",
       "      <td>1</td>\n",
       "      <td>269.0</td>\n",
       "      <td>2018-10-01 08:00:00</td>\n",
       "      <td>2018-10-01</td>\n",
       "    </tr>\n",
       "    <tr>\n",
       "      <th>9</th>\n",
       "      <td>c971fb21-d54c-4134-938f-16b62ee86d3b</td>\n",
       "      <td>68480</td>\n",
       "      <td>чехол для гладильной доски colombo persia beige 130х50 см из хлопка 5379</td>\n",
       "      <td>1</td>\n",
       "      <td>674.0</td>\n",
       "      <td>2018-10-01 09:00:00</td>\n",
       "      <td>2018-10-01</td>\n",
       "    </tr>\n",
       "  </tbody>\n",
       "</table>\n",
       "</div>"
      ],
      "text/plain": [
       "                            customer_id  order_id  \\\n",
       "0  ee47d746-6d2f-4d3c-9622-c31412542920     68477   \n",
       "1  ee47d746-6d2f-4d3c-9622-c31412542920     68477   \n",
       "2  ee47d746-6d2f-4d3c-9622-c31412542920     68477   \n",
       "3  ee47d746-6d2f-4d3c-9622-c31412542920     68477   \n",
       "4  ee47d746-6d2f-4d3c-9622-c31412542920     68477   \n",
       "5  ee47d746-6d2f-4d3c-9622-c31412542920     68477   \n",
       "6  ee47d746-6d2f-4d3c-9622-c31412542920     68477   \n",
       "7  375e0724-f033-4c76-b579-84969cf38ee2     68479   \n",
       "8  6644e5b4-9934-4863-9778-aaa125207701     68478   \n",
       "9  c971fb21-d54c-4134-938f-16b62ee86d3b     68480   \n",
       "\n",
       "                                                                    product  \\\n",
       "0                             комнатное растение в горшке алое вера d12 h30   \n",
       "1                          комнатное растение в горшке кофе арабика d12 h25   \n",
       "2                                                 радермахера d12 см h20 см   \n",
       "3                                           хризолидокарпус лутесценс d9 см   \n",
       "4                                              циперус зумула d12 см h25 см   \n",
       "5                                                    шеффлера лузеана d9 см   \n",
       "6                                            юкка нитчатая d12 см h25-35 см   \n",
       "7                           настенная сушилка для белья gimi brio super 100   \n",
       "8                    таз пластмассовый 210 л круглый \"водолей\" с614 1404056   \n",
       "9  чехол для гладильной доски colombo persia beige 130х50 см из хлопка 5379   \n",
       "\n",
       "   quantity  price            datetime        date  \n",
       "0         1  142.0 2018-10-01 00:00:00  2018-10-01  \n",
       "1         1  194.0 2018-10-01 00:00:00  2018-10-01  \n",
       "2         1  112.0 2018-10-01 00:00:00  2018-10-01  \n",
       "3         1  179.0 2018-10-01 00:00:00  2018-10-01  \n",
       "4         1  112.0 2018-10-01 00:00:00  2018-10-01  \n",
       "5         1  164.0 2018-10-01 00:00:00  2018-10-01  \n",
       "6         1  134.0 2018-10-01 00:00:00  2018-10-01  \n",
       "7         1  824.0 2018-10-01 08:00:00  2018-10-01  \n",
       "8         1  269.0 2018-10-01 08:00:00  2018-10-01  \n",
       "9         1  674.0 2018-10-01 09:00:00  2018-10-01  "
      ]
     },
     "execution_count": 93,
     "metadata": {},
     "output_type": "execute_result"
    }
   ],
   "source": [
    "data['date'] = data['datetime'].dt.date\n",
    "data.head(10)"
   ]
  },
  {
   "cell_type": "markdown",
   "metadata": {},
   "source": [
    "Теперь данные готовы для дальнейшего анализа"
   ]
  },
  {
   "cell_type": "markdown",
   "metadata": {},
   "source": [
    "## Исследовательский анализ данных"
   ]
  },
  {
   "cell_type": "markdown",
   "metadata": {},
   "source": [
    "### Изучаемый период"
   ]
  },
  {
   "cell_type": "markdown",
   "metadata": {},
   "source": [
    "Для начала узнаем период за который предоставленны данные"
   ]
  },
  {
   "cell_type": "code",
   "execution_count": 94,
   "metadata": {},
   "outputs": [
    {
     "name": "stdout",
     "output_type": "stream",
     "text": [
      "2018-10-01 - 2020-01-31\n"
     ]
    }
   ],
   "source": [
    "print(data['date'].min(), '-', data['date'].max())"
   ]
  },
  {
   "cell_type": "markdown",
   "metadata": {},
   "source": [
    "в годах времени прошло мало, а вот в месяцах - больше 12. Отметим это для себя при построении графиков от времени"
   ]
  },
  {
   "cell_type": "markdown",
   "metadata": {},
   "source": [
    "### Проверка на выбросы и их обработка"
   ]
  },
  {
   "cell_type": "markdown",
   "metadata": {},
   "source": [
    "Поищем выбросы среди полной стоимости заказа и количества заказов на пользователя.   \n",
    "Сначала нужно посчитать стоимость товарной позиции . Потом собрать таблицу с стоимость товаров в заказе"
   ]
  },
  {
   "cell_type": "code",
   "execution_count": 95,
   "metadata": {},
   "outputs": [],
   "source": [
    "data['total_price'] = data['quantity'] * data['price']"
   ]
  },
  {
   "cell_type": "code",
   "execution_count": 96,
   "metadata": {},
   "outputs": [
    {
     "data": {
      "text/html": [
       "<div>\n",
       "<style scoped>\n",
       "    .dataframe tbody tr th:only-of-type {\n",
       "        vertical-align: middle;\n",
       "    }\n",
       "\n",
       "    .dataframe tbody tr th {\n",
       "        vertical-align: top;\n",
       "    }\n",
       "\n",
       "    .dataframe thead th {\n",
       "        text-align: right;\n",
       "    }\n",
       "</style>\n",
       "<table border=\"1\" class=\"dataframe\">\n",
       "  <thead>\n",
       "    <tr style=\"text-align: right;\">\n",
       "      <th></th>\n",
       "      <th>order_id</th>\n",
       "      <th>total_coast</th>\n",
       "    </tr>\n",
       "  </thead>\n",
       "  <tbody>\n",
       "    <tr>\n",
       "      <th>0</th>\n",
       "      <td>12624</td>\n",
       "      <td>375.0</td>\n",
       "    </tr>\n",
       "    <tr>\n",
       "      <th>1</th>\n",
       "      <td>13547</td>\n",
       "      <td>4788.0</td>\n",
       "    </tr>\n",
       "    <tr>\n",
       "      <th>2</th>\n",
       "      <td>14480</td>\n",
       "      <td>359.0</td>\n",
       "    </tr>\n",
       "    <tr>\n",
       "      <th>3</th>\n",
       "      <td>14481</td>\n",
       "      <td>600.0</td>\n",
       "    </tr>\n",
       "    <tr>\n",
       "      <th>4</th>\n",
       "      <td>14482</td>\n",
       "      <td>376.0</td>\n",
       "    </tr>\n",
       "  </tbody>\n",
       "</table>\n",
       "</div>"
      ],
      "text/plain": [
       "   order_id  total_coast\n",
       "0     12624        375.0\n",
       "1     13547       4788.0\n",
       "2     14480        359.0\n",
       "3     14481        600.0\n",
       "4     14482        376.0"
      ]
     },
     "execution_count": 96,
     "metadata": {},
     "output_type": "execute_result"
    }
   ],
   "source": [
    "info_chek = (data\n",
    "             .groupby(['order_id'], as_index=False)\n",
    "             .aggregate({'total_price': 'sum'})\n",
    "             .rename(columns=dict(total_price='total_coast')))\n",
    "\n",
    "\n",
    "info_chek.head()"
   ]
  },
  {
   "cell_type": "markdown",
   "metadata": {},
   "source": [
    "смотрим сумму заказов"
   ]
  },
  {
   "cell_type": "code",
   "execution_count": 156,
   "metadata": {},
   "outputs": [
    {
     "data": {
      "application/vnd.plotly.v1+json": {
       "config": {
        "plotlyServerURL": "https://plot.ly"
       },
       "data": [
        {
         "hovertemplate": "заказ=%{x}<br>сумма=%{y}<extra></extra>",
         "legendgroup": "",
         "marker": {
          "color": "#636efa",
          "symbol": "circle"
         },
         "mode": "markers",
         "name": "",
         "showlegend": false,
         "type": "scattergl",
         "x": [
          0,
          1,
          2,
          3,
          4,
          5,
          6,
          7,
          8,
          9,
          10,
          11,
          12,
          13,
          14,
          15,
          16,
          17,
          18,
          19,
          20,
          21,
          22,
          23,
          24,
          25,
          26,
          27,
          28,
          29,
          30,
          31,
          32,
          33,
          34,
          35,
          36,
          37,
          38,
          39,
          40,
          41,
          42,
          43,
          44,
          45,
          46,
          47,
          48,
          49,
          50,
          51,
          52,
          53,
          54,
          55,
          56,
          57,
          58,
          59,
          60,
          61,
          62,
          63,
          64,
          65,
          66,
          67,
          68,
          69,
          70,
          71,
          72,
          73,
          74,
          75,
          76,
          77,
          78,
          79,
          80,
          81,
          82,
          83,
          84,
          85,
          86,
          87,
          88,
          89,
          90,
          91,
          92,
          93,
          94,
          95,
          96,
          97,
          98,
          99,
          100,
          101,
          102,
          103,
          104,
          105,
          106,
          107,
          108,
          109,
          110,
          111,
          112,
          113,
          114,
          115,
          116,
          117,
          118,
          119,
          120,
          121,
          122,
          123,
          124,
          125,
          126,
          127,
          128,
          129,
          130,
          131,
          132,
          133,
          134,
          135,
          136,
          137,
          138,
          139,
          140,
          141,
          142,
          143,
          144,
          145,
          146,
          147,
          148,
          149,
          150,
          151,
          152,
          153,
          154,
          155,
          156,
          157,
          158,
          159,
          160,
          161,
          162,
          163,
          164,
          165,
          166,
          167,
          168,
          169,
          170,
          171,
          172,
          173,
          174,
          175,
          176,
          177,
          178,
          179,
          180,
          181,
          182,
          183,
          184,
          185,
          186,
          187,
          188,
          189,
          190,
          191,
          192,
          193,
          194,
          195,
          196,
          197,
          198,
          199,
          200,
          201,
          202,
          203,
          204,
          205,
          206,
          207,
          208,
          209,
          210,
          211,
          212,
          213,
          214,
          215,
          216,
          217,
          218,
          219,
          220,
          221,
          222,
          223,
          224,
          225,
          226,
          227,
          228,
          229,
          230,
          231,
          232,
          233,
          234,
          235,
          236,
          237,
          238,
          239,
          240,
          241,
          242,
          243,
          244,
          245,
          246,
          247,
          248,
          249,
          250,
          251,
          252,
          253,
          254,
          255,
          256,
          257,
          258,
          259,
          260,
          261,
          262,
          263,
          264,
          265,
          266,
          267,
          268,
          269,
          270,
          271,
          272,
          273,
          274,
          275,
          276,
          277,
          278,
          279,
          280,
          281,
          282,
          283,
          284,
          285,
          286,
          287,
          288,
          289,
          290,
          291,
          292,
          293,
          294,
          295,
          296,
          297,
          298,
          299,
          300,
          301,
          302,
          303,
          304,
          305,
          306,
          307,
          308,
          309,
          310,
          311,
          312,
          313,
          314,
          315,
          316,
          317,
          318,
          319,
          320,
          321,
          322,
          323,
          324,
          325,
          326,
          327,
          328,
          329,
          330,
          331,
          332,
          333,
          334,
          335,
          336,
          337,
          338,
          339,
          340,
          341,
          342,
          343,
          344,
          345,
          346,
          347,
          348,
          349,
          350,
          351,
          352,
          353,
          354,
          355,
          356,
          357,
          358,
          359,
          360,
          361,
          362,
          363,
          364,
          365,
          366,
          367,
          368,
          369,
          370,
          371,
          372,
          373,
          374,
          375,
          376,
          377,
          378,
          379,
          380,
          381,
          382,
          383,
          384,
          385,
          386,
          387,
          388,
          389,
          390,
          391,
          392,
          393,
          394,
          395,
          396,
          397,
          398,
          399,
          400,
          401,
          402,
          403,
          404,
          405,
          406,
          407,
          408,
          409,
          410,
          411,
          412,
          413,
          414,
          415,
          416,
          417,
          418,
          419,
          420,
          421,
          422,
          423,
          424,
          425,
          426,
          427,
          428,
          429,
          430,
          431,
          432,
          433,
          434,
          435,
          436,
          437,
          438,
          439,
          440,
          441,
          442,
          443,
          444,
          445,
          446,
          447,
          448,
          449,
          450,
          451,
          452,
          453,
          454,
          455,
          456,
          457,
          458,
          459,
          460,
          461,
          462,
          463,
          464,
          465,
          466,
          467,
          468,
          469,
          470,
          471,
          472,
          473,
          474,
          475,
          476,
          477,
          478,
          479,
          480,
          481,
          482,
          483,
          484,
          485,
          486,
          487,
          488,
          489,
          490,
          491,
          492,
          493,
          494,
          495,
          496,
          497,
          498,
          499,
          500,
          501,
          502,
          503,
          504,
          505,
          506,
          507,
          508,
          509,
          510,
          511,
          512,
          513,
          514,
          515,
          516,
          517,
          518,
          519,
          520,
          521,
          522,
          523,
          524,
          525,
          526,
          527,
          528,
          529,
          530,
          531,
          532,
          533,
          534,
          535,
          536,
          537,
          538,
          539,
          540,
          541,
          542,
          543,
          544,
          545,
          546,
          547,
          548,
          549,
          550,
          551,
          552,
          553,
          554,
          555,
          556,
          557,
          558,
          559,
          560,
          561,
          562,
          563,
          564,
          565,
          566,
          567,
          568,
          569,
          570,
          571,
          572,
          573,
          574,
          575,
          576,
          577,
          578,
          579,
          580,
          581,
          582,
          583,
          584,
          585,
          586,
          587,
          588,
          589,
          590,
          591,
          592,
          593,
          594,
          595,
          596,
          597,
          598,
          599,
          600,
          601,
          602,
          603,
          604,
          605,
          606,
          607,
          608,
          609,
          610,
          611,
          612,
          613,
          614,
          615,
          616,
          617,
          618,
          619,
          620,
          621,
          622,
          623,
          624,
          625,
          626,
          627,
          628,
          629,
          630,
          631,
          632,
          633,
          634,
          635,
          636,
          637,
          638,
          639,
          640,
          641,
          642,
          643,
          644,
          645,
          646,
          647,
          648,
          649,
          650,
          651,
          652,
          653,
          654,
          655,
          656,
          657,
          658,
          659,
          660,
          661,
          662,
          663,
          664,
          665,
          666,
          667,
          668,
          669,
          670,
          671,
          672,
          673,
          674,
          675,
          676,
          677,
          678,
          679,
          680,
          681,
          682,
          683,
          684,
          685,
          686,
          687,
          688,
          689,
          690,
          691,
          692,
          693,
          694,
          695,
          696,
          697,
          698,
          699,
          700,
          701,
          702,
          703,
          704,
          705,
          706,
          707,
          708,
          709,
          710,
          711,
          712,
          713,
          714,
          715,
          716,
          717,
          718,
          719,
          720,
          721,
          722,
          723,
          724,
          725,
          726,
          727,
          728,
          729,
          730,
          731,
          732,
          733,
          734,
          735,
          736,
          737,
          738,
          739,
          740,
          741,
          742,
          743,
          744,
          745,
          746,
          747,
          748,
          749,
          750,
          751,
          752,
          753,
          754,
          755,
          756,
          757,
          758,
          759,
          760,
          761,
          762,
          763,
          764,
          765,
          766,
          767,
          768,
          769,
          770,
          771,
          772,
          773,
          774,
          775,
          776,
          777,
          778,
          779,
          780,
          781,
          782,
          783,
          784,
          785,
          786,
          787,
          788,
          789,
          790,
          791,
          792,
          793,
          794,
          795,
          796,
          797,
          798,
          799,
          800,
          801,
          802,
          803,
          804,
          805,
          806,
          807,
          808,
          809,
          810,
          811,
          812,
          813,
          814,
          815,
          816,
          817,
          818,
          819,
          820,
          821,
          822,
          823,
          824,
          825,
          826,
          827,
          828,
          829,
          830,
          831,
          832,
          833,
          834,
          835,
          836,
          837,
          838,
          839,
          840,
          841,
          842,
          843,
          844,
          845,
          846,
          847,
          848,
          849,
          850,
          851,
          852,
          853,
          854,
          855,
          856,
          857,
          858,
          859,
          860,
          861,
          862,
          863,
          864,
          865,
          866,
          867,
          868,
          869,
          870,
          871,
          872,
          873,
          874,
          875,
          876,
          877,
          878,
          879,
          880,
          881,
          882,
          883,
          884,
          885,
          886,
          887,
          888,
          889,
          890,
          891,
          892,
          893,
          894,
          895,
          896,
          897,
          898,
          899,
          900,
          901,
          902,
          903,
          904,
          905,
          906,
          907,
          908,
          909,
          910,
          911,
          912,
          913,
          914,
          915,
          916,
          917,
          918,
          919,
          920,
          921,
          922,
          923,
          924,
          925,
          926,
          927,
          928,
          929,
          930,
          931,
          932,
          933,
          934,
          935,
          936,
          937,
          938,
          939,
          940,
          941,
          942,
          943,
          944,
          945,
          946,
          947,
          948,
          949,
          950,
          951,
          952,
          953,
          954,
          955,
          956,
          957,
          958,
          959,
          960,
          961,
          962,
          963,
          964,
          965,
          966,
          967,
          968,
          969,
          970,
          971,
          972,
          973,
          974,
          975,
          976,
          977,
          978,
          979,
          980,
          981,
          982,
          983,
          984,
          985,
          986,
          987,
          988,
          989,
          990,
          991,
          992,
          993,
          994,
          995,
          996,
          997,
          998,
          999,
          1000,
          1001,
          1002,
          1003,
          1004,
          1005,
          1006,
          1007,
          1008,
          1009,
          1010,
          1011,
          1012,
          1013,
          1014,
          1015,
          1016,
          1017,
          1018,
          1019,
          1020,
          1021,
          1022,
          1023,
          1024,
          1025,
          1026,
          1027,
          1028,
          1029,
          1030,
          1031,
          1032,
          1033,
          1034,
          1035,
          1036,
          1037,
          1038,
          1039,
          1040,
          1041,
          1042,
          1043,
          1044,
          1045,
          1046,
          1047,
          1048,
          1049,
          1050,
          1051,
          1052,
          1053,
          1054,
          1055,
          1056,
          1057,
          1058,
          1059,
          1060,
          1061,
          1062,
          1063,
          1064,
          1065,
          1066,
          1067,
          1068,
          1069,
          1070,
          1071,
          1072,
          1073,
          1074,
          1075,
          1076,
          1077,
          1078,
          1079,
          1080,
          1081,
          1082,
          1083,
          1084,
          1085,
          1086,
          1087,
          1088,
          1089,
          1090,
          1091,
          1092,
          1093,
          1094,
          1095,
          1096,
          1097,
          1098,
          1099,
          1100,
          1101,
          1102,
          1103,
          1104,
          1105,
          1106,
          1107,
          1108,
          1109,
          1110,
          1111,
          1112,
          1113,
          1114,
          1115,
          1116,
          1117,
          1118,
          1119,
          1120,
          1121,
          1122,
          1123,
          1124,
          1125,
          1126,
          1127,
          1128,
          1129,
          1130,
          1131,
          1132,
          1133,
          1134,
          1135,
          1136,
          1137,
          1138,
          1139,
          1140,
          1141,
          1142,
          1143,
          1144,
          1145,
          1146,
          1147,
          1148,
          1149,
          1150,
          1151,
          1152,
          1153,
          1154,
          1155,
          1156,
          1157,
          1158,
          1159,
          1160,
          1161,
          1162,
          1163,
          1164,
          1165,
          1166,
          1167,
          1168,
          1169,
          1170,
          1171,
          1172,
          1173,
          1174,
          1175,
          1176,
          1177,
          1178,
          1179,
          1180,
          1181,
          1182,
          1183,
          1184,
          1185,
          1186,
          1187,
          1188,
          1189,
          1190,
          1191,
          1192,
          1193,
          1194,
          1195,
          1196,
          1197,
          1198,
          1199,
          1200,
          1201,
          1202,
          1203,
          1204,
          1205,
          1206,
          1207,
          1208,
          1209,
          1210,
          1211,
          1212,
          1213,
          1214,
          1215,
          1216,
          1217,
          1218,
          1219,
          1220,
          1221,
          1222,
          1223,
          1224,
          1225,
          1226,
          1227,
          1228,
          1229,
          1230,
          1231,
          1232,
          1233,
          1234,
          1235,
          1236,
          1237,
          1238,
          1239,
          1240,
          1241,
          1242,
          1243,
          1244,
          1245,
          1246,
          1247,
          1248,
          1249,
          1250,
          1251,
          1252,
          1253,
          1254,
          1255,
          1256,
          1257,
          1258,
          1259,
          1260,
          1261,
          1262,
          1263,
          1264,
          1265,
          1266,
          1267,
          1268,
          1269,
          1270,
          1271,
          1272,
          1273,
          1274,
          1275,
          1276,
          1277,
          1278,
          1279,
          1280,
          1281,
          1282,
          1283,
          1284,
          1285,
          1286,
          1287,
          1288,
          1289,
          1290,
          1291,
          1292,
          1293,
          1294,
          1295,
          1296,
          1297,
          1298,
          1299,
          1300,
          1301,
          1302,
          1303,
          1304,
          1305,
          1306,
          1307,
          1308,
          1309,
          1310,
          1311,
          1312,
          1313,
          1314,
          1315,
          1316,
          1317,
          1318,
          1319,
          1320,
          1321,
          1322,
          1323,
          1324,
          1325,
          1326,
          1327,
          1328,
          1329,
          1330,
          1331,
          1332,
          1333,
          1334,
          1335,
          1336,
          1337,
          1338,
          1339,
          1340,
          1341,
          1342,
          1343,
          1344,
          1345,
          1346,
          1347,
          1348,
          1349,
          1350,
          1351,
          1352,
          1353,
          1354,
          1355,
          1356,
          1357,
          1358,
          1359,
          1360,
          1361,
          1362,
          1363,
          1364,
          1365,
          1366,
          1367,
          1368,
          1369,
          1370,
          1371,
          1372,
          1373,
          1374,
          1375,
          1376,
          1377,
          1378,
          1379,
          1380,
          1381,
          1382,
          1383,
          1384,
          1385,
          1386,
          1387,
          1388,
          1389,
          1390,
          1391,
          1392,
          1393,
          1394,
          1395,
          1396,
          1397,
          1398,
          1399,
          1400,
          1401,
          1402,
          1403,
          1404,
          1405,
          1406,
          1407,
          1408,
          1409,
          1410,
          1411,
          1412,
          1413,
          1414,
          1415,
          1416,
          1417,
          1418,
          1419,
          1420,
          1421,
          1422,
          1423,
          1424,
          1425,
          1426,
          1427,
          1428,
          1429,
          1430,
          1431,
          1432,
          1433,
          1434,
          1435,
          1436,
          1437,
          1438,
          1439,
          1440,
          1441,
          1442,
          1443,
          1444,
          1445,
          1446,
          1447,
          1448,
          1449,
          1450,
          1451,
          1452,
          1453,
          1454,
          1455,
          1456,
          1457,
          1458,
          1459,
          1460,
          1461,
          1462,
          1463,
          1464,
          1465,
          1466,
          1467,
          1468,
          1469,
          1470,
          1471,
          1472,
          1473,
          1474,
          1475,
          1476,
          1477,
          1478,
          1479,
          1480,
          1481,
          1482,
          1483,
          1484,
          1485,
          1486,
          1487,
          1488,
          1489,
          1490,
          1491,
          1492,
          1493,
          1494,
          1495,
          1496,
          1497,
          1498,
          1499,
          1500,
          1501,
          1502,
          1503,
          1504,
          1505,
          1506,
          1507,
          1508,
          1509,
          1510,
          1511,
          1512,
          1513,
          1514,
          1515,
          1516,
          1517,
          1518,
          1519,
          1520,
          1521,
          1522,
          1523,
          1524,
          1525,
          1526,
          1527,
          1528,
          1529,
          1530,
          1531,
          1532,
          1533,
          1534,
          1535,
          1536,
          1537,
          1538,
          1539,
          1540,
          1541,
          1542,
          1543,
          1544,
          1545,
          1546,
          1547,
          1548,
          1549,
          1550,
          1551,
          1552,
          1553,
          1554,
          1555,
          1556,
          1557,
          1558,
          1559,
          1560,
          1561,
          1562,
          1563,
          1564,
          1565,
          1566,
          1567,
          1568,
          1569,
          1570,
          1571,
          1572,
          1573,
          1574,
          1575,
          1576,
          1577,
          1578,
          1579,
          1580,
          1581,
          1582,
          1583,
          1584,
          1585,
          1586,
          1587,
          1588,
          1589,
          1590,
          1591,
          1592,
          1593,
          1594,
          1595,
          1596,
          1597,
          1598,
          1599,
          1600,
          1601,
          1602,
          1603,
          1604,
          1605,
          1606,
          1607,
          1608,
          1609,
          1610,
          1611,
          1612,
          1613,
          1614,
          1615,
          1616,
          1617,
          1618,
          1619,
          1620,
          1621,
          1622,
          1623,
          1624,
          1625,
          1626,
          1627,
          1628,
          1629,
          1630,
          1631,
          1632,
          1633,
          1634,
          1635,
          1636,
          1637,
          1638,
          1639,
          1640,
          1641,
          1642,
          1643,
          1644,
          1645,
          1646,
          1647,
          1648,
          1649,
          1650,
          1651,
          1652,
          1653,
          1654,
          1655,
          1656,
          1657,
          1658,
          1659,
          1660,
          1661,
          1662,
          1663,
          1664,
          1665,
          1666,
          1667,
          1668,
          1669,
          1670,
          1671,
          1672,
          1673,
          1674,
          1675,
          1676,
          1677,
          1678,
          1679,
          1680,
          1681,
          1682,
          1683,
          1684,
          1685,
          1686,
          1687,
          1688,
          1689,
          1690,
          1691,
          1692,
          1693,
          1694,
          1695,
          1696,
          1697,
          1698,
          1699,
          1700,
          1701,
          1702,
          1703,
          1704,
          1705,
          1706,
          1707,
          1708,
          1709,
          1710,
          1711,
          1712,
          1713,
          1714,
          1715,
          1716,
          1717,
          1718,
          1719,
          1720,
          1721,
          1722,
          1723,
          1724,
          1725,
          1726,
          1727,
          1728,
          1729,
          1730,
          1731,
          1732,
          1733,
          1734,
          1735,
          1736,
          1737,
          1738,
          1739,
          1740,
          1741,
          1742,
          1743,
          1744,
          1745,
          1746,
          1747,
          1748,
          1749,
          1750,
          1751,
          1752,
          1753,
          1754,
          1755,
          1756,
          1757,
          1758,
          1759,
          1760,
          1761,
          1762,
          1763,
          1764,
          1765,
          1766,
          1767,
          1768,
          1769,
          1770,
          1771,
          1772,
          1773,
          1774,
          1775,
          1776,
          1777,
          1778,
          1779,
          1780,
          1781,
          1782,
          1783,
          1784,
          1785,
          1786,
          1787,
          1788,
          1789,
          1790,
          1791,
          1792,
          1793,
          1794,
          1795,
          1796,
          1797,
          1798,
          1799,
          1800,
          1801,
          1802,
          1803,
          1804,
          1805,
          1806,
          1807,
          1808,
          1809,
          1810,
          1811,
          1812,
          1813,
          1814,
          1815,
          1816,
          1817,
          1818,
          1819,
          1820,
          1821,
          1822,
          1823,
          1824,
          1825,
          1826,
          1827,
          1828,
          1829,
          1830,
          1831,
          1832,
          1833,
          1834,
          1835,
          1836,
          1837,
          1838,
          1839,
          1840,
          1841,
          1842,
          1843,
          1844,
          1845,
          1846,
          1847,
          1848,
          1849,
          1850,
          1851,
          1852,
          1853,
          1854,
          1855,
          1856,
          1857,
          1858,
          1859,
          1860,
          1861,
          1862,
          1863,
          1864,
          1865,
          1866,
          1867,
          1868,
          1869,
          1870,
          1871,
          1872,
          1873,
          1874,
          1875,
          1876,
          1877,
          1878,
          1879,
          1880,
          1881,
          1882,
          1883,
          1884,
          1885,
          1886,
          1887,
          1888,
          1889,
          1890,
          1891,
          1892,
          1893,
          1894,
          1895,
          1896,
          1897,
          1898,
          1899,
          1900,
          1901,
          1902,
          1903,
          1904,
          1905,
          1906,
          1907,
          1908,
          1909,
          1910,
          1911,
          1912,
          1913,
          1914,
          1915,
          1916,
          1917,
          1918,
          1919,
          1920,
          1921,
          1922,
          1923,
          1924,
          1925,
          1926,
          1927,
          1928,
          1929,
          1930,
          1931,
          1932,
          1933,
          1934,
          1935,
          1936,
          1937,
          1938,
          1939,
          1940,
          1941,
          1942,
          1943,
          1944,
          1945,
          1946,
          1947,
          1948,
          1949,
          1950,
          1951,
          1952,
          1953,
          1954,
          1955,
          1956,
          1957,
          1958,
          1959,
          1960,
          1961,
          1962,
          1963,
          1964,
          1965,
          1966,
          1967,
          1968,
          1969,
          1970,
          1971,
          1972,
          1973,
          1974,
          1975,
          1976,
          1977,
          1978,
          1979,
          1980,
          1981,
          1982,
          1983,
          1984,
          1985,
          1986,
          1987,
          1988,
          1989,
          1990,
          1991,
          1992,
          1993,
          1994,
          1995,
          1996,
          1997,
          1998,
          1999,
          2000,
          2001,
          2002,
          2003,
          2004,
          2005,
          2006,
          2007,
          2008,
          2009,
          2010,
          2011,
          2012,
          2013,
          2014,
          2015,
          2016,
          2017,
          2018,
          2019,
          2020,
          2021,
          2022,
          2023,
          2024,
          2025,
          2026,
          2027,
          2028,
          2029,
          2030,
          2031,
          2032,
          2033,
          2034,
          2035,
          2036,
          2037,
          2038,
          2039,
          2040,
          2041,
          2042,
          2043,
          2044,
          2045,
          2046,
          2047,
          2048,
          2049,
          2050,
          2051,
          2052,
          2053,
          2054,
          2055,
          2056,
          2057,
          2058,
          2059,
          2060,
          2061,
          2062,
          2063,
          2064,
          2065,
          2066,
          2067,
          2068,
          2069,
          2070,
          2071,
          2072,
          2073,
          2074,
          2075,
          2076,
          2077,
          2078,
          2079,
          2080,
          2081,
          2082,
          2083,
          2084,
          2085,
          2086,
          2087,
          2088,
          2089,
          2090,
          2091,
          2092,
          2093,
          2094,
          2095,
          2096,
          2097,
          2098,
          2099,
          2100,
          2101,
          2102,
          2103,
          2104,
          2105,
          2106,
          2107,
          2108,
          2109,
          2110,
          2111,
          2112,
          2113,
          2114,
          2115,
          2116,
          2117,
          2118,
          2119,
          2120,
          2121,
          2122,
          2123,
          2124,
          2125,
          2126,
          2127,
          2128,
          2129,
          2130,
          2131,
          2132,
          2133,
          2134,
          2135,
          2136,
          2137,
          2138,
          2139,
          2140,
          2141,
          2142,
          2143,
          2144,
          2145,
          2146,
          2147,
          2148,
          2149,
          2150,
          2151,
          2152,
          2153,
          2154,
          2155,
          2156,
          2157,
          2158,
          2159,
          2160,
          2161,
          2162,
          2163,
          2164,
          2165,
          2166,
          2167,
          2168,
          2169,
          2170,
          2171,
          2172,
          2173,
          2174,
          2175,
          2176,
          2177,
          2178,
          2179,
          2180,
          2181,
          2182,
          2183,
          2184,
          2185,
          2186,
          2187,
          2188,
          2189,
          2190,
          2191,
          2192,
          2193,
          2194,
          2195,
          2196,
          2197,
          2198,
          2199,
          2200,
          2201,
          2202,
          2203,
          2204,
          2205,
          2206,
          2207,
          2208,
          2209,
          2210,
          2211,
          2212,
          2213,
          2214,
          2215,
          2216,
          2217,
          2218,
          2219,
          2220,
          2221,
          2222,
          2223,
          2224,
          2225,
          2226,
          2227,
          2228,
          2229,
          2230,
          2231,
          2232,
          2233,
          2234,
          2235,
          2236,
          2237,
          2238,
          2239,
          2240,
          2241,
          2242,
          2243,
          2244,
          2245,
          2246,
          2247,
          2248,
          2249,
          2250,
          2251,
          2252,
          2253,
          2254,
          2255,
          2256,
          2257,
          2258,
          2259,
          2260,
          2261,
          2262,
          2263,
          2264,
          2265,
          2266,
          2267,
          2268,
          2269,
          2270,
          2271,
          2272,
          2273,
          2274,
          2275,
          2276,
          2277,
          2278,
          2279,
          2280,
          2281,
          2282,
          2283,
          2284,
          2285,
          2286,
          2287,
          2288,
          2289,
          2290,
          2291,
          2292,
          2293,
          2294,
          2295,
          2296,
          2297,
          2298,
          2299,
          2300,
          2301,
          2302,
          2303,
          2304,
          2305,
          2306,
          2307,
          2308,
          2309,
          2310,
          2311,
          2312,
          2313,
          2314,
          2315,
          2316,
          2317,
          2318,
          2319,
          2320,
          2321,
          2322,
          2323,
          2324,
          2325,
          2326,
          2327,
          2328,
          2329,
          2330,
          2331,
          2332,
          2333,
          2334,
          2335,
          2336,
          2337,
          2338,
          2339,
          2340,
          2341,
          2342,
          2343,
          2344,
          2345,
          2346,
          2347,
          2348,
          2349,
          2350,
          2351,
          2352,
          2353,
          2354,
          2355,
          2356,
          2357,
          2358,
          2359,
          2360,
          2361,
          2362,
          2363,
          2364,
          2365,
          2366,
          2367,
          2368,
          2369,
          2370,
          2371,
          2372,
          2373,
          2374,
          2375,
          2376,
          2377,
          2378,
          2379,
          2380,
          2381,
          2382,
          2383,
          2384,
          2385,
          2386,
          2387,
          2388,
          2389,
          2390,
          2391,
          2392,
          2393,
          2394,
          2395,
          2396,
          2397,
          2398,
          2399,
          2400,
          2401,
          2402,
          2403,
          2404,
          2405,
          2406,
          2407,
          2408,
          2409,
          2410,
          2411,
          2412,
          2413,
          2414,
          2415,
          2416,
          2417,
          2418,
          2419,
          2420,
          2421,
          2422,
          2423,
          2424,
          2425,
          2426,
          2427,
          2428,
          2429,
          2430,
          2431,
          2432,
          2433,
          2434,
          2435,
          2436,
          2437,
          2438,
          2439,
          2440,
          2441,
          2442,
          2443,
          2444,
          2445,
          2446,
          2447,
          2448,
          2449,
          2450,
          2451,
          2452,
          2453,
          2454,
          2455,
          2456,
          2457,
          2458,
          2459,
          2460,
          2461,
          2462,
          2463,
          2464,
          2465,
          2466,
          2467,
          2468,
          2469,
          2470,
          2471,
          2472,
          2473,
          2474,
          2475,
          2476,
          2477,
          2478,
          2479,
          2480,
          2481,
          2482,
          2483,
          2484,
          2485,
          2486,
          2487,
          2488,
          2489,
          2490,
          2491,
          2492,
          2493,
          2494,
          2495,
          2496,
          2497,
          2498,
          2499,
          2500,
          2501,
          2502,
          2503,
          2504,
          2505,
          2506,
          2507,
          2508,
          2509,
          2510,
          2511,
          2512,
          2513,
          2514,
          2515,
          2516,
          2517,
          2518,
          2519,
          2520,
          2521,
          2522,
          2523,
          2524,
          2525,
          2526,
          2527,
          2528,
          2529,
          2530,
          2531,
          2532,
          2533,
          2534,
          2535,
          2536,
          2537,
          2538,
          2539,
          2540,
          2541,
          2542,
          2543,
          2544,
          2545,
          2546,
          2547,
          2548,
          2549,
          2550,
          2551,
          2552,
          2553,
          2554,
          2555,
          2556,
          2557,
          2558,
          2559,
          2560,
          2561,
          2562,
          2563,
          2564,
          2565,
          2566,
          2567,
          2568,
          2569,
          2570,
          2571,
          2572,
          2573,
          2574,
          2575,
          2576,
          2577,
          2578,
          2579,
          2580,
          2581,
          2582,
          2583,
          2584,
          2585,
          2586,
          2587,
          2588,
          2589,
          2590,
          2591,
          2592,
          2593,
          2594,
          2595,
          2596,
          2597,
          2598,
          2599,
          2600,
          2601,
          2602,
          2603,
          2604,
          2605,
          2606,
          2607,
          2608,
          2609,
          2610,
          2611,
          2612,
          2613,
          2614,
          2615,
          2616,
          2617,
          2618,
          2619,
          2620,
          2621,
          2622,
          2623,
          2624,
          2625,
          2626,
          2627,
          2628,
          2629,
          2630,
          2631,
          2632,
          2633,
          2634,
          2635,
          2636,
          2637,
          2638,
          2639,
          2640,
          2641,
          2642,
          2643,
          2644,
          2645,
          2646,
          2647,
          2648,
          2649,
          2650,
          2651,
          2652,
          2653,
          2654,
          2655,
          2656,
          2657,
          2658,
          2659,
          2660,
          2661,
          2662,
          2663,
          2664,
          2665,
          2666,
          2667,
          2668,
          2669,
          2670,
          2671,
          2672,
          2673,
          2674,
          2675,
          2676,
          2677,
          2678,
          2679,
          2680,
          2681,
          2682,
          2683,
          2684,
          2685,
          2686,
          2687,
          2688,
          2689,
          2690,
          2691,
          2692,
          2693,
          2694,
          2695,
          2696,
          2697,
          2698,
          2699,
          2700,
          2701,
          2702,
          2703,
          2704,
          2705,
          2706,
          2707,
          2708,
          2709,
          2710,
          2711,
          2712,
          2713,
          2714,
          2715,
          2716,
          2717,
          2718,
          2719,
          2720,
          2721,
          2722,
          2723,
          2724,
          2725,
          2726,
          2727,
          2728,
          2729,
          2730,
          2731,
          2732,
          2733,
          2734,
          2735,
          2736,
          2737,
          2738,
          2739,
          2740,
          2741,
          2742,
          2743,
          2744,
          2745,
          2746,
          2747,
          2748,
          2749,
          2750,
          2751,
          2752,
          2753,
          2754,
          2755,
          2756,
          2757,
          2758,
          2759,
          2760,
          2761,
          2762,
          2763,
          2764,
          2765,
          2766,
          2767,
          2768,
          2769,
          2770,
          2771,
          2772,
          2773,
          2774,
          2775,
          2776,
          2777,
          2778,
          2779,
          2780,
          2781,
          2782,
          2783,
          2784,
          2785,
          2786,
          2787,
          2788,
          2789,
          2790,
          2791,
          2792,
          2793,
          2794,
          2795,
          2796,
          2797,
          2798,
          2799,
          2800,
          2801,
          2802,
          2803,
          2804,
          2805,
          2806,
          2807,
          2808,
          2809,
          2810,
          2811,
          2812,
          2813,
          2814,
          2815,
          2816,
          2817,
          2818,
          2819,
          2820,
          2821,
          2822,
          2823,
          2824,
          2825,
          2826,
          2827,
          2828,
          2829,
          2830,
          2831,
          2832,
          2833,
          2834,
          2835,
          2836,
          2837,
          2838,
          2839,
          2840,
          2841,
          2842,
          2843,
          2844,
          2845,
          2846,
          2847,
          2848,
          2849,
          2850,
          2851,
          2852,
          2853,
          2854,
          2855,
          2856,
          2857,
          2858,
          2859,
          2860,
          2861,
          2862,
          2863,
          2864,
          2865,
          2866,
          2867,
          2868,
          2869,
          2870,
          2871,
          2872,
          2873,
          2874,
          2875,
          2876,
          2877,
          2878,
          2879,
          2880,
          2881,
          2882,
          2883,
          2884,
          2885,
          2886,
          2887,
          2888,
          2889,
          2890,
          2891,
          2892,
          2893,
          2894,
          2895,
          2896,
          2897,
          2898,
          2899,
          2900,
          2901,
          2902,
          2903,
          2904,
          2905,
          2906,
          2907,
          2908,
          2909,
          2910,
          2911,
          2912,
          2913,
          2914,
          2915,
          2916,
          2917,
          2918,
          2919,
          2920,
          2921,
          2922,
          2923,
          2924,
          2925,
          2926,
          2927,
          2928,
          2929,
          2930,
          2931,
          2932,
          2933,
          2934,
          2935,
          2936,
          2937,
          2938,
          2939,
          2940,
          2941,
          2942,
          2943,
          2944,
          2945,
          2946,
          2947,
          2948,
          2949,
          2950,
          2951,
          2952,
          2953,
          2954,
          2955,
          2956,
          2957,
          2958,
          2959,
          2960,
          2961,
          2962,
          2963,
          2964,
          2965,
          2966,
          2967,
          2968,
          2969,
          2970,
          2971,
          2972,
          2973,
          2974,
          2975,
          2976,
          2977,
          2978,
          2979,
          2980,
          2981,
          2982,
          2983,
          2984,
          2985,
          2986,
          2987,
          2988,
          2989,
          2990,
          2991,
          2992,
          2993,
          2994,
          2995,
          2996,
          2997,
          2998,
          2999,
          3000,
          3001,
          3002,
          3003,
          3004,
          3005,
          3006,
          3007,
          3008,
          3009,
          3010,
          3011,
          3012,
          3013,
          3014,
          3015,
          3016,
          3017,
          3018,
          3019,
          3020,
          3021,
          3022,
          3023,
          3024,
          3025,
          3026,
          3027,
          3028,
          3029,
          3030,
          3031,
          3032,
          3033,
          3034,
          3035,
          3036,
          3037,
          3038,
          3039,
          3040,
          3041,
          3042,
          3043,
          3044,
          3045,
          3046,
          3047,
          3048,
          3049,
          3050,
          3051,
          3052,
          3053,
          3054,
          3055,
          3056,
          3057,
          3058,
          3059,
          3060,
          3061,
          3062,
          3063,
          3064,
          3065,
          3066,
          3067,
          3068,
          3069,
          3070,
          3071,
          3072,
          3073,
          3074,
          3075,
          3076,
          3077,
          3078,
          3079,
          3080,
          3081,
          3082,
          3083,
          3084,
          3085,
          3086,
          3087,
          3088,
          3089,
          3090,
          3091,
          3092,
          3093,
          3094,
          3095,
          3096,
          3097,
          3098,
          3099,
          3100,
          3101,
          3102,
          3103,
          3104,
          3105,
          3106,
          3107,
          3108,
          3109,
          3110,
          3111,
          3112,
          3113,
          3114,
          3115,
          3116,
          3117,
          3118,
          3119,
          3120,
          3121,
          3122,
          3123,
          3124,
          3125,
          3126,
          3127,
          3128,
          3129,
          3130,
          3131,
          3132,
          3133,
          3134,
          3135,
          3136,
          3137,
          3138,
          3139,
          3140,
          3141,
          3142,
          3143,
          3144,
          3145,
          3146,
          3147,
          3148,
          3149,
          3150,
          3151,
          3152,
          3153,
          3154,
          3155,
          3156,
          3157,
          3158,
          3159,
          3160,
          3161,
          3162,
          3163,
          3164,
          3165,
          3166,
          3167,
          3168,
          3169,
          3170,
          3171,
          3172,
          3173,
          3174,
          3175,
          3176,
          3177,
          3178,
          3179,
          3180,
          3181,
          3182,
          3183,
          3184,
          3185,
          3186,
          3187,
          3188,
          3189,
          3190,
          3191,
          3192,
          3193,
          3194,
          3195,
          3196,
          3197,
          3198,
          3199,
          3200,
          3201,
          3202,
          3203,
          3204,
          3205,
          3206,
          3207,
          3208,
          3209,
          3210,
          3211,
          3212,
          3213,
          3214,
          3215,
          3216,
          3217,
          3218,
          3219,
          3220,
          3221,
          3222,
          3223,
          3224,
          3225,
          3226,
          3227,
          3228,
          3229,
          3230,
          3231,
          3232,
          3233,
          3234,
          3235,
          3236,
          3237,
          3238,
          3239,
          3240,
          3241,
          3242,
          3243,
          3244,
          3245,
          3246,
          3247,
          3248,
          3249,
          3250,
          3251,
          3252,
          3253,
          3254,
          3255,
          3256,
          3257,
          3258,
          3259,
          3260,
          3261,
          3262,
          3263,
          3264,
          3265,
          3266,
          3267,
          3268,
          3269,
          3270,
          3271,
          3272,
          3273,
          3274,
          3275,
          3276,
          3277,
          3278,
          3279,
          3280,
          3281,
          3282,
          3283,
          3284,
          3285,
          3286,
          3287,
          3288,
          3289,
          3290,
          3291,
          3292,
          3293,
          3294,
          3295,
          3296,
          3297,
          3298,
          3299,
          3300,
          3301,
          3302,
          3303,
          3304,
          3305,
          3306,
          3307,
          3308,
          3309,
          3310,
          3311,
          3312,
          3313,
          3314,
          3315,
          3316,
          3317,
          3318,
          3319,
          3320,
          3321,
          3322,
          3323,
          3324,
          3325,
          3326,
          3327,
          3328,
          3329,
          3330,
          3331,
          3332,
          3333,
          3334,
          3335,
          3336,
          3337,
          3338,
          3339,
          3340,
          3341,
          3342,
          3343,
          3344,
          3345,
          3346,
          3347,
          3348,
          3349,
          3350,
          3351,
          3352,
          3353,
          3354,
          3355,
          3356,
          3357,
          3358,
          3359,
          3360,
          3361,
          3362,
          3363,
          3364,
          3365,
          3366,
          3367,
          3368,
          3369,
          3370,
          3371,
          3372,
          3373,
          3374,
          3375,
          3376,
          3377,
          3378,
          3379,
          3380,
          3381,
          3382,
          3383,
          3384,
          3385,
          3386,
          3387,
          3388,
          3389,
          3390,
          3391,
          3392,
          3393,
          3394,
          3395,
          3396,
          3397,
          3398,
          3399,
          3400,
          3401,
          3402,
          3403,
          3404,
          3405,
          3406,
          3407,
          3408,
          3409,
          3410,
          3411,
          3412,
          3413,
          3414,
          3415,
          3416,
          3417,
          3418,
          3419,
          3420,
          3421,
          3422,
          3423,
          3424,
          3425,
          3426,
          3427,
          3428,
          3429,
          3430,
          3431,
          3432,
          3433,
          3434,
          3435,
          3436,
          3437,
          3438,
          3439,
          3440,
          3441,
          3442,
          3443,
          3444,
          3445,
          3446,
          3447,
          3448,
          3449,
          3450,
          3451,
          3452,
          3453,
          3454,
          3455,
          3456,
          3457,
          3458,
          3459,
          3460,
          3461,
          3462,
          3463,
          3464,
          3465,
          3466,
          3467,
          3468,
          3469,
          3470,
          3471,
          3472,
          3473,
          3474,
          3475,
          3476,
          3477,
          3478,
          3479,
          3480,
          3481,
          3482,
          3483,
          3484,
          3485,
          3486,
          3487,
          3488,
          3489,
          3490,
          3491
         ],
         "xaxis": "x",
         "y": [
          375,
          4788,
          359,
          600,
          376,
          676,
          1880,
          514,
          750,
          752,
          1238,
          303,
          303,
          613,
          5084,
          1014,
          376,
          808,
          2102,
          564,
          750,
          573,
          750,
          665,
          488,
          1127,
          434,
          3384,
          1418,
          752,
          376,
          291,
          1786,
          314,
          787,
          864,
          1214,
          1677,
          600,
          90,
          405,
          2843,
          540,
          300,
          135,
          360,
          832,
          1005,
          2395,
          300,
          270,
          1470,
          450,
          2788,
          1320,
          1471,
          812,
          428,
          114,
          488,
          413,
          1090,
          1080,
          450,
          1504,
          802,
          1620,
          1910,
          580,
          993,
          2154,
          494,
          863,
          1481,
          470,
          1910,
          2830,
          405,
          3600,
          563,
          1215,
          1276,
          1140,
          2723,
          1759,
          843,
          1128,
          577,
          1916,
          852,
          164,
          1407,
          561,
          473,
          698,
          300,
          370,
          2254,
          405,
          2328,
          300,
          562,
          752,
          1216,
          150,
          1186,
          2704,
          376,
          2972,
          434,
          771,
          1218,
          2166,
          384,
          2824,
          1872,
          2850,
          4303,
          1276,
          2090,
          304,
          285,
          405,
          836,
          555,
          975,
          914,
          1483,
          1534,
          2280,
          608,
          540,
          900,
          1222,
          426,
          2050,
          209,
          2922,
          1012,
          9364,
          810,
          3776,
          1056,
          705,
          1588,
          4558,
          526,
          352,
          1470,
          786,
          1784,
          1071,
          10656,
          900,
          840,
          1067,
          2707,
          1434,
          1381,
          2068,
          830,
          1377,
          803,
          1187,
          3630,
          954,
          1035,
          2644,
          506,
          690,
          976,
          1786,
          3388,
          1612,
          690,
          532,
          1775,
          968,
          1077,
          1503,
          712,
          2090,
          924,
          507,
          405,
          1064,
          2421,
          1618,
          1292,
          2236,
          135,
          249,
          152,
          5556,
          270,
          942,
          964,
          915,
          360,
          480,
          1266,
          466,
          1350,
          808,
          818,
          1408,
          795,
          600,
          704,
          456,
          408,
          480,
          1974,
          684,
          1271,
          830,
          456,
          4187,
          1379,
          570,
          420,
          114750,
          23660,
          1080,
          190,
          1804,
          1036,
          3620,
          1350,
          410,
          976,
          2180,
          632,
          600,
          3970,
          510,
          97,
          225,
          1754,
          1111,
          135,
          584,
          7356,
          240,
          1504,
          690,
          292,
          540,
          944,
          591,
          488,
          902,
          1148,
          1018,
          1225,
          2928,
          420,
          584,
          376,
          285,
          488,
          1432,
          848,
          2528,
          1045,
          3476,
          1364,
          190,
          726,
          4920,
          1128,
          188,
          135,
          676,
          600,
          840,
          510,
          929,
          420,
          2658,
          544,
          728,
          564,
          345,
          675,
          488,
          577,
          728,
          836,
          480,
          675,
          600,
          1275,
          420,
          646,
          135,
          1699,
          270,
          555,
          232,
          300,
          376,
          520,
          1837,
          1574,
          742,
          418,
          1012,
          194,
          374,
          16495,
          4748,
          1037,
          269,
          824,
          674,
          820,
          614,
          187,
          3648,
          188,
          1162,
          1049,
          1785,
          976,
          703,
          1236,
          3524,
          1562,
          2924,
          299,
          193,
          860,
          749,
          1941,
          1649,
          127,
          187,
          1762,
          524,
          567,
          2818,
          4379,
          374,
          840,
          1874,
          149,
          3298,
          8758,
          2998,
          149,
          582,
          239,
          149,
          2453,
          464,
          710,
          1949,
          1281,
          4949,
          1349,
          3748,
          1574,
          1049,
          1199,
          742,
          712,
          614,
          1724,
          280,
          3822,
          254,
          1420,
          7474,
          292,
          2757,
          749,
          1949,
          2083,
          239,
          1216,
          2699,
          449,
          1425,
          1049,
          599,
          525,
          1274,
          374,
          742,
          200,
          2699,
          3899,
          1139,
          2550,
          463,
          1012,
          637,
          596,
          1770,
          3089,
          188,
          1574,
          2324,
          17100,
          672,
          1093,
          156,
          539,
          1874,
          164,
          1490,
          1012,
          1900,
          224,
          374,
          209,
          553,
          1949,
          868,
          247,
          447,
          1049,
          614,
          2134,
          2453,
          4796,
          1874,
          2324,
          314,
          2990,
          2174,
          831,
          562,
          300,
          862,
          4796,
          3974,
          397,
          570,
          7100,
          447,
          1199,
          560,
          621,
          734,
          1347,
          937,
          1012,
          1615,
          1531,
          2020,
          1649,
          1798,
          1836,
          897,
          1723,
          224,
          852,
          824,
          3658,
          343,
          749,
          674,
          427,
          3147,
          149,
          937,
          2999,
          2549,
          2923,
          1547,
          1190,
          1083,
          734,
          2399,
          1981,
          599,
          637,
          2099,
          1199,
          9010,
          1724,
          560,
          2549,
          149,
          299,
          1574,
          5469,
          449,
          896,
          82,
          1574,
          1612,
          644,
          1274,
          2924,
          928,
          1012,
          3749,
          749,
          50770,
          1515,
          1797,
          277,
          134,
          225,
          631,
          300,
          637,
          4049,
          1475,
          224,
          225,
          328,
          2999,
          307,
          1147,
          824,
          374,
          2623,
          1199,
          1101,
          1686,
          236,
          210,
          3133,
          2996,
          742,
          974,
          149,
          252,
          8670,
          742,
          742,
          748,
          1440,
          544,
          1191,
          1012,
          8260,
          600,
          1499,
          1473,
          5249,
          2249,
          149,
          448,
          1049,
          1951,
          4139,
          239,
          2849,
          404,
          447,
          5090,
          6007,
          1408,
          1619,
          974,
          972,
          3298,
          614,
          81,
          6007,
          7597,
          524,
          24370,
          1949,
          937,
          974,
          2728,
          1124,
          637,
          534,
          928,
          697,
          5970,
          1949,
          547,
          149,
          381,
          599,
          374,
          7722,
          894,
          449,
          3440,
          749,
          920,
          1949,
          450,
          546,
          734,
          440,
          1649,
          2774,
          742,
          487,
          3374,
          4949,
          1199,
          1049,
          1836,
          411,
          2111,
          156,
          88,
          180,
          1199,
          1049,
          1087,
          356,
          3749,
          5474,
          472,
          239,
          749,
          820,
          1574,
          470,
          268,
          993,
          1073,
          1874,
          5996,
          2849,
          899,
          67,
          637,
          638,
          354,
          15,
          824,
          449,
          2698,
          404,
          312,
          742,
          412,
          787,
          225,
          749,
          1648,
          599,
          478,
          539,
          1574,
          899,
          59,
          770,
          1049,
          380,
          308,
          336,
          380,
          299,
          397,
          59,
          734,
          479,
          712,
          1799,
          1662,
          1649,
          2441,
          3006,
          1203,
          2424,
          2532,
          1196,
          708,
          2209,
          380,
          909,
          2924,
          45,
          922,
          894,
          239,
          1199,
          2109,
          1349,
          1874,
          1912,
          2624,
          363,
          2166,
          3974,
          1346,
          1468,
          427,
          1960,
          2473,
          224,
          4867,
          132,
          447,
          300,
          637,
          1716,
          4495,
          1213,
          9915,
          247,
          1274,
          427,
          2249,
          2624,
          4049,
          1124,
          1010,
          524,
          224,
          2699,
          5160,
          740,
          2399,
          2924,
          1837,
          33680,
          59,
          446,
          1860,
          1738,
          2024,
          1049,
          89,
          449,
          734,
          240,
          487,
          577,
          963,
          963,
          2187,
          1447,
          1373,
          937,
          937,
          187,
          810,
          299,
          1049,
          2827,
          3224,
          734,
          60,
          1649,
          299,
          689,
          749,
          712,
          2600,
          749,
          749,
          194,
          4859,
          974,
          2024,
          3712,
          112,
          697,
          1049,
          112,
          10498,
          1049,
          2849,
          292,
          1912,
          6134,
          88,
          134,
          127,
          3329,
          1034,
          1461,
          134,
          329,
          1347,
          449,
          59,
          2549,
          712,
          1087,
          239,
          1162,
          1874,
          1049,
          264,
          509,
          149,
          1725,
          1378,
          1056,
          2324,
          402,
          5800,
          149,
          584,
          479,
          1574,
          3299,
          704,
          1649,
          202,
          359,
          2699,
          1164,
          1799,
          5024,
          118,
          899,
          447,
          292,
          44,
          5662,
          177,
          239,
          134,
          449,
          118,
          2849,
          224,
          719,
          2174,
          656,
          328,
          52,
          637,
          749,
          157,
          674,
          134,
          1049,
          2024,
          1874,
          778,
          2999,
          1574,
          524,
          59,
          3298,
          2098,
          449,
          2249,
          1049,
          1468,
          1237,
          1490,
          89,
          389,
          1724,
          449,
          704,
          836,
          209,
          148,
          624,
          651,
          7424,
          4124,
          2340,
          637,
          412,
          1796,
          52,
          149,
          1049,
          1049,
          442,
          637,
          1649,
          1049,
          568,
          442,
          2699,
          268,
          1649,
          448,
          134,
          708,
          88,
          374,
          3524,
          749,
          359,
          374,
          87,
          1049,
          367,
          539,
          712,
          745,
          1199,
          172,
          2098,
          1874,
          1612,
          44,
          598,
          1049,
          516,
          787,
          2699,
          149,
          6270,
          74,
          824,
          1649,
          32718,
          3598,
          2406,
          1948,
          434,
          637,
          224,
          52,
          1215,
          1168,
          1049,
          2098,
          2360,
          478,
          12030,
          928,
          1912,
          599,
          300,
          298,
          888,
          2249,
          149,
          44,
          134,
          2999,
          149,
          862,
          464,
          1649,
          344,
          1424,
          3148,
          416,
          375,
          1139,
          2924,
          1049,
          712,
          194,
          3247,
          448,
          149,
          6294,
          1049,
          907,
          974,
          2460,
          1912,
          1139,
          3148,
          1649,
          112,
          1496,
          2624,
          1987,
          1049,
          450,
          1574,
          224,
          884,
          3329,
          299,
          254,
          1874,
          187,
          1799,
          298,
          3147,
          471,
          2098,
          1499,
          637,
          1349,
          2174,
          749,
          2549,
          899,
          1612,
          149,
          1162,
          524,
          1049,
          202,
          239,
          584,
          134,
          6307,
          945,
          479,
          487,
          1799,
          11244,
          299,
          389,
          899,
          824,
          2098,
          4499,
          472,
          524,
          749,
          277,
          718,
          4048,
          1162,
          1214,
          134,
          1199,
          2460,
          488,
          899,
          974,
          5998,
          937,
          374,
          5399,
          154,
          944,
          5847,
          1056,
          487,
          209,
          448,
          2849,
          112,
          492,
          4700,
          224,
          1912,
          1912,
          1770,
          712,
          110,
          898,
          937,
          518,
          1017,
          127,
          652,
          1874,
          112,
          157,
          135,
          1724,
          59,
          59,
          47385,
          2800,
          232,
          1649,
          22,
          749,
          1237,
          112,
          134,
          134,
          328,
          1198,
          44,
          5398,
          373,
          382,
          5398,
          312,
          727,
          164,
          1572,
          1794,
          1138,
          220,
          974,
          1574,
          599,
          3400,
          554,
          569,
          554,
          374,
          2399,
          689,
          1302,
          374,
          149,
          2219,
          4272,
          11250,
          742,
          119,
          74,
          157,
          710,
          164,
          1515,
          1368,
          448,
          554,
          1344,
          539,
          1642,
          1574,
          374,
          517,
          764,
          449,
          1087,
          2024,
          22,
          300,
          112,
          209,
          1536,
          1799,
          627,
          1649,
          449,
          67,
          2099,
          674,
          389,
          119,
          149,
          374,
          149,
          1916,
          8848,
          2527,
          5775,
          299,
          1574,
          1012,
          524,
          487,
          224,
          299,
          4957,
          1162,
          127,
          448,
          103,
          727,
          3749,
          974,
          1424,
          74,
          1424,
          667,
          157,
          464,
          209,
          1270,
          5249,
          727,
          727,
          3974,
          134,
          44,
          300,
          599,
          149,
          202,
          16536,
          2699,
          299,
          1574,
          974,
          1799,
          22,
          6149,
          1275,
          937,
          802,
          82,
          67,
          1949,
          2697,
          286,
          104,
          134,
          899,
          667,
          820,
          268,
          44,
          899,
          1798,
          1649,
          1498,
          652,
          1424,
          208,
          569,
          727,
          59,
          11000,
          592,
          14960,
          187,
          1649,
          1548,
          1124,
          1799,
          614,
          2999,
          88,
          134,
          3524,
          1139,
          1949,
          292,
          1522,
          2024,
          389,
          119,
          88,
          1716,
          240,
          940,
          652,
          592,
          1087,
          104,
          284,
          434,
          110,
          277,
          614,
          2324,
          209,
          1799,
          787,
          336,
          1799,
          389,
          134,
          232,
          1574,
          1087,
          66,
          1122,
          164,
          134,
          44,
          1409,
          3329,
          134,
          299,
          3562,
          328,
          748,
          899,
          134,
          607,
          3667,
          157,
          179,
          118,
          3329,
          134,
          1874,
          2324,
          328,
          1087,
          440,
          3112,
          1736,
          378,
          299,
          4240,
          157,
          479,
          127,
          787,
          898,
          824,
          442,
          1994,
          194,
          149,
          67,
          464,
          134,
          727,
          1162,
          29,
          127,
          524,
          727,
          562,
          1124,
          2211,
          560,
          224,
          741,
          502,
          2699,
          2146,
          2550,
          1087,
          2849,
          492,
          88,
          1198,
          862,
          804,
          1568,
          1649,
          749,
          337,
          3745,
          974,
          2849,
          149,
          680,
          899,
          3674,
          134,
          1649,
          449,
          314,
          134,
          374,
          727,
          1085,
          112,
          2699,
          487,
          209,
          299,
          157,
          1780,
          2774,
          120,
          820,
          674,
          134,
          1087,
          134,
          471,
          2099,
          194,
          157,
          157,
          239,
          487,
          87,
          487,
          119,
          3261,
          1724,
          974,
          974,
          134,
          6370,
          1987,
          8437,
          7124,
          974,
          2399,
          112,
          134,
          3329,
          442,
          1649,
          134,
          2240,
          134,
          735,
          824,
          1040,
          1898,
          164,
          59,
          1199,
          614,
          1350,
          742,
          742,
          149,
          1195,
          389,
          674,
          464,
          900,
          974,
          374,
          104,
          860,
          58,
          2550,
          562,
          914,
          74,
          194,
          67,
          74,
          487,
          727,
          2041,
          2220,
          487,
          67,
          350,
          599,
          74,
          4048,
          727,
          5594,
          4900,
          560,
          1649,
          74,
          388,
          127,
          670,
          1154,
          1087,
          388,
          74,
          1288,
          307,
          127,
          1349,
          3525,
          599,
          134,
          1874,
          922,
          157,
          2924,
          268,
          734,
          2924,
          727,
          268,
          680,
          1087,
          487,
          225,
          194,
          74,
          629,
          7048,
          776,
          295,
          1949,
          119,
          292,
          1087,
          666,
          374,
          689,
          1199,
          603,
          898,
          555,
          764,
          74,
          2137,
          134,
          449,
          104,
          3719,
          1949,
          480,
          2249,
          614,
          938,
          412,
          225,
          5459,
          4117,
          3787,
          810,
          194,
          1012,
          413,
          1087,
          134,
          1376,
          2174,
          974,
          1274,
          5249,
          727,
          727,
          1049,
          74,
          112,
          614,
          2549,
          974,
          148,
          3074,
          74,
          2399,
          344,
          149,
          3936,
          1199,
          1087,
          314,
          2549,
          614,
          209,
          314,
          52,
          1874,
          4947,
          209,
          779,
          509,
          397,
          2998,
          652,
          187,
          8745,
          104,
          157,
          1087,
          127,
          1574,
          471,
          1949,
          7679,
          187,
          1892,
          727,
          1049,
          1874,
          1124,
          222,
          104,
          2249,
          5398,
          1087,
          1574,
          449,
          508,
          134,
          2720,
          1199,
          157,
          67,
          59,
          1247,
          749,
          194,
          888,
          742,
          3749,
          1087,
          299,
          5594,
          824,
          750,
          225,
          590,
          59,
          74,
          712,
          1304,
          134,
          236,
          2399,
          236,
          2694,
          187,
          1574,
          974,
          2247,
          1649,
          974,
          3000,
          449,
          5098,
          552,
          592,
          1649,
          210,
          176,
          149,
          628,
          1180,
          104,
          74,
          622,
          14396,
          922,
          734,
          1056,
          104,
          898,
          3598,
          4049,
          1770,
          2112,
          508,
          254,
          1496,
          712,
          134,
          280,
          2624,
          74,
          74,
          1648,
          134,
          134,
          3787,
          74,
          524,
          620,
          74,
          44,
          1770,
          59,
          3448,
          442,
          374,
          524,
          268,
          74,
          434,
          7796,
          734,
          734,
          296,
          209,
          714,
          87,
          1167,
          65220,
          1200,
          9296,
          148,
          84,
          928,
          3776,
          5287,
          298,
          925,
          1762,
          52,
          352,
          405,
          1649,
          119,
          22,
          3329,
          988,
          547,
          2624,
          487,
          412,
          140,
          1177,
          5398,
          749,
          734,
          4574,
          974,
          600,
          134,
          2245,
          2249,
          742,
          749,
          6149,
          449,
          712,
          52,
          734,
          8737,
          74,
          164,
          134,
          1649,
          562,
          524,
          787,
          3224,
          1087,
          119,
          157,
          1649,
          3705,
          1087,
          134,
          74,
          6149,
          8997,
          134,
          734,
          560,
          134,
          268,
          1049,
          442,
          6702,
          3074,
          374,
          659,
          74,
          224,
          524,
          734,
          198,
          44,
          5249,
          1574,
          1049,
          3898,
          22,
          147,
          598,
          1462,
          1798,
          37,
          674,
          402,
          300,
          177,
          59,
          1087,
          200,
          118,
          32382,
          787,
          389,
          974,
          1012,
          1199,
          194,
          1649,
          59,
          794,
          236,
          269,
          87,
          1424,
          1424,
          718,
          869,
          200,
          370,
          22,
          599,
          1798,
          374,
          2001,
          232,
          59,
          524,
          148,
          1312,
          1312,
          11460,
          14196,
          15680,
          564,
          7229,
          187,
          74,
          337,
          119,
          119,
          232,
          2774,
          58,
          74,
          1274,
          8077,
          134,
          412,
          569,
          569,
          74,
          312,
          28,
          688,
          22,
          44,
          928,
          1236,
          2624,
          2699,
          134,
          475,
          179,
          717,
          2699,
          97,
          231,
          1499,
          787,
          4470,
          592,
          268,
          97,
          374,
          156,
          896,
          472,
          472,
          217,
          217,
          217,
          254,
          637,
          1087,
          1087,
          254,
          1200,
          142,
          22,
          1920,
          134,
          37,
          1574,
          134,
          157,
          224,
          224,
          295,
          74,
          487,
          120,
          2992,
          208,
          356,
          97,
          3674,
          520,
          262,
          1574,
          1874,
          389,
          14995,
          2999,
          1012,
          8322,
          402,
          502,
          164,
          359,
          937,
          88,
          1796,
          899,
          208,
          4874,
          599,
          734,
          3261,
          2848,
          4348,
          1499,
          1724,
          509,
          1120,
          509,
          284,
          599,
          299,
          1076,
          3898,
          6097,
          232,
          74,
          44,
          400,
          568,
          6097,
          284,
          734,
          434,
          299,
          1413,
          449,
          314,
          749,
          134,
          15300,
          2174,
          112,
          652,
          1574,
          1920,
          74,
          209,
          3562,
          1649,
          337,
          899,
          3925,
          284,
          1087,
          1530,
          157,
          974,
          734,
          6449,
          344,
          1499,
          1498,
          3787,
          1540,
          464,
          22,
          397,
          134,
          4312,
          1920,
          38,
          149,
          164,
          38,
          217,
          1912,
          5852,
          2230,
          217,
          448,
          127,
          899,
          402,
          974,
          239,
          127,
          487,
          1949,
          419,
          487,
          74,
          1180,
          1664,
          598,
          734,
          11400,
          599,
          134,
          134,
          412,
          1649,
          329,
          1196,
          448,
          656,
          1762,
          3760,
          987,
          299,
          8080,
          74,
          16647,
          14,
          445,
          472,
          328,
          778,
          142,
          6494,
          296,
          194,
          734,
          52,
          2527,
          412,
          15,
          208,
          750,
          974,
          1087,
          49432,
          336,
          824,
          7004,
          6809,
          487,
          2549,
          296,
          734,
          704,
          8832,
          6614,
          2697,
          539,
          208,
          450,
          164,
          704,
          388,
          734,
          1880,
          749,
          734,
          1574,
          74,
          3749,
          1574,
          1649,
          1087,
          1162,
          3974,
          487,
          300,
          239,
          5098,
          268,
          239,
          675000,
          1649,
          1048,
          749,
          1649,
          974,
          402,
          3600,
          164,
          74,
          314,
          187,
          164,
          74,
          1275,
          560,
          600,
          734,
          1087,
          1087,
          374,
          134,
          824,
          376,
          824,
          1520,
          524,
          194,
          974,
          200,
          149,
          314,
          97,
          674,
          254,
          1348,
          492,
          374,
          4648,
          1087,
          734,
          402,
          1087,
          449,
          427,
          5939,
          614,
          149,
          1424,
          508,
          147,
          560,
          600,
          5054,
          787,
          749,
          599,
          596,
          134,
          404,
          134,
          88,
          697,
          3899,
          179,
          3147,
          148,
          1949,
          427,
          502,
          74,
          2527,
          449,
          4494,
          329,
          157,
          488,
          412,
          134,
          328,
          397,
          599,
          295,
          52,
          277,
          328,
          464,
          8097,
          1348,
          277,
          239,
          717,
          194,
          134,
          2249,
          592,
          1349,
          413,
          104,
          59,
          2174,
          7870,
          1087,
          500,
          2848,
          2924,
          1424,
          1798,
          749,
          508,
          3787,
          314,
          44,
          734,
          552,
          59,
          187,
          950,
          697,
          1762,
          134,
          652,
          134,
          118,
          569,
          4390,
          247,
          1649,
          198,
          119,
          1874,
          1087,
          6148,
          194,
          899,
          389,
          1649,
          749,
          598,
          3375,
          3674,
          3748,
          3449,
          149,
          898,
          352,
          2527,
          74,
          268,
          427,
          2249,
          2699,
          614,
          674,
          1199,
          1154,
          1612,
          412,
          59,
          935,
          12150,
          375,
          2136,
          434,
          749,
          2490,
          3749,
          220,
          1034,
          674,
          127,
          74,
          58,
          1424,
          1060,
          1649,
          464,
          1649,
          592,
          554,
          2699,
          1087,
          599,
          749,
          562,
          638,
          134,
          1087,
          734,
          674,
          1800,
          354,
          242,
          198,
          220,
          1101,
          89,
          1447,
          52,
          42,
          1274,
          2324,
          14917,
          7679,
          150,
          150,
          1124,
          149,
          449,
          404,
          7199,
          1648,
          974,
          17620,
          614,
          899,
          74,
          494,
          5054,
          44,
          194,
          82,
          337,
          745,
          150,
          4574,
          599,
          254,
          1087,
          97,
          1087,
          2025,
          402,
          592,
          2354,
          2774,
          134,
          884,
          1499,
          97,
          734,
          2699,
          134,
          224,
          74,
          1162,
          1612,
          524,
          1204,
          134,
          1199,
          1162,
          74,
          299,
          440,
          268,
          1125,
          1874,
          1108,
          1124,
          509,
          1050,
          300,
          127,
          116,
          134,
          1087,
          582,
          208,
          116,
          787,
          525,
          674,
          5098,
          404,
          975,
          110,
          134,
          449,
          3674,
          524,
          2699,
          674,
          577,
          3562,
          838,
          449,
          5399,
          564,
          2399,
          1574,
          472,
          635,
          370,
          1649,
          172,
          3298,
          134,
          750,
          284,
          734,
          195,
          3449,
          3449,
          2549,
          674,
          614,
          134,
          525,
          194,
          74,
          562,
          375,
          4495,
          74,
          1087,
          104,
          899,
          487,
          450,
          1349,
          1349,
          188,
          1642,
          1124,
          546,
          202,
          450,
          157,
          450,
          111,
          7349,
          59,
          82,
          45,
          6449,
          450,
          614,
          569,
          1087,
          749,
          1087,
          1087,
          1496,
          58,
          1837,
          299,
          1368,
          824,
          150,
          1912,
          1900,
          389,
          831,
          1124,
          164,
          712,
          134,
          525,
          1087,
          262,
          2904,
          4574,
          3524,
          1087,
          1649,
          402,
          1649,
          148,
          145,
          1050,
          389,
          1856,
          2699,
          1649,
          599,
          412,
          320,
          52,
          1949,
          412,
          1319,
          1034,
          1349,
          450,
          1060,
          1874,
          412,
          1087,
          389,
          164,
          412,
          1049,
          2624,
          75,
          1949,
          59,
          374,
          268,
          188,
          157,
          225,
          268,
          8060,
          748,
          2137,
          674,
          1424,
          748,
          4648,
          1034,
          66,
          187,
          899,
          449,
          599,
          3524,
          4574,
          239,
          974,
          74,
          390,
          225,
          2249,
          74,
          3375,
          853,
          1050,
          1124,
          1087,
          600,
          734,
          749,
          1124,
          5594,
          2174,
          1124,
          1198,
          3898,
          675,
          524,
          448,
          202,
          1192,
          134,
          157,
          1499,
          1649,
          1500,
          134,
          150,
          157,
          157,
          3375,
          30,
          562,
          134,
          1574,
          487,
          134,
          188,
          29,
          134,
          1499,
          824,
          1274,
          3598,
          59,
          524,
          478,
          450,
          1649,
          7496,
          614,
          74,
          1425,
          3599,
          2774,
          254,
          1124,
          824,
          74,
          1349,
          577,
          269,
          74,
          4498,
          3600,
          134,
          598,
          74,
          4274,
          375,
          672,
          44,
          260,
          638,
          1310,
          1210,
          224,
          217,
          52,
          2099,
          412,
          787,
          134,
          1348,
          134,
          3290,
          554,
          307,
          598,
          74,
          134,
          74,
          156,
          734,
          300,
          734,
          3580,
          402,
          599,
          472,
          1649,
          734,
          1087,
          2398,
          3599,
          637,
          658,
          1574,
          974,
          1649,
          745,
          2324,
          74,
          862,
          112,
          157,
          599,
          1424,
          1124,
          74,
          157,
          4560,
          599,
          1087,
          374,
          1574,
          599,
          5136,
          222,
          3320,
          808,
          66,
          1087,
          119,
          174,
          1168,
          704,
          3975,
          3975,
          599,
          59,
          172,
          404,
          2024,
          2024,
          1649,
          1797,
          448,
          74,
          328,
          1199,
          2024,
          329,
          1498,
          357,
          1424,
          487,
          1087,
          697,
          734,
          187,
          224,
          3712,
          1900,
          749,
          112,
          10840,
          149,
          638,
          187,
          1199,
          374,
          37,
          599,
          517,
          974,
          374,
          312,
          2849,
          3298,
          599,
          328,
          524,
          524,
          2080,
          1087,
          1087,
          225,
          262,
          4500,
          202,
          6075,
          329,
          1087,
          88,
          4724,
          5548,
          938,
          447,
          1012,
          2456,
          2849,
          637,
          127,
          314,
          74,
          937,
          187,
          74,
          472,
          142,
          914,
          674,
          3149,
          3524,
          224,
          222,
          974,
          4198,
          202,
          1087,
          1649,
          1087,
          6600,
          1949,
          224,
          439,
          7724,
          404,
          149,
          824,
          1724,
          149,
          2474,
          445,
          3144,
          1948,
          2474,
          1087,
          220,
          149,
          900,
          749,
          1648,
          157,
          149,
          480,
          156,
          150,
          742,
          4124,
          200,
          22,
          570,
          1574,
          704,
          1087,
          37,
          134,
          637,
          524,
          177,
          577,
          2550,
          375,
          2399,
          3298,
          697,
          74,
          3200,
          74,
          6899,
          3779,
          58,
          439,
          1649,
          500,
          112,
          1649,
          1904,
          562,
          296,
          672,
          254,
          268,
          4400,
          1034,
          74,
          749,
          149,
          344,
          149,
          149,
          1191,
          2174,
          447,
          509,
          1349,
          88,
          1949,
          524,
          119,
          899,
          127,
          314,
          112,
          329,
          404,
          1087,
          157,
          397,
          1949,
          712,
          188,
          164,
          338,
          38,
          375,
          60,
          74,
          120,
          187,
          56.5,
          119.5,
          59,
          418,
          2099,
          97,
          38,
          179,
          14,
          727,
          442,
          14.5,
          338,
          120,
          614,
          464,
          292,
          82,
          11,
          128,
          727,
          210,
          434,
          38,
          974,
          1468,
          164,
          60,
          76,
          487,
          60,
          524,
          209,
          104,
          488,
          6558,
          21,
          1649,
          3898,
          367,
          121,
          150,
          1912,
          434,
          14,
          71,
          1177,
          1087,
          38,
          164,
          214,
          119,
          11,
          224,
          449,
          1124,
          196,
          404,
          457,
          120,
          1612,
          629,
          89,
          1949,
          209,
          4139,
          1124,
          38,
          3712,
          367,
          547,
          374,
          74,
          502,
          194,
          727,
          164,
          899,
          74,
          187,
          1874,
          194,
          344.5,
          22,
          127,
          1424,
          2098,
          112,
          112,
          187.5,
          768,
          112,
          214,
          120,
          112,
          6075,
          56,
          21,
          269,
          164,
          2549,
          1918,
          104,
          68,
          1649,
          157,
          104,
          1012,
          3468.5,
          45,
          1499,
          142,
          712,
          1124,
          128,
          195,
          374,
          150,
          600,
          119,
          1799,
          307,
          120,
          1912,
          547,
          120,
          3374,
          179,
          38,
          187,
          525,
          112,
          1049,
          7424,
          194,
          2999,
          374,
          239,
          30,
          28,
          32,
          97,
          38,
          1649,
          298,
          68,
          82,
          374,
          352,
          76,
          187.5,
          749,
          728.75,
          128,
          277,
          44,
          442,
          768,
          139.33333333333334,
          67,
          139.33333333333334,
          194,
          22,
          344.5,
          3749,
          355.5,
          1049,
          4117,
          592,
          120,
          555.5,
          112,
          974.5,
          172,
          599,
          314,
          82,
          1948,
          2999,
          339.5,
          63,
          6149,
          1312,
          4957,
          20.33333333333333,
          2999,
          186.5,
          386,
          1424,
          554,
          412,
          44,
          74,
          194,
          104,
          1837,
          5594,
          427,
          82,
          127,
          44,
          118,
          374,
          2811.5,
          217,
          104,
          4274,
          118,
          55.66666666666666,
          37,
          638,
          169,
          209,
          3329,
          749,
          128,
          2249,
          22,
          104,
          974,
          614,
          37,
          59,
          6658,
          30,
          1049,
          524,
          90,
          136,
          60,
          1124,
          150,
          148,
          1649,
          689,
          1048,
          3749,
          247,
          142,
          135,
          1049,
          118,
          1447,
          44,
          86,
          1844,
          32,
          86,
          11,
          5594,
          38,
          689,
          388,
          86,
          22,
          187,
          243,
          164,
          488,
          22,
          89,
          749,
          10,
          1930.5,
          5248,
          637,
          330,
          44,
          142,
          1574,
          4117,
          292,
          86,
          355.5,
          6600,
          2624,
          116,
          202,
          22,
          120,
          112,
          149,
          974,
          307,
          45,
          5248,
          450,
          1162,
          112,
          238,
          38,
          119.5,
          239,
          599,
          603,
          1574,
          354,
          134,
          164,
          1124,
          60,
          59,
          82,
          187,
          243,
          450,
          674,
          179,
          367,
          106,
          10,
          14,
          119,
          5848,
          149,
          60,
          29,
          1949,
          68,
          38,
          134.5,
          55.66666666666666,
          38,
          112,
          210,
          97.5,
          899,
          55.66666666666666,
          14,
          38,
          45,
          120,
          90,
          547,
          119,
          254,
          592,
          45,
          112,
          38,
          67,
          898,
          169,
          524,
          112,
          97,
          247,
          9,
          778,
          116,
          195,
          44,
          592,
          59,
          38,
          712,
          38,
          348.5,
          188,
          194,
          172,
          38,
          1649,
          187,
          1177,
          539,
          1087,
          1649,
          2774,
          75,
          127,
          52,
          10,
          89,
          869,
          164,
          164,
          2099,
          532,
          884,
          28,
          90,
          180,
          2549,
          239,
          637,
          2549,
          89,
          164,
          20,
          1012,
          76,
          135,
          256,
          11,
          38,
          427,
          10,
          135,
          15358,
          1649,
          225,
          195,
          134,
          194,
          2774,
          127,
          74,
          540,
          247,
          7229,
          224,
          389,
          38,
          262,
          32,
          195,
          352,
          164,
          112,
          48,
          375,
          74,
          44,
          52,
          188,
          742,
          24,
          217,
          127,
          1248.6666666666667,
          37,
          277,
          38,
          187,
          128,
          974,
          120,
          3074,
          169,
          28,
          127,
          112,
          547,
          139.33333333333334,
          86,
          712,
          1949,
          26,
          315,
          569,
          1199,
          142,
          98,
          89,
          5399,
          1574,
          135,
          748,
          88,
          44,
          104,
          97,
          622,
          442,
          148,
          12,
          388,
          2399,
          86,
          76,
          224,
          169,
          29,
          56,
          55.333333333333336,
          22,
          4859,
          712,
          210,
          1184,
          3749,
          415.5,
          120,
          2549,
          44,
          449,
          464,
          134.5,
          749,
          246.5,
          30,
          89,
          139,
          157,
          45,
          299,
          29,
          1012,
          187.5,
          68,
          94,
          554,
          450,
          1012,
          97,
          90,
          1087,
          202,
          59,
          89,
          2848,
          8077,
          277,
          134,
          618.5,
          67,
          187,
          389,
          742,
          97,
          60,
          974,
          94,
          449,
          38,
          825,
          599,
          89,
          116,
          139.33333333333334,
          139,
          38,
          224,
          86,
          120,
          89,
          89,
          22,
          539,
          689,
          44,
          90,
          104,
          531.5,
          637,
          1087,
          239,
          149,
          217,
          179,
          134,
          3224,
          937,
          60,
          2399,
          247,
          116,
          1049,
          38,
          1012,
          127,
          2399,
          82,
          194,
          1574,
          974,
          150,
          1237,
          1762,
          38,
          36,
          97,
          1649,
          3074,
          82,
          1424,
          5512,
          974,
          187,
          928,
          109,
          164,
          637,
          68,
          112,
          11,
          569,
          52,
          68,
          899,
          2249.5,
          202,
          956,
          59,
          899,
          60,
          188,
          29,
          195,
          38,
          3112,
          142,
          307,
          86,
          202,
          157,
          38,
          101,
          224,
          344,
          524,
          134,
          195,
          1836.5,
          404,
          210,
          90,
          712,
          734,
          38,
          89,
          15,
          202,
          37,
          135,
          1274,
          187,
          86,
          749,
          415.5,
          704,
          52,
          74,
          1124,
          142,
          59,
          139,
          38,
          14,
          142,
          187,
          10,
          3524,
          1087,
          86,
          420,
          2399,
          388,
          149,
          24,
          3524,
          90,
          45,
          169,
          389,
          74,
          158,
          76,
          135,
          562,
          1207,
          22,
          689,
          524,
          1124,
          247,
          135,
          1568,
          1113,
          195,
          38,
          42,
          1049,
          355.5,
          194,
          1949,
          899,
          142,
          187,
          119.5,
          374,
          344,
          5512,
          119,
          149,
          142,
          38,
          194,
          90,
          1124,
          247,
          382,
          2811.5,
          76,
          2849,
          38,
          1207,
          97,
          5249,
          240,
          300,
          420,
          22,
          167,
          1447,
          2118,
          158,
          101,
          1012,
          55.66666666666666,
          134,
          2399,
          55.333333333333336,
          149,
          488,
          120,
          10,
          539,
          22,
          1874,
          450,
          90,
          38,
          172,
          2698
         ],
         "yaxis": "y"
        },
        {
         "alignmentgroup": "True",
         "boxpoints": "all",
         "fillcolor": "rgba(255,255,255,0)",
         "hoveron": "points",
         "hovertemplate": "сумма=%{y}<extra></extra>",
         "jitter": 0,
         "legendgroup": "",
         "line": {
          "color": "rgba(255,255,255,0)"
         },
         "marker": {
          "color": "#636efa",
          "symbol": "line-ew-open"
         },
         "name": "",
         "offsetgroup": "",
         "showlegend": false,
         "type": "box",
         "xaxis": "x2",
         "y": [
          375,
          4788,
          359,
          600,
          376,
          676,
          1880,
          514,
          750,
          752,
          1238,
          303,
          303,
          613,
          5084,
          1014,
          376,
          808,
          2102,
          564,
          750,
          573,
          750,
          665,
          488,
          1127,
          434,
          3384,
          1418,
          752,
          376,
          291,
          1786,
          314,
          787,
          864,
          1214,
          1677,
          600,
          90,
          405,
          2843,
          540,
          300,
          135,
          360,
          832,
          1005,
          2395,
          300,
          270,
          1470,
          450,
          2788,
          1320,
          1471,
          812,
          428,
          114,
          488,
          413,
          1090,
          1080,
          450,
          1504,
          802,
          1620,
          1910,
          580,
          993,
          2154,
          494,
          863,
          1481,
          470,
          1910,
          2830,
          405,
          3600,
          563,
          1215,
          1276,
          1140,
          2723,
          1759,
          843,
          1128,
          577,
          1916,
          852,
          164,
          1407,
          561,
          473,
          698,
          300,
          370,
          2254,
          405,
          2328,
          300,
          562,
          752,
          1216,
          150,
          1186,
          2704,
          376,
          2972,
          434,
          771,
          1218,
          2166,
          384,
          2824,
          1872,
          2850,
          4303,
          1276,
          2090,
          304,
          285,
          405,
          836,
          555,
          975,
          914,
          1483,
          1534,
          2280,
          608,
          540,
          900,
          1222,
          426,
          2050,
          209,
          2922,
          1012,
          9364,
          810,
          3776,
          1056,
          705,
          1588,
          4558,
          526,
          352,
          1470,
          786,
          1784,
          1071,
          10656,
          900,
          840,
          1067,
          2707,
          1434,
          1381,
          2068,
          830,
          1377,
          803,
          1187,
          3630,
          954,
          1035,
          2644,
          506,
          690,
          976,
          1786,
          3388,
          1612,
          690,
          532,
          1775,
          968,
          1077,
          1503,
          712,
          2090,
          924,
          507,
          405,
          1064,
          2421,
          1618,
          1292,
          2236,
          135,
          249,
          152,
          5556,
          270,
          942,
          964,
          915,
          360,
          480,
          1266,
          466,
          1350,
          808,
          818,
          1408,
          795,
          600,
          704,
          456,
          408,
          480,
          1974,
          684,
          1271,
          830,
          456,
          4187,
          1379,
          570,
          420,
          114750,
          23660,
          1080,
          190,
          1804,
          1036,
          3620,
          1350,
          410,
          976,
          2180,
          632,
          600,
          3970,
          510,
          97,
          225,
          1754,
          1111,
          135,
          584,
          7356,
          240,
          1504,
          690,
          292,
          540,
          944,
          591,
          488,
          902,
          1148,
          1018,
          1225,
          2928,
          420,
          584,
          376,
          285,
          488,
          1432,
          848,
          2528,
          1045,
          3476,
          1364,
          190,
          726,
          4920,
          1128,
          188,
          135,
          676,
          600,
          840,
          510,
          929,
          420,
          2658,
          544,
          728,
          564,
          345,
          675,
          488,
          577,
          728,
          836,
          480,
          675,
          600,
          1275,
          420,
          646,
          135,
          1699,
          270,
          555,
          232,
          300,
          376,
          520,
          1837,
          1574,
          742,
          418,
          1012,
          194,
          374,
          16495,
          4748,
          1037,
          269,
          824,
          674,
          820,
          614,
          187,
          3648,
          188,
          1162,
          1049,
          1785,
          976,
          703,
          1236,
          3524,
          1562,
          2924,
          299,
          193,
          860,
          749,
          1941,
          1649,
          127,
          187,
          1762,
          524,
          567,
          2818,
          4379,
          374,
          840,
          1874,
          149,
          3298,
          8758,
          2998,
          149,
          582,
          239,
          149,
          2453,
          464,
          710,
          1949,
          1281,
          4949,
          1349,
          3748,
          1574,
          1049,
          1199,
          742,
          712,
          614,
          1724,
          280,
          3822,
          254,
          1420,
          7474,
          292,
          2757,
          749,
          1949,
          2083,
          239,
          1216,
          2699,
          449,
          1425,
          1049,
          599,
          525,
          1274,
          374,
          742,
          200,
          2699,
          3899,
          1139,
          2550,
          463,
          1012,
          637,
          596,
          1770,
          3089,
          188,
          1574,
          2324,
          17100,
          672,
          1093,
          156,
          539,
          1874,
          164,
          1490,
          1012,
          1900,
          224,
          374,
          209,
          553,
          1949,
          868,
          247,
          447,
          1049,
          614,
          2134,
          2453,
          4796,
          1874,
          2324,
          314,
          2990,
          2174,
          831,
          562,
          300,
          862,
          4796,
          3974,
          397,
          570,
          7100,
          447,
          1199,
          560,
          621,
          734,
          1347,
          937,
          1012,
          1615,
          1531,
          2020,
          1649,
          1798,
          1836,
          897,
          1723,
          224,
          852,
          824,
          3658,
          343,
          749,
          674,
          427,
          3147,
          149,
          937,
          2999,
          2549,
          2923,
          1547,
          1190,
          1083,
          734,
          2399,
          1981,
          599,
          637,
          2099,
          1199,
          9010,
          1724,
          560,
          2549,
          149,
          299,
          1574,
          5469,
          449,
          896,
          82,
          1574,
          1612,
          644,
          1274,
          2924,
          928,
          1012,
          3749,
          749,
          50770,
          1515,
          1797,
          277,
          134,
          225,
          631,
          300,
          637,
          4049,
          1475,
          224,
          225,
          328,
          2999,
          307,
          1147,
          824,
          374,
          2623,
          1199,
          1101,
          1686,
          236,
          210,
          3133,
          2996,
          742,
          974,
          149,
          252,
          8670,
          742,
          742,
          748,
          1440,
          544,
          1191,
          1012,
          8260,
          600,
          1499,
          1473,
          5249,
          2249,
          149,
          448,
          1049,
          1951,
          4139,
          239,
          2849,
          404,
          447,
          5090,
          6007,
          1408,
          1619,
          974,
          972,
          3298,
          614,
          81,
          6007,
          7597,
          524,
          24370,
          1949,
          937,
          974,
          2728,
          1124,
          637,
          534,
          928,
          697,
          5970,
          1949,
          547,
          149,
          381,
          599,
          374,
          7722,
          894,
          449,
          3440,
          749,
          920,
          1949,
          450,
          546,
          734,
          440,
          1649,
          2774,
          742,
          487,
          3374,
          4949,
          1199,
          1049,
          1836,
          411,
          2111,
          156,
          88,
          180,
          1199,
          1049,
          1087,
          356,
          3749,
          5474,
          472,
          239,
          749,
          820,
          1574,
          470,
          268,
          993,
          1073,
          1874,
          5996,
          2849,
          899,
          67,
          637,
          638,
          354,
          15,
          824,
          449,
          2698,
          404,
          312,
          742,
          412,
          787,
          225,
          749,
          1648,
          599,
          478,
          539,
          1574,
          899,
          59,
          770,
          1049,
          380,
          308,
          336,
          380,
          299,
          397,
          59,
          734,
          479,
          712,
          1799,
          1662,
          1649,
          2441,
          3006,
          1203,
          2424,
          2532,
          1196,
          708,
          2209,
          380,
          909,
          2924,
          45,
          922,
          894,
          239,
          1199,
          2109,
          1349,
          1874,
          1912,
          2624,
          363,
          2166,
          3974,
          1346,
          1468,
          427,
          1960,
          2473,
          224,
          4867,
          132,
          447,
          300,
          637,
          1716,
          4495,
          1213,
          9915,
          247,
          1274,
          427,
          2249,
          2624,
          4049,
          1124,
          1010,
          524,
          224,
          2699,
          5160,
          740,
          2399,
          2924,
          1837,
          33680,
          59,
          446,
          1860,
          1738,
          2024,
          1049,
          89,
          449,
          734,
          240,
          487,
          577,
          963,
          963,
          2187,
          1447,
          1373,
          937,
          937,
          187,
          810,
          299,
          1049,
          2827,
          3224,
          734,
          60,
          1649,
          299,
          689,
          749,
          712,
          2600,
          749,
          749,
          194,
          4859,
          974,
          2024,
          3712,
          112,
          697,
          1049,
          112,
          10498,
          1049,
          2849,
          292,
          1912,
          6134,
          88,
          134,
          127,
          3329,
          1034,
          1461,
          134,
          329,
          1347,
          449,
          59,
          2549,
          712,
          1087,
          239,
          1162,
          1874,
          1049,
          264,
          509,
          149,
          1725,
          1378,
          1056,
          2324,
          402,
          5800,
          149,
          584,
          479,
          1574,
          3299,
          704,
          1649,
          202,
          359,
          2699,
          1164,
          1799,
          5024,
          118,
          899,
          447,
          292,
          44,
          5662,
          177,
          239,
          134,
          449,
          118,
          2849,
          224,
          719,
          2174,
          656,
          328,
          52,
          637,
          749,
          157,
          674,
          134,
          1049,
          2024,
          1874,
          778,
          2999,
          1574,
          524,
          59,
          3298,
          2098,
          449,
          2249,
          1049,
          1468,
          1237,
          1490,
          89,
          389,
          1724,
          449,
          704,
          836,
          209,
          148,
          624,
          651,
          7424,
          4124,
          2340,
          637,
          412,
          1796,
          52,
          149,
          1049,
          1049,
          442,
          637,
          1649,
          1049,
          568,
          442,
          2699,
          268,
          1649,
          448,
          134,
          708,
          88,
          374,
          3524,
          749,
          359,
          374,
          87,
          1049,
          367,
          539,
          712,
          745,
          1199,
          172,
          2098,
          1874,
          1612,
          44,
          598,
          1049,
          516,
          787,
          2699,
          149,
          6270,
          74,
          824,
          1649,
          32718,
          3598,
          2406,
          1948,
          434,
          637,
          224,
          52,
          1215,
          1168,
          1049,
          2098,
          2360,
          478,
          12030,
          928,
          1912,
          599,
          300,
          298,
          888,
          2249,
          149,
          44,
          134,
          2999,
          149,
          862,
          464,
          1649,
          344,
          1424,
          3148,
          416,
          375,
          1139,
          2924,
          1049,
          712,
          194,
          3247,
          448,
          149,
          6294,
          1049,
          907,
          974,
          2460,
          1912,
          1139,
          3148,
          1649,
          112,
          1496,
          2624,
          1987,
          1049,
          450,
          1574,
          224,
          884,
          3329,
          299,
          254,
          1874,
          187,
          1799,
          298,
          3147,
          471,
          2098,
          1499,
          637,
          1349,
          2174,
          749,
          2549,
          899,
          1612,
          149,
          1162,
          524,
          1049,
          202,
          239,
          584,
          134,
          6307,
          945,
          479,
          487,
          1799,
          11244,
          299,
          389,
          899,
          824,
          2098,
          4499,
          472,
          524,
          749,
          277,
          718,
          4048,
          1162,
          1214,
          134,
          1199,
          2460,
          488,
          899,
          974,
          5998,
          937,
          374,
          5399,
          154,
          944,
          5847,
          1056,
          487,
          209,
          448,
          2849,
          112,
          492,
          4700,
          224,
          1912,
          1912,
          1770,
          712,
          110,
          898,
          937,
          518,
          1017,
          127,
          652,
          1874,
          112,
          157,
          135,
          1724,
          59,
          59,
          47385,
          2800,
          232,
          1649,
          22,
          749,
          1237,
          112,
          134,
          134,
          328,
          1198,
          44,
          5398,
          373,
          382,
          5398,
          312,
          727,
          164,
          1572,
          1794,
          1138,
          220,
          974,
          1574,
          599,
          3400,
          554,
          569,
          554,
          374,
          2399,
          689,
          1302,
          374,
          149,
          2219,
          4272,
          11250,
          742,
          119,
          74,
          157,
          710,
          164,
          1515,
          1368,
          448,
          554,
          1344,
          539,
          1642,
          1574,
          374,
          517,
          764,
          449,
          1087,
          2024,
          22,
          300,
          112,
          209,
          1536,
          1799,
          627,
          1649,
          449,
          67,
          2099,
          674,
          389,
          119,
          149,
          374,
          149,
          1916,
          8848,
          2527,
          5775,
          299,
          1574,
          1012,
          524,
          487,
          224,
          299,
          4957,
          1162,
          127,
          448,
          103,
          727,
          3749,
          974,
          1424,
          74,
          1424,
          667,
          157,
          464,
          209,
          1270,
          5249,
          727,
          727,
          3974,
          134,
          44,
          300,
          599,
          149,
          202,
          16536,
          2699,
          299,
          1574,
          974,
          1799,
          22,
          6149,
          1275,
          937,
          802,
          82,
          67,
          1949,
          2697,
          286,
          104,
          134,
          899,
          667,
          820,
          268,
          44,
          899,
          1798,
          1649,
          1498,
          652,
          1424,
          208,
          569,
          727,
          59,
          11000,
          592,
          14960,
          187,
          1649,
          1548,
          1124,
          1799,
          614,
          2999,
          88,
          134,
          3524,
          1139,
          1949,
          292,
          1522,
          2024,
          389,
          119,
          88,
          1716,
          240,
          940,
          652,
          592,
          1087,
          104,
          284,
          434,
          110,
          277,
          614,
          2324,
          209,
          1799,
          787,
          336,
          1799,
          389,
          134,
          232,
          1574,
          1087,
          66,
          1122,
          164,
          134,
          44,
          1409,
          3329,
          134,
          299,
          3562,
          328,
          748,
          899,
          134,
          607,
          3667,
          157,
          179,
          118,
          3329,
          134,
          1874,
          2324,
          328,
          1087,
          440,
          3112,
          1736,
          378,
          299,
          4240,
          157,
          479,
          127,
          787,
          898,
          824,
          442,
          1994,
          194,
          149,
          67,
          464,
          134,
          727,
          1162,
          29,
          127,
          524,
          727,
          562,
          1124,
          2211,
          560,
          224,
          741,
          502,
          2699,
          2146,
          2550,
          1087,
          2849,
          492,
          88,
          1198,
          862,
          804,
          1568,
          1649,
          749,
          337,
          3745,
          974,
          2849,
          149,
          680,
          899,
          3674,
          134,
          1649,
          449,
          314,
          134,
          374,
          727,
          1085,
          112,
          2699,
          487,
          209,
          299,
          157,
          1780,
          2774,
          120,
          820,
          674,
          134,
          1087,
          134,
          471,
          2099,
          194,
          157,
          157,
          239,
          487,
          87,
          487,
          119,
          3261,
          1724,
          974,
          974,
          134,
          6370,
          1987,
          8437,
          7124,
          974,
          2399,
          112,
          134,
          3329,
          442,
          1649,
          134,
          2240,
          134,
          735,
          824,
          1040,
          1898,
          164,
          59,
          1199,
          614,
          1350,
          742,
          742,
          149,
          1195,
          389,
          674,
          464,
          900,
          974,
          374,
          104,
          860,
          58,
          2550,
          562,
          914,
          74,
          194,
          67,
          74,
          487,
          727,
          2041,
          2220,
          487,
          67,
          350,
          599,
          74,
          4048,
          727,
          5594,
          4900,
          560,
          1649,
          74,
          388,
          127,
          670,
          1154,
          1087,
          388,
          74,
          1288,
          307,
          127,
          1349,
          3525,
          599,
          134,
          1874,
          922,
          157,
          2924,
          268,
          734,
          2924,
          727,
          268,
          680,
          1087,
          487,
          225,
          194,
          74,
          629,
          7048,
          776,
          295,
          1949,
          119,
          292,
          1087,
          666,
          374,
          689,
          1199,
          603,
          898,
          555,
          764,
          74,
          2137,
          134,
          449,
          104,
          3719,
          1949,
          480,
          2249,
          614,
          938,
          412,
          225,
          5459,
          4117,
          3787,
          810,
          194,
          1012,
          413,
          1087,
          134,
          1376,
          2174,
          974,
          1274,
          5249,
          727,
          727,
          1049,
          74,
          112,
          614,
          2549,
          974,
          148,
          3074,
          74,
          2399,
          344,
          149,
          3936,
          1199,
          1087,
          314,
          2549,
          614,
          209,
          314,
          52,
          1874,
          4947,
          209,
          779,
          509,
          397,
          2998,
          652,
          187,
          8745,
          104,
          157,
          1087,
          127,
          1574,
          471,
          1949,
          7679,
          187,
          1892,
          727,
          1049,
          1874,
          1124,
          222,
          104,
          2249,
          5398,
          1087,
          1574,
          449,
          508,
          134,
          2720,
          1199,
          157,
          67,
          59,
          1247,
          749,
          194,
          888,
          742,
          3749,
          1087,
          299,
          5594,
          824,
          750,
          225,
          590,
          59,
          74,
          712,
          1304,
          134,
          236,
          2399,
          236,
          2694,
          187,
          1574,
          974,
          2247,
          1649,
          974,
          3000,
          449,
          5098,
          552,
          592,
          1649,
          210,
          176,
          149,
          628,
          1180,
          104,
          74,
          622,
          14396,
          922,
          734,
          1056,
          104,
          898,
          3598,
          4049,
          1770,
          2112,
          508,
          254,
          1496,
          712,
          134,
          280,
          2624,
          74,
          74,
          1648,
          134,
          134,
          3787,
          74,
          524,
          620,
          74,
          44,
          1770,
          59,
          3448,
          442,
          374,
          524,
          268,
          74,
          434,
          7796,
          734,
          734,
          296,
          209,
          714,
          87,
          1167,
          65220,
          1200,
          9296,
          148,
          84,
          928,
          3776,
          5287,
          298,
          925,
          1762,
          52,
          352,
          405,
          1649,
          119,
          22,
          3329,
          988,
          547,
          2624,
          487,
          412,
          140,
          1177,
          5398,
          749,
          734,
          4574,
          974,
          600,
          134,
          2245,
          2249,
          742,
          749,
          6149,
          449,
          712,
          52,
          734,
          8737,
          74,
          164,
          134,
          1649,
          562,
          524,
          787,
          3224,
          1087,
          119,
          157,
          1649,
          3705,
          1087,
          134,
          74,
          6149,
          8997,
          134,
          734,
          560,
          134,
          268,
          1049,
          442,
          6702,
          3074,
          374,
          659,
          74,
          224,
          524,
          734,
          198,
          44,
          5249,
          1574,
          1049,
          3898,
          22,
          147,
          598,
          1462,
          1798,
          37,
          674,
          402,
          300,
          177,
          59,
          1087,
          200,
          118,
          32382,
          787,
          389,
          974,
          1012,
          1199,
          194,
          1649,
          59,
          794,
          236,
          269,
          87,
          1424,
          1424,
          718,
          869,
          200,
          370,
          22,
          599,
          1798,
          374,
          2001,
          232,
          59,
          524,
          148,
          1312,
          1312,
          11460,
          14196,
          15680,
          564,
          7229,
          187,
          74,
          337,
          119,
          119,
          232,
          2774,
          58,
          74,
          1274,
          8077,
          134,
          412,
          569,
          569,
          74,
          312,
          28,
          688,
          22,
          44,
          928,
          1236,
          2624,
          2699,
          134,
          475,
          179,
          717,
          2699,
          97,
          231,
          1499,
          787,
          4470,
          592,
          268,
          97,
          374,
          156,
          896,
          472,
          472,
          217,
          217,
          217,
          254,
          637,
          1087,
          1087,
          254,
          1200,
          142,
          22,
          1920,
          134,
          37,
          1574,
          134,
          157,
          224,
          224,
          295,
          74,
          487,
          120,
          2992,
          208,
          356,
          97,
          3674,
          520,
          262,
          1574,
          1874,
          389,
          14995,
          2999,
          1012,
          8322,
          402,
          502,
          164,
          359,
          937,
          88,
          1796,
          899,
          208,
          4874,
          599,
          734,
          3261,
          2848,
          4348,
          1499,
          1724,
          509,
          1120,
          509,
          284,
          599,
          299,
          1076,
          3898,
          6097,
          232,
          74,
          44,
          400,
          568,
          6097,
          284,
          734,
          434,
          299,
          1413,
          449,
          314,
          749,
          134,
          15300,
          2174,
          112,
          652,
          1574,
          1920,
          74,
          209,
          3562,
          1649,
          337,
          899,
          3925,
          284,
          1087,
          1530,
          157,
          974,
          734,
          6449,
          344,
          1499,
          1498,
          3787,
          1540,
          464,
          22,
          397,
          134,
          4312,
          1920,
          38,
          149,
          164,
          38,
          217,
          1912,
          5852,
          2230,
          217,
          448,
          127,
          899,
          402,
          974,
          239,
          127,
          487,
          1949,
          419,
          487,
          74,
          1180,
          1664,
          598,
          734,
          11400,
          599,
          134,
          134,
          412,
          1649,
          329,
          1196,
          448,
          656,
          1762,
          3760,
          987,
          299,
          8080,
          74,
          16647,
          14,
          445,
          472,
          328,
          778,
          142,
          6494,
          296,
          194,
          734,
          52,
          2527,
          412,
          15,
          208,
          750,
          974,
          1087,
          49432,
          336,
          824,
          7004,
          6809,
          487,
          2549,
          296,
          734,
          704,
          8832,
          6614,
          2697,
          539,
          208,
          450,
          164,
          704,
          388,
          734,
          1880,
          749,
          734,
          1574,
          74,
          3749,
          1574,
          1649,
          1087,
          1162,
          3974,
          487,
          300,
          239,
          5098,
          268,
          239,
          675000,
          1649,
          1048,
          749,
          1649,
          974,
          402,
          3600,
          164,
          74,
          314,
          187,
          164,
          74,
          1275,
          560,
          600,
          734,
          1087,
          1087,
          374,
          134,
          824,
          376,
          824,
          1520,
          524,
          194,
          974,
          200,
          149,
          314,
          97,
          674,
          254,
          1348,
          492,
          374,
          4648,
          1087,
          734,
          402,
          1087,
          449,
          427,
          5939,
          614,
          149,
          1424,
          508,
          147,
          560,
          600,
          5054,
          787,
          749,
          599,
          596,
          134,
          404,
          134,
          88,
          697,
          3899,
          179,
          3147,
          148,
          1949,
          427,
          502,
          74,
          2527,
          449,
          4494,
          329,
          157,
          488,
          412,
          134,
          328,
          397,
          599,
          295,
          52,
          277,
          328,
          464,
          8097,
          1348,
          277,
          239,
          717,
          194,
          134,
          2249,
          592,
          1349,
          413,
          104,
          59,
          2174,
          7870,
          1087,
          500,
          2848,
          2924,
          1424,
          1798,
          749,
          508,
          3787,
          314,
          44,
          734,
          552,
          59,
          187,
          950,
          697,
          1762,
          134,
          652,
          134,
          118,
          569,
          4390,
          247,
          1649,
          198,
          119,
          1874,
          1087,
          6148,
          194,
          899,
          389,
          1649,
          749,
          598,
          3375,
          3674,
          3748,
          3449,
          149,
          898,
          352,
          2527,
          74,
          268,
          427,
          2249,
          2699,
          614,
          674,
          1199,
          1154,
          1612,
          412,
          59,
          935,
          12150,
          375,
          2136,
          434,
          749,
          2490,
          3749,
          220,
          1034,
          674,
          127,
          74,
          58,
          1424,
          1060,
          1649,
          464,
          1649,
          592,
          554,
          2699,
          1087,
          599,
          749,
          562,
          638,
          134,
          1087,
          734,
          674,
          1800,
          354,
          242,
          198,
          220,
          1101,
          89,
          1447,
          52,
          42,
          1274,
          2324,
          14917,
          7679,
          150,
          150,
          1124,
          149,
          449,
          404,
          7199,
          1648,
          974,
          17620,
          614,
          899,
          74,
          494,
          5054,
          44,
          194,
          82,
          337,
          745,
          150,
          4574,
          599,
          254,
          1087,
          97,
          1087,
          2025,
          402,
          592,
          2354,
          2774,
          134,
          884,
          1499,
          97,
          734,
          2699,
          134,
          224,
          74,
          1162,
          1612,
          524,
          1204,
          134,
          1199,
          1162,
          74,
          299,
          440,
          268,
          1125,
          1874,
          1108,
          1124,
          509,
          1050,
          300,
          127,
          116,
          134,
          1087,
          582,
          208,
          116,
          787,
          525,
          674,
          5098,
          404,
          975,
          110,
          134,
          449,
          3674,
          524,
          2699,
          674,
          577,
          3562,
          838,
          449,
          5399,
          564,
          2399,
          1574,
          472,
          635,
          370,
          1649,
          172,
          3298,
          134,
          750,
          284,
          734,
          195,
          3449,
          3449,
          2549,
          674,
          614,
          134,
          525,
          194,
          74,
          562,
          375,
          4495,
          74,
          1087,
          104,
          899,
          487,
          450,
          1349,
          1349,
          188,
          1642,
          1124,
          546,
          202,
          450,
          157,
          450,
          111,
          7349,
          59,
          82,
          45,
          6449,
          450,
          614,
          569,
          1087,
          749,
          1087,
          1087,
          1496,
          58,
          1837,
          299,
          1368,
          824,
          150,
          1912,
          1900,
          389,
          831,
          1124,
          164,
          712,
          134,
          525,
          1087,
          262,
          2904,
          4574,
          3524,
          1087,
          1649,
          402,
          1649,
          148,
          145,
          1050,
          389,
          1856,
          2699,
          1649,
          599,
          412,
          320,
          52,
          1949,
          412,
          1319,
          1034,
          1349,
          450,
          1060,
          1874,
          412,
          1087,
          389,
          164,
          412,
          1049,
          2624,
          75,
          1949,
          59,
          374,
          268,
          188,
          157,
          225,
          268,
          8060,
          748,
          2137,
          674,
          1424,
          748,
          4648,
          1034,
          66,
          187,
          899,
          449,
          599,
          3524,
          4574,
          239,
          974,
          74,
          390,
          225,
          2249,
          74,
          3375,
          853,
          1050,
          1124,
          1087,
          600,
          734,
          749,
          1124,
          5594,
          2174,
          1124,
          1198,
          3898,
          675,
          524,
          448,
          202,
          1192,
          134,
          157,
          1499,
          1649,
          1500,
          134,
          150,
          157,
          157,
          3375,
          30,
          562,
          134,
          1574,
          487,
          134,
          188,
          29,
          134,
          1499,
          824,
          1274,
          3598,
          59,
          524,
          478,
          450,
          1649,
          7496,
          614,
          74,
          1425,
          3599,
          2774,
          254,
          1124,
          824,
          74,
          1349,
          577,
          269,
          74,
          4498,
          3600,
          134,
          598,
          74,
          4274,
          375,
          672,
          44,
          260,
          638,
          1310,
          1210,
          224,
          217,
          52,
          2099,
          412,
          787,
          134,
          1348,
          134,
          3290,
          554,
          307,
          598,
          74,
          134,
          74,
          156,
          734,
          300,
          734,
          3580,
          402,
          599,
          472,
          1649,
          734,
          1087,
          2398,
          3599,
          637,
          658,
          1574,
          974,
          1649,
          745,
          2324,
          74,
          862,
          112,
          157,
          599,
          1424,
          1124,
          74,
          157,
          4560,
          599,
          1087,
          374,
          1574,
          599,
          5136,
          222,
          3320,
          808,
          66,
          1087,
          119,
          174,
          1168,
          704,
          3975,
          3975,
          599,
          59,
          172,
          404,
          2024,
          2024,
          1649,
          1797,
          448,
          74,
          328,
          1199,
          2024,
          329,
          1498,
          357,
          1424,
          487,
          1087,
          697,
          734,
          187,
          224,
          3712,
          1900,
          749,
          112,
          10840,
          149,
          638,
          187,
          1199,
          374,
          37,
          599,
          517,
          974,
          374,
          312,
          2849,
          3298,
          599,
          328,
          524,
          524,
          2080,
          1087,
          1087,
          225,
          262,
          4500,
          202,
          6075,
          329,
          1087,
          88,
          4724,
          5548,
          938,
          447,
          1012,
          2456,
          2849,
          637,
          127,
          314,
          74,
          937,
          187,
          74,
          472,
          142,
          914,
          674,
          3149,
          3524,
          224,
          222,
          974,
          4198,
          202,
          1087,
          1649,
          1087,
          6600,
          1949,
          224,
          439,
          7724,
          404,
          149,
          824,
          1724,
          149,
          2474,
          445,
          3144,
          1948,
          2474,
          1087,
          220,
          149,
          900,
          749,
          1648,
          157,
          149,
          480,
          156,
          150,
          742,
          4124,
          200,
          22,
          570,
          1574,
          704,
          1087,
          37,
          134,
          637,
          524,
          177,
          577,
          2550,
          375,
          2399,
          3298,
          697,
          74,
          3200,
          74,
          6899,
          3779,
          58,
          439,
          1649,
          500,
          112,
          1649,
          1904,
          562,
          296,
          672,
          254,
          268,
          4400,
          1034,
          74,
          749,
          149,
          344,
          149,
          149,
          1191,
          2174,
          447,
          509,
          1349,
          88,
          1949,
          524,
          119,
          899,
          127,
          314,
          112,
          329,
          404,
          1087,
          157,
          397,
          1949,
          712,
          188,
          164,
          338,
          38,
          375,
          60,
          74,
          120,
          187,
          56.5,
          119.5,
          59,
          418,
          2099,
          97,
          38,
          179,
          14,
          727,
          442,
          14.5,
          338,
          120,
          614,
          464,
          292,
          82,
          11,
          128,
          727,
          210,
          434,
          38,
          974,
          1468,
          164,
          60,
          76,
          487,
          60,
          524,
          209,
          104,
          488,
          6558,
          21,
          1649,
          3898,
          367,
          121,
          150,
          1912,
          434,
          14,
          71,
          1177,
          1087,
          38,
          164,
          214,
          119,
          11,
          224,
          449,
          1124,
          196,
          404,
          457,
          120,
          1612,
          629,
          89,
          1949,
          209,
          4139,
          1124,
          38,
          3712,
          367,
          547,
          374,
          74,
          502,
          194,
          727,
          164,
          899,
          74,
          187,
          1874,
          194,
          344.5,
          22,
          127,
          1424,
          2098,
          112,
          112,
          187.5,
          768,
          112,
          214,
          120,
          112,
          6075,
          56,
          21,
          269,
          164,
          2549,
          1918,
          104,
          68,
          1649,
          157,
          104,
          1012,
          3468.5,
          45,
          1499,
          142,
          712,
          1124,
          128,
          195,
          374,
          150,
          600,
          119,
          1799,
          307,
          120,
          1912,
          547,
          120,
          3374,
          179,
          38,
          187,
          525,
          112,
          1049,
          7424,
          194,
          2999,
          374,
          239,
          30,
          28,
          32,
          97,
          38,
          1649,
          298,
          68,
          82,
          374,
          352,
          76,
          187.5,
          749,
          728.75,
          128,
          277,
          44,
          442,
          768,
          139.33333333333334,
          67,
          139.33333333333334,
          194,
          22,
          344.5,
          3749,
          355.5,
          1049,
          4117,
          592,
          120,
          555.5,
          112,
          974.5,
          172,
          599,
          314,
          82,
          1948,
          2999,
          339.5,
          63,
          6149,
          1312,
          4957,
          20.33333333333333,
          2999,
          186.5,
          386,
          1424,
          554,
          412,
          44,
          74,
          194,
          104,
          1837,
          5594,
          427,
          82,
          127,
          44,
          118,
          374,
          2811.5,
          217,
          104,
          4274,
          118,
          55.66666666666666,
          37,
          638,
          169,
          209,
          3329,
          749,
          128,
          2249,
          22,
          104,
          974,
          614,
          37,
          59,
          6658,
          30,
          1049,
          524,
          90,
          136,
          60,
          1124,
          150,
          148,
          1649,
          689,
          1048,
          3749,
          247,
          142,
          135,
          1049,
          118,
          1447,
          44,
          86,
          1844,
          32,
          86,
          11,
          5594,
          38,
          689,
          388,
          86,
          22,
          187,
          243,
          164,
          488,
          22,
          89,
          749,
          10,
          1930.5,
          5248,
          637,
          330,
          44,
          142,
          1574,
          4117,
          292,
          86,
          355.5,
          6600,
          2624,
          116,
          202,
          22,
          120,
          112,
          149,
          974,
          307,
          45,
          5248,
          450,
          1162,
          112,
          238,
          38,
          119.5,
          239,
          599,
          603,
          1574,
          354,
          134,
          164,
          1124,
          60,
          59,
          82,
          187,
          243,
          450,
          674,
          179,
          367,
          106,
          10,
          14,
          119,
          5848,
          149,
          60,
          29,
          1949,
          68,
          38,
          134.5,
          55.66666666666666,
          38,
          112,
          210,
          97.5,
          899,
          55.66666666666666,
          14,
          38,
          45,
          120,
          90,
          547,
          119,
          254,
          592,
          45,
          112,
          38,
          67,
          898,
          169,
          524,
          112,
          97,
          247,
          9,
          778,
          116,
          195,
          44,
          592,
          59,
          38,
          712,
          38,
          348.5,
          188,
          194,
          172,
          38,
          1649,
          187,
          1177,
          539,
          1087,
          1649,
          2774,
          75,
          127,
          52,
          10,
          89,
          869,
          164,
          164,
          2099,
          532,
          884,
          28,
          90,
          180,
          2549,
          239,
          637,
          2549,
          89,
          164,
          20,
          1012,
          76,
          135,
          256,
          11,
          38,
          427,
          10,
          135,
          15358,
          1649,
          225,
          195,
          134,
          194,
          2774,
          127,
          74,
          540,
          247,
          7229,
          224,
          389,
          38,
          262,
          32,
          195,
          352,
          164,
          112,
          48,
          375,
          74,
          44,
          52,
          188,
          742,
          24,
          217,
          127,
          1248.6666666666667,
          37,
          277,
          38,
          187,
          128,
          974,
          120,
          3074,
          169,
          28,
          127,
          112,
          547,
          139.33333333333334,
          86,
          712,
          1949,
          26,
          315,
          569,
          1199,
          142,
          98,
          89,
          5399,
          1574,
          135,
          748,
          88,
          44,
          104,
          97,
          622,
          442,
          148,
          12,
          388,
          2399,
          86,
          76,
          224,
          169,
          29,
          56,
          55.333333333333336,
          22,
          4859,
          712,
          210,
          1184,
          3749,
          415.5,
          120,
          2549,
          44,
          449,
          464,
          134.5,
          749,
          246.5,
          30,
          89,
          139,
          157,
          45,
          299,
          29,
          1012,
          187.5,
          68,
          94,
          554,
          450,
          1012,
          97,
          90,
          1087,
          202,
          59,
          89,
          2848,
          8077,
          277,
          134,
          618.5,
          67,
          187,
          389,
          742,
          97,
          60,
          974,
          94,
          449,
          38,
          825,
          599,
          89,
          116,
          139.33333333333334,
          139,
          38,
          224,
          86,
          120,
          89,
          89,
          22,
          539,
          689,
          44,
          90,
          104,
          531.5,
          637,
          1087,
          239,
          149,
          217,
          179,
          134,
          3224,
          937,
          60,
          2399,
          247,
          116,
          1049,
          38,
          1012,
          127,
          2399,
          82,
          194,
          1574,
          974,
          150,
          1237,
          1762,
          38,
          36,
          97,
          1649,
          3074,
          82,
          1424,
          5512,
          974,
          187,
          928,
          109,
          164,
          637,
          68,
          112,
          11,
          569,
          52,
          68,
          899,
          2249.5,
          202,
          956,
          59,
          899,
          60,
          188,
          29,
          195,
          38,
          3112,
          142,
          307,
          86,
          202,
          157,
          38,
          101,
          224,
          344,
          524,
          134,
          195,
          1836.5,
          404,
          210,
          90,
          712,
          734,
          38,
          89,
          15,
          202,
          37,
          135,
          1274,
          187,
          86,
          749,
          415.5,
          704,
          52,
          74,
          1124,
          142,
          59,
          139,
          38,
          14,
          142,
          187,
          10,
          3524,
          1087,
          86,
          420,
          2399,
          388,
          149,
          24,
          3524,
          90,
          45,
          169,
          389,
          74,
          158,
          76,
          135,
          562,
          1207,
          22,
          689,
          524,
          1124,
          247,
          135,
          1568,
          1113,
          195,
          38,
          42,
          1049,
          355.5,
          194,
          1949,
          899,
          142,
          187,
          119.5,
          374,
          344,
          5512,
          119,
          149,
          142,
          38,
          194,
          90,
          1124,
          247,
          382,
          2811.5,
          76,
          2849,
          38,
          1207,
          97,
          5249,
          240,
          300,
          420,
          22,
          167,
          1447,
          2118,
          158,
          101,
          1012,
          55.66666666666666,
          134,
          2399,
          55.333333333333336,
          149,
          488,
          120,
          10,
          539,
          22,
          1874,
          450,
          90,
          38,
          172,
          2698
         ],
         "yaxis": "y2"
        }
       ],
       "layout": {
        "legend": {
         "tracegroupgap": 0
        },
        "template": {
         "data": {
          "bar": [
           {
            "error_x": {
             "color": "#2a3f5f"
            },
            "error_y": {
             "color": "#2a3f5f"
            },
            "marker": {
             "line": {
              "color": "#E5ECF6",
              "width": 0.5
             },
             "pattern": {
              "fillmode": "overlay",
              "size": 10,
              "solidity": 0.2
             }
            },
            "type": "bar"
           }
          ],
          "barpolar": [
           {
            "marker": {
             "line": {
              "color": "#E5ECF6",
              "width": 0.5
             },
             "pattern": {
              "fillmode": "overlay",
              "size": 10,
              "solidity": 0.2
             }
            },
            "type": "barpolar"
           }
          ],
          "carpet": [
           {
            "aaxis": {
             "endlinecolor": "#2a3f5f",
             "gridcolor": "white",
             "linecolor": "white",
             "minorgridcolor": "white",
             "startlinecolor": "#2a3f5f"
            },
            "baxis": {
             "endlinecolor": "#2a3f5f",
             "gridcolor": "white",
             "linecolor": "white",
             "minorgridcolor": "white",
             "startlinecolor": "#2a3f5f"
            },
            "type": "carpet"
           }
          ],
          "choropleth": [
           {
            "colorbar": {
             "outlinewidth": 0,
             "ticks": ""
            },
            "type": "choropleth"
           }
          ],
          "contour": [
           {
            "colorbar": {
             "outlinewidth": 0,
             "ticks": ""
            },
            "colorscale": [
             [
              0,
              "#0d0887"
             ],
             [
              0.1111111111111111,
              "#46039f"
             ],
             [
              0.2222222222222222,
              "#7201a8"
             ],
             [
              0.3333333333333333,
              "#9c179e"
             ],
             [
              0.4444444444444444,
              "#bd3786"
             ],
             [
              0.5555555555555556,
              "#d8576b"
             ],
             [
              0.6666666666666666,
              "#ed7953"
             ],
             [
              0.7777777777777778,
              "#fb9f3a"
             ],
             [
              0.8888888888888888,
              "#fdca26"
             ],
             [
              1,
              "#f0f921"
             ]
            ],
            "type": "contour"
           }
          ],
          "contourcarpet": [
           {
            "colorbar": {
             "outlinewidth": 0,
             "ticks": ""
            },
            "type": "contourcarpet"
           }
          ],
          "heatmap": [
           {
            "colorbar": {
             "outlinewidth": 0,
             "ticks": ""
            },
            "colorscale": [
             [
              0,
              "#0d0887"
             ],
             [
              0.1111111111111111,
              "#46039f"
             ],
             [
              0.2222222222222222,
              "#7201a8"
             ],
             [
              0.3333333333333333,
              "#9c179e"
             ],
             [
              0.4444444444444444,
              "#bd3786"
             ],
             [
              0.5555555555555556,
              "#d8576b"
             ],
             [
              0.6666666666666666,
              "#ed7953"
             ],
             [
              0.7777777777777778,
              "#fb9f3a"
             ],
             [
              0.8888888888888888,
              "#fdca26"
             ],
             [
              1,
              "#f0f921"
             ]
            ],
            "type": "heatmap"
           }
          ],
          "heatmapgl": [
           {
            "colorbar": {
             "outlinewidth": 0,
             "ticks": ""
            },
            "colorscale": [
             [
              0,
              "#0d0887"
             ],
             [
              0.1111111111111111,
              "#46039f"
             ],
             [
              0.2222222222222222,
              "#7201a8"
             ],
             [
              0.3333333333333333,
              "#9c179e"
             ],
             [
              0.4444444444444444,
              "#bd3786"
             ],
             [
              0.5555555555555556,
              "#d8576b"
             ],
             [
              0.6666666666666666,
              "#ed7953"
             ],
             [
              0.7777777777777778,
              "#fb9f3a"
             ],
             [
              0.8888888888888888,
              "#fdca26"
             ],
             [
              1,
              "#f0f921"
             ]
            ],
            "type": "heatmapgl"
           }
          ],
          "histogram": [
           {
            "marker": {
             "pattern": {
              "fillmode": "overlay",
              "size": 10,
              "solidity": 0.2
             }
            },
            "type": "histogram"
           }
          ],
          "histogram2d": [
           {
            "colorbar": {
             "outlinewidth": 0,
             "ticks": ""
            },
            "colorscale": [
             [
              0,
              "#0d0887"
             ],
             [
              0.1111111111111111,
              "#46039f"
             ],
             [
              0.2222222222222222,
              "#7201a8"
             ],
             [
              0.3333333333333333,
              "#9c179e"
             ],
             [
              0.4444444444444444,
              "#bd3786"
             ],
             [
              0.5555555555555556,
              "#d8576b"
             ],
             [
              0.6666666666666666,
              "#ed7953"
             ],
             [
              0.7777777777777778,
              "#fb9f3a"
             ],
             [
              0.8888888888888888,
              "#fdca26"
             ],
             [
              1,
              "#f0f921"
             ]
            ],
            "type": "histogram2d"
           }
          ],
          "histogram2dcontour": [
           {
            "colorbar": {
             "outlinewidth": 0,
             "ticks": ""
            },
            "colorscale": [
             [
              0,
              "#0d0887"
             ],
             [
              0.1111111111111111,
              "#46039f"
             ],
             [
              0.2222222222222222,
              "#7201a8"
             ],
             [
              0.3333333333333333,
              "#9c179e"
             ],
             [
              0.4444444444444444,
              "#bd3786"
             ],
             [
              0.5555555555555556,
              "#d8576b"
             ],
             [
              0.6666666666666666,
              "#ed7953"
             ],
             [
              0.7777777777777778,
              "#fb9f3a"
             ],
             [
              0.8888888888888888,
              "#fdca26"
             ],
             [
              1,
              "#f0f921"
             ]
            ],
            "type": "histogram2dcontour"
           }
          ],
          "mesh3d": [
           {
            "colorbar": {
             "outlinewidth": 0,
             "ticks": ""
            },
            "type": "mesh3d"
           }
          ],
          "parcoords": [
           {
            "line": {
             "colorbar": {
              "outlinewidth": 0,
              "ticks": ""
             }
            },
            "type": "parcoords"
           }
          ],
          "pie": [
           {
            "automargin": true,
            "type": "pie"
           }
          ],
          "scatter": [
           {
            "marker": {
             "colorbar": {
              "outlinewidth": 0,
              "ticks": ""
             }
            },
            "type": "scatter"
           }
          ],
          "scatter3d": [
           {
            "line": {
             "colorbar": {
              "outlinewidth": 0,
              "ticks": ""
             }
            },
            "marker": {
             "colorbar": {
              "outlinewidth": 0,
              "ticks": ""
             }
            },
            "type": "scatter3d"
           }
          ],
          "scattercarpet": [
           {
            "marker": {
             "colorbar": {
              "outlinewidth": 0,
              "ticks": ""
             }
            },
            "type": "scattercarpet"
           }
          ],
          "scattergeo": [
           {
            "marker": {
             "colorbar": {
              "outlinewidth": 0,
              "ticks": ""
             }
            },
            "type": "scattergeo"
           }
          ],
          "scattergl": [
           {
            "marker": {
             "colorbar": {
              "outlinewidth": 0,
              "ticks": ""
             }
            },
            "type": "scattergl"
           }
          ],
          "scattermapbox": [
           {
            "marker": {
             "colorbar": {
              "outlinewidth": 0,
              "ticks": ""
             }
            },
            "type": "scattermapbox"
           }
          ],
          "scatterpolar": [
           {
            "marker": {
             "colorbar": {
              "outlinewidth": 0,
              "ticks": ""
             }
            },
            "type": "scatterpolar"
           }
          ],
          "scatterpolargl": [
           {
            "marker": {
             "colorbar": {
              "outlinewidth": 0,
              "ticks": ""
             }
            },
            "type": "scatterpolargl"
           }
          ],
          "scatterternary": [
           {
            "marker": {
             "colorbar": {
              "outlinewidth": 0,
              "ticks": ""
             }
            },
            "type": "scatterternary"
           }
          ],
          "surface": [
           {
            "colorbar": {
             "outlinewidth": 0,
             "ticks": ""
            },
            "colorscale": [
             [
              0,
              "#0d0887"
             ],
             [
              0.1111111111111111,
              "#46039f"
             ],
             [
              0.2222222222222222,
              "#7201a8"
             ],
             [
              0.3333333333333333,
              "#9c179e"
             ],
             [
              0.4444444444444444,
              "#bd3786"
             ],
             [
              0.5555555555555556,
              "#d8576b"
             ],
             [
              0.6666666666666666,
              "#ed7953"
             ],
             [
              0.7777777777777778,
              "#fb9f3a"
             ],
             [
              0.8888888888888888,
              "#fdca26"
             ],
             [
              1,
              "#f0f921"
             ]
            ],
            "type": "surface"
           }
          ],
          "table": [
           {
            "cells": {
             "fill": {
              "color": "#EBF0F8"
             },
             "line": {
              "color": "white"
             }
            },
            "header": {
             "fill": {
              "color": "#C8D4E3"
             },
             "line": {
              "color": "white"
             }
            },
            "type": "table"
           }
          ]
         },
         "layout": {
          "annotationdefaults": {
           "arrowcolor": "#2a3f5f",
           "arrowhead": 0,
           "arrowwidth": 1
          },
          "autotypenumbers": "strict",
          "coloraxis": {
           "colorbar": {
            "outlinewidth": 0,
            "ticks": ""
           }
          },
          "colorscale": {
           "diverging": [
            [
             0,
             "#8e0152"
            ],
            [
             0.1,
             "#c51b7d"
            ],
            [
             0.2,
             "#de77ae"
            ],
            [
             0.3,
             "#f1b6da"
            ],
            [
             0.4,
             "#fde0ef"
            ],
            [
             0.5,
             "#f7f7f7"
            ],
            [
             0.6,
             "#e6f5d0"
            ],
            [
             0.7,
             "#b8e186"
            ],
            [
             0.8,
             "#7fbc41"
            ],
            [
             0.9,
             "#4d9221"
            ],
            [
             1,
             "#276419"
            ]
           ],
           "sequential": [
            [
             0,
             "#0d0887"
            ],
            [
             0.1111111111111111,
             "#46039f"
            ],
            [
             0.2222222222222222,
             "#7201a8"
            ],
            [
             0.3333333333333333,
             "#9c179e"
            ],
            [
             0.4444444444444444,
             "#bd3786"
            ],
            [
             0.5555555555555556,
             "#d8576b"
            ],
            [
             0.6666666666666666,
             "#ed7953"
            ],
            [
             0.7777777777777778,
             "#fb9f3a"
            ],
            [
             0.8888888888888888,
             "#fdca26"
            ],
            [
             1,
             "#f0f921"
            ]
           ],
           "sequentialminus": [
            [
             0,
             "#0d0887"
            ],
            [
             0.1111111111111111,
             "#46039f"
            ],
            [
             0.2222222222222222,
             "#7201a8"
            ],
            [
             0.3333333333333333,
             "#9c179e"
            ],
            [
             0.4444444444444444,
             "#bd3786"
            ],
            [
             0.5555555555555556,
             "#d8576b"
            ],
            [
             0.6666666666666666,
             "#ed7953"
            ],
            [
             0.7777777777777778,
             "#fb9f3a"
            ],
            [
             0.8888888888888888,
             "#fdca26"
            ],
            [
             1,
             "#f0f921"
            ]
           ]
          },
          "colorway": [
           "#636efa",
           "#EF553B",
           "#00cc96",
           "#ab63fa",
           "#FFA15A",
           "#19d3f3",
           "#FF6692",
           "#B6E880",
           "#FF97FF",
           "#FECB52"
          ],
          "font": {
           "color": "#2a3f5f"
          },
          "geo": {
           "bgcolor": "white",
           "lakecolor": "white",
           "landcolor": "#E5ECF6",
           "showlakes": true,
           "showland": true,
           "subunitcolor": "white"
          },
          "hoverlabel": {
           "align": "left"
          },
          "hovermode": "closest",
          "mapbox": {
           "style": "light"
          },
          "paper_bgcolor": "white",
          "plot_bgcolor": "#E5ECF6",
          "polar": {
           "angularaxis": {
            "gridcolor": "white",
            "linecolor": "white",
            "ticks": ""
           },
           "bgcolor": "#E5ECF6",
           "radialaxis": {
            "gridcolor": "white",
            "linecolor": "white",
            "ticks": ""
           }
          },
          "scene": {
           "xaxis": {
            "backgroundcolor": "#E5ECF6",
            "gridcolor": "white",
            "gridwidth": 2,
            "linecolor": "white",
            "showbackground": true,
            "ticks": "",
            "zerolinecolor": "white"
           },
           "yaxis": {
            "backgroundcolor": "#E5ECF6",
            "gridcolor": "white",
            "gridwidth": 2,
            "linecolor": "white",
            "showbackground": true,
            "ticks": "",
            "zerolinecolor": "white"
           },
           "zaxis": {
            "backgroundcolor": "#E5ECF6",
            "gridcolor": "white",
            "gridwidth": 2,
            "linecolor": "white",
            "showbackground": true,
            "ticks": "",
            "zerolinecolor": "white"
           }
          },
          "shapedefaults": {
           "line": {
            "color": "#2a3f5f"
           }
          },
          "ternary": {
           "aaxis": {
            "gridcolor": "white",
            "linecolor": "white",
            "ticks": ""
           },
           "baxis": {
            "gridcolor": "white",
            "linecolor": "white",
            "ticks": ""
           },
           "bgcolor": "#E5ECF6",
           "caxis": {
            "gridcolor": "white",
            "linecolor": "white",
            "ticks": ""
           }
          },
          "title": {
           "x": 0.05
          },
          "xaxis": {
           "automargin": true,
           "gridcolor": "white",
           "linecolor": "white",
           "ticks": "",
           "title": {
            "standoff": 15
           },
           "zerolinecolor": "white",
           "zerolinewidth": 2
          },
          "yaxis": {
           "automargin": true,
           "gridcolor": "white",
           "linecolor": "white",
           "ticks": "",
           "title": {
            "standoff": 15
           },
           "zerolinecolor": "white",
           "zerolinewidth": 2
          }
         }
        },
        "title": {
         "text": "Общая сумма заказа"
        },
        "xaxis": {
         "anchor": "y",
         "domain": [
          0,
          0.8358
         ],
         "title": {
          "text": "заказ"
         }
        },
        "xaxis2": {
         "anchor": "y2",
         "domain": [
          0.8408,
          1
         ],
         "matches": "x2",
         "showgrid": false,
         "showline": false,
         "showticklabels": false,
         "ticks": ""
        },
        "yaxis": {
         "anchor": "x",
         "domain": [
          0,
          1
         ],
         "title": {
          "text": "сумма"
         }
        },
        "yaxis2": {
         "anchor": "x2",
         "domain": [
          0,
          1
         ],
         "matches": "y",
         "showgrid": true,
         "showticklabels": false
        }
       }
      }
     },
     "metadata": {},
     "output_type": "display_data"
    }
   ],
   "source": [
    "px.scatter(info_chek,\n",
    "                 y='total_coast',\n",
    "                 labels={'total_coast': 'сумма',\n",
    "                         'index': 'заказ'},\n",
    "                 marginal_y='rug',\n",
    "                 title='Общая сумма заказа')\n",
    "\n"
   ]
  },
  {
   "cell_type": "markdown",
   "metadata": {},
   "source": [
    "как видим есть выброс в 675 000 руб и весьма значительный. Устраним его и отфильтруем заказы"
   ]
  },
  {
   "cell_type": "code",
   "execution_count": 98,
   "metadata": {},
   "outputs": [
    {
     "data": {
      "text/plain": [
       "675000.0"
      ]
     },
     "execution_count": 98,
     "metadata": {},
     "output_type": "execute_result"
    }
   ],
   "source": [
    "lim_max = info_chek['total_coast'].max()  # тот самый выброс\n",
    "lim_max"
   ]
  },
  {
   "cell_type": "code",
   "execution_count": 99,
   "metadata": {},
   "outputs": [],
   "source": [
    "normal_orders = info_chek.query('total_coast < @lim_max')['order_id']"
   ]
  },
  {
   "cell_type": "markdown",
   "metadata": {},
   "source": [
    "и отфильтруем датасет по ним"
   ]
  },
  {
   "cell_type": "code",
   "execution_count": 100,
   "metadata": {},
   "outputs": [],
   "source": [
    "data = data.query('order_id in @normal_orders')"
   ]
  },
  {
   "cell_type": "markdown",
   "metadata": {},
   "source": [
    "Теперь построим таблицу с количеством заказов на пользователя и постмотрим есть ли там выбросы."
   ]
  },
  {
   "cell_type": "code",
   "execution_count": 101,
   "metadata": {},
   "outputs": [
    {
     "data": {
      "text/html": [
       "<div>\n",
       "<style scoped>\n",
       "    .dataframe tbody tr th:only-of-type {\n",
       "        vertical-align: middle;\n",
       "    }\n",
       "\n",
       "    .dataframe tbody tr th {\n",
       "        vertical-align: top;\n",
       "    }\n",
       "\n",
       "    .dataframe thead th {\n",
       "        text-align: right;\n",
       "    }\n",
       "</style>\n",
       "<table border=\"1\" class=\"dataframe\">\n",
       "  <thead>\n",
       "    <tr style=\"text-align: right;\">\n",
       "      <th></th>\n",
       "      <th>customer_id</th>\n",
       "      <th>orders</th>\n",
       "    </tr>\n",
       "  </thead>\n",
       "  <tbody>\n",
       "    <tr>\n",
       "      <th>0</th>\n",
       "      <td>000d6849-084e-4d9f-ac03-37174eaf60c4</td>\n",
       "      <td>1</td>\n",
       "    </tr>\n",
       "    <tr>\n",
       "      <th>1</th>\n",
       "      <td>001cee7f-0b29-4716-b202-0042213ab038</td>\n",
       "      <td>1</td>\n",
       "    </tr>\n",
       "    <tr>\n",
       "      <th>2</th>\n",
       "      <td>00299f34-5385-4d13-9aea-c80b81658e1b</td>\n",
       "      <td>1</td>\n",
       "    </tr>\n",
       "    <tr>\n",
       "      <th>3</th>\n",
       "      <td>002d4d3a-4a59-406b-86ec-c3314357e498</td>\n",
       "      <td>1</td>\n",
       "    </tr>\n",
       "    <tr>\n",
       "      <th>4</th>\n",
       "      <td>003bbd39-0000-41ff-b7f9-2ddaec152037</td>\n",
       "      <td>1</td>\n",
       "    </tr>\n",
       "  </tbody>\n",
       "</table>\n",
       "</div>"
      ],
      "text/plain": [
       "                            customer_id  orders\n",
       "0  000d6849-084e-4d9f-ac03-37174eaf60c4       1\n",
       "1  001cee7f-0b29-4716-b202-0042213ab038       1\n",
       "2  00299f34-5385-4d13-9aea-c80b81658e1b       1\n",
       "3  002d4d3a-4a59-406b-86ec-c3314357e498       1\n",
       "4  003bbd39-0000-41ff-b7f9-2ddaec152037       1"
      ]
     },
     "execution_count": 101,
     "metadata": {},
     "output_type": "execute_result"
    }
   ],
   "source": [
    "count_product_on_customer = (data\n",
    "                             .groupby('customer_id', as_index=False)['order_id']\n",
    "                             .nunique()\n",
    "                             .rename(columns=dict(order_id='orders')))\n",
    "\n",
    "\n",
    "count_product_on_customer.head()"
   ]
  },
  {
   "cell_type": "code",
   "execution_count": 157,
   "metadata": {},
   "outputs": [
    {
     "data": {
      "application/vnd.plotly.v1+json": {
       "config": {
        "plotlyServerURL": "https://plot.ly"
       },
       "data": [
        {
         "hovertemplate": "пользователь=%{x}<br>число заказов=%{y}<extra></extra>",
         "legendgroup": "",
         "marker": {
          "color": "#636efa",
          "symbol": "circle"
         },
         "mode": "markers",
         "name": "",
         "showlegend": false,
         "type": "scattergl",
         "x": [
          0,
          1,
          2,
          3,
          4,
          5,
          6,
          7,
          8,
          9,
          10,
          11,
          12,
          13,
          14,
          15,
          16,
          17,
          18,
          19,
          20,
          21,
          22,
          23,
          24,
          25,
          26,
          27,
          28,
          29,
          30,
          31,
          32,
          33,
          34,
          35,
          36,
          37,
          38,
          39,
          40,
          41,
          42,
          43,
          44,
          45,
          46,
          47,
          48,
          49,
          50,
          51,
          52,
          53,
          54,
          55,
          56,
          57,
          58,
          59,
          60,
          61,
          62,
          63,
          64,
          65,
          66,
          67,
          68,
          69,
          70,
          71,
          72,
          73,
          74,
          75,
          76,
          77,
          78,
          79,
          80,
          81,
          82,
          83,
          84,
          85,
          86,
          87,
          88,
          89,
          90,
          91,
          92,
          93,
          94,
          95,
          96,
          97,
          98,
          99,
          100,
          101,
          102,
          103,
          104,
          105,
          106,
          107,
          108,
          109,
          110,
          111,
          112,
          113,
          114,
          115,
          116,
          117,
          118,
          119,
          120,
          121,
          122,
          123,
          124,
          125,
          126,
          127,
          128,
          129,
          130,
          131,
          132,
          133,
          134,
          135,
          136,
          137,
          138,
          139,
          140,
          141,
          142,
          143,
          144,
          145,
          146,
          147,
          148,
          149,
          150,
          151,
          152,
          153,
          154,
          155,
          156,
          157,
          158,
          159,
          160,
          161,
          162,
          163,
          164,
          165,
          166,
          167,
          168,
          169,
          170,
          171,
          172,
          173,
          174,
          175,
          176,
          177,
          178,
          179,
          180,
          181,
          182,
          183,
          184,
          185,
          186,
          187,
          188,
          189,
          190,
          191,
          192,
          193,
          194,
          195,
          196,
          197,
          198,
          199,
          200,
          201,
          202,
          203,
          204,
          205,
          206,
          207,
          208,
          209,
          210,
          211,
          212,
          213,
          214,
          215,
          216,
          217,
          218,
          219,
          220,
          221,
          222,
          223,
          224,
          225,
          226,
          227,
          228,
          229,
          230,
          231,
          232,
          233,
          234,
          235,
          236,
          237,
          238,
          239,
          240,
          241,
          242,
          243,
          244,
          245,
          246,
          247,
          248,
          249,
          250,
          251,
          252,
          253,
          254,
          255,
          256,
          257,
          258,
          259,
          260,
          261,
          262,
          263,
          264,
          265,
          266,
          267,
          268,
          269,
          270,
          271,
          272,
          273,
          274,
          275,
          276,
          277,
          278,
          279,
          280,
          281,
          282,
          283,
          284,
          285,
          286,
          287,
          288,
          289,
          290,
          291,
          292,
          293,
          294,
          295,
          296,
          297,
          298,
          299,
          300,
          301,
          302,
          303,
          304,
          305,
          306,
          307,
          308,
          309,
          310,
          311,
          312,
          313,
          314,
          315,
          316,
          317,
          318,
          319,
          320,
          321,
          322,
          323,
          324,
          325,
          326,
          327,
          328,
          329,
          330,
          331,
          332,
          333,
          334,
          335,
          336,
          337,
          338,
          339,
          340,
          341,
          342,
          343,
          344,
          345,
          346,
          347,
          348,
          349,
          350,
          351,
          352,
          353,
          354,
          355,
          356,
          357,
          358,
          359,
          360,
          361,
          362,
          363,
          364,
          365,
          366,
          367,
          368,
          369,
          370,
          371,
          372,
          373,
          374,
          375,
          376,
          377,
          378,
          379,
          380,
          381,
          382,
          383,
          384,
          385,
          386,
          387,
          388,
          389,
          390,
          391,
          392,
          393,
          394,
          395,
          396,
          397,
          398,
          399,
          400,
          401,
          402,
          403,
          404,
          405,
          406,
          407,
          408,
          409,
          410,
          411,
          412,
          413,
          414,
          415,
          416,
          417,
          418,
          419,
          420,
          421,
          422,
          423,
          424,
          425,
          426,
          427,
          428,
          429,
          430,
          431,
          432,
          433,
          434,
          435,
          436,
          437,
          438,
          439,
          440,
          441,
          442,
          443,
          444,
          445,
          446,
          447,
          448,
          449,
          450,
          451,
          452,
          453,
          454,
          455,
          456,
          457,
          458,
          459,
          460,
          461,
          462,
          463,
          464,
          465,
          466,
          467,
          468,
          469,
          470,
          471,
          472,
          473,
          474,
          475,
          476,
          477,
          478,
          479,
          480,
          481,
          482,
          483,
          484,
          485,
          486,
          487,
          488,
          489,
          490,
          491,
          492,
          493,
          494,
          495,
          496,
          497,
          498,
          499,
          500,
          501,
          502,
          503,
          504,
          505,
          506,
          507,
          508,
          509,
          510,
          511,
          512,
          513,
          514,
          515,
          516,
          517,
          518,
          519,
          520,
          521,
          522,
          523,
          524,
          525,
          526,
          527,
          528,
          529,
          530,
          531,
          532,
          533,
          534,
          535,
          536,
          537,
          538,
          539,
          540,
          541,
          542,
          543,
          544,
          545,
          546,
          547,
          548,
          549,
          550,
          551,
          552,
          553,
          554,
          555,
          556,
          557,
          558,
          559,
          560,
          561,
          562,
          563,
          564,
          565,
          566,
          567,
          568,
          569,
          570,
          571,
          572,
          573,
          574,
          575,
          576,
          577,
          578,
          579,
          580,
          581,
          582,
          583,
          584,
          585,
          586,
          587,
          588,
          589,
          590,
          591,
          592,
          593,
          594,
          595,
          596,
          597,
          598,
          599,
          600,
          601,
          602,
          603,
          604,
          605,
          606,
          607,
          608,
          609,
          610,
          611,
          612,
          613,
          614,
          615,
          616,
          617,
          618,
          619,
          620,
          621,
          622,
          623,
          624,
          625,
          626,
          627,
          628,
          629,
          630,
          631,
          632,
          633,
          634,
          635,
          636,
          637,
          638,
          639,
          640,
          641,
          642,
          643,
          644,
          645,
          646,
          647,
          648,
          649,
          650,
          651,
          652,
          653,
          654,
          655,
          656,
          657,
          658,
          659,
          660,
          661,
          662,
          663,
          664,
          665,
          666,
          667,
          668,
          669,
          670,
          671,
          672,
          673,
          674,
          675,
          676,
          677,
          678,
          679,
          680,
          681,
          682,
          683,
          684,
          685,
          686,
          687,
          688,
          689,
          690,
          691,
          692,
          693,
          694,
          695,
          696,
          697,
          698,
          699,
          700,
          701,
          702,
          703,
          704,
          705,
          706,
          707,
          708,
          709,
          710,
          711,
          712,
          713,
          714,
          715,
          716,
          717,
          718,
          719,
          720,
          721,
          722,
          723,
          724,
          725,
          726,
          727,
          728,
          729,
          730,
          731,
          732,
          733,
          734,
          735,
          736,
          737,
          738,
          739,
          740,
          741,
          742,
          743,
          744,
          745,
          746,
          747,
          748,
          749,
          750,
          751,
          752,
          753,
          754,
          755,
          756,
          757,
          758,
          759,
          760,
          761,
          762,
          763,
          764,
          765,
          766,
          767,
          768,
          769,
          770,
          771,
          772,
          773,
          774,
          775,
          776,
          777,
          778,
          779,
          780,
          781,
          782,
          783,
          784,
          785,
          786,
          787,
          788,
          789,
          790,
          791,
          792,
          793,
          794,
          795,
          796,
          797,
          798,
          799,
          800,
          801,
          802,
          803,
          804,
          805,
          806,
          807,
          808,
          809,
          810,
          811,
          812,
          813,
          814,
          815,
          816,
          817,
          818,
          819,
          820,
          821,
          822,
          823,
          824,
          825,
          826,
          827,
          828,
          829,
          830,
          831,
          832,
          833,
          834,
          835,
          836,
          837,
          838,
          839,
          840,
          841,
          842,
          843,
          844,
          845,
          846,
          847,
          848,
          849,
          850,
          851,
          852,
          853,
          854,
          855,
          856,
          857,
          858,
          859,
          860,
          861,
          862,
          863,
          864,
          865,
          866,
          867,
          868,
          869,
          870,
          871,
          872,
          873,
          874,
          875,
          876,
          877,
          878,
          879,
          880,
          881,
          882,
          883,
          884,
          885,
          886,
          887,
          888,
          889,
          890,
          891,
          892,
          893,
          894,
          895,
          896,
          897,
          898,
          899,
          900,
          901,
          902,
          903,
          904,
          905,
          906,
          907,
          908,
          909,
          910,
          911,
          912,
          913,
          914,
          915,
          916,
          917,
          918,
          919,
          920,
          921,
          922,
          923,
          924,
          925,
          926,
          927,
          928,
          929,
          930,
          931,
          932,
          933,
          934,
          935,
          936,
          937,
          938,
          939,
          940,
          941,
          942,
          943,
          944,
          945,
          946,
          947,
          948,
          949,
          950,
          951,
          952,
          953,
          954,
          955,
          956,
          957,
          958,
          959,
          960,
          961,
          962,
          963,
          964,
          965,
          966,
          967,
          968,
          969,
          970,
          971,
          972,
          973,
          974,
          975,
          976,
          977,
          978,
          979,
          980,
          981,
          982,
          983,
          984,
          985,
          986,
          987,
          988,
          989,
          990,
          991,
          992,
          993,
          994,
          995,
          996,
          997,
          998,
          999,
          1000,
          1001,
          1002,
          1003,
          1004,
          1005,
          1006,
          1007,
          1008,
          1009,
          1010,
          1011,
          1012,
          1013,
          1014,
          1015,
          1016,
          1017,
          1018,
          1019,
          1020,
          1021,
          1022,
          1023,
          1024,
          1025,
          1026,
          1027,
          1028,
          1029,
          1030,
          1031,
          1032,
          1033,
          1034,
          1035,
          1036,
          1037,
          1038,
          1039,
          1040,
          1041,
          1042,
          1043,
          1044,
          1045,
          1046,
          1047,
          1048,
          1049,
          1050,
          1051,
          1052,
          1053,
          1054,
          1055,
          1056,
          1057,
          1058,
          1059,
          1060,
          1061,
          1062,
          1063,
          1064,
          1065,
          1066,
          1067,
          1068,
          1069,
          1070,
          1071,
          1072,
          1073,
          1074,
          1075,
          1076,
          1077,
          1078,
          1079,
          1080,
          1081,
          1082,
          1083,
          1084,
          1085,
          1086,
          1087,
          1088,
          1089,
          1090,
          1091,
          1092,
          1093,
          1094,
          1095,
          1096,
          1097,
          1098,
          1099,
          1100,
          1101,
          1102,
          1103,
          1104,
          1105,
          1106,
          1107,
          1108,
          1109,
          1110,
          1111,
          1112,
          1113,
          1114,
          1115,
          1116,
          1117,
          1118,
          1119,
          1120,
          1121,
          1122,
          1123,
          1124,
          1125,
          1126,
          1127,
          1128,
          1129,
          1130,
          1131,
          1132,
          1133,
          1134,
          1135,
          1136,
          1137,
          1138,
          1139,
          1140,
          1141,
          1142,
          1143,
          1144,
          1145,
          1146,
          1147,
          1148,
          1149,
          1150,
          1151,
          1152,
          1153,
          1154,
          1155,
          1156,
          1157,
          1158,
          1159,
          1160,
          1161,
          1162,
          1163,
          1164,
          1165,
          1166,
          1167,
          1168,
          1169,
          1170,
          1171,
          1172,
          1173,
          1174,
          1175,
          1176,
          1177,
          1178,
          1179,
          1180,
          1181,
          1182,
          1183,
          1184,
          1185,
          1186,
          1187,
          1188,
          1189,
          1190,
          1191,
          1192,
          1193,
          1194,
          1195,
          1196,
          1197,
          1198,
          1199,
          1200,
          1201,
          1202,
          1203,
          1204,
          1205,
          1206,
          1207,
          1208,
          1209,
          1210,
          1211,
          1212,
          1213,
          1214,
          1215,
          1216,
          1217,
          1218,
          1219,
          1220,
          1221,
          1222,
          1223,
          1224,
          1225,
          1226,
          1227,
          1228,
          1229,
          1230,
          1231,
          1232,
          1233,
          1234,
          1235,
          1236,
          1237,
          1238,
          1239,
          1240,
          1241,
          1242,
          1243,
          1244,
          1245,
          1246,
          1247,
          1248,
          1249,
          1250,
          1251,
          1252,
          1253,
          1254,
          1255,
          1256,
          1257,
          1258,
          1259,
          1260,
          1261,
          1262,
          1263,
          1264,
          1265,
          1266,
          1267,
          1268,
          1269,
          1270,
          1271,
          1272,
          1273,
          1274,
          1275,
          1276,
          1277,
          1278,
          1279,
          1280,
          1281,
          1282,
          1283,
          1284,
          1285,
          1286,
          1287,
          1288,
          1289,
          1290,
          1291,
          1292,
          1293,
          1294,
          1295,
          1296,
          1297,
          1298,
          1299,
          1300,
          1301,
          1302,
          1303,
          1304,
          1305,
          1306,
          1307,
          1308,
          1309,
          1310,
          1311,
          1312,
          1313,
          1314,
          1315,
          1316,
          1317,
          1318,
          1319,
          1320,
          1321,
          1322,
          1323,
          1324,
          1325,
          1326,
          1327,
          1328,
          1329,
          1330,
          1331,
          1332,
          1333,
          1334,
          1335,
          1336,
          1337,
          1338,
          1339,
          1340,
          1341,
          1342,
          1343,
          1344,
          1345,
          1346,
          1347,
          1348,
          1349,
          1350,
          1351,
          1352,
          1353,
          1354,
          1355,
          1356,
          1357,
          1358,
          1359,
          1360,
          1361,
          1362,
          1363,
          1364,
          1365,
          1366,
          1367,
          1368,
          1369,
          1370,
          1371,
          1372,
          1373,
          1374,
          1375,
          1376,
          1377,
          1378,
          1379,
          1380,
          1381,
          1382,
          1383,
          1384,
          1385,
          1386,
          1387,
          1388,
          1389,
          1390,
          1391,
          1392,
          1393,
          1394,
          1395,
          1396,
          1397,
          1398,
          1399,
          1400,
          1401,
          1402,
          1403,
          1404,
          1405,
          1406,
          1407,
          1408,
          1409,
          1410,
          1411,
          1412,
          1413,
          1414,
          1415,
          1416,
          1417,
          1418,
          1419,
          1420,
          1421,
          1422,
          1423,
          1424,
          1425,
          1426,
          1427,
          1428,
          1429,
          1430,
          1431,
          1432,
          1433,
          1434,
          1435,
          1436,
          1437,
          1438,
          1439,
          1440,
          1441,
          1442,
          1443,
          1444,
          1445,
          1446,
          1447,
          1448,
          1449,
          1450,
          1451,
          1452,
          1453,
          1454,
          1455,
          1456,
          1457,
          1458,
          1459,
          1460,
          1461,
          1462,
          1463,
          1464,
          1465,
          1466,
          1467,
          1468,
          1469,
          1470,
          1471,
          1472,
          1473,
          1474,
          1475,
          1476,
          1477,
          1478,
          1479,
          1480,
          1481,
          1482,
          1483,
          1484,
          1485,
          1486,
          1487,
          1488,
          1489,
          1490,
          1491,
          1492,
          1493,
          1494,
          1495,
          1496,
          1497,
          1498,
          1499,
          1500,
          1501,
          1502,
          1503,
          1504,
          1505,
          1506,
          1507,
          1508,
          1509,
          1510,
          1511,
          1512,
          1513,
          1514,
          1515,
          1516,
          1517,
          1518,
          1519,
          1520,
          1521,
          1522,
          1523,
          1524,
          1525,
          1526,
          1527,
          1528,
          1529,
          1530,
          1531,
          1532,
          1533,
          1534,
          1535,
          1536,
          1537,
          1538,
          1539,
          1540,
          1541,
          1542,
          1543,
          1544,
          1545,
          1546,
          1547,
          1548,
          1549,
          1550,
          1551,
          1552,
          1553,
          1554,
          1555,
          1556,
          1557,
          1558,
          1559,
          1560,
          1561,
          1562,
          1563,
          1564,
          1565,
          1566,
          1567,
          1568,
          1569,
          1570,
          1571,
          1572,
          1573,
          1574,
          1575,
          1576,
          1577,
          1578,
          1579,
          1580,
          1581,
          1582,
          1583,
          1584,
          1585,
          1586,
          1587,
          1588,
          1589,
          1590,
          1591,
          1592,
          1593,
          1594,
          1595,
          1596,
          1597,
          1598,
          1599,
          1600,
          1601,
          1602,
          1603,
          1604,
          1605,
          1606,
          1607,
          1608,
          1609,
          1610,
          1611,
          1612,
          1613,
          1614,
          1615,
          1616,
          1617,
          1618,
          1619,
          1620,
          1621,
          1622,
          1623,
          1624,
          1625,
          1626,
          1627,
          1628,
          1629,
          1630,
          1631,
          1632,
          1633,
          1634,
          1635,
          1636,
          1637,
          1638,
          1639,
          1640,
          1641,
          1642,
          1643,
          1644,
          1645,
          1646,
          1647,
          1648,
          1649,
          1650,
          1651,
          1652,
          1653,
          1654,
          1655,
          1656,
          1657,
          1658,
          1659,
          1660,
          1661,
          1662,
          1663,
          1664,
          1665,
          1666,
          1667,
          1668,
          1669,
          1670,
          1671,
          1672,
          1673,
          1674,
          1675,
          1676,
          1677,
          1678,
          1679,
          1680,
          1681,
          1682,
          1683,
          1684,
          1685,
          1686,
          1687,
          1688,
          1689,
          1690,
          1691,
          1692,
          1693,
          1694,
          1695,
          1696,
          1697,
          1698,
          1699,
          1700,
          1701,
          1702,
          1703,
          1704,
          1705,
          1706,
          1707,
          1708,
          1709,
          1710,
          1711,
          1712,
          1713,
          1714,
          1715,
          1716,
          1717,
          1718,
          1719,
          1720,
          1721,
          1722,
          1723,
          1724,
          1725,
          1726,
          1727,
          1728,
          1729,
          1730,
          1731,
          1732,
          1733,
          1734,
          1735,
          1736,
          1737,
          1738,
          1739,
          1740,
          1741,
          1742,
          1743,
          1744,
          1745,
          1746,
          1747,
          1748,
          1749,
          1750,
          1751,
          1752,
          1753,
          1754,
          1755,
          1756,
          1757,
          1758,
          1759,
          1760,
          1761,
          1762,
          1763,
          1764,
          1765,
          1766,
          1767,
          1768,
          1769,
          1770,
          1771,
          1772,
          1773,
          1774,
          1775,
          1776,
          1777,
          1778,
          1779,
          1780,
          1781,
          1782,
          1783,
          1784,
          1785,
          1786,
          1787,
          1788,
          1789,
          1790,
          1791,
          1792,
          1793,
          1794,
          1795,
          1796,
          1797,
          1798,
          1799,
          1800,
          1801,
          1802,
          1803,
          1804,
          1805,
          1806,
          1807,
          1808,
          1809,
          1810,
          1811,
          1812,
          1813,
          1814,
          1815,
          1816,
          1817,
          1818,
          1819,
          1820,
          1821,
          1822,
          1823,
          1824,
          1825,
          1826,
          1827,
          1828,
          1829,
          1830,
          1831,
          1832,
          1833,
          1834,
          1835,
          1836,
          1837,
          1838,
          1839,
          1840,
          1841,
          1842,
          1843,
          1844,
          1845,
          1846,
          1847,
          1848,
          1849,
          1850,
          1851,
          1852,
          1853,
          1854,
          1855,
          1856,
          1857,
          1858,
          1859,
          1860,
          1861,
          1862,
          1863,
          1864,
          1865,
          1866,
          1867,
          1868,
          1869,
          1870,
          1871,
          1872,
          1873,
          1874,
          1875,
          1876,
          1877,
          1878,
          1879,
          1880,
          1881,
          1882,
          1883,
          1884,
          1885,
          1886,
          1887,
          1888,
          1889,
          1890,
          1891,
          1892,
          1893,
          1894,
          1895,
          1896,
          1897,
          1898,
          1899,
          1900,
          1901,
          1902,
          1903,
          1904,
          1905,
          1906,
          1907,
          1908,
          1909,
          1910,
          1911,
          1912,
          1913,
          1914,
          1915,
          1916,
          1917,
          1918,
          1919,
          1920,
          1921,
          1922,
          1923,
          1924,
          1925,
          1926,
          1927,
          1928,
          1929,
          1930,
          1931,
          1932,
          1933,
          1934,
          1935,
          1936,
          1937,
          1938,
          1939,
          1940,
          1941,
          1942,
          1943,
          1944,
          1945,
          1946,
          1947,
          1948,
          1949,
          1950,
          1951,
          1952,
          1953,
          1954,
          1955,
          1956,
          1957,
          1958,
          1959,
          1960,
          1961,
          1962,
          1963,
          1964,
          1965,
          1966,
          1967,
          1968,
          1969,
          1970,
          1971,
          1972,
          1973,
          1974,
          1975,
          1976,
          1977,
          1978,
          1979,
          1980,
          1981,
          1982,
          1983,
          1984,
          1985,
          1986,
          1987,
          1988,
          1989,
          1990,
          1991,
          1992,
          1993,
          1994,
          1995,
          1996,
          1997,
          1998,
          1999,
          2000,
          2001,
          2002,
          2003,
          2004,
          2005,
          2006,
          2007,
          2008,
          2009,
          2010,
          2011,
          2012,
          2013,
          2014,
          2015,
          2016,
          2017,
          2018,
          2019,
          2020,
          2021,
          2022,
          2023,
          2024,
          2025,
          2026,
          2027,
          2028,
          2029,
          2030,
          2031,
          2032,
          2033,
          2034,
          2035,
          2036,
          2037,
          2038,
          2039,
          2040,
          2041,
          2042,
          2043,
          2044,
          2045,
          2046,
          2047,
          2048,
          2049,
          2050,
          2051,
          2052,
          2053,
          2054,
          2055,
          2056,
          2057,
          2058,
          2059,
          2060,
          2061,
          2062,
          2063,
          2064,
          2065,
          2066,
          2067,
          2068,
          2069,
          2070,
          2071,
          2072,
          2073,
          2074,
          2075,
          2076,
          2077,
          2078,
          2079,
          2080,
          2081,
          2082,
          2083,
          2084,
          2085,
          2086,
          2087,
          2088,
          2089,
          2090,
          2091,
          2092,
          2093,
          2094,
          2095,
          2096,
          2097,
          2098,
          2099,
          2100,
          2101,
          2102,
          2103,
          2104,
          2105,
          2106,
          2107,
          2108,
          2109,
          2110,
          2111,
          2112,
          2113,
          2114,
          2115,
          2116,
          2117,
          2118,
          2119,
          2120,
          2121,
          2122,
          2123,
          2124,
          2125,
          2126,
          2127,
          2128,
          2129,
          2130,
          2131,
          2132,
          2133,
          2134,
          2135,
          2136,
          2137,
          2138,
          2139,
          2140,
          2141,
          2142,
          2143,
          2144,
          2145,
          2146,
          2147,
          2148,
          2149,
          2150,
          2151,
          2152,
          2153,
          2154,
          2155,
          2156,
          2157,
          2158,
          2159,
          2160,
          2161,
          2162,
          2163,
          2164,
          2165,
          2166,
          2167,
          2168,
          2169,
          2170,
          2171,
          2172,
          2173,
          2174,
          2175,
          2176,
          2177,
          2178,
          2179,
          2180,
          2181,
          2182,
          2183,
          2184,
          2185,
          2186,
          2187,
          2188,
          2189,
          2190,
          2191,
          2192,
          2193,
          2194,
          2195,
          2196,
          2197,
          2198,
          2199,
          2200,
          2201,
          2202,
          2203,
          2204,
          2205,
          2206,
          2207,
          2208,
          2209,
          2210,
          2211,
          2212,
          2213,
          2214,
          2215,
          2216,
          2217,
          2218,
          2219,
          2220,
          2221,
          2222,
          2223,
          2224,
          2225,
          2226,
          2227,
          2228,
          2229,
          2230,
          2231,
          2232,
          2233,
          2234,
          2235,
          2236,
          2237,
          2238,
          2239,
          2240,
          2241,
          2242,
          2243,
          2244,
          2245,
          2246,
          2247,
          2248,
          2249,
          2250,
          2251,
          2252,
          2253,
          2254,
          2255,
          2256,
          2257,
          2258,
          2259,
          2260,
          2261,
          2262,
          2263,
          2264,
          2265,
          2266,
          2267,
          2268,
          2269,
          2270,
          2271,
          2272,
          2273,
          2274,
          2275,
          2276,
          2277,
          2278,
          2279,
          2280,
          2281,
          2282,
          2283,
          2284,
          2285,
          2286,
          2287,
          2288,
          2289,
          2290,
          2291,
          2292,
          2293,
          2294,
          2295,
          2296,
          2297,
          2298,
          2299,
          2300,
          2301,
          2302,
          2303,
          2304,
          2305,
          2306,
          2307,
          2308,
          2309,
          2310,
          2311,
          2312,
          2313,
          2314,
          2315,
          2316,
          2317,
          2318,
          2319,
          2320,
          2321,
          2322,
          2323,
          2324,
          2325,
          2326,
          2327,
          2328,
          2329,
          2330,
          2331,
          2332,
          2333,
          2334,
          2335,
          2336,
          2337,
          2338,
          2339,
          2340,
          2341,
          2342,
          2343,
          2344,
          2345,
          2346,
          2347,
          2348,
          2349,
          2350,
          2351,
          2352,
          2353,
          2354,
          2355,
          2356,
          2357,
          2358,
          2359,
          2360,
          2361,
          2362,
          2363,
          2364,
          2365,
          2366,
          2367,
          2368,
          2369,
          2370,
          2371,
          2372,
          2373,
          2374,
          2375,
          2376,
          2377,
          2378,
          2379,
          2380,
          2381,
          2382,
          2383,
          2384,
          2385,
          2386,
          2387,
          2388,
          2389,
          2390,
          2391,
          2392,
          2393,
          2394,
          2395,
          2396,
          2397,
          2398,
          2399,
          2400,
          2401,
          2402,
          2403,
          2404,
          2405,
          2406,
          2407,
          2408,
          2409,
          2410,
          2411
         ],
         "xaxis": "x",
         "y": [
          1,
          1,
          1,
          1,
          1,
          1,
          2,
          1,
          2,
          1,
          2,
          1,
          2,
          1,
          1,
          1,
          1,
          5,
          1,
          1,
          1,
          2,
          1,
          1,
          1,
          2,
          1,
          1,
          2,
          1,
          1,
          2,
          2,
          2,
          1,
          2,
          1,
          1,
          2,
          2,
          1,
          1,
          2,
          1,
          2,
          2,
          1,
          2,
          2,
          2,
          1,
          1,
          1,
          1,
          1,
          2,
          2,
          1,
          2,
          1,
          1,
          1,
          1,
          1,
          1,
          1,
          1,
          2,
          2,
          2,
          2,
          1,
          1,
          2,
          1,
          2,
          1,
          2,
          2,
          1,
          2,
          1,
          2,
          2,
          1,
          2,
          1,
          2,
          2,
          1,
          1,
          1,
          1,
          1,
          2,
          1,
          2,
          2,
          1,
          2,
          1,
          2,
          1,
          1,
          1,
          1,
          2,
          1,
          2,
          1,
          3,
          1,
          1,
          1,
          1,
          2,
          1,
          1,
          1,
          1,
          1,
          1,
          1,
          1,
          1,
          1,
          1,
          1,
          3,
          1,
          1,
          2,
          1,
          1,
          1,
          2,
          2,
          1,
          1,
          1,
          1,
          1,
          2,
          1,
          2,
          1,
          1,
          1,
          1,
          2,
          1,
          2,
          1,
          2,
          1,
          2,
          1,
          1,
          1,
          1,
          1,
          1,
          1,
          1,
          1,
          1,
          1,
          1,
          1,
          1,
          1,
          2,
          1,
          1,
          1,
          2,
          1,
          2,
          1,
          2,
          1,
          1,
          2,
          1,
          1,
          2,
          1,
          1,
          1,
          2,
          1,
          2,
          2,
          1,
          1,
          1,
          1,
          2,
          1,
          1,
          1,
          1,
          1,
          1,
          2,
          2,
          2,
          2,
          1,
          1,
          1,
          2,
          2,
          1,
          2,
          2,
          2,
          1,
          2,
          1,
          1,
          1,
          1,
          1,
          1,
          2,
          1,
          1,
          1,
          1,
          1,
          1,
          1,
          1,
          1,
          2,
          1,
          1,
          1,
          1,
          2,
          1,
          1,
          2,
          1,
          2,
          1,
          2,
          1,
          1,
          2,
          1,
          2,
          2,
          1,
          1,
          2,
          1,
          1,
          2,
          1,
          1,
          2,
          1,
          2,
          1,
          1,
          1,
          1,
          2,
          1,
          1,
          1,
          1,
          2,
          2,
          1,
          1,
          2,
          2,
          2,
          1,
          1,
          1,
          1,
          1,
          2,
          2,
          1,
          1,
          2,
          1,
          1,
          1,
          1,
          2,
          1,
          2,
          1,
          2,
          1,
          2,
          1,
          2,
          2,
          1,
          1,
          1,
          1,
          1,
          1,
          1,
          1,
          1,
          1,
          1,
          2,
          2,
          2,
          2,
          1,
          1,
          2,
          1,
          2,
          1,
          1,
          2,
          1,
          1,
          1,
          1,
          1,
          2,
          2,
          1,
          2,
          2,
          1,
          1,
          1,
          1,
          2,
          1,
          1,
          1,
          2,
          2,
          2,
          1,
          2,
          1,
          2,
          2,
          2,
          1,
          1,
          1,
          1,
          1,
          2,
          1,
          1,
          2,
          1,
          2,
          2,
          1,
          2,
          2,
          1,
          1,
          2,
          2,
          1,
          1,
          2,
          1,
          1,
          2,
          1,
          2,
          2,
          1,
          1,
          1,
          1,
          2,
          1,
          2,
          1,
          2,
          1,
          2,
          2,
          2,
          1,
          1,
          2,
          2,
          1,
          1,
          1,
          1,
          1,
          2,
          2,
          2,
          1,
          1,
          1,
          1,
          1,
          1,
          1,
          1,
          2,
          1,
          1,
          1,
          2,
          2,
          2,
          2,
          2,
          2,
          1,
          1,
          1,
          1,
          2,
          2,
          1,
          2,
          1,
          1,
          1,
          1,
          2,
          1,
          1,
          1,
          2,
          2,
          1,
          1,
          1,
          1,
          1,
          1,
          1,
          1,
          1,
          1,
          1,
          2,
          1,
          1,
          1,
          1,
          2,
          1,
          2,
          2,
          2,
          1,
          2,
          2,
          1,
          1,
          2,
          1,
          2,
          2,
          2,
          2,
          1,
          1,
          1,
          2,
          1,
          2,
          1,
          1,
          1,
          1,
          2,
          1,
          1,
          1,
          1,
          2,
          1,
          2,
          2,
          1,
          2,
          1,
          1,
          1,
          2,
          1,
          1,
          1,
          2,
          2,
          1,
          1,
          1,
          1,
          1,
          2,
          1,
          1,
          2,
          1,
          1,
          2,
          2,
          1,
          2,
          1,
          2,
          1,
          1,
          2,
          1,
          2,
          2,
          1,
          1,
          2,
          1,
          1,
          1,
          2,
          2,
          1,
          2,
          2,
          1,
          1,
          1,
          2,
          1,
          1,
          2,
          1,
          2,
          2,
          2,
          2,
          1,
          1,
          2,
          1,
          1,
          1,
          1,
          2,
          2,
          1,
          1,
          1,
          1,
          2,
          1,
          1,
          2,
          2,
          1,
          1,
          1,
          1,
          2,
          1,
          1,
          1,
          1,
          1,
          2,
          1,
          1,
          2,
          2,
          1,
          1,
          2,
          1,
          2,
          1,
          2,
          1,
          1,
          1,
          2,
          1,
          1,
          1,
          1,
          1,
          1,
          1,
          2,
          1,
          1,
          1,
          2,
          1,
          2,
          1,
          1,
          1,
          1,
          3,
          1,
          1,
          1,
          1,
          2,
          1,
          1,
          1,
          2,
          2,
          1,
          1,
          1,
          1,
          1,
          1,
          2,
          1,
          1,
          1,
          2,
          2,
          1,
          2,
          1,
          1,
          2,
          2,
          2,
          2,
          1,
          2,
          2,
          2,
          1,
          1,
          1,
          2,
          1,
          1,
          1,
          1,
          1,
          2,
          1,
          1,
          1,
          2,
          2,
          1,
          1,
          2,
          2,
          1,
          1,
          1,
          1,
          2,
          1,
          2,
          1,
          1,
          1,
          3,
          1,
          1,
          1,
          2,
          2,
          1,
          1,
          1,
          4,
          1,
          1,
          1,
          1,
          2,
          1,
          1,
          1,
          2,
          1,
          1,
          1,
          2,
          1,
          2,
          2,
          2,
          1,
          1,
          1,
          1,
          1,
          2,
          2,
          1,
          2,
          2,
          2,
          1,
          1,
          2,
          1,
          2,
          2,
          1,
          1,
          1,
          1,
          1,
          1,
          1,
          35,
          1,
          2,
          1,
          1,
          1,
          2,
          1,
          2,
          1,
          1,
          2,
          2,
          2,
          1,
          2,
          1,
          1,
          1,
          2,
          1,
          1,
          2,
          1,
          2,
          1,
          2,
          1,
          1,
          2,
          1,
          2,
          1,
          1,
          2,
          1,
          1,
          1,
          1,
          1,
          1,
          1,
          1,
          1,
          1,
          1,
          2,
          2,
          2,
          2,
          1,
          1,
          1,
          2,
          2,
          1,
          2,
          2,
          2,
          3,
          1,
          1,
          2,
          2,
          2,
          1,
          2,
          1,
          1,
          1,
          1,
          2,
          1,
          2,
          1,
          2,
          1,
          1,
          1,
          1,
          1,
          1,
          2,
          1,
          1,
          2,
          2,
          1,
          1,
          1,
          2,
          1,
          1,
          2,
          1,
          1,
          1,
          2,
          1,
          1,
          1,
          2,
          2,
          2,
          2,
          1,
          2,
          1,
          1,
          2,
          2,
          2,
          1,
          1,
          1,
          2,
          2,
          1,
          1,
          1,
          1,
          1,
          1,
          1,
          1,
          1,
          1,
          1,
          1,
          1,
          1,
          1,
          3,
          1,
          1,
          1,
          2,
          1,
          2,
          2,
          2,
          2,
          2,
          1,
          1,
          1,
          2,
          1,
          1,
          2,
          1,
          1,
          2,
          2,
          2,
          2,
          2,
          1,
          1,
          1,
          1,
          1,
          2,
          2,
          1,
          1,
          2,
          2,
          1,
          2,
          2,
          1,
          1,
          1,
          2,
          2,
          2,
          1,
          1,
          1,
          1,
          3,
          1,
          2,
          1,
          1,
          1,
          1,
          2,
          2,
          3,
          1,
          2,
          1,
          2,
          1,
          1,
          1,
          1,
          1,
          1,
          1,
          1,
          1,
          2,
          1,
          1,
          1,
          2,
          1,
          1,
          1,
          1,
          1,
          1,
          2,
          1,
          2,
          2,
          1,
          2,
          1,
          2,
          2,
          2,
          1,
          1,
          2,
          1,
          2,
          1,
          2,
          1,
          2,
          2,
          1,
          1,
          2,
          1,
          1,
          1,
          1,
          1,
          1,
          1,
          1,
          1,
          1,
          2,
          2,
          1,
          1,
          1,
          1,
          1,
          2,
          3,
          1,
          1,
          1,
          1,
          3,
          2,
          2,
          1,
          1,
          2,
          1,
          1,
          2,
          1,
          1,
          2,
          1,
          2,
          1,
          1,
          1,
          2,
          2,
          1,
          2,
          2,
          1,
          2,
          1,
          1,
          2,
          1,
          1,
          1,
          2,
          1,
          2,
          1,
          1,
          2,
          1,
          2,
          2,
          1,
          1,
          1,
          2,
          2,
          1,
          1,
          2,
          1,
          1,
          1,
          1,
          1,
          2,
          2,
          2,
          1,
          1,
          2,
          1,
          2,
          2,
          1,
          1,
          1,
          2,
          1,
          1,
          2,
          2,
          2,
          1,
          1,
          1,
          2,
          2,
          1,
          1,
          1,
          1,
          2,
          2,
          1,
          2,
          1,
          1,
          2,
          2,
          1,
          1,
          17,
          1,
          1,
          1,
          1,
          1,
          2,
          1,
          2,
          1,
          2,
          2,
          1,
          1,
          2,
          2,
          1,
          1,
          1,
          1,
          1,
          1,
          1,
          2,
          2,
          2,
          2,
          2,
          1,
          2,
          1,
          2,
          1,
          1,
          1,
          1,
          1,
          1,
          1,
          1,
          1,
          1,
          1,
          1,
          2,
          1,
          1,
          1,
          1,
          2,
          2,
          1,
          1,
          1,
          2,
          1,
          1,
          2,
          2,
          2,
          1,
          2,
          2,
          1,
          2,
          2,
          2,
          1,
          2,
          2,
          1,
          1,
          2,
          1,
          1,
          1,
          1,
          1,
          1,
          1,
          1,
          1,
          3,
          1,
          1,
          1,
          1,
          3,
          1,
          1,
          1,
          1,
          1,
          2,
          1,
          1,
          2,
          2,
          1,
          1,
          1,
          1,
          1,
          1,
          1,
          1,
          2,
          1,
          1,
          1,
          1,
          2,
          2,
          1,
          2,
          2,
          1,
          1,
          1,
          1,
          1,
          2,
          2,
          1,
          2,
          2,
          1,
          1,
          1,
          1,
          1,
          1,
          1,
          1,
          1,
          1,
          1,
          1,
          2,
          1,
          1,
          2,
          1,
          2,
          2,
          1,
          2,
          1,
          2,
          1,
          2,
          1,
          1,
          1,
          2,
          2,
          1,
          1,
          1,
          2,
          2,
          2,
          2,
          2,
          2,
          2,
          2,
          1,
          1,
          2,
          2,
          2,
          2,
          1,
          1,
          1,
          1,
          2,
          1,
          2,
          2,
          1,
          2,
          1,
          2,
          2,
          1,
          1,
          2,
          1,
          1,
          1,
          1,
          1,
          1,
          2,
          2,
          1,
          1,
          2,
          1,
          1,
          1,
          1,
          1,
          1,
          1,
          1,
          2,
          1,
          1,
          1,
          1,
          1,
          1,
          1,
          2,
          2,
          1,
          1,
          1,
          2,
          2,
          1,
          1,
          1,
          1,
          2,
          1,
          2,
          1,
          1,
          1,
          1,
          1,
          2,
          1,
          1,
          1,
          1,
          2,
          1,
          1,
          1,
          2,
          1,
          2,
          2,
          1,
          1,
          1,
          1,
          1,
          1,
          1,
          1,
          1,
          1,
          1,
          1,
          1,
          2,
          2,
          1,
          1,
          2,
          1,
          1,
          1,
          1,
          2,
          1,
          2,
          1,
          1,
          2,
          1,
          1,
          2,
          2,
          1,
          1,
          1,
          1,
          2,
          2,
          2,
          1,
          2,
          1,
          1,
          1,
          2,
          1,
          1,
          1,
          2,
          2,
          1,
          1,
          2,
          1,
          1,
          1,
          1,
          1,
          2,
          1,
          1,
          1,
          2,
          2,
          1,
          2,
          1,
          1,
          1,
          1,
          1,
          2,
          2,
          1,
          1,
          2,
          2,
          1,
          2,
          1,
          1,
          2,
          2,
          2,
          2,
          1,
          2,
          1,
          1,
          2,
          1,
          1,
          2,
          1,
          1,
          1,
          1,
          1,
          2,
          1,
          1,
          1,
          1,
          1,
          1,
          1,
          1,
          2,
          2,
          2,
          2,
          2,
          1,
          1,
          1,
          1,
          1,
          1,
          2,
          1,
          2,
          1,
          2,
          1,
          1,
          2,
          1,
          1,
          2,
          2,
          1,
          2,
          1,
          1,
          1,
          1,
          1,
          2,
          1,
          1,
          1,
          1,
          1,
          1,
          1,
          1,
          1,
          1,
          1,
          1,
          1,
          1,
          2,
          2,
          1,
          2,
          2,
          1,
          1,
          1,
          1,
          1,
          1,
          1,
          1,
          2,
          2,
          1,
          1,
          2,
          1,
          2,
          1,
          1,
          1,
          1,
          1,
          1,
          2,
          2,
          2,
          1,
          1,
          1,
          2,
          1,
          1,
          2,
          1,
          1,
          1,
          1,
          2,
          1,
          1,
          2,
          2,
          1,
          1,
          1,
          2,
          1,
          1,
          1,
          1,
          1,
          2,
          1,
          1,
          1,
          2,
          1,
          1,
          1,
          1,
          2,
          2,
          1,
          1,
          1,
          1,
          2,
          1,
          2,
          2,
          2,
          1,
          3,
          1,
          1,
          2,
          1,
          1,
          1,
          2,
          1,
          1,
          1,
          1,
          1,
          1,
          2,
          1,
          1,
          1,
          2,
          2,
          2,
          1,
          2,
          2,
          1,
          1,
          1,
          2,
          2,
          1,
          2,
          2,
          2,
          1,
          1,
          1,
          1,
          1,
          1,
          2,
          2,
          1,
          1,
          1,
          2,
          2,
          2,
          1,
          2,
          1,
          2,
          1,
          2,
          1,
          1,
          2,
          1,
          1,
          1,
          1,
          1,
          1,
          1,
          1,
          1,
          2,
          1,
          1,
          1,
          1,
          1,
          2,
          1,
          1,
          1,
          1,
          2,
          1,
          2,
          1,
          2,
          2,
          1,
          1,
          2,
          1,
          1,
          2,
          1,
          1,
          2,
          2,
          2,
          1,
          2,
          1,
          2,
          1,
          1,
          1,
          1,
          1,
          2,
          2,
          2,
          1,
          2,
          1,
          2,
          1,
          1,
          1,
          2,
          2,
          2,
          1,
          2,
          1,
          2,
          2,
          1,
          1,
          1,
          1,
          2,
          1,
          1,
          2,
          2,
          1,
          2,
          1,
          1,
          1,
          1,
          1,
          1,
          2,
          1,
          1,
          1,
          1,
          2,
          1,
          2,
          1,
          2,
          2,
          1,
          1,
          2,
          1,
          2,
          2,
          1,
          1,
          1,
          1,
          2,
          1,
          2,
          1,
          2,
          2,
          7,
          1,
          2,
          1,
          1,
          1,
          2,
          2,
          1,
          1,
          1,
          2,
          1,
          1,
          2,
          2,
          1,
          2,
          1,
          1,
          1,
          1,
          1,
          1,
          2,
          2,
          1,
          2,
          1,
          1,
          1,
          1,
          1,
          2,
          2,
          1,
          2,
          1,
          1,
          1,
          1,
          1,
          1,
          2,
          2,
          1,
          1,
          1,
          1,
          2,
          1,
          1,
          2,
          1,
          1,
          1,
          2,
          1,
          1,
          1,
          1,
          1,
          1,
          2,
          1,
          1,
          2,
          1,
          1,
          1,
          1,
          4,
          2,
          2,
          1,
          2,
          1,
          1,
          1,
          1,
          2,
          2,
          1,
          1,
          1,
          1,
          1,
          1,
          1,
          1,
          1,
          1,
          1,
          2,
          1,
          1,
          1,
          1,
          1,
          1,
          2,
          2,
          2,
          1,
          1,
          2,
          1,
          1,
          1,
          2,
          2,
          2,
          1,
          1,
          1,
          2,
          1,
          1,
          1,
          1,
          2,
          2,
          2,
          1,
          1,
          2,
          1,
          1,
          1,
          1,
          1,
          1,
          1,
          1,
          1,
          2,
          2,
          1,
          2,
          2,
          1,
          1,
          1,
          1,
          2,
          1,
          1,
          2,
          2,
          1,
          1,
          1,
          1,
          2,
          1,
          1,
          1,
          2,
          2,
          2,
          1,
          2,
          1,
          1,
          2,
          1,
          126,
          1,
          1,
          1,
          2,
          2,
          2,
          1,
          2,
          1,
          2,
          1,
          2,
          2,
          1,
          2,
          1,
          2,
          1,
          2,
          1,
          1,
          1,
          1,
          1,
          1,
          1,
          1,
          2,
          1,
          1,
          1,
          2,
          1,
          2,
          1,
          1,
          1,
          1,
          2,
          1,
          2,
          1,
          1,
          2,
          1,
          2,
          1,
          2,
          2,
          1,
          1,
          1,
          2,
          2,
          2,
          2,
          2,
          2,
          2,
          1,
          2,
          1,
          3,
          2,
          1,
          1,
          2,
          1,
          2,
          1,
          1,
          1,
          1,
          1,
          1,
          2,
          2,
          1,
          1,
          3,
          1,
          1,
          1,
          2,
          1,
          1,
          1,
          2,
          1,
          2,
          1,
          1,
          1,
          1,
          1,
          1,
          1,
          1,
          2,
          2,
          1,
          1,
          1,
          1,
          1,
          1,
          2,
          1,
          1,
          1,
          1,
          1,
          1,
          1,
          1,
          1,
          1,
          1,
          1,
          1,
          2,
          1,
          1,
          2,
          2,
          1,
          1,
          2,
          1,
          2,
          2,
          1,
          1,
          2,
          1,
          1,
          2,
          1,
          1,
          1,
          1,
          1,
          1,
          2,
          1,
          2,
          2,
          1,
          2,
          1,
          2,
          1,
          1,
          1,
          2,
          1,
          2,
          1,
          1,
          2,
          1,
          2,
          1,
          2,
          2,
          2,
          1,
          1,
          2,
          2,
          1,
          1,
          2,
          2,
          2,
          1,
          1,
          1,
          1,
          2,
          2,
          2,
          1,
          1,
          1,
          1,
          2,
          1,
          2,
          2,
          1,
          1,
          1,
          1,
          1,
          1,
          2,
          2,
          1,
          2,
          1,
          1,
          2,
          1,
          2,
          2,
          1,
          1,
          1,
          2,
          2,
          2,
          2,
          1,
          1,
          1,
          2,
          1,
          3,
          2,
          1,
          1,
          1,
          1,
          4,
          1,
          1,
          1,
          2,
          1,
          2,
          2,
          1,
          2,
          2,
          2,
          1,
          2,
          1,
          1,
          1,
          2,
          2,
          2,
          2,
          2,
          1,
          2,
          1,
          1,
          1,
          2,
          1,
          1,
          1,
          1,
          1,
          1,
          1,
          1,
          1,
          1,
          1,
          1,
          1,
          1,
          1,
          2,
          2,
          1,
          2,
          1,
          1,
          1,
          2,
          1,
          1,
          2,
          1,
          2,
          1,
          1,
          2,
          2,
          2,
          3,
          1,
          1,
          2,
          1,
          1,
          1,
          2,
          2,
          1,
          1,
          2,
          1,
          2,
          1,
          1,
          1,
          2,
          1,
          2,
          1,
          2,
          1,
          1,
          1,
          1,
          3,
          1,
          2,
          2,
          1,
          2,
          2,
          2,
          2,
          1,
          1,
          2,
          2,
          2,
          2,
          1,
          1,
          2,
          2,
          1,
          1,
          2,
          1,
          2,
          1,
          2,
          2,
          2,
          2,
          1,
          1,
          1,
          1,
          2,
          1,
          1,
          1,
          1,
          2,
          1,
          1,
          1,
          1,
          2,
          1,
          2,
          2,
          1,
          1,
          1,
          2,
          2,
          2,
          1,
          2,
          1,
          2,
          1,
          1,
          1,
          1,
          1,
          1,
          1,
          1,
          2,
          1,
          2,
          1,
          1,
          1,
          1,
          3,
          1,
          1,
          2,
          2,
          1,
          2,
          2,
          1,
          1,
          2,
          1,
          2,
          1,
          2,
          2,
          1,
          2,
          1,
          1,
          2,
          1,
          2,
          2,
          1,
          1,
          2,
          2,
          1,
          2,
          2,
          1,
          1,
          1,
          1,
          1,
          2,
          2,
          1,
          1,
          1,
          1,
          1,
          1,
          1,
          1,
          1,
          1,
          2,
          1,
          1,
          1,
          1,
          2,
          1,
          1,
          1,
          1,
          1,
          1,
          2,
          2,
          2,
          1,
          1,
          2,
          1,
          1,
          1,
          1,
          1,
          1,
          1,
          1,
          1,
          2,
          1,
          2,
          2,
          2,
          1,
          2,
          2,
          1,
          1,
          1,
          1,
          2,
          2,
          1,
          1,
          2,
          1,
          1,
          2,
          2,
          1,
          1,
          2,
          2,
          2,
          1,
          1,
          2,
          2,
          1,
          1,
          2,
          1,
          2,
          1,
          2,
          2,
          2,
          1,
          1,
          1,
          2,
          1,
          1,
          2,
          1,
          1,
          1,
          2,
          2,
          2,
          1,
          2,
          2,
          1,
          1,
          1,
          1,
          1,
          2,
          1,
          2,
          3,
          2,
          1,
          1,
          1,
          1
         ],
         "yaxis": "y"
        },
        {
         "alignmentgroup": "True",
         "boxpoints": "all",
         "fillcolor": "rgba(255,255,255,0)",
         "hoveron": "points",
         "hovertemplate": "число заказов=%{y}<extra></extra>",
         "jitter": 0,
         "legendgroup": "",
         "line": {
          "color": "rgba(255,255,255,0)"
         },
         "marker": {
          "color": "#636efa",
          "symbol": "line-ew-open"
         },
         "name": "",
         "offsetgroup": "",
         "showlegend": false,
         "type": "box",
         "xaxis": "x2",
         "y": [
          1,
          1,
          1,
          1,
          1,
          1,
          2,
          1,
          2,
          1,
          2,
          1,
          2,
          1,
          1,
          1,
          1,
          5,
          1,
          1,
          1,
          2,
          1,
          1,
          1,
          2,
          1,
          1,
          2,
          1,
          1,
          2,
          2,
          2,
          1,
          2,
          1,
          1,
          2,
          2,
          1,
          1,
          2,
          1,
          2,
          2,
          1,
          2,
          2,
          2,
          1,
          1,
          1,
          1,
          1,
          2,
          2,
          1,
          2,
          1,
          1,
          1,
          1,
          1,
          1,
          1,
          1,
          2,
          2,
          2,
          2,
          1,
          1,
          2,
          1,
          2,
          1,
          2,
          2,
          1,
          2,
          1,
          2,
          2,
          1,
          2,
          1,
          2,
          2,
          1,
          1,
          1,
          1,
          1,
          2,
          1,
          2,
          2,
          1,
          2,
          1,
          2,
          1,
          1,
          1,
          1,
          2,
          1,
          2,
          1,
          3,
          1,
          1,
          1,
          1,
          2,
          1,
          1,
          1,
          1,
          1,
          1,
          1,
          1,
          1,
          1,
          1,
          1,
          3,
          1,
          1,
          2,
          1,
          1,
          1,
          2,
          2,
          1,
          1,
          1,
          1,
          1,
          2,
          1,
          2,
          1,
          1,
          1,
          1,
          2,
          1,
          2,
          1,
          2,
          1,
          2,
          1,
          1,
          1,
          1,
          1,
          1,
          1,
          1,
          1,
          1,
          1,
          1,
          1,
          1,
          1,
          2,
          1,
          1,
          1,
          2,
          1,
          2,
          1,
          2,
          1,
          1,
          2,
          1,
          1,
          2,
          1,
          1,
          1,
          2,
          1,
          2,
          2,
          1,
          1,
          1,
          1,
          2,
          1,
          1,
          1,
          1,
          1,
          1,
          2,
          2,
          2,
          2,
          1,
          1,
          1,
          2,
          2,
          1,
          2,
          2,
          2,
          1,
          2,
          1,
          1,
          1,
          1,
          1,
          1,
          2,
          1,
          1,
          1,
          1,
          1,
          1,
          1,
          1,
          1,
          2,
          1,
          1,
          1,
          1,
          2,
          1,
          1,
          2,
          1,
          2,
          1,
          2,
          1,
          1,
          2,
          1,
          2,
          2,
          1,
          1,
          2,
          1,
          1,
          2,
          1,
          1,
          2,
          1,
          2,
          1,
          1,
          1,
          1,
          2,
          1,
          1,
          1,
          1,
          2,
          2,
          1,
          1,
          2,
          2,
          2,
          1,
          1,
          1,
          1,
          1,
          2,
          2,
          1,
          1,
          2,
          1,
          1,
          1,
          1,
          2,
          1,
          2,
          1,
          2,
          1,
          2,
          1,
          2,
          2,
          1,
          1,
          1,
          1,
          1,
          1,
          1,
          1,
          1,
          1,
          1,
          2,
          2,
          2,
          2,
          1,
          1,
          2,
          1,
          2,
          1,
          1,
          2,
          1,
          1,
          1,
          1,
          1,
          2,
          2,
          1,
          2,
          2,
          1,
          1,
          1,
          1,
          2,
          1,
          1,
          1,
          2,
          2,
          2,
          1,
          2,
          1,
          2,
          2,
          2,
          1,
          1,
          1,
          1,
          1,
          2,
          1,
          1,
          2,
          1,
          2,
          2,
          1,
          2,
          2,
          1,
          1,
          2,
          2,
          1,
          1,
          2,
          1,
          1,
          2,
          1,
          2,
          2,
          1,
          1,
          1,
          1,
          2,
          1,
          2,
          1,
          2,
          1,
          2,
          2,
          2,
          1,
          1,
          2,
          2,
          1,
          1,
          1,
          1,
          1,
          2,
          2,
          2,
          1,
          1,
          1,
          1,
          1,
          1,
          1,
          1,
          2,
          1,
          1,
          1,
          2,
          2,
          2,
          2,
          2,
          2,
          1,
          1,
          1,
          1,
          2,
          2,
          1,
          2,
          1,
          1,
          1,
          1,
          2,
          1,
          1,
          1,
          2,
          2,
          1,
          1,
          1,
          1,
          1,
          1,
          1,
          1,
          1,
          1,
          1,
          2,
          1,
          1,
          1,
          1,
          2,
          1,
          2,
          2,
          2,
          1,
          2,
          2,
          1,
          1,
          2,
          1,
          2,
          2,
          2,
          2,
          1,
          1,
          1,
          2,
          1,
          2,
          1,
          1,
          1,
          1,
          2,
          1,
          1,
          1,
          1,
          2,
          1,
          2,
          2,
          1,
          2,
          1,
          1,
          1,
          2,
          1,
          1,
          1,
          2,
          2,
          1,
          1,
          1,
          1,
          1,
          2,
          1,
          1,
          2,
          1,
          1,
          2,
          2,
          1,
          2,
          1,
          2,
          1,
          1,
          2,
          1,
          2,
          2,
          1,
          1,
          2,
          1,
          1,
          1,
          2,
          2,
          1,
          2,
          2,
          1,
          1,
          1,
          2,
          1,
          1,
          2,
          1,
          2,
          2,
          2,
          2,
          1,
          1,
          2,
          1,
          1,
          1,
          1,
          2,
          2,
          1,
          1,
          1,
          1,
          2,
          1,
          1,
          2,
          2,
          1,
          1,
          1,
          1,
          2,
          1,
          1,
          1,
          1,
          1,
          2,
          1,
          1,
          2,
          2,
          1,
          1,
          2,
          1,
          2,
          1,
          2,
          1,
          1,
          1,
          2,
          1,
          1,
          1,
          1,
          1,
          1,
          1,
          2,
          1,
          1,
          1,
          2,
          1,
          2,
          1,
          1,
          1,
          1,
          3,
          1,
          1,
          1,
          1,
          2,
          1,
          1,
          1,
          2,
          2,
          1,
          1,
          1,
          1,
          1,
          1,
          2,
          1,
          1,
          1,
          2,
          2,
          1,
          2,
          1,
          1,
          2,
          2,
          2,
          2,
          1,
          2,
          2,
          2,
          1,
          1,
          1,
          2,
          1,
          1,
          1,
          1,
          1,
          2,
          1,
          1,
          1,
          2,
          2,
          1,
          1,
          2,
          2,
          1,
          1,
          1,
          1,
          2,
          1,
          2,
          1,
          1,
          1,
          3,
          1,
          1,
          1,
          2,
          2,
          1,
          1,
          1,
          4,
          1,
          1,
          1,
          1,
          2,
          1,
          1,
          1,
          2,
          1,
          1,
          1,
          2,
          1,
          2,
          2,
          2,
          1,
          1,
          1,
          1,
          1,
          2,
          2,
          1,
          2,
          2,
          2,
          1,
          1,
          2,
          1,
          2,
          2,
          1,
          1,
          1,
          1,
          1,
          1,
          1,
          35,
          1,
          2,
          1,
          1,
          1,
          2,
          1,
          2,
          1,
          1,
          2,
          2,
          2,
          1,
          2,
          1,
          1,
          1,
          2,
          1,
          1,
          2,
          1,
          2,
          1,
          2,
          1,
          1,
          2,
          1,
          2,
          1,
          1,
          2,
          1,
          1,
          1,
          1,
          1,
          1,
          1,
          1,
          1,
          1,
          1,
          2,
          2,
          2,
          2,
          1,
          1,
          1,
          2,
          2,
          1,
          2,
          2,
          2,
          3,
          1,
          1,
          2,
          2,
          2,
          1,
          2,
          1,
          1,
          1,
          1,
          2,
          1,
          2,
          1,
          2,
          1,
          1,
          1,
          1,
          1,
          1,
          2,
          1,
          1,
          2,
          2,
          1,
          1,
          1,
          2,
          1,
          1,
          2,
          1,
          1,
          1,
          2,
          1,
          1,
          1,
          2,
          2,
          2,
          2,
          1,
          2,
          1,
          1,
          2,
          2,
          2,
          1,
          1,
          1,
          2,
          2,
          1,
          1,
          1,
          1,
          1,
          1,
          1,
          1,
          1,
          1,
          1,
          1,
          1,
          1,
          1,
          3,
          1,
          1,
          1,
          2,
          1,
          2,
          2,
          2,
          2,
          2,
          1,
          1,
          1,
          2,
          1,
          1,
          2,
          1,
          1,
          2,
          2,
          2,
          2,
          2,
          1,
          1,
          1,
          1,
          1,
          2,
          2,
          1,
          1,
          2,
          2,
          1,
          2,
          2,
          1,
          1,
          1,
          2,
          2,
          2,
          1,
          1,
          1,
          1,
          3,
          1,
          2,
          1,
          1,
          1,
          1,
          2,
          2,
          3,
          1,
          2,
          1,
          2,
          1,
          1,
          1,
          1,
          1,
          1,
          1,
          1,
          1,
          2,
          1,
          1,
          1,
          2,
          1,
          1,
          1,
          1,
          1,
          1,
          2,
          1,
          2,
          2,
          1,
          2,
          1,
          2,
          2,
          2,
          1,
          1,
          2,
          1,
          2,
          1,
          2,
          1,
          2,
          2,
          1,
          1,
          2,
          1,
          1,
          1,
          1,
          1,
          1,
          1,
          1,
          1,
          1,
          2,
          2,
          1,
          1,
          1,
          1,
          1,
          2,
          3,
          1,
          1,
          1,
          1,
          3,
          2,
          2,
          1,
          1,
          2,
          1,
          1,
          2,
          1,
          1,
          2,
          1,
          2,
          1,
          1,
          1,
          2,
          2,
          1,
          2,
          2,
          1,
          2,
          1,
          1,
          2,
          1,
          1,
          1,
          2,
          1,
          2,
          1,
          1,
          2,
          1,
          2,
          2,
          1,
          1,
          1,
          2,
          2,
          1,
          1,
          2,
          1,
          1,
          1,
          1,
          1,
          2,
          2,
          2,
          1,
          1,
          2,
          1,
          2,
          2,
          1,
          1,
          1,
          2,
          1,
          1,
          2,
          2,
          2,
          1,
          1,
          1,
          2,
          2,
          1,
          1,
          1,
          1,
          2,
          2,
          1,
          2,
          1,
          1,
          2,
          2,
          1,
          1,
          17,
          1,
          1,
          1,
          1,
          1,
          2,
          1,
          2,
          1,
          2,
          2,
          1,
          1,
          2,
          2,
          1,
          1,
          1,
          1,
          1,
          1,
          1,
          2,
          2,
          2,
          2,
          2,
          1,
          2,
          1,
          2,
          1,
          1,
          1,
          1,
          1,
          1,
          1,
          1,
          1,
          1,
          1,
          1,
          2,
          1,
          1,
          1,
          1,
          2,
          2,
          1,
          1,
          1,
          2,
          1,
          1,
          2,
          2,
          2,
          1,
          2,
          2,
          1,
          2,
          2,
          2,
          1,
          2,
          2,
          1,
          1,
          2,
          1,
          1,
          1,
          1,
          1,
          1,
          1,
          1,
          1,
          3,
          1,
          1,
          1,
          1,
          3,
          1,
          1,
          1,
          1,
          1,
          2,
          1,
          1,
          2,
          2,
          1,
          1,
          1,
          1,
          1,
          1,
          1,
          1,
          2,
          1,
          1,
          1,
          1,
          2,
          2,
          1,
          2,
          2,
          1,
          1,
          1,
          1,
          1,
          2,
          2,
          1,
          2,
          2,
          1,
          1,
          1,
          1,
          1,
          1,
          1,
          1,
          1,
          1,
          1,
          1,
          2,
          1,
          1,
          2,
          1,
          2,
          2,
          1,
          2,
          1,
          2,
          1,
          2,
          1,
          1,
          1,
          2,
          2,
          1,
          1,
          1,
          2,
          2,
          2,
          2,
          2,
          2,
          2,
          2,
          1,
          1,
          2,
          2,
          2,
          2,
          1,
          1,
          1,
          1,
          2,
          1,
          2,
          2,
          1,
          2,
          1,
          2,
          2,
          1,
          1,
          2,
          1,
          1,
          1,
          1,
          1,
          1,
          2,
          2,
          1,
          1,
          2,
          1,
          1,
          1,
          1,
          1,
          1,
          1,
          1,
          2,
          1,
          1,
          1,
          1,
          1,
          1,
          1,
          2,
          2,
          1,
          1,
          1,
          2,
          2,
          1,
          1,
          1,
          1,
          2,
          1,
          2,
          1,
          1,
          1,
          1,
          1,
          2,
          1,
          1,
          1,
          1,
          2,
          1,
          1,
          1,
          2,
          1,
          2,
          2,
          1,
          1,
          1,
          1,
          1,
          1,
          1,
          1,
          1,
          1,
          1,
          1,
          1,
          2,
          2,
          1,
          1,
          2,
          1,
          1,
          1,
          1,
          2,
          1,
          2,
          1,
          1,
          2,
          1,
          1,
          2,
          2,
          1,
          1,
          1,
          1,
          2,
          2,
          2,
          1,
          2,
          1,
          1,
          1,
          2,
          1,
          1,
          1,
          2,
          2,
          1,
          1,
          2,
          1,
          1,
          1,
          1,
          1,
          2,
          1,
          1,
          1,
          2,
          2,
          1,
          2,
          1,
          1,
          1,
          1,
          1,
          2,
          2,
          1,
          1,
          2,
          2,
          1,
          2,
          1,
          1,
          2,
          2,
          2,
          2,
          1,
          2,
          1,
          1,
          2,
          1,
          1,
          2,
          1,
          1,
          1,
          1,
          1,
          2,
          1,
          1,
          1,
          1,
          1,
          1,
          1,
          1,
          2,
          2,
          2,
          2,
          2,
          1,
          1,
          1,
          1,
          1,
          1,
          2,
          1,
          2,
          1,
          2,
          1,
          1,
          2,
          1,
          1,
          2,
          2,
          1,
          2,
          1,
          1,
          1,
          1,
          1,
          2,
          1,
          1,
          1,
          1,
          1,
          1,
          1,
          1,
          1,
          1,
          1,
          1,
          1,
          1,
          2,
          2,
          1,
          2,
          2,
          1,
          1,
          1,
          1,
          1,
          1,
          1,
          1,
          2,
          2,
          1,
          1,
          2,
          1,
          2,
          1,
          1,
          1,
          1,
          1,
          1,
          2,
          2,
          2,
          1,
          1,
          1,
          2,
          1,
          1,
          2,
          1,
          1,
          1,
          1,
          2,
          1,
          1,
          2,
          2,
          1,
          1,
          1,
          2,
          1,
          1,
          1,
          1,
          1,
          2,
          1,
          1,
          1,
          2,
          1,
          1,
          1,
          1,
          2,
          2,
          1,
          1,
          1,
          1,
          2,
          1,
          2,
          2,
          2,
          1,
          3,
          1,
          1,
          2,
          1,
          1,
          1,
          2,
          1,
          1,
          1,
          1,
          1,
          1,
          2,
          1,
          1,
          1,
          2,
          2,
          2,
          1,
          2,
          2,
          1,
          1,
          1,
          2,
          2,
          1,
          2,
          2,
          2,
          1,
          1,
          1,
          1,
          1,
          1,
          2,
          2,
          1,
          1,
          1,
          2,
          2,
          2,
          1,
          2,
          1,
          2,
          1,
          2,
          1,
          1,
          2,
          1,
          1,
          1,
          1,
          1,
          1,
          1,
          1,
          1,
          2,
          1,
          1,
          1,
          1,
          1,
          2,
          1,
          1,
          1,
          1,
          2,
          1,
          2,
          1,
          2,
          2,
          1,
          1,
          2,
          1,
          1,
          2,
          1,
          1,
          2,
          2,
          2,
          1,
          2,
          1,
          2,
          1,
          1,
          1,
          1,
          1,
          2,
          2,
          2,
          1,
          2,
          1,
          2,
          1,
          1,
          1,
          2,
          2,
          2,
          1,
          2,
          1,
          2,
          2,
          1,
          1,
          1,
          1,
          2,
          1,
          1,
          2,
          2,
          1,
          2,
          1,
          1,
          1,
          1,
          1,
          1,
          2,
          1,
          1,
          1,
          1,
          2,
          1,
          2,
          1,
          2,
          2,
          1,
          1,
          2,
          1,
          2,
          2,
          1,
          1,
          1,
          1,
          2,
          1,
          2,
          1,
          2,
          2,
          7,
          1,
          2,
          1,
          1,
          1,
          2,
          2,
          1,
          1,
          1,
          2,
          1,
          1,
          2,
          2,
          1,
          2,
          1,
          1,
          1,
          1,
          1,
          1,
          2,
          2,
          1,
          2,
          1,
          1,
          1,
          1,
          1,
          2,
          2,
          1,
          2,
          1,
          1,
          1,
          1,
          1,
          1,
          2,
          2,
          1,
          1,
          1,
          1,
          2,
          1,
          1,
          2,
          1,
          1,
          1,
          2,
          1,
          1,
          1,
          1,
          1,
          1,
          2,
          1,
          1,
          2,
          1,
          1,
          1,
          1,
          4,
          2,
          2,
          1,
          2,
          1,
          1,
          1,
          1,
          2,
          2,
          1,
          1,
          1,
          1,
          1,
          1,
          1,
          1,
          1,
          1,
          1,
          2,
          1,
          1,
          1,
          1,
          1,
          1,
          2,
          2,
          2,
          1,
          1,
          2,
          1,
          1,
          1,
          2,
          2,
          2,
          1,
          1,
          1,
          2,
          1,
          1,
          1,
          1,
          2,
          2,
          2,
          1,
          1,
          2,
          1,
          1,
          1,
          1,
          1,
          1,
          1,
          1,
          1,
          2,
          2,
          1,
          2,
          2,
          1,
          1,
          1,
          1,
          2,
          1,
          1,
          2,
          2,
          1,
          1,
          1,
          1,
          2,
          1,
          1,
          1,
          2,
          2,
          2,
          1,
          2,
          1,
          1,
          2,
          1,
          126,
          1,
          1,
          1,
          2,
          2,
          2,
          1,
          2,
          1,
          2,
          1,
          2,
          2,
          1,
          2,
          1,
          2,
          1,
          2,
          1,
          1,
          1,
          1,
          1,
          1,
          1,
          1,
          2,
          1,
          1,
          1,
          2,
          1,
          2,
          1,
          1,
          1,
          1,
          2,
          1,
          2,
          1,
          1,
          2,
          1,
          2,
          1,
          2,
          2,
          1,
          1,
          1,
          2,
          2,
          2,
          2,
          2,
          2,
          2,
          1,
          2,
          1,
          3,
          2,
          1,
          1,
          2,
          1,
          2,
          1,
          1,
          1,
          1,
          1,
          1,
          2,
          2,
          1,
          1,
          3,
          1,
          1,
          1,
          2,
          1,
          1,
          1,
          2,
          1,
          2,
          1,
          1,
          1,
          1,
          1,
          1,
          1,
          1,
          2,
          2,
          1,
          1,
          1,
          1,
          1,
          1,
          2,
          1,
          1,
          1,
          1,
          1,
          1,
          1,
          1,
          1,
          1,
          1,
          1,
          1,
          2,
          1,
          1,
          2,
          2,
          1,
          1,
          2,
          1,
          2,
          2,
          1,
          1,
          2,
          1,
          1,
          2,
          1,
          1,
          1,
          1,
          1,
          1,
          2,
          1,
          2,
          2,
          1,
          2,
          1,
          2,
          1,
          1,
          1,
          2,
          1,
          2,
          1,
          1,
          2,
          1,
          2,
          1,
          2,
          2,
          2,
          1,
          1,
          2,
          2,
          1,
          1,
          2,
          2,
          2,
          1,
          1,
          1,
          1,
          2,
          2,
          2,
          1,
          1,
          1,
          1,
          2,
          1,
          2,
          2,
          1,
          1,
          1,
          1,
          1,
          1,
          2,
          2,
          1,
          2,
          1,
          1,
          2,
          1,
          2,
          2,
          1,
          1,
          1,
          2,
          2,
          2,
          2,
          1,
          1,
          1,
          2,
          1,
          3,
          2,
          1,
          1,
          1,
          1,
          4,
          1,
          1,
          1,
          2,
          1,
          2,
          2,
          1,
          2,
          2,
          2,
          1,
          2,
          1,
          1,
          1,
          2,
          2,
          2,
          2,
          2,
          1,
          2,
          1,
          1,
          1,
          2,
          1,
          1,
          1,
          1,
          1,
          1,
          1,
          1,
          1,
          1,
          1,
          1,
          1,
          1,
          1,
          2,
          2,
          1,
          2,
          1,
          1,
          1,
          2,
          1,
          1,
          2,
          1,
          2,
          1,
          1,
          2,
          2,
          2,
          3,
          1,
          1,
          2,
          1,
          1,
          1,
          2,
          2,
          1,
          1,
          2,
          1,
          2,
          1,
          1,
          1,
          2,
          1,
          2,
          1,
          2,
          1,
          1,
          1,
          1,
          3,
          1,
          2,
          2,
          1,
          2,
          2,
          2,
          2,
          1,
          1,
          2,
          2,
          2,
          2,
          1,
          1,
          2,
          2,
          1,
          1,
          2,
          1,
          2,
          1,
          2,
          2,
          2,
          2,
          1,
          1,
          1,
          1,
          2,
          1,
          1,
          1,
          1,
          2,
          1,
          1,
          1,
          1,
          2,
          1,
          2,
          2,
          1,
          1,
          1,
          2,
          2,
          2,
          1,
          2,
          1,
          2,
          1,
          1,
          1,
          1,
          1,
          1,
          1,
          1,
          2,
          1,
          2,
          1,
          1,
          1,
          1,
          3,
          1,
          1,
          2,
          2,
          1,
          2,
          2,
          1,
          1,
          2,
          1,
          2,
          1,
          2,
          2,
          1,
          2,
          1,
          1,
          2,
          1,
          2,
          2,
          1,
          1,
          2,
          2,
          1,
          2,
          2,
          1,
          1,
          1,
          1,
          1,
          2,
          2,
          1,
          1,
          1,
          1,
          1,
          1,
          1,
          1,
          1,
          1,
          2,
          1,
          1,
          1,
          1,
          2,
          1,
          1,
          1,
          1,
          1,
          1,
          2,
          2,
          2,
          1,
          1,
          2,
          1,
          1,
          1,
          1,
          1,
          1,
          1,
          1,
          1,
          2,
          1,
          2,
          2,
          2,
          1,
          2,
          2,
          1,
          1,
          1,
          1,
          2,
          2,
          1,
          1,
          2,
          1,
          1,
          2,
          2,
          1,
          1,
          2,
          2,
          2,
          1,
          1,
          2,
          2,
          1,
          1,
          2,
          1,
          2,
          1,
          2,
          2,
          2,
          1,
          1,
          1,
          2,
          1,
          1,
          2,
          1,
          1,
          1,
          2,
          2,
          2,
          1,
          2,
          2,
          1,
          1,
          1,
          1,
          1,
          2,
          1,
          2,
          3,
          2,
          1,
          1,
          1,
          1
         ],
         "yaxis": "y2"
        }
       ],
       "layout": {
        "legend": {
         "tracegroupgap": 0
        },
        "template": {
         "data": {
          "bar": [
           {
            "error_x": {
             "color": "#2a3f5f"
            },
            "error_y": {
             "color": "#2a3f5f"
            },
            "marker": {
             "line": {
              "color": "#E5ECF6",
              "width": 0.5
             },
             "pattern": {
              "fillmode": "overlay",
              "size": 10,
              "solidity": 0.2
             }
            },
            "type": "bar"
           }
          ],
          "barpolar": [
           {
            "marker": {
             "line": {
              "color": "#E5ECF6",
              "width": 0.5
             },
             "pattern": {
              "fillmode": "overlay",
              "size": 10,
              "solidity": 0.2
             }
            },
            "type": "barpolar"
           }
          ],
          "carpet": [
           {
            "aaxis": {
             "endlinecolor": "#2a3f5f",
             "gridcolor": "white",
             "linecolor": "white",
             "minorgridcolor": "white",
             "startlinecolor": "#2a3f5f"
            },
            "baxis": {
             "endlinecolor": "#2a3f5f",
             "gridcolor": "white",
             "linecolor": "white",
             "minorgridcolor": "white",
             "startlinecolor": "#2a3f5f"
            },
            "type": "carpet"
           }
          ],
          "choropleth": [
           {
            "colorbar": {
             "outlinewidth": 0,
             "ticks": ""
            },
            "type": "choropleth"
           }
          ],
          "contour": [
           {
            "colorbar": {
             "outlinewidth": 0,
             "ticks": ""
            },
            "colorscale": [
             [
              0,
              "#0d0887"
             ],
             [
              0.1111111111111111,
              "#46039f"
             ],
             [
              0.2222222222222222,
              "#7201a8"
             ],
             [
              0.3333333333333333,
              "#9c179e"
             ],
             [
              0.4444444444444444,
              "#bd3786"
             ],
             [
              0.5555555555555556,
              "#d8576b"
             ],
             [
              0.6666666666666666,
              "#ed7953"
             ],
             [
              0.7777777777777778,
              "#fb9f3a"
             ],
             [
              0.8888888888888888,
              "#fdca26"
             ],
             [
              1,
              "#f0f921"
             ]
            ],
            "type": "contour"
           }
          ],
          "contourcarpet": [
           {
            "colorbar": {
             "outlinewidth": 0,
             "ticks": ""
            },
            "type": "contourcarpet"
           }
          ],
          "heatmap": [
           {
            "colorbar": {
             "outlinewidth": 0,
             "ticks": ""
            },
            "colorscale": [
             [
              0,
              "#0d0887"
             ],
             [
              0.1111111111111111,
              "#46039f"
             ],
             [
              0.2222222222222222,
              "#7201a8"
             ],
             [
              0.3333333333333333,
              "#9c179e"
             ],
             [
              0.4444444444444444,
              "#bd3786"
             ],
             [
              0.5555555555555556,
              "#d8576b"
             ],
             [
              0.6666666666666666,
              "#ed7953"
             ],
             [
              0.7777777777777778,
              "#fb9f3a"
             ],
             [
              0.8888888888888888,
              "#fdca26"
             ],
             [
              1,
              "#f0f921"
             ]
            ],
            "type": "heatmap"
           }
          ],
          "heatmapgl": [
           {
            "colorbar": {
             "outlinewidth": 0,
             "ticks": ""
            },
            "colorscale": [
             [
              0,
              "#0d0887"
             ],
             [
              0.1111111111111111,
              "#46039f"
             ],
             [
              0.2222222222222222,
              "#7201a8"
             ],
             [
              0.3333333333333333,
              "#9c179e"
             ],
             [
              0.4444444444444444,
              "#bd3786"
             ],
             [
              0.5555555555555556,
              "#d8576b"
             ],
             [
              0.6666666666666666,
              "#ed7953"
             ],
             [
              0.7777777777777778,
              "#fb9f3a"
             ],
             [
              0.8888888888888888,
              "#fdca26"
             ],
             [
              1,
              "#f0f921"
             ]
            ],
            "type": "heatmapgl"
           }
          ],
          "histogram": [
           {
            "marker": {
             "pattern": {
              "fillmode": "overlay",
              "size": 10,
              "solidity": 0.2
             }
            },
            "type": "histogram"
           }
          ],
          "histogram2d": [
           {
            "colorbar": {
             "outlinewidth": 0,
             "ticks": ""
            },
            "colorscale": [
             [
              0,
              "#0d0887"
             ],
             [
              0.1111111111111111,
              "#46039f"
             ],
             [
              0.2222222222222222,
              "#7201a8"
             ],
             [
              0.3333333333333333,
              "#9c179e"
             ],
             [
              0.4444444444444444,
              "#bd3786"
             ],
             [
              0.5555555555555556,
              "#d8576b"
             ],
             [
              0.6666666666666666,
              "#ed7953"
             ],
             [
              0.7777777777777778,
              "#fb9f3a"
             ],
             [
              0.8888888888888888,
              "#fdca26"
             ],
             [
              1,
              "#f0f921"
             ]
            ],
            "type": "histogram2d"
           }
          ],
          "histogram2dcontour": [
           {
            "colorbar": {
             "outlinewidth": 0,
             "ticks": ""
            },
            "colorscale": [
             [
              0,
              "#0d0887"
             ],
             [
              0.1111111111111111,
              "#46039f"
             ],
             [
              0.2222222222222222,
              "#7201a8"
             ],
             [
              0.3333333333333333,
              "#9c179e"
             ],
             [
              0.4444444444444444,
              "#bd3786"
             ],
             [
              0.5555555555555556,
              "#d8576b"
             ],
             [
              0.6666666666666666,
              "#ed7953"
             ],
             [
              0.7777777777777778,
              "#fb9f3a"
             ],
             [
              0.8888888888888888,
              "#fdca26"
             ],
             [
              1,
              "#f0f921"
             ]
            ],
            "type": "histogram2dcontour"
           }
          ],
          "mesh3d": [
           {
            "colorbar": {
             "outlinewidth": 0,
             "ticks": ""
            },
            "type": "mesh3d"
           }
          ],
          "parcoords": [
           {
            "line": {
             "colorbar": {
              "outlinewidth": 0,
              "ticks": ""
             }
            },
            "type": "parcoords"
           }
          ],
          "pie": [
           {
            "automargin": true,
            "type": "pie"
           }
          ],
          "scatter": [
           {
            "marker": {
             "colorbar": {
              "outlinewidth": 0,
              "ticks": ""
             }
            },
            "type": "scatter"
           }
          ],
          "scatter3d": [
           {
            "line": {
             "colorbar": {
              "outlinewidth": 0,
              "ticks": ""
             }
            },
            "marker": {
             "colorbar": {
              "outlinewidth": 0,
              "ticks": ""
             }
            },
            "type": "scatter3d"
           }
          ],
          "scattercarpet": [
           {
            "marker": {
             "colorbar": {
              "outlinewidth": 0,
              "ticks": ""
             }
            },
            "type": "scattercarpet"
           }
          ],
          "scattergeo": [
           {
            "marker": {
             "colorbar": {
              "outlinewidth": 0,
              "ticks": ""
             }
            },
            "type": "scattergeo"
           }
          ],
          "scattergl": [
           {
            "marker": {
             "colorbar": {
              "outlinewidth": 0,
              "ticks": ""
             }
            },
            "type": "scattergl"
           }
          ],
          "scattermapbox": [
           {
            "marker": {
             "colorbar": {
              "outlinewidth": 0,
              "ticks": ""
             }
            },
            "type": "scattermapbox"
           }
          ],
          "scatterpolar": [
           {
            "marker": {
             "colorbar": {
              "outlinewidth": 0,
              "ticks": ""
             }
            },
            "type": "scatterpolar"
           }
          ],
          "scatterpolargl": [
           {
            "marker": {
             "colorbar": {
              "outlinewidth": 0,
              "ticks": ""
             }
            },
            "type": "scatterpolargl"
           }
          ],
          "scatterternary": [
           {
            "marker": {
             "colorbar": {
              "outlinewidth": 0,
              "ticks": ""
             }
            },
            "type": "scatterternary"
           }
          ],
          "surface": [
           {
            "colorbar": {
             "outlinewidth": 0,
             "ticks": ""
            },
            "colorscale": [
             [
              0,
              "#0d0887"
             ],
             [
              0.1111111111111111,
              "#46039f"
             ],
             [
              0.2222222222222222,
              "#7201a8"
             ],
             [
              0.3333333333333333,
              "#9c179e"
             ],
             [
              0.4444444444444444,
              "#bd3786"
             ],
             [
              0.5555555555555556,
              "#d8576b"
             ],
             [
              0.6666666666666666,
              "#ed7953"
             ],
             [
              0.7777777777777778,
              "#fb9f3a"
             ],
             [
              0.8888888888888888,
              "#fdca26"
             ],
             [
              1,
              "#f0f921"
             ]
            ],
            "type": "surface"
           }
          ],
          "table": [
           {
            "cells": {
             "fill": {
              "color": "#EBF0F8"
             },
             "line": {
              "color": "white"
             }
            },
            "header": {
             "fill": {
              "color": "#C8D4E3"
             },
             "line": {
              "color": "white"
             }
            },
            "type": "table"
           }
          ]
         },
         "layout": {
          "annotationdefaults": {
           "arrowcolor": "#2a3f5f",
           "arrowhead": 0,
           "arrowwidth": 1
          },
          "autotypenumbers": "strict",
          "coloraxis": {
           "colorbar": {
            "outlinewidth": 0,
            "ticks": ""
           }
          },
          "colorscale": {
           "diverging": [
            [
             0,
             "#8e0152"
            ],
            [
             0.1,
             "#c51b7d"
            ],
            [
             0.2,
             "#de77ae"
            ],
            [
             0.3,
             "#f1b6da"
            ],
            [
             0.4,
             "#fde0ef"
            ],
            [
             0.5,
             "#f7f7f7"
            ],
            [
             0.6,
             "#e6f5d0"
            ],
            [
             0.7,
             "#b8e186"
            ],
            [
             0.8,
             "#7fbc41"
            ],
            [
             0.9,
             "#4d9221"
            ],
            [
             1,
             "#276419"
            ]
           ],
           "sequential": [
            [
             0,
             "#0d0887"
            ],
            [
             0.1111111111111111,
             "#46039f"
            ],
            [
             0.2222222222222222,
             "#7201a8"
            ],
            [
             0.3333333333333333,
             "#9c179e"
            ],
            [
             0.4444444444444444,
             "#bd3786"
            ],
            [
             0.5555555555555556,
             "#d8576b"
            ],
            [
             0.6666666666666666,
             "#ed7953"
            ],
            [
             0.7777777777777778,
             "#fb9f3a"
            ],
            [
             0.8888888888888888,
             "#fdca26"
            ],
            [
             1,
             "#f0f921"
            ]
           ],
           "sequentialminus": [
            [
             0,
             "#0d0887"
            ],
            [
             0.1111111111111111,
             "#46039f"
            ],
            [
             0.2222222222222222,
             "#7201a8"
            ],
            [
             0.3333333333333333,
             "#9c179e"
            ],
            [
             0.4444444444444444,
             "#bd3786"
            ],
            [
             0.5555555555555556,
             "#d8576b"
            ],
            [
             0.6666666666666666,
             "#ed7953"
            ],
            [
             0.7777777777777778,
             "#fb9f3a"
            ],
            [
             0.8888888888888888,
             "#fdca26"
            ],
            [
             1,
             "#f0f921"
            ]
           ]
          },
          "colorway": [
           "#636efa",
           "#EF553B",
           "#00cc96",
           "#ab63fa",
           "#FFA15A",
           "#19d3f3",
           "#FF6692",
           "#B6E880",
           "#FF97FF",
           "#FECB52"
          ],
          "font": {
           "color": "#2a3f5f"
          },
          "geo": {
           "bgcolor": "white",
           "lakecolor": "white",
           "landcolor": "#E5ECF6",
           "showlakes": true,
           "showland": true,
           "subunitcolor": "white"
          },
          "hoverlabel": {
           "align": "left"
          },
          "hovermode": "closest",
          "mapbox": {
           "style": "light"
          },
          "paper_bgcolor": "white",
          "plot_bgcolor": "#E5ECF6",
          "polar": {
           "angularaxis": {
            "gridcolor": "white",
            "linecolor": "white",
            "ticks": ""
           },
           "bgcolor": "#E5ECF6",
           "radialaxis": {
            "gridcolor": "white",
            "linecolor": "white",
            "ticks": ""
           }
          },
          "scene": {
           "xaxis": {
            "backgroundcolor": "#E5ECF6",
            "gridcolor": "white",
            "gridwidth": 2,
            "linecolor": "white",
            "showbackground": true,
            "ticks": "",
            "zerolinecolor": "white"
           },
           "yaxis": {
            "backgroundcolor": "#E5ECF6",
            "gridcolor": "white",
            "gridwidth": 2,
            "linecolor": "white",
            "showbackground": true,
            "ticks": "",
            "zerolinecolor": "white"
           },
           "zaxis": {
            "backgroundcolor": "#E5ECF6",
            "gridcolor": "white",
            "gridwidth": 2,
            "linecolor": "white",
            "showbackground": true,
            "ticks": "",
            "zerolinecolor": "white"
           }
          },
          "shapedefaults": {
           "line": {
            "color": "#2a3f5f"
           }
          },
          "ternary": {
           "aaxis": {
            "gridcolor": "white",
            "linecolor": "white",
            "ticks": ""
           },
           "baxis": {
            "gridcolor": "white",
            "linecolor": "white",
            "ticks": ""
           },
           "bgcolor": "#E5ECF6",
           "caxis": {
            "gridcolor": "white",
            "linecolor": "white",
            "ticks": ""
           }
          },
          "title": {
           "x": 0.05
          },
          "xaxis": {
           "automargin": true,
           "gridcolor": "white",
           "linecolor": "white",
           "ticks": "",
           "title": {
            "standoff": 15
           },
           "zerolinecolor": "white",
           "zerolinewidth": 2
          },
          "yaxis": {
           "automargin": true,
           "gridcolor": "white",
           "linecolor": "white",
           "ticks": "",
           "title": {
            "standoff": 15
           },
           "zerolinecolor": "white",
           "zerolinewidth": 2
          }
         }
        },
        "title": {
         "text": "Количество заказов на пользователя"
        },
        "xaxis": {
         "anchor": "y",
         "domain": [
          0,
          0.8358
         ],
         "title": {
          "text": "пользователь"
         }
        },
        "xaxis2": {
         "anchor": "y2",
         "domain": [
          0.8408,
          1
         ],
         "matches": "x2",
         "showgrid": false,
         "showline": false,
         "showticklabels": false,
         "ticks": ""
        },
        "yaxis": {
         "anchor": "x",
         "domain": [
          0,
          1
         ],
         "title": {
          "text": "число заказов"
         }
        },
        "yaxis2": {
         "anchor": "x2",
         "domain": [
          0,
          1
         ],
         "matches": "y",
         "showgrid": true,
         "showticklabels": false
        }
       }
      }
     },
     "metadata": {},
     "output_type": "display_data"
    }
   ],
   "source": [
    "px.scatter(count_product_on_customer,\n",
    "                 y='orders',\n",
    "                 marginal_y='rug',\n",
    "                 labels={'orders': 'число заказов',\n",
    "                         'index': 'пользователь'},\n",
    "                 title='Количество заказов на пользователя')"
   ]
  },
  {
   "cell_type": "markdown",
   "metadata": {},
   "source": [
    "Видим огоромный выброс в 126 заказов, ликвидируем его ."
   ]
  },
  {
   "cell_type": "markdown",
   "metadata": {},
   "source": [
    "отфильтруем пользователей по выбранной границе"
   ]
  },
  {
   "cell_type": "code",
   "execution_count": 103,
   "metadata": {},
   "outputs": [
    {
     "data": {
      "text/plain": [
       "126"
      ]
     },
     "execution_count": 103,
     "metadata": {},
     "output_type": "execute_result"
    }
   ],
   "source": [
    "lim_max = count_product_on_customer['orders'].max()\n",
    "lim_max"
   ]
  },
  {
   "cell_type": "code",
   "execution_count": 104,
   "metadata": {},
   "outputs": [],
   "source": [
    "normal_customer = (count_product_on_customer\n",
    "                   .query('orders<@lim_max')['customer_id'])"
   ]
  },
  {
   "cell_type": "markdown",
   "metadata": {},
   "source": [
    "отфильтруем по пользователям датафрейм"
   ]
  },
  {
   "cell_type": "code",
   "execution_count": 105,
   "metadata": {},
   "outputs": [],
   "source": [
    "data = data.query('customer_id in @normal_customer')"
   ]
  },
  {
   "cell_type": "markdown",
   "metadata": {},
   "source": [
    "## Динамика выручки "
   ]
  },
  {
   "cell_type": "markdown",
   "metadata": {},
   "source": [
    "Для построения динамики выручки нужна стоимсоть товарной позиции с учетом количества единиц товара, но ее мы посчитали в пункте выше."
   ]
  },
  {
   "cell_type": "markdown",
   "metadata": {},
   "source": [
    "Для построения динамики дохода по месяцам нужна еще и дата, но перед этим ее нужно округлить с точностью до месяца:   \n",
    "например, `2019-12-16 и 2020-10-12` станет `2019-12-01` и `2020-10-01` соответсвенно."
   ]
  },
  {
   "cell_type": "code",
   "execution_count": 106,
   "metadata": {},
   "outputs": [],
   "source": [
    "\n",
    "data['date_round'] = (data['date']\n",
    "                      .apply(lambda x:\n",
    "                             pd.Timestamp(\n",
    "                                 pd.Timestamp(\n",
    "                                     f\"{x.month} / {x.year}\"\n",
    "                                 )\n",
    "                             )\n",
    "                             .normalize()\n",
    "                             )\n",
    "                      )"
   ]
  },
  {
   "cell_type": "markdown",
   "metadata": {},
   "source": [
    "Проверим себя"
   ]
  },
  {
   "cell_type": "code",
   "execution_count": 107,
   "metadata": {},
   "outputs": [
    {
     "data": {
      "text/html": [
       "<div>\n",
       "<style scoped>\n",
       "    .dataframe tbody tr th:only-of-type {\n",
       "        vertical-align: middle;\n",
       "    }\n",
       "\n",
       "    .dataframe tbody tr th {\n",
       "        vertical-align: top;\n",
       "    }\n",
       "\n",
       "    .dataframe thead th {\n",
       "        text-align: right;\n",
       "    }\n",
       "</style>\n",
       "<table border=\"1\" class=\"dataframe\">\n",
       "  <thead>\n",
       "    <tr style=\"text-align: right;\">\n",
       "      <th></th>\n",
       "      <th>date</th>\n",
       "      <th>date_round</th>\n",
       "    </tr>\n",
       "  </thead>\n",
       "  <tbody>\n",
       "    <tr>\n",
       "      <th>1476</th>\n",
       "      <td>2019-01-12</td>\n",
       "      <td>2019-01-01</td>\n",
       "    </tr>\n",
       "    <tr>\n",
       "      <th>1477</th>\n",
       "      <td>2019-01-13</td>\n",
       "      <td>2019-01-01</td>\n",
       "    </tr>\n",
       "    <tr>\n",
       "      <th>1478</th>\n",
       "      <td>2019-01-13</td>\n",
       "      <td>2019-01-01</td>\n",
       "    </tr>\n",
       "    <tr>\n",
       "      <th>1479</th>\n",
       "      <td>2019-01-13</td>\n",
       "      <td>2019-01-01</td>\n",
       "    </tr>\n",
       "    <tr>\n",
       "      <th>1480</th>\n",
       "      <td>2019-01-13</td>\n",
       "      <td>2019-01-01</td>\n",
       "    </tr>\n",
       "    <tr>\n",
       "      <th>1481</th>\n",
       "      <td>2019-01-13</td>\n",
       "      <td>2019-01-01</td>\n",
       "    </tr>\n",
       "    <tr>\n",
       "      <th>1482</th>\n",
       "      <td>2019-01-13</td>\n",
       "      <td>2019-01-01</td>\n",
       "    </tr>\n",
       "    <tr>\n",
       "      <th>1483</th>\n",
       "      <td>2019-01-13</td>\n",
       "      <td>2019-01-01</td>\n",
       "    </tr>\n",
       "    <tr>\n",
       "      <th>1484</th>\n",
       "      <td>2019-01-13</td>\n",
       "      <td>2019-01-01</td>\n",
       "    </tr>\n",
       "    <tr>\n",
       "      <th>1485</th>\n",
       "      <td>2019-01-13</td>\n",
       "      <td>2019-01-01</td>\n",
       "    </tr>\n",
       "    <tr>\n",
       "      <th>1486</th>\n",
       "      <td>2019-01-14</td>\n",
       "      <td>2019-01-01</td>\n",
       "    </tr>\n",
       "    <tr>\n",
       "      <th>1487</th>\n",
       "      <td>2019-01-14</td>\n",
       "      <td>2019-01-01</td>\n",
       "    </tr>\n",
       "    <tr>\n",
       "      <th>1488</th>\n",
       "      <td>2019-01-14</td>\n",
       "      <td>2019-01-01</td>\n",
       "    </tr>\n",
       "    <tr>\n",
       "      <th>1489</th>\n",
       "      <td>2019-01-14</td>\n",
       "      <td>2019-01-01</td>\n",
       "    </tr>\n",
       "    <tr>\n",
       "      <th>1490</th>\n",
       "      <td>2019-01-14</td>\n",
       "      <td>2019-01-01</td>\n",
       "    </tr>\n",
       "  </tbody>\n",
       "</table>\n",
       "</div>"
      ],
      "text/plain": [
       "            date date_round\n",
       "1476  2019-01-12 2019-01-01\n",
       "1477  2019-01-13 2019-01-01\n",
       "1478  2019-01-13 2019-01-01\n",
       "1479  2019-01-13 2019-01-01\n",
       "1480  2019-01-13 2019-01-01\n",
       "1481  2019-01-13 2019-01-01\n",
       "1482  2019-01-13 2019-01-01\n",
       "1483  2019-01-13 2019-01-01\n",
       "1484  2019-01-13 2019-01-01\n",
       "1485  2019-01-13 2019-01-01\n",
       "1486  2019-01-14 2019-01-01\n",
       "1487  2019-01-14 2019-01-01\n",
       "1488  2019-01-14 2019-01-01\n",
       "1489  2019-01-14 2019-01-01\n",
       "1490  2019-01-14 2019-01-01"
      ]
     },
     "execution_count": 107,
     "metadata": {},
     "output_type": "execute_result"
    }
   ],
   "source": [
    "data[['date', 'date_round']].iloc[1375:1390]"
   ]
  },
  {
   "cell_type": "markdown",
   "metadata": {},
   "source": [
    "округление работает корректно как задумывалось."
   ]
  },
  {
   "cell_type": "markdown",
   "metadata": {},
   "source": [
    "Построим теперь таблицу с доходами по месяцам"
   ]
  },
  {
   "cell_type": "code",
   "execution_count": 108,
   "metadata": {},
   "outputs": [
    {
     "data": {
      "text/html": [
       "<div>\n",
       "<style scoped>\n",
       "    .dataframe tbody tr th:only-of-type {\n",
       "        vertical-align: middle;\n",
       "    }\n",
       "\n",
       "    .dataframe tbody tr th {\n",
       "        vertical-align: top;\n",
       "    }\n",
       "\n",
       "    .dataframe thead th {\n",
       "        text-align: right;\n",
       "    }\n",
       "</style>\n",
       "<table border=\"1\" class=\"dataframe\">\n",
       "  <thead>\n",
       "    <tr style=\"text-align: right;\">\n",
       "      <th></th>\n",
       "      <th>date_round</th>\n",
       "      <th>revenue</th>\n",
       "    </tr>\n",
       "  </thead>\n",
       "  <tbody>\n",
       "    <tr>\n",
       "      <th>0</th>\n",
       "      <td>2018-10-01</td>\n",
       "      <td>391767.0</td>\n",
       "    </tr>\n",
       "    <tr>\n",
       "      <th>1</th>\n",
       "      <td>2018-11-01</td>\n",
       "      <td>346199.0</td>\n",
       "    </tr>\n",
       "    <tr>\n",
       "      <th>2</th>\n",
       "      <td>2018-12-01</td>\n",
       "      <td>339076.0</td>\n",
       "    </tr>\n",
       "    <tr>\n",
       "      <th>3</th>\n",
       "      <td>2019-01-01</td>\n",
       "      <td>254022.0</td>\n",
       "    </tr>\n",
       "    <tr>\n",
       "      <th>4</th>\n",
       "      <td>2019-02-01</td>\n",
       "      <td>290355.0</td>\n",
       "    </tr>\n",
       "  </tbody>\n",
       "</table>\n",
       "</div>"
      ],
      "text/plain": [
       "  date_round   revenue\n",
       "0 2018-10-01  391767.0\n",
       "1 2018-11-01  346199.0\n",
       "2 2018-12-01  339076.0\n",
       "3 2019-01-01  254022.0\n",
       "4 2019-02-01  290355.0"
      ]
     },
     "execution_count": 108,
     "metadata": {},
     "output_type": "execute_result"
    }
   ],
   "source": [
    "total_price_dynamic = (data\n",
    "                       .groupby('date_round', as_index=False)['total_price']\n",
    "                       .sum()\n",
    "                       .rename(columns=dict(total_price='revenue'))\n",
    "                       )\n",
    "\n",
    "total_price_dynamic.head()"
   ]
  },
  {
   "cell_type": "markdown",
   "metadata": {},
   "source": [
    "и наконец график"
   ]
  },
  {
   "cell_type": "code",
   "execution_count": 109,
   "metadata": {},
   "outputs": [
    {
     "data": {
      "application/vnd.plotly.v1+json": {
       "config": {
        "plotlyServerURL": "https://plot.ly"
       },
       "data": [
        {
         "hovertemplate": "дата=%{x}<br>выручка=%{y}<extra></extra>",
         "legendgroup": "",
         "line": {
          "color": "#636efa",
          "dash": "solid",
          "shape": "spline",
          "width": 6
         },
         "marker": {
          "symbol": "circle"
         },
         "mode": "lines",
         "name": "",
         "orientation": "v",
         "showlegend": false,
         "type": "scatter",
         "x": [
          "2018-10-01T00:00:00",
          "2018-11-01T00:00:00",
          "2018-12-01T00:00:00",
          "2019-01-01T00:00:00",
          "2019-02-01T00:00:00",
          "2019-03-01T00:00:00",
          "2019-04-01T00:00:00",
          "2019-05-01T00:00:00",
          "2019-06-01T00:00:00",
          "2019-07-01T00:00:00",
          "2019-08-01T00:00:00",
          "2019-09-01T00:00:00",
          "2019-10-01T00:00:00",
          "2019-11-01T00:00:00",
          "2019-12-01T00:00:00",
          "2020-01-01T00:00:00"
         ],
         "xaxis": "x",
         "y": [
          391767,
          346199,
          339076,
          254022,
          290355,
          290353,
          379783,
          301504,
          407945,
          276547,
          197490,
          201467,
          240057,
          128791.75,
          202885.3333333333,
          174036.33333333334
         ],
         "yaxis": "y"
        }
       ],
       "layout": {
        "legend": {
         "tracegroupgap": 0
        },
        "template": {
         "data": {
          "bar": [
           {
            "error_x": {
             "color": "#2a3f5f"
            },
            "error_y": {
             "color": "#2a3f5f"
            },
            "marker": {
             "line": {
              "color": "#E5ECF6",
              "width": 0.5
             },
             "pattern": {
              "fillmode": "overlay",
              "size": 10,
              "solidity": 0.2
             }
            },
            "type": "bar"
           }
          ],
          "barpolar": [
           {
            "marker": {
             "line": {
              "color": "#E5ECF6",
              "width": 0.5
             },
             "pattern": {
              "fillmode": "overlay",
              "size": 10,
              "solidity": 0.2
             }
            },
            "type": "barpolar"
           }
          ],
          "carpet": [
           {
            "aaxis": {
             "endlinecolor": "#2a3f5f",
             "gridcolor": "white",
             "linecolor": "white",
             "minorgridcolor": "white",
             "startlinecolor": "#2a3f5f"
            },
            "baxis": {
             "endlinecolor": "#2a3f5f",
             "gridcolor": "white",
             "linecolor": "white",
             "minorgridcolor": "white",
             "startlinecolor": "#2a3f5f"
            },
            "type": "carpet"
           }
          ],
          "choropleth": [
           {
            "colorbar": {
             "outlinewidth": 0,
             "ticks": ""
            },
            "type": "choropleth"
           }
          ],
          "contour": [
           {
            "colorbar": {
             "outlinewidth": 0,
             "ticks": ""
            },
            "colorscale": [
             [
              0,
              "#0d0887"
             ],
             [
              0.1111111111111111,
              "#46039f"
             ],
             [
              0.2222222222222222,
              "#7201a8"
             ],
             [
              0.3333333333333333,
              "#9c179e"
             ],
             [
              0.4444444444444444,
              "#bd3786"
             ],
             [
              0.5555555555555556,
              "#d8576b"
             ],
             [
              0.6666666666666666,
              "#ed7953"
             ],
             [
              0.7777777777777778,
              "#fb9f3a"
             ],
             [
              0.8888888888888888,
              "#fdca26"
             ],
             [
              1,
              "#f0f921"
             ]
            ],
            "type": "contour"
           }
          ],
          "contourcarpet": [
           {
            "colorbar": {
             "outlinewidth": 0,
             "ticks": ""
            },
            "type": "contourcarpet"
           }
          ],
          "heatmap": [
           {
            "colorbar": {
             "outlinewidth": 0,
             "ticks": ""
            },
            "colorscale": [
             [
              0,
              "#0d0887"
             ],
             [
              0.1111111111111111,
              "#46039f"
             ],
             [
              0.2222222222222222,
              "#7201a8"
             ],
             [
              0.3333333333333333,
              "#9c179e"
             ],
             [
              0.4444444444444444,
              "#bd3786"
             ],
             [
              0.5555555555555556,
              "#d8576b"
             ],
             [
              0.6666666666666666,
              "#ed7953"
             ],
             [
              0.7777777777777778,
              "#fb9f3a"
             ],
             [
              0.8888888888888888,
              "#fdca26"
             ],
             [
              1,
              "#f0f921"
             ]
            ],
            "type": "heatmap"
           }
          ],
          "heatmapgl": [
           {
            "colorbar": {
             "outlinewidth": 0,
             "ticks": ""
            },
            "colorscale": [
             [
              0,
              "#0d0887"
             ],
             [
              0.1111111111111111,
              "#46039f"
             ],
             [
              0.2222222222222222,
              "#7201a8"
             ],
             [
              0.3333333333333333,
              "#9c179e"
             ],
             [
              0.4444444444444444,
              "#bd3786"
             ],
             [
              0.5555555555555556,
              "#d8576b"
             ],
             [
              0.6666666666666666,
              "#ed7953"
             ],
             [
              0.7777777777777778,
              "#fb9f3a"
             ],
             [
              0.8888888888888888,
              "#fdca26"
             ],
             [
              1,
              "#f0f921"
             ]
            ],
            "type": "heatmapgl"
           }
          ],
          "histogram": [
           {
            "marker": {
             "pattern": {
              "fillmode": "overlay",
              "size": 10,
              "solidity": 0.2
             }
            },
            "type": "histogram"
           }
          ],
          "histogram2d": [
           {
            "colorbar": {
             "outlinewidth": 0,
             "ticks": ""
            },
            "colorscale": [
             [
              0,
              "#0d0887"
             ],
             [
              0.1111111111111111,
              "#46039f"
             ],
             [
              0.2222222222222222,
              "#7201a8"
             ],
             [
              0.3333333333333333,
              "#9c179e"
             ],
             [
              0.4444444444444444,
              "#bd3786"
             ],
             [
              0.5555555555555556,
              "#d8576b"
             ],
             [
              0.6666666666666666,
              "#ed7953"
             ],
             [
              0.7777777777777778,
              "#fb9f3a"
             ],
             [
              0.8888888888888888,
              "#fdca26"
             ],
             [
              1,
              "#f0f921"
             ]
            ],
            "type": "histogram2d"
           }
          ],
          "histogram2dcontour": [
           {
            "colorbar": {
             "outlinewidth": 0,
             "ticks": ""
            },
            "colorscale": [
             [
              0,
              "#0d0887"
             ],
             [
              0.1111111111111111,
              "#46039f"
             ],
             [
              0.2222222222222222,
              "#7201a8"
             ],
             [
              0.3333333333333333,
              "#9c179e"
             ],
             [
              0.4444444444444444,
              "#bd3786"
             ],
             [
              0.5555555555555556,
              "#d8576b"
             ],
             [
              0.6666666666666666,
              "#ed7953"
             ],
             [
              0.7777777777777778,
              "#fb9f3a"
             ],
             [
              0.8888888888888888,
              "#fdca26"
             ],
             [
              1,
              "#f0f921"
             ]
            ],
            "type": "histogram2dcontour"
           }
          ],
          "mesh3d": [
           {
            "colorbar": {
             "outlinewidth": 0,
             "ticks": ""
            },
            "type": "mesh3d"
           }
          ],
          "parcoords": [
           {
            "line": {
             "colorbar": {
              "outlinewidth": 0,
              "ticks": ""
             }
            },
            "type": "parcoords"
           }
          ],
          "pie": [
           {
            "automargin": true,
            "type": "pie"
           }
          ],
          "scatter": [
           {
            "marker": {
             "colorbar": {
              "outlinewidth": 0,
              "ticks": ""
             }
            },
            "type": "scatter"
           }
          ],
          "scatter3d": [
           {
            "line": {
             "colorbar": {
              "outlinewidth": 0,
              "ticks": ""
             }
            },
            "marker": {
             "colorbar": {
              "outlinewidth": 0,
              "ticks": ""
             }
            },
            "type": "scatter3d"
           }
          ],
          "scattercarpet": [
           {
            "marker": {
             "colorbar": {
              "outlinewidth": 0,
              "ticks": ""
             }
            },
            "type": "scattercarpet"
           }
          ],
          "scattergeo": [
           {
            "marker": {
             "colorbar": {
              "outlinewidth": 0,
              "ticks": ""
             }
            },
            "type": "scattergeo"
           }
          ],
          "scattergl": [
           {
            "marker": {
             "colorbar": {
              "outlinewidth": 0,
              "ticks": ""
             }
            },
            "type": "scattergl"
           }
          ],
          "scattermapbox": [
           {
            "marker": {
             "colorbar": {
              "outlinewidth": 0,
              "ticks": ""
             }
            },
            "type": "scattermapbox"
           }
          ],
          "scatterpolar": [
           {
            "marker": {
             "colorbar": {
              "outlinewidth": 0,
              "ticks": ""
             }
            },
            "type": "scatterpolar"
           }
          ],
          "scatterpolargl": [
           {
            "marker": {
             "colorbar": {
              "outlinewidth": 0,
              "ticks": ""
             }
            },
            "type": "scatterpolargl"
           }
          ],
          "scatterternary": [
           {
            "marker": {
             "colorbar": {
              "outlinewidth": 0,
              "ticks": ""
             }
            },
            "type": "scatterternary"
           }
          ],
          "surface": [
           {
            "colorbar": {
             "outlinewidth": 0,
             "ticks": ""
            },
            "colorscale": [
             [
              0,
              "#0d0887"
             ],
             [
              0.1111111111111111,
              "#46039f"
             ],
             [
              0.2222222222222222,
              "#7201a8"
             ],
             [
              0.3333333333333333,
              "#9c179e"
             ],
             [
              0.4444444444444444,
              "#bd3786"
             ],
             [
              0.5555555555555556,
              "#d8576b"
             ],
             [
              0.6666666666666666,
              "#ed7953"
             ],
             [
              0.7777777777777778,
              "#fb9f3a"
             ],
             [
              0.8888888888888888,
              "#fdca26"
             ],
             [
              1,
              "#f0f921"
             ]
            ],
            "type": "surface"
           }
          ],
          "table": [
           {
            "cells": {
             "fill": {
              "color": "#EBF0F8"
             },
             "line": {
              "color": "white"
             }
            },
            "header": {
             "fill": {
              "color": "#C8D4E3"
             },
             "line": {
              "color": "white"
             }
            },
            "type": "table"
           }
          ]
         },
         "layout": {
          "annotationdefaults": {
           "arrowcolor": "#2a3f5f",
           "arrowhead": 0,
           "arrowwidth": 1
          },
          "autotypenumbers": "strict",
          "coloraxis": {
           "colorbar": {
            "outlinewidth": 0,
            "ticks": ""
           }
          },
          "colorscale": {
           "diverging": [
            [
             0,
             "#8e0152"
            ],
            [
             0.1,
             "#c51b7d"
            ],
            [
             0.2,
             "#de77ae"
            ],
            [
             0.3,
             "#f1b6da"
            ],
            [
             0.4,
             "#fde0ef"
            ],
            [
             0.5,
             "#f7f7f7"
            ],
            [
             0.6,
             "#e6f5d0"
            ],
            [
             0.7,
             "#b8e186"
            ],
            [
             0.8,
             "#7fbc41"
            ],
            [
             0.9,
             "#4d9221"
            ],
            [
             1,
             "#276419"
            ]
           ],
           "sequential": [
            [
             0,
             "#0d0887"
            ],
            [
             0.1111111111111111,
             "#46039f"
            ],
            [
             0.2222222222222222,
             "#7201a8"
            ],
            [
             0.3333333333333333,
             "#9c179e"
            ],
            [
             0.4444444444444444,
             "#bd3786"
            ],
            [
             0.5555555555555556,
             "#d8576b"
            ],
            [
             0.6666666666666666,
             "#ed7953"
            ],
            [
             0.7777777777777778,
             "#fb9f3a"
            ],
            [
             0.8888888888888888,
             "#fdca26"
            ],
            [
             1,
             "#f0f921"
            ]
           ],
           "sequentialminus": [
            [
             0,
             "#0d0887"
            ],
            [
             0.1111111111111111,
             "#46039f"
            ],
            [
             0.2222222222222222,
             "#7201a8"
            ],
            [
             0.3333333333333333,
             "#9c179e"
            ],
            [
             0.4444444444444444,
             "#bd3786"
            ],
            [
             0.5555555555555556,
             "#d8576b"
            ],
            [
             0.6666666666666666,
             "#ed7953"
            ],
            [
             0.7777777777777778,
             "#fb9f3a"
            ],
            [
             0.8888888888888888,
             "#fdca26"
            ],
            [
             1,
             "#f0f921"
            ]
           ]
          },
          "colorway": [
           "#636efa",
           "#EF553B",
           "#00cc96",
           "#ab63fa",
           "#FFA15A",
           "#19d3f3",
           "#FF6692",
           "#B6E880",
           "#FF97FF",
           "#FECB52"
          ],
          "font": {
           "color": "#2a3f5f"
          },
          "geo": {
           "bgcolor": "white",
           "lakecolor": "white",
           "landcolor": "#E5ECF6",
           "showlakes": true,
           "showland": true,
           "subunitcolor": "white"
          },
          "hoverlabel": {
           "align": "left"
          },
          "hovermode": "closest",
          "mapbox": {
           "style": "light"
          },
          "paper_bgcolor": "white",
          "plot_bgcolor": "#E5ECF6",
          "polar": {
           "angularaxis": {
            "gridcolor": "white",
            "linecolor": "white",
            "ticks": ""
           },
           "bgcolor": "#E5ECF6",
           "radialaxis": {
            "gridcolor": "white",
            "linecolor": "white",
            "ticks": ""
           }
          },
          "scene": {
           "xaxis": {
            "backgroundcolor": "#E5ECF6",
            "gridcolor": "white",
            "gridwidth": 2,
            "linecolor": "white",
            "showbackground": true,
            "ticks": "",
            "zerolinecolor": "white"
           },
           "yaxis": {
            "backgroundcolor": "#E5ECF6",
            "gridcolor": "white",
            "gridwidth": 2,
            "linecolor": "white",
            "showbackground": true,
            "ticks": "",
            "zerolinecolor": "white"
           },
           "zaxis": {
            "backgroundcolor": "#E5ECF6",
            "gridcolor": "white",
            "gridwidth": 2,
            "linecolor": "white",
            "showbackground": true,
            "ticks": "",
            "zerolinecolor": "white"
           }
          },
          "shapedefaults": {
           "line": {
            "color": "#2a3f5f"
           }
          },
          "ternary": {
           "aaxis": {
            "gridcolor": "white",
            "linecolor": "white",
            "ticks": ""
           },
           "baxis": {
            "gridcolor": "white",
            "linecolor": "white",
            "ticks": ""
           },
           "bgcolor": "#E5ECF6",
           "caxis": {
            "gridcolor": "white",
            "linecolor": "white",
            "ticks": ""
           }
          },
          "title": {
           "x": 0.05
          },
          "xaxis": {
           "automargin": true,
           "gridcolor": "white",
           "linecolor": "white",
           "ticks": "",
           "title": {
            "standoff": 15
           },
           "zerolinecolor": "white",
           "zerolinewidth": 2
          },
          "yaxis": {
           "automargin": true,
           "gridcolor": "white",
           "linecolor": "white",
           "ticks": "",
           "title": {
            "standoff": 15
           },
           "zerolinecolor": "white",
           "zerolinewidth": 2
          }
         }
        },
        "title": {
         "text": "Выручка по месяцам за период с 2018-10-01 по 2020-01-31"
        },
        "xaxis": {
         "anchor": "y",
         "domain": [
          0,
          1
         ],
         "title": {
          "text": "дата"
         }
        },
        "yaxis": {
         "anchor": "x",
         "domain": [
          0,
          1
         ],
         "title": {
          "text": "выручка"
         }
        }
       }
      }
     },
     "metadata": {},
     "output_type": "display_data"
    }
   ],
   "source": [
    "fig = px.line(total_price_dynamic,\n",
    "              x='date_round',\n",
    "              y='revenue',\n",
    "              labels=dict(date_round='дата', revenue='выручка'),\n",
    "              line_shape='spline',\n",
    "              title=f\"Выручка по месяцам за период с {data['date'].min()} по {data['date'].max()}\")\n",
    "\n",
    "fig.update_traces(line_width=6)"
   ]
  },
  {
   "cell_type": "markdown",
   "metadata": {},
   "source": [
    "Видно  что в апреле и июне высокая выручка - время готовить рассаду и летом высаживать(магазин же товаров для сада и дома)"
   ]
  },
  {
   "cell_type": "markdown",
   "metadata": {},
   "source": [
    "## Средний чек и его динамика"
   ]
  },
  {
   "cell_type": "markdown",
   "metadata": {},
   "source": [
    "Вычислим затем средний чек "
   ]
  },
  {
   "cell_type": "code",
   "execution_count": 110,
   "metadata": {},
   "outputs": [
    {
     "data": {
      "text/html": [
       "<div>\n",
       "<style scoped>\n",
       "    .dataframe tbody tr th:only-of-type {\n",
       "        vertical-align: middle;\n",
       "    }\n",
       "\n",
       "    .dataframe tbody tr th {\n",
       "        vertical-align: top;\n",
       "    }\n",
       "\n",
       "    .dataframe thead th {\n",
       "        text-align: right;\n",
       "    }\n",
       "</style>\n",
       "<table border=\"1\" class=\"dataframe\">\n",
       "  <thead>\n",
       "    <tr style=\"text-align: right;\">\n",
       "      <th></th>\n",
       "      <th>date_round</th>\n",
       "      <th>revenue</th>\n",
       "      <th>count_order</th>\n",
       "      <th>mean_chek</th>\n",
       "    </tr>\n",
       "  </thead>\n",
       "  <tbody>\n",
       "    <tr>\n",
       "      <th>0</th>\n",
       "      <td>2018-10-01</td>\n",
       "      <td>391767.000000</td>\n",
       "      <td>217</td>\n",
       "      <td>1805.0</td>\n",
       "    </tr>\n",
       "    <tr>\n",
       "      <th>1</th>\n",
       "      <td>2018-11-01</td>\n",
       "      <td>346199.000000</td>\n",
       "      <td>185</td>\n",
       "      <td>1871.0</td>\n",
       "    </tr>\n",
       "    <tr>\n",
       "      <th>2</th>\n",
       "      <td>2018-12-01</td>\n",
       "      <td>339076.000000</td>\n",
       "      <td>237</td>\n",
       "      <td>1431.0</td>\n",
       "    </tr>\n",
       "    <tr>\n",
       "      <th>3</th>\n",
       "      <td>2019-01-01</td>\n",
       "      <td>254022.000000</td>\n",
       "      <td>163</td>\n",
       "      <td>1558.0</td>\n",
       "    </tr>\n",
       "    <tr>\n",
       "      <th>4</th>\n",
       "      <td>2019-02-01</td>\n",
       "      <td>290355.000000</td>\n",
       "      <td>260</td>\n",
       "      <td>1117.0</td>\n",
       "    </tr>\n",
       "    <tr>\n",
       "      <th>5</th>\n",
       "      <td>2019-03-01</td>\n",
       "      <td>290353.000000</td>\n",
       "      <td>236</td>\n",
       "      <td>1230.0</td>\n",
       "    </tr>\n",
       "    <tr>\n",
       "      <th>6</th>\n",
       "      <td>2019-04-01</td>\n",
       "      <td>379783.000000</td>\n",
       "      <td>266</td>\n",
       "      <td>1428.0</td>\n",
       "    </tr>\n",
       "    <tr>\n",
       "      <th>7</th>\n",
       "      <td>2019-05-01</td>\n",
       "      <td>301504.000000</td>\n",
       "      <td>180</td>\n",
       "      <td>1675.0</td>\n",
       "    </tr>\n",
       "    <tr>\n",
       "      <th>8</th>\n",
       "      <td>2019-06-01</td>\n",
       "      <td>407945.000000</td>\n",
       "      <td>160</td>\n",
       "      <td>2550.0</td>\n",
       "    </tr>\n",
       "    <tr>\n",
       "      <th>9</th>\n",
       "      <td>2019-07-01</td>\n",
       "      <td>276547.000000</td>\n",
       "      <td>199</td>\n",
       "      <td>1390.0</td>\n",
       "    </tr>\n",
       "    <tr>\n",
       "      <th>10</th>\n",
       "      <td>2019-08-01</td>\n",
       "      <td>197490.000000</td>\n",
       "      <td>174</td>\n",
       "      <td>1135.0</td>\n",
       "    </tr>\n",
       "    <tr>\n",
       "      <th>11</th>\n",
       "      <td>2019-09-01</td>\n",
       "      <td>201467.000000</td>\n",
       "      <td>180</td>\n",
       "      <td>1119.0</td>\n",
       "    </tr>\n",
       "    <tr>\n",
       "      <th>12</th>\n",
       "      <td>2019-10-01</td>\n",
       "      <td>240057.000000</td>\n",
       "      <td>203</td>\n",
       "      <td>1183.0</td>\n",
       "    </tr>\n",
       "    <tr>\n",
       "      <th>13</th>\n",
       "      <td>2019-11-01</td>\n",
       "      <td>128791.750000</td>\n",
       "      <td>217</td>\n",
       "      <td>594.0</td>\n",
       "    </tr>\n",
       "    <tr>\n",
       "      <th>14</th>\n",
       "      <td>2019-12-01</td>\n",
       "      <td>202885.333333</td>\n",
       "      <td>246</td>\n",
       "      <td>825.0</td>\n",
       "    </tr>\n",
       "    <tr>\n",
       "      <th>15</th>\n",
       "      <td>2020-01-01</td>\n",
       "      <td>174036.333333</td>\n",
       "      <td>269</td>\n",
       "      <td>647.0</td>\n",
       "    </tr>\n",
       "  </tbody>\n",
       "</table>\n",
       "</div>"
      ],
      "text/plain": [
       "   date_round        revenue  count_order  mean_chek\n",
       "0  2018-10-01  391767.000000          217     1805.0\n",
       "1  2018-11-01  346199.000000          185     1871.0\n",
       "2  2018-12-01  339076.000000          237     1431.0\n",
       "3  2019-01-01  254022.000000          163     1558.0\n",
       "4  2019-02-01  290355.000000          260     1117.0\n",
       "5  2019-03-01  290353.000000          236     1230.0\n",
       "6  2019-04-01  379783.000000          266     1428.0\n",
       "7  2019-05-01  301504.000000          180     1675.0\n",
       "8  2019-06-01  407945.000000          160     2550.0\n",
       "9  2019-07-01  276547.000000          199     1390.0\n",
       "10 2019-08-01  197490.000000          174     1135.0\n",
       "11 2019-09-01  201467.000000          180     1119.0\n",
       "12 2019-10-01  240057.000000          203     1183.0\n",
       "13 2019-11-01  128791.750000          217      594.0\n",
       "14 2019-12-01  202885.333333          246      825.0\n",
       "15 2020-01-01  174036.333333          269      647.0"
      ]
     },
     "execution_count": 110,
     "metadata": {},
     "output_type": "execute_result"
    }
   ],
   "source": [
    "mean_chek = (data\n",
    "             .groupby('date_round', as_index=False)\n",
    "             .aggregate(\n",
    "                 dict(\n",
    "                     total_price='sum',\n",
    "                     order_id='nunique'\n",
    "                 )\n",
    "             )\n",
    "             .rename(\n",
    "                 columns=dict(\n",
    "                     total_price='revenue',\n",
    "                     order_id='count_order'\n",
    "                 )\n",
    "             )\n",
    "             )\n",
    "\n",
    "mean_chek['mean_chek'] = round(mean_chek['revenue'] / mean_chek['count_order'])\n",
    "mean_chek"
   ]
  },
  {
   "cell_type": "markdown",
   "metadata": {},
   "source": [
    "смотрим через призму времени!"
   ]
  },
  {
   "cell_type": "code",
   "execution_count": 111,
   "metadata": {},
   "outputs": [
    {
     "data": {
      "application/vnd.plotly.v1+json": {
       "config": {
        "plotlyServerURL": "https://plot.ly"
       },
       "data": [
        {
         "hovertemplate": "дата=%{x}<br>средний чек, руб=%{y}<extra></extra>",
         "legendgroup": "",
         "line": {
          "color": "seagreen",
          "dash": "solid",
          "shape": "spline",
          "width": 6
         },
         "marker": {
          "symbol": "circle"
         },
         "mode": "lines",
         "name": "",
         "orientation": "v",
         "showlegend": false,
         "type": "scatter",
         "x": [
          "2018-10-01T00:00:00",
          "2018-11-01T00:00:00",
          "2018-12-01T00:00:00",
          "2019-01-01T00:00:00",
          "2019-02-01T00:00:00",
          "2019-03-01T00:00:00",
          "2019-04-01T00:00:00",
          "2019-05-01T00:00:00",
          "2019-06-01T00:00:00",
          "2019-07-01T00:00:00",
          "2019-08-01T00:00:00",
          "2019-09-01T00:00:00",
          "2019-10-01T00:00:00",
          "2019-11-01T00:00:00",
          "2019-12-01T00:00:00",
          "2020-01-01T00:00:00"
         ],
         "xaxis": "x",
         "y": [
          1805,
          1871,
          1431,
          1558,
          1117,
          1230,
          1428,
          1675,
          2550,
          1390,
          1135,
          1119,
          1183,
          594,
          825,
          647
         ],
         "yaxis": "y"
        }
       ],
       "layout": {
        "legend": {
         "tracegroupgap": 0
        },
        "template": {
         "data": {
          "bar": [
           {
            "error_x": {
             "color": "#2a3f5f"
            },
            "error_y": {
             "color": "#2a3f5f"
            },
            "marker": {
             "line": {
              "color": "#E5ECF6",
              "width": 0.5
             },
             "pattern": {
              "fillmode": "overlay",
              "size": 10,
              "solidity": 0.2
             }
            },
            "type": "bar"
           }
          ],
          "barpolar": [
           {
            "marker": {
             "line": {
              "color": "#E5ECF6",
              "width": 0.5
             },
             "pattern": {
              "fillmode": "overlay",
              "size": 10,
              "solidity": 0.2
             }
            },
            "type": "barpolar"
           }
          ],
          "carpet": [
           {
            "aaxis": {
             "endlinecolor": "#2a3f5f",
             "gridcolor": "white",
             "linecolor": "white",
             "minorgridcolor": "white",
             "startlinecolor": "#2a3f5f"
            },
            "baxis": {
             "endlinecolor": "#2a3f5f",
             "gridcolor": "white",
             "linecolor": "white",
             "minorgridcolor": "white",
             "startlinecolor": "#2a3f5f"
            },
            "type": "carpet"
           }
          ],
          "choropleth": [
           {
            "colorbar": {
             "outlinewidth": 0,
             "ticks": ""
            },
            "type": "choropleth"
           }
          ],
          "contour": [
           {
            "colorbar": {
             "outlinewidth": 0,
             "ticks": ""
            },
            "colorscale": [
             [
              0,
              "#0d0887"
             ],
             [
              0.1111111111111111,
              "#46039f"
             ],
             [
              0.2222222222222222,
              "#7201a8"
             ],
             [
              0.3333333333333333,
              "#9c179e"
             ],
             [
              0.4444444444444444,
              "#bd3786"
             ],
             [
              0.5555555555555556,
              "#d8576b"
             ],
             [
              0.6666666666666666,
              "#ed7953"
             ],
             [
              0.7777777777777778,
              "#fb9f3a"
             ],
             [
              0.8888888888888888,
              "#fdca26"
             ],
             [
              1,
              "#f0f921"
             ]
            ],
            "type": "contour"
           }
          ],
          "contourcarpet": [
           {
            "colorbar": {
             "outlinewidth": 0,
             "ticks": ""
            },
            "type": "contourcarpet"
           }
          ],
          "heatmap": [
           {
            "colorbar": {
             "outlinewidth": 0,
             "ticks": ""
            },
            "colorscale": [
             [
              0,
              "#0d0887"
             ],
             [
              0.1111111111111111,
              "#46039f"
             ],
             [
              0.2222222222222222,
              "#7201a8"
             ],
             [
              0.3333333333333333,
              "#9c179e"
             ],
             [
              0.4444444444444444,
              "#bd3786"
             ],
             [
              0.5555555555555556,
              "#d8576b"
             ],
             [
              0.6666666666666666,
              "#ed7953"
             ],
             [
              0.7777777777777778,
              "#fb9f3a"
             ],
             [
              0.8888888888888888,
              "#fdca26"
             ],
             [
              1,
              "#f0f921"
             ]
            ],
            "type": "heatmap"
           }
          ],
          "heatmapgl": [
           {
            "colorbar": {
             "outlinewidth": 0,
             "ticks": ""
            },
            "colorscale": [
             [
              0,
              "#0d0887"
             ],
             [
              0.1111111111111111,
              "#46039f"
             ],
             [
              0.2222222222222222,
              "#7201a8"
             ],
             [
              0.3333333333333333,
              "#9c179e"
             ],
             [
              0.4444444444444444,
              "#bd3786"
             ],
             [
              0.5555555555555556,
              "#d8576b"
             ],
             [
              0.6666666666666666,
              "#ed7953"
             ],
             [
              0.7777777777777778,
              "#fb9f3a"
             ],
             [
              0.8888888888888888,
              "#fdca26"
             ],
             [
              1,
              "#f0f921"
             ]
            ],
            "type": "heatmapgl"
           }
          ],
          "histogram": [
           {
            "marker": {
             "pattern": {
              "fillmode": "overlay",
              "size": 10,
              "solidity": 0.2
             }
            },
            "type": "histogram"
           }
          ],
          "histogram2d": [
           {
            "colorbar": {
             "outlinewidth": 0,
             "ticks": ""
            },
            "colorscale": [
             [
              0,
              "#0d0887"
             ],
             [
              0.1111111111111111,
              "#46039f"
             ],
             [
              0.2222222222222222,
              "#7201a8"
             ],
             [
              0.3333333333333333,
              "#9c179e"
             ],
             [
              0.4444444444444444,
              "#bd3786"
             ],
             [
              0.5555555555555556,
              "#d8576b"
             ],
             [
              0.6666666666666666,
              "#ed7953"
             ],
             [
              0.7777777777777778,
              "#fb9f3a"
             ],
             [
              0.8888888888888888,
              "#fdca26"
             ],
             [
              1,
              "#f0f921"
             ]
            ],
            "type": "histogram2d"
           }
          ],
          "histogram2dcontour": [
           {
            "colorbar": {
             "outlinewidth": 0,
             "ticks": ""
            },
            "colorscale": [
             [
              0,
              "#0d0887"
             ],
             [
              0.1111111111111111,
              "#46039f"
             ],
             [
              0.2222222222222222,
              "#7201a8"
             ],
             [
              0.3333333333333333,
              "#9c179e"
             ],
             [
              0.4444444444444444,
              "#bd3786"
             ],
             [
              0.5555555555555556,
              "#d8576b"
             ],
             [
              0.6666666666666666,
              "#ed7953"
             ],
             [
              0.7777777777777778,
              "#fb9f3a"
             ],
             [
              0.8888888888888888,
              "#fdca26"
             ],
             [
              1,
              "#f0f921"
             ]
            ],
            "type": "histogram2dcontour"
           }
          ],
          "mesh3d": [
           {
            "colorbar": {
             "outlinewidth": 0,
             "ticks": ""
            },
            "type": "mesh3d"
           }
          ],
          "parcoords": [
           {
            "line": {
             "colorbar": {
              "outlinewidth": 0,
              "ticks": ""
             }
            },
            "type": "parcoords"
           }
          ],
          "pie": [
           {
            "automargin": true,
            "type": "pie"
           }
          ],
          "scatter": [
           {
            "marker": {
             "colorbar": {
              "outlinewidth": 0,
              "ticks": ""
             }
            },
            "type": "scatter"
           }
          ],
          "scatter3d": [
           {
            "line": {
             "colorbar": {
              "outlinewidth": 0,
              "ticks": ""
             }
            },
            "marker": {
             "colorbar": {
              "outlinewidth": 0,
              "ticks": ""
             }
            },
            "type": "scatter3d"
           }
          ],
          "scattercarpet": [
           {
            "marker": {
             "colorbar": {
              "outlinewidth": 0,
              "ticks": ""
             }
            },
            "type": "scattercarpet"
           }
          ],
          "scattergeo": [
           {
            "marker": {
             "colorbar": {
              "outlinewidth": 0,
              "ticks": ""
             }
            },
            "type": "scattergeo"
           }
          ],
          "scattergl": [
           {
            "marker": {
             "colorbar": {
              "outlinewidth": 0,
              "ticks": ""
             }
            },
            "type": "scattergl"
           }
          ],
          "scattermapbox": [
           {
            "marker": {
             "colorbar": {
              "outlinewidth": 0,
              "ticks": ""
             }
            },
            "type": "scattermapbox"
           }
          ],
          "scatterpolar": [
           {
            "marker": {
             "colorbar": {
              "outlinewidth": 0,
              "ticks": ""
             }
            },
            "type": "scatterpolar"
           }
          ],
          "scatterpolargl": [
           {
            "marker": {
             "colorbar": {
              "outlinewidth": 0,
              "ticks": ""
             }
            },
            "type": "scatterpolargl"
           }
          ],
          "scatterternary": [
           {
            "marker": {
             "colorbar": {
              "outlinewidth": 0,
              "ticks": ""
             }
            },
            "type": "scatterternary"
           }
          ],
          "surface": [
           {
            "colorbar": {
             "outlinewidth": 0,
             "ticks": ""
            },
            "colorscale": [
             [
              0,
              "#0d0887"
             ],
             [
              0.1111111111111111,
              "#46039f"
             ],
             [
              0.2222222222222222,
              "#7201a8"
             ],
             [
              0.3333333333333333,
              "#9c179e"
             ],
             [
              0.4444444444444444,
              "#bd3786"
             ],
             [
              0.5555555555555556,
              "#d8576b"
             ],
             [
              0.6666666666666666,
              "#ed7953"
             ],
             [
              0.7777777777777778,
              "#fb9f3a"
             ],
             [
              0.8888888888888888,
              "#fdca26"
             ],
             [
              1,
              "#f0f921"
             ]
            ],
            "type": "surface"
           }
          ],
          "table": [
           {
            "cells": {
             "fill": {
              "color": "#EBF0F8"
             },
             "line": {
              "color": "white"
             }
            },
            "header": {
             "fill": {
              "color": "#C8D4E3"
             },
             "line": {
              "color": "white"
             }
            },
            "type": "table"
           }
          ]
         },
         "layout": {
          "annotationdefaults": {
           "arrowcolor": "#2a3f5f",
           "arrowhead": 0,
           "arrowwidth": 1
          },
          "autotypenumbers": "strict",
          "coloraxis": {
           "colorbar": {
            "outlinewidth": 0,
            "ticks": ""
           }
          },
          "colorscale": {
           "diverging": [
            [
             0,
             "#8e0152"
            ],
            [
             0.1,
             "#c51b7d"
            ],
            [
             0.2,
             "#de77ae"
            ],
            [
             0.3,
             "#f1b6da"
            ],
            [
             0.4,
             "#fde0ef"
            ],
            [
             0.5,
             "#f7f7f7"
            ],
            [
             0.6,
             "#e6f5d0"
            ],
            [
             0.7,
             "#b8e186"
            ],
            [
             0.8,
             "#7fbc41"
            ],
            [
             0.9,
             "#4d9221"
            ],
            [
             1,
             "#276419"
            ]
           ],
           "sequential": [
            [
             0,
             "#0d0887"
            ],
            [
             0.1111111111111111,
             "#46039f"
            ],
            [
             0.2222222222222222,
             "#7201a8"
            ],
            [
             0.3333333333333333,
             "#9c179e"
            ],
            [
             0.4444444444444444,
             "#bd3786"
            ],
            [
             0.5555555555555556,
             "#d8576b"
            ],
            [
             0.6666666666666666,
             "#ed7953"
            ],
            [
             0.7777777777777778,
             "#fb9f3a"
            ],
            [
             0.8888888888888888,
             "#fdca26"
            ],
            [
             1,
             "#f0f921"
            ]
           ],
           "sequentialminus": [
            [
             0,
             "#0d0887"
            ],
            [
             0.1111111111111111,
             "#46039f"
            ],
            [
             0.2222222222222222,
             "#7201a8"
            ],
            [
             0.3333333333333333,
             "#9c179e"
            ],
            [
             0.4444444444444444,
             "#bd3786"
            ],
            [
             0.5555555555555556,
             "#d8576b"
            ],
            [
             0.6666666666666666,
             "#ed7953"
            ],
            [
             0.7777777777777778,
             "#fb9f3a"
            ],
            [
             0.8888888888888888,
             "#fdca26"
            ],
            [
             1,
             "#f0f921"
            ]
           ]
          },
          "colorway": [
           "#636efa",
           "#EF553B",
           "#00cc96",
           "#ab63fa",
           "#FFA15A",
           "#19d3f3",
           "#FF6692",
           "#B6E880",
           "#FF97FF",
           "#FECB52"
          ],
          "font": {
           "color": "#2a3f5f"
          },
          "geo": {
           "bgcolor": "white",
           "lakecolor": "white",
           "landcolor": "#E5ECF6",
           "showlakes": true,
           "showland": true,
           "subunitcolor": "white"
          },
          "hoverlabel": {
           "align": "left"
          },
          "hovermode": "closest",
          "mapbox": {
           "style": "light"
          },
          "paper_bgcolor": "white",
          "plot_bgcolor": "#E5ECF6",
          "polar": {
           "angularaxis": {
            "gridcolor": "white",
            "linecolor": "white",
            "ticks": ""
           },
           "bgcolor": "#E5ECF6",
           "radialaxis": {
            "gridcolor": "white",
            "linecolor": "white",
            "ticks": ""
           }
          },
          "scene": {
           "xaxis": {
            "backgroundcolor": "#E5ECF6",
            "gridcolor": "white",
            "gridwidth": 2,
            "linecolor": "white",
            "showbackground": true,
            "ticks": "",
            "zerolinecolor": "white"
           },
           "yaxis": {
            "backgroundcolor": "#E5ECF6",
            "gridcolor": "white",
            "gridwidth": 2,
            "linecolor": "white",
            "showbackground": true,
            "ticks": "",
            "zerolinecolor": "white"
           },
           "zaxis": {
            "backgroundcolor": "#E5ECF6",
            "gridcolor": "white",
            "gridwidth": 2,
            "linecolor": "white",
            "showbackground": true,
            "ticks": "",
            "zerolinecolor": "white"
           }
          },
          "shapedefaults": {
           "line": {
            "color": "#2a3f5f"
           }
          },
          "ternary": {
           "aaxis": {
            "gridcolor": "white",
            "linecolor": "white",
            "ticks": ""
           },
           "baxis": {
            "gridcolor": "white",
            "linecolor": "white",
            "ticks": ""
           },
           "bgcolor": "#E5ECF6",
           "caxis": {
            "gridcolor": "white",
            "linecolor": "white",
            "ticks": ""
           }
          },
          "title": {
           "x": 0.05
          },
          "xaxis": {
           "automargin": true,
           "gridcolor": "white",
           "linecolor": "white",
           "ticks": "",
           "title": {
            "standoff": 15
           },
           "zerolinecolor": "white",
           "zerolinewidth": 2
          },
          "yaxis": {
           "automargin": true,
           "gridcolor": "white",
           "linecolor": "white",
           "ticks": "",
           "title": {
            "standoff": 15
           },
           "zerolinecolor": "white",
           "zerolinewidth": 2
          }
         }
        },
        "title": {
         "text": "Динамика среднего чека по месяцам"
        },
        "xaxis": {
         "anchor": "y",
         "domain": [
          0,
          1
         ],
         "title": {
          "text": "дата"
         }
        },
        "yaxis": {
         "anchor": "x",
         "domain": [
          0,
          1
         ],
         "title": {
          "text": "средний чек, руб"
         }
        }
       }
      }
     },
     "metadata": {},
     "output_type": "display_data"
    }
   ],
   "source": [
    "fig = px.line(mean_chek,\n",
    "              x='date_round',\n",
    "              y='mean_chek',\n",
    "              line_shape='spline',\n",
    "              labels=dict(\n",
    "                  date_round='дата',\n",
    "                  mean_chek='средний чек, руб'\n",
    "              ),\n",
    "              title=f\"Динамика среднего чека по месяцам\")\n",
    "\n",
    "fig.update_traces(line_width=6, line_color='seagreen')"
   ]
  },
  {
   "cell_type": "markdown",
   "metadata": {},
   "source": [
    "отметим что в июне большой чек, а это значит что покупают на большие суммы но за меньшее число заказов."
   ]
  },
  {
   "cell_type": "markdown",
   "metadata": {},
   "source": [
    "## Помесячная динамика средней выручки"
   ]
  },
  {
   "cell_type": "markdown",
   "metadata": {},
   "source": [
    "Рассмотрим тперь помесячную динамику средней выручки с покупателя."
   ]
  },
  {
   "cell_type": "code",
   "execution_count": 112,
   "metadata": {},
   "outputs": [
    {
     "data": {
      "text/html": [
       "<div>\n",
       "<style scoped>\n",
       "    .dataframe tbody tr th:only-of-type {\n",
       "        vertical-align: middle;\n",
       "    }\n",
       "\n",
       "    .dataframe tbody tr th {\n",
       "        vertical-align: top;\n",
       "    }\n",
       "\n",
       "    .dataframe thead th {\n",
       "        text-align: right;\n",
       "    }\n",
       "</style>\n",
       "<table border=\"1\" class=\"dataframe\">\n",
       "  <thead>\n",
       "    <tr style=\"text-align: right;\">\n",
       "      <th></th>\n",
       "      <th>date_round</th>\n",
       "      <th>revenue</th>\n",
       "      <th>count_customer</th>\n",
       "      <th>mean_revenue</th>\n",
       "    </tr>\n",
       "  </thead>\n",
       "  <tbody>\n",
       "    <tr>\n",
       "      <th>0</th>\n",
       "      <td>2018-10-01</td>\n",
       "      <td>391767.000000</td>\n",
       "      <td>178</td>\n",
       "      <td>2201.0</td>\n",
       "    </tr>\n",
       "    <tr>\n",
       "      <th>1</th>\n",
       "      <td>2018-11-01</td>\n",
       "      <td>346199.000000</td>\n",
       "      <td>178</td>\n",
       "      <td>1945.0</td>\n",
       "    </tr>\n",
       "    <tr>\n",
       "      <th>2</th>\n",
       "      <td>2018-12-01</td>\n",
       "      <td>339076.000000</td>\n",
       "      <td>229</td>\n",
       "      <td>1481.0</td>\n",
       "    </tr>\n",
       "    <tr>\n",
       "      <th>3</th>\n",
       "      <td>2019-01-01</td>\n",
       "      <td>254022.000000</td>\n",
       "      <td>152</td>\n",
       "      <td>1671.0</td>\n",
       "    </tr>\n",
       "    <tr>\n",
       "      <th>4</th>\n",
       "      <td>2019-02-01</td>\n",
       "      <td>290355.000000</td>\n",
       "      <td>245</td>\n",
       "      <td>1185.0</td>\n",
       "    </tr>\n",
       "    <tr>\n",
       "      <th>5</th>\n",
       "      <td>2019-03-01</td>\n",
       "      <td>290353.000000</td>\n",
       "      <td>228</td>\n",
       "      <td>1273.0</td>\n",
       "    </tr>\n",
       "    <tr>\n",
       "      <th>6</th>\n",
       "      <td>2019-04-01</td>\n",
       "      <td>379783.000000</td>\n",
       "      <td>237</td>\n",
       "      <td>1602.0</td>\n",
       "    </tr>\n",
       "    <tr>\n",
       "      <th>7</th>\n",
       "      <td>2019-05-01</td>\n",
       "      <td>301504.000000</td>\n",
       "      <td>166</td>\n",
       "      <td>1816.0</td>\n",
       "    </tr>\n",
       "    <tr>\n",
       "      <th>8</th>\n",
       "      <td>2019-06-01</td>\n",
       "      <td>407945.000000</td>\n",
       "      <td>151</td>\n",
       "      <td>2702.0</td>\n",
       "    </tr>\n",
       "    <tr>\n",
       "      <th>9</th>\n",
       "      <td>2019-07-01</td>\n",
       "      <td>276547.000000</td>\n",
       "      <td>187</td>\n",
       "      <td>1479.0</td>\n",
       "    </tr>\n",
       "    <tr>\n",
       "      <th>10</th>\n",
       "      <td>2019-08-01</td>\n",
       "      <td>197490.000000</td>\n",
       "      <td>166</td>\n",
       "      <td>1190.0</td>\n",
       "    </tr>\n",
       "    <tr>\n",
       "      <th>11</th>\n",
       "      <td>2019-09-01</td>\n",
       "      <td>201467.000000</td>\n",
       "      <td>172</td>\n",
       "      <td>1171.0</td>\n",
       "    </tr>\n",
       "    <tr>\n",
       "      <th>12</th>\n",
       "      <td>2019-10-01</td>\n",
       "      <td>240057.000000</td>\n",
       "      <td>174</td>\n",
       "      <td>1380.0</td>\n",
       "    </tr>\n",
       "    <tr>\n",
       "      <th>13</th>\n",
       "      <td>2019-11-01</td>\n",
       "      <td>128791.750000</td>\n",
       "      <td>217</td>\n",
       "      <td>594.0</td>\n",
       "    </tr>\n",
       "    <tr>\n",
       "      <th>14</th>\n",
       "      <td>2019-12-01</td>\n",
       "      <td>202885.333333</td>\n",
       "      <td>246</td>\n",
       "      <td>825.0</td>\n",
       "    </tr>\n",
       "    <tr>\n",
       "      <th>15</th>\n",
       "      <td>2020-01-01</td>\n",
       "      <td>174036.333333</td>\n",
       "      <td>269</td>\n",
       "      <td>647.0</td>\n",
       "    </tr>\n",
       "  </tbody>\n",
       "</table>\n",
       "</div>"
      ],
      "text/plain": [
       "   date_round        revenue  count_customer  mean_revenue\n",
       "0  2018-10-01  391767.000000             178        2201.0\n",
       "1  2018-11-01  346199.000000             178        1945.0\n",
       "2  2018-12-01  339076.000000             229        1481.0\n",
       "3  2019-01-01  254022.000000             152        1671.0\n",
       "4  2019-02-01  290355.000000             245        1185.0\n",
       "5  2019-03-01  290353.000000             228        1273.0\n",
       "6  2019-04-01  379783.000000             237        1602.0\n",
       "7  2019-05-01  301504.000000             166        1816.0\n",
       "8  2019-06-01  407945.000000             151        2702.0\n",
       "9  2019-07-01  276547.000000             187        1479.0\n",
       "10 2019-08-01  197490.000000             166        1190.0\n",
       "11 2019-09-01  201467.000000             172        1171.0\n",
       "12 2019-10-01  240057.000000             174        1380.0\n",
       "13 2019-11-01  128791.750000             217         594.0\n",
       "14 2019-12-01  202885.333333             246         825.0\n",
       "15 2020-01-01  174036.333333             269         647.0"
      ]
     },
     "execution_count": 112,
     "metadata": {},
     "output_type": "execute_result"
    }
   ],
   "source": [
    "revenue_month_dynamic = (data\n",
    "                         .groupby('date_round', as_index=False)\n",
    "                         .aggregate(dict(total_price='sum',\n",
    "\n",
    "                                         customer_id='nunique'))\n",
    "                         .rename(columns=dict(\n",
    "\n",
    "                             total_price='revenue',\n",
    "                             customer_id='count_customer')))\n",
    "\n",
    "\n",
    "\n",
    "revenue_month_dynamic['mean_revenue'] = round(revenue_month_dynamic['revenue'] /\n",
    "                                              revenue_month_dynamic['count_customer'])\n",
    "\n",
    "\n",
    "\n",
    "revenue_month_dynamic"
   ]
  },
  {
   "cell_type": "code",
   "execution_count": 113,
   "metadata": {},
   "outputs": [
    {
     "data": {
      "application/vnd.plotly.v1+json": {
       "config": {
        "plotlyServerURL": "https://plot.ly"
       },
       "data": [
        {
         "hovertemplate": "дата=%{x}<br>средняя выручка, руб=%{y}<extra></extra>",
         "legendgroup": "",
         "line": {
          "color": "lightseagreen",
          "dash": "solid",
          "shape": "spline",
          "width": 6
         },
         "marker": {
          "symbol": "circle"
         },
         "mode": "lines",
         "name": "",
         "orientation": "v",
         "showlegend": false,
         "type": "scatter",
         "x": [
          "2018-10-01T00:00:00",
          "2018-11-01T00:00:00",
          "2018-12-01T00:00:00",
          "2019-01-01T00:00:00",
          "2019-02-01T00:00:00",
          "2019-03-01T00:00:00",
          "2019-04-01T00:00:00",
          "2019-05-01T00:00:00",
          "2019-06-01T00:00:00",
          "2019-07-01T00:00:00",
          "2019-08-01T00:00:00",
          "2019-09-01T00:00:00",
          "2019-10-01T00:00:00",
          "2019-11-01T00:00:00",
          "2019-12-01T00:00:00",
          "2020-01-01T00:00:00"
         ],
         "xaxis": "x",
         "y": [
          2201,
          1945,
          1481,
          1671,
          1185,
          1273,
          1602,
          1816,
          2702,
          1479,
          1190,
          1171,
          1380,
          594,
          825,
          647
         ],
         "yaxis": "y"
        }
       ],
       "layout": {
        "legend": {
         "tracegroupgap": 0
        },
        "template": {
         "data": {
          "bar": [
           {
            "error_x": {
             "color": "#2a3f5f"
            },
            "error_y": {
             "color": "#2a3f5f"
            },
            "marker": {
             "line": {
              "color": "#E5ECF6",
              "width": 0.5
             },
             "pattern": {
              "fillmode": "overlay",
              "size": 10,
              "solidity": 0.2
             }
            },
            "type": "bar"
           }
          ],
          "barpolar": [
           {
            "marker": {
             "line": {
              "color": "#E5ECF6",
              "width": 0.5
             },
             "pattern": {
              "fillmode": "overlay",
              "size": 10,
              "solidity": 0.2
             }
            },
            "type": "barpolar"
           }
          ],
          "carpet": [
           {
            "aaxis": {
             "endlinecolor": "#2a3f5f",
             "gridcolor": "white",
             "linecolor": "white",
             "minorgridcolor": "white",
             "startlinecolor": "#2a3f5f"
            },
            "baxis": {
             "endlinecolor": "#2a3f5f",
             "gridcolor": "white",
             "linecolor": "white",
             "minorgridcolor": "white",
             "startlinecolor": "#2a3f5f"
            },
            "type": "carpet"
           }
          ],
          "choropleth": [
           {
            "colorbar": {
             "outlinewidth": 0,
             "ticks": ""
            },
            "type": "choropleth"
           }
          ],
          "contour": [
           {
            "colorbar": {
             "outlinewidth": 0,
             "ticks": ""
            },
            "colorscale": [
             [
              0,
              "#0d0887"
             ],
             [
              0.1111111111111111,
              "#46039f"
             ],
             [
              0.2222222222222222,
              "#7201a8"
             ],
             [
              0.3333333333333333,
              "#9c179e"
             ],
             [
              0.4444444444444444,
              "#bd3786"
             ],
             [
              0.5555555555555556,
              "#d8576b"
             ],
             [
              0.6666666666666666,
              "#ed7953"
             ],
             [
              0.7777777777777778,
              "#fb9f3a"
             ],
             [
              0.8888888888888888,
              "#fdca26"
             ],
             [
              1,
              "#f0f921"
             ]
            ],
            "type": "contour"
           }
          ],
          "contourcarpet": [
           {
            "colorbar": {
             "outlinewidth": 0,
             "ticks": ""
            },
            "type": "contourcarpet"
           }
          ],
          "heatmap": [
           {
            "colorbar": {
             "outlinewidth": 0,
             "ticks": ""
            },
            "colorscale": [
             [
              0,
              "#0d0887"
             ],
             [
              0.1111111111111111,
              "#46039f"
             ],
             [
              0.2222222222222222,
              "#7201a8"
             ],
             [
              0.3333333333333333,
              "#9c179e"
             ],
             [
              0.4444444444444444,
              "#bd3786"
             ],
             [
              0.5555555555555556,
              "#d8576b"
             ],
             [
              0.6666666666666666,
              "#ed7953"
             ],
             [
              0.7777777777777778,
              "#fb9f3a"
             ],
             [
              0.8888888888888888,
              "#fdca26"
             ],
             [
              1,
              "#f0f921"
             ]
            ],
            "type": "heatmap"
           }
          ],
          "heatmapgl": [
           {
            "colorbar": {
             "outlinewidth": 0,
             "ticks": ""
            },
            "colorscale": [
             [
              0,
              "#0d0887"
             ],
             [
              0.1111111111111111,
              "#46039f"
             ],
             [
              0.2222222222222222,
              "#7201a8"
             ],
             [
              0.3333333333333333,
              "#9c179e"
             ],
             [
              0.4444444444444444,
              "#bd3786"
             ],
             [
              0.5555555555555556,
              "#d8576b"
             ],
             [
              0.6666666666666666,
              "#ed7953"
             ],
             [
              0.7777777777777778,
              "#fb9f3a"
             ],
             [
              0.8888888888888888,
              "#fdca26"
             ],
             [
              1,
              "#f0f921"
             ]
            ],
            "type": "heatmapgl"
           }
          ],
          "histogram": [
           {
            "marker": {
             "pattern": {
              "fillmode": "overlay",
              "size": 10,
              "solidity": 0.2
             }
            },
            "type": "histogram"
           }
          ],
          "histogram2d": [
           {
            "colorbar": {
             "outlinewidth": 0,
             "ticks": ""
            },
            "colorscale": [
             [
              0,
              "#0d0887"
             ],
             [
              0.1111111111111111,
              "#46039f"
             ],
             [
              0.2222222222222222,
              "#7201a8"
             ],
             [
              0.3333333333333333,
              "#9c179e"
             ],
             [
              0.4444444444444444,
              "#bd3786"
             ],
             [
              0.5555555555555556,
              "#d8576b"
             ],
             [
              0.6666666666666666,
              "#ed7953"
             ],
             [
              0.7777777777777778,
              "#fb9f3a"
             ],
             [
              0.8888888888888888,
              "#fdca26"
             ],
             [
              1,
              "#f0f921"
             ]
            ],
            "type": "histogram2d"
           }
          ],
          "histogram2dcontour": [
           {
            "colorbar": {
             "outlinewidth": 0,
             "ticks": ""
            },
            "colorscale": [
             [
              0,
              "#0d0887"
             ],
             [
              0.1111111111111111,
              "#46039f"
             ],
             [
              0.2222222222222222,
              "#7201a8"
             ],
             [
              0.3333333333333333,
              "#9c179e"
             ],
             [
              0.4444444444444444,
              "#bd3786"
             ],
             [
              0.5555555555555556,
              "#d8576b"
             ],
             [
              0.6666666666666666,
              "#ed7953"
             ],
             [
              0.7777777777777778,
              "#fb9f3a"
             ],
             [
              0.8888888888888888,
              "#fdca26"
             ],
             [
              1,
              "#f0f921"
             ]
            ],
            "type": "histogram2dcontour"
           }
          ],
          "mesh3d": [
           {
            "colorbar": {
             "outlinewidth": 0,
             "ticks": ""
            },
            "type": "mesh3d"
           }
          ],
          "parcoords": [
           {
            "line": {
             "colorbar": {
              "outlinewidth": 0,
              "ticks": ""
             }
            },
            "type": "parcoords"
           }
          ],
          "pie": [
           {
            "automargin": true,
            "type": "pie"
           }
          ],
          "scatter": [
           {
            "marker": {
             "colorbar": {
              "outlinewidth": 0,
              "ticks": ""
             }
            },
            "type": "scatter"
           }
          ],
          "scatter3d": [
           {
            "line": {
             "colorbar": {
              "outlinewidth": 0,
              "ticks": ""
             }
            },
            "marker": {
             "colorbar": {
              "outlinewidth": 0,
              "ticks": ""
             }
            },
            "type": "scatter3d"
           }
          ],
          "scattercarpet": [
           {
            "marker": {
             "colorbar": {
              "outlinewidth": 0,
              "ticks": ""
             }
            },
            "type": "scattercarpet"
           }
          ],
          "scattergeo": [
           {
            "marker": {
             "colorbar": {
              "outlinewidth": 0,
              "ticks": ""
             }
            },
            "type": "scattergeo"
           }
          ],
          "scattergl": [
           {
            "marker": {
             "colorbar": {
              "outlinewidth": 0,
              "ticks": ""
             }
            },
            "type": "scattergl"
           }
          ],
          "scattermapbox": [
           {
            "marker": {
             "colorbar": {
              "outlinewidth": 0,
              "ticks": ""
             }
            },
            "type": "scattermapbox"
           }
          ],
          "scatterpolar": [
           {
            "marker": {
             "colorbar": {
              "outlinewidth": 0,
              "ticks": ""
             }
            },
            "type": "scatterpolar"
           }
          ],
          "scatterpolargl": [
           {
            "marker": {
             "colorbar": {
              "outlinewidth": 0,
              "ticks": ""
             }
            },
            "type": "scatterpolargl"
           }
          ],
          "scatterternary": [
           {
            "marker": {
             "colorbar": {
              "outlinewidth": 0,
              "ticks": ""
             }
            },
            "type": "scatterternary"
           }
          ],
          "surface": [
           {
            "colorbar": {
             "outlinewidth": 0,
             "ticks": ""
            },
            "colorscale": [
             [
              0,
              "#0d0887"
             ],
             [
              0.1111111111111111,
              "#46039f"
             ],
             [
              0.2222222222222222,
              "#7201a8"
             ],
             [
              0.3333333333333333,
              "#9c179e"
             ],
             [
              0.4444444444444444,
              "#bd3786"
             ],
             [
              0.5555555555555556,
              "#d8576b"
             ],
             [
              0.6666666666666666,
              "#ed7953"
             ],
             [
              0.7777777777777778,
              "#fb9f3a"
             ],
             [
              0.8888888888888888,
              "#fdca26"
             ],
             [
              1,
              "#f0f921"
             ]
            ],
            "type": "surface"
           }
          ],
          "table": [
           {
            "cells": {
             "fill": {
              "color": "#EBF0F8"
             },
             "line": {
              "color": "white"
             }
            },
            "header": {
             "fill": {
              "color": "#C8D4E3"
             },
             "line": {
              "color": "white"
             }
            },
            "type": "table"
           }
          ]
         },
         "layout": {
          "annotationdefaults": {
           "arrowcolor": "#2a3f5f",
           "arrowhead": 0,
           "arrowwidth": 1
          },
          "autotypenumbers": "strict",
          "coloraxis": {
           "colorbar": {
            "outlinewidth": 0,
            "ticks": ""
           }
          },
          "colorscale": {
           "diverging": [
            [
             0,
             "#8e0152"
            ],
            [
             0.1,
             "#c51b7d"
            ],
            [
             0.2,
             "#de77ae"
            ],
            [
             0.3,
             "#f1b6da"
            ],
            [
             0.4,
             "#fde0ef"
            ],
            [
             0.5,
             "#f7f7f7"
            ],
            [
             0.6,
             "#e6f5d0"
            ],
            [
             0.7,
             "#b8e186"
            ],
            [
             0.8,
             "#7fbc41"
            ],
            [
             0.9,
             "#4d9221"
            ],
            [
             1,
             "#276419"
            ]
           ],
           "sequential": [
            [
             0,
             "#0d0887"
            ],
            [
             0.1111111111111111,
             "#46039f"
            ],
            [
             0.2222222222222222,
             "#7201a8"
            ],
            [
             0.3333333333333333,
             "#9c179e"
            ],
            [
             0.4444444444444444,
             "#bd3786"
            ],
            [
             0.5555555555555556,
             "#d8576b"
            ],
            [
             0.6666666666666666,
             "#ed7953"
            ],
            [
             0.7777777777777778,
             "#fb9f3a"
            ],
            [
             0.8888888888888888,
             "#fdca26"
            ],
            [
             1,
             "#f0f921"
            ]
           ],
           "sequentialminus": [
            [
             0,
             "#0d0887"
            ],
            [
             0.1111111111111111,
             "#46039f"
            ],
            [
             0.2222222222222222,
             "#7201a8"
            ],
            [
             0.3333333333333333,
             "#9c179e"
            ],
            [
             0.4444444444444444,
             "#bd3786"
            ],
            [
             0.5555555555555556,
             "#d8576b"
            ],
            [
             0.6666666666666666,
             "#ed7953"
            ],
            [
             0.7777777777777778,
             "#fb9f3a"
            ],
            [
             0.8888888888888888,
             "#fdca26"
            ],
            [
             1,
             "#f0f921"
            ]
           ]
          },
          "colorway": [
           "#636efa",
           "#EF553B",
           "#00cc96",
           "#ab63fa",
           "#FFA15A",
           "#19d3f3",
           "#FF6692",
           "#B6E880",
           "#FF97FF",
           "#FECB52"
          ],
          "font": {
           "color": "#2a3f5f"
          },
          "geo": {
           "bgcolor": "white",
           "lakecolor": "white",
           "landcolor": "#E5ECF6",
           "showlakes": true,
           "showland": true,
           "subunitcolor": "white"
          },
          "hoverlabel": {
           "align": "left"
          },
          "hovermode": "closest",
          "mapbox": {
           "style": "light"
          },
          "paper_bgcolor": "white",
          "plot_bgcolor": "#E5ECF6",
          "polar": {
           "angularaxis": {
            "gridcolor": "white",
            "linecolor": "white",
            "ticks": ""
           },
           "bgcolor": "#E5ECF6",
           "radialaxis": {
            "gridcolor": "white",
            "linecolor": "white",
            "ticks": ""
           }
          },
          "scene": {
           "xaxis": {
            "backgroundcolor": "#E5ECF6",
            "gridcolor": "white",
            "gridwidth": 2,
            "linecolor": "white",
            "showbackground": true,
            "ticks": "",
            "zerolinecolor": "white"
           },
           "yaxis": {
            "backgroundcolor": "#E5ECF6",
            "gridcolor": "white",
            "gridwidth": 2,
            "linecolor": "white",
            "showbackground": true,
            "ticks": "",
            "zerolinecolor": "white"
           },
           "zaxis": {
            "backgroundcolor": "#E5ECF6",
            "gridcolor": "white",
            "gridwidth": 2,
            "linecolor": "white",
            "showbackground": true,
            "ticks": "",
            "zerolinecolor": "white"
           }
          },
          "shapedefaults": {
           "line": {
            "color": "#2a3f5f"
           }
          },
          "ternary": {
           "aaxis": {
            "gridcolor": "white",
            "linecolor": "white",
            "ticks": ""
           },
           "baxis": {
            "gridcolor": "white",
            "linecolor": "white",
            "ticks": ""
           },
           "bgcolor": "#E5ECF6",
           "caxis": {
            "gridcolor": "white",
            "linecolor": "white",
            "ticks": ""
           }
          },
          "title": {
           "x": 0.05
          },
          "xaxis": {
           "automargin": true,
           "gridcolor": "white",
           "linecolor": "white",
           "ticks": "",
           "title": {
            "standoff": 15
           },
           "zerolinecolor": "white",
           "zerolinewidth": 2
          },
          "yaxis": {
           "automargin": true,
           "gridcolor": "white",
           "linecolor": "white",
           "ticks": "",
           "title": {
            "standoff": 15
           },
           "zerolinecolor": "white",
           "zerolinewidth": 2
          }
         }
        },
        "title": {
         "text": "Динамика средней выручки с покупателя по месяцам"
        },
        "xaxis": {
         "anchor": "y",
         "domain": [
          0,
          1
         ],
         "title": {
          "text": "дата"
         }
        },
        "yaxis": {
         "anchor": "x",
         "domain": [
          0,
          1
         ],
         "title": {
          "text": "средняя выручка, руб"
         }
        }
       }
      }
     },
     "metadata": {},
     "output_type": "display_data"
    }
   ],
   "source": [
    "fig = px.line(revenue_month_dynamic,\n",
    "              x='date_round',\n",
    "              y='mean_revenue',\n",
    "              line_shape='spline',\n",
    "              labels=dict(date_round='дата',\n",
    "                          mean_revenue='средняя выручка, руб'),\n",
    "              title=f\"Динамика средней выручки с покупателя по месяцам\")\n",
    "\n",
    "fig.update_traces(line_width=6, line_color='lightseagreen')"
   ]
  },
  {
   "cell_type": "markdown",
   "metadata": {},
   "source": [
    "в Июне 2019 средняя выручка высокая - значит закупаются клиенты которые знакомы с интернет-магазиноом и знают что покупать в этолт месяц ."
   ]
  },
  {
   "cell_type": "markdown",
   "metadata": {},
   "source": [
    "## Сегментация покупателей на основе истории покупок"
   ]
  },
  {
   "cell_type": "markdown",
   "metadata": {},
   "source": [
    "Выполним сегментацию пользователей на основе истории их покупок при помощи RFM анализа"
   ]
  },
  {
   "cell_type": "markdown",
   "metadata": {},
   "source": [
    "Необходимое для этого метода: \n",
    "-  давность покупки,    \n",
    "-  количество покупок,    \n",
    "- сумма покупок"
   ]
  },
  {
   "cell_type": "markdown",
   "metadata": {},
   "source": [
    "Для начала созданим таблицу пользователей с первой и последней датой покупки , числом заказов, и стоимостью заказа"
   ]
  },
  {
   "cell_type": "code",
   "execution_count": 114,
   "metadata": {},
   "outputs": [
    {
     "data": {
      "text/html": [
       "<div>\n",
       "<style scoped>\n",
       "    .dataframe tbody tr th:only-of-type {\n",
       "        vertical-align: middle;\n",
       "    }\n",
       "\n",
       "    .dataframe tbody tr th {\n",
       "        vertical-align: top;\n",
       "    }\n",
       "\n",
       "    .dataframe thead th {\n",
       "        text-align: right;\n",
       "    }\n",
       "</style>\n",
       "<table border=\"1\" class=\"dataframe\">\n",
       "  <thead>\n",
       "    <tr style=\"text-align: right;\">\n",
       "      <th></th>\n",
       "      <th>customer_id</th>\n",
       "      <th>last_date</th>\n",
       "      <th>count_orders</th>\n",
       "      <th>revenue</th>\n",
       "    </tr>\n",
       "  </thead>\n",
       "  <tbody>\n",
       "    <tr>\n",
       "      <th>0</th>\n",
       "      <td>000d6849-084e-4d9f-ac03-37174eaf60c4</td>\n",
       "      <td>2019-10-16</td>\n",
       "      <td>1</td>\n",
       "      <td>555.0</td>\n",
       "    </tr>\n",
       "    <tr>\n",
       "      <th>1</th>\n",
       "      <td>001cee7f-0b29-4716-b202-0042213ab038</td>\n",
       "      <td>2019-02-16</td>\n",
       "      <td>1</td>\n",
       "      <td>442.0</td>\n",
       "    </tr>\n",
       "    <tr>\n",
       "      <th>2</th>\n",
       "      <td>00299f34-5385-4d13-9aea-c80b81658e1b</td>\n",
       "      <td>2019-10-14</td>\n",
       "      <td>1</td>\n",
       "      <td>914.0</td>\n",
       "    </tr>\n",
       "    <tr>\n",
       "      <th>3</th>\n",
       "      <td>002d4d3a-4a59-406b-86ec-c3314357e498</td>\n",
       "      <td>2019-01-27</td>\n",
       "      <td>1</td>\n",
       "      <td>1649.0</td>\n",
       "    </tr>\n",
       "    <tr>\n",
       "      <th>4</th>\n",
       "      <td>003bbd39-0000-41ff-b7f9-2ddaec152037</td>\n",
       "      <td>2019-09-29</td>\n",
       "      <td>1</td>\n",
       "      <td>2324.0</td>\n",
       "    </tr>\n",
       "  </tbody>\n",
       "</table>\n",
       "</div>"
      ],
      "text/plain": [
       "                            customer_id   last_date  count_orders  revenue\n",
       "0  000d6849-084e-4d9f-ac03-37174eaf60c4  2019-10-16             1    555.0\n",
       "1  001cee7f-0b29-4716-b202-0042213ab038  2019-02-16             1    442.0\n",
       "2  00299f34-5385-4d13-9aea-c80b81658e1b  2019-10-14             1    914.0\n",
       "3  002d4d3a-4a59-406b-86ec-c3314357e498  2019-01-27             1   1649.0\n",
       "4  003bbd39-0000-41ff-b7f9-2ddaec152037  2019-09-29             1   2324.0"
      ]
     },
     "execution_count": 114,
     "metadata": {},
     "output_type": "execute_result"
    }
   ],
   "source": [
    "table_customer = (data\n",
    "                  .groupby('customer_id', as_index=False)\n",
    "                  .aggregate(dict(date='max',\n",
    "\n",
    "                                  order_id='nunique',\n",
    "\n",
    "                                  total_price='sum')))\n",
    "\n",
    "\n",
    "table_customer.rename(columns=dict(date='last_date',\n",
    "                                   order_id='count_orders',\n",
    "\n",
    "                                   total_price='revenue'), inplace=True)\n",
    "\n",
    "\n",
    "table_customer.head()"
   ]
  },
  {
   "cell_type": "markdown",
   "metadata": {},
   "source": [
    "Запишем в данную таблицу сколько дней назад была провденена последняя покупка. "
   ]
  },
  {
   "cell_type": "code",
   "execution_count": 115,
   "metadata": {},
   "outputs": [
    {
     "name": "stdout",
     "output_type": "stream",
     "text": [
      "Датой отсчета берем самую последнюю дату - 2020-01-31\n"
     ]
    }
   ],
   "source": [
    "start_date = data['date'].max()\n",
    "print('Датой отсчета берем самую последнюю дату -', start_date)"
   ]
  },
  {
   "cell_type": "code",
   "execution_count": 116,
   "metadata": {},
   "outputs": [
    {
     "data": {
      "text/html": [
       "<div>\n",
       "<style scoped>\n",
       "    .dataframe tbody tr th:only-of-type {\n",
       "        vertical-align: middle;\n",
       "    }\n",
       "\n",
       "    .dataframe tbody tr th {\n",
       "        vertical-align: top;\n",
       "    }\n",
       "\n",
       "    .dataframe thead th {\n",
       "        text-align: right;\n",
       "    }\n",
       "</style>\n",
       "<table border=\"1\" class=\"dataframe\">\n",
       "  <thead>\n",
       "    <tr style=\"text-align: right;\">\n",
       "      <th></th>\n",
       "      <th>customer_id</th>\n",
       "      <th>last_date</th>\n",
       "      <th>count_orders</th>\n",
       "      <th>revenue</th>\n",
       "      <th>delta_date</th>\n",
       "    </tr>\n",
       "  </thead>\n",
       "  <tbody>\n",
       "    <tr>\n",
       "      <th>0</th>\n",
       "      <td>000d6849-084e-4d9f-ac03-37174eaf60c4</td>\n",
       "      <td>2019-10-16</td>\n",
       "      <td>1</td>\n",
       "      <td>555.0</td>\n",
       "      <td>107 days</td>\n",
       "    </tr>\n",
       "    <tr>\n",
       "      <th>1</th>\n",
       "      <td>001cee7f-0b29-4716-b202-0042213ab038</td>\n",
       "      <td>2019-02-16</td>\n",
       "      <td>1</td>\n",
       "      <td>442.0</td>\n",
       "      <td>349 days</td>\n",
       "    </tr>\n",
       "    <tr>\n",
       "      <th>2</th>\n",
       "      <td>00299f34-5385-4d13-9aea-c80b81658e1b</td>\n",
       "      <td>2019-10-14</td>\n",
       "      <td>1</td>\n",
       "      <td>914.0</td>\n",
       "      <td>109 days</td>\n",
       "    </tr>\n",
       "    <tr>\n",
       "      <th>3</th>\n",
       "      <td>002d4d3a-4a59-406b-86ec-c3314357e498</td>\n",
       "      <td>2019-01-27</td>\n",
       "      <td>1</td>\n",
       "      <td>1649.0</td>\n",
       "      <td>369 days</td>\n",
       "    </tr>\n",
       "    <tr>\n",
       "      <th>4</th>\n",
       "      <td>003bbd39-0000-41ff-b7f9-2ddaec152037</td>\n",
       "      <td>2019-09-29</td>\n",
       "      <td>1</td>\n",
       "      <td>2324.0</td>\n",
       "      <td>124 days</td>\n",
       "    </tr>\n",
       "  </tbody>\n",
       "</table>\n",
       "</div>"
      ],
      "text/plain": [
       "                            customer_id   last_date  count_orders  revenue  \\\n",
       "0  000d6849-084e-4d9f-ac03-37174eaf60c4  2019-10-16             1    555.0   \n",
       "1  001cee7f-0b29-4716-b202-0042213ab038  2019-02-16             1    442.0   \n",
       "2  00299f34-5385-4d13-9aea-c80b81658e1b  2019-10-14             1    914.0   \n",
       "3  002d4d3a-4a59-406b-86ec-c3314357e498  2019-01-27             1   1649.0   \n",
       "4  003bbd39-0000-41ff-b7f9-2ddaec152037  2019-09-29             1   2324.0   \n",
       "\n",
       "  delta_date  \n",
       "0   107 days  \n",
       "1   349 days  \n",
       "2   109 days  \n",
       "3   369 days  \n",
       "4   124 days  "
      ]
     },
     "execution_count": 116,
     "metadata": {},
     "output_type": "execute_result"
    }
   ],
   "source": [
    "table_customer['delta_date'] = (table_customer['last_date']\n",
    "                                .apply(lambda x:\n",
    "                                       pd.to_timedelta(start_date - x)\n",
    "                                       )\n",
    "                                )\n",
    "\n",
    "\n",
    "table_customer.head()"
   ]
  },
  {
   "cell_type": "code",
   "execution_count": 117,
   "metadata": {},
   "outputs": [
    {
     "data": {
      "text/plain": [
       "customer_id              object\n",
       "last_date                object\n",
       "count_orders              int64\n",
       "revenue                 float64\n",
       "delta_date      timedelta64[ns]\n",
       "dtype: object"
      ]
     },
     "execution_count": 117,
     "metadata": {},
     "output_type": "execute_result"
    }
   ],
   "source": [
    "table_customer.dtypes"
   ]
  },
  {
   "cell_type": "markdown",
   "metadata": {},
   "source": [
    "Так как данные типа `timedelta64` могут возвращать в перцентилях не дни а секунды то окончательно превратим разницу дат в дни как число для удобных вычислений"
   ]
  },
  {
   "cell_type": "code",
   "execution_count": 118,
   "metadata": {},
   "outputs": [
    {
     "data": {
      "text/plain": [
       "customer_id      object\n",
       "last_date        object\n",
       "count_orders      int64\n",
       "revenue         float64\n",
       "delta_date        int64\n",
       "dtype: object"
      ]
     },
     "execution_count": 118,
     "metadata": {},
     "output_type": "execute_result"
    }
   ],
   "source": [
    "table_customer['delta_date'] = table_customer['delta_date'].dt.days\n",
    "table_customer.dtypes"
   ]
  },
  {
   "cell_type": "markdown",
   "metadata": {},
   "source": [
    "**Проранжируем клиентов следующим образом**   \n",
    "\n",
    "Ранжирование по давности  \n",
    " - 1- клиенты, покупавшие очень давно  \n",
    " - 2 - относительно недавние клиенты\n",
    " - 3 - только пришедшие клиенты\n",
    "\n",
    " Ранжирование по частоте покупок   \n",
    " - 1- клиенты, совершившие очень мало покупок   \n",
    " - 2 - клиент, крайне редко покупающий\n",
    " - 3 - постоянный покупатель\n",
    "\n",
    " Ранжирование по сумме покупки   \n",
    " - 1- небольшая сумма покупки  \n",
    " - 2 - средние затраты\n",
    " - 3 - крупная сумма, потраченная клиентом"
   ]
  },
  {
   "cell_type": "markdown",
   "metadata": {},
   "source": [
    "Границы значений для рангов определим через перцентили"
   ]
  },
  {
   "cell_type": "code",
   "execution_count": 119,
   "metadata": {},
   "outputs": [],
   "source": [
    "bounds = [33, 66]"
   ]
  },
  {
   "cell_type": "code",
   "execution_count": 120,
   "metadata": {},
   "outputs": [
    {
     "name": "stdout",
     "output_type": "stream",
     "text": [
      "Границы дней последней покупки: 103.0 и 298.0\n",
      "Границы количества заказов: 1.0 и 2.0\n",
      "Границы суммы покупки: 562.0 и 1496.0\n"
     ]
    }
   ],
   "source": [
    "\n",
    "bounds_delta_days = np.percentile(table_customer['delta_date'], bounds)\n",
    "print(\n",
    "    f'Границы дней последней покупки: {bounds_delta_days[0]} и {bounds_delta_days[1]}')\n",
    "\n",
    "bounds_orders = np.percentile(table_customer['count_orders'], bounds)\n",
    "print(f'Границы количества заказов: {bounds_orders[0]} и {bounds_orders[1]}')\n",
    "\n",
    "\n",
    "bounds_revenue = np.percentile(table_customer['revenue'], bounds)\n",
    "print(f'Границы суммы покупки: {bounds_revenue[0]} и {bounds_revenue[1]}')"
   ]
  },
  {
   "cell_type": "markdown",
   "metadata": {},
   "source": [
    "Запишем каждый ранг для каждого пользователля в своем столбце"
   ]
  },
  {
   "cell_type": "markdown",
   "metadata": {},
   "source": [
    "Ранжирование по давности:"
   ]
  },
  {
   "cell_type": "code",
   "execution_count": 121,
   "metadata": {},
   "outputs": [
    {
     "data": {
      "text/html": [
       "<div>\n",
       "<style scoped>\n",
       "    .dataframe tbody tr th:only-of-type {\n",
       "        vertical-align: middle;\n",
       "    }\n",
       "\n",
       "    .dataframe tbody tr th {\n",
       "        vertical-align: top;\n",
       "    }\n",
       "\n",
       "    .dataframe thead th {\n",
       "        text-align: right;\n",
       "    }\n",
       "</style>\n",
       "<table border=\"1\" class=\"dataframe\">\n",
       "  <thead>\n",
       "    <tr style=\"text-align: right;\">\n",
       "      <th></th>\n",
       "      <th>customer_id</th>\n",
       "      <th>last_date</th>\n",
       "      <th>count_orders</th>\n",
       "      <th>revenue</th>\n",
       "      <th>delta_date</th>\n",
       "      <th>range_r</th>\n",
       "    </tr>\n",
       "  </thead>\n",
       "  <tbody>\n",
       "    <tr>\n",
       "      <th>0</th>\n",
       "      <td>000d6849-084e-4d9f-ac03-37174eaf60c4</td>\n",
       "      <td>2019-10-16</td>\n",
       "      <td>1</td>\n",
       "      <td>555.0</td>\n",
       "      <td>107</td>\n",
       "      <td>2</td>\n",
       "    </tr>\n",
       "    <tr>\n",
       "      <th>1</th>\n",
       "      <td>001cee7f-0b29-4716-b202-0042213ab038</td>\n",
       "      <td>2019-02-16</td>\n",
       "      <td>1</td>\n",
       "      <td>442.0</td>\n",
       "      <td>349</td>\n",
       "      <td>1</td>\n",
       "    </tr>\n",
       "    <tr>\n",
       "      <th>2</th>\n",
       "      <td>00299f34-5385-4d13-9aea-c80b81658e1b</td>\n",
       "      <td>2019-10-14</td>\n",
       "      <td>1</td>\n",
       "      <td>914.0</td>\n",
       "      <td>109</td>\n",
       "      <td>2</td>\n",
       "    </tr>\n",
       "    <tr>\n",
       "      <th>3</th>\n",
       "      <td>002d4d3a-4a59-406b-86ec-c3314357e498</td>\n",
       "      <td>2019-01-27</td>\n",
       "      <td>1</td>\n",
       "      <td>1649.0</td>\n",
       "      <td>369</td>\n",
       "      <td>1</td>\n",
       "    </tr>\n",
       "    <tr>\n",
       "      <th>4</th>\n",
       "      <td>003bbd39-0000-41ff-b7f9-2ddaec152037</td>\n",
       "      <td>2019-09-29</td>\n",
       "      <td>1</td>\n",
       "      <td>2324.0</td>\n",
       "      <td>124</td>\n",
       "      <td>2</td>\n",
       "    </tr>\n",
       "  </tbody>\n",
       "</table>\n",
       "</div>"
      ],
      "text/plain": [
       "                            customer_id   last_date  count_orders  revenue  \\\n",
       "0  000d6849-084e-4d9f-ac03-37174eaf60c4  2019-10-16             1    555.0   \n",
       "1  001cee7f-0b29-4716-b202-0042213ab038  2019-02-16             1    442.0   \n",
       "2  00299f34-5385-4d13-9aea-c80b81658e1b  2019-10-14             1    914.0   \n",
       "3  002d4d3a-4a59-406b-86ec-c3314357e498  2019-01-27             1   1649.0   \n",
       "4  003bbd39-0000-41ff-b7f9-2ddaec152037  2019-09-29             1   2324.0   \n",
       "\n",
       "   delta_date range_r  \n",
       "0         107       2  \n",
       "1         349       1  \n",
       "2         109       2  \n",
       "3         369       1  \n",
       "4         124       2  "
      ]
     },
     "execution_count": 121,
     "metadata": {},
     "output_type": "execute_result"
    }
   ],
   "source": [
    "table_customer['range_r'] = np.where(\n",
    "    table_customer['delta_date'] <= bounds_delta_days[0],\n",
    "    '3',\n",
    "    np.where(\n",
    "        table_customer['delta_date'] > bounds_delta_days[1],\n",
    "        '1',\n",
    "        '2'\n",
    "    )\n",
    ")\n",
    "\n",
    "\n",
    "table_customer.head()"
   ]
  },
  {
   "cell_type": "markdown",
   "metadata": {},
   "source": [
    "Ранжирование по количеству заказов:"
   ]
  },
  {
   "cell_type": "code",
   "execution_count": 122,
   "metadata": {},
   "outputs": [
    {
     "data": {
      "text/html": [
       "<div>\n",
       "<style scoped>\n",
       "    .dataframe tbody tr th:only-of-type {\n",
       "        vertical-align: middle;\n",
       "    }\n",
       "\n",
       "    .dataframe tbody tr th {\n",
       "        vertical-align: top;\n",
       "    }\n",
       "\n",
       "    .dataframe thead th {\n",
       "        text-align: right;\n",
       "    }\n",
       "</style>\n",
       "<table border=\"1\" class=\"dataframe\">\n",
       "  <thead>\n",
       "    <tr style=\"text-align: right;\">\n",
       "      <th></th>\n",
       "      <th>customer_id</th>\n",
       "      <th>last_date</th>\n",
       "      <th>count_orders</th>\n",
       "      <th>revenue</th>\n",
       "      <th>delta_date</th>\n",
       "      <th>range_r</th>\n",
       "      <th>range_f</th>\n",
       "    </tr>\n",
       "  </thead>\n",
       "  <tbody>\n",
       "    <tr>\n",
       "      <th>0</th>\n",
       "      <td>000d6849-084e-4d9f-ac03-37174eaf60c4</td>\n",
       "      <td>2019-10-16</td>\n",
       "      <td>1</td>\n",
       "      <td>555.0</td>\n",
       "      <td>107</td>\n",
       "      <td>2</td>\n",
       "      <td>1</td>\n",
       "    </tr>\n",
       "    <tr>\n",
       "      <th>1</th>\n",
       "      <td>001cee7f-0b29-4716-b202-0042213ab038</td>\n",
       "      <td>2019-02-16</td>\n",
       "      <td>1</td>\n",
       "      <td>442.0</td>\n",
       "      <td>349</td>\n",
       "      <td>1</td>\n",
       "      <td>1</td>\n",
       "    </tr>\n",
       "    <tr>\n",
       "      <th>2</th>\n",
       "      <td>00299f34-5385-4d13-9aea-c80b81658e1b</td>\n",
       "      <td>2019-10-14</td>\n",
       "      <td>1</td>\n",
       "      <td>914.0</td>\n",
       "      <td>109</td>\n",
       "      <td>2</td>\n",
       "      <td>1</td>\n",
       "    </tr>\n",
       "    <tr>\n",
       "      <th>3</th>\n",
       "      <td>002d4d3a-4a59-406b-86ec-c3314357e498</td>\n",
       "      <td>2019-01-27</td>\n",
       "      <td>1</td>\n",
       "      <td>1649.0</td>\n",
       "      <td>369</td>\n",
       "      <td>1</td>\n",
       "      <td>1</td>\n",
       "    </tr>\n",
       "    <tr>\n",
       "      <th>4</th>\n",
       "      <td>003bbd39-0000-41ff-b7f9-2ddaec152037</td>\n",
       "      <td>2019-09-29</td>\n",
       "      <td>1</td>\n",
       "      <td>2324.0</td>\n",
       "      <td>124</td>\n",
       "      <td>2</td>\n",
       "      <td>1</td>\n",
       "    </tr>\n",
       "  </tbody>\n",
       "</table>\n",
       "</div>"
      ],
      "text/plain": [
       "                            customer_id   last_date  count_orders  revenue  \\\n",
       "0  000d6849-084e-4d9f-ac03-37174eaf60c4  2019-10-16             1    555.0   \n",
       "1  001cee7f-0b29-4716-b202-0042213ab038  2019-02-16             1    442.0   \n",
       "2  00299f34-5385-4d13-9aea-c80b81658e1b  2019-10-14             1    914.0   \n",
       "3  002d4d3a-4a59-406b-86ec-c3314357e498  2019-01-27             1   1649.0   \n",
       "4  003bbd39-0000-41ff-b7f9-2ddaec152037  2019-09-29             1   2324.0   \n",
       "\n",
       "   delta_date range_r range_f  \n",
       "0         107       2       1  \n",
       "1         349       1       1  \n",
       "2         109       2       1  \n",
       "3         369       1       1  \n",
       "4         124       2       1  "
      ]
     },
     "execution_count": 122,
     "metadata": {},
     "output_type": "execute_result"
    }
   ],
   "source": [
    "table_customer['range_f'] = (np.where(\n",
    "    table_customer['count_orders'] <= bounds_orders[0],\n",
    "    '1',\n",
    "    np.where(table_customer['count_orders'] > bounds_orders[1], '3', '2')))\n",
    "\n",
    "table_customer.head()"
   ]
  },
  {
   "cell_type": "markdown",
   "metadata": {},
   "source": [
    "Ранжирование по сумме заказов:"
   ]
  },
  {
   "cell_type": "code",
   "execution_count": 123,
   "metadata": {},
   "outputs": [
    {
     "data": {
      "text/html": [
       "<div>\n",
       "<style scoped>\n",
       "    .dataframe tbody tr th:only-of-type {\n",
       "        vertical-align: middle;\n",
       "    }\n",
       "\n",
       "    .dataframe tbody tr th {\n",
       "        vertical-align: top;\n",
       "    }\n",
       "\n",
       "    .dataframe thead th {\n",
       "        text-align: right;\n",
       "    }\n",
       "</style>\n",
       "<table border=\"1\" class=\"dataframe\">\n",
       "  <thead>\n",
       "    <tr style=\"text-align: right;\">\n",
       "      <th></th>\n",
       "      <th>customer_id</th>\n",
       "      <th>last_date</th>\n",
       "      <th>count_orders</th>\n",
       "      <th>revenue</th>\n",
       "      <th>delta_date</th>\n",
       "      <th>range_r</th>\n",
       "      <th>range_f</th>\n",
       "      <th>range_m</th>\n",
       "    </tr>\n",
       "  </thead>\n",
       "  <tbody>\n",
       "    <tr>\n",
       "      <th>0</th>\n",
       "      <td>000d6849-084e-4d9f-ac03-37174eaf60c4</td>\n",
       "      <td>2019-10-16</td>\n",
       "      <td>1</td>\n",
       "      <td>555.0</td>\n",
       "      <td>107</td>\n",
       "      <td>2</td>\n",
       "      <td>1</td>\n",
       "      <td>1</td>\n",
       "    </tr>\n",
       "    <tr>\n",
       "      <th>1</th>\n",
       "      <td>001cee7f-0b29-4716-b202-0042213ab038</td>\n",
       "      <td>2019-02-16</td>\n",
       "      <td>1</td>\n",
       "      <td>442.0</td>\n",
       "      <td>349</td>\n",
       "      <td>1</td>\n",
       "      <td>1</td>\n",
       "      <td>1</td>\n",
       "    </tr>\n",
       "    <tr>\n",
       "      <th>2</th>\n",
       "      <td>00299f34-5385-4d13-9aea-c80b81658e1b</td>\n",
       "      <td>2019-10-14</td>\n",
       "      <td>1</td>\n",
       "      <td>914.0</td>\n",
       "      <td>109</td>\n",
       "      <td>2</td>\n",
       "      <td>1</td>\n",
       "      <td>2</td>\n",
       "    </tr>\n",
       "    <tr>\n",
       "      <th>3</th>\n",
       "      <td>002d4d3a-4a59-406b-86ec-c3314357e498</td>\n",
       "      <td>2019-01-27</td>\n",
       "      <td>1</td>\n",
       "      <td>1649.0</td>\n",
       "      <td>369</td>\n",
       "      <td>1</td>\n",
       "      <td>1</td>\n",
       "      <td>3</td>\n",
       "    </tr>\n",
       "    <tr>\n",
       "      <th>4</th>\n",
       "      <td>003bbd39-0000-41ff-b7f9-2ddaec152037</td>\n",
       "      <td>2019-09-29</td>\n",
       "      <td>1</td>\n",
       "      <td>2324.0</td>\n",
       "      <td>124</td>\n",
       "      <td>2</td>\n",
       "      <td>1</td>\n",
       "      <td>3</td>\n",
       "    </tr>\n",
       "  </tbody>\n",
       "</table>\n",
       "</div>"
      ],
      "text/plain": [
       "                            customer_id   last_date  count_orders  revenue  \\\n",
       "0  000d6849-084e-4d9f-ac03-37174eaf60c4  2019-10-16             1    555.0   \n",
       "1  001cee7f-0b29-4716-b202-0042213ab038  2019-02-16             1    442.0   \n",
       "2  00299f34-5385-4d13-9aea-c80b81658e1b  2019-10-14             1    914.0   \n",
       "3  002d4d3a-4a59-406b-86ec-c3314357e498  2019-01-27             1   1649.0   \n",
       "4  003bbd39-0000-41ff-b7f9-2ddaec152037  2019-09-29             1   2324.0   \n",
       "\n",
       "   delta_date range_r range_f range_m  \n",
       "0         107       2       1       1  \n",
       "1         349       1       1       1  \n",
       "2         109       2       1       2  \n",
       "3         369       1       1       3  \n",
       "4         124       2       1       3  "
      ]
     },
     "execution_count": 123,
     "metadata": {},
     "output_type": "execute_result"
    }
   ],
   "source": [
    "table_customer['range_m'] = (np.where(\n",
    "    table_customer['revenue'] <= bounds_revenue[0],\n",
    "    '1',\n",
    "    np.where(table_customer['revenue'] > bounds_revenue[1], '3', '2')))\n",
    "\n",
    "table_customer.head()"
   ]
  },
  {
   "cell_type": "markdown",
   "metadata": {},
   "source": [
    "Теперь собирем всю оценку  RFM воедино из соотвествующих столбцов `range_r`, `range_f`, `range_m`"
   ]
  },
  {
   "cell_type": "code",
   "execution_count": 124,
   "metadata": {},
   "outputs": [
    {
     "data": {
      "text/html": [
       "<div>\n",
       "<style scoped>\n",
       "    .dataframe tbody tr th:only-of-type {\n",
       "        vertical-align: middle;\n",
       "    }\n",
       "\n",
       "    .dataframe tbody tr th {\n",
       "        vertical-align: top;\n",
       "    }\n",
       "\n",
       "    .dataframe thead th {\n",
       "        text-align: right;\n",
       "    }\n",
       "</style>\n",
       "<table border=\"1\" class=\"dataframe\">\n",
       "  <thead>\n",
       "    <tr style=\"text-align: right;\">\n",
       "      <th></th>\n",
       "      <th>customer_id</th>\n",
       "      <th>last_date</th>\n",
       "      <th>count_orders</th>\n",
       "      <th>revenue</th>\n",
       "      <th>delta_date</th>\n",
       "      <th>range_r</th>\n",
       "      <th>range_f</th>\n",
       "      <th>range_m</th>\n",
       "      <th>group</th>\n",
       "    </tr>\n",
       "  </thead>\n",
       "  <tbody>\n",
       "    <tr>\n",
       "      <th>0</th>\n",
       "      <td>000d6849-084e-4d9f-ac03-37174eaf60c4</td>\n",
       "      <td>2019-10-16</td>\n",
       "      <td>1</td>\n",
       "      <td>555.0</td>\n",
       "      <td>107</td>\n",
       "      <td>2</td>\n",
       "      <td>1</td>\n",
       "      <td>1</td>\n",
       "      <td>211</td>\n",
       "    </tr>\n",
       "    <tr>\n",
       "      <th>1</th>\n",
       "      <td>001cee7f-0b29-4716-b202-0042213ab038</td>\n",
       "      <td>2019-02-16</td>\n",
       "      <td>1</td>\n",
       "      <td>442.0</td>\n",
       "      <td>349</td>\n",
       "      <td>1</td>\n",
       "      <td>1</td>\n",
       "      <td>1</td>\n",
       "      <td>111</td>\n",
       "    </tr>\n",
       "    <tr>\n",
       "      <th>2</th>\n",
       "      <td>00299f34-5385-4d13-9aea-c80b81658e1b</td>\n",
       "      <td>2019-10-14</td>\n",
       "      <td>1</td>\n",
       "      <td>914.0</td>\n",
       "      <td>109</td>\n",
       "      <td>2</td>\n",
       "      <td>1</td>\n",
       "      <td>2</td>\n",
       "      <td>212</td>\n",
       "    </tr>\n",
       "    <tr>\n",
       "      <th>3</th>\n",
       "      <td>002d4d3a-4a59-406b-86ec-c3314357e498</td>\n",
       "      <td>2019-01-27</td>\n",
       "      <td>1</td>\n",
       "      <td>1649.0</td>\n",
       "      <td>369</td>\n",
       "      <td>1</td>\n",
       "      <td>1</td>\n",
       "      <td>3</td>\n",
       "      <td>113</td>\n",
       "    </tr>\n",
       "    <tr>\n",
       "      <th>4</th>\n",
       "      <td>003bbd39-0000-41ff-b7f9-2ddaec152037</td>\n",
       "      <td>2019-09-29</td>\n",
       "      <td>1</td>\n",
       "      <td>2324.0</td>\n",
       "      <td>124</td>\n",
       "      <td>2</td>\n",
       "      <td>1</td>\n",
       "      <td>3</td>\n",
       "      <td>213</td>\n",
       "    </tr>\n",
       "  </tbody>\n",
       "</table>\n",
       "</div>"
      ],
      "text/plain": [
       "                            customer_id   last_date  count_orders  revenue  \\\n",
       "0  000d6849-084e-4d9f-ac03-37174eaf60c4  2019-10-16             1    555.0   \n",
       "1  001cee7f-0b29-4716-b202-0042213ab038  2019-02-16             1    442.0   \n",
       "2  00299f34-5385-4d13-9aea-c80b81658e1b  2019-10-14             1    914.0   \n",
       "3  002d4d3a-4a59-406b-86ec-c3314357e498  2019-01-27             1   1649.0   \n",
       "4  003bbd39-0000-41ff-b7f9-2ddaec152037  2019-09-29             1   2324.0   \n",
       "\n",
       "   delta_date range_r range_f range_m group  \n",
       "0         107       2       1       1   211  \n",
       "1         349       1       1       1   111  \n",
       "2         109       2       1       2   212  \n",
       "3         369       1       1       3   113  \n",
       "4         124       2       1       3   213  "
      ]
     },
     "execution_count": 124,
     "metadata": {},
     "output_type": "execute_result"
    }
   ],
   "source": [
    "table_customer['group'] = (table_customer[['range_r', 'range_f', 'range_m']]\n",
    "                           .apply(lambda x:\n",
    "                                  ''.join(x),\n",
    "                                  axis=1\n",
    "                                  )\n",
    "                           )\n",
    "\n",
    "\n",
    "table_customer.head()"
   ]
  },
  {
   "cell_type": "markdown",
   "metadata": {},
   "source": [
    "Распределим теперь их по трем большим группам - оценки больше 300 относятся к группе 3 , оценки от 200 до 300 -> 2 группа и остальные в 1 группу. За рязряд сотен отвечает оценка `range_r` - ее и применим для распределния по группам - так быстрее"
   ]
  },
  {
   "cell_type": "code",
   "execution_count": 125,
   "metadata": {},
   "outputs": [
    {
     "data": {
      "text/html": [
       "<div>\n",
       "<style scoped>\n",
       "    .dataframe tbody tr th:only-of-type {\n",
       "        vertical-align: middle;\n",
       "    }\n",
       "\n",
       "    .dataframe tbody tr th {\n",
       "        vertical-align: top;\n",
       "    }\n",
       "\n",
       "    .dataframe thead th {\n",
       "        text-align: right;\n",
       "    }\n",
       "</style>\n",
       "<table border=\"1\" class=\"dataframe\">\n",
       "  <thead>\n",
       "    <tr style=\"text-align: right;\">\n",
       "      <th></th>\n",
       "      <th>customer_id</th>\n",
       "      <th>last_date</th>\n",
       "      <th>count_orders</th>\n",
       "      <th>revenue</th>\n",
       "      <th>delta_date</th>\n",
       "      <th>range_r</th>\n",
       "      <th>range_f</th>\n",
       "      <th>range_m</th>\n",
       "      <th>group</th>\n",
       "      <th>major_group</th>\n",
       "    </tr>\n",
       "  </thead>\n",
       "  <tbody>\n",
       "    <tr>\n",
       "      <th>0</th>\n",
       "      <td>000d6849-084e-4d9f-ac03-37174eaf60c4</td>\n",
       "      <td>2019-10-16</td>\n",
       "      <td>1</td>\n",
       "      <td>555.0</td>\n",
       "      <td>107</td>\n",
       "      <td>2</td>\n",
       "      <td>1</td>\n",
       "      <td>1</td>\n",
       "      <td>211</td>\n",
       "      <td>group_2</td>\n",
       "    </tr>\n",
       "    <tr>\n",
       "      <th>1</th>\n",
       "      <td>001cee7f-0b29-4716-b202-0042213ab038</td>\n",
       "      <td>2019-02-16</td>\n",
       "      <td>1</td>\n",
       "      <td>442.0</td>\n",
       "      <td>349</td>\n",
       "      <td>1</td>\n",
       "      <td>1</td>\n",
       "      <td>1</td>\n",
       "      <td>111</td>\n",
       "      <td>group_1</td>\n",
       "    </tr>\n",
       "    <tr>\n",
       "      <th>2</th>\n",
       "      <td>00299f34-5385-4d13-9aea-c80b81658e1b</td>\n",
       "      <td>2019-10-14</td>\n",
       "      <td>1</td>\n",
       "      <td>914.0</td>\n",
       "      <td>109</td>\n",
       "      <td>2</td>\n",
       "      <td>1</td>\n",
       "      <td>2</td>\n",
       "      <td>212</td>\n",
       "      <td>group_2</td>\n",
       "    </tr>\n",
       "    <tr>\n",
       "      <th>3</th>\n",
       "      <td>002d4d3a-4a59-406b-86ec-c3314357e498</td>\n",
       "      <td>2019-01-27</td>\n",
       "      <td>1</td>\n",
       "      <td>1649.0</td>\n",
       "      <td>369</td>\n",
       "      <td>1</td>\n",
       "      <td>1</td>\n",
       "      <td>3</td>\n",
       "      <td>113</td>\n",
       "      <td>group_1</td>\n",
       "    </tr>\n",
       "    <tr>\n",
       "      <th>4</th>\n",
       "      <td>003bbd39-0000-41ff-b7f9-2ddaec152037</td>\n",
       "      <td>2019-09-29</td>\n",
       "      <td>1</td>\n",
       "      <td>2324.0</td>\n",
       "      <td>124</td>\n",
       "      <td>2</td>\n",
       "      <td>1</td>\n",
       "      <td>3</td>\n",
       "      <td>213</td>\n",
       "      <td>group_2</td>\n",
       "    </tr>\n",
       "  </tbody>\n",
       "</table>\n",
       "</div>"
      ],
      "text/plain": [
       "                            customer_id   last_date  count_orders  revenue  \\\n",
       "0  000d6849-084e-4d9f-ac03-37174eaf60c4  2019-10-16             1    555.0   \n",
       "1  001cee7f-0b29-4716-b202-0042213ab038  2019-02-16             1    442.0   \n",
       "2  00299f34-5385-4d13-9aea-c80b81658e1b  2019-10-14             1    914.0   \n",
       "3  002d4d3a-4a59-406b-86ec-c3314357e498  2019-01-27             1   1649.0   \n",
       "4  003bbd39-0000-41ff-b7f9-2ddaec152037  2019-09-29             1   2324.0   \n",
       "\n",
       "   delta_date range_r range_f range_m group major_group  \n",
       "0         107       2       1       1   211     group_2  \n",
       "1         349       1       1       1   111     group_1  \n",
       "2         109       2       1       2   212     group_2  \n",
       "3         369       1       1       3   113     group_1  \n",
       "4         124       2       1       3   213     group_2  "
      ]
     },
     "execution_count": 125,
     "metadata": {},
     "output_type": "execute_result"
    }
   ],
   "source": [
    "table_customer['major_group'] = (table_customer['range_r']\n",
    "                                 .apply(lambda x:\n",
    "                                        'group_' + x))\n",
    "\n",
    "table_customer.head()"
   ]
  },
  {
   "cell_type": "markdown",
   "metadata": {},
   "source": [
    "### Число пользователей"
   ]
  },
  {
   "cell_type": "markdown",
   "metadata": {},
   "source": [
    "Посмотрим на чмсло пользователей в группах RFM"
   ]
  },
  {
   "cell_type": "code",
   "execution_count": 126,
   "metadata": {},
   "outputs": [],
   "source": [
    "q = (table_customer['group']\n",
    "     .value_counts()\n",
    "     .reset_index()\n",
    "     .sort_values('group', ascending=False))"
   ]
  },
  {
   "cell_type": "code",
   "execution_count": 127,
   "metadata": {},
   "outputs": [
    {
     "data": {
      "application/vnd.plotly.v1+json": {
       "config": {
        "plotlyServerURL": "https://plot.ly"
       },
       "data": [
        {
         "alignmentgroup": "True",
         "hovertemplate": "index=%{x}<br>группы=%{y}<extra></extra>",
         "legendgroup": "",
         "marker": {
          "color": "#636efa",
          "pattern": {
           "shape": ""
          }
         },
         "name": "",
         "offsetgroup": "",
         "orientation": "v",
         "showlegend": false,
         "textposition": "auto",
         "type": "bar",
         "x": [
          "323",
          "211",
          "111",
          "112",
          "322",
          "113",
          "212",
          "213",
          "321",
          "311",
          "223",
          "222",
          "313",
          "123",
          "122",
          "121",
          "312",
          "233",
          "221",
          "133",
          "232",
          "231",
          "333",
          "131"
         ],
         "xaxis": "x",
         "y": [
          296,
          294,
          261,
          255,
          254,
          243,
          224,
          188,
          173,
          40,
          34,
          23,
          20,
          19,
          19,
          15,
          14,
          12,
          12,
          6,
          5,
          2,
          1,
          1
         ],
         "yaxis": "y"
        }
       ],
       "layout": {
        "barmode": "relative",
        "legend": {
         "tracegroupgap": 0
        },
        "template": {
         "data": {
          "bar": [
           {
            "error_x": {
             "color": "#2a3f5f"
            },
            "error_y": {
             "color": "#2a3f5f"
            },
            "marker": {
             "line": {
              "color": "#E5ECF6",
              "width": 0.5
             },
             "pattern": {
              "fillmode": "overlay",
              "size": 10,
              "solidity": 0.2
             }
            },
            "type": "bar"
           }
          ],
          "barpolar": [
           {
            "marker": {
             "line": {
              "color": "#E5ECF6",
              "width": 0.5
             },
             "pattern": {
              "fillmode": "overlay",
              "size": 10,
              "solidity": 0.2
             }
            },
            "type": "barpolar"
           }
          ],
          "carpet": [
           {
            "aaxis": {
             "endlinecolor": "#2a3f5f",
             "gridcolor": "white",
             "linecolor": "white",
             "minorgridcolor": "white",
             "startlinecolor": "#2a3f5f"
            },
            "baxis": {
             "endlinecolor": "#2a3f5f",
             "gridcolor": "white",
             "linecolor": "white",
             "minorgridcolor": "white",
             "startlinecolor": "#2a3f5f"
            },
            "type": "carpet"
           }
          ],
          "choropleth": [
           {
            "colorbar": {
             "outlinewidth": 0,
             "ticks": ""
            },
            "type": "choropleth"
           }
          ],
          "contour": [
           {
            "colorbar": {
             "outlinewidth": 0,
             "ticks": ""
            },
            "colorscale": [
             [
              0,
              "#0d0887"
             ],
             [
              0.1111111111111111,
              "#46039f"
             ],
             [
              0.2222222222222222,
              "#7201a8"
             ],
             [
              0.3333333333333333,
              "#9c179e"
             ],
             [
              0.4444444444444444,
              "#bd3786"
             ],
             [
              0.5555555555555556,
              "#d8576b"
             ],
             [
              0.6666666666666666,
              "#ed7953"
             ],
             [
              0.7777777777777778,
              "#fb9f3a"
             ],
             [
              0.8888888888888888,
              "#fdca26"
             ],
             [
              1,
              "#f0f921"
             ]
            ],
            "type": "contour"
           }
          ],
          "contourcarpet": [
           {
            "colorbar": {
             "outlinewidth": 0,
             "ticks": ""
            },
            "type": "contourcarpet"
           }
          ],
          "heatmap": [
           {
            "colorbar": {
             "outlinewidth": 0,
             "ticks": ""
            },
            "colorscale": [
             [
              0,
              "#0d0887"
             ],
             [
              0.1111111111111111,
              "#46039f"
             ],
             [
              0.2222222222222222,
              "#7201a8"
             ],
             [
              0.3333333333333333,
              "#9c179e"
             ],
             [
              0.4444444444444444,
              "#bd3786"
             ],
             [
              0.5555555555555556,
              "#d8576b"
             ],
             [
              0.6666666666666666,
              "#ed7953"
             ],
             [
              0.7777777777777778,
              "#fb9f3a"
             ],
             [
              0.8888888888888888,
              "#fdca26"
             ],
             [
              1,
              "#f0f921"
             ]
            ],
            "type": "heatmap"
           }
          ],
          "heatmapgl": [
           {
            "colorbar": {
             "outlinewidth": 0,
             "ticks": ""
            },
            "colorscale": [
             [
              0,
              "#0d0887"
             ],
             [
              0.1111111111111111,
              "#46039f"
             ],
             [
              0.2222222222222222,
              "#7201a8"
             ],
             [
              0.3333333333333333,
              "#9c179e"
             ],
             [
              0.4444444444444444,
              "#bd3786"
             ],
             [
              0.5555555555555556,
              "#d8576b"
             ],
             [
              0.6666666666666666,
              "#ed7953"
             ],
             [
              0.7777777777777778,
              "#fb9f3a"
             ],
             [
              0.8888888888888888,
              "#fdca26"
             ],
             [
              1,
              "#f0f921"
             ]
            ],
            "type": "heatmapgl"
           }
          ],
          "histogram": [
           {
            "marker": {
             "pattern": {
              "fillmode": "overlay",
              "size": 10,
              "solidity": 0.2
             }
            },
            "type": "histogram"
           }
          ],
          "histogram2d": [
           {
            "colorbar": {
             "outlinewidth": 0,
             "ticks": ""
            },
            "colorscale": [
             [
              0,
              "#0d0887"
             ],
             [
              0.1111111111111111,
              "#46039f"
             ],
             [
              0.2222222222222222,
              "#7201a8"
             ],
             [
              0.3333333333333333,
              "#9c179e"
             ],
             [
              0.4444444444444444,
              "#bd3786"
             ],
             [
              0.5555555555555556,
              "#d8576b"
             ],
             [
              0.6666666666666666,
              "#ed7953"
             ],
             [
              0.7777777777777778,
              "#fb9f3a"
             ],
             [
              0.8888888888888888,
              "#fdca26"
             ],
             [
              1,
              "#f0f921"
             ]
            ],
            "type": "histogram2d"
           }
          ],
          "histogram2dcontour": [
           {
            "colorbar": {
             "outlinewidth": 0,
             "ticks": ""
            },
            "colorscale": [
             [
              0,
              "#0d0887"
             ],
             [
              0.1111111111111111,
              "#46039f"
             ],
             [
              0.2222222222222222,
              "#7201a8"
             ],
             [
              0.3333333333333333,
              "#9c179e"
             ],
             [
              0.4444444444444444,
              "#bd3786"
             ],
             [
              0.5555555555555556,
              "#d8576b"
             ],
             [
              0.6666666666666666,
              "#ed7953"
             ],
             [
              0.7777777777777778,
              "#fb9f3a"
             ],
             [
              0.8888888888888888,
              "#fdca26"
             ],
             [
              1,
              "#f0f921"
             ]
            ],
            "type": "histogram2dcontour"
           }
          ],
          "mesh3d": [
           {
            "colorbar": {
             "outlinewidth": 0,
             "ticks": ""
            },
            "type": "mesh3d"
           }
          ],
          "parcoords": [
           {
            "line": {
             "colorbar": {
              "outlinewidth": 0,
              "ticks": ""
             }
            },
            "type": "parcoords"
           }
          ],
          "pie": [
           {
            "automargin": true,
            "type": "pie"
           }
          ],
          "scatter": [
           {
            "marker": {
             "colorbar": {
              "outlinewidth": 0,
              "ticks": ""
             }
            },
            "type": "scatter"
           }
          ],
          "scatter3d": [
           {
            "line": {
             "colorbar": {
              "outlinewidth": 0,
              "ticks": ""
             }
            },
            "marker": {
             "colorbar": {
              "outlinewidth": 0,
              "ticks": ""
             }
            },
            "type": "scatter3d"
           }
          ],
          "scattercarpet": [
           {
            "marker": {
             "colorbar": {
              "outlinewidth": 0,
              "ticks": ""
             }
            },
            "type": "scattercarpet"
           }
          ],
          "scattergeo": [
           {
            "marker": {
             "colorbar": {
              "outlinewidth": 0,
              "ticks": ""
             }
            },
            "type": "scattergeo"
           }
          ],
          "scattergl": [
           {
            "marker": {
             "colorbar": {
              "outlinewidth": 0,
              "ticks": ""
             }
            },
            "type": "scattergl"
           }
          ],
          "scattermapbox": [
           {
            "marker": {
             "colorbar": {
              "outlinewidth": 0,
              "ticks": ""
             }
            },
            "type": "scattermapbox"
           }
          ],
          "scatterpolar": [
           {
            "marker": {
             "colorbar": {
              "outlinewidth": 0,
              "ticks": ""
             }
            },
            "type": "scatterpolar"
           }
          ],
          "scatterpolargl": [
           {
            "marker": {
             "colorbar": {
              "outlinewidth": 0,
              "ticks": ""
             }
            },
            "type": "scatterpolargl"
           }
          ],
          "scatterternary": [
           {
            "marker": {
             "colorbar": {
              "outlinewidth": 0,
              "ticks": ""
             }
            },
            "type": "scatterternary"
           }
          ],
          "surface": [
           {
            "colorbar": {
             "outlinewidth": 0,
             "ticks": ""
            },
            "colorscale": [
             [
              0,
              "#0d0887"
             ],
             [
              0.1111111111111111,
              "#46039f"
             ],
             [
              0.2222222222222222,
              "#7201a8"
             ],
             [
              0.3333333333333333,
              "#9c179e"
             ],
             [
              0.4444444444444444,
              "#bd3786"
             ],
             [
              0.5555555555555556,
              "#d8576b"
             ],
             [
              0.6666666666666666,
              "#ed7953"
             ],
             [
              0.7777777777777778,
              "#fb9f3a"
             ],
             [
              0.8888888888888888,
              "#fdca26"
             ],
             [
              1,
              "#f0f921"
             ]
            ],
            "type": "surface"
           }
          ],
          "table": [
           {
            "cells": {
             "fill": {
              "color": "#EBF0F8"
             },
             "line": {
              "color": "white"
             }
            },
            "header": {
             "fill": {
              "color": "#C8D4E3"
             },
             "line": {
              "color": "white"
             }
            },
            "type": "table"
           }
          ]
         },
         "layout": {
          "annotationdefaults": {
           "arrowcolor": "#2a3f5f",
           "arrowhead": 0,
           "arrowwidth": 1
          },
          "autotypenumbers": "strict",
          "coloraxis": {
           "colorbar": {
            "outlinewidth": 0,
            "ticks": ""
           }
          },
          "colorscale": {
           "diverging": [
            [
             0,
             "#8e0152"
            ],
            [
             0.1,
             "#c51b7d"
            ],
            [
             0.2,
             "#de77ae"
            ],
            [
             0.3,
             "#f1b6da"
            ],
            [
             0.4,
             "#fde0ef"
            ],
            [
             0.5,
             "#f7f7f7"
            ],
            [
             0.6,
             "#e6f5d0"
            ],
            [
             0.7,
             "#b8e186"
            ],
            [
             0.8,
             "#7fbc41"
            ],
            [
             0.9,
             "#4d9221"
            ],
            [
             1,
             "#276419"
            ]
           ],
           "sequential": [
            [
             0,
             "#0d0887"
            ],
            [
             0.1111111111111111,
             "#46039f"
            ],
            [
             0.2222222222222222,
             "#7201a8"
            ],
            [
             0.3333333333333333,
             "#9c179e"
            ],
            [
             0.4444444444444444,
             "#bd3786"
            ],
            [
             0.5555555555555556,
             "#d8576b"
            ],
            [
             0.6666666666666666,
             "#ed7953"
            ],
            [
             0.7777777777777778,
             "#fb9f3a"
            ],
            [
             0.8888888888888888,
             "#fdca26"
            ],
            [
             1,
             "#f0f921"
            ]
           ],
           "sequentialminus": [
            [
             0,
             "#0d0887"
            ],
            [
             0.1111111111111111,
             "#46039f"
            ],
            [
             0.2222222222222222,
             "#7201a8"
            ],
            [
             0.3333333333333333,
             "#9c179e"
            ],
            [
             0.4444444444444444,
             "#bd3786"
            ],
            [
             0.5555555555555556,
             "#d8576b"
            ],
            [
             0.6666666666666666,
             "#ed7953"
            ],
            [
             0.7777777777777778,
             "#fb9f3a"
            ],
            [
             0.8888888888888888,
             "#fdca26"
            ],
            [
             1,
             "#f0f921"
            ]
           ]
          },
          "colorway": [
           "#636efa",
           "#EF553B",
           "#00cc96",
           "#ab63fa",
           "#FFA15A",
           "#19d3f3",
           "#FF6692",
           "#B6E880",
           "#FF97FF",
           "#FECB52"
          ],
          "font": {
           "color": "#2a3f5f"
          },
          "geo": {
           "bgcolor": "white",
           "lakecolor": "white",
           "landcolor": "#E5ECF6",
           "showlakes": true,
           "showland": true,
           "subunitcolor": "white"
          },
          "hoverlabel": {
           "align": "left"
          },
          "hovermode": "closest",
          "mapbox": {
           "style": "light"
          },
          "paper_bgcolor": "white",
          "plot_bgcolor": "#E5ECF6",
          "polar": {
           "angularaxis": {
            "gridcolor": "white",
            "linecolor": "white",
            "ticks": ""
           },
           "bgcolor": "#E5ECF6",
           "radialaxis": {
            "gridcolor": "white",
            "linecolor": "white",
            "ticks": ""
           }
          },
          "scene": {
           "xaxis": {
            "backgroundcolor": "#E5ECF6",
            "gridcolor": "white",
            "gridwidth": 2,
            "linecolor": "white",
            "showbackground": true,
            "ticks": "",
            "zerolinecolor": "white"
           },
           "yaxis": {
            "backgroundcolor": "#E5ECF6",
            "gridcolor": "white",
            "gridwidth": 2,
            "linecolor": "white",
            "showbackground": true,
            "ticks": "",
            "zerolinecolor": "white"
           },
           "zaxis": {
            "backgroundcolor": "#E5ECF6",
            "gridcolor": "white",
            "gridwidth": 2,
            "linecolor": "white",
            "showbackground": true,
            "ticks": "",
            "zerolinecolor": "white"
           }
          },
          "shapedefaults": {
           "line": {
            "color": "#2a3f5f"
           }
          },
          "ternary": {
           "aaxis": {
            "gridcolor": "white",
            "linecolor": "white",
            "ticks": ""
           },
           "baxis": {
            "gridcolor": "white",
            "linecolor": "white",
            "ticks": ""
           },
           "bgcolor": "#E5ECF6",
           "caxis": {
            "gridcolor": "white",
            "linecolor": "white",
            "ticks": ""
           }
          },
          "title": {
           "x": 0.05
          },
          "xaxis": {
           "automargin": true,
           "gridcolor": "white",
           "linecolor": "white",
           "ticks": "",
           "title": {
            "standoff": 15
           },
           "zerolinecolor": "white",
           "zerolinewidth": 2
          },
          "yaxis": {
           "automargin": true,
           "gridcolor": "white",
           "linecolor": "white",
           "ticks": "",
           "title": {
            "standoff": 15
           },
           "zerolinecolor": "white",
           "zerolinewidth": 2
          }
         }
        },
        "title": {
         "text": "Количество пользователей в группах согласно анализу RFM"
        },
        "xaxis": {
         "anchor": "y",
         "domain": [
          0,
          1
         ],
         "title": {
          "text": "index"
         }
        },
        "yaxis": {
         "anchor": "x",
         "domain": [
          0,
          1
         ],
         "title": {
          "text": "группы"
         }
        }
       }
      }
     },
     "metadata": {},
     "output_type": "display_data"
    }
   ],
   "source": [
    "px.bar(q,\n",
    "       x='index',\n",
    "       y='group',\n",
    "       title='Количество пользователей в группах согласно анализу RFM',\n",
    "       labels=dict(group='группы', count='количество'))"
   ]
  },
  {
   "cell_type": "markdown",
   "metadata": {},
   "source": [
    "Как видим, много пользователей с оценкой 323 - постоянные клиеты, 211- недавние клиенты, 111 ,113, 112 - редкие покупатели/ушедшие"
   ]
  },
  {
   "cell_type": "markdown",
   "metadata": {},
   "source": [
    "Проверим, одинаковые ли группы по числу пользователей"
   ]
  },
  {
   "cell_type": "code",
   "execution_count": 128,
   "metadata": {},
   "outputs": [
    {
     "data": {
      "text/html": [
       "<div>\n",
       "<style scoped>\n",
       "    .dataframe tbody tr th:only-of-type {\n",
       "        vertical-align: middle;\n",
       "    }\n",
       "\n",
       "    .dataframe tbody tr th {\n",
       "        vertical-align: top;\n",
       "    }\n",
       "\n",
       "    .dataframe thead th {\n",
       "        text-align: right;\n",
       "    }\n",
       "</style>\n",
       "<table border=\"1\" class=\"dataframe\">\n",
       "  <thead>\n",
       "    <tr style=\"text-align: right;\">\n",
       "      <th></th>\n",
       "      <th>group</th>\n",
       "      <th>count</th>\n",
       "    </tr>\n",
       "  </thead>\n",
       "  <tbody>\n",
       "    <tr>\n",
       "      <th>0</th>\n",
       "      <td>group_1</td>\n",
       "      <td>819</td>\n",
       "    </tr>\n",
       "    <tr>\n",
       "      <th>1</th>\n",
       "      <td>group_3</td>\n",
       "      <td>798</td>\n",
       "    </tr>\n",
       "    <tr>\n",
       "      <th>2</th>\n",
       "      <td>group_2</td>\n",
       "      <td>794</td>\n",
       "    </tr>\n",
       "  </tbody>\n",
       "</table>\n",
       "</div>"
      ],
      "text/plain": [
       "     group  count\n",
       "0  group_1    819\n",
       "1  group_3    798\n",
       "2  group_2    794"
      ]
     },
     "execution_count": 128,
     "metadata": {},
     "output_type": "execute_result"
    }
   ],
   "source": [
    "size_group = (table_customer['major_group']\n",
    "              .value_counts()\n",
    "              .reset_index()\n",
    "              .rename(columns=dict(major_group='count', index='group')))\n",
    "\n",
    "size_group.head()"
   ]
  },
  {
   "cell_type": "markdown",
   "metadata": {},
   "source": [
    "желательно в процентах"
   ]
  },
  {
   "cell_type": "code",
   "execution_count": 129,
   "metadata": {},
   "outputs": [
    {
     "data": {
      "text/html": [
       "<div>\n",
       "<style scoped>\n",
       "    .dataframe tbody tr th:only-of-type {\n",
       "        vertical-align: middle;\n",
       "    }\n",
       "\n",
       "    .dataframe tbody tr th {\n",
       "        vertical-align: top;\n",
       "    }\n",
       "\n",
       "    .dataframe thead th {\n",
       "        text-align: right;\n",
       "    }\n",
       "</style>\n",
       "<table border=\"1\" class=\"dataframe\">\n",
       "  <thead>\n",
       "    <tr style=\"text-align: right;\">\n",
       "      <th></th>\n",
       "      <th>group</th>\n",
       "      <th>count</th>\n",
       "      <th>%</th>\n",
       "    </tr>\n",
       "  </thead>\n",
       "  <tbody>\n",
       "    <tr>\n",
       "      <th>0</th>\n",
       "      <td>group_1</td>\n",
       "      <td>819</td>\n",
       "      <td>33.97</td>\n",
       "    </tr>\n",
       "    <tr>\n",
       "      <th>1</th>\n",
       "      <td>group_3</td>\n",
       "      <td>798</td>\n",
       "      <td>33.10</td>\n",
       "    </tr>\n",
       "    <tr>\n",
       "      <th>2</th>\n",
       "      <td>group_2</td>\n",
       "      <td>794</td>\n",
       "      <td>32.93</td>\n",
       "    </tr>\n",
       "  </tbody>\n",
       "</table>\n",
       "</div>"
      ],
      "text/plain": [
       "     group  count      %\n",
       "0  group_1    819  33.97\n",
       "1  group_3    798  33.10\n",
       "2  group_2    794  32.93"
      ]
     },
     "execution_count": 129,
     "metadata": {},
     "output_type": "execute_result"
    }
   ],
   "source": [
    "size_group['%'] = (size_group['count'] /\n",
    "                   size_group['count'].sum()*100).round(2)\n",
    "size_group.head()"
   ]
  },
  {
   "cell_type": "markdown",
   "metadata": {},
   "source": [
    "Действительно, почти поровну на 3 части"
   ]
  },
  {
   "cell_type": "markdown",
   "metadata": {},
   "source": [
    "### Средний чек групп пользователей"
   ]
  },
  {
   "cell_type": "code",
   "execution_count": 130,
   "metadata": {},
   "outputs": [
    {
     "data": {
      "text/html": [
       "<div>\n",
       "<style scoped>\n",
       "    .dataframe tbody tr th:only-of-type {\n",
       "        vertical-align: middle;\n",
       "    }\n",
       "\n",
       "    .dataframe tbody tr th {\n",
       "        vertical-align: top;\n",
       "    }\n",
       "\n",
       "    .dataframe thead th {\n",
       "        text-align: right;\n",
       "    }\n",
       "</style>\n",
       "<table border=\"1\" class=\"dataframe\">\n",
       "  <thead>\n",
       "    <tr style=\"text-align: right;\">\n",
       "      <th></th>\n",
       "      <th>customer_id</th>\n",
       "      <th>order_id</th>\n",
       "      <th>product</th>\n",
       "      <th>quantity</th>\n",
       "      <th>price</th>\n",
       "      <th>datetime</th>\n",
       "      <th>date</th>\n",
       "      <th>total_price</th>\n",
       "      <th>date_round</th>\n",
       "      <th>major_group</th>\n",
       "    </tr>\n",
       "  </thead>\n",
       "  <tbody>\n",
       "    <tr>\n",
       "      <th>0</th>\n",
       "      <td>ee47d746-6d2f-4d3c-9622-c31412542920</td>\n",
       "      <td>68477</td>\n",
       "      <td>комнатное растение в горшке алое вера d12 h30</td>\n",
       "      <td>1</td>\n",
       "      <td>142.0</td>\n",
       "      <td>2018-10-01</td>\n",
       "      <td>2018-10-01</td>\n",
       "      <td>142.0</td>\n",
       "      <td>2018-10-01</td>\n",
       "      <td>group_1</td>\n",
       "    </tr>\n",
       "    <tr>\n",
       "      <th>1</th>\n",
       "      <td>ee47d746-6d2f-4d3c-9622-c31412542920</td>\n",
       "      <td>68477</td>\n",
       "      <td>комнатное растение в горшке кофе арабика d12 h25</td>\n",
       "      <td>1</td>\n",
       "      <td>194.0</td>\n",
       "      <td>2018-10-01</td>\n",
       "      <td>2018-10-01</td>\n",
       "      <td>194.0</td>\n",
       "      <td>2018-10-01</td>\n",
       "      <td>group_1</td>\n",
       "    </tr>\n",
       "    <tr>\n",
       "      <th>2</th>\n",
       "      <td>ee47d746-6d2f-4d3c-9622-c31412542920</td>\n",
       "      <td>68477</td>\n",
       "      <td>радермахера d12 см h20 см</td>\n",
       "      <td>1</td>\n",
       "      <td>112.0</td>\n",
       "      <td>2018-10-01</td>\n",
       "      <td>2018-10-01</td>\n",
       "      <td>112.0</td>\n",
       "      <td>2018-10-01</td>\n",
       "      <td>group_1</td>\n",
       "    </tr>\n",
       "    <tr>\n",
       "      <th>3</th>\n",
       "      <td>ee47d746-6d2f-4d3c-9622-c31412542920</td>\n",
       "      <td>68477</td>\n",
       "      <td>хризолидокарпус лутесценс d9 см</td>\n",
       "      <td>1</td>\n",
       "      <td>179.0</td>\n",
       "      <td>2018-10-01</td>\n",
       "      <td>2018-10-01</td>\n",
       "      <td>179.0</td>\n",
       "      <td>2018-10-01</td>\n",
       "      <td>group_1</td>\n",
       "    </tr>\n",
       "    <tr>\n",
       "      <th>4</th>\n",
       "      <td>ee47d746-6d2f-4d3c-9622-c31412542920</td>\n",
       "      <td>68477</td>\n",
       "      <td>циперус зумула d12 см h25 см</td>\n",
       "      <td>1</td>\n",
       "      <td>112.0</td>\n",
       "      <td>2018-10-01</td>\n",
       "      <td>2018-10-01</td>\n",
       "      <td>112.0</td>\n",
       "      <td>2018-10-01</td>\n",
       "      <td>group_1</td>\n",
       "    </tr>\n",
       "  </tbody>\n",
       "</table>\n",
       "</div>"
      ],
      "text/plain": [
       "                            customer_id  order_id  \\\n",
       "0  ee47d746-6d2f-4d3c-9622-c31412542920     68477   \n",
       "1  ee47d746-6d2f-4d3c-9622-c31412542920     68477   \n",
       "2  ee47d746-6d2f-4d3c-9622-c31412542920     68477   \n",
       "3  ee47d746-6d2f-4d3c-9622-c31412542920     68477   \n",
       "4  ee47d746-6d2f-4d3c-9622-c31412542920     68477   \n",
       "\n",
       "                                            product  quantity  price  \\\n",
       "0     комнатное растение в горшке алое вера d12 h30         1  142.0   \n",
       "1  комнатное растение в горшке кофе арабика d12 h25         1  194.0   \n",
       "2                         радермахера d12 см h20 см         1  112.0   \n",
       "3                   хризолидокарпус лутесценс d9 см         1  179.0   \n",
       "4                      циперус зумула d12 см h25 см         1  112.0   \n",
       "\n",
       "    datetime        date  total_price date_round major_group  \n",
       "0 2018-10-01  2018-10-01        142.0 2018-10-01     group_1  \n",
       "1 2018-10-01  2018-10-01        194.0 2018-10-01     group_1  \n",
       "2 2018-10-01  2018-10-01        112.0 2018-10-01     group_1  \n",
       "3 2018-10-01  2018-10-01        179.0 2018-10-01     group_1  \n",
       "4 2018-10-01  2018-10-01        112.0 2018-10-01     group_1  "
      ]
     },
     "execution_count": 130,
     "metadata": {},
     "output_type": "execute_result"
    }
   ],
   "source": [
    "customer_with_group = data.merge(table_customer[['customer_id', 'major_group']],\n",
    "                                 how='left',\n",
    "                                 on='customer_id')\n",
    "\n",
    "customer_with_group.head()"
   ]
  },
  {
   "cell_type": "code",
   "execution_count": 131,
   "metadata": {},
   "outputs": [
    {
     "data": {
      "text/html": [
       "<div>\n",
       "<style scoped>\n",
       "    .dataframe tbody tr th:only-of-type {\n",
       "        vertical-align: middle;\n",
       "    }\n",
       "\n",
       "    .dataframe tbody tr th {\n",
       "        vertical-align: top;\n",
       "    }\n",
       "\n",
       "    .dataframe thead th {\n",
       "        text-align: right;\n",
       "    }\n",
       "</style>\n",
       "<table border=\"1\" class=\"dataframe\">\n",
       "  <thead>\n",
       "    <tr style=\"text-align: right;\">\n",
       "      <th></th>\n",
       "      <th>date_round</th>\n",
       "      <th>major_group</th>\n",
       "      <th>total_price</th>\n",
       "      <th>order_id</th>\n",
       "      <th>mean_chek</th>\n",
       "    </tr>\n",
       "  </thead>\n",
       "  <tbody>\n",
       "    <tr>\n",
       "      <th>0</th>\n",
       "      <td>2018-10-01</td>\n",
       "      <td>group_1</td>\n",
       "      <td>335799.0</td>\n",
       "      <td>170</td>\n",
       "      <td>1975.0</td>\n",
       "    </tr>\n",
       "    <tr>\n",
       "      <th>1</th>\n",
       "      <td>2018-10-01</td>\n",
       "      <td>group_3</td>\n",
       "      <td>55968.0</td>\n",
       "      <td>47</td>\n",
       "      <td>1191.0</td>\n",
       "    </tr>\n",
       "    <tr>\n",
       "      <th>2</th>\n",
       "      <td>2018-11-01</td>\n",
       "      <td>group_1</td>\n",
       "      <td>290965.0</td>\n",
       "      <td>139</td>\n",
       "      <td>2093.0</td>\n",
       "    </tr>\n",
       "    <tr>\n",
       "      <th>3</th>\n",
       "      <td>2018-11-01</td>\n",
       "      <td>group_3</td>\n",
       "      <td>55234.0</td>\n",
       "      <td>46</td>\n",
       "      <td>1201.0</td>\n",
       "    </tr>\n",
       "    <tr>\n",
       "      <th>4</th>\n",
       "      <td>2018-12-01</td>\n",
       "      <td>group_1</td>\n",
       "      <td>247828.0</td>\n",
       "      <td>158</td>\n",
       "      <td>1569.0</td>\n",
       "    </tr>\n",
       "  </tbody>\n",
       "</table>\n",
       "</div>"
      ],
      "text/plain": [
       "  date_round major_group  total_price  order_id  mean_chek\n",
       "0 2018-10-01     group_1     335799.0       170     1975.0\n",
       "1 2018-10-01     group_3      55968.0        47     1191.0\n",
       "2 2018-11-01     group_1     290965.0       139     2093.0\n",
       "3 2018-11-01     group_3      55234.0        46     1201.0\n",
       "4 2018-12-01     group_1     247828.0       158     1569.0"
      ]
     },
     "execution_count": 131,
     "metadata": {},
     "output_type": "execute_result"
    }
   ],
   "source": [
    "mean_chek = (customer_with_group\n",
    "             .groupby(['date_round', 'major_group'], as_index=False)\n",
    "             .aggregate(\n",
    "                 dict(\n",
    "                     total_price='sum',\n",
    "                     order_id='nunique'\n",
    "                 )\n",
    "             )\n",
    "             )\n",
    "\n",
    "\n",
    "mean_chek['mean_chek'] = (mean_chek['total_price'] /\n",
    "                          mean_chek['order_id']\n",
    "                          ).round()\n",
    "\n",
    "mean_chek.head()"
   ]
  },
  {
   "cell_type": "code",
   "execution_count": 132,
   "metadata": {},
   "outputs": [
    {
     "data": {
      "application/vnd.plotly.v1+json": {
       "config": {
        "plotlyServerURL": "https://plot.ly"
       },
       "data": [
        {
         "hovertemplate": "группа покупателей=group_1<br>дата=%{x}<br>средний чек=%{y}<extra></extra>",
         "legendgroup": "group_1",
         "line": {
          "color": "#636efa",
          "dash": "solid",
          "shape": "spline",
          "width": 4
         },
         "marker": {
          "symbol": "circle"
         },
         "mode": "lines",
         "name": "group_1",
         "orientation": "v",
         "showlegend": true,
         "type": "scatter",
         "x": [
          "2018-10-01T00:00:00",
          "2018-11-01T00:00:00",
          "2018-12-01T00:00:00",
          "2019-01-01T00:00:00",
          "2019-02-01T00:00:00",
          "2019-03-01T00:00:00",
          "2019-04-01T00:00:00"
         ],
         "xaxis": "x",
         "y": [
          1975,
          2093,
          1569,
          1783,
          1227,
          1254,
          1633
         ],
         "yaxis": "y"
        },
        {
         "hovertemplate": "группа покупателей=group_3<br>дата=%{x}<br>средний чек=%{y}<extra></extra>",
         "legendgroup": "group_3",
         "line": {
          "color": "#EF553B",
          "dash": "solid",
          "shape": "spline",
          "width": 4
         },
         "marker": {
          "symbol": "circle"
         },
         "mode": "lines",
         "name": "group_3",
         "orientation": "v",
         "showlegend": true,
         "type": "scatter",
         "x": [
          "2018-10-01T00:00:00",
          "2018-11-01T00:00:00",
          "2018-12-01T00:00:00",
          "2019-01-01T00:00:00",
          "2019-02-01T00:00:00",
          "2019-03-01T00:00:00",
          "2019-04-01T00:00:00",
          "2019-05-01T00:00:00",
          "2019-06-01T00:00:00",
          "2019-07-01T00:00:00",
          "2019-08-01T00:00:00",
          "2019-09-01T00:00:00",
          "2019-10-01T00:00:00",
          "2019-11-01T00:00:00",
          "2019-12-01T00:00:00",
          "2020-01-01T00:00:00"
         ],
         "xaxis": "x",
         "y": [
          1191,
          1201,
          1155,
          1028,
          968,
          1218,
          1350,
          1058,
          1508,
          1031,
          877,
          1106,
          1044,
          594,
          825,
          647
         ],
         "yaxis": "y"
        },
        {
         "hovertemplate": "группа покупателей=group_2<br>дата=%{x}<br>средний чек=%{y}<extra></extra>",
         "legendgroup": "group_2",
         "line": {
          "color": "#00cc96",
          "dash": "solid",
          "shape": "spline",
          "width": 4
         },
         "marker": {
          "symbol": "circle"
         },
         "mode": "lines",
         "name": "group_2",
         "orientation": "v",
         "showlegend": true,
         "type": "scatter",
         "x": [
          "2019-01-01T00:00:00",
          "2019-02-01T00:00:00",
          "2019-03-01T00:00:00",
          "2019-04-01T00:00:00",
          "2019-05-01T00:00:00",
          "2019-06-01T00:00:00",
          "2019-07-01T00:00:00",
          "2019-08-01T00:00:00",
          "2019-09-01T00:00:00",
          "2019-10-01T00:00:00"
         ],
         "xaxis": "x",
         "y": [
          1418,
          589,
          616,
          1400,
          1824,
          2897,
          1556,
          1248,
          1127,
          1291
         ],
         "yaxis": "y"
        }
       ],
       "layout": {
        "legend": {
         "title": {
          "text": "группа покупателей"
         },
         "tracegroupgap": 0
        },
        "template": {
         "data": {
          "bar": [
           {
            "error_x": {
             "color": "#2a3f5f"
            },
            "error_y": {
             "color": "#2a3f5f"
            },
            "marker": {
             "line": {
              "color": "#E5ECF6",
              "width": 0.5
             },
             "pattern": {
              "fillmode": "overlay",
              "size": 10,
              "solidity": 0.2
             }
            },
            "type": "bar"
           }
          ],
          "barpolar": [
           {
            "marker": {
             "line": {
              "color": "#E5ECF6",
              "width": 0.5
             },
             "pattern": {
              "fillmode": "overlay",
              "size": 10,
              "solidity": 0.2
             }
            },
            "type": "barpolar"
           }
          ],
          "carpet": [
           {
            "aaxis": {
             "endlinecolor": "#2a3f5f",
             "gridcolor": "white",
             "linecolor": "white",
             "minorgridcolor": "white",
             "startlinecolor": "#2a3f5f"
            },
            "baxis": {
             "endlinecolor": "#2a3f5f",
             "gridcolor": "white",
             "linecolor": "white",
             "minorgridcolor": "white",
             "startlinecolor": "#2a3f5f"
            },
            "type": "carpet"
           }
          ],
          "choropleth": [
           {
            "colorbar": {
             "outlinewidth": 0,
             "ticks": ""
            },
            "type": "choropleth"
           }
          ],
          "contour": [
           {
            "colorbar": {
             "outlinewidth": 0,
             "ticks": ""
            },
            "colorscale": [
             [
              0,
              "#0d0887"
             ],
             [
              0.1111111111111111,
              "#46039f"
             ],
             [
              0.2222222222222222,
              "#7201a8"
             ],
             [
              0.3333333333333333,
              "#9c179e"
             ],
             [
              0.4444444444444444,
              "#bd3786"
             ],
             [
              0.5555555555555556,
              "#d8576b"
             ],
             [
              0.6666666666666666,
              "#ed7953"
             ],
             [
              0.7777777777777778,
              "#fb9f3a"
             ],
             [
              0.8888888888888888,
              "#fdca26"
             ],
             [
              1,
              "#f0f921"
             ]
            ],
            "type": "contour"
           }
          ],
          "contourcarpet": [
           {
            "colorbar": {
             "outlinewidth": 0,
             "ticks": ""
            },
            "type": "contourcarpet"
           }
          ],
          "heatmap": [
           {
            "colorbar": {
             "outlinewidth": 0,
             "ticks": ""
            },
            "colorscale": [
             [
              0,
              "#0d0887"
             ],
             [
              0.1111111111111111,
              "#46039f"
             ],
             [
              0.2222222222222222,
              "#7201a8"
             ],
             [
              0.3333333333333333,
              "#9c179e"
             ],
             [
              0.4444444444444444,
              "#bd3786"
             ],
             [
              0.5555555555555556,
              "#d8576b"
             ],
             [
              0.6666666666666666,
              "#ed7953"
             ],
             [
              0.7777777777777778,
              "#fb9f3a"
             ],
             [
              0.8888888888888888,
              "#fdca26"
             ],
             [
              1,
              "#f0f921"
             ]
            ],
            "type": "heatmap"
           }
          ],
          "heatmapgl": [
           {
            "colorbar": {
             "outlinewidth": 0,
             "ticks": ""
            },
            "colorscale": [
             [
              0,
              "#0d0887"
             ],
             [
              0.1111111111111111,
              "#46039f"
             ],
             [
              0.2222222222222222,
              "#7201a8"
             ],
             [
              0.3333333333333333,
              "#9c179e"
             ],
             [
              0.4444444444444444,
              "#bd3786"
             ],
             [
              0.5555555555555556,
              "#d8576b"
             ],
             [
              0.6666666666666666,
              "#ed7953"
             ],
             [
              0.7777777777777778,
              "#fb9f3a"
             ],
             [
              0.8888888888888888,
              "#fdca26"
             ],
             [
              1,
              "#f0f921"
             ]
            ],
            "type": "heatmapgl"
           }
          ],
          "histogram": [
           {
            "marker": {
             "pattern": {
              "fillmode": "overlay",
              "size": 10,
              "solidity": 0.2
             }
            },
            "type": "histogram"
           }
          ],
          "histogram2d": [
           {
            "colorbar": {
             "outlinewidth": 0,
             "ticks": ""
            },
            "colorscale": [
             [
              0,
              "#0d0887"
             ],
             [
              0.1111111111111111,
              "#46039f"
             ],
             [
              0.2222222222222222,
              "#7201a8"
             ],
             [
              0.3333333333333333,
              "#9c179e"
             ],
             [
              0.4444444444444444,
              "#bd3786"
             ],
             [
              0.5555555555555556,
              "#d8576b"
             ],
             [
              0.6666666666666666,
              "#ed7953"
             ],
             [
              0.7777777777777778,
              "#fb9f3a"
             ],
             [
              0.8888888888888888,
              "#fdca26"
             ],
             [
              1,
              "#f0f921"
             ]
            ],
            "type": "histogram2d"
           }
          ],
          "histogram2dcontour": [
           {
            "colorbar": {
             "outlinewidth": 0,
             "ticks": ""
            },
            "colorscale": [
             [
              0,
              "#0d0887"
             ],
             [
              0.1111111111111111,
              "#46039f"
             ],
             [
              0.2222222222222222,
              "#7201a8"
             ],
             [
              0.3333333333333333,
              "#9c179e"
             ],
             [
              0.4444444444444444,
              "#bd3786"
             ],
             [
              0.5555555555555556,
              "#d8576b"
             ],
             [
              0.6666666666666666,
              "#ed7953"
             ],
             [
              0.7777777777777778,
              "#fb9f3a"
             ],
             [
              0.8888888888888888,
              "#fdca26"
             ],
             [
              1,
              "#f0f921"
             ]
            ],
            "type": "histogram2dcontour"
           }
          ],
          "mesh3d": [
           {
            "colorbar": {
             "outlinewidth": 0,
             "ticks": ""
            },
            "type": "mesh3d"
           }
          ],
          "parcoords": [
           {
            "line": {
             "colorbar": {
              "outlinewidth": 0,
              "ticks": ""
             }
            },
            "type": "parcoords"
           }
          ],
          "pie": [
           {
            "automargin": true,
            "type": "pie"
           }
          ],
          "scatter": [
           {
            "marker": {
             "colorbar": {
              "outlinewidth": 0,
              "ticks": ""
             }
            },
            "type": "scatter"
           }
          ],
          "scatter3d": [
           {
            "line": {
             "colorbar": {
              "outlinewidth": 0,
              "ticks": ""
             }
            },
            "marker": {
             "colorbar": {
              "outlinewidth": 0,
              "ticks": ""
             }
            },
            "type": "scatter3d"
           }
          ],
          "scattercarpet": [
           {
            "marker": {
             "colorbar": {
              "outlinewidth": 0,
              "ticks": ""
             }
            },
            "type": "scattercarpet"
           }
          ],
          "scattergeo": [
           {
            "marker": {
             "colorbar": {
              "outlinewidth": 0,
              "ticks": ""
             }
            },
            "type": "scattergeo"
           }
          ],
          "scattergl": [
           {
            "marker": {
             "colorbar": {
              "outlinewidth": 0,
              "ticks": ""
             }
            },
            "type": "scattergl"
           }
          ],
          "scattermapbox": [
           {
            "marker": {
             "colorbar": {
              "outlinewidth": 0,
              "ticks": ""
             }
            },
            "type": "scattermapbox"
           }
          ],
          "scatterpolar": [
           {
            "marker": {
             "colorbar": {
              "outlinewidth": 0,
              "ticks": ""
             }
            },
            "type": "scatterpolar"
           }
          ],
          "scatterpolargl": [
           {
            "marker": {
             "colorbar": {
              "outlinewidth": 0,
              "ticks": ""
             }
            },
            "type": "scatterpolargl"
           }
          ],
          "scatterternary": [
           {
            "marker": {
             "colorbar": {
              "outlinewidth": 0,
              "ticks": ""
             }
            },
            "type": "scatterternary"
           }
          ],
          "surface": [
           {
            "colorbar": {
             "outlinewidth": 0,
             "ticks": ""
            },
            "colorscale": [
             [
              0,
              "#0d0887"
             ],
             [
              0.1111111111111111,
              "#46039f"
             ],
             [
              0.2222222222222222,
              "#7201a8"
             ],
             [
              0.3333333333333333,
              "#9c179e"
             ],
             [
              0.4444444444444444,
              "#bd3786"
             ],
             [
              0.5555555555555556,
              "#d8576b"
             ],
             [
              0.6666666666666666,
              "#ed7953"
             ],
             [
              0.7777777777777778,
              "#fb9f3a"
             ],
             [
              0.8888888888888888,
              "#fdca26"
             ],
             [
              1,
              "#f0f921"
             ]
            ],
            "type": "surface"
           }
          ],
          "table": [
           {
            "cells": {
             "fill": {
              "color": "#EBF0F8"
             },
             "line": {
              "color": "white"
             }
            },
            "header": {
             "fill": {
              "color": "#C8D4E3"
             },
             "line": {
              "color": "white"
             }
            },
            "type": "table"
           }
          ]
         },
         "layout": {
          "annotationdefaults": {
           "arrowcolor": "#2a3f5f",
           "arrowhead": 0,
           "arrowwidth": 1
          },
          "autotypenumbers": "strict",
          "coloraxis": {
           "colorbar": {
            "outlinewidth": 0,
            "ticks": ""
           }
          },
          "colorscale": {
           "diverging": [
            [
             0,
             "#8e0152"
            ],
            [
             0.1,
             "#c51b7d"
            ],
            [
             0.2,
             "#de77ae"
            ],
            [
             0.3,
             "#f1b6da"
            ],
            [
             0.4,
             "#fde0ef"
            ],
            [
             0.5,
             "#f7f7f7"
            ],
            [
             0.6,
             "#e6f5d0"
            ],
            [
             0.7,
             "#b8e186"
            ],
            [
             0.8,
             "#7fbc41"
            ],
            [
             0.9,
             "#4d9221"
            ],
            [
             1,
             "#276419"
            ]
           ],
           "sequential": [
            [
             0,
             "#0d0887"
            ],
            [
             0.1111111111111111,
             "#46039f"
            ],
            [
             0.2222222222222222,
             "#7201a8"
            ],
            [
             0.3333333333333333,
             "#9c179e"
            ],
            [
             0.4444444444444444,
             "#bd3786"
            ],
            [
             0.5555555555555556,
             "#d8576b"
            ],
            [
             0.6666666666666666,
             "#ed7953"
            ],
            [
             0.7777777777777778,
             "#fb9f3a"
            ],
            [
             0.8888888888888888,
             "#fdca26"
            ],
            [
             1,
             "#f0f921"
            ]
           ],
           "sequentialminus": [
            [
             0,
             "#0d0887"
            ],
            [
             0.1111111111111111,
             "#46039f"
            ],
            [
             0.2222222222222222,
             "#7201a8"
            ],
            [
             0.3333333333333333,
             "#9c179e"
            ],
            [
             0.4444444444444444,
             "#bd3786"
            ],
            [
             0.5555555555555556,
             "#d8576b"
            ],
            [
             0.6666666666666666,
             "#ed7953"
            ],
            [
             0.7777777777777778,
             "#fb9f3a"
            ],
            [
             0.8888888888888888,
             "#fdca26"
            ],
            [
             1,
             "#f0f921"
            ]
           ]
          },
          "colorway": [
           "#636efa",
           "#EF553B",
           "#00cc96",
           "#ab63fa",
           "#FFA15A",
           "#19d3f3",
           "#FF6692",
           "#B6E880",
           "#FF97FF",
           "#FECB52"
          ],
          "font": {
           "color": "#2a3f5f"
          },
          "geo": {
           "bgcolor": "white",
           "lakecolor": "white",
           "landcolor": "#E5ECF6",
           "showlakes": true,
           "showland": true,
           "subunitcolor": "white"
          },
          "hoverlabel": {
           "align": "left"
          },
          "hovermode": "closest",
          "mapbox": {
           "style": "light"
          },
          "paper_bgcolor": "white",
          "plot_bgcolor": "#E5ECF6",
          "polar": {
           "angularaxis": {
            "gridcolor": "white",
            "linecolor": "white",
            "ticks": ""
           },
           "bgcolor": "#E5ECF6",
           "radialaxis": {
            "gridcolor": "white",
            "linecolor": "white",
            "ticks": ""
           }
          },
          "scene": {
           "xaxis": {
            "backgroundcolor": "#E5ECF6",
            "gridcolor": "white",
            "gridwidth": 2,
            "linecolor": "white",
            "showbackground": true,
            "ticks": "",
            "zerolinecolor": "white"
           },
           "yaxis": {
            "backgroundcolor": "#E5ECF6",
            "gridcolor": "white",
            "gridwidth": 2,
            "linecolor": "white",
            "showbackground": true,
            "ticks": "",
            "zerolinecolor": "white"
           },
           "zaxis": {
            "backgroundcolor": "#E5ECF6",
            "gridcolor": "white",
            "gridwidth": 2,
            "linecolor": "white",
            "showbackground": true,
            "ticks": "",
            "zerolinecolor": "white"
           }
          },
          "shapedefaults": {
           "line": {
            "color": "#2a3f5f"
           }
          },
          "ternary": {
           "aaxis": {
            "gridcolor": "white",
            "linecolor": "white",
            "ticks": ""
           },
           "baxis": {
            "gridcolor": "white",
            "linecolor": "white",
            "ticks": ""
           },
           "bgcolor": "#E5ECF6",
           "caxis": {
            "gridcolor": "white",
            "linecolor": "white",
            "ticks": ""
           }
          },
          "title": {
           "x": 0.05
          },
          "xaxis": {
           "automargin": true,
           "gridcolor": "white",
           "linecolor": "white",
           "ticks": "",
           "title": {
            "standoff": 15
           },
           "zerolinecolor": "white",
           "zerolinewidth": 2
          },
          "yaxis": {
           "automargin": true,
           "gridcolor": "white",
           "linecolor": "white",
           "ticks": "",
           "title": {
            "standoff": 15
           },
           "zerolinecolor": "white",
           "zerolinewidth": 2
          }
         }
        },
        "title": {
         "text": "Средний чек групп покупателей"
        },
        "xaxis": {
         "anchor": "y",
         "domain": [
          0,
          1
         ],
         "title": {
          "text": "дата"
         }
        },
        "yaxis": {
         "anchor": "x",
         "domain": [
          0,
          1
         ],
         "title": {
          "text": "средний чек"
         }
        }
       }
      }
     },
     "metadata": {},
     "output_type": "display_data"
    }
   ],
   "source": [
    "fig = px.line(mean_chek,\n",
    "              x='date_round',\n",
    "              y='mean_chek',\n",
    "              color='major_group',\n",
    "              title='Средний чек групп покупателей',\n",
    "              labels=dict(date_round='дата', mean_chek='средний чек',\n",
    "                          major_group='группа покупателей'),\n",
    "              line_shape='spline'\n",
    "              )\n",
    "\n",
    "fig.update_traces(line_width=4)"
   ]
  },
  {
   "cell_type": "markdown",
   "metadata": {},
   "source": [
    "Как видим, группа 1 (ушедщие пользователи) имеют средний чек выше ,чем у постоянных пользователей(группа 3) с октября по апрель - покупают на большие суммы за меньшее число заказов. А в группе 2 (неактивные пользователи) просаживается средний чек в феврал и марте - то есть они совершают много заказов. У постоянных пользователей средний чек скачет в марте, июне , сентябре и декабре - совершают дорогие покупки за меньшее число заказов."
   ]
  },
  {
   "cell_type": "markdown",
   "metadata": {},
   "source": [
    "### Товары"
   ]
  },
  {
   "cell_type": "markdown",
   "metadata": {},
   "source": [
    "Совершим теперь категоризацию товаров обобщив по принадлежности, например, если есть слова `рассада` или `сорт` то ему присвоится `рассада и растения`. Напишем функцию с сключевыми словами и окнчаниями слов, на основе котрых можно присвоить категорию. "
   ]
  },
  {
   "cell_type": "code",
   "execution_count": 133,
   "metadata": {},
   "outputs": [],
   "source": [
    "def categorizator(words):\n",
    "    \"\"\"категоризатор товаров\"\"\"\n",
    "\n",
    "    # проверка на входящие слова - если есть то вернет Правду\n",
    "    def proverka(key_words):\n",
    "        \n",
    "        return any(\n",
    "            filter(\n",
    "                lambda x: x in words,\n",
    "                key_words\n",
    "            )\n",
    "        )\n",
    "\n",
    "    if proverka(['рассада', 'растение', 'цветок', 'в упаковке',\n",
    "                 'пеларгония', 'бакопа', 'вербена',\n",
    "                 'сорт', 'герань', 'фуксия', 'лист',\n",
    "                 'петуния', 'черенок', 'в горшке', 'баклажан',\n",
    "                 'калибрахоа', 'цикламен', 'эвкалипт', 'колокольчик',\n",
    "                 'циперус', 'раннеспел', 'крупноцветков',\n",
    "                 'среднеспел', 'скороспел', 'комнатн', 'олистн', 'лаванда', 'кипарис',\n",
    "                 'томат', 'гвоздика', 'дыня', 'фиалка', 'смесь', 'в кассете', 'лекарствен', 'обыкновен',\n",
    "\n",
    "                 'ум ', 'ения ', 'егия ', 'ус ', 'ния ', 'ония ', 'ис ', 'ия ', 'ея ', 'ин ', 'лик ', 'лла ',\n",
    "                 'ола ', 'ера ', 'оза ', 'барвинок', 'сантолина',\n",
    "\n",
    "                 'базилик', 'травянист', 'тимьян', 'зверобой ', 'мята', 'каланхое', 'замиокулькас ',\n",
    "                 'камнеломка', 'овсянница', 'горшок', 'календула', 'юкка', 'солидаго ', 'подсолнечник',\n",
    "                 'роза', 'котовник', 'афеляндра ', 'хризантема', 'лавр', 'муррайя ', 'огурец ',\n",
    "                 'вербейник ', 'лобелия', ' микс ', 'арбуз', 'морковь', 'алоэ', 'бархатцы', 'монарда',\n",
    "                 'настурция', 'садов', 'капуста', 'седум', 'флокс ', 'крассула ', 'тюльпан ',\n",
    "                 'калатея ', 'мирт ', 'ясколка ', 'кофе', 'настурция', 'чабер', 'петрушка ', 'земляника ',\n",
    "                 'эхеверия ', 'незабудка ', 'мединилла ', 'нолина ', 'папоротник', 'лен ', 'львиный зев', 'георгина ',\n",
    "                 'клубника ', 'каллуна ', 'смолевка ', 'драцена ', 'пахира ', 'анемона ', 'лантана ']):\n",
    "\n",
    "        return 'рассада и растения'\n",
    "\n",
    "    elif proverka(['муляж', 'новогод', 'кашпо', 'искусствен', 'декор']):\n",
    "        return 'декор'\n",
    "\n",
    "    elif proverka(['для ванн', 'мыл', 'для туалет', 'для унитаза', 'в ванну']):\n",
    "        return 'предметы для ванной комнаты'\n",
    "\n",
    "    elif proverka(['средство', 'чист', 'для мытья', 'антижир', 'для стирки', 'сумка', 'тележка', 'вешал', 'для посудомоеч',\n",
    "                   'сушилка', 'стремян', 'лестница', 'для хранения', 'окон', 'крючок', 'кофр ', 'корзин',\n",
    "                   'плечики', 'щетка', 'подкладка', 'для глаженного', 'короб', 'веник', 'для тележки', 'прищеп',\n",
    "                   'для белья', 'одежды', 'гладил', 'корыто', 'подрукав', 'ковш', 'для штор', 'бидон', 'мусор', 'лапчатка ',\n",
    "                   'таз', 'ванна ', 'вантуз', 'для одежды', 'для досок', 'ведр', 'урна', 'зажигал', 'рассекатель ',\n",
    "                   'окномойка', 'швабра', 'подголовник', 'котел', 'для костюма', 'для утюг', 'совок', 'совком', 'ерш', 'ящик', 'ложка обувная',\n",
    "                   'тряпкодержатель', 'перчатки', 'для полировки', 'зубная паста', 'eurohouse', 'rozenbal', 'стирки']):\n",
    "        return 'хозтовары'\n",
    "\n",
    "    elif proverka(['полки', 'комод', 'для обуви',\n",
    "                   'обувница', 'пуф ', 'придверный',\n",
    "                   'этажерка', 'коврик', 'картина', 'золот', 'фоторамка']):\n",
    "        return 'интерьер, мебель'\n",
    "\n",
    "    elif proverka(['махров', 'ткань', 'флис',\n",
    "                   'пух', 'покрывало', 'микрофибр', 'чехол ',\n",
    "                   'скатерть', 'халат', 'хлопок',\n",
    "                   'постельн', 'полиэстер']):\n",
    "        return 'текстиль'\n",
    "\n",
    "    elif proverka(['блюд', 'кувшин', 'салатник', 'для кухни', 'кухонн',\n",
    "                   'кружка', 'сковород', 'хлебница', 'сито ', 'webber',\n",
    "                   'салфет', 'фарфор', 'термос ', ' эмал', 'банк', 'кастр', 'чеснок',\n",
    "                   'тарелка', 'банка', 'терка', 'миксер', 'чайн', 'варка', 'толкушка', 'противень ',\n",
    "                   'миска', 'для муки', 'тортница', 'штопор', 'венчик', 'кондитер', 'отделитель ',\n",
    "                   'скалка', 'столов', 'для выпечки', 'pasabahce', 'лоток ', 'attribute blossom',\n",
    "                   'для свч', 'контейнер', 'luminarc', 'стакан', 'pyrex', 'tvs', 'viva attribute',\n",
    "                   'разделочн', 'кекс', 'картофелемялка', 'bamboo', 'wilmax']):\n",
    "\n",
    "        return 'посуда, товары для кухни'\n",
    "\n",
    "    elif proverka(['термометр', 'нож', 'штангенциркуль', 'весы', 'сверло', 'сверел',\n",
    "                   'шило',\n",
    "                   'фал', 'шпагат ', 'шнур ', 'фиксатор',\n",
    "                   'линейка', 'напильник', 'инструмент', 'измерительн']):\n",
    "        return 'инструменты, такелаж'\n",
    "\n",
    "    elif proverka([' вт ', ' квт ', 'электр', 'perfectolight']):\n",
    "        return 'электроприборы'\n",
    "\n",
    "    elif proverka(['петля', 'стяжка', 'шпингалет', 'крепеж', 'завертка', 'ручка']):\n",
    "        return 'фурнитура'\n",
    "\n",
    "    elif proverka(['подароч']):\n",
    "        return 'подарки на праздники'\n",
    "\n",
    "    else:\n",
    "        return words  # проверка"
   ]
  },
  {
   "cell_type": "markdown",
   "metadata": {},
   "source": [
    "применим и проверим"
   ]
  },
  {
   "cell_type": "code",
   "execution_count": 134,
   "metadata": {},
   "outputs": [
    {
     "data": {
      "text/plain": [
       "рассада и растения             4587\n",
       "хозтовары                      1581\n",
       "посуда, товары для кухни        392\n",
       "декор                           196\n",
       "предметы для ванной комнаты     169\n",
       "интерьер, мебель                145\n",
       "текстиль                         73\n",
       "инструменты, такелаж             73\n",
       "фурнитура                        17\n",
       "электроприборы                    4\n",
       "подарки на праздники              3\n",
       "Name: category_product, dtype: int64"
      ]
     },
     "execution_count": 134,
     "metadata": {},
     "output_type": "execute_result"
    }
   ],
   "source": [
    "customer_with_group['category_product'] = (customer_with_group['product']\n",
    "                                           .apply(categorizator))\n",
    "\n",
    "\n",
    "customer_with_group['category_product'].value_counts()"
   ]
  },
  {
   "cell_type": "markdown",
   "metadata": {},
   "source": [
    "Товары побеждены и категоризированы"
   ]
  },
  {
   "cell_type": "code",
   "execution_count": 135,
   "metadata": {},
   "outputs": [],
   "source": [
    "pop_category = (customer_with_group\n",
    "                .groupby(['major_group', 'category_product'], as_index=False)\n",
    "                .agg({'quantity': 'sum'}))"
   ]
  },
  {
   "cell_type": "markdown",
   "metadata": {},
   "source": [
    "перед построением гррафика отсортируем по группе по числу товаров"
   ]
  },
  {
   "cell_type": "code",
   "execution_count": 136,
   "metadata": {},
   "outputs": [],
   "source": [
    "pop_category = (pop_category\n",
    "                .sort_values(['major_group', 'quantity'], ascending=[True, False]))"
   ]
  },
  {
   "cell_type": "code",
   "execution_count": 137,
   "metadata": {},
   "outputs": [
    {
     "data": {
      "application/vnd.plotly.v1+json": {
       "config": {
        "plotlyServerURL": "https://plot.ly"
       },
       "data": [
        {
         "alignmentgroup": "True",
         "hovertemplate": "категория товара=рассада и растения<br>сегмент пользователей=%{x}<br>кол-во купленных товаров в категории=%{y}<extra></extra>",
         "legendgroup": "рассада и растения",
         "marker": {
          "color": "rgb(95, 70, 144)",
          "pattern": {
           "shape": ""
          }
         },
         "name": "рассада и растения",
         "offsetgroup": "рассада и растения",
         "orientation": "v",
         "showlegend": true,
         "textposition": "auto",
         "type": "bar",
         "x": [
          "group_1",
          "group_2",
          "group_3"
         ],
         "xaxis": "x",
         "y": [
          2430,
          4403,
          697
         ],
         "yaxis": "y"
        },
        {
         "alignmentgroup": "True",
         "hovertemplate": "категория товара=хозтовары<br>сегмент пользователей=%{x}<br>кол-во купленных товаров в категории=%{y}<extra></extra>",
         "legendgroup": "хозтовары",
         "marker": {
          "color": "rgb(29, 105, 150)",
          "pattern": {
           "shape": ""
          }
         },
         "name": "хозтовары",
         "offsetgroup": "хозтовары",
         "orientation": "v",
         "showlegend": true,
         "textposition": "auto",
         "type": "bar",
         "x": [
          "group_1",
          "group_2",
          "group_3"
         ],
         "xaxis": "x",
         "y": [
          1969,
          1117,
          792
         ],
         "yaxis": "y"
        },
        {
         "alignmentgroup": "True",
         "hovertemplate": "категория товара=декор<br>сегмент пользователей=%{x}<br>кол-во купленных товаров в категории=%{y}<extra></extra>",
         "legendgroup": "декор",
         "marker": {
          "color": "rgb(56, 166, 165)",
          "pattern": {
           "shape": ""
          }
         },
         "name": "декор",
         "offsetgroup": "декор",
         "orientation": "v",
         "showlegend": true,
         "textposition": "auto",
         "type": "bar",
         "x": [
          "group_1",
          "group_2",
          "group_3"
         ],
         "xaxis": "x",
         "y": [
          908,
          497,
          81
         ],
         "yaxis": "y"
        },
        {
         "alignmentgroup": "True",
         "hovertemplate": "категория товара=посуда, товары для кухни<br>сегмент пользователей=%{x}<br>кол-во купленных товаров в категории=%{y}<extra></extra>",
         "legendgroup": "посуда, товары для кухни",
         "marker": {
          "color": "rgb(15, 133, 84)",
          "pattern": {
           "shape": ""
          }
         },
         "name": "посуда, товары для кухни",
         "offsetgroup": "посуда, товары для кухни",
         "orientation": "v",
         "showlegend": true,
         "textposition": "auto",
         "type": "bar",
         "x": [
          "group_1",
          "group_2",
          "group_3"
         ],
         "xaxis": "x",
         "y": [
          695,
          387,
          145
         ],
         "yaxis": "y"
        },
        {
         "alignmentgroup": "True",
         "hovertemplate": "категория товара=фурнитура<br>сегмент пользователей=%{x}<br>кол-во купленных товаров в категории=%{y}<extra></extra>",
         "legendgroup": "фурнитура",
         "marker": {
          "color": "rgb(115, 175, 72)",
          "pattern": {
           "shape": ""
          }
         },
         "name": "фурнитура",
         "offsetgroup": "фурнитура",
         "orientation": "v",
         "showlegend": true,
         "textposition": "auto",
         "type": "bar",
         "x": [
          "group_1",
          "group_2",
          "group_3"
         ],
         "xaxis": "x",
         "y": [
          576,
          212,
          101
         ],
         "yaxis": "y"
        },
        {
         "alignmentgroup": "True",
         "hovertemplate": "категория товара=инструменты, такелаж<br>сегмент пользователей=%{x}<br>кол-во купленных товаров в категории=%{y}<extra></extra>",
         "legendgroup": "инструменты, такелаж",
         "marker": {
          "color": "rgb(237, 173, 8)",
          "pattern": {
           "shape": ""
          }
         },
         "name": "инструменты, такелаж",
         "offsetgroup": "инструменты, такелаж",
         "orientation": "v",
         "showlegend": true,
         "textposition": "auto",
         "type": "bar",
         "x": [
          "group_1",
          "group_2",
          "group_3"
         ],
         "xaxis": "x",
         "y": [
          149,
          31,
          22
         ],
         "yaxis": "y"
        },
        {
         "alignmentgroup": "True",
         "hovertemplate": "категория товара=текстиль<br>сегмент пользователей=%{x}<br>кол-во купленных товаров в категории=%{y}<extra></extra>",
         "legendgroup": "текстиль",
         "marker": {
          "color": "rgb(225, 124, 5)",
          "pattern": {
           "shape": ""
          }
         },
         "name": "текстиль",
         "offsetgroup": "текстиль",
         "orientation": "v",
         "showlegend": true,
         "textposition": "auto",
         "type": "bar",
         "x": [
          "group_1",
          "group_2",
          "group_3"
         ],
         "xaxis": "x",
         "y": [
          111,
          71,
          26
         ],
         "yaxis": "y"
        },
        {
         "alignmentgroup": "True",
         "hovertemplate": "категория товара=интерьер, мебель<br>сегмент пользователей=%{x}<br>кол-во купленных товаров в категории=%{y}<extra></extra>",
         "legendgroup": "интерьер, мебель",
         "marker": {
          "color": "rgb(204, 80, 62)",
          "pattern": {
           "shape": ""
          }
         },
         "name": "интерьер, мебель",
         "offsetgroup": "интерьер, мебель",
         "orientation": "v",
         "showlegend": true,
         "textposition": "auto",
         "type": "bar",
         "x": [
          "group_1",
          "group_2",
          "group_3"
         ],
         "xaxis": "x",
         "y": [
          93,
          95,
          65
         ],
         "yaxis": "y"
        },
        {
         "alignmentgroup": "True",
         "hovertemplate": "категория товара=предметы для ванной комнаты<br>сегмент пользователей=%{x}<br>кол-во купленных товаров в категории=%{y}<extra></extra>",
         "legendgroup": "предметы для ванной комнаты",
         "marker": {
          "color": "rgb(148, 52, 110)",
          "pattern": {
           "shape": ""
          }
         },
         "name": "предметы для ванной комнаты",
         "offsetgroup": "предметы для ванной комнаты",
         "orientation": "v",
         "showlegend": true,
         "textposition": "auto",
         "type": "bar",
         "x": [
          "group_1",
          "group_2",
          "group_3"
         ],
         "xaxis": "x",
         "y": [
          73,
          98,
          64
         ],
         "yaxis": "y"
        },
        {
         "alignmentgroup": "True",
         "hovertemplate": "категория товара=подарки на праздники<br>сегмент пользователей=%{x}<br>кол-во купленных товаров в категории=%{y}<extra></extra>",
         "legendgroup": "подарки на праздники",
         "marker": {
          "color": "rgb(111, 64, 112)",
          "pattern": {
           "shape": ""
          }
         },
         "name": "подарки на праздники",
         "offsetgroup": "подарки на праздники",
         "orientation": "v",
         "showlegend": true,
         "textposition": "auto",
         "type": "bar",
         "x": [
          "group_1",
          "group_3"
         ],
         "xaxis": "x",
         "y": [
          17,
          1
         ],
         "yaxis": "y"
        },
        {
         "alignmentgroup": "True",
         "hovertemplate": "категория товара=электроприборы<br>сегмент пользователей=%{x}<br>кол-во купленных товаров в категории=%{y}<extra></extra>",
         "legendgroup": "электроприборы",
         "marker": {
          "color": "rgb(102, 102, 102)",
          "pattern": {
           "shape": ""
          }
         },
         "name": "электроприборы",
         "offsetgroup": "электроприборы",
         "orientation": "v",
         "showlegend": true,
         "textposition": "auto",
         "type": "bar",
         "x": [
          "group_1",
          "group_3"
         ],
         "xaxis": "x",
         "y": [
          2,
          4
         ],
         "yaxis": "y"
        }
       ],
       "layout": {
        "barmode": "group",
        "legend": {
         "title": {
          "text": "категория товара"
         },
         "tracegroupgap": 0
        },
        "template": {
         "data": {
          "bar": [
           {
            "error_x": {
             "color": "#2a3f5f"
            },
            "error_y": {
             "color": "#2a3f5f"
            },
            "marker": {
             "line": {
              "color": "#E5ECF6",
              "width": 0.5
             },
             "pattern": {
              "fillmode": "overlay",
              "size": 10,
              "solidity": 0.2
             }
            },
            "type": "bar"
           }
          ],
          "barpolar": [
           {
            "marker": {
             "line": {
              "color": "#E5ECF6",
              "width": 0.5
             },
             "pattern": {
              "fillmode": "overlay",
              "size": 10,
              "solidity": 0.2
             }
            },
            "type": "barpolar"
           }
          ],
          "carpet": [
           {
            "aaxis": {
             "endlinecolor": "#2a3f5f",
             "gridcolor": "white",
             "linecolor": "white",
             "minorgridcolor": "white",
             "startlinecolor": "#2a3f5f"
            },
            "baxis": {
             "endlinecolor": "#2a3f5f",
             "gridcolor": "white",
             "linecolor": "white",
             "minorgridcolor": "white",
             "startlinecolor": "#2a3f5f"
            },
            "type": "carpet"
           }
          ],
          "choropleth": [
           {
            "colorbar": {
             "outlinewidth": 0,
             "ticks": ""
            },
            "type": "choropleth"
           }
          ],
          "contour": [
           {
            "colorbar": {
             "outlinewidth": 0,
             "ticks": ""
            },
            "colorscale": [
             [
              0,
              "#0d0887"
             ],
             [
              0.1111111111111111,
              "#46039f"
             ],
             [
              0.2222222222222222,
              "#7201a8"
             ],
             [
              0.3333333333333333,
              "#9c179e"
             ],
             [
              0.4444444444444444,
              "#bd3786"
             ],
             [
              0.5555555555555556,
              "#d8576b"
             ],
             [
              0.6666666666666666,
              "#ed7953"
             ],
             [
              0.7777777777777778,
              "#fb9f3a"
             ],
             [
              0.8888888888888888,
              "#fdca26"
             ],
             [
              1,
              "#f0f921"
             ]
            ],
            "type": "contour"
           }
          ],
          "contourcarpet": [
           {
            "colorbar": {
             "outlinewidth": 0,
             "ticks": ""
            },
            "type": "contourcarpet"
           }
          ],
          "heatmap": [
           {
            "colorbar": {
             "outlinewidth": 0,
             "ticks": ""
            },
            "colorscale": [
             [
              0,
              "#0d0887"
             ],
             [
              0.1111111111111111,
              "#46039f"
             ],
             [
              0.2222222222222222,
              "#7201a8"
             ],
             [
              0.3333333333333333,
              "#9c179e"
             ],
             [
              0.4444444444444444,
              "#bd3786"
             ],
             [
              0.5555555555555556,
              "#d8576b"
             ],
             [
              0.6666666666666666,
              "#ed7953"
             ],
             [
              0.7777777777777778,
              "#fb9f3a"
             ],
             [
              0.8888888888888888,
              "#fdca26"
             ],
             [
              1,
              "#f0f921"
             ]
            ],
            "type": "heatmap"
           }
          ],
          "heatmapgl": [
           {
            "colorbar": {
             "outlinewidth": 0,
             "ticks": ""
            },
            "colorscale": [
             [
              0,
              "#0d0887"
             ],
             [
              0.1111111111111111,
              "#46039f"
             ],
             [
              0.2222222222222222,
              "#7201a8"
             ],
             [
              0.3333333333333333,
              "#9c179e"
             ],
             [
              0.4444444444444444,
              "#bd3786"
             ],
             [
              0.5555555555555556,
              "#d8576b"
             ],
             [
              0.6666666666666666,
              "#ed7953"
             ],
             [
              0.7777777777777778,
              "#fb9f3a"
             ],
             [
              0.8888888888888888,
              "#fdca26"
             ],
             [
              1,
              "#f0f921"
             ]
            ],
            "type": "heatmapgl"
           }
          ],
          "histogram": [
           {
            "marker": {
             "pattern": {
              "fillmode": "overlay",
              "size": 10,
              "solidity": 0.2
             }
            },
            "type": "histogram"
           }
          ],
          "histogram2d": [
           {
            "colorbar": {
             "outlinewidth": 0,
             "ticks": ""
            },
            "colorscale": [
             [
              0,
              "#0d0887"
             ],
             [
              0.1111111111111111,
              "#46039f"
             ],
             [
              0.2222222222222222,
              "#7201a8"
             ],
             [
              0.3333333333333333,
              "#9c179e"
             ],
             [
              0.4444444444444444,
              "#bd3786"
             ],
             [
              0.5555555555555556,
              "#d8576b"
             ],
             [
              0.6666666666666666,
              "#ed7953"
             ],
             [
              0.7777777777777778,
              "#fb9f3a"
             ],
             [
              0.8888888888888888,
              "#fdca26"
             ],
             [
              1,
              "#f0f921"
             ]
            ],
            "type": "histogram2d"
           }
          ],
          "histogram2dcontour": [
           {
            "colorbar": {
             "outlinewidth": 0,
             "ticks": ""
            },
            "colorscale": [
             [
              0,
              "#0d0887"
             ],
             [
              0.1111111111111111,
              "#46039f"
             ],
             [
              0.2222222222222222,
              "#7201a8"
             ],
             [
              0.3333333333333333,
              "#9c179e"
             ],
             [
              0.4444444444444444,
              "#bd3786"
             ],
             [
              0.5555555555555556,
              "#d8576b"
             ],
             [
              0.6666666666666666,
              "#ed7953"
             ],
             [
              0.7777777777777778,
              "#fb9f3a"
             ],
             [
              0.8888888888888888,
              "#fdca26"
             ],
             [
              1,
              "#f0f921"
             ]
            ],
            "type": "histogram2dcontour"
           }
          ],
          "mesh3d": [
           {
            "colorbar": {
             "outlinewidth": 0,
             "ticks": ""
            },
            "type": "mesh3d"
           }
          ],
          "parcoords": [
           {
            "line": {
             "colorbar": {
              "outlinewidth": 0,
              "ticks": ""
             }
            },
            "type": "parcoords"
           }
          ],
          "pie": [
           {
            "automargin": true,
            "type": "pie"
           }
          ],
          "scatter": [
           {
            "marker": {
             "colorbar": {
              "outlinewidth": 0,
              "ticks": ""
             }
            },
            "type": "scatter"
           }
          ],
          "scatter3d": [
           {
            "line": {
             "colorbar": {
              "outlinewidth": 0,
              "ticks": ""
             }
            },
            "marker": {
             "colorbar": {
              "outlinewidth": 0,
              "ticks": ""
             }
            },
            "type": "scatter3d"
           }
          ],
          "scattercarpet": [
           {
            "marker": {
             "colorbar": {
              "outlinewidth": 0,
              "ticks": ""
             }
            },
            "type": "scattercarpet"
           }
          ],
          "scattergeo": [
           {
            "marker": {
             "colorbar": {
              "outlinewidth": 0,
              "ticks": ""
             }
            },
            "type": "scattergeo"
           }
          ],
          "scattergl": [
           {
            "marker": {
             "colorbar": {
              "outlinewidth": 0,
              "ticks": ""
             }
            },
            "type": "scattergl"
           }
          ],
          "scattermapbox": [
           {
            "marker": {
             "colorbar": {
              "outlinewidth": 0,
              "ticks": ""
             }
            },
            "type": "scattermapbox"
           }
          ],
          "scatterpolar": [
           {
            "marker": {
             "colorbar": {
              "outlinewidth": 0,
              "ticks": ""
             }
            },
            "type": "scatterpolar"
           }
          ],
          "scatterpolargl": [
           {
            "marker": {
             "colorbar": {
              "outlinewidth": 0,
              "ticks": ""
             }
            },
            "type": "scatterpolargl"
           }
          ],
          "scatterternary": [
           {
            "marker": {
             "colorbar": {
              "outlinewidth": 0,
              "ticks": ""
             }
            },
            "type": "scatterternary"
           }
          ],
          "surface": [
           {
            "colorbar": {
             "outlinewidth": 0,
             "ticks": ""
            },
            "colorscale": [
             [
              0,
              "#0d0887"
             ],
             [
              0.1111111111111111,
              "#46039f"
             ],
             [
              0.2222222222222222,
              "#7201a8"
             ],
             [
              0.3333333333333333,
              "#9c179e"
             ],
             [
              0.4444444444444444,
              "#bd3786"
             ],
             [
              0.5555555555555556,
              "#d8576b"
             ],
             [
              0.6666666666666666,
              "#ed7953"
             ],
             [
              0.7777777777777778,
              "#fb9f3a"
             ],
             [
              0.8888888888888888,
              "#fdca26"
             ],
             [
              1,
              "#f0f921"
             ]
            ],
            "type": "surface"
           }
          ],
          "table": [
           {
            "cells": {
             "fill": {
              "color": "#EBF0F8"
             },
             "line": {
              "color": "white"
             }
            },
            "header": {
             "fill": {
              "color": "#C8D4E3"
             },
             "line": {
              "color": "white"
             }
            },
            "type": "table"
           }
          ]
         },
         "layout": {
          "annotationdefaults": {
           "arrowcolor": "#2a3f5f",
           "arrowhead": 0,
           "arrowwidth": 1
          },
          "autotypenumbers": "strict",
          "coloraxis": {
           "colorbar": {
            "outlinewidth": 0,
            "ticks": ""
           }
          },
          "colorscale": {
           "diverging": [
            [
             0,
             "#8e0152"
            ],
            [
             0.1,
             "#c51b7d"
            ],
            [
             0.2,
             "#de77ae"
            ],
            [
             0.3,
             "#f1b6da"
            ],
            [
             0.4,
             "#fde0ef"
            ],
            [
             0.5,
             "#f7f7f7"
            ],
            [
             0.6,
             "#e6f5d0"
            ],
            [
             0.7,
             "#b8e186"
            ],
            [
             0.8,
             "#7fbc41"
            ],
            [
             0.9,
             "#4d9221"
            ],
            [
             1,
             "#276419"
            ]
           ],
           "sequential": [
            [
             0,
             "#0d0887"
            ],
            [
             0.1111111111111111,
             "#46039f"
            ],
            [
             0.2222222222222222,
             "#7201a8"
            ],
            [
             0.3333333333333333,
             "#9c179e"
            ],
            [
             0.4444444444444444,
             "#bd3786"
            ],
            [
             0.5555555555555556,
             "#d8576b"
            ],
            [
             0.6666666666666666,
             "#ed7953"
            ],
            [
             0.7777777777777778,
             "#fb9f3a"
            ],
            [
             0.8888888888888888,
             "#fdca26"
            ],
            [
             1,
             "#f0f921"
            ]
           ],
           "sequentialminus": [
            [
             0,
             "#0d0887"
            ],
            [
             0.1111111111111111,
             "#46039f"
            ],
            [
             0.2222222222222222,
             "#7201a8"
            ],
            [
             0.3333333333333333,
             "#9c179e"
            ],
            [
             0.4444444444444444,
             "#bd3786"
            ],
            [
             0.5555555555555556,
             "#d8576b"
            ],
            [
             0.6666666666666666,
             "#ed7953"
            ],
            [
             0.7777777777777778,
             "#fb9f3a"
            ],
            [
             0.8888888888888888,
             "#fdca26"
            ],
            [
             1,
             "#f0f921"
            ]
           ]
          },
          "colorway": [
           "#636efa",
           "#EF553B",
           "#00cc96",
           "#ab63fa",
           "#FFA15A",
           "#19d3f3",
           "#FF6692",
           "#B6E880",
           "#FF97FF",
           "#FECB52"
          ],
          "font": {
           "color": "#2a3f5f"
          },
          "geo": {
           "bgcolor": "white",
           "lakecolor": "white",
           "landcolor": "#E5ECF6",
           "showlakes": true,
           "showland": true,
           "subunitcolor": "white"
          },
          "hoverlabel": {
           "align": "left"
          },
          "hovermode": "closest",
          "mapbox": {
           "style": "light"
          },
          "paper_bgcolor": "white",
          "plot_bgcolor": "#E5ECF6",
          "polar": {
           "angularaxis": {
            "gridcolor": "white",
            "linecolor": "white",
            "ticks": ""
           },
           "bgcolor": "#E5ECF6",
           "radialaxis": {
            "gridcolor": "white",
            "linecolor": "white",
            "ticks": ""
           }
          },
          "scene": {
           "xaxis": {
            "backgroundcolor": "#E5ECF6",
            "gridcolor": "white",
            "gridwidth": 2,
            "linecolor": "white",
            "showbackground": true,
            "ticks": "",
            "zerolinecolor": "white"
           },
           "yaxis": {
            "backgroundcolor": "#E5ECF6",
            "gridcolor": "white",
            "gridwidth": 2,
            "linecolor": "white",
            "showbackground": true,
            "ticks": "",
            "zerolinecolor": "white"
           },
           "zaxis": {
            "backgroundcolor": "#E5ECF6",
            "gridcolor": "white",
            "gridwidth": 2,
            "linecolor": "white",
            "showbackground": true,
            "ticks": "",
            "zerolinecolor": "white"
           }
          },
          "shapedefaults": {
           "line": {
            "color": "#2a3f5f"
           }
          },
          "ternary": {
           "aaxis": {
            "gridcolor": "white",
            "linecolor": "white",
            "ticks": ""
           },
           "baxis": {
            "gridcolor": "white",
            "linecolor": "white",
            "ticks": ""
           },
           "bgcolor": "#E5ECF6",
           "caxis": {
            "gridcolor": "white",
            "linecolor": "white",
            "ticks": ""
           }
          },
          "title": {
           "x": 0.05
          },
          "xaxis": {
           "automargin": true,
           "gridcolor": "white",
           "linecolor": "white",
           "ticks": "",
           "title": {
            "standoff": 15
           },
           "zerolinecolor": "white",
           "zerolinewidth": 2
          },
          "yaxis": {
           "automargin": true,
           "gridcolor": "white",
           "linecolor": "white",
           "ticks": "",
           "title": {
            "standoff": 15
           },
           "zerolinecolor": "white",
           "zerolinewidth": 2
          }
         }
        },
        "title": {
         "text": "Популярные категории товаров сегментов пользователей"
        },
        "xaxis": {
         "anchor": "y",
         "domain": [
          0,
          1
         ],
         "title": {
          "text": "сегмент пользователей"
         }
        },
        "yaxis": {
         "anchor": "x",
         "domain": [
          0,
          1
         ],
         "title": {
          "text": "кол-во купленных товаров в категории"
         }
        }
       }
      }
     },
     "metadata": {},
     "output_type": "display_data"
    }
   ],
   "source": [
    "px.bar(pop_category,\n",
    "       x='major_group',\n",
    "       y='quantity',\n",
    "       color='category_product',\n",
    "       barmode='group',\n",
    "       color_discrete_sequence=px.colors.qualitative.Prism,\n",
    "       labels=dict(quantity='кол-во купленных товаров в категории',\n",
    "                   major_group='сегмент пользователей',\n",
    "                   category_product='категория товара'),\n",
    "       title='Популярные категории товаров сегментов пользователей',\n",
    "       )"
   ]
  },
  {
   "cell_type": "markdown",
   "metadata": {},
   "source": [
    "Для группы 1 (ушедшие пользователи) характерны товары: рассада, хозтовары, посуда и товары для кухни, декор, фурнитура.  \n",
    "Для группы 2 (неактивные пользователи) характерны покупки в виде рассады и расстения и хозтовары.  \n",
    "Для группы 3 (постоянные покупатели) характерны покупки хозтоваров и также рассады и растений (но меньше чем в других сегиентах)."
   ]
  },
  {
   "cell_type": "markdown",
   "metadata": {},
   "source": [
    "## Анализ сезонности товаров в разрезе сегментов покупателей"
   ]
  },
  {
   "cell_type": "markdown",
   "metadata": {},
   "source": [
    "Построение графика произведем по месяцам - пригодится округленная дата."
   ]
  },
  {
   "cell_type": "code",
   "execution_count": 138,
   "metadata": {},
   "outputs": [
    {
     "data": {
      "text/html": [
       "<div>\n",
       "<style scoped>\n",
       "    .dataframe tbody tr th:only-of-type {\n",
       "        vertical-align: middle;\n",
       "    }\n",
       "\n",
       "    .dataframe tbody tr th {\n",
       "        vertical-align: top;\n",
       "    }\n",
       "\n",
       "    .dataframe thead th {\n",
       "        text-align: right;\n",
       "    }\n",
       "</style>\n",
       "<table border=\"1\" class=\"dataframe\">\n",
       "  <thead>\n",
       "    <tr style=\"text-align: right;\">\n",
       "      <th></th>\n",
       "      <th>major_group</th>\n",
       "      <th>date_round</th>\n",
       "      <th>category_product</th>\n",
       "      <th>quantity</th>\n",
       "    </tr>\n",
       "  </thead>\n",
       "  <tbody>\n",
       "    <tr>\n",
       "      <th>0</th>\n",
       "      <td>group_1</td>\n",
       "      <td>2018-10-01</td>\n",
       "      <td>декор</td>\n",
       "      <td>122</td>\n",
       "    </tr>\n",
       "    <tr>\n",
       "      <th>1</th>\n",
       "      <td>group_1</td>\n",
       "      <td>2018-10-01</td>\n",
       "      <td>инструменты, такелаж</td>\n",
       "      <td>7</td>\n",
       "    </tr>\n",
       "    <tr>\n",
       "      <th>2</th>\n",
       "      <td>group_1</td>\n",
       "      <td>2018-10-01</td>\n",
       "      <td>интерьер, мебель</td>\n",
       "      <td>17</td>\n",
       "    </tr>\n",
       "    <tr>\n",
       "      <th>3</th>\n",
       "      <td>group_1</td>\n",
       "      <td>2018-10-01</td>\n",
       "      <td>посуда, товары для кухни</td>\n",
       "      <td>74</td>\n",
       "    </tr>\n",
       "    <tr>\n",
       "      <th>4</th>\n",
       "      <td>group_1</td>\n",
       "      <td>2018-10-01</td>\n",
       "      <td>предметы для ванной комнаты</td>\n",
       "      <td>15</td>\n",
       "    </tr>\n",
       "  </tbody>\n",
       "</table>\n",
       "</div>"
      ],
      "text/plain": [
       "  major_group date_round             category_product  quantity\n",
       "0     group_1 2018-10-01                        декор       122\n",
       "1     group_1 2018-10-01         инструменты, такелаж         7\n",
       "2     group_1 2018-10-01             интерьер, мебель        17\n",
       "3     group_1 2018-10-01     посуда, товары для кухни        74\n",
       "4     group_1 2018-10-01  предметы для ванной комнаты        15"
      ]
     },
     "execution_count": 138,
     "metadata": {},
     "output_type": "execute_result"
    }
   ],
   "source": [
    "history_category = (customer_with_group\n",
    "\n",
    "                    .groupby(['major_group',\n",
    "                              'date_round',\n",
    "                              'category_product'],\n",
    "                             as_index=False)['quantity']\n",
    "                    .sum())\n",
    "\n",
    "\n",
    "history_category.head()"
   ]
  },
  {
   "cell_type": "code",
   "execution_count": 152,
   "metadata": {},
   "outputs": [
    {
     "data": {
      "application/vnd.plotly.v1+json": {
       "config": {
        "plotlyServerURL": "https://plot.ly"
       },
       "data": [
        {
         "hovertemplate": "категория товара=декор<br>месяц=%{x}<br>кол-во проданного товара=%{y}<extra></extra>",
         "legendgroup": "декор",
         "line": {
          "color": "rgb(229, 134, 6)",
          "dash": "solid",
          "shape": "spline",
          "width": 3
         },
         "marker": {
          "symbol": "circle"
         },
         "mode": "markers+lines",
         "name": "декор",
         "orientation": "v",
         "showlegend": true,
         "type": "scatter",
         "x": [
          "2018-10-01T00:00:00",
          "2018-11-01T00:00:00",
          "2018-12-01T00:00:00",
          "2019-01-01T00:00:00",
          "2019-02-01T00:00:00",
          "2019-03-01T00:00:00",
          "2019-04-01T00:00:00"
         ],
         "xaxis": "x",
         "y": [
          122,
          442,
          66,
          32,
          148,
          95,
          3
         ],
         "yaxis": "y"
        },
        {
         "hovertemplate": "категория товара=инструменты, такелаж<br>месяц=%{x}<br>кол-во проданного товара=%{y}<extra></extra>",
         "legendgroup": "инструменты, такелаж",
         "line": {
          "color": "rgb(93, 105, 177)",
          "dash": "solid",
          "shape": "spline",
          "width": 3
         },
         "marker": {
          "symbol": "circle"
         },
         "mode": "markers+lines",
         "name": "инструменты, такелаж",
         "orientation": "v",
         "showlegend": true,
         "type": "scatter",
         "x": [
          "2018-10-01T00:00:00",
          "2018-11-01T00:00:00",
          "2018-12-01T00:00:00",
          "2019-01-01T00:00:00",
          "2019-02-01T00:00:00",
          "2019-03-01T00:00:00"
         ],
         "xaxis": "x",
         "y": [
          7,
          71,
          49,
          6,
          1,
          15
         ],
         "yaxis": "y"
        },
        {
         "hovertemplate": "категория товара=интерьер, мебель<br>месяц=%{x}<br>кол-во проданного товара=%{y}<extra></extra>",
         "legendgroup": "интерьер, мебель",
         "line": {
          "color": "rgb(82, 188, 163)",
          "dash": "solid",
          "shape": "spline",
          "width": 3
         },
         "marker": {
          "symbol": "circle"
         },
         "mode": "markers+lines",
         "name": "интерьер, мебель",
         "orientation": "v",
         "showlegend": true,
         "type": "scatter",
         "x": [
          "2018-10-01T00:00:00",
          "2018-11-01T00:00:00",
          "2018-12-01T00:00:00",
          "2019-01-01T00:00:00",
          "2019-02-01T00:00:00",
          "2019-03-01T00:00:00",
          "2019-04-01T00:00:00"
         ],
         "xaxis": "x",
         "y": [
          17,
          33,
          22,
          5,
          5,
          7,
          4
         ],
         "yaxis": "y"
        },
        {
         "hovertemplate": "категория товара=посуда, товары для кухни<br>месяц=%{x}<br>кол-во проданного товара=%{y}<extra></extra>",
         "legendgroup": "посуда, товары для кухни",
         "line": {
          "color": "rgb(153, 201, 69)",
          "dash": "solid",
          "shape": "spline",
          "width": 3
         },
         "marker": {
          "symbol": "circle"
         },
         "mode": "markers+lines",
         "name": "посуда, товары для кухни",
         "orientation": "v",
         "showlegend": true,
         "type": "scatter",
         "x": [
          "2018-10-01T00:00:00",
          "2018-11-01T00:00:00",
          "2018-12-01T00:00:00",
          "2019-01-01T00:00:00",
          "2019-02-01T00:00:00",
          "2019-03-01T00:00:00",
          "2019-04-01T00:00:00"
         ],
         "xaxis": "x",
         "y": [
          74,
          138,
          182,
          98,
          84,
          95,
          24
         ],
         "yaxis": "y"
        },
        {
         "hovertemplate": "категория товара=предметы для ванной комнаты<br>месяц=%{x}<br>кол-во проданного товара=%{y}<extra></extra>",
         "legendgroup": "предметы для ванной комнаты",
         "line": {
          "color": "rgb(204, 97, 176)",
          "dash": "solid",
          "shape": "spline",
          "width": 3
         },
         "marker": {
          "symbol": "circle"
         },
         "mode": "markers+lines",
         "name": "предметы для ванной комнаты",
         "orientation": "v",
         "showlegend": true,
         "type": "scatter",
         "x": [
          "2018-10-01T00:00:00",
          "2018-11-01T00:00:00",
          "2018-12-01T00:00:00",
          "2019-01-01T00:00:00",
          "2019-02-01T00:00:00",
          "2019-03-01T00:00:00"
         ],
         "xaxis": "x",
         "y": [
          15,
          14,
          9,
          2,
          10,
          23
         ],
         "yaxis": "y"
        },
        {
         "hovertemplate": "категория товара=рассада и растения<br>месяц=%{x}<br>кол-во проданного товара=%{y}<extra></extra>",
         "legendgroup": "рассада и растения",
         "line": {
          "color": "rgb(36, 121, 108)",
          "dash": "solid",
          "shape": "spline",
          "width": 3
         },
         "marker": {
          "symbol": "circle"
         },
         "mode": "markers+lines",
         "name": "рассада и растения",
         "orientation": "v",
         "showlegend": true,
         "type": "scatter",
         "x": [
          "2018-10-01T00:00:00",
          "2018-11-01T00:00:00",
          "2018-12-01T00:00:00",
          "2019-01-01T00:00:00",
          "2019-02-01T00:00:00",
          "2019-03-01T00:00:00",
          "2019-04-01T00:00:00"
         ],
         "xaxis": "x",
         "y": [
          731,
          247,
          127,
          180,
          372,
          631,
          142
         ],
         "yaxis": "y"
        },
        {
         "hovertemplate": "категория товара=текстиль<br>месяц=%{x}<br>кол-во проданного товара=%{y}<extra></extra>",
         "legendgroup": "текстиль",
         "line": {
          "color": "rgb(218, 165, 27)",
          "dash": "solid",
          "shape": "spline",
          "width": 3
         },
         "marker": {
          "symbol": "circle"
         },
         "mode": "markers+lines",
         "name": "текстиль",
         "orientation": "v",
         "showlegend": true,
         "type": "scatter",
         "x": [
          "2018-10-01T00:00:00",
          "2018-11-01T00:00:00",
          "2018-12-01T00:00:00",
          "2019-01-01T00:00:00",
          "2019-02-01T00:00:00",
          "2019-03-01T00:00:00",
          "2019-04-01T00:00:00"
         ],
         "xaxis": "x",
         "y": [
          12,
          13,
          6,
          33,
          21,
          11,
          15
         ],
         "yaxis": "y"
        },
        {
         "hovertemplate": "категория товара=фурнитура<br>месяц=%{x}<br>кол-во проданного товара=%{y}<extra></extra>",
         "legendgroup": "фурнитура",
         "line": {
          "color": "rgb(47, 138, 196)",
          "dash": "solid",
          "shape": "spline",
          "width": 3
         },
         "marker": {
          "symbol": "circle"
         },
         "mode": "markers+lines",
         "name": "фурнитура",
         "orientation": "v",
         "showlegend": true,
         "type": "scatter",
         "x": [
          "2018-10-01T00:00:00",
          "2018-11-01T00:00:00",
          "2018-12-01T00:00:00",
          "2019-02-01T00:00:00"
         ],
         "xaxis": "x",
         "y": [
          350,
          6,
          200,
          20
         ],
         "yaxis": "y"
        },
        {
         "hovertemplate": "категория товара=хозтовары<br>месяц=%{x}<br>кол-во проданного товара=%{y}<extra></extra>",
         "legendgroup": "хозтовары",
         "line": {
          "color": "rgb(118, 78, 159)",
          "dash": "solid",
          "shape": "spline",
          "width": 3
         },
         "marker": {
          "symbol": "circle"
         },
         "mode": "markers+lines",
         "name": "хозтовары",
         "orientation": "v",
         "showlegend": true,
         "type": "scatter",
         "x": [
          "2018-10-01T00:00:00",
          "2018-11-01T00:00:00",
          "2018-12-01T00:00:00",
          "2019-01-01T00:00:00",
          "2019-02-01T00:00:00",
          "2019-03-01T00:00:00",
          "2019-04-01T00:00:00"
         ],
         "xaxis": "x",
         "y": [
          557,
          283,
          336,
          263,
          187,
          234,
          109
         ],
         "yaxis": "y"
        },
        {
         "hovertemplate": "категория товара=электроприборы<br>месяц=%{x}<br>кол-во проданного товара=%{y}<extra></extra>",
         "legendgroup": "электроприборы",
         "line": {
          "color": "rgb(237, 100, 90)",
          "dash": "solid",
          "shape": "spline",
          "width": 3
         },
         "marker": {
          "symbol": "circle"
         },
         "mode": "markers+lines",
         "name": "электроприборы",
         "orientation": "v",
         "showlegend": true,
         "type": "scatter",
         "x": [
          "2018-10-01T00:00:00",
          "2018-11-01T00:00:00"
         ],
         "xaxis": "x",
         "y": [
          1,
          1
         ],
         "yaxis": "y"
        },
        {
         "hovertemplate": "категория товара=подарки на праздники<br>месяц=%{x}<br>кол-во проданного товара=%{y}<extra></extra>",
         "legendgroup": "подарки на праздники",
         "line": {
          "color": "rgb(165, 170, 153)",
          "dash": "solid",
          "shape": "spline",
          "width": 3
         },
         "marker": {
          "symbol": "circle"
         },
         "mode": "markers+lines",
         "name": "подарки на праздники",
         "orientation": "v",
         "showlegend": true,
         "type": "scatter",
         "x": [
          "2019-02-01T00:00:00",
          "2019-03-01T00:00:00"
         ],
         "xaxis": "x",
         "y": [
          13,
          4
         ],
         "yaxis": "y"
        }
       ],
       "layout": {
        "legend": {
         "title": {
          "text": "категория товара"
         },
         "tracegroupgap": 0
        },
        "template": {
         "data": {
          "bar": [
           {
            "error_x": {
             "color": "rgb(36,36,36)"
            },
            "error_y": {
             "color": "rgb(36,36,36)"
            },
            "marker": {
             "line": {
              "color": "white",
              "width": 0.5
             },
             "pattern": {
              "fillmode": "overlay",
              "size": 10,
              "solidity": 0.2
             }
            },
            "type": "bar"
           }
          ],
          "barpolar": [
           {
            "marker": {
             "line": {
              "color": "white",
              "width": 0.5
             },
             "pattern": {
              "fillmode": "overlay",
              "size": 10,
              "solidity": 0.2
             }
            },
            "type": "barpolar"
           }
          ],
          "carpet": [
           {
            "aaxis": {
             "endlinecolor": "rgb(36,36,36)",
             "gridcolor": "white",
             "linecolor": "white",
             "minorgridcolor": "white",
             "startlinecolor": "rgb(36,36,36)"
            },
            "baxis": {
             "endlinecolor": "rgb(36,36,36)",
             "gridcolor": "white",
             "linecolor": "white",
             "minorgridcolor": "white",
             "startlinecolor": "rgb(36,36,36)"
            },
            "type": "carpet"
           }
          ],
          "choropleth": [
           {
            "colorbar": {
             "outlinewidth": 1,
             "tickcolor": "rgb(36,36,36)",
             "ticks": "outside"
            },
            "type": "choropleth"
           }
          ],
          "contour": [
           {
            "colorbar": {
             "outlinewidth": 1,
             "tickcolor": "rgb(36,36,36)",
             "ticks": "outside"
            },
            "colorscale": [
             [
              0,
              "#440154"
             ],
             [
              0.1111111111111111,
              "#482878"
             ],
             [
              0.2222222222222222,
              "#3e4989"
             ],
             [
              0.3333333333333333,
              "#31688e"
             ],
             [
              0.4444444444444444,
              "#26828e"
             ],
             [
              0.5555555555555556,
              "#1f9e89"
             ],
             [
              0.6666666666666666,
              "#35b779"
             ],
             [
              0.7777777777777778,
              "#6ece58"
             ],
             [
              0.8888888888888888,
              "#b5de2b"
             ],
             [
              1,
              "#fde725"
             ]
            ],
            "type": "contour"
           }
          ],
          "contourcarpet": [
           {
            "colorbar": {
             "outlinewidth": 1,
             "tickcolor": "rgb(36,36,36)",
             "ticks": "outside"
            },
            "type": "contourcarpet"
           }
          ],
          "heatmap": [
           {
            "colorbar": {
             "outlinewidth": 1,
             "tickcolor": "rgb(36,36,36)",
             "ticks": "outside"
            },
            "colorscale": [
             [
              0,
              "#440154"
             ],
             [
              0.1111111111111111,
              "#482878"
             ],
             [
              0.2222222222222222,
              "#3e4989"
             ],
             [
              0.3333333333333333,
              "#31688e"
             ],
             [
              0.4444444444444444,
              "#26828e"
             ],
             [
              0.5555555555555556,
              "#1f9e89"
             ],
             [
              0.6666666666666666,
              "#35b779"
             ],
             [
              0.7777777777777778,
              "#6ece58"
             ],
             [
              0.8888888888888888,
              "#b5de2b"
             ],
             [
              1,
              "#fde725"
             ]
            ],
            "type": "heatmap"
           }
          ],
          "heatmapgl": [
           {
            "colorbar": {
             "outlinewidth": 1,
             "tickcolor": "rgb(36,36,36)",
             "ticks": "outside"
            },
            "colorscale": [
             [
              0,
              "#440154"
             ],
             [
              0.1111111111111111,
              "#482878"
             ],
             [
              0.2222222222222222,
              "#3e4989"
             ],
             [
              0.3333333333333333,
              "#31688e"
             ],
             [
              0.4444444444444444,
              "#26828e"
             ],
             [
              0.5555555555555556,
              "#1f9e89"
             ],
             [
              0.6666666666666666,
              "#35b779"
             ],
             [
              0.7777777777777778,
              "#6ece58"
             ],
             [
              0.8888888888888888,
              "#b5de2b"
             ],
             [
              1,
              "#fde725"
             ]
            ],
            "type": "heatmapgl"
           }
          ],
          "histogram": [
           {
            "marker": {
             "line": {
              "color": "white",
              "width": 0.6
             }
            },
            "type": "histogram"
           }
          ],
          "histogram2d": [
           {
            "colorbar": {
             "outlinewidth": 1,
             "tickcolor": "rgb(36,36,36)",
             "ticks": "outside"
            },
            "colorscale": [
             [
              0,
              "#440154"
             ],
             [
              0.1111111111111111,
              "#482878"
             ],
             [
              0.2222222222222222,
              "#3e4989"
             ],
             [
              0.3333333333333333,
              "#31688e"
             ],
             [
              0.4444444444444444,
              "#26828e"
             ],
             [
              0.5555555555555556,
              "#1f9e89"
             ],
             [
              0.6666666666666666,
              "#35b779"
             ],
             [
              0.7777777777777778,
              "#6ece58"
             ],
             [
              0.8888888888888888,
              "#b5de2b"
             ],
             [
              1,
              "#fde725"
             ]
            ],
            "type": "histogram2d"
           }
          ],
          "histogram2dcontour": [
           {
            "colorbar": {
             "outlinewidth": 1,
             "tickcolor": "rgb(36,36,36)",
             "ticks": "outside"
            },
            "colorscale": [
             [
              0,
              "#440154"
             ],
             [
              0.1111111111111111,
              "#482878"
             ],
             [
              0.2222222222222222,
              "#3e4989"
             ],
             [
              0.3333333333333333,
              "#31688e"
             ],
             [
              0.4444444444444444,
              "#26828e"
             ],
             [
              0.5555555555555556,
              "#1f9e89"
             ],
             [
              0.6666666666666666,
              "#35b779"
             ],
             [
              0.7777777777777778,
              "#6ece58"
             ],
             [
              0.8888888888888888,
              "#b5de2b"
             ],
             [
              1,
              "#fde725"
             ]
            ],
            "type": "histogram2dcontour"
           }
          ],
          "mesh3d": [
           {
            "colorbar": {
             "outlinewidth": 1,
             "tickcolor": "rgb(36,36,36)",
             "ticks": "outside"
            },
            "type": "mesh3d"
           }
          ],
          "parcoords": [
           {
            "line": {
             "colorbar": {
              "outlinewidth": 1,
              "tickcolor": "rgb(36,36,36)",
              "ticks": "outside"
             }
            },
            "type": "parcoords"
           }
          ],
          "pie": [
           {
            "automargin": true,
            "type": "pie"
           }
          ],
          "scatter": [
           {
            "marker": {
             "colorbar": {
              "outlinewidth": 1,
              "tickcolor": "rgb(36,36,36)",
              "ticks": "outside"
             }
            },
            "type": "scatter"
           }
          ],
          "scatter3d": [
           {
            "line": {
             "colorbar": {
              "outlinewidth": 1,
              "tickcolor": "rgb(36,36,36)",
              "ticks": "outside"
             }
            },
            "marker": {
             "colorbar": {
              "outlinewidth": 1,
              "tickcolor": "rgb(36,36,36)",
              "ticks": "outside"
             }
            },
            "type": "scatter3d"
           }
          ],
          "scattercarpet": [
           {
            "marker": {
             "colorbar": {
              "outlinewidth": 1,
              "tickcolor": "rgb(36,36,36)",
              "ticks": "outside"
             }
            },
            "type": "scattercarpet"
           }
          ],
          "scattergeo": [
           {
            "marker": {
             "colorbar": {
              "outlinewidth": 1,
              "tickcolor": "rgb(36,36,36)",
              "ticks": "outside"
             }
            },
            "type": "scattergeo"
           }
          ],
          "scattergl": [
           {
            "marker": {
             "colorbar": {
              "outlinewidth": 1,
              "tickcolor": "rgb(36,36,36)",
              "ticks": "outside"
             }
            },
            "type": "scattergl"
           }
          ],
          "scattermapbox": [
           {
            "marker": {
             "colorbar": {
              "outlinewidth": 1,
              "tickcolor": "rgb(36,36,36)",
              "ticks": "outside"
             }
            },
            "type": "scattermapbox"
           }
          ],
          "scatterpolar": [
           {
            "marker": {
             "colorbar": {
              "outlinewidth": 1,
              "tickcolor": "rgb(36,36,36)",
              "ticks": "outside"
             }
            },
            "type": "scatterpolar"
           }
          ],
          "scatterpolargl": [
           {
            "marker": {
             "colorbar": {
              "outlinewidth": 1,
              "tickcolor": "rgb(36,36,36)",
              "ticks": "outside"
             }
            },
            "type": "scatterpolargl"
           }
          ],
          "scatterternary": [
           {
            "marker": {
             "colorbar": {
              "outlinewidth": 1,
              "tickcolor": "rgb(36,36,36)",
              "ticks": "outside"
             }
            },
            "type": "scatterternary"
           }
          ],
          "surface": [
           {
            "colorbar": {
             "outlinewidth": 1,
             "tickcolor": "rgb(36,36,36)",
             "ticks": "outside"
            },
            "colorscale": [
             [
              0,
              "#440154"
             ],
             [
              0.1111111111111111,
              "#482878"
             ],
             [
              0.2222222222222222,
              "#3e4989"
             ],
             [
              0.3333333333333333,
              "#31688e"
             ],
             [
              0.4444444444444444,
              "#26828e"
             ],
             [
              0.5555555555555556,
              "#1f9e89"
             ],
             [
              0.6666666666666666,
              "#35b779"
             ],
             [
              0.7777777777777778,
              "#6ece58"
             ],
             [
              0.8888888888888888,
              "#b5de2b"
             ],
             [
              1,
              "#fde725"
             ]
            ],
            "type": "surface"
           }
          ],
          "table": [
           {
            "cells": {
             "fill": {
              "color": "rgb(237,237,237)"
             },
             "line": {
              "color": "white"
             }
            },
            "header": {
             "fill": {
              "color": "rgb(217,217,217)"
             },
             "line": {
              "color": "white"
             }
            },
            "type": "table"
           }
          ]
         },
         "layout": {
          "annotationdefaults": {
           "arrowhead": 0,
           "arrowwidth": 1
          },
          "autotypenumbers": "strict",
          "coloraxis": {
           "colorbar": {
            "outlinewidth": 1,
            "tickcolor": "rgb(36,36,36)",
            "ticks": "outside"
           }
          },
          "colorscale": {
           "diverging": [
            [
             0,
             "rgb(103,0,31)"
            ],
            [
             0.1,
             "rgb(178,24,43)"
            ],
            [
             0.2,
             "rgb(214,96,77)"
            ],
            [
             0.3,
             "rgb(244,165,130)"
            ],
            [
             0.4,
             "rgb(253,219,199)"
            ],
            [
             0.5,
             "rgb(247,247,247)"
            ],
            [
             0.6,
             "rgb(209,229,240)"
            ],
            [
             0.7,
             "rgb(146,197,222)"
            ],
            [
             0.8,
             "rgb(67,147,195)"
            ],
            [
             0.9,
             "rgb(33,102,172)"
            ],
            [
             1,
             "rgb(5,48,97)"
            ]
           ],
           "sequential": [
            [
             0,
             "#440154"
            ],
            [
             0.1111111111111111,
             "#482878"
            ],
            [
             0.2222222222222222,
             "#3e4989"
            ],
            [
             0.3333333333333333,
             "#31688e"
            ],
            [
             0.4444444444444444,
             "#26828e"
            ],
            [
             0.5555555555555556,
             "#1f9e89"
            ],
            [
             0.6666666666666666,
             "#35b779"
            ],
            [
             0.7777777777777778,
             "#6ece58"
            ],
            [
             0.8888888888888888,
             "#b5de2b"
            ],
            [
             1,
             "#fde725"
            ]
           ],
           "sequentialminus": [
            [
             0,
             "#440154"
            ],
            [
             0.1111111111111111,
             "#482878"
            ],
            [
             0.2222222222222222,
             "#3e4989"
            ],
            [
             0.3333333333333333,
             "#31688e"
            ],
            [
             0.4444444444444444,
             "#26828e"
            ],
            [
             0.5555555555555556,
             "#1f9e89"
            ],
            [
             0.6666666666666666,
             "#35b779"
            ],
            [
             0.7777777777777778,
             "#6ece58"
            ],
            [
             0.8888888888888888,
             "#b5de2b"
            ],
            [
             1,
             "#fde725"
            ]
           ]
          },
          "colorway": [
           "#1F77B4",
           "#FF7F0E",
           "#2CA02C",
           "#D62728",
           "#9467BD",
           "#8C564B",
           "#E377C2",
           "#7F7F7F",
           "#BCBD22",
           "#17BECF"
          ],
          "font": {
           "color": "rgb(36,36,36)"
          },
          "geo": {
           "bgcolor": "white",
           "lakecolor": "white",
           "landcolor": "white",
           "showlakes": true,
           "showland": true,
           "subunitcolor": "white"
          },
          "hoverlabel": {
           "align": "left"
          },
          "hovermode": "closest",
          "mapbox": {
           "style": "light"
          },
          "paper_bgcolor": "white",
          "plot_bgcolor": "white",
          "polar": {
           "angularaxis": {
            "gridcolor": "rgb(232,232,232)",
            "linecolor": "rgb(36,36,36)",
            "showgrid": false,
            "showline": true,
            "ticks": "outside"
           },
           "bgcolor": "white",
           "radialaxis": {
            "gridcolor": "rgb(232,232,232)",
            "linecolor": "rgb(36,36,36)",
            "showgrid": false,
            "showline": true,
            "ticks": "outside"
           }
          },
          "scene": {
           "xaxis": {
            "backgroundcolor": "white",
            "gridcolor": "rgb(232,232,232)",
            "gridwidth": 2,
            "linecolor": "rgb(36,36,36)",
            "showbackground": true,
            "showgrid": false,
            "showline": true,
            "ticks": "outside",
            "zeroline": false,
            "zerolinecolor": "rgb(36,36,36)"
           },
           "yaxis": {
            "backgroundcolor": "white",
            "gridcolor": "rgb(232,232,232)",
            "gridwidth": 2,
            "linecolor": "rgb(36,36,36)",
            "showbackground": true,
            "showgrid": false,
            "showline": true,
            "ticks": "outside",
            "zeroline": false,
            "zerolinecolor": "rgb(36,36,36)"
           },
           "zaxis": {
            "backgroundcolor": "white",
            "gridcolor": "rgb(232,232,232)",
            "gridwidth": 2,
            "linecolor": "rgb(36,36,36)",
            "showbackground": true,
            "showgrid": false,
            "showline": true,
            "ticks": "outside",
            "zeroline": false,
            "zerolinecolor": "rgb(36,36,36)"
           }
          },
          "shapedefaults": {
           "fillcolor": "black",
           "line": {
            "width": 0
           },
           "opacity": 0.3
          },
          "ternary": {
           "aaxis": {
            "gridcolor": "rgb(232,232,232)",
            "linecolor": "rgb(36,36,36)",
            "showgrid": false,
            "showline": true,
            "ticks": "outside"
           },
           "baxis": {
            "gridcolor": "rgb(232,232,232)",
            "linecolor": "rgb(36,36,36)",
            "showgrid": false,
            "showline": true,
            "ticks": "outside"
           },
           "bgcolor": "white",
           "caxis": {
            "gridcolor": "rgb(232,232,232)",
            "linecolor": "rgb(36,36,36)",
            "showgrid": false,
            "showline": true,
            "ticks": "outside"
           }
          },
          "title": {
           "x": 0.05
          },
          "xaxis": {
           "automargin": true,
           "gridcolor": "rgb(232,232,232)",
           "linecolor": "rgb(36,36,36)",
           "showgrid": false,
           "showline": true,
           "ticks": "outside",
           "title": {
            "standoff": 15
           },
           "zeroline": false,
           "zerolinecolor": "rgb(36,36,36)"
          },
          "yaxis": {
           "automargin": true,
           "gridcolor": "rgb(232,232,232)",
           "linecolor": "rgb(36,36,36)",
           "showgrid": false,
           "showline": true,
           "ticks": "outside",
           "title": {
            "standoff": 15
           },
           "zeroline": false,
           "zerolinecolor": "rgb(36,36,36)"
          }
         }
        },
        "title": {
         "text": "Сегмент 1й. Покупка товаров разных категорий по месяцам"
        },
        "xaxis": {
         "anchor": "y",
         "domain": [
          0,
          1
         ],
         "title": {
          "text": "месяц"
         }
        },
        "yaxis": {
         "anchor": "x",
         "domain": [
          0,
          1
         ],
         "title": {
          "text": "кол-во проданного товара"
         }
        }
       }
      }
     },
     "metadata": {},
     "output_type": "display_data"
    }
   ],
   "source": [
    "fig = px.line(history_category.query('major_group==\"group_1\"'),\n",
    "              x='date_round',\n",
    "              y='quantity',\n",
    "\n",
    "              color='category_product',\n",
    "              title='Сегмент 1й. Покупка товаров разных категорий по месяцам',\n",
    "              labels=dict(quantity='кол-во проданного товара',\n",
    "                          category_product='категория товара',\n",
    "                          date_round='месяц'),\n",
    "              color_discrete_sequence=px.colors.qualitative.Vivid,\n",
    "              template='simple_white')\n",
    "\n",
    "fig.update_traces(\n",
    "    mode='markers+lines',\n",
    "      line_shape='spline',\n",
    "      line_width=3\n",
    ")"
   ]
  },
  {
   "cell_type": "markdown",
   "metadata": {},
   "source": [
    "Видим, что первый сегмент активно закупался рассадой и растениями в октябре,феврале и марте. Также приобретал товары для декора - много в ноябре и феврале.Фурнитура больше приобретается в октябре и декабре. Посуда и товары для кухни чаще приобретаются в декабре.  "
   ]
  },
  {
   "cell_type": "code",
   "execution_count": 153,
   "metadata": {},
   "outputs": [
    {
     "data": {
      "application/vnd.plotly.v1+json": {
       "config": {
        "plotlyServerURL": "https://plot.ly"
       },
       "data": [
        {
         "hovertemplate": "категория товара=рассада и растения<br>месяц=%{x}<br>кол-во проданного товара=%{y}<extra></extra>",
         "legendgroup": "рассада и растения",
         "line": {
          "color": "rgb(229, 134, 6)",
          "dash": "solid",
          "shape": "spline",
          "width": 3
         },
         "marker": {
          "symbol": "circle"
         },
         "mode": "markers+lines",
         "name": "рассада и растения",
         "orientation": "v",
         "showlegend": true,
         "type": "scatter",
         "x": [
          "2019-01-01T00:00:00",
          "2019-02-01T00:00:00",
          "2019-03-01T00:00:00",
          "2019-04-01T00:00:00",
          "2019-05-01T00:00:00",
          "2019-06-01T00:00:00",
          "2019-07-01T00:00:00",
          "2019-08-01T00:00:00",
          "2019-09-01T00:00:00",
          "2019-10-01T00:00:00"
         ],
         "xaxis": "x",
         "y": [
          10,
          13,
          16,
          924,
          1143,
          1381,
          452,
          157,
          154,
          153
         ],
         "yaxis": "y"
        },
        {
         "hovertemplate": "категория товара=посуда, товары для кухни<br>месяц=%{x}<br>кол-во проданного товара=%{y}<extra></extra>",
         "legendgroup": "посуда, товары для кухни",
         "line": {
          "color": "rgb(93, 105, 177)",
          "dash": "solid",
          "shape": "spline",
          "width": 3
         },
         "marker": {
          "symbol": "circle"
         },
         "mode": "markers+lines",
         "name": "посуда, товары для кухни",
         "orientation": "v",
         "showlegend": true,
         "type": "scatter",
         "x": [
          "2019-03-01T00:00:00",
          "2019-04-01T00:00:00",
          "2019-05-01T00:00:00",
          "2019-06-01T00:00:00",
          "2019-07-01T00:00:00",
          "2019-08-01T00:00:00",
          "2019-09-01T00:00:00",
          "2019-10-01T00:00:00"
         ],
         "xaxis": "x",
         "y": [
          1,
          71,
          44,
          21,
          20,
          18,
          163,
          49
         ],
         "yaxis": "y"
        },
        {
         "hovertemplate": "категория товара=декор<br>месяц=%{x}<br>кол-во проданного товара=%{y}<extra></extra>",
         "legendgroup": "декор",
         "line": {
          "color": "rgb(82, 188, 163)",
          "dash": "solid",
          "shape": "spline",
          "width": 3
         },
         "marker": {
          "symbol": "circle"
         },
         "mode": "markers+lines",
         "name": "декор",
         "orientation": "v",
         "showlegend": true,
         "type": "scatter",
         "x": [
          "2019-04-01T00:00:00",
          "2019-05-01T00:00:00",
          "2019-06-01T00:00:00",
          "2019-07-01T00:00:00",
          "2019-08-01T00:00:00",
          "2019-09-01T00:00:00",
          "2019-10-01T00:00:00"
         ],
         "xaxis": "x",
         "y": [
          32,
          312,
          59,
          52,
          20,
          12,
          10
         ],
         "yaxis": "y"
        },
        {
         "hovertemplate": "категория товара=инструменты, такелаж<br>месяц=%{x}<br>кол-во проданного товара=%{y}<extra></extra>",
         "legendgroup": "инструменты, такелаж",
         "line": {
          "color": "rgb(153, 201, 69)",
          "dash": "solid",
          "shape": "spline",
          "width": 3
         },
         "marker": {
          "symbol": "circle"
         },
         "mode": "markers+lines",
         "name": "инструменты, такелаж",
         "orientation": "v",
         "showlegend": true,
         "type": "scatter",
         "x": [
          "2019-04-01T00:00:00",
          "2019-05-01T00:00:00",
          "2019-06-01T00:00:00",
          "2019-07-01T00:00:00",
          "2019-08-01T00:00:00",
          "2019-09-01T00:00:00"
         ],
         "xaxis": "x",
         "y": [
          16,
          2,
          1,
          6,
          5,
          1
         ],
         "yaxis": "y"
        },
        {
         "hovertemplate": "категория товара=интерьер, мебель<br>месяц=%{x}<br>кол-во проданного товара=%{y}<extra></extra>",
         "legendgroup": "интерьер, мебель",
         "line": {
          "color": "rgb(204, 97, 176)",
          "dash": "solid",
          "shape": "spline",
          "width": 3
         },
         "marker": {
          "symbol": "circle"
         },
         "mode": "markers+lines",
         "name": "интерьер, мебель",
         "orientation": "v",
         "showlegend": true,
         "type": "scatter",
         "x": [
          "2019-04-01T00:00:00",
          "2019-05-01T00:00:00",
          "2019-06-01T00:00:00",
          "2019-07-01T00:00:00",
          "2019-08-01T00:00:00",
          "2019-09-01T00:00:00",
          "2019-10-01T00:00:00"
         ],
         "xaxis": "x",
         "y": [
          2,
          4,
          50,
          4,
          14,
          14,
          7
         ],
         "yaxis": "y"
        },
        {
         "hovertemplate": "категория товара=предметы для ванной комнаты<br>месяц=%{x}<br>кол-во проданного товара=%{y}<extra></extra>",
         "legendgroup": "предметы для ванной комнаты",
         "line": {
          "color": "rgb(36, 121, 108)",
          "dash": "solid",
          "shape": "spline",
          "width": 3
         },
         "marker": {
          "symbol": "circle"
         },
         "mode": "markers+lines",
         "name": "предметы для ванной комнаты",
         "orientation": "v",
         "showlegend": true,
         "type": "scatter",
         "x": [
          "2019-04-01T00:00:00",
          "2019-05-01T00:00:00",
          "2019-06-01T00:00:00",
          "2019-07-01T00:00:00",
          "2019-08-01T00:00:00",
          "2019-09-01T00:00:00",
          "2019-10-01T00:00:00"
         ],
         "xaxis": "x",
         "y": [
          15,
          16,
          11,
          10,
          3,
          11,
          32
         ],
         "yaxis": "y"
        },
        {
         "hovertemplate": "категория товара=текстиль<br>месяц=%{x}<br>кол-во проданного товара=%{y}<extra></extra>",
         "legendgroup": "текстиль",
         "line": {
          "color": "rgb(218, 165, 27)",
          "dash": "solid",
          "shape": "spline",
          "width": 3
         },
         "marker": {
          "symbol": "circle"
         },
         "mode": "markers+lines",
         "name": "текстиль",
         "orientation": "v",
         "showlegend": true,
         "type": "scatter",
         "x": [
          "2019-04-01T00:00:00",
          "2019-06-01T00:00:00",
          "2019-07-01T00:00:00",
          "2019-08-01T00:00:00",
          "2019-09-01T00:00:00",
          "2019-10-01T00:00:00"
         ],
         "xaxis": "x",
         "y": [
          22,
          23,
          5,
          1,
          17,
          3
         ],
         "yaxis": "y"
        },
        {
         "hovertemplate": "категория товара=хозтовары<br>месяц=%{x}<br>кол-во проданного товара=%{y}<extra></extra>",
         "legendgroup": "хозтовары",
         "line": {
          "color": "rgb(47, 138, 196)",
          "dash": "solid",
          "shape": "spline",
          "width": 3
         },
         "marker": {
          "symbol": "circle"
         },
         "mode": "markers+lines",
         "name": "хозтовары",
         "orientation": "v",
         "showlegend": true,
         "type": "scatter",
         "x": [
          "2019-04-01T00:00:00",
          "2019-05-01T00:00:00",
          "2019-06-01T00:00:00",
          "2019-07-01T00:00:00",
          "2019-08-01T00:00:00",
          "2019-09-01T00:00:00",
          "2019-10-01T00:00:00"
         ],
         "xaxis": "x",
         "y": [
          134,
          145,
          425,
          152,
          87,
          90,
          84
         ],
         "yaxis": "y"
        },
        {
         "hovertemplate": "категория товара=фурнитура<br>месяц=%{x}<br>кол-во проданного товара=%{y}<extra></extra>",
         "legendgroup": "фурнитура",
         "line": {
          "color": "rgb(118, 78, 159)",
          "dash": "solid",
          "shape": "spline",
          "width": 3
         },
         "marker": {
          "symbol": "circle"
         },
         "mode": "markers+lines",
         "name": "фурнитура",
         "orientation": "v",
         "showlegend": true,
         "type": "scatter",
         "x": [
          "2019-06-01T00:00:00",
          "2019-08-01T00:00:00",
          "2019-10-01T00:00:00"
         ],
         "xaxis": "x",
         "y": [
          41,
          71,
          100
         ],
         "yaxis": "y"
        }
       ],
       "layout": {
        "legend": {
         "title": {
          "text": "категория товара"
         },
         "tracegroupgap": 0
        },
        "template": {
         "data": {
          "bar": [
           {
            "error_x": {
             "color": "rgb(36,36,36)"
            },
            "error_y": {
             "color": "rgb(36,36,36)"
            },
            "marker": {
             "line": {
              "color": "white",
              "width": 0.5
             },
             "pattern": {
              "fillmode": "overlay",
              "size": 10,
              "solidity": 0.2
             }
            },
            "type": "bar"
           }
          ],
          "barpolar": [
           {
            "marker": {
             "line": {
              "color": "white",
              "width": 0.5
             },
             "pattern": {
              "fillmode": "overlay",
              "size": 10,
              "solidity": 0.2
             }
            },
            "type": "barpolar"
           }
          ],
          "carpet": [
           {
            "aaxis": {
             "endlinecolor": "rgb(36,36,36)",
             "gridcolor": "white",
             "linecolor": "white",
             "minorgridcolor": "white",
             "startlinecolor": "rgb(36,36,36)"
            },
            "baxis": {
             "endlinecolor": "rgb(36,36,36)",
             "gridcolor": "white",
             "linecolor": "white",
             "minorgridcolor": "white",
             "startlinecolor": "rgb(36,36,36)"
            },
            "type": "carpet"
           }
          ],
          "choropleth": [
           {
            "colorbar": {
             "outlinewidth": 1,
             "tickcolor": "rgb(36,36,36)",
             "ticks": "outside"
            },
            "type": "choropleth"
           }
          ],
          "contour": [
           {
            "colorbar": {
             "outlinewidth": 1,
             "tickcolor": "rgb(36,36,36)",
             "ticks": "outside"
            },
            "colorscale": [
             [
              0,
              "#440154"
             ],
             [
              0.1111111111111111,
              "#482878"
             ],
             [
              0.2222222222222222,
              "#3e4989"
             ],
             [
              0.3333333333333333,
              "#31688e"
             ],
             [
              0.4444444444444444,
              "#26828e"
             ],
             [
              0.5555555555555556,
              "#1f9e89"
             ],
             [
              0.6666666666666666,
              "#35b779"
             ],
             [
              0.7777777777777778,
              "#6ece58"
             ],
             [
              0.8888888888888888,
              "#b5de2b"
             ],
             [
              1,
              "#fde725"
             ]
            ],
            "type": "contour"
           }
          ],
          "contourcarpet": [
           {
            "colorbar": {
             "outlinewidth": 1,
             "tickcolor": "rgb(36,36,36)",
             "ticks": "outside"
            },
            "type": "contourcarpet"
           }
          ],
          "heatmap": [
           {
            "colorbar": {
             "outlinewidth": 1,
             "tickcolor": "rgb(36,36,36)",
             "ticks": "outside"
            },
            "colorscale": [
             [
              0,
              "#440154"
             ],
             [
              0.1111111111111111,
              "#482878"
             ],
             [
              0.2222222222222222,
              "#3e4989"
             ],
             [
              0.3333333333333333,
              "#31688e"
             ],
             [
              0.4444444444444444,
              "#26828e"
             ],
             [
              0.5555555555555556,
              "#1f9e89"
             ],
             [
              0.6666666666666666,
              "#35b779"
             ],
             [
              0.7777777777777778,
              "#6ece58"
             ],
             [
              0.8888888888888888,
              "#b5de2b"
             ],
             [
              1,
              "#fde725"
             ]
            ],
            "type": "heatmap"
           }
          ],
          "heatmapgl": [
           {
            "colorbar": {
             "outlinewidth": 1,
             "tickcolor": "rgb(36,36,36)",
             "ticks": "outside"
            },
            "colorscale": [
             [
              0,
              "#440154"
             ],
             [
              0.1111111111111111,
              "#482878"
             ],
             [
              0.2222222222222222,
              "#3e4989"
             ],
             [
              0.3333333333333333,
              "#31688e"
             ],
             [
              0.4444444444444444,
              "#26828e"
             ],
             [
              0.5555555555555556,
              "#1f9e89"
             ],
             [
              0.6666666666666666,
              "#35b779"
             ],
             [
              0.7777777777777778,
              "#6ece58"
             ],
             [
              0.8888888888888888,
              "#b5de2b"
             ],
             [
              1,
              "#fde725"
             ]
            ],
            "type": "heatmapgl"
           }
          ],
          "histogram": [
           {
            "marker": {
             "line": {
              "color": "white",
              "width": 0.6
             }
            },
            "type": "histogram"
           }
          ],
          "histogram2d": [
           {
            "colorbar": {
             "outlinewidth": 1,
             "tickcolor": "rgb(36,36,36)",
             "ticks": "outside"
            },
            "colorscale": [
             [
              0,
              "#440154"
             ],
             [
              0.1111111111111111,
              "#482878"
             ],
             [
              0.2222222222222222,
              "#3e4989"
             ],
             [
              0.3333333333333333,
              "#31688e"
             ],
             [
              0.4444444444444444,
              "#26828e"
             ],
             [
              0.5555555555555556,
              "#1f9e89"
             ],
             [
              0.6666666666666666,
              "#35b779"
             ],
             [
              0.7777777777777778,
              "#6ece58"
             ],
             [
              0.8888888888888888,
              "#b5de2b"
             ],
             [
              1,
              "#fde725"
             ]
            ],
            "type": "histogram2d"
           }
          ],
          "histogram2dcontour": [
           {
            "colorbar": {
             "outlinewidth": 1,
             "tickcolor": "rgb(36,36,36)",
             "ticks": "outside"
            },
            "colorscale": [
             [
              0,
              "#440154"
             ],
             [
              0.1111111111111111,
              "#482878"
             ],
             [
              0.2222222222222222,
              "#3e4989"
             ],
             [
              0.3333333333333333,
              "#31688e"
             ],
             [
              0.4444444444444444,
              "#26828e"
             ],
             [
              0.5555555555555556,
              "#1f9e89"
             ],
             [
              0.6666666666666666,
              "#35b779"
             ],
             [
              0.7777777777777778,
              "#6ece58"
             ],
             [
              0.8888888888888888,
              "#b5de2b"
             ],
             [
              1,
              "#fde725"
             ]
            ],
            "type": "histogram2dcontour"
           }
          ],
          "mesh3d": [
           {
            "colorbar": {
             "outlinewidth": 1,
             "tickcolor": "rgb(36,36,36)",
             "ticks": "outside"
            },
            "type": "mesh3d"
           }
          ],
          "parcoords": [
           {
            "line": {
             "colorbar": {
              "outlinewidth": 1,
              "tickcolor": "rgb(36,36,36)",
              "ticks": "outside"
             }
            },
            "type": "parcoords"
           }
          ],
          "pie": [
           {
            "automargin": true,
            "type": "pie"
           }
          ],
          "scatter": [
           {
            "marker": {
             "colorbar": {
              "outlinewidth": 1,
              "tickcolor": "rgb(36,36,36)",
              "ticks": "outside"
             }
            },
            "type": "scatter"
           }
          ],
          "scatter3d": [
           {
            "line": {
             "colorbar": {
              "outlinewidth": 1,
              "tickcolor": "rgb(36,36,36)",
              "ticks": "outside"
             }
            },
            "marker": {
             "colorbar": {
              "outlinewidth": 1,
              "tickcolor": "rgb(36,36,36)",
              "ticks": "outside"
             }
            },
            "type": "scatter3d"
           }
          ],
          "scattercarpet": [
           {
            "marker": {
             "colorbar": {
              "outlinewidth": 1,
              "tickcolor": "rgb(36,36,36)",
              "ticks": "outside"
             }
            },
            "type": "scattercarpet"
           }
          ],
          "scattergeo": [
           {
            "marker": {
             "colorbar": {
              "outlinewidth": 1,
              "tickcolor": "rgb(36,36,36)",
              "ticks": "outside"
             }
            },
            "type": "scattergeo"
           }
          ],
          "scattergl": [
           {
            "marker": {
             "colorbar": {
              "outlinewidth": 1,
              "tickcolor": "rgb(36,36,36)",
              "ticks": "outside"
             }
            },
            "type": "scattergl"
           }
          ],
          "scattermapbox": [
           {
            "marker": {
             "colorbar": {
              "outlinewidth": 1,
              "tickcolor": "rgb(36,36,36)",
              "ticks": "outside"
             }
            },
            "type": "scattermapbox"
           }
          ],
          "scatterpolar": [
           {
            "marker": {
             "colorbar": {
              "outlinewidth": 1,
              "tickcolor": "rgb(36,36,36)",
              "ticks": "outside"
             }
            },
            "type": "scatterpolar"
           }
          ],
          "scatterpolargl": [
           {
            "marker": {
             "colorbar": {
              "outlinewidth": 1,
              "tickcolor": "rgb(36,36,36)",
              "ticks": "outside"
             }
            },
            "type": "scatterpolargl"
           }
          ],
          "scatterternary": [
           {
            "marker": {
             "colorbar": {
              "outlinewidth": 1,
              "tickcolor": "rgb(36,36,36)",
              "ticks": "outside"
             }
            },
            "type": "scatterternary"
           }
          ],
          "surface": [
           {
            "colorbar": {
             "outlinewidth": 1,
             "tickcolor": "rgb(36,36,36)",
             "ticks": "outside"
            },
            "colorscale": [
             [
              0,
              "#440154"
             ],
             [
              0.1111111111111111,
              "#482878"
             ],
             [
              0.2222222222222222,
              "#3e4989"
             ],
             [
              0.3333333333333333,
              "#31688e"
             ],
             [
              0.4444444444444444,
              "#26828e"
             ],
             [
              0.5555555555555556,
              "#1f9e89"
             ],
             [
              0.6666666666666666,
              "#35b779"
             ],
             [
              0.7777777777777778,
              "#6ece58"
             ],
             [
              0.8888888888888888,
              "#b5de2b"
             ],
             [
              1,
              "#fde725"
             ]
            ],
            "type": "surface"
           }
          ],
          "table": [
           {
            "cells": {
             "fill": {
              "color": "rgb(237,237,237)"
             },
             "line": {
              "color": "white"
             }
            },
            "header": {
             "fill": {
              "color": "rgb(217,217,217)"
             },
             "line": {
              "color": "white"
             }
            },
            "type": "table"
           }
          ]
         },
         "layout": {
          "annotationdefaults": {
           "arrowhead": 0,
           "arrowwidth": 1
          },
          "autotypenumbers": "strict",
          "coloraxis": {
           "colorbar": {
            "outlinewidth": 1,
            "tickcolor": "rgb(36,36,36)",
            "ticks": "outside"
           }
          },
          "colorscale": {
           "diverging": [
            [
             0,
             "rgb(103,0,31)"
            ],
            [
             0.1,
             "rgb(178,24,43)"
            ],
            [
             0.2,
             "rgb(214,96,77)"
            ],
            [
             0.3,
             "rgb(244,165,130)"
            ],
            [
             0.4,
             "rgb(253,219,199)"
            ],
            [
             0.5,
             "rgb(247,247,247)"
            ],
            [
             0.6,
             "rgb(209,229,240)"
            ],
            [
             0.7,
             "rgb(146,197,222)"
            ],
            [
             0.8,
             "rgb(67,147,195)"
            ],
            [
             0.9,
             "rgb(33,102,172)"
            ],
            [
             1,
             "rgb(5,48,97)"
            ]
           ],
           "sequential": [
            [
             0,
             "#440154"
            ],
            [
             0.1111111111111111,
             "#482878"
            ],
            [
             0.2222222222222222,
             "#3e4989"
            ],
            [
             0.3333333333333333,
             "#31688e"
            ],
            [
             0.4444444444444444,
             "#26828e"
            ],
            [
             0.5555555555555556,
             "#1f9e89"
            ],
            [
             0.6666666666666666,
             "#35b779"
            ],
            [
             0.7777777777777778,
             "#6ece58"
            ],
            [
             0.8888888888888888,
             "#b5de2b"
            ],
            [
             1,
             "#fde725"
            ]
           ],
           "sequentialminus": [
            [
             0,
             "#440154"
            ],
            [
             0.1111111111111111,
             "#482878"
            ],
            [
             0.2222222222222222,
             "#3e4989"
            ],
            [
             0.3333333333333333,
             "#31688e"
            ],
            [
             0.4444444444444444,
             "#26828e"
            ],
            [
             0.5555555555555556,
             "#1f9e89"
            ],
            [
             0.6666666666666666,
             "#35b779"
            ],
            [
             0.7777777777777778,
             "#6ece58"
            ],
            [
             0.8888888888888888,
             "#b5de2b"
            ],
            [
             1,
             "#fde725"
            ]
           ]
          },
          "colorway": [
           "#1F77B4",
           "#FF7F0E",
           "#2CA02C",
           "#D62728",
           "#9467BD",
           "#8C564B",
           "#E377C2",
           "#7F7F7F",
           "#BCBD22",
           "#17BECF"
          ],
          "font": {
           "color": "rgb(36,36,36)"
          },
          "geo": {
           "bgcolor": "white",
           "lakecolor": "white",
           "landcolor": "white",
           "showlakes": true,
           "showland": true,
           "subunitcolor": "white"
          },
          "hoverlabel": {
           "align": "left"
          },
          "hovermode": "closest",
          "mapbox": {
           "style": "light"
          },
          "paper_bgcolor": "white",
          "plot_bgcolor": "white",
          "polar": {
           "angularaxis": {
            "gridcolor": "rgb(232,232,232)",
            "linecolor": "rgb(36,36,36)",
            "showgrid": false,
            "showline": true,
            "ticks": "outside"
           },
           "bgcolor": "white",
           "radialaxis": {
            "gridcolor": "rgb(232,232,232)",
            "linecolor": "rgb(36,36,36)",
            "showgrid": false,
            "showline": true,
            "ticks": "outside"
           }
          },
          "scene": {
           "xaxis": {
            "backgroundcolor": "white",
            "gridcolor": "rgb(232,232,232)",
            "gridwidth": 2,
            "linecolor": "rgb(36,36,36)",
            "showbackground": true,
            "showgrid": false,
            "showline": true,
            "ticks": "outside",
            "zeroline": false,
            "zerolinecolor": "rgb(36,36,36)"
           },
           "yaxis": {
            "backgroundcolor": "white",
            "gridcolor": "rgb(232,232,232)",
            "gridwidth": 2,
            "linecolor": "rgb(36,36,36)",
            "showbackground": true,
            "showgrid": false,
            "showline": true,
            "ticks": "outside",
            "zeroline": false,
            "zerolinecolor": "rgb(36,36,36)"
           },
           "zaxis": {
            "backgroundcolor": "white",
            "gridcolor": "rgb(232,232,232)",
            "gridwidth": 2,
            "linecolor": "rgb(36,36,36)",
            "showbackground": true,
            "showgrid": false,
            "showline": true,
            "ticks": "outside",
            "zeroline": false,
            "zerolinecolor": "rgb(36,36,36)"
           }
          },
          "shapedefaults": {
           "fillcolor": "black",
           "line": {
            "width": 0
           },
           "opacity": 0.3
          },
          "ternary": {
           "aaxis": {
            "gridcolor": "rgb(232,232,232)",
            "linecolor": "rgb(36,36,36)",
            "showgrid": false,
            "showline": true,
            "ticks": "outside"
           },
           "baxis": {
            "gridcolor": "rgb(232,232,232)",
            "linecolor": "rgb(36,36,36)",
            "showgrid": false,
            "showline": true,
            "ticks": "outside"
           },
           "bgcolor": "white",
           "caxis": {
            "gridcolor": "rgb(232,232,232)",
            "linecolor": "rgb(36,36,36)",
            "showgrid": false,
            "showline": true,
            "ticks": "outside"
           }
          },
          "title": {
           "x": 0.05
          },
          "xaxis": {
           "automargin": true,
           "gridcolor": "rgb(232,232,232)",
           "linecolor": "rgb(36,36,36)",
           "showgrid": false,
           "showline": true,
           "ticks": "outside",
           "title": {
            "standoff": 15
           },
           "zeroline": false,
           "zerolinecolor": "rgb(36,36,36)"
          },
          "yaxis": {
           "automargin": true,
           "gridcolor": "rgb(232,232,232)",
           "linecolor": "rgb(36,36,36)",
           "showgrid": false,
           "showline": true,
           "ticks": "outside",
           "title": {
            "standoff": 15
           },
           "zeroline": false,
           "zerolinecolor": "rgb(36,36,36)"
          }
         }
        },
        "title": {
         "text": "Сегмент 2й. Покупка товаров разных категорий по месяцам"
        },
        "xaxis": {
         "anchor": "y",
         "domain": [
          0,
          1
         ],
         "title": {
          "text": "месяц"
         }
        },
        "yaxis": {
         "anchor": "x",
         "domain": [
          0,
          1
         ],
         "title": {
          "text": "кол-во проданного товара"
         }
        }
       }
      }
     },
     "metadata": {},
     "output_type": "display_data"
    }
   ],
   "source": [
    "fig = px.line(history_category.query('major_group==\"group_2\"'),\n",
    "              x='date_round',\n",
    "              y='quantity',\n",
    "\n",
    "              color='category_product',\n",
    "              title='Сегмент 2й. Покупка товаров разных категорий по месяцам',\n",
    "              labels=dict(quantity='кол-во проданного товара',\n",
    "                          category_product='категория товара',\n",
    "                          date_round='месяц'),\n",
    "              color_discrete_sequence=px.colors.qualitative.Vivid,\n",
    "              template='simple_white'\n",
    "              )\n",
    "\n",
    "fig.update_traces(mode='markers+lines',\n",
    "                  line_shape='spline',\n",
    "                  line_width=3\n",
    "                  )"
   ]
  },
  {
   "cell_type": "markdown",
   "metadata": {},
   "source": [
    "Сегмент 2(неактивные пользователи). Активно закупаются рассадой и растениями особенно в апреле и июнь. В мае заказывали для декора больше чем за предстиавленный период. В июне приобретают больше хозтоваров."
   ]
  },
  {
   "cell_type": "code",
   "execution_count": 154,
   "metadata": {},
   "outputs": [
    {
     "data": {
      "application/vnd.plotly.v1+json": {
       "config": {
        "plotlyServerURL": "https://plot.ly"
       },
       "data": [
        {
         "hovertemplate": "категория товара=интерьер, мебель<br>месяц=%{x}<br>кол-во проданного товара=%{y}<extra></extra>",
         "legendgroup": "интерьер, мебель",
         "line": {
          "color": "rgb(229, 134, 6)",
          "dash": "solid",
          "shape": "spline",
          "width": 3
         },
         "marker": {
          "symbol": "circle"
         },
         "mode": "markers+lines",
         "name": "интерьер, мебель",
         "orientation": "v",
         "showlegend": true,
         "type": "scatter",
         "x": [
          "2018-10-01T00:00:00",
          "2018-11-01T00:00:00",
          "2018-12-01T00:00:00",
          "2019-01-01T00:00:00",
          "2019-02-01T00:00:00",
          "2019-03-01T00:00:00",
          "2019-04-01T00:00:00",
          "2019-05-01T00:00:00",
          "2019-07-01T00:00:00",
          "2019-08-01T00:00:00",
          "2019-09-01T00:00:00",
          "2019-11-01T00:00:00",
          "2019-12-01T00:00:00",
          "2020-01-01T00:00:00"
         ],
         "xaxis": "x",
         "y": [
          2,
          1,
          10,
          4,
          2,
          3,
          2,
          2,
          4,
          2,
          2,
          7,
          12,
          12
         ],
         "yaxis": "y"
        },
        {
         "hovertemplate": "категория товара=посуда, товары для кухни<br>месяц=%{x}<br>кол-во проданного товара=%{y}<extra></extra>",
         "legendgroup": "посуда, товары для кухни",
         "line": {
          "color": "rgb(93, 105, 177)",
          "dash": "solid",
          "shape": "spline",
          "width": 3
         },
         "marker": {
          "symbol": "circle"
         },
         "mode": "markers+lines",
         "name": "посуда, товары для кухни",
         "orientation": "v",
         "showlegend": true,
         "type": "scatter",
         "x": [
          "2018-10-01T00:00:00",
          "2018-11-01T00:00:00",
          "2018-12-01T00:00:00",
          "2019-01-01T00:00:00",
          "2019-02-01T00:00:00",
          "2019-03-01T00:00:00",
          "2019-04-01T00:00:00",
          "2019-05-01T00:00:00",
          "2019-06-01T00:00:00",
          "2019-07-01T00:00:00",
          "2019-08-01T00:00:00",
          "2019-09-01T00:00:00",
          "2019-10-01T00:00:00",
          "2019-11-01T00:00:00",
          "2019-12-01T00:00:00",
          "2020-01-01T00:00:00"
         ],
         "xaxis": "x",
         "y": [
          4,
          2,
          7,
          4,
          13,
          6,
          1,
          3,
          1,
          5,
          3,
          6,
          6,
          24,
          27,
          33
         ],
         "yaxis": "y"
        },
        {
         "hovertemplate": "категория товара=предметы для ванной комнаты<br>месяц=%{x}<br>кол-во проданного товара=%{y}<extra></extra>",
         "legendgroup": "предметы для ванной комнаты",
         "line": {
          "color": "rgb(82, 188, 163)",
          "dash": "solid",
          "shape": "spline",
          "width": 3
         },
         "marker": {
          "symbol": "circle"
         },
         "mode": "markers+lines",
         "name": "предметы для ванной комнаты",
         "orientation": "v",
         "showlegend": true,
         "type": "scatter",
         "x": [
          "2018-10-01T00:00:00",
          "2018-11-01T00:00:00",
          "2018-12-01T00:00:00",
          "2019-01-01T00:00:00",
          "2019-02-01T00:00:00",
          "2019-03-01T00:00:00",
          "2019-04-01T00:00:00",
          "2019-05-01T00:00:00",
          "2019-06-01T00:00:00",
          "2019-07-01T00:00:00",
          "2019-08-01T00:00:00",
          "2019-09-01T00:00:00",
          "2019-11-01T00:00:00",
          "2019-12-01T00:00:00",
          "2020-01-01T00:00:00"
         ],
         "xaxis": "x",
         "y": [
          4,
          3,
          6,
          2,
          6,
          8,
          5,
          1,
          2,
          2,
          2,
          1,
          7,
          11,
          4
         ],
         "yaxis": "y"
        },
        {
         "hovertemplate": "категория товара=рассада и растения<br>месяц=%{x}<br>кол-во проданного товара=%{y}<extra></extra>",
         "legendgroup": "рассада и растения",
         "line": {
          "color": "rgb(153, 201, 69)",
          "dash": "solid",
          "shape": "spline",
          "width": 3
         },
         "marker": {
          "symbol": "circle"
         },
         "mode": "markers+lines",
         "name": "рассада и растения",
         "orientation": "v",
         "showlegend": true,
         "type": "scatter",
         "x": [
          "2018-10-01T00:00:00",
          "2018-11-01T00:00:00",
          "2018-12-01T00:00:00",
          "2019-01-01T00:00:00",
          "2019-02-01T00:00:00",
          "2019-03-01T00:00:00",
          "2019-04-01T00:00:00",
          "2019-05-01T00:00:00",
          "2019-06-01T00:00:00",
          "2019-07-01T00:00:00",
          "2019-08-01T00:00:00",
          "2019-09-01T00:00:00",
          "2019-10-01T00:00:00",
          "2019-11-01T00:00:00",
          "2019-12-01T00:00:00",
          "2020-01-01T00:00:00"
         ],
         "xaxis": "x",
         "y": [
          6,
          7,
          7,
          10,
          30,
          24,
          27,
          9,
          10,
          13,
          15,
          24,
          129,
          116,
          115,
          155
         ],
         "yaxis": "y"
        },
        {
         "hovertemplate": "категория товара=хозтовары<br>месяц=%{x}<br>кол-во проданного товара=%{y}<extra></extra>",
         "legendgroup": "хозтовары",
         "line": {
          "color": "rgb(204, 97, 176)",
          "dash": "solid",
          "shape": "spline",
          "width": 3
         },
         "marker": {
          "symbol": "circle"
         },
         "mode": "markers+lines",
         "name": "хозтовары",
         "orientation": "v",
         "showlegend": true,
         "type": "scatter",
         "x": [
          "2018-10-01T00:00:00",
          "2018-11-01T00:00:00",
          "2018-12-01T00:00:00",
          "2019-01-01T00:00:00",
          "2019-02-01T00:00:00",
          "2019-03-01T00:00:00",
          "2019-04-01T00:00:00",
          "2019-05-01T00:00:00",
          "2019-06-01T00:00:00",
          "2019-07-01T00:00:00",
          "2019-08-01T00:00:00",
          "2019-09-01T00:00:00",
          "2019-10-01T00:00:00",
          "2019-11-01T00:00:00",
          "2019-12-01T00:00:00",
          "2020-01-01T00:00:00"
         ],
         "xaxis": "x",
         "y": [
          31,
          30,
          43,
          24,
          43,
          40,
          44,
          28,
          33,
          45,
          33,
          37,
          130,
          63,
          87,
          81
         ],
         "yaxis": "y"
        },
        {
         "hovertemplate": "категория товара=текстиль<br>месяц=%{x}<br>кол-во проданного товара=%{y}<extra></extra>",
         "legendgroup": "текстиль",
         "line": {
          "color": "rgb(36, 121, 108)",
          "dash": "solid",
          "shape": "spline",
          "width": 3
         },
         "marker": {
          "symbol": "circle"
         },
         "mode": "markers+lines",
         "name": "текстиль",
         "orientation": "v",
         "showlegend": true,
         "type": "scatter",
         "x": [
          "2018-11-01T00:00:00",
          "2018-12-01T00:00:00",
          "2019-01-01T00:00:00",
          "2019-03-01T00:00:00",
          "2019-04-01T00:00:00",
          "2019-05-01T00:00:00",
          "2019-06-01T00:00:00",
          "2019-09-01T00:00:00",
          "2019-10-01T00:00:00",
          "2019-11-01T00:00:00",
          "2019-12-01T00:00:00",
          "2020-01-01T00:00:00"
         ],
         "xaxis": "x",
         "y": [
          3,
          3,
          2,
          1,
          1,
          1,
          2,
          1,
          2,
          6,
          2,
          2
         ],
         "yaxis": "y"
        },
        {
         "hovertemplate": "категория товара=декор<br>месяц=%{x}<br>кол-во проданного товара=%{y}<extra></extra>",
         "legendgroup": "декор",
         "line": {
          "color": "rgb(218, 165, 27)",
          "dash": "solid",
          "shape": "spline",
          "width": 3
         },
         "marker": {
          "symbol": "circle"
         },
         "mode": "markers+lines",
         "name": "декор",
         "orientation": "v",
         "showlegend": true,
         "type": "scatter",
         "x": [
          "2018-12-01T00:00:00",
          "2019-02-01T00:00:00",
          "2019-10-01T00:00:00",
          "2019-11-01T00:00:00",
          "2019-12-01T00:00:00",
          "2020-01-01T00:00:00"
         ],
         "xaxis": "x",
         "y": [
          2,
          2,
          53,
          8,
          6,
          10
         ],
         "yaxis": "y"
        },
        {
         "hovertemplate": "категория товара=инструменты, такелаж<br>месяц=%{x}<br>кол-во проданного товара=%{y}<extra></extra>",
         "legendgroup": "инструменты, такелаж",
         "line": {
          "color": "rgb(47, 138, 196)",
          "dash": "solid",
          "shape": "spline",
          "width": 3
         },
         "marker": {
          "symbol": "circle"
         },
         "mode": "markers+lines",
         "name": "инструменты, такелаж",
         "orientation": "v",
         "showlegend": true,
         "type": "scatter",
         "x": [
          "2018-12-01T00:00:00",
          "2019-01-01T00:00:00",
          "2019-02-01T00:00:00",
          "2019-03-01T00:00:00",
          "2019-04-01T00:00:00",
          "2019-05-01T00:00:00",
          "2019-08-01T00:00:00",
          "2019-10-01T00:00:00",
          "2019-11-01T00:00:00",
          "2019-12-01T00:00:00",
          "2020-01-01T00:00:00"
         ],
         "xaxis": "x",
         "y": [
          1,
          2,
          2,
          1,
          1,
          1,
          1,
          1,
          5,
          3,
          4
         ],
         "yaxis": "y"
        },
        {
         "hovertemplate": "категория товара=фурнитура<br>месяц=%{x}<br>кол-во проданного товара=%{y}<extra></extra>",
         "legendgroup": "фурнитура",
         "line": {
          "color": "rgb(118, 78, 159)",
          "dash": "solid",
          "shape": "spline",
          "width": 3
         },
         "marker": {
          "symbol": "circle"
         },
         "mode": "markers+lines",
         "name": "фурнитура",
         "orientation": "v",
         "showlegend": true,
         "type": "scatter",
         "x": [
          "2019-10-01T00:00:00",
          "2019-12-01T00:00:00"
         ],
         "xaxis": "x",
         "y": [
          100,
          1
         ],
         "yaxis": "y"
        },
        {
         "hovertemplate": "категория товара=электроприборы<br>месяц=%{x}<br>кол-во проданного товара=%{y}<extra></extra>",
         "legendgroup": "электроприборы",
         "line": {
          "color": "rgb(237, 100, 90)",
          "dash": "solid",
          "shape": "spline",
          "width": 3
         },
         "marker": {
          "symbol": "circle"
         },
         "mode": "markers+lines",
         "name": "электроприборы",
         "orientation": "v",
         "showlegend": true,
         "type": "scatter",
         "x": [
          "2019-10-01T00:00:00"
         ],
         "xaxis": "x",
         "y": [
          4
         ],
         "yaxis": "y"
        },
        {
         "hovertemplate": "категория товара=подарки на праздники<br>месяц=%{x}<br>кол-во проданного товара=%{y}<extra></extra>",
         "legendgroup": "подарки на праздники",
         "line": {
          "color": "rgb(165, 170, 153)",
          "dash": "solid",
          "shape": "spline",
          "width": 3
         },
         "marker": {
          "symbol": "circle"
         },
         "mode": "markers+lines",
         "name": "подарки на праздники",
         "orientation": "v",
         "showlegend": true,
         "type": "scatter",
         "x": [
          "2019-12-01T00:00:00"
         ],
         "xaxis": "x",
         "y": [
          1
         ],
         "yaxis": "y"
        }
       ],
       "layout": {
        "legend": {
         "title": {
          "text": "категория товара"
         },
         "tracegroupgap": 0
        },
        "template": {
         "data": {
          "bar": [
           {
            "error_x": {
             "color": "rgb(36,36,36)"
            },
            "error_y": {
             "color": "rgb(36,36,36)"
            },
            "marker": {
             "line": {
              "color": "white",
              "width": 0.5
             },
             "pattern": {
              "fillmode": "overlay",
              "size": 10,
              "solidity": 0.2
             }
            },
            "type": "bar"
           }
          ],
          "barpolar": [
           {
            "marker": {
             "line": {
              "color": "white",
              "width": 0.5
             },
             "pattern": {
              "fillmode": "overlay",
              "size": 10,
              "solidity": 0.2
             }
            },
            "type": "barpolar"
           }
          ],
          "carpet": [
           {
            "aaxis": {
             "endlinecolor": "rgb(36,36,36)",
             "gridcolor": "white",
             "linecolor": "white",
             "minorgridcolor": "white",
             "startlinecolor": "rgb(36,36,36)"
            },
            "baxis": {
             "endlinecolor": "rgb(36,36,36)",
             "gridcolor": "white",
             "linecolor": "white",
             "minorgridcolor": "white",
             "startlinecolor": "rgb(36,36,36)"
            },
            "type": "carpet"
           }
          ],
          "choropleth": [
           {
            "colorbar": {
             "outlinewidth": 1,
             "tickcolor": "rgb(36,36,36)",
             "ticks": "outside"
            },
            "type": "choropleth"
           }
          ],
          "contour": [
           {
            "colorbar": {
             "outlinewidth": 1,
             "tickcolor": "rgb(36,36,36)",
             "ticks": "outside"
            },
            "colorscale": [
             [
              0,
              "#440154"
             ],
             [
              0.1111111111111111,
              "#482878"
             ],
             [
              0.2222222222222222,
              "#3e4989"
             ],
             [
              0.3333333333333333,
              "#31688e"
             ],
             [
              0.4444444444444444,
              "#26828e"
             ],
             [
              0.5555555555555556,
              "#1f9e89"
             ],
             [
              0.6666666666666666,
              "#35b779"
             ],
             [
              0.7777777777777778,
              "#6ece58"
             ],
             [
              0.8888888888888888,
              "#b5de2b"
             ],
             [
              1,
              "#fde725"
             ]
            ],
            "type": "contour"
           }
          ],
          "contourcarpet": [
           {
            "colorbar": {
             "outlinewidth": 1,
             "tickcolor": "rgb(36,36,36)",
             "ticks": "outside"
            },
            "type": "contourcarpet"
           }
          ],
          "heatmap": [
           {
            "colorbar": {
             "outlinewidth": 1,
             "tickcolor": "rgb(36,36,36)",
             "ticks": "outside"
            },
            "colorscale": [
             [
              0,
              "#440154"
             ],
             [
              0.1111111111111111,
              "#482878"
             ],
             [
              0.2222222222222222,
              "#3e4989"
             ],
             [
              0.3333333333333333,
              "#31688e"
             ],
             [
              0.4444444444444444,
              "#26828e"
             ],
             [
              0.5555555555555556,
              "#1f9e89"
             ],
             [
              0.6666666666666666,
              "#35b779"
             ],
             [
              0.7777777777777778,
              "#6ece58"
             ],
             [
              0.8888888888888888,
              "#b5de2b"
             ],
             [
              1,
              "#fde725"
             ]
            ],
            "type": "heatmap"
           }
          ],
          "heatmapgl": [
           {
            "colorbar": {
             "outlinewidth": 1,
             "tickcolor": "rgb(36,36,36)",
             "ticks": "outside"
            },
            "colorscale": [
             [
              0,
              "#440154"
             ],
             [
              0.1111111111111111,
              "#482878"
             ],
             [
              0.2222222222222222,
              "#3e4989"
             ],
             [
              0.3333333333333333,
              "#31688e"
             ],
             [
              0.4444444444444444,
              "#26828e"
             ],
             [
              0.5555555555555556,
              "#1f9e89"
             ],
             [
              0.6666666666666666,
              "#35b779"
             ],
             [
              0.7777777777777778,
              "#6ece58"
             ],
             [
              0.8888888888888888,
              "#b5de2b"
             ],
             [
              1,
              "#fde725"
             ]
            ],
            "type": "heatmapgl"
           }
          ],
          "histogram": [
           {
            "marker": {
             "line": {
              "color": "white",
              "width": 0.6
             }
            },
            "type": "histogram"
           }
          ],
          "histogram2d": [
           {
            "colorbar": {
             "outlinewidth": 1,
             "tickcolor": "rgb(36,36,36)",
             "ticks": "outside"
            },
            "colorscale": [
             [
              0,
              "#440154"
             ],
             [
              0.1111111111111111,
              "#482878"
             ],
             [
              0.2222222222222222,
              "#3e4989"
             ],
             [
              0.3333333333333333,
              "#31688e"
             ],
             [
              0.4444444444444444,
              "#26828e"
             ],
             [
              0.5555555555555556,
              "#1f9e89"
             ],
             [
              0.6666666666666666,
              "#35b779"
             ],
             [
              0.7777777777777778,
              "#6ece58"
             ],
             [
              0.8888888888888888,
              "#b5de2b"
             ],
             [
              1,
              "#fde725"
             ]
            ],
            "type": "histogram2d"
           }
          ],
          "histogram2dcontour": [
           {
            "colorbar": {
             "outlinewidth": 1,
             "tickcolor": "rgb(36,36,36)",
             "ticks": "outside"
            },
            "colorscale": [
             [
              0,
              "#440154"
             ],
             [
              0.1111111111111111,
              "#482878"
             ],
             [
              0.2222222222222222,
              "#3e4989"
             ],
             [
              0.3333333333333333,
              "#31688e"
             ],
             [
              0.4444444444444444,
              "#26828e"
             ],
             [
              0.5555555555555556,
              "#1f9e89"
             ],
             [
              0.6666666666666666,
              "#35b779"
             ],
             [
              0.7777777777777778,
              "#6ece58"
             ],
             [
              0.8888888888888888,
              "#b5de2b"
             ],
             [
              1,
              "#fde725"
             ]
            ],
            "type": "histogram2dcontour"
           }
          ],
          "mesh3d": [
           {
            "colorbar": {
             "outlinewidth": 1,
             "tickcolor": "rgb(36,36,36)",
             "ticks": "outside"
            },
            "type": "mesh3d"
           }
          ],
          "parcoords": [
           {
            "line": {
             "colorbar": {
              "outlinewidth": 1,
              "tickcolor": "rgb(36,36,36)",
              "ticks": "outside"
             }
            },
            "type": "parcoords"
           }
          ],
          "pie": [
           {
            "automargin": true,
            "type": "pie"
           }
          ],
          "scatter": [
           {
            "marker": {
             "colorbar": {
              "outlinewidth": 1,
              "tickcolor": "rgb(36,36,36)",
              "ticks": "outside"
             }
            },
            "type": "scatter"
           }
          ],
          "scatter3d": [
           {
            "line": {
             "colorbar": {
              "outlinewidth": 1,
              "tickcolor": "rgb(36,36,36)",
              "ticks": "outside"
             }
            },
            "marker": {
             "colorbar": {
              "outlinewidth": 1,
              "tickcolor": "rgb(36,36,36)",
              "ticks": "outside"
             }
            },
            "type": "scatter3d"
           }
          ],
          "scattercarpet": [
           {
            "marker": {
             "colorbar": {
              "outlinewidth": 1,
              "tickcolor": "rgb(36,36,36)",
              "ticks": "outside"
             }
            },
            "type": "scattercarpet"
           }
          ],
          "scattergeo": [
           {
            "marker": {
             "colorbar": {
              "outlinewidth": 1,
              "tickcolor": "rgb(36,36,36)",
              "ticks": "outside"
             }
            },
            "type": "scattergeo"
           }
          ],
          "scattergl": [
           {
            "marker": {
             "colorbar": {
              "outlinewidth": 1,
              "tickcolor": "rgb(36,36,36)",
              "ticks": "outside"
             }
            },
            "type": "scattergl"
           }
          ],
          "scattermapbox": [
           {
            "marker": {
             "colorbar": {
              "outlinewidth": 1,
              "tickcolor": "rgb(36,36,36)",
              "ticks": "outside"
             }
            },
            "type": "scattermapbox"
           }
          ],
          "scatterpolar": [
           {
            "marker": {
             "colorbar": {
              "outlinewidth": 1,
              "tickcolor": "rgb(36,36,36)",
              "ticks": "outside"
             }
            },
            "type": "scatterpolar"
           }
          ],
          "scatterpolargl": [
           {
            "marker": {
             "colorbar": {
              "outlinewidth": 1,
              "tickcolor": "rgb(36,36,36)",
              "ticks": "outside"
             }
            },
            "type": "scatterpolargl"
           }
          ],
          "scatterternary": [
           {
            "marker": {
             "colorbar": {
              "outlinewidth": 1,
              "tickcolor": "rgb(36,36,36)",
              "ticks": "outside"
             }
            },
            "type": "scatterternary"
           }
          ],
          "surface": [
           {
            "colorbar": {
             "outlinewidth": 1,
             "tickcolor": "rgb(36,36,36)",
             "ticks": "outside"
            },
            "colorscale": [
             [
              0,
              "#440154"
             ],
             [
              0.1111111111111111,
              "#482878"
             ],
             [
              0.2222222222222222,
              "#3e4989"
             ],
             [
              0.3333333333333333,
              "#31688e"
             ],
             [
              0.4444444444444444,
              "#26828e"
             ],
             [
              0.5555555555555556,
              "#1f9e89"
             ],
             [
              0.6666666666666666,
              "#35b779"
             ],
             [
              0.7777777777777778,
              "#6ece58"
             ],
             [
              0.8888888888888888,
              "#b5de2b"
             ],
             [
              1,
              "#fde725"
             ]
            ],
            "type": "surface"
           }
          ],
          "table": [
           {
            "cells": {
             "fill": {
              "color": "rgb(237,237,237)"
             },
             "line": {
              "color": "white"
             }
            },
            "header": {
             "fill": {
              "color": "rgb(217,217,217)"
             },
             "line": {
              "color": "white"
             }
            },
            "type": "table"
           }
          ]
         },
         "layout": {
          "annotationdefaults": {
           "arrowhead": 0,
           "arrowwidth": 1
          },
          "autotypenumbers": "strict",
          "coloraxis": {
           "colorbar": {
            "outlinewidth": 1,
            "tickcolor": "rgb(36,36,36)",
            "ticks": "outside"
           }
          },
          "colorscale": {
           "diverging": [
            [
             0,
             "rgb(103,0,31)"
            ],
            [
             0.1,
             "rgb(178,24,43)"
            ],
            [
             0.2,
             "rgb(214,96,77)"
            ],
            [
             0.3,
             "rgb(244,165,130)"
            ],
            [
             0.4,
             "rgb(253,219,199)"
            ],
            [
             0.5,
             "rgb(247,247,247)"
            ],
            [
             0.6,
             "rgb(209,229,240)"
            ],
            [
             0.7,
             "rgb(146,197,222)"
            ],
            [
             0.8,
             "rgb(67,147,195)"
            ],
            [
             0.9,
             "rgb(33,102,172)"
            ],
            [
             1,
             "rgb(5,48,97)"
            ]
           ],
           "sequential": [
            [
             0,
             "#440154"
            ],
            [
             0.1111111111111111,
             "#482878"
            ],
            [
             0.2222222222222222,
             "#3e4989"
            ],
            [
             0.3333333333333333,
             "#31688e"
            ],
            [
             0.4444444444444444,
             "#26828e"
            ],
            [
             0.5555555555555556,
             "#1f9e89"
            ],
            [
             0.6666666666666666,
             "#35b779"
            ],
            [
             0.7777777777777778,
             "#6ece58"
            ],
            [
             0.8888888888888888,
             "#b5de2b"
            ],
            [
             1,
             "#fde725"
            ]
           ],
           "sequentialminus": [
            [
             0,
             "#440154"
            ],
            [
             0.1111111111111111,
             "#482878"
            ],
            [
             0.2222222222222222,
             "#3e4989"
            ],
            [
             0.3333333333333333,
             "#31688e"
            ],
            [
             0.4444444444444444,
             "#26828e"
            ],
            [
             0.5555555555555556,
             "#1f9e89"
            ],
            [
             0.6666666666666666,
             "#35b779"
            ],
            [
             0.7777777777777778,
             "#6ece58"
            ],
            [
             0.8888888888888888,
             "#b5de2b"
            ],
            [
             1,
             "#fde725"
            ]
           ]
          },
          "colorway": [
           "#1F77B4",
           "#FF7F0E",
           "#2CA02C",
           "#D62728",
           "#9467BD",
           "#8C564B",
           "#E377C2",
           "#7F7F7F",
           "#BCBD22",
           "#17BECF"
          ],
          "font": {
           "color": "rgb(36,36,36)"
          },
          "geo": {
           "bgcolor": "white",
           "lakecolor": "white",
           "landcolor": "white",
           "showlakes": true,
           "showland": true,
           "subunitcolor": "white"
          },
          "hoverlabel": {
           "align": "left"
          },
          "hovermode": "closest",
          "mapbox": {
           "style": "light"
          },
          "paper_bgcolor": "white",
          "plot_bgcolor": "white",
          "polar": {
           "angularaxis": {
            "gridcolor": "rgb(232,232,232)",
            "linecolor": "rgb(36,36,36)",
            "showgrid": false,
            "showline": true,
            "ticks": "outside"
           },
           "bgcolor": "white",
           "radialaxis": {
            "gridcolor": "rgb(232,232,232)",
            "linecolor": "rgb(36,36,36)",
            "showgrid": false,
            "showline": true,
            "ticks": "outside"
           }
          },
          "scene": {
           "xaxis": {
            "backgroundcolor": "white",
            "gridcolor": "rgb(232,232,232)",
            "gridwidth": 2,
            "linecolor": "rgb(36,36,36)",
            "showbackground": true,
            "showgrid": false,
            "showline": true,
            "ticks": "outside",
            "zeroline": false,
            "zerolinecolor": "rgb(36,36,36)"
           },
           "yaxis": {
            "backgroundcolor": "white",
            "gridcolor": "rgb(232,232,232)",
            "gridwidth": 2,
            "linecolor": "rgb(36,36,36)",
            "showbackground": true,
            "showgrid": false,
            "showline": true,
            "ticks": "outside",
            "zeroline": false,
            "zerolinecolor": "rgb(36,36,36)"
           },
           "zaxis": {
            "backgroundcolor": "white",
            "gridcolor": "rgb(232,232,232)",
            "gridwidth": 2,
            "linecolor": "rgb(36,36,36)",
            "showbackground": true,
            "showgrid": false,
            "showline": true,
            "ticks": "outside",
            "zeroline": false,
            "zerolinecolor": "rgb(36,36,36)"
           }
          },
          "shapedefaults": {
           "fillcolor": "black",
           "line": {
            "width": 0
           },
           "opacity": 0.3
          },
          "ternary": {
           "aaxis": {
            "gridcolor": "rgb(232,232,232)",
            "linecolor": "rgb(36,36,36)",
            "showgrid": false,
            "showline": true,
            "ticks": "outside"
           },
           "baxis": {
            "gridcolor": "rgb(232,232,232)",
            "linecolor": "rgb(36,36,36)",
            "showgrid": false,
            "showline": true,
            "ticks": "outside"
           },
           "bgcolor": "white",
           "caxis": {
            "gridcolor": "rgb(232,232,232)",
            "linecolor": "rgb(36,36,36)",
            "showgrid": false,
            "showline": true,
            "ticks": "outside"
           }
          },
          "title": {
           "x": 0.05
          },
          "xaxis": {
           "automargin": true,
           "gridcolor": "rgb(232,232,232)",
           "linecolor": "rgb(36,36,36)",
           "showgrid": false,
           "showline": true,
           "ticks": "outside",
           "title": {
            "standoff": 15
           },
           "zeroline": false,
           "zerolinecolor": "rgb(36,36,36)"
          },
          "yaxis": {
           "automargin": true,
           "gridcolor": "rgb(232,232,232)",
           "linecolor": "rgb(36,36,36)",
           "showgrid": false,
           "showline": true,
           "ticks": "outside",
           "title": {
            "standoff": 15
           },
           "zeroline": false,
           "zerolinecolor": "rgb(36,36,36)"
          }
         }
        },
        "title": {
         "text": "Сегмент 3й. Покупка товаров разных категорий по месяцам"
        },
        "xaxis": {
         "anchor": "y",
         "domain": [
          0,
          1
         ],
         "title": {
          "text": "месяц"
         }
        },
        "yaxis": {
         "anchor": "x",
         "domain": [
          0,
          1
         ],
         "title": {
          "text": "кол-во проданного товара"
         }
        }
       }
      }
     },
     "metadata": {},
     "output_type": "display_data"
    }
   ],
   "source": [
    "fig = px.line(history_category.query('major_group==\"group_3\"'),\n",
    "              x='date_round',\n",
    "              y='quantity',\n",
    "\n",
    "              color='category_product',\n",
    "              title='Сегмент 3й. Покупка товаров разных категорий по месяцам',\n",
    "              labels=dict(quantity='кол-во проданного товара',\n",
    "                          category_product='категория товара',\n",
    "                          date_round='месяц'),\n",
    "              color_discrete_sequence=px.colors.qualitative.Vivid,\n",
    "              template='simple_white')\n",
    "\n",
    "fig.update_traces(mode='markers+lines',\n",
    "                  line_shape='spline',\n",
    "                  line_width=3\n",
    "                  )"
   ]
  },
  {
   "cell_type": "markdown",
   "metadata": {},
   "source": [
    "Сегмент 3 (постоянные покупатели). Активно приобретают растения и хозтовары в октябре-декабе 2019 и январе 2020.   \n",
    "В остальные месяцы менее активны,но продолжают приобретать хозтовары. В Октябре 2019 Активно приобретают фурнитуру и товары для декора."
   ]
  },
  {
   "cell_type": "markdown",
   "metadata": {},
   "source": [
    "# Проверка гипотез"
   ]
  },
  {
   "cell_type": "markdown",
   "metadata": {},
   "source": [
    "## Гипотеза 1. Средние чеки сегментов групп равны"
   ]
  },
  {
   "cell_type": "markdown",
   "metadata": {},
   "source": [
    "Сформулируем гипотезу   \n",
    "1) Нулевая гипотеза: средние чеки сегментов групп равны   \n",
    "    Альт. гипотеза: средние чеки сегментов групп разные"
   ]
  },
  {
   "cell_type": "code",
   "execution_count": 142,
   "metadata": {},
   "outputs": [],
   "source": [
    "hipotesys_1 = dict(H_0='средние чеки сегментов групп равны',\n",
    "                   H_1='средние чеки сегментов групп разные')"
   ]
  },
  {
   "cell_type": "markdown",
   "metadata": {},
   "source": [
    "И посчитаем средний чек для каждого пользователя"
   ]
  },
  {
   "cell_type": "code",
   "execution_count": 143,
   "metadata": {},
   "outputs": [
    {
     "data": {
      "text/html": [
       "<div>\n",
       "<style scoped>\n",
       "    .dataframe tbody tr th:only-of-type {\n",
       "        vertical-align: middle;\n",
       "    }\n",
       "\n",
       "    .dataframe tbody tr th {\n",
       "        vertical-align: top;\n",
       "    }\n",
       "\n",
       "    .dataframe thead th {\n",
       "        text-align: right;\n",
       "    }\n",
       "</style>\n",
       "<table border=\"1\" class=\"dataframe\">\n",
       "  <thead>\n",
       "    <tr style=\"text-align: right;\">\n",
       "      <th></th>\n",
       "      <th>major_group</th>\n",
       "      <th>customer_id</th>\n",
       "      <th>total_price</th>\n",
       "      <th>orders</th>\n",
       "    </tr>\n",
       "  </thead>\n",
       "  <tbody>\n",
       "    <tr>\n",
       "      <th>0</th>\n",
       "      <td>group_1</td>\n",
       "      <td>001cee7f-0b29-4716-b202-0042213ab038</td>\n",
       "      <td>442.0</td>\n",
       "      <td>1</td>\n",
       "    </tr>\n",
       "    <tr>\n",
       "      <th>1</th>\n",
       "      <td>group_1</td>\n",
       "      <td>002d4d3a-4a59-406b-86ec-c3314357e498</td>\n",
       "      <td>1649.0</td>\n",
       "      <td>1</td>\n",
       "    </tr>\n",
       "    <tr>\n",
       "      <th>2</th>\n",
       "      <td>group_1</td>\n",
       "      <td>004d24e9-4a6c-4d0e-8727-8391dfd4b43a</td>\n",
       "      <td>1536.0</td>\n",
       "      <td>1</td>\n",
       "    </tr>\n",
       "    <tr>\n",
       "      <th>3</th>\n",
       "      <td>group_1</td>\n",
       "      <td>00bd74b1-2792-47db-a2f1-680a09ac5026</td>\n",
       "      <td>937.0</td>\n",
       "      <td>1</td>\n",
       "    </tr>\n",
       "    <tr>\n",
       "      <th>4</th>\n",
       "      <td>group_1</td>\n",
       "      <td>018dc738-2846-464d-a421-126a8ed64bc5</td>\n",
       "      <td>940.0</td>\n",
       "      <td>1</td>\n",
       "    </tr>\n",
       "  </tbody>\n",
       "</table>\n",
       "</div>"
      ],
      "text/plain": [
       "  major_group                           customer_id  total_price  orders\n",
       "0     group_1  001cee7f-0b29-4716-b202-0042213ab038        442.0       1\n",
       "1     group_1  002d4d3a-4a59-406b-86ec-c3314357e498       1649.0       1\n",
       "2     group_1  004d24e9-4a6c-4d0e-8727-8391dfd4b43a       1536.0       1\n",
       "3     group_1  00bd74b1-2792-47db-a2f1-680a09ac5026        937.0       1\n",
       "4     group_1  018dc738-2846-464d-a421-126a8ed64bc5        940.0       1"
      ]
     },
     "execution_count": 143,
     "metadata": {},
     "output_type": "execute_result"
    }
   ],
   "source": [
    "mean_chek_groups = (customer_with_group\n",
    "                    .groupby(['major_group', 'customer_id'], as_index=False)\n",
    "                    .aggregate(\n",
    "                        {'total_price': 'sum', 'order_id': 'nunique'})\n",
    "                    .rename(columns=dict(order_id='orders')))\n",
    "\n",
    "mean_chek_groups.head()"
   ]
  },
  {
   "cell_type": "code",
   "execution_count": 144,
   "metadata": {},
   "outputs": [
    {
     "data": {
      "text/html": [
       "<div>\n",
       "<style scoped>\n",
       "    .dataframe tbody tr th:only-of-type {\n",
       "        vertical-align: middle;\n",
       "    }\n",
       "\n",
       "    .dataframe tbody tr th {\n",
       "        vertical-align: top;\n",
       "    }\n",
       "\n",
       "    .dataframe thead th {\n",
       "        text-align: right;\n",
       "    }\n",
       "</style>\n",
       "<table border=\"1\" class=\"dataframe\">\n",
       "  <thead>\n",
       "    <tr style=\"text-align: right;\">\n",
       "      <th></th>\n",
       "      <th>major_group</th>\n",
       "      <th>customer_id</th>\n",
       "      <th>total_price</th>\n",
       "      <th>orders</th>\n",
       "      <th>mean_chek</th>\n",
       "    </tr>\n",
       "  </thead>\n",
       "  <tbody>\n",
       "    <tr>\n",
       "      <th>0</th>\n",
       "      <td>group_1</td>\n",
       "      <td>001cee7f-0b29-4716-b202-0042213ab038</td>\n",
       "      <td>442.0</td>\n",
       "      <td>1</td>\n",
       "      <td>442.0</td>\n",
       "    </tr>\n",
       "    <tr>\n",
       "      <th>1</th>\n",
       "      <td>group_1</td>\n",
       "      <td>002d4d3a-4a59-406b-86ec-c3314357e498</td>\n",
       "      <td>1649.0</td>\n",
       "      <td>1</td>\n",
       "      <td>1649.0</td>\n",
       "    </tr>\n",
       "    <tr>\n",
       "      <th>2</th>\n",
       "      <td>group_1</td>\n",
       "      <td>004d24e9-4a6c-4d0e-8727-8391dfd4b43a</td>\n",
       "      <td>1536.0</td>\n",
       "      <td>1</td>\n",
       "      <td>1536.0</td>\n",
       "    </tr>\n",
       "    <tr>\n",
       "      <th>3</th>\n",
       "      <td>group_1</td>\n",
       "      <td>00bd74b1-2792-47db-a2f1-680a09ac5026</td>\n",
       "      <td>937.0</td>\n",
       "      <td>1</td>\n",
       "      <td>937.0</td>\n",
       "    </tr>\n",
       "    <tr>\n",
       "      <th>4</th>\n",
       "      <td>group_1</td>\n",
       "      <td>018dc738-2846-464d-a421-126a8ed64bc5</td>\n",
       "      <td>940.0</td>\n",
       "      <td>1</td>\n",
       "      <td>940.0</td>\n",
       "    </tr>\n",
       "  </tbody>\n",
       "</table>\n",
       "</div>"
      ],
      "text/plain": [
       "  major_group                           customer_id  total_price  orders  \\\n",
       "0     group_1  001cee7f-0b29-4716-b202-0042213ab038        442.0       1   \n",
       "1     group_1  002d4d3a-4a59-406b-86ec-c3314357e498       1649.0       1   \n",
       "2     group_1  004d24e9-4a6c-4d0e-8727-8391dfd4b43a       1536.0       1   \n",
       "3     group_1  00bd74b1-2792-47db-a2f1-680a09ac5026        937.0       1   \n",
       "4     group_1  018dc738-2846-464d-a421-126a8ed64bc5        940.0       1   \n",
       "\n",
       "   mean_chek  \n",
       "0      442.0  \n",
       "1     1649.0  \n",
       "2     1536.0  \n",
       "3      937.0  \n",
       "4      940.0  "
      ]
     },
     "execution_count": 144,
     "metadata": {},
     "output_type": "execute_result"
    }
   ],
   "source": [
    "mean_chek_groups['mean_chek'] = (mean_chek_groups['total_price'] / \n",
    "                                 mean_chek_groups['orders'])\n",
    "mean_chek_groups.head()"
   ]
  },
  {
   "cell_type": "markdown",
   "metadata": {},
   "source": [
    "настало время статистического теста. Сравнивать будем группы между собой попарно . Использовать будем t-тест для независимых выборок. "
   ]
  },
  {
   "cell_type": "markdown",
   "metadata": {},
   "source": [
    "Затем напишем функцию выводящую результат теста"
   ]
  },
  {
   "cell_type": "code",
   "execution_count": 145,
   "metadata": {},
   "outputs": [],
   "source": [
    "def get_result_ttest(list_groups, hipotesys, table, column):\n",
    "    \"\"\"Проводит t-тест между парами групп пользователей. Возвращает принятую гипотезу.\n",
    "\n",
    "    `list_groups` - список групп,\\n\n",
    "    `hipotesys` - гипотеза,\\n\n",
    "    `table` - таблица на основе которой проводится тест,\\n\n",
    "    `columns` - колонка в которой данные для теста\"\"\"\n",
    "\n",
    "    first_group = table.query('major_group==@list_groups[0]')[column]\n",
    "    second_group = table.query('major_group==@list_groups[1]')[column]\n",
    "\n",
    "    p_value = st.ttest_ind(first_group, second_group)[1]\n",
    "\n",
    "    # поправка Бонферони, где \"3\" - количество тестов\n",
    "    alpha = 0.05\n",
    "    alpha_corr = alpha / 3\n",
    "\n",
    "    print('\\nТест между группами', list_groups)\n",
    "\n",
    "    print(f'Среднее {list_groups[0]}:', round(first_group.mean()))\n",
    "    print(f'Среднее {list_groups[1]}:', round(second_group.mean()))\n",
    "\n",
    "    print('p_value:', '{:.3}'.format(p_value))\n",
    "\n",
    "    if p_value > alpha_corr:\n",
    "        print(\n",
    "            f'Результаты теста не противоречат нулевой гипотезе: {hipotesys.get(\"H_0\")}')\n",
    "    else:\n",
    "        print(\n",
    "            f'Отвергаем нул. гипотезу в пользу альтернативной: {hipotesys.get(\"H_1\")}')"
   ]
  },
  {
   "cell_type": "markdown",
   "metadata": {},
   "source": [
    "Созданим кортеж пар груп между которыми будет проведен тест"
   ]
  },
  {
   "cell_type": "code",
   "execution_count": 146,
   "metadata": {},
   "outputs": [],
   "source": [
    "list_pair_group = (('group_1', 'group_2'),\n",
    "                   ('group_1', 'group_3'),\n",
    "                   ('group_2', 'group_3'))"
   ]
  },
  {
   "cell_type": "code",
   "execution_count": 147,
   "metadata": {},
   "outputs": [
    {
     "name": "stdout",
     "output_type": "stream",
     "text": [
      "\n",
      "Тест между группами ('group_1', 'group_2')\n",
      "Среднее group_1: 1689\n",
      "Среднее group_2: 1660\n",
      "p_value: 0.89\n",
      "Результаты теста не противоречат нулевой гипотезе: средние чеки сегментов групп равны\n",
      "\n",
      "Тест между группами ('group_1', 'group_3')\n",
      "Среднее group_1: 1689\n",
      "Среднее group_3: 962\n",
      "p_value: 5.43e-07\n",
      "Отвергаем нул. гипотезу в пользу альтернативной: средние чеки сегментов групп разные\n",
      "\n",
      "Тест между группами ('group_2', 'group_3')\n",
      "Среднее group_2: 1660\n",
      "Среднее group_3: 962\n",
      "p_value: 0.000418\n",
      "Отвергаем нул. гипотезу в пользу альтернативной: средние чеки сегментов групп разные\n"
     ]
    }
   ],
   "source": [
    "for i in list_pair_group:\n",
    "    get_result_ttest(i,\n",
    "                     hipotesys_1,\n",
    "                     table=mean_chek_groups,\n",
    "                     column='mean_chek')"
   ]
  },
  {
   "cell_type": "markdown",
   "metadata": {},
   "source": [
    "Согласно теста, средние чеки    \n",
    "сегмента 1 и сегмента 2 равны"
   ]
  },
  {
   "cell_type": "markdown",
   "metadata": {},
   "source": [
    "## Гипотеза 2. Средняя выручка сегментов групп равны"
   ]
  },
  {
   "cell_type": "markdown",
   "metadata": {},
   "source": [
    "Сформулируем гипотезы "
   ]
  },
  {
   "cell_type": "code",
   "execution_count": 148,
   "metadata": {},
   "outputs": [],
   "source": [
    "hipotesys_2 = dict(H_0='средние выручки сегментов групп равны',\n",
    "                   H_1='средние выручки сегментов групп разные')"
   ]
  },
  {
   "cell_type": "markdown",
   "metadata": {},
   "source": [
    "Далее приготовим данные - найдем среднюю выручку для каждого пользователя"
   ]
  },
  {
   "cell_type": "code",
   "execution_count": 149,
   "metadata": {},
   "outputs": [
    {
     "data": {
      "text/html": [
       "<div>\n",
       "<style scoped>\n",
       "    .dataframe tbody tr th:only-of-type {\n",
       "        vertical-align: middle;\n",
       "    }\n",
       "\n",
       "    .dataframe tbody tr th {\n",
       "        vertical-align: top;\n",
       "    }\n",
       "\n",
       "    .dataframe thead th {\n",
       "        text-align: right;\n",
       "    }\n",
       "</style>\n",
       "<table border=\"1\" class=\"dataframe\">\n",
       "  <thead>\n",
       "    <tr style=\"text-align: right;\">\n",
       "      <th></th>\n",
       "      <th>major_group</th>\n",
       "      <th>customer_id</th>\n",
       "      <th>revenue</th>\n",
       "      <th>count_customer</th>\n",
       "      <th>mean_revenue</th>\n",
       "    </tr>\n",
       "  </thead>\n",
       "  <tbody>\n",
       "    <tr>\n",
       "      <th>0</th>\n",
       "      <td>group_1</td>\n",
       "      <td>001cee7f-0b29-4716-b202-0042213ab038</td>\n",
       "      <td>442.0</td>\n",
       "      <td>1</td>\n",
       "      <td>442.0</td>\n",
       "    </tr>\n",
       "    <tr>\n",
       "      <th>1</th>\n",
       "      <td>group_1</td>\n",
       "      <td>002d4d3a-4a59-406b-86ec-c3314357e498</td>\n",
       "      <td>1649.0</td>\n",
       "      <td>1</td>\n",
       "      <td>1649.0</td>\n",
       "    </tr>\n",
       "    <tr>\n",
       "      <th>2</th>\n",
       "      <td>group_1</td>\n",
       "      <td>004d24e9-4a6c-4d0e-8727-8391dfd4b43a</td>\n",
       "      <td>1536.0</td>\n",
       "      <td>12</td>\n",
       "      <td>128.0</td>\n",
       "    </tr>\n",
       "    <tr>\n",
       "      <th>3</th>\n",
       "      <td>group_1</td>\n",
       "      <td>00bd74b1-2792-47db-a2f1-680a09ac5026</td>\n",
       "      <td>937.0</td>\n",
       "      <td>1</td>\n",
       "      <td>937.0</td>\n",
       "    </tr>\n",
       "    <tr>\n",
       "      <th>4</th>\n",
       "      <td>group_1</td>\n",
       "      <td>018dc738-2846-464d-a421-126a8ed64bc5</td>\n",
       "      <td>940.0</td>\n",
       "      <td>10</td>\n",
       "      <td>94.0</td>\n",
       "    </tr>\n",
       "  </tbody>\n",
       "</table>\n",
       "</div>"
      ],
      "text/plain": [
       "  major_group                           customer_id  revenue  count_customer  \\\n",
       "0     group_1  001cee7f-0b29-4716-b202-0042213ab038    442.0               1   \n",
       "1     group_1  002d4d3a-4a59-406b-86ec-c3314357e498   1649.0               1   \n",
       "2     group_1  004d24e9-4a6c-4d0e-8727-8391dfd4b43a   1536.0              12   \n",
       "3     group_1  00bd74b1-2792-47db-a2f1-680a09ac5026    937.0               1   \n",
       "4     group_1  018dc738-2846-464d-a421-126a8ed64bc5    940.0              10   \n",
       "\n",
       "   mean_revenue  \n",
       "0         442.0  \n",
       "1        1649.0  \n",
       "2         128.0  \n",
       "3         937.0  \n",
       "4          94.0  "
      ]
     },
     "execution_count": 149,
     "metadata": {},
     "output_type": "execute_result"
    }
   ],
   "source": [
    "mean_revenue_month = (customer_with_group\n",
    "                      .groupby(['major_group', 'customer_id'], as_index=False)\n",
    "                      .aggregate(dict(total_price='sum', quantity='sum'))\n",
    "                      .rename(columns=dict(total_price='revenue', quantity='count_customer')))\n",
    "\n",
    "\n",
    "mean_revenue_month['mean_revenue'] = round(mean_revenue_month['revenue'] /\n",
    "                                           mean_revenue_month['count_customer'])\n",
    "\n",
    "\n",
    "mean_revenue_month.head()"
   ]
  },
  {
   "cell_type": "markdown",
   "metadata": {},
   "source": [
    "Проведем тесты"
   ]
  },
  {
   "cell_type": "code",
   "execution_count": 150,
   "metadata": {},
   "outputs": [
    {
     "name": "stdout",
     "output_type": "stream",
     "text": [
      "\n",
      "Тест между группами ('group_1', 'group_2')\n",
      "Среднее group_1: 650\n",
      "Среднее group_2: 664\n",
      "p_value: 0.79\n",
      "Результаты теста не противоречат нулевой гипотезе: средние выручки сегментов групп равны\n",
      "\n",
      "Тест между группами ('group_1', 'group_3')\n",
      "Среднее group_1: 650\n",
      "Среднее group_3: 818\n",
      "p_value: 0.000303\n",
      "Отвергаем нул. гипотезу в пользу альтернативной: средние выручки сегментов групп разные\n",
      "\n",
      "Тест между группами ('group_2', 'group_3')\n",
      "Среднее group_2: 664\n",
      "Среднее group_3: 818\n",
      "p_value: 0.00347\n",
      "Отвергаем нул. гипотезу в пользу альтернативной: средние выручки сегментов групп разные\n"
     ]
    }
   ],
   "source": [
    "for i in list_pair_group:\n",
    "    get_result_ttest(i,\n",
    "                     hipotesys_2,\n",
    "                     table=mean_revenue_month,\n",
    "                     column='mean_revenue')"
   ]
  },
  {
   "cell_type": "markdown",
   "metadata": {},
   "source": [
    "Согласно теста, средние выручки   \n",
    "сегмента 2 и сегмента 3 а также   \n",
    "сегмента 1 и сегмента 3   \n",
    "разные."
   ]
  },
  {
   "cell_type": "markdown",
   "metadata": {},
   "source": [
    "# Общий вывод"
   ]
  },
  {
   "cell_type": "markdown",
   "metadata": {},
   "source": [
    "Декомпозировав, и совершив предобработку данных, вкдючающую в себя:  \n",
    "- проверку на пропуски,  \n",
    "- проверку типов данных, \n",
    "- форматирование названий столбцов, \n",
    "- проверка на явные и неявные дубликаты,  \n",
    "- устранение неявных дубликатов,  \n",
    "- приведение даты к нужному формату и виду.\n",
    "\n",
    "Затем произвели исследовательский анализ данных и выяснили, \n",
    "- за какой период взяты двнные  \n",
    "- изучили данные на выбросы и устранили их  \n",
    "- Изучили динамику выручки, среднего чека и средней выручки  \n",
    "- Сегментировали пользователей на основе исории покупок при помощи RFM анализа   \n",
    "- Изучили средний чек сегментов пользователей.  \n",
    "- Изучили какие категории товаров покупаются в сегментах  \n",
    "- Произвыели анализ сезонности товаров в разрезе сегментов покупателей и проверили гипотезы о средних чеках сегментов и средних выручках сегментов.  \n",
    "\n",
    "Обнаружили и нашли, что: \n",
    " - данные взяты за период 2018-10-01 - 2020-01-31   \n",
    " - Проверили данные на выбросы и устранили их во избежание искажения данных  \n",
    " - Построили динамику выручки за предоставленный период  \n",
    "и выяснили  , что:   \n",
    "в Июне 2019 средняя выручка высокая - значит закупаются клиенты которые знакомы с интернет-магазиноом и знают что покупать в этолт месяц .\n",
    "- При помощи RFM анализа выяснили что много  постоянных клиеты, недавних клиенты, редких покупателей/ушедших.   \n",
    "\n",
    " - группа 1 (ушедщие пользователи) имеют средний чек выше ,чем у постоянных пользователей(группа 3) с октября по апрель - покупают на большие суммы за меньшее число заказов. А в группе 2 (неактивные пользователи) просаживается средний чек в марте - то есть они совершают много заказов. У постоянных пользователей средний чек скачет в марте, июне , сентябре и декабре - совершают дорогие покупки за меньшее число заказов.\n",
    "\n",
    "-Для группы 1 (ушедшие пользователи) характерны товары: рассада, хозтовары, посуда и товары для кухни, декор.  \n",
    "Для группы 2 (неактивные пользователи) характерны покупки в виде рассады и расстения и хозтовары.  \n",
    "Для группы 3 (постоянные покупатели) характерны покупки хозтоваров и также рассады и растений (но меньше чем в других сегиентах).\n",
    "  \n",
    "- первый сегмент активно закупался рассадой и растениями в октябре,феврале и марте. Также приобретал товары для декора - много в ноябре и феврале.Фурнитура больше приобретается в октябре и декабре. Посуда и товары для кухни чаще приобретаются в декабре.  \n",
    "\n",
    "- Сегмент 2(неактивные пользователи). Активно закупаются рассадой и растениями особенно в апреле и июнь. В мае заказывали для декора больше чем за предстиавленный период. В июне приобретают больше хозтоваров.\n",
    "\n",
    "- Сегмент 3 (постоянные покупатели). Активно приобретают растения и хозтовары в октябре-декабе и январе.   \n",
    "В остальные месяцы менее активны,но продолжают приобретать хозтовары. В Октябре Активно приобретают фурнитуру и товары для декора.\n",
    "\n",
    "\n",
    "- выяснили что средние чеки ушедших клиентов и неактивных клиентов равны   \n",
    "- средние выручки ушедших пользователей и неактивных пользователей равны. \n",
    "\n",
    "\n",
    "\n",
    "\n"
   ]
  },
  {
   "cell_type": "markdown",
   "metadata": {},
   "source": [
    "Рекомендации:   \n",
    "отправлять рассылки рекламных предложениях для разных сегментов по месяцам о категориях товаров.    \n",
    "Ниже приведены месяца и категории товаров для каждого сегмента.   \n",
    "\n",
    "\n",
    "Ушедшие (Сегмент 1)  \n",
    "Январь - рассылать о рассаде, хозтоварах   \n",
    "Февраль - рассада,хозтовары, декор   \n",
    "март - рассада, хозтовапры   \n",
    "апрель - рассада и хозтовары    \n",
    "Октябрь - рассада, хозтовары, фурнитура  \n",
    "Ноябрь  - декор, хозтовары, рассада   \n",
    "Декабрь - хозтовары, фурнитура, товары для кухни     \n",
    "\n",
    "\n"
   ]
  },
  {
   "cell_type": "markdown",
   "metadata": {},
   "source": [
    "Неактивные ( Сегмент 2)  \n",
    "\n",
    "апрель - рассада    \n",
    "май - рассада + декор   \n",
    "июнь - рассада и хозтовары   \n",
    "июль - рассада и хозтовары   \n",
    "август - рассада и хозтовары,   \n",
    "сентябрь - товары для кухни  \n",
    "октябрь - рассада  \n"
   ]
  },
  {
   "cell_type": "markdown",
   "metadata": {},
   "source": [
    "Постоянные пользователи (Сегмент 3)    \n",
    "Январь - рассада и хозтовары, товары для кухни   \n",
    "Февраль - рассада и хозтовары   \n",
    "Март - рассада и хозтовары   \n",
    "Апрель - рассада и хозтовары   \n",
    "Май - хозтовары   \n",
    "Июнь  - хозтовары   \n",
    "Июль - хозтовары   \n",
    "Август - хозтовары   \n",
    "Сентябрь - хозтовары и рассада   \n",
    "\n",
    "Октябрь - хозтовары, рассада, фурнитура   \n",
    "Ноябрь - рассада, хозтовары, товары для кухни     \n",
    "Декабрь - хозтовары и рассада + товары для кухни        "
   ]
  }
 ],
 "metadata": {
  "ExecuteTimeLog": [
   {
    "duration": 1032,
    "start_time": "2024-12-23T10:20:22.084Z"
   },
   {
    "duration": 101,
    "start_time": "2024-12-23T10:20:23.118Z"
   },
   {
    "duration": 0,
    "start_time": "2024-12-23T10:20:23.227Z"
   },
   {
    "duration": 0,
    "start_time": "2024-12-23T10:20:23.228Z"
   },
   {
    "duration": 0,
    "start_time": "2024-12-23T10:20:23.230Z"
   },
   {
    "duration": 0,
    "start_time": "2024-12-23T10:20:23.231Z"
   },
   {
    "duration": 0,
    "start_time": "2024-12-23T10:20:23.233Z"
   },
   {
    "duration": 0,
    "start_time": "2024-12-23T10:20:23.234Z"
   },
   {
    "duration": 0,
    "start_time": "2024-12-23T10:20:23.235Z"
   },
   {
    "duration": 0,
    "start_time": "2024-12-23T10:20:23.236Z"
   },
   {
    "duration": 0,
    "start_time": "2024-12-23T10:20:23.237Z"
   },
   {
    "duration": 0,
    "start_time": "2024-12-23T10:20:23.238Z"
   },
   {
    "duration": 0,
    "start_time": "2024-12-23T10:20:23.239Z"
   },
   {
    "duration": 0,
    "start_time": "2024-12-23T10:20:23.240Z"
   },
   {
    "duration": 0,
    "start_time": "2024-12-23T10:20:23.241Z"
   },
   {
    "duration": 0,
    "start_time": "2024-12-23T10:20:23.242Z"
   },
   {
    "duration": 0,
    "start_time": "2024-12-23T10:20:23.243Z"
   },
   {
    "duration": 0,
    "start_time": "2024-12-23T10:20:23.244Z"
   },
   {
    "duration": 0,
    "start_time": "2024-12-23T10:20:23.246Z"
   },
   {
    "duration": 0,
    "start_time": "2024-12-23T10:20:23.247Z"
   },
   {
    "duration": 0,
    "start_time": "2024-12-23T10:20:23.248Z"
   },
   {
    "duration": 0,
    "start_time": "2024-12-23T10:20:23.249Z"
   },
   {
    "duration": 0,
    "start_time": "2024-12-23T10:20:23.250Z"
   },
   {
    "duration": 0,
    "start_time": "2024-12-23T10:20:23.251Z"
   },
   {
    "duration": 0,
    "start_time": "2024-12-23T10:20:23.252Z"
   },
   {
    "duration": 0,
    "start_time": "2024-12-23T10:20:23.253Z"
   },
   {
    "duration": 0,
    "start_time": "2024-12-23T10:20:23.254Z"
   },
   {
    "duration": 0,
    "start_time": "2024-12-23T10:20:23.255Z"
   },
   {
    "duration": 0,
    "start_time": "2024-12-23T10:20:23.256Z"
   },
   {
    "duration": 0,
    "start_time": "2024-12-23T10:20:23.257Z"
   },
   {
    "duration": 0,
    "start_time": "2024-12-23T10:20:23.258Z"
   },
   {
    "duration": 0,
    "start_time": "2024-12-23T10:20:23.259Z"
   },
   {
    "duration": 0,
    "start_time": "2024-12-23T10:20:23.261Z"
   },
   {
    "duration": 0,
    "start_time": "2024-12-23T10:20:23.317Z"
   },
   {
    "duration": 0,
    "start_time": "2024-12-23T10:20:23.319Z"
   },
   {
    "duration": 0,
    "start_time": "2024-12-23T10:20:23.320Z"
   },
   {
    "duration": 0,
    "start_time": "2024-12-23T10:20:23.322Z"
   },
   {
    "duration": 0,
    "start_time": "2024-12-23T10:20:23.324Z"
   },
   {
    "duration": 0,
    "start_time": "2024-12-23T10:20:23.325Z"
   },
   {
    "duration": 0,
    "start_time": "2024-12-23T10:20:23.326Z"
   },
   {
    "duration": 0,
    "start_time": "2024-12-23T10:20:23.328Z"
   },
   {
    "duration": 0,
    "start_time": "2024-12-23T10:20:23.330Z"
   },
   {
    "duration": 0,
    "start_time": "2024-12-23T10:20:23.331Z"
   },
   {
    "duration": 1,
    "start_time": "2024-12-23T10:20:23.332Z"
   },
   {
    "duration": 0,
    "start_time": "2024-12-23T10:20:23.334Z"
   },
   {
    "duration": 0,
    "start_time": "2024-12-23T10:20:23.335Z"
   },
   {
    "duration": 0,
    "start_time": "2024-12-23T10:20:23.337Z"
   },
   {
    "duration": 0,
    "start_time": "2024-12-23T10:20:23.338Z"
   },
   {
    "duration": 0,
    "start_time": "2024-12-23T10:20:23.339Z"
   },
   {
    "duration": 0,
    "start_time": "2024-12-23T10:20:23.341Z"
   },
   {
    "duration": 0,
    "start_time": "2024-12-23T10:20:23.343Z"
   },
   {
    "duration": 0,
    "start_time": "2024-12-23T10:20:23.344Z"
   },
   {
    "duration": 0,
    "start_time": "2024-12-23T10:20:23.346Z"
   },
   {
    "duration": 0,
    "start_time": "2024-12-23T10:20:23.347Z"
   },
   {
    "duration": 0,
    "start_time": "2024-12-23T10:20:23.349Z"
   },
   {
    "duration": 0,
    "start_time": "2024-12-23T10:20:23.350Z"
   },
   {
    "duration": 0,
    "start_time": "2024-12-23T10:20:23.351Z"
   },
   {
    "duration": 0,
    "start_time": "2024-12-23T10:20:23.352Z"
   },
   {
    "duration": 0,
    "start_time": "2024-12-23T10:20:23.353Z"
   },
   {
    "duration": 0,
    "start_time": "2024-12-23T10:20:23.354Z"
   },
   {
    "duration": 0,
    "start_time": "2024-12-23T10:20:23.355Z"
   },
   {
    "duration": 0,
    "start_time": "2024-12-23T10:20:23.356Z"
   },
   {
    "duration": 0,
    "start_time": "2024-12-23T10:20:23.357Z"
   },
   {
    "duration": 0,
    "start_time": "2024-12-23T10:20:23.415Z"
   },
   {
    "duration": 0,
    "start_time": "2024-12-23T10:20:23.416Z"
   },
   {
    "duration": 1,
    "start_time": "2024-12-23T10:20:23.416Z"
   },
   {
    "duration": 0,
    "start_time": "2024-12-23T10:20:23.417Z"
   },
   {
    "duration": 0,
    "start_time": "2024-12-23T10:20:23.418Z"
   },
   {
    "duration": 0,
    "start_time": "2024-12-23T10:20:23.419Z"
   },
   {
    "duration": 0,
    "start_time": "2024-12-23T10:20:23.420Z"
   },
   {
    "duration": 0,
    "start_time": "2024-12-23T10:20:23.421Z"
   },
   {
    "duration": 0,
    "start_time": "2024-12-23T10:20:23.421Z"
   },
   {
    "duration": 0,
    "start_time": "2024-12-23T10:20:23.425Z"
   },
   {
    "duration": 0,
    "start_time": "2024-12-23T10:20:23.426Z"
   },
   {
    "duration": 0,
    "start_time": "2024-12-23T10:20:23.427Z"
   },
   {
    "duration": 0,
    "start_time": "2024-12-23T10:20:23.429Z"
   },
   {
    "duration": 0,
    "start_time": "2024-12-23T10:20:23.430Z"
   },
   {
    "duration": 1047,
    "start_time": "2024-12-23T10:21:58.040Z"
   },
   {
    "duration": 110,
    "start_time": "2024-12-23T10:21:59.089Z"
   },
   {
    "duration": 0,
    "start_time": "2024-12-23T10:21:59.203Z"
   },
   {
    "duration": 0,
    "start_time": "2024-12-23T10:21:59.204Z"
   },
   {
    "duration": 0,
    "start_time": "2024-12-23T10:21:59.205Z"
   },
   {
    "duration": 0,
    "start_time": "2024-12-23T10:21:59.214Z"
   },
   {
    "duration": 0,
    "start_time": "2024-12-23T10:21:59.215Z"
   },
   {
    "duration": 0,
    "start_time": "2024-12-23T10:21:59.217Z"
   },
   {
    "duration": 0,
    "start_time": "2024-12-23T10:21:59.218Z"
   },
   {
    "duration": 0,
    "start_time": "2024-12-23T10:21:59.220Z"
   },
   {
    "duration": 0,
    "start_time": "2024-12-23T10:21:59.221Z"
   },
   {
    "duration": 0,
    "start_time": "2024-12-23T10:21:59.222Z"
   },
   {
    "duration": 0,
    "start_time": "2024-12-23T10:21:59.224Z"
   },
   {
    "duration": 0,
    "start_time": "2024-12-23T10:21:59.225Z"
   },
   {
    "duration": 0,
    "start_time": "2024-12-23T10:21:59.227Z"
   },
   {
    "duration": 0,
    "start_time": "2024-12-23T10:21:59.228Z"
   },
   {
    "duration": 0,
    "start_time": "2024-12-23T10:21:59.230Z"
   },
   {
    "duration": 0,
    "start_time": "2024-12-23T10:21:59.231Z"
   },
   {
    "duration": 0,
    "start_time": "2024-12-23T10:21:59.233Z"
   },
   {
    "duration": 0,
    "start_time": "2024-12-23T10:21:59.234Z"
   },
   {
    "duration": 0,
    "start_time": "2024-12-23T10:21:59.236Z"
   },
   {
    "duration": 0,
    "start_time": "2024-12-23T10:21:59.237Z"
   },
   {
    "duration": 0,
    "start_time": "2024-12-23T10:21:59.239Z"
   },
   {
    "duration": 0,
    "start_time": "2024-12-23T10:21:59.240Z"
   },
   {
    "duration": 1,
    "start_time": "2024-12-23T10:21:59.241Z"
   },
   {
    "duration": 0,
    "start_time": "2024-12-23T10:21:59.243Z"
   },
   {
    "duration": 0,
    "start_time": "2024-12-23T10:21:59.244Z"
   },
   {
    "duration": 0,
    "start_time": "2024-12-23T10:21:59.245Z"
   },
   {
    "duration": 1,
    "start_time": "2024-12-23T10:21:59.246Z"
   },
   {
    "duration": 0,
    "start_time": "2024-12-23T10:21:59.248Z"
   },
   {
    "duration": 0,
    "start_time": "2024-12-23T10:21:59.249Z"
   },
   {
    "duration": 0,
    "start_time": "2024-12-23T10:21:59.250Z"
   },
   {
    "duration": 0,
    "start_time": "2024-12-23T10:21:59.252Z"
   },
   {
    "duration": 0,
    "start_time": "2024-12-23T10:21:59.253Z"
   },
   {
    "duration": 0,
    "start_time": "2024-12-23T10:21:59.254Z"
   },
   {
    "duration": 0,
    "start_time": "2024-12-23T10:21:59.256Z"
   },
   {
    "duration": 0,
    "start_time": "2024-12-23T10:21:59.257Z"
   },
   {
    "duration": 0,
    "start_time": "2024-12-23T10:21:59.258Z"
   },
   {
    "duration": 0,
    "start_time": "2024-12-23T10:21:59.260Z"
   },
   {
    "duration": 0,
    "start_time": "2024-12-23T10:21:59.261Z"
   },
   {
    "duration": 0,
    "start_time": "2024-12-23T10:21:59.315Z"
   },
   {
    "duration": 0,
    "start_time": "2024-12-23T10:21:59.322Z"
   },
   {
    "duration": 0,
    "start_time": "2024-12-23T10:21:59.325Z"
   },
   {
    "duration": 0,
    "start_time": "2024-12-23T10:21:59.327Z"
   },
   {
    "duration": 0,
    "start_time": "2024-12-23T10:21:59.329Z"
   },
   {
    "duration": 0,
    "start_time": "2024-12-23T10:21:59.332Z"
   },
   {
    "duration": 0,
    "start_time": "2024-12-23T10:21:59.334Z"
   },
   {
    "duration": 0,
    "start_time": "2024-12-23T10:21:59.336Z"
   },
   {
    "duration": 0,
    "start_time": "2024-12-23T10:21:59.337Z"
   },
   {
    "duration": 0,
    "start_time": "2024-12-23T10:21:59.339Z"
   },
   {
    "duration": 0,
    "start_time": "2024-12-23T10:21:59.340Z"
   },
   {
    "duration": 0,
    "start_time": "2024-12-23T10:21:59.341Z"
   },
   {
    "duration": 0,
    "start_time": "2024-12-23T10:21:59.343Z"
   },
   {
    "duration": 0,
    "start_time": "2024-12-23T10:21:59.345Z"
   },
   {
    "duration": 0,
    "start_time": "2024-12-23T10:21:59.346Z"
   },
   {
    "duration": 0,
    "start_time": "2024-12-23T10:21:59.348Z"
   },
   {
    "duration": 0,
    "start_time": "2024-12-23T10:21:59.350Z"
   },
   {
    "duration": 0,
    "start_time": "2024-12-23T10:21:59.351Z"
   },
   {
    "duration": 0,
    "start_time": "2024-12-23T10:21:59.353Z"
   },
   {
    "duration": 0,
    "start_time": "2024-12-23T10:21:59.354Z"
   },
   {
    "duration": 0,
    "start_time": "2024-12-23T10:21:59.356Z"
   },
   {
    "duration": 1,
    "start_time": "2024-12-23T10:21:59.415Z"
   },
   {
    "duration": 0,
    "start_time": "2024-12-23T10:21:59.417Z"
   },
   {
    "duration": 0,
    "start_time": "2024-12-23T10:21:59.419Z"
   },
   {
    "duration": 0,
    "start_time": "2024-12-23T10:21:59.420Z"
   },
   {
    "duration": 0,
    "start_time": "2024-12-23T10:21:59.422Z"
   },
   {
    "duration": 0,
    "start_time": "2024-12-23T10:21:59.424Z"
   },
   {
    "duration": 0,
    "start_time": "2024-12-23T10:21:59.427Z"
   },
   {
    "duration": 0,
    "start_time": "2024-12-23T10:21:59.429Z"
   },
   {
    "duration": 0,
    "start_time": "2024-12-23T10:21:59.430Z"
   },
   {
    "duration": 0,
    "start_time": "2024-12-23T10:21:59.432Z"
   },
   {
    "duration": 0,
    "start_time": "2024-12-23T10:21:59.433Z"
   },
   {
    "duration": 0,
    "start_time": "2024-12-23T10:21:59.435Z"
   },
   {
    "duration": 0,
    "start_time": "2024-12-23T10:21:59.436Z"
   },
   {
    "duration": 0,
    "start_time": "2024-12-23T10:21:59.437Z"
   },
   {
    "duration": 0,
    "start_time": "2024-12-23T10:21:59.438Z"
   },
   {
    "duration": 0,
    "start_time": "2024-12-23T10:21:59.439Z"
   },
   {
    "duration": 50344,
    "start_time": "2024-12-23T10:22:14.016Z"
   },
   {
    "duration": 1072,
    "start_time": "2024-12-23T10:23:12.912Z"
   },
   {
    "duration": 102,
    "start_time": "2024-12-23T10:23:13.986Z"
   },
   {
    "duration": 0,
    "start_time": "2024-12-23T10:23:14.092Z"
   },
   {
    "duration": 0,
    "start_time": "2024-12-23T10:23:14.093Z"
   },
   {
    "duration": 0,
    "start_time": "2024-12-23T10:23:14.095Z"
   },
   {
    "duration": 0,
    "start_time": "2024-12-23T10:23:14.096Z"
   },
   {
    "duration": 0,
    "start_time": "2024-12-23T10:23:14.097Z"
   },
   {
    "duration": 0,
    "start_time": "2024-12-23T10:23:14.098Z"
   },
   {
    "duration": 0,
    "start_time": "2024-12-23T10:23:14.099Z"
   },
   {
    "duration": 0,
    "start_time": "2024-12-23T10:23:14.115Z"
   },
   {
    "duration": 0,
    "start_time": "2024-12-23T10:23:14.116Z"
   },
   {
    "duration": 0,
    "start_time": "2024-12-23T10:23:14.117Z"
   },
   {
    "duration": 0,
    "start_time": "2024-12-23T10:23:14.119Z"
   },
   {
    "duration": 0,
    "start_time": "2024-12-23T10:23:14.120Z"
   },
   {
    "duration": 1,
    "start_time": "2024-12-23T10:23:14.120Z"
   },
   {
    "duration": 0,
    "start_time": "2024-12-23T10:23:14.121Z"
   },
   {
    "duration": 0,
    "start_time": "2024-12-23T10:23:14.123Z"
   },
   {
    "duration": 0,
    "start_time": "2024-12-23T10:23:14.124Z"
   },
   {
    "duration": 0,
    "start_time": "2024-12-23T10:23:14.124Z"
   },
   {
    "duration": 0,
    "start_time": "2024-12-23T10:23:14.125Z"
   },
   {
    "duration": 0,
    "start_time": "2024-12-23T10:23:14.126Z"
   },
   {
    "duration": 0,
    "start_time": "2024-12-23T10:23:14.127Z"
   },
   {
    "duration": 0,
    "start_time": "2024-12-23T10:23:14.128Z"
   },
   {
    "duration": 0,
    "start_time": "2024-12-23T10:23:14.130Z"
   },
   {
    "duration": 0,
    "start_time": "2024-12-23T10:23:14.131Z"
   },
   {
    "duration": 0,
    "start_time": "2024-12-23T10:23:14.132Z"
   },
   {
    "duration": 0,
    "start_time": "2024-12-23T10:23:14.133Z"
   },
   {
    "duration": 0,
    "start_time": "2024-12-23T10:23:14.135Z"
   },
   {
    "duration": 0,
    "start_time": "2024-12-23T10:23:14.137Z"
   },
   {
    "duration": 0,
    "start_time": "2024-12-23T10:23:14.138Z"
   },
   {
    "duration": 0,
    "start_time": "2024-12-23T10:23:14.139Z"
   },
   {
    "duration": 0,
    "start_time": "2024-12-23T10:23:14.140Z"
   },
   {
    "duration": 0,
    "start_time": "2024-12-23T10:23:14.141Z"
   },
   {
    "duration": 0,
    "start_time": "2024-12-23T10:23:14.143Z"
   },
   {
    "duration": 0,
    "start_time": "2024-12-23T10:23:14.143Z"
   },
   {
    "duration": 0,
    "start_time": "2024-12-23T10:23:14.145Z"
   },
   {
    "duration": 0,
    "start_time": "2024-12-23T10:23:14.146Z"
   },
   {
    "duration": 0,
    "start_time": "2024-12-23T10:23:14.147Z"
   },
   {
    "duration": 0,
    "start_time": "2024-12-23T10:23:14.148Z"
   },
   {
    "duration": 0,
    "start_time": "2024-12-23T10:23:14.149Z"
   },
   {
    "duration": 0,
    "start_time": "2024-12-23T10:23:14.150Z"
   },
   {
    "duration": 0,
    "start_time": "2024-12-23T10:23:14.151Z"
   },
   {
    "duration": 0,
    "start_time": "2024-12-23T10:23:14.152Z"
   },
   {
    "duration": 0,
    "start_time": "2024-12-23T10:23:14.153Z"
   },
   {
    "duration": 0,
    "start_time": "2024-12-23T10:23:14.154Z"
   },
   {
    "duration": 0,
    "start_time": "2024-12-23T10:23:14.155Z"
   },
   {
    "duration": 0,
    "start_time": "2024-12-23T10:23:14.221Z"
   },
   {
    "duration": 0,
    "start_time": "2024-12-23T10:23:14.226Z"
   },
   {
    "duration": 0,
    "start_time": "2024-12-23T10:23:14.231Z"
   },
   {
    "duration": 0,
    "start_time": "2024-12-23T10:23:14.232Z"
   },
   {
    "duration": 0,
    "start_time": "2024-12-23T10:23:14.234Z"
   },
   {
    "duration": 0,
    "start_time": "2024-12-23T10:23:14.235Z"
   },
   {
    "duration": 0,
    "start_time": "2024-12-23T10:23:14.238Z"
   },
   {
    "duration": 0,
    "start_time": "2024-12-23T10:23:14.239Z"
   },
   {
    "duration": 0,
    "start_time": "2024-12-23T10:23:14.240Z"
   },
   {
    "duration": 0,
    "start_time": "2024-12-23T10:23:14.241Z"
   },
   {
    "duration": 0,
    "start_time": "2024-12-23T10:23:14.242Z"
   },
   {
    "duration": 0,
    "start_time": "2024-12-23T10:23:14.243Z"
   },
   {
    "duration": 0,
    "start_time": "2024-12-23T10:23:14.244Z"
   },
   {
    "duration": 0,
    "start_time": "2024-12-23T10:23:14.245Z"
   },
   {
    "duration": 0,
    "start_time": "2024-12-23T10:23:14.246Z"
   },
   {
    "duration": 0,
    "start_time": "2024-12-23T10:23:14.247Z"
   },
   {
    "duration": 0,
    "start_time": "2024-12-23T10:23:14.248Z"
   },
   {
    "duration": 0,
    "start_time": "2024-12-23T10:23:14.249Z"
   },
   {
    "duration": 0,
    "start_time": "2024-12-23T10:23:14.250Z"
   },
   {
    "duration": 0,
    "start_time": "2024-12-23T10:23:14.253Z"
   },
   {
    "duration": 0,
    "start_time": "2024-12-23T10:23:14.254Z"
   },
   {
    "duration": 0,
    "start_time": "2024-12-23T10:23:14.255Z"
   },
   {
    "duration": 0,
    "start_time": "2024-12-23T10:23:14.256Z"
   },
   {
    "duration": 0,
    "start_time": "2024-12-23T10:23:14.257Z"
   },
   {
    "duration": 0,
    "start_time": "2024-12-23T10:23:14.258Z"
   },
   {
    "duration": 0,
    "start_time": "2024-12-23T10:23:14.316Z"
   },
   {
    "duration": 0,
    "start_time": "2024-12-23T10:23:14.318Z"
   },
   {
    "duration": 0,
    "start_time": "2024-12-23T10:23:14.319Z"
   },
   {
    "duration": 0,
    "start_time": "2024-12-23T10:23:14.321Z"
   },
   {
    "duration": 0,
    "start_time": "2024-12-23T10:23:14.323Z"
   },
   {
    "duration": 0,
    "start_time": "2024-12-23T10:23:14.325Z"
   },
   {
    "duration": 905,
    "start_time": "2024-12-23T10:26:12.369Z"
   },
   {
    "duration": 84,
    "start_time": "2024-12-23T10:26:13.275Z"
   },
   {
    "duration": 0,
    "start_time": "2024-12-23T10:26:13.363Z"
   },
   {
    "duration": 0,
    "start_time": "2024-12-23T10:26:13.364Z"
   },
   {
    "duration": 0,
    "start_time": "2024-12-23T10:26:13.364Z"
   },
   {
    "duration": 0,
    "start_time": "2024-12-23T10:26:13.365Z"
   },
   {
    "duration": 0,
    "start_time": "2024-12-23T10:26:13.367Z"
   },
   {
    "duration": 0,
    "start_time": "2024-12-23T10:26:13.367Z"
   },
   {
    "duration": 0,
    "start_time": "2024-12-23T10:26:13.368Z"
   },
   {
    "duration": 0,
    "start_time": "2024-12-23T10:26:13.369Z"
   },
   {
    "duration": 0,
    "start_time": "2024-12-23T10:26:13.370Z"
   },
   {
    "duration": 0,
    "start_time": "2024-12-23T10:26:13.371Z"
   },
   {
    "duration": 0,
    "start_time": "2024-12-23T10:26:13.372Z"
   },
   {
    "duration": 0,
    "start_time": "2024-12-23T10:26:13.373Z"
   },
   {
    "duration": 0,
    "start_time": "2024-12-23T10:26:13.374Z"
   },
   {
    "duration": 0,
    "start_time": "2024-12-23T10:26:13.375Z"
   },
   {
    "duration": 0,
    "start_time": "2024-12-23T10:26:13.376Z"
   },
   {
    "duration": 0,
    "start_time": "2024-12-23T10:26:13.377Z"
   },
   {
    "duration": 0,
    "start_time": "2024-12-23T10:26:13.378Z"
   },
   {
    "duration": 0,
    "start_time": "2024-12-23T10:26:13.379Z"
   },
   {
    "duration": 0,
    "start_time": "2024-12-23T10:26:13.380Z"
   },
   {
    "duration": 0,
    "start_time": "2024-12-23T10:26:13.381Z"
   },
   {
    "duration": 0,
    "start_time": "2024-12-23T10:26:13.382Z"
   },
   {
    "duration": 0,
    "start_time": "2024-12-23T10:26:13.383Z"
   },
   {
    "duration": 0,
    "start_time": "2024-12-23T10:26:13.384Z"
   },
   {
    "duration": 0,
    "start_time": "2024-12-23T10:26:13.385Z"
   },
   {
    "duration": 0,
    "start_time": "2024-12-23T10:26:13.422Z"
   },
   {
    "duration": 0,
    "start_time": "2024-12-23T10:26:13.423Z"
   },
   {
    "duration": 0,
    "start_time": "2024-12-23T10:26:13.424Z"
   },
   {
    "duration": 0,
    "start_time": "2024-12-23T10:26:13.425Z"
   },
   {
    "duration": 0,
    "start_time": "2024-12-23T10:26:13.426Z"
   },
   {
    "duration": 0,
    "start_time": "2024-12-23T10:26:13.427Z"
   },
   {
    "duration": 0,
    "start_time": "2024-12-23T10:26:13.428Z"
   },
   {
    "duration": 0,
    "start_time": "2024-12-23T10:26:13.429Z"
   },
   {
    "duration": 0,
    "start_time": "2024-12-23T10:26:13.430Z"
   },
   {
    "duration": 0,
    "start_time": "2024-12-23T10:26:13.431Z"
   },
   {
    "duration": 0,
    "start_time": "2024-12-23T10:26:13.432Z"
   },
   {
    "duration": 0,
    "start_time": "2024-12-23T10:26:13.433Z"
   },
   {
    "duration": 0,
    "start_time": "2024-12-23T10:26:13.434Z"
   },
   {
    "duration": 0,
    "start_time": "2024-12-23T10:26:13.435Z"
   },
   {
    "duration": 0,
    "start_time": "2024-12-23T10:26:13.436Z"
   },
   {
    "duration": 0,
    "start_time": "2024-12-23T10:26:13.437Z"
   },
   {
    "duration": 0,
    "start_time": "2024-12-23T10:26:13.438Z"
   },
   {
    "duration": 0,
    "start_time": "2024-12-23T10:26:13.439Z"
   },
   {
    "duration": 0,
    "start_time": "2024-12-23T10:26:13.440Z"
   },
   {
    "duration": 0,
    "start_time": "2024-12-23T10:26:13.441Z"
   },
   {
    "duration": 0,
    "start_time": "2024-12-23T10:26:13.442Z"
   },
   {
    "duration": 0,
    "start_time": "2024-12-23T10:26:13.443Z"
   },
   {
    "duration": 0,
    "start_time": "2024-12-23T10:26:13.443Z"
   },
   {
    "duration": 0,
    "start_time": "2024-12-23T10:26:13.444Z"
   },
   {
    "duration": 0,
    "start_time": "2024-12-23T10:26:13.445Z"
   },
   {
    "duration": 0,
    "start_time": "2024-12-23T10:26:13.446Z"
   },
   {
    "duration": 0,
    "start_time": "2024-12-23T10:26:13.447Z"
   },
   {
    "duration": 0,
    "start_time": "2024-12-23T10:26:13.447Z"
   },
   {
    "duration": 0,
    "start_time": "2024-12-23T10:26:13.448Z"
   },
   {
    "duration": 0,
    "start_time": "2024-12-23T10:26:13.449Z"
   },
   {
    "duration": 0,
    "start_time": "2024-12-23T10:26:13.450Z"
   },
   {
    "duration": 0,
    "start_time": "2024-12-23T10:26:13.451Z"
   },
   {
    "duration": 0,
    "start_time": "2024-12-23T10:26:13.452Z"
   },
   {
    "duration": 0,
    "start_time": "2024-12-23T10:26:13.453Z"
   },
   {
    "duration": 0,
    "start_time": "2024-12-23T10:26:13.454Z"
   },
   {
    "duration": 0,
    "start_time": "2024-12-23T10:26:13.455Z"
   },
   {
    "duration": 0,
    "start_time": "2024-12-23T10:26:13.456Z"
   },
   {
    "duration": 0,
    "start_time": "2024-12-23T10:26:13.457Z"
   },
   {
    "duration": 0,
    "start_time": "2024-12-23T10:26:13.458Z"
   },
   {
    "duration": 0,
    "start_time": "2024-12-23T10:26:13.522Z"
   },
   {
    "duration": 0,
    "start_time": "2024-12-23T10:26:13.523Z"
   },
   {
    "duration": 0,
    "start_time": "2024-12-23T10:26:13.523Z"
   },
   {
    "duration": 0,
    "start_time": "2024-12-23T10:26:13.524Z"
   },
   {
    "duration": 0,
    "start_time": "2024-12-23T10:26:13.525Z"
   },
   {
    "duration": 0,
    "start_time": "2024-12-23T10:26:13.526Z"
   },
   {
    "duration": 0,
    "start_time": "2024-12-23T10:26:13.527Z"
   },
   {
    "duration": 0,
    "start_time": "2024-12-23T10:26:13.528Z"
   },
   {
    "duration": 1,
    "start_time": "2024-12-23T10:26:13.528Z"
   },
   {
    "duration": 0,
    "start_time": "2024-12-23T10:26:13.530Z"
   },
   {
    "duration": 0,
    "start_time": "2024-12-23T10:26:13.530Z"
   },
   {
    "duration": 0,
    "start_time": "2024-12-23T10:26:13.531Z"
   },
   {
    "duration": 7,
    "start_time": "2024-12-23T10:27:47.584Z"
   },
   {
    "duration": 9,
    "start_time": "2024-12-23T10:27:57.524Z"
   },
   {
    "duration": 7,
    "start_time": "2024-12-23T10:28:47.512Z"
   },
   {
    "duration": 8,
    "start_time": "2024-12-23T10:29:03.064Z"
   },
   {
    "duration": 922,
    "start_time": "2024-12-23T10:29:18.635Z"
   },
   {
    "duration": 83,
    "start_time": "2024-12-23T10:29:19.559Z"
   },
   {
    "duration": 0,
    "start_time": "2024-12-23T10:29:19.646Z"
   },
   {
    "duration": 0,
    "start_time": "2024-12-23T10:29:19.647Z"
   },
   {
    "duration": 0,
    "start_time": "2024-12-23T10:29:19.649Z"
   },
   {
    "duration": 1,
    "start_time": "2024-12-23T10:29:19.649Z"
   },
   {
    "duration": 0,
    "start_time": "2024-12-23T10:29:19.650Z"
   },
   {
    "duration": 0,
    "start_time": "2024-12-23T10:29:19.651Z"
   },
   {
    "duration": 0,
    "start_time": "2024-12-23T10:29:19.652Z"
   },
   {
    "duration": 0,
    "start_time": "2024-12-23T10:29:19.653Z"
   },
   {
    "duration": 0,
    "start_time": "2024-12-23T10:29:19.654Z"
   },
   {
    "duration": 0,
    "start_time": "2024-12-23T10:29:19.655Z"
   },
   {
    "duration": 0,
    "start_time": "2024-12-23T10:29:19.656Z"
   },
   {
    "duration": 0,
    "start_time": "2024-12-23T10:29:19.657Z"
   },
   {
    "duration": 0,
    "start_time": "2024-12-23T10:29:19.657Z"
   },
   {
    "duration": 0,
    "start_time": "2024-12-23T10:29:19.658Z"
   },
   {
    "duration": 0,
    "start_time": "2024-12-23T10:29:19.659Z"
   },
   {
    "duration": 0,
    "start_time": "2024-12-23T10:29:19.660Z"
   },
   {
    "duration": 0,
    "start_time": "2024-12-23T10:29:19.661Z"
   },
   {
    "duration": 0,
    "start_time": "2024-12-23T10:29:19.662Z"
   },
   {
    "duration": 0,
    "start_time": "2024-12-23T10:29:19.663Z"
   },
   {
    "duration": 0,
    "start_time": "2024-12-23T10:29:19.664Z"
   },
   {
    "duration": 0,
    "start_time": "2024-12-23T10:29:19.665Z"
   },
   {
    "duration": 0,
    "start_time": "2024-12-23T10:29:19.666Z"
   },
   {
    "duration": 0,
    "start_time": "2024-12-23T10:29:19.666Z"
   },
   {
    "duration": 0,
    "start_time": "2024-12-23T10:29:19.667Z"
   },
   {
    "duration": 0,
    "start_time": "2024-12-23T10:29:19.668Z"
   },
   {
    "duration": 0,
    "start_time": "2024-12-23T10:29:19.669Z"
   },
   {
    "duration": 0,
    "start_time": "2024-12-23T10:29:19.670Z"
   },
   {
    "duration": 0,
    "start_time": "2024-12-23T10:29:19.671Z"
   },
   {
    "duration": 0,
    "start_time": "2024-12-23T10:29:19.672Z"
   },
   {
    "duration": 0,
    "start_time": "2024-12-23T10:29:19.673Z"
   },
   {
    "duration": 0,
    "start_time": "2024-12-23T10:29:19.674Z"
   },
   {
    "duration": 0,
    "start_time": "2024-12-23T10:29:19.722Z"
   },
   {
    "duration": 0,
    "start_time": "2024-12-23T10:29:19.722Z"
   },
   {
    "duration": 0,
    "start_time": "2024-12-23T10:29:19.723Z"
   },
   {
    "duration": 0,
    "start_time": "2024-12-23T10:29:19.724Z"
   },
   {
    "duration": 0,
    "start_time": "2024-12-23T10:29:19.725Z"
   },
   {
    "duration": 0,
    "start_time": "2024-12-23T10:29:19.726Z"
   },
   {
    "duration": 0,
    "start_time": "2024-12-23T10:29:19.727Z"
   },
   {
    "duration": 0,
    "start_time": "2024-12-23T10:29:19.728Z"
   },
   {
    "duration": 0,
    "start_time": "2024-12-23T10:29:19.729Z"
   },
   {
    "duration": 0,
    "start_time": "2024-12-23T10:29:19.730Z"
   },
   {
    "duration": 0,
    "start_time": "2024-12-23T10:29:19.731Z"
   },
   {
    "duration": 0,
    "start_time": "2024-12-23T10:29:19.732Z"
   },
   {
    "duration": 0,
    "start_time": "2024-12-23T10:29:19.733Z"
   },
   {
    "duration": 0,
    "start_time": "2024-12-23T10:29:19.734Z"
   },
   {
    "duration": 0,
    "start_time": "2024-12-23T10:29:19.735Z"
   },
   {
    "duration": 1,
    "start_time": "2024-12-23T10:29:19.735Z"
   },
   {
    "duration": 0,
    "start_time": "2024-12-23T10:29:19.736Z"
   },
   {
    "duration": 0,
    "start_time": "2024-12-23T10:29:19.737Z"
   },
   {
    "duration": 0,
    "start_time": "2024-12-23T10:29:19.738Z"
   },
   {
    "duration": 0,
    "start_time": "2024-12-23T10:29:19.739Z"
   },
   {
    "duration": 0,
    "start_time": "2024-12-23T10:29:19.739Z"
   },
   {
    "duration": 0,
    "start_time": "2024-12-23T10:29:19.741Z"
   },
   {
    "duration": 0,
    "start_time": "2024-12-23T10:29:19.741Z"
   },
   {
    "duration": 0,
    "start_time": "2024-12-23T10:29:19.743Z"
   },
   {
    "duration": 0,
    "start_time": "2024-12-23T10:29:19.743Z"
   },
   {
    "duration": 0,
    "start_time": "2024-12-23T10:29:19.744Z"
   },
   {
    "duration": 0,
    "start_time": "2024-12-23T10:29:19.745Z"
   },
   {
    "duration": 0,
    "start_time": "2024-12-23T10:29:19.746Z"
   },
   {
    "duration": 0,
    "start_time": "2024-12-23T10:29:19.746Z"
   },
   {
    "duration": 0,
    "start_time": "2024-12-23T10:29:19.747Z"
   },
   {
    "duration": 0,
    "start_time": "2024-12-23T10:29:19.748Z"
   },
   {
    "duration": 0,
    "start_time": "2024-12-23T10:29:19.749Z"
   },
   {
    "duration": 0,
    "start_time": "2024-12-23T10:29:19.750Z"
   },
   {
    "duration": 0,
    "start_time": "2024-12-23T10:29:19.751Z"
   },
   {
    "duration": 0,
    "start_time": "2024-12-23T10:29:19.751Z"
   },
   {
    "duration": 0,
    "start_time": "2024-12-23T10:29:19.752Z"
   },
   {
    "duration": 0,
    "start_time": "2024-12-23T10:29:19.753Z"
   },
   {
    "duration": 0,
    "start_time": "2024-12-23T10:29:19.754Z"
   },
   {
    "duration": 0,
    "start_time": "2024-12-23T10:29:19.755Z"
   },
   {
    "duration": 0,
    "start_time": "2024-12-23T10:29:19.756Z"
   },
   {
    "duration": 0,
    "start_time": "2024-12-23T10:29:19.756Z"
   },
   {
    "duration": 0,
    "start_time": "2024-12-23T10:29:19.757Z"
   },
   {
    "duration": 0,
    "start_time": "2024-12-23T10:29:19.822Z"
   },
   {
    "duration": 0,
    "start_time": "2024-12-23T10:29:19.822Z"
   },
   {
    "duration": 924,
    "start_time": "2024-12-23T10:29:40.728Z"
   },
   {
    "duration": 81,
    "start_time": "2024-12-23T10:29:41.654Z"
   },
   {
    "duration": 0,
    "start_time": "2024-12-23T10:29:41.739Z"
   },
   {
    "duration": 0,
    "start_time": "2024-12-23T10:29:41.740Z"
   },
   {
    "duration": 0,
    "start_time": "2024-12-23T10:29:41.741Z"
   },
   {
    "duration": 0,
    "start_time": "2024-12-23T10:29:41.742Z"
   },
   {
    "duration": 0,
    "start_time": "2024-12-23T10:29:41.742Z"
   },
   {
    "duration": 0,
    "start_time": "2024-12-23T10:29:41.743Z"
   },
   {
    "duration": 0,
    "start_time": "2024-12-23T10:29:41.744Z"
   },
   {
    "duration": 0,
    "start_time": "2024-12-23T10:29:41.745Z"
   },
   {
    "duration": 0,
    "start_time": "2024-12-23T10:29:41.746Z"
   },
   {
    "duration": 0,
    "start_time": "2024-12-23T10:29:41.747Z"
   },
   {
    "duration": 0,
    "start_time": "2024-12-23T10:29:41.748Z"
   },
   {
    "duration": 0,
    "start_time": "2024-12-23T10:29:41.748Z"
   },
   {
    "duration": 0,
    "start_time": "2024-12-23T10:29:41.749Z"
   },
   {
    "duration": 0,
    "start_time": "2024-12-23T10:29:41.750Z"
   },
   {
    "duration": 0,
    "start_time": "2024-12-23T10:29:41.751Z"
   },
   {
    "duration": 0,
    "start_time": "2024-12-23T10:29:41.752Z"
   },
   {
    "duration": 0,
    "start_time": "2024-12-23T10:29:41.753Z"
   },
   {
    "duration": 0,
    "start_time": "2024-12-23T10:29:41.754Z"
   },
   {
    "duration": 0,
    "start_time": "2024-12-23T10:29:41.755Z"
   },
   {
    "duration": 0,
    "start_time": "2024-12-23T10:29:41.756Z"
   },
   {
    "duration": 0,
    "start_time": "2024-12-23T10:29:41.757Z"
   },
   {
    "duration": 0,
    "start_time": "2024-12-23T10:29:41.758Z"
   },
   {
    "duration": 0,
    "start_time": "2024-12-23T10:29:41.759Z"
   },
   {
    "duration": 0,
    "start_time": "2024-12-23T10:29:41.759Z"
   },
   {
    "duration": 0,
    "start_time": "2024-12-23T10:29:41.760Z"
   },
   {
    "duration": 0,
    "start_time": "2024-12-23T10:29:41.761Z"
   },
   {
    "duration": 0,
    "start_time": "2024-12-23T10:29:41.762Z"
   },
   {
    "duration": 0,
    "start_time": "2024-12-23T10:29:41.763Z"
   },
   {
    "duration": 0,
    "start_time": "2024-12-23T10:29:41.764Z"
   },
   {
    "duration": 0,
    "start_time": "2024-12-23T10:29:41.765Z"
   },
   {
    "duration": 0,
    "start_time": "2024-12-23T10:29:41.766Z"
   },
   {
    "duration": 0,
    "start_time": "2024-12-23T10:29:41.767Z"
   },
   {
    "duration": 0,
    "start_time": "2024-12-23T10:29:41.768Z"
   },
   {
    "duration": 0,
    "start_time": "2024-12-23T10:29:41.769Z"
   },
   {
    "duration": 0,
    "start_time": "2024-12-23T10:29:41.770Z"
   },
   {
    "duration": 0,
    "start_time": "2024-12-23T10:29:41.770Z"
   },
   {
    "duration": 0,
    "start_time": "2024-12-23T10:29:41.771Z"
   },
   {
    "duration": 0,
    "start_time": "2024-12-23T10:29:41.772Z"
   },
   {
    "duration": 0,
    "start_time": "2024-12-23T10:29:41.822Z"
   },
   {
    "duration": 0,
    "start_time": "2024-12-23T10:29:41.823Z"
   },
   {
    "duration": 0,
    "start_time": "2024-12-23T10:29:41.824Z"
   },
   {
    "duration": 0,
    "start_time": "2024-12-23T10:29:41.825Z"
   },
   {
    "duration": 0,
    "start_time": "2024-12-23T10:29:41.826Z"
   },
   {
    "duration": 0,
    "start_time": "2024-12-23T10:29:41.827Z"
   },
   {
    "duration": 0,
    "start_time": "2024-12-23T10:29:41.828Z"
   },
   {
    "duration": 0,
    "start_time": "2024-12-23T10:29:41.829Z"
   },
   {
    "duration": 0,
    "start_time": "2024-12-23T10:29:41.830Z"
   },
   {
    "duration": 0,
    "start_time": "2024-12-23T10:29:41.831Z"
   },
   {
    "duration": 0,
    "start_time": "2024-12-23T10:29:41.832Z"
   },
   {
    "duration": 0,
    "start_time": "2024-12-23T10:29:41.833Z"
   },
   {
    "duration": 0,
    "start_time": "2024-12-23T10:29:41.834Z"
   },
   {
    "duration": 0,
    "start_time": "2024-12-23T10:29:41.835Z"
   },
   {
    "duration": 0,
    "start_time": "2024-12-23T10:29:41.836Z"
   },
   {
    "duration": 0,
    "start_time": "2024-12-23T10:29:41.837Z"
   },
   {
    "duration": 0,
    "start_time": "2024-12-23T10:29:41.838Z"
   },
   {
    "duration": 0,
    "start_time": "2024-12-23T10:29:41.839Z"
   },
   {
    "duration": 0,
    "start_time": "2024-12-23T10:29:41.840Z"
   },
   {
    "duration": 0,
    "start_time": "2024-12-23T10:29:41.841Z"
   },
   {
    "duration": 0,
    "start_time": "2024-12-23T10:29:41.842Z"
   },
   {
    "duration": 0,
    "start_time": "2024-12-23T10:29:41.843Z"
   },
   {
    "duration": 0,
    "start_time": "2024-12-23T10:29:41.844Z"
   },
   {
    "duration": 0,
    "start_time": "2024-12-23T10:29:41.845Z"
   },
   {
    "duration": 0,
    "start_time": "2024-12-23T10:29:41.846Z"
   },
   {
    "duration": 0,
    "start_time": "2024-12-23T10:29:41.847Z"
   },
   {
    "duration": 0,
    "start_time": "2024-12-23T10:29:41.848Z"
   },
   {
    "duration": 0,
    "start_time": "2024-12-23T10:29:41.849Z"
   },
   {
    "duration": 0,
    "start_time": "2024-12-23T10:29:41.850Z"
   },
   {
    "duration": 0,
    "start_time": "2024-12-23T10:29:41.851Z"
   },
   {
    "duration": 0,
    "start_time": "2024-12-23T10:29:41.852Z"
   },
   {
    "duration": 0,
    "start_time": "2024-12-23T10:29:41.853Z"
   },
   {
    "duration": 0,
    "start_time": "2024-12-23T10:29:41.854Z"
   },
   {
    "duration": 0,
    "start_time": "2024-12-23T10:29:41.855Z"
   },
   {
    "duration": 0,
    "start_time": "2024-12-23T10:29:41.855Z"
   },
   {
    "duration": 0,
    "start_time": "2024-12-23T10:29:41.857Z"
   },
   {
    "duration": 0,
    "start_time": "2024-12-23T10:29:41.858Z"
   },
   {
    "duration": 8,
    "start_time": "2024-12-23T10:30:56.288Z"
   },
   {
    "duration": 7,
    "start_time": "2024-12-23T10:31:04.678Z"
   },
   {
    "duration": 7,
    "start_time": "2024-12-23T10:31:20.928Z"
   },
   {
    "duration": 7,
    "start_time": "2024-12-23T10:31:31.208Z"
   },
   {
    "duration": 948,
    "start_time": "2024-12-23T10:35:02.514Z"
   },
   {
    "duration": 85,
    "start_time": "2024-12-23T10:35:03.463Z"
   },
   {
    "duration": 0,
    "start_time": "2024-12-23T10:35:03.552Z"
   },
   {
    "duration": 0,
    "start_time": "2024-12-23T10:35:03.553Z"
   },
   {
    "duration": 0,
    "start_time": "2024-12-23T10:35:03.554Z"
   },
   {
    "duration": 0,
    "start_time": "2024-12-23T10:35:03.555Z"
   },
   {
    "duration": 0,
    "start_time": "2024-12-23T10:35:03.556Z"
   },
   {
    "duration": 0,
    "start_time": "2024-12-23T10:35:03.557Z"
   },
   {
    "duration": 1,
    "start_time": "2024-12-23T10:35:03.557Z"
   },
   {
    "duration": 0,
    "start_time": "2024-12-23T10:35:03.558Z"
   },
   {
    "duration": 0,
    "start_time": "2024-12-23T10:35:03.560Z"
   },
   {
    "duration": 0,
    "start_time": "2024-12-23T10:35:03.560Z"
   },
   {
    "duration": 0,
    "start_time": "2024-12-23T10:35:03.561Z"
   },
   {
    "duration": 0,
    "start_time": "2024-12-23T10:35:03.562Z"
   },
   {
    "duration": 0,
    "start_time": "2024-12-23T10:35:03.563Z"
   },
   {
    "duration": 0,
    "start_time": "2024-12-23T10:35:03.564Z"
   },
   {
    "duration": 0,
    "start_time": "2024-12-23T10:35:03.565Z"
   },
   {
    "duration": 0,
    "start_time": "2024-12-23T10:35:03.566Z"
   },
   {
    "duration": 0,
    "start_time": "2024-12-23T10:35:03.567Z"
   },
   {
    "duration": 0,
    "start_time": "2024-12-23T10:35:03.568Z"
   },
   {
    "duration": 0,
    "start_time": "2024-12-23T10:35:03.568Z"
   },
   {
    "duration": 0,
    "start_time": "2024-12-23T10:35:03.569Z"
   },
   {
    "duration": 0,
    "start_time": "2024-12-23T10:35:03.570Z"
   },
   {
    "duration": 0,
    "start_time": "2024-12-23T10:35:03.571Z"
   },
   {
    "duration": 0,
    "start_time": "2024-12-23T10:35:03.572Z"
   },
   {
    "duration": 0,
    "start_time": "2024-12-23T10:35:03.573Z"
   },
   {
    "duration": 0,
    "start_time": "2024-12-23T10:35:03.574Z"
   },
   {
    "duration": 0,
    "start_time": "2024-12-23T10:35:03.575Z"
   },
   {
    "duration": 0,
    "start_time": "2024-12-23T10:35:03.576Z"
   },
   {
    "duration": 0,
    "start_time": "2024-12-23T10:35:03.576Z"
   },
   {
    "duration": 0,
    "start_time": "2024-12-23T10:35:03.577Z"
   },
   {
    "duration": 0,
    "start_time": "2024-12-23T10:35:03.578Z"
   },
   {
    "duration": 0,
    "start_time": "2024-12-23T10:35:03.579Z"
   },
   {
    "duration": 0,
    "start_time": "2024-12-23T10:35:03.580Z"
   },
   {
    "duration": 0,
    "start_time": "2024-12-23T10:35:03.581Z"
   },
   {
    "duration": 0,
    "start_time": "2024-12-23T10:35:03.621Z"
   },
   {
    "duration": 1,
    "start_time": "2024-12-23T10:35:03.622Z"
   },
   {
    "duration": 0,
    "start_time": "2024-12-23T10:35:03.623Z"
   },
   {
    "duration": 0,
    "start_time": "2024-12-23T10:35:03.624Z"
   },
   {
    "duration": 0,
    "start_time": "2024-12-23T10:35:03.625Z"
   },
   {
    "duration": 0,
    "start_time": "2024-12-23T10:35:03.626Z"
   },
   {
    "duration": 0,
    "start_time": "2024-12-23T10:35:03.627Z"
   },
   {
    "duration": 0,
    "start_time": "2024-12-23T10:35:03.628Z"
   },
   {
    "duration": 0,
    "start_time": "2024-12-23T10:35:03.629Z"
   },
   {
    "duration": 0,
    "start_time": "2024-12-23T10:35:03.630Z"
   },
   {
    "duration": 0,
    "start_time": "2024-12-23T10:35:03.631Z"
   },
   {
    "duration": 0,
    "start_time": "2024-12-23T10:35:03.632Z"
   },
   {
    "duration": 0,
    "start_time": "2024-12-23T10:35:03.633Z"
   },
   {
    "duration": 0,
    "start_time": "2024-12-23T10:35:03.634Z"
   },
   {
    "duration": 0,
    "start_time": "2024-12-23T10:35:03.635Z"
   },
   {
    "duration": 0,
    "start_time": "2024-12-23T10:35:03.636Z"
   },
   {
    "duration": 0,
    "start_time": "2024-12-23T10:35:03.637Z"
   },
   {
    "duration": 0,
    "start_time": "2024-12-23T10:35:03.638Z"
   },
   {
    "duration": 0,
    "start_time": "2024-12-23T10:35:03.639Z"
   },
   {
    "duration": 0,
    "start_time": "2024-12-23T10:35:03.640Z"
   },
   {
    "duration": 0,
    "start_time": "2024-12-23T10:35:03.640Z"
   },
   {
    "duration": 0,
    "start_time": "2024-12-23T10:35:03.641Z"
   },
   {
    "duration": 0,
    "start_time": "2024-12-23T10:35:03.642Z"
   },
   {
    "duration": 0,
    "start_time": "2024-12-23T10:35:03.643Z"
   },
   {
    "duration": 0,
    "start_time": "2024-12-23T10:35:03.644Z"
   },
   {
    "duration": 0,
    "start_time": "2024-12-23T10:35:03.645Z"
   },
   {
    "duration": 0,
    "start_time": "2024-12-23T10:35:03.645Z"
   },
   {
    "duration": 0,
    "start_time": "2024-12-23T10:35:03.646Z"
   },
   {
    "duration": 0,
    "start_time": "2024-12-23T10:35:03.647Z"
   },
   {
    "duration": 0,
    "start_time": "2024-12-23T10:35:03.648Z"
   },
   {
    "duration": 0,
    "start_time": "2024-12-23T10:35:03.649Z"
   },
   {
    "duration": 0,
    "start_time": "2024-12-23T10:35:03.649Z"
   },
   {
    "duration": 0,
    "start_time": "2024-12-23T10:35:03.650Z"
   },
   {
    "duration": 0,
    "start_time": "2024-12-23T10:35:03.651Z"
   },
   {
    "duration": 0,
    "start_time": "2024-12-23T10:35:03.652Z"
   },
   {
    "duration": 0,
    "start_time": "2024-12-23T10:35:03.653Z"
   },
   {
    "duration": 0,
    "start_time": "2024-12-23T10:35:03.654Z"
   },
   {
    "duration": 0,
    "start_time": "2024-12-23T10:35:03.655Z"
   },
   {
    "duration": 0,
    "start_time": "2024-12-23T10:35:03.656Z"
   },
   {
    "duration": 0,
    "start_time": "2024-12-23T10:35:03.656Z"
   },
   {
    "duration": 0,
    "start_time": "2024-12-23T10:35:03.657Z"
   },
   {
    "duration": 0,
    "start_time": "2024-12-23T10:35:03.658Z"
   },
   {
    "duration": 8,
    "start_time": "2024-12-23T10:37:12.364Z"
   },
   {
    "duration": 13,
    "start_time": "2024-12-23T10:37:22.394Z"
   },
   {
    "duration": 8,
    "start_time": "2024-12-23T10:37:28.344Z"
   },
   {
    "duration": 9,
    "start_time": "2024-12-23T10:37:53.594Z"
   },
   {
    "duration": 8,
    "start_time": "2024-12-23T10:39:54.134Z"
   },
   {
    "duration": 9,
    "start_time": "2024-12-23T10:40:01.425Z"
   },
   {
    "duration": 9,
    "start_time": "2024-12-23T10:42:07.484Z"
   },
   {
    "duration": 7,
    "start_time": "2024-12-23T10:47:44.414Z"
   },
   {
    "duration": 7,
    "start_time": "2024-12-23T10:48:02.554Z"
   },
   {
    "duration": 8,
    "start_time": "2024-12-23T10:48:06.524Z"
   },
   {
    "duration": 8,
    "start_time": "2024-12-23T10:49:20.344Z"
   },
   {
    "duration": 1051,
    "start_time": "2024-12-23T10:50:17.604Z"
   },
   {
    "duration": 3,
    "start_time": "2024-12-23T10:50:18.657Z"
   },
   {
    "duration": 25,
    "start_time": "2024-12-23T10:50:18.661Z"
   },
   {
    "duration": 499,
    "start_time": "2024-12-23T10:50:18.688Z"
   },
   {
    "duration": 5,
    "start_time": "2024-12-23T10:50:19.189Z"
   },
   {
    "duration": 69,
    "start_time": "2024-12-23T10:50:19.196Z"
   },
   {
    "duration": 39,
    "start_time": "2024-12-23T10:50:19.267Z"
   },
   {
    "duration": 21,
    "start_time": "2024-12-23T10:50:19.307Z"
   },
   {
    "duration": 27,
    "start_time": "2024-12-23T10:50:19.329Z"
   },
   {
    "duration": 35,
    "start_time": "2024-12-23T10:50:19.358Z"
   },
   {
    "duration": 34,
    "start_time": "2024-12-23T10:50:19.395Z"
   },
   {
    "duration": 30,
    "start_time": "2024-12-23T10:50:19.430Z"
   },
   {
    "duration": 413,
    "start_time": "2024-12-23T10:50:19.461Z"
   },
   {
    "duration": 4,
    "start_time": "2024-12-23T10:50:19.876Z"
   },
   {
    "duration": 205,
    "start_time": "2024-12-23T10:50:19.882Z"
   },
   {
    "duration": 178,
    "start_time": "2024-12-23T10:50:20.088Z"
   },
   {
    "duration": 4,
    "start_time": "2024-12-23T10:50:20.267Z"
   },
   {
    "duration": 54,
    "start_time": "2024-12-23T10:50:20.273Z"
   },
   {
    "duration": 19,
    "start_time": "2024-12-23T10:50:20.328Z"
   },
   {
    "duration": 320,
    "start_time": "2024-12-23T10:50:20.348Z"
   },
   {
    "duration": 9,
    "start_time": "2024-12-23T10:50:20.669Z"
   },
   {
    "duration": 27,
    "start_time": "2024-12-23T10:50:20.679Z"
   },
   {
    "duration": 191,
    "start_time": "2024-12-23T10:50:20.707Z"
   },
   {
    "duration": 15,
    "start_time": "2024-12-23T10:50:20.900Z"
   },
   {
    "duration": 43,
    "start_time": "2024-12-23T10:50:20.917Z"
   },
   {
    "duration": 43,
    "start_time": "2024-12-23T10:50:20.962Z"
   },
   {
    "duration": 44,
    "start_time": "2024-12-23T10:50:21.007Z"
   },
   {
    "duration": 221,
    "start_time": "2024-12-23T10:50:21.056Z"
   },
   {
    "duration": 5,
    "start_time": "2024-12-23T10:50:21.278Z"
   },
   {
    "duration": 44,
    "start_time": "2024-12-23T10:50:21.284Z"
   },
   {
    "duration": 66,
    "start_time": "2024-12-23T10:50:21.330Z"
   },
   {
    "duration": 34,
    "start_time": "2024-12-23T10:50:21.397Z"
   },
   {
    "duration": 25,
    "start_time": "2024-12-23T10:50:21.433Z"
   },
   {
    "duration": 31,
    "start_time": "2024-12-23T10:50:21.459Z"
   },
   {
    "duration": 16,
    "start_time": "2024-12-23T10:50:21.492Z"
   },
   {
    "duration": 20,
    "start_time": "2024-12-23T10:50:21.509Z"
   },
   {
    "duration": 32,
    "start_time": "2024-12-23T10:50:21.531Z"
   },
   {
    "duration": 30,
    "start_time": "2024-12-23T10:50:21.564Z"
   },
   {
    "duration": 13,
    "start_time": "2024-12-23T10:50:21.595Z"
   },
   {
    "duration": 24,
    "start_time": "2024-12-23T10:50:21.609Z"
   },
   {
    "duration": 46,
    "start_time": "2024-12-23T10:50:21.634Z"
   },
   {
    "duration": 10,
    "start_time": "2024-12-23T10:50:21.682Z"
   },
   {
    "duration": 10,
    "start_time": "2024-12-23T10:50:21.693Z"
   },
   {
    "duration": 41,
    "start_time": "2024-12-23T10:50:21.705Z"
   },
   {
    "duration": 16,
    "start_time": "2024-12-23T10:50:21.748Z"
   },
   {
    "duration": 56,
    "start_time": "2024-12-23T10:50:21.766Z"
   },
   {
    "duration": 16,
    "start_time": "2024-12-23T10:50:21.824Z"
   },
   {
    "duration": 7,
    "start_time": "2024-12-23T10:50:21.841Z"
   },
   {
    "duration": 12,
    "start_time": "2024-12-23T10:50:21.850Z"
   },
   {
    "duration": 10,
    "start_time": "2024-12-23T10:50:21.863Z"
   },
   {
    "duration": 59,
    "start_time": "2024-12-23T10:50:21.874Z"
   },
   {
    "duration": 8,
    "start_time": "2024-12-23T10:50:21.934Z"
   },
   {
    "duration": 31,
    "start_time": "2024-12-23T10:50:21.944Z"
   },
   {
    "duration": 50,
    "start_time": "2024-12-23T10:50:21.976Z"
   },
   {
    "duration": 18,
    "start_time": "2024-12-23T10:50:22.028Z"
   },
   {
    "duration": 8,
    "start_time": "2024-12-23T10:50:22.048Z"
   },
   {
    "duration": 1248,
    "start_time": "2024-12-23T10:50:22.058Z"
   },
   {
    "duration": 14,
    "start_time": "2024-12-23T10:50:23.308Z"
   },
   {
    "duration": 23,
    "start_time": "2024-12-23T10:50:23.323Z"
   },
   {
    "duration": 19,
    "start_time": "2024-12-23T10:50:23.348Z"
   },
   {
    "duration": 8,
    "start_time": "2024-12-23T10:50:23.368Z"
   },
   {
    "duration": 28,
    "start_time": "2024-12-23T10:50:23.377Z"
   },
   {
    "duration": 4,
    "start_time": "2024-12-23T10:50:23.407Z"
   },
   {
    "duration": 69,
    "start_time": "2024-12-23T10:50:23.412Z"
   },
   {
    "duration": 4,
    "start_time": "2024-12-23T10:50:23.483Z"
   },
   {
    "duration": 45,
    "start_time": "2024-12-23T10:50:23.488Z"
   },
   {
    "duration": 6,
    "start_time": "2024-12-23T10:50:23.535Z"
   },
   {
    "duration": 29,
    "start_time": "2024-12-23T10:50:23.542Z"
   },
   {
    "duration": 437,
    "start_time": "2024-12-23T10:50:23.573Z"
   },
   {
    "duration": 3,
    "start_time": "2024-12-23T10:50:24.011Z"
   },
   {
    "duration": 23,
    "start_time": "2024-12-23T10:50:24.022Z"
   },
   {
    "duration": 8,
    "start_time": "2024-12-23T10:50:24.047Z"
   },
   {
    "duration": 7,
    "start_time": "2024-12-23T10:50:24.057Z"
   },
   {
    "duration": 110,
    "start_time": "2024-12-23T10:50:24.066Z"
   },
   {
    "duration": 3,
    "start_time": "2024-12-23T10:50:24.177Z"
   },
   {
    "duration": 41,
    "start_time": "2024-12-23T10:50:24.181Z"
   },
   {
    "duration": 187,
    "start_time": "2024-12-23T10:50:24.224Z"
   },
   {
    "duration": 84,
    "start_time": "2024-12-23T10:54:24.004Z"
   },
   {
    "duration": 82,
    "start_time": "2024-12-23T11:07:22.523Z"
   },
   {
    "duration": 978,
    "start_time": "2024-12-23T11:09:20.256Z"
   },
   {
    "duration": 3,
    "start_time": "2024-12-23T11:09:21.236Z"
   },
   {
    "duration": 26,
    "start_time": "2024-12-23T11:09:21.240Z"
   },
   {
    "duration": 317,
    "start_time": "2024-12-23T11:09:21.267Z"
   },
   {
    "duration": 4,
    "start_time": "2024-12-23T11:09:21.586Z"
   },
   {
    "duration": 35,
    "start_time": "2024-12-23T11:09:21.592Z"
   },
   {
    "duration": 17,
    "start_time": "2024-12-23T11:09:21.628Z"
   },
   {
    "duration": 54,
    "start_time": "2024-12-23T11:09:21.646Z"
   },
   {
    "duration": 25,
    "start_time": "2024-12-23T11:09:21.701Z"
   },
   {
    "duration": 20,
    "start_time": "2024-12-23T11:09:21.729Z"
   },
   {
    "duration": 22,
    "start_time": "2024-12-23T11:09:21.750Z"
   },
   {
    "duration": 43,
    "start_time": "2024-12-23T11:09:21.773Z"
   },
   {
    "duration": 393,
    "start_time": "2024-12-23T11:09:21.817Z"
   },
   {
    "duration": 4,
    "start_time": "2024-12-23T11:09:22.212Z"
   },
   {
    "duration": 235,
    "start_time": "2024-12-23T11:09:22.221Z"
   },
   {
    "duration": 289,
    "start_time": "2024-12-23T11:09:22.458Z"
   },
   {
    "duration": 5,
    "start_time": "2024-12-23T11:09:22.748Z"
   },
   {
    "duration": 30,
    "start_time": "2024-12-23T11:09:22.754Z"
   },
   {
    "duration": 20,
    "start_time": "2024-12-23T11:09:22.785Z"
   },
   {
    "duration": 326,
    "start_time": "2024-12-23T11:09:22.822Z"
   },
   {
    "duration": 8,
    "start_time": "2024-12-23T11:09:23.150Z"
   },
   {
    "duration": 19,
    "start_time": "2024-12-23T11:09:23.159Z"
   },
   {
    "duration": 52,
    "start_time": "2024-12-23T11:09:23.179Z"
   },
   {
    "duration": 15,
    "start_time": "2024-12-23T11:09:23.232Z"
   },
   {
    "duration": 44,
    "start_time": "2024-12-23T11:09:23.249Z"
   },
   {
    "duration": 15,
    "start_time": "2024-12-23T11:09:23.295Z"
   },
   {
    "duration": 63,
    "start_time": "2024-12-23T11:09:23.311Z"
   },
   {
    "duration": 281,
    "start_time": "2024-12-23T11:09:23.378Z"
   },
   {
    "duration": 4,
    "start_time": "2024-12-23T11:09:23.660Z"
   },
   {
    "duration": 95,
    "start_time": "2024-12-23T11:09:23.665Z"
   },
   {
    "duration": 4,
    "start_time": "2024-12-23T11:09:23.762Z"
   },
   {
    "duration": 56,
    "start_time": "2024-12-23T11:09:23.767Z"
   },
   {
    "duration": 58,
    "start_time": "2024-12-23T11:09:23.824Z"
   },
   {
    "duration": 12,
    "start_time": "2024-12-23T11:09:23.883Z"
   },
   {
    "duration": 25,
    "start_time": "2024-12-23T11:09:23.896Z"
   },
   {
    "duration": 11,
    "start_time": "2024-12-23T11:09:23.923Z"
   },
   {
    "duration": 19,
    "start_time": "2024-12-23T11:09:23.935Z"
   },
   {
    "duration": 39,
    "start_time": "2024-12-23T11:09:23.956Z"
   },
   {
    "duration": 11,
    "start_time": "2024-12-23T11:09:23.997Z"
   },
   {
    "duration": 9,
    "start_time": "2024-12-23T11:09:24.009Z"
   },
   {
    "duration": 50,
    "start_time": "2024-12-23T11:09:24.019Z"
   },
   {
    "duration": 8,
    "start_time": "2024-12-23T11:09:24.071Z"
   },
   {
    "duration": 23,
    "start_time": "2024-12-23T11:09:24.081Z"
   },
   {
    "duration": 25,
    "start_time": "2024-12-23T11:09:24.105Z"
   },
   {
    "duration": 16,
    "start_time": "2024-12-23T11:09:24.131Z"
   },
   {
    "duration": 104,
    "start_time": "2024-12-23T11:09:24.149Z"
   },
   {
    "duration": 75,
    "start_time": "2024-12-23T11:09:24.254Z"
   },
   {
    "duration": 7,
    "start_time": "2024-12-23T11:09:24.331Z"
   },
   {
    "duration": 83,
    "start_time": "2024-12-23T11:09:24.339Z"
   },
   {
    "duration": 5,
    "start_time": "2024-12-23T11:09:24.424Z"
   },
   {
    "duration": 94,
    "start_time": "2024-12-23T11:09:24.431Z"
   },
   {
    "duration": 10,
    "start_time": "2024-12-23T11:09:24.526Z"
   },
   {
    "duration": 17,
    "start_time": "2024-12-23T11:09:24.538Z"
   },
   {
    "duration": 26,
    "start_time": "2024-12-23T11:09:24.556Z"
   },
   {
    "duration": 7,
    "start_time": "2024-12-23T11:09:24.584Z"
   },
   {
    "duration": 9,
    "start_time": "2024-12-23T11:09:24.592Z"
   },
   {
    "duration": 1258,
    "start_time": "2024-12-23T11:09:24.603Z"
   },
   {
    "duration": 7,
    "start_time": "2024-12-23T11:09:25.862Z"
   },
   {
    "duration": 32,
    "start_time": "2024-12-23T11:09:25.871Z"
   },
   {
    "duration": 5,
    "start_time": "2024-12-23T11:09:25.905Z"
   },
   {
    "duration": 27,
    "start_time": "2024-12-23T11:09:25.912Z"
   },
   {
    "duration": 59,
    "start_time": "2024-12-23T11:09:25.940Z"
   },
   {
    "duration": 5,
    "start_time": "2024-12-23T11:09:26.001Z"
   },
   {
    "duration": 74,
    "start_time": "2024-12-23T11:09:26.007Z"
   },
   {
    "duration": 4,
    "start_time": "2024-12-23T11:09:26.083Z"
   },
   {
    "duration": 49,
    "start_time": "2024-12-23T11:09:26.088Z"
   },
   {
    "duration": 16,
    "start_time": "2024-12-23T11:09:26.139Z"
   },
   {
    "duration": 8,
    "start_time": "2024-12-23T11:09:26.157Z"
   },
   {
    "duration": 578,
    "start_time": "2024-12-23T11:09:26.167Z"
   },
   {
    "duration": 3,
    "start_time": "2024-12-23T11:09:26.746Z"
   },
   {
    "duration": 35,
    "start_time": "2024-12-23T11:09:26.750Z"
   },
   {
    "duration": 13,
    "start_time": "2024-12-23T11:09:26.786Z"
   },
   {
    "duration": 12,
    "start_time": "2024-12-23T11:09:26.801Z"
   },
   {
    "duration": 153,
    "start_time": "2024-12-23T11:09:26.814Z"
   },
   {
    "duration": 0,
    "start_time": "2024-12-23T11:09:26.969Z"
   },
   {
    "duration": 0,
    "start_time": "2024-12-23T11:09:26.971Z"
   },
   {
    "duration": 0,
    "start_time": "2024-12-23T11:09:26.972Z"
   },
   {
    "duration": 0,
    "start_time": "2024-12-23T11:09:26.974Z"
   },
   {
    "duration": 0,
    "start_time": "2024-12-23T11:09:26.975Z"
   },
   {
    "duration": 1154,
    "start_time": "2024-12-23T15:16:24.678Z"
   },
   {
    "duration": 3,
    "start_time": "2024-12-23T15:16:25.834Z"
   },
   {
    "duration": 15,
    "start_time": "2024-12-23T15:16:25.839Z"
   },
   {
    "duration": 289,
    "start_time": "2024-12-23T15:16:25.856Z"
   },
   {
    "duration": 6,
    "start_time": "2024-12-23T15:16:26.154Z"
   },
   {
    "duration": 21,
    "start_time": "2024-12-23T15:16:26.162Z"
   },
   {
    "duration": 8,
    "start_time": "2024-12-23T15:16:26.184Z"
   },
   {
    "duration": 10,
    "start_time": "2024-12-23T15:16:26.194Z"
   },
   {
    "duration": 18,
    "start_time": "2024-12-23T15:16:26.205Z"
   },
   {
    "duration": 5,
    "start_time": "2024-12-23T15:16:26.225Z"
   },
   {
    "duration": 12,
    "start_time": "2024-12-23T15:16:26.254Z"
   },
   {
    "duration": 6,
    "start_time": "2024-12-23T15:16:26.268Z"
   },
   {
    "duration": 743,
    "start_time": "2024-12-23T15:16:26.275Z"
   },
   {
    "duration": 5,
    "start_time": "2024-12-23T15:16:27.020Z"
   },
   {
    "duration": 209,
    "start_time": "2024-12-23T15:16:27.026Z"
   },
   {
    "duration": 189,
    "start_time": "2024-12-23T15:16:27.237Z"
   },
   {
    "duration": 5,
    "start_time": "2024-12-23T15:16:27.428Z"
   },
   {
    "duration": 43,
    "start_time": "2024-12-23T15:16:27.435Z"
   },
   {
    "duration": 14,
    "start_time": "2024-12-23T15:16:27.479Z"
   },
   {
    "duration": 333,
    "start_time": "2024-12-23T15:16:27.495Z"
   },
   {
    "duration": 9,
    "start_time": "2024-12-23T15:16:27.829Z"
   },
   {
    "duration": 27,
    "start_time": "2024-12-23T15:16:27.839Z"
   },
   {
    "duration": 51,
    "start_time": "2024-12-23T15:16:27.867Z"
   },
   {
    "duration": 14,
    "start_time": "2024-12-23T15:16:27.919Z"
   },
   {
    "duration": 54,
    "start_time": "2024-12-23T15:16:27.934Z"
   },
   {
    "duration": 14,
    "start_time": "2024-12-23T15:16:27.989Z"
   },
   {
    "duration": 59,
    "start_time": "2024-12-23T15:16:28.004Z"
   },
   {
    "duration": 189,
    "start_time": "2024-12-23T15:16:28.066Z"
   },
   {
    "duration": 4,
    "start_time": "2024-12-23T15:16:28.256Z"
   },
   {
    "duration": 34,
    "start_time": "2024-12-23T15:16:28.261Z"
   },
   {
    "duration": 5,
    "start_time": "2024-12-23T15:16:28.296Z"
   },
   {
    "duration": 18,
    "start_time": "2024-12-23T15:16:28.302Z"
   },
   {
    "duration": 3,
    "start_time": "2024-12-23T15:16:28.322Z"
   },
   {
    "duration": 6,
    "start_time": "2024-12-23T15:16:28.327Z"
   },
   {
    "duration": 28,
    "start_time": "2024-12-23T15:16:28.335Z"
   },
   {
    "duration": 11,
    "start_time": "2024-12-23T15:16:28.365Z"
   },
   {
    "duration": 11,
    "start_time": "2024-12-23T15:16:28.378Z"
   },
   {
    "duration": 26,
    "start_time": "2024-12-23T15:16:28.391Z"
   },
   {
    "duration": 45,
    "start_time": "2024-12-23T15:16:28.418Z"
   },
   {
    "duration": 5,
    "start_time": "2024-12-23T15:16:28.465Z"
   },
   {
    "duration": 47,
    "start_time": "2024-12-23T15:16:28.471Z"
   },
   {
    "duration": 9,
    "start_time": "2024-12-23T15:16:28.520Z"
   },
   {
    "duration": 9,
    "start_time": "2024-12-23T15:16:28.554Z"
   },
   {
    "duration": 21,
    "start_time": "2024-12-23T15:16:28.565Z"
   },
   {
    "duration": 16,
    "start_time": "2024-12-23T15:16:28.588Z"
   },
   {
    "duration": 81,
    "start_time": "2024-12-23T15:16:28.606Z"
   },
   {
    "duration": 18,
    "start_time": "2024-12-23T15:16:28.688Z"
   },
   {
    "duration": 7,
    "start_time": "2024-12-23T15:16:28.708Z"
   },
   {
    "duration": 3,
    "start_time": "2024-12-23T15:16:28.717Z"
   },
   {
    "duration": 32,
    "start_time": "2024-12-23T15:16:28.722Z"
   },
   {
    "duration": 47,
    "start_time": "2024-12-23T15:16:28.756Z"
   },
   {
    "duration": 8,
    "start_time": "2024-12-23T15:16:28.805Z"
   },
   {
    "duration": 20,
    "start_time": "2024-12-23T15:16:28.814Z"
   },
   {
    "duration": 96,
    "start_time": "2024-12-23T15:16:28.836Z"
   },
   {
    "duration": 8,
    "start_time": "2024-12-23T15:16:28.934Z"
   },
   {
    "duration": 6,
    "start_time": "2024-12-23T15:16:28.943Z"
   },
   {
    "duration": 1239,
    "start_time": "2024-12-23T15:16:28.950Z"
   },
   {
    "duration": 8,
    "start_time": "2024-12-23T15:16:30.191Z"
   },
   {
    "duration": 60,
    "start_time": "2024-12-23T15:16:30.201Z"
   },
   {
    "duration": 57,
    "start_time": "2024-12-23T15:16:30.262Z"
   },
   {
    "duration": 69,
    "start_time": "2024-12-23T15:16:30.320Z"
   },
   {
    "duration": 61,
    "start_time": "2024-12-23T15:16:30.390Z"
   },
   {
    "duration": 49,
    "start_time": "2024-12-23T15:16:30.452Z"
   },
   {
    "duration": 103,
    "start_time": "2024-12-23T15:16:30.502Z"
   },
   {
    "duration": 4,
    "start_time": "2024-12-23T15:16:30.607Z"
   },
   {
    "duration": 61,
    "start_time": "2024-12-23T15:16:30.613Z"
   },
   {
    "duration": 42,
    "start_time": "2024-12-23T15:16:30.676Z"
   },
   {
    "duration": 32,
    "start_time": "2024-12-23T15:16:30.720Z"
   },
   {
    "duration": 419,
    "start_time": "2024-12-23T15:16:30.753Z"
   },
   {
    "duration": 3,
    "start_time": "2024-12-23T15:16:31.174Z"
   },
   {
    "duration": 26,
    "start_time": "2024-12-23T15:16:31.179Z"
   },
   {
    "duration": 14,
    "start_time": "2024-12-23T15:16:31.206Z"
   },
   {
    "duration": 6,
    "start_time": "2024-12-23T15:16:31.222Z"
   },
   {
    "duration": 80,
    "start_time": "2024-12-23T15:16:31.230Z"
   },
   {
    "duration": 0,
    "start_time": "2024-12-23T15:16:31.312Z"
   },
   {
    "duration": 0,
    "start_time": "2024-12-23T15:16:31.314Z"
   },
   {
    "duration": 0,
    "start_time": "2024-12-23T15:16:31.315Z"
   },
   {
    "duration": 0,
    "start_time": "2024-12-23T15:16:31.317Z"
   },
   {
    "duration": 0,
    "start_time": "2024-12-23T15:16:31.318Z"
   },
   {
    "duration": 969,
    "start_time": "2024-12-23T15:16:41.712Z"
   },
   {
    "duration": 3,
    "start_time": "2024-12-23T15:16:42.683Z"
   },
   {
    "duration": 5,
    "start_time": "2024-12-23T15:16:42.688Z"
   },
   {
    "duration": 304,
    "start_time": "2024-12-23T15:16:42.695Z"
   },
   {
    "duration": 4,
    "start_time": "2024-12-23T15:16:43.001Z"
   },
   {
    "duration": 19,
    "start_time": "2024-12-23T15:16:43.006Z"
   },
   {
    "duration": 29,
    "start_time": "2024-12-23T15:16:43.026Z"
   },
   {
    "duration": 9,
    "start_time": "2024-12-23T15:16:43.056Z"
   },
   {
    "duration": 20,
    "start_time": "2024-12-23T15:16:43.066Z"
   },
   {
    "duration": 5,
    "start_time": "2024-12-23T15:16:43.088Z"
   },
   {
    "duration": 20,
    "start_time": "2024-12-23T15:16:43.095Z"
   },
   {
    "duration": 4,
    "start_time": "2024-12-23T15:16:43.117Z"
   },
   {
    "duration": 752,
    "start_time": "2024-12-23T15:16:43.122Z"
   },
   {
    "duration": 5,
    "start_time": "2024-12-23T15:16:43.875Z"
   },
   {
    "duration": 232,
    "start_time": "2024-12-23T15:16:43.882Z"
   },
   {
    "duration": 167,
    "start_time": "2024-12-23T15:16:44.116Z"
   },
   {
    "duration": 5,
    "start_time": "2024-12-23T15:16:44.284Z"
   },
   {
    "duration": 30,
    "start_time": "2024-12-23T15:16:44.290Z"
   },
   {
    "duration": 13,
    "start_time": "2024-12-23T15:16:44.321Z"
   },
   {
    "duration": 373,
    "start_time": "2024-12-23T15:16:44.335Z"
   },
   {
    "duration": 10,
    "start_time": "2024-12-23T15:16:44.709Z"
   },
   {
    "duration": 11,
    "start_time": "2024-12-23T15:16:44.720Z"
   },
   {
    "duration": 66,
    "start_time": "2024-12-23T15:16:44.732Z"
   },
   {
    "duration": 14,
    "start_time": "2024-12-23T15:16:44.799Z"
   },
   {
    "duration": 56,
    "start_time": "2024-12-23T15:16:44.815Z"
   },
   {
    "duration": 45,
    "start_time": "2024-12-23T15:16:44.873Z"
   },
   {
    "duration": 42,
    "start_time": "2024-12-23T15:16:44.919Z"
   },
   {
    "duration": 203,
    "start_time": "2024-12-23T15:16:44.965Z"
   },
   {
    "duration": 3,
    "start_time": "2024-12-23T15:16:45.170Z"
   },
   {
    "duration": 47,
    "start_time": "2024-12-23T15:16:45.175Z"
   },
   {
    "duration": 21,
    "start_time": "2024-12-23T15:16:45.223Z"
   },
   {
    "duration": 81,
    "start_time": "2024-12-23T15:16:45.245Z"
   },
   {
    "duration": 14,
    "start_time": "2024-12-23T15:16:45.328Z"
   },
   {
    "duration": 18,
    "start_time": "2024-12-23T15:16:45.343Z"
   },
   {
    "duration": 18,
    "start_time": "2024-12-23T15:16:45.362Z"
   },
   {
    "duration": 38,
    "start_time": "2024-12-23T15:16:45.382Z"
   },
   {
    "duration": 15,
    "start_time": "2024-12-23T15:16:45.421Z"
   },
   {
    "duration": 52,
    "start_time": "2024-12-23T15:16:45.437Z"
   },
   {
    "duration": 12,
    "start_time": "2024-12-23T15:16:45.490Z"
   },
   {
    "duration": 10,
    "start_time": "2024-12-23T15:16:45.504Z"
   },
   {
    "duration": 50,
    "start_time": "2024-12-23T15:16:45.516Z"
   },
   {
    "duration": 9,
    "start_time": "2024-12-23T15:16:45.568Z"
   },
   {
    "duration": 39,
    "start_time": "2024-12-23T15:16:45.579Z"
   },
   {
    "duration": 57,
    "start_time": "2024-12-23T15:16:45.619Z"
   },
   {
    "duration": 21,
    "start_time": "2024-12-23T15:16:45.677Z"
   },
   {
    "duration": 55,
    "start_time": "2024-12-23T15:16:45.699Z"
   },
   {
    "duration": 16,
    "start_time": "2024-12-23T15:16:45.755Z"
   },
   {
    "duration": 7,
    "start_time": "2024-12-23T15:16:45.772Z"
   },
   {
    "duration": 5,
    "start_time": "2024-12-23T15:16:45.780Z"
   },
   {
    "duration": 5,
    "start_time": "2024-12-23T15:16:45.786Z"
   },
   {
    "duration": 68,
    "start_time": "2024-12-23T15:16:45.792Z"
   },
   {
    "duration": 7,
    "start_time": "2024-12-23T15:16:45.862Z"
   },
   {
    "duration": 19,
    "start_time": "2024-12-23T15:16:45.870Z"
   },
   {
    "duration": 25,
    "start_time": "2024-12-23T15:16:45.890Z"
   },
   {
    "duration": 7,
    "start_time": "2024-12-23T15:16:45.916Z"
   },
   {
    "duration": 7,
    "start_time": "2024-12-23T15:16:45.924Z"
   },
   {
    "duration": 1236,
    "start_time": "2024-12-23T15:16:45.933Z"
   },
   {
    "duration": 7,
    "start_time": "2024-12-23T15:16:47.170Z"
   },
   {
    "duration": 10,
    "start_time": "2024-12-23T15:16:47.178Z"
   },
   {
    "duration": 7,
    "start_time": "2024-12-23T15:16:47.189Z"
   },
   {
    "duration": 8,
    "start_time": "2024-12-23T15:16:47.198Z"
   },
   {
    "duration": 24,
    "start_time": "2024-12-23T15:16:47.207Z"
   },
   {
    "duration": 4,
    "start_time": "2024-12-23T15:16:47.254Z"
   },
   {
    "duration": 87,
    "start_time": "2024-12-23T15:16:47.259Z"
   },
   {
    "duration": 3,
    "start_time": "2024-12-23T15:16:47.348Z"
   },
   {
    "duration": 36,
    "start_time": "2024-12-23T15:16:47.352Z"
   },
   {
    "duration": 6,
    "start_time": "2024-12-23T15:16:47.389Z"
   },
   {
    "duration": 8,
    "start_time": "2024-12-23T15:16:47.397Z"
   },
   {
    "duration": 442,
    "start_time": "2024-12-23T15:16:47.406Z"
   },
   {
    "duration": 2,
    "start_time": "2024-12-23T15:16:47.853Z"
   },
   {
    "duration": 49,
    "start_time": "2024-12-23T15:16:47.857Z"
   },
   {
    "duration": 10,
    "start_time": "2024-12-23T15:16:47.907Z"
   },
   {
    "duration": 25,
    "start_time": "2024-12-23T15:16:47.918Z"
   },
   {
    "duration": 3,
    "start_time": "2024-12-23T15:16:47.945Z"
   },
   {
    "duration": 116,
    "start_time": "2024-12-23T15:16:47.949Z"
   },
   {
    "duration": 3,
    "start_time": "2024-12-23T15:16:48.066Z"
   },
   {
    "duration": 69,
    "start_time": "2024-12-23T15:16:48.070Z"
   },
   {
    "duration": 93,
    "start_time": "2024-12-23T15:16:48.141Z"
   },
   {
    "duration": 1040,
    "start_time": "2024-12-24T07:38:48.539Z"
   },
   {
    "duration": 3,
    "start_time": "2024-12-24T07:38:49.580Z"
   },
   {
    "duration": 8,
    "start_time": "2024-12-24T07:38:49.584Z"
   },
   {
    "duration": 341,
    "start_time": "2024-12-24T07:38:49.594Z"
   },
   {
    "duration": 21,
    "start_time": "2024-12-24T07:38:49.936Z"
   },
   {
    "duration": 28,
    "start_time": "2024-12-24T07:38:49.958Z"
   },
   {
    "duration": 10,
    "start_time": "2024-12-24T07:38:49.988Z"
   },
   {
    "duration": 19,
    "start_time": "2024-12-24T07:38:49.999Z"
   },
   {
    "duration": 34,
    "start_time": "2024-12-24T07:38:50.020Z"
   },
   {
    "duration": 12,
    "start_time": "2024-12-24T07:38:50.056Z"
   },
   {
    "duration": 17,
    "start_time": "2024-12-24T07:38:50.069Z"
   },
   {
    "duration": 20,
    "start_time": "2024-12-24T07:38:50.087Z"
   },
   {
    "duration": 713,
    "start_time": "2024-12-24T07:38:50.109Z"
   },
   {
    "duration": 5,
    "start_time": "2024-12-24T07:38:50.823Z"
   },
   {
    "duration": 219,
    "start_time": "2024-12-24T07:38:50.829Z"
   },
   {
    "duration": 169,
    "start_time": "2024-12-24T07:38:51.050Z"
   },
   {
    "duration": 4,
    "start_time": "2024-12-24T07:38:51.220Z"
   },
   {
    "duration": 39,
    "start_time": "2024-12-24T07:38:51.226Z"
   },
   {
    "duration": 13,
    "start_time": "2024-12-24T07:38:51.267Z"
   },
   {
    "duration": 325,
    "start_time": "2024-12-24T07:38:51.282Z"
   },
   {
    "duration": 11,
    "start_time": "2024-12-24T07:38:51.608Z"
   },
   {
    "duration": 11,
    "start_time": "2024-12-24T07:38:51.620Z"
   },
   {
    "duration": 71,
    "start_time": "2024-12-24T07:38:51.633Z"
   },
   {
    "duration": 15,
    "start_time": "2024-12-24T07:38:51.706Z"
   },
   {
    "duration": 61,
    "start_time": "2024-12-24T07:38:51.723Z"
   },
   {
    "duration": 16,
    "start_time": "2024-12-24T07:38:51.786Z"
   },
   {
    "duration": 79,
    "start_time": "2024-12-24T07:38:51.804Z"
   },
   {
    "duration": 208,
    "start_time": "2024-12-24T07:38:51.888Z"
   },
   {
    "duration": 5,
    "start_time": "2024-12-24T07:38:52.097Z"
   },
   {
    "duration": 36,
    "start_time": "2024-12-24T07:38:52.103Z"
   },
   {
    "duration": 23,
    "start_time": "2024-12-24T07:38:52.141Z"
   },
   {
    "duration": 17,
    "start_time": "2024-12-24T07:38:52.166Z"
   },
   {
    "duration": 14,
    "start_time": "2024-12-24T07:38:52.184Z"
   },
   {
    "duration": 7,
    "start_time": "2024-12-24T07:38:52.199Z"
   },
   {
    "duration": 32,
    "start_time": "2024-12-24T07:38:52.207Z"
   },
   {
    "duration": 14,
    "start_time": "2024-12-24T07:38:52.240Z"
   },
   {
    "duration": 11,
    "start_time": "2024-12-24T07:38:52.256Z"
   },
   {
    "duration": 24,
    "start_time": "2024-12-24T07:38:52.269Z"
   },
   {
    "duration": 13,
    "start_time": "2024-12-24T07:38:52.295Z"
   },
   {
    "duration": 12,
    "start_time": "2024-12-24T07:38:52.310Z"
   },
   {
    "duration": 65,
    "start_time": "2024-12-24T07:38:52.323Z"
   },
   {
    "duration": 10,
    "start_time": "2024-12-24T07:38:52.390Z"
   },
   {
    "duration": 17,
    "start_time": "2024-12-24T07:38:52.402Z"
   },
   {
    "duration": 36,
    "start_time": "2024-12-24T07:38:52.421Z"
   },
   {
    "duration": 18,
    "start_time": "2024-12-24T07:38:52.458Z"
   },
   {
    "duration": 54,
    "start_time": "2024-12-24T07:38:52.477Z"
   },
   {
    "duration": 34,
    "start_time": "2024-12-24T07:38:52.533Z"
   },
   {
    "duration": 8,
    "start_time": "2024-12-24T07:38:52.569Z"
   },
   {
    "duration": 4,
    "start_time": "2024-12-24T07:38:52.578Z"
   },
   {
    "duration": 15,
    "start_time": "2024-12-24T07:38:52.583Z"
   },
   {
    "duration": 69,
    "start_time": "2024-12-24T07:38:52.599Z"
   },
   {
    "duration": 7,
    "start_time": "2024-12-24T07:38:52.669Z"
   },
   {
    "duration": 17,
    "start_time": "2024-12-24T07:38:52.677Z"
   },
   {
    "duration": 38,
    "start_time": "2024-12-24T07:38:52.695Z"
   },
   {
    "duration": 14,
    "start_time": "2024-12-24T07:38:52.734Z"
   },
   {
    "duration": 16,
    "start_time": "2024-12-24T07:38:52.750Z"
   },
   {
    "duration": 1207,
    "start_time": "2024-12-24T07:38:52.768Z"
   },
   {
    "duration": 7,
    "start_time": "2024-12-24T07:38:53.976Z"
   },
   {
    "duration": 11,
    "start_time": "2024-12-24T07:38:53.984Z"
   },
   {
    "duration": 10,
    "start_time": "2024-12-24T07:38:53.996Z"
   },
   {
    "duration": 13,
    "start_time": "2024-12-24T07:38:54.007Z"
   },
   {
    "duration": 38,
    "start_time": "2024-12-24T07:38:54.021Z"
   },
   {
    "duration": 4,
    "start_time": "2024-12-24T07:38:54.060Z"
   },
   {
    "duration": 97,
    "start_time": "2024-12-24T07:38:54.066Z"
   },
   {
    "duration": 4,
    "start_time": "2024-12-24T07:38:54.164Z"
   },
   {
    "duration": 35,
    "start_time": "2024-12-24T07:38:54.169Z"
   },
   {
    "duration": 10,
    "start_time": "2024-12-24T07:38:54.205Z"
   },
   {
    "duration": 9,
    "start_time": "2024-12-24T07:38:54.216Z"
   },
   {
    "duration": 458,
    "start_time": "2024-12-24T07:38:54.226Z"
   },
   {
    "duration": 2,
    "start_time": "2024-12-24T07:38:54.686Z"
   },
   {
    "duration": 42,
    "start_time": "2024-12-24T07:38:54.690Z"
   },
   {
    "duration": 10,
    "start_time": "2024-12-24T07:38:54.733Z"
   },
   {
    "duration": 41,
    "start_time": "2024-12-24T07:38:54.745Z"
   },
   {
    "duration": 7,
    "start_time": "2024-12-24T07:38:54.787Z"
   },
   {
    "duration": 104,
    "start_time": "2024-12-24T07:38:54.795Z"
   },
   {
    "duration": 2,
    "start_time": "2024-12-24T07:38:54.901Z"
   },
   {
    "duration": 75,
    "start_time": "2024-12-24T07:38:54.905Z"
   },
   {
    "duration": 107,
    "start_time": "2024-12-24T07:38:54.982Z"
   },
   {
    "duration": 13,
    "start_time": "2024-12-24T07:46:55.453Z"
   },
   {
    "duration": 1063,
    "start_time": "2024-12-26T09:40:14.263Z"
   },
   {
    "duration": 3,
    "start_time": "2024-12-26T09:40:15.328Z"
   },
   {
    "duration": 31,
    "start_time": "2024-12-26T09:40:15.332Z"
   },
   {
    "duration": 513,
    "start_time": "2024-12-26T09:40:15.364Z"
   },
   {
    "duration": 4,
    "start_time": "2024-12-26T09:40:15.879Z"
   },
   {
    "duration": 16,
    "start_time": "2024-12-26T09:40:15.884Z"
   },
   {
    "duration": 25,
    "start_time": "2024-12-26T09:40:15.902Z"
   },
   {
    "duration": 14,
    "start_time": "2024-12-26T09:40:15.928Z"
   },
   {
    "duration": 11,
    "start_time": "2024-12-26T09:40:15.945Z"
   },
   {
    "duration": 8,
    "start_time": "2024-12-26T09:40:15.958Z"
   },
   {
    "duration": 12,
    "start_time": "2024-12-26T09:40:15.968Z"
   },
   {
    "duration": 47,
    "start_time": "2024-12-26T09:40:15.982Z"
   },
   {
    "duration": 20,
    "start_time": "2024-12-26T09:40:16.031Z"
   },
   {
    "duration": 15,
    "start_time": "2024-12-26T09:40:16.054Z"
   },
   {
    "duration": 16,
    "start_time": "2024-12-26T09:40:16.071Z"
   },
   {
    "duration": 11,
    "start_time": "2024-12-26T09:40:16.089Z"
   },
   {
    "duration": 29,
    "start_time": "2024-12-26T09:40:16.102Z"
   },
   {
    "duration": 732,
    "start_time": "2024-12-26T09:40:16.132Z"
   },
   {
    "duration": 5,
    "start_time": "2024-12-26T09:40:16.866Z"
   },
   {
    "duration": 240,
    "start_time": "2024-12-26T09:40:16.872Z"
   },
   {
    "duration": 10,
    "start_time": "2024-12-26T09:40:17.114Z"
   },
   {
    "duration": 35,
    "start_time": "2024-12-26T09:40:17.125Z"
   },
   {
    "duration": 82,
    "start_time": "2024-12-26T09:40:17.162Z"
   },
   {
    "duration": 54,
    "start_time": "2024-12-26T09:40:17.245Z"
   },
   {
    "duration": 24,
    "start_time": "2024-12-26T09:40:17.301Z"
   },
   {
    "duration": 40,
    "start_time": "2024-12-26T09:40:17.326Z"
   },
   {
    "duration": 6,
    "start_time": "2024-12-26T09:40:17.368Z"
   },
   {
    "duration": 18,
    "start_time": "2024-12-26T09:40:17.375Z"
   },
   {
    "duration": 315,
    "start_time": "2024-12-26T09:40:17.395Z"
   },
   {
    "duration": 11,
    "start_time": "2024-12-26T09:40:17.711Z"
   },
   {
    "duration": 74,
    "start_time": "2024-12-26T09:40:17.724Z"
   },
   {
    "duration": 66,
    "start_time": "2024-12-26T09:40:17.800Z"
   },
   {
    "duration": 14,
    "start_time": "2024-12-26T09:40:17.868Z"
   },
   {
    "duration": 73,
    "start_time": "2024-12-26T09:40:17.884Z"
   },
   {
    "duration": 23,
    "start_time": "2024-12-26T09:40:17.959Z"
   },
   {
    "duration": 64,
    "start_time": "2024-12-26T09:40:17.983Z"
   },
   {
    "duration": 193,
    "start_time": "2024-12-26T09:40:18.048Z"
   },
   {
    "duration": 3,
    "start_time": "2024-12-26T09:40:18.243Z"
   },
   {
    "duration": 61,
    "start_time": "2024-12-26T09:40:18.248Z"
   },
   {
    "duration": 15,
    "start_time": "2024-12-26T09:40:18.311Z"
   },
   {
    "duration": 6,
    "start_time": "2024-12-26T09:40:18.332Z"
   },
   {
    "duration": 32,
    "start_time": "2024-12-26T09:40:18.339Z"
   },
   {
    "duration": 8,
    "start_time": "2024-12-26T09:40:18.373Z"
   },
   {
    "duration": 11,
    "start_time": "2024-12-26T09:40:18.383Z"
   },
   {
    "duration": 12,
    "start_time": "2024-12-26T09:40:18.396Z"
   },
   {
    "duration": 13,
    "start_time": "2024-12-26T09:40:18.410Z"
   },
   {
    "duration": 56,
    "start_time": "2024-12-26T09:40:18.424Z"
   },
   {
    "duration": 19,
    "start_time": "2024-12-26T09:40:18.481Z"
   },
   {
    "duration": 6,
    "start_time": "2024-12-26T09:40:18.502Z"
   },
   {
    "duration": 54,
    "start_time": "2024-12-26T09:40:18.510Z"
   },
   {
    "duration": 9,
    "start_time": "2024-12-26T09:40:18.565Z"
   },
   {
    "duration": 16,
    "start_time": "2024-12-26T09:40:18.575Z"
   },
   {
    "duration": 40,
    "start_time": "2024-12-26T09:40:18.593Z"
   },
   {
    "duration": 15,
    "start_time": "2024-12-26T09:40:18.635Z"
   },
   {
    "duration": 72,
    "start_time": "2024-12-26T09:40:18.652Z"
   },
   {
    "duration": 12,
    "start_time": "2024-12-26T09:40:18.726Z"
   },
   {
    "duration": 100,
    "start_time": "2024-12-26T09:40:18.739Z"
   },
   {
    "duration": 61,
    "start_time": "2024-12-26T09:40:18.840Z"
   },
   {
    "duration": 5,
    "start_time": "2024-12-26T09:40:18.903Z"
   },
   {
    "duration": 80,
    "start_time": "2024-12-26T09:40:18.909Z"
   },
   {
    "duration": 33,
    "start_time": "2024-12-26T09:40:18.991Z"
   },
   {
    "duration": 35,
    "start_time": "2024-12-26T09:40:19.026Z"
   },
   {
    "duration": 88,
    "start_time": "2024-12-26T09:40:19.063Z"
   },
   {
    "duration": 88,
    "start_time": "2024-12-26T09:40:19.153Z"
   },
   {
    "duration": 88,
    "start_time": "2024-12-26T09:40:19.243Z"
   },
   {
    "duration": 3,
    "start_time": "2024-12-26T09:40:19.332Z"
   },
   {
    "duration": 29,
    "start_time": "2024-12-26T09:40:19.336Z"
   },
   {
    "duration": 10,
    "start_time": "2024-12-26T09:40:19.367Z"
   },
   {
    "duration": 36,
    "start_time": "2024-12-26T09:40:19.378Z"
   },
   {
    "duration": 43,
    "start_time": "2024-12-26T09:40:19.416Z"
   },
   {
    "duration": 119,
    "start_time": "2024-12-26T09:40:19.461Z"
   },
   {
    "duration": 3,
    "start_time": "2024-12-26T09:40:19.581Z"
   },
   {
    "duration": 33,
    "start_time": "2024-12-26T09:40:19.585Z"
   },
   {
    "duration": 103,
    "start_time": "2024-12-26T09:40:19.620Z"
   },
   {
    "duration": 1154,
    "start_time": "2024-12-27T05:40:01.591Z"
   },
   {
    "duration": 4,
    "start_time": "2024-12-27T05:40:02.747Z"
   },
   {
    "duration": 142,
    "start_time": "2024-12-27T05:40:02.752Z"
   },
   {
    "duration": 584,
    "start_time": "2024-12-27T05:40:02.896Z"
   },
   {
    "duration": 5,
    "start_time": "2024-12-27T05:40:03.482Z"
   },
   {
    "duration": 155,
    "start_time": "2024-12-27T05:40:03.489Z"
   },
   {
    "duration": 40,
    "start_time": "2024-12-27T05:40:03.645Z"
   },
   {
    "duration": 17,
    "start_time": "2024-12-27T05:40:03.687Z"
   },
   {
    "duration": 30,
    "start_time": "2024-12-27T05:40:03.706Z"
   },
   {
    "duration": 31,
    "start_time": "2024-12-27T05:40:03.739Z"
   },
   {
    "duration": 11,
    "start_time": "2024-12-27T05:40:03.772Z"
   },
   {
    "duration": 10,
    "start_time": "2024-12-27T05:40:03.784Z"
   },
   {
    "duration": 31,
    "start_time": "2024-12-27T05:40:03.795Z"
   },
   {
    "duration": 17,
    "start_time": "2024-12-27T05:40:03.828Z"
   },
   {
    "duration": 19,
    "start_time": "2024-12-27T05:40:03.847Z"
   },
   {
    "duration": 5,
    "start_time": "2024-12-27T05:40:03.868Z"
   },
   {
    "duration": 4,
    "start_time": "2024-12-27T05:40:03.875Z"
   },
   {
    "duration": 11,
    "start_time": "2024-12-27T05:40:03.880Z"
   },
   {
    "duration": 846,
    "start_time": "2024-12-27T05:40:03.893Z"
   },
   {
    "duration": 5,
    "start_time": "2024-12-27T05:40:04.741Z"
   },
   {
    "duration": 167,
    "start_time": "2024-12-27T05:40:04.748Z"
   },
   {
    "duration": 16,
    "start_time": "2024-12-27T05:40:04.916Z"
   },
   {
    "duration": 60,
    "start_time": "2024-12-27T05:40:04.933Z"
   },
   {
    "duration": 6,
    "start_time": "2024-12-27T05:40:04.995Z"
   },
   {
    "duration": 16,
    "start_time": "2024-12-27T05:40:05.002Z"
   },
   {
    "duration": 385,
    "start_time": "2024-12-27T05:40:05.019Z"
   },
   {
    "duration": 9,
    "start_time": "2024-12-27T05:40:05.406Z"
   },
   {
    "duration": 30,
    "start_time": "2024-12-27T05:40:05.419Z"
   },
   {
    "duration": 54,
    "start_time": "2024-12-27T05:40:05.450Z"
   },
   {
    "duration": 15,
    "start_time": "2024-12-27T05:40:05.506Z"
   },
   {
    "duration": 145,
    "start_time": "2024-12-27T05:40:05.522Z"
   },
   {
    "duration": 47,
    "start_time": "2024-12-27T05:40:05.669Z"
   },
   {
    "duration": 82,
    "start_time": "2024-12-27T05:40:05.717Z"
   },
   {
    "duration": 211,
    "start_time": "2024-12-27T05:40:05.801Z"
   },
   {
    "duration": 4,
    "start_time": "2024-12-27T05:40:06.014Z"
   },
   {
    "duration": 58,
    "start_time": "2024-12-27T05:40:06.020Z"
   },
   {
    "duration": 13,
    "start_time": "2024-12-27T05:40:06.079Z"
   },
   {
    "duration": 22,
    "start_time": "2024-12-27T05:40:06.093Z"
   },
   {
    "duration": 13,
    "start_time": "2024-12-27T05:40:06.116Z"
   },
   {
    "duration": 27,
    "start_time": "2024-12-27T05:40:06.131Z"
   },
   {
    "duration": 44,
    "start_time": "2024-12-27T05:40:06.160Z"
   },
   {
    "duration": 21,
    "start_time": "2024-12-27T05:40:06.205Z"
   },
   {
    "duration": 13,
    "start_time": "2024-12-27T05:40:06.227Z"
   },
   {
    "duration": 40,
    "start_time": "2024-12-27T05:40:06.241Z"
   },
   {
    "duration": 13,
    "start_time": "2024-12-27T05:40:06.283Z"
   },
   {
    "duration": 26,
    "start_time": "2024-12-27T05:40:06.297Z"
   },
   {
    "duration": 54,
    "start_time": "2024-12-27T05:40:06.325Z"
   },
   {
    "duration": 10,
    "start_time": "2024-12-27T05:40:06.381Z"
   },
   {
    "duration": 21,
    "start_time": "2024-12-27T05:40:06.393Z"
   },
   {
    "duration": 50,
    "start_time": "2024-12-27T05:40:06.416Z"
   },
   {
    "duration": 30,
    "start_time": "2024-12-27T05:40:06.468Z"
   },
   {
    "duration": 63,
    "start_time": "2024-12-27T05:40:06.500Z"
   },
   {
    "duration": 16,
    "start_time": "2024-12-27T05:40:06.565Z"
   },
   {
    "duration": 117,
    "start_time": "2024-12-27T05:40:06.583Z"
   },
   {
    "duration": 9,
    "start_time": "2024-12-27T05:40:06.702Z"
   },
   {
    "duration": 22,
    "start_time": "2024-12-27T05:40:06.713Z"
   },
   {
    "duration": 210,
    "start_time": "2024-12-27T05:40:06.737Z"
   },
   {
    "duration": 32,
    "start_time": "2024-12-27T05:40:06.949Z"
   },
   {
    "duration": 36,
    "start_time": "2024-12-27T05:40:06.982Z"
   },
   {
    "duration": 46,
    "start_time": "2024-12-27T05:40:07.020Z"
   },
   {
    "duration": 93,
    "start_time": "2024-12-27T05:40:07.068Z"
   },
   {
    "duration": 78,
    "start_time": "2024-12-27T05:40:07.171Z"
   },
   {
    "duration": 102,
    "start_time": "2024-12-27T05:40:07.251Z"
   },
   {
    "duration": 3,
    "start_time": "2024-12-27T05:40:07.354Z"
   },
   {
    "duration": 19,
    "start_time": "2024-12-27T05:40:07.371Z"
   },
   {
    "duration": 14,
    "start_time": "2024-12-27T05:40:07.391Z"
   },
   {
    "duration": 10,
    "start_time": "2024-12-27T05:40:07.407Z"
   },
   {
    "duration": 37,
    "start_time": "2024-12-27T05:40:07.419Z"
   },
   {
    "duration": 271,
    "start_time": "2024-12-27T05:40:07.458Z"
   },
   {
    "duration": 2,
    "start_time": "2024-12-27T05:40:07.731Z"
   },
   {
    "duration": 30,
    "start_time": "2024-12-27T05:40:07.734Z"
   },
   {
    "duration": 120,
    "start_time": "2024-12-27T05:40:07.770Z"
   },
   {
    "duration": 1249,
    "start_time": "2024-12-27T11:37:04.939Z"
   },
   {
    "duration": 4,
    "start_time": "2024-12-27T11:37:06.190Z"
   },
   {
    "duration": 45,
    "start_time": "2024-12-27T11:37:06.195Z"
   },
   {
    "duration": 634,
    "start_time": "2024-12-27T11:37:06.241Z"
   },
   {
    "duration": 14,
    "start_time": "2024-12-27T11:37:06.879Z"
   },
   {
    "duration": 69,
    "start_time": "2024-12-27T11:37:06.895Z"
   },
   {
    "duration": 17,
    "start_time": "2024-12-27T11:37:06.966Z"
   },
   {
    "duration": 16,
    "start_time": "2024-12-27T11:37:06.989Z"
   },
   {
    "duration": 10,
    "start_time": "2024-12-27T11:37:07.006Z"
   },
   {
    "duration": 33,
    "start_time": "2024-12-27T11:37:07.017Z"
   },
   {
    "duration": 34,
    "start_time": "2024-12-27T11:37:07.051Z"
   },
   {
    "duration": 16,
    "start_time": "2024-12-27T11:37:07.087Z"
   },
   {
    "duration": 24,
    "start_time": "2024-12-27T11:37:07.105Z"
   },
   {
    "duration": 19,
    "start_time": "2024-12-27T11:37:07.132Z"
   },
   {
    "duration": 34,
    "start_time": "2024-12-27T11:37:07.153Z"
   },
   {
    "duration": 8,
    "start_time": "2024-12-27T11:37:07.189Z"
   },
   {
    "duration": 23,
    "start_time": "2024-12-27T11:37:07.199Z"
   },
   {
    "duration": 61,
    "start_time": "2024-12-27T11:37:07.224Z"
   },
   {
    "duration": 453,
    "start_time": "2024-12-27T11:37:07.288Z"
   },
   {
    "duration": 37,
    "start_time": "2024-12-27T11:37:07.744Z"
   },
   {
    "duration": 11,
    "start_time": "2024-12-27T11:37:07.787Z"
   },
   {
    "duration": 8,
    "start_time": "2024-12-27T11:37:07.800Z"
   },
   {
    "duration": 14,
    "start_time": "2024-12-27T11:37:07.810Z"
   },
   {
    "duration": 115,
    "start_time": "2024-12-27T11:37:07.873Z"
   },
   {
    "duration": 5,
    "start_time": "2024-12-27T11:37:07.995Z"
   },
   {
    "duration": 11,
    "start_time": "2024-12-27T11:37:08.002Z"
   },
   {
    "duration": 26,
    "start_time": "2024-12-27T11:37:08.014Z"
   },
   {
    "duration": 491,
    "start_time": "2024-12-27T11:37:08.042Z"
   },
   {
    "duration": 11,
    "start_time": "2024-12-27T11:37:08.534Z"
   },
   {
    "duration": 38,
    "start_time": "2024-12-27T11:37:08.547Z"
   },
   {
    "duration": 57,
    "start_time": "2024-12-27T11:37:08.591Z"
   },
   {
    "duration": 40,
    "start_time": "2024-12-27T11:37:08.650Z"
   },
   {
    "duration": 53,
    "start_time": "2024-12-27T11:37:08.692Z"
   },
   {
    "duration": 43,
    "start_time": "2024-12-27T11:37:08.747Z"
   },
   {
    "duration": 51,
    "start_time": "2024-12-27T11:37:08.792Z"
   },
   {
    "duration": 289,
    "start_time": "2024-12-27T11:37:08.846Z"
   },
   {
    "duration": 5,
    "start_time": "2024-12-27T11:37:09.137Z"
   },
   {
    "duration": 59,
    "start_time": "2024-12-27T11:37:09.144Z"
   },
   {
    "duration": 5,
    "start_time": "2024-12-27T11:37:09.205Z"
   },
   {
    "duration": 6,
    "start_time": "2024-12-27T11:37:09.212Z"
   },
   {
    "duration": 3,
    "start_time": "2024-12-27T11:37:09.222Z"
   },
   {
    "duration": 9,
    "start_time": "2024-12-27T11:37:09.227Z"
   },
   {
    "duration": 20,
    "start_time": "2024-12-27T11:37:09.271Z"
   },
   {
    "duration": 19,
    "start_time": "2024-12-27T11:37:09.293Z"
   },
   {
    "duration": 13,
    "start_time": "2024-12-27T11:37:09.315Z"
   },
   {
    "duration": 66,
    "start_time": "2024-12-27T11:37:09.330Z"
   },
   {
    "duration": 15,
    "start_time": "2024-12-27T11:37:09.397Z"
   },
   {
    "duration": 17,
    "start_time": "2024-12-27T11:37:09.413Z"
   },
   {
    "duration": 88,
    "start_time": "2024-12-27T11:37:09.432Z"
   },
   {
    "duration": 11,
    "start_time": "2024-12-27T11:37:09.522Z"
   },
   {
    "duration": 23,
    "start_time": "2024-12-27T11:37:09.535Z"
   },
   {
    "duration": 35,
    "start_time": "2024-12-27T11:37:09.570Z"
   },
   {
    "duration": 18,
    "start_time": "2024-12-27T11:37:09.607Z"
   },
   {
    "duration": 92,
    "start_time": "2024-12-27T11:37:09.627Z"
   },
   {
    "duration": 14,
    "start_time": "2024-12-27T11:37:09.721Z"
   },
   {
    "duration": 116,
    "start_time": "2024-12-27T11:37:09.736Z"
   },
   {
    "duration": 19,
    "start_time": "2024-12-27T11:37:09.854Z"
   },
   {
    "duration": 7,
    "start_time": "2024-12-27T11:37:09.876Z"
   },
   {
    "duration": 102,
    "start_time": "2024-12-27T11:37:09.894Z"
   },
   {
    "duration": 29,
    "start_time": "2024-12-27T11:37:10.007Z"
   },
   {
    "duration": 134,
    "start_time": "2024-12-27T11:37:10.039Z"
   },
   {
    "duration": 125,
    "start_time": "2024-12-27T11:37:10.179Z"
   },
   {
    "duration": 114,
    "start_time": "2024-12-27T11:37:10.307Z"
   },
   {
    "duration": 3,
    "start_time": "2024-12-27T11:37:10.422Z"
   },
   {
    "duration": 110,
    "start_time": "2024-12-27T11:37:10.427Z"
   },
   {
    "duration": 11,
    "start_time": "2024-12-27T11:37:10.539Z"
   },
   {
    "duration": 6,
    "start_time": "2024-12-27T11:37:10.552Z"
   },
   {
    "duration": 13,
    "start_time": "2024-12-27T11:37:10.559Z"
   },
   {
    "duration": 336,
    "start_time": "2024-12-27T11:37:10.575Z"
   },
   {
    "duration": 3,
    "start_time": "2024-12-27T11:37:10.913Z"
   },
   {
    "duration": 51,
    "start_time": "2024-12-27T11:37:10.918Z"
   },
   {
    "duration": 141,
    "start_time": "2024-12-27T11:37:10.974Z"
   },
   {
    "duration": 1226,
    "start_time": "2024-12-27T18:07:43.362Z"
   },
   {
    "duration": 4,
    "start_time": "2024-12-27T18:07:44.591Z"
   },
   {
    "duration": 6,
    "start_time": "2024-12-27T18:07:44.597Z"
   },
   {
    "duration": 551,
    "start_time": "2024-12-27T18:07:44.606Z"
   },
   {
    "duration": 15,
    "start_time": "2024-12-27T18:07:45.158Z"
   },
   {
    "duration": 39,
    "start_time": "2024-12-27T18:07:45.175Z"
   },
   {
    "duration": 44,
    "start_time": "2024-12-27T18:07:45.216Z"
   },
   {
    "duration": 53,
    "start_time": "2024-12-27T18:07:45.262Z"
   },
   {
    "duration": 71,
    "start_time": "2024-12-27T18:07:45.317Z"
   },
   {
    "duration": 26,
    "start_time": "2024-12-27T18:07:45.393Z"
   },
   {
    "duration": 59,
    "start_time": "2024-12-27T18:07:45.420Z"
   },
   {
    "duration": 35,
    "start_time": "2024-12-27T18:07:45.480Z"
   },
   {
    "duration": 30,
    "start_time": "2024-12-27T18:07:45.517Z"
   },
   {
    "duration": 25,
    "start_time": "2024-12-27T18:07:45.549Z"
   },
   {
    "duration": 39,
    "start_time": "2024-12-27T18:07:45.575Z"
   },
   {
    "duration": 11,
    "start_time": "2024-12-27T18:07:45.616Z"
   },
   {
    "duration": 33,
    "start_time": "2024-12-27T18:07:45.628Z"
   },
   {
    "duration": 67,
    "start_time": "2024-12-27T18:07:45.662Z"
   },
   {
    "duration": 852,
    "start_time": "2024-12-27T18:07:45.731Z"
   },
   {
    "duration": 6,
    "start_time": "2024-12-27T18:07:46.585Z"
   },
   {
    "duration": 77,
    "start_time": "2024-12-27T18:07:46.593Z"
   },
   {
    "duration": 7,
    "start_time": "2024-12-27T18:07:46.672Z"
   },
   {
    "duration": 35,
    "start_time": "2024-12-27T18:07:46.682Z"
   },
   {
    "duration": 105,
    "start_time": "2024-12-27T18:07:46.719Z"
   },
   {
    "duration": 4,
    "start_time": "2024-12-27T18:07:46.826Z"
   },
   {
    "duration": 28,
    "start_time": "2024-12-27T18:07:46.832Z"
   },
   {
    "duration": 8,
    "start_time": "2024-12-27T18:07:46.862Z"
   },
   {
    "duration": 449,
    "start_time": "2024-12-27T18:07:46.875Z"
   },
   {
    "duration": 10,
    "start_time": "2024-12-27T18:07:47.326Z"
   },
   {
    "duration": 26,
    "start_time": "2024-12-27T18:07:47.338Z"
   },
   {
    "duration": 54,
    "start_time": "2024-12-27T18:07:47.371Z"
   },
   {
    "duration": 18,
    "start_time": "2024-12-27T18:07:47.427Z"
   },
   {
    "duration": 53,
    "start_time": "2024-12-27T18:07:47.469Z"
   },
   {
    "duration": 18,
    "start_time": "2024-12-27T18:07:47.525Z"
   },
   {
    "duration": 73,
    "start_time": "2024-12-27T18:07:47.545Z"
   },
   {
    "duration": 227,
    "start_time": "2024-12-27T18:07:47.620Z"
   },
   {
    "duration": 5,
    "start_time": "2024-12-27T18:07:47.848Z"
   },
   {
    "duration": 44,
    "start_time": "2024-12-27T18:07:47.854Z"
   },
   {
    "duration": 6,
    "start_time": "2024-12-27T18:07:47.899Z"
   },
   {
    "duration": 12,
    "start_time": "2024-12-27T18:07:47.906Z"
   },
   {
    "duration": 3,
    "start_time": "2024-12-27T18:07:47.920Z"
   },
   {
    "duration": 7,
    "start_time": "2024-12-27T18:07:47.925Z"
   },
   {
    "duration": 39,
    "start_time": "2024-12-27T18:07:47.933Z"
   },
   {
    "duration": 13,
    "start_time": "2024-12-27T18:07:47.974Z"
   },
   {
    "duration": 13,
    "start_time": "2024-12-27T18:07:47.989Z"
   },
   {
    "duration": 29,
    "start_time": "2024-12-27T18:07:48.003Z"
   },
   {
    "duration": 43,
    "start_time": "2024-12-27T18:07:48.034Z"
   },
   {
    "duration": 17,
    "start_time": "2024-12-27T18:07:48.079Z"
   },
   {
    "duration": 50,
    "start_time": "2024-12-27T18:07:48.098Z"
   },
   {
    "duration": 20,
    "start_time": "2024-12-27T18:07:48.150Z"
   },
   {
    "duration": 10,
    "start_time": "2024-12-27T18:07:48.172Z"
   },
   {
    "duration": 21,
    "start_time": "2024-12-27T18:07:48.184Z"
   },
   {
    "duration": 18,
    "start_time": "2024-12-27T18:07:48.207Z"
   },
   {
    "duration": 93,
    "start_time": "2024-12-27T18:07:48.227Z"
   },
   {
    "duration": 14,
    "start_time": "2024-12-27T18:07:48.322Z"
   },
   {
    "duration": 103,
    "start_time": "2024-12-27T18:07:48.337Z"
   },
   {
    "duration": 9,
    "start_time": "2024-12-27T18:07:48.442Z"
   },
   {
    "duration": 39,
    "start_time": "2024-12-27T18:07:48.452Z"
   },
   {
    "duration": 82,
    "start_time": "2024-12-27T18:07:48.493Z"
   },
   {
    "duration": 17,
    "start_time": "2024-12-27T18:07:48.576Z"
   },
   {
    "duration": 118,
    "start_time": "2024-12-27T18:07:48.595Z"
   },
   {
    "duration": 101,
    "start_time": "2024-12-27T18:07:48.715Z"
   },
   {
    "duration": 108,
    "start_time": "2024-12-27T18:07:48.817Z"
   },
   {
    "duration": 3,
    "start_time": "2024-12-27T18:07:48.927Z"
   },
   {
    "duration": 39,
    "start_time": "2024-12-27T18:07:48.931Z"
   },
   {
    "duration": 12,
    "start_time": "2024-12-27T18:07:48.972Z"
   },
   {
    "duration": 5,
    "start_time": "2024-12-27T18:07:48.986Z"
   },
   {
    "duration": 16,
    "start_time": "2024-12-27T18:07:48.993Z"
   },
   {
    "duration": 275,
    "start_time": "2024-12-27T18:07:49.011Z"
   },
   {
    "duration": 3,
    "start_time": "2024-12-27T18:07:49.288Z"
   },
   {
    "duration": 28,
    "start_time": "2024-12-27T18:07:49.293Z"
   },
   {
    "duration": 126,
    "start_time": "2024-12-27T18:07:49.322Z"
   }
  ],
  "kernelspec": {
   "display_name": "practicum",
   "language": "python",
   "name": "python3"
  },
  "language_info": {
   "codemirror_mode": {
    "name": "ipython",
    "version": 3
   },
   "file_extension": ".py",
   "mimetype": "text/x-python",
   "name": "python",
   "nbconvert_exporter": "python",
   "pygments_lexer": "ipython3",
   "version": "3.9.18"
  },
  "toc": {
   "base_numbering": 1,
   "nav_menu": {},
   "number_sections": true,
   "sideBar": true,
   "skip_h1_title": true,
   "title_cell": "Table of Contents",
   "title_sidebar": "Contents",
   "toc_cell": false,
   "toc_position": {},
   "toc_section_display": true,
   "toc_window_display": false
  }
 },
 "nbformat": 4,
 "nbformat_minor": 2
}
