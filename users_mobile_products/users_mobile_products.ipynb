{
 "cells": [
  {
   "cell_type": "markdown",
   "metadata": {},
   "source": [
    "# Исследование поведения пользователей мобильного приложения для покупки продуктов питания"
   ]
  },
  {
   "cell_type": "markdown",
   "metadata": {},
   "source": [
    "Цель: разобраться как  ведут себя пользователи приложения и как изменится их поведение после изменения шрифта в приложении.  \n",
    "Задача: изучить воронки продаж и результаты ААВ эксперимента"
   ]
  },
  {
   "cell_type": "markdown",
   "metadata": {},
   "source": [
    "План работы:  \n",
    "1. загрузка данных\n",
    "2. предобработка\n",
    "3. анализ воронок продаж: \n",
    "    - построение воронки продаж \n",
    "    - исследование поведения пользователей (шаги совершаемые в приложении)\n",
    "4. анализ результатов ААВ эксперимента\n",
    "    - между контрольными группами\n",
    "    - между экспериментальной и каждой контрольными группами\n",
    "    - между экспериментальной и обьединенными контрольными группами\n"
   ]
  },
  {
   "cell_type": "markdown",
   "metadata": {},
   "source": [
    "## Описание данных   \n",
    "\n",
    "Каждая запись в логе — это действие пользователя, или событие.     \n",
    "`EventName` — название события;      \n",
    "`DeviceIDHash` — уникальный идентификатор пользователя;     \n",
    "`EventTimestamp` — время события;     \n",
    "`ExpId` — номер эксперимента: 246 и 247 — контрольные группы, а 248 — экспериментальная.   \n"
   ]
  },
  {
   "cell_type": "markdown",
   "metadata": {},
   "source": [
    "# Подготовка данных"
   ]
  },
  {
   "cell_type": "code",
   "execution_count": 1,
   "metadata": {
    "trusted": true
   },
   "outputs": [
    {
     "data": {
      "text/html": [
       "        <script type=\"text/javascript\">\n",
       "        window.PlotlyConfig = {MathJaxConfig: 'local'};\n",
       "        if (window.MathJax) {MathJax.Hub.Config({SVG: {font: \"STIX-Web\"}});}\n",
       "        if (typeof require !== 'undefined') {\n",
       "        require.undef(\"plotly\");\n",
       "        requirejs.config({\n",
       "            paths: {\n",
       "                'plotly': ['https://cdn.plot.ly/plotly-2.6.3.min']\n",
       "            }\n",
       "        });\n",
       "        require(['plotly'], function(Plotly) {\n",
       "            window._Plotly = Plotly;\n",
       "        });\n",
       "        }\n",
       "        </script>\n",
       "        "
      ]
     },
     "metadata": {},
     "output_type": "display_data"
    }
   ],
   "source": [
    "import pandas as pd\n",
    "import datetime\n",
    "import numpy as np\n",
    "import scipy.stats as stat\n",
    "import math as m\n",
    "\n",
    "import warnings\n",
    "warnings.filterwarnings('ignore')\n",
    "import plotly.express as px\n",
    "\n",
    "# для просмотретра проекта на nbviewer.org ---------\n",
    "from plotly.offline import plot, iplot, init_notebook_mode\n",
    "init_notebook_mode(connected=True)\n",
    "import plotly.io as pio\n",
    "# ----------------------------------------------------\n",
    "\n",
    "pd.options.display.max_colwidth = 190"
   ]
  },
  {
   "cell_type": "markdown",
   "metadata": {},
   "source": [
    "грузим данные"
   ]
  },
  {
   "cell_type": "code",
   "execution_count": 2,
   "metadata": {
    "trusted": true
   },
   "outputs": [],
   "source": [
    "data = pd.read_csv(\n",
    "        'https://code.s3.yandex.net/datasets/logs_exp.csv', sep='\\t')"
   ]
  },
  {
   "cell_type": "markdown",
   "metadata": {},
   "source": [
    "функция предварительного форматированиия названий столбцов , убирающая пробелы по краям названия, и заменяющая пробелы внутри на \"_\""
   ]
  },
  {
   "cell_type": "code",
   "execution_count": 3,
   "metadata": {
    "trusted": true
   },
   "outputs": [],
   "source": [
    "\n",
    "def get_format_columns(dataframe):\n",
    "    '''функция принимает датафрейм и возврашает форматированные названия столбцов: \n",
    "    (Основное)\n",
    "    1. без пробелов слева и справа\n",
    "    2. пробел внутри названия столбца заменяется на символ \"_\" \n",
    "\n",
    "    '''\n",
    "\n",
    "    return list(\n",
    "        map(\n",
    "            lambda x: x\n",
    "            .strip()\n",
    "            .replace(' ', '_'),\n",
    "            dataframe.columns\n",
    "        )\n",
    "    )"
   ]
  },
  {
   "cell_type": "markdown",
   "metadata": {},
   "source": [
    "форматируем названия столбцов"
   ]
  },
  {
   "cell_type": "code",
   "execution_count": 4,
   "metadata": {
    "trusted": true
   },
   "outputs": [
    {
     "data": {
      "text/plain": [
       "Index(['EventName', 'DeviceIDHash', 'EventTimestamp', 'ExpId'], dtype='object')"
      ]
     },
     "execution_count": 4,
     "metadata": {},
     "output_type": "execute_result"
    }
   ],
   "source": [
    "data.columns = get_format_columns(data)\n",
    "data.columns"
   ]
  },
  {
   "cell_type": "markdown",
   "metadata": {},
   "source": [
    "Переименовыываем для удобства"
   ]
  },
  {
   "cell_type": "code",
   "execution_count": 5,
   "metadata": {
    "scrolled": true,
    "trusted": true
   },
   "outputs": [
    {
     "data": {
      "text/plain": [
       "Index(['event_name', 'user_id', 'event_timestamp', 'group'], dtype='object')"
      ]
     },
     "execution_count": 5,
     "metadata": {},
     "output_type": "execute_result"
    }
   ],
   "source": [
    "data.rename(columns={'EventName': 'event_name',\n",
    "                     'DeviceIDHash': 'user_id',\n",
    "                     'EventTimestamp': 'event_timestamp',\n",
    "                     'ExpId': 'group'},\n",
    "            inplace=True)\n",
    "data.columns"
   ]
  },
  {
   "cell_type": "markdown",
   "metadata": {},
   "source": [
    "Выводим информацию о таблице"
   ]
  },
  {
   "cell_type": "code",
   "execution_count": 6,
   "metadata": {
    "trusted": true
   },
   "outputs": [
    {
     "name": "stdout",
     "output_type": "stream",
     "text": [
      "\n",
      "DATAFRAME: \tDATA\n",
      "-------------------------\n",
      "<class 'pandas.core.frame.DataFrame'>\n",
      "RangeIndex: 244126 entries, 0 to 244125\n",
      "Data columns (total 4 columns):\n",
      " #   Column           Non-Null Count   Dtype \n",
      "---  ------           --------------   ----- \n",
      " 0   event_name       244126 non-null  object\n",
      " 1   user_id          244126 non-null  int64 \n",
      " 2   event_timestamp  244126 non-null  int64 \n",
      " 3   group            244126 non-null  int64 \n",
      "dtypes: int64(3), object(1)\n",
      "memory usage: 7.5+ MB\n",
      "None\n"
     ]
    },
    {
     "data": {
      "text/html": [
       "<div>\n",
       "<style scoped>\n",
       "    .dataframe tbody tr th:only-of-type {\n",
       "        vertical-align: middle;\n",
       "    }\n",
       "\n",
       "    .dataframe tbody tr th {\n",
       "        vertical-align: top;\n",
       "    }\n",
       "\n",
       "    .dataframe thead th {\n",
       "        text-align: right;\n",
       "    }\n",
       "</style>\n",
       "<table border=\"1\" class=\"dataframe\">\n",
       "  <thead>\n",
       "    <tr style=\"text-align: right;\">\n",
       "      <th></th>\n",
       "      <th>event_name</th>\n",
       "      <th>user_id</th>\n",
       "      <th>event_timestamp</th>\n",
       "      <th>group</th>\n",
       "    </tr>\n",
       "  </thead>\n",
       "  <tbody>\n",
       "    <tr>\n",
       "      <th>0</th>\n",
       "      <td>MainScreenAppear</td>\n",
       "      <td>4575588528974610257</td>\n",
       "      <td>1564029816</td>\n",
       "      <td>246</td>\n",
       "    </tr>\n",
       "    <tr>\n",
       "      <th>1</th>\n",
       "      <td>MainScreenAppear</td>\n",
       "      <td>7416695313311560658</td>\n",
       "      <td>1564053102</td>\n",
       "      <td>246</td>\n",
       "    </tr>\n",
       "    <tr>\n",
       "      <th>2</th>\n",
       "      <td>PaymentScreenSuccessful</td>\n",
       "      <td>3518123091307005509</td>\n",
       "      <td>1564054127</td>\n",
       "      <td>248</td>\n",
       "    </tr>\n",
       "    <tr>\n",
       "      <th>3</th>\n",
       "      <td>CartScreenAppear</td>\n",
       "      <td>3518123091307005509</td>\n",
       "      <td>1564054127</td>\n",
       "      <td>248</td>\n",
       "    </tr>\n",
       "    <tr>\n",
       "      <th>4</th>\n",
       "      <td>PaymentScreenSuccessful</td>\n",
       "      <td>6217807653094995999</td>\n",
       "      <td>1564055322</td>\n",
       "      <td>248</td>\n",
       "    </tr>\n",
       "    <tr>\n",
       "      <th>5</th>\n",
       "      <td>CartScreenAppear</td>\n",
       "      <td>6217807653094995999</td>\n",
       "      <td>1564055323</td>\n",
       "      <td>248</td>\n",
       "    </tr>\n",
       "    <tr>\n",
       "      <th>6</th>\n",
       "      <td>OffersScreenAppear</td>\n",
       "      <td>8351860793733343758</td>\n",
       "      <td>1564066242</td>\n",
       "      <td>246</td>\n",
       "    </tr>\n",
       "    <tr>\n",
       "      <th>7</th>\n",
       "      <td>MainScreenAppear</td>\n",
       "      <td>5682100281902512875</td>\n",
       "      <td>1564085677</td>\n",
       "      <td>246</td>\n",
       "    </tr>\n",
       "    <tr>\n",
       "      <th>8</th>\n",
       "      <td>MainScreenAppear</td>\n",
       "      <td>1850981295691852772</td>\n",
       "      <td>1564086702</td>\n",
       "      <td>247</td>\n",
       "    </tr>\n",
       "    <tr>\n",
       "      <th>9</th>\n",
       "      <td>MainScreenAppear</td>\n",
       "      <td>5407636962369102641</td>\n",
       "      <td>1564112112</td>\n",
       "      <td>246</td>\n",
       "    </tr>\n",
       "  </tbody>\n",
       "</table>\n",
       "</div>"
      ],
      "text/plain": [
       "                event_name              user_id  event_timestamp  group\n",
       "0         MainScreenAppear  4575588528974610257       1564029816    246\n",
       "1         MainScreenAppear  7416695313311560658       1564053102    246\n",
       "2  PaymentScreenSuccessful  3518123091307005509       1564054127    248\n",
       "3         CartScreenAppear  3518123091307005509       1564054127    248\n",
       "4  PaymentScreenSuccessful  6217807653094995999       1564055322    248\n",
       "5         CartScreenAppear  6217807653094995999       1564055323    248\n",
       "6       OffersScreenAppear  8351860793733343758       1564066242    246\n",
       "7         MainScreenAppear  5682100281902512875       1564085677    246\n",
       "8         MainScreenAppear  1850981295691852772       1564086702    247\n",
       "9         MainScreenAppear  5407636962369102641       1564112112    246"
      ]
     },
     "metadata": {},
     "output_type": "display_data"
    },
    {
     "name": "stdout",
     "output_type": "stream",
     "text": [
      "\n",
      "ДУБЛИКАТОВ: 413\n",
      ". . . . . . . . . . \n",
      "\n",
      "ПРОПУСКИ\n",
      ". . . . . . . . . . \n",
      "event_name         0\n",
      "user_id            0\n",
      "event_timestamp    0\n",
      "group              0\n",
      "dtype: int64\n",
      "--------------------------------------------------------------------------------\n"
     ]
    }
   ],
   "source": [
    "for df, name in zip([data], ['data']):\n",
    "    print(f'\\ndataframe: \\t{name}\\n{\"-\"*25}'.upper())\n",
    "    print(df.info())\n",
    "    display(df.head(10))\n",
    "\n",
    "    print(f'\\nдубликатов: {df.duplicated().sum()}\\n{\". \"*10}'.upper())\n",
    "\n",
    "    print(f'\\nпропуски\\n{\". \"*10}'.upper())\n",
    "    print(df.isna().sum())\n",
    "\n",
    "    print('----'*20)"
   ]
  },
  {
   "cell_type": "markdown",
   "metadata": {},
   "source": [
    "Устраняем дубликаты"
   ]
  },
  {
   "cell_type": "code",
   "execution_count": 7,
   "metadata": {
    "trusted": true
   },
   "outputs": [],
   "source": [
    "data.drop_duplicates(inplace=True)"
   ]
  },
  {
   "cell_type": "markdown",
   "metadata": {},
   "source": [
    "создаем столбец с датой и временем"
   ]
  },
  {
   "cell_type": "code",
   "execution_count": 8,
   "metadata": {
    "trusted": true
   },
   "outputs": [
    {
     "data": {
      "text/html": [
       "<div>\n",
       "<style scoped>\n",
       "    .dataframe tbody tr th:only-of-type {\n",
       "        vertical-align: middle;\n",
       "    }\n",
       "\n",
       "    .dataframe tbody tr th {\n",
       "        vertical-align: top;\n",
       "    }\n",
       "\n",
       "    .dataframe thead th {\n",
       "        text-align: right;\n",
       "    }\n",
       "</style>\n",
       "<table border=\"1\" class=\"dataframe\">\n",
       "  <thead>\n",
       "    <tr style=\"text-align: right;\">\n",
       "      <th></th>\n",
       "      <th>event_name</th>\n",
       "      <th>user_id</th>\n",
       "      <th>event_timestamp</th>\n",
       "      <th>group</th>\n",
       "      <th>datetime</th>\n",
       "    </tr>\n",
       "  </thead>\n",
       "  <tbody>\n",
       "    <tr>\n",
       "      <th>0</th>\n",
       "      <td>MainScreenAppear</td>\n",
       "      <td>4575588528974610257</td>\n",
       "      <td>1564029816</td>\n",
       "      <td>246</td>\n",
       "      <td>2019-07-25 13:43:36</td>\n",
       "    </tr>\n",
       "    <tr>\n",
       "      <th>1</th>\n",
       "      <td>MainScreenAppear</td>\n",
       "      <td>7416695313311560658</td>\n",
       "      <td>1564053102</td>\n",
       "      <td>246</td>\n",
       "      <td>2019-07-25 20:11:42</td>\n",
       "    </tr>\n",
       "    <tr>\n",
       "      <th>2</th>\n",
       "      <td>PaymentScreenSuccessful</td>\n",
       "      <td>3518123091307005509</td>\n",
       "      <td>1564054127</td>\n",
       "      <td>248</td>\n",
       "      <td>2019-07-25 20:28:47</td>\n",
       "    </tr>\n",
       "    <tr>\n",
       "      <th>3</th>\n",
       "      <td>CartScreenAppear</td>\n",
       "      <td>3518123091307005509</td>\n",
       "      <td>1564054127</td>\n",
       "      <td>248</td>\n",
       "      <td>2019-07-25 20:28:47</td>\n",
       "    </tr>\n",
       "    <tr>\n",
       "      <th>4</th>\n",
       "      <td>PaymentScreenSuccessful</td>\n",
       "      <td>6217807653094995999</td>\n",
       "      <td>1564055322</td>\n",
       "      <td>248</td>\n",
       "      <td>2019-07-25 20:48:42</td>\n",
       "    </tr>\n",
       "  </tbody>\n",
       "</table>\n",
       "</div>"
      ],
      "text/plain": [
       "                event_name              user_id  event_timestamp  group  \\\n",
       "0         MainScreenAppear  4575588528974610257       1564029816    246   \n",
       "1         MainScreenAppear  7416695313311560658       1564053102    246   \n",
       "2  PaymentScreenSuccessful  3518123091307005509       1564054127    248   \n",
       "3         CartScreenAppear  3518123091307005509       1564054127    248   \n",
       "4  PaymentScreenSuccessful  6217807653094995999       1564055322    248   \n",
       "\n",
       "             datetime  \n",
       "0 2019-07-25 13:43:36  \n",
       "1 2019-07-25 20:11:42  \n",
       "2 2019-07-25 20:28:47  \n",
       "3 2019-07-25 20:28:47  \n",
       "4 2019-07-25 20:48:42  "
      ]
     },
     "execution_count": 8,
     "metadata": {},
     "output_type": "execute_result"
    }
   ],
   "source": [
    "data['datetime'] = (data['event_timestamp']\n",
    "                    .apply(lambda x:\n",
    "                           datetime\n",
    "                           .datetime\n",
    "                           .fromtimestamp(x)\n",
    "                           )\n",
    "                    )\n",
    "\n",
    "\n",
    "\n",
    "data.head()"
   ]
  },
  {
   "cell_type": "markdown",
   "metadata": {},
   "source": [
    "и отдельно столбец с датой"
   ]
  },
  {
   "cell_type": "code",
   "execution_count": 9,
   "metadata": {
    "trusted": true
   },
   "outputs": [
    {
     "data": {
      "text/plain": [
       "event_name                 object\n",
       "user_id                     int64\n",
       "event_timestamp             int64\n",
       "group                       int64\n",
       "datetime           datetime64[ns]\n",
       "date               datetime64[ns]\n",
       "dtype: object"
      ]
     },
     "execution_count": 9,
     "metadata": {},
     "output_type": "execute_result"
    }
   ],
   "source": [
    "\n",
    "data['date'] = pd.to_datetime(data['datetime'].dt.date)\n",
    "data.dtypes"
   ]
  },
  {
   "cell_type": "code",
   "execution_count": 10,
   "metadata": {
    "trusted": true
   },
   "outputs": [
    {
     "data": {
      "text/html": [
       "<div>\n",
       "<style scoped>\n",
       "    .dataframe tbody tr th:only-of-type {\n",
       "        vertical-align: middle;\n",
       "    }\n",
       "\n",
       "    .dataframe tbody tr th {\n",
       "        vertical-align: top;\n",
       "    }\n",
       "\n",
       "    .dataframe thead th {\n",
       "        text-align: right;\n",
       "    }\n",
       "</style>\n",
       "<table border=\"1\" class=\"dataframe\">\n",
       "  <thead>\n",
       "    <tr style=\"text-align: right;\">\n",
       "      <th></th>\n",
       "      <th>event_name</th>\n",
       "      <th>user_id</th>\n",
       "      <th>event_timestamp</th>\n",
       "      <th>group</th>\n",
       "      <th>datetime</th>\n",
       "      <th>date</th>\n",
       "    </tr>\n",
       "  </thead>\n",
       "  <tbody>\n",
       "    <tr>\n",
       "      <th>0</th>\n",
       "      <td>MainScreenAppear</td>\n",
       "      <td>4575588528974610257</td>\n",
       "      <td>1564029816</td>\n",
       "      <td>246</td>\n",
       "      <td>2019-07-25 13:43:36</td>\n",
       "      <td>2019-07-25</td>\n",
       "    </tr>\n",
       "    <tr>\n",
       "      <th>1</th>\n",
       "      <td>MainScreenAppear</td>\n",
       "      <td>7416695313311560658</td>\n",
       "      <td>1564053102</td>\n",
       "      <td>246</td>\n",
       "      <td>2019-07-25 20:11:42</td>\n",
       "      <td>2019-07-25</td>\n",
       "    </tr>\n",
       "    <tr>\n",
       "      <th>2</th>\n",
       "      <td>PaymentScreenSuccessful</td>\n",
       "      <td>3518123091307005509</td>\n",
       "      <td>1564054127</td>\n",
       "      <td>248</td>\n",
       "      <td>2019-07-25 20:28:47</td>\n",
       "      <td>2019-07-25</td>\n",
       "    </tr>\n",
       "    <tr>\n",
       "      <th>3</th>\n",
       "      <td>CartScreenAppear</td>\n",
       "      <td>3518123091307005509</td>\n",
       "      <td>1564054127</td>\n",
       "      <td>248</td>\n",
       "      <td>2019-07-25 20:28:47</td>\n",
       "      <td>2019-07-25</td>\n",
       "    </tr>\n",
       "    <tr>\n",
       "      <th>4</th>\n",
       "      <td>PaymentScreenSuccessful</td>\n",
       "      <td>6217807653094995999</td>\n",
       "      <td>1564055322</td>\n",
       "      <td>248</td>\n",
       "      <td>2019-07-25 20:48:42</td>\n",
       "      <td>2019-07-25</td>\n",
       "    </tr>\n",
       "  </tbody>\n",
       "</table>\n",
       "</div>"
      ],
      "text/plain": [
       "                event_name              user_id  event_timestamp  group  \\\n",
       "0         MainScreenAppear  4575588528974610257       1564029816    246   \n",
       "1         MainScreenAppear  7416695313311560658       1564053102    246   \n",
       "2  PaymentScreenSuccessful  3518123091307005509       1564054127    248   \n",
       "3         CartScreenAppear  3518123091307005509       1564054127    248   \n",
       "4  PaymentScreenSuccessful  6217807653094995999       1564055322    248   \n",
       "\n",
       "             datetime       date  \n",
       "0 2019-07-25 13:43:36 2019-07-25  \n",
       "1 2019-07-25 20:11:42 2019-07-25  \n",
       "2 2019-07-25 20:28:47 2019-07-25  \n",
       "3 2019-07-25 20:28:47 2019-07-25  \n",
       "4 2019-07-25 20:48:42 2019-07-25  "
      ]
     },
     "execution_count": 10,
     "metadata": {},
     "output_type": "execute_result"
    }
   ],
   "source": [
    "data.head()"
   ]
  },
  {
   "cell_type": "markdown",
   "metadata": {},
   "source": [
    "переименуем для удобства группы 246, 247, 248 как А, А_1, B соответсвенно"
   ]
  },
  {
   "cell_type": "code",
   "execution_count": 11,
   "metadata": {
    "trusted": true
   },
   "outputs": [],
   "source": [
    "def rename_group(arg):\n",
    "    '''заменяет номера групп на буквы'''\n",
    "    if arg == 246:\n",
    "        return 'A'\n",
    "    elif arg == 247:\n",
    "        return 'A_1'\n",
    "    else:\n",
    "        return 'B'"
   ]
  },
  {
   "cell_type": "code",
   "execution_count": 12,
   "metadata": {
    "trusted": true
   },
   "outputs": [
    {
     "data": {
      "text/html": [
       "<div>\n",
       "<style scoped>\n",
       "    .dataframe tbody tr th:only-of-type {\n",
       "        vertical-align: middle;\n",
       "    }\n",
       "\n",
       "    .dataframe tbody tr th {\n",
       "        vertical-align: top;\n",
       "    }\n",
       "\n",
       "    .dataframe thead th {\n",
       "        text-align: right;\n",
       "    }\n",
       "</style>\n",
       "<table border=\"1\" class=\"dataframe\">\n",
       "  <thead>\n",
       "    <tr style=\"text-align: right;\">\n",
       "      <th></th>\n",
       "      <th>event_name</th>\n",
       "      <th>user_id</th>\n",
       "      <th>event_timestamp</th>\n",
       "      <th>group</th>\n",
       "      <th>datetime</th>\n",
       "      <th>date</th>\n",
       "    </tr>\n",
       "  </thead>\n",
       "  <tbody>\n",
       "    <tr>\n",
       "      <th>0</th>\n",
       "      <td>MainScreenAppear</td>\n",
       "      <td>4575588528974610257</td>\n",
       "      <td>1564029816</td>\n",
       "      <td>A</td>\n",
       "      <td>2019-07-25 13:43:36</td>\n",
       "      <td>2019-07-25</td>\n",
       "    </tr>\n",
       "    <tr>\n",
       "      <th>1</th>\n",
       "      <td>MainScreenAppear</td>\n",
       "      <td>7416695313311560658</td>\n",
       "      <td>1564053102</td>\n",
       "      <td>A</td>\n",
       "      <td>2019-07-25 20:11:42</td>\n",
       "      <td>2019-07-25</td>\n",
       "    </tr>\n",
       "    <tr>\n",
       "      <th>2</th>\n",
       "      <td>PaymentScreenSuccessful</td>\n",
       "      <td>3518123091307005509</td>\n",
       "      <td>1564054127</td>\n",
       "      <td>B</td>\n",
       "      <td>2019-07-25 20:28:47</td>\n",
       "      <td>2019-07-25</td>\n",
       "    </tr>\n",
       "    <tr>\n",
       "      <th>3</th>\n",
       "      <td>CartScreenAppear</td>\n",
       "      <td>3518123091307005509</td>\n",
       "      <td>1564054127</td>\n",
       "      <td>B</td>\n",
       "      <td>2019-07-25 20:28:47</td>\n",
       "      <td>2019-07-25</td>\n",
       "    </tr>\n",
       "    <tr>\n",
       "      <th>4</th>\n",
       "      <td>PaymentScreenSuccessful</td>\n",
       "      <td>6217807653094995999</td>\n",
       "      <td>1564055322</td>\n",
       "      <td>B</td>\n",
       "      <td>2019-07-25 20:48:42</td>\n",
       "      <td>2019-07-25</td>\n",
       "    </tr>\n",
       "  </tbody>\n",
       "</table>\n",
       "</div>"
      ],
      "text/plain": [
       "                event_name              user_id  event_timestamp group  \\\n",
       "0         MainScreenAppear  4575588528974610257       1564029816     A   \n",
       "1         MainScreenAppear  7416695313311560658       1564053102     A   \n",
       "2  PaymentScreenSuccessful  3518123091307005509       1564054127     B   \n",
       "3         CartScreenAppear  3518123091307005509       1564054127     B   \n",
       "4  PaymentScreenSuccessful  6217807653094995999       1564055322     B   \n",
       "\n",
       "             datetime       date  \n",
       "0 2019-07-25 13:43:36 2019-07-25  \n",
       "1 2019-07-25 20:11:42 2019-07-25  \n",
       "2 2019-07-25 20:28:47 2019-07-25  \n",
       "3 2019-07-25 20:28:47 2019-07-25  \n",
       "4 2019-07-25 20:48:42 2019-07-25  "
      ]
     },
     "execution_count": 12,
     "metadata": {},
     "output_type": "execute_result"
    }
   ],
   "source": [
    "data['group'] = data['group'].apply(rename_group)\n",
    "data.head()"
   ]
  },
  {
   "cell_type": "markdown",
   "metadata": {},
   "source": [
    "Проверим количество пользователей и проверим, попадают ли пользователи сразу в несколько групп"
   ]
  },
  {
   "cell_type": "markdown",
   "metadata": {},
   "source": [
    "Посчитаем количество пользователей в каждой группе"
   ]
  },
  {
   "cell_type": "code",
   "execution_count": 13,
   "metadata": {
    "trusted": true
   },
   "outputs": [
    {
     "data": {
      "text/html": [
       "<div>\n",
       "<style scoped>\n",
       "    .dataframe tbody tr th:only-of-type {\n",
       "        vertical-align: middle;\n",
       "    }\n",
       "\n",
       "    .dataframe tbody tr th {\n",
       "        vertical-align: top;\n",
       "    }\n",
       "\n",
       "    .dataframe thead th {\n",
       "        text-align: right;\n",
       "    }\n",
       "</style>\n",
       "<table border=\"1\" class=\"dataframe\">\n",
       "  <thead>\n",
       "    <tr style=\"text-align: right;\">\n",
       "      <th></th>\n",
       "      <th>group</th>\n",
       "      <th>count_users</th>\n",
       "    </tr>\n",
       "  </thead>\n",
       "  <tbody>\n",
       "    <tr>\n",
       "      <th>0</th>\n",
       "      <td>A</td>\n",
       "      <td>2489</td>\n",
       "    </tr>\n",
       "    <tr>\n",
       "      <th>1</th>\n",
       "      <td>A_1</td>\n",
       "      <td>2520</td>\n",
       "    </tr>\n",
       "    <tr>\n",
       "      <th>2</th>\n",
       "      <td>B</td>\n",
       "      <td>2542</td>\n",
       "    </tr>\n",
       "  </tbody>\n",
       "</table>\n",
       "</div>"
      ],
      "text/plain": [
       "  group  count_users\n",
       "0     A         2489\n",
       "1   A_1         2520\n",
       "2     B         2542"
      ]
     },
     "execution_count": 13,
     "metadata": {},
     "output_type": "execute_result"
    }
   ],
   "source": [
    "count_users_in_groups = (data\n",
    "                         .groupby(\n",
    "                             'group',\n",
    "                             as_index=False\n",
    "                         )\n",
    "                         ['user_id']\n",
    "                         .nunique()\n",
    "                         .rename(\n",
    "                             columns={\n",
    "                                 'user_id':  'count_users'\n",
    "                             }\n",
    "                         )\n",
    "                         )\n",
    "\n",
    "count_users_in_groups"
   ]
  },
  {
   "cell_type": "markdown",
   "metadata": {},
   "source": [
    "Посчитаем долю в процентах"
   ]
  },
  {
   "cell_type": "code",
   "execution_count": 14,
   "metadata": {
    "trusted": true
   },
   "outputs": [
    {
     "data": {
      "text/html": [
       "<div>\n",
       "<style scoped>\n",
       "    .dataframe tbody tr th:only-of-type {\n",
       "        vertical-align: middle;\n",
       "    }\n",
       "\n",
       "    .dataframe tbody tr th {\n",
       "        vertical-align: top;\n",
       "    }\n",
       "\n",
       "    .dataframe thead th {\n",
       "        text-align: right;\n",
       "    }\n",
       "</style>\n",
       "<table border=\"1\" class=\"dataframe\">\n",
       "  <thead>\n",
       "    <tr style=\"text-align: right;\">\n",
       "      <th></th>\n",
       "      <th>group</th>\n",
       "      <th>count_users</th>\n",
       "      <th>%</th>\n",
       "    </tr>\n",
       "  </thead>\n",
       "  <tbody>\n",
       "    <tr>\n",
       "      <th>0</th>\n",
       "      <td>A</td>\n",
       "      <td>2489</td>\n",
       "      <td>32.96</td>\n",
       "    </tr>\n",
       "    <tr>\n",
       "      <th>1</th>\n",
       "      <td>A_1</td>\n",
       "      <td>2520</td>\n",
       "      <td>33.37</td>\n",
       "    </tr>\n",
       "    <tr>\n",
       "      <th>2</th>\n",
       "      <td>B</td>\n",
       "      <td>2542</td>\n",
       "      <td>33.66</td>\n",
       "    </tr>\n",
       "  </tbody>\n",
       "</table>\n",
       "</div>"
      ],
      "text/plain": [
       "  group  count_users      %\n",
       "0     A         2489  32.96\n",
       "1   A_1         2520  33.37\n",
       "2     B         2542  33.66"
      ]
     },
     "execution_count": 14,
     "metadata": {},
     "output_type": "execute_result"
    }
   ],
   "source": [
    "count_users_in_groups['%'] = ((count_users_in_groups['count_users'] /\n",
    "                              count_users_in_groups['count_users'].sum()*100\n",
    "                               )\n",
    "                              .round(2))\n",
    "count_users_in_groups"
   ]
  },
  {
   "cell_type": "markdown",
   "metadata": {},
   "source": [
    "В идеале группы должны делиться по 33,33% - но посмотрим наскольно отличаются от идеала."
   ]
  },
  {
   "cell_type": "code",
   "execution_count": 15,
   "metadata": {
    "trusted": true
   },
   "outputs": [
    {
     "data": {
      "text/html": [
       "<div>\n",
       "<style scoped>\n",
       "    .dataframe tbody tr th:only-of-type {\n",
       "        vertical-align: middle;\n",
       "    }\n",
       "\n",
       "    .dataframe tbody tr th {\n",
       "        vertical-align: top;\n",
       "    }\n",
       "\n",
       "    .dataframe thead th {\n",
       "        text-align: right;\n",
       "    }\n",
       "</style>\n",
       "<table border=\"1\" class=\"dataframe\">\n",
       "  <thead>\n",
       "    <tr style=\"text-align: right;\">\n",
       "      <th></th>\n",
       "      <th>group</th>\n",
       "      <th>count_users</th>\n",
       "      <th>%</th>\n",
       "      <th>diff_%</th>\n",
       "    </tr>\n",
       "  </thead>\n",
       "  <tbody>\n",
       "    <tr>\n",
       "      <th>0</th>\n",
       "      <td>A</td>\n",
       "      <td>2489</td>\n",
       "      <td>32.96</td>\n",
       "      <td>-0.37</td>\n",
       "    </tr>\n",
       "    <tr>\n",
       "      <th>1</th>\n",
       "      <td>A_1</td>\n",
       "      <td>2520</td>\n",
       "      <td>33.37</td>\n",
       "      <td>0.04</td>\n",
       "    </tr>\n",
       "    <tr>\n",
       "      <th>2</th>\n",
       "      <td>B</td>\n",
       "      <td>2542</td>\n",
       "      <td>33.66</td>\n",
       "      <td>0.33</td>\n",
       "    </tr>\n",
       "  </tbody>\n",
       "</table>\n",
       "</div>"
      ],
      "text/plain": [
       "  group  count_users      %  diff_%\n",
       "0     A         2489  32.96   -0.37\n",
       "1   A_1         2520  33.37    0.04\n",
       "2     B         2542  33.66    0.33"
      ]
     },
     "execution_count": 15,
     "metadata": {},
     "output_type": "execute_result"
    }
   ],
   "source": [
    "count_users_in_groups['diff_%'] = (count_users_in_groups['%'] -\n",
    "                                   (1 / len(count_users_in_groups) * 100)\n",
    "                                   ).round(2)\n",
    "\n",
    "\n",
    "count_users_in_groups"
   ]
  },
  {
   "cell_type": "markdown",
   "metadata": {},
   "source": [
    "группы незначительно различаются - максимально:  менее 0.4%"
   ]
  },
  {
   "cell_type": "markdown",
   "metadata": {},
   "source": [
    "Проверим на пересечие групп"
   ]
  },
  {
   "cell_type": "code",
   "execution_count": 16,
   "metadata": {
    "trusted": true
   },
   "outputs": [],
   "source": [
    "count_users_a_b = len(\n",
    "    set(\n",
    "        data\n",
    "        .query('group==\"A\"')['user_id']\n",
    "    )\n",
    "    &\n",
    "    set(\n",
    "        data\n",
    "        .query('group==\"B\"')['user_id']\n",
    "    )\n",
    ")\n",
    "\n",
    "\n",
    "count_users_a1_b = len(\n",
    "    set(\n",
    "        data.query('group==\"A_1\"')['user_id']\n",
    "    )\n",
    "    &\n",
    "    set(\n",
    "        data.query('group==\"B\"')['user_id'])\n",
    ")\n",
    "\n",
    "\n",
    "\n",
    "count_users_a_a1 = len(\n",
    "    set(\n",
    "        data.query('group==\"A\"')['user_id']\n",
    "    )\n",
    "    &\n",
    "    set(\n",
    "        data.query('group==\"A_1\"')['user_id']\n",
    "    )\n",
    ")"
   ]
  },
  {
   "cell_type": "code",
   "execution_count": 17,
   "metadata": {
    "trusted": true
   },
   "outputs": [
    {
     "name": "stdout",
     "output_type": "stream",
     "text": [
      "число пользователей в обеих группах\n",
      " A и A_1: 0\n",
      "   A и B: 0\n",
      " A_1 и B: 0\n"
     ]
    }
   ],
   "source": [
    "print('число пользователей в обеих группах')\n",
    "\n",
    "for n, g in zip(\n",
    "    (\n",
    "        'A и A_1',\n",
    "        'A и B',\n",
    "        'A_1 и B'),\n",
    "    (\n",
    "        count_users_a_a1,\n",
    "        count_users_a_b,\n",
    "        count_users_a1_b\n",
    "    )\n",
    "):\n",
    "\n",
    "    print(f\"{n}: {g}\".rjust(11))"
   ]
  },
  {
   "cell_type": "markdown",
   "metadata": {},
   "source": [
    "группы точно не пересекаются между собой"
   ]
  },
  {
   "cell_type": "markdown",
   "metadata": {},
   "source": [
    "Посчитаем число событий и пользователей в логе"
   ]
  },
  {
   "cell_type": "code",
   "execution_count": 18,
   "metadata": {
    "trusted": true
   },
   "outputs": [
    {
     "name": "stdout",
     "output_type": "stream",
     "text": [
      "всего событий в логе: 243713\n",
      "всего пользователей в логе: 7551\n"
     ]
    }
   ],
   "source": [
    "print(f'всего событий в логе: {len(data)}')\n",
    "print(f\"всего пользователей в логе: {data['user_id'].nunique()}\")"
   ]
  },
  {
   "cell_type": "markdown",
   "metadata": {},
   "source": [
    "найдем среднее кол-во событий на пользователя"
   ]
  },
  {
   "cell_type": "code",
   "execution_count": 19,
   "metadata": {
    "trusted": true
   },
   "outputs": [
    {
     "data": {
      "text/html": [
       "<div>\n",
       "<style scoped>\n",
       "    .dataframe tbody tr th:only-of-type {\n",
       "        vertical-align: middle;\n",
       "    }\n",
       "\n",
       "    .dataframe tbody tr th {\n",
       "        vertical-align: top;\n",
       "    }\n",
       "\n",
       "    .dataframe thead th {\n",
       "        text-align: right;\n",
       "    }\n",
       "</style>\n",
       "<table border=\"1\" class=\"dataframe\">\n",
       "  <thead>\n",
       "    <tr style=\"text-align: right;\">\n",
       "      <th></th>\n",
       "      <th>user_id</th>\n",
       "      <th>count_events</th>\n",
       "    </tr>\n",
       "  </thead>\n",
       "  <tbody>\n",
       "    <tr>\n",
       "      <th>0</th>\n",
       "      <td>6888746892508752</td>\n",
       "      <td>1</td>\n",
       "    </tr>\n",
       "    <tr>\n",
       "      <th>1</th>\n",
       "      <td>6909561520679493</td>\n",
       "      <td>5</td>\n",
       "    </tr>\n",
       "    <tr>\n",
       "      <th>2</th>\n",
       "      <td>6922444491712477</td>\n",
       "      <td>47</td>\n",
       "    </tr>\n",
       "    <tr>\n",
       "      <th>3</th>\n",
       "      <td>7435777799948366</td>\n",
       "      <td>6</td>\n",
       "    </tr>\n",
       "    <tr>\n",
       "      <th>4</th>\n",
       "      <td>7702139951469979</td>\n",
       "      <td>137</td>\n",
       "    </tr>\n",
       "  </tbody>\n",
       "</table>\n",
       "</div>"
      ],
      "text/plain": [
       "            user_id  count_events\n",
       "0  6888746892508752             1\n",
       "1  6909561520679493             5\n",
       "2  6922444491712477            47\n",
       "3  7435777799948366             6\n",
       "4  7702139951469979           137"
      ]
     },
     "execution_count": 19,
     "metadata": {},
     "output_type": "execute_result"
    }
   ],
   "source": [
    "count_event_on_users = (data\n",
    "                        .groupby('user_id')\n",
    "                        .agg({'event_name': 'count'})\n",
    "                        .rename(columns={'event_name': 'count_events'})\n",
    "                        .reset_index()\n",
    "                        )\n",
    "\n",
    "\n",
    "count_event_on_users.head()"
   ]
  },
  {
   "cell_type": "code",
   "execution_count": 20,
   "metadata": {
    "trusted": true
   },
   "outputs": [
    {
     "data": {
      "text/html": [
       "<div>\n",
       "<style scoped>\n",
       "    .dataframe tbody tr th:only-of-type {\n",
       "        vertical-align: middle;\n",
       "    }\n",
       "\n",
       "    .dataframe tbody tr th {\n",
       "        vertical-align: top;\n",
       "    }\n",
       "\n",
       "    .dataframe thead th {\n",
       "        text-align: right;\n",
       "    }\n",
       "</style>\n",
       "<table border=\"1\" class=\"dataframe\">\n",
       "  <thead>\n",
       "    <tr style=\"text-align: right;\">\n",
       "      <th></th>\n",
       "      <th>index</th>\n",
       "      <th>count_events</th>\n",
       "    </tr>\n",
       "  </thead>\n",
       "  <tbody>\n",
       "    <tr>\n",
       "      <th>0</th>\n",
       "      <td>count</td>\n",
       "      <td>7551.000000</td>\n",
       "    </tr>\n",
       "    <tr>\n",
       "      <th>1</th>\n",
       "      <td>mean</td>\n",
       "      <td>32.275593</td>\n",
       "    </tr>\n",
       "    <tr>\n",
       "      <th>2</th>\n",
       "      <td>std</td>\n",
       "      <td>65.154219</td>\n",
       "    </tr>\n",
       "    <tr>\n",
       "      <th>3</th>\n",
       "      <td>min</td>\n",
       "      <td>1.000000</td>\n",
       "    </tr>\n",
       "    <tr>\n",
       "      <th>4</th>\n",
       "      <td>25%</td>\n",
       "      <td>9.000000</td>\n",
       "    </tr>\n",
       "    <tr>\n",
       "      <th>5</th>\n",
       "      <td>50%</td>\n",
       "      <td>20.000000</td>\n",
       "    </tr>\n",
       "    <tr>\n",
       "      <th>6</th>\n",
       "      <td>75%</td>\n",
       "      <td>37.000000</td>\n",
       "    </tr>\n",
       "    <tr>\n",
       "      <th>7</th>\n",
       "      <td>max</td>\n",
       "      <td>2307.000000</td>\n",
       "    </tr>\n",
       "  </tbody>\n",
       "</table>\n",
       "</div>"
      ],
      "text/plain": [
       "   index  count_events\n",
       "0  count   7551.000000\n",
       "1   mean     32.275593\n",
       "2    std     65.154219\n",
       "3    min      1.000000\n",
       "4    25%      9.000000\n",
       "5    50%     20.000000\n",
       "6    75%     37.000000\n",
       "7    max   2307.000000"
      ]
     },
     "execution_count": 20,
     "metadata": {},
     "output_type": "execute_result"
    }
   ],
   "source": [
    "count_event_on_users.count_events.describe().reset_index()"
   ]
  },
  {
   "cell_type": "markdown",
   "metadata": {},
   "source": [
    "в среднем на пользователя приходится 32 события, по медиане 20,  а максимально - 2307."
   ]
  },
  {
   "cell_type": "markdown",
   "metadata": {},
   "source": [
    "Узнаем период за который взяты данные."
   ]
  },
  {
   "cell_type": "code",
   "execution_count": 21,
   "metadata": {
    "trusted": true
   },
   "outputs": [
    {
     "name": "stdout",
     "output_type": "stream",
     "text": [
      "период: 2019-07-25 - 2019-08-08\n"
     ]
    }
   ],
   "source": [
    "print(f'период: {data.date.dt.date.min()} - {data.date.dt.date.max()}')"
   ]
  },
  {
   "cell_type": "markdown",
   "metadata": {},
   "source": [
    "А теперь посчитаем число событий по дате в разрезе групп"
   ]
  },
  {
   "cell_type": "code",
   "execution_count": 22,
   "metadata": {
    "trusted": true
   },
   "outputs": [
    {
     "data": {
      "text/html": [
       "<div>\n",
       "<style scoped>\n",
       "    .dataframe tbody tr th:only-of-type {\n",
       "        vertical-align: middle;\n",
       "    }\n",
       "\n",
       "    .dataframe tbody tr th {\n",
       "        vertical-align: top;\n",
       "    }\n",
       "\n",
       "    .dataframe thead th {\n",
       "        text-align: right;\n",
       "    }\n",
       "</style>\n",
       "<table border=\"1\" class=\"dataframe\">\n",
       "  <thead>\n",
       "    <tr style=\"text-align: right;\">\n",
       "      <th></th>\n",
       "      <th>group</th>\n",
       "      <th>date</th>\n",
       "      <th>count_events</th>\n",
       "    </tr>\n",
       "  </thead>\n",
       "  <tbody>\n",
       "    <tr>\n",
       "      <th>0</th>\n",
       "      <td>A</td>\n",
       "      <td>2019-07-25</td>\n",
       "      <td>3</td>\n",
       "    </tr>\n",
       "    <tr>\n",
       "      <th>1</th>\n",
       "      <td>A</td>\n",
       "      <td>2019-07-26</td>\n",
       "      <td>7</td>\n",
       "    </tr>\n",
       "    <tr>\n",
       "      <th>2</th>\n",
       "      <td>A</td>\n",
       "      <td>2019-07-27</td>\n",
       "      <td>27</td>\n",
       "    </tr>\n",
       "    <tr>\n",
       "      <th>3</th>\n",
       "      <td>A</td>\n",
       "      <td>2019-07-28</td>\n",
       "      <td>25</td>\n",
       "    </tr>\n",
       "    <tr>\n",
       "      <th>4</th>\n",
       "      <td>A</td>\n",
       "      <td>2019-07-29</td>\n",
       "      <td>38</td>\n",
       "    </tr>\n",
       "  </tbody>\n",
       "</table>\n",
       "</div>"
      ],
      "text/plain": [
       "  group       date  count_events\n",
       "0     A 2019-07-25             3\n",
       "1     A 2019-07-26             7\n",
       "2     A 2019-07-27            27\n",
       "3     A 2019-07-28            25\n",
       "4     A 2019-07-29            38"
      ]
     },
     "execution_count": 22,
     "metadata": {},
     "output_type": "execute_result"
    }
   ],
   "source": [
    "group_date_count_event = (data\n",
    "                          .groupby(\n",
    "                              ['group', 'date'],\n",
    "                              as_index=False\n",
    "                          )\n",
    "                          ['event_name']\n",
    "                          .count()\n",
    "                          .rename(\n",
    "                              columns={'event_name': 'count_events'}\n",
    "                          )\n",
    "                          )\n",
    "\n",
    "\n",
    "group_date_count_event.head()"
   ]
  },
  {
   "cell_type": "code",
   "execution_count": 23,
   "metadata": {
    "trusted": true
   },
   "outputs": [
    {
     "data": {
      "application/vnd.plotly.v1+json": {
       "config": {
        "plotlyServerURL": "https://plot.ly"
       },
       "data": [
        {
         "alignmentgroup": "True",
         "hovertemplate": "группа=A<br>дата=%{x}<br>число событий=%{y}<extra></extra>",
         "legendgroup": "A",
         "marker": {
          "color": "#1F77B4",
          "pattern": {
           "shape": ""
          }
         },
         "name": "A",
         "offsetgroup": "A",
         "orientation": "v",
         "showlegend": true,
         "textposition": "auto",
         "type": "bar",
         "x": [
          "2019-07-25T00:00:00",
          "2019-07-26T00:00:00",
          "2019-07-27T00:00:00",
          "2019-07-28T00:00:00",
          "2019-07-29T00:00:00",
          "2019-07-30T00:00:00",
          "2019-07-31T00:00:00",
          "2019-08-01T00:00:00",
          "2019-08-02T00:00:00",
          "2019-08-03T00:00:00",
          "2019-08-04T00:00:00",
          "2019-08-05T00:00:00",
          "2019-08-06T00:00:00",
          "2019-08-07T00:00:00",
          "2019-08-08T00:00:00"
         ],
         "xaxis": "x",
         "y": [
          3,
          7,
          27,
          25,
          38,
          104,
          231,
          7850,
          10968,
          11332,
          10760,
          11737,
          11971,
          11241,
          3887
         ],
         "yaxis": "y"
        },
        {
         "alignmentgroup": "True",
         "hovertemplate": "группа=A_1<br>дата=%{x}<br>число событий=%{y}<extra></extra>",
         "legendgroup": "A_1",
         "marker": {
          "color": "#FF7F0E",
          "pattern": {
           "shape": ""
          }
         },
         "name": "A_1",
         "offsetgroup": "A_1",
         "orientation": "v",
         "showlegend": true,
         "textposition": "auto",
         "type": "bar",
         "x": [
          "2019-07-26T00:00:00",
          "2019-07-27T00:00:00",
          "2019-07-28T00:00:00",
          "2019-07-29T00:00:00",
          "2019-07-30T00:00:00",
          "2019-07-31T00:00:00",
          "2019-08-01T00:00:00",
          "2019-08-02T00:00:00",
          "2019-08-03T00:00:00",
          "2019-08-04T00:00:00",
          "2019-08-05T00:00:00",
          "2019-08-06T00:00:00",
          "2019-08-07T00:00:00",
          "2019-08-08T00:00:00"
         ],
         "xaxis": "x2",
         "y": [
          5,
          15,
          38,
          44,
          106,
          261,
          7985,
          11880,
          11252,
          10096,
          10599,
          11298,
          10755,
          3616
         ],
         "yaxis": "y2"
        },
        {
         "alignmentgroup": "True",
         "hovertemplate": "группа=B<br>дата=%{x}<br>число событий=%{y}<extra></extra>",
         "legendgroup": "B",
         "marker": {
          "color": "#2CA02C",
          "pattern": {
           "shape": ""
          }
         },
         "name": "B",
         "offsetgroup": "B",
         "orientation": "v",
         "showlegend": true,
         "textposition": "auto",
         "type": "bar",
         "x": [
          "2019-07-25T00:00:00",
          "2019-07-26T00:00:00",
          "2019-07-27T00:00:00",
          "2019-07-28T00:00:00",
          "2019-07-29T00:00:00",
          "2019-07-30T00:00:00",
          "2019-07-31T00:00:00",
          "2019-08-01T00:00:00",
          "2019-08-02T00:00:00",
          "2019-08-03T00:00:00",
          "2019-08-04T00:00:00",
          "2019-08-05T00:00:00",
          "2019-08-06T00:00:00",
          "2019-08-07T00:00:00",
          "2019-08-08T00:00:00"
         ],
         "xaxis": "x3",
         "y": [
          4,
          5,
          9,
          21,
          50,
          118,
          319,
          8162,
          13619,
          12112,
          11334,
          12074,
          12751,
          11226,
          3778
         ],
         "yaxis": "y3"
        }
       ],
       "layout": {
        "annotations": [
         {
          "font": {},
          "showarrow": false,
          "text": "группа=A",
          "x": 0.15999999999999998,
          "xanchor": "center",
          "xref": "paper",
          "y": 1,
          "yanchor": "bottom",
          "yref": "paper"
         },
         {
          "font": {},
          "showarrow": false,
          "text": "группа=A_1",
          "x": 0.49999999999999994,
          "xanchor": "center",
          "xref": "paper",
          "y": 1,
          "yanchor": "bottom",
          "yref": "paper"
         },
         {
          "font": {},
          "showarrow": false,
          "text": "группа=B",
          "x": 0.8399999999999999,
          "xanchor": "center",
          "xref": "paper",
          "y": 1,
          "yanchor": "bottom",
          "yref": "paper"
         }
        ],
        "barmode": "relative",
        "legend": {
         "title": {
          "text": "группа"
         },
         "tracegroupgap": 0
        },
        "template": {
         "data": {
          "bar": [
           {
            "error_x": {
             "color": "rgb(36,36,36)"
            },
            "error_y": {
             "color": "rgb(36,36,36)"
            },
            "marker": {
             "line": {
              "color": "white",
              "width": 0.5
             },
             "pattern": {
              "fillmode": "overlay",
              "size": 10,
              "solidity": 0.2
             }
            },
            "type": "bar"
           }
          ],
          "barpolar": [
           {
            "marker": {
             "line": {
              "color": "white",
              "width": 0.5
             },
             "pattern": {
              "fillmode": "overlay",
              "size": 10,
              "solidity": 0.2
             }
            },
            "type": "barpolar"
           }
          ],
          "carpet": [
           {
            "aaxis": {
             "endlinecolor": "rgb(36,36,36)",
             "gridcolor": "white",
             "linecolor": "white",
             "minorgridcolor": "white",
             "startlinecolor": "rgb(36,36,36)"
            },
            "baxis": {
             "endlinecolor": "rgb(36,36,36)",
             "gridcolor": "white",
             "linecolor": "white",
             "minorgridcolor": "white",
             "startlinecolor": "rgb(36,36,36)"
            },
            "type": "carpet"
           }
          ],
          "choropleth": [
           {
            "colorbar": {
             "outlinewidth": 1,
             "tickcolor": "rgb(36,36,36)",
             "ticks": "outside"
            },
            "type": "choropleth"
           }
          ],
          "contour": [
           {
            "colorbar": {
             "outlinewidth": 1,
             "tickcolor": "rgb(36,36,36)",
             "ticks": "outside"
            },
            "colorscale": [
             [
              0,
              "#440154"
             ],
             [
              0.1111111111111111,
              "#482878"
             ],
             [
              0.2222222222222222,
              "#3e4989"
             ],
             [
              0.3333333333333333,
              "#31688e"
             ],
             [
              0.4444444444444444,
              "#26828e"
             ],
             [
              0.5555555555555556,
              "#1f9e89"
             ],
             [
              0.6666666666666666,
              "#35b779"
             ],
             [
              0.7777777777777778,
              "#6ece58"
             ],
             [
              0.8888888888888888,
              "#b5de2b"
             ],
             [
              1,
              "#fde725"
             ]
            ],
            "type": "contour"
           }
          ],
          "contourcarpet": [
           {
            "colorbar": {
             "outlinewidth": 1,
             "tickcolor": "rgb(36,36,36)",
             "ticks": "outside"
            },
            "type": "contourcarpet"
           }
          ],
          "heatmap": [
           {
            "colorbar": {
             "outlinewidth": 1,
             "tickcolor": "rgb(36,36,36)",
             "ticks": "outside"
            },
            "colorscale": [
             [
              0,
              "#440154"
             ],
             [
              0.1111111111111111,
              "#482878"
             ],
             [
              0.2222222222222222,
              "#3e4989"
             ],
             [
              0.3333333333333333,
              "#31688e"
             ],
             [
              0.4444444444444444,
              "#26828e"
             ],
             [
              0.5555555555555556,
              "#1f9e89"
             ],
             [
              0.6666666666666666,
              "#35b779"
             ],
             [
              0.7777777777777778,
              "#6ece58"
             ],
             [
              0.8888888888888888,
              "#b5de2b"
             ],
             [
              1,
              "#fde725"
             ]
            ],
            "type": "heatmap"
           }
          ],
          "heatmapgl": [
           {
            "colorbar": {
             "outlinewidth": 1,
             "tickcolor": "rgb(36,36,36)",
             "ticks": "outside"
            },
            "colorscale": [
             [
              0,
              "#440154"
             ],
             [
              0.1111111111111111,
              "#482878"
             ],
             [
              0.2222222222222222,
              "#3e4989"
             ],
             [
              0.3333333333333333,
              "#31688e"
             ],
             [
              0.4444444444444444,
              "#26828e"
             ],
             [
              0.5555555555555556,
              "#1f9e89"
             ],
             [
              0.6666666666666666,
              "#35b779"
             ],
             [
              0.7777777777777778,
              "#6ece58"
             ],
             [
              0.8888888888888888,
              "#b5de2b"
             ],
             [
              1,
              "#fde725"
             ]
            ],
            "type": "heatmapgl"
           }
          ],
          "histogram": [
           {
            "marker": {
             "line": {
              "color": "white",
              "width": 0.6
             }
            },
            "type": "histogram"
           }
          ],
          "histogram2d": [
           {
            "colorbar": {
             "outlinewidth": 1,
             "tickcolor": "rgb(36,36,36)",
             "ticks": "outside"
            },
            "colorscale": [
             [
              0,
              "#440154"
             ],
             [
              0.1111111111111111,
              "#482878"
             ],
             [
              0.2222222222222222,
              "#3e4989"
             ],
             [
              0.3333333333333333,
              "#31688e"
             ],
             [
              0.4444444444444444,
              "#26828e"
             ],
             [
              0.5555555555555556,
              "#1f9e89"
             ],
             [
              0.6666666666666666,
              "#35b779"
             ],
             [
              0.7777777777777778,
              "#6ece58"
             ],
             [
              0.8888888888888888,
              "#b5de2b"
             ],
             [
              1,
              "#fde725"
             ]
            ],
            "type": "histogram2d"
           }
          ],
          "histogram2dcontour": [
           {
            "colorbar": {
             "outlinewidth": 1,
             "tickcolor": "rgb(36,36,36)",
             "ticks": "outside"
            },
            "colorscale": [
             [
              0,
              "#440154"
             ],
             [
              0.1111111111111111,
              "#482878"
             ],
             [
              0.2222222222222222,
              "#3e4989"
             ],
             [
              0.3333333333333333,
              "#31688e"
             ],
             [
              0.4444444444444444,
              "#26828e"
             ],
             [
              0.5555555555555556,
              "#1f9e89"
             ],
             [
              0.6666666666666666,
              "#35b779"
             ],
             [
              0.7777777777777778,
              "#6ece58"
             ],
             [
              0.8888888888888888,
              "#b5de2b"
             ],
             [
              1,
              "#fde725"
             ]
            ],
            "type": "histogram2dcontour"
           }
          ],
          "mesh3d": [
           {
            "colorbar": {
             "outlinewidth": 1,
             "tickcolor": "rgb(36,36,36)",
             "ticks": "outside"
            },
            "type": "mesh3d"
           }
          ],
          "parcoords": [
           {
            "line": {
             "colorbar": {
              "outlinewidth": 1,
              "tickcolor": "rgb(36,36,36)",
              "ticks": "outside"
             }
            },
            "type": "parcoords"
           }
          ],
          "pie": [
           {
            "automargin": true,
            "type": "pie"
           }
          ],
          "scatter": [
           {
            "marker": {
             "colorbar": {
              "outlinewidth": 1,
              "tickcolor": "rgb(36,36,36)",
              "ticks": "outside"
             }
            },
            "type": "scatter"
           }
          ],
          "scatter3d": [
           {
            "line": {
             "colorbar": {
              "outlinewidth": 1,
              "tickcolor": "rgb(36,36,36)",
              "ticks": "outside"
             }
            },
            "marker": {
             "colorbar": {
              "outlinewidth": 1,
              "tickcolor": "rgb(36,36,36)",
              "ticks": "outside"
             }
            },
            "type": "scatter3d"
           }
          ],
          "scattercarpet": [
           {
            "marker": {
             "colorbar": {
              "outlinewidth": 1,
              "tickcolor": "rgb(36,36,36)",
              "ticks": "outside"
             }
            },
            "type": "scattercarpet"
           }
          ],
          "scattergeo": [
           {
            "marker": {
             "colorbar": {
              "outlinewidth": 1,
              "tickcolor": "rgb(36,36,36)",
              "ticks": "outside"
             }
            },
            "type": "scattergeo"
           }
          ],
          "scattergl": [
           {
            "marker": {
             "colorbar": {
              "outlinewidth": 1,
              "tickcolor": "rgb(36,36,36)",
              "ticks": "outside"
             }
            },
            "type": "scattergl"
           }
          ],
          "scattermapbox": [
           {
            "marker": {
             "colorbar": {
              "outlinewidth": 1,
              "tickcolor": "rgb(36,36,36)",
              "ticks": "outside"
             }
            },
            "type": "scattermapbox"
           }
          ],
          "scatterpolar": [
           {
            "marker": {
             "colorbar": {
              "outlinewidth": 1,
              "tickcolor": "rgb(36,36,36)",
              "ticks": "outside"
             }
            },
            "type": "scatterpolar"
           }
          ],
          "scatterpolargl": [
           {
            "marker": {
             "colorbar": {
              "outlinewidth": 1,
              "tickcolor": "rgb(36,36,36)",
              "ticks": "outside"
             }
            },
            "type": "scatterpolargl"
           }
          ],
          "scatterternary": [
           {
            "marker": {
             "colorbar": {
              "outlinewidth": 1,
              "tickcolor": "rgb(36,36,36)",
              "ticks": "outside"
             }
            },
            "type": "scatterternary"
           }
          ],
          "surface": [
           {
            "colorbar": {
             "outlinewidth": 1,
             "tickcolor": "rgb(36,36,36)",
             "ticks": "outside"
            },
            "colorscale": [
             [
              0,
              "#440154"
             ],
             [
              0.1111111111111111,
              "#482878"
             ],
             [
              0.2222222222222222,
              "#3e4989"
             ],
             [
              0.3333333333333333,
              "#31688e"
             ],
             [
              0.4444444444444444,
              "#26828e"
             ],
             [
              0.5555555555555556,
              "#1f9e89"
             ],
             [
              0.6666666666666666,
              "#35b779"
             ],
             [
              0.7777777777777778,
              "#6ece58"
             ],
             [
              0.8888888888888888,
              "#b5de2b"
             ],
             [
              1,
              "#fde725"
             ]
            ],
            "type": "surface"
           }
          ],
          "table": [
           {
            "cells": {
             "fill": {
              "color": "rgb(237,237,237)"
             },
             "line": {
              "color": "white"
             }
            },
            "header": {
             "fill": {
              "color": "rgb(217,217,217)"
             },
             "line": {
              "color": "white"
             }
            },
            "type": "table"
           }
          ]
         },
         "layout": {
          "annotationdefaults": {
           "arrowhead": 0,
           "arrowwidth": 1
          },
          "autotypenumbers": "strict",
          "coloraxis": {
           "colorbar": {
            "outlinewidth": 1,
            "tickcolor": "rgb(36,36,36)",
            "ticks": "outside"
           }
          },
          "colorscale": {
           "diverging": [
            [
             0,
             "rgb(103,0,31)"
            ],
            [
             0.1,
             "rgb(178,24,43)"
            ],
            [
             0.2,
             "rgb(214,96,77)"
            ],
            [
             0.3,
             "rgb(244,165,130)"
            ],
            [
             0.4,
             "rgb(253,219,199)"
            ],
            [
             0.5,
             "rgb(247,247,247)"
            ],
            [
             0.6,
             "rgb(209,229,240)"
            ],
            [
             0.7,
             "rgb(146,197,222)"
            ],
            [
             0.8,
             "rgb(67,147,195)"
            ],
            [
             0.9,
             "rgb(33,102,172)"
            ],
            [
             1,
             "rgb(5,48,97)"
            ]
           ],
           "sequential": [
            [
             0,
             "#440154"
            ],
            [
             0.1111111111111111,
             "#482878"
            ],
            [
             0.2222222222222222,
             "#3e4989"
            ],
            [
             0.3333333333333333,
             "#31688e"
            ],
            [
             0.4444444444444444,
             "#26828e"
            ],
            [
             0.5555555555555556,
             "#1f9e89"
            ],
            [
             0.6666666666666666,
             "#35b779"
            ],
            [
             0.7777777777777778,
             "#6ece58"
            ],
            [
             0.8888888888888888,
             "#b5de2b"
            ],
            [
             1,
             "#fde725"
            ]
           ],
           "sequentialminus": [
            [
             0,
             "#440154"
            ],
            [
             0.1111111111111111,
             "#482878"
            ],
            [
             0.2222222222222222,
             "#3e4989"
            ],
            [
             0.3333333333333333,
             "#31688e"
            ],
            [
             0.4444444444444444,
             "#26828e"
            ],
            [
             0.5555555555555556,
             "#1f9e89"
            ],
            [
             0.6666666666666666,
             "#35b779"
            ],
            [
             0.7777777777777778,
             "#6ece58"
            ],
            [
             0.8888888888888888,
             "#b5de2b"
            ],
            [
             1,
             "#fde725"
            ]
           ]
          },
          "colorway": [
           "#1F77B4",
           "#FF7F0E",
           "#2CA02C",
           "#D62728",
           "#9467BD",
           "#8C564B",
           "#E377C2",
           "#7F7F7F",
           "#BCBD22",
           "#17BECF"
          ],
          "font": {
           "color": "rgb(36,36,36)"
          },
          "geo": {
           "bgcolor": "white",
           "lakecolor": "white",
           "landcolor": "white",
           "showlakes": true,
           "showland": true,
           "subunitcolor": "white"
          },
          "hoverlabel": {
           "align": "left"
          },
          "hovermode": "closest",
          "mapbox": {
           "style": "light"
          },
          "paper_bgcolor": "white",
          "plot_bgcolor": "white",
          "polar": {
           "angularaxis": {
            "gridcolor": "rgb(232,232,232)",
            "linecolor": "rgb(36,36,36)",
            "showgrid": false,
            "showline": true,
            "ticks": "outside"
           },
           "bgcolor": "white",
           "radialaxis": {
            "gridcolor": "rgb(232,232,232)",
            "linecolor": "rgb(36,36,36)",
            "showgrid": false,
            "showline": true,
            "ticks": "outside"
           }
          },
          "scene": {
           "xaxis": {
            "backgroundcolor": "white",
            "gridcolor": "rgb(232,232,232)",
            "gridwidth": 2,
            "linecolor": "rgb(36,36,36)",
            "showbackground": true,
            "showgrid": false,
            "showline": true,
            "ticks": "outside",
            "zeroline": false,
            "zerolinecolor": "rgb(36,36,36)"
           },
           "yaxis": {
            "backgroundcolor": "white",
            "gridcolor": "rgb(232,232,232)",
            "gridwidth": 2,
            "linecolor": "rgb(36,36,36)",
            "showbackground": true,
            "showgrid": false,
            "showline": true,
            "ticks": "outside",
            "zeroline": false,
            "zerolinecolor": "rgb(36,36,36)"
           },
           "zaxis": {
            "backgroundcolor": "white",
            "gridcolor": "rgb(232,232,232)",
            "gridwidth": 2,
            "linecolor": "rgb(36,36,36)",
            "showbackground": true,
            "showgrid": false,
            "showline": true,
            "ticks": "outside",
            "zeroline": false,
            "zerolinecolor": "rgb(36,36,36)"
           }
          },
          "shapedefaults": {
           "fillcolor": "black",
           "line": {
            "width": 0
           },
           "opacity": 0.3
          },
          "ternary": {
           "aaxis": {
            "gridcolor": "rgb(232,232,232)",
            "linecolor": "rgb(36,36,36)",
            "showgrid": false,
            "showline": true,
            "ticks": "outside"
           },
           "baxis": {
            "gridcolor": "rgb(232,232,232)",
            "linecolor": "rgb(36,36,36)",
            "showgrid": false,
            "showline": true,
            "ticks": "outside"
           },
           "bgcolor": "white",
           "caxis": {
            "gridcolor": "rgb(232,232,232)",
            "linecolor": "rgb(36,36,36)",
            "showgrid": false,
            "showline": true,
            "ticks": "outside"
           }
          },
          "title": {
           "x": 0.05
          },
          "xaxis": {
           "automargin": true,
           "gridcolor": "rgb(232,232,232)",
           "linecolor": "rgb(36,36,36)",
           "showgrid": false,
           "showline": true,
           "ticks": "outside",
           "title": {
            "standoff": 15
           },
           "zeroline": false,
           "zerolinecolor": "rgb(36,36,36)"
          },
          "yaxis": {
           "automargin": true,
           "gridcolor": "rgb(232,232,232)",
           "linecolor": "rgb(36,36,36)",
           "showgrid": false,
           "showline": true,
           "ticks": "outside",
           "title": {
            "standoff": 15
           },
           "zeroline": false,
           "zerolinecolor": "rgb(36,36,36)"
          }
         }
        },
        "title": {
         "text": "Количество событий от даты по группам эксперимента"
        },
        "xaxis": {
         "anchor": "y",
         "domain": [
          0,
          0.31999999999999995
         ],
         "title": {
          "text": "дата"
         }
        },
        "xaxis2": {
         "anchor": "y2",
         "domain": [
          0.33999999999999997,
          0.6599999999999999
         ],
         "matches": "x",
         "title": {
          "text": "дата"
         }
        },
        "xaxis3": {
         "anchor": "y3",
         "domain": [
          0.6799999999999999,
          0.9999999999999999
         ],
         "matches": "x",
         "title": {
          "text": "дата"
         }
        },
        "yaxis": {
         "anchor": "x",
         "domain": [
          0,
          1
         ],
         "title": {
          "text": "число событий"
         }
        },
        "yaxis2": {
         "anchor": "x2",
         "domain": [
          0,
          1
         ],
         "matches": "y",
         "showticklabels": false
        },
        "yaxis3": {
         "anchor": "x3",
         "domain": [
          0,
          1
         ],
         "matches": "y",
         "showticklabels": false
        }
       }
      },
      "text/html": [
       "<div>                            <div id=\"1988edbd-dd6b-445d-8c1c-9013a7a88951\" class=\"plotly-graph-div\" style=\"height:525px; width:100%;\"></div>            <script type=\"text/javascript\">                require([\"plotly\"], function(Plotly) {                    window.PLOTLYENV=window.PLOTLYENV || {};                                    if (document.getElementById(\"1988edbd-dd6b-445d-8c1c-9013a7a88951\")) {                    Plotly.newPlot(                        \"1988edbd-dd6b-445d-8c1c-9013a7a88951\",                        [{\"alignmentgroup\":\"True\",\"hovertemplate\":\"\\u0433\\u0440\\u0443\\u043f\\u043f\\u0430=A<br>\\u0434\\u0430\\u0442\\u0430=%{x}<br>\\u0447\\u0438\\u0441\\u043b\\u043e \\u0441\\u043e\\u0431\\u044b\\u0442\\u0438\\u0439=%{y}<extra></extra>\",\"legendgroup\":\"A\",\"marker\":{\"color\":\"#1F77B4\",\"pattern\":{\"shape\":\"\"}},\"name\":\"A\",\"offsetgroup\":\"A\",\"orientation\":\"v\",\"showlegend\":true,\"textposition\":\"auto\",\"x\":[\"2019-07-25T00:00:00\",\"2019-07-26T00:00:00\",\"2019-07-27T00:00:00\",\"2019-07-28T00:00:00\",\"2019-07-29T00:00:00\",\"2019-07-30T00:00:00\",\"2019-07-31T00:00:00\",\"2019-08-01T00:00:00\",\"2019-08-02T00:00:00\",\"2019-08-03T00:00:00\",\"2019-08-04T00:00:00\",\"2019-08-05T00:00:00\",\"2019-08-06T00:00:00\",\"2019-08-07T00:00:00\",\"2019-08-08T00:00:00\"],\"xaxis\":\"x\",\"y\":[3,7,27,25,38,104,231,7850,10968,11332,10760,11737,11971,11241,3887],\"yaxis\":\"y\",\"type\":\"bar\"},{\"alignmentgroup\":\"True\",\"hovertemplate\":\"\\u0433\\u0440\\u0443\\u043f\\u043f\\u0430=A_1<br>\\u0434\\u0430\\u0442\\u0430=%{x}<br>\\u0447\\u0438\\u0441\\u043b\\u043e \\u0441\\u043e\\u0431\\u044b\\u0442\\u0438\\u0439=%{y}<extra></extra>\",\"legendgroup\":\"A_1\",\"marker\":{\"color\":\"#FF7F0E\",\"pattern\":{\"shape\":\"\"}},\"name\":\"A_1\",\"offsetgroup\":\"A_1\",\"orientation\":\"v\",\"showlegend\":true,\"textposition\":\"auto\",\"x\":[\"2019-07-26T00:00:00\",\"2019-07-27T00:00:00\",\"2019-07-28T00:00:00\",\"2019-07-29T00:00:00\",\"2019-07-30T00:00:00\",\"2019-07-31T00:00:00\",\"2019-08-01T00:00:00\",\"2019-08-02T00:00:00\",\"2019-08-03T00:00:00\",\"2019-08-04T00:00:00\",\"2019-08-05T00:00:00\",\"2019-08-06T00:00:00\",\"2019-08-07T00:00:00\",\"2019-08-08T00:00:00\"],\"xaxis\":\"x2\",\"y\":[5,15,38,44,106,261,7985,11880,11252,10096,10599,11298,10755,3616],\"yaxis\":\"y2\",\"type\":\"bar\"},{\"alignmentgroup\":\"True\",\"hovertemplate\":\"\\u0433\\u0440\\u0443\\u043f\\u043f\\u0430=B<br>\\u0434\\u0430\\u0442\\u0430=%{x}<br>\\u0447\\u0438\\u0441\\u043b\\u043e \\u0441\\u043e\\u0431\\u044b\\u0442\\u0438\\u0439=%{y}<extra></extra>\",\"legendgroup\":\"B\",\"marker\":{\"color\":\"#2CA02C\",\"pattern\":{\"shape\":\"\"}},\"name\":\"B\",\"offsetgroup\":\"B\",\"orientation\":\"v\",\"showlegend\":true,\"textposition\":\"auto\",\"x\":[\"2019-07-25T00:00:00\",\"2019-07-26T00:00:00\",\"2019-07-27T00:00:00\",\"2019-07-28T00:00:00\",\"2019-07-29T00:00:00\",\"2019-07-30T00:00:00\",\"2019-07-31T00:00:00\",\"2019-08-01T00:00:00\",\"2019-08-02T00:00:00\",\"2019-08-03T00:00:00\",\"2019-08-04T00:00:00\",\"2019-08-05T00:00:00\",\"2019-08-06T00:00:00\",\"2019-08-07T00:00:00\",\"2019-08-08T00:00:00\"],\"xaxis\":\"x3\",\"y\":[4,5,9,21,50,118,319,8162,13619,12112,11334,12074,12751,11226,3778],\"yaxis\":\"y3\",\"type\":\"bar\"}],                        {\"template\":{\"data\":{\"barpolar\":[{\"marker\":{\"line\":{\"color\":\"white\",\"width\":0.5},\"pattern\":{\"fillmode\":\"overlay\",\"size\":10,\"solidity\":0.2}},\"type\":\"barpolar\"}],\"bar\":[{\"error_x\":{\"color\":\"rgb(36,36,36)\"},\"error_y\":{\"color\":\"rgb(36,36,36)\"},\"marker\":{\"line\":{\"color\":\"white\",\"width\":0.5},\"pattern\":{\"fillmode\":\"overlay\",\"size\":10,\"solidity\":0.2}},\"type\":\"bar\"}],\"carpet\":[{\"aaxis\":{\"endlinecolor\":\"rgb(36,36,36)\",\"gridcolor\":\"white\",\"linecolor\":\"white\",\"minorgridcolor\":\"white\",\"startlinecolor\":\"rgb(36,36,36)\"},\"baxis\":{\"endlinecolor\":\"rgb(36,36,36)\",\"gridcolor\":\"white\",\"linecolor\":\"white\",\"minorgridcolor\":\"white\",\"startlinecolor\":\"rgb(36,36,36)\"},\"type\":\"carpet\"}],\"choropleth\":[{\"colorbar\":{\"outlinewidth\":1,\"tickcolor\":\"rgb(36,36,36)\",\"ticks\":\"outside\"},\"type\":\"choropleth\"}],\"contourcarpet\":[{\"colorbar\":{\"outlinewidth\":1,\"tickcolor\":\"rgb(36,36,36)\",\"ticks\":\"outside\"},\"type\":\"contourcarpet\"}],\"contour\":[{\"colorbar\":{\"outlinewidth\":1,\"tickcolor\":\"rgb(36,36,36)\",\"ticks\":\"outside\"},\"colorscale\":[[0.0,\"#440154\"],[0.1111111111111111,\"#482878\"],[0.2222222222222222,\"#3e4989\"],[0.3333333333333333,\"#31688e\"],[0.4444444444444444,\"#26828e\"],[0.5555555555555556,\"#1f9e89\"],[0.6666666666666666,\"#35b779\"],[0.7777777777777778,\"#6ece58\"],[0.8888888888888888,\"#b5de2b\"],[1.0,\"#fde725\"]],\"type\":\"contour\"}],\"heatmapgl\":[{\"colorbar\":{\"outlinewidth\":1,\"tickcolor\":\"rgb(36,36,36)\",\"ticks\":\"outside\"},\"colorscale\":[[0.0,\"#440154\"],[0.1111111111111111,\"#482878\"],[0.2222222222222222,\"#3e4989\"],[0.3333333333333333,\"#31688e\"],[0.4444444444444444,\"#26828e\"],[0.5555555555555556,\"#1f9e89\"],[0.6666666666666666,\"#35b779\"],[0.7777777777777778,\"#6ece58\"],[0.8888888888888888,\"#b5de2b\"],[1.0,\"#fde725\"]],\"type\":\"heatmapgl\"}],\"heatmap\":[{\"colorbar\":{\"outlinewidth\":1,\"tickcolor\":\"rgb(36,36,36)\",\"ticks\":\"outside\"},\"colorscale\":[[0.0,\"#440154\"],[0.1111111111111111,\"#482878\"],[0.2222222222222222,\"#3e4989\"],[0.3333333333333333,\"#31688e\"],[0.4444444444444444,\"#26828e\"],[0.5555555555555556,\"#1f9e89\"],[0.6666666666666666,\"#35b779\"],[0.7777777777777778,\"#6ece58\"],[0.8888888888888888,\"#b5de2b\"],[1.0,\"#fde725\"]],\"type\":\"heatmap\"}],\"histogram2dcontour\":[{\"colorbar\":{\"outlinewidth\":1,\"tickcolor\":\"rgb(36,36,36)\",\"ticks\":\"outside\"},\"colorscale\":[[0.0,\"#440154\"],[0.1111111111111111,\"#482878\"],[0.2222222222222222,\"#3e4989\"],[0.3333333333333333,\"#31688e\"],[0.4444444444444444,\"#26828e\"],[0.5555555555555556,\"#1f9e89\"],[0.6666666666666666,\"#35b779\"],[0.7777777777777778,\"#6ece58\"],[0.8888888888888888,\"#b5de2b\"],[1.0,\"#fde725\"]],\"type\":\"histogram2dcontour\"}],\"histogram2d\":[{\"colorbar\":{\"outlinewidth\":1,\"tickcolor\":\"rgb(36,36,36)\",\"ticks\":\"outside\"},\"colorscale\":[[0.0,\"#440154\"],[0.1111111111111111,\"#482878\"],[0.2222222222222222,\"#3e4989\"],[0.3333333333333333,\"#31688e\"],[0.4444444444444444,\"#26828e\"],[0.5555555555555556,\"#1f9e89\"],[0.6666666666666666,\"#35b779\"],[0.7777777777777778,\"#6ece58\"],[0.8888888888888888,\"#b5de2b\"],[1.0,\"#fde725\"]],\"type\":\"histogram2d\"}],\"histogram\":[{\"marker\":{\"line\":{\"color\":\"white\",\"width\":0.6}},\"type\":\"histogram\"}],\"mesh3d\":[{\"colorbar\":{\"outlinewidth\":1,\"tickcolor\":\"rgb(36,36,36)\",\"ticks\":\"outside\"},\"type\":\"mesh3d\"}],\"parcoords\":[{\"line\":{\"colorbar\":{\"outlinewidth\":1,\"tickcolor\":\"rgb(36,36,36)\",\"ticks\":\"outside\"}},\"type\":\"parcoords\"}],\"pie\":[{\"automargin\":true,\"type\":\"pie\"}],\"scatter3d\":[{\"line\":{\"colorbar\":{\"outlinewidth\":1,\"tickcolor\":\"rgb(36,36,36)\",\"ticks\":\"outside\"}},\"marker\":{\"colorbar\":{\"outlinewidth\":1,\"tickcolor\":\"rgb(36,36,36)\",\"ticks\":\"outside\"}},\"type\":\"scatter3d\"}],\"scattercarpet\":[{\"marker\":{\"colorbar\":{\"outlinewidth\":1,\"tickcolor\":\"rgb(36,36,36)\",\"ticks\":\"outside\"}},\"type\":\"scattercarpet\"}],\"scattergeo\":[{\"marker\":{\"colorbar\":{\"outlinewidth\":1,\"tickcolor\":\"rgb(36,36,36)\",\"ticks\":\"outside\"}},\"type\":\"scattergeo\"}],\"scattergl\":[{\"marker\":{\"colorbar\":{\"outlinewidth\":1,\"tickcolor\":\"rgb(36,36,36)\",\"ticks\":\"outside\"}},\"type\":\"scattergl\"}],\"scattermapbox\":[{\"marker\":{\"colorbar\":{\"outlinewidth\":1,\"tickcolor\":\"rgb(36,36,36)\",\"ticks\":\"outside\"}},\"type\":\"scattermapbox\"}],\"scatterpolargl\":[{\"marker\":{\"colorbar\":{\"outlinewidth\":1,\"tickcolor\":\"rgb(36,36,36)\",\"ticks\":\"outside\"}},\"type\":\"scatterpolargl\"}],\"scatterpolar\":[{\"marker\":{\"colorbar\":{\"outlinewidth\":1,\"tickcolor\":\"rgb(36,36,36)\",\"ticks\":\"outside\"}},\"type\":\"scatterpolar\"}],\"scatter\":[{\"marker\":{\"colorbar\":{\"outlinewidth\":1,\"tickcolor\":\"rgb(36,36,36)\",\"ticks\":\"outside\"}},\"type\":\"scatter\"}],\"scatterternary\":[{\"marker\":{\"colorbar\":{\"outlinewidth\":1,\"tickcolor\":\"rgb(36,36,36)\",\"ticks\":\"outside\"}},\"type\":\"scatterternary\"}],\"surface\":[{\"colorbar\":{\"outlinewidth\":1,\"tickcolor\":\"rgb(36,36,36)\",\"ticks\":\"outside\"},\"colorscale\":[[0.0,\"#440154\"],[0.1111111111111111,\"#482878\"],[0.2222222222222222,\"#3e4989\"],[0.3333333333333333,\"#31688e\"],[0.4444444444444444,\"#26828e\"],[0.5555555555555556,\"#1f9e89\"],[0.6666666666666666,\"#35b779\"],[0.7777777777777778,\"#6ece58\"],[0.8888888888888888,\"#b5de2b\"],[1.0,\"#fde725\"]],\"type\":\"surface\"}],\"table\":[{\"cells\":{\"fill\":{\"color\":\"rgb(237,237,237)\"},\"line\":{\"color\":\"white\"}},\"header\":{\"fill\":{\"color\":\"rgb(217,217,217)\"},\"line\":{\"color\":\"white\"}},\"type\":\"table\"}]},\"layout\":{\"annotationdefaults\":{\"arrowhead\":0,\"arrowwidth\":1},\"autotypenumbers\":\"strict\",\"coloraxis\":{\"colorbar\":{\"outlinewidth\":1,\"tickcolor\":\"rgb(36,36,36)\",\"ticks\":\"outside\"}},\"colorscale\":{\"diverging\":[[0.0,\"rgb(103,0,31)\"],[0.1,\"rgb(178,24,43)\"],[0.2,\"rgb(214,96,77)\"],[0.3,\"rgb(244,165,130)\"],[0.4,\"rgb(253,219,199)\"],[0.5,\"rgb(247,247,247)\"],[0.6,\"rgb(209,229,240)\"],[0.7,\"rgb(146,197,222)\"],[0.8,\"rgb(67,147,195)\"],[0.9,\"rgb(33,102,172)\"],[1.0,\"rgb(5,48,97)\"]],\"sequential\":[[0.0,\"#440154\"],[0.1111111111111111,\"#482878\"],[0.2222222222222222,\"#3e4989\"],[0.3333333333333333,\"#31688e\"],[0.4444444444444444,\"#26828e\"],[0.5555555555555556,\"#1f9e89\"],[0.6666666666666666,\"#35b779\"],[0.7777777777777778,\"#6ece58\"],[0.8888888888888888,\"#b5de2b\"],[1.0,\"#fde725\"]],\"sequentialminus\":[[0.0,\"#440154\"],[0.1111111111111111,\"#482878\"],[0.2222222222222222,\"#3e4989\"],[0.3333333333333333,\"#31688e\"],[0.4444444444444444,\"#26828e\"],[0.5555555555555556,\"#1f9e89\"],[0.6666666666666666,\"#35b779\"],[0.7777777777777778,\"#6ece58\"],[0.8888888888888888,\"#b5de2b\"],[1.0,\"#fde725\"]]},\"colorway\":[\"#1F77B4\",\"#FF7F0E\",\"#2CA02C\",\"#D62728\",\"#9467BD\",\"#8C564B\",\"#E377C2\",\"#7F7F7F\",\"#BCBD22\",\"#17BECF\"],\"font\":{\"color\":\"rgb(36,36,36)\"},\"geo\":{\"bgcolor\":\"white\",\"lakecolor\":\"white\",\"landcolor\":\"white\",\"showlakes\":true,\"showland\":true,\"subunitcolor\":\"white\"},\"hoverlabel\":{\"align\":\"left\"},\"hovermode\":\"closest\",\"mapbox\":{\"style\":\"light\"},\"paper_bgcolor\":\"white\",\"plot_bgcolor\":\"white\",\"polar\":{\"angularaxis\":{\"gridcolor\":\"rgb(232,232,232)\",\"linecolor\":\"rgb(36,36,36)\",\"showgrid\":false,\"showline\":true,\"ticks\":\"outside\"},\"bgcolor\":\"white\",\"radialaxis\":{\"gridcolor\":\"rgb(232,232,232)\",\"linecolor\":\"rgb(36,36,36)\",\"showgrid\":false,\"showline\":true,\"ticks\":\"outside\"}},\"scene\":{\"xaxis\":{\"backgroundcolor\":\"white\",\"gridcolor\":\"rgb(232,232,232)\",\"gridwidth\":2,\"linecolor\":\"rgb(36,36,36)\",\"showbackground\":true,\"showgrid\":false,\"showline\":true,\"ticks\":\"outside\",\"zeroline\":false,\"zerolinecolor\":\"rgb(36,36,36)\"},\"yaxis\":{\"backgroundcolor\":\"white\",\"gridcolor\":\"rgb(232,232,232)\",\"gridwidth\":2,\"linecolor\":\"rgb(36,36,36)\",\"showbackground\":true,\"showgrid\":false,\"showline\":true,\"ticks\":\"outside\",\"zeroline\":false,\"zerolinecolor\":\"rgb(36,36,36)\"},\"zaxis\":{\"backgroundcolor\":\"white\",\"gridcolor\":\"rgb(232,232,232)\",\"gridwidth\":2,\"linecolor\":\"rgb(36,36,36)\",\"showbackground\":true,\"showgrid\":false,\"showline\":true,\"ticks\":\"outside\",\"zeroline\":false,\"zerolinecolor\":\"rgb(36,36,36)\"}},\"shapedefaults\":{\"fillcolor\":\"black\",\"line\":{\"width\":0},\"opacity\":0.3},\"ternary\":{\"aaxis\":{\"gridcolor\":\"rgb(232,232,232)\",\"linecolor\":\"rgb(36,36,36)\",\"showgrid\":false,\"showline\":true,\"ticks\":\"outside\"},\"baxis\":{\"gridcolor\":\"rgb(232,232,232)\",\"linecolor\":\"rgb(36,36,36)\",\"showgrid\":false,\"showline\":true,\"ticks\":\"outside\"},\"bgcolor\":\"white\",\"caxis\":{\"gridcolor\":\"rgb(232,232,232)\",\"linecolor\":\"rgb(36,36,36)\",\"showgrid\":false,\"showline\":true,\"ticks\":\"outside\"}},\"title\":{\"x\":0.05},\"xaxis\":{\"automargin\":true,\"gridcolor\":\"rgb(232,232,232)\",\"linecolor\":\"rgb(36,36,36)\",\"showgrid\":false,\"showline\":true,\"ticks\":\"outside\",\"title\":{\"standoff\":15},\"zeroline\":false,\"zerolinecolor\":\"rgb(36,36,36)\"},\"yaxis\":{\"automargin\":true,\"gridcolor\":\"rgb(232,232,232)\",\"linecolor\":\"rgb(36,36,36)\",\"showgrid\":false,\"showline\":true,\"ticks\":\"outside\",\"title\":{\"standoff\":15},\"zeroline\":false,\"zerolinecolor\":\"rgb(36,36,36)\"}}},\"xaxis\":{\"anchor\":\"y\",\"domain\":[0.0,0.31999999999999995],\"title\":{\"text\":\"\\u0434\\u0430\\u0442\\u0430\"}},\"yaxis\":{\"anchor\":\"x\",\"domain\":[0.0,1.0],\"title\":{\"text\":\"\\u0447\\u0438\\u0441\\u043b\\u043e \\u0441\\u043e\\u0431\\u044b\\u0442\\u0438\\u0439\"}},\"xaxis2\":{\"anchor\":\"y2\",\"domain\":[0.33999999999999997,0.6599999999999999],\"matches\":\"x\",\"title\":{\"text\":\"\\u0434\\u0430\\u0442\\u0430\"}},\"yaxis2\":{\"anchor\":\"x2\",\"domain\":[0.0,1.0],\"matches\":\"y\",\"showticklabels\":false},\"xaxis3\":{\"anchor\":\"y3\",\"domain\":[0.6799999999999999,0.9999999999999999],\"matches\":\"x\",\"title\":{\"text\":\"\\u0434\\u0430\\u0442\\u0430\"}},\"yaxis3\":{\"anchor\":\"x3\",\"domain\":[0.0,1.0],\"matches\":\"y\",\"showticklabels\":false},\"annotations\":[{\"font\":{},\"showarrow\":false,\"text\":\"\\u0433\\u0440\\u0443\\u043f\\u043f\\u0430=A\",\"x\":0.15999999999999998,\"xanchor\":\"center\",\"xref\":\"paper\",\"y\":1.0,\"yanchor\":\"bottom\",\"yref\":\"paper\"},{\"font\":{},\"showarrow\":false,\"text\":\"\\u0433\\u0440\\u0443\\u043f\\u043f\\u0430=A_1\",\"x\":0.49999999999999994,\"xanchor\":\"center\",\"xref\":\"paper\",\"y\":1.0,\"yanchor\":\"bottom\",\"yref\":\"paper\"},{\"font\":{},\"showarrow\":false,\"text\":\"\\u0433\\u0440\\u0443\\u043f\\u043f\\u0430=B\",\"x\":0.8399999999999999,\"xanchor\":\"center\",\"xref\":\"paper\",\"y\":1.0,\"yanchor\":\"bottom\",\"yref\":\"paper\"}],\"legend\":{\"title\":{\"text\":\"\\u0433\\u0440\\u0443\\u043f\\u043f\\u0430\"},\"tracegroupgap\":0},\"title\":{\"text\":\"\\u041a\\u043e\\u043b\\u0438\\u0447\\u0435\\u0441\\u0442\\u0432\\u043e \\u0441\\u043e\\u0431\\u044b\\u0442\\u0438\\u0439 \\u043e\\u0442 \\u0434\\u0430\\u0442\\u044b \\u043f\\u043e \\u0433\\u0440\\u0443\\u043f\\u043f\\u0430\\u043c \\u044d\\u043a\\u0441\\u043f\\u0435\\u0440\\u0438\\u043c\\u0435\\u043d\\u0442\\u0430\"},\"barmode\":\"relative\"},                        {\"responsive\": true}                    ).then(function(){\n",
       "                            \n",
       "var gd = document.getElementById('1988edbd-dd6b-445d-8c1c-9013a7a88951');\n",
       "var x = new MutationObserver(function (mutations, observer) {{\n",
       "        var display = window.getComputedStyle(gd).display;\n",
       "        if (!display || display === 'none') {{\n",
       "            console.log([gd, 'removed!']);\n",
       "            Plotly.purge(gd);\n",
       "            observer.disconnect();\n",
       "        }}\n",
       "}});\n",
       "\n",
       "// Listen for the removal of the full notebook cells\n",
       "var notebookContainer = gd.closest('#notebook-container');\n",
       "if (notebookContainer) {{\n",
       "    x.observe(notebookContainer, {childList: true});\n",
       "}}\n",
       "\n",
       "// Listen for the clearing of the current output cell\n",
       "var outputEl = gd.closest('.output');\n",
       "if (outputEl) {{\n",
       "    x.observe(outputEl, {childList: true});\n",
       "}}\n",
       "\n",
       "                        })                };                });            </script>        </div>"
      ]
     },
     "metadata": {},
     "output_type": "display_data"
    }
   ],
   "source": [
    "px.bar(group_date_count_event,\n",
    "       x='date',\n",
    "       y='count_events',\n",
    "       color='group',\n",
    "       facet_col='group',\n",
    "       labels={'group': 'группа',\n",
    "               'count_events': 'число событий', 'date': 'дата'},\n",
    "       title='Количество событий от даты по группам эксперимента',\n",
    "       template='simple_white')"
   ]
  },
  {
   "cell_type": "markdown",
   "metadata": {},
   "source": [
    "видно что данных за июль почти нет - отсечем его и будем работать с августом."
   ]
  },
  {
   "cell_type": "code",
   "execution_count": 24,
   "metadata": {
    "trusted": true
   },
   "outputs": [
    {
     "data": {
      "text/html": [
       "<div>\n",
       "<style scoped>\n",
       "    .dataframe tbody tr th:only-of-type {\n",
       "        vertical-align: middle;\n",
       "    }\n",
       "\n",
       "    .dataframe tbody tr th {\n",
       "        vertical-align: top;\n",
       "    }\n",
       "\n",
       "    .dataframe thead th {\n",
       "        text-align: right;\n",
       "    }\n",
       "</style>\n",
       "<table border=\"1\" class=\"dataframe\">\n",
       "  <thead>\n",
       "    <tr style=\"text-align: right;\">\n",
       "      <th></th>\n",
       "      <th>event_name</th>\n",
       "      <th>user_id</th>\n",
       "      <th>event_timestamp</th>\n",
       "      <th>group</th>\n",
       "      <th>datetime</th>\n",
       "      <th>date</th>\n",
       "    </tr>\n",
       "  </thead>\n",
       "  <tbody>\n",
       "    <tr>\n",
       "      <th>1431</th>\n",
       "      <td>OffersScreenAppear</td>\n",
       "      <td>776222275221644469</td>\n",
       "      <td>1564585215</td>\n",
       "      <td>A_1</td>\n",
       "      <td>2019-08-01 00:00:15</td>\n",
       "      <td>2019-08-01</td>\n",
       "    </tr>\n",
       "    <tr>\n",
       "      <th>1432</th>\n",
       "      <td>CartScreenAppear</td>\n",
       "      <td>776222275221644469</td>\n",
       "      <td>1564585218</td>\n",
       "      <td>A_1</td>\n",
       "      <td>2019-08-01 00:00:18</td>\n",
       "      <td>2019-08-01</td>\n",
       "    </tr>\n",
       "    <tr>\n",
       "      <th>1433</th>\n",
       "      <td>MainScreenAppear</td>\n",
       "      <td>8325194800804806038</td>\n",
       "      <td>1564585252</td>\n",
       "      <td>A_1</td>\n",
       "      <td>2019-08-01 00:00:52</td>\n",
       "      <td>2019-08-01</td>\n",
       "    </tr>\n",
       "    <tr>\n",
       "      <th>1434</th>\n",
       "      <td>OffersScreenAppear</td>\n",
       "      <td>8325194800804806038</td>\n",
       "      <td>1564585257</td>\n",
       "      <td>A_1</td>\n",
       "      <td>2019-08-01 00:00:57</td>\n",
       "      <td>2019-08-01</td>\n",
       "    </tr>\n",
       "    <tr>\n",
       "      <th>1435</th>\n",
       "      <td>MainScreenAppear</td>\n",
       "      <td>6610661657143438937</td>\n",
       "      <td>1564585290</td>\n",
       "      <td>A</td>\n",
       "      <td>2019-08-01 00:01:30</td>\n",
       "      <td>2019-08-01</td>\n",
       "    </tr>\n",
       "  </tbody>\n",
       "</table>\n",
       "</div>"
      ],
      "text/plain": [
       "              event_name              user_id  event_timestamp group  \\\n",
       "1431  OffersScreenAppear   776222275221644469       1564585215   A_1   \n",
       "1432    CartScreenAppear   776222275221644469       1564585218   A_1   \n",
       "1433    MainScreenAppear  8325194800804806038       1564585252   A_1   \n",
       "1434  OffersScreenAppear  8325194800804806038       1564585257   A_1   \n",
       "1435    MainScreenAppear  6610661657143438937       1564585290     A   \n",
       "\n",
       "                datetime       date  \n",
       "1431 2019-08-01 00:00:15 2019-08-01  \n",
       "1432 2019-08-01 00:00:18 2019-08-01  \n",
       "1433 2019-08-01 00:00:52 2019-08-01  \n",
       "1434 2019-08-01 00:00:57 2019-08-01  \n",
       "1435 2019-08-01 00:01:30 2019-08-01  "
      ]
     },
     "execution_count": 24,
     "metadata": {},
     "output_type": "execute_result"
    }
   ],
   "source": [
    "df_filter = data.loc[data['date'].dt.month > 7]\n",
    "df_filter.head()"
   ]
  },
  {
   "cell_type": "markdown",
   "metadata": {},
   "source": [
    "Узнаем сколько данных мы потеряли"
   ]
  },
  {
   "cell_type": "code",
   "execution_count": 25,
   "metadata": {
    "trusted": true
   },
   "outputs": [
    {
     "name": "stdout",
     "output_type": "stream",
     "text": [
      "количество событий после чистки: 242283\n",
      "количество уникальных пользователей после чистки: 7541\n",
      "\n",
      "потеряно событий после чистки: 1430 ( 0.59 % )\n",
      "потеряно уникальных пользователей после чистки: 10 ( 0.13 % )\n"
     ]
    }
   ],
   "source": [
    "total_events = len(data)\n",
    "total_events_filtered = len(df_filter)\n",
    "\n",
    "count_users = data['user_id'].nunique()\n",
    "count_users_filtered = df_filter['user_id'].nunique()\n",
    "\n",
    "print(f'количество событий после чистки: {total_events_filtered}')\n",
    "\n",
    "print(\n",
    "    f'количество уникальных пользователей после чистки: {count_users_filtered}')\n",
    "\n",
    "print(\n",
    "    f'\\nпотеряно событий после чистки: {total_events - total_events_filtered}',\n",
    "      '( {:.2f} % )'\n",
    "      .format(\n",
    "          (1-total_events_filtered/total_events)*100\n",
    "      )\n",
    "      )\n",
    "\n",
    "print(\n",
    "    f'потеряно уникальных пользователей после чистки: {count_users - count_users_filtered}',\n",
    "    '( {:.2f} % )'\n",
    "    .format(\n",
    "        (1-count_users_filtered/count_users)*100\n",
    "    )\n",
    ")"
   ]
  },
  {
   "cell_type": "markdown",
   "metadata": {},
   "source": [
    "посчитаем кол-во пользователей в группах"
   ]
  },
  {
   "cell_type": "code",
   "execution_count": 26,
   "metadata": {
    "trusted": true
   },
   "outputs": [
    {
     "data": {
      "text/html": [
       "<div>\n",
       "<style scoped>\n",
       "    .dataframe tbody tr th:only-of-type {\n",
       "        vertical-align: middle;\n",
       "    }\n",
       "\n",
       "    .dataframe tbody tr th {\n",
       "        vertical-align: top;\n",
       "    }\n",
       "\n",
       "    .dataframe thead th {\n",
       "        text-align: right;\n",
       "    }\n",
       "</style>\n",
       "<table border=\"1\" class=\"dataframe\">\n",
       "  <thead>\n",
       "    <tr style=\"text-align: right;\">\n",
       "      <th></th>\n",
       "      <th>group</th>\n",
       "      <th>count_users_filter</th>\n",
       "    </tr>\n",
       "  </thead>\n",
       "  <tbody>\n",
       "    <tr>\n",
       "      <th>0</th>\n",
       "      <td>A</td>\n",
       "      <td>2485</td>\n",
       "    </tr>\n",
       "    <tr>\n",
       "      <th>1</th>\n",
       "      <td>A_1</td>\n",
       "      <td>2517</td>\n",
       "    </tr>\n",
       "    <tr>\n",
       "      <th>2</th>\n",
       "      <td>B</td>\n",
       "      <td>2539</td>\n",
       "    </tr>\n",
       "  </tbody>\n",
       "</table>\n",
       "</div>"
      ],
      "text/plain": [
       "  group  count_users_filter\n",
       "0     A                2485\n",
       "1   A_1                2517\n",
       "2     B                2539"
      ]
     },
     "execution_count": 26,
     "metadata": {},
     "output_type": "execute_result"
    }
   ],
   "source": [
    "count_users_in_groups_filter = (df_filter\n",
    "                                .groupby(\n",
    "                                    'group',\n",
    "                                    as_index=False)\n",
    "                                .agg({'user_id': 'nunique'})\n",
    "                                .rename(\n",
    "                                    columns={'user_id': 'count_users_filter'}\n",
    "                                )\n",
    "                                )\n",
    "\n",
    "\n",
    "count_users_in_groups_filter"
   ]
  },
  {
   "cell_type": "code",
   "execution_count": 27,
   "metadata": {
    "trusted": true
   },
   "outputs": [
    {
     "data": {
      "text/plain": [
       "Index(['group', 'count_users', '%', 'diff_%'], dtype='object')"
      ]
     },
     "execution_count": 27,
     "metadata": {},
     "output_type": "execute_result"
    }
   ],
   "source": [
    "count_users_in_groups.columns"
   ]
  },
  {
   "cell_type": "code",
   "execution_count": 28,
   "metadata": {
    "trusted": true
   },
   "outputs": [
    {
     "data": {
      "text/html": [
       "<div>\n",
       "<style scoped>\n",
       "    .dataframe tbody tr th:only-of-type {\n",
       "        vertical-align: middle;\n",
       "    }\n",
       "\n",
       "    .dataframe tbody tr th {\n",
       "        vertical-align: top;\n",
       "    }\n",
       "\n",
       "    .dataframe thead th {\n",
       "        text-align: right;\n",
       "    }\n",
       "</style>\n",
       "<table border=\"1\" class=\"dataframe\">\n",
       "  <thead>\n",
       "    <tr style=\"text-align: right;\">\n",
       "      <th></th>\n",
       "      <th>group</th>\n",
       "      <th>count_users_raw</th>\n",
       "      <th>count_users_filter</th>\n",
       "    </tr>\n",
       "  </thead>\n",
       "  <tbody>\n",
       "    <tr>\n",
       "      <th>0</th>\n",
       "      <td>A</td>\n",
       "      <td>2489</td>\n",
       "      <td>2485</td>\n",
       "    </tr>\n",
       "    <tr>\n",
       "      <th>1</th>\n",
       "      <td>A_1</td>\n",
       "      <td>2520</td>\n",
       "      <td>2517</td>\n",
       "    </tr>\n",
       "    <tr>\n",
       "      <th>2</th>\n",
       "      <td>B</td>\n",
       "      <td>2542</td>\n",
       "      <td>2539</td>\n",
       "    </tr>\n",
       "  </tbody>\n",
       "</table>\n",
       "</div>"
      ],
      "text/plain": [
       "  group  count_users_raw  count_users_filter\n",
       "0     A             2489                2485\n",
       "1   A_1             2520                2517\n",
       "2     B             2542                2539"
      ]
     },
     "execution_count": 28,
     "metadata": {},
     "output_type": "execute_result"
    }
   ],
   "source": [
    "count_u_in_g = count_users_in_groups[['group', 'count_users']]\n",
    "\n",
    "table_count_users_groups = (count_u_in_g\n",
    "                            .merge(\n",
    "                                count_users_in_groups_filter,\n",
    "                                how='left',\n",
    "                                on='group')\n",
    "                            .rename(\n",
    "                                columns={'count_users': 'count_users_raw'}\n",
    "                            )\n",
    "                            )\n",
    "\n",
    "table_count_users_groups"
   ]
  },
  {
   "cell_type": "markdown",
   "metadata": {},
   "source": [
    "Посчитаем насколько и восколько изменилось кол-во пользователей в группах."
   ]
  },
  {
   "cell_type": "code",
   "execution_count": 29,
   "metadata": {
    "trusted": true
   },
   "outputs": [
    {
     "data": {
      "text/html": [
       "<div>\n",
       "<style scoped>\n",
       "    .dataframe tbody tr th:only-of-type {\n",
       "        vertical-align: middle;\n",
       "    }\n",
       "\n",
       "    .dataframe tbody tr th {\n",
       "        vertical-align: top;\n",
       "    }\n",
       "\n",
       "    .dataframe thead th {\n",
       "        text-align: right;\n",
       "    }\n",
       "</style>\n",
       "<table border=\"1\" class=\"dataframe\">\n",
       "  <thead>\n",
       "    <tr style=\"text-align: right;\">\n",
       "      <th></th>\n",
       "      <th>group</th>\n",
       "      <th>count_users_raw</th>\n",
       "      <th>count_users_filter</th>\n",
       "      <th>diff</th>\n",
       "      <th>diff_%</th>\n",
       "    </tr>\n",
       "  </thead>\n",
       "  <tbody>\n",
       "    <tr>\n",
       "      <th>0</th>\n",
       "      <td>A</td>\n",
       "      <td>2489</td>\n",
       "      <td>2485</td>\n",
       "      <td>4</td>\n",
       "      <td>0.161</td>\n",
       "    </tr>\n",
       "    <tr>\n",
       "      <th>1</th>\n",
       "      <td>A_1</td>\n",
       "      <td>2520</td>\n",
       "      <td>2517</td>\n",
       "      <td>3</td>\n",
       "      <td>0.119</td>\n",
       "    </tr>\n",
       "    <tr>\n",
       "      <th>2</th>\n",
       "      <td>B</td>\n",
       "      <td>2542</td>\n",
       "      <td>2539</td>\n",
       "      <td>3</td>\n",
       "      <td>0.118</td>\n",
       "    </tr>\n",
       "  </tbody>\n",
       "</table>\n",
       "</div>"
      ],
      "text/plain": [
       "  group  count_users_raw  count_users_filter  diff  diff_%\n",
       "0     A             2489                2485     4   0.161\n",
       "1   A_1             2520                2517     3   0.119\n",
       "2     B             2542                2539     3   0.118"
      ]
     },
     "execution_count": 29,
     "metadata": {},
     "output_type": "execute_result"
    }
   ],
   "source": [
    "table_count_users_groups['diff'] = (table_count_users_groups['count_users_raw'] -\n",
    "                                    table_count_users_groups['count_users_filter'])\n",
    "\n",
    "\n",
    "\n",
    "table_count_users_groups['diff_%'] = (\n",
    "    (\n",
    "        (1 - table_count_users_groups['count_users_filter'] /\n",
    "         table_count_users_groups['count_users_raw'])*100\n",
    "    )\n",
    "    .round(3)\n",
    ")\n",
    "\n",
    "table_count_users_groups"
   ]
  },
  {
   "cell_type": "markdown",
   "metadata": {},
   "source": [
    "Вывод:   \n",
    "Присутствуют пользователи всех 3х групп и незначительно отличаются между собой по количеству пользователей.    \n",
    "После изменения временного  периода данные значительно не изменились.  Данные готовы к дальнейшему анализу."
   ]
  },
  {
   "cell_type": "markdown",
   "metadata": {},
   "source": [
    "# Анализ воронок продаж"
   ]
  },
  {
   "cell_type": "markdown",
   "metadata": {},
   "source": [
    "В таблице события значат следующее"
   ]
  },
  {
   "cell_type": "markdown",
   "metadata": {},
   "source": [
    "`MainScreenAppear` -появление главного экрана   \n",
    "`OffersScreenAppear` - появлние экран с предложениями    \n",
    "`CartScreenAppear` - появление экрана корзины   \n",
    "`PaymentScreenSuccessful` - появление экрана об успешном платеже   \n",
    "`Tutorial` - появление экрана с обучением"
   ]
  },
  {
   "cell_type": "markdown",
   "metadata": {},
   "source": [
    "Для лучшего понимания переведем события с помощью функции"
   ]
  },
  {
   "cell_type": "code",
   "execution_count": 30,
   "metadata": {
    "trusted": true
   },
   "outputs": [],
   "source": [
    "def rename_events(value):\n",
    "    if value == 'MainScreenAppear':\n",
    "        return 'главный экран'\n",
    "\n",
    "    elif value == 'OffersScreenAppear':\n",
    "        return 'экран с предложениями'\n",
    "\n",
    "    elif value == 'CartScreenAppear':\n",
    "        return 'экран корзины'\n",
    "\n",
    "    elif value == 'PaymentScreenSuccessful':\n",
    "        return 'экран об оплате платежа'\n",
    "    else:\n",
    "        return 'экран с обучением'"
   ]
  },
  {
   "cell_type": "markdown",
   "metadata": {},
   "source": [
    "запишем перевод в отдельный столбец"
   ]
  },
  {
   "cell_type": "code",
   "execution_count": 31,
   "metadata": {
    "trusted": true
   },
   "outputs": [
    {
     "data": {
      "text/html": [
       "<div>\n",
       "<style scoped>\n",
       "    .dataframe tbody tr th:only-of-type {\n",
       "        vertical-align: middle;\n",
       "    }\n",
       "\n",
       "    .dataframe tbody tr th {\n",
       "        vertical-align: top;\n",
       "    }\n",
       "\n",
       "    .dataframe thead th {\n",
       "        text-align: right;\n",
       "    }\n",
       "</style>\n",
       "<table border=\"1\" class=\"dataframe\">\n",
       "  <thead>\n",
       "    <tr style=\"text-align: right;\">\n",
       "      <th></th>\n",
       "      <th>event_name</th>\n",
       "      <th>user_id</th>\n",
       "      <th>event_timestamp</th>\n",
       "      <th>group</th>\n",
       "      <th>datetime</th>\n",
       "      <th>date</th>\n",
       "      <th>event_name_rus</th>\n",
       "    </tr>\n",
       "  </thead>\n",
       "  <tbody>\n",
       "    <tr>\n",
       "      <th>1431</th>\n",
       "      <td>OffersScreenAppear</td>\n",
       "      <td>776222275221644469</td>\n",
       "      <td>1564585215</td>\n",
       "      <td>A_1</td>\n",
       "      <td>2019-08-01 00:00:15</td>\n",
       "      <td>2019-08-01</td>\n",
       "      <td>экран с предложениями</td>\n",
       "    </tr>\n",
       "    <tr>\n",
       "      <th>1432</th>\n",
       "      <td>CartScreenAppear</td>\n",
       "      <td>776222275221644469</td>\n",
       "      <td>1564585218</td>\n",
       "      <td>A_1</td>\n",
       "      <td>2019-08-01 00:00:18</td>\n",
       "      <td>2019-08-01</td>\n",
       "      <td>экран корзины</td>\n",
       "    </tr>\n",
       "    <tr>\n",
       "      <th>1433</th>\n",
       "      <td>MainScreenAppear</td>\n",
       "      <td>8325194800804806038</td>\n",
       "      <td>1564585252</td>\n",
       "      <td>A_1</td>\n",
       "      <td>2019-08-01 00:00:52</td>\n",
       "      <td>2019-08-01</td>\n",
       "      <td>главный экран</td>\n",
       "    </tr>\n",
       "    <tr>\n",
       "      <th>1434</th>\n",
       "      <td>OffersScreenAppear</td>\n",
       "      <td>8325194800804806038</td>\n",
       "      <td>1564585257</td>\n",
       "      <td>A_1</td>\n",
       "      <td>2019-08-01 00:00:57</td>\n",
       "      <td>2019-08-01</td>\n",
       "      <td>экран с предложениями</td>\n",
       "    </tr>\n",
       "    <tr>\n",
       "      <th>1435</th>\n",
       "      <td>MainScreenAppear</td>\n",
       "      <td>6610661657143438937</td>\n",
       "      <td>1564585290</td>\n",
       "      <td>A</td>\n",
       "      <td>2019-08-01 00:01:30</td>\n",
       "      <td>2019-08-01</td>\n",
       "      <td>главный экран</td>\n",
       "    </tr>\n",
       "  </tbody>\n",
       "</table>\n",
       "</div>"
      ],
      "text/plain": [
       "              event_name              user_id  event_timestamp group  \\\n",
       "1431  OffersScreenAppear   776222275221644469       1564585215   A_1   \n",
       "1432    CartScreenAppear   776222275221644469       1564585218   A_1   \n",
       "1433    MainScreenAppear  8325194800804806038       1564585252   A_1   \n",
       "1434  OffersScreenAppear  8325194800804806038       1564585257   A_1   \n",
       "1435    MainScreenAppear  6610661657143438937       1564585290     A   \n",
       "\n",
       "                datetime       date         event_name_rus  \n",
       "1431 2019-08-01 00:00:15 2019-08-01  экран с предложениями  \n",
       "1432 2019-08-01 00:00:18 2019-08-01          экран корзины  \n",
       "1433 2019-08-01 00:00:52 2019-08-01          главный экран  \n",
       "1434 2019-08-01 00:00:57 2019-08-01  экран с предложениями  \n",
       "1435 2019-08-01 00:01:30 2019-08-01          главный экран  "
      ]
     },
     "execution_count": 31,
     "metadata": {},
     "output_type": "execute_result"
    }
   ],
   "source": [
    "df_filter['event_name_rus'] = df_filter['event_name'].apply(rename_events)\n",
    "df_filter.head()"
   ]
  },
  {
   "cell_type": "markdown",
   "metadata": {},
   "source": [
    "посмотрим , сколько раз пользователи совершали события"
   ]
  },
  {
   "cell_type": "code",
   "execution_count": 32,
   "metadata": {
    "trusted": true
   },
   "outputs": [
    {
     "data": {
      "text/html": [
       "<div>\n",
       "<style scoped>\n",
       "    .dataframe tbody tr th:only-of-type {\n",
       "        vertical-align: middle;\n",
       "    }\n",
       "\n",
       "    .dataframe tbody tr th {\n",
       "        vertical-align: top;\n",
       "    }\n",
       "\n",
       "    .dataframe thead th {\n",
       "        text-align: right;\n",
       "    }\n",
       "</style>\n",
       "<table border=\"1\" class=\"dataframe\">\n",
       "  <thead>\n",
       "    <tr style=\"text-align: right;\">\n",
       "      <th></th>\n",
       "      <th>event_name_rus</th>\n",
       "      <th>count_users</th>\n",
       "    </tr>\n",
       "  </thead>\n",
       "  <tbody>\n",
       "    <tr>\n",
       "      <th>0</th>\n",
       "      <td>главный экран</td>\n",
       "      <td>118171</td>\n",
       "    </tr>\n",
       "    <tr>\n",
       "      <th>4</th>\n",
       "      <td>экран с предложениями</td>\n",
       "      <td>46628</td>\n",
       "    </tr>\n",
       "    <tr>\n",
       "      <th>1</th>\n",
       "      <td>экран корзины</td>\n",
       "      <td>42461</td>\n",
       "    </tr>\n",
       "    <tr>\n",
       "      <th>2</th>\n",
       "      <td>экран об оплате платежа</td>\n",
       "      <td>34013</td>\n",
       "    </tr>\n",
       "    <tr>\n",
       "      <th>3</th>\n",
       "      <td>экран с обучением</td>\n",
       "      <td>1010</td>\n",
       "    </tr>\n",
       "  </tbody>\n",
       "</table>\n",
       "</div>"
      ],
      "text/plain": [
       "            event_name_rus  count_users\n",
       "0            главный экран       118171\n",
       "4    экран с предложениями        46628\n",
       "1            экран корзины        42461\n",
       "2  экран об оплате платежа        34013\n",
       "3        экран с обучением         1010"
      ]
     },
     "execution_count": 32,
     "metadata": {},
     "output_type": "execute_result"
    }
   ],
   "source": [
    "ev_raw = (df_filter\n",
    "          .groupby('event_name_rus', as_index=False)\n",
    "          .agg(\n",
    "              {'user_id': 'count'}\n",
    "          )\n",
    "          .sort_values(\n",
    "              'user_id', ascending=False\n",
    "          )\n",
    "          .rename(columns={\n",
    "              'user_id': 'count_users'\n",
    "          }\n",
    "          )\n",
    "          )\n",
    "\n",
    "\n",
    "ev_raw"
   ]
  },
  {
   "cell_type": "markdown",
   "metadata": {},
   "source": [
    "Рассчитаем долю пользователей совершивщих одно событие. Для начала найдем сколько пользователи совершали событий"
   ]
  },
  {
   "cell_type": "code",
   "execution_count": 33,
   "metadata": {
    "trusted": true
   },
   "outputs": [
    {
     "data": {
      "text/html": [
       "<div>\n",
       "<style scoped>\n",
       "    .dataframe tbody tr th:only-of-type {\n",
       "        vertical-align: middle;\n",
       "    }\n",
       "\n",
       "    .dataframe tbody tr th {\n",
       "        vertical-align: top;\n",
       "    }\n",
       "\n",
       "    .dataframe thead th {\n",
       "        text-align: right;\n",
       "    }\n",
       "</style>\n",
       "<table border=\"1\" class=\"dataframe\">\n",
       "  <thead>\n",
       "    <tr style=\"text-align: right;\">\n",
       "      <th></th>\n",
       "      <th>user_id</th>\n",
       "      <th>count_events</th>\n",
       "    </tr>\n",
       "  </thead>\n",
       "  <tbody>\n",
       "    <tr>\n",
       "      <th>0</th>\n",
       "      <td>6888746892508752</td>\n",
       "      <td>1</td>\n",
       "    </tr>\n",
       "    <tr>\n",
       "      <th>1</th>\n",
       "      <td>6909561520679493</td>\n",
       "      <td>5</td>\n",
       "    </tr>\n",
       "    <tr>\n",
       "      <th>2</th>\n",
       "      <td>6922444491712477</td>\n",
       "      <td>47</td>\n",
       "    </tr>\n",
       "    <tr>\n",
       "      <th>3</th>\n",
       "      <td>7435777799948366</td>\n",
       "      <td>6</td>\n",
       "    </tr>\n",
       "    <tr>\n",
       "      <th>4</th>\n",
       "      <td>7702139951469979</td>\n",
       "      <td>137</td>\n",
       "    </tr>\n",
       "  </tbody>\n",
       "</table>\n",
       "</div>"
      ],
      "text/plain": [
       "            user_id  count_events\n",
       "0  6888746892508752             1\n",
       "1  6909561520679493             5\n",
       "2  6922444491712477            47\n",
       "3  7435777799948366             6\n",
       "4  7702139951469979           137"
      ]
     },
     "execution_count": 33,
     "metadata": {},
     "output_type": "execute_result"
    }
   ],
   "source": [
    "count_event_on_users_filter = (df_filter\n",
    "                               .groupby('user_id')\n",
    "                               .agg(\n",
    "                                   {'event_name': 'count'}\n",
    "                               )\n",
    "                               .rename(\n",
    "                                   columns={\n",
    "                                       'event_name': 'count_events'\n",
    "                                   }\n",
    "                               )\n",
    "                               .reset_index()\n",
    "                               )\n",
    "\n",
    "\n",
    "count_event_on_users.head()"
   ]
  },
  {
   "cell_type": "markdown",
   "metadata": {},
   "source": [
    "Затем найдем пользователей совершивших 1 событие"
   ]
  },
  {
   "cell_type": "code",
   "execution_count": 34,
   "metadata": {
    "trusted": true
   },
   "outputs": [],
   "source": [
    "users_with_1_event = (count_event_on_users_filter\n",
    "                      .query('count_events==1')['user_id']\n",
    "                      )"
   ]
  },
  {
   "cell_type": "code",
   "execution_count": 35,
   "metadata": {
    "trusted": true
   },
   "outputs": [
    {
     "name": "stdout",
     "output_type": "stream",
     "text": [
      "доля пользователей совершивших одно событие: 0.05 %\n"
     ]
    }
   ],
   "source": [
    "print('доля пользователей совершивших одно событие:',\n",
    "      '{:.2f} %'\n",
    "      .format(\n",
    "          users_with_1_event.count() /\n",
    "          len(df_filter)*100\n",
    "      )\n",
    "      )"
   ]
  },
  {
   "cell_type": "markdown",
   "metadata": {},
   "source": [
    "Вывод: пользователей совершивших одно событие ничтожно мало"
   ]
  },
  {
   "cell_type": "markdown",
   "metadata": {},
   "source": [
    "Теперь проверим , а действительно ли событие ГЛАВНЫЙ ЭКРАН вляется первым и вообще в какие последовательности выстраиваются события"
   ]
  },
  {
   "cell_type": "markdown",
   "metadata": {},
   "source": [
    "Найдем события совершенные пользователями за каждый день"
   ]
  },
  {
   "cell_type": "code",
   "execution_count": 36,
   "metadata": {
    "trusted": true
   },
   "outputs": [
    {
     "data": {
      "text/html": [
       "<div>\n",
       "<style scoped>\n",
       "    .dataframe tbody tr th:only-of-type {\n",
       "        vertical-align: middle;\n",
       "    }\n",
       "\n",
       "    .dataframe tbody tr th {\n",
       "        vertical-align: top;\n",
       "    }\n",
       "\n",
       "    .dataframe thead th {\n",
       "        text-align: right;\n",
       "    }\n",
       "</style>\n",
       "<table border=\"1\" class=\"dataframe\">\n",
       "  <thead>\n",
       "    <tr style=\"text-align: right;\">\n",
       "      <th></th>\n",
       "      <th>user_id</th>\n",
       "      <th>date</th>\n",
       "      <th>event_name_rus</th>\n",
       "    </tr>\n",
       "  </thead>\n",
       "  <tbody>\n",
       "    <tr>\n",
       "      <th>0</th>\n",
       "      <td>6888746892508752</td>\n",
       "      <td>2019-08-06</td>\n",
       "      <td>[главный экран]</td>\n",
       "    </tr>\n",
       "    <tr>\n",
       "      <th>1</th>\n",
       "      <td>6909561520679493</td>\n",
       "      <td>2019-08-07</td>\n",
       "      <td>[главный экран, экран об оплате платежа, экран корзины, экран с предложениями]</td>\n",
       "    </tr>\n",
       "    <tr>\n",
       "      <th>2</th>\n",
       "      <td>6922444491712477</td>\n",
       "      <td>2019-08-04</td>\n",
       "      <td>[главный экран, экран об оплате платежа, экран корзины, экран с предложениями]</td>\n",
       "    </tr>\n",
       "    <tr>\n",
       "      <th>3</th>\n",
       "      <td>6922444491712477</td>\n",
       "      <td>2019-08-05</td>\n",
       "      <td>[главный экран, экран об оплате платежа, экран корзины, экран с предложениями]</td>\n",
       "    </tr>\n",
       "    <tr>\n",
       "      <th>4</th>\n",
       "      <td>6922444491712477</td>\n",
       "      <td>2019-08-06</td>\n",
       "      <td>[главный экран, экран с предложениями, экран об оплате платежа, экран корзины]</td>\n",
       "    </tr>\n",
       "  </tbody>\n",
       "</table>\n",
       "</div>"
      ],
      "text/plain": [
       "            user_id       date  \\\n",
       "0  6888746892508752 2019-08-06   \n",
       "1  6909561520679493 2019-08-07   \n",
       "2  6922444491712477 2019-08-04   \n",
       "3  6922444491712477 2019-08-05   \n",
       "4  6922444491712477 2019-08-06   \n",
       "\n",
       "                                                                   event_name_rus  \n",
       "0                                                                 [главный экран]  \n",
       "1  [главный экран, экран об оплате платежа, экран корзины, экран с предложениями]  \n",
       "2  [главный экран, экран об оплате платежа, экран корзины, экран с предложениями]  \n",
       "3  [главный экран, экран об оплате платежа, экран корзины, экран с предложениями]  \n",
       "4  [главный экран, экран с предложениями, экран об оплате платежа, экран корзины]  "
      ]
     },
     "execution_count": 36,
     "metadata": {},
     "output_type": "execute_result"
    }
   ],
   "source": [
    "ev = (df_filter\n",
    "      .groupby(['user_id', 'date'])\n",
    "      ['event_name_rus']\n",
    "      .unique()\n",
    "      .reset_index()\n",
    "      )\n",
    "\n",
    "\n",
    "ev.head()"
   ]
  },
  {
   "cell_type": "markdown",
   "metadata": {},
   "source": [
    "Выташим первое событие"
   ]
  },
  {
   "cell_type": "code",
   "execution_count": 37,
   "metadata": {
    "trusted": true
   },
   "outputs": [
    {
     "data": {
      "text/html": [
       "<div>\n",
       "<style scoped>\n",
       "    .dataframe tbody tr th:only-of-type {\n",
       "        vertical-align: middle;\n",
       "    }\n",
       "\n",
       "    .dataframe tbody tr th {\n",
       "        vertical-align: top;\n",
       "    }\n",
       "\n",
       "    .dataframe thead th {\n",
       "        text-align: right;\n",
       "    }\n",
       "</style>\n",
       "<table border=\"1\" class=\"dataframe\">\n",
       "  <thead>\n",
       "    <tr style=\"text-align: right;\">\n",
       "      <th></th>\n",
       "      <th>user_id</th>\n",
       "      <th>date</th>\n",
       "      <th>event_name_rus</th>\n",
       "      <th>screen_1</th>\n",
       "    </tr>\n",
       "  </thead>\n",
       "  <tbody>\n",
       "    <tr>\n",
       "      <th>0</th>\n",
       "      <td>6888746892508752</td>\n",
       "      <td>2019-08-06</td>\n",
       "      <td>[главный экран]</td>\n",
       "      <td>главный экран</td>\n",
       "    </tr>\n",
       "    <tr>\n",
       "      <th>1</th>\n",
       "      <td>6909561520679493</td>\n",
       "      <td>2019-08-07</td>\n",
       "      <td>[главный экран, экран об оплате платежа, экран корзины, экран с предложениями]</td>\n",
       "      <td>главный экран</td>\n",
       "    </tr>\n",
       "    <tr>\n",
       "      <th>2</th>\n",
       "      <td>6922444491712477</td>\n",
       "      <td>2019-08-04</td>\n",
       "      <td>[главный экран, экран об оплате платежа, экран корзины, экран с предложениями]</td>\n",
       "      <td>главный экран</td>\n",
       "    </tr>\n",
       "    <tr>\n",
       "      <th>3</th>\n",
       "      <td>6922444491712477</td>\n",
       "      <td>2019-08-05</td>\n",
       "      <td>[главный экран, экран об оплате платежа, экран корзины, экран с предложениями]</td>\n",
       "      <td>главный экран</td>\n",
       "    </tr>\n",
       "    <tr>\n",
       "      <th>4</th>\n",
       "      <td>6922444491712477</td>\n",
       "      <td>2019-08-06</td>\n",
       "      <td>[главный экран, экран с предложениями, экран об оплате платежа, экран корзины]</td>\n",
       "      <td>главный экран</td>\n",
       "    </tr>\n",
       "  </tbody>\n",
       "</table>\n",
       "</div>"
      ],
      "text/plain": [
       "            user_id       date  \\\n",
       "0  6888746892508752 2019-08-06   \n",
       "1  6909561520679493 2019-08-07   \n",
       "2  6922444491712477 2019-08-04   \n",
       "3  6922444491712477 2019-08-05   \n",
       "4  6922444491712477 2019-08-06   \n",
       "\n",
       "                                                                   event_name_rus  \\\n",
       "0                                                                 [главный экран]   \n",
       "1  [главный экран, экран об оплате платежа, экран корзины, экран с предложениями]   \n",
       "2  [главный экран, экран об оплате платежа, экран корзины, экран с предложениями]   \n",
       "3  [главный экран, экран об оплате платежа, экран корзины, экран с предложениями]   \n",
       "4  [главный экран, экран с предложениями, экран об оплате платежа, экран корзины]   \n",
       "\n",
       "        screen_1  \n",
       "0  главный экран  \n",
       "1  главный экран  \n",
       "2  главный экран  \n",
       "3  главный экран  \n",
       "4  главный экран  "
      ]
     },
     "execution_count": 37,
     "metadata": {},
     "output_type": "execute_result"
    }
   ],
   "source": [
    "ev['screen_1'] = ev['event_name_rus'].apply(lambda x: x[0])\n",
    "ev.head()"
   ]
  },
  {
   "cell_type": "markdown",
   "metadata": {},
   "source": [
    "заодно найдем из скольких шагов состоит последовательность "
   ]
  },
  {
   "cell_type": "code",
   "execution_count": 38,
   "metadata": {
    "trusted": true
   },
   "outputs": [
    {
     "data": {
      "text/html": [
       "<div>\n",
       "<style scoped>\n",
       "    .dataframe tbody tr th:only-of-type {\n",
       "        vertical-align: middle;\n",
       "    }\n",
       "\n",
       "    .dataframe tbody tr th {\n",
       "        vertical-align: top;\n",
       "    }\n",
       "\n",
       "    .dataframe thead th {\n",
       "        text-align: right;\n",
       "    }\n",
       "</style>\n",
       "<table border=\"1\" class=\"dataframe\">\n",
       "  <thead>\n",
       "    <tr style=\"text-align: right;\">\n",
       "      <th></th>\n",
       "      <th>user_id</th>\n",
       "      <th>date</th>\n",
       "      <th>event_name_rus</th>\n",
       "      <th>screen_1</th>\n",
       "      <th>count_steps</th>\n",
       "    </tr>\n",
       "  </thead>\n",
       "  <tbody>\n",
       "    <tr>\n",
       "      <th>0</th>\n",
       "      <td>6888746892508752</td>\n",
       "      <td>2019-08-06</td>\n",
       "      <td>[главный экран]</td>\n",
       "      <td>главный экран</td>\n",
       "      <td>1</td>\n",
       "    </tr>\n",
       "    <tr>\n",
       "      <th>1</th>\n",
       "      <td>6909561520679493</td>\n",
       "      <td>2019-08-07</td>\n",
       "      <td>[главный экран, экран об оплате платежа, экран корзины, экран с предложениями]</td>\n",
       "      <td>главный экран</td>\n",
       "      <td>4</td>\n",
       "    </tr>\n",
       "    <tr>\n",
       "      <th>2</th>\n",
       "      <td>6922444491712477</td>\n",
       "      <td>2019-08-04</td>\n",
       "      <td>[главный экран, экран об оплате платежа, экран корзины, экран с предложениями]</td>\n",
       "      <td>главный экран</td>\n",
       "      <td>4</td>\n",
       "    </tr>\n",
       "    <tr>\n",
       "      <th>3</th>\n",
       "      <td>6922444491712477</td>\n",
       "      <td>2019-08-05</td>\n",
       "      <td>[главный экран, экран об оплате платежа, экран корзины, экран с предложениями]</td>\n",
       "      <td>главный экран</td>\n",
       "      <td>4</td>\n",
       "    </tr>\n",
       "    <tr>\n",
       "      <th>4</th>\n",
       "      <td>6922444491712477</td>\n",
       "      <td>2019-08-06</td>\n",
       "      <td>[главный экран, экран с предложениями, экран об оплате платежа, экран корзины]</td>\n",
       "      <td>главный экран</td>\n",
       "      <td>4</td>\n",
       "    </tr>\n",
       "  </tbody>\n",
       "</table>\n",
       "</div>"
      ],
      "text/plain": [
       "            user_id       date  \\\n",
       "0  6888746892508752 2019-08-06   \n",
       "1  6909561520679493 2019-08-07   \n",
       "2  6922444491712477 2019-08-04   \n",
       "3  6922444491712477 2019-08-05   \n",
       "4  6922444491712477 2019-08-06   \n",
       "\n",
       "                                                                   event_name_rus  \\\n",
       "0                                                                 [главный экран]   \n",
       "1  [главный экран, экран об оплате платежа, экран корзины, экран с предложениями]   \n",
       "2  [главный экран, экран об оплате платежа, экран корзины, экран с предложениями]   \n",
       "3  [главный экран, экран об оплате платежа, экран корзины, экран с предложениями]   \n",
       "4  [главный экран, экран с предложениями, экран об оплате платежа, экран корзины]   \n",
       "\n",
       "        screen_1  count_steps  \n",
       "0  главный экран            1  \n",
       "1  главный экран            4  \n",
       "2  главный экран            4  \n",
       "3  главный экран            4  \n",
       "4  главный экран            4  "
      ]
     },
     "execution_count": 38,
     "metadata": {},
     "output_type": "execute_result"
    }
   ],
   "source": [
    "ev['count_steps'] = ev['event_name_rus'].apply(lambda x: len(x))\n",
    "ev.head()"
   ]
  },
  {
   "cell_type": "code",
   "execution_count": 39,
   "metadata": {
    "trusted": true
   },
   "outputs": [
    {
     "data": {
      "text/plain": [
       "1    11335\n",
       "4     8689\n",
       "2     4565\n",
       "3     1550\n",
       "5      363\n",
       "Name: count_steps, dtype: int64"
      ]
     },
     "execution_count": 39,
     "metadata": {},
     "output_type": "execute_result"
    }
   ],
   "source": [
    "ev['count_steps'].value_counts()"
   ]
  },
  {
   "cell_type": "markdown",
   "metadata": {},
   "source": [
    "В основном совершается 1 событие и 4"
   ]
  },
  {
   "cell_type": "code",
   "execution_count": 40,
   "metadata": {
    "trusted": true
   },
   "outputs": [
    {
     "data": {
      "text/html": [
       "<div>\n",
       "<style scoped>\n",
       "    .dataframe tbody tr th:only-of-type {\n",
       "        vertical-align: middle;\n",
       "    }\n",
       "\n",
       "    .dataframe tbody tr th {\n",
       "        vertical-align: top;\n",
       "    }\n",
       "\n",
       "    .dataframe thead th {\n",
       "        text-align: right;\n",
       "    }\n",
       "</style>\n",
       "<table border=\"1\" class=\"dataframe\">\n",
       "  <thead>\n",
       "    <tr style=\"text-align: right;\">\n",
       "      <th></th>\n",
       "      <th>index</th>\n",
       "      <th>screen_1</th>\n",
       "    </tr>\n",
       "  </thead>\n",
       "  <tbody>\n",
       "    <tr>\n",
       "      <th>0</th>\n",
       "      <td>главный экран</td>\n",
       "      <td>12264</td>\n",
       "    </tr>\n",
       "    <tr>\n",
       "      <th>1</th>\n",
       "      <td>экран с предложениями</td>\n",
       "      <td>1139</td>\n",
       "    </tr>\n",
       "    <tr>\n",
       "      <th>2</th>\n",
       "      <td>экран с обучением</td>\n",
       "      <td>807</td>\n",
       "    </tr>\n",
       "    <tr>\n",
       "      <th>3</th>\n",
       "      <td>экран об оплате платежа</td>\n",
       "      <td>588</td>\n",
       "    </tr>\n",
       "    <tr>\n",
       "      <th>4</th>\n",
       "      <td>экран корзины</td>\n",
       "      <td>369</td>\n",
       "    </tr>\n",
       "  </tbody>\n",
       "</table>\n",
       "</div>"
      ],
      "text/plain": [
       "                     index  screen_1\n",
       "0            главный экран     12264\n",
       "1    экран с предложениями      1139\n",
       "2        экран с обучением       807\n",
       "3  экран об оплате платежа       588\n",
       "4            экран корзины       369"
      ]
     },
     "execution_count": 40,
     "metadata": {},
     "output_type": "execute_result"
    }
   ],
   "source": [
    "\n",
    "ev.query('count_steps>1').screen_1.value_counts().reset_index()"
   ]
  },
  {
   "cell_type": "markdown",
   "metadata": {},
   "source": [
    "А первым экраном что они видят является главный экран приложения (он же главный)"
   ]
  },
  {
   "cell_type": "markdown",
   "metadata": {},
   "source": [
    "и посчитаем количество уникальных выполненыых сценариев .И посмотрим на 10 из них.    \n",
    "Для быстрых вычислений превратим списки в строки"
   ]
  },
  {
   "cell_type": "code",
   "execution_count": 41,
   "metadata": {
    "trusted": true
   },
   "outputs": [],
   "source": [
    "ev['steps'] = ev['event_name_rus'].apply(lambda x: '__'.join(x))"
   ]
  },
  {
   "cell_type": "code",
   "execution_count": 42,
   "metadata": {
    "trusted": true
   },
   "outputs": [
    {
     "data": {
      "text/html": [
       "<div>\n",
       "<style scoped>\n",
       "    .dataframe tbody tr th:only-of-type {\n",
       "        vertical-align: middle;\n",
       "    }\n",
       "\n",
       "    .dataframe tbody tr th {\n",
       "        vertical-align: top;\n",
       "    }\n",
       "\n",
       "    .dataframe thead th {\n",
       "        text-align: right;\n",
       "    }\n",
       "</style>\n",
       "<table border=\"1\" class=\"dataframe\">\n",
       "  <thead>\n",
       "    <tr style=\"text-align: right;\">\n",
       "      <th></th>\n",
       "      <th>index</th>\n",
       "      <th>steps</th>\n",
       "    </tr>\n",
       "  </thead>\n",
       "  <tbody>\n",
       "    <tr>\n",
       "      <th>0</th>\n",
       "      <td>главный экран__экран об оплате платежа__экран корзины__экран с предложениями</td>\n",
       "      <td>2607</td>\n",
       "    </tr>\n",
       "    <tr>\n",
       "      <th>1</th>\n",
       "      <td>главный экран__экран корзины__экран об оплате платежа__экран с предложениями</td>\n",
       "      <td>1797</td>\n",
       "    </tr>\n",
       "    <tr>\n",
       "      <th>2</th>\n",
       "      <td>главный экран__экран с предложениями__экран об оплате платежа__экран корзины</td>\n",
       "      <td>1645</td>\n",
       "    </tr>\n",
       "    <tr>\n",
       "      <th>3</th>\n",
       "      <td>главный экран__экран с предложениями__экран корзины__экран об оплате платежа</td>\n",
       "      <td>1373</td>\n",
       "    </tr>\n",
       "    <tr>\n",
       "      <th>4</th>\n",
       "      <td>главный экран__экран корзины__экран с предложениями__экран об оплате платежа</td>\n",
       "      <td>298</td>\n",
       "    </tr>\n",
       "  </tbody>\n",
       "</table>\n",
       "</div>"
      ],
      "text/plain": [
       "                                                                          index  \\\n",
       "0  главный экран__экран об оплате платежа__экран корзины__экран с предложениями   \n",
       "1  главный экран__экран корзины__экран об оплате платежа__экран с предложениями   \n",
       "2  главный экран__экран с предложениями__экран об оплате платежа__экран корзины   \n",
       "3  главный экран__экран с предложениями__экран корзины__экран об оплате платежа   \n",
       "4  главный экран__экран корзины__экран с предложениями__экран об оплате платежа   \n",
       "\n",
       "   steps  \n",
       "0   2607  \n",
       "1   1797  \n",
       "2   1645  \n",
       "3   1373  \n",
       "4    298  "
      ]
     },
     "execution_count": 42,
     "metadata": {},
     "output_type": "execute_result"
    }
   ],
   "source": [
    "table_steps = (ev\n",
    "               .query('count_steps>=4')\n",
    "               ['steps']\n",
    "               .value_counts()\n",
    "               .reset_index()\n",
    "               )\n",
    "\n",
    "\n",
    "table_steps.head()"
   ]
  },
  {
   "cell_type": "code",
   "execution_count": 43,
   "metadata": {
    "scrolled": false,
    "trusted": true
   },
   "outputs": [
    {
     "data": {
      "text/html": [
       "<div>\n",
       "<style scoped>\n",
       "    .dataframe tbody tr th:only-of-type {\n",
       "        vertical-align: middle;\n",
       "    }\n",
       "\n",
       "    .dataframe tbody tr th {\n",
       "        vertical-align: top;\n",
       "    }\n",
       "\n",
       "    .dataframe thead th {\n",
       "        text-align: right;\n",
       "    }\n",
       "</style>\n",
       "<table border=\"1\" class=\"dataframe\">\n",
       "  <thead>\n",
       "    <tr style=\"text-align: right;\">\n",
       "      <th></th>\n",
       "      <th>index</th>\n",
       "      <th>steps</th>\n",
       "      <th>%</th>\n",
       "    </tr>\n",
       "  </thead>\n",
       "  <tbody>\n",
       "    <tr>\n",
       "      <th>0</th>\n",
       "      <td>главный экран__экран об оплате платежа__экран корзины__экран с предложениями</td>\n",
       "      <td>2607</td>\n",
       "      <td>28.80</td>\n",
       "    </tr>\n",
       "    <tr>\n",
       "      <th>1</th>\n",
       "      <td>главный экран__экран корзины__экран об оплате платежа__экран с предложениями</td>\n",
       "      <td>1797</td>\n",
       "      <td>19.85</td>\n",
       "    </tr>\n",
       "    <tr>\n",
       "      <th>2</th>\n",
       "      <td>главный экран__экран с предложениями__экран об оплате платежа__экран корзины</td>\n",
       "      <td>1645</td>\n",
       "      <td>18.17</td>\n",
       "    </tr>\n",
       "    <tr>\n",
       "      <th>3</th>\n",
       "      <td>главный экран__экран с предложениями__экран корзины__экран об оплате платежа</td>\n",
       "      <td>1373</td>\n",
       "      <td>15.17</td>\n",
       "    </tr>\n",
       "    <tr>\n",
       "      <th>4</th>\n",
       "      <td>главный экран__экран корзины__экран с предложениями__экран об оплате платежа</td>\n",
       "      <td>298</td>\n",
       "      <td>3.29</td>\n",
       "    </tr>\n",
       "    <tr>\n",
       "      <th>5</th>\n",
       "      <td>экран с обучением__главный экран__экран с предложениями__экран корзины__экран об оплате платежа</td>\n",
       "      <td>182</td>\n",
       "      <td>2.01</td>\n",
       "    </tr>\n",
       "    <tr>\n",
       "      <th>6</th>\n",
       "      <td>экран с предложениями__главный экран__экран об оплате платежа__экран корзины</td>\n",
       "      <td>161</td>\n",
       "      <td>1.78</td>\n",
       "    </tr>\n",
       "    <tr>\n",
       "      <th>7</th>\n",
       "      <td>экран с предложениями__экран об оплате платежа__экран корзины__главный экран</td>\n",
       "      <td>112</td>\n",
       "      <td>1.24</td>\n",
       "    </tr>\n",
       "    <tr>\n",
       "      <th>8</th>\n",
       "      <td>экран об оплате платежа__экран корзины__экран с предложениями__главный экран</td>\n",
       "      <td>108</td>\n",
       "      <td>1.19</td>\n",
       "    </tr>\n",
       "    <tr>\n",
       "      <th>9</th>\n",
       "      <td>экран об оплате платежа__экран корзины__главный экран__экран с предложениями</td>\n",
       "      <td>104</td>\n",
       "      <td>1.15</td>\n",
       "    </tr>\n",
       "  </tbody>\n",
       "</table>\n",
       "</div>"
      ],
      "text/plain": [
       "                                                                                             index  \\\n",
       "0                     главный экран__экран об оплате платежа__экран корзины__экран с предложениями   \n",
       "1                     главный экран__экран корзины__экран об оплате платежа__экран с предложениями   \n",
       "2                     главный экран__экран с предложениями__экран об оплате платежа__экран корзины   \n",
       "3                     главный экран__экран с предложениями__экран корзины__экран об оплате платежа   \n",
       "4                     главный экран__экран корзины__экран с предложениями__экран об оплате платежа   \n",
       "5  экран с обучением__главный экран__экран с предложениями__экран корзины__экран об оплате платежа   \n",
       "6                     экран с предложениями__главный экран__экран об оплате платежа__экран корзины   \n",
       "7                     экран с предложениями__экран об оплате платежа__экран корзины__главный экран   \n",
       "8                     экран об оплате платежа__экран корзины__экран с предложениями__главный экран   \n",
       "9                     экран об оплате платежа__экран корзины__главный экран__экран с предложениями   \n",
       "\n",
       "   steps      %  \n",
       "0   2607  28.80  \n",
       "1   1797  19.85  \n",
       "2   1645  18.17  \n",
       "3   1373  15.17  \n",
       "4    298   3.29  \n",
       "5    182   2.01  \n",
       "6    161   1.78  \n",
       "7    112   1.24  \n",
       "8    108   1.19  \n",
       "9    104   1.15  "
      ]
     },
     "execution_count": 43,
     "metadata": {},
     "output_type": "execute_result"
    }
   ],
   "source": [
    "\n",
    "\n",
    "table_steps['%'] = (\n",
    "    (\n",
    "        table_steps['steps'] /\n",
    "        table_steps['steps'].sum()*100\n",
    "    )\n",
    "    .round(2)\n",
    ")\n",
    "\n",
    "table_steps.head(10)"
   ]
  },
  {
   "cell_type": "markdown",
   "metadata": {},
   "source": [
    "Все-таки пользователи совершают события в разной последовательности , но начинают с главного экрана.   \n",
    "А 30% с главного экрана переходят а экран оплаты затем в корзину и потом смотрят предложения.\n"
   ]
  },
  {
   "cell_type": "markdown",
   "metadata": {},
   "source": [
    "С помощью графика посмотрим сколько пользоватлеей находится на каждом событии. Только исключим `экран с обучением` т.к. он появляется где угодно, а основной последовательностью для пользователя будем считать    \n",
    "`главный экран -> экран с предложениями -> экран корзины  -> экран об оплате платежа`"
   ]
  },
  {
   "cell_type": "code",
   "execution_count": 44,
   "metadata": {
    "trusted": true
   },
   "outputs": [
    {
     "data": {
      "text/html": [
       "<div>\n",
       "<style scoped>\n",
       "    .dataframe tbody tr th:only-of-type {\n",
       "        vertical-align: middle;\n",
       "    }\n",
       "\n",
       "    .dataframe tbody tr th {\n",
       "        vertical-align: top;\n",
       "    }\n",
       "\n",
       "    .dataframe thead th {\n",
       "        text-align: right;\n",
       "    }\n",
       "</style>\n",
       "<table border=\"1\" class=\"dataframe\">\n",
       "  <thead>\n",
       "    <tr style=\"text-align: right;\">\n",
       "      <th></th>\n",
       "      <th>index</th>\n",
       "      <th>event_name_rus</th>\n",
       "      <th>count_users</th>\n",
       "    </tr>\n",
       "  </thead>\n",
       "  <tbody>\n",
       "    <tr>\n",
       "      <th>0</th>\n",
       "      <td>0</td>\n",
       "      <td>главный экран</td>\n",
       "      <td>7427</td>\n",
       "    </tr>\n",
       "    <tr>\n",
       "      <th>1</th>\n",
       "      <td>1</td>\n",
       "      <td>экран корзины</td>\n",
       "      <td>3738</td>\n",
       "    </tr>\n",
       "    <tr>\n",
       "      <th>2</th>\n",
       "      <td>2</td>\n",
       "      <td>экран об оплате платежа</td>\n",
       "      <td>3541</td>\n",
       "    </tr>\n",
       "    <tr>\n",
       "      <th>3</th>\n",
       "      <td>3</td>\n",
       "      <td>экран с обучением</td>\n",
       "      <td>843</td>\n",
       "    </tr>\n",
       "    <tr>\n",
       "      <th>4</th>\n",
       "      <td>4</td>\n",
       "      <td>экран с предложениями</td>\n",
       "      <td>4602</td>\n",
       "    </tr>\n",
       "  </tbody>\n",
       "</table>\n",
       "</div>"
      ],
      "text/plain": [
       "   index           event_name_rus  count_users\n",
       "0      0            главный экран         7427\n",
       "1      1            экран корзины         3738\n",
       "2      2  экран об оплате платежа         3541\n",
       "3      3        экран с обучением          843\n",
       "4      4    экран с предложениями         4602"
      ]
     },
     "execution_count": 44,
     "metadata": {},
     "output_type": "execute_result"
    }
   ],
   "source": [
    "event_users = (df_filter\n",
    "               .groupby(\n",
    "                   'event_name_rus',\n",
    "                   as_index=False\n",
    "               )\n",
    "               ['user_id']\n",
    "               .nunique()\n",
    "               .rename(\n",
    "                   columns={\n",
    "                       'user_id': 'count_users'\n",
    "                   }\n",
    "               )\n",
    "               )\n",
    "\n",
    "\n",
    "\n",
    "event_users.reset_index()"
   ]
  },
  {
   "cell_type": "markdown",
   "metadata": {},
   "source": [
    "Выставляем порядок событий"
   ]
  },
  {
   "cell_type": "code",
   "execution_count": 45,
   "metadata": {
    "trusted": true
   },
   "outputs": [
    {
     "data": {
      "text/html": [
       "<div>\n",
       "<style scoped>\n",
       "    .dataframe tbody tr th:only-of-type {\n",
       "        vertical-align: middle;\n",
       "    }\n",
       "\n",
       "    .dataframe tbody tr th {\n",
       "        vertical-align: top;\n",
       "    }\n",
       "\n",
       "    .dataframe thead th {\n",
       "        text-align: right;\n",
       "    }\n",
       "</style>\n",
       "<table border=\"1\" class=\"dataframe\">\n",
       "  <thead>\n",
       "    <tr style=\"text-align: right;\">\n",
       "      <th></th>\n",
       "      <th>event_name_rus</th>\n",
       "      <th>count_users</th>\n",
       "    </tr>\n",
       "  </thead>\n",
       "  <tbody>\n",
       "    <tr>\n",
       "      <th>0</th>\n",
       "      <td>главный экран</td>\n",
       "      <td>7427</td>\n",
       "    </tr>\n",
       "    <tr>\n",
       "      <th>1</th>\n",
       "      <td>экран с предложениями</td>\n",
       "      <td>4602</td>\n",
       "    </tr>\n",
       "    <tr>\n",
       "      <th>2</th>\n",
       "      <td>экран корзины</td>\n",
       "      <td>3738</td>\n",
       "    </tr>\n",
       "    <tr>\n",
       "      <th>3</th>\n",
       "      <td>экран об оплате платежа</td>\n",
       "      <td>3541</td>\n",
       "    </tr>\n",
       "    <tr>\n",
       "      <th>4</th>\n",
       "      <td>экран с обучением</td>\n",
       "      <td>843</td>\n",
       "    </tr>\n",
       "  </tbody>\n",
       "</table>\n",
       "</div>"
      ],
      "text/plain": [
       "            event_name_rus  count_users\n",
       "0            главный экран         7427\n",
       "1    экран с предложениями         4602\n",
       "2            экран корзины         3738\n",
       "3  экран об оплате платежа         3541\n",
       "4        экран с обучением          843"
      ]
     },
     "execution_count": 45,
     "metadata": {},
     "output_type": "execute_result"
    }
   ],
   "source": [
    "event_users.index = [0, 2, 3, 4, 1]\n",
    "event_users = event_users.sort_index()\n",
    "event_users"
   ]
  },
  {
   "cell_type": "code",
   "execution_count": 46,
   "metadata": {
    "trusted": true
   },
   "outputs": [],
   "source": [
    "ev_raw_without_tutorial = (event_users\n",
    "                           .query(\n",
    "                               \"event_name_rus!='экран с обучением'\"\n",
    "                           )\n",
    "                           )"
   ]
  },
  {
   "cell_type": "markdown",
   "metadata": {},
   "source": [
    "Строим график"
   ]
  },
  {
   "cell_type": "code",
   "execution_count": 47,
   "metadata": {
    "trusted": true
   },
   "outputs": [
    {
     "data": {
      "application/vnd.plotly.v1+json": {
       "config": {
        "plotlyServerURL": "https://plot.ly"
       },
       "data": [
        {
         "hovertemplate": "число пользователей=%{x}<br>события=%{y}<extra></extra>",
         "legendgroup": "",
         "marker": {
          "color": "#1F77B4"
         },
         "name": "",
         "orientation": "h",
         "showlegend": false,
         "type": "funnel",
         "x": [
          7427,
          4602,
          3738,
          3541
         ],
         "xaxis": "x",
         "y": [
          "главный экран",
          "экран с предложениями",
          "экран корзины",
          "экран об оплате платежа"
         ],
         "yaxis": "y"
        }
       ],
       "layout": {
        "legend": {
         "tracegroupgap": 0
        },
        "template": {
         "data": {
          "bar": [
           {
            "error_x": {
             "color": "rgb(36,36,36)"
            },
            "error_y": {
             "color": "rgb(36,36,36)"
            },
            "marker": {
             "line": {
              "color": "white",
              "width": 0.5
             },
             "pattern": {
              "fillmode": "overlay",
              "size": 10,
              "solidity": 0.2
             }
            },
            "type": "bar"
           }
          ],
          "barpolar": [
           {
            "marker": {
             "line": {
              "color": "white",
              "width": 0.5
             },
             "pattern": {
              "fillmode": "overlay",
              "size": 10,
              "solidity": 0.2
             }
            },
            "type": "barpolar"
           }
          ],
          "carpet": [
           {
            "aaxis": {
             "endlinecolor": "rgb(36,36,36)",
             "gridcolor": "white",
             "linecolor": "white",
             "minorgridcolor": "white",
             "startlinecolor": "rgb(36,36,36)"
            },
            "baxis": {
             "endlinecolor": "rgb(36,36,36)",
             "gridcolor": "white",
             "linecolor": "white",
             "minorgridcolor": "white",
             "startlinecolor": "rgb(36,36,36)"
            },
            "type": "carpet"
           }
          ],
          "choropleth": [
           {
            "colorbar": {
             "outlinewidth": 1,
             "tickcolor": "rgb(36,36,36)",
             "ticks": "outside"
            },
            "type": "choropleth"
           }
          ],
          "contour": [
           {
            "colorbar": {
             "outlinewidth": 1,
             "tickcolor": "rgb(36,36,36)",
             "ticks": "outside"
            },
            "colorscale": [
             [
              0,
              "#440154"
             ],
             [
              0.1111111111111111,
              "#482878"
             ],
             [
              0.2222222222222222,
              "#3e4989"
             ],
             [
              0.3333333333333333,
              "#31688e"
             ],
             [
              0.4444444444444444,
              "#26828e"
             ],
             [
              0.5555555555555556,
              "#1f9e89"
             ],
             [
              0.6666666666666666,
              "#35b779"
             ],
             [
              0.7777777777777778,
              "#6ece58"
             ],
             [
              0.8888888888888888,
              "#b5de2b"
             ],
             [
              1,
              "#fde725"
             ]
            ],
            "type": "contour"
           }
          ],
          "contourcarpet": [
           {
            "colorbar": {
             "outlinewidth": 1,
             "tickcolor": "rgb(36,36,36)",
             "ticks": "outside"
            },
            "type": "contourcarpet"
           }
          ],
          "heatmap": [
           {
            "colorbar": {
             "outlinewidth": 1,
             "tickcolor": "rgb(36,36,36)",
             "ticks": "outside"
            },
            "colorscale": [
             [
              0,
              "#440154"
             ],
             [
              0.1111111111111111,
              "#482878"
             ],
             [
              0.2222222222222222,
              "#3e4989"
             ],
             [
              0.3333333333333333,
              "#31688e"
             ],
             [
              0.4444444444444444,
              "#26828e"
             ],
             [
              0.5555555555555556,
              "#1f9e89"
             ],
             [
              0.6666666666666666,
              "#35b779"
             ],
             [
              0.7777777777777778,
              "#6ece58"
             ],
             [
              0.8888888888888888,
              "#b5de2b"
             ],
             [
              1,
              "#fde725"
             ]
            ],
            "type": "heatmap"
           }
          ],
          "heatmapgl": [
           {
            "colorbar": {
             "outlinewidth": 1,
             "tickcolor": "rgb(36,36,36)",
             "ticks": "outside"
            },
            "colorscale": [
             [
              0,
              "#440154"
             ],
             [
              0.1111111111111111,
              "#482878"
             ],
             [
              0.2222222222222222,
              "#3e4989"
             ],
             [
              0.3333333333333333,
              "#31688e"
             ],
             [
              0.4444444444444444,
              "#26828e"
             ],
             [
              0.5555555555555556,
              "#1f9e89"
             ],
             [
              0.6666666666666666,
              "#35b779"
             ],
             [
              0.7777777777777778,
              "#6ece58"
             ],
             [
              0.8888888888888888,
              "#b5de2b"
             ],
             [
              1,
              "#fde725"
             ]
            ],
            "type": "heatmapgl"
           }
          ],
          "histogram": [
           {
            "marker": {
             "line": {
              "color": "white",
              "width": 0.6
             }
            },
            "type": "histogram"
           }
          ],
          "histogram2d": [
           {
            "colorbar": {
             "outlinewidth": 1,
             "tickcolor": "rgb(36,36,36)",
             "ticks": "outside"
            },
            "colorscale": [
             [
              0,
              "#440154"
             ],
             [
              0.1111111111111111,
              "#482878"
             ],
             [
              0.2222222222222222,
              "#3e4989"
             ],
             [
              0.3333333333333333,
              "#31688e"
             ],
             [
              0.4444444444444444,
              "#26828e"
             ],
             [
              0.5555555555555556,
              "#1f9e89"
             ],
             [
              0.6666666666666666,
              "#35b779"
             ],
             [
              0.7777777777777778,
              "#6ece58"
             ],
             [
              0.8888888888888888,
              "#b5de2b"
             ],
             [
              1,
              "#fde725"
             ]
            ],
            "type": "histogram2d"
           }
          ],
          "histogram2dcontour": [
           {
            "colorbar": {
             "outlinewidth": 1,
             "tickcolor": "rgb(36,36,36)",
             "ticks": "outside"
            },
            "colorscale": [
             [
              0,
              "#440154"
             ],
             [
              0.1111111111111111,
              "#482878"
             ],
             [
              0.2222222222222222,
              "#3e4989"
             ],
             [
              0.3333333333333333,
              "#31688e"
             ],
             [
              0.4444444444444444,
              "#26828e"
             ],
             [
              0.5555555555555556,
              "#1f9e89"
             ],
             [
              0.6666666666666666,
              "#35b779"
             ],
             [
              0.7777777777777778,
              "#6ece58"
             ],
             [
              0.8888888888888888,
              "#b5de2b"
             ],
             [
              1,
              "#fde725"
             ]
            ],
            "type": "histogram2dcontour"
           }
          ],
          "mesh3d": [
           {
            "colorbar": {
             "outlinewidth": 1,
             "tickcolor": "rgb(36,36,36)",
             "ticks": "outside"
            },
            "type": "mesh3d"
           }
          ],
          "parcoords": [
           {
            "line": {
             "colorbar": {
              "outlinewidth": 1,
              "tickcolor": "rgb(36,36,36)",
              "ticks": "outside"
             }
            },
            "type": "parcoords"
           }
          ],
          "pie": [
           {
            "automargin": true,
            "type": "pie"
           }
          ],
          "scatter": [
           {
            "marker": {
             "colorbar": {
              "outlinewidth": 1,
              "tickcolor": "rgb(36,36,36)",
              "ticks": "outside"
             }
            },
            "type": "scatter"
           }
          ],
          "scatter3d": [
           {
            "line": {
             "colorbar": {
              "outlinewidth": 1,
              "tickcolor": "rgb(36,36,36)",
              "ticks": "outside"
             }
            },
            "marker": {
             "colorbar": {
              "outlinewidth": 1,
              "tickcolor": "rgb(36,36,36)",
              "ticks": "outside"
             }
            },
            "type": "scatter3d"
           }
          ],
          "scattercarpet": [
           {
            "marker": {
             "colorbar": {
              "outlinewidth": 1,
              "tickcolor": "rgb(36,36,36)",
              "ticks": "outside"
             }
            },
            "type": "scattercarpet"
           }
          ],
          "scattergeo": [
           {
            "marker": {
             "colorbar": {
              "outlinewidth": 1,
              "tickcolor": "rgb(36,36,36)",
              "ticks": "outside"
             }
            },
            "type": "scattergeo"
           }
          ],
          "scattergl": [
           {
            "marker": {
             "colorbar": {
              "outlinewidth": 1,
              "tickcolor": "rgb(36,36,36)",
              "ticks": "outside"
             }
            },
            "type": "scattergl"
           }
          ],
          "scattermapbox": [
           {
            "marker": {
             "colorbar": {
              "outlinewidth": 1,
              "tickcolor": "rgb(36,36,36)",
              "ticks": "outside"
             }
            },
            "type": "scattermapbox"
           }
          ],
          "scatterpolar": [
           {
            "marker": {
             "colorbar": {
              "outlinewidth": 1,
              "tickcolor": "rgb(36,36,36)",
              "ticks": "outside"
             }
            },
            "type": "scatterpolar"
           }
          ],
          "scatterpolargl": [
           {
            "marker": {
             "colorbar": {
              "outlinewidth": 1,
              "tickcolor": "rgb(36,36,36)",
              "ticks": "outside"
             }
            },
            "type": "scatterpolargl"
           }
          ],
          "scatterternary": [
           {
            "marker": {
             "colorbar": {
              "outlinewidth": 1,
              "tickcolor": "rgb(36,36,36)",
              "ticks": "outside"
             }
            },
            "type": "scatterternary"
           }
          ],
          "surface": [
           {
            "colorbar": {
             "outlinewidth": 1,
             "tickcolor": "rgb(36,36,36)",
             "ticks": "outside"
            },
            "colorscale": [
             [
              0,
              "#440154"
             ],
             [
              0.1111111111111111,
              "#482878"
             ],
             [
              0.2222222222222222,
              "#3e4989"
             ],
             [
              0.3333333333333333,
              "#31688e"
             ],
             [
              0.4444444444444444,
              "#26828e"
             ],
             [
              0.5555555555555556,
              "#1f9e89"
             ],
             [
              0.6666666666666666,
              "#35b779"
             ],
             [
              0.7777777777777778,
              "#6ece58"
             ],
             [
              0.8888888888888888,
              "#b5de2b"
             ],
             [
              1,
              "#fde725"
             ]
            ],
            "type": "surface"
           }
          ],
          "table": [
           {
            "cells": {
             "fill": {
              "color": "rgb(237,237,237)"
             },
             "line": {
              "color": "white"
             }
            },
            "header": {
             "fill": {
              "color": "rgb(217,217,217)"
             },
             "line": {
              "color": "white"
             }
            },
            "type": "table"
           }
          ]
         },
         "layout": {
          "annotationdefaults": {
           "arrowhead": 0,
           "arrowwidth": 1
          },
          "autotypenumbers": "strict",
          "coloraxis": {
           "colorbar": {
            "outlinewidth": 1,
            "tickcolor": "rgb(36,36,36)",
            "ticks": "outside"
           }
          },
          "colorscale": {
           "diverging": [
            [
             0,
             "rgb(103,0,31)"
            ],
            [
             0.1,
             "rgb(178,24,43)"
            ],
            [
             0.2,
             "rgb(214,96,77)"
            ],
            [
             0.3,
             "rgb(244,165,130)"
            ],
            [
             0.4,
             "rgb(253,219,199)"
            ],
            [
             0.5,
             "rgb(247,247,247)"
            ],
            [
             0.6,
             "rgb(209,229,240)"
            ],
            [
             0.7,
             "rgb(146,197,222)"
            ],
            [
             0.8,
             "rgb(67,147,195)"
            ],
            [
             0.9,
             "rgb(33,102,172)"
            ],
            [
             1,
             "rgb(5,48,97)"
            ]
           ],
           "sequential": [
            [
             0,
             "#440154"
            ],
            [
             0.1111111111111111,
             "#482878"
            ],
            [
             0.2222222222222222,
             "#3e4989"
            ],
            [
             0.3333333333333333,
             "#31688e"
            ],
            [
             0.4444444444444444,
             "#26828e"
            ],
            [
             0.5555555555555556,
             "#1f9e89"
            ],
            [
             0.6666666666666666,
             "#35b779"
            ],
            [
             0.7777777777777778,
             "#6ece58"
            ],
            [
             0.8888888888888888,
             "#b5de2b"
            ],
            [
             1,
             "#fde725"
            ]
           ],
           "sequentialminus": [
            [
             0,
             "#440154"
            ],
            [
             0.1111111111111111,
             "#482878"
            ],
            [
             0.2222222222222222,
             "#3e4989"
            ],
            [
             0.3333333333333333,
             "#31688e"
            ],
            [
             0.4444444444444444,
             "#26828e"
            ],
            [
             0.5555555555555556,
             "#1f9e89"
            ],
            [
             0.6666666666666666,
             "#35b779"
            ],
            [
             0.7777777777777778,
             "#6ece58"
            ],
            [
             0.8888888888888888,
             "#b5de2b"
            ],
            [
             1,
             "#fde725"
            ]
           ]
          },
          "colorway": [
           "#1F77B4",
           "#FF7F0E",
           "#2CA02C",
           "#D62728",
           "#9467BD",
           "#8C564B",
           "#E377C2",
           "#7F7F7F",
           "#BCBD22",
           "#17BECF"
          ],
          "font": {
           "color": "rgb(36,36,36)"
          },
          "geo": {
           "bgcolor": "white",
           "lakecolor": "white",
           "landcolor": "white",
           "showlakes": true,
           "showland": true,
           "subunitcolor": "white"
          },
          "hoverlabel": {
           "align": "left"
          },
          "hovermode": "closest",
          "mapbox": {
           "style": "light"
          },
          "paper_bgcolor": "white",
          "plot_bgcolor": "white",
          "polar": {
           "angularaxis": {
            "gridcolor": "rgb(232,232,232)",
            "linecolor": "rgb(36,36,36)",
            "showgrid": false,
            "showline": true,
            "ticks": "outside"
           },
           "bgcolor": "white",
           "radialaxis": {
            "gridcolor": "rgb(232,232,232)",
            "linecolor": "rgb(36,36,36)",
            "showgrid": false,
            "showline": true,
            "ticks": "outside"
           }
          },
          "scene": {
           "xaxis": {
            "backgroundcolor": "white",
            "gridcolor": "rgb(232,232,232)",
            "gridwidth": 2,
            "linecolor": "rgb(36,36,36)",
            "showbackground": true,
            "showgrid": false,
            "showline": true,
            "ticks": "outside",
            "zeroline": false,
            "zerolinecolor": "rgb(36,36,36)"
           },
           "yaxis": {
            "backgroundcolor": "white",
            "gridcolor": "rgb(232,232,232)",
            "gridwidth": 2,
            "linecolor": "rgb(36,36,36)",
            "showbackground": true,
            "showgrid": false,
            "showline": true,
            "ticks": "outside",
            "zeroline": false,
            "zerolinecolor": "rgb(36,36,36)"
           },
           "zaxis": {
            "backgroundcolor": "white",
            "gridcolor": "rgb(232,232,232)",
            "gridwidth": 2,
            "linecolor": "rgb(36,36,36)",
            "showbackground": true,
            "showgrid": false,
            "showline": true,
            "ticks": "outside",
            "zeroline": false,
            "zerolinecolor": "rgb(36,36,36)"
           }
          },
          "shapedefaults": {
           "fillcolor": "black",
           "line": {
            "width": 0
           },
           "opacity": 0.3
          },
          "ternary": {
           "aaxis": {
            "gridcolor": "rgb(232,232,232)",
            "linecolor": "rgb(36,36,36)",
            "showgrid": false,
            "showline": true,
            "ticks": "outside"
           },
           "baxis": {
            "gridcolor": "rgb(232,232,232)",
            "linecolor": "rgb(36,36,36)",
            "showgrid": false,
            "showline": true,
            "ticks": "outside"
           },
           "bgcolor": "white",
           "caxis": {
            "gridcolor": "rgb(232,232,232)",
            "linecolor": "rgb(36,36,36)",
            "showgrid": false,
            "showline": true,
            "ticks": "outside"
           }
          },
          "title": {
           "x": 0.05
          },
          "xaxis": {
           "automargin": true,
           "gridcolor": "rgb(232,232,232)",
           "linecolor": "rgb(36,36,36)",
           "showgrid": false,
           "showline": true,
           "ticks": "outside",
           "title": {
            "standoff": 15
           },
           "zeroline": false,
           "zerolinecolor": "rgb(36,36,36)"
          },
          "yaxis": {
           "automargin": true,
           "gridcolor": "rgb(232,232,232)",
           "linecolor": "rgb(36,36,36)",
           "showgrid": false,
           "showline": true,
           "ticks": "outside",
           "title": {
            "standoff": 15
           },
           "zeroline": false,
           "zerolinecolor": "rgb(36,36,36)"
          }
         }
        },
        "title": {
         "text": "Количество пользователей на разных событиях"
        },
        "xaxis": {
         "anchor": "y",
         "domain": [
          0,
          1
         ],
         "title": {
          "text": "число пользователей"
         }
        },
        "yaxis": {
         "anchor": "x",
         "domain": [
          0,
          1
         ],
         "title": {
          "text": "события"
         }
        }
       }
      },
      "text/html": [
       "<div>                            <div id=\"30ea7278-1ff1-40b5-85e4-6e0584f67181\" class=\"plotly-graph-div\" style=\"height:525px; width:100%;\"></div>            <script type=\"text/javascript\">                require([\"plotly\"], function(Plotly) {                    window.PLOTLYENV=window.PLOTLYENV || {};                                    if (document.getElementById(\"30ea7278-1ff1-40b5-85e4-6e0584f67181\")) {                    Plotly.newPlot(                        \"30ea7278-1ff1-40b5-85e4-6e0584f67181\",                        [{\"hovertemplate\":\"\\u0447\\u0438\\u0441\\u043b\\u043e \\u043f\\u043e\\u043b\\u044c\\u0437\\u043e\\u0432\\u0430\\u0442\\u0435\\u043b\\u0435\\u0439=%{x}<br>\\u0441\\u043e\\u0431\\u044b\\u0442\\u0438\\u044f=%{y}<extra></extra>\",\"legendgroup\":\"\",\"marker\":{\"color\":\"#1F77B4\"},\"name\":\"\",\"orientation\":\"h\",\"showlegend\":false,\"x\":[7427,4602,3738,3541],\"xaxis\":\"x\",\"y\":[\"\\u0433\\u043b\\u0430\\u0432\\u043d\\u044b\\u0439 \\u044d\\u043a\\u0440\\u0430\\u043d\",\"\\u044d\\u043a\\u0440\\u0430\\u043d \\u0441 \\u043f\\u0440\\u0435\\u0434\\u043b\\u043e\\u0436\\u0435\\u043d\\u0438\\u044f\\u043c\\u0438\",\"\\u044d\\u043a\\u0440\\u0430\\u043d \\u043a\\u043e\\u0440\\u0437\\u0438\\u043d\\u044b\",\"\\u044d\\u043a\\u0440\\u0430\\u043d \\u043e\\u0431 \\u043e\\u043f\\u043b\\u0430\\u0442\\u0435 \\u043f\\u043b\\u0430\\u0442\\u0435\\u0436\\u0430\"],\"yaxis\":\"y\",\"type\":\"funnel\"}],                        {\"template\":{\"data\":{\"barpolar\":[{\"marker\":{\"line\":{\"color\":\"white\",\"width\":0.5},\"pattern\":{\"fillmode\":\"overlay\",\"size\":10,\"solidity\":0.2}},\"type\":\"barpolar\"}],\"bar\":[{\"error_x\":{\"color\":\"rgb(36,36,36)\"},\"error_y\":{\"color\":\"rgb(36,36,36)\"},\"marker\":{\"line\":{\"color\":\"white\",\"width\":0.5},\"pattern\":{\"fillmode\":\"overlay\",\"size\":10,\"solidity\":0.2}},\"type\":\"bar\"}],\"carpet\":[{\"aaxis\":{\"endlinecolor\":\"rgb(36,36,36)\",\"gridcolor\":\"white\",\"linecolor\":\"white\",\"minorgridcolor\":\"white\",\"startlinecolor\":\"rgb(36,36,36)\"},\"baxis\":{\"endlinecolor\":\"rgb(36,36,36)\",\"gridcolor\":\"white\",\"linecolor\":\"white\",\"minorgridcolor\":\"white\",\"startlinecolor\":\"rgb(36,36,36)\"},\"type\":\"carpet\"}],\"choropleth\":[{\"colorbar\":{\"outlinewidth\":1,\"tickcolor\":\"rgb(36,36,36)\",\"ticks\":\"outside\"},\"type\":\"choropleth\"}],\"contourcarpet\":[{\"colorbar\":{\"outlinewidth\":1,\"tickcolor\":\"rgb(36,36,36)\",\"ticks\":\"outside\"},\"type\":\"contourcarpet\"}],\"contour\":[{\"colorbar\":{\"outlinewidth\":1,\"tickcolor\":\"rgb(36,36,36)\",\"ticks\":\"outside\"},\"colorscale\":[[0.0,\"#440154\"],[0.1111111111111111,\"#482878\"],[0.2222222222222222,\"#3e4989\"],[0.3333333333333333,\"#31688e\"],[0.4444444444444444,\"#26828e\"],[0.5555555555555556,\"#1f9e89\"],[0.6666666666666666,\"#35b779\"],[0.7777777777777778,\"#6ece58\"],[0.8888888888888888,\"#b5de2b\"],[1.0,\"#fde725\"]],\"type\":\"contour\"}],\"heatmapgl\":[{\"colorbar\":{\"outlinewidth\":1,\"tickcolor\":\"rgb(36,36,36)\",\"ticks\":\"outside\"},\"colorscale\":[[0.0,\"#440154\"],[0.1111111111111111,\"#482878\"],[0.2222222222222222,\"#3e4989\"],[0.3333333333333333,\"#31688e\"],[0.4444444444444444,\"#26828e\"],[0.5555555555555556,\"#1f9e89\"],[0.6666666666666666,\"#35b779\"],[0.7777777777777778,\"#6ece58\"],[0.8888888888888888,\"#b5de2b\"],[1.0,\"#fde725\"]],\"type\":\"heatmapgl\"}],\"heatmap\":[{\"colorbar\":{\"outlinewidth\":1,\"tickcolor\":\"rgb(36,36,36)\",\"ticks\":\"outside\"},\"colorscale\":[[0.0,\"#440154\"],[0.1111111111111111,\"#482878\"],[0.2222222222222222,\"#3e4989\"],[0.3333333333333333,\"#31688e\"],[0.4444444444444444,\"#26828e\"],[0.5555555555555556,\"#1f9e89\"],[0.6666666666666666,\"#35b779\"],[0.7777777777777778,\"#6ece58\"],[0.8888888888888888,\"#b5de2b\"],[1.0,\"#fde725\"]],\"type\":\"heatmap\"}],\"histogram2dcontour\":[{\"colorbar\":{\"outlinewidth\":1,\"tickcolor\":\"rgb(36,36,36)\",\"ticks\":\"outside\"},\"colorscale\":[[0.0,\"#440154\"],[0.1111111111111111,\"#482878\"],[0.2222222222222222,\"#3e4989\"],[0.3333333333333333,\"#31688e\"],[0.4444444444444444,\"#26828e\"],[0.5555555555555556,\"#1f9e89\"],[0.6666666666666666,\"#35b779\"],[0.7777777777777778,\"#6ece58\"],[0.8888888888888888,\"#b5de2b\"],[1.0,\"#fde725\"]],\"type\":\"histogram2dcontour\"}],\"histogram2d\":[{\"colorbar\":{\"outlinewidth\":1,\"tickcolor\":\"rgb(36,36,36)\",\"ticks\":\"outside\"},\"colorscale\":[[0.0,\"#440154\"],[0.1111111111111111,\"#482878\"],[0.2222222222222222,\"#3e4989\"],[0.3333333333333333,\"#31688e\"],[0.4444444444444444,\"#26828e\"],[0.5555555555555556,\"#1f9e89\"],[0.6666666666666666,\"#35b779\"],[0.7777777777777778,\"#6ece58\"],[0.8888888888888888,\"#b5de2b\"],[1.0,\"#fde725\"]],\"type\":\"histogram2d\"}],\"histogram\":[{\"marker\":{\"line\":{\"color\":\"white\",\"width\":0.6}},\"type\":\"histogram\"}],\"mesh3d\":[{\"colorbar\":{\"outlinewidth\":1,\"tickcolor\":\"rgb(36,36,36)\",\"ticks\":\"outside\"},\"type\":\"mesh3d\"}],\"parcoords\":[{\"line\":{\"colorbar\":{\"outlinewidth\":1,\"tickcolor\":\"rgb(36,36,36)\",\"ticks\":\"outside\"}},\"type\":\"parcoords\"}],\"pie\":[{\"automargin\":true,\"type\":\"pie\"}],\"scatter3d\":[{\"line\":{\"colorbar\":{\"outlinewidth\":1,\"tickcolor\":\"rgb(36,36,36)\",\"ticks\":\"outside\"}},\"marker\":{\"colorbar\":{\"outlinewidth\":1,\"tickcolor\":\"rgb(36,36,36)\",\"ticks\":\"outside\"}},\"type\":\"scatter3d\"}],\"scattercarpet\":[{\"marker\":{\"colorbar\":{\"outlinewidth\":1,\"tickcolor\":\"rgb(36,36,36)\",\"ticks\":\"outside\"}},\"type\":\"scattercarpet\"}],\"scattergeo\":[{\"marker\":{\"colorbar\":{\"outlinewidth\":1,\"tickcolor\":\"rgb(36,36,36)\",\"ticks\":\"outside\"}},\"type\":\"scattergeo\"}],\"scattergl\":[{\"marker\":{\"colorbar\":{\"outlinewidth\":1,\"tickcolor\":\"rgb(36,36,36)\",\"ticks\":\"outside\"}},\"type\":\"scattergl\"}],\"scattermapbox\":[{\"marker\":{\"colorbar\":{\"outlinewidth\":1,\"tickcolor\":\"rgb(36,36,36)\",\"ticks\":\"outside\"}},\"type\":\"scattermapbox\"}],\"scatterpolargl\":[{\"marker\":{\"colorbar\":{\"outlinewidth\":1,\"tickcolor\":\"rgb(36,36,36)\",\"ticks\":\"outside\"}},\"type\":\"scatterpolargl\"}],\"scatterpolar\":[{\"marker\":{\"colorbar\":{\"outlinewidth\":1,\"tickcolor\":\"rgb(36,36,36)\",\"ticks\":\"outside\"}},\"type\":\"scatterpolar\"}],\"scatter\":[{\"marker\":{\"colorbar\":{\"outlinewidth\":1,\"tickcolor\":\"rgb(36,36,36)\",\"ticks\":\"outside\"}},\"type\":\"scatter\"}],\"scatterternary\":[{\"marker\":{\"colorbar\":{\"outlinewidth\":1,\"tickcolor\":\"rgb(36,36,36)\",\"ticks\":\"outside\"}},\"type\":\"scatterternary\"}],\"surface\":[{\"colorbar\":{\"outlinewidth\":1,\"tickcolor\":\"rgb(36,36,36)\",\"ticks\":\"outside\"},\"colorscale\":[[0.0,\"#440154\"],[0.1111111111111111,\"#482878\"],[0.2222222222222222,\"#3e4989\"],[0.3333333333333333,\"#31688e\"],[0.4444444444444444,\"#26828e\"],[0.5555555555555556,\"#1f9e89\"],[0.6666666666666666,\"#35b779\"],[0.7777777777777778,\"#6ece58\"],[0.8888888888888888,\"#b5de2b\"],[1.0,\"#fde725\"]],\"type\":\"surface\"}],\"table\":[{\"cells\":{\"fill\":{\"color\":\"rgb(237,237,237)\"},\"line\":{\"color\":\"white\"}},\"header\":{\"fill\":{\"color\":\"rgb(217,217,217)\"},\"line\":{\"color\":\"white\"}},\"type\":\"table\"}]},\"layout\":{\"annotationdefaults\":{\"arrowhead\":0,\"arrowwidth\":1},\"autotypenumbers\":\"strict\",\"coloraxis\":{\"colorbar\":{\"outlinewidth\":1,\"tickcolor\":\"rgb(36,36,36)\",\"ticks\":\"outside\"}},\"colorscale\":{\"diverging\":[[0.0,\"rgb(103,0,31)\"],[0.1,\"rgb(178,24,43)\"],[0.2,\"rgb(214,96,77)\"],[0.3,\"rgb(244,165,130)\"],[0.4,\"rgb(253,219,199)\"],[0.5,\"rgb(247,247,247)\"],[0.6,\"rgb(209,229,240)\"],[0.7,\"rgb(146,197,222)\"],[0.8,\"rgb(67,147,195)\"],[0.9,\"rgb(33,102,172)\"],[1.0,\"rgb(5,48,97)\"]],\"sequential\":[[0.0,\"#440154\"],[0.1111111111111111,\"#482878\"],[0.2222222222222222,\"#3e4989\"],[0.3333333333333333,\"#31688e\"],[0.4444444444444444,\"#26828e\"],[0.5555555555555556,\"#1f9e89\"],[0.6666666666666666,\"#35b779\"],[0.7777777777777778,\"#6ece58\"],[0.8888888888888888,\"#b5de2b\"],[1.0,\"#fde725\"]],\"sequentialminus\":[[0.0,\"#440154\"],[0.1111111111111111,\"#482878\"],[0.2222222222222222,\"#3e4989\"],[0.3333333333333333,\"#31688e\"],[0.4444444444444444,\"#26828e\"],[0.5555555555555556,\"#1f9e89\"],[0.6666666666666666,\"#35b779\"],[0.7777777777777778,\"#6ece58\"],[0.8888888888888888,\"#b5de2b\"],[1.0,\"#fde725\"]]},\"colorway\":[\"#1F77B4\",\"#FF7F0E\",\"#2CA02C\",\"#D62728\",\"#9467BD\",\"#8C564B\",\"#E377C2\",\"#7F7F7F\",\"#BCBD22\",\"#17BECF\"],\"font\":{\"color\":\"rgb(36,36,36)\"},\"geo\":{\"bgcolor\":\"white\",\"lakecolor\":\"white\",\"landcolor\":\"white\",\"showlakes\":true,\"showland\":true,\"subunitcolor\":\"white\"},\"hoverlabel\":{\"align\":\"left\"},\"hovermode\":\"closest\",\"mapbox\":{\"style\":\"light\"},\"paper_bgcolor\":\"white\",\"plot_bgcolor\":\"white\",\"polar\":{\"angularaxis\":{\"gridcolor\":\"rgb(232,232,232)\",\"linecolor\":\"rgb(36,36,36)\",\"showgrid\":false,\"showline\":true,\"ticks\":\"outside\"},\"bgcolor\":\"white\",\"radialaxis\":{\"gridcolor\":\"rgb(232,232,232)\",\"linecolor\":\"rgb(36,36,36)\",\"showgrid\":false,\"showline\":true,\"ticks\":\"outside\"}},\"scene\":{\"xaxis\":{\"backgroundcolor\":\"white\",\"gridcolor\":\"rgb(232,232,232)\",\"gridwidth\":2,\"linecolor\":\"rgb(36,36,36)\",\"showbackground\":true,\"showgrid\":false,\"showline\":true,\"ticks\":\"outside\",\"zeroline\":false,\"zerolinecolor\":\"rgb(36,36,36)\"},\"yaxis\":{\"backgroundcolor\":\"white\",\"gridcolor\":\"rgb(232,232,232)\",\"gridwidth\":2,\"linecolor\":\"rgb(36,36,36)\",\"showbackground\":true,\"showgrid\":false,\"showline\":true,\"ticks\":\"outside\",\"zeroline\":false,\"zerolinecolor\":\"rgb(36,36,36)\"},\"zaxis\":{\"backgroundcolor\":\"white\",\"gridcolor\":\"rgb(232,232,232)\",\"gridwidth\":2,\"linecolor\":\"rgb(36,36,36)\",\"showbackground\":true,\"showgrid\":false,\"showline\":true,\"ticks\":\"outside\",\"zeroline\":false,\"zerolinecolor\":\"rgb(36,36,36)\"}},\"shapedefaults\":{\"fillcolor\":\"black\",\"line\":{\"width\":0},\"opacity\":0.3},\"ternary\":{\"aaxis\":{\"gridcolor\":\"rgb(232,232,232)\",\"linecolor\":\"rgb(36,36,36)\",\"showgrid\":false,\"showline\":true,\"ticks\":\"outside\"},\"baxis\":{\"gridcolor\":\"rgb(232,232,232)\",\"linecolor\":\"rgb(36,36,36)\",\"showgrid\":false,\"showline\":true,\"ticks\":\"outside\"},\"bgcolor\":\"white\",\"caxis\":{\"gridcolor\":\"rgb(232,232,232)\",\"linecolor\":\"rgb(36,36,36)\",\"showgrid\":false,\"showline\":true,\"ticks\":\"outside\"}},\"title\":{\"x\":0.05},\"xaxis\":{\"automargin\":true,\"gridcolor\":\"rgb(232,232,232)\",\"linecolor\":\"rgb(36,36,36)\",\"showgrid\":false,\"showline\":true,\"ticks\":\"outside\",\"title\":{\"standoff\":15},\"zeroline\":false,\"zerolinecolor\":\"rgb(36,36,36)\"},\"yaxis\":{\"automargin\":true,\"gridcolor\":\"rgb(232,232,232)\",\"linecolor\":\"rgb(36,36,36)\",\"showgrid\":false,\"showline\":true,\"ticks\":\"outside\",\"title\":{\"standoff\":15},\"zeroline\":false,\"zerolinecolor\":\"rgb(36,36,36)\"}}},\"xaxis\":{\"anchor\":\"y\",\"domain\":[0.0,1.0],\"title\":{\"text\":\"\\u0447\\u0438\\u0441\\u043b\\u043e \\u043f\\u043e\\u043b\\u044c\\u0437\\u043e\\u0432\\u0430\\u0442\\u0435\\u043b\\u0435\\u0439\"}},\"yaxis\":{\"anchor\":\"x\",\"domain\":[0.0,1.0],\"title\":{\"text\":\"\\u0441\\u043e\\u0431\\u044b\\u0442\\u0438\\u044f\"}},\"legend\":{\"tracegroupgap\":0},\"title\":{\"text\":\"\\u041a\\u043e\\u043b\\u0438\\u0447\\u0435\\u0441\\u0442\\u0432\\u043e \\u043f\\u043e\\u043b\\u044c\\u0437\\u043e\\u0432\\u0430\\u0442\\u0435\\u043b\\u0435\\u0439 \\u043d\\u0430 \\u0440\\u0430\\u0437\\u043d\\u044b\\u0445 \\u0441\\u043e\\u0431\\u044b\\u0442\\u0438\\u044f\\u0445\"}},                        {\"responsive\": true}                    ).then(function(){\n",
       "                            \n",
       "var gd = document.getElementById('30ea7278-1ff1-40b5-85e4-6e0584f67181');\n",
       "var x = new MutationObserver(function (mutations, observer) {{\n",
       "        var display = window.getComputedStyle(gd).display;\n",
       "        if (!display || display === 'none') {{\n",
       "            console.log([gd, 'removed!']);\n",
       "            Plotly.purge(gd);\n",
       "            observer.disconnect();\n",
       "        }}\n",
       "}});\n",
       "\n",
       "// Listen for the removal of the full notebook cells\n",
       "var notebookContainer = gd.closest('#notebook-container');\n",
       "if (notebookContainer) {{\n",
       "    x.observe(notebookContainer, {childList: true});\n",
       "}}\n",
       "\n",
       "// Listen for the clearing of the current output cell\n",
       "var outputEl = gd.closest('.output');\n",
       "if (outputEl) {{\n",
       "    x.observe(outputEl, {childList: true});\n",
       "}}\n",
       "\n",
       "                        })                };                });            </script>        </div>"
      ]
     },
     "metadata": {},
     "output_type": "display_data"
    }
   ],
   "source": [
    "px.funnel(ev_raw_without_tutorial,\n",
    "          y='event_name_rus',\n",
    "          x='count_users',\n",
    "          labels={'event_name_rus': 'события',\n",
    "                  'count_users':  'число пользователей'},\n",
    "            title='Количество пользователей на разных событиях',\n",
    "            template='simple_white')"
   ]
  },
  {
   "cell_type": "markdown",
   "metadata": {},
   "source": [
    "видно что на главном экране задерживаютмсся пользователями и дальше не переходят. Узнаем сколько это в процентах"
   ]
  },
  {
   "cell_type": "markdown",
   "metadata": {},
   "source": [
    "Сдвигаем число пользвателей на 1 и находим отношение"
   ]
  },
  {
   "cell_type": "code",
   "execution_count": 48,
   "metadata": {
    "trusted": true
   },
   "outputs": [
    {
     "data": {
      "text/html": [
       "<div>\n",
       "<style scoped>\n",
       "    .dataframe tbody tr th:only-of-type {\n",
       "        vertical-align: middle;\n",
       "    }\n",
       "\n",
       "    .dataframe tbody tr th {\n",
       "        vertical-align: top;\n",
       "    }\n",
       "\n",
       "    .dataframe thead th {\n",
       "        text-align: right;\n",
       "    }\n",
       "</style>\n",
       "<table border=\"1\" class=\"dataframe\">\n",
       "  <thead>\n",
       "    <tr style=\"text-align: right;\">\n",
       "      <th></th>\n",
       "      <th>event_name_rus</th>\n",
       "      <th>count_users</th>\n",
       "      <th>shift</th>\n",
       "    </tr>\n",
       "  </thead>\n",
       "  <tbody>\n",
       "    <tr>\n",
       "      <th>0</th>\n",
       "      <td>главный экран</td>\n",
       "      <td>7427</td>\n",
       "      <td>NaN</td>\n",
       "    </tr>\n",
       "    <tr>\n",
       "      <th>1</th>\n",
       "      <td>экран с предложениями</td>\n",
       "      <td>4602</td>\n",
       "      <td>7427.0</td>\n",
       "    </tr>\n",
       "    <tr>\n",
       "      <th>2</th>\n",
       "      <td>экран корзины</td>\n",
       "      <td>3738</td>\n",
       "      <td>4602.0</td>\n",
       "    </tr>\n",
       "    <tr>\n",
       "      <th>3</th>\n",
       "      <td>экран об оплате платежа</td>\n",
       "      <td>3541</td>\n",
       "      <td>3738.0</td>\n",
       "    </tr>\n",
       "  </tbody>\n",
       "</table>\n",
       "</div>"
      ],
      "text/plain": [
       "            event_name_rus  count_users   shift\n",
       "0            главный экран         7427     NaN\n",
       "1    экран с предложениями         4602  7427.0\n",
       "2            экран корзины         3738  4602.0\n",
       "3  экран об оплате платежа         3541  3738.0"
      ]
     },
     "execution_count": 48,
     "metadata": {},
     "output_type": "execute_result"
    }
   ],
   "source": [
    "ev_raw_without_tutorial['shift'] = (ev_raw_without_tutorial['count_users']\n",
    "                                    .shift(1)\n",
    "                                    )\n",
    "\n",
    "\n",
    "\n",
    "ev_raw_without_tutorial"
   ]
  },
  {
   "cell_type": "code",
   "execution_count": 49,
   "metadata": {
    "trusted": true
   },
   "outputs": [
    {
     "data": {
      "text/html": [
       "<div>\n",
       "<style scoped>\n",
       "    .dataframe tbody tr th:only-of-type {\n",
       "        vertical-align: middle;\n",
       "    }\n",
       "\n",
       "    .dataframe tbody tr th {\n",
       "        vertical-align: top;\n",
       "    }\n",
       "\n",
       "    .dataframe thead th {\n",
       "        text-align: right;\n",
       "    }\n",
       "</style>\n",
       "<table border=\"1\" class=\"dataframe\">\n",
       "  <thead>\n",
       "    <tr style=\"text-align: right;\">\n",
       "      <th></th>\n",
       "      <th>event_name_rus</th>\n",
       "      <th>count_users</th>\n",
       "      <th>shift</th>\n",
       "      <th>%</th>\n",
       "    </tr>\n",
       "  </thead>\n",
       "  <tbody>\n",
       "    <tr>\n",
       "      <th>0</th>\n",
       "      <td>главный экран</td>\n",
       "      <td>7427</td>\n",
       "      <td>NaN</td>\n",
       "      <td>NaN</td>\n",
       "    </tr>\n",
       "    <tr>\n",
       "      <th>1</th>\n",
       "      <td>экран с предложениями</td>\n",
       "      <td>4602</td>\n",
       "      <td>7427.0</td>\n",
       "      <td>61.96</td>\n",
       "    </tr>\n",
       "    <tr>\n",
       "      <th>2</th>\n",
       "      <td>экран корзины</td>\n",
       "      <td>3738</td>\n",
       "      <td>4602.0</td>\n",
       "      <td>81.23</td>\n",
       "    </tr>\n",
       "    <tr>\n",
       "      <th>3</th>\n",
       "      <td>экран об оплате платежа</td>\n",
       "      <td>3541</td>\n",
       "      <td>3738.0</td>\n",
       "      <td>94.73</td>\n",
       "    </tr>\n",
       "  </tbody>\n",
       "</table>\n",
       "</div>"
      ],
      "text/plain": [
       "            event_name_rus  count_users   shift      %\n",
       "0            главный экран         7427     NaN    NaN\n",
       "1    экран с предложениями         4602  7427.0  61.96\n",
       "2            экран корзины         3738  4602.0  81.23\n",
       "3  экран об оплате платежа         3541  3738.0  94.73"
      ]
     },
     "execution_count": 49,
     "metadata": {},
     "output_type": "execute_result"
    }
   ],
   "source": [
    "ev_raw_without_tutorial['%'] = (\n",
    "    (\n",
    "        ev_raw_without_tutorial['count_users'] /\n",
    "        ev_raw_without_tutorial['shift']*100\n",
    "    )\n",
    "    .round(2)\n",
    ")\n",
    "\n",
    "\n",
    "\n",
    "ev_raw_without_tutorial"
   ]
  },
  {
   "cell_type": "markdown",
   "metadata": {},
   "source": [
    "Вывод: с главного экрана на экран с  предоложениями переходит всего 60% пользователей. "
   ]
  },
  {
   "cell_type": "markdown",
   "metadata": {},
   "source": [
    "Найдем долю пользователей прошедших от первого события до оплаты.У них должно быть событие `экран об оплате платежа`"
   ]
  },
  {
   "cell_type": "code",
   "execution_count": 50,
   "metadata": {
    "trusted": true
   },
   "outputs": [],
   "source": [
    "event = 'экран об оплате платежа'"
   ]
  },
  {
   "cell_type": "markdown",
   "metadata": {},
   "source": [
    "найдем это событиеи сгруппируем по уникальным пользоваиелям"
   ]
  },
  {
   "cell_type": "code",
   "execution_count": 51,
   "metadata": {
    "trusted": true
   },
   "outputs": [
    {
     "data": {
      "text/html": [
       "<div>\n",
       "<style scoped>\n",
       "    .dataframe tbody tr th:only-of-type {\n",
       "        vertical-align: middle;\n",
       "    }\n",
       "\n",
       "    .dataframe tbody tr th {\n",
       "        vertical-align: top;\n",
       "    }\n",
       "\n",
       "    .dataframe thead th {\n",
       "        text-align: right;\n",
       "    }\n",
       "</style>\n",
       "<table border=\"1\" class=\"dataframe\">\n",
       "  <thead>\n",
       "    <tr style=\"text-align: right;\">\n",
       "      <th></th>\n",
       "      <th>user_id</th>\n",
       "      <th>step_pay</th>\n",
       "    </tr>\n",
       "  </thead>\n",
       "  <tbody>\n",
       "    <tr>\n",
       "      <th>0</th>\n",
       "      <td>6888746892508752</td>\n",
       "      <td>[False]</td>\n",
       "    </tr>\n",
       "    <tr>\n",
       "      <th>1</th>\n",
       "      <td>6909561520679493</td>\n",
       "      <td>[True]</td>\n",
       "    </tr>\n",
       "    <tr>\n",
       "      <th>2</th>\n",
       "      <td>6922444491712477</td>\n",
       "      <td>[True, False]</td>\n",
       "    </tr>\n",
       "    <tr>\n",
       "      <th>3</th>\n",
       "      <td>7435777799948366</td>\n",
       "      <td>[False]</td>\n",
       "    </tr>\n",
       "    <tr>\n",
       "      <th>4</th>\n",
       "      <td>7702139951469979</td>\n",
       "      <td>[False, True]</td>\n",
       "    </tr>\n",
       "  </tbody>\n",
       "</table>\n",
       "</div>"
      ],
      "text/plain": [
       "            user_id       step_pay\n",
       "0  6888746892508752        [False]\n",
       "1  6909561520679493         [True]\n",
       "2  6922444491712477  [True, False]\n",
       "3  7435777799948366        [False]\n",
       "4  7702139951469979  [False, True]"
      ]
     },
     "execution_count": 51,
     "metadata": {},
     "output_type": "execute_result"
    }
   ],
   "source": [
    "ev['step_pay'] = ev['event_name_rus'].apply(lambda x: event in x)\n",
    "\n",
    "\n",
    "ev_pay = ev.groupby('user_id')['step_pay'].unique().reset_index()\n",
    "\n",
    "ev_pay.head()"
   ]
  },
  {
   "cell_type": "code",
   "execution_count": 52,
   "metadata": {
    "trusted": true
   },
   "outputs": [
    {
     "data": {
      "text/html": [
       "<div>\n",
       "<style scoped>\n",
       "    .dataframe tbody tr th:only-of-type {\n",
       "        vertical-align: middle;\n",
       "    }\n",
       "\n",
       "    .dataframe tbody tr th {\n",
       "        vertical-align: top;\n",
       "    }\n",
       "\n",
       "    .dataframe thead th {\n",
       "        text-align: right;\n",
       "    }\n",
       "</style>\n",
       "<table border=\"1\" class=\"dataframe\">\n",
       "  <thead>\n",
       "    <tr style=\"text-align: right;\">\n",
       "      <th></th>\n",
       "      <th>user_id</th>\n",
       "      <th>step_pay</th>\n",
       "    </tr>\n",
       "  </thead>\n",
       "  <tbody>\n",
       "    <tr>\n",
       "      <th>0</th>\n",
       "      <td>6888746892508752</td>\n",
       "      <td>0</td>\n",
       "    </tr>\n",
       "    <tr>\n",
       "      <th>1</th>\n",
       "      <td>6909561520679493</td>\n",
       "      <td>1</td>\n",
       "    </tr>\n",
       "    <tr>\n",
       "      <th>2</th>\n",
       "      <td>6922444491712477</td>\n",
       "      <td>1</td>\n",
       "    </tr>\n",
       "    <tr>\n",
       "      <th>3</th>\n",
       "      <td>7435777799948366</td>\n",
       "      <td>0</td>\n",
       "    </tr>\n",
       "    <tr>\n",
       "      <th>4</th>\n",
       "      <td>7702139951469979</td>\n",
       "      <td>1</td>\n",
       "    </tr>\n",
       "  </tbody>\n",
       "</table>\n",
       "</div>"
      ],
      "text/plain": [
       "            user_id  step_pay\n",
       "0  6888746892508752         0\n",
       "1  6909561520679493         1\n",
       "2  6922444491712477         1\n",
       "3  7435777799948366         0\n",
       "4  7702139951469979         1"
      ]
     },
     "execution_count": 52,
     "metadata": {},
     "output_type": "execute_result"
    }
   ],
   "source": [
    "ev_pay['step_pay'] = ev_pay['step_pay'].apply(sum)\n",
    "ev_pay.head()"
   ]
  },
  {
   "cell_type": "markdown",
   "metadata": {},
   "source": [
    "Тогда"
   ]
  },
  {
   "cell_type": "code",
   "execution_count": 53,
   "metadata": {
    "trusted": true
   },
   "outputs": [
    {
     "name": "stdout",
     "output_type": "stream",
     "text": [
      "доля оплативших пользователей: 46.96 %\n"
     ]
    }
   ],
   "source": [
    "print('доля оплативших пользователей:',\n",
    "      '{:.2f} %'\n",
    "      .format(\n",
    "          ev_pay.step_pay.sum() / len(ev_pay)*100\n",
    "      )\n",
    "      )"
   ]
  },
  {
   "cell_type": "markdown",
   "metadata": {},
   "source": [
    "Вывод: примерно 47 % пользователей заказывают продукты."
   ]
  },
  {
   "cell_type": "markdown",
   "metadata": {},
   "source": [
    "Рекомендации:   \n",
    "1. провести исследования (интервью, опросы, анализ метрик) для понимания причин, почему 40% пользователей не переходят дальше.\n",
    "\n",
    "2. Оптимизация интерфейса: Убедитесь, что элементы интерфейса понятны и бросаются в глаза а информация на экраня ясная и убедительная .    \n",
    "Проверьте, достаточно ли привлекательны кнопки или ссылки для перехода.\n",
    "\n",
    "4. Проверить, что переход на следующий шаг легкий и интуитивно понятный."
   ]
  },
  {
   "cell_type": "markdown",
   "metadata": {},
   "source": [
    "# Анализ результатов A/A/B-теста"
   ]
  },
  {
   "cell_type": "markdown",
   "metadata": {},
   "source": [
    "Проверим есть ли разница между выборками контрольных групп А и А_1"
   ]
  },
  {
   "cell_type": "markdown",
   "metadata": {},
   "source": [
    "посчитаем количество число событий совершенное каждыми пользователи"
   ]
  },
  {
   "cell_type": "code",
   "execution_count": 54,
   "metadata": {
    "trusted": true
   },
   "outputs": [
    {
     "data": {
      "text/html": [
       "<div>\n",
       "<style scoped>\n",
       "    .dataframe tbody tr th:only-of-type {\n",
       "        vertical-align: middle;\n",
       "    }\n",
       "\n",
       "    .dataframe tbody tr th {\n",
       "        vertical-align: top;\n",
       "    }\n",
       "\n",
       "    .dataframe thead th {\n",
       "        text-align: right;\n",
       "    }\n",
       "</style>\n",
       "<table border=\"1\" class=\"dataframe\">\n",
       "  <thead>\n",
       "    <tr style=\"text-align: right;\">\n",
       "      <th></th>\n",
       "      <th>group</th>\n",
       "      <th>user_id</th>\n",
       "      <th>count_events</th>\n",
       "    </tr>\n",
       "  </thead>\n",
       "  <tbody>\n",
       "    <tr>\n",
       "      <th>0</th>\n",
       "      <td>A</td>\n",
       "      <td>6888746892508752</td>\n",
       "      <td>1</td>\n",
       "    </tr>\n",
       "    <tr>\n",
       "      <th>1</th>\n",
       "      <td>A</td>\n",
       "      <td>6922444491712477</td>\n",
       "      <td>47</td>\n",
       "    </tr>\n",
       "    <tr>\n",
       "      <th>2</th>\n",
       "      <td>A</td>\n",
       "      <td>8740973466195562</td>\n",
       "      <td>9</td>\n",
       "    </tr>\n",
       "    <tr>\n",
       "      <th>3</th>\n",
       "      <td>A</td>\n",
       "      <td>12692216027168046</td>\n",
       "      <td>10</td>\n",
       "    </tr>\n",
       "    <tr>\n",
       "      <th>4</th>\n",
       "      <td>A</td>\n",
       "      <td>15708180189885246</td>\n",
       "      <td>126</td>\n",
       "    </tr>\n",
       "  </tbody>\n",
       "</table>\n",
       "</div>"
      ],
      "text/plain": [
       "  group            user_id  count_events\n",
       "0     A   6888746892508752             1\n",
       "1     A   6922444491712477            47\n",
       "2     A   8740973466195562             9\n",
       "3     A  12692216027168046            10\n",
       "4     A  15708180189885246           126"
      ]
     },
     "execution_count": 54,
     "metadata": {},
     "output_type": "execute_result"
    }
   ],
   "source": [
    "count_events_all_groups = (df_filter\n",
    "                           .groupby(\n",
    "                               ['group', 'user_id'],\n",
    "                               as_index=False\n",
    "                           )\n",
    "                           ['event_name']\n",
    "                           .count()\n",
    "                           .rename(\n",
    "                               columns={\n",
    "                                   'event_name': 'count_events'\n",
    "                               }\n",
    "                           )\n",
    "                           )\n",
    "\n",
    "\n",
    "count_events_all_groups.head()"
   ]
  },
  {
   "cell_type": "markdown",
   "metadata": {},
   "source": [
    "Посчитаем число пользователей , совершивших события в каждой из контрольных групп и долю пользователей совершивших событие"
   ]
  },
  {
   "cell_type": "markdown",
   "metadata": {},
   "source": [
    "Сформулируем гипотезы"
   ]
  },
  {
   "cell_type": "code",
   "execution_count": 55,
   "metadata": {
    "trusted": true
   },
   "outputs": [],
   "source": [
    "hipotesys_1 = {\n",
    "    'H_0': 'среднее количество пользователей  обеих групп совершивших событие одинаковое',\n",
    "    'H_1': 'среднее количество пользователей обеих групп совершивших событие различается '\n",
    "}\n",
    "\n",
    "alpha = .05"
   ]
  },
  {
   "cell_type": "markdown",
   "metadata": {},
   "source": [
    "на подмогу пишем фунцию, которая выведет \"карточки\" с событием , долями, и результатми Z-теста . Применим поправку Бонсферонни т.к. проводится будет несеолько тестов."
   ]
  },
  {
   "cell_type": "markdown",
   "metadata": {},
   "source": [
    "Начнем с поправки Бонсферони"
   ]
  },
  {
   "cell_type": "markdown",
   "metadata": {},
   "source": [
    "планируется провестти тесты :  \n",
    " - между контрольными группами - 1    \n",
    " - между каждой контрольной группой и экспериментальной - 2   \n",
    " - между обьединенными контрольными и экспериментальной - 1   \n",
    "Итого:  4 теста."
   ]
  },
  {
   "cell_type": "code",
   "execution_count": 56,
   "metadata": {
    "trusted": true
   },
   "outputs": [],
   "source": [
    "count_tests=4"
   ]
  },
  {
   "cell_type": "markdown",
   "metadata": {},
   "source": [
    "тогда поправка составит"
   ]
  },
  {
   "cell_type": "code",
   "execution_count": 57,
   "metadata": {
    "scrolled": true,
    "trusted": true
   },
   "outputs": [
    {
     "name": "stdout",
     "output_type": "stream",
     "text": [
      "Откорректированное alpha = 0.0125\n"
     ]
    }
   ],
   "source": [
    "alpha_corr = alpha / count_tests\n",
    "print(\"Откорректированное alpha =\", alpha_corr)"
   ]
  },
  {
   "cell_type": "markdown",
   "metadata": {},
   "source": [
    "подготовим данные для функции. Соберем таблицу с пользователями по событию в группах"
   ]
  },
  {
   "cell_type": "code",
   "execution_count": 58,
   "metadata": {
    "trusted": true
   },
   "outputs": [
    {
     "data": {
      "text/html": [
       "<div>\n",
       "<style scoped>\n",
       "    .dataframe tbody tr th:only-of-type {\n",
       "        vertical-align: middle;\n",
       "    }\n",
       "\n",
       "    .dataframe tbody tr th {\n",
       "        vertical-align: top;\n",
       "    }\n",
       "\n",
       "    .dataframe thead th {\n",
       "        text-align: right;\n",
       "    }\n",
       "</style>\n",
       "<table border=\"1\" class=\"dataframe\">\n",
       "  <thead>\n",
       "    <tr style=\"text-align: right;\">\n",
       "      <th></th>\n",
       "      <th>group</th>\n",
       "      <th>event_name_rus</th>\n",
       "      <th>count_users</th>\n",
       "    </tr>\n",
       "  </thead>\n",
       "  <tbody>\n",
       "    <tr>\n",
       "      <th>0</th>\n",
       "      <td>A</td>\n",
       "      <td>главный экран</td>\n",
       "      <td>2451</td>\n",
       "    </tr>\n",
       "    <tr>\n",
       "      <th>1</th>\n",
       "      <td>A</td>\n",
       "      <td>экран корзины</td>\n",
       "      <td>1266</td>\n",
       "    </tr>\n",
       "    <tr>\n",
       "      <th>2</th>\n",
       "      <td>A</td>\n",
       "      <td>экран об оплате платежа</td>\n",
       "      <td>1200</td>\n",
       "    </tr>\n",
       "    <tr>\n",
       "      <th>3</th>\n",
       "      <td>A</td>\n",
       "      <td>экран с обучением</td>\n",
       "      <td>278</td>\n",
       "    </tr>\n",
       "    <tr>\n",
       "      <th>4</th>\n",
       "      <td>A</td>\n",
       "      <td>экран с предложениями</td>\n",
       "      <td>1543</td>\n",
       "    </tr>\n",
       "    <tr>\n",
       "      <th>5</th>\n",
       "      <td>A_1</td>\n",
       "      <td>главный экран</td>\n",
       "      <td>2479</td>\n",
       "    </tr>\n",
       "    <tr>\n",
       "      <th>6</th>\n",
       "      <td>A_1</td>\n",
       "      <td>экран корзины</td>\n",
       "      <td>1239</td>\n",
       "    </tr>\n",
       "    <tr>\n",
       "      <th>7</th>\n",
       "      <td>A_1</td>\n",
       "      <td>экран об оплате платежа</td>\n",
       "      <td>1158</td>\n",
       "    </tr>\n",
       "    <tr>\n",
       "      <th>8</th>\n",
       "      <td>A_1</td>\n",
       "      <td>экран с обучением</td>\n",
       "      <td>284</td>\n",
       "    </tr>\n",
       "    <tr>\n",
       "      <th>9</th>\n",
       "      <td>A_1</td>\n",
       "      <td>экран с предложениями</td>\n",
       "      <td>1526</td>\n",
       "    </tr>\n",
       "    <tr>\n",
       "      <th>10</th>\n",
       "      <td>B</td>\n",
       "      <td>главный экран</td>\n",
       "      <td>2497</td>\n",
       "    </tr>\n",
       "    <tr>\n",
       "      <th>11</th>\n",
       "      <td>B</td>\n",
       "      <td>экран корзины</td>\n",
       "      <td>1233</td>\n",
       "    </tr>\n",
       "    <tr>\n",
       "      <th>12</th>\n",
       "      <td>B</td>\n",
       "      <td>экран об оплате платежа</td>\n",
       "      <td>1183</td>\n",
       "    </tr>\n",
       "    <tr>\n",
       "      <th>13</th>\n",
       "      <td>B</td>\n",
       "      <td>экран с обучением</td>\n",
       "      <td>281</td>\n",
       "    </tr>\n",
       "    <tr>\n",
       "      <th>14</th>\n",
       "      <td>B</td>\n",
       "      <td>экран с предложениями</td>\n",
       "      <td>1533</td>\n",
       "    </tr>\n",
       "  </tbody>\n",
       "</table>\n",
       "</div>"
      ],
      "text/plain": [
       "   group           event_name_rus  count_users\n",
       "0      A            главный экран         2451\n",
       "1      A            экран корзины         1266\n",
       "2      A  экран об оплате платежа         1200\n",
       "3      A        экран с обучением          278\n",
       "4      A    экран с предложениями         1543\n",
       "5    A_1            главный экран         2479\n",
       "6    A_1            экран корзины         1239\n",
       "7    A_1  экран об оплате платежа         1158\n",
       "8    A_1        экран с обучением          284\n",
       "9    A_1    экран с предложениями         1526\n",
       "10     B            главный экран         2497\n",
       "11     B            экран корзины         1233\n",
       "12     B  экран об оплате платежа         1183\n",
       "13     B        экран с обучением          281\n",
       "14     B    экран с предложениями         1533"
      ]
     },
     "execution_count": 58,
     "metadata": {},
     "output_type": "execute_result"
    }
   ],
   "source": [
    "groups_events_count_users = (df_filter\n",
    "                             .groupby(\n",
    "                                 ['group', 'event_name_rus']\n",
    "                             )['user_id']\n",
    "                             .nunique()\n",
    "                             .reset_index()\n",
    "                             .rename(\n",
    "                                 columns={\n",
    "                                     'user_id': 'count_users'\n",
    "                                 }\n",
    "                             )\n",
    "                             )\n",
    "\n",
    "\n",
    "groups_events_count_users"
   ]
  },
  {
   "cell_type": "markdown",
   "metadata": {},
   "source": [
    "обьединим со 2й таблицей (с количеством пользователй в каждой группе)"
   ]
  },
  {
   "cell_type": "code",
   "execution_count": 59,
   "metadata": {},
   "outputs": [
    {
     "data": {
      "text/html": [
       "<div>\n",
       "<style scoped>\n",
       "    .dataframe tbody tr th:only-of-type {\n",
       "        vertical-align: middle;\n",
       "    }\n",
       "\n",
       "    .dataframe tbody tr th {\n",
       "        vertical-align: top;\n",
       "    }\n",
       "\n",
       "    .dataframe thead th {\n",
       "        text-align: right;\n",
       "    }\n",
       "</style>\n",
       "<table border=\"1\" class=\"dataframe\">\n",
       "  <thead>\n",
       "    <tr style=\"text-align: right;\">\n",
       "      <th></th>\n",
       "      <th>group</th>\n",
       "      <th>event_name_rus</th>\n",
       "      <th>count_users_event</th>\n",
       "      <th>count_users_group</th>\n",
       "    </tr>\n",
       "  </thead>\n",
       "  <tbody>\n",
       "    <tr>\n",
       "      <th>0</th>\n",
       "      <td>A</td>\n",
       "      <td>главный экран</td>\n",
       "      <td>2451</td>\n",
       "      <td>2485</td>\n",
       "    </tr>\n",
       "    <tr>\n",
       "      <th>1</th>\n",
       "      <td>A</td>\n",
       "      <td>экран корзины</td>\n",
       "      <td>1266</td>\n",
       "      <td>2485</td>\n",
       "    </tr>\n",
       "    <tr>\n",
       "      <th>2</th>\n",
       "      <td>A</td>\n",
       "      <td>экран об оплате платежа</td>\n",
       "      <td>1200</td>\n",
       "      <td>2485</td>\n",
       "    </tr>\n",
       "    <tr>\n",
       "      <th>3</th>\n",
       "      <td>A</td>\n",
       "      <td>экран с обучением</td>\n",
       "      <td>278</td>\n",
       "      <td>2485</td>\n",
       "    </tr>\n",
       "    <tr>\n",
       "      <th>4</th>\n",
       "      <td>A</td>\n",
       "      <td>экран с предложениями</td>\n",
       "      <td>1543</td>\n",
       "      <td>2485</td>\n",
       "    </tr>\n",
       "    <tr>\n",
       "      <th>5</th>\n",
       "      <td>A_1</td>\n",
       "      <td>главный экран</td>\n",
       "      <td>2479</td>\n",
       "      <td>2517</td>\n",
       "    </tr>\n",
       "    <tr>\n",
       "      <th>6</th>\n",
       "      <td>A_1</td>\n",
       "      <td>экран корзины</td>\n",
       "      <td>1239</td>\n",
       "      <td>2517</td>\n",
       "    </tr>\n",
       "    <tr>\n",
       "      <th>7</th>\n",
       "      <td>A_1</td>\n",
       "      <td>экран об оплате платежа</td>\n",
       "      <td>1158</td>\n",
       "      <td>2517</td>\n",
       "    </tr>\n",
       "    <tr>\n",
       "      <th>8</th>\n",
       "      <td>A_1</td>\n",
       "      <td>экран с обучением</td>\n",
       "      <td>284</td>\n",
       "      <td>2517</td>\n",
       "    </tr>\n",
       "    <tr>\n",
       "      <th>9</th>\n",
       "      <td>A_1</td>\n",
       "      <td>экран с предложениями</td>\n",
       "      <td>1526</td>\n",
       "      <td>2517</td>\n",
       "    </tr>\n",
       "    <tr>\n",
       "      <th>10</th>\n",
       "      <td>B</td>\n",
       "      <td>главный экран</td>\n",
       "      <td>2497</td>\n",
       "      <td>2539</td>\n",
       "    </tr>\n",
       "    <tr>\n",
       "      <th>11</th>\n",
       "      <td>B</td>\n",
       "      <td>экран корзины</td>\n",
       "      <td>1233</td>\n",
       "      <td>2539</td>\n",
       "    </tr>\n",
       "    <tr>\n",
       "      <th>12</th>\n",
       "      <td>B</td>\n",
       "      <td>экран об оплате платежа</td>\n",
       "      <td>1183</td>\n",
       "      <td>2539</td>\n",
       "    </tr>\n",
       "    <tr>\n",
       "      <th>13</th>\n",
       "      <td>B</td>\n",
       "      <td>экран с обучением</td>\n",
       "      <td>281</td>\n",
       "      <td>2539</td>\n",
       "    </tr>\n",
       "    <tr>\n",
       "      <th>14</th>\n",
       "      <td>B</td>\n",
       "      <td>экран с предложениями</td>\n",
       "      <td>1533</td>\n",
       "      <td>2539</td>\n",
       "    </tr>\n",
       "  </tbody>\n",
       "</table>\n",
       "</div>"
      ],
      "text/plain": [
       "   group           event_name_rus  count_users_event  count_users_group\n",
       "0      A            главный экран               2451               2485\n",
       "1      A            экран корзины               1266               2485\n",
       "2      A  экран об оплате платежа               1200               2485\n",
       "3      A        экран с обучением                278               2485\n",
       "4      A    экран с предложениями               1543               2485\n",
       "5    A_1            главный экран               2479               2517\n",
       "6    A_1            экран корзины               1239               2517\n",
       "7    A_1  экран об оплате платежа               1158               2517\n",
       "8    A_1        экран с обучением                284               2517\n",
       "9    A_1    экран с предложениями               1526               2517\n",
       "10     B            главный экран               2497               2539\n",
       "11     B            экран корзины               1233               2539\n",
       "12     B  экран об оплате платежа               1183               2539\n",
       "13     B        экран с обучением                281               2539\n",
       "14     B    экран с предложениями               1533               2539"
      ]
     },
     "execution_count": 59,
     "metadata": {},
     "output_type": "execute_result"
    }
   ],
   "source": [
    "groups_events_count_users = (groups_events_count_users.\n",
    "                             merge(\n",
    "                                 table_count_users_groups[\n",
    "                                     [\n",
    "                                         'group',\n",
    "                                         'count_users_filter'\n",
    "                                     ]\n",
    "                                 ],\n",
    "                                 how='left',\n",
    "                                 on='group'\n",
    "                             )\n",
    "                             )\n",
    "\n",
    "\n",
    "groups_events_count_users.rename(\n",
    "    columns={\n",
    "        'count_users': 'count_users_event',\n",
    "        'count_users_filter': 'count_users_group'\n",
    "    },\n",
    "    inplace=True\n",
    ")\n",
    "\n",
    "\n",
    "groups_events_count_users"
   ]
  },
  {
   "cell_type": "markdown",
   "metadata": {},
   "source": [
    "посчитаем долю пользователей по событию в группах"
   ]
  },
  {
   "cell_type": "code",
   "execution_count": 60,
   "metadata": {},
   "outputs": [
    {
     "data": {
      "text/html": [
       "<div>\n",
       "<style scoped>\n",
       "    .dataframe tbody tr th:only-of-type {\n",
       "        vertical-align: middle;\n",
       "    }\n",
       "\n",
       "    .dataframe tbody tr th {\n",
       "        vertical-align: top;\n",
       "    }\n",
       "\n",
       "    .dataframe thead th {\n",
       "        text-align: right;\n",
       "    }\n",
       "</style>\n",
       "<table border=\"1\" class=\"dataframe\">\n",
       "  <thead>\n",
       "    <tr style=\"text-align: right;\">\n",
       "      <th></th>\n",
       "      <th>group</th>\n",
       "      <th>event_name_rus</th>\n",
       "      <th>count_users_event</th>\n",
       "      <th>count_users_group</th>\n",
       "      <th>user_share</th>\n",
       "    </tr>\n",
       "  </thead>\n",
       "  <tbody>\n",
       "    <tr>\n",
       "      <th>0</th>\n",
       "      <td>A</td>\n",
       "      <td>главный экран</td>\n",
       "      <td>2451</td>\n",
       "      <td>2485</td>\n",
       "      <td>0.986318</td>\n",
       "    </tr>\n",
       "    <tr>\n",
       "      <th>1</th>\n",
       "      <td>A</td>\n",
       "      <td>экран корзины</td>\n",
       "      <td>1266</td>\n",
       "      <td>2485</td>\n",
       "      <td>0.509457</td>\n",
       "    </tr>\n",
       "    <tr>\n",
       "      <th>2</th>\n",
       "      <td>A</td>\n",
       "      <td>экран об оплате платежа</td>\n",
       "      <td>1200</td>\n",
       "      <td>2485</td>\n",
       "      <td>0.482897</td>\n",
       "    </tr>\n",
       "    <tr>\n",
       "      <th>3</th>\n",
       "      <td>A</td>\n",
       "      <td>экран с обучением</td>\n",
       "      <td>278</td>\n",
       "      <td>2485</td>\n",
       "      <td>0.111871</td>\n",
       "    </tr>\n",
       "    <tr>\n",
       "      <th>4</th>\n",
       "      <td>A</td>\n",
       "      <td>экран с предложениями</td>\n",
       "      <td>1543</td>\n",
       "      <td>2485</td>\n",
       "      <td>0.620926</td>\n",
       "    </tr>\n",
       "    <tr>\n",
       "      <th>5</th>\n",
       "      <td>A_1</td>\n",
       "      <td>главный экран</td>\n",
       "      <td>2479</td>\n",
       "      <td>2517</td>\n",
       "      <td>0.984903</td>\n",
       "    </tr>\n",
       "    <tr>\n",
       "      <th>6</th>\n",
       "      <td>A_1</td>\n",
       "      <td>экран корзины</td>\n",
       "      <td>1239</td>\n",
       "      <td>2517</td>\n",
       "      <td>0.492253</td>\n",
       "    </tr>\n",
       "    <tr>\n",
       "      <th>7</th>\n",
       "      <td>A_1</td>\n",
       "      <td>экран об оплате платежа</td>\n",
       "      <td>1158</td>\n",
       "      <td>2517</td>\n",
       "      <td>0.460072</td>\n",
       "    </tr>\n",
       "    <tr>\n",
       "      <th>8</th>\n",
       "      <td>A_1</td>\n",
       "      <td>экран с обучением</td>\n",
       "      <td>284</td>\n",
       "      <td>2517</td>\n",
       "      <td>0.112833</td>\n",
       "    </tr>\n",
       "    <tr>\n",
       "      <th>9</th>\n",
       "      <td>A_1</td>\n",
       "      <td>экран с предложениями</td>\n",
       "      <td>1526</td>\n",
       "      <td>2517</td>\n",
       "      <td>0.606277</td>\n",
       "    </tr>\n",
       "    <tr>\n",
       "      <th>10</th>\n",
       "      <td>B</td>\n",
       "      <td>главный экран</td>\n",
       "      <td>2497</td>\n",
       "      <td>2539</td>\n",
       "      <td>0.983458</td>\n",
       "    </tr>\n",
       "    <tr>\n",
       "      <th>11</th>\n",
       "      <td>B</td>\n",
       "      <td>экран корзины</td>\n",
       "      <td>1233</td>\n",
       "      <td>2539</td>\n",
       "      <td>0.485624</td>\n",
       "    </tr>\n",
       "    <tr>\n",
       "      <th>12</th>\n",
       "      <td>B</td>\n",
       "      <td>экран об оплате платежа</td>\n",
       "      <td>1183</td>\n",
       "      <td>2539</td>\n",
       "      <td>0.465931</td>\n",
       "    </tr>\n",
       "    <tr>\n",
       "      <th>13</th>\n",
       "      <td>B</td>\n",
       "      <td>экран с обучением</td>\n",
       "      <td>281</td>\n",
       "      <td>2539</td>\n",
       "      <td>0.110673</td>\n",
       "    </tr>\n",
       "    <tr>\n",
       "      <th>14</th>\n",
       "      <td>B</td>\n",
       "      <td>экран с предложениями</td>\n",
       "      <td>1533</td>\n",
       "      <td>2539</td>\n",
       "      <td>0.603781</td>\n",
       "    </tr>\n",
       "  </tbody>\n",
       "</table>\n",
       "</div>"
      ],
      "text/plain": [
       "   group           event_name_rus  count_users_event  count_users_group  \\\n",
       "0      A            главный экран               2451               2485   \n",
       "1      A            экран корзины               1266               2485   \n",
       "2      A  экран об оплате платежа               1200               2485   \n",
       "3      A        экран с обучением                278               2485   \n",
       "4      A    экран с предложениями               1543               2485   \n",
       "5    A_1            главный экран               2479               2517   \n",
       "6    A_1            экран корзины               1239               2517   \n",
       "7    A_1  экран об оплате платежа               1158               2517   \n",
       "8    A_1        экран с обучением                284               2517   \n",
       "9    A_1    экран с предложениями               1526               2517   \n",
       "10     B            главный экран               2497               2539   \n",
       "11     B            экран корзины               1233               2539   \n",
       "12     B  экран об оплате платежа               1183               2539   \n",
       "13     B        экран с обучением                281               2539   \n",
       "14     B    экран с предложениями               1533               2539   \n",
       "\n",
       "    user_share  \n",
       "0     0.986318  \n",
       "1     0.509457  \n",
       "2     0.482897  \n",
       "3     0.111871  \n",
       "4     0.620926  \n",
       "5     0.984903  \n",
       "6     0.492253  \n",
       "7     0.460072  \n",
       "8     0.112833  \n",
       "9     0.606277  \n",
       "10    0.983458  \n",
       "11    0.485624  \n",
       "12    0.465931  \n",
       "13    0.110673  \n",
       "14    0.603781  "
      ]
     },
     "execution_count": 60,
     "metadata": {},
     "output_type": "execute_result"
    }
   ],
   "source": [
    "groups_events_count_users['user_share'] = (\n",
    "    groups_events_count_users['count_users_event'] /\n",
    "    groups_events_count_users['count_users_group']\n",
    ")\n",
    "\n",
    "groups_events_count_users"
   ]
  },
  {
   "cell_type": "code",
   "execution_count": 61,
   "metadata": {
    "trusted": true
   },
   "outputs": [],
   "source": [
    "def results_Z_test(list_events, list_groups,  hipotesys, alpha=alpha_corr):\n",
    "    '''    \n",
    "    Выводит:    \n",
    "    1. событие   \n",
    "    Результаты Z-теста\n",
    "    2. p-value      \n",
    "    3. доли пользователей групп по событию\n",
    "    4. принимаемую гипотезу'''\n",
    "\n",
    "    # делаем группы ----------\n",
    "    _ = []\n",
    "    for i in list_groups:\n",
    "        _.append(groups_events_count_users.query(\"group==@i\"))\n",
    "\n",
    "    group_1, group_2 = tuple(_)\n",
    "    # -----------------------------------\n",
    "\n",
    "    # расчет Z-теста ------------------------\n",
    "\n",
    "    for ev in list_events:\n",
    "\n",
    "        count_users_event_1 = int(\n",
    "            group_1.query(\n",
    "                'event_name_rus==@ev')['count_users_event'])\n",
    "\n",
    "        count_users_event_2 = int(\n",
    "            group_2.query(\n",
    "                'event_name_rus==@ev')['count_users_event'])\n",
    "\n",
    "        total_1 = int(\n",
    "            group_1.query(\n",
    "                'event_name_rus==@ev')['count_users_group'])\n",
    "\n",
    "        total_2 = int(\n",
    "            group_2.query(\n",
    "                'event_name_rus==@ev')['count_users_group'])\n",
    "\n",
    "        p1 = count_users_event_1/total_1\n",
    "        p2 = count_users_event_2/total_2\n",
    "\n",
    "        p_combined = (count_users_event_1 +\n",
    "                      count_users_event_2) / (total_1 + total_2)\n",
    "\n",
    "        difference = p1-p2\n",
    "\n",
    "        z_value = (difference /\n",
    "                   m.sqrt(\n",
    "                       p_combined * (1-p_combined) * (1/total_1 + 1/total_2)\n",
    "                   )\n",
    "                   )\n",
    "\n",
    "        distr = stat.norm(0, 1)\n",
    "\n",
    "        p_value = (1 - distr.cdf(abs(z_value)))*2\n",
    "\n",
    "        # карточка\n",
    "        # ------------------------------------------------\n",
    "        print('-//'*30, '\\n\\nсобытие: ',  ev.upper(), '\\n')\n",
    "\n",
    "        print('доля пользователей совершивших событие')\n",
    "        for g, p in zip(list_groups, (p1, p2)):\n",
    "            print(\n",
    "                f'в группе {g}:', '{:.2f} %'.format(p*100))\n",
    "\n",
    "        print(\"\\np_value = {:.3f}\".format(p_value))\n",
    "\n",
    "        if p_value > alpha:\n",
    "            print(\"принимаем гипотезу:\", hipotesys.get('H_0'))\n",
    "        else:\n",
    "            print(\"принимаем гипотезу:\", hipotesys.get('H_1'))\n",
    "        # -------------------------------------------------"
   ]
  },
  {
   "cell_type": "markdown",
   "metadata": {},
   "source": [
    "список событий по которым будем считать"
   ]
  },
  {
   "cell_type": "code",
   "execution_count": 62,
   "metadata": {
    "trusted": true
   },
   "outputs": [
    {
     "data": {
      "text/plain": [
       "['главный экран',\n",
       " 'экран с предложениями',\n",
       " 'экран корзины',\n",
       " 'экран об оплате платежа',\n",
       " 'экран с обучением']"
      ]
     },
     "execution_count": 62,
     "metadata": {},
     "output_type": "execute_result"
    }
   ],
   "source": [
    "list_events = list(event_users['event_name_rus'])\n",
    "list_events"
   ]
  },
  {
   "cell_type": "markdown",
   "metadata": {},
   "source": [
    "## Анализ между контрольными группами"
   ]
  },
  {
   "cell_type": "markdown",
   "metadata": {},
   "source": [
    "Данный анализ поможет измерить качество деления, определить доли групп, и подтвердить (или опровергнуть )однородность трафика — отсутствие различия ключевых метрик между группами, которые видят абсолютно одинаковые версии продукта."
   ]
  },
  {
   "cell_type": "markdown",
   "metadata": {},
   "source": [
    "Расчитаем\n"
   ]
  },
  {
   "cell_type": "code",
   "execution_count": 63,
   "metadata": {
    "trusted": true
   },
   "outputs": [
    {
     "name": "stdout",
     "output_type": "stream",
     "text": [
      "-//-//-//-//-//-//-//-//-//-//-//-//-//-//-//-//-//-//-//-//-//-//-//-//-//-//-//-//-//-// \n",
      "\n",
      "событие:  ГЛАВНЫЙ ЭКРАН \n",
      "\n",
      "доля пользователей совершивших событие\n",
      "в группе A: 98.63 %\n",
      "в группе A_1: 98.49 %\n",
      "\n",
      "p_value = 0.674\n",
      "принимаем гипотезу: среднее количество пользователей  обеих групп совершивших событие одинаковое\n",
      "-//-//-//-//-//-//-//-//-//-//-//-//-//-//-//-//-//-//-//-//-//-//-//-//-//-//-//-//-//-// \n",
      "\n",
      "событие:  ЭКРАН С ПРЕДЛОЖЕНИЯМИ \n",
      "\n",
      "доля пользователей совершивших событие\n",
      "в группе A: 62.09 %\n",
      "в группе A_1: 60.63 %\n",
      "\n",
      "p_value = 0.287\n",
      "принимаем гипотезу: среднее количество пользователей  обеих групп совершивших событие одинаковое\n",
      "-//-//-//-//-//-//-//-//-//-//-//-//-//-//-//-//-//-//-//-//-//-//-//-//-//-//-//-//-//-// \n",
      "\n",
      "событие:  ЭКРАН КОРЗИНЫ \n",
      "\n",
      "доля пользователей совершивших событие\n",
      "в группе A: 50.95 %\n",
      "в группе A_1: 49.23 %\n",
      "\n",
      "p_value = 0.224\n",
      "принимаем гипотезу: среднее количество пользователей  обеих групп совершивших событие одинаковое\n",
      "-//-//-//-//-//-//-//-//-//-//-//-//-//-//-//-//-//-//-//-//-//-//-//-//-//-//-//-//-//-// \n",
      "\n",
      "событие:  ЭКРАН ОБ ОПЛАТЕ ПЛАТЕЖА \n",
      "\n",
      "доля пользователей совершивших событие\n",
      "в группе A: 48.29 %\n",
      "в группе A_1: 46.01 %\n",
      "\n",
      "p_value = 0.106\n",
      "принимаем гипотезу: среднее количество пользователей  обеих групп совершивших событие одинаковое\n",
      "-//-//-//-//-//-//-//-//-//-//-//-//-//-//-//-//-//-//-//-//-//-//-//-//-//-//-//-//-//-// \n",
      "\n",
      "событие:  ЭКРАН С ОБУЧЕНИЕМ \n",
      "\n",
      "доля пользователей совершивших событие\n",
      "в группе A: 11.19 %\n",
      "в группе A_1: 11.28 %\n",
      "\n",
      "p_value = 0.914\n",
      "принимаем гипотезу: среднее количество пользователей  обеих групп совершивших событие одинаковое\n"
     ]
    }
   ],
   "source": [
    "results_Z_test(list_events=list_events,\n",
    "               list_groups=['A', 'A_1'],\n",
    "              \n",
    "               hipotesys=hipotesys_1)"
   ]
  },
  {
   "cell_type": "markdown",
   "metadata": {},
   "source": [
    "Вывод: Контрольные группы незначиельно отличаются  между собой по всем событиям - это подтверждает что трафик однородный в рамках контрольных групп, а значит можно сделать анализ между контрольными группами и экспериментальной.\n"
   ]
  },
  {
   "cell_type": "markdown",
   "metadata": {},
   "source": [
    "## Анализ между первой контрольной и экспериментальной группами"
   ]
  },
  {
   "cell_type": "code",
   "execution_count": 64,
   "metadata": {
    "trusted": true
   },
   "outputs": [
    {
     "name": "stdout",
     "output_type": "stream",
     "text": [
      "-//-//-//-//-//-//-//-//-//-//-//-//-//-//-//-//-//-//-//-//-//-//-//-//-//-//-//-//-//-// \n",
      "\n",
      "событие:  ГЛАВНЫЙ ЭКРАН \n",
      "\n",
      "доля пользователей совершивших событие\n",
      "в группе A: 98.63 %\n",
      "в группе B: 98.35 %\n",
      "\n",
      "p_value = 0.406\n",
      "принимаем гипотезу: среднее количество пользователей  обеих групп совершивших событие одинаковое\n",
      "-//-//-//-//-//-//-//-//-//-//-//-//-//-//-//-//-//-//-//-//-//-//-//-//-//-//-//-//-//-// \n",
      "\n",
      "событие:  ЭКРАН С ПРЕДЛОЖЕНИЯМИ \n",
      "\n",
      "доля пользователей совершивших событие\n",
      "в группе A: 62.09 %\n",
      "в группе B: 60.38 %\n",
      "\n",
      "p_value = 0.212\n",
      "принимаем гипотезу: среднее количество пользователей  обеих групп совершивших событие одинаковое\n",
      "-//-//-//-//-//-//-//-//-//-//-//-//-//-//-//-//-//-//-//-//-//-//-//-//-//-//-//-//-//-// \n",
      "\n",
      "событие:  ЭКРАН КОРЗИНЫ \n",
      "\n",
      "доля пользователей совершивших событие\n",
      "в группе A: 50.95 %\n",
      "в группе B: 48.56 %\n",
      "\n",
      "p_value = 0.091\n",
      "принимаем гипотезу: среднее количество пользователей  обеих групп совершивших событие одинаковое\n",
      "-//-//-//-//-//-//-//-//-//-//-//-//-//-//-//-//-//-//-//-//-//-//-//-//-//-//-//-//-//-// \n",
      "\n",
      "событие:  ЭКРАН ОБ ОПЛАТЕ ПЛАТЕЖА \n",
      "\n",
      "доля пользователей совершивших событие\n",
      "в группе A: 48.29 %\n",
      "в группе B: 46.59 %\n",
      "\n",
      "p_value = 0.229\n",
      "принимаем гипотезу: среднее количество пользователей  обеих групп совершивших событие одинаковое\n",
      "-//-//-//-//-//-//-//-//-//-//-//-//-//-//-//-//-//-//-//-//-//-//-//-//-//-//-//-//-//-// \n",
      "\n",
      "событие:  ЭКРАН С ОБУЧЕНИЕМ \n",
      "\n",
      "доля пользователей совершивших событие\n",
      "в группе A: 11.19 %\n",
      "в группе B: 11.07 %\n",
      "\n",
      "p_value = 0.893\n",
      "принимаем гипотезу: среднее количество пользователей  обеих групп совершивших событие одинаковое\n"
     ]
    }
   ],
   "source": [
    "results_Z_test(list_events=list_events,\n",
    "               list_groups=['A', 'B'],\n",
    "               hipotesys=hipotesys_1)"
   ]
  },
  {
   "cell_type": "markdown",
   "metadata": {},
   "source": [
    "Вывод: экспериментальная группа В по событиям почти не отличается от контрольной группы А\n"
   ]
  },
  {
   "cell_type": "markdown",
   "metadata": {},
   "source": [
    "## Анализ между 2ой контрольной и экспериментальной группами"
   ]
  },
  {
   "cell_type": "code",
   "execution_count": 65,
   "metadata": {
    "trusted": true
   },
   "outputs": [
    {
     "name": "stdout",
     "output_type": "stream",
     "text": [
      "-//-//-//-//-//-//-//-//-//-//-//-//-//-//-//-//-//-//-//-//-//-//-//-//-//-//-//-//-//-// \n",
      "\n",
      "событие:  ГЛАВНЫЙ ЭКРАН \n",
      "\n",
      "доля пользователей совершивших событие\n",
      "в группе A_1: 98.49 %\n",
      "в группе B: 98.35 %\n",
      "\n",
      "p_value = 0.681\n",
      "принимаем гипотезу: среднее количество пользователей  обеих групп совершивших событие одинаковое\n",
      "-//-//-//-//-//-//-//-//-//-//-//-//-//-//-//-//-//-//-//-//-//-//-//-//-//-//-//-//-//-// \n",
      "\n",
      "событие:  ЭКРАН С ПРЕДЛОЖЕНИЯМИ \n",
      "\n",
      "доля пользователей совершивших событие\n",
      "в группе A_1: 60.63 %\n",
      "в группе B: 60.38 %\n",
      "\n",
      "p_value = 0.856\n",
      "принимаем гипотезу: среднее количество пользователей  обеих групп совершивших событие одинаковое\n",
      "-//-//-//-//-//-//-//-//-//-//-//-//-//-//-//-//-//-//-//-//-//-//-//-//-//-//-//-//-//-// \n",
      "\n",
      "событие:  ЭКРАН КОРЗИНЫ \n",
      "\n",
      "доля пользователей совершивших событие\n",
      "в группе A_1: 49.23 %\n",
      "в группе B: 48.56 %\n",
      "\n",
      "p_value = 0.637\n",
      "принимаем гипотезу: среднее количество пользователей  обеих групп совершивших событие одинаковое\n",
      "-//-//-//-//-//-//-//-//-//-//-//-//-//-//-//-//-//-//-//-//-//-//-//-//-//-//-//-//-//-// \n",
      "\n",
      "событие:  ЭКРАН ОБ ОПЛАТЕ ПЛАТЕЖА \n",
      "\n",
      "доля пользователей совершивших событие\n",
      "в группе A_1: 46.01 %\n",
      "в группе B: 46.59 %\n",
      "\n",
      "p_value = 0.676\n",
      "принимаем гипотезу: среднее количество пользователей  обеих групп совершивших событие одинаковое\n",
      "-//-//-//-//-//-//-//-//-//-//-//-//-//-//-//-//-//-//-//-//-//-//-//-//-//-//-//-//-//-// \n",
      "\n",
      "событие:  ЭКРАН С ОБУЧЕНИЕМ \n",
      "\n",
      "доля пользователей совершивших событие\n",
      "в группе A_1: 11.28 %\n",
      "в группе B: 11.07 %\n",
      "\n",
      "p_value = 0.807\n",
      "принимаем гипотезу: среднее количество пользователей  обеих групп совершивших событие одинаковое\n"
     ]
    }
   ],
   "source": [
    "results_Z_test(list_events=list_events,\n",
    "               list_groups=['A_1', 'B'],\n",
    "               hipotesys=hipotesys_1)"
   ]
  },
  {
   "cell_type": "markdown",
   "metadata": {},
   "source": [
    "Вывод: экспериментальная группа В не отличается от контрольной группы А_1 ."
   ]
  },
  {
   "cell_type": "markdown",
   "metadata": {},
   "source": [
    "## Анализ между обьединенными контрольными группами и экспериментальной"
   ]
  },
  {
   "cell_type": "markdown",
   "metadata": {},
   "source": [
    "а теперь сравним группу В с обьединенными контрольными группами."
   ]
  },
  {
   "cell_type": "markdown",
   "metadata": {},
   "source": [
    "назовем одним именем контрольные группы"
   ]
  },
  {
   "cell_type": "code",
   "execution_count": 66,
   "metadata": {
    "trusted": true
   },
   "outputs": [
    {
     "data": {
      "text/plain": [
       "array(['big_A', 'B'], dtype=object)"
      ]
     },
     "execution_count": 66,
     "metadata": {},
     "output_type": "execute_result"
    }
   ],
   "source": [
    "df_filter['group'].replace(['A', 'A_1'], 'big_A', inplace=True)\n",
    "df_filter['group'].unique()"
   ]
  },
  {
   "cell_type": "markdown",
   "metadata": {},
   "source": [
    "состаим таблицу по которой посчитаем Z-тест "
   ]
  },
  {
   "cell_type": "markdown",
   "metadata": {},
   "source": [
    "Посчитаем число пользователей"
   ]
  },
  {
   "cell_type": "code",
   "execution_count": 67,
   "metadata": {},
   "outputs": [
    {
     "data": {
      "text/html": [
       "<div>\n",
       "<style scoped>\n",
       "    .dataframe tbody tr th:only-of-type {\n",
       "        vertical-align: middle;\n",
       "    }\n",
       "\n",
       "    .dataframe tbody tr th {\n",
       "        vertical-align: top;\n",
       "    }\n",
       "\n",
       "    .dataframe thead th {\n",
       "        text-align: right;\n",
       "    }\n",
       "</style>\n",
       "<table border=\"1\" class=\"dataframe\">\n",
       "  <thead>\n",
       "    <tr style=\"text-align: right;\">\n",
       "      <th></th>\n",
       "      <th>group</th>\n",
       "      <th>count_users_group</th>\n",
       "    </tr>\n",
       "  </thead>\n",
       "  <tbody>\n",
       "    <tr>\n",
       "      <th>0</th>\n",
       "      <td>B</td>\n",
       "      <td>2539</td>\n",
       "    </tr>\n",
       "    <tr>\n",
       "      <th>1</th>\n",
       "      <td>big_A</td>\n",
       "      <td>5002</td>\n",
       "    </tr>\n",
       "  </tbody>\n",
       "</table>\n",
       "</div>"
      ],
      "text/plain": [
       "   group  count_users_group\n",
       "0      B               2539\n",
       "1  big_A               5002"
      ]
     },
     "execution_count": 67,
     "metadata": {},
     "output_type": "execute_result"
    }
   ],
   "source": [
    "table_count_users_groups_2 = (df_filter\n",
    "                              .groupby('group')\n",
    "                              ['user_id']\n",
    "                              .nunique()\n",
    "                              .reset_index()\n",
    "                              .rename(\n",
    "                                  columns=dict(\n",
    "                                      user_id='count_users_group'\n",
    "                                  )\n",
    "                              )\n",
    "                              )\n",
    "\n",
    "\n",
    "table_count_users_groups_2"
   ]
  },
  {
   "cell_type": "markdown",
   "metadata": {},
   "source": [
    "посчитаем число пользователей по событиям групп"
   ]
  },
  {
   "cell_type": "code",
   "execution_count": 68,
   "metadata": {
    "trusted": true
   },
   "outputs": [
    {
     "data": {
      "text/html": [
       "<div>\n",
       "<style scoped>\n",
       "    .dataframe tbody tr th:only-of-type {\n",
       "        vertical-align: middle;\n",
       "    }\n",
       "\n",
       "    .dataframe tbody tr th {\n",
       "        vertical-align: top;\n",
       "    }\n",
       "\n",
       "    .dataframe thead th {\n",
       "        text-align: right;\n",
       "    }\n",
       "</style>\n",
       "<table border=\"1\" class=\"dataframe\">\n",
       "  <thead>\n",
       "    <tr style=\"text-align: right;\">\n",
       "      <th></th>\n",
       "      <th>group</th>\n",
       "      <th>event_name_rus</th>\n",
       "      <th>count_users</th>\n",
       "    </tr>\n",
       "  </thead>\n",
       "  <tbody>\n",
       "    <tr>\n",
       "      <th>0</th>\n",
       "      <td>B</td>\n",
       "      <td>главный экран</td>\n",
       "      <td>2497</td>\n",
       "    </tr>\n",
       "    <tr>\n",
       "      <th>1</th>\n",
       "      <td>B</td>\n",
       "      <td>экран корзины</td>\n",
       "      <td>1233</td>\n",
       "    </tr>\n",
       "    <tr>\n",
       "      <th>2</th>\n",
       "      <td>B</td>\n",
       "      <td>экран об оплате платежа</td>\n",
       "      <td>1183</td>\n",
       "    </tr>\n",
       "    <tr>\n",
       "      <th>3</th>\n",
       "      <td>B</td>\n",
       "      <td>экран с обучением</td>\n",
       "      <td>281</td>\n",
       "    </tr>\n",
       "    <tr>\n",
       "      <th>4</th>\n",
       "      <td>B</td>\n",
       "      <td>экран с предложениями</td>\n",
       "      <td>1533</td>\n",
       "    </tr>\n",
       "    <tr>\n",
       "      <th>5</th>\n",
       "      <td>big_A</td>\n",
       "      <td>главный экран</td>\n",
       "      <td>4930</td>\n",
       "    </tr>\n",
       "    <tr>\n",
       "      <th>6</th>\n",
       "      <td>big_A</td>\n",
       "      <td>экран корзины</td>\n",
       "      <td>2505</td>\n",
       "    </tr>\n",
       "    <tr>\n",
       "      <th>7</th>\n",
       "      <td>big_A</td>\n",
       "      <td>экран об оплате платежа</td>\n",
       "      <td>2358</td>\n",
       "    </tr>\n",
       "    <tr>\n",
       "      <th>8</th>\n",
       "      <td>big_A</td>\n",
       "      <td>экран с обучением</td>\n",
       "      <td>562</td>\n",
       "    </tr>\n",
       "    <tr>\n",
       "      <th>9</th>\n",
       "      <td>big_A</td>\n",
       "      <td>экран с предложениями</td>\n",
       "      <td>3069</td>\n",
       "    </tr>\n",
       "  </tbody>\n",
       "</table>\n",
       "</div>"
      ],
      "text/plain": [
       "   group           event_name_rus  count_users\n",
       "0      B            главный экран         2497\n",
       "1      B            экран корзины         1233\n",
       "2      B  экран об оплате платежа         1183\n",
       "3      B        экран с обучением          281\n",
       "4      B    экран с предложениями         1533\n",
       "5  big_A            главный экран         4930\n",
       "6  big_A            экран корзины         2505\n",
       "7  big_A  экран об оплате платежа         2358\n",
       "8  big_A        экран с обучением          562\n",
       "9  big_A    экран с предложениями         3069"
      ]
     },
     "execution_count": 68,
     "metadata": {},
     "output_type": "execute_result"
    }
   ],
   "source": [
    "groups_events_count_users = (df_filter\n",
    "                             .groupby(\n",
    "                                 ['group', 'event_name_rus']\n",
    "                             )\n",
    "                             ['user_id']\n",
    "                             .nunique()\n",
    "                             .reset_index()\n",
    "                             .rename(columns={\n",
    "                                 'user_id':  'count_users'\n",
    "                             })\n",
    "                             )\n",
    "\n",
    "\n",
    "groups_events_count_users"
   ]
  },
  {
   "cell_type": "markdown",
   "metadata": {},
   "source": [
    "обьединим эти таблицы в одну "
   ]
  },
  {
   "cell_type": "code",
   "execution_count": 69,
   "metadata": {},
   "outputs": [
    {
     "data": {
      "text/html": [
       "<div>\n",
       "<style scoped>\n",
       "    .dataframe tbody tr th:only-of-type {\n",
       "        vertical-align: middle;\n",
       "    }\n",
       "\n",
       "    .dataframe tbody tr th {\n",
       "        vertical-align: top;\n",
       "    }\n",
       "\n",
       "    .dataframe thead th {\n",
       "        text-align: right;\n",
       "    }\n",
       "</style>\n",
       "<table border=\"1\" class=\"dataframe\">\n",
       "  <thead>\n",
       "    <tr style=\"text-align: right;\">\n",
       "      <th></th>\n",
       "      <th>group</th>\n",
       "      <th>event_name_rus</th>\n",
       "      <th>count_users_event</th>\n",
       "      <th>count_users_group</th>\n",
       "    </tr>\n",
       "  </thead>\n",
       "  <tbody>\n",
       "    <tr>\n",
       "      <th>0</th>\n",
       "      <td>B</td>\n",
       "      <td>главный экран</td>\n",
       "      <td>2497</td>\n",
       "      <td>2539</td>\n",
       "    </tr>\n",
       "    <tr>\n",
       "      <th>1</th>\n",
       "      <td>B</td>\n",
       "      <td>экран корзины</td>\n",
       "      <td>1233</td>\n",
       "      <td>2539</td>\n",
       "    </tr>\n",
       "    <tr>\n",
       "      <th>2</th>\n",
       "      <td>B</td>\n",
       "      <td>экран об оплате платежа</td>\n",
       "      <td>1183</td>\n",
       "      <td>2539</td>\n",
       "    </tr>\n",
       "    <tr>\n",
       "      <th>3</th>\n",
       "      <td>B</td>\n",
       "      <td>экран с обучением</td>\n",
       "      <td>281</td>\n",
       "      <td>2539</td>\n",
       "    </tr>\n",
       "    <tr>\n",
       "      <th>4</th>\n",
       "      <td>B</td>\n",
       "      <td>экран с предложениями</td>\n",
       "      <td>1533</td>\n",
       "      <td>2539</td>\n",
       "    </tr>\n",
       "    <tr>\n",
       "      <th>5</th>\n",
       "      <td>big_A</td>\n",
       "      <td>главный экран</td>\n",
       "      <td>4930</td>\n",
       "      <td>5002</td>\n",
       "    </tr>\n",
       "    <tr>\n",
       "      <th>6</th>\n",
       "      <td>big_A</td>\n",
       "      <td>экран корзины</td>\n",
       "      <td>2505</td>\n",
       "      <td>5002</td>\n",
       "    </tr>\n",
       "    <tr>\n",
       "      <th>7</th>\n",
       "      <td>big_A</td>\n",
       "      <td>экран об оплате платежа</td>\n",
       "      <td>2358</td>\n",
       "      <td>5002</td>\n",
       "    </tr>\n",
       "    <tr>\n",
       "      <th>8</th>\n",
       "      <td>big_A</td>\n",
       "      <td>экран с обучением</td>\n",
       "      <td>562</td>\n",
       "      <td>5002</td>\n",
       "    </tr>\n",
       "    <tr>\n",
       "      <th>9</th>\n",
       "      <td>big_A</td>\n",
       "      <td>экран с предложениями</td>\n",
       "      <td>3069</td>\n",
       "      <td>5002</td>\n",
       "    </tr>\n",
       "  </tbody>\n",
       "</table>\n",
       "</div>"
      ],
      "text/plain": [
       "   group           event_name_rus  count_users_event  count_users_group\n",
       "0      B            главный экран               2497               2539\n",
       "1      B            экран корзины               1233               2539\n",
       "2      B  экран об оплате платежа               1183               2539\n",
       "3      B        экран с обучением                281               2539\n",
       "4      B    экран с предложениями               1533               2539\n",
       "5  big_A            главный экран               4930               5002\n",
       "6  big_A            экран корзины               2505               5002\n",
       "7  big_A  экран об оплате платежа               2358               5002\n",
       "8  big_A        экран с обучением                562               5002\n",
       "9  big_A    экран с предложениями               3069               5002"
      ]
     },
     "execution_count": 69,
     "metadata": {},
     "output_type": "execute_result"
    }
   ],
   "source": [
    "groups_events_count_users = (groups_events_count_users\n",
    "                             .merge(\n",
    "                                 table_count_users_groups_2,\n",
    "                                 how='left',\n",
    "                                 on='group'\n",
    "                             )\n",
    "                             )\n",
    "\n",
    "groups_events_count_users.rename(\n",
    "    columns=dict(count_users='count_users_event'),\n",
    "    inplace=True\n",
    ")\n",
    "\n",
    "groups_events_count_users"
   ]
  },
  {
   "cell_type": "markdown",
   "metadata": {},
   "source": [
    "и найдем долю пользователей в событиии"
   ]
  },
  {
   "cell_type": "code",
   "execution_count": 70,
   "metadata": {},
   "outputs": [
    {
     "data": {
      "text/html": [
       "<div>\n",
       "<style scoped>\n",
       "    .dataframe tbody tr th:only-of-type {\n",
       "        vertical-align: middle;\n",
       "    }\n",
       "\n",
       "    .dataframe tbody tr th {\n",
       "        vertical-align: top;\n",
       "    }\n",
       "\n",
       "    .dataframe thead th {\n",
       "        text-align: right;\n",
       "    }\n",
       "</style>\n",
       "<table border=\"1\" class=\"dataframe\">\n",
       "  <thead>\n",
       "    <tr style=\"text-align: right;\">\n",
       "      <th></th>\n",
       "      <th>group</th>\n",
       "      <th>event_name_rus</th>\n",
       "      <th>count_users_event</th>\n",
       "      <th>count_users_group</th>\n",
       "      <th>user_share</th>\n",
       "    </tr>\n",
       "  </thead>\n",
       "  <tbody>\n",
       "    <tr>\n",
       "      <th>0</th>\n",
       "      <td>B</td>\n",
       "      <td>главный экран</td>\n",
       "      <td>2497</td>\n",
       "      <td>2539</td>\n",
       "      <td>0.983458</td>\n",
       "    </tr>\n",
       "    <tr>\n",
       "      <th>1</th>\n",
       "      <td>B</td>\n",
       "      <td>экран корзины</td>\n",
       "      <td>1233</td>\n",
       "      <td>2539</td>\n",
       "      <td>0.485624</td>\n",
       "    </tr>\n",
       "    <tr>\n",
       "      <th>2</th>\n",
       "      <td>B</td>\n",
       "      <td>экран об оплате платежа</td>\n",
       "      <td>1183</td>\n",
       "      <td>2539</td>\n",
       "      <td>0.465931</td>\n",
       "    </tr>\n",
       "    <tr>\n",
       "      <th>3</th>\n",
       "      <td>B</td>\n",
       "      <td>экран с обучением</td>\n",
       "      <td>281</td>\n",
       "      <td>2539</td>\n",
       "      <td>0.110673</td>\n",
       "    </tr>\n",
       "    <tr>\n",
       "      <th>4</th>\n",
       "      <td>B</td>\n",
       "      <td>экран с предложениями</td>\n",
       "      <td>1533</td>\n",
       "      <td>2539</td>\n",
       "      <td>0.603781</td>\n",
       "    </tr>\n",
       "    <tr>\n",
       "      <th>5</th>\n",
       "      <td>big_A</td>\n",
       "      <td>главный экран</td>\n",
       "      <td>4930</td>\n",
       "      <td>5002</td>\n",
       "      <td>0.985606</td>\n",
       "    </tr>\n",
       "    <tr>\n",
       "      <th>6</th>\n",
       "      <td>big_A</td>\n",
       "      <td>экран корзины</td>\n",
       "      <td>2505</td>\n",
       "      <td>5002</td>\n",
       "      <td>0.500800</td>\n",
       "    </tr>\n",
       "    <tr>\n",
       "      <th>7</th>\n",
       "      <td>big_A</td>\n",
       "      <td>экран об оплате платежа</td>\n",
       "      <td>2358</td>\n",
       "      <td>5002</td>\n",
       "      <td>0.471411</td>\n",
       "    </tr>\n",
       "    <tr>\n",
       "      <th>8</th>\n",
       "      <td>big_A</td>\n",
       "      <td>экран с обучением</td>\n",
       "      <td>562</td>\n",
       "      <td>5002</td>\n",
       "      <td>0.112355</td>\n",
       "    </tr>\n",
       "    <tr>\n",
       "      <th>9</th>\n",
       "      <td>big_A</td>\n",
       "      <td>экран с предложениями</td>\n",
       "      <td>3069</td>\n",
       "      <td>5002</td>\n",
       "      <td>0.613555</td>\n",
       "    </tr>\n",
       "  </tbody>\n",
       "</table>\n",
       "</div>"
      ],
      "text/plain": [
       "   group           event_name_rus  count_users_event  count_users_group  \\\n",
       "0      B            главный экран               2497               2539   \n",
       "1      B            экран корзины               1233               2539   \n",
       "2      B  экран об оплате платежа               1183               2539   \n",
       "3      B        экран с обучением                281               2539   \n",
       "4      B    экран с предложениями               1533               2539   \n",
       "5  big_A            главный экран               4930               5002   \n",
       "6  big_A            экран корзины               2505               5002   \n",
       "7  big_A  экран об оплате платежа               2358               5002   \n",
       "8  big_A        экран с обучением                562               5002   \n",
       "9  big_A    экран с предложениями               3069               5002   \n",
       "\n",
       "   user_share  \n",
       "0    0.983458  \n",
       "1    0.485624  \n",
       "2    0.465931  \n",
       "3    0.110673  \n",
       "4    0.603781  \n",
       "5    0.985606  \n",
       "6    0.500800  \n",
       "7    0.471411  \n",
       "8    0.112355  \n",
       "9    0.613555  "
      ]
     },
     "execution_count": 70,
     "metadata": {},
     "output_type": "execute_result"
    }
   ],
   "source": [
    "groups_events_count_users['user_share'] = (groups_events_count_users['count_users_event'] /\n",
    "                                           groups_events_count_users['count_users_group'])\n",
    "\n",
    "groups_events_count_users"
   ]
  },
  {
   "cell_type": "markdown",
   "metadata": {},
   "source": [
    "применим функцию к этой таблице"
   ]
  },
  {
   "cell_type": "code",
   "execution_count": 71,
   "metadata": {
    "trusted": true
   },
   "outputs": [
    {
     "name": "stdout",
     "output_type": "stream",
     "text": [
      "-//-//-//-//-//-//-//-//-//-//-//-//-//-//-//-//-//-//-//-//-//-//-//-//-//-//-//-//-//-// \n",
      "\n",
      "событие:  ГЛАВНЫЙ ЭКРАН \n",
      "\n",
      "доля пользователей совершивших событие\n",
      "в группе big_A: 98.56 %\n",
      "в группе B: 98.35 %\n",
      "\n",
      "p_value = 0.470\n",
      "принимаем гипотезу: среднее количество пользователей  обеих групп совершивших событие одинаковое\n",
      "-//-//-//-//-//-//-//-//-//-//-//-//-//-//-//-//-//-//-//-//-//-//-//-//-//-//-//-//-//-// \n",
      "\n",
      "событие:  ЭКРАН С ПРЕДЛОЖЕНИЯМИ \n",
      "\n",
      "доля пользователей совершивших событие\n",
      "в группе big_A: 61.36 %\n",
      "в группе B: 60.38 %\n",
      "\n",
      "p_value = 0.411\n",
      "принимаем гипотезу: среднее количество пользователей  обеих групп совершивших событие одинаковое\n",
      "-//-//-//-//-//-//-//-//-//-//-//-//-//-//-//-//-//-//-//-//-//-//-//-//-//-//-//-//-//-// \n",
      "\n",
      "событие:  ЭКРАН КОРЗИНЫ \n",
      "\n",
      "доля пользователей совершивших событие\n",
      "в группе big_A: 50.08 %\n",
      "в группе B: 48.56 %\n",
      "\n",
      "p_value = 0.213\n",
      "принимаем гипотезу: среднее количество пользователей  обеих групп совершивших событие одинаковое\n",
      "-//-//-//-//-//-//-//-//-//-//-//-//-//-//-//-//-//-//-//-//-//-//-//-//-//-//-//-//-//-// \n",
      "\n",
      "событие:  ЭКРАН ОБ ОПЛАТЕ ПЛАТЕЖА \n",
      "\n",
      "доля пользователей совершивших событие\n",
      "в группе big_A: 47.14 %\n",
      "в группе B: 46.59 %\n",
      "\n",
      "p_value = 0.652\n",
      "принимаем гипотезу: среднее количество пользователей  обеих групп совершивших событие одинаковое\n",
      "-//-//-//-//-//-//-//-//-//-//-//-//-//-//-//-//-//-//-//-//-//-//-//-//-//-//-//-//-//-// \n",
      "\n",
      "событие:  ЭКРАН С ОБУЧЕНИЕМ \n",
      "\n",
      "доля пользователей совершивших событие\n",
      "в группе big_A: 11.24 %\n",
      "в группе B: 11.07 %\n",
      "\n",
      "p_value = 0.827\n",
      "принимаем гипотезу: среднее количество пользователей  обеих групп совершивших событие одинаковое\n"
     ]
    }
   ],
   "source": [
    "results_Z_test(list_events=list_events,\n",
    "               list_groups=['big_A','B'],\n",
    "               hipotesys=hipotesys_1)"
   ]
  },
  {
   "cell_type": "markdown",
   "metadata": {},
   "source": [
    "Вывод: изменение шрифта значительно не повлияло на пользователей приложения."
   ]
  },
  {
   "cell_type": "markdown",
   "metadata": {},
   "source": [
    "# Итоговый вывод"
   ]
  },
  {
   "cell_type": "markdown",
   "metadata": {},
   "source": [
    "Сделано:   \n",
    "отформатировали названия столбцов,    \n",
    " удалили дубликаты,    \n",
    "  привели данные к нужному типу    \n",
    "   и создали столбцы с  датой и временем      \n",
    "   и просто датой.     \n",
    "   Переименовали группы,      \n",
    "   рассчитали период за который были взяты данные,     \n",
    "    нашли аномалии и отфильтровали их,     \n",
    "    рассчитали долю потерянных событий и пользователей     \n",
    "    и рассчитали число порльзователей в группах.   \n",
    "\n",
    "Перевели события, посмотрели в каких последовательнотях они могут идти, нашли событие на которм отсеиваются больше всего пользователей, построили вороноку событий и нашли конверсию пользователей на каждом событиии. \n",
    "Узнали размеры групп и проверили их на пересечение.\n",
    "Затем исследовали результаты ААВ теста с помощью теста Манна-Уитни. "
   ]
  },
  {
   "cell_type": "markdown",
   "metadata": {},
   "source": [
    "Выяснили:    \n",
    " - данные взяты с 25-07-2019 - по 08-08-2019   \n",
    " - что 95% пользователей совершают менее 89 событий\n",
    " - данных за июль почти нет- поэто му взяты данные за август\n",
    " - группы после очистки от аномалий группы незначительно отличаются по количеству пользователей\n",
    " \n",
    " - что последовательности событий начинаются в основном с главнеого экрана , но далее могут идти в разном порядке   \n",
    " - что с главного экрана переходит всего 60% пользователей   \n",
    " - контрольные группы и экспериментальная  между собой не пересекаются  \n",
    "\n",
    " Рекомендации по поводу главного экрана:   \n",
    "- провести исследования (интервью, опросы, анализ метрик) для понимания причин, почему 40% пользователей не переходят дальше.\n",
    "-  Оптимизация интерфейса: Убедитесь, что элементы интерфейса понятны и бросаются в глаза а информация на экраня ясная и убедительная .    \n",
    "Проверьте, достаточно ли привлекательны кнопки или ссылки для перехода.\n",
    "- Проверить, что переход на следующий шаг легкий и интуитивно понятный.\n",
    "   \n",
    "\n",
    " Применив тест Z-тест и поправку Бонсферони, выяснили: \n",
    " - разниц между контрольными группами по каждому событию нет\n",
    " - разниц между группой с измененным шрифтом  и каждой контрольной котрольной группой по каждому событию нет\n",
    " - разниц между группой с измененным шрифтом и обьединенными контрольными группами нет\n",
    "\n",
    "\n",
    "\n",
    "Итог:\n",
    "- примерно 60% пользователей переходят с главного экрана на экран с предложениями, \n",
    "- с экрана с предложениями переходит на экран корзины примерно 80% \n",
    "- а с корзины до оплаты доходит 94 %.\n",
    "- пользователи совершают события в разной последовательности , но начинают с главного экрана.   \n",
    "- А 30% с главного экрана переходят а экран оплаты затем в корзину и потом смотрят предложения.\n",
    "- Изменение шрифта в приложении не повлияло на пользователей."
   ]
  }
 ],
 "metadata": {
  "ExecuteTimeLog": [
   {
    "duration": 1038,
    "start_time": "2024-11-02T12:06:49.116Z"
   },
   {
    "duration": 669,
    "start_time": "2024-11-02T12:06:50.156Z"
   },
   {
    "duration": 3,
    "start_time": "2024-11-02T12:06:50.827Z"
   },
   {
    "duration": 23,
    "start_time": "2024-11-02T12:06:50.832Z"
   },
   {
    "duration": 9,
    "start_time": "2024-11-02T12:06:50.857Z"
   },
   {
    "duration": 143,
    "start_time": "2024-11-02T12:06:50.868Z"
   },
   {
    "duration": 71,
    "start_time": "2024-11-02T12:06:51.013Z"
   },
   {
    "duration": 192,
    "start_time": "2024-11-02T12:06:51.086Z"
   },
   {
    "duration": 133,
    "start_time": "2024-11-02T12:06:51.280Z"
   },
   {
    "duration": 9,
    "start_time": "2024-11-02T12:06:51.415Z"
   },
   {
    "duration": 3,
    "start_time": "2024-11-02T12:06:51.426Z"
   },
   {
    "duration": 108,
    "start_time": "2024-11-02T12:06:51.431Z"
   },
   {
    "duration": 4,
    "start_time": "2024-11-02T12:06:51.540Z"
   },
   {
    "duration": 21,
    "start_time": "2024-11-02T12:06:51.547Z"
   },
   {
    "duration": 44,
    "start_time": "2024-11-02T12:06:51.570Z"
   },
   {
    "duration": 11,
    "start_time": "2024-11-02T12:06:51.616Z"
   },
   {
    "duration": 5,
    "start_time": "2024-11-02T12:06:51.628Z"
   },
   {
    "duration": 64,
    "start_time": "2024-11-02T12:06:51.634Z"
   },
   {
    "duration": 204,
    "start_time": "2024-11-02T12:06:51.700Z"
   },
   {
    "duration": 50,
    "start_time": "2024-11-02T12:06:51.906Z"
   },
   {
    "duration": 642,
    "start_time": "2024-11-02T12:06:51.957Z"
   },
   {
    "duration": 29,
    "start_time": "2024-11-02T12:06:52.601Z"
   },
   {
    "duration": 52,
    "start_time": "2024-11-02T12:06:52.631Z"
   },
   {
    "duration": 103,
    "start_time": "2024-11-02T12:06:52.685Z"
   },
   {
    "duration": 6,
    "start_time": "2024-11-02T12:06:52.791Z"
   },
   {
    "duration": 97,
    "start_time": "2024-11-02T12:06:52.800Z"
   },
   {
    "duration": 25,
    "start_time": "2024-11-02T12:06:52.899Z"
   },
   {
    "duration": 30,
    "start_time": "2024-11-02T12:06:52.926Z"
   },
   {
    "duration": 9,
    "start_time": "2024-11-02T12:06:52.977Z"
   },
   {
    "duration": 6,
    "start_time": "2024-11-02T12:06:52.990Z"
   },
   {
    "duration": 183,
    "start_time": "2024-11-02T12:06:52.999Z"
   },
   {
    "duration": 0,
    "start_time": "2024-11-02T12:06:53.187Z"
   },
   {
    "duration": 0,
    "start_time": "2024-11-02T12:06:53.188Z"
   },
   {
    "duration": 0,
    "start_time": "2024-11-02T12:06:53.190Z"
   },
   {
    "duration": 0,
    "start_time": "2024-11-02T12:06:53.197Z"
   },
   {
    "duration": 0,
    "start_time": "2024-11-02T12:06:53.199Z"
   },
   {
    "duration": 0,
    "start_time": "2024-11-02T12:06:53.200Z"
   },
   {
    "duration": 0,
    "start_time": "2024-11-02T12:06:53.201Z"
   },
   {
    "duration": 0,
    "start_time": "2024-11-02T12:06:53.202Z"
   },
   {
    "duration": 0,
    "start_time": "2024-11-02T12:06:53.203Z"
   },
   {
    "duration": 0,
    "start_time": "2024-11-02T12:06:53.205Z"
   },
   {
    "duration": 0,
    "start_time": "2024-11-02T12:06:53.206Z"
   },
   {
    "duration": 0,
    "start_time": "2024-11-02T12:06:53.208Z"
   },
   {
    "duration": 0,
    "start_time": "2024-11-02T12:06:53.209Z"
   },
   {
    "duration": 0,
    "start_time": "2024-11-02T12:06:53.211Z"
   },
   {
    "duration": 0,
    "start_time": "2024-11-02T12:06:53.212Z"
   },
   {
    "duration": 0,
    "start_time": "2024-11-02T12:06:53.214Z"
   },
   {
    "duration": 0,
    "start_time": "2024-11-02T12:06:53.216Z"
   },
   {
    "duration": 0,
    "start_time": "2024-11-02T12:06:53.217Z"
   },
   {
    "duration": 0,
    "start_time": "2024-11-02T12:06:53.218Z"
   },
   {
    "duration": 0,
    "start_time": "2024-11-02T12:06:53.219Z"
   },
   {
    "duration": 0,
    "start_time": "2024-11-02T12:06:53.220Z"
   },
   {
    "duration": 0,
    "start_time": "2024-11-02T12:06:53.221Z"
   },
   {
    "duration": 0,
    "start_time": "2024-11-02T12:06:53.221Z"
   },
   {
    "duration": 0,
    "start_time": "2024-11-02T12:06:53.222Z"
   },
   {
    "duration": 0,
    "start_time": "2024-11-02T12:06:53.224Z"
   },
   {
    "duration": 0,
    "start_time": "2024-11-02T12:06:53.225Z"
   },
   {
    "duration": 1,
    "start_time": "2024-11-02T12:06:53.226Z"
   },
   {
    "duration": 0,
    "start_time": "2024-11-02T12:06:53.276Z"
   },
   {
    "duration": 0,
    "start_time": "2024-11-02T12:06:53.277Z"
   },
   {
    "duration": 0,
    "start_time": "2024-11-02T12:06:53.278Z"
   },
   {
    "duration": 0,
    "start_time": "2024-11-02T12:06:53.279Z"
   },
   {
    "duration": 0,
    "start_time": "2024-11-02T12:06:53.281Z"
   },
   {
    "duration": 0,
    "start_time": "2024-11-02T12:06:53.282Z"
   },
   {
    "duration": 1079,
    "start_time": "2024-11-02T12:08:03.873Z"
   },
   {
    "duration": 510,
    "start_time": "2024-11-02T12:08:04.955Z"
   },
   {
    "duration": 3,
    "start_time": "2024-11-02T12:08:05.467Z"
   },
   {
    "duration": 34,
    "start_time": "2024-11-02T12:08:05.476Z"
   },
   {
    "duration": 15,
    "start_time": "2024-11-02T12:08:05.513Z"
   },
   {
    "duration": 136,
    "start_time": "2024-11-02T12:08:05.529Z"
   },
   {
    "duration": 66,
    "start_time": "2024-11-02T12:08:05.667Z"
   },
   {
    "duration": 197,
    "start_time": "2024-11-02T12:08:05.735Z"
   },
   {
    "duration": 136,
    "start_time": "2024-11-02T12:08:05.933Z"
   },
   {
    "duration": 43,
    "start_time": "2024-11-02T12:08:06.070Z"
   },
   {
    "duration": 8,
    "start_time": "2024-11-02T12:08:06.115Z"
   },
   {
    "duration": 95,
    "start_time": "2024-11-02T12:08:06.125Z"
   },
   {
    "duration": 3,
    "start_time": "2024-11-02T12:08:06.222Z"
   },
   {
    "duration": 24,
    "start_time": "2024-11-02T12:08:06.228Z"
   },
   {
    "duration": 28,
    "start_time": "2024-11-02T12:08:06.254Z"
   },
   {
    "duration": 16,
    "start_time": "2024-11-02T12:08:06.284Z"
   },
   {
    "duration": 4,
    "start_time": "2024-11-02T12:08:06.302Z"
   },
   {
    "duration": 40,
    "start_time": "2024-11-02T12:08:06.308Z"
   },
   {
    "duration": 204,
    "start_time": "2024-11-02T12:08:06.375Z"
   },
   {
    "duration": 65,
    "start_time": "2024-11-02T12:08:06.581Z"
   },
   {
    "duration": 651,
    "start_time": "2024-11-02T12:08:06.647Z"
   },
   {
    "duration": 75,
    "start_time": "2024-11-02T12:08:07.301Z"
   },
   {
    "duration": 46,
    "start_time": "2024-11-02T12:08:07.378Z"
   },
   {
    "duration": 89,
    "start_time": "2024-11-02T12:08:07.426Z"
   },
   {
    "duration": 5,
    "start_time": "2024-11-02T12:08:07.516Z"
   },
   {
    "duration": 94,
    "start_time": "2024-11-02T12:08:07.523Z"
   },
   {
    "duration": 27,
    "start_time": "2024-11-02T12:08:07.619Z"
   },
   {
    "duration": 44,
    "start_time": "2024-11-02T12:08:07.648Z"
   },
   {
    "duration": 7,
    "start_time": "2024-11-02T12:08:07.695Z"
   },
   {
    "duration": 4,
    "start_time": "2024-11-02T12:08:07.704Z"
   },
   {
    "duration": 196,
    "start_time": "2024-11-02T12:08:07.710Z"
   },
   {
    "duration": 0,
    "start_time": "2024-11-02T12:08:07.909Z"
   },
   {
    "duration": 0,
    "start_time": "2024-11-02T12:08:07.910Z"
   },
   {
    "duration": 0,
    "start_time": "2024-11-02T12:08:07.911Z"
   },
   {
    "duration": 0,
    "start_time": "2024-11-02T12:08:07.912Z"
   },
   {
    "duration": 0,
    "start_time": "2024-11-02T12:08:07.914Z"
   },
   {
    "duration": 0,
    "start_time": "2024-11-02T12:08:07.915Z"
   },
   {
    "duration": 0,
    "start_time": "2024-11-02T12:08:07.916Z"
   },
   {
    "duration": 0,
    "start_time": "2024-11-02T12:08:07.917Z"
   },
   {
    "duration": 0,
    "start_time": "2024-11-02T12:08:07.918Z"
   },
   {
    "duration": 0,
    "start_time": "2024-11-02T12:08:07.920Z"
   },
   {
    "duration": 0,
    "start_time": "2024-11-02T12:08:07.921Z"
   },
   {
    "duration": 0,
    "start_time": "2024-11-02T12:08:07.922Z"
   },
   {
    "duration": 0,
    "start_time": "2024-11-02T12:08:07.923Z"
   },
   {
    "duration": 0,
    "start_time": "2024-11-02T12:08:07.924Z"
   },
   {
    "duration": 0,
    "start_time": "2024-11-02T12:08:07.925Z"
   },
   {
    "duration": 0,
    "start_time": "2024-11-02T12:08:07.926Z"
   },
   {
    "duration": 0,
    "start_time": "2024-11-02T12:08:07.927Z"
   },
   {
    "duration": 0,
    "start_time": "2024-11-02T12:08:07.928Z"
   },
   {
    "duration": 0,
    "start_time": "2024-11-02T12:08:07.929Z"
   },
   {
    "duration": 0,
    "start_time": "2024-11-02T12:08:07.930Z"
   },
   {
    "duration": 0,
    "start_time": "2024-11-02T12:08:07.931Z"
   },
   {
    "duration": 0,
    "start_time": "2024-11-02T12:08:07.933Z"
   },
   {
    "duration": 0,
    "start_time": "2024-11-02T12:08:07.977Z"
   },
   {
    "duration": 0,
    "start_time": "2024-11-02T12:08:07.978Z"
   },
   {
    "duration": 0,
    "start_time": "2024-11-02T12:08:07.980Z"
   },
   {
    "duration": 0,
    "start_time": "2024-11-02T12:08:07.981Z"
   },
   {
    "duration": 0,
    "start_time": "2024-11-02T12:08:07.982Z"
   },
   {
    "duration": 0,
    "start_time": "2024-11-02T12:08:07.984Z"
   },
   {
    "duration": 0,
    "start_time": "2024-11-02T12:08:07.985Z"
   },
   {
    "duration": 0,
    "start_time": "2024-11-02T12:08:07.986Z"
   },
   {
    "duration": 0,
    "start_time": "2024-11-02T12:08:07.988Z"
   },
   {
    "duration": 0,
    "start_time": "2024-11-02T12:08:07.989Z"
   },
   {
    "duration": 0,
    "start_time": "2024-11-02T12:08:07.990Z"
   },
   {
    "duration": 1024,
    "start_time": "2024-11-02T12:30:05.510Z"
   },
   {
    "duration": 918,
    "start_time": "2024-11-02T12:30:06.536Z"
   },
   {
    "duration": 4,
    "start_time": "2024-11-02T12:30:07.455Z"
   },
   {
    "duration": 43,
    "start_time": "2024-11-02T12:30:07.461Z"
   },
   {
    "duration": 12,
    "start_time": "2024-11-02T12:30:07.505Z"
   },
   {
    "duration": 136,
    "start_time": "2024-11-02T12:30:07.518Z"
   },
   {
    "duration": 71,
    "start_time": "2024-11-02T12:30:07.656Z"
   },
   {
    "duration": 213,
    "start_time": "2024-11-02T12:30:07.729Z"
   },
   {
    "duration": 138,
    "start_time": "2024-11-02T12:30:07.943Z"
   },
   {
    "duration": 14,
    "start_time": "2024-11-02T12:30:08.086Z"
   },
   {
    "duration": 10,
    "start_time": "2024-11-02T12:30:08.101Z"
   },
   {
    "duration": 66,
    "start_time": "2024-11-02T12:30:08.113Z"
   },
   {
    "duration": 8,
    "start_time": "2024-11-02T12:30:08.184Z"
   },
   {
    "duration": 11,
    "start_time": "2024-11-02T12:30:08.200Z"
   },
   {
    "duration": 39,
    "start_time": "2024-11-02T12:30:08.213Z"
   },
   {
    "duration": 42,
    "start_time": "2024-11-02T12:30:08.254Z"
   },
   {
    "duration": 4,
    "start_time": "2024-11-02T12:30:08.298Z"
   },
   {
    "duration": 38,
    "start_time": "2024-11-02T12:30:08.304Z"
   },
   {
    "duration": 226,
    "start_time": "2024-11-02T12:30:08.343Z"
   },
   {
    "duration": 60,
    "start_time": "2024-11-02T12:30:08.576Z"
   },
   {
    "duration": 734,
    "start_time": "2024-11-02T12:30:08.638Z"
   },
   {
    "duration": 39,
    "start_time": "2024-11-02T12:30:09.374Z"
   },
   {
    "duration": 80,
    "start_time": "2024-11-02T12:30:09.415Z"
   },
   {
    "duration": 81,
    "start_time": "2024-11-02T12:30:09.498Z"
   },
   {
    "duration": 4,
    "start_time": "2024-11-02T12:30:09.583Z"
   },
   {
    "duration": 54,
    "start_time": "2024-11-02T12:30:09.590Z"
   },
   {
    "duration": 47,
    "start_time": "2024-11-02T12:30:09.646Z"
   },
   {
    "duration": 31,
    "start_time": "2024-11-02T12:30:09.700Z"
   },
   {
    "duration": 7,
    "start_time": "2024-11-02T12:30:09.732Z"
   },
   {
    "duration": 4,
    "start_time": "2024-11-02T12:30:09.741Z"
   },
   {
    "duration": 171,
    "start_time": "2024-11-02T12:30:09.776Z"
   },
   {
    "duration": 0,
    "start_time": "2024-11-02T12:30:09.949Z"
   },
   {
    "duration": 0,
    "start_time": "2024-11-02T12:30:09.951Z"
   },
   {
    "duration": 0,
    "start_time": "2024-11-02T12:30:09.952Z"
   },
   {
    "duration": 0,
    "start_time": "2024-11-02T12:30:09.954Z"
   },
   {
    "duration": 0,
    "start_time": "2024-11-02T12:30:09.955Z"
   },
   {
    "duration": 0,
    "start_time": "2024-11-02T12:30:09.956Z"
   },
   {
    "duration": 0,
    "start_time": "2024-11-02T12:30:09.958Z"
   },
   {
    "duration": 0,
    "start_time": "2024-11-02T12:30:09.959Z"
   },
   {
    "duration": 0,
    "start_time": "2024-11-02T12:30:09.980Z"
   },
   {
    "duration": 0,
    "start_time": "2024-11-02T12:30:09.982Z"
   },
   {
    "duration": 0,
    "start_time": "2024-11-02T12:30:09.983Z"
   },
   {
    "duration": 0,
    "start_time": "2024-11-02T12:30:09.985Z"
   },
   {
    "duration": 0,
    "start_time": "2024-11-02T12:30:09.988Z"
   },
   {
    "duration": 0,
    "start_time": "2024-11-02T12:30:09.989Z"
   },
   {
    "duration": 0,
    "start_time": "2024-11-02T12:30:09.991Z"
   },
   {
    "duration": 0,
    "start_time": "2024-11-02T12:30:09.992Z"
   },
   {
    "duration": 0,
    "start_time": "2024-11-02T12:30:09.994Z"
   },
   {
    "duration": 1,
    "start_time": "2024-11-02T12:30:09.995Z"
   },
   {
    "duration": 0,
    "start_time": "2024-11-02T12:30:09.997Z"
   },
   {
    "duration": 0,
    "start_time": "2024-11-02T12:30:09.999Z"
   },
   {
    "duration": 0,
    "start_time": "2024-11-02T12:30:10.000Z"
   },
   {
    "duration": 0,
    "start_time": "2024-11-02T12:30:10.001Z"
   },
   {
    "duration": 1,
    "start_time": "2024-11-02T12:30:10.002Z"
   },
   {
    "duration": 0,
    "start_time": "2024-11-02T12:30:10.004Z"
   },
   {
    "duration": 0,
    "start_time": "2024-11-02T12:30:10.006Z"
   },
   {
    "duration": 0,
    "start_time": "2024-11-02T12:30:10.007Z"
   },
   {
    "duration": 0,
    "start_time": "2024-11-02T12:30:10.008Z"
   },
   {
    "duration": 1,
    "start_time": "2024-11-02T12:30:10.009Z"
   },
   {
    "duration": 0,
    "start_time": "2024-11-02T12:30:10.011Z"
   },
   {
    "duration": 0,
    "start_time": "2024-11-02T12:30:10.012Z"
   },
   {
    "duration": 0,
    "start_time": "2024-11-02T12:30:10.013Z"
   },
   {
    "duration": 0,
    "start_time": "2024-11-02T12:30:10.014Z"
   },
   {
    "duration": 0,
    "start_time": "2024-11-02T12:30:10.015Z"
   },
   {
    "duration": 901,
    "start_time": "2024-11-05T23:10:38.946Z"
   },
   {
    "duration": 548,
    "start_time": "2024-11-05T23:10:39.849Z"
   },
   {
    "duration": 4,
    "start_time": "2024-11-05T23:10:40.399Z"
   },
   {
    "duration": 9,
    "start_time": "2024-11-05T23:10:40.404Z"
   },
   {
    "duration": 6,
    "start_time": "2024-11-05T23:10:40.416Z"
   },
   {
    "duration": 103,
    "start_time": "2024-11-05T23:10:40.424Z"
   },
   {
    "duration": 58,
    "start_time": "2024-11-05T23:10:40.529Z"
   },
   {
    "duration": 178,
    "start_time": "2024-11-05T23:10:40.589Z"
   },
   {
    "duration": 90,
    "start_time": "2024-11-05T23:10:40.769Z"
   },
   {
    "duration": 8,
    "start_time": "2024-11-05T23:10:40.861Z"
   },
   {
    "duration": 4,
    "start_time": "2024-11-05T23:10:40.871Z"
   },
   {
    "duration": 43,
    "start_time": "2024-11-05T23:10:40.877Z"
   },
   {
    "duration": 3,
    "start_time": "2024-11-05T23:10:40.922Z"
   },
   {
    "duration": 16,
    "start_time": "2024-11-05T23:10:40.928Z"
   },
   {
    "duration": 19,
    "start_time": "2024-11-05T23:10:40.957Z"
   },
   {
    "duration": 9,
    "start_time": "2024-11-05T23:10:40.977Z"
   },
   {
    "duration": 3,
    "start_time": "2024-11-05T23:10:40.987Z"
   },
   {
    "duration": 35,
    "start_time": "2024-11-05T23:10:40.991Z"
   },
   {
    "duration": 147,
    "start_time": "2024-11-05T23:10:41.027Z"
   },
   {
    "duration": 41,
    "start_time": "2024-11-05T23:10:41.175Z"
   },
   {
    "duration": 515,
    "start_time": "2024-11-05T23:10:41.217Z"
   },
   {
    "duration": 25,
    "start_time": "2024-11-05T23:10:41.733Z"
   },
   {
    "duration": 16,
    "start_time": "2024-11-05T23:10:41.759Z"
   },
   {
    "duration": 81,
    "start_time": "2024-11-05T23:10:41.777Z"
   },
   {
    "duration": 3,
    "start_time": "2024-11-05T23:10:41.860Z"
   },
   {
    "duration": 36,
    "start_time": "2024-11-05T23:10:41.864Z"
   },
   {
    "duration": 65,
    "start_time": "2024-11-05T23:10:41.901Z"
   },
   {
    "duration": 15,
    "start_time": "2024-11-05T23:10:41.967Z"
   },
   {
    "duration": 4,
    "start_time": "2024-11-05T23:10:41.984Z"
   },
   {
    "duration": 4,
    "start_time": "2024-11-05T23:10:41.989Z"
   },
   {
    "duration": 1441,
    "start_time": "2024-11-05T23:10:41.994Z"
   },
   {
    "duration": 11,
    "start_time": "2024-11-05T23:10:43.436Z"
   },
   {
    "duration": 21,
    "start_time": "2024-11-05T23:10:43.457Z"
   },
   {
    "duration": 4,
    "start_time": "2024-11-05T23:10:43.479Z"
   },
   {
    "duration": 18,
    "start_time": "2024-11-05T23:10:43.484Z"
   },
   {
    "duration": 28,
    "start_time": "2024-11-05T23:10:43.503Z"
   },
   {
    "duration": 1361,
    "start_time": "2024-11-05T23:10:43.532Z"
   },
   {
    "duration": 0,
    "start_time": "2024-11-05T23:10:44.896Z"
   },
   {
    "duration": 0,
    "start_time": "2024-11-05T23:10:44.896Z"
   },
   {
    "duration": 0,
    "start_time": "2024-11-05T23:10:44.897Z"
   },
   {
    "duration": 0,
    "start_time": "2024-11-05T23:10:44.898Z"
   },
   {
    "duration": 0,
    "start_time": "2024-11-05T23:10:44.899Z"
   },
   {
    "duration": 0,
    "start_time": "2024-11-05T23:10:44.900Z"
   },
   {
    "duration": 0,
    "start_time": "2024-11-05T23:10:44.901Z"
   },
   {
    "duration": 0,
    "start_time": "2024-11-05T23:10:44.902Z"
   },
   {
    "duration": 0,
    "start_time": "2024-11-05T23:10:44.903Z"
   },
   {
    "duration": 0,
    "start_time": "2024-11-05T23:10:44.903Z"
   },
   {
    "duration": 0,
    "start_time": "2024-11-05T23:10:44.904Z"
   },
   {
    "duration": 0,
    "start_time": "2024-11-05T23:10:44.905Z"
   },
   {
    "duration": 0,
    "start_time": "2024-11-05T23:10:44.906Z"
   },
   {
    "duration": 0,
    "start_time": "2024-11-05T23:10:44.907Z"
   },
   {
    "duration": 0,
    "start_time": "2024-11-05T23:10:44.908Z"
   },
   {
    "duration": 0,
    "start_time": "2024-11-05T23:10:44.909Z"
   },
   {
    "duration": 0,
    "start_time": "2024-11-05T23:10:44.909Z"
   },
   {
    "duration": 0,
    "start_time": "2024-11-05T23:10:44.910Z"
   },
   {
    "duration": 0,
    "start_time": "2024-11-05T23:10:44.911Z"
   },
   {
    "duration": 0,
    "start_time": "2024-11-05T23:10:44.912Z"
   },
   {
    "duration": 0,
    "start_time": "2024-11-05T23:10:44.913Z"
   },
   {
    "duration": 0,
    "start_time": "2024-11-05T23:10:44.914Z"
   },
   {
    "duration": 0,
    "start_time": "2024-11-05T23:10:44.914Z"
   },
   {
    "duration": 0,
    "start_time": "2024-11-05T23:10:44.915Z"
   },
   {
    "duration": 0,
    "start_time": "2024-11-05T23:10:44.916Z"
   },
   {
    "duration": 0,
    "start_time": "2024-11-05T23:10:44.917Z"
   },
   {
    "duration": 0,
    "start_time": "2024-11-05T23:10:44.917Z"
   },
   {
    "duration": 912,
    "start_time": "2024-11-05T23:30:48.251Z"
   },
   {
    "duration": 607,
    "start_time": "2024-11-05T23:30:49.165Z"
   },
   {
    "duration": 3,
    "start_time": "2024-11-05T23:30:49.774Z"
   },
   {
    "duration": 9,
    "start_time": "2024-11-05T23:30:49.779Z"
   },
   {
    "duration": 14,
    "start_time": "2024-11-05T23:30:49.789Z"
   },
   {
    "duration": 96,
    "start_time": "2024-11-05T23:30:49.804Z"
   },
   {
    "duration": 59,
    "start_time": "2024-11-05T23:30:49.902Z"
   },
   {
    "duration": 160,
    "start_time": "2024-11-05T23:30:49.963Z"
   },
   {
    "duration": 95,
    "start_time": "2024-11-05T23:30:50.124Z"
   },
   {
    "duration": 7,
    "start_time": "2024-11-05T23:30:50.221Z"
   },
   {
    "duration": 3,
    "start_time": "2024-11-05T23:30:50.230Z"
   },
   {
    "duration": 58,
    "start_time": "2024-11-05T23:30:50.235Z"
   },
   {
    "duration": 3,
    "start_time": "2024-11-05T23:30:50.295Z"
   },
   {
    "duration": 13,
    "start_time": "2024-11-05T23:30:50.299Z"
   },
   {
    "duration": 25,
    "start_time": "2024-11-05T23:30:50.313Z"
   },
   {
    "duration": 10,
    "start_time": "2024-11-05T23:30:50.358Z"
   },
   {
    "duration": 9,
    "start_time": "2024-11-05T23:30:50.370Z"
   },
   {
    "duration": 53,
    "start_time": "2024-11-05T23:30:50.381Z"
   },
   {
    "duration": 129,
    "start_time": "2024-11-05T23:30:50.436Z"
   },
   {
    "duration": 42,
    "start_time": "2024-11-05T23:30:50.567Z"
   },
   {
    "duration": 518,
    "start_time": "2024-11-05T23:30:50.611Z"
   },
   {
    "duration": 38,
    "start_time": "2024-11-05T23:30:51.131Z"
   },
   {
    "duration": 16,
    "start_time": "2024-11-05T23:30:51.170Z"
   },
   {
    "duration": 89,
    "start_time": "2024-11-05T23:30:51.188Z"
   },
   {
    "duration": 3,
    "start_time": "2024-11-05T23:30:51.279Z"
   },
   {
    "duration": 36,
    "start_time": "2024-11-05T23:30:51.283Z"
   },
   {
    "duration": 59,
    "start_time": "2024-11-05T23:30:51.320Z"
   },
   {
    "duration": 17,
    "start_time": "2024-11-05T23:30:51.384Z"
   },
   {
    "duration": 6,
    "start_time": "2024-11-05T23:30:51.402Z"
   },
   {
    "duration": 4,
    "start_time": "2024-11-05T23:30:51.410Z"
   },
   {
    "duration": 1506,
    "start_time": "2024-11-05T23:30:51.415Z"
   },
   {
    "duration": 13,
    "start_time": "2024-11-05T23:30:52.923Z"
   },
   {
    "duration": 25,
    "start_time": "2024-11-05T23:30:52.938Z"
   },
   {
    "duration": 5,
    "start_time": "2024-11-05T23:30:52.965Z"
   },
   {
    "duration": 11,
    "start_time": "2024-11-05T23:30:52.971Z"
   },
   {
    "duration": 31,
    "start_time": "2024-11-05T23:30:52.984Z"
   },
   {
    "duration": 1234,
    "start_time": "2024-11-05T23:30:53.016Z"
   },
   {
    "duration": 0,
    "start_time": "2024-11-05T23:30:54.251Z"
   },
   {
    "duration": 0,
    "start_time": "2024-11-05T23:30:54.252Z"
   },
   {
    "duration": 0,
    "start_time": "2024-11-05T23:30:54.254Z"
   },
   {
    "duration": 0,
    "start_time": "2024-11-05T23:30:54.255Z"
   },
   {
    "duration": 0,
    "start_time": "2024-11-05T23:30:54.255Z"
   },
   {
    "duration": 0,
    "start_time": "2024-11-05T23:30:54.257Z"
   },
   {
    "duration": 0,
    "start_time": "2024-11-05T23:30:54.258Z"
   },
   {
    "duration": 0,
    "start_time": "2024-11-05T23:30:54.258Z"
   },
   {
    "duration": 0,
    "start_time": "2024-11-05T23:30:54.259Z"
   },
   {
    "duration": 0,
    "start_time": "2024-11-05T23:30:54.260Z"
   },
   {
    "duration": 0,
    "start_time": "2024-11-05T23:30:54.261Z"
   },
   {
    "duration": 0,
    "start_time": "2024-11-05T23:30:54.262Z"
   },
   {
    "duration": 0,
    "start_time": "2024-11-05T23:30:54.263Z"
   },
   {
    "duration": 0,
    "start_time": "2024-11-05T23:30:54.264Z"
   },
   {
    "duration": 0,
    "start_time": "2024-11-05T23:30:54.265Z"
   },
   {
    "duration": 0,
    "start_time": "2024-11-05T23:30:54.265Z"
   },
   {
    "duration": 0,
    "start_time": "2024-11-05T23:30:54.266Z"
   },
   {
    "duration": 0,
    "start_time": "2024-11-05T23:30:54.267Z"
   },
   {
    "duration": 0,
    "start_time": "2024-11-05T23:30:54.268Z"
   },
   {
    "duration": 0,
    "start_time": "2024-11-05T23:30:54.268Z"
   },
   {
    "duration": 0,
    "start_time": "2024-11-05T23:30:54.269Z"
   },
   {
    "duration": 0,
    "start_time": "2024-11-05T23:30:54.270Z"
   },
   {
    "duration": 0,
    "start_time": "2024-11-05T23:30:54.271Z"
   },
   {
    "duration": 0,
    "start_time": "2024-11-05T23:30:54.272Z"
   },
   {
    "duration": 0,
    "start_time": "2024-11-05T23:30:54.272Z"
   },
   {
    "duration": 0,
    "start_time": "2024-11-05T23:30:54.273Z"
   },
   {
    "duration": 0,
    "start_time": "2024-11-05T23:30:54.274Z"
   },
   {
    "duration": 1009,
    "start_time": "2024-11-07T03:24:23.229Z"
   },
   {
    "duration": 698,
    "start_time": "2024-11-07T03:24:24.240Z"
   },
   {
    "duration": 3,
    "start_time": "2024-11-07T03:24:24.940Z"
   },
   {
    "duration": 20,
    "start_time": "2024-11-07T03:24:24.945Z"
   },
   {
    "duration": 11,
    "start_time": "2024-11-07T03:24:24.967Z"
   },
   {
    "duration": 110,
    "start_time": "2024-11-07T03:24:24.979Z"
   },
   {
    "duration": 64,
    "start_time": "2024-11-07T03:24:25.090Z"
   },
   {
    "duration": 182,
    "start_time": "2024-11-07T03:24:25.155Z"
   },
   {
    "duration": 116,
    "start_time": "2024-11-07T03:24:25.343Z"
   },
   {
    "duration": 8,
    "start_time": "2024-11-07T03:24:25.461Z"
   },
   {
    "duration": 5,
    "start_time": "2024-11-07T03:24:25.471Z"
   },
   {
    "duration": 69,
    "start_time": "2024-11-07T03:24:25.477Z"
   },
   {
    "duration": 66,
    "start_time": "2024-11-07T03:24:25.547Z"
   },
   {
    "duration": 38,
    "start_time": "2024-11-07T03:24:25.617Z"
   },
   {
    "duration": 12,
    "start_time": "2024-11-07T03:24:25.656Z"
   },
   {
    "duration": 139,
    "start_time": "2024-11-07T03:24:25.670Z"
   },
   {
    "duration": 5,
    "start_time": "2024-11-07T03:24:25.811Z"
   },
   {
    "duration": 15,
    "start_time": "2024-11-07T03:24:25.818Z"
   },
   {
    "duration": 26,
    "start_time": "2024-11-07T03:24:25.843Z"
   },
   {
    "duration": 11,
    "start_time": "2024-11-07T03:24:25.871Z"
   },
   {
    "duration": 197,
    "start_time": "2024-11-07T03:24:25.884Z"
   },
   {
    "duration": 42,
    "start_time": "2024-11-07T03:24:26.083Z"
   },
   {
    "duration": 587,
    "start_time": "2024-11-07T03:24:26.127Z"
   },
   {
    "duration": 59,
    "start_time": "2024-11-07T03:24:26.716Z"
   },
   {
    "duration": 67,
    "start_time": "2024-11-07T03:24:26.777Z"
   },
   {
    "duration": 101,
    "start_time": "2024-11-07T03:24:26.847Z"
   },
   {
    "duration": 5,
    "start_time": "2024-11-07T03:24:26.950Z"
   },
   {
    "duration": 16,
    "start_time": "2024-11-07T03:24:26.956Z"
   },
   {
    "duration": 10,
    "start_time": "2024-11-07T03:24:26.974Z"
   },
   {
    "duration": 5,
    "start_time": "2024-11-07T03:24:26.985Z"
   },
   {
    "duration": 71,
    "start_time": "2024-11-07T03:24:26.992Z"
   },
   {
    "duration": 32,
    "start_time": "2024-11-07T03:24:27.064Z"
   },
   {
    "duration": 23,
    "start_time": "2024-11-07T03:24:27.097Z"
   },
   {
    "duration": 24,
    "start_time": "2024-11-07T03:24:27.122Z"
   },
   {
    "duration": 4,
    "start_time": "2024-11-07T03:24:27.148Z"
   },
   {
    "duration": 1753,
    "start_time": "2024-11-07T03:24:27.153Z"
   },
   {
    "duration": 15,
    "start_time": "2024-11-07T03:24:28.907Z"
   },
   {
    "duration": 33,
    "start_time": "2024-11-07T03:24:28.924Z"
   },
   {
    "duration": 5,
    "start_time": "2024-11-07T03:24:28.958Z"
   },
   {
    "duration": 14,
    "start_time": "2024-11-07T03:24:28.965Z"
   },
   {
    "duration": 65,
    "start_time": "2024-11-07T03:24:28.982Z"
   },
   {
    "duration": 15,
    "start_time": "2024-11-07T03:24:29.049Z"
   },
   {
    "duration": 48,
    "start_time": "2024-11-07T03:24:29.065Z"
   },
   {
    "duration": 68,
    "start_time": "2024-11-07T03:24:29.115Z"
   },
   {
    "duration": 8,
    "start_time": "2024-11-07T03:24:29.184Z"
   },
   {
    "duration": 17,
    "start_time": "2024-11-07T03:24:29.193Z"
   },
   {
    "duration": 58,
    "start_time": "2024-11-07T03:24:29.212Z"
   },
   {
    "duration": 9,
    "start_time": "2024-11-07T03:24:29.271Z"
   },
   {
    "duration": 11,
    "start_time": "2024-11-07T03:24:29.282Z"
   },
   {
    "duration": 3,
    "start_time": "2024-11-07T03:24:29.295Z"
   },
   {
    "duration": 570,
    "start_time": "2024-11-07T03:24:29.299Z"
   },
   {
    "duration": 35,
    "start_time": "2024-11-07T03:24:29.871Z"
   },
   {
    "duration": 6,
    "start_time": "2024-11-07T03:24:29.908Z"
   },
   {
    "duration": 80,
    "start_time": "2024-11-07T03:24:29.916Z"
   },
   {
    "duration": 8,
    "start_time": "2024-11-07T03:24:29.998Z"
   },
   {
    "duration": 24,
    "start_time": "2024-11-07T03:24:30.008Z"
   },
   {
    "duration": 42,
    "start_time": "2024-11-07T03:24:30.034Z"
   },
   {
    "duration": 32,
    "start_time": "2024-11-07T03:24:30.078Z"
   },
   {
    "duration": 25,
    "start_time": "2024-11-07T03:24:30.112Z"
   },
   {
    "duration": 87,
    "start_time": "2024-11-07T03:24:30.139Z"
   },
   {
    "duration": 28,
    "start_time": "2024-11-07T03:24:30.228Z"
   },
   {
    "duration": 346,
    "start_time": "2024-11-07T03:24:30.257Z"
   },
   {
    "duration": 338,
    "start_time": "2024-11-07T03:24:30.605Z"
   },
   {
    "duration": 334,
    "start_time": "2024-11-07T03:24:30.944Z"
   },
   {
    "duration": 37,
    "start_time": "2024-11-07T03:24:31.280Z"
   },
   {
    "duration": 23,
    "start_time": "2024-11-07T03:24:31.319Z"
   },
   {
    "duration": 9,
    "start_time": "2024-11-07T03:24:31.344Z"
   },
   {
    "duration": 967,
    "start_time": "2024-11-07T03:34:25.128Z"
   },
   {
    "duration": 540,
    "start_time": "2024-11-07T03:34:26.097Z"
   },
   {
    "duration": 4,
    "start_time": "2024-11-07T03:34:26.638Z"
   },
   {
    "duration": 12,
    "start_time": "2024-11-07T03:34:26.643Z"
   },
   {
    "duration": 5,
    "start_time": "2024-11-07T03:34:26.658Z"
   },
   {
    "duration": 138,
    "start_time": "2024-11-07T03:34:26.664Z"
   },
   {
    "duration": 63,
    "start_time": "2024-11-07T03:34:26.803Z"
   },
   {
    "duration": 166,
    "start_time": "2024-11-07T03:34:26.868Z"
   },
   {
    "duration": 110,
    "start_time": "2024-11-07T03:34:27.036Z"
   },
   {
    "duration": 9,
    "start_time": "2024-11-07T03:34:27.148Z"
   },
   {
    "duration": 4,
    "start_time": "2024-11-07T03:34:27.159Z"
   },
   {
    "duration": 53,
    "start_time": "2024-11-07T03:34:27.165Z"
   },
   {
    "duration": 85,
    "start_time": "2024-11-07T03:34:27.219Z"
   },
   {
    "duration": 10,
    "start_time": "2024-11-07T03:34:27.307Z"
   },
   {
    "duration": 26,
    "start_time": "2024-11-07T03:34:27.318Z"
   },
   {
    "duration": 135,
    "start_time": "2024-11-07T03:34:27.345Z"
   },
   {
    "duration": 4,
    "start_time": "2024-11-07T03:34:27.481Z"
   },
   {
    "duration": 9,
    "start_time": "2024-11-07T03:34:27.486Z"
   },
   {
    "duration": 26,
    "start_time": "2024-11-07T03:34:27.496Z"
   },
   {
    "duration": 23,
    "start_time": "2024-11-07T03:34:27.523Z"
   },
   {
    "duration": 179,
    "start_time": "2024-11-07T03:34:27.547Z"
   },
   {
    "duration": 41,
    "start_time": "2024-11-07T03:34:27.728Z"
   },
   {
    "duration": 616,
    "start_time": "2024-11-07T03:34:27.770Z"
   },
   {
    "duration": 58,
    "start_time": "2024-11-07T03:34:28.387Z"
   },
   {
    "duration": 15,
    "start_time": "2024-11-07T03:34:28.447Z"
   },
   {
    "duration": 100,
    "start_time": "2024-11-07T03:34:28.464Z"
   },
   {
    "duration": 4,
    "start_time": "2024-11-07T03:34:28.565Z"
   },
   {
    "duration": 17,
    "start_time": "2024-11-07T03:34:28.570Z"
   },
   {
    "duration": 10,
    "start_time": "2024-11-07T03:34:28.588Z"
   },
   {
    "duration": 5,
    "start_time": "2024-11-07T03:34:28.600Z"
   },
   {
    "duration": 73,
    "start_time": "2024-11-07T03:34:28.607Z"
   },
   {
    "duration": 31,
    "start_time": "2024-11-07T03:34:28.682Z"
   },
   {
    "duration": 52,
    "start_time": "2024-11-07T03:34:28.715Z"
   },
   {
    "duration": 7,
    "start_time": "2024-11-07T03:34:28.769Z"
   },
   {
    "duration": 17,
    "start_time": "2024-11-07T03:34:28.777Z"
   },
   {
    "duration": 1754,
    "start_time": "2024-11-07T03:34:28.796Z"
   },
   {
    "duration": 15,
    "start_time": "2024-11-07T03:34:30.552Z"
   },
   {
    "duration": 47,
    "start_time": "2024-11-07T03:34:30.568Z"
   },
   {
    "duration": 25,
    "start_time": "2024-11-07T03:34:30.616Z"
   },
   {
    "duration": 24,
    "start_time": "2024-11-07T03:34:30.642Z"
   },
   {
    "duration": 33,
    "start_time": "2024-11-07T03:34:30.672Z"
   },
   {
    "duration": 16,
    "start_time": "2024-11-07T03:34:30.707Z"
   },
   {
    "duration": 23,
    "start_time": "2024-11-07T03:34:30.724Z"
   },
   {
    "duration": 72,
    "start_time": "2024-11-07T03:34:30.748Z"
   },
   {
    "duration": 7,
    "start_time": "2024-11-07T03:34:30.821Z"
   },
   {
    "duration": 25,
    "start_time": "2024-11-07T03:34:30.842Z"
   },
   {
    "duration": 75,
    "start_time": "2024-11-07T03:34:30.868Z"
   },
   {
    "duration": 9,
    "start_time": "2024-11-07T03:34:30.945Z"
   },
   {
    "duration": 40,
    "start_time": "2024-11-07T03:34:30.956Z"
   },
   {
    "duration": 4,
    "start_time": "2024-11-07T03:34:30.997Z"
   },
   {
    "duration": 497,
    "start_time": "2024-11-07T03:34:31.003Z"
   },
   {
    "duration": 30,
    "start_time": "2024-11-07T03:34:31.502Z"
   },
   {
    "duration": 15,
    "start_time": "2024-11-07T03:34:31.542Z"
   },
   {
    "duration": 64,
    "start_time": "2024-11-07T03:34:31.559Z"
   },
   {
    "duration": 9,
    "start_time": "2024-11-07T03:34:31.624Z"
   },
   {
    "duration": 29,
    "start_time": "2024-11-07T03:34:31.634Z"
   },
   {
    "duration": 32,
    "start_time": "2024-11-07T03:34:31.664Z"
   },
   {
    "duration": 23,
    "start_time": "2024-11-07T03:34:31.698Z"
   },
   {
    "duration": 36,
    "start_time": "2024-11-07T03:34:31.722Z"
   },
   {
    "duration": 15,
    "start_time": "2024-11-07T03:34:31.761Z"
   },
   {
    "duration": 24,
    "start_time": "2024-11-07T03:34:31.778Z"
   },
   {
    "duration": 345,
    "start_time": "2024-11-07T03:34:31.804Z"
   },
   {
    "duration": 344,
    "start_time": "2024-11-07T03:34:32.150Z"
   },
   {
    "duration": 360,
    "start_time": "2024-11-07T03:34:32.496Z"
   },
   {
    "duration": 41,
    "start_time": "2024-11-07T03:34:32.858Z"
   },
   {
    "duration": 8,
    "start_time": "2024-11-07T03:34:32.900Z"
   },
   {
    "duration": 33,
    "start_time": "2024-11-07T03:34:32.910Z"
   },
   {
    "duration": 849,
    "start_time": "2024-11-08T12:01:39.547Z"
   },
   {
    "duration": 744,
    "start_time": "2024-11-08T12:01:40.398Z"
   },
   {
    "duration": 3,
    "start_time": "2024-11-08T12:01:41.143Z"
   },
   {
    "duration": 14,
    "start_time": "2024-11-08T12:01:41.147Z"
   },
   {
    "duration": 6,
    "start_time": "2024-11-08T12:01:41.163Z"
   },
   {
    "duration": 96,
    "start_time": "2024-11-08T12:01:41.171Z"
   },
   {
    "duration": 58,
    "start_time": "2024-11-08T12:01:41.268Z"
   },
   {
    "duration": 159,
    "start_time": "2024-11-08T12:01:41.327Z"
   },
   {
    "duration": 101,
    "start_time": "2024-11-08T12:01:41.488Z"
   },
   {
    "duration": 7,
    "start_time": "2024-11-08T12:01:41.590Z"
   },
   {
    "duration": 11,
    "start_time": "2024-11-08T12:01:41.598Z"
   },
   {
    "duration": 43,
    "start_time": "2024-11-08T12:01:41.611Z"
   },
   {
    "duration": 67,
    "start_time": "2024-11-08T12:01:41.656Z"
   },
   {
    "duration": 9,
    "start_time": "2024-11-08T12:01:41.726Z"
   },
   {
    "duration": 26,
    "start_time": "2024-11-08T12:01:41.736Z"
   },
   {
    "duration": 120,
    "start_time": "2024-11-08T12:01:41.763Z"
   },
   {
    "duration": 4,
    "start_time": "2024-11-08T12:01:41.884Z"
   },
   {
    "duration": 10,
    "start_time": "2024-11-08T12:01:41.889Z"
   },
   {
    "duration": 27,
    "start_time": "2024-11-08T12:01:41.901Z"
   },
   {
    "duration": 8,
    "start_time": "2024-11-08T12:01:41.930Z"
   },
   {
    "duration": 147,
    "start_time": "2024-11-08T12:01:41.939Z"
   },
   {
    "duration": 44,
    "start_time": "2024-11-08T12:01:42.088Z"
   },
   {
    "duration": 513,
    "start_time": "2024-11-08T12:01:42.133Z"
   },
   {
    "duration": 24,
    "start_time": "2024-11-08T12:01:42.647Z"
   },
   {
    "duration": 12,
    "start_time": "2024-11-08T12:01:42.673Z"
   },
   {
    "duration": 44,
    "start_time": "2024-11-08T12:01:42.712Z"
   },
   {
    "duration": 4,
    "start_time": "2024-11-08T12:01:42.757Z"
   },
   {
    "duration": 11,
    "start_time": "2024-11-08T12:01:42.812Z"
   },
   {
    "duration": 14,
    "start_time": "2024-11-08T12:01:42.824Z"
   },
   {
    "duration": 3,
    "start_time": "2024-11-08T12:01:42.839Z"
   },
   {
    "duration": 43,
    "start_time": "2024-11-08T12:01:42.843Z"
   },
   {
    "duration": 44,
    "start_time": "2024-11-08T12:01:42.887Z"
   },
   {
    "duration": 19,
    "start_time": "2024-11-08T12:01:42.932Z"
   },
   {
    "duration": 4,
    "start_time": "2024-11-08T12:01:42.952Z"
   },
   {
    "duration": 4,
    "start_time": "2024-11-08T12:01:42.958Z"
   },
   {
    "duration": 1731,
    "start_time": "2024-11-08T12:01:42.963Z"
   },
   {
    "duration": 16,
    "start_time": "2024-11-08T12:01:44.696Z"
   },
   {
    "duration": 36,
    "start_time": "2024-11-08T12:01:44.714Z"
   },
   {
    "duration": 7,
    "start_time": "2024-11-08T12:01:44.752Z"
   },
   {
    "duration": 24,
    "start_time": "2024-11-08T12:01:44.760Z"
   },
   {
    "duration": 32,
    "start_time": "2024-11-08T12:01:44.787Z"
   },
   {
    "duration": 16,
    "start_time": "2024-11-08T12:01:44.820Z"
   },
   {
    "duration": 8,
    "start_time": "2024-11-08T12:01:44.838Z"
   },
   {
    "duration": 82,
    "start_time": "2024-11-08T12:01:44.848Z"
   },
   {
    "duration": 7,
    "start_time": "2024-11-08T12:01:44.932Z"
   },
   {
    "duration": 52,
    "start_time": "2024-11-08T12:01:44.940Z"
   },
   {
    "duration": 48,
    "start_time": "2024-11-08T12:01:44.994Z"
   },
   {
    "duration": 28,
    "start_time": "2024-11-08T12:01:45.043Z"
   },
   {
    "duration": 29,
    "start_time": "2024-11-08T12:01:45.073Z"
   },
   {
    "duration": 43,
    "start_time": "2024-11-08T12:01:45.103Z"
   },
   {
    "duration": 536,
    "start_time": "2024-11-08T12:01:45.147Z"
   },
   {
    "duration": 31,
    "start_time": "2024-11-08T12:01:45.684Z"
   },
   {
    "duration": 4,
    "start_time": "2024-11-08T12:01:45.716Z"
   },
   {
    "duration": 41,
    "start_time": "2024-11-08T12:01:45.721Z"
   },
   {
    "duration": 3,
    "start_time": "2024-11-08T12:01:45.764Z"
   },
   {
    "duration": 10,
    "start_time": "2024-11-08T12:01:45.768Z"
   },
   {
    "duration": 10,
    "start_time": "2024-11-08T12:01:45.779Z"
   },
   {
    "duration": 91,
    "start_time": "2024-11-08T12:01:45.792Z"
   },
   {
    "duration": 7,
    "start_time": "2024-11-08T12:01:45.884Z"
   },
   {
    "duration": 20,
    "start_time": "2024-11-08T12:01:45.893Z"
   },
   {
    "duration": 36,
    "start_time": "2024-11-08T12:01:45.914Z"
   },
   {
    "duration": 28,
    "start_time": "2024-11-08T12:01:45.951Z"
   },
   {
    "duration": 53,
    "start_time": "2024-11-08T12:01:45.981Z"
   },
   {
    "duration": 37,
    "start_time": "2024-11-08T12:01:46.035Z"
   },
   {
    "duration": 87,
    "start_time": "2024-11-08T12:01:46.074Z"
   },
   {
    "duration": 29,
    "start_time": "2024-11-08T12:01:46.162Z"
   },
   {
    "duration": 929,
    "start_time": "2024-11-08T12:10:02.178Z"
   },
   {
    "duration": 497,
    "start_time": "2024-11-08T12:10:03.109Z"
   },
   {
    "duration": 3,
    "start_time": "2024-11-08T12:10:03.607Z"
   },
   {
    "duration": 16,
    "start_time": "2024-11-08T12:10:03.611Z"
   },
   {
    "duration": 13,
    "start_time": "2024-11-08T12:10:03.629Z"
   },
   {
    "duration": 127,
    "start_time": "2024-11-08T12:10:03.643Z"
   },
   {
    "duration": 51,
    "start_time": "2024-11-08T12:10:03.772Z"
   },
   {
    "duration": 155,
    "start_time": "2024-11-08T12:10:03.824Z"
   },
   {
    "duration": 96,
    "start_time": "2024-11-08T12:10:03.981Z"
   },
   {
    "duration": 7,
    "start_time": "2024-11-08T12:10:04.079Z"
   },
   {
    "duration": 24,
    "start_time": "2024-11-08T12:10:04.087Z"
   },
   {
    "duration": 41,
    "start_time": "2024-11-08T12:10:04.112Z"
   },
   {
    "duration": 66,
    "start_time": "2024-11-08T12:10:04.154Z"
   },
   {
    "duration": 8,
    "start_time": "2024-11-08T12:10:04.223Z"
   },
   {
    "duration": 24,
    "start_time": "2024-11-08T12:10:04.232Z"
   },
   {
    "duration": 124,
    "start_time": "2024-11-08T12:10:04.257Z"
   },
   {
    "duration": 3,
    "start_time": "2024-11-08T12:10:04.382Z"
   },
   {
    "duration": 41,
    "start_time": "2024-11-08T12:10:04.387Z"
   },
   {
    "duration": 65,
    "start_time": "2024-11-08T12:10:04.429Z"
   },
   {
    "duration": 14,
    "start_time": "2024-11-08T12:10:04.496Z"
   },
   {
    "duration": 132,
    "start_time": "2024-11-08T12:10:04.511Z"
   },
   {
    "duration": 36,
    "start_time": "2024-11-08T12:10:04.645Z"
   },
   {
    "duration": 588,
    "start_time": "2024-11-08T12:10:04.682Z"
   },
   {
    "duration": 41,
    "start_time": "2024-11-08T12:10:05.271Z"
   },
   {
    "duration": 11,
    "start_time": "2024-11-08T12:10:05.314Z"
   },
   {
    "duration": 100,
    "start_time": "2024-11-08T12:10:05.326Z"
   },
   {
    "duration": 3,
    "start_time": "2024-11-08T12:10:05.428Z"
   },
   {
    "duration": 34,
    "start_time": "2024-11-08T12:10:05.432Z"
   },
   {
    "duration": 22,
    "start_time": "2024-11-08T12:10:05.468Z"
   },
   {
    "duration": 7,
    "start_time": "2024-11-08T12:10:05.491Z"
   },
   {
    "duration": 47,
    "start_time": "2024-11-08T12:10:05.499Z"
   },
   {
    "duration": 29,
    "start_time": "2024-11-08T12:10:05.547Z"
   },
   {
    "duration": 37,
    "start_time": "2024-11-08T12:10:05.577Z"
   },
   {
    "duration": 33,
    "start_time": "2024-11-08T12:10:05.616Z"
   },
   {
    "duration": 11,
    "start_time": "2024-11-08T12:10:05.650Z"
   },
   {
    "duration": 1766,
    "start_time": "2024-11-08T12:10:05.662Z"
   },
   {
    "duration": 14,
    "start_time": "2024-11-08T12:10:07.429Z"
   },
   {
    "duration": 47,
    "start_time": "2024-11-08T12:10:07.445Z"
   },
   {
    "duration": 43,
    "start_time": "2024-11-08T12:10:07.493Z"
   },
   {
    "duration": 51,
    "start_time": "2024-11-08T12:10:07.538Z"
   },
   {
    "duration": 35,
    "start_time": "2024-11-08T12:10:07.593Z"
   },
   {
    "duration": 37,
    "start_time": "2024-11-08T12:10:07.630Z"
   },
   {
    "duration": 18,
    "start_time": "2024-11-08T12:10:07.669Z"
   },
   {
    "duration": 67,
    "start_time": "2024-11-08T12:10:07.688Z"
   },
   {
    "duration": 7,
    "start_time": "2024-11-08T12:10:07.756Z"
   },
   {
    "duration": 28,
    "start_time": "2024-11-08T12:10:07.765Z"
   },
   {
    "duration": 49,
    "start_time": "2024-11-08T12:10:07.794Z"
   },
   {
    "duration": 8,
    "start_time": "2024-11-08T12:10:07.844Z"
   },
   {
    "duration": 24,
    "start_time": "2024-11-08T12:10:07.854Z"
   },
   {
    "duration": 6,
    "start_time": "2024-11-08T12:10:07.879Z"
   },
   {
    "duration": 495,
    "start_time": "2024-11-08T12:10:07.886Z"
   },
   {
    "duration": 34,
    "start_time": "2024-11-08T12:10:08.383Z"
   },
   {
    "duration": 4,
    "start_time": "2024-11-08T12:10:08.418Z"
   },
   {
    "duration": 46,
    "start_time": "2024-11-08T12:10:08.423Z"
   },
   {
    "duration": 2,
    "start_time": "2024-11-08T12:10:08.471Z"
   },
   {
    "duration": 33,
    "start_time": "2024-11-08T12:10:08.474Z"
   },
   {
    "duration": 5,
    "start_time": "2024-11-08T12:10:08.509Z"
   },
   {
    "duration": 71,
    "start_time": "2024-11-08T12:10:08.515Z"
   },
   {
    "duration": 7,
    "start_time": "2024-11-08T12:10:08.587Z"
   },
   {
    "duration": 65,
    "start_time": "2024-11-08T12:10:08.595Z"
   },
   {
    "duration": 41,
    "start_time": "2024-11-08T12:10:08.661Z"
   },
   {
    "duration": 26,
    "start_time": "2024-11-08T12:10:08.704Z"
   },
   {
    "duration": 27,
    "start_time": "2024-11-08T12:10:08.731Z"
   },
   {
    "duration": 65,
    "start_time": "2024-11-08T12:10:08.760Z"
   },
   {
    "duration": 67,
    "start_time": "2024-11-08T12:10:08.826Z"
   },
   {
    "duration": 41,
    "start_time": "2024-11-08T12:10:08.895Z"
   }
  ],
  "kernelspec": {
   "display_name": "practicum",
   "language": "python",
   "name": "python3"
  },
  "language_info": {
   "codemirror_mode": {
    "name": "ipython",
    "version": 3
   },
   "file_extension": ".py",
   "mimetype": "text/x-python",
   "name": "python",
   "nbconvert_exporter": "python",
   "pygments_lexer": "ipython3",
   "version": "3.9.18"
  },
  "toc": {
   "base_numbering": 1,
   "nav_menu": {},
   "number_sections": true,
   "sideBar": true,
   "skip_h1_title": true,
   "title_cell": "Table of Contents",
   "title_sidebar": "Contents",
   "toc_cell": false,
   "toc_position": {},
   "toc_section_display": true,
   "toc_window_display": false
  }
 },
 "nbformat": 4,
 "nbformat_minor": 2
}
