{
 "cells": [
  {
   "cell_type": "markdown",
   "metadata": {},
   "source": [
    "# Статистический анализ данных сервиса аренды самокатов GoFast."
   ]
  },
  {
   "cell_type": "markdown",
   "metadata": {},
   "source": [
    "## Цель:\n",
    " проанализировать данные популярного сервиса аренды самокатов GoFast о некоторых пользователях из нескольких городов, их поездках и проверить некоторые гипотезы чтобы помочь бизнесу вырасти.  "
   ]
  },
  {
   "cell_type": "markdown",
   "metadata": {},
   "source": [
    "## Описание предоставленных данных"
   ]
  },
  {
   "cell_type": "markdown",
   "metadata": {},
   "source": [
    "**пользователи** `user_go.csv`   \n",
    "`user_id` - уникальный идентификатор   \n",
    "`name`- имя пользователя   \n",
    "`age` - возраст   \n",
    "`city` - город   \n",
    "`subcription_type` - тип подписки  \n",
    "\n",
    "**поездки** `rides_go.csv`   \n",
    "`user_id` - уникальный идентификатор   \n",
    "`distance` -  расстояние, которое пользователь проехал в текущей сессии (в метрах)   \n",
    "`duration` - продолжительность сессии (в минутах) - время с того момента, как пользователь нажал кнопку НАЧАТЬ ПОЕЗДКУ до момента,как он нажал ЗАВЕРШИТЬ ПОЕЗДКУ   \n",
    "`date` - дата совершения поездки   \n",
    "\n",
    "**подписки** `subscriptions_go.csv`  \n",
    "`subscription_type` - тип подписки  \n",
    "`minute_price` - стоимость одной минуты поездки по данной подписке  \n",
    "`start_ride_price` - стоимость начала поездки   \n",
    "`subscription_fee` - стоимость ежемесячного платежа"
   ]
  },
  {
   "cell_type": "markdown",
   "metadata": {},
   "source": [
    "### Условия использования сервиса\n",
    "\n",
    "Чтобы совершать поездки по городу, пользователи сервиса GoFast пользуются мобильным приложением.  \n",
    " Сервисом можно пользоваться:\n",
    "- без подписки \n",
    "   - абонетская плата - 0 руб;\n",
    "    - стоимость 1 минуты поездки - 8 руб;\n",
    "    - стоимость старта(начала поездки) - 50 руб;  \n",
    " \n",
    "- с подпиской ULTRA\n",
    "    - абонетская плата - 199 руб/мес;\n",
    "    - стоимость 1 минуты поездки - 6 руб;\n",
    "    - стоимость старта - 0 руб;"
   ]
  },
  {
   "cell_type": "markdown",
   "metadata": {},
   "source": [
    "## Загружаем данные"
   ]
  },
  {
   "cell_type": "code",
   "execution_count": 290,
   "metadata": {
    "trusted": true
   },
   "outputs": [],
   "source": [
    "import pandas as pd\n",
    "import seaborn as sb\n",
    "import numpy as np\n",
    "from scipy import stats as st\n",
    "import matplotlib.pyplot as plt\n",
    "import plotly.express as px\n"
   ]
  },
  {
   "cell_type": "code",
   "execution_count": 291,
   "metadata": {
    "trusted": true
   },
   "outputs": [],
   "source": [
    "\n",
    "users = pd.read_csv('https://code.s3.yandex.net/datasets/users_go.csv')\n",
    "rides = pd.read_csv('https://code.s3.yandex.net/datasets/rides_go.csv')\n",
    "subscriptions = pd.read_csv('https://code.s3.yandex.net/datasets/subscriptions_go.csv')\n"
   ]
  },
  {
   "cell_type": "markdown",
   "metadata": {},
   "source": [
    "## Предобработка"
   ]
  },
  {
   "cell_type": "markdown",
   "metadata": {},
   "source": [
    "Отформатируем названия столбцов"
   ]
  },
  {
   "cell_type": "code",
   "execution_count": 292,
   "metadata": {},
   "outputs": [],
   "source": [
    "for table in (users, rides, subscriptions):\n",
    "    format_title_colunms = list(map(lambda x: x.strip(), table.columns))\n",
    "    table.columns = format_title_colunms"
   ]
  },
  {
   "cell_type": "markdown",
   "metadata": {},
   "source": [
    "Названия столбцов без пробелов. Отлично."
   ]
  },
  {
   "cell_type": "markdown",
   "metadata": {},
   "source": [
    "Посмотрим содержимое датафреймов"
   ]
  },
  {
   "cell_type": "code",
   "execution_count": 293,
   "metadata": {},
   "outputs": [],
   "source": [
    "def get_info_dataframe(dataframe,\n",
    "                       transpose=False,\n",
    "                       count_rows=5\n",
    "                       ):\n",
    "    \"\"\"\n",
    "    получение основной информации о датафрейме  \n",
    "    `dataframe` - исследуемый датафрейм   \n",
    "    `transpose` - перевернуть таблицу на 90°    \n",
    "    `count_rows` - чило выводимых строк\n",
    "    \"\"\"\n",
    "\n",
    "    # -----------------сбока таблицы с пропусками---------------------\n",
    "    # число пропусков\n",
    "    count_missing = dataframe.isna().sum()\n",
    "    # доля пропусков\n",
    "    missing_percent = count_missing/len(dataframe)*100\n",
    "\n",
    "    # сборка\n",
    "    df = pd.DataFrame(data={'missing_percent': missing_percent,\n",
    "                            'count_missing': count_missing\n",
    "                            })\n",
    "    # цветной бар в столбце с долей пропусков и добапвляем знак %\n",
    "    table = (df\n",
    "             .style\n",
    "             .bar(\n",
    "                 subset=\"missing_percent\",\n",
    "                 vmax=100,\n",
    "                 color='red'\n",
    "             )\n",
    "             .format(\n",
    "                 subset=\"missing_percent\",\n",
    "                 formatter=\"{:.2f} %\")\n",
    "             )\n",
    "\n",
    "    # --------------------------------------\n",
    "\n",
    "    # сводная информация\n",
    "    print(dataframe.info())\n",
    "\n",
    "    # часть таблицы\n",
    "    if transpose == True:\n",
    "        display(dataframe.head(count_rows).T)\n",
    "    else:\n",
    "        display(dataframe.head(count_rows))\n",
    "\n",
    "    # число дубликатов\n",
    "    print(\n",
    "        f'\\nявных дубликатов: {dataframe.duplicated().sum()}\\n{\". \"*10}'.upper())\n",
    "\n",
    "    # число пропусков\n",
    "    print(f'\\nпропуски'.upper())\n",
    "    display(table)\n",
    "\n",
    "    print('----'*20)"
   ]
  },
  {
   "cell_type": "code",
   "execution_count": 294,
   "metadata": {},
   "outputs": [
    {
     "name": "stdout",
     "output_type": "stream",
     "text": [
      "<class 'pandas.core.frame.DataFrame'>\n",
      "RangeIndex: 1565 entries, 0 to 1564\n",
      "Data columns (total 5 columns):\n",
      " #   Column             Non-Null Count  Dtype \n",
      "---  ------             --------------  ----- \n",
      " 0   user_id            1565 non-null   int64 \n",
      " 1   name               1565 non-null   object\n",
      " 2   age                1565 non-null   int64 \n",
      " 3   city               1565 non-null   object\n",
      " 4   subscription_type  1565 non-null   object\n",
      "dtypes: int64(2), object(3)\n",
      "memory usage: 61.3+ KB\n",
      "None\n"
     ]
    },
    {
     "data": {
      "text/html": [
       "<div>\n",
       "<style scoped>\n",
       "    .dataframe tbody tr th:only-of-type {\n",
       "        vertical-align: middle;\n",
       "    }\n",
       "\n",
       "    .dataframe tbody tr th {\n",
       "        vertical-align: top;\n",
       "    }\n",
       "\n",
       "    .dataframe thead th {\n",
       "        text-align: right;\n",
       "    }\n",
       "</style>\n",
       "<table border=\"1\" class=\"dataframe\">\n",
       "  <thead>\n",
       "    <tr style=\"text-align: right;\">\n",
       "      <th></th>\n",
       "      <th>user_id</th>\n",
       "      <th>name</th>\n",
       "      <th>age</th>\n",
       "      <th>city</th>\n",
       "      <th>subscription_type</th>\n",
       "    </tr>\n",
       "  </thead>\n",
       "  <tbody>\n",
       "    <tr>\n",
       "      <th>0</th>\n",
       "      <td>1</td>\n",
       "      <td>Кира</td>\n",
       "      <td>22</td>\n",
       "      <td>Тюмень</td>\n",
       "      <td>ultra</td>\n",
       "    </tr>\n",
       "    <tr>\n",
       "      <th>1</th>\n",
       "      <td>2</td>\n",
       "      <td>Станислав</td>\n",
       "      <td>31</td>\n",
       "      <td>Омск</td>\n",
       "      <td>ultra</td>\n",
       "    </tr>\n",
       "    <tr>\n",
       "      <th>2</th>\n",
       "      <td>3</td>\n",
       "      <td>Алексей</td>\n",
       "      <td>20</td>\n",
       "      <td>Москва</td>\n",
       "      <td>ultra</td>\n",
       "    </tr>\n",
       "    <tr>\n",
       "      <th>3</th>\n",
       "      <td>4</td>\n",
       "      <td>Константин</td>\n",
       "      <td>26</td>\n",
       "      <td>Ростов-на-Дону</td>\n",
       "      <td>ultra</td>\n",
       "    </tr>\n",
       "    <tr>\n",
       "      <th>4</th>\n",
       "      <td>5</td>\n",
       "      <td>Адель</td>\n",
       "      <td>28</td>\n",
       "      <td>Омск</td>\n",
       "      <td>ultra</td>\n",
       "    </tr>\n",
       "  </tbody>\n",
       "</table>\n",
       "</div>"
      ],
      "text/plain": [
       "   user_id        name  age            city subscription_type\n",
       "0        1        Кира   22          Тюмень             ultra\n",
       "1        2   Станислав   31            Омск             ultra\n",
       "2        3     Алексей   20          Москва             ultra\n",
       "3        4  Константин   26  Ростов-на-Дону             ultra\n",
       "4        5       Адель   28            Омск             ultra"
      ]
     },
     "metadata": {},
     "output_type": "display_data"
    },
    {
     "name": "stdout",
     "output_type": "stream",
     "text": [
      "\n",
      "ЯВНЫХ ДУБЛИКАТОВ: 31\n",
      ". . . . . . . . . . \n",
      "\n",
      "ПРОПУСКИ\n"
     ]
    },
    {
     "data": {
      "text/html": [
       "<style  type=\"text/css\" >\n",
       "#T_b5ff6_row0_col0,#T_b5ff6_row1_col0,#T_b5ff6_row2_col0,#T_b5ff6_row3_col0,#T_b5ff6_row4_col0{\n",
       "            width:  10em;\n",
       "             height:  80%;\n",
       "        }</style><table id=\"T_b5ff6_\" ><thead>    <tr>        <th class=\"blank level0\" ></th>        <th class=\"col_heading level0 col0\" >missing_percent</th>        <th class=\"col_heading level0 col1\" >count_missing</th>    </tr></thead><tbody>\n",
       "                <tr>\n",
       "                        <th id=\"T_b5ff6_level0_row0\" class=\"row_heading level0 row0\" >user_id</th>\n",
       "                        <td id=\"T_b5ff6_row0_col0\" class=\"data row0 col0\" >0.00 %</td>\n",
       "                        <td id=\"T_b5ff6_row0_col1\" class=\"data row0 col1\" >0</td>\n",
       "            </tr>\n",
       "            <tr>\n",
       "                        <th id=\"T_b5ff6_level0_row1\" class=\"row_heading level0 row1\" >name</th>\n",
       "                        <td id=\"T_b5ff6_row1_col0\" class=\"data row1 col0\" >0.00 %</td>\n",
       "                        <td id=\"T_b5ff6_row1_col1\" class=\"data row1 col1\" >0</td>\n",
       "            </tr>\n",
       "            <tr>\n",
       "                        <th id=\"T_b5ff6_level0_row2\" class=\"row_heading level0 row2\" >age</th>\n",
       "                        <td id=\"T_b5ff6_row2_col0\" class=\"data row2 col0\" >0.00 %</td>\n",
       "                        <td id=\"T_b5ff6_row2_col1\" class=\"data row2 col1\" >0</td>\n",
       "            </tr>\n",
       "            <tr>\n",
       "                        <th id=\"T_b5ff6_level0_row3\" class=\"row_heading level0 row3\" >city</th>\n",
       "                        <td id=\"T_b5ff6_row3_col0\" class=\"data row3 col0\" >0.00 %</td>\n",
       "                        <td id=\"T_b5ff6_row3_col1\" class=\"data row3 col1\" >0</td>\n",
       "            </tr>\n",
       "            <tr>\n",
       "                        <th id=\"T_b5ff6_level0_row4\" class=\"row_heading level0 row4\" >subscription_type</th>\n",
       "                        <td id=\"T_b5ff6_row4_col0\" class=\"data row4 col0\" >0.00 %</td>\n",
       "                        <td id=\"T_b5ff6_row4_col1\" class=\"data row4 col1\" >0</td>\n",
       "            </tr>\n",
       "    </tbody></table>"
      ],
      "text/plain": [
       "<pandas.io.formats.style.Styler at 0x28aecda3430>"
      ]
     },
     "metadata": {},
     "output_type": "display_data"
    },
    {
     "name": "stdout",
     "output_type": "stream",
     "text": [
      "--------------------------------------------------------------------------------\n",
      "<class 'pandas.core.frame.DataFrame'>\n",
      "RangeIndex: 18068 entries, 0 to 18067\n",
      "Data columns (total 4 columns):\n",
      " #   Column    Non-Null Count  Dtype  \n",
      "---  ------    --------------  -----  \n",
      " 0   user_id   18068 non-null  int64  \n",
      " 1   distance  18068 non-null  float64\n",
      " 2   duration  18068 non-null  float64\n",
      " 3   date      18068 non-null  object \n",
      "dtypes: float64(2), int64(1), object(1)\n",
      "memory usage: 564.8+ KB\n",
      "None\n"
     ]
    },
    {
     "data": {
      "text/html": [
       "<div>\n",
       "<style scoped>\n",
       "    .dataframe tbody tr th:only-of-type {\n",
       "        vertical-align: middle;\n",
       "    }\n",
       "\n",
       "    .dataframe tbody tr th {\n",
       "        vertical-align: top;\n",
       "    }\n",
       "\n",
       "    .dataframe thead th {\n",
       "        text-align: right;\n",
       "    }\n",
       "</style>\n",
       "<table border=\"1\" class=\"dataframe\">\n",
       "  <thead>\n",
       "    <tr style=\"text-align: right;\">\n",
       "      <th></th>\n",
       "      <th>user_id</th>\n",
       "      <th>distance</th>\n",
       "      <th>duration</th>\n",
       "      <th>date</th>\n",
       "    </tr>\n",
       "  </thead>\n",
       "  <tbody>\n",
       "    <tr>\n",
       "      <th>0</th>\n",
       "      <td>1</td>\n",
       "      <td>4409.919140</td>\n",
       "      <td>25.599769</td>\n",
       "      <td>2021-01-01</td>\n",
       "    </tr>\n",
       "    <tr>\n",
       "      <th>1</th>\n",
       "      <td>1</td>\n",
       "      <td>2617.592153</td>\n",
       "      <td>15.816871</td>\n",
       "      <td>2021-01-18</td>\n",
       "    </tr>\n",
       "    <tr>\n",
       "      <th>2</th>\n",
       "      <td>1</td>\n",
       "      <td>754.159807</td>\n",
       "      <td>6.232113</td>\n",
       "      <td>2021-04-20</td>\n",
       "    </tr>\n",
       "    <tr>\n",
       "      <th>3</th>\n",
       "      <td>1</td>\n",
       "      <td>2694.783254</td>\n",
       "      <td>18.511000</td>\n",
       "      <td>2021-08-11</td>\n",
       "    </tr>\n",
       "    <tr>\n",
       "      <th>4</th>\n",
       "      <td>1</td>\n",
       "      <td>4028.687306</td>\n",
       "      <td>26.265803</td>\n",
       "      <td>2021-08-28</td>\n",
       "    </tr>\n",
       "  </tbody>\n",
       "</table>\n",
       "</div>"
      ],
      "text/plain": [
       "   user_id     distance   duration        date\n",
       "0        1  4409.919140  25.599769  2021-01-01\n",
       "1        1  2617.592153  15.816871  2021-01-18\n",
       "2        1   754.159807   6.232113  2021-04-20\n",
       "3        1  2694.783254  18.511000  2021-08-11\n",
       "4        1  4028.687306  26.265803  2021-08-28"
      ]
     },
     "metadata": {},
     "output_type": "display_data"
    },
    {
     "name": "stdout",
     "output_type": "stream",
     "text": [
      "\n",
      "ЯВНЫХ ДУБЛИКАТОВ: 0\n",
      ". . . . . . . . . . \n",
      "\n",
      "ПРОПУСКИ\n"
     ]
    },
    {
     "data": {
      "text/html": [
       "<style  type=\"text/css\" >\n",
       "#T_99c57_row0_col0,#T_99c57_row1_col0,#T_99c57_row2_col0,#T_99c57_row3_col0{\n",
       "            width:  10em;\n",
       "             height:  80%;\n",
       "        }</style><table id=\"T_99c57_\" ><thead>    <tr>        <th class=\"blank level0\" ></th>        <th class=\"col_heading level0 col0\" >missing_percent</th>        <th class=\"col_heading level0 col1\" >count_missing</th>    </tr></thead><tbody>\n",
       "                <tr>\n",
       "                        <th id=\"T_99c57_level0_row0\" class=\"row_heading level0 row0\" >user_id</th>\n",
       "                        <td id=\"T_99c57_row0_col0\" class=\"data row0 col0\" >0.00 %</td>\n",
       "                        <td id=\"T_99c57_row0_col1\" class=\"data row0 col1\" >0</td>\n",
       "            </tr>\n",
       "            <tr>\n",
       "                        <th id=\"T_99c57_level0_row1\" class=\"row_heading level0 row1\" >distance</th>\n",
       "                        <td id=\"T_99c57_row1_col0\" class=\"data row1 col0\" >0.00 %</td>\n",
       "                        <td id=\"T_99c57_row1_col1\" class=\"data row1 col1\" >0</td>\n",
       "            </tr>\n",
       "            <tr>\n",
       "                        <th id=\"T_99c57_level0_row2\" class=\"row_heading level0 row2\" >duration</th>\n",
       "                        <td id=\"T_99c57_row2_col0\" class=\"data row2 col0\" >0.00 %</td>\n",
       "                        <td id=\"T_99c57_row2_col1\" class=\"data row2 col1\" >0</td>\n",
       "            </tr>\n",
       "            <tr>\n",
       "                        <th id=\"T_99c57_level0_row3\" class=\"row_heading level0 row3\" >date</th>\n",
       "                        <td id=\"T_99c57_row3_col0\" class=\"data row3 col0\" >0.00 %</td>\n",
       "                        <td id=\"T_99c57_row3_col1\" class=\"data row3 col1\" >0</td>\n",
       "            </tr>\n",
       "    </tbody></table>"
      ],
      "text/plain": [
       "<pandas.io.formats.style.Styler at 0x28aed541700>"
      ]
     },
     "metadata": {},
     "output_type": "display_data"
    },
    {
     "name": "stdout",
     "output_type": "stream",
     "text": [
      "--------------------------------------------------------------------------------\n",
      "<class 'pandas.core.frame.DataFrame'>\n",
      "RangeIndex: 2 entries, 0 to 1\n",
      "Data columns (total 4 columns):\n",
      " #   Column             Non-Null Count  Dtype \n",
      "---  ------             --------------  ----- \n",
      " 0   subscription_type  2 non-null      object\n",
      " 1   minute_price       2 non-null      int64 \n",
      " 2   start_ride_price   2 non-null      int64 \n",
      " 3   subscription_fee   2 non-null      int64 \n",
      "dtypes: int64(3), object(1)\n",
      "memory usage: 192.0+ bytes\n",
      "None\n"
     ]
    },
    {
     "data": {
      "text/html": [
       "<div>\n",
       "<style scoped>\n",
       "    .dataframe tbody tr th:only-of-type {\n",
       "        vertical-align: middle;\n",
       "    }\n",
       "\n",
       "    .dataframe tbody tr th {\n",
       "        vertical-align: top;\n",
       "    }\n",
       "\n",
       "    .dataframe thead th {\n",
       "        text-align: right;\n",
       "    }\n",
       "</style>\n",
       "<table border=\"1\" class=\"dataframe\">\n",
       "  <thead>\n",
       "    <tr style=\"text-align: right;\">\n",
       "      <th></th>\n",
       "      <th>subscription_type</th>\n",
       "      <th>minute_price</th>\n",
       "      <th>start_ride_price</th>\n",
       "      <th>subscription_fee</th>\n",
       "    </tr>\n",
       "  </thead>\n",
       "  <tbody>\n",
       "    <tr>\n",
       "      <th>0</th>\n",
       "      <td>free</td>\n",
       "      <td>8</td>\n",
       "      <td>50</td>\n",
       "      <td>0</td>\n",
       "    </tr>\n",
       "    <tr>\n",
       "      <th>1</th>\n",
       "      <td>ultra</td>\n",
       "      <td>6</td>\n",
       "      <td>0</td>\n",
       "      <td>199</td>\n",
       "    </tr>\n",
       "  </tbody>\n",
       "</table>\n",
       "</div>"
      ],
      "text/plain": [
       "  subscription_type  minute_price  start_ride_price  subscription_fee\n",
       "0              free             8                50                 0\n",
       "1             ultra             6                 0               199"
      ]
     },
     "metadata": {},
     "output_type": "display_data"
    },
    {
     "name": "stdout",
     "output_type": "stream",
     "text": [
      "\n",
      "ЯВНЫХ ДУБЛИКАТОВ: 0\n",
      ". . . . . . . . . . \n",
      "\n",
      "ПРОПУСКИ\n"
     ]
    },
    {
     "data": {
      "text/html": [
       "<style  type=\"text/css\" >\n",
       "#T_7d9d2_row0_col0,#T_7d9d2_row1_col0,#T_7d9d2_row2_col0,#T_7d9d2_row3_col0{\n",
       "            width:  10em;\n",
       "             height:  80%;\n",
       "        }</style><table id=\"T_7d9d2_\" ><thead>    <tr>        <th class=\"blank level0\" ></th>        <th class=\"col_heading level0 col0\" >missing_percent</th>        <th class=\"col_heading level0 col1\" >count_missing</th>    </tr></thead><tbody>\n",
       "                <tr>\n",
       "                        <th id=\"T_7d9d2_level0_row0\" class=\"row_heading level0 row0\" >subscription_type</th>\n",
       "                        <td id=\"T_7d9d2_row0_col0\" class=\"data row0 col0\" >0.00 %</td>\n",
       "                        <td id=\"T_7d9d2_row0_col1\" class=\"data row0 col1\" >0</td>\n",
       "            </tr>\n",
       "            <tr>\n",
       "                        <th id=\"T_7d9d2_level0_row1\" class=\"row_heading level0 row1\" >minute_price</th>\n",
       "                        <td id=\"T_7d9d2_row1_col0\" class=\"data row1 col0\" >0.00 %</td>\n",
       "                        <td id=\"T_7d9d2_row1_col1\" class=\"data row1 col1\" >0</td>\n",
       "            </tr>\n",
       "            <tr>\n",
       "                        <th id=\"T_7d9d2_level0_row2\" class=\"row_heading level0 row2\" >start_ride_price</th>\n",
       "                        <td id=\"T_7d9d2_row2_col0\" class=\"data row2 col0\" >0.00 %</td>\n",
       "                        <td id=\"T_7d9d2_row2_col1\" class=\"data row2 col1\" >0</td>\n",
       "            </tr>\n",
       "            <tr>\n",
       "                        <th id=\"T_7d9d2_level0_row3\" class=\"row_heading level0 row3\" >subscription_fee</th>\n",
       "                        <td id=\"T_7d9d2_row3_col0\" class=\"data row3 col0\" >0.00 %</td>\n",
       "                        <td id=\"T_7d9d2_row3_col1\" class=\"data row3 col1\" >0</td>\n",
       "            </tr>\n",
       "    </tbody></table>"
      ],
      "text/plain": [
       "<pandas.io.formats.style.Styler at 0x28ae5f73b80>"
      ]
     },
     "metadata": {},
     "output_type": "display_data"
    },
    {
     "name": "stdout",
     "output_type": "stream",
     "text": [
      "--------------------------------------------------------------------------------\n"
     ]
    }
   ],
   "source": [
    "for table in (users, rides, subscriptions):\n",
    "    get_info_dataframe(dataframe=table)"
   ]
  },
  {
   "cell_type": "markdown",
   "metadata": {},
   "source": [
    "Дубликаты есть в `users`. Исправим. и проверим"
   ]
  },
  {
   "cell_type": "code",
   "execution_count": 295,
   "metadata": {},
   "outputs": [
    {
     "data": {
      "text/plain": [
       "0"
      ]
     },
     "execution_count": 295,
     "metadata": {},
     "output_type": "execute_result"
    }
   ],
   "source": [
    "users = users.drop_duplicates().reset_index(drop=True)\n",
    "users.duplicated().sum()"
   ]
  },
  {
   "cell_type": "markdown",
   "metadata": {},
   "source": [
    "Приведем столбец `date` к типу данных `datetime`"
   ]
  },
  {
   "cell_type": "code",
   "execution_count": 296,
   "metadata": {
    "trusted": true
   },
   "outputs": [
    {
     "data": {
      "text/plain": [
       "0   2021-01-01\n",
       "1   2021-01-18\n",
       "2   2021-04-20\n",
       "3   2021-08-11\n",
       "4   2021-08-28\n",
       "Name: date, dtype: datetime64[ns]"
      ]
     },
     "execution_count": 296,
     "metadata": {},
     "output_type": "execute_result"
    }
   ],
   "source": [
    "rides['date'] = pd.to_datetime(rides['date'], format='%Y-%m-%d')\n",
    "rides['date'].head()"
   ]
  },
  {
   "cell_type": "markdown",
   "metadata": {},
   "source": [
    "Всё нормально"
   ]
  },
  {
   "cell_type": "markdown",
   "metadata": {},
   "source": [
    "Создадим столбец `month` с номером месяца на основе столбца `date` в таблице rides"
   ]
  },
  {
   "cell_type": "code",
   "execution_count": 297,
   "metadata": {
    "trusted": true
   },
   "outputs": [
    {
     "data": {
      "text/html": [
       "<div>\n",
       "<style scoped>\n",
       "    .dataframe tbody tr th:only-of-type {\n",
       "        vertical-align: middle;\n",
       "    }\n",
       "\n",
       "    .dataframe tbody tr th {\n",
       "        vertical-align: top;\n",
       "    }\n",
       "\n",
       "    .dataframe thead th {\n",
       "        text-align: right;\n",
       "    }\n",
       "</style>\n",
       "<table border=\"1\" class=\"dataframe\">\n",
       "  <thead>\n",
       "    <tr style=\"text-align: right;\">\n",
       "      <th></th>\n",
       "      <th>date</th>\n",
       "      <th>month</th>\n",
       "    </tr>\n",
       "  </thead>\n",
       "  <tbody>\n",
       "    <tr>\n",
       "      <th>0</th>\n",
       "      <td>2021-01-01</td>\n",
       "      <td>1</td>\n",
       "    </tr>\n",
       "    <tr>\n",
       "      <th>1</th>\n",
       "      <td>2021-01-18</td>\n",
       "      <td>1</td>\n",
       "    </tr>\n",
       "    <tr>\n",
       "      <th>2</th>\n",
       "      <td>2021-04-20</td>\n",
       "      <td>4</td>\n",
       "    </tr>\n",
       "    <tr>\n",
       "      <th>3</th>\n",
       "      <td>2021-08-11</td>\n",
       "      <td>8</td>\n",
       "    </tr>\n",
       "    <tr>\n",
       "      <th>4</th>\n",
       "      <td>2021-08-28</td>\n",
       "      <td>8</td>\n",
       "    </tr>\n",
       "  </tbody>\n",
       "</table>\n",
       "</div>"
      ],
      "text/plain": [
       "        date  month\n",
       "0 2021-01-01      1\n",
       "1 2021-01-18      1\n",
       "2 2021-04-20      4\n",
       "3 2021-08-11      8\n",
       "4 2021-08-28      8"
      ]
     },
     "execution_count": 297,
     "metadata": {},
     "output_type": "execute_result"
    }
   ],
   "source": [
    "rides['month'] = pd.DatetimeIndex(rides['date']).month\n",
    "rides[['date', 'month']].head()"
   ]
  },
  {
   "cell_type": "markdown",
   "metadata": {},
   "source": [
    "Код работает, продолжаем"
   ]
  },
  {
   "cell_type": "markdown",
   "metadata": {},
   "source": [
    "Узнаем период, за который взяты данные, и сколько месяцев включают"
   ]
  },
  {
   "cell_type": "code",
   "execution_count": 298,
   "metadata": {
    "trusted": true
   },
   "outputs": [
    {
     "name": "stdout",
     "output_type": "stream",
     "text": [
      "Данные взяты с 2021-01-01 по 2021-12-30\n"
     ]
    }
   ],
   "source": [
    "print(\n",
    "    f\"Данные взяты с {rides['date'].dt.date.min()} по {rides['date'].dt.date.max()}\")"
   ]
  },
  {
   "cell_type": "markdown",
   "metadata": {},
   "source": [
    "Все месяцы 2021 года включены в данные"
   ]
  },
  {
   "cell_type": "markdown",
   "metadata": {},
   "source": [
    "Краткий вывод:   \n",
    "В таблице `users` были обнаружены дубликаты. Исходя их набора данных дубликатом могут быть строки с одинаковыми `user_id` (при одинаковых данных о пользователе и типе подписке). Значит причина дубликатов сторона техническая.  \n",
    "Пометим для баг-репорта."
   ]
  },
  {
   "cell_type": "markdown",
   "metadata": {},
   "source": [
    "## Исследовательский анализ данных"
   ]
  },
  {
   "cell_type": "markdown",
   "metadata": {},
   "source": [
    "\n",
    "###  Изучим частоту встречаемости городов"
   ]
  },
  {
   "cell_type": "code",
   "execution_count": 299,
   "metadata": {
    "trusted": true
   },
   "outputs": [
    {
     "data": {
      "text/html": [
       "<div>\n",
       "<style scoped>\n",
       "    .dataframe tbody tr th:only-of-type {\n",
       "        vertical-align: middle;\n",
       "    }\n",
       "\n",
       "    .dataframe tbody tr th {\n",
       "        vertical-align: top;\n",
       "    }\n",
       "\n",
       "    .dataframe thead th {\n",
       "        text-align: right;\n",
       "    }\n",
       "</style>\n",
       "<table border=\"1\" class=\"dataframe\">\n",
       "  <thead>\n",
       "    <tr style=\"text-align: right;\">\n",
       "      <th></th>\n",
       "      <th>city</th>\n",
       "      <th>count</th>\n",
       "    </tr>\n",
       "  </thead>\n",
       "  <tbody>\n",
       "    <tr>\n",
       "      <th>0</th>\n",
       "      <td>Пятигорск</td>\n",
       "      <td>219</td>\n",
       "    </tr>\n",
       "    <tr>\n",
       "      <th>1</th>\n",
       "      <td>Екатеринбург</td>\n",
       "      <td>204</td>\n",
       "    </tr>\n",
       "    <tr>\n",
       "      <th>2</th>\n",
       "      <td>Ростов-на-Дону</td>\n",
       "      <td>198</td>\n",
       "    </tr>\n",
       "    <tr>\n",
       "      <th>3</th>\n",
       "      <td>Краснодар</td>\n",
       "      <td>193</td>\n",
       "    </tr>\n",
       "    <tr>\n",
       "      <th>4</th>\n",
       "      <td>Сочи</td>\n",
       "      <td>189</td>\n",
       "    </tr>\n",
       "    <tr>\n",
       "      <th>5</th>\n",
       "      <td>Омск</td>\n",
       "      <td>183</td>\n",
       "    </tr>\n",
       "    <tr>\n",
       "      <th>6</th>\n",
       "      <td>Тюмень</td>\n",
       "      <td>180</td>\n",
       "    </tr>\n",
       "    <tr>\n",
       "      <th>7</th>\n",
       "      <td>Москва</td>\n",
       "      <td>168</td>\n",
       "    </tr>\n",
       "  </tbody>\n",
       "</table>\n",
       "</div>"
      ],
      "text/plain": [
       "             city  count\n",
       "0       Пятигорск    219\n",
       "1    Екатеринбург    204\n",
       "2  Ростов-на-Дону    198\n",
       "3       Краснодар    193\n",
       "4            Сочи    189\n",
       "5            Омск    183\n",
       "6          Тюмень    180\n",
       "7          Москва    168"
      ]
     },
     "execution_count": 299,
     "metadata": {},
     "output_type": "execute_result"
    }
   ],
   "source": [
    "city = users['city'].value_counts().reset_index()\n",
    "city.columns = ['city', 'count']\n",
    "city"
   ]
  },
  {
   "cell_type": "code",
   "execution_count": 300,
   "metadata": {
    "trusted": true
   },
   "outputs": [
    {
     "data": {
      "image/png": "[encoded data removed]",
      "text/plain": [
       "<Figure size 640x480 with 1 Axes>"
      ]
     },
     "metadata": {},
     "output_type": "display_data"
    }
   ],
   "source": [
    "sb.set_theme(style=\"ticks\", font_scale=0.8)\n",
    "sb.barplot(data=city, y='city', x='count', palette='viridis_r')\n",
    "sb.despine(offset=5, trim=True)\n",
    "plt.title(\"Частота встречаемости городов\")\n",
    "plt.xlabel(\"количество\")\n",
    "plt.ylabel(\"города\")"
   ]
  },
  {
   "cell_type": "markdown",
   "metadata": {},
   "source": [
    "Чаще встречается в таблице город Пятигорск, реже - Москва, наверное сервисом GoFast чаще пользуются в Пятигорске."
   ]
  },
  {
   "cell_type": "markdown",
   "metadata": {},
   "source": [
    "### Узнаем соотношение пользователей с подпиской и без"
   ]
  },
  {
   "cell_type": "code",
   "execution_count": 301,
   "metadata": {
    "trusted": true
   },
   "outputs": [
    {
     "data": {
      "image/png": "[encoded data removed]",
      "text/plain": [
       "<Figure size 600x600 with 1 Axes>"
      ]
     },
     "metadata": {},
     "output_type": "display_data"
    }
   ],
   "source": [
    "users_subscription_type = users.groupby('subscription_type')['user_id'].count()\n",
    "users_subscription_type.plot(kind='pie',\n",
    "                             autopct='%1.1f%%',\n",
    "                             figsize=(6, 6),\n",
    "                             textprops={'fontsize':14},\n",
    "                             colors=['#C7C7FF', '#6B6BFF'])\n",
    "plt.ylabel(None)\n",
    "\n",
    "plt.title('Доля пользователей с подпиской (ultra) и без неё (free)');"
   ]
  },
  {
   "cell_type": "markdown",
   "metadata": {},
   "source": [
    "Получается чуть больше пользователей без подписки"
   ]
  },
  {
   "cell_type": "markdown",
   "metadata": {},
   "source": [
    "### Изучим возраст пользователей"
   ]
  },
  {
   "cell_type": "code",
   "execution_count": 302,
   "metadata": {
    "trusted": true
   },
   "outputs": [
    {
     "data": {
      "text/plain": [
       "count    1534.000000\n",
       "mean       24.903520\n",
       "std         4.572367\n",
       "min        12.000000\n",
       "25%        22.000000\n",
       "50%        25.000000\n",
       "75%        28.000000\n",
       "max        43.000000\n",
       "Name: age, dtype: float64"
      ]
     },
     "execution_count": 302,
     "metadata": {},
     "output_type": "execute_result"
    }
   ],
   "source": [
    "users['age'].describe()"
   ]
  },
  {
   "cell_type": "markdown",
   "metadata": {},
   "source": [
    "Пользуются самокатами пользователи от 12 до 43 лет."
   ]
  },
  {
   "cell_type": "code",
   "execution_count": 303,
   "metadata": {
    "trusted": true
   },
   "outputs": [
    {
     "data": {
      "image/png": "[encoded data removed]",
      "text/plain": [
       "<Figure size 640x480 with 1 Axes>"
      ]
     },
     "metadata": {},
     "output_type": "display_data"
    }
   ],
   "source": [
    "\n",
    "sb.histplot(data=users['age']);\n",
    "sb.despine(offset=5, trim=True)\n",
    "plt.xlabel('возраст, лет');\n",
    "plt.ylabel('частота');\n",
    "plt.title('Возраст пользователей самокатов');"
   ]
  },
  {
   "cell_type": "markdown",
   "metadata": {},
   "source": [
    "Узнаем, люди каких возрастов берут в аренду самокаты чаще всего -   \n",
    "напишем функцию возвращающую границы интервала в котоом находятся часто встречаемые значения, то есть: границы = среднее +- стандартное отклонение"
   ]
  },
  {
   "cell_type": "code",
   "execution_count": 304,
   "metadata": {
    "trusted": true
   },
   "outputs": [],
   "source": [
    "def get_bounds_1(arg, type_mean='mean'):\n",
    "    if type_mean == 'median':\n",
    "        m = arg.median()\n",
    "    else:\n",
    "        m = arg.mean()\n",
    "\n",
    "    return round(m-arg.std()), round(m+arg.std())"
   ]
  },
  {
   "cell_type": "markdown",
   "metadata": {},
   "source": [
    "Считаем и выводим на экран"
   ]
  },
  {
   "cell_type": "code",
   "execution_count": 305,
   "metadata": {
    "trusted": true
   },
   "outputs": [
    {
     "name": "stdout",
     "output_type": "stream",
     "text": [
      "Часто арендуют скутеры пользователи от 20 до 29 лет\n"
     ]
    }
   ],
   "source": [
    "\n",
    "bound_age_min, bound_age_max =get_bounds_1(users['age'])\n",
    "print(f'Часто арендуют скутеры пользователи от {bound_age_min} до {bound_age_max} лет')\n"
   ]
  },
  {
   "cell_type": "markdown",
   "metadata": {},
   "source": [
    "### Изучим расстояние которое пользователь преодолел за одну поездку"
   ]
  },
  {
   "cell_type": "code",
   "execution_count": 306,
   "metadata": {
    "trusted": true
   },
   "outputs": [
    {
     "data": {
      "text/plain": [
       "count    18068.000000\n",
       "mean      3070.659976\n",
       "std       1116.831209\n",
       "min          0.855683\n",
       "25%       2543.226360\n",
       "50%       3133.609994\n",
       "75%       3776.222735\n",
       "max       7211.007745\n",
       "Name: distance, dtype: float64"
      ]
     },
     "execution_count": 306,
     "metadata": {},
     "output_type": "execute_result"
    }
   ],
   "source": [
    "rides['distance'].describe()"
   ]
  },
  {
   "cell_type": "code",
   "execution_count": 307,
   "metadata": {
    "trusted": true
   },
   "outputs": [
    {
     "data": {
      "image/png": "[encoded data removed]",
      "text/plain": [
       "<Figure size 640x480 with 1 Axes>"
      ]
     },
     "metadata": {},
     "output_type": "display_data"
    }
   ],
   "source": [
    "sb.histplot(rides['distance']);\n",
    "sb.despine(offset=5, trim=True);\n",
    "plt.xlabel('расстояние, м');\n",
    "plt.ylabel('частота');\n",
    "plt.title('Расстояния пройденные пользователями');"
   ]
  },
  {
   "cell_type": "markdown",
   "metadata": {},
   "source": [
    "На графике 2 \"колокола\" - один с 0 до 1500 м, второй - 1500 -7211 м.  \n",
    "\n",
    "по второму колоколу можно сказать что пользователи чаще преоделевают расстояния с 2500 м до 4500 м.\n"
   ]
  },
  {
   "cell_type": "code",
   "execution_count": 308,
   "metadata": {
    "trusted": true
   },
   "outputs": [],
   "source": [
    "def get_bounds(arg):\n",
    "    # квартиль 1ый\n",
    "    q1 = arg.quantile(0.25)\n",
    "    # квартиль 3ий\n",
    "    q3 = arg.quantile(0.75)\n",
    "    # межквартильный размах IQR\n",
    "    iqr = q3 - q1\n",
    "\n",
    "    # крайние усы \n",
    "    lower_bound = q1 - (1.5 * iqr)\n",
    "    upper_bound = q3 + (1.5 * iqr)\n",
    "\n",
    "    return lower_bound, upper_bound"
   ]
  },
  {
   "cell_type": "code",
   "execution_count": 309,
   "metadata": {
    "trusted": true
   },
   "outputs": [
    {
     "data": {
      "image/png": "[encoded data removed]",
      "text/plain": [
       "<Figure size 640x480 with 1 Axes>"
      ]
     },
     "metadata": {},
     "output_type": "display_data"
    }
   ],
   "source": [
    "lower_bound, upper_bound = get_bounds(rides['distance'])\n",
    "\n",
    "rides_distance = (rides['distance']\n",
    "                  .loc[\n",
    "    (rides['distance'] > lower_bound)\n",
    "    &\n",
    "    (rides['distance'] < upper_bound)\n",
    "]\n",
    ")\n",
    "\n",
    "sb.histplot(rides_distance)\n",
    "sb.despine(offset=5, trim=True)\n",
    "plt.xlabel('расстояние, м')\n",
    "plt.ylabel('частота')\n",
    "plt.title('Расстояния пройденные пользователями')"
   ]
  },
  {
   "cell_type": "code",
   "execution_count": 310,
   "metadata": {
    "trusted": true
   },
   "outputs": [
    {
     "name": "stdout",
     "output_type": "stream",
     "text": [
      "В основном пользователи преодолевают расстояния от 2017 до 4250 метров\n"
     ]
    }
   ],
   "source": [
    "low_bound, up_bound = get_bounds_1(rides['distance'], type_mean='median')\n",
    "\n",
    "print(\n",
    "    f'В основном пользователи преодолевают расстояния от {low_bound} до {up_bound} метров')"
   ]
  },
  {
   "cell_type": "markdown",
   "metadata": {},
   "source": [
    "### Изучим продолжительность поездок"
   ]
  },
  {
   "cell_type": "code",
   "execution_count": 311,
   "metadata": {
    "trusted": true
   },
   "outputs": [
    {
     "data": {
      "text/plain": [
       "count    18068.000000\n",
       "mean        17.805011\n",
       "std          6.091051\n",
       "min          0.500000\n",
       "25%         13.597563\n",
       "50%         17.678395\n",
       "75%         21.724800\n",
       "max         40.823963\n",
       "Name: duration, dtype: float64"
      ]
     },
     "execution_count": 311,
     "metadata": {},
     "output_type": "execute_result"
    }
   ],
   "source": [
    "rides['duration'].describe()"
   ]
  },
  {
   "cell_type": "markdown",
   "metadata": {},
   "source": [
    "Ехать 40 минут на самокате можно, а вот 30 сек наврядли. Посмотрим подробнее"
   ]
  },
  {
   "cell_type": "code",
   "execution_count": 312,
   "metadata": {
    "trusted": true
   },
   "outputs": [
    {
     "data": {
      "image/png": "[encoded data removed]",
      "text/plain": [
       "<Figure size 640x480 with 1 Axes>"
      ]
     },
     "metadata": {},
     "output_type": "display_data"
    }
   ],
   "source": [
    "sb.histplot(rides['duration'], bins=80);\n",
    "sb.despine(offset=5, trim=True);\n",
    "plt.xlabel('длительность (мин)');\n",
    "plt.ylabel('количество');\n",
    "plt.title('Длительность поездок');"
   ]
  },
  {
   "cell_type": "code",
   "execution_count": 313,
   "metadata": {
    "trusted": true
   },
   "outputs": [
    {
     "data": {
      "text/plain": [
       "0.5    95\n",
       "Name: duration, dtype: int64"
      ]
     },
     "execution_count": 313,
     "metadata": {},
     "output_type": "execute_result"
    }
   ],
   "source": [
    "rides['duration'].loc[rides['duration'] < 2].value_counts()"
   ]
  },
  {
   "cell_type": "markdown",
   "metadata": {},
   "source": [
    "95 поездок завершены за 30 сек. Совпадение? нет не думаю. Аномалия с технической стороны. Пометим для баг-репорта. "
   ]
  },
  {
   "cell_type": "markdown",
   "metadata": {},
   "source": [
    "Найдем среднее время затраченное на поездку и основную длительность поездок."
   ]
  },
  {
   "cell_type": "code",
   "execution_count": 314,
   "metadata": {
    "trusted": true
   },
   "outputs": [
    {
     "name": "stdout",
     "output_type": "stream",
     "text": [
      "Cредняя длительность поездки:  18 мин\n",
      "В основном поездки длятся от 12 до 24 мин\n"
     ]
    }
   ],
   "source": [
    "duration_bound_min, duration_bound_max = get_bounds_1(rides['duration'])\n",
    "\n",
    "\n",
    "print(f'Cредняя длительность поездки: ',\n",
    "      round(rides['duration'].mean()), 'мин')\n",
    "\n",
    "\n",
    "print(\n",
    "    f'В основном поездки длятся от {duration_bound_min} до {duration_bound_max} мин')"
   ]
  },
  {
   "cell_type": "markdown",
   "metadata": {},
   "source": [
    "### Объединение данных"
   ]
  },
  {
   "cell_type": "markdown",
   "metadata": {},
   "source": [
    "Обьединим данные о пользователях, поездках и подписках в один датафрейм"
   ]
  },
  {
   "cell_type": "code",
   "execution_count": 315,
   "metadata": {
    "trusted": true
   },
   "outputs": [
    {
     "data": {
      "text/html": [
       "<div>\n",
       "<style scoped>\n",
       "    .dataframe tbody tr th:only-of-type {\n",
       "        vertical-align: middle;\n",
       "    }\n",
       "\n",
       "    .dataframe tbody tr th {\n",
       "        vertical-align: top;\n",
       "    }\n",
       "\n",
       "    .dataframe thead th {\n",
       "        text-align: right;\n",
       "    }\n",
       "</style>\n",
       "<table border=\"1\" class=\"dataframe\">\n",
       "  <thead>\n",
       "    <tr style=\"text-align: right;\">\n",
       "      <th></th>\n",
       "      <th>user_id</th>\n",
       "      <th>name</th>\n",
       "      <th>age</th>\n",
       "      <th>city</th>\n",
       "      <th>subscription_type</th>\n",
       "      <th>distance</th>\n",
       "      <th>duration</th>\n",
       "      <th>date</th>\n",
       "      <th>month</th>\n",
       "    </tr>\n",
       "  </thead>\n",
       "  <tbody>\n",
       "    <tr>\n",
       "      <th>0</th>\n",
       "      <td>1</td>\n",
       "      <td>Кира</td>\n",
       "      <td>22</td>\n",
       "      <td>Тюмень</td>\n",
       "      <td>ultra</td>\n",
       "      <td>4409.919140</td>\n",
       "      <td>25.599769</td>\n",
       "      <td>2021-01-01</td>\n",
       "      <td>1</td>\n",
       "    </tr>\n",
       "    <tr>\n",
       "      <th>1</th>\n",
       "      <td>1</td>\n",
       "      <td>Кира</td>\n",
       "      <td>22</td>\n",
       "      <td>Тюмень</td>\n",
       "      <td>ultra</td>\n",
       "      <td>2617.592153</td>\n",
       "      <td>15.816871</td>\n",
       "      <td>2021-01-18</td>\n",
       "      <td>1</td>\n",
       "    </tr>\n",
       "    <tr>\n",
       "      <th>2</th>\n",
       "      <td>1</td>\n",
       "      <td>Кира</td>\n",
       "      <td>22</td>\n",
       "      <td>Тюмень</td>\n",
       "      <td>ultra</td>\n",
       "      <td>754.159807</td>\n",
       "      <td>6.232113</td>\n",
       "      <td>2021-04-20</td>\n",
       "      <td>4</td>\n",
       "    </tr>\n",
       "    <tr>\n",
       "      <th>3</th>\n",
       "      <td>1</td>\n",
       "      <td>Кира</td>\n",
       "      <td>22</td>\n",
       "      <td>Тюмень</td>\n",
       "      <td>ultra</td>\n",
       "      <td>2694.783254</td>\n",
       "      <td>18.511000</td>\n",
       "      <td>2021-08-11</td>\n",
       "      <td>8</td>\n",
       "    </tr>\n",
       "    <tr>\n",
       "      <th>4</th>\n",
       "      <td>1</td>\n",
       "      <td>Кира</td>\n",
       "      <td>22</td>\n",
       "      <td>Тюмень</td>\n",
       "      <td>ultra</td>\n",
       "      <td>4028.687306</td>\n",
       "      <td>26.265803</td>\n",
       "      <td>2021-08-28</td>\n",
       "      <td>8</td>\n",
       "    </tr>\n",
       "  </tbody>\n",
       "</table>\n",
       "</div>"
      ],
      "text/plain": [
       "   user_id  name  age    city subscription_type     distance   duration  \\\n",
       "0        1  Кира   22  Тюмень             ultra  4409.919140  25.599769   \n",
       "1        1  Кира   22  Тюмень             ultra  2617.592153  15.816871   \n",
       "2        1  Кира   22  Тюмень             ultra   754.159807   6.232113   \n",
       "3        1  Кира   22  Тюмень             ultra  2694.783254  18.511000   \n",
       "4        1  Кира   22  Тюмень             ultra  4028.687306  26.265803   \n",
       "\n",
       "        date  month  \n",
       "0 2021-01-01      1  \n",
       "1 2021-01-18      1  \n",
       "2 2021-04-20      4  \n",
       "3 2021-08-11      8  \n",
       "4 2021-08-28      8  "
      ]
     },
     "execution_count": 315,
     "metadata": {},
     "output_type": "execute_result"
    }
   ],
   "source": [
    "total_data = users.merge(rides,\n",
    "                         on='user_id',\n",
    "                         how='inner'\n",
    "                         )\n",
    "\n",
    "total_data.head()"
   ]
  },
  {
   "cell_type": "code",
   "execution_count": 316,
   "metadata": {
    "trusted": true
   },
   "outputs": [
    {
     "data": {
      "text/html": [
       "<div>\n",
       "<style scoped>\n",
       "    .dataframe tbody tr th:only-of-type {\n",
       "        vertical-align: middle;\n",
       "    }\n",
       "\n",
       "    .dataframe tbody tr th {\n",
       "        vertical-align: top;\n",
       "    }\n",
       "\n",
       "    .dataframe thead th {\n",
       "        text-align: right;\n",
       "    }\n",
       "</style>\n",
       "<table border=\"1\" class=\"dataframe\">\n",
       "  <thead>\n",
       "    <tr style=\"text-align: right;\">\n",
       "      <th></th>\n",
       "      <th>0</th>\n",
       "      <th>1</th>\n",
       "      <th>2</th>\n",
       "      <th>3</th>\n",
       "      <th>4</th>\n",
       "    </tr>\n",
       "  </thead>\n",
       "  <tbody>\n",
       "    <tr>\n",
       "      <th>user_id</th>\n",
       "      <td>1</td>\n",
       "      <td>1</td>\n",
       "      <td>1</td>\n",
       "      <td>1</td>\n",
       "      <td>1</td>\n",
       "    </tr>\n",
       "    <tr>\n",
       "      <th>name</th>\n",
       "      <td>Кира</td>\n",
       "      <td>Кира</td>\n",
       "      <td>Кира</td>\n",
       "      <td>Кира</td>\n",
       "      <td>Кира</td>\n",
       "    </tr>\n",
       "    <tr>\n",
       "      <th>age</th>\n",
       "      <td>22</td>\n",
       "      <td>22</td>\n",
       "      <td>22</td>\n",
       "      <td>22</td>\n",
       "      <td>22</td>\n",
       "    </tr>\n",
       "    <tr>\n",
       "      <th>city</th>\n",
       "      <td>Тюмень</td>\n",
       "      <td>Тюмень</td>\n",
       "      <td>Тюмень</td>\n",
       "      <td>Тюмень</td>\n",
       "      <td>Тюмень</td>\n",
       "    </tr>\n",
       "    <tr>\n",
       "      <th>subscription_type</th>\n",
       "      <td>ultra</td>\n",
       "      <td>ultra</td>\n",
       "      <td>ultra</td>\n",
       "      <td>ultra</td>\n",
       "      <td>ultra</td>\n",
       "    </tr>\n",
       "    <tr>\n",
       "      <th>distance</th>\n",
       "      <td>4409.91914</td>\n",
       "      <td>2617.592153</td>\n",
       "      <td>754.159807</td>\n",
       "      <td>2694.783254</td>\n",
       "      <td>4028.687306</td>\n",
       "    </tr>\n",
       "    <tr>\n",
       "      <th>duration</th>\n",
       "      <td>25.599769</td>\n",
       "      <td>15.816871</td>\n",
       "      <td>6.232113</td>\n",
       "      <td>18.511</td>\n",
       "      <td>26.265803</td>\n",
       "    </tr>\n",
       "    <tr>\n",
       "      <th>date</th>\n",
       "      <td>2021-01-01 00:00:00</td>\n",
       "      <td>2021-01-18 00:00:00</td>\n",
       "      <td>2021-04-20 00:00:00</td>\n",
       "      <td>2021-08-11 00:00:00</td>\n",
       "      <td>2021-08-28 00:00:00</td>\n",
       "    </tr>\n",
       "    <tr>\n",
       "      <th>month</th>\n",
       "      <td>1</td>\n",
       "      <td>1</td>\n",
       "      <td>4</td>\n",
       "      <td>8</td>\n",
       "      <td>8</td>\n",
       "    </tr>\n",
       "    <tr>\n",
       "      <th>minute_price</th>\n",
       "      <td>6</td>\n",
       "      <td>6</td>\n",
       "      <td>6</td>\n",
       "      <td>6</td>\n",
       "      <td>6</td>\n",
       "    </tr>\n",
       "    <tr>\n",
       "      <th>start_ride_price</th>\n",
       "      <td>0</td>\n",
       "      <td>0</td>\n",
       "      <td>0</td>\n",
       "      <td>0</td>\n",
       "      <td>0</td>\n",
       "    </tr>\n",
       "    <tr>\n",
       "      <th>subscription_fee</th>\n",
       "      <td>199</td>\n",
       "      <td>199</td>\n",
       "      <td>199</td>\n",
       "      <td>199</td>\n",
       "      <td>199</td>\n",
       "    </tr>\n",
       "  </tbody>\n",
       "</table>\n",
       "</div>"
      ],
      "text/plain": [
       "                                     0                    1  \\\n",
       "user_id                              1                    1   \n",
       "name                              Кира                 Кира   \n",
       "age                                 22                   22   \n",
       "city                            Тюмень               Тюмень   \n",
       "subscription_type                ultra                ultra   \n",
       "distance                    4409.91914          2617.592153   \n",
       "duration                     25.599769            15.816871   \n",
       "date               2021-01-01 00:00:00  2021-01-18 00:00:00   \n",
       "month                                1                    1   \n",
       "minute_price                         6                    6   \n",
       "start_ride_price                     0                    0   \n",
       "subscription_fee                   199                  199   \n",
       "\n",
       "                                     2                    3  \\\n",
       "user_id                              1                    1   \n",
       "name                              Кира                 Кира   \n",
       "age                                 22                   22   \n",
       "city                            Тюмень               Тюмень   \n",
       "subscription_type                ultra                ultra   \n",
       "distance                    754.159807          2694.783254   \n",
       "duration                      6.232113               18.511   \n",
       "date               2021-04-20 00:00:00  2021-08-11 00:00:00   \n",
       "month                                4                    8   \n",
       "minute_price                         6                    6   \n",
       "start_ride_price                     0                    0   \n",
       "subscription_fee                   199                  199   \n",
       "\n",
       "                                     4  \n",
       "user_id                              1  \n",
       "name                              Кира  \n",
       "age                                 22  \n",
       "city                            Тюмень  \n",
       "subscription_type                ultra  \n",
       "distance                   4028.687306  \n",
       "duration                     26.265803  \n",
       "date               2021-08-28 00:00:00  \n",
       "month                                8  \n",
       "minute_price                         6  \n",
       "start_ride_price                     0  \n",
       "subscription_fee                   199  "
      ]
     },
     "execution_count": 316,
     "metadata": {},
     "output_type": "execute_result"
    }
   ],
   "source": [
    "total_data = total_data.merge(subscriptions,\n",
    "                              on='subscription_type',\n",
    "                              how='inner'\n",
    "                              )\n",
    "\n",
    "\n",
    "total_data.head().T"
   ]
  },
  {
   "cell_type": "markdown",
   "metadata": {},
   "source": [
    "Проверим количество строк таблицы до и после обьединения. Так как таблица `rides` дополняется данными из двух других таблиц (добавляются столбцы), то сравнивать будем ее с таблицей `total_data`"
   ]
  },
  {
   "cell_type": "code",
   "execution_count": 317,
   "metadata": {
    "trusted": true
   },
   "outputs": [
    {
     "name": "stdout",
     "output_type": "stream",
     "text": [
      "Строк в таблице rides: 18068\n",
      "Строк в таблице total_data: 18068\n"
     ]
    }
   ],
   "source": [
    "print('Строк в таблице rides:', len(rides))\n",
    "print('Строк в таблице total_data:', len(total_data))"
   ]
  },
  {
   "cell_type": "markdown",
   "metadata": {},
   "source": [
    "Количество строк до и после слияния одинаково. Слияние прошло успешно"
   ]
  },
  {
   "cell_type": "markdown",
   "metadata": {},
   "source": [
    "Создадим 2 датафрейма - в одном пользователи с подпиской, в другом - без."
   ]
  },
  {
   "cell_type": "code",
   "execution_count": 318,
   "metadata": {
    "trusted": true
   },
   "outputs": [],
   "source": [
    "users_free = total_data.query('subscription_type==\"free\"')\n",
    "users_ultra = total_data.query('subscription_type==\"ultra\"')"
   ]
  },
  {
   "cell_type": "markdown",
   "metadata": {},
   "source": [
    "### Построение графиков длительности сессий и расстояний для каждой категории пользователей."
   ]
  },
  {
   "cell_type": "markdown",
   "metadata": {},
   "source": [
    "#### Дистанция пройденная пользователями с подпиской и без нее"
   ]
  },
  {
   "cell_type": "code",
   "execution_count": 319,
   "metadata": {
    "trusted": true
   },
   "outputs": [
    {
     "data": {
      "image/png": "[encoded data removed]",
      "text/plain": [
       "<Figure size 640x480 with 1 Axes>"
      ]
     },
     "metadata": {},
     "output_type": "display_data"
    }
   ],
   "source": [
    "sb.histplot(users_free['distance'], color='#9696FF');\n",
    "sb.histplot(users_ultra['distance'], color='#2121FF');\n",
    "sb.despine(offset=5, trim=True)\n",
    "plt.legend(['без подписки', 'с подпиской']);\n",
    "plt.title('Расстояния пройденные пользователями');\n",
    "plt.xlabel('расстояние (м)');\n",
    "plt.ylabel('количество');"
   ]
  },
  {
   "cell_type": "markdown",
   "metadata": {},
   "source": [
    "Пользователи с подпиской преодолевают расстояния (см. вторые пики) в основном 2.5-4 км , а без нее - 2-4.5 км "
   ]
  },
  {
   "cell_type": "markdown",
   "metadata": {},
   "source": [
    "Загадкой по-прежнему остаются первые пики. "
   ]
  },
  {
   "cell_type": "markdown",
   "metadata": {},
   "source": [
    "#### Длительность поездок пользователей с подпиской и без нее"
   ]
  },
  {
   "cell_type": "code",
   "execution_count": 320,
   "metadata": {
    "trusted": true
   },
   "outputs": [
    {
     "data": {
      "image/png": "[encoded data removed]",
      "text/plain": [
       "<Figure size 640x480 with 1 Axes>"
      ]
     },
     "metadata": {},
     "output_type": "display_data"
    }
   ],
   "source": [
    "sb.histplot(users_free['duration'], color='#9696FF');\n",
    "sb.histplot(users_ultra['duration'], color='#2121FF');\n",
    "sb.despine(offset=5, trim=True);\n",
    "plt.legend(['без подписки','с подпиской']);\n",
    "plt.title('Длительность поездок');\n",
    "plt.xlabel('длительность, мин');\n",
    "plt.ylabel('количество');"
   ]
  },
  {
   "cell_type": "markdown",
   "metadata": {},
   "source": [
    "Распределения напоминают друг друга очертаниями - похоже, что приезжают в одни и те же места независимо от подписки.  "
   ]
  },
  {
   "cell_type": "code",
   "execution_count": 321,
   "metadata": {
    "trusted": true
   },
   "outputs": [
    {
     "name": "stdout",
     "output_type": "stream",
     "text": [
      "В основном поездки пользователей без подписки длятся от 11 до 24 мин\n",
      "В основном поездки пользователей с подпиской длятся от 13 до 24 мин\n"
     ]
    }
   ],
   "source": [
    "\n",
    "for value, name in zip([users_free['duration'],\n",
    "                        users_ultra['duration']\n",
    "                        ],\n",
    "                       ['без подписки',\n",
    "                        'с подпиской']):\n",
    "    duration_bound_min, duration_bound_max = (get_bounds_1(value,\n",
    "                                                           type_mean='median'))\n",
    "    print(\n",
    "        f'В основном поездки пользователей {name} длятся от {duration_bound_min} до {duration_bound_max} мин')"
   ]
  },
  {
   "cell_type": "markdown",
   "metadata": {},
   "source": [
    "### Подсчет выручки\n"
   ]
  },
  {
   "cell_type": "markdown",
   "metadata": {},
   "source": [
    "Округлим длительности поездок принудительно до целого"
   ]
  },
  {
   "cell_type": "code",
   "execution_count": 322,
   "metadata": {
    "trusted": true
   },
   "outputs": [],
   "source": [
    "total_data['duration'] = np.ceil(total_data['duration'])\n"
   ]
  },
  {
   "cell_type": "markdown",
   "metadata": {},
   "source": [
    "Создадим сводную таблицу, в ключающую в себя, по месяцам, длительность поездок, пройденное расстояние, количество поездок"
   ]
  },
  {
   "cell_type": "code",
   "execution_count": 323,
   "metadata": {
    "trusted": true
   },
   "outputs": [
    {
     "data": {
      "text/html": [
       "<div>\n",
       "<style scoped>\n",
       "    .dataframe tbody tr th:only-of-type {\n",
       "        vertical-align: middle;\n",
       "    }\n",
       "\n",
       "    .dataframe tbody tr th {\n",
       "        vertical-align: top;\n",
       "    }\n",
       "\n",
       "    .dataframe thead th {\n",
       "        text-align: right;\n",
       "    }\n",
       "</style>\n",
       "<table border=\"1\" class=\"dataframe\">\n",
       "  <thead>\n",
       "    <tr style=\"text-align: right;\">\n",
       "      <th></th>\n",
       "      <th></th>\n",
       "      <th>distance</th>\n",
       "      <th>duration</th>\n",
       "      <th>minute_price</th>\n",
       "      <th>start_ride_price</th>\n",
       "      <th>subscription_fee</th>\n",
       "      <th>subscription_type</th>\n",
       "    </tr>\n",
       "    <tr>\n",
       "      <th>user_id</th>\n",
       "      <th>month</th>\n",
       "      <th></th>\n",
       "      <th></th>\n",
       "      <th></th>\n",
       "      <th></th>\n",
       "      <th></th>\n",
       "      <th></th>\n",
       "    </tr>\n",
       "  </thead>\n",
       "  <tbody>\n",
       "    <tr>\n",
       "      <th rowspan=\"6\" valign=\"top\">1</th>\n",
       "      <th>1</th>\n",
       "      <td>7027.511294</td>\n",
       "      <td>42.0</td>\n",
       "      <td>6</td>\n",
       "      <td>0</td>\n",
       "      <td>199</td>\n",
       "      <td>ultra</td>\n",
       "    </tr>\n",
       "    <tr>\n",
       "      <th>4</th>\n",
       "      <td>754.159807</td>\n",
       "      <td>7.0</td>\n",
       "      <td>6</td>\n",
       "      <td>0</td>\n",
       "      <td>199</td>\n",
       "      <td>ultra</td>\n",
       "    </tr>\n",
       "    <tr>\n",
       "      <th>8</th>\n",
       "      <td>6723.470560</td>\n",
       "      <td>46.0</td>\n",
       "      <td>6</td>\n",
       "      <td>0</td>\n",
       "      <td>199</td>\n",
       "      <td>ultra</td>\n",
       "    </tr>\n",
       "    <tr>\n",
       "      <th>10</th>\n",
       "      <td>5809.911100</td>\n",
       "      <td>32.0</td>\n",
       "      <td>6</td>\n",
       "      <td>0</td>\n",
       "      <td>199</td>\n",
       "      <td>ultra</td>\n",
       "    </tr>\n",
       "    <tr>\n",
       "      <th>11</th>\n",
       "      <td>7003.499363</td>\n",
       "      <td>56.0</td>\n",
       "      <td>6</td>\n",
       "      <td>0</td>\n",
       "      <td>199</td>\n",
       "      <td>ultra</td>\n",
       "    </tr>\n",
       "    <tr>\n",
       "      <th>12</th>\n",
       "      <td>6751.629942</td>\n",
       "      <td>28.0</td>\n",
       "      <td>6</td>\n",
       "      <td>0</td>\n",
       "      <td>199</td>\n",
       "      <td>ultra</td>\n",
       "    </tr>\n",
       "    <tr>\n",
       "      <th rowspan=\"4\" valign=\"top\">2</th>\n",
       "      <th>3</th>\n",
       "      <td>10187.723006</td>\n",
       "      <td>63.0</td>\n",
       "      <td>6</td>\n",
       "      <td>0</td>\n",
       "      <td>199</td>\n",
       "      <td>ultra</td>\n",
       "    </tr>\n",
       "    <tr>\n",
       "      <th>4</th>\n",
       "      <td>6164.381824</td>\n",
       "      <td>40.0</td>\n",
       "      <td>6</td>\n",
       "      <td>0</td>\n",
       "      <td>199</td>\n",
       "      <td>ultra</td>\n",
       "    </tr>\n",
       "    <tr>\n",
       "      <th>6</th>\n",
       "      <td>3255.338202</td>\n",
       "      <td>14.0</td>\n",
       "      <td>6</td>\n",
       "      <td>0</td>\n",
       "      <td>199</td>\n",
       "      <td>ultra</td>\n",
       "    </tr>\n",
       "    <tr>\n",
       "      <th>7</th>\n",
       "      <td>6780.722964</td>\n",
       "      <td>48.0</td>\n",
       "      <td>6</td>\n",
       "      <td>0</td>\n",
       "      <td>199</td>\n",
       "      <td>ultra</td>\n",
       "    </tr>\n",
       "  </tbody>\n",
       "</table>\n",
       "</div>"
      ],
      "text/plain": [
       "                   distance  duration  minute_price  start_ride_price  \\\n",
       "user_id month                                                           \n",
       "1       1       7027.511294      42.0             6                 0   \n",
       "        4        754.159807       7.0             6                 0   \n",
       "        8       6723.470560      46.0             6                 0   \n",
       "        10      5809.911100      32.0             6                 0   \n",
       "        11      7003.499363      56.0             6                 0   \n",
       "        12      6751.629942      28.0             6                 0   \n",
       "2       3      10187.723006      63.0             6                 0   \n",
       "        4       6164.381824      40.0             6                 0   \n",
       "        6       3255.338202      14.0             6                 0   \n",
       "        7       6780.722964      48.0             6                 0   \n",
       "\n",
       "               subscription_fee subscription_type  \n",
       "user_id month                                      \n",
       "1       1                   199             ultra  \n",
       "        4                   199             ultra  \n",
       "        8                   199             ultra  \n",
       "        10                  199             ultra  \n",
       "        11                  199             ultra  \n",
       "        12                  199             ultra  \n",
       "2       3                   199             ultra  \n",
       "        4                   199             ultra  \n",
       "        6                   199             ultra  \n",
       "        7                   199             ultra  "
      ]
     },
     "execution_count": 323,
     "metadata": {},
     "output_type": "execute_result"
    }
   ],
   "source": [
    "aggregate_data = total_data.pivot_table(index=['user_id', 'month'],\n",
    "                                        values=['distance', 'duration',\n",
    "                                                'start_ride_price',\n",
    "                                                'minute_price',\n",
    "                                                'subscription_fee',\n",
    "                                                'subscription_type'],\n",
    "                                        aggfunc={'distance': 'sum',\n",
    "                                                 'duration': 'sum',\n",
    "                                                 'start_ride_price': 'first',\n",
    "                                                 'minute_price': 'first',\n",
    "                                                 'subscription_fee': 'first',\n",
    "                                                 'subscription_type': 'first'})\n",
    "\n",
    "\n",
    "# проверим\n",
    "aggregate_data.head(10)"
   ]
  },
  {
   "cell_type": "markdown",
   "metadata": {},
   "source": [
    "Добавим столбец с количесвсвом поездок за месяц и переместим столбец в начало для удобства чтения таблицы"
   ]
  },
  {
   "cell_type": "code",
   "execution_count": 324,
   "metadata": {},
   "outputs": [
    {
     "data": {
      "text/html": [
       "<div>\n",
       "<style scoped>\n",
       "    .dataframe tbody tr th:only-of-type {\n",
       "        vertical-align: middle;\n",
       "    }\n",
       "\n",
       "    .dataframe tbody tr th {\n",
       "        vertical-align: top;\n",
       "    }\n",
       "\n",
       "    .dataframe thead th {\n",
       "        text-align: right;\n",
       "    }\n",
       "</style>\n",
       "<table border=\"1\" class=\"dataframe\">\n",
       "  <thead>\n",
       "    <tr style=\"text-align: right;\">\n",
       "      <th></th>\n",
       "      <th></th>\n",
       "      <th>count_rides</th>\n",
       "      <th>distance</th>\n",
       "      <th>duration</th>\n",
       "      <th>minute_price</th>\n",
       "      <th>start_ride_price</th>\n",
       "      <th>subscription_fee</th>\n",
       "      <th>subscription_type</th>\n",
       "    </tr>\n",
       "    <tr>\n",
       "      <th>user_id</th>\n",
       "      <th>month</th>\n",
       "      <th></th>\n",
       "      <th></th>\n",
       "      <th></th>\n",
       "      <th></th>\n",
       "      <th></th>\n",
       "      <th></th>\n",
       "      <th></th>\n",
       "    </tr>\n",
       "  </thead>\n",
       "  <tbody>\n",
       "    <tr>\n",
       "      <th rowspan=\"5\" valign=\"top\">1</th>\n",
       "      <th>1</th>\n",
       "      <td>2</td>\n",
       "      <td>7027.511294</td>\n",
       "      <td>42.0</td>\n",
       "      <td>6</td>\n",
       "      <td>0</td>\n",
       "      <td>199</td>\n",
       "      <td>ultra</td>\n",
       "    </tr>\n",
       "    <tr>\n",
       "      <th>4</th>\n",
       "      <td>1</td>\n",
       "      <td>754.159807</td>\n",
       "      <td>7.0</td>\n",
       "      <td>6</td>\n",
       "      <td>0</td>\n",
       "      <td>199</td>\n",
       "      <td>ultra</td>\n",
       "    </tr>\n",
       "    <tr>\n",
       "      <th>8</th>\n",
       "      <td>2</td>\n",
       "      <td>6723.470560</td>\n",
       "      <td>46.0</td>\n",
       "      <td>6</td>\n",
       "      <td>0</td>\n",
       "      <td>199</td>\n",
       "      <td>ultra</td>\n",
       "    </tr>\n",
       "    <tr>\n",
       "      <th>10</th>\n",
       "      <td>2</td>\n",
       "      <td>5809.911100</td>\n",
       "      <td>32.0</td>\n",
       "      <td>6</td>\n",
       "      <td>0</td>\n",
       "      <td>199</td>\n",
       "      <td>ultra</td>\n",
       "    </tr>\n",
       "    <tr>\n",
       "      <th>11</th>\n",
       "      <td>3</td>\n",
       "      <td>7003.499363</td>\n",
       "      <td>56.0</td>\n",
       "      <td>6</td>\n",
       "      <td>0</td>\n",
       "      <td>199</td>\n",
       "      <td>ultra</td>\n",
       "    </tr>\n",
       "  </tbody>\n",
       "</table>\n",
       "</div>"
      ],
      "text/plain": [
       "               count_rides     distance  duration  minute_price  \\\n",
       "user_id month                                                     \n",
       "1       1                2  7027.511294      42.0             6   \n",
       "        4                1   754.159807       7.0             6   \n",
       "        8                2  6723.470560      46.0             6   \n",
       "        10               2  5809.911100      32.0             6   \n",
       "        11               3  7003.499363      56.0             6   \n",
       "\n",
       "               start_ride_price  subscription_fee subscription_type  \n",
       "user_id month                                                        \n",
       "1       1                     0               199             ultra  \n",
       "        4                     0               199             ultra  \n",
       "        8                     0               199             ultra  \n",
       "        10                    0               199             ultra  \n",
       "        11                    0               199             ultra  "
      ]
     },
     "execution_count": 324,
     "metadata": {},
     "output_type": "execute_result"
    }
   ],
   "source": [
    "aggregate_data['count_rides'] = total_data.pivot_table(index=['user_id', 'month'],\n",
    "                                                       values='distance',\n",
    "                                                       aggfunc='count')\n",
    "# переставляем новый столбец в начало\n",
    "aggregate_data.insert(0, 'count_rides', aggregate_data.pop('count_rides'))\n",
    "aggregate_data.head()"
   ]
  },
  {
   "cell_type": "markdown",
   "metadata": {},
   "source": [
    "Переименуем столбцы"
   ]
  },
  {
   "cell_type": "code",
   "execution_count": 325,
   "metadata": {},
   "outputs": [
    {
     "data": {
      "text/html": [
       "<div>\n",
       "<style scoped>\n",
       "    .dataframe tbody tr th:only-of-type {\n",
       "        vertical-align: middle;\n",
       "    }\n",
       "\n",
       "    .dataframe tbody tr th {\n",
       "        vertical-align: top;\n",
       "    }\n",
       "\n",
       "    .dataframe thead th {\n",
       "        text-align: right;\n",
       "    }\n",
       "</style>\n",
       "<table border=\"1\" class=\"dataframe\">\n",
       "  <thead>\n",
       "    <tr style=\"text-align: right;\">\n",
       "      <th></th>\n",
       "      <th></th>\n",
       "      <th>count_rides</th>\n",
       "      <th>total_distance</th>\n",
       "      <th>total_duration</th>\n",
       "      <th>minute_price</th>\n",
       "      <th>start_ride_price</th>\n",
       "      <th>subscription_fee</th>\n",
       "      <th>subscription_type</th>\n",
       "    </tr>\n",
       "    <tr>\n",
       "      <th>user_id</th>\n",
       "      <th>month</th>\n",
       "      <th></th>\n",
       "      <th></th>\n",
       "      <th></th>\n",
       "      <th></th>\n",
       "      <th></th>\n",
       "      <th></th>\n",
       "      <th></th>\n",
       "    </tr>\n",
       "  </thead>\n",
       "  <tbody>\n",
       "    <tr>\n",
       "      <th rowspan=\"5\" valign=\"top\">1</th>\n",
       "      <th>1</th>\n",
       "      <td>2</td>\n",
       "      <td>7027.511294</td>\n",
       "      <td>42.0</td>\n",
       "      <td>6</td>\n",
       "      <td>0</td>\n",
       "      <td>199</td>\n",
       "      <td>ultra</td>\n",
       "    </tr>\n",
       "    <tr>\n",
       "      <th>4</th>\n",
       "      <td>1</td>\n",
       "      <td>754.159807</td>\n",
       "      <td>7.0</td>\n",
       "      <td>6</td>\n",
       "      <td>0</td>\n",
       "      <td>199</td>\n",
       "      <td>ultra</td>\n",
       "    </tr>\n",
       "    <tr>\n",
       "      <th>8</th>\n",
       "      <td>2</td>\n",
       "      <td>6723.470560</td>\n",
       "      <td>46.0</td>\n",
       "      <td>6</td>\n",
       "      <td>0</td>\n",
       "      <td>199</td>\n",
       "      <td>ultra</td>\n",
       "    </tr>\n",
       "    <tr>\n",
       "      <th>10</th>\n",
       "      <td>2</td>\n",
       "      <td>5809.911100</td>\n",
       "      <td>32.0</td>\n",
       "      <td>6</td>\n",
       "      <td>0</td>\n",
       "      <td>199</td>\n",
       "      <td>ultra</td>\n",
       "    </tr>\n",
       "    <tr>\n",
       "      <th>11</th>\n",
       "      <td>3</td>\n",
       "      <td>7003.499363</td>\n",
       "      <td>56.0</td>\n",
       "      <td>6</td>\n",
       "      <td>0</td>\n",
       "      <td>199</td>\n",
       "      <td>ultra</td>\n",
       "    </tr>\n",
       "  </tbody>\n",
       "</table>\n",
       "</div>"
      ],
      "text/plain": [
       "               count_rides  total_distance  total_duration  minute_price  \\\n",
       "user_id month                                                              \n",
       "1       1                2     7027.511294            42.0             6   \n",
       "        4                1      754.159807             7.0             6   \n",
       "        8                2     6723.470560            46.0             6   \n",
       "        10               2     5809.911100            32.0             6   \n",
       "        11               3     7003.499363            56.0             6   \n",
       "\n",
       "               start_ride_price  subscription_fee subscription_type  \n",
       "user_id month                                                        \n",
       "1       1                     0               199             ultra  \n",
       "        4                     0               199             ultra  \n",
       "        8                     0               199             ultra  \n",
       "        10                    0               199             ultra  \n",
       "        11                    0               199             ultra  "
      ]
     },
     "execution_count": 325,
     "metadata": {},
     "output_type": "execute_result"
    }
   ],
   "source": [
    "aggregate_data = aggregate_data.rename(columns={'distance': 'total_distance',\n",
    "                                                'duration': 'total_duration'})\n",
    "\n",
    "aggregate_data.head()"
   ]
  },
  {
   "cell_type": "markdown",
   "metadata": {},
   "source": [
    "Формула расчета стоимости   \n",
    "стоимость_старта_поездки * количество_поездок + стоимость_1_мин * общая_продолжитиельность_поездок + стоимость_подписки "
   ]
  },
  {
   "cell_type": "code",
   "execution_count": 326,
   "metadata": {
    "trusted": true
   },
   "outputs": [
    {
     "data": {
      "text/html": [
       "<div>\n",
       "<style scoped>\n",
       "    .dataframe tbody tr th:only-of-type {\n",
       "        vertical-align: middle;\n",
       "    }\n",
       "\n",
       "    .dataframe tbody tr th {\n",
       "        vertical-align: top;\n",
       "    }\n",
       "\n",
       "    .dataframe thead th {\n",
       "        text-align: right;\n",
       "    }\n",
       "</style>\n",
       "<table border=\"1\" class=\"dataframe\">\n",
       "  <thead>\n",
       "    <tr style=\"text-align: right;\">\n",
       "      <th></th>\n",
       "      <th></th>\n",
       "      <th>count_rides</th>\n",
       "      <th>total_distance</th>\n",
       "      <th>total_duration</th>\n",
       "      <th>minute_price</th>\n",
       "      <th>start_ride_price</th>\n",
       "      <th>subscription_fee</th>\n",
       "      <th>subscription_type</th>\n",
       "      <th>revenue</th>\n",
       "    </tr>\n",
       "    <tr>\n",
       "      <th>user_id</th>\n",
       "      <th>month</th>\n",
       "      <th></th>\n",
       "      <th></th>\n",
       "      <th></th>\n",
       "      <th></th>\n",
       "      <th></th>\n",
       "      <th></th>\n",
       "      <th></th>\n",
       "      <th></th>\n",
       "    </tr>\n",
       "  </thead>\n",
       "  <tbody>\n",
       "    <tr>\n",
       "      <th rowspan=\"5\" valign=\"top\">1</th>\n",
       "      <th>1</th>\n",
       "      <td>2</td>\n",
       "      <td>7027.511294</td>\n",
       "      <td>42.0</td>\n",
       "      <td>6</td>\n",
       "      <td>0</td>\n",
       "      <td>199</td>\n",
       "      <td>ultra</td>\n",
       "      <td>451.0</td>\n",
       "    </tr>\n",
       "    <tr>\n",
       "      <th>4</th>\n",
       "      <td>1</td>\n",
       "      <td>754.159807</td>\n",
       "      <td>7.0</td>\n",
       "      <td>6</td>\n",
       "      <td>0</td>\n",
       "      <td>199</td>\n",
       "      <td>ultra</td>\n",
       "      <td>241.0</td>\n",
       "    </tr>\n",
       "    <tr>\n",
       "      <th>8</th>\n",
       "      <td>2</td>\n",
       "      <td>6723.470560</td>\n",
       "      <td>46.0</td>\n",
       "      <td>6</td>\n",
       "      <td>0</td>\n",
       "      <td>199</td>\n",
       "      <td>ultra</td>\n",
       "      <td>475.0</td>\n",
       "    </tr>\n",
       "    <tr>\n",
       "      <th>10</th>\n",
       "      <td>2</td>\n",
       "      <td>5809.911100</td>\n",
       "      <td>32.0</td>\n",
       "      <td>6</td>\n",
       "      <td>0</td>\n",
       "      <td>199</td>\n",
       "      <td>ultra</td>\n",
       "      <td>391.0</td>\n",
       "    </tr>\n",
       "    <tr>\n",
       "      <th>11</th>\n",
       "      <td>3</td>\n",
       "      <td>7003.499363</td>\n",
       "      <td>56.0</td>\n",
       "      <td>6</td>\n",
       "      <td>0</td>\n",
       "      <td>199</td>\n",
       "      <td>ultra</td>\n",
       "      <td>535.0</td>\n",
       "    </tr>\n",
       "  </tbody>\n",
       "</table>\n",
       "</div>"
      ],
      "text/plain": [
       "               count_rides  total_distance  total_duration  minute_price  \\\n",
       "user_id month                                                              \n",
       "1       1                2     7027.511294            42.0             6   \n",
       "        4                1      754.159807             7.0             6   \n",
       "        8                2     6723.470560            46.0             6   \n",
       "        10               2     5809.911100            32.0             6   \n",
       "        11               3     7003.499363            56.0             6   \n",
       "\n",
       "               start_ride_price  subscription_fee subscription_type  revenue  \n",
       "user_id month                                                                 \n",
       "1       1                     0               199             ultra    451.0  \n",
       "        4                     0               199             ultra    241.0  \n",
       "        8                     0               199             ultra    475.0  \n",
       "        10                    0               199             ultra    391.0  \n",
       "        11                    0               199             ultra    535.0  "
      ]
     },
     "execution_count": 326,
     "metadata": {},
     "output_type": "execute_result"
    }
   ],
   "source": [
    "aggregate_data['revenue'] = (aggregate_data['start_ride_price'] * aggregate_data['count_rides'] +\n",
    "                             aggregate_data['minute_price'] * aggregate_data['total_duration'] +\n",
    "                             aggregate_data['subscription_fee'])\n",
    "\n",
    "\n",
    "aggregate_data.head()"
   ]
  },
  {
   "cell_type": "markdown",
   "metadata": {},
   "source": [
    "### Проверка гипотез"
   ]
  },
  {
   "cell_type": "markdown",
   "metadata": {},
   "source": [
    "Нулевая гипотеза -   пользователи с подпиской тратят  времени на поездки столько же сколько пользователи без подписки.  \n",
    "Альтернативная гипотеза -  пользователи с подпиской тратят БОЛЬШЕ времени на поездки, чем пользователи без подписки."
   ]
  },
  {
   "cell_type": "code",
   "execution_count": 327,
   "metadata": {},
   "outputs": [],
   "source": [
    "hipotesys_1={'H_0':'пользователи с подпиской тратят  времени на поездки столько же сколько пользователи без подписки',\n",
    "           'H_1':'пользователи с подпиской тратят БОЛЬШЕ времени на поездки, чем пользователи без подписки.'}"
   ]
  },
  {
   "cell_type": "code",
   "execution_count": 328,
   "metadata": {
    "trusted": true
   },
   "outputs": [
    {
     "name": "stdout",
     "output_type": "stream",
     "text": [
      "Средняя подолжительность поездок пользователей\n",
      "с подпиской: 18.542 мин\n",
      "без подписки: 17.391 мин\n",
      "\n",
      "p-value: 1.2804098316645613e-34\n",
      "Результаты в пользу альт. гипотезы - пользователи с подпиской тратят БОЛЬШЕ времени на поездки, чем пользователи без подписки.\n"
     ]
    }
   ],
   "source": [
    "alpha = 0.05\n",
    "print('Средняя подолжительность поездок пользователей')\n",
    "print(f'с подпиской: {round(users_ultra[\"duration\"].mean(),3)} мин')\n",
    "print(f'без подписки: {round(users_free[\"duration\"].mean(),3)} мин\\n')\n",
    "\n",
    "# применяем двухвыборочный т-тест для независмых выборок с правосторонней альт. гипотезой\n",
    "results = (st.ttest_ind(users_ultra['duration'],\n",
    "                        users_free['duration'],\n",
    "                        alternative='greater'))\n",
    "\n",
    "print('p-value:', results.pvalue)\n",
    "\n",
    "\n",
    "if results.pvalue < alpha:\n",
    "    print(f'Результаты в пользу альт. гипотезы - {hipotesys_1.get(\"H_1\")}')\n",
    "else:\n",
    "    print(f'Не отвергаем нулевую гипотезу о {hipotesys_1.get(\"H_0\")}')"
   ]
  },
  {
   "cell_type": "markdown",
   "metadata": {},
   "source": [
    "Вывод: выходит, что пользователи с подпиской тратят на поездки больше времени, чем пользователи без нее"
   ]
  },
  {
   "cell_type": "markdown",
   "metadata": {},
   "source": [
    "Нулевая гипотеза -среднее расстояние, пройденное пользователями с подпиской, равно значению 3130 метров(оптимальное расстояние с точки зрения износа самоката)  \n",
    "Альтернативная гипотеза - среднее расстояние, пройденное пользователями с подпиской, БОЛЬШЕ 3130 метров\n"
   ]
  },
  {
   "cell_type": "code",
   "execution_count": 329,
   "metadata": {},
   "outputs": [],
   "source": [
    "hipotesys_2={'H_0':'среднее расстояние, пройденное пользователями с подпиской,\\n равно значению 3130 метров(оптимальное расстояние с точки зрения износа самоката) ',\n",
    "           'H_1':'среднее расстояние, пройденное пользователями с подпиской, БОЛЬШЕ 3130 метров'}"
   ]
  },
  {
   "cell_type": "code",
   "execution_count": 330,
   "metadata": {
    "trusted": true
   },
   "outputs": [
    {
     "name": "stdout",
     "output_type": "stream",
     "text": [
      "p-value: 0.92\n",
      "Не отвергаем нулевую гипотезу - среднее расстояние, пройденное пользователями с подпиской,\n",
      " равно значению 3130 метров(оптимальное расстояние с точки зрения износа самоката) \n"
     ]
    }
   ],
   "source": [
    "optimal_value = 3130\n",
    "alpha = 0.05\n",
    "\n",
    "# применяем одновыборочный t-test / проверяется правосторонняя альт. гипотеза\n",
    "results = (st.ttest_1samp(users_ultra['distance'],\n",
    "                          optimal_value,\n",
    "                          alternative='greater'))\n",
    "\n",
    "print('p-value:', '{:.3}'.format(results.pvalue))\n",
    "\n",
    "if results.pvalue < alpha:\n",
    "    print(f'Результаты в пользу альт. гипотезы - {hipotesys_2.get(\"H_1\")}')\n",
    "else:\n",
    "    print(f'Не отвергаем нулевую гипотезу - {hipotesys_2.get(\"H_0\")}')"
   ]
  },
  {
   "cell_type": "markdown",
   "metadata": {},
   "source": [
    "Вывод: пользователи с подпиской проходят расстояние равное 3130 метров, а значит  самокаты не будут изнашиваться быстрее."
   ]
  },
  {
   "cell_type": "markdown",
   "metadata": {},
   "source": [
    "Нулевая гипотеза  - помесячная выручка от пользователей с подпиской по месяцам равна выручке пользователей без подписки.  \n",
    "Альтернативная гипотеза - помесячная выручка от пользователей с подпиской по месяцам БОЛЬШЕ, чем выручка от пользователей без подписки."
   ]
  },
  {
   "cell_type": "code",
   "execution_count": 331,
   "metadata": {},
   "outputs": [],
   "source": [
    "hipotesys_3={'H_0':'помесячная выручка от пользователей с подпиской по месяцам равна выручке пользователей без подписки.',\n",
    "           'H_1':'помесячная выручка от пользователей с подпиской по месяцам БОЛЬШЕ,\\n чем выручка от пользователей без подписки'}"
   ]
  },
  {
   "cell_type": "code",
   "execution_count": 332,
   "metadata": {
    "trusted": true
   },
   "outputs": [
    {
     "name": "stdout",
     "output_type": "stream",
     "text": [
      "p-value: 1.89e-31\n",
      "Результаты в пользу альт. гипотезы - помесячная выручка от пользователей с подпиской по месяцам БОЛЬШЕ,\n",
      " чем выручка от пользователей без подписки\n"
     ]
    }
   ],
   "source": [
    "alpha = 0.05\n",
    "\n",
    "# выручка пользователей с подпиской\n",
    "revenue_user_ultra = aggregate_data['revenue'].loc[aggregate_data['subscription_type'] == 'ultra']\n",
    "\n",
    "# выручка пользователей без подписки\n",
    "revenue_user_free = aggregate_data['revenue'].loc[aggregate_data['subscription_type'] == 'free']\n",
    "\n",
    "# применяем двухвыборочный t-test для независимых выборок с правостороннней альтернативной гипотезой\n",
    "results = (st.ttest_ind(revenue_user_ultra,\n",
    "                        revenue_user_free,\n",
    "                        alternative='greater')\n",
    "           )\n",
    "\n",
    "print('p-value:', '{:.3}'.format(results.pvalue))\n",
    "\n",
    "if results.pvalue < alpha:\n",
    "    print(f'Результаты в пользу альт. гипотезы - {hipotesys_3.get(\"H_1\")}')\n",
    "else:\n",
    "    print(f'Не отвергаем нулевую гипотезу - {hipotesys_3.get(\"H_0\")}')"
   ]
  },
  {
   "cell_type": "markdown",
   "metadata": {},
   "source": [
    "Вывод: значит помесячная выручка пользователей с подпиской выше чем помесячная выручка пользователей без подписки"
   ]
  },
  {
   "cell_type": "markdown",
   "metadata": {},
   "source": [
    "## Итоговый вывод  \n",
    "\n",
    "Устранив дубликаты, приведя формат даты к необходимому, ислледовали данные, взятые за период с 01-01-2021 по 30-12-2021 гг о пользователях севиса аренды самокатов GoFast, а также, обьединив 3 таблицы о пользователях, поездках, подписках рассчитали выручку помесячно для каждого пользователя и проверили следующие гипотезы: \n",
    "1. тратят ли пользователи с подпиской больше времени на поездки\n",
    "2. проезжают ли пользователи с подпиской больше оптимального расстояния с точки зрения износа  самоката\n",
    "3. приносят ли пользователи с подпиской больше выручки чем пользователи без нее.\n",
    "\n",
    "Обнаружено следующее:  \n",
    "Больше всего пользователей обнаружено в г.Пятигорске, меньше - в Москве;  \n",
    "услугой сервиса пользуются граждане от 12 до 43 лет;   \n",
    "но в основном арендуют пользователи от 20 до 29 лет;\n",
    "пользователей без подписки больше пользователей с подпиской (54.4% против 45.4% соответсвенно);\n",
    "пользователи без подписки проезжают расстояния от 2 до 4.5 км,  \n",
    "с подпиской - 2.5 - 4 км, а в целом все пользователи проезжают расстояния от 2 - 4.5 км;\n",
    "длительность поездок пользователей обоех групп почти одинакова : с подпиской - 11-24 мин, без подписки - 13-24 мин.  \n",
    "\n",
    "Проверив гипотезы, приходим к выводам, что  \n",
    "в отличии от пользователей без подписки, пользователи с подпиской тратят больше времени на поездки,но проезжают расстояния в основном раное опттимальному расстояния с точки  зрения износа самоката, то есть 3130 метров, и приносят больше выручки , а значит, являются более выгодными для компании.\n",
    "\n",
    "Рекомендации.\n",
    "1. Уделить больше внимания техническому обслуживанию самокатов.\n",
    "2. Уделить внимание расчетам времени поездок и расстояния. \n",
    "\n",
    "\n",
    "Баг-репорт   \n",
    "1. обнаружены строки-дубликаты в таблице с пользователями (файл users_go.csv). Причиной может быть техническая сторона.  \n",
    "2. обнаружены проблемы с расчетом времени поездок (95 поездок завершились ровно за 30 сек.) и расстояний (некоторые дистанции исчисляются несколькими метрами или вовсе меньше метра )\n"
   ]
  }
 ],
 "metadata": {
  "ExecuteTimeLog": [
   {
    "duration": 1067,
    "start_time": "2024-01-24T07:29:27.786Z"
   },
   {
    "duration": 69,
    "start_time": "2024-01-24T07:29:28.855Z"
   },
   {
    "duration": 4,
    "start_time": "2024-01-24T07:29:28.925Z"
   },
   {
    "duration": 21,
    "start_time": "2024-01-24T07:29:28.931Z"
   },
   {
    "duration": 74,
    "start_time": "2024-01-24T07:29:28.953Z"
   },
   {
    "duration": 27,
    "start_time": "2024-01-24T07:29:29.029Z"
   },
   {
    "duration": 14,
    "start_time": "2024-01-24T07:29:29.058Z"
   },
   {
    "duration": 19,
    "start_time": "2024-01-24T07:29:29.073Z"
   },
   {
    "duration": 32,
    "start_time": "2024-01-24T07:29:29.094Z"
   },
   {
    "duration": 6,
    "start_time": "2024-01-24T07:29:29.129Z"
   },
   {
    "duration": 32,
    "start_time": "2024-01-24T07:29:29.137Z"
   },
   {
    "duration": 144,
    "start_time": "2024-01-24T07:29:29.171Z"
   },
   {
    "duration": 70,
    "start_time": "2024-01-24T07:29:29.317Z"
   },
   {
    "duration": 8,
    "start_time": "2024-01-24T07:29:29.389Z"
   },
   {
    "duration": 222,
    "start_time": "2024-01-24T07:29:29.399Z"
   },
   {
    "duration": 3,
    "start_time": "2024-01-24T07:29:29.622Z"
   },
   {
    "duration": 14,
    "start_time": "2024-01-24T07:29:29.626Z"
   },
   {
    "duration": 8,
    "start_time": "2024-01-24T07:29:29.644Z"
   },
   {
    "duration": 226,
    "start_time": "2024-01-24T07:29:29.653Z"
   },
   {
    "duration": 3,
    "start_time": "2024-01-24T07:29:29.880Z"
   },
   {
    "duration": 276,
    "start_time": "2024-01-24T07:29:29.885Z"
   },
   {
    "duration": 6,
    "start_time": "2024-01-24T07:29:30.162Z"
   },
   {
    "duration": 133,
    "start_time": "2024-01-24T07:29:30.170Z"
   },
   {
    "duration": 331,
    "start_time": "2024-01-24T07:29:30.304Z"
   },
   {
    "duration": 577,
    "start_time": "2024-01-24T07:29:30.636Z"
   },
   {
    "duration": 101,
    "start_time": "2024-01-24T07:29:31.215Z"
   },
   {
    "duration": 133,
    "start_time": "2024-01-24T07:29:31.318Z"
   },
   {
    "duration": 138,
    "start_time": "2024-01-24T07:29:31.455Z"
   },
   {
    "duration": 37,
    "start_time": "2024-01-24T07:29:31.595Z"
   },
   {
    "duration": 281,
    "start_time": "2024-01-24T07:29:31.634Z"
   },
   {
    "duration": 171,
    "start_time": "2024-01-24T07:29:31.917Z"
   },
   {
    "duration": 199,
    "start_time": "2024-01-24T07:29:32.090Z"
   },
   {
    "duration": 188,
    "start_time": "2024-01-24T07:29:32.291Z"
   },
   {
    "duration": 28,
    "start_time": "2024-01-24T07:29:32.480Z"
   },
   {
    "duration": 408,
    "start_time": "2024-01-24T07:29:32.509Z"
   },
   {
    "duration": 6,
    "start_time": "2024-01-24T07:29:32.919Z"
   },
   {
    "duration": 54,
    "start_time": "2024-01-24T07:29:32.926Z"
   },
   {
    "duration": 24,
    "start_time": "2024-01-24T07:29:32.982Z"
   },
   {
    "duration": 3137,
    "start_time": "2024-01-24T07:29:33.008Z"
   },
   {
    "duration": 8,
    "start_time": "2024-01-24T07:33:57.234Z"
   },
   {
    "duration": 4,
    "start_time": "2024-01-24T07:39:59.465Z"
   },
   {
    "duration": 5,
    "start_time": "2024-01-24T07:40:06.547Z"
   },
   {
    "duration": 5,
    "start_time": "2024-01-24T07:41:11.942Z"
   },
   {
    "duration": 3,
    "start_time": "2024-01-24T07:41:25.055Z"
   },
   {
    "duration": 6,
    "start_time": "2024-01-24T07:41:26.908Z"
   },
   {
    "duration": 19,
    "start_time": "2024-01-24T07:41:52.722Z"
   },
   {
    "duration": 5,
    "start_time": "2024-01-24T07:42:28.033Z"
   },
   {
    "duration": 4,
    "start_time": "2024-01-24T07:43:29.896Z"
   },
   {
    "duration": 5,
    "start_time": "2024-01-24T07:45:31.354Z"
   },
   {
    "duration": 5,
    "start_time": "2024-01-24T07:45:36.654Z"
   },
   {
    "duration": 3,
    "start_time": "2024-01-24T07:45:47.976Z"
   },
   {
    "duration": 5,
    "start_time": "2024-01-24T07:46:43.867Z"
   },
   {
    "duration": 11,
    "start_time": "2024-01-24T07:46:51.484Z"
   },
   {
    "duration": 1111,
    "start_time": "2024-01-24T07:47:34.917Z"
   },
   {
    "duration": 68,
    "start_time": "2024-01-24T07:47:36.029Z"
   },
   {
    "duration": 4,
    "start_time": "2024-01-24T07:47:36.098Z"
   },
   {
    "duration": 27,
    "start_time": "2024-01-24T07:47:36.103Z"
   },
   {
    "duration": 21,
    "start_time": "2024-01-24T07:47:36.131Z"
   },
   {
    "duration": 13,
    "start_time": "2024-01-24T07:47:36.154Z"
   },
   {
    "duration": 27,
    "start_time": "2024-01-24T07:47:36.168Z"
   },
   {
    "duration": 31,
    "start_time": "2024-01-24T07:47:36.196Z"
   },
   {
    "duration": 19,
    "start_time": "2024-01-24T07:47:36.229Z"
   },
   {
    "duration": 15,
    "start_time": "2024-01-24T07:47:36.251Z"
   },
   {
    "duration": 7,
    "start_time": "2024-01-24T07:47:36.267Z"
   },
   {
    "duration": 124,
    "start_time": "2024-01-24T07:47:36.276Z"
   },
   {
    "duration": 69,
    "start_time": "2024-01-24T07:47:36.402Z"
   },
   {
    "duration": 7,
    "start_time": "2024-01-24T07:47:36.473Z"
   },
   {
    "duration": 150,
    "start_time": "2024-01-24T07:47:36.481Z"
   },
   {
    "duration": 3,
    "start_time": "2024-01-24T07:47:36.633Z"
   },
   {
    "duration": 4,
    "start_time": "2024-01-24T07:47:36.644Z"
   },
   {
    "duration": 27,
    "start_time": "2024-01-24T07:47:36.649Z"
   },
   {
    "duration": 209,
    "start_time": "2024-01-24T07:47:36.677Z"
   },
   {
    "duration": 3,
    "start_time": "2024-01-24T07:47:36.887Z"
   },
   {
    "duration": 193,
    "start_time": "2024-01-24T07:47:36.891Z"
   },
   {
    "duration": 5,
    "start_time": "2024-01-24T07:47:37.085Z"
   },
   {
    "duration": 7,
    "start_time": "2024-01-24T07:47:37.091Z"
   },
   {
    "duration": 8,
    "start_time": "2024-01-24T07:47:37.099Z"
   },
   {
    "duration": 245,
    "start_time": "2024-01-24T07:47:37.108Z"
   },
   {
    "duration": 5,
    "start_time": "2024-01-24T07:47:37.354Z"
   },
   {
    "duration": 40,
    "start_time": "2024-01-24T07:47:37.361Z"
   },
   {
    "duration": 15,
    "start_time": "2024-01-24T07:47:37.404Z"
   },
   {
    "duration": 11,
    "start_time": "2024-01-24T07:47:37.420Z"
   },
   {
    "duration": 228,
    "start_time": "2024-01-24T07:47:37.432Z"
   },
   {
    "duration": 180,
    "start_time": "2024-01-24T07:47:37.662Z"
   },
   {
    "duration": 173,
    "start_time": "2024-01-24T07:47:37.845Z"
   },
   {
    "duration": 173,
    "start_time": "2024-01-24T07:47:38.019Z"
   },
   {
    "duration": 26,
    "start_time": "2024-01-24T07:47:38.193Z"
   },
   {
    "duration": 372,
    "start_time": "2024-01-24T07:47:38.220Z"
   },
   {
    "duration": 6,
    "start_time": "2024-01-24T07:47:38.594Z"
   },
   {
    "duration": 16,
    "start_time": "2024-01-24T07:47:38.602Z"
   },
   {
    "duration": 43,
    "start_time": "2024-01-24T07:47:38.619Z"
   },
   {
    "duration": 35,
    "start_time": "2024-01-24T07:47:38.664Z"
   },
   {
    "duration": 6,
    "start_time": "2024-01-24T07:47:38.700Z"
   },
   {
    "duration": 3012,
    "start_time": "2024-01-24T07:47:38.707Z"
   },
   {
    "duration": 1369,
    "start_time": "2024-01-26T13:06:20.608Z"
   },
   {
    "duration": 69,
    "start_time": "2024-01-26T13:06:21.979Z"
   },
   {
    "duration": 5,
    "start_time": "2024-01-26T13:06:22.050Z"
   },
   {
    "duration": 61,
    "start_time": "2024-01-26T13:06:22.057Z"
   },
   {
    "duration": 39,
    "start_time": "2024-01-26T13:06:22.120Z"
   },
   {
    "duration": 15,
    "start_time": "2024-01-26T13:06:22.162Z"
   },
   {
    "duration": 20,
    "start_time": "2024-01-26T13:06:22.179Z"
   },
   {
    "duration": 20,
    "start_time": "2024-01-26T13:06:22.201Z"
   },
   {
    "duration": 12,
    "start_time": "2024-01-26T13:06:22.223Z"
   },
   {
    "duration": 16,
    "start_time": "2024-01-26T13:06:22.259Z"
   },
   {
    "duration": 6,
    "start_time": "2024-01-26T13:06:22.279Z"
   },
   {
    "duration": 8,
    "start_time": "2024-01-26T13:06:22.287Z"
   },
   {
    "duration": 16,
    "start_time": "2024-01-26T13:06:22.297Z"
   },
   {
    "duration": 390,
    "start_time": "2024-01-26T13:06:22.315Z"
   },
   {
    "duration": 164,
    "start_time": "2024-01-26T13:06:22.707Z"
   },
   {
    "duration": 10,
    "start_time": "2024-01-26T13:06:22.873Z"
   },
   {
    "duration": 435,
    "start_time": "2024-01-26T13:06:22.885Z"
   },
   {
    "duration": 3,
    "start_time": "2024-01-26T13:06:23.322Z"
   },
   {
    "duration": 14,
    "start_time": "2024-01-26T13:06:23.327Z"
   },
   {
    "duration": 18,
    "start_time": "2024-01-26T13:06:23.342Z"
   },
   {
    "duration": 491,
    "start_time": "2024-01-26T13:06:23.362Z"
   },
   {
    "duration": 4,
    "start_time": "2024-01-26T13:06:23.855Z"
   },
   {
    "duration": 433,
    "start_time": "2024-01-26T13:06:23.861Z"
   },
   {
    "duration": 6,
    "start_time": "2024-01-26T13:06:24.295Z"
   },
   {
    "duration": 34,
    "start_time": "2024-01-26T13:06:24.303Z"
   },
   {
    "duration": 458,
    "start_time": "2024-01-26T13:06:24.339Z"
   },
   {
    "duration": 7,
    "start_time": "2024-01-26T13:06:24.799Z"
   },
   {
    "duration": 21,
    "start_time": "2024-01-26T13:06:24.809Z"
   },
   {
    "duration": 36,
    "start_time": "2024-01-26T13:06:24.832Z"
   },
   {
    "duration": 18,
    "start_time": "2024-01-26T13:06:24.870Z"
   },
   {
    "duration": 4,
    "start_time": "2024-01-26T13:06:24.889Z"
   },
   {
    "duration": 25,
    "start_time": "2024-01-26T13:06:24.894Z"
   },
   {
    "duration": 597,
    "start_time": "2024-01-26T13:06:24.920Z"
   },
   {
    "duration": 629,
    "start_time": "2024-01-26T13:06:25.518Z"
   },
   {
    "duration": 13,
    "start_time": "2024-01-26T13:06:26.149Z"
   },
   {
    "duration": 20,
    "start_time": "2024-01-26T13:06:26.164Z"
   },
   {
    "duration": 13,
    "start_time": "2024-01-26T13:06:26.185Z"
   },
   {
    "duration": 57,
    "start_time": "2024-01-26T13:06:26.199Z"
   },
   {
    "duration": 14,
    "start_time": "2024-01-26T13:06:26.258Z"
   },
   {
    "duration": 39,
    "start_time": "2024-01-26T13:06:26.274Z"
   },
   {
    "duration": 15,
    "start_time": "2024-01-26T13:06:26.315Z"
   },
   {
    "duration": 41,
    "start_time": "2024-01-26T13:06:26.331Z"
   },
   {
    "duration": 6,
    "start_time": "2024-01-26T13:08:23.955Z"
   },
   {
    "duration": 20,
    "start_time": "2024-01-26T13:09:02.002Z"
   },
   {
    "duration": 21,
    "start_time": "2024-01-26T13:09:41.066Z"
   },
   {
    "duration": 8,
    "start_time": "2024-01-26T13:14:38.809Z"
   },
   {
    "duration": 1354,
    "start_time": "2024-01-26T13:15:21.904Z"
   },
   {
    "duration": 70,
    "start_time": "2024-01-26T13:15:23.260Z"
   },
   {
    "duration": 5,
    "start_time": "2024-01-26T13:15:23.332Z"
   },
   {
    "duration": 64,
    "start_time": "2024-01-26T13:15:23.338Z"
   },
   {
    "duration": 26,
    "start_time": "2024-01-26T13:15:23.404Z"
   },
   {
    "duration": 10,
    "start_time": "2024-01-26T13:15:23.432Z"
   },
   {
    "duration": 24,
    "start_time": "2024-01-26T13:15:23.443Z"
   },
   {
    "duration": 5,
    "start_time": "2024-01-26T13:15:23.469Z"
   },
   {
    "duration": 8,
    "start_time": "2024-01-26T13:15:23.476Z"
   },
   {
    "duration": 11,
    "start_time": "2024-01-26T13:15:23.486Z"
   },
   {
    "duration": 5,
    "start_time": "2024-01-26T13:15:23.499Z"
   },
   {
    "duration": 12,
    "start_time": "2024-01-26T13:15:23.505Z"
   },
   {
    "duration": 39,
    "start_time": "2024-01-26T13:15:23.519Z"
   },
   {
    "duration": 330,
    "start_time": "2024-01-26T13:15:23.562Z"
   },
   {
    "duration": 166,
    "start_time": "2024-01-26T13:15:23.894Z"
   },
   {
    "duration": 8,
    "start_time": "2024-01-26T13:15:24.062Z"
   },
   {
    "duration": 434,
    "start_time": "2024-01-26T13:15:24.072Z"
   },
   {
    "duration": 4,
    "start_time": "2024-01-26T13:15:24.507Z"
   },
   {
    "duration": 7,
    "start_time": "2024-01-26T13:15:24.512Z"
   },
   {
    "duration": 22,
    "start_time": "2024-01-26T13:15:24.520Z"
   },
   {
    "duration": 451,
    "start_time": "2024-01-26T13:15:24.546Z"
   },
   {
    "duration": 3,
    "start_time": "2024-01-26T13:15:24.999Z"
   },
   {
    "duration": 426,
    "start_time": "2024-01-26T13:15:25.004Z"
   },
   {
    "duration": 7,
    "start_time": "2024-01-26T13:15:25.431Z"
   },
   {
    "duration": 21,
    "start_time": "2024-01-26T13:15:25.440Z"
   },
   {
    "duration": 466,
    "start_time": "2024-01-26T13:15:25.463Z"
   },
   {
    "duration": 6,
    "start_time": "2024-01-26T13:15:25.931Z"
   },
   {
    "duration": 22,
    "start_time": "2024-01-26T13:15:25.939Z"
   },
   {
    "duration": 18,
    "start_time": "2024-01-26T13:15:25.963Z"
   },
   {
    "duration": 19,
    "start_time": "2024-01-26T13:15:25.983Z"
   },
   {
    "duration": 5,
    "start_time": "2024-01-26T13:15:26.003Z"
   },
   {
    "duration": 14,
    "start_time": "2024-01-26T13:15:26.010Z"
   },
   {
    "duration": 587,
    "start_time": "2024-01-26T13:15:26.026Z"
   },
   {
    "duration": 654,
    "start_time": "2024-01-26T13:15:26.615Z"
   },
   {
    "duration": 7,
    "start_time": "2024-01-26T13:15:27.271Z"
   },
   {
    "duration": 4,
    "start_time": "2024-01-26T13:15:27.280Z"
   },
   {
    "duration": 13,
    "start_time": "2024-01-26T13:15:27.286Z"
   },
   {
    "duration": 69,
    "start_time": "2024-01-26T13:15:27.300Z"
   },
   {
    "duration": 14,
    "start_time": "2024-01-26T13:15:27.371Z"
   },
   {
    "duration": 5,
    "start_time": "2024-01-26T13:15:27.387Z"
   },
   {
    "duration": 6,
    "start_time": "2024-01-26T13:15:27.397Z"
   },
   {
    "duration": 17,
    "start_time": "2024-01-26T13:15:27.405Z"
   }
  ],
  "kernelspec": {
   "display_name": "practicum",
   "language": "python",
   "name": "python3"
  },
  "language_info": {
   "codemirror_mode": {
    "name": "ipython",
    "version": 3
   },
   "file_extension": ".py",
   "mimetype": "text/x-python",
   "name": "python",
   "nbconvert_exporter": "python",
   "pygments_lexer": "ipython3",
   "version": "3.9.18"
  },
  "toc": {
   "base_numbering": 1,
   "nav_menu": {},
   "number_sections": true,
   "sideBar": true,
   "skip_h1_title": true,
   "title_cell": "Table of Contents",
   "title_sidebar": "Contents",
   "toc_cell": false,
   "toc_position": {},
   "toc_section_display": true,
   "toc_window_display": false
  }
 },
 "nbformat": 4,
 "nbformat_minor": 2
}
