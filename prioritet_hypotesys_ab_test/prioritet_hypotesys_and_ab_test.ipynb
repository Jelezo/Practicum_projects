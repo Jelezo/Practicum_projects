{
 "cells": [
  {
   "cell_type": "markdown",
   "metadata": {},
   "source": [
    "# Приоритизация гипотез по увеличению выручки и анализ A/B-теста для крупного интернет-магазина"
   ]
  },
  {
   "cell_type": "markdown",
   "metadata": {},
   "source": [
    "Цель: приоретизация гипотез и анализ A/B-теста    \n",
    "Задача: приоретизировать гипотезы , запустить A/B-тест и принять решение: продолжить ли тест и понять насколько он был успешен."
   ]
  },
  {
   "cell_type": "markdown",
   "metadata": {},
   "source": [
    "## Описание данных"
   ]
  },
  {
   "cell_type": "markdown",
   "metadata": {},
   "source": [
    "Файл с гипотезами  /datasets/hypothesis.csv.\n",
    "\n",
    "`Hypothesis` — краткое описание гипотезы;   \n",
    "`Reach` — охват пользователей по 10-балльной шкале;     \n",
    "`Impact` — влияние на пользователей по 10-балльной шкале;    \n",
    "`Confidence` — уверенность в гипотезе по 10-балльной шкале;    \n",
    "`Efforts` — затраты ресурсов на проверку гипотезы по 10-балльной шкале. Чем больше значение Efforts, тем дороже проверка гипотезы.     \n",
    "\n",
    "Файл с заказами  /datasets/orders.csv.    \n",
    "\n",
    "`transactionId` — идентификатор заказа;   \n",
    "`visitorId` — идентификатор пользователя, совершившего заказ;    \n",
    "`date` — дата, когда был совершён заказ;    \n",
    "`revenue` — выручка заказа;    \n",
    "`group` — группа A/B-теста, в которую попал заказ.    \n",
    "\n",
    "Файл с пользователями   /datasets/visitors.csv.    \n",
    "\n",
    "`date` — дата;   \n",
    "`group` — группа A/B-теста;   \n",
    "`visitors` — количество пользователей в указанную дату в указанной группе A/B-теста  "
   ]
  },
  {
   "cell_type": "markdown",
   "metadata": {},
   "source": [
    "## Подготовка данных к работе"
   ]
  },
  {
   "cell_type": "markdown",
   "metadata": {},
   "source": [
    "подключаем библиотеки для анализа"
   ]
  },
  {
   "cell_type": "code",
   "execution_count": 1,
   "metadata": {
    "trusted": true
   },
   "outputs": [
    {
     "data": {
      "text/html": [
       "        <script type=\"text/javascript\">\n",
       "        window.PlotlyConfig = {MathJaxConfig: 'local'};\n",
       "        if (window.MathJax && window.MathJax.Hub && window.MathJax.Hub.Config) {window.MathJax.Hub.Config({SVG: {font: \"STIX-Web\"}});}\n",
       "        </script>\n",
       "        <script type=\"module\">import \"https://cdn.plot.ly/plotly-3.0.1.min\"</script>\n",
       "        "
      ]
     },
     "metadata": {},
     "output_type": "display_data"
    }
   ],
   "source": [
    "import pandas as pd\n",
    "import numpy as np\n",
    "import scipy.stats as stat\n",
    "import plotly.express as px\n",
    "\n",
    "import warnings\n",
    "warnings.filterwarnings('ignore')\n",
    "\n",
    "from plotly.offline import init_notebook_mode, iplot\n",
    "init_notebook_mode(connected=True)\n",
    "\n",
    "# для вывода полного содержимого ячейки\n",
    "pd.options.display.max_colwidth = 190"
   ]
  },
  {
   "cell_type": "markdown",
   "metadata": {},
   "source": [
    "выводим всю информацию о датафреймах - нужно проверить их на пропуски, дубликаты и прочее"
   ]
  },
  {
   "cell_type": "code",
   "execution_count": 66,
   "metadata": {},
   "outputs": [],
   "source": [
    "def get_info_dataframe(dataframe,\n",
    "                       transpose=False,\n",
    "                       count_rows=5\n",
    "                       ):\n",
    "    \"\"\"\n",
    "    получение основной информации о датафрейме: первые строки датафрейма, количество строк, столбцов, дубликатов, пропусков, типы данных\n",
    "    `dataframe` - исследуемый датафрейм,  \n",
    "    `transpose` - перевернуть таблицу на 90°,   \n",
    "    `count_rows` - чило выводимых строк датафрейма (по умолчанию 5)\n",
    "    \"\"\"\n",
    "\n",
    "    # -----------------сбока таблицы с пропусками---------------------\n",
    "\n",
    "    # число пропусков\n",
    "\n",
    "    count_missing = dataframe.isna().sum()\n",
    "\n",
    "    # доля пропусков\n",
    "\n",
    "    missing_percent = count_missing/len(dataframe)*100\n",
    "\n",
    "    # сборка\n",
    "\n",
    "    df = pd.DataFrame(data={'missing': missing_percent,\n",
    "                            'count_missing': count_missing\n",
    "                            }\n",
    "                      )\n",
    "\n",
    "    dt = pd.DataFrame(data={'type': dataframe.dtypes})\n",
    "    df = df.join(dt)\n",
    "\n",
    "    # цветной бар в столбце с долей пропусков и добапвляем знак %\n",
    "\n",
    "    df = df.sort_values('missing', ascending=True)\n",
    "\n",
    "    def color(x):\n",
    "        if \"int\" in str(x) or \"float\" in str(x):\n",
    "            return \"color:#3399ff\"\n",
    "        elif x == \"object\":\n",
    "            return \"color: #ff00ff\"\n",
    "        else:\n",
    "            return \"color: orange\"\n",
    "\n",
    "    table_missing = (df.style\n",
    "                     .set_table_styles([{\n",
    "                         'selector': 'tr:hover',\n",
    "                         'props': [('background-color', '#222222'), ('color', 'white')]\n",
    "                         # [('border-color', 'blue'), ('border-style', 'solid'), ('border-width', '1pt')]\n",
    "                     }])\n",
    "                     .map(lambda x: \"\"\n",
    "                          if x > 0\n",
    "                          else \"color: #32cd32; font-weight:600\",\n",
    "                          subset=[\"missing\", \"count_missing\"])\n",
    "\n",
    "\n",
    "                     .map(color,\n",
    "                          subset=[\"type\"])\n",
    "\n",
    "                     .bar(subset=\"missing\",\n",
    "                          vmax=100,\n",
    "                          height=90,\n",
    "                          color=\"#ff0000\",\n",
    "                          )\n",
    "                     .set_caption('Пропуски и тип данных')\n",
    "                     .format(subset=\"missing\",\n",
    "                             formatter=\"{:.2f} %\")\n",
    "\n",
    "                     )\n",
    "\n",
    "    # --------------------------------------\n",
    "\n",
    "    # -------------------------\n",
    "\n",
    "    # часть таблицы\n",
    "    rows, columns = dataframe.shape\n",
    "\n",
    "    # поиск дубликатов\n",
    "    dublicat = dataframe.duplicated().sum()\n",
    "\n",
    "    # харатеристики таблицы\n",
    "    table_shape_duplicat = pd.DataFrame({\"rows\": [rows],\n",
    "                                         \"columns\": [columns],\n",
    "                                         \"duplicates\": [dublicat]})\n",
    "\n",
    "    table_shape_duplicat = (table_shape_duplicat.style\n",
    "\n",
    "                            .map(lambda x: \"background-color: #ff0000; color:black; font-weight:600\"\n",
    "                                 if x > 0\n",
    "                                 else \"background: #32cd32; color:black; font-weight:600\",\n",
    "                                 subset=[\"duplicates\"]))\n",
    "\n",
    "    # -------------------- вывод на экран --------------\n",
    "\n",
    "    table_first_row = dataframe.head(count_rows)\n",
    "    if transpose:\n",
    "        display(table_first_row.T)\n",
    "    else:\n",
    "        display(table_first_row)\n",
    "\n",
    "    display(table_shape_duplicat)\n",
    "\n",
    "    display(table_missing)\n",
    "\n",
    "    # разделительная линия\n",
    "    print(\"====\"*10, \"\\n\")\n",
    "\n",
    "    # -------------------------------------------------"
   ]
  },
  {
   "cell_type": "code",
   "execution_count": 67,
   "metadata": {
    "scrolled": false,
    "trusted": true
   },
   "outputs": [
    {
     "name": "stdout",
     "output_type": "stream",
     "text": [
      "HYPOTESIS\n"
     ]
    },
    {
     "data": {
      "text/html": [
       "<div>\n",
       "<style scoped>\n",
       "    .dataframe tbody tr th:only-of-type {\n",
       "        vertical-align: middle;\n",
       "    }\n",
       "\n",
       "    .dataframe tbody tr th {\n",
       "        vertical-align: top;\n",
       "    }\n",
       "\n",
       "    .dataframe thead th {\n",
       "        text-align: right;\n",
       "    }\n",
       "</style>\n",
       "<table border=\"1\" class=\"dataframe\">\n",
       "  <thead>\n",
       "    <tr style=\"text-align: right;\">\n",
       "      <th></th>\n",
       "      <th>hypothesis</th>\n",
       "      <th>reach</th>\n",
       "      <th>impact</th>\n",
       "      <th>confidence</th>\n",
       "      <th>efforts</th>\n",
       "      <th>ice</th>\n",
       "      <th>rice</th>\n",
       "    </tr>\n",
       "  </thead>\n",
       "  <tbody>\n",
       "    <tr>\n",
       "      <th>0</th>\n",
       "      <td>Добавить два новых канала привлечения трафика, что позволит привлекать на 30% больше пользователей</td>\n",
       "      <td>3</td>\n",
       "      <td>10</td>\n",
       "      <td>8</td>\n",
       "      <td>6</td>\n",
       "      <td>13.33</td>\n",
       "      <td>39.99</td>\n",
       "    </tr>\n",
       "    <tr>\n",
       "      <th>1</th>\n",
       "      <td>Запустить собственную службу доставки, что сократит срок доставки заказов</td>\n",
       "      <td>2</td>\n",
       "      <td>5</td>\n",
       "      <td>4</td>\n",
       "      <td>10</td>\n",
       "      <td>2.00</td>\n",
       "      <td>4.00</td>\n",
       "    </tr>\n",
       "    <tr>\n",
       "      <th>2</th>\n",
       "      <td>Добавить блоки рекомендаций товаров на сайт интернет магазина, чтобы повысить конверсию и средний чек заказа</td>\n",
       "      <td>8</td>\n",
       "      <td>3</td>\n",
       "      <td>7</td>\n",
       "      <td>3</td>\n",
       "      <td>7.00</td>\n",
       "      <td>56.00</td>\n",
       "    </tr>\n",
       "    <tr>\n",
       "      <th>3</th>\n",
       "      <td>Изменить структура категорий, что увеличит конверсию, т.к. пользователи быстрее найдут нужный товар</td>\n",
       "      <td>8</td>\n",
       "      <td>3</td>\n",
       "      <td>3</td>\n",
       "      <td>8</td>\n",
       "      <td>1.12</td>\n",
       "      <td>8.96</td>\n",
       "    </tr>\n",
       "    <tr>\n",
       "      <th>4</th>\n",
       "      <td>Изменить цвет фона главной страницы, чтобы увеличить вовлеченность пользователей</td>\n",
       "      <td>3</td>\n",
       "      <td>1</td>\n",
       "      <td>1</td>\n",
       "      <td>1</td>\n",
       "      <td>1.00</td>\n",
       "      <td>3.00</td>\n",
       "    </tr>\n",
       "  </tbody>\n",
       "</table>\n",
       "</div>"
      ],
      "text/plain": [
       "                                                                                                     hypothesis  \\\n",
       "0            Добавить два новых канала привлечения трафика, что позволит привлекать на 30% больше пользователей   \n",
       "1                                     Запустить собственную службу доставки, что сократит срок доставки заказов   \n",
       "2  Добавить блоки рекомендаций товаров на сайт интернет магазина, чтобы повысить конверсию и средний чек заказа   \n",
       "3           Изменить структура категорий, что увеличит конверсию, т.к. пользователи быстрее найдут нужный товар   \n",
       "4                              Изменить цвет фона главной страницы, чтобы увеличить вовлеченность пользователей   \n",
       "\n",
       "   reach  impact  confidence  efforts    ice   rice  \n",
       "0      3      10           8        6  13.33  39.99  \n",
       "1      2       5           4       10   2.00   4.00  \n",
       "2      8       3           7        3   7.00  56.00  \n",
       "3      8       3           3        8   1.12   8.96  \n",
       "4      3       1           1        1   1.00   3.00  "
      ]
     },
     "metadata": {},
     "output_type": "display_data"
    },
    {
     "data": {
      "text/html": [
       "<style type=\"text/css\">\n",
       "#T_09c85_row0_col2 {\n",
       "  background: #32cd32;\n",
       "  color: black;\n",
       "  font-weight: 600;\n",
       "}\n",
       "</style>\n",
       "<table id=\"T_09c85\">\n",
       "  <thead>\n",
       "    <tr>\n",
       "      <th class=\"blank level0\" >&nbsp;</th>\n",
       "      <th id=\"T_09c85_level0_col0\" class=\"col_heading level0 col0\" >rows</th>\n",
       "      <th id=\"T_09c85_level0_col1\" class=\"col_heading level0 col1\" >columns</th>\n",
       "      <th id=\"T_09c85_level0_col2\" class=\"col_heading level0 col2\" >duplicates</th>\n",
       "    </tr>\n",
       "  </thead>\n",
       "  <tbody>\n",
       "    <tr>\n",
       "      <th id=\"T_09c85_level0_row0\" class=\"row_heading level0 row0\" >0</th>\n",
       "      <td id=\"T_09c85_row0_col0\" class=\"data row0 col0\" >9</td>\n",
       "      <td id=\"T_09c85_row0_col1\" class=\"data row0 col1\" >7</td>\n",
       "      <td id=\"T_09c85_row0_col2\" class=\"data row0 col2\" >0</td>\n",
       "    </tr>\n",
       "  </tbody>\n",
       "</table>\n"
      ],
      "text/plain": [
       "<pandas.io.formats.style.Styler at 0x70c29fbb8be0>"
      ]
     },
     "metadata": {},
     "output_type": "display_data"
    },
    {
     "data": {
      "text/html": [
       "<style type=\"text/css\">\n",
       "#T_6a737 tr:hover {\n",
       "  background-color: #222222;\n",
       "  color: white;\n",
       "}\n",
       "#T_6a737_row0_col0, #T_6a737_row1_col0, #T_6a737_row2_col0, #T_6a737_row3_col0, #T_6a737_row4_col0, #T_6a737_row5_col0, #T_6a737_row6_col0 {\n",
       "  color: #32cd32;\n",
       "  font-weight: 600;\n",
       "  width: 10em;\n",
       "}\n",
       "#T_6a737_row0_col1, #T_6a737_row1_col1, #T_6a737_row2_col1, #T_6a737_row3_col1, #T_6a737_row4_col1, #T_6a737_row5_col1, #T_6a737_row6_col1 {\n",
       "  color: #32cd32;\n",
       "  font-weight: 600;\n",
       "}\n",
       "#T_6a737_row0_col2 {\n",
       "  color: #ff00ff;\n",
       "}\n",
       "#T_6a737_row1_col2, #T_6a737_row2_col2, #T_6a737_row3_col2, #T_6a737_row4_col2, #T_6a737_row5_col2, #T_6a737_row6_col2 {\n",
       "  color: #3399ff;\n",
       "}\n",
       "</style>\n",
       "<table id=\"T_6a737\">\n",
       "  <caption>Пропуски и тип данных</caption>\n",
       "  <thead>\n",
       "    <tr>\n",
       "      <th class=\"blank level0\" >&nbsp;</th>\n",
       "      <th id=\"T_6a737_level0_col0\" class=\"col_heading level0 col0\" >missing</th>\n",
       "      <th id=\"T_6a737_level0_col1\" class=\"col_heading level0 col1\" >count_missing</th>\n",
       "      <th id=\"T_6a737_level0_col2\" class=\"col_heading level0 col2\" >type</th>\n",
       "    </tr>\n",
       "  </thead>\n",
       "  <tbody>\n",
       "    <tr>\n",
       "      <th id=\"T_6a737_level0_row0\" class=\"row_heading level0 row0\" >hypothesis</th>\n",
       "      <td id=\"T_6a737_row0_col0\" class=\"data row0 col0\" >0.00 %</td>\n",
       "      <td id=\"T_6a737_row0_col1\" class=\"data row0 col1\" >0</td>\n",
       "      <td id=\"T_6a737_row0_col2\" class=\"data row0 col2\" >object</td>\n",
       "    </tr>\n",
       "    <tr>\n",
       "      <th id=\"T_6a737_level0_row1\" class=\"row_heading level0 row1\" >reach</th>\n",
       "      <td id=\"T_6a737_row1_col0\" class=\"data row1 col0\" >0.00 %</td>\n",
       "      <td id=\"T_6a737_row1_col1\" class=\"data row1 col1\" >0</td>\n",
       "      <td id=\"T_6a737_row1_col2\" class=\"data row1 col2\" >int64</td>\n",
       "    </tr>\n",
       "    <tr>\n",
       "      <th id=\"T_6a737_level0_row2\" class=\"row_heading level0 row2\" >impact</th>\n",
       "      <td id=\"T_6a737_row2_col0\" class=\"data row2 col0\" >0.00 %</td>\n",
       "      <td id=\"T_6a737_row2_col1\" class=\"data row2 col1\" >0</td>\n",
       "      <td id=\"T_6a737_row2_col2\" class=\"data row2 col2\" >int64</td>\n",
       "    </tr>\n",
       "    <tr>\n",
       "      <th id=\"T_6a737_level0_row3\" class=\"row_heading level0 row3\" >confidence</th>\n",
       "      <td id=\"T_6a737_row3_col0\" class=\"data row3 col0\" >0.00 %</td>\n",
       "      <td id=\"T_6a737_row3_col1\" class=\"data row3 col1\" >0</td>\n",
       "      <td id=\"T_6a737_row3_col2\" class=\"data row3 col2\" >int64</td>\n",
       "    </tr>\n",
       "    <tr>\n",
       "      <th id=\"T_6a737_level0_row4\" class=\"row_heading level0 row4\" >efforts</th>\n",
       "      <td id=\"T_6a737_row4_col0\" class=\"data row4 col0\" >0.00 %</td>\n",
       "      <td id=\"T_6a737_row4_col1\" class=\"data row4 col1\" >0</td>\n",
       "      <td id=\"T_6a737_row4_col2\" class=\"data row4 col2\" >int64</td>\n",
       "    </tr>\n",
       "    <tr>\n",
       "      <th id=\"T_6a737_level0_row5\" class=\"row_heading level0 row5\" >ice</th>\n",
       "      <td id=\"T_6a737_row5_col0\" class=\"data row5 col0\" >0.00 %</td>\n",
       "      <td id=\"T_6a737_row5_col1\" class=\"data row5 col1\" >0</td>\n",
       "      <td id=\"T_6a737_row5_col2\" class=\"data row5 col2\" >float64</td>\n",
       "    </tr>\n",
       "    <tr>\n",
       "      <th id=\"T_6a737_level0_row6\" class=\"row_heading level0 row6\" >rice</th>\n",
       "      <td id=\"T_6a737_row6_col0\" class=\"data row6 col0\" >0.00 %</td>\n",
       "      <td id=\"T_6a737_row6_col1\" class=\"data row6 col1\" >0</td>\n",
       "      <td id=\"T_6a737_row6_col2\" class=\"data row6 col2\" >float64</td>\n",
       "    </tr>\n",
       "  </tbody>\n",
       "</table>\n"
      ],
      "text/plain": [
       "<pandas.io.formats.style.Styler at 0x70c2d1692530>"
      ]
     },
     "metadata": {},
     "output_type": "display_data"
    },
    {
     "name": "stdout",
     "output_type": "stream",
     "text": [
      "======================================== \n",
      "\n",
      "ORDERS\n"
     ]
    },
    {
     "data": {
      "text/html": [
       "<div>\n",
       "<style scoped>\n",
       "    .dataframe tbody tr th:only-of-type {\n",
       "        vertical-align: middle;\n",
       "    }\n",
       "\n",
       "    .dataframe tbody tr th {\n",
       "        vertical-align: top;\n",
       "    }\n",
       "\n",
       "    .dataframe thead th {\n",
       "        text-align: right;\n",
       "    }\n",
       "</style>\n",
       "<table border=\"1\" class=\"dataframe\">\n",
       "  <thead>\n",
       "    <tr style=\"text-align: right;\">\n",
       "      <th></th>\n",
       "      <th>transaction_id</th>\n",
       "      <th>visitor_id</th>\n",
       "      <th>date</th>\n",
       "      <th>revenue</th>\n",
       "      <th>group</th>\n",
       "    </tr>\n",
       "  </thead>\n",
       "  <tbody>\n",
       "    <tr>\n",
       "      <th>0</th>\n",
       "      <td>3667963787</td>\n",
       "      <td>3312258926</td>\n",
       "      <td>2019-08-15</td>\n",
       "      <td>1650</td>\n",
       "      <td>B</td>\n",
       "    </tr>\n",
       "    <tr>\n",
       "      <th>1</th>\n",
       "      <td>2804400009</td>\n",
       "      <td>3642806036</td>\n",
       "      <td>2019-08-15</td>\n",
       "      <td>730</td>\n",
       "      <td>B</td>\n",
       "    </tr>\n",
       "    <tr>\n",
       "      <th>2</th>\n",
       "      <td>2961555356</td>\n",
       "      <td>4069496402</td>\n",
       "      <td>2019-08-15</td>\n",
       "      <td>400</td>\n",
       "      <td>A</td>\n",
       "    </tr>\n",
       "    <tr>\n",
       "      <th>3</th>\n",
       "      <td>3797467345</td>\n",
       "      <td>1196621759</td>\n",
       "      <td>2019-08-15</td>\n",
       "      <td>9759</td>\n",
       "      <td>B</td>\n",
       "    </tr>\n",
       "    <tr>\n",
       "      <th>4</th>\n",
       "      <td>2282983706</td>\n",
       "      <td>2322279887</td>\n",
       "      <td>2019-08-15</td>\n",
       "      <td>2308</td>\n",
       "      <td>B</td>\n",
       "    </tr>\n",
       "  </tbody>\n",
       "</table>\n",
       "</div>"
      ],
      "text/plain": [
       "   transaction_id  visitor_id       date  revenue group\n",
       "0      3667963787  3312258926 2019-08-15     1650     B\n",
       "1      2804400009  3642806036 2019-08-15      730     B\n",
       "2      2961555356  4069496402 2019-08-15      400     A\n",
       "3      3797467345  1196621759 2019-08-15     9759     B\n",
       "4      2282983706  2322279887 2019-08-15     2308     B"
      ]
     },
     "metadata": {},
     "output_type": "display_data"
    },
    {
     "data": {
      "text/html": [
       "<style type=\"text/css\">\n",
       "#T_e62b0_row0_col2 {\n",
       "  background: #32cd32;\n",
       "  color: black;\n",
       "  font-weight: 600;\n",
       "}\n",
       "</style>\n",
       "<table id=\"T_e62b0\">\n",
       "  <thead>\n",
       "    <tr>\n",
       "      <th class=\"blank level0\" >&nbsp;</th>\n",
       "      <th id=\"T_e62b0_level0_col0\" class=\"col_heading level0 col0\" >rows</th>\n",
       "      <th id=\"T_e62b0_level0_col1\" class=\"col_heading level0 col1\" >columns</th>\n",
       "      <th id=\"T_e62b0_level0_col2\" class=\"col_heading level0 col2\" >duplicates</th>\n",
       "    </tr>\n",
       "  </thead>\n",
       "  <tbody>\n",
       "    <tr>\n",
       "      <th id=\"T_e62b0_level0_row0\" class=\"row_heading level0 row0\" >0</th>\n",
       "      <td id=\"T_e62b0_row0_col0\" class=\"data row0 col0\" >1197</td>\n",
       "      <td id=\"T_e62b0_row0_col1\" class=\"data row0 col1\" >5</td>\n",
       "      <td id=\"T_e62b0_row0_col2\" class=\"data row0 col2\" >0</td>\n",
       "    </tr>\n",
       "  </tbody>\n",
       "</table>\n"
      ],
      "text/plain": [
       "<pandas.io.formats.style.Styler at 0x70c2d1692b90>"
      ]
     },
     "metadata": {},
     "output_type": "display_data"
    },
    {
     "data": {
      "text/html": [
       "<style type=\"text/css\">\n",
       "#T_eb1fa tr:hover {\n",
       "  background-color: #222222;\n",
       "  color: white;\n",
       "}\n",
       "#T_eb1fa_row0_col0, #T_eb1fa_row1_col0, #T_eb1fa_row2_col0, #T_eb1fa_row3_col0, #T_eb1fa_row4_col0 {\n",
       "  color: #32cd32;\n",
       "  font-weight: 600;\n",
       "  width: 10em;\n",
       "}\n",
       "#T_eb1fa_row0_col1, #T_eb1fa_row1_col1, #T_eb1fa_row2_col1, #T_eb1fa_row3_col1, #T_eb1fa_row4_col1 {\n",
       "  color: #32cd32;\n",
       "  font-weight: 600;\n",
       "}\n",
       "#T_eb1fa_row0_col2, #T_eb1fa_row1_col2, #T_eb1fa_row3_col2 {\n",
       "  color: #3399ff;\n",
       "}\n",
       "#T_eb1fa_row2_col2 {\n",
       "  color: orange;\n",
       "}\n",
       "#T_eb1fa_row4_col2 {\n",
       "  color: #ff00ff;\n",
       "}\n",
       "</style>\n",
       "<table id=\"T_eb1fa\">\n",
       "  <caption>Пропуски и тип данных</caption>\n",
       "  <thead>\n",
       "    <tr>\n",
       "      <th class=\"blank level0\" >&nbsp;</th>\n",
       "      <th id=\"T_eb1fa_level0_col0\" class=\"col_heading level0 col0\" >missing</th>\n",
       "      <th id=\"T_eb1fa_level0_col1\" class=\"col_heading level0 col1\" >count_missing</th>\n",
       "      <th id=\"T_eb1fa_level0_col2\" class=\"col_heading level0 col2\" >type</th>\n",
       "    </tr>\n",
       "  </thead>\n",
       "  <tbody>\n",
       "    <tr>\n",
       "      <th id=\"T_eb1fa_level0_row0\" class=\"row_heading level0 row0\" >transaction_id</th>\n",
       "      <td id=\"T_eb1fa_row0_col0\" class=\"data row0 col0\" >0.00 %</td>\n",
       "      <td id=\"T_eb1fa_row0_col1\" class=\"data row0 col1\" >0</td>\n",
       "      <td id=\"T_eb1fa_row0_col2\" class=\"data row0 col2\" >int64</td>\n",
       "    </tr>\n",
       "    <tr>\n",
       "      <th id=\"T_eb1fa_level0_row1\" class=\"row_heading level0 row1\" >visitor_id</th>\n",
       "      <td id=\"T_eb1fa_row1_col0\" class=\"data row1 col0\" >0.00 %</td>\n",
       "      <td id=\"T_eb1fa_row1_col1\" class=\"data row1 col1\" >0</td>\n",
       "      <td id=\"T_eb1fa_row1_col2\" class=\"data row1 col2\" >int64</td>\n",
       "    </tr>\n",
       "    <tr>\n",
       "      <th id=\"T_eb1fa_level0_row2\" class=\"row_heading level0 row2\" >date</th>\n",
       "      <td id=\"T_eb1fa_row2_col0\" class=\"data row2 col0\" >0.00 %</td>\n",
       "      <td id=\"T_eb1fa_row2_col1\" class=\"data row2 col1\" >0</td>\n",
       "      <td id=\"T_eb1fa_row2_col2\" class=\"data row2 col2\" >datetime64[ns]</td>\n",
       "    </tr>\n",
       "    <tr>\n",
       "      <th id=\"T_eb1fa_level0_row3\" class=\"row_heading level0 row3\" >revenue</th>\n",
       "      <td id=\"T_eb1fa_row3_col0\" class=\"data row3 col0\" >0.00 %</td>\n",
       "      <td id=\"T_eb1fa_row3_col1\" class=\"data row3 col1\" >0</td>\n",
       "      <td id=\"T_eb1fa_row3_col2\" class=\"data row3 col2\" >int64</td>\n",
       "    </tr>\n",
       "    <tr>\n",
       "      <th id=\"T_eb1fa_level0_row4\" class=\"row_heading level0 row4\" >group</th>\n",
       "      <td id=\"T_eb1fa_row4_col0\" class=\"data row4 col0\" >0.00 %</td>\n",
       "      <td id=\"T_eb1fa_row4_col1\" class=\"data row4 col1\" >0</td>\n",
       "      <td id=\"T_eb1fa_row4_col2\" class=\"data row4 col2\" >object</td>\n",
       "    </tr>\n",
       "  </tbody>\n",
       "</table>\n"
      ],
      "text/plain": [
       "<pandas.io.formats.style.Styler at 0x70c2d1626a10>"
      ]
     },
     "metadata": {},
     "output_type": "display_data"
    },
    {
     "name": "stdout",
     "output_type": "stream",
     "text": [
      "======================================== \n",
      "\n",
      "VISITORS\n"
     ]
    },
    {
     "data": {
      "text/html": [
       "<div>\n",
       "<style scoped>\n",
       "    .dataframe tbody tr th:only-of-type {\n",
       "        vertical-align: middle;\n",
       "    }\n",
       "\n",
       "    .dataframe tbody tr th {\n",
       "        vertical-align: top;\n",
       "    }\n",
       "\n",
       "    .dataframe thead th {\n",
       "        text-align: right;\n",
       "    }\n",
       "</style>\n",
       "<table border=\"1\" class=\"dataframe\">\n",
       "  <thead>\n",
       "    <tr style=\"text-align: right;\">\n",
       "      <th></th>\n",
       "      <th>date</th>\n",
       "      <th>group</th>\n",
       "      <th>visitors</th>\n",
       "    </tr>\n",
       "  </thead>\n",
       "  <tbody>\n",
       "    <tr>\n",
       "      <th>0</th>\n",
       "      <td>2019-08-01</td>\n",
       "      <td>A</td>\n",
       "      <td>719</td>\n",
       "    </tr>\n",
       "    <tr>\n",
       "      <th>1</th>\n",
       "      <td>2019-08-02</td>\n",
       "      <td>A</td>\n",
       "      <td>619</td>\n",
       "    </tr>\n",
       "    <tr>\n",
       "      <th>2</th>\n",
       "      <td>2019-08-03</td>\n",
       "      <td>A</td>\n",
       "      <td>507</td>\n",
       "    </tr>\n",
       "    <tr>\n",
       "      <th>3</th>\n",
       "      <td>2019-08-04</td>\n",
       "      <td>A</td>\n",
       "      <td>717</td>\n",
       "    </tr>\n",
       "    <tr>\n",
       "      <th>4</th>\n",
       "      <td>2019-08-05</td>\n",
       "      <td>A</td>\n",
       "      <td>756</td>\n",
       "    </tr>\n",
       "  </tbody>\n",
       "</table>\n",
       "</div>"
      ],
      "text/plain": [
       "        date group  visitors\n",
       "0 2019-08-01     A       719\n",
       "1 2019-08-02     A       619\n",
       "2 2019-08-03     A       507\n",
       "3 2019-08-04     A       717\n",
       "4 2019-08-05     A       756"
      ]
     },
     "metadata": {},
     "output_type": "display_data"
    },
    {
     "data": {
      "text/html": [
       "<style type=\"text/css\">\n",
       "#T_4ac4f_row0_col2 {\n",
       "  background: #32cd32;\n",
       "  color: black;\n",
       "  font-weight: 600;\n",
       "}\n",
       "</style>\n",
       "<table id=\"T_4ac4f\">\n",
       "  <thead>\n",
       "    <tr>\n",
       "      <th class=\"blank level0\" >&nbsp;</th>\n",
       "      <th id=\"T_4ac4f_level0_col0\" class=\"col_heading level0 col0\" >rows</th>\n",
       "      <th id=\"T_4ac4f_level0_col1\" class=\"col_heading level0 col1\" >columns</th>\n",
       "      <th id=\"T_4ac4f_level0_col2\" class=\"col_heading level0 col2\" >duplicates</th>\n",
       "    </tr>\n",
       "  </thead>\n",
       "  <tbody>\n",
       "    <tr>\n",
       "      <th id=\"T_4ac4f_level0_row0\" class=\"row_heading level0 row0\" >0</th>\n",
       "      <td id=\"T_4ac4f_row0_col0\" class=\"data row0 col0\" >62</td>\n",
       "      <td id=\"T_4ac4f_row0_col1\" class=\"data row0 col1\" >3</td>\n",
       "      <td id=\"T_4ac4f_row0_col2\" class=\"data row0 col2\" >0</td>\n",
       "    </tr>\n",
       "  </tbody>\n",
       "</table>\n"
      ],
      "text/plain": [
       "<pandas.io.formats.style.Styler at 0x70c2d1692590>"
      ]
     },
     "metadata": {},
     "output_type": "display_data"
    },
    {
     "data": {
      "text/html": [
       "<style type=\"text/css\">\n",
       "#T_51663 tr:hover {\n",
       "  background-color: #222222;\n",
       "  color: white;\n",
       "}\n",
       "#T_51663_row0_col0, #T_51663_row1_col0, #T_51663_row2_col0 {\n",
       "  color: #32cd32;\n",
       "  font-weight: 600;\n",
       "  width: 10em;\n",
       "}\n",
       "#T_51663_row0_col1, #T_51663_row1_col1, #T_51663_row2_col1 {\n",
       "  color: #32cd32;\n",
       "  font-weight: 600;\n",
       "}\n",
       "#T_51663_row0_col2 {\n",
       "  color: orange;\n",
       "}\n",
       "#T_51663_row1_col2 {\n",
       "  color: #ff00ff;\n",
       "}\n",
       "#T_51663_row2_col2 {\n",
       "  color: #3399ff;\n",
       "}\n",
       "</style>\n",
       "<table id=\"T_51663\">\n",
       "  <caption>Пропуски и тип данных</caption>\n",
       "  <thead>\n",
       "    <tr>\n",
       "      <th class=\"blank level0\" >&nbsp;</th>\n",
       "      <th id=\"T_51663_level0_col0\" class=\"col_heading level0 col0\" >missing</th>\n",
       "      <th id=\"T_51663_level0_col1\" class=\"col_heading level0 col1\" >count_missing</th>\n",
       "      <th id=\"T_51663_level0_col2\" class=\"col_heading level0 col2\" >type</th>\n",
       "    </tr>\n",
       "  </thead>\n",
       "  <tbody>\n",
       "    <tr>\n",
       "      <th id=\"T_51663_level0_row0\" class=\"row_heading level0 row0\" >date</th>\n",
       "      <td id=\"T_51663_row0_col0\" class=\"data row0 col0\" >0.00 %</td>\n",
       "      <td id=\"T_51663_row0_col1\" class=\"data row0 col1\" >0</td>\n",
       "      <td id=\"T_51663_row0_col2\" class=\"data row0 col2\" >datetime64[ns]</td>\n",
       "    </tr>\n",
       "    <tr>\n",
       "      <th id=\"T_51663_level0_row1\" class=\"row_heading level0 row1\" >group</th>\n",
       "      <td id=\"T_51663_row1_col0\" class=\"data row1 col0\" >0.00 %</td>\n",
       "      <td id=\"T_51663_row1_col1\" class=\"data row1 col1\" >0</td>\n",
       "      <td id=\"T_51663_row1_col2\" class=\"data row1 col2\" >object</td>\n",
       "    </tr>\n",
       "    <tr>\n",
       "      <th id=\"T_51663_level0_row2\" class=\"row_heading level0 row2\" >visitors</th>\n",
       "      <td id=\"T_51663_row2_col0\" class=\"data row2 col0\" >0.00 %</td>\n",
       "      <td id=\"T_51663_row2_col1\" class=\"data row2 col1\" >0</td>\n",
       "      <td id=\"T_51663_row2_col2\" class=\"data row2 col2\" >int64</td>\n",
       "    </tr>\n",
       "  </tbody>\n",
       "</table>\n"
      ],
      "text/plain": [
       "<pandas.io.formats.style.Styler at 0x70c2d16da710>"
      ]
     },
     "metadata": {},
     "output_type": "display_data"
    },
    {
     "name": "stdout",
     "output_type": "stream",
     "text": [
      "======================================== \n",
      "\n"
     ]
    }
   ],
   "source": [
    "for df, name in zip([hypotesis, orders, visitors],\n",
    "                    ['hypotesis', 'orders', 'visitors']):\n",
    "    print(name.upper())\n",
    "    get_info_dataframe(df)"
   ]
  },
  {
   "cell_type": "markdown",
   "metadata": {},
   "source": [
    "функция форматирования названий столбцов"
   ]
  },
  {
   "cell_type": "code",
   "execution_count": 4,
   "metadata": {
    "trusted": true
   },
   "outputs": [],
   "source": [
    "\n",
    "def get_format_columns(dataframe):\n",
    "    '''функция принимает датафрейм и возврашает форматированные названия столбцов: \n",
    "    (Основное)\n",
    "    1. без пробелов слева и справа\n",
    "    2. пробел внутри названия столбца заменяется на символ \"_\" \n",
    "    3. меняет регистр букв на строчный \n",
    "    '''\n",
    "\n",
    "    return list(\n",
    "        map(\n",
    "            lambda x: x\n",
    "            .strip()\n",
    "            .replace(' ', '_')\n",
    "            # дополнительное: замена окончаний названий столбцов\n",
    "            .replace('Id', '_id')\n",
    "            .lower(),\n",
    "            dataframe.columns))"
   ]
  },
  {
   "cell_type": "markdown",
   "metadata": {},
   "source": [
    "форматируем столбцы первым заходом - убираем (даже если их не было) пробелы слев и справа от названия,   \n"
   ]
  },
  {
   "cell_type": "code",
   "execution_count": 5,
   "metadata": {
    "trusted": true
   },
   "outputs": [
    {
     "name": "stdout",
     "output_type": "stream",
     "text": [
      "\n",
      "DATAFRAME: hypotesis\n",
      "----------\n",
      "Index(['hypothesis', 'reach', 'impact', 'confidence', 'efforts'], dtype='object')\n",
      "\n",
      "DATAFRAME: orders\n",
      "----------\n",
      "Index(['transaction_id', 'visitor_id', 'date', 'revenue', 'group'], dtype='object')\n",
      "\n",
      "DATAFRAME: visitors\n",
      "----------\n",
      "Index(['date', 'group', 'visitors'], dtype='object')\n"
     ]
    }
   ],
   "source": [
    "for df, name in zip([hypotesis, orders, visitors],\n",
    "                    ['hypotesis', 'orders', 'visitors']):\n",
    "\n",
    "\n",
    "    df.columns = get_format_columns(df)\n",
    "\n",
    "    print(f'\\nDATAFRAME: {name}\\n{\"-\"*10}')\n",
    "\n",
    "    print(df.columns)"
   ]
  },
  {
   "cell_type": "markdown",
   "metadata": {},
   "source": [
    "меняем тип даты в датафреймах `orders` и `visitors`"
   ]
  },
  {
   "cell_type": "code",
   "execution_count": 6,
   "metadata": {
    "trusted": true
   },
   "outputs": [
    {
     "name": "stdout",
     "output_type": "stream",
     "text": [
      "\n",
      "DATAFRAME: orders\n",
      "----------\n",
      "transaction_id             int64\n",
      "visitor_id                 int64\n",
      "date              datetime64[ns]\n",
      "revenue                    int64\n",
      "group                     object\n",
      "dtype: object\n",
      "\n",
      "DATAFRAME: visitors\n",
      "----------\n",
      "date        datetime64[ns]\n",
      "group               object\n",
      "visitors             int64\n",
      "dtype: object\n"
     ]
    }
   ],
   "source": [
    "for df, name in zip([orders, visitors],\n",
    "                    ['orders', 'visitors']):\n",
    "    \n",
    "    df['date'] = pd.to_datetime(df.date, format=\"%Y-%m-%d\")\n",
    "\n",
    "    print(f'\\nDATAFRAME: {name}\\n{\"-\"*10}')\n",
    "    print(df.dtypes)"
   ]
  },
  {
   "cell_type": "markdown",
   "metadata": {},
   "source": [
    "данные готовы к работе"
   ]
  },
  {
   "cell_type": "markdown",
   "metadata": {},
   "source": [
    "## Часть первая. Приоретизация гипотез"
   ]
  },
  {
   "cell_type": "markdown",
   "metadata": {},
   "source": [
    "Необходимые функции для расчета оценок `ICE` и `RICE`"
   ]
  },
  {
   "cell_type": "code",
   "execution_count": 7,
   "metadata": {
    "trusted": true
   },
   "outputs": [],
   "source": [
    "def get_ice(impact, confidence, efforts):\n",
    "    '''расчитывает оценку `ICE`   \n",
    "    1. `impact` - влияние   \n",
    "    2. `confidence` - уверенность в успехе\n",
    "    3. `efforts` - обьем затраченных усилий'''\n",
    "\n",
    "    ice = impact * confidence / efforts\n",
    "    return round(ice, 2)"
   ]
  },
  {
   "cell_type": "code",
   "execution_count": 8,
   "metadata": {
    "trusted": true
   },
   "outputs": [],
   "source": [
    "def get_rice(reach, ice):\n",
    "    '''расчитывает оценку `RICE`\n",
    "    1. `reach` - охват аудитории   '''\n",
    "\n",
    "    rice = reach * ice\n",
    "    return round(rice, 4)"
   ]
  },
  {
   "cell_type": "markdown",
   "metadata": {},
   "source": [
    "рассчитываем `ICE` `RICE`"
   ]
  },
  {
   "cell_type": "code",
   "execution_count": 9,
   "metadata": {
    "trusted": true
   },
   "outputs": [],
   "source": [
    "hypotesis['ice'] = (hypotesis\n",
    "                    .apply(\n",
    "                        lambda x:\n",
    "                            get_ice(x.impact,\n",
    "                                    x.confidence,\n",
    "                                    x.efforts),\n",
    "                            axis=1))\n",
    "\n",
    "\n",
    "hypotesis['rice'] = (hypotesis\n",
    "                     .apply(\n",
    "                         lambda x:\n",
    "                             get_rice(x.reach,\n",
    "                                      x.ice),\n",
    "                             axis=1))"
   ]
  },
  {
   "cell_type": "code",
   "execution_count": 10,
   "metadata": {
    "trusted": true
   },
   "outputs": [
    {
     "data": {
      "text/html": [
       "<div>\n",
       "<style scoped>\n",
       "    .dataframe tbody tr th:only-of-type {\n",
       "        vertical-align: middle;\n",
       "    }\n",
       "\n",
       "    .dataframe tbody tr th {\n",
       "        vertical-align: top;\n",
       "    }\n",
       "\n",
       "    .dataframe thead th {\n",
       "        text-align: right;\n",
       "    }\n",
       "</style>\n",
       "<table border=\"1\" class=\"dataframe\">\n",
       "  <thead>\n",
       "    <tr style=\"text-align: right;\">\n",
       "      <th></th>\n",
       "      <th>hypothesis</th>\n",
       "      <th>ice</th>\n",
       "    </tr>\n",
       "  </thead>\n",
       "  <tbody>\n",
       "    <tr>\n",
       "      <th>8</th>\n",
       "      <td>Запустить акцию, дающую скидку на товар в день рождения</td>\n",
       "      <td>16.20</td>\n",
       "    </tr>\n",
       "    <tr>\n",
       "      <th>0</th>\n",
       "      <td>Добавить два новых канала привлечения трафика, что позволит привлекать на 30% больше пользователей</td>\n",
       "      <td>13.33</td>\n",
       "    </tr>\n",
       "    <tr>\n",
       "      <th>7</th>\n",
       "      <td>Добавить форму подписки на все основные страницы, чтобы собрать базу клиентов для email-рассылок</td>\n",
       "      <td>11.20</td>\n",
       "    </tr>\n",
       "    <tr>\n",
       "      <th>6</th>\n",
       "      <td>Показать на главной странице баннеры с актуальными акциями и распродажами, чтобы увеличить конверсию</td>\n",
       "      <td>8.00</td>\n",
       "    </tr>\n",
       "    <tr>\n",
       "      <th>2</th>\n",
       "      <td>Добавить блоки рекомендаций товаров на сайт интернет магазина, чтобы повысить конверсию и средний чек заказа</td>\n",
       "      <td>7.00</td>\n",
       "    </tr>\n",
       "    <tr>\n",
       "      <th>1</th>\n",
       "      <td>Запустить собственную службу доставки, что сократит срок доставки заказов</td>\n",
       "      <td>2.00</td>\n",
       "    </tr>\n",
       "    <tr>\n",
       "      <th>5</th>\n",
       "      <td>Добавить страницу отзывов клиентов о магазине, что позволит увеличить количество заказов</td>\n",
       "      <td>1.33</td>\n",
       "    </tr>\n",
       "    <tr>\n",
       "      <th>3</th>\n",
       "      <td>Изменить структура категорий, что увеличит конверсию, т.к. пользователи быстрее найдут нужный товар</td>\n",
       "      <td>1.12</td>\n",
       "    </tr>\n",
       "    <tr>\n",
       "      <th>4</th>\n",
       "      <td>Изменить цвет фона главной страницы, чтобы увеличить вовлеченность пользователей</td>\n",
       "      <td>1.00</td>\n",
       "    </tr>\n",
       "  </tbody>\n",
       "</table>\n",
       "</div>"
      ],
      "text/plain": [
       "                                                                                                     hypothesis  \\\n",
       "8                                                       Запустить акцию, дающую скидку на товар в день рождения   \n",
       "0            Добавить два новых канала привлечения трафика, что позволит привлекать на 30% больше пользователей   \n",
       "7              Добавить форму подписки на все основные страницы, чтобы собрать базу клиентов для email-рассылок   \n",
       "6          Показать на главной странице баннеры с актуальными акциями и распродажами, чтобы увеличить конверсию   \n",
       "2  Добавить блоки рекомендаций товаров на сайт интернет магазина, чтобы повысить конверсию и средний чек заказа   \n",
       "1                                     Запустить собственную службу доставки, что сократит срок доставки заказов   \n",
       "5                      Добавить страницу отзывов клиентов о магазине, что позволит увеличить количество заказов   \n",
       "3           Изменить структура категорий, что увеличит конверсию, т.к. пользователи быстрее найдут нужный товар   \n",
       "4                              Изменить цвет фона главной страницы, чтобы увеличить вовлеченность пользователей   \n",
       "\n",
       "     ice  \n",
       "8  16.20  \n",
       "0  13.33  \n",
       "7  11.20  \n",
       "6   8.00  \n",
       "2   7.00  \n",
       "1   2.00  \n",
       "5   1.33  \n",
       "3   1.12  \n",
       "4   1.00  "
      ]
     },
     "execution_count": 10,
     "metadata": {},
     "output_type": "execute_result"
    }
   ],
   "source": [
    "hypotesis[\n",
    "    ['hypothesis', 'ice']\n",
    "].sort_values('ice',\n",
    "              ascending=False)"
   ]
  },
  {
   "cell_type": "code",
   "execution_count": 11,
   "metadata": {
    "trusted": true
   },
   "outputs": [
    {
     "data": {
      "text/html": [
       "<div>\n",
       "<style scoped>\n",
       "    .dataframe tbody tr th:only-of-type {\n",
       "        vertical-align: middle;\n",
       "    }\n",
       "\n",
       "    .dataframe tbody tr th {\n",
       "        vertical-align: top;\n",
       "    }\n",
       "\n",
       "    .dataframe thead th {\n",
       "        text-align: right;\n",
       "    }\n",
       "</style>\n",
       "<table border=\"1\" class=\"dataframe\">\n",
       "  <thead>\n",
       "    <tr style=\"text-align: right;\">\n",
       "      <th></th>\n",
       "      <th>hypothesis</th>\n",
       "      <th>reach</th>\n",
       "      <th>impact</th>\n",
       "      <th>confidence</th>\n",
       "      <th>efforts</th>\n",
       "      <th>ice</th>\n",
       "      <th>rice</th>\n",
       "    </tr>\n",
       "  </thead>\n",
       "  <tbody>\n",
       "    <tr>\n",
       "      <th>7</th>\n",
       "      <td>Добавить форму подписки на все основные страницы, чтобы собрать базу клиентов для email-рассылок</td>\n",
       "      <td>10</td>\n",
       "      <td>7</td>\n",
       "      <td>8</td>\n",
       "      <td>5</td>\n",
       "      <td>11.20</td>\n",
       "      <td>112.00</td>\n",
       "    </tr>\n",
       "    <tr>\n",
       "      <th>2</th>\n",
       "      <td>Добавить блоки рекомендаций товаров на сайт интернет магазина, чтобы повысить конверсию и средний чек заказа</td>\n",
       "      <td>8</td>\n",
       "      <td>3</td>\n",
       "      <td>7</td>\n",
       "      <td>3</td>\n",
       "      <td>7.00</td>\n",
       "      <td>56.00</td>\n",
       "    </tr>\n",
       "    <tr>\n",
       "      <th>6</th>\n",
       "      <td>Показать на главной странице баннеры с актуальными акциями и распродажами, чтобы увеличить конверсию</td>\n",
       "      <td>5</td>\n",
       "      <td>3</td>\n",
       "      <td>8</td>\n",
       "      <td>3</td>\n",
       "      <td>8.00</td>\n",
       "      <td>40.00</td>\n",
       "    </tr>\n",
       "    <tr>\n",
       "      <th>0</th>\n",
       "      <td>Добавить два новых канала привлечения трафика, что позволит привлекать на 30% больше пользователей</td>\n",
       "      <td>3</td>\n",
       "      <td>10</td>\n",
       "      <td>8</td>\n",
       "      <td>6</td>\n",
       "      <td>13.33</td>\n",
       "      <td>39.99</td>\n",
       "    </tr>\n",
       "    <tr>\n",
       "      <th>8</th>\n",
       "      <td>Запустить акцию, дающую скидку на товар в день рождения</td>\n",
       "      <td>1</td>\n",
       "      <td>9</td>\n",
       "      <td>9</td>\n",
       "      <td>5</td>\n",
       "      <td>16.20</td>\n",
       "      <td>16.20</td>\n",
       "    </tr>\n",
       "    <tr>\n",
       "      <th>3</th>\n",
       "      <td>Изменить структура категорий, что увеличит конверсию, т.к. пользователи быстрее найдут нужный товар</td>\n",
       "      <td>8</td>\n",
       "      <td>3</td>\n",
       "      <td>3</td>\n",
       "      <td>8</td>\n",
       "      <td>1.12</td>\n",
       "      <td>8.96</td>\n",
       "    </tr>\n",
       "    <tr>\n",
       "      <th>1</th>\n",
       "      <td>Запустить собственную службу доставки, что сократит срок доставки заказов</td>\n",
       "      <td>2</td>\n",
       "      <td>5</td>\n",
       "      <td>4</td>\n",
       "      <td>10</td>\n",
       "      <td>2.00</td>\n",
       "      <td>4.00</td>\n",
       "    </tr>\n",
       "    <tr>\n",
       "      <th>5</th>\n",
       "      <td>Добавить страницу отзывов клиентов о магазине, что позволит увеличить количество заказов</td>\n",
       "      <td>3</td>\n",
       "      <td>2</td>\n",
       "      <td>2</td>\n",
       "      <td>3</td>\n",
       "      <td>1.33</td>\n",
       "      <td>3.99</td>\n",
       "    </tr>\n",
       "    <tr>\n",
       "      <th>4</th>\n",
       "      <td>Изменить цвет фона главной страницы, чтобы увеличить вовлеченность пользователей</td>\n",
       "      <td>3</td>\n",
       "      <td>1</td>\n",
       "      <td>1</td>\n",
       "      <td>1</td>\n",
       "      <td>1.00</td>\n",
       "      <td>3.00</td>\n",
       "    </tr>\n",
       "  </tbody>\n",
       "</table>\n",
       "</div>"
      ],
      "text/plain": [
       "                                                                                                     hypothesis  \\\n",
       "7              Добавить форму подписки на все основные страницы, чтобы собрать базу клиентов для email-рассылок   \n",
       "2  Добавить блоки рекомендаций товаров на сайт интернет магазина, чтобы повысить конверсию и средний чек заказа   \n",
       "6          Показать на главной странице баннеры с актуальными акциями и распродажами, чтобы увеличить конверсию   \n",
       "0            Добавить два новых канала привлечения трафика, что позволит привлекать на 30% больше пользователей   \n",
       "8                                                       Запустить акцию, дающую скидку на товар в день рождения   \n",
       "3           Изменить структура категорий, что увеличит конверсию, т.к. пользователи быстрее найдут нужный товар   \n",
       "1                                     Запустить собственную службу доставки, что сократит срок доставки заказов   \n",
       "5                      Добавить страницу отзывов клиентов о магазине, что позволит увеличить количество заказов   \n",
       "4                              Изменить цвет фона главной страницы, чтобы увеличить вовлеченность пользователей   \n",
       "\n",
       "   reach  impact  confidence  efforts    ice    rice  \n",
       "7     10       7           8        5  11.20  112.00  \n",
       "2      8       3           7        3   7.00   56.00  \n",
       "6      5       3           8        3   8.00   40.00  \n",
       "0      3      10           8        6  13.33   39.99  \n",
       "8      1       9           9        5  16.20   16.20  \n",
       "3      8       3           3        8   1.12    8.96  \n",
       "1      2       5           4       10   2.00    4.00  \n",
       "5      3       2           2        3   1.33    3.99  \n",
       "4      3       1           1        1   1.00    3.00  "
      ]
     },
     "execution_count": 11,
     "metadata": {},
     "output_type": "execute_result"
    }
   ],
   "source": [
    "hypotesis.sort_values('rice', ascending=False)"
   ]
  },
  {
   "cell_type": "markdown",
   "metadata": {},
   "source": [
    "Самой высокой оценокй RICE обладает гипотеза:    \n",
    "*Добавить форму подписки на все основные страницы, чтобы собрать базу клиентов для email-рассылок*"
   ]
  },
  {
   "cell_type": "markdown",
   "metadata": {},
   "source": [
    "Оценка RICE является более точной в стравнении с ICE , т.к. затрагивает конкретную часть аудитории для выдвинутой гипотезы.   "
   ]
  },
  {
   "cell_type": "markdown",
   "metadata": {},
   "source": [
    "## Часть вторая. Анализ А/В-теста"
   ]
  },
  {
   "cell_type": "markdown",
   "metadata": {},
   "source": [
    "Узнаем сколько проводился тест"
   ]
  },
  {
   "cell_type": "code",
   "execution_count": 12,
   "metadata": {
    "trusted": true
   },
   "outputs": [
    {
     "name": "stdout",
     "output_type": "stream",
     "text": [
      "начало теста: 2019-08-01 00:00:00\n",
      "конец теста: 2019-08-31 00:00:00\n"
     ]
    }
   ],
   "source": [
    "print(f\"начало теста: {orders['date'].min()}\")\n",
    "print(f\"конец теста: {orders['date'].max()}\")"
   ]
  },
  {
   "cell_type": "markdown",
   "metadata": {},
   "source": [
    "тест проводился весь август"
   ]
  },
  {
   "cell_type": "markdown",
   "metadata": {},
   "source": [
    "проверим есть ли пользователи в обеих группах теста"
   ]
  },
  {
   "cell_type": "code",
   "execution_count": 13,
   "metadata": {
    "scrolled": true,
    "trusted": true
   },
   "outputs": [
    {
     "name": "stdout",
     "output_type": "stream",
     "text": [
      "количество пользователей сразу в 2х группах теста: 58\n"
     ]
    }
   ],
   "source": [
    "set_visitors_group_a = set(orders.query('group==\"A\"')['visitor_id'])\n",
    "set_visitors_group_b = set(orders.query('group==\"B\"')['visitor_id'])\n",
    "\n",
    "count_visitors_two_group = len(set_visitors_group_a & set_visitors_group_b)\n",
    "\n",
    "print('количество пользователей сразу в 2х группах теста:',\n",
    "      count_visitors_two_group)"
   ]
  },
  {
   "cell_type": "markdown",
   "metadata": {},
   "source": [
    "посчитаем вероятность"
   ]
  },
  {
   "cell_type": "code",
   "execution_count": 14,
   "metadata": {
    "trusted": true
   },
   "outputs": [
    {
     "name": "stdout",
     "output_type": "stream",
     "text": [
      "вероятность попадания одного человека в обе группы:\n",
      "4.85 %\n"
     ]
    }
   ],
   "source": [
    "print(\n",
    "    f\"\"\"вероятность попадания одного человека в обе группы:\n",
    "{\n",
    "        (count_visitors_two_group / orders['visitor_id']\n",
    "    .count()*100)\n",
    "    .round(2)\n",
    "    } %\"\"\")"
   ]
  },
  {
   "cell_type": "markdown",
   "metadata": {},
   "source": [
    "Отметим тот факт что    \n",
    " - группы теста различаются размерами    \n",
    "  - в обе группы входит 58 человек.   \n",
    "  \n",
    "   Удалить их не выйдет так как они находятся в агрегированной таблице с пользователями (`visitors`), а их отсутвие так же исказит результаты"
   ]
  },
  {
   "cell_type": "markdown",
   "metadata": {},
   "source": [
    "Посчитаем размер групп"
   ]
  },
  {
   "cell_type": "code",
   "execution_count": 15,
   "metadata": {
    "trusted": true
   },
   "outputs": [],
   "source": [
    "group_a = visitors.query('group==\"A\"')['visitors'].count()\n",
    "group_b = visitors.query('group==\"B\"')['visitors'].count()\n"
   ]
  },
  {
   "cell_type": "code",
   "execution_count": 16,
   "metadata": {
    "trusted": true
   },
   "outputs": [
    {
     "name": "stdout",
     "output_type": "stream",
     "text": [
      "разница между группами: 0.0 %\n"
     ]
    }
   ],
   "source": [
    "q = (1 - group_a / group_b) * 100\n",
    "\n",
    "print(f'разница между группами: {round(q, 2)} %')"
   ]
  },
  {
   "cell_type": "markdown",
   "metadata": {},
   "source": [
    "### Кумулятивная выручка по группам"
   ]
  },
  {
   "cell_type": "markdown",
   "metadata": {},
   "source": [
    "Узнаем кумулятивную выручку по группам теста на протяжении всего теста"
   ]
  },
  {
   "cell_type": "markdown",
   "metadata": {},
   "source": [
    "Перед этим подготовим данные"
   ]
  },
  {
   "cell_type": "markdown",
   "metadata": {},
   "source": [
    "создадим таблицу с уникальными парами 'дата-группа теста'"
   ]
  },
  {
   "cell_type": "code",
   "execution_count": 17,
   "metadata": {
    "trusted": true
   },
   "outputs": [],
   "source": [
    "dates_groups = orders[['date', 'group']].drop_duplicates()"
   ]
  },
  {
   "cell_type": "markdown",
   "metadata": {},
   "source": [
    "агрегируем таблицу с заказами и отсортируем по дате и группе теста по возрастанию"
   ]
  },
  {
   "cell_type": "code",
   "execution_count": 18,
   "metadata": {
    "trusted": true
   },
   "outputs": [],
   "source": [
    "orders_aggregated = (dates_groups\n",
    "                     .apply(\n",
    "                         lambda x:\n",
    "                         orders[\n",
    "                             np.logical_and(\n",
    "                                 orders['date'] <= x['date'],\n",
    "\n",
    "                                 orders['group'] == x['group']\n",
    "                             )\n",
    "                         ]\n",
    "\n",
    "                         .agg(\n",
    "                             {'date': 'max',\n",
    "\n",
    "                              'group': 'max',\n",
    "\n",
    "                              'transaction_id': 'nunique',\n",
    "\n",
    "                              'visitor_id': 'nunique',\n",
    "\n",
    "                              'revenue': 'sum'}\n",
    "                         ),\n",
    "                         axis=1)\n",
    "                     .sort_values(\n",
    "                         ['date', 'group']\n",
    "                     )\n",
    "                     )"
   ]
  },
  {
   "cell_type": "markdown",
   "metadata": {},
   "source": [
    "совершим такую же операцию с таблитцей пользователей"
   ]
  },
  {
   "cell_type": "code",
   "execution_count": 19,
   "metadata": {
    "trusted": true
   },
   "outputs": [],
   "source": [
    "visitors_aggregated = (dates_groups\n",
    "                       .apply(\n",
    "\n",
    "                           lambda x:\n",
    "                               visitors[\n",
    "                                   np.logical_and(\n",
    "                                       visitors['date'] <= x['date'],\n",
    "                                       visitors['group'] == x['group']\n",
    "                                   )\n",
    "                               ].agg(\n",
    "                                   {\n",
    "                                       'date': 'max',\n",
    "                                       'group': 'max',\n",
    "                                       'visitors': 'sum'\n",
    "                                   }\n",
    "                                   ), axis=1)\n",
    "                       .sort_values(\n",
    "                           ['date', 'group']\n",
    "                           )\n",
    "                       )"
   ]
  },
  {
   "cell_type": "markdown",
   "metadata": {},
   "source": [
    "соберем агрегированные таблицы в одну"
   ]
  },
  {
   "cell_type": "code",
   "execution_count": 20,
   "metadata": {
    "trusted": true
   },
   "outputs": [],
   "source": [
    "cumulative_data = (orders_aggregated\n",
    "                   .merge(\n",
    "                       visitors_aggregated,\n",
    "                       left_on=['date', 'group'],\n",
    "                       right_on=['date', 'group']\n",
    "                   )\n",
    "                   )"
   ]
  },
  {
   "cell_type": "code",
   "execution_count": 21,
   "metadata": {
    "trusted": true
   },
   "outputs": [
    {
     "data": {
      "text/html": [
       "<div>\n",
       "<style scoped>\n",
       "    .dataframe tbody tr th:only-of-type {\n",
       "        vertical-align: middle;\n",
       "    }\n",
       "\n",
       "    .dataframe tbody tr th {\n",
       "        vertical-align: top;\n",
       "    }\n",
       "\n",
       "    .dataframe thead th {\n",
       "        text-align: right;\n",
       "    }\n",
       "</style>\n",
       "<table border=\"1\" class=\"dataframe\">\n",
       "  <thead>\n",
       "    <tr style=\"text-align: right;\">\n",
       "      <th></th>\n",
       "      <th>date</th>\n",
       "      <th>group</th>\n",
       "      <th>transaction_id</th>\n",
       "      <th>visitor_id</th>\n",
       "      <th>revenue</th>\n",
       "      <th>visitors</th>\n",
       "    </tr>\n",
       "  </thead>\n",
       "  <tbody>\n",
       "    <tr>\n",
       "      <th>0</th>\n",
       "      <td>2019-08-01</td>\n",
       "      <td>A</td>\n",
       "      <td>24</td>\n",
       "      <td>20</td>\n",
       "      <td>148579</td>\n",
       "      <td>719</td>\n",
       "    </tr>\n",
       "    <tr>\n",
       "      <th>1</th>\n",
       "      <td>2019-08-01</td>\n",
       "      <td>B</td>\n",
       "      <td>21</td>\n",
       "      <td>20</td>\n",
       "      <td>101217</td>\n",
       "      <td>713</td>\n",
       "    </tr>\n",
       "    <tr>\n",
       "      <th>2</th>\n",
       "      <td>2019-08-02</td>\n",
       "      <td>A</td>\n",
       "      <td>44</td>\n",
       "      <td>38</td>\n",
       "      <td>242401</td>\n",
       "      <td>1338</td>\n",
       "    </tr>\n",
       "    <tr>\n",
       "      <th>3</th>\n",
       "      <td>2019-08-02</td>\n",
       "      <td>B</td>\n",
       "      <td>45</td>\n",
       "      <td>43</td>\n",
       "      <td>266748</td>\n",
       "      <td>1294</td>\n",
       "    </tr>\n",
       "    <tr>\n",
       "      <th>4</th>\n",
       "      <td>2019-08-03</td>\n",
       "      <td>A</td>\n",
       "      <td>68</td>\n",
       "      <td>62</td>\n",
       "      <td>354874</td>\n",
       "      <td>1845</td>\n",
       "    </tr>\n",
       "  </tbody>\n",
       "</table>\n",
       "</div>"
      ],
      "text/plain": [
       "        date group  transaction_id  visitor_id  revenue  visitors\n",
       "0 2019-08-01     A              24          20   148579       719\n",
       "1 2019-08-01     B              21          20   101217       713\n",
       "2 2019-08-02     A              44          38   242401      1338\n",
       "3 2019-08-02     B              45          43   266748      1294\n",
       "4 2019-08-03     A              68          62   354874      1845"
      ]
     },
     "execution_count": 21,
     "metadata": {},
     "output_type": "execute_result"
    }
   ],
   "source": [
    "cumulative_data.head()"
   ]
  },
  {
   "cell_type": "code",
   "execution_count": 22,
   "metadata": {
    "trusted": true
   },
   "outputs": [
    {
     "data": {
      "text/plain": [
       "Index(['date', 'group', 'transaction_id', 'visitor_id', 'revenue', 'visitors'], dtype='object')"
      ]
     },
     "execution_count": 22,
     "metadata": {},
     "output_type": "execute_result"
    }
   ],
   "source": [
    "cumulative_data.columns"
   ]
  },
  {
   "cell_type": "markdown",
   "metadata": {},
   "source": [
    "переименуем столбцы для удобства"
   ]
  },
  {
   "cell_type": "code",
   "execution_count": 23,
   "metadata": {
    "trusted": true
   },
   "outputs": [],
   "source": [
    "(cumulative_data\n",
    " .rename(columns={\n",
    "     'transaction_id': 'orders',\n",
    "     'visitor_id': 'buyers'},\n",
    "     inplace=True\n",
    " )\n",
    ")"
   ]
  },
  {
   "cell_type": "markdown",
   "metadata": {},
   "source": [
    "Строим график кумулятивной выручки по группам теста"
   ]
  },
  {
   "cell_type": "code",
   "execution_count": null,
   "metadata": {
    "scrolled": false,
    "trusted": true
   },
   "outputs": [
    {
     "data": {
      "application/vnd.plotly.v1+json": {
       "config": {
        "plotlyServerURL": "https://plot.ly"
       },
       "data": [
        {
         "hovertemplate": "группа=A<br>дата=%{x}<br>кумулятивная выручка=%{y}<extra></extra>",
         "legendgroup": "A",
         "line": {
          "color": "#636efa",
          "dash": "solid",
          "width": 4
         },
         "marker": {
          "symbol": "circle"
         },
         "mode": "lines",
         "name": "A",
         "orientation": "v",
         "showlegend": true,
         "type": "scatter",
         "x": [
          "2019-08-01T00:00:00.000000000",
          "2019-08-02T00:00:00.000000000",
          "2019-08-03T00:00:00.000000000",
          "2019-08-04T00:00:00.000000000",
          "2019-08-05T00:00:00.000000000",
          "2019-08-06T00:00:00.000000000",
          "2019-08-07T00:00:00.000000000",
          "2019-08-08T00:00:00.000000000",
          "2019-08-09T00:00:00.000000000",
          "2019-08-10T00:00:00.000000000",
          "2019-08-11T00:00:00.000000000",
          "2019-08-12T00:00:00.000000000",
          "2019-08-13T00:00:00.000000000",
          "2019-08-14T00:00:00.000000000",
          "2019-08-15T00:00:00.000000000",
          "2019-08-16T00:00:00.000000000",
          "2019-08-17T00:00:00.000000000",
          "2019-08-18T00:00:00.000000000",
          "2019-08-19T00:00:00.000000000",
          "2019-08-20T00:00:00.000000000",
          "2019-08-21T00:00:00.000000000",
          "2019-08-22T00:00:00.000000000",
          "2019-08-23T00:00:00.000000000",
          "2019-08-24T00:00:00.000000000",
          "2019-08-25T00:00:00.000000000",
          "2019-08-26T00:00:00.000000000",
          "2019-08-27T00:00:00.000000000",
          "2019-08-28T00:00:00.000000000",
          "2019-08-29T00:00:00.000000000",
          "2019-08-30T00:00:00.000000000",
          "2019-08-31T00:00:00.000000000"
         ],
         "xaxis": "x",
         "y": {
          "bdata": "Y0QCAOGyAwA6agUA434GAB1kCACBIQkA0k0LAOnFDABDpg8AgtwSAJMLFAD52BcAz94bACTaHACxMh4AvLgfAGl/IAA3miEAZn8kAJmuJQB+VygA4w8qAP/bKwDWzi0A8NouAA5BMQBKoTUATCw3AP4QPAC6Yj0AQ1Q+AA==",
          "dtype": "i4"
         },
         "yaxis": "y"
        },
        {
         "hovertemplate": "группа=B<br>дата=%{x}<br>кумулятивная выручка=%{y}<extra></extra>",
         "legendgroup": "B",
         "line": {
          "color": "#EF553B",
          "dash": "solid",
          "width": 4
         },
         "marker": {
          "symbol": "circle"
         },
         "mode": "lines",
         "name": "B",
         "orientation": "v",
         "showlegend": true,
         "type": "scatter",
         "x": [
          "2019-08-01T00:00:00.000000000",
          "2019-08-02T00:00:00.000000000",
          "2019-08-03T00:00:00.000000000",
          "2019-08-04T00:00:00.000000000",
          "2019-08-05T00:00:00.000000000",
          "2019-08-06T00:00:00.000000000",
          "2019-08-07T00:00:00.000000000",
          "2019-08-08T00:00:00.000000000",
          "2019-08-09T00:00:00.000000000",
          "2019-08-10T00:00:00.000000000",
          "2019-08-11T00:00:00.000000000",
          "2019-08-12T00:00:00.000000000",
          "2019-08-13T00:00:00.000000000",
          "2019-08-14T00:00:00.000000000",
          "2019-08-15T00:00:00.000000000",
          "2019-08-16T00:00:00.000000000",
          "2019-08-17T00:00:00.000000000",
          "2019-08-18T00:00:00.000000000",
          "2019-08-19T00:00:00.000000000",
          "2019-08-20T00:00:00.000000000",
          "2019-08-21T00:00:00.000000000",
          "2019-08-22T00:00:00.000000000",
          "2019-08-23T00:00:00.000000000",
          "2019-08-24T00:00:00.000000000",
          "2019-08-25T00:00:00.000000000",
          "2019-08-26T00:00:00.000000000",
          "2019-08-27T00:00:00.000000000",
          "2019-08-28T00:00:00.000000000",
          "2019-08-29T00:00:00.000000000",
          "2019-08-30T00:00:00.000000000",
          "2019-08-31T00:00:00.000000000"
         ],
         "xaxis": "x",
         "y": {
          "bdata": "YYsBAPwRBABE0AUAX3gHAGvhCAARlAwARwQQAD1jEwBp1xUAg3wXAMFMGACzdRoAKkkcAObnHgDJISQAc8AmAHb9JwCd/igAPdA+AIcPQQCMjEMAvwZGAPDDRwACOUkA0MpKAKeVTQCE1k8AjE1RAGbUVAAnHVgAMCVaAA==",
          "dtype": "i4"
         },
         "yaxis": "y"
        }
       ],
       "layout": {
        "legend": {
         "title": {
          "text": "группа"
         },
         "tracegroupgap": 0
        },
        "margin": {
         "t": 60
        },
        "template": {
         "data": {
          "bar": [
           {
            "error_x": {
             "color": "#2a3f5f"
            },
            "error_y": {
             "color": "#2a3f5f"
            },
            "marker": {
             "line": {
              "color": "#E5ECF6",
              "width": 0.5
             },
             "pattern": {
              "fillmode": "overlay",
              "size": 10,
              "solidity": 0.2
             }
            },
            "type": "bar"
           }
          ],
          "barpolar": [
           {
            "marker": {
             "line": {
              "color": "#E5ECF6",
              "width": 0.5
             },
             "pattern": {
              "fillmode": "overlay",
              "size": 10,
              "solidity": 0.2
             }
            },
            "type": "barpolar"
           }
          ],
          "carpet": [
           {
            "aaxis": {
             "endlinecolor": "#2a3f5f",
             "gridcolor": "white",
             "linecolor": "white",
             "minorgridcolor": "white",
             "startlinecolor": "#2a3f5f"
            },
            "baxis": {
             "endlinecolor": "#2a3f5f",
             "gridcolor": "white",
             "linecolor": "white",
             "minorgridcolor": "white",
             "startlinecolor": "#2a3f5f"
            },
            "type": "carpet"
           }
          ],
          "choropleth": [
           {
            "colorbar": {
             "outlinewidth": 0,
             "ticks": ""
            },
            "type": "choropleth"
           }
          ],
          "contour": [
           {
            "colorbar": {
             "outlinewidth": 0,
             "ticks": ""
            },
            "colorscale": [
             [
              0,
              "#0d0887"
             ],
             [
              0.1111111111111111,
              "#46039f"
             ],
             [
              0.2222222222222222,
              "#7201a8"
             ],
             [
              0.3333333333333333,
              "#9c179e"
             ],
             [
              0.4444444444444444,
              "#bd3786"
             ],
             [
              0.5555555555555556,
              "#d8576b"
             ],
             [
              0.6666666666666666,
              "#ed7953"
             ],
             [
              0.7777777777777778,
              "#fb9f3a"
             ],
             [
              0.8888888888888888,
              "#fdca26"
             ],
             [
              1,
              "#f0f921"
             ]
            ],
            "type": "contour"
           }
          ],
          "contourcarpet": [
           {
            "colorbar": {
             "outlinewidth": 0,
             "ticks": ""
            },
            "type": "contourcarpet"
           }
          ],
          "heatmap": [
           {
            "colorbar": {
             "outlinewidth": 0,
             "ticks": ""
            },
            "colorscale": [
             [
              0,
              "#0d0887"
             ],
             [
              0.1111111111111111,
              "#46039f"
             ],
             [
              0.2222222222222222,
              "#7201a8"
             ],
             [
              0.3333333333333333,
              "#9c179e"
             ],
             [
              0.4444444444444444,
              "#bd3786"
             ],
             [
              0.5555555555555556,
              "#d8576b"
             ],
             [
              0.6666666666666666,
              "#ed7953"
             ],
             [
              0.7777777777777778,
              "#fb9f3a"
             ],
             [
              0.8888888888888888,
              "#fdca26"
             ],
             [
              1,
              "#f0f921"
             ]
            ],
            "type": "heatmap"
           }
          ],
          "histogram": [
           {
            "marker": {
             "pattern": {
              "fillmode": "overlay",
              "size": 10,
              "solidity": 0.2
             }
            },
            "type": "histogram"
           }
          ],
          "histogram2d": [
           {
            "colorbar": {
             "outlinewidth": 0,
             "ticks": ""
            },
            "colorscale": [
             [
              0,
              "#0d0887"
             ],
             [
              0.1111111111111111,
              "#46039f"
             ],
             [
              0.2222222222222222,
              "#7201a8"
             ],
             [
              0.3333333333333333,
              "#9c179e"
             ],
             [
              0.4444444444444444,
              "#bd3786"
             ],
             [
              0.5555555555555556,
              "#d8576b"
             ],
             [
              0.6666666666666666,
              "#ed7953"
             ],
             [
              0.7777777777777778,
              "#fb9f3a"
             ],
             [
              0.8888888888888888,
              "#fdca26"
             ],
             [
              1,
              "#f0f921"
             ]
            ],
            "type": "histogram2d"
           }
          ],
          "histogram2dcontour": [
           {
            "colorbar": {
             "outlinewidth": 0,
             "ticks": ""
            },
            "colorscale": [
             [
              0,
              "#0d0887"
             ],
             [
              0.1111111111111111,
              "#46039f"
             ],
             [
              0.2222222222222222,
              "#7201a8"
             ],
             [
              0.3333333333333333,
              "#9c179e"
             ],
             [
              0.4444444444444444,
              "#bd3786"
             ],
             [
              0.5555555555555556,
              "#d8576b"
             ],
             [
              0.6666666666666666,
              "#ed7953"
             ],
             [
              0.7777777777777778,
              "#fb9f3a"
             ],
             [
              0.8888888888888888,
              "#fdca26"
             ],
             [
              1,
              "#f0f921"
             ]
            ],
            "type": "histogram2dcontour"
           }
          ],
          "mesh3d": [
           {
            "colorbar": {
             "outlinewidth": 0,
             "ticks": ""
            },
            "type": "mesh3d"
           }
          ],
          "parcoords": [
           {
            "line": {
             "colorbar": {
              "outlinewidth": 0,
              "ticks": ""
             }
            },
            "type": "parcoords"
           }
          ],
          "pie": [
           {
            "automargin": true,
            "type": "pie"
           }
          ],
          "scatter": [
           {
            "fillpattern": {
             "fillmode": "overlay",
             "size": 10,
             "solidity": 0.2
            },
            "type": "scatter"
           }
          ],
          "scatter3d": [
           {
            "line": {
             "colorbar": {
              "outlinewidth": 0,
              "ticks": ""
             }
            },
            "marker": {
             "colorbar": {
              "outlinewidth": 0,
              "ticks": ""
             }
            },
            "type": "scatter3d"
           }
          ],
          "scattercarpet": [
           {
            "marker": {
             "colorbar": {
              "outlinewidth": 0,
              "ticks": ""
             }
            },
            "type": "scattercarpet"
           }
          ],
          "scattergeo": [
           {
            "marker": {
             "colorbar": {
              "outlinewidth": 0,
              "ticks": ""
             }
            },
            "type": "scattergeo"
           }
          ],
          "scattergl": [
           {
            "marker": {
             "colorbar": {
              "outlinewidth": 0,
              "ticks": ""
             }
            },
            "type": "scattergl"
           }
          ],
          "scattermap": [
           {
            "marker": {
             "colorbar": {
              "outlinewidth": 0,
              "ticks": ""
             }
            },
            "type": "scattermap"
           }
          ],
          "scattermapbox": [
           {
            "marker": {
             "colorbar": {
              "outlinewidth": 0,
              "ticks": ""
             }
            },
            "type": "scattermapbox"
           }
          ],
          "scatterpolar": [
           {
            "marker": {
             "colorbar": {
              "outlinewidth": 0,
              "ticks": ""
             }
            },
            "type": "scatterpolar"
           }
          ],
          "scatterpolargl": [
           {
            "marker": {
             "colorbar": {
              "outlinewidth": 0,
              "ticks": ""
             }
            },
            "type": "scatterpolargl"
           }
          ],
          "scatterternary": [
           {
            "marker": {
             "colorbar": {
              "outlinewidth": 0,
              "ticks": ""
             }
            },
            "type": "scatterternary"
           }
          ],
          "surface": [
           {
            "colorbar": {
             "outlinewidth": 0,
             "ticks": ""
            },
            "colorscale": [
             [
              0,
              "#0d0887"
             ],
             [
              0.1111111111111111,
              "#46039f"
             ],
             [
              0.2222222222222222,
              "#7201a8"
             ],
             [
              0.3333333333333333,
              "#9c179e"
             ],
             [
              0.4444444444444444,
              "#bd3786"
             ],
             [
              0.5555555555555556,
              "#d8576b"
             ],
             [
              0.6666666666666666,
              "#ed7953"
             ],
             [
              0.7777777777777778,
              "#fb9f3a"
             ],
             [
              0.8888888888888888,
              "#fdca26"
             ],
             [
              1,
              "#f0f921"
             ]
            ],
            "type": "surface"
           }
          ],
          "table": [
           {
            "cells": {
             "fill": {
              "color": "#EBF0F8"
             },
             "line": {
              "color": "white"
             }
            },
            "header": {
             "fill": {
              "color": "#C8D4E3"
             },
             "line": {
              "color": "white"
             }
            },
            "type": "table"
           }
          ]
         },
         "layout": {
          "annotationdefaults": {
           "arrowcolor": "#2a3f5f",
           "arrowhead": 0,
           "arrowwidth": 1
          },
          "autotypenumbers": "strict",
          "coloraxis": {
           "colorbar": {
            "outlinewidth": 0,
            "ticks": ""
           }
          },
          "colorscale": {
           "diverging": [
            [
             0,
             "#8e0152"
            ],
            [
             0.1,
             "#c51b7d"
            ],
            [
             0.2,
             "#de77ae"
            ],
            [
             0.3,
             "#f1b6da"
            ],
            [
             0.4,
             "#fde0ef"
            ],
            [
             0.5,
             "#f7f7f7"
            ],
            [
             0.6,
             "#e6f5d0"
            ],
            [
             0.7,
             "#b8e186"
            ],
            [
             0.8,
             "#7fbc41"
            ],
            [
             0.9,
             "#4d9221"
            ],
            [
             1,
             "#276419"
            ]
           ],
           "sequential": [
            [
             0,
             "#0d0887"
            ],
            [
             0.1111111111111111,
             "#46039f"
            ],
            [
             0.2222222222222222,
             "#7201a8"
            ],
            [
             0.3333333333333333,
             "#9c179e"
            ],
            [
             0.4444444444444444,
             "#bd3786"
            ],
            [
             0.5555555555555556,
             "#d8576b"
            ],
            [
             0.6666666666666666,
             "#ed7953"
            ],
            [
             0.7777777777777778,
             "#fb9f3a"
            ],
            [
             0.8888888888888888,
             "#fdca26"
            ],
            [
             1,
             "#f0f921"
            ]
           ],
           "sequentialminus": [
            [
             0,
             "#0d0887"
            ],
            [
             0.1111111111111111,
             "#46039f"
            ],
            [
             0.2222222222222222,
             "#7201a8"
            ],
            [
             0.3333333333333333,
             "#9c179e"
            ],
            [
             0.4444444444444444,
             "#bd3786"
            ],
            [
             0.5555555555555556,
             "#d8576b"
            ],
            [
             0.6666666666666666,
             "#ed7953"
            ],
            [
             0.7777777777777778,
             "#fb9f3a"
            ],
            [
             0.8888888888888888,
             "#fdca26"
            ],
            [
             1,
             "#f0f921"
            ]
           ]
          },
          "colorway": [
           "#636efa",
           "#EF553B",
           "#00cc96",
           "#ab63fa",
           "#FFA15A",
           "#19d3f3",
           "#FF6692",
           "#B6E880",
           "#FF97FF",
           "#FECB52"
          ],
          "font": {
           "color": "#2a3f5f"
          },
          "geo": {
           "bgcolor": "white",
           "lakecolor": "white",
           "landcolor": "#E5ECF6",
           "showlakes": true,
           "showland": true,
           "subunitcolor": "white"
          },
          "hoverlabel": {
           "align": "left"
          },
          "hovermode": "closest",
          "mapbox": {
           "style": "light"
          },
          "paper_bgcolor": "white",
          "plot_bgcolor": "#E5ECF6",
          "polar": {
           "angularaxis": {
            "gridcolor": "white",
            "linecolor": "white",
            "ticks": ""
           },
           "bgcolor": "#E5ECF6",
           "radialaxis": {
            "gridcolor": "white",
            "linecolor": "white",
            "ticks": ""
           }
          },
          "scene": {
           "xaxis": {
            "backgroundcolor": "#E5ECF6",
            "gridcolor": "white",
            "gridwidth": 2,
            "linecolor": "white",
            "showbackground": true,
            "ticks": "",
            "zerolinecolor": "white"
           },
           "yaxis": {
            "backgroundcolor": "#E5ECF6",
            "gridcolor": "white",
            "gridwidth": 2,
            "linecolor": "white",
            "showbackground": true,
            "ticks": "",
            "zerolinecolor": "white"
           },
           "zaxis": {
            "backgroundcolor": "#E5ECF6",
            "gridcolor": "white",
            "gridwidth": 2,
            "linecolor": "white",
            "showbackground": true,
            "ticks": "",
            "zerolinecolor": "white"
           }
          },
          "shapedefaults": {
           "line": {
            "color": "#2a3f5f"
           }
          },
          "ternary": {
           "aaxis": {
            "gridcolor": "white",
            "linecolor": "white",
            "ticks": ""
           },
           "baxis": {
            "gridcolor": "white",
            "linecolor": "white",
            "ticks": ""
           },
           "bgcolor": "#E5ECF6",
           "caxis": {
            "gridcolor": "white",
            "linecolor": "white",
            "ticks": ""
           }
          },
          "title": {
           "x": 0.05
          },
          "xaxis": {
           "automargin": true,
           "gridcolor": "white",
           "linecolor": "white",
           "ticks": "",
           "title": {
            "standoff": 15
           },
           "zerolinecolor": "white",
           "zerolinewidth": 2
          },
          "yaxis": {
           "automargin": true,
           "gridcolor": "white",
           "linecolor": "white",
           "ticks": "",
           "title": {
            "standoff": 15
           },
           "zerolinecolor": "white",
           "zerolinewidth": 2
          }
         }
        },
        "title": {
         "text": "Кумулятивная выручка по группам А/В-теста"
        },
        "width": 800,
        "xaxis": {
         "anchor": "y",
         "domain": [
          0,
          1
         ],
         "title": {
          "text": "дата"
         }
        },
        "yaxis": {
         "anchor": "x",
         "domain": [
          0,
          1
         ],
         "title": {
          "text": "кумулятивная выручка"
         }
        }
       }
      },
      "text/html": [
       "<div>            <script src=\"https://cdnjs.cloudflare.com/ajax/libs/mathjax/2.7.5/MathJax.js?config=TeX-AMS-MML_SVG\"></script><script type=\"text/javascript\">if (window.MathJax && window.MathJax.Hub && window.MathJax.Hub.Config) {window.MathJax.Hub.Config({SVG: {font: \"STIX-Web\"}});}</script>                <script type=\"text/javascript\">window.PlotlyConfig = {MathJaxConfig: 'local'};</script>\n",
       "        <script charset=\"utf-8\" src=\"https://cdn.plot.ly/plotly-3.0.1.min.js\"></script>                <div id=\"24d8ad93-e9e8-4687-9414-5d460c05cc5d\" class=\"plotly-graph-div\" style=\"height:525px; width:800px;\"></div>            <script type=\"text/javascript\">                window.PLOTLYENV=window.PLOTLYENV || {};                                if (document.getElementById(\"24d8ad93-e9e8-4687-9414-5d460c05cc5d\")) {                    Plotly.newPlot(                        \"24d8ad93-e9e8-4687-9414-5d460c05cc5d\",                        [{\"hovertemplate\":\"\\u0433\\u0440\\u0443\\u043f\\u043f\\u0430=A\\u003cbr\\u003e\\u0434\\u0430\\u0442\\u0430=%{x}\\u003cbr\\u003e\\u043a\\u0443\\u043c\\u0443\\u043b\\u044f\\u0442\\u0438\\u0432\\u043d\\u0430\\u044f \\u0432\\u044b\\u0440\\u0443\\u0447\\u043a\\u0430=%{y}\\u003cextra\\u003e\\u003c\\u002fextra\\u003e\",\"legendgroup\":\"A\",\"line\":{\"color\":\"#636efa\",\"dash\":\"solid\",\"width\":4},\"marker\":{\"symbol\":\"circle\"},\"mode\":\"lines\",\"name\":\"A\",\"orientation\":\"v\",\"showlegend\":true,\"x\":[\"2019-08-01T00:00:00.000000000\",\"2019-08-02T00:00:00.000000000\",\"2019-08-03T00:00:00.000000000\",\"2019-08-04T00:00:00.000000000\",\"2019-08-05T00:00:00.000000000\",\"2019-08-06T00:00:00.000000000\",\"2019-08-07T00:00:00.000000000\",\"2019-08-08T00:00:00.000000000\",\"2019-08-09T00:00:00.000000000\",\"2019-08-10T00:00:00.000000000\",\"2019-08-11T00:00:00.000000000\",\"2019-08-12T00:00:00.000000000\",\"2019-08-13T00:00:00.000000000\",\"2019-08-14T00:00:00.000000000\",\"2019-08-15T00:00:00.000000000\",\"2019-08-16T00:00:00.000000000\",\"2019-08-17T00:00:00.000000000\",\"2019-08-18T00:00:00.000000000\",\"2019-08-19T00:00:00.000000000\",\"2019-08-20T00:00:00.000000000\",\"2019-08-21T00:00:00.000000000\",\"2019-08-22T00:00:00.000000000\",\"2019-08-23T00:00:00.000000000\",\"2019-08-24T00:00:00.000000000\",\"2019-08-25T00:00:00.000000000\",\"2019-08-26T00:00:00.000000000\",\"2019-08-27T00:00:00.000000000\",\"2019-08-28T00:00:00.000000000\",\"2019-08-29T00:00:00.000000000\",\"2019-08-30T00:00:00.000000000\",\"2019-08-31T00:00:00.000000000\"],\"xaxis\":\"x\",\"y\":{\"dtype\":\"i4\",\"bdata\":\"Y0QCAOGyAwA6agUA434GAB1kCACBIQkA0k0LAOnFDABDpg8AgtwSAJMLFAD52BcAz94bACTaHACxMh4AvLgfAGl\\u002fIAA3miEAZn8kAJmuJQB+VygA4w8qAP\\u002fbKwDWzi0A8NouAA5BMQBKoTUATCw3AP4QPAC6Yj0AQ1Q+AA==\"},\"yaxis\":\"y\",\"type\":\"scatter\"},{\"hovertemplate\":\"\\u0433\\u0440\\u0443\\u043f\\u043f\\u0430=B\\u003cbr\\u003e\\u0434\\u0430\\u0442\\u0430=%{x}\\u003cbr\\u003e\\u043a\\u0443\\u043c\\u0443\\u043b\\u044f\\u0442\\u0438\\u0432\\u043d\\u0430\\u044f \\u0432\\u044b\\u0440\\u0443\\u0447\\u043a\\u0430=%{y}\\u003cextra\\u003e\\u003c\\u002fextra\\u003e\",\"legendgroup\":\"B\",\"line\":{\"color\":\"#EF553B\",\"dash\":\"solid\",\"width\":4},\"marker\":{\"symbol\":\"circle\"},\"mode\":\"lines\",\"name\":\"B\",\"orientation\":\"v\",\"showlegend\":true,\"x\":[\"2019-08-01T00:00:00.000000000\",\"2019-08-02T00:00:00.000000000\",\"2019-08-03T00:00:00.000000000\",\"2019-08-04T00:00:00.000000000\",\"2019-08-05T00:00:00.000000000\",\"2019-08-06T00:00:00.000000000\",\"2019-08-07T00:00:00.000000000\",\"2019-08-08T00:00:00.000000000\",\"2019-08-09T00:00:00.000000000\",\"2019-08-10T00:00:00.000000000\",\"2019-08-11T00:00:00.000000000\",\"2019-08-12T00:00:00.000000000\",\"2019-08-13T00:00:00.000000000\",\"2019-08-14T00:00:00.000000000\",\"2019-08-15T00:00:00.000000000\",\"2019-08-16T00:00:00.000000000\",\"2019-08-17T00:00:00.000000000\",\"2019-08-18T00:00:00.000000000\",\"2019-08-19T00:00:00.000000000\",\"2019-08-20T00:00:00.000000000\",\"2019-08-21T00:00:00.000000000\",\"2019-08-22T00:00:00.000000000\",\"2019-08-23T00:00:00.000000000\",\"2019-08-24T00:00:00.000000000\",\"2019-08-25T00:00:00.000000000\",\"2019-08-26T00:00:00.000000000\",\"2019-08-27T00:00:00.000000000\",\"2019-08-28T00:00:00.000000000\",\"2019-08-29T00:00:00.000000000\",\"2019-08-30T00:00:00.000000000\",\"2019-08-31T00:00:00.000000000\"],\"xaxis\":\"x\",\"y\":{\"dtype\":\"i4\",\"bdata\":\"YYsBAPwRBABE0AUAX3gHAGvhCAARlAwARwQQAD1jEwBp1xUAg3wXAMFMGACzdRoAKkkcAObnHgDJISQAc8AmAHb9JwCd\\u002figAPdA+AIcPQQCMjEMAvwZGAPDDRwACOUkA0MpKAKeVTQCE1k8AjE1RAGbUVAAnHVgAMCVaAA==\"},\"yaxis\":\"y\",\"type\":\"scatter\"}],                        {\"template\":{\"data\":{\"histogram2dcontour\":[{\"type\":\"histogram2dcontour\",\"colorbar\":{\"outlinewidth\":0,\"ticks\":\"\"},\"colorscale\":[[0.0,\"#0d0887\"],[0.1111111111111111,\"#46039f\"],[0.2222222222222222,\"#7201a8\"],[0.3333333333333333,\"#9c179e\"],[0.4444444444444444,\"#bd3786\"],[0.5555555555555556,\"#d8576b\"],[0.6666666666666666,\"#ed7953\"],[0.7777777777777778,\"#fb9f3a\"],[0.8888888888888888,\"#fdca26\"],[1.0,\"#f0f921\"]]}],\"choropleth\":[{\"type\":\"choropleth\",\"colorbar\":{\"outlinewidth\":0,\"ticks\":\"\"}}],\"histogram2d\":[{\"type\":\"histogram2d\",\"colorbar\":{\"outlinewidth\":0,\"ticks\":\"\"},\"colorscale\":[[0.0,\"#0d0887\"],[0.1111111111111111,\"#46039f\"],[0.2222222222222222,\"#7201a8\"],[0.3333333333333333,\"#9c179e\"],[0.4444444444444444,\"#bd3786\"],[0.5555555555555556,\"#d8576b\"],[0.6666666666666666,\"#ed7953\"],[0.7777777777777778,\"#fb9f3a\"],[0.8888888888888888,\"#fdca26\"],[1.0,\"#f0f921\"]]}],\"heatmap\":[{\"type\":\"heatmap\",\"colorbar\":{\"outlinewidth\":0,\"ticks\":\"\"},\"colorscale\":[[0.0,\"#0d0887\"],[0.1111111111111111,\"#46039f\"],[0.2222222222222222,\"#7201a8\"],[0.3333333333333333,\"#9c179e\"],[0.4444444444444444,\"#bd3786\"],[0.5555555555555556,\"#d8576b\"],[0.6666666666666666,\"#ed7953\"],[0.7777777777777778,\"#fb9f3a\"],[0.8888888888888888,\"#fdca26\"],[1.0,\"#f0f921\"]]}],\"contourcarpet\":[{\"type\":\"contourcarpet\",\"colorbar\":{\"outlinewidth\":0,\"ticks\":\"\"}}],\"contour\":[{\"type\":\"contour\",\"colorbar\":{\"outlinewidth\":0,\"ticks\":\"\"},\"colorscale\":[[0.0,\"#0d0887\"],[0.1111111111111111,\"#46039f\"],[0.2222222222222222,\"#7201a8\"],[0.3333333333333333,\"#9c179e\"],[0.4444444444444444,\"#bd3786\"],[0.5555555555555556,\"#d8576b\"],[0.6666666666666666,\"#ed7953\"],[0.7777777777777778,\"#fb9f3a\"],[0.8888888888888888,\"#fdca26\"],[1.0,\"#f0f921\"]]}],\"surface\":[{\"type\":\"surface\",\"colorbar\":{\"outlinewidth\":0,\"ticks\":\"\"},\"colorscale\":[[0.0,\"#0d0887\"],[0.1111111111111111,\"#46039f\"],[0.2222222222222222,\"#7201a8\"],[0.3333333333333333,\"#9c179e\"],[0.4444444444444444,\"#bd3786\"],[0.5555555555555556,\"#d8576b\"],[0.6666666666666666,\"#ed7953\"],[0.7777777777777778,\"#fb9f3a\"],[0.8888888888888888,\"#fdca26\"],[1.0,\"#f0f921\"]]}],\"mesh3d\":[{\"type\":\"mesh3d\",\"colorbar\":{\"outlinewidth\":0,\"ticks\":\"\"}}],\"scatter\":[{\"fillpattern\":{\"fillmode\":\"overlay\",\"size\":10,\"solidity\":0.2},\"type\":\"scatter\"}],\"parcoords\":[{\"type\":\"parcoords\",\"line\":{\"colorbar\":{\"outlinewidth\":0,\"ticks\":\"\"}}}],\"scatterpolargl\":[{\"type\":\"scatterpolargl\",\"marker\":{\"colorbar\":{\"outlinewidth\":0,\"ticks\":\"\"}}}],\"bar\":[{\"error_x\":{\"color\":\"#2a3f5f\"},\"error_y\":{\"color\":\"#2a3f5f\"},\"marker\":{\"line\":{\"color\":\"#E5ECF6\",\"width\":0.5},\"pattern\":{\"fillmode\":\"overlay\",\"size\":10,\"solidity\":0.2}},\"type\":\"bar\"}],\"scattergeo\":[{\"type\":\"scattergeo\",\"marker\":{\"colorbar\":{\"outlinewidth\":0,\"ticks\":\"\"}}}],\"scatterpolar\":[{\"type\":\"scatterpolar\",\"marker\":{\"colorbar\":{\"outlinewidth\":0,\"ticks\":\"\"}}}],\"histogram\":[{\"marker\":{\"pattern\":{\"fillmode\":\"overlay\",\"size\":10,\"solidity\":0.2}},\"type\":\"histogram\"}],\"scattergl\":[{\"type\":\"scattergl\",\"marker\":{\"colorbar\":{\"outlinewidth\":0,\"ticks\":\"\"}}}],\"scatter3d\":[{\"type\":\"scatter3d\",\"line\":{\"colorbar\":{\"outlinewidth\":0,\"ticks\":\"\"}},\"marker\":{\"colorbar\":{\"outlinewidth\":0,\"ticks\":\"\"}}}],\"scattermap\":[{\"type\":\"scattermap\",\"marker\":{\"colorbar\":{\"outlinewidth\":0,\"ticks\":\"\"}}}],\"scattermapbox\":[{\"type\":\"scattermapbox\",\"marker\":{\"colorbar\":{\"outlinewidth\":0,\"ticks\":\"\"}}}],\"scatterternary\":[{\"type\":\"scatterternary\",\"marker\":{\"colorbar\":{\"outlinewidth\":0,\"ticks\":\"\"}}}],\"scattercarpet\":[{\"type\":\"scattercarpet\",\"marker\":{\"colorbar\":{\"outlinewidth\":0,\"ticks\":\"\"}}}],\"carpet\":[{\"aaxis\":{\"endlinecolor\":\"#2a3f5f\",\"gridcolor\":\"white\",\"linecolor\":\"white\",\"minorgridcolor\":\"white\",\"startlinecolor\":\"#2a3f5f\"},\"baxis\":{\"endlinecolor\":\"#2a3f5f\",\"gridcolor\":\"white\",\"linecolor\":\"white\",\"minorgridcolor\":\"white\",\"startlinecolor\":\"#2a3f5f\"},\"type\":\"carpet\"}],\"table\":[{\"cells\":{\"fill\":{\"color\":\"#EBF0F8\"},\"line\":{\"color\":\"white\"}},\"header\":{\"fill\":{\"color\":\"#C8D4E3\"},\"line\":{\"color\":\"white\"}},\"type\":\"table\"}],\"barpolar\":[{\"marker\":{\"line\":{\"color\":\"#E5ECF6\",\"width\":0.5},\"pattern\":{\"fillmode\":\"overlay\",\"size\":10,\"solidity\":0.2}},\"type\":\"barpolar\"}],\"pie\":[{\"automargin\":true,\"type\":\"pie\"}]},\"layout\":{\"autotypenumbers\":\"strict\",\"colorway\":[\"#636efa\",\"#EF553B\",\"#00cc96\",\"#ab63fa\",\"#FFA15A\",\"#19d3f3\",\"#FF6692\",\"#B6E880\",\"#FF97FF\",\"#FECB52\"],\"font\":{\"color\":\"#2a3f5f\"},\"hovermode\":\"closest\",\"hoverlabel\":{\"align\":\"left\"},\"paper_bgcolor\":\"white\",\"plot_bgcolor\":\"#E5ECF6\",\"polar\":{\"bgcolor\":\"#E5ECF6\",\"angularaxis\":{\"gridcolor\":\"white\",\"linecolor\":\"white\",\"ticks\":\"\"},\"radialaxis\":{\"gridcolor\":\"white\",\"linecolor\":\"white\",\"ticks\":\"\"}},\"ternary\":{\"bgcolor\":\"#E5ECF6\",\"aaxis\":{\"gridcolor\":\"white\",\"linecolor\":\"white\",\"ticks\":\"\"},\"baxis\":{\"gridcolor\":\"white\",\"linecolor\":\"white\",\"ticks\":\"\"},\"caxis\":{\"gridcolor\":\"white\",\"linecolor\":\"white\",\"ticks\":\"\"}},\"coloraxis\":{\"colorbar\":{\"outlinewidth\":0,\"ticks\":\"\"}},\"colorscale\":{\"sequential\":[[0.0,\"#0d0887\"],[0.1111111111111111,\"#46039f\"],[0.2222222222222222,\"#7201a8\"],[0.3333333333333333,\"#9c179e\"],[0.4444444444444444,\"#bd3786\"],[0.5555555555555556,\"#d8576b\"],[0.6666666666666666,\"#ed7953\"],[0.7777777777777778,\"#fb9f3a\"],[0.8888888888888888,\"#fdca26\"],[1.0,\"#f0f921\"]],\"sequentialminus\":[[0.0,\"#0d0887\"],[0.1111111111111111,\"#46039f\"],[0.2222222222222222,\"#7201a8\"],[0.3333333333333333,\"#9c179e\"],[0.4444444444444444,\"#bd3786\"],[0.5555555555555556,\"#d8576b\"],[0.6666666666666666,\"#ed7953\"],[0.7777777777777778,\"#fb9f3a\"],[0.8888888888888888,\"#fdca26\"],[1.0,\"#f0f921\"]],\"diverging\":[[0,\"#8e0152\"],[0.1,\"#c51b7d\"],[0.2,\"#de77ae\"],[0.3,\"#f1b6da\"],[0.4,\"#fde0ef\"],[0.5,\"#f7f7f7\"],[0.6,\"#e6f5d0\"],[0.7,\"#b8e186\"],[0.8,\"#7fbc41\"],[0.9,\"#4d9221\"],[1,\"#276419\"]]},\"xaxis\":{\"gridcolor\":\"white\",\"linecolor\":\"white\",\"ticks\":\"\",\"title\":{\"standoff\":15},\"zerolinecolor\":\"white\",\"automargin\":true,\"zerolinewidth\":2},\"yaxis\":{\"gridcolor\":\"white\",\"linecolor\":\"white\",\"ticks\":\"\",\"title\":{\"standoff\":15},\"zerolinecolor\":\"white\",\"automargin\":true,\"zerolinewidth\":2},\"scene\":{\"xaxis\":{\"backgroundcolor\":\"#E5ECF6\",\"gridcolor\":\"white\",\"linecolor\":\"white\",\"showbackground\":true,\"ticks\":\"\",\"zerolinecolor\":\"white\",\"gridwidth\":2},\"yaxis\":{\"backgroundcolor\":\"#E5ECF6\",\"gridcolor\":\"white\",\"linecolor\":\"white\",\"showbackground\":true,\"ticks\":\"\",\"zerolinecolor\":\"white\",\"gridwidth\":2},\"zaxis\":{\"backgroundcolor\":\"#E5ECF6\",\"gridcolor\":\"white\",\"linecolor\":\"white\",\"showbackground\":true,\"ticks\":\"\",\"zerolinecolor\":\"white\",\"gridwidth\":2}},\"shapedefaults\":{\"line\":{\"color\":\"#2a3f5f\"}},\"annotationdefaults\":{\"arrowcolor\":\"#2a3f5f\",\"arrowhead\":0,\"arrowwidth\":1},\"geo\":{\"bgcolor\":\"white\",\"landcolor\":\"#E5ECF6\",\"subunitcolor\":\"white\",\"showland\":true,\"showlakes\":true,\"lakecolor\":\"white\"},\"title\":{\"x\":0.05},\"mapbox\":{\"style\":\"light\"}}},\"xaxis\":{\"anchor\":\"y\",\"domain\":[0.0,1.0],\"title\":{\"text\":\"\\u0434\\u0430\\u0442\\u0430\"}},\"yaxis\":{\"anchor\":\"x\",\"domain\":[0.0,1.0],\"title\":{\"text\":\"\\u043a\\u0443\\u043c\\u0443\\u043b\\u044f\\u0442\\u0438\\u0432\\u043d\\u0430\\u044f \\u0432\\u044b\\u0440\\u0443\\u0447\\u043a\\u0430\"}},\"legend\":{\"title\":{\"text\":\"\\u0433\\u0440\\u0443\\u043f\\u043f\\u0430\"},\"tracegroupgap\":0},\"margin\":{\"t\":60},\"width\":800,\"title\":{\"text\":\"\\u041a\\u0443\\u043c\\u0443\\u043b\\u044f\\u0442\\u0438\\u0432\\u043d\\u0430\\u044f \\u0432\\u044b\\u0440\\u0443\\u0447\\u043a\\u0430 \\u043f\\u043e \\u0433\\u0440\\u0443\\u043f\\u043f\\u0430\\u043c \\u0410\\u002f\\u0412-\\u0442\\u0435\\u0441\\u0442\\u0430\"}},                        {\"responsive\": true}                    ).then(function(){\n",
       "                            \n",
       "var gd = document.getElementById('24d8ad93-e9e8-4687-9414-5d460c05cc5d');\n",
       "var x = new MutationObserver(function (mutations, observer) {{\n",
       "        var display = window.getComputedStyle(gd).display;\n",
       "        if (!display || display === 'none') {{\n",
       "            console.log([gd, 'removed!']);\n",
       "            Plotly.purge(gd);\n",
       "            observer.disconnect();\n",
       "        }}\n",
       "}});\n",
       "\n",
       "// Listen for the removal of the full notebook cells\n",
       "var notebookContainer = gd.closest('#notebook-container');\n",
       "if (notebookContainer) {{\n",
       "    x.observe(notebookContainer, {childList: true});\n",
       "}}\n",
       "\n",
       "// Listen for the clearing of the current output cell\n",
       "var outputEl = gd.closest('.output');\n",
       "if (outputEl) {{\n",
       "    x.observe(outputEl, {childList: true});\n",
       "}}\n",
       "\n",
       "                        })                };            </script>        </div>"
      ]
     },
     "metadata": {},
     "output_type": "display_data"
    }
   ],
   "source": [
    "fig = px.line(cumulative_data,\n",
    "              x='date',\n",
    "              y='revenue',\n",
    "              color='group',\n",
    "              labels={\n",
    "                  'date': 'дата',\n",
    "                  'revenue': 'кумулятивная выручка',\n",
    "                  'group': 'группа'}\n",
    "              )\n",
    "\n",
    "\n",
    "fig.update_layout(width=800,\n",
    "                  title='Кумулятивная выручка по группам А/В-теста')\n",
    "fig.update_traces(line_width=4)\n",
    "iplot(fig)"
   ]
  },
  {
   "cell_type": "markdown",
   "metadata": {},
   "source": [
    "Промежуточный вывод:  \n",
    "у группы В резко возрастает выручка - это либо дорогой заказ, либо много заказов\n"
   ]
  },
  {
   "cell_type": "markdown",
   "metadata": {},
   "source": [
    "### Кумулятивный средний чек по группам"
   ]
  },
  {
   "cell_type": "markdown",
   "metadata": {},
   "source": [
    "Строим график кумулятивного среднего чека по группам теста"
   ]
  },
  {
   "cell_type": "code",
   "execution_count": null,
   "metadata": {
    "trusted": true
   },
   "outputs": [
    {
     "data": {
      "application/vnd.plotly.v1+json": {
       "config": {
        "plotlyServerURL": "https://plot.ly"
       },
       "data": [
        {
         "hovertemplate": "группа=A<br>дата=%{x}<br>кумулятивный ср. чек=%{y}<extra></extra>",
         "legendgroup": "A",
         "line": {
          "color": "#636efa",
          "dash": "solid",
          "width": 4
         },
         "marker": {
          "symbol": "circle"
         },
         "mode": "lines",
         "name": "A",
         "orientation": "v",
         "showlegend": true,
         "type": "scatter",
         "x": [
          "2019-08-01T00:00:00.000000000",
          "2019-08-02T00:00:00.000000000",
          "2019-08-03T00:00:00.000000000",
          "2019-08-04T00:00:00.000000000",
          "2019-08-05T00:00:00.000000000",
          "2019-08-06T00:00:00.000000000",
          "2019-08-07T00:00:00.000000000",
          "2019-08-08T00:00:00.000000000",
          "2019-08-09T00:00:00.000000000",
          "2019-08-10T00:00:00.000000000",
          "2019-08-11T00:00:00.000000000",
          "2019-08-12T00:00:00.000000000",
          "2019-08-13T00:00:00.000000000",
          "2019-08-14T00:00:00.000000000",
          "2019-08-15T00:00:00.000000000",
          "2019-08-16T00:00:00.000000000",
          "2019-08-17T00:00:00.000000000",
          "2019-08-18T00:00:00.000000000",
          "2019-08-19T00:00:00.000000000",
          "2019-08-20T00:00:00.000000000",
          "2019-08-21T00:00:00.000000000",
          "2019-08-22T00:00:00.000000000",
          "2019-08-23T00:00:00.000000000",
          "2019-08-24T00:00:00.000000000",
          "2019-08-25T00:00:00.000000000",
          "2019-08-26T00:00:00.000000000",
          "2019-08-27T00:00:00.000000000",
          "2019-08-28T00:00:00.000000000",
          "2019-08-29T00:00:00.000000000",
          "2019-08-30T00:00:00.000000000",
          "2019-08-31T00:00:00.000000000"
         ],
         "xaxis": "x",
         "y": {
          "bdata": "q6qqqsouuEB00UUXHYW1QDw8PDy8YrRAYhiGYdjLs0BC9PguHLWzQBqNRqPRZ7JAbzGk8xb1s0AuAz45XE+0QBCF5AJeorZAgh4pIacEuUDst9oYGum4QJqZmZkZi7pAMgTraLM9vUDL2S38ao+7QJIN418iUbtAdFj4zKv6ukB+Ucu/IcC6QM7H4HzsObpAUAd1UAeyukANe6U/56W6QAzumpcc07pAxZtMCEPaukDmvdoiV1u6QIT8NTtql7pASYCKBKiYukCPOa2sBwC7QGZmZmZmvLtAAAAAACaWu0Bf97rXvcu8QLrVGamY1bxATV0p/pOlvEA=",
          "dtype": "f8"
         },
         "yaxis": "y"
        },
        {
         "hovertemplate": "группа=B<br>дата=%{x}<br>кумулятивный ср. чек=%{y}<extra></extra>",
         "legendgroup": "B",
         "line": {
          "color": "#EF553B",
          "dash": "solid",
          "width": 4
         },
         "marker": {
          "symbol": "circle"
         },
         "mode": "lines",
         "name": "B",
         "orientation": "v",
         "showlegend": true,
         "type": "scatter",
         "x": [
          "2019-08-01T00:00:00.000000000",
          "2019-08-02T00:00:00.000000000",
          "2019-08-03T00:00:00.000000000",
          "2019-08-04T00:00:00.000000000",
          "2019-08-05T00:00:00.000000000",
          "2019-08-06T00:00:00.000000000",
          "2019-08-07T00:00:00.000000000",
          "2019-08-08T00:00:00.000000000",
          "2019-08-09T00:00:00.000000000",
          "2019-08-10T00:00:00.000000000",
          "2019-08-11T00:00:00.000000000",
          "2019-08-12T00:00:00.000000000",
          "2019-08-13T00:00:00.000000000",
          "2019-08-14T00:00:00.000000000",
          "2019-08-15T00:00:00.000000000",
          "2019-08-16T00:00:00.000000000",
          "2019-08-17T00:00:00.000000000",
          "2019-08-18T00:00:00.000000000",
          "2019-08-19T00:00:00.000000000",
          "2019-08-20T00:00:00.000000000",
          "2019-08-21T00:00:00.000000000",
          "2019-08-22T00:00:00.000000000",
          "2019-08-23T00:00:00.000000000",
          "2019-08-24T00:00:00.000000000",
          "2019-08-25T00:00:00.000000000",
          "2019-08-26T00:00:00.000000000",
          "2019-08-27T00:00:00.000000000",
          "2019-08-28T00:00:00.000000000",
          "2019-08-29T00:00:00.000000000",
          "2019-08-30T00:00:00.000000000",
          "2019-08-31T00:00:00.000000000"
         ],
         "xaxis": "x",
         "y": {
          "bdata": "btu2bdvTskC8u7u7uye3QKi4ZAjWZbhAAAAAAICEuEA4osCkU4K2QFlT1pQ19rhAQ5jtQpjMukDpkz7p05K7QDkal6NxRrtAgvsI7uNeukAR8P4Q8M+5QD744INvqLlAZpsvB1houUB+QpyVH7C5QGphpacWSbtACEMONDGiu0D2FWAkP3K7QEY0Zw0KebtAfO+9917zw0CmYltv+K/DQGS+rwQYycNA3zE1sLdmw0BhRzft/kHDQGCDr6bbAsNAFdXuxejhwkA2lNdQvqrCQKMh/rj1pcJAjuM4jjsRwkCD5M+r7DfCQCReReL1MMJAAAAAAHAHwkA=",
          "dtype": "f8"
         },
         "yaxis": "y"
        }
       ],
       "layout": {
        "legend": {
         "title": {
          "text": "группа"
         },
         "tracegroupgap": 0
        },
        "margin": {
         "t": 60
        },
        "template": {
         "data": {
          "bar": [
           {
            "error_x": {
             "color": "#2a3f5f"
            },
            "error_y": {
             "color": "#2a3f5f"
            },
            "marker": {
             "line": {
              "color": "#E5ECF6",
              "width": 0.5
             },
             "pattern": {
              "fillmode": "overlay",
              "size": 10,
              "solidity": 0.2
             }
            },
            "type": "bar"
           }
          ],
          "barpolar": [
           {
            "marker": {
             "line": {
              "color": "#E5ECF6",
              "width": 0.5
             },
             "pattern": {
              "fillmode": "overlay",
              "size": 10,
              "solidity": 0.2
             }
            },
            "type": "barpolar"
           }
          ],
          "carpet": [
           {
            "aaxis": {
             "endlinecolor": "#2a3f5f",
             "gridcolor": "white",
             "linecolor": "white",
             "minorgridcolor": "white",
             "startlinecolor": "#2a3f5f"
            },
            "baxis": {
             "endlinecolor": "#2a3f5f",
             "gridcolor": "white",
             "linecolor": "white",
             "minorgridcolor": "white",
             "startlinecolor": "#2a3f5f"
            },
            "type": "carpet"
           }
          ],
          "choropleth": [
           {
            "colorbar": {
             "outlinewidth": 0,
             "ticks": ""
            },
            "type": "choropleth"
           }
          ],
          "contour": [
           {
            "colorbar": {
             "outlinewidth": 0,
             "ticks": ""
            },
            "colorscale": [
             [
              0,
              "#0d0887"
             ],
             [
              0.1111111111111111,
              "#46039f"
             ],
             [
              0.2222222222222222,
              "#7201a8"
             ],
             [
              0.3333333333333333,
              "#9c179e"
             ],
             [
              0.4444444444444444,
              "#bd3786"
             ],
             [
              0.5555555555555556,
              "#d8576b"
             ],
             [
              0.6666666666666666,
              "#ed7953"
             ],
             [
              0.7777777777777778,
              "#fb9f3a"
             ],
             [
              0.8888888888888888,
              "#fdca26"
             ],
             [
              1,
              "#f0f921"
             ]
            ],
            "type": "contour"
           }
          ],
          "contourcarpet": [
           {
            "colorbar": {
             "outlinewidth": 0,
             "ticks": ""
            },
            "type": "contourcarpet"
           }
          ],
          "heatmap": [
           {
            "colorbar": {
             "outlinewidth": 0,
             "ticks": ""
            },
            "colorscale": [
             [
              0,
              "#0d0887"
             ],
             [
              0.1111111111111111,
              "#46039f"
             ],
             [
              0.2222222222222222,
              "#7201a8"
             ],
             [
              0.3333333333333333,
              "#9c179e"
             ],
             [
              0.4444444444444444,
              "#bd3786"
             ],
             [
              0.5555555555555556,
              "#d8576b"
             ],
             [
              0.6666666666666666,
              "#ed7953"
             ],
             [
              0.7777777777777778,
              "#fb9f3a"
             ],
             [
              0.8888888888888888,
              "#fdca26"
             ],
             [
              1,
              "#f0f921"
             ]
            ],
            "type": "heatmap"
           }
          ],
          "histogram": [
           {
            "marker": {
             "pattern": {
              "fillmode": "overlay",
              "size": 10,
              "solidity": 0.2
             }
            },
            "type": "histogram"
           }
          ],
          "histogram2d": [
           {
            "colorbar": {
             "outlinewidth": 0,
             "ticks": ""
            },
            "colorscale": [
             [
              0,
              "#0d0887"
             ],
             [
              0.1111111111111111,
              "#46039f"
             ],
             [
              0.2222222222222222,
              "#7201a8"
             ],
             [
              0.3333333333333333,
              "#9c179e"
             ],
             [
              0.4444444444444444,
              "#bd3786"
             ],
             [
              0.5555555555555556,
              "#d8576b"
             ],
             [
              0.6666666666666666,
              "#ed7953"
             ],
             [
              0.7777777777777778,
              "#fb9f3a"
             ],
             [
              0.8888888888888888,
              "#fdca26"
             ],
             [
              1,
              "#f0f921"
             ]
            ],
            "type": "histogram2d"
           }
          ],
          "histogram2dcontour": [
           {
            "colorbar": {
             "outlinewidth": 0,
             "ticks": ""
            },
            "colorscale": [
             [
              0,
              "#0d0887"
             ],
             [
              0.1111111111111111,
              "#46039f"
             ],
             [
              0.2222222222222222,
              "#7201a8"
             ],
             [
              0.3333333333333333,
              "#9c179e"
             ],
             [
              0.4444444444444444,
              "#bd3786"
             ],
             [
              0.5555555555555556,
              "#d8576b"
             ],
             [
              0.6666666666666666,
              "#ed7953"
             ],
             [
              0.7777777777777778,
              "#fb9f3a"
             ],
             [
              0.8888888888888888,
              "#fdca26"
             ],
             [
              1,
              "#f0f921"
             ]
            ],
            "type": "histogram2dcontour"
           }
          ],
          "mesh3d": [
           {
            "colorbar": {
             "outlinewidth": 0,
             "ticks": ""
            },
            "type": "mesh3d"
           }
          ],
          "parcoords": [
           {
            "line": {
             "colorbar": {
              "outlinewidth": 0,
              "ticks": ""
             }
            },
            "type": "parcoords"
           }
          ],
          "pie": [
           {
            "automargin": true,
            "type": "pie"
           }
          ],
          "scatter": [
           {
            "fillpattern": {
             "fillmode": "overlay",
             "size": 10,
             "solidity": 0.2
            },
            "type": "scatter"
           }
          ],
          "scatter3d": [
           {
            "line": {
             "colorbar": {
              "outlinewidth": 0,
              "ticks": ""
             }
            },
            "marker": {
             "colorbar": {
              "outlinewidth": 0,
              "ticks": ""
             }
            },
            "type": "scatter3d"
           }
          ],
          "scattercarpet": [
           {
            "marker": {
             "colorbar": {
              "outlinewidth": 0,
              "ticks": ""
             }
            },
            "type": "scattercarpet"
           }
          ],
          "scattergeo": [
           {
            "marker": {
             "colorbar": {
              "outlinewidth": 0,
              "ticks": ""
             }
            },
            "type": "scattergeo"
           }
          ],
          "scattergl": [
           {
            "marker": {
             "colorbar": {
              "outlinewidth": 0,
              "ticks": ""
             }
            },
            "type": "scattergl"
           }
          ],
          "scattermap": [
           {
            "marker": {
             "colorbar": {
              "outlinewidth": 0,
              "ticks": ""
             }
            },
            "type": "scattermap"
           }
          ],
          "scattermapbox": [
           {
            "marker": {
             "colorbar": {
              "outlinewidth": 0,
              "ticks": ""
             }
            },
            "type": "scattermapbox"
           }
          ],
          "scatterpolar": [
           {
            "marker": {
             "colorbar": {
              "outlinewidth": 0,
              "ticks": ""
             }
            },
            "type": "scatterpolar"
           }
          ],
          "scatterpolargl": [
           {
            "marker": {
             "colorbar": {
              "outlinewidth": 0,
              "ticks": ""
             }
            },
            "type": "scatterpolargl"
           }
          ],
          "scatterternary": [
           {
            "marker": {
             "colorbar": {
              "outlinewidth": 0,
              "ticks": ""
             }
            },
            "type": "scatterternary"
           }
          ],
          "surface": [
           {
            "colorbar": {
             "outlinewidth": 0,
             "ticks": ""
            },
            "colorscale": [
             [
              0,
              "#0d0887"
             ],
             [
              0.1111111111111111,
              "#46039f"
             ],
             [
              0.2222222222222222,
              "#7201a8"
             ],
             [
              0.3333333333333333,
              "#9c179e"
             ],
             [
              0.4444444444444444,
              "#bd3786"
             ],
             [
              0.5555555555555556,
              "#d8576b"
             ],
             [
              0.6666666666666666,
              "#ed7953"
             ],
             [
              0.7777777777777778,
              "#fb9f3a"
             ],
             [
              0.8888888888888888,
              "#fdca26"
             ],
             [
              1,
              "#f0f921"
             ]
            ],
            "type": "surface"
           }
          ],
          "table": [
           {
            "cells": {
             "fill": {
              "color": "#EBF0F8"
             },
             "line": {
              "color": "white"
             }
            },
            "header": {
             "fill": {
              "color": "#C8D4E3"
             },
             "line": {
              "color": "white"
             }
            },
            "type": "table"
           }
          ]
         },
         "layout": {
          "annotationdefaults": {
           "arrowcolor": "#2a3f5f",
           "arrowhead": 0,
           "arrowwidth": 1
          },
          "autotypenumbers": "strict",
          "coloraxis": {
           "colorbar": {
            "outlinewidth": 0,
            "ticks": ""
           }
          },
          "colorscale": {
           "diverging": [
            [
             0,
             "#8e0152"
            ],
            [
             0.1,
             "#c51b7d"
            ],
            [
             0.2,
             "#de77ae"
            ],
            [
             0.3,
             "#f1b6da"
            ],
            [
             0.4,
             "#fde0ef"
            ],
            [
             0.5,
             "#f7f7f7"
            ],
            [
             0.6,
             "#e6f5d0"
            ],
            [
             0.7,
             "#b8e186"
            ],
            [
             0.8,
             "#7fbc41"
            ],
            [
             0.9,
             "#4d9221"
            ],
            [
             1,
             "#276419"
            ]
           ],
           "sequential": [
            [
             0,
             "#0d0887"
            ],
            [
             0.1111111111111111,
             "#46039f"
            ],
            [
             0.2222222222222222,
             "#7201a8"
            ],
            [
             0.3333333333333333,
             "#9c179e"
            ],
            [
             0.4444444444444444,
             "#bd3786"
            ],
            [
             0.5555555555555556,
             "#d8576b"
            ],
            [
             0.6666666666666666,
             "#ed7953"
            ],
            [
             0.7777777777777778,
             "#fb9f3a"
            ],
            [
             0.8888888888888888,
             "#fdca26"
            ],
            [
             1,
             "#f0f921"
            ]
           ],
           "sequentialminus": [
            [
             0,
             "#0d0887"
            ],
            [
             0.1111111111111111,
             "#46039f"
            ],
            [
             0.2222222222222222,
             "#7201a8"
            ],
            [
             0.3333333333333333,
             "#9c179e"
            ],
            [
             0.4444444444444444,
             "#bd3786"
            ],
            [
             0.5555555555555556,
             "#d8576b"
            ],
            [
             0.6666666666666666,
             "#ed7953"
            ],
            [
             0.7777777777777778,
             "#fb9f3a"
            ],
            [
             0.8888888888888888,
             "#fdca26"
            ],
            [
             1,
             "#f0f921"
            ]
           ]
          },
          "colorway": [
           "#636efa",
           "#EF553B",
           "#00cc96",
           "#ab63fa",
           "#FFA15A",
           "#19d3f3",
           "#FF6692",
           "#B6E880",
           "#FF97FF",
           "#FECB52"
          ],
          "font": {
           "color": "#2a3f5f"
          },
          "geo": {
           "bgcolor": "white",
           "lakecolor": "white",
           "landcolor": "#E5ECF6",
           "showlakes": true,
           "showland": true,
           "subunitcolor": "white"
          },
          "hoverlabel": {
           "align": "left"
          },
          "hovermode": "closest",
          "mapbox": {
           "style": "light"
          },
          "paper_bgcolor": "white",
          "plot_bgcolor": "#E5ECF6",
          "polar": {
           "angularaxis": {
            "gridcolor": "white",
            "linecolor": "white",
            "ticks": ""
           },
           "bgcolor": "#E5ECF6",
           "radialaxis": {
            "gridcolor": "white",
            "linecolor": "white",
            "ticks": ""
           }
          },
          "scene": {
           "xaxis": {
            "backgroundcolor": "#E5ECF6",
            "gridcolor": "white",
            "gridwidth": 2,
            "linecolor": "white",
            "showbackground": true,
            "ticks": "",
            "zerolinecolor": "white"
           },
           "yaxis": {
            "backgroundcolor": "#E5ECF6",
            "gridcolor": "white",
            "gridwidth": 2,
            "linecolor": "white",
            "showbackground": true,
            "ticks": "",
            "zerolinecolor": "white"
           },
           "zaxis": {
            "backgroundcolor": "#E5ECF6",
            "gridcolor": "white",
            "gridwidth": 2,
            "linecolor": "white",
            "showbackground": true,
            "ticks": "",
            "zerolinecolor": "white"
           }
          },
          "shapedefaults": {
           "line": {
            "color": "#2a3f5f"
           }
          },
          "ternary": {
           "aaxis": {
            "gridcolor": "white",
            "linecolor": "white",
            "ticks": ""
           },
           "baxis": {
            "gridcolor": "white",
            "linecolor": "white",
            "ticks": ""
           },
           "bgcolor": "#E5ECF6",
           "caxis": {
            "gridcolor": "white",
            "linecolor": "white",
            "ticks": ""
           }
          },
          "title": {
           "x": 0.05
          },
          "xaxis": {
           "automargin": true,
           "gridcolor": "white",
           "linecolor": "white",
           "ticks": "",
           "title": {
            "standoff": 15
           },
           "zerolinecolor": "white",
           "zerolinewidth": 2
          },
          "yaxis": {
           "automargin": true,
           "gridcolor": "white",
           "linecolor": "white",
           "ticks": "",
           "title": {
            "standoff": 15
           },
           "zerolinecolor": "white",
           "zerolinewidth": 2
          }
         }
        },
        "title": {
         "text": "Кумулятивный ср. чек по группам А/В-теста"
        },
        "width": 800,
        "xaxis": {
         "anchor": "y",
         "domain": [
          0,
          1
         ],
         "title": {
          "text": "дата"
         }
        },
        "yaxis": {
         "anchor": "x",
         "domain": [
          0,
          1
         ],
         "title": {
          "text": "кумулятивный ср. чек"
         }
        }
       }
      },
      "text/html": [
       "<div>            <script src=\"https://cdnjs.cloudflare.com/ajax/libs/mathjax/2.7.5/MathJax.js?config=TeX-AMS-MML_SVG\"></script><script type=\"text/javascript\">if (window.MathJax && window.MathJax.Hub && window.MathJax.Hub.Config) {window.MathJax.Hub.Config({SVG: {font: \"STIX-Web\"}});}</script>                <script type=\"text/javascript\">window.PlotlyConfig = {MathJaxConfig: 'local'};</script>\n",
       "        <script charset=\"utf-8\" src=\"https://cdn.plot.ly/plotly-3.0.1.min.js\"></script>                <div id=\"fbf89b0f-eb26-4663-b2dd-95ce1bb29e70\" class=\"plotly-graph-div\" style=\"height:525px; width:800px;\"></div>            <script type=\"text/javascript\">                window.PLOTLYENV=window.PLOTLYENV || {};                                if (document.getElementById(\"fbf89b0f-eb26-4663-b2dd-95ce1bb29e70\")) {                    Plotly.newPlot(                        \"fbf89b0f-eb26-4663-b2dd-95ce1bb29e70\",                        [{\"hovertemplate\":\"\\u0433\\u0440\\u0443\\u043f\\u043f\\u0430=A\\u003cbr\\u003e\\u0434\\u0430\\u0442\\u0430=%{x}\\u003cbr\\u003e\\u043a\\u0443\\u043c\\u0443\\u043b\\u044f\\u0442\\u0438\\u0432\\u043d\\u044b\\u0439 \\u0441\\u0440. \\u0447\\u0435\\u043a=%{y}\\u003cextra\\u003e\\u003c\\u002fextra\\u003e\",\"legendgroup\":\"A\",\"line\":{\"color\":\"#636efa\",\"dash\":\"solid\",\"width\":4},\"marker\":{\"symbol\":\"circle\"},\"mode\":\"lines\",\"name\":\"A\",\"orientation\":\"v\",\"showlegend\":true,\"x\":[\"2019-08-01T00:00:00.000000000\",\"2019-08-02T00:00:00.000000000\",\"2019-08-03T00:00:00.000000000\",\"2019-08-04T00:00:00.000000000\",\"2019-08-05T00:00:00.000000000\",\"2019-08-06T00:00:00.000000000\",\"2019-08-07T00:00:00.000000000\",\"2019-08-08T00:00:00.000000000\",\"2019-08-09T00:00:00.000000000\",\"2019-08-10T00:00:00.000000000\",\"2019-08-11T00:00:00.000000000\",\"2019-08-12T00:00:00.000000000\",\"2019-08-13T00:00:00.000000000\",\"2019-08-14T00:00:00.000000000\",\"2019-08-15T00:00:00.000000000\",\"2019-08-16T00:00:00.000000000\",\"2019-08-17T00:00:00.000000000\",\"2019-08-18T00:00:00.000000000\",\"2019-08-19T00:00:00.000000000\",\"2019-08-20T00:00:00.000000000\",\"2019-08-21T00:00:00.000000000\",\"2019-08-22T00:00:00.000000000\",\"2019-08-23T00:00:00.000000000\",\"2019-08-24T00:00:00.000000000\",\"2019-08-25T00:00:00.000000000\",\"2019-08-26T00:00:00.000000000\",\"2019-08-27T00:00:00.000000000\",\"2019-08-28T00:00:00.000000000\",\"2019-08-29T00:00:00.000000000\",\"2019-08-30T00:00:00.000000000\",\"2019-08-31T00:00:00.000000000\"],\"xaxis\":\"x\",\"y\":{\"dtype\":\"f8\",\"bdata\":\"q6qqqsouuEB00UUXHYW1QDw8PDy8YrRAYhiGYdjLs0BC9PguHLWzQBqNRqPRZ7JAbzGk8xb1s0AuAz45XE+0QBCF5AJeorZAgh4pIacEuUDst9oYGum4QJqZmZkZi7pAMgTraLM9vUDL2S38ao+7QJIN418iUbtAdFj4zKv6ukB+Ucu\\u002fIcC6QM7H4HzsObpAUAd1UAeyukANe6U\\u002f56W6QAzumpcc07pAxZtMCEPaukDmvdoiV1u6QIT8NTtql7pASYCKBKiYukCPOa2sBwC7QGZmZmZmvLtAAAAAACaWu0Bf97rXvcu8QLrVGamY1bxATV0p\\u002fpOlvEA=\"},\"yaxis\":\"y\",\"type\":\"scatter\"},{\"hovertemplate\":\"\\u0433\\u0440\\u0443\\u043f\\u043f\\u0430=B\\u003cbr\\u003e\\u0434\\u0430\\u0442\\u0430=%{x}\\u003cbr\\u003e\\u043a\\u0443\\u043c\\u0443\\u043b\\u044f\\u0442\\u0438\\u0432\\u043d\\u044b\\u0439 \\u0441\\u0440. \\u0447\\u0435\\u043a=%{y}\\u003cextra\\u003e\\u003c\\u002fextra\\u003e\",\"legendgroup\":\"B\",\"line\":{\"color\":\"#EF553B\",\"dash\":\"solid\",\"width\":4},\"marker\":{\"symbol\":\"circle\"},\"mode\":\"lines\",\"name\":\"B\",\"orientation\":\"v\",\"showlegend\":true,\"x\":[\"2019-08-01T00:00:00.000000000\",\"2019-08-02T00:00:00.000000000\",\"2019-08-03T00:00:00.000000000\",\"2019-08-04T00:00:00.000000000\",\"2019-08-05T00:00:00.000000000\",\"2019-08-06T00:00:00.000000000\",\"2019-08-07T00:00:00.000000000\",\"2019-08-08T00:00:00.000000000\",\"2019-08-09T00:00:00.000000000\",\"2019-08-10T00:00:00.000000000\",\"2019-08-11T00:00:00.000000000\",\"2019-08-12T00:00:00.000000000\",\"2019-08-13T00:00:00.000000000\",\"2019-08-14T00:00:00.000000000\",\"2019-08-15T00:00:00.000000000\",\"2019-08-16T00:00:00.000000000\",\"2019-08-17T00:00:00.000000000\",\"2019-08-18T00:00:00.000000000\",\"2019-08-19T00:00:00.000000000\",\"2019-08-20T00:00:00.000000000\",\"2019-08-21T00:00:00.000000000\",\"2019-08-22T00:00:00.000000000\",\"2019-08-23T00:00:00.000000000\",\"2019-08-24T00:00:00.000000000\",\"2019-08-25T00:00:00.000000000\",\"2019-08-26T00:00:00.000000000\",\"2019-08-27T00:00:00.000000000\",\"2019-08-28T00:00:00.000000000\",\"2019-08-29T00:00:00.000000000\",\"2019-08-30T00:00:00.000000000\",\"2019-08-31T00:00:00.000000000\"],\"xaxis\":\"x\",\"y\":{\"dtype\":\"f8\",\"bdata\":\"btu2bdvTskC8u7u7uye3QKi4ZAjWZbhAAAAAAICEuEA4osCkU4K2QFlT1pQ19rhAQ5jtQpjMukDpkz7p05K7QDkal6NxRrtAgvsI7uNeukAR8P4Q8M+5QD744INvqLlAZpsvB1houUB+QpyVH7C5QGphpacWSbtACEMONDGiu0D2FWAkP3K7QEY0Zw0KebtAfO+9917zw0CmYltv+K\\u002fDQGS+rwQYycNA3zE1sLdmw0BhRzft\\u002fkHDQGCDr6bbAsNAFdXuxejhwkA2lNdQvqrCQKMh\\u002frj1pcJAjuM4jjsRwkCD5M+r7DfCQCReReL1MMJAAAAAAHAHwkA=\"},\"yaxis\":\"y\",\"type\":\"scatter\"}],                        {\"template\":{\"data\":{\"histogram2dcontour\":[{\"type\":\"histogram2dcontour\",\"colorbar\":{\"outlinewidth\":0,\"ticks\":\"\"},\"colorscale\":[[0.0,\"#0d0887\"],[0.1111111111111111,\"#46039f\"],[0.2222222222222222,\"#7201a8\"],[0.3333333333333333,\"#9c179e\"],[0.4444444444444444,\"#bd3786\"],[0.5555555555555556,\"#d8576b\"],[0.6666666666666666,\"#ed7953\"],[0.7777777777777778,\"#fb9f3a\"],[0.8888888888888888,\"#fdca26\"],[1.0,\"#f0f921\"]]}],\"choropleth\":[{\"type\":\"choropleth\",\"colorbar\":{\"outlinewidth\":0,\"ticks\":\"\"}}],\"histogram2d\":[{\"type\":\"histogram2d\",\"colorbar\":{\"outlinewidth\":0,\"ticks\":\"\"},\"colorscale\":[[0.0,\"#0d0887\"],[0.1111111111111111,\"#46039f\"],[0.2222222222222222,\"#7201a8\"],[0.3333333333333333,\"#9c179e\"],[0.4444444444444444,\"#bd3786\"],[0.5555555555555556,\"#d8576b\"],[0.6666666666666666,\"#ed7953\"],[0.7777777777777778,\"#fb9f3a\"],[0.8888888888888888,\"#fdca26\"],[1.0,\"#f0f921\"]]}],\"heatmap\":[{\"type\":\"heatmap\",\"colorbar\":{\"outlinewidth\":0,\"ticks\":\"\"},\"colorscale\":[[0.0,\"#0d0887\"],[0.1111111111111111,\"#46039f\"],[0.2222222222222222,\"#7201a8\"],[0.3333333333333333,\"#9c179e\"],[0.4444444444444444,\"#bd3786\"],[0.5555555555555556,\"#d8576b\"],[0.6666666666666666,\"#ed7953\"],[0.7777777777777778,\"#fb9f3a\"],[0.8888888888888888,\"#fdca26\"],[1.0,\"#f0f921\"]]}],\"contourcarpet\":[{\"type\":\"contourcarpet\",\"colorbar\":{\"outlinewidth\":0,\"ticks\":\"\"}}],\"contour\":[{\"type\":\"contour\",\"colorbar\":{\"outlinewidth\":0,\"ticks\":\"\"},\"colorscale\":[[0.0,\"#0d0887\"],[0.1111111111111111,\"#46039f\"],[0.2222222222222222,\"#7201a8\"],[0.3333333333333333,\"#9c179e\"],[0.4444444444444444,\"#bd3786\"],[0.5555555555555556,\"#d8576b\"],[0.6666666666666666,\"#ed7953\"],[0.7777777777777778,\"#fb9f3a\"],[0.8888888888888888,\"#fdca26\"],[1.0,\"#f0f921\"]]}],\"surface\":[{\"type\":\"surface\",\"colorbar\":{\"outlinewidth\":0,\"ticks\":\"\"},\"colorscale\":[[0.0,\"#0d0887\"],[0.1111111111111111,\"#46039f\"],[0.2222222222222222,\"#7201a8\"],[0.3333333333333333,\"#9c179e\"],[0.4444444444444444,\"#bd3786\"],[0.5555555555555556,\"#d8576b\"],[0.6666666666666666,\"#ed7953\"],[0.7777777777777778,\"#fb9f3a\"],[0.8888888888888888,\"#fdca26\"],[1.0,\"#f0f921\"]]}],\"mesh3d\":[{\"type\":\"mesh3d\",\"colorbar\":{\"outlinewidth\":0,\"ticks\":\"\"}}],\"scatter\":[{\"fillpattern\":{\"fillmode\":\"overlay\",\"size\":10,\"solidity\":0.2},\"type\":\"scatter\"}],\"parcoords\":[{\"type\":\"parcoords\",\"line\":{\"colorbar\":{\"outlinewidth\":0,\"ticks\":\"\"}}}],\"scatterpolargl\":[{\"type\":\"scatterpolargl\",\"marker\":{\"colorbar\":{\"outlinewidth\":0,\"ticks\":\"\"}}}],\"bar\":[{\"error_x\":{\"color\":\"#2a3f5f\"},\"error_y\":{\"color\":\"#2a3f5f\"},\"marker\":{\"line\":{\"color\":\"#E5ECF6\",\"width\":0.5},\"pattern\":{\"fillmode\":\"overlay\",\"size\":10,\"solidity\":0.2}},\"type\":\"bar\"}],\"scattergeo\":[{\"type\":\"scattergeo\",\"marker\":{\"colorbar\":{\"outlinewidth\":0,\"ticks\":\"\"}}}],\"scatterpolar\":[{\"type\":\"scatterpolar\",\"marker\":{\"colorbar\":{\"outlinewidth\":0,\"ticks\":\"\"}}}],\"histogram\":[{\"marker\":{\"pattern\":{\"fillmode\":\"overlay\",\"size\":10,\"solidity\":0.2}},\"type\":\"histogram\"}],\"scattergl\":[{\"type\":\"scattergl\",\"marker\":{\"colorbar\":{\"outlinewidth\":0,\"ticks\":\"\"}}}],\"scatter3d\":[{\"type\":\"scatter3d\",\"line\":{\"colorbar\":{\"outlinewidth\":0,\"ticks\":\"\"}},\"marker\":{\"colorbar\":{\"outlinewidth\":0,\"ticks\":\"\"}}}],\"scattermap\":[{\"type\":\"scattermap\",\"marker\":{\"colorbar\":{\"outlinewidth\":0,\"ticks\":\"\"}}}],\"scattermapbox\":[{\"type\":\"scattermapbox\",\"marker\":{\"colorbar\":{\"outlinewidth\":0,\"ticks\":\"\"}}}],\"scatterternary\":[{\"type\":\"scatterternary\",\"marker\":{\"colorbar\":{\"outlinewidth\":0,\"ticks\":\"\"}}}],\"scattercarpet\":[{\"type\":\"scattercarpet\",\"marker\":{\"colorbar\":{\"outlinewidth\":0,\"ticks\":\"\"}}}],\"carpet\":[{\"aaxis\":{\"endlinecolor\":\"#2a3f5f\",\"gridcolor\":\"white\",\"linecolor\":\"white\",\"minorgridcolor\":\"white\",\"startlinecolor\":\"#2a3f5f\"},\"baxis\":{\"endlinecolor\":\"#2a3f5f\",\"gridcolor\":\"white\",\"linecolor\":\"white\",\"minorgridcolor\":\"white\",\"startlinecolor\":\"#2a3f5f\"},\"type\":\"carpet\"}],\"table\":[{\"cells\":{\"fill\":{\"color\":\"#EBF0F8\"},\"line\":{\"color\":\"white\"}},\"header\":{\"fill\":{\"color\":\"#C8D4E3\"},\"line\":{\"color\":\"white\"}},\"type\":\"table\"}],\"barpolar\":[{\"marker\":{\"line\":{\"color\":\"#E5ECF6\",\"width\":0.5},\"pattern\":{\"fillmode\":\"overlay\",\"size\":10,\"solidity\":0.2}},\"type\":\"barpolar\"}],\"pie\":[{\"automargin\":true,\"type\":\"pie\"}]},\"layout\":{\"autotypenumbers\":\"strict\",\"colorway\":[\"#636efa\",\"#EF553B\",\"#00cc96\",\"#ab63fa\",\"#FFA15A\",\"#19d3f3\",\"#FF6692\",\"#B6E880\",\"#FF97FF\",\"#FECB52\"],\"font\":{\"color\":\"#2a3f5f\"},\"hovermode\":\"closest\",\"hoverlabel\":{\"align\":\"left\"},\"paper_bgcolor\":\"white\",\"plot_bgcolor\":\"#E5ECF6\",\"polar\":{\"bgcolor\":\"#E5ECF6\",\"angularaxis\":{\"gridcolor\":\"white\",\"linecolor\":\"white\",\"ticks\":\"\"},\"radialaxis\":{\"gridcolor\":\"white\",\"linecolor\":\"white\",\"ticks\":\"\"}},\"ternary\":{\"bgcolor\":\"#E5ECF6\",\"aaxis\":{\"gridcolor\":\"white\",\"linecolor\":\"white\",\"ticks\":\"\"},\"baxis\":{\"gridcolor\":\"white\",\"linecolor\":\"white\",\"ticks\":\"\"},\"caxis\":{\"gridcolor\":\"white\",\"linecolor\":\"white\",\"ticks\":\"\"}},\"coloraxis\":{\"colorbar\":{\"outlinewidth\":0,\"ticks\":\"\"}},\"colorscale\":{\"sequential\":[[0.0,\"#0d0887\"],[0.1111111111111111,\"#46039f\"],[0.2222222222222222,\"#7201a8\"],[0.3333333333333333,\"#9c179e\"],[0.4444444444444444,\"#bd3786\"],[0.5555555555555556,\"#d8576b\"],[0.6666666666666666,\"#ed7953\"],[0.7777777777777778,\"#fb9f3a\"],[0.8888888888888888,\"#fdca26\"],[1.0,\"#f0f921\"]],\"sequentialminus\":[[0.0,\"#0d0887\"],[0.1111111111111111,\"#46039f\"],[0.2222222222222222,\"#7201a8\"],[0.3333333333333333,\"#9c179e\"],[0.4444444444444444,\"#bd3786\"],[0.5555555555555556,\"#d8576b\"],[0.6666666666666666,\"#ed7953\"],[0.7777777777777778,\"#fb9f3a\"],[0.8888888888888888,\"#fdca26\"],[1.0,\"#f0f921\"]],\"diverging\":[[0,\"#8e0152\"],[0.1,\"#c51b7d\"],[0.2,\"#de77ae\"],[0.3,\"#f1b6da\"],[0.4,\"#fde0ef\"],[0.5,\"#f7f7f7\"],[0.6,\"#e6f5d0\"],[0.7,\"#b8e186\"],[0.8,\"#7fbc41\"],[0.9,\"#4d9221\"],[1,\"#276419\"]]},\"xaxis\":{\"gridcolor\":\"white\",\"linecolor\":\"white\",\"ticks\":\"\",\"title\":{\"standoff\":15},\"zerolinecolor\":\"white\",\"automargin\":true,\"zerolinewidth\":2},\"yaxis\":{\"gridcolor\":\"white\",\"linecolor\":\"white\",\"ticks\":\"\",\"title\":{\"standoff\":15},\"zerolinecolor\":\"white\",\"automargin\":true,\"zerolinewidth\":2},\"scene\":{\"xaxis\":{\"backgroundcolor\":\"#E5ECF6\",\"gridcolor\":\"white\",\"linecolor\":\"white\",\"showbackground\":true,\"ticks\":\"\",\"zerolinecolor\":\"white\",\"gridwidth\":2},\"yaxis\":{\"backgroundcolor\":\"#E5ECF6\",\"gridcolor\":\"white\",\"linecolor\":\"white\",\"showbackground\":true,\"ticks\":\"\",\"zerolinecolor\":\"white\",\"gridwidth\":2},\"zaxis\":{\"backgroundcolor\":\"#E5ECF6\",\"gridcolor\":\"white\",\"linecolor\":\"white\",\"showbackground\":true,\"ticks\":\"\",\"zerolinecolor\":\"white\",\"gridwidth\":2}},\"shapedefaults\":{\"line\":{\"color\":\"#2a3f5f\"}},\"annotationdefaults\":{\"arrowcolor\":\"#2a3f5f\",\"arrowhead\":0,\"arrowwidth\":1},\"geo\":{\"bgcolor\":\"white\",\"landcolor\":\"#E5ECF6\",\"subunitcolor\":\"white\",\"showland\":true,\"showlakes\":true,\"lakecolor\":\"white\"},\"title\":{\"x\":0.05},\"mapbox\":{\"style\":\"light\"}}},\"xaxis\":{\"anchor\":\"y\",\"domain\":[0.0,1.0],\"title\":{\"text\":\"\\u0434\\u0430\\u0442\\u0430\"}},\"yaxis\":{\"anchor\":\"x\",\"domain\":[0.0,1.0],\"title\":{\"text\":\"\\u043a\\u0443\\u043c\\u0443\\u043b\\u044f\\u0442\\u0438\\u0432\\u043d\\u044b\\u0439 \\u0441\\u0440. \\u0447\\u0435\\u043a\"}},\"legend\":{\"title\":{\"text\":\"\\u0433\\u0440\\u0443\\u043f\\u043f\\u0430\"},\"tracegroupgap\":0},\"margin\":{\"t\":60},\"width\":800,\"title\":{\"text\":\"\\u041a\\u0443\\u043c\\u0443\\u043b\\u044f\\u0442\\u0438\\u0432\\u043d\\u044b\\u0439 \\u0441\\u0440. \\u0447\\u0435\\u043a \\u043f\\u043e \\u0433\\u0440\\u0443\\u043f\\u043f\\u0430\\u043c \\u0410\\u002f\\u0412-\\u0442\\u0435\\u0441\\u0442\\u0430\"}},                        {\"responsive\": true}                    ).then(function(){\n",
       "                            \n",
       "var gd = document.getElementById('fbf89b0f-eb26-4663-b2dd-95ce1bb29e70');\n",
       "var x = new MutationObserver(function (mutations, observer) {{\n",
       "        var display = window.getComputedStyle(gd).display;\n",
       "        if (!display || display === 'none') {{\n",
       "            console.log([gd, 'removed!']);\n",
       "            Plotly.purge(gd);\n",
       "            observer.disconnect();\n",
       "        }}\n",
       "}});\n",
       "\n",
       "// Listen for the removal of the full notebook cells\n",
       "var notebookContainer = gd.closest('#notebook-container');\n",
       "if (notebookContainer) {{\n",
       "    x.observe(notebookContainer, {childList: true});\n",
       "}}\n",
       "\n",
       "// Listen for the clearing of the current output cell\n",
       "var outputEl = gd.closest('.output');\n",
       "if (outputEl) {{\n",
       "    x.observe(outputEl, {childList: true});\n",
       "}}\n",
       "\n",
       "                        })                };            </script>        </div>"
      ]
     },
     "metadata": {},
     "output_type": "display_data"
    }
   ],
   "source": [
    "fig = px.line(cumulative_data,\n",
    "              x='date',\n",
    "              y=cumulative_data['revenue']/cumulative_data['orders'],\n",
    "              color='group',\n",
    "              labels={\n",
    "                  'date': 'дата',\n",
    "                  'y': 'кумулятивный ср. чек',\n",
    "                  'group': 'группа'}\n",
    "              )\n",
    "\n",
    "fig.update_layout(width=800,\n",
    "                  title='Кумулятивный ср. чек по группам А/В-теста')\n",
    "fig.update_traces(line_width=4)\n",
    "iplot(fig)"
   ]
  },
  {
   "cell_type": "markdown",
   "metadata": {},
   "source": [
    "Промежуточный вывод:  \n",
    "У группы В наблюдается скачок - значит это был ОЧЕНЬ дорогой заказ"
   ]
  },
  {
   "cell_type": "markdown",
   "metadata": {},
   "source": [
    "### Относительное изменение кумулятивного среднего чека группы В к группе А"
   ]
  },
  {
   "cell_type": "markdown",
   "metadata": {},
   "source": [
    "Узнаем относительное изменение кумулятивного среднего чека группы В к группе А "
   ]
  },
  {
   "cell_type": "markdown",
   "metadata": {},
   "source": [
    "Разделяем данные по группам теста"
   ]
  },
  {
   "cell_type": "code",
   "execution_count": 26,
   "metadata": {
    "trusted": true
   },
   "outputs": [],
   "source": [
    "cumulative_data_a = cumulative_data[cumulative_data['group'] == 'A']\n",
    "cumulative_data_b = cumulative_data[cumulative_data['group'] == 'B']"
   ]
  },
  {
   "cell_type": "markdown",
   "metadata": {},
   "source": [
    "собираем в таблицу но уже подписываем, что куда относится"
   ]
  },
  {
   "cell_type": "code",
   "execution_count": 27,
   "metadata": {
    "trusted": true
   },
   "outputs": [],
   "source": [
    "cumulative_conversion_ab = (cumulative_data_a\n",
    "                            .merge(\n",
    "                                cumulative_data_b,\n",
    "                                how='left',\n",
    "                                on='date',\n",
    "                                suffixes=['_a', '_b']\n",
    "                            )\n",
    "                            )"
   ]
  },
  {
   "cell_type": "markdown",
   "metadata": {},
   "source": [
    "находим относительное изменение"
   ]
  },
  {
   "cell_type": "code",
   "execution_count": 28,
   "metadata": {
    "trusted": true
   },
   "outputs": [],
   "source": [
    "k = (\n",
    "    (cumulative_conversion_ab['revenue_b'] /\n",
    "     cumulative_conversion_ab['orders_b'])\n",
    "    /\n",
    "    (cumulative_conversion_ab['revenue_a'] /\n",
    "     cumulative_conversion_ab['orders_a']) - 1\n",
    ")"
   ]
  },
  {
   "cell_type": "markdown",
   "metadata": {},
   "source": [
    "Строим график"
   ]
  },
  {
   "cell_type": "code",
   "execution_count": null,
   "metadata": {
    "trusted": true
   },
   "outputs": [
    {
     "data": {
      "application/vnd.plotly.v1+json": {
       "config": {
        "plotlyServerURL": "https://plot.ly"
       },
       "data": [
        {
         "hovertemplate": "дата=%{x}<br>относительное изменение=%{y}<extra></extra>",
         "legendgroup": "",
         "line": {
          "color": "#636efa",
          "dash": "solid",
          "width": 4
         },
         "marker": {
          "symbol": "circle"
         },
         "mode": "lines",
         "name": "",
         "orientation": "v",
         "showlegend": false,
         "type": "scatter",
         "x": [
          "2019-08-01T00:00:00.000000000",
          "2019-08-02T00:00:00.000000000",
          "2019-08-03T00:00:00.000000000",
          "2019-08-04T00:00:00.000000000",
          "2019-08-05T00:00:00.000000000",
          "2019-08-06T00:00:00.000000000",
          "2019-08-07T00:00:00.000000000",
          "2019-08-08T00:00:00.000000000",
          "2019-08-09T00:00:00.000000000",
          "2019-08-10T00:00:00.000000000",
          "2019-08-11T00:00:00.000000000",
          "2019-08-12T00:00:00.000000000",
          "2019-08-13T00:00:00.000000000",
          "2019-08-14T00:00:00.000000000",
          "2019-08-15T00:00:00.000000000",
          "2019-08-16T00:00:00.000000000",
          "2019-08-17T00:00:00.000000000",
          "2019-08-18T00:00:00.000000000",
          "2019-08-19T00:00:00.000000000",
          "2019-08-20T00:00:00.000000000",
          "2019-08-21T00:00:00.000000000",
          "2019-08-22T00:00:00.000000000",
          "2019-08-23T00:00:00.000000000",
          "2019-08-24T00:00:00.000000000",
          "2019-08-25T00:00:00.000000000",
          "2019-08-26T00:00:00.000000000",
          "2019-08-27T00:00:00.000000000",
          "2019-08-28T00:00:00.000000000",
          "2019-08-29T00:00:00.000000000",
          "2019-08-30T00:00:00.000000000",
          "2019-08-31T00:00:00.000000000"
         ],
         "xaxis": "x",
         "y": {
          "bdata": "4DjZKmNYzL/QnB5K3nOzP8gcC1EUMck/KPrmbf+Gzj/Am8LQUjLCPyij/yUfzNY/ALZYC8nw1T/QTKVVeePWP+BL/Z+/Pso/QMOi58qtqz/gq/MTfoiiP4BUrGMsFKG/fJax3s3HwL9gb2zUC2SxvwCcLnan2VK/gF6JhUvWmD9APsKkK6KaP0BS1JfnVag/dP1hvfio3z9gthz+v5DePxyDhA5Cad4/hA6ilS573D/wcAOKMIbdP8QIRPn7gts/MCeKCCTg2j8szEt0r37YP0BLZpOXD9Y/2GYag9bU0z9YjnmNh/vQP8y2wQ3wwNA/ZGDTx8OO0D8=",
          "dtype": "f8"
         },
         "yaxis": "y"
        }
       ],
       "layout": {
        "font": {
         "size": 10
        },
        "legend": {
         "tracegroupgap": 0
        },
        "margin": {
         "t": 60
        },
        "shapes": [
         {
          "line": {
           "color": "red",
           "dash": "dot"
          },
          "type": "line",
          "x0": 0,
          "x1": 1,
          "xref": "x domain",
          "y0": 0,
          "y1": 0,
          "yref": "y"
         }
        ],
        "template": {
         "data": {
          "bar": [
           {
            "error_x": {
             "color": "#2a3f5f"
            },
            "error_y": {
             "color": "#2a3f5f"
            },
            "marker": {
             "line": {
              "color": "#E5ECF6",
              "width": 0.5
             },
             "pattern": {
              "fillmode": "overlay",
              "size": 10,
              "solidity": 0.2
             }
            },
            "type": "bar"
           }
          ],
          "barpolar": [
           {
            "marker": {
             "line": {
              "color": "#E5ECF6",
              "width": 0.5
             },
             "pattern": {
              "fillmode": "overlay",
              "size": 10,
              "solidity": 0.2
             }
            },
            "type": "barpolar"
           }
          ],
          "carpet": [
           {
            "aaxis": {
             "endlinecolor": "#2a3f5f",
             "gridcolor": "white",
             "linecolor": "white",
             "minorgridcolor": "white",
             "startlinecolor": "#2a3f5f"
            },
            "baxis": {
             "endlinecolor": "#2a3f5f",
             "gridcolor": "white",
             "linecolor": "white",
             "minorgridcolor": "white",
             "startlinecolor": "#2a3f5f"
            },
            "type": "carpet"
           }
          ],
          "choropleth": [
           {
            "colorbar": {
             "outlinewidth": 0,
             "ticks": ""
            },
            "type": "choropleth"
           }
          ],
          "contour": [
           {
            "colorbar": {
             "outlinewidth": 0,
             "ticks": ""
            },
            "colorscale": [
             [
              0,
              "#0d0887"
             ],
             [
              0.1111111111111111,
              "#46039f"
             ],
             [
              0.2222222222222222,
              "#7201a8"
             ],
             [
              0.3333333333333333,
              "#9c179e"
             ],
             [
              0.4444444444444444,
              "#bd3786"
             ],
             [
              0.5555555555555556,
              "#d8576b"
             ],
             [
              0.6666666666666666,
              "#ed7953"
             ],
             [
              0.7777777777777778,
              "#fb9f3a"
             ],
             [
              0.8888888888888888,
              "#fdca26"
             ],
             [
              1,
              "#f0f921"
             ]
            ],
            "type": "contour"
           }
          ],
          "contourcarpet": [
           {
            "colorbar": {
             "outlinewidth": 0,
             "ticks": ""
            },
            "type": "contourcarpet"
           }
          ],
          "heatmap": [
           {
            "colorbar": {
             "outlinewidth": 0,
             "ticks": ""
            },
            "colorscale": [
             [
              0,
              "#0d0887"
             ],
             [
              0.1111111111111111,
              "#46039f"
             ],
             [
              0.2222222222222222,
              "#7201a8"
             ],
             [
              0.3333333333333333,
              "#9c179e"
             ],
             [
              0.4444444444444444,
              "#bd3786"
             ],
             [
              0.5555555555555556,
              "#d8576b"
             ],
             [
              0.6666666666666666,
              "#ed7953"
             ],
             [
              0.7777777777777778,
              "#fb9f3a"
             ],
             [
              0.8888888888888888,
              "#fdca26"
             ],
             [
              1,
              "#f0f921"
             ]
            ],
            "type": "heatmap"
           }
          ],
          "histogram": [
           {
            "marker": {
             "pattern": {
              "fillmode": "overlay",
              "size": 10,
              "solidity": 0.2
             }
            },
            "type": "histogram"
           }
          ],
          "histogram2d": [
           {
            "colorbar": {
             "outlinewidth": 0,
             "ticks": ""
            },
            "colorscale": [
             [
              0,
              "#0d0887"
             ],
             [
              0.1111111111111111,
              "#46039f"
             ],
             [
              0.2222222222222222,
              "#7201a8"
             ],
             [
              0.3333333333333333,
              "#9c179e"
             ],
             [
              0.4444444444444444,
              "#bd3786"
             ],
             [
              0.5555555555555556,
              "#d8576b"
             ],
             [
              0.6666666666666666,
              "#ed7953"
             ],
             [
              0.7777777777777778,
              "#fb9f3a"
             ],
             [
              0.8888888888888888,
              "#fdca26"
             ],
             [
              1,
              "#f0f921"
             ]
            ],
            "type": "histogram2d"
           }
          ],
          "histogram2dcontour": [
           {
            "colorbar": {
             "outlinewidth": 0,
             "ticks": ""
            },
            "colorscale": [
             [
              0,
              "#0d0887"
             ],
             [
              0.1111111111111111,
              "#46039f"
             ],
             [
              0.2222222222222222,
              "#7201a8"
             ],
             [
              0.3333333333333333,
              "#9c179e"
             ],
             [
              0.4444444444444444,
              "#bd3786"
             ],
             [
              0.5555555555555556,
              "#d8576b"
             ],
             [
              0.6666666666666666,
              "#ed7953"
             ],
             [
              0.7777777777777778,
              "#fb9f3a"
             ],
             [
              0.8888888888888888,
              "#fdca26"
             ],
             [
              1,
              "#f0f921"
             ]
            ],
            "type": "histogram2dcontour"
           }
          ],
          "mesh3d": [
           {
            "colorbar": {
             "outlinewidth": 0,
             "ticks": ""
            },
            "type": "mesh3d"
           }
          ],
          "parcoords": [
           {
            "line": {
             "colorbar": {
              "outlinewidth": 0,
              "ticks": ""
             }
            },
            "type": "parcoords"
           }
          ],
          "pie": [
           {
            "automargin": true,
            "type": "pie"
           }
          ],
          "scatter": [
           {
            "fillpattern": {
             "fillmode": "overlay",
             "size": 10,
             "solidity": 0.2
            },
            "type": "scatter"
           }
          ],
          "scatter3d": [
           {
            "line": {
             "colorbar": {
              "outlinewidth": 0,
              "ticks": ""
             }
            },
            "marker": {
             "colorbar": {
              "outlinewidth": 0,
              "ticks": ""
             }
            },
            "type": "scatter3d"
           }
          ],
          "scattercarpet": [
           {
            "marker": {
             "colorbar": {
              "outlinewidth": 0,
              "ticks": ""
             }
            },
            "type": "scattercarpet"
           }
          ],
          "scattergeo": [
           {
            "marker": {
             "colorbar": {
              "outlinewidth": 0,
              "ticks": ""
             }
            },
            "type": "scattergeo"
           }
          ],
          "scattergl": [
           {
            "marker": {
             "colorbar": {
              "outlinewidth": 0,
              "ticks": ""
             }
            },
            "type": "scattergl"
           }
          ],
          "scattermap": [
           {
            "marker": {
             "colorbar": {
              "outlinewidth": 0,
              "ticks": ""
             }
            },
            "type": "scattermap"
           }
          ],
          "scattermapbox": [
           {
            "marker": {
             "colorbar": {
              "outlinewidth": 0,
              "ticks": ""
             }
            },
            "type": "scattermapbox"
           }
          ],
          "scatterpolar": [
           {
            "marker": {
             "colorbar": {
              "outlinewidth": 0,
              "ticks": ""
             }
            },
            "type": "scatterpolar"
           }
          ],
          "scatterpolargl": [
           {
            "marker": {
             "colorbar": {
              "outlinewidth": 0,
              "ticks": ""
             }
            },
            "type": "scatterpolargl"
           }
          ],
          "scatterternary": [
           {
            "marker": {
             "colorbar": {
              "outlinewidth": 0,
              "ticks": ""
             }
            },
            "type": "scatterternary"
           }
          ],
          "surface": [
           {
            "colorbar": {
             "outlinewidth": 0,
             "ticks": ""
            },
            "colorscale": [
             [
              0,
              "#0d0887"
             ],
             [
              0.1111111111111111,
              "#46039f"
             ],
             [
              0.2222222222222222,
              "#7201a8"
             ],
             [
              0.3333333333333333,
              "#9c179e"
             ],
             [
              0.4444444444444444,
              "#bd3786"
             ],
             [
              0.5555555555555556,
              "#d8576b"
             ],
             [
              0.6666666666666666,
              "#ed7953"
             ],
             [
              0.7777777777777778,
              "#fb9f3a"
             ],
             [
              0.8888888888888888,
              "#fdca26"
             ],
             [
              1,
              "#f0f921"
             ]
            ],
            "type": "surface"
           }
          ],
          "table": [
           {
            "cells": {
             "fill": {
              "color": "#EBF0F8"
             },
             "line": {
              "color": "white"
             }
            },
            "header": {
             "fill": {
              "color": "#C8D4E3"
             },
             "line": {
              "color": "white"
             }
            },
            "type": "table"
           }
          ]
         },
         "layout": {
          "annotationdefaults": {
           "arrowcolor": "#2a3f5f",
           "arrowhead": 0,
           "arrowwidth": 1
          },
          "autotypenumbers": "strict",
          "coloraxis": {
           "colorbar": {
            "outlinewidth": 0,
            "ticks": ""
           }
          },
          "colorscale": {
           "diverging": [
            [
             0,
             "#8e0152"
            ],
            [
             0.1,
             "#c51b7d"
            ],
            [
             0.2,
             "#de77ae"
            ],
            [
             0.3,
             "#f1b6da"
            ],
            [
             0.4,
             "#fde0ef"
            ],
            [
             0.5,
             "#f7f7f7"
            ],
            [
             0.6,
             "#e6f5d0"
            ],
            [
             0.7,
             "#b8e186"
            ],
            [
             0.8,
             "#7fbc41"
            ],
            [
             0.9,
             "#4d9221"
            ],
            [
             1,
             "#276419"
            ]
           ],
           "sequential": [
            [
             0,
             "#0d0887"
            ],
            [
             0.1111111111111111,
             "#46039f"
            ],
            [
             0.2222222222222222,
             "#7201a8"
            ],
            [
             0.3333333333333333,
             "#9c179e"
            ],
            [
             0.4444444444444444,
             "#bd3786"
            ],
            [
             0.5555555555555556,
             "#d8576b"
            ],
            [
             0.6666666666666666,
             "#ed7953"
            ],
            [
             0.7777777777777778,
             "#fb9f3a"
            ],
            [
             0.8888888888888888,
             "#fdca26"
            ],
            [
             1,
             "#f0f921"
            ]
           ],
           "sequentialminus": [
            [
             0,
             "#0d0887"
            ],
            [
             0.1111111111111111,
             "#46039f"
            ],
            [
             0.2222222222222222,
             "#7201a8"
            ],
            [
             0.3333333333333333,
             "#9c179e"
            ],
            [
             0.4444444444444444,
             "#bd3786"
            ],
            [
             0.5555555555555556,
             "#d8576b"
            ],
            [
             0.6666666666666666,
             "#ed7953"
            ],
            [
             0.7777777777777778,
             "#fb9f3a"
            ],
            [
             0.8888888888888888,
             "#fdca26"
            ],
            [
             1,
             "#f0f921"
            ]
           ]
          },
          "colorway": [
           "#636efa",
           "#EF553B",
           "#00cc96",
           "#ab63fa",
           "#FFA15A",
           "#19d3f3",
           "#FF6692",
           "#B6E880",
           "#FF97FF",
           "#FECB52"
          ],
          "font": {
           "color": "#2a3f5f"
          },
          "geo": {
           "bgcolor": "white",
           "lakecolor": "white",
           "landcolor": "#E5ECF6",
           "showlakes": true,
           "showland": true,
           "subunitcolor": "white"
          },
          "hoverlabel": {
           "align": "left"
          },
          "hovermode": "closest",
          "mapbox": {
           "style": "light"
          },
          "paper_bgcolor": "white",
          "plot_bgcolor": "#E5ECF6",
          "polar": {
           "angularaxis": {
            "gridcolor": "white",
            "linecolor": "white",
            "ticks": ""
           },
           "bgcolor": "#E5ECF6",
           "radialaxis": {
            "gridcolor": "white",
            "linecolor": "white",
            "ticks": ""
           }
          },
          "scene": {
           "xaxis": {
            "backgroundcolor": "#E5ECF6",
            "gridcolor": "white",
            "gridwidth": 2,
            "linecolor": "white",
            "showbackground": true,
            "ticks": "",
            "zerolinecolor": "white"
           },
           "yaxis": {
            "backgroundcolor": "#E5ECF6",
            "gridcolor": "white",
            "gridwidth": 2,
            "linecolor": "white",
            "showbackground": true,
            "ticks": "",
            "zerolinecolor": "white"
           },
           "zaxis": {
            "backgroundcolor": "#E5ECF6",
            "gridcolor": "white",
            "gridwidth": 2,
            "linecolor": "white",
            "showbackground": true,
            "ticks": "",
            "zerolinecolor": "white"
           }
          },
          "shapedefaults": {
           "line": {
            "color": "#2a3f5f"
           }
          },
          "ternary": {
           "aaxis": {
            "gridcolor": "white",
            "linecolor": "white",
            "ticks": ""
           },
           "baxis": {
            "gridcolor": "white",
            "linecolor": "white",
            "ticks": ""
           },
           "bgcolor": "#E5ECF6",
           "caxis": {
            "gridcolor": "white",
            "linecolor": "white",
            "ticks": ""
           }
          },
          "title": {
           "x": 0.05
          },
          "xaxis": {
           "automargin": true,
           "gridcolor": "white",
           "linecolor": "white",
           "ticks": "",
           "title": {
            "standoff": 15
           },
           "zerolinecolor": "white",
           "zerolinewidth": 2
          },
          "yaxis": {
           "automargin": true,
           "gridcolor": "white",
           "linecolor": "white",
           "ticks": "",
           "title": {
            "standoff": 15
           },
           "zerolinecolor": "white",
           "zerolinewidth": 2
          }
         }
        },
        "title": {
         "text": "Относительное изменение кумулятивного среднего чека группы B к группе А"
        },
        "width": 800,
        "xaxis": {
         "anchor": "y",
         "domain": [
          0,
          1
         ],
         "title": {
          "text": "дата"
         }
        },
        "yaxis": {
         "anchor": "x",
         "domain": [
          0,
          1
         ],
         "title": {
          "text": "относительное изменение"
         }
        }
       }
      },
      "text/html": [
       "<div>            <script src=\"https://cdnjs.cloudflare.com/ajax/libs/mathjax/2.7.5/MathJax.js?config=TeX-AMS-MML_SVG\"></script><script type=\"text/javascript\">if (window.MathJax && window.MathJax.Hub && window.MathJax.Hub.Config) {window.MathJax.Hub.Config({SVG: {font: \"STIX-Web\"}});}</script>                <script type=\"text/javascript\">window.PlotlyConfig = {MathJaxConfig: 'local'};</script>\n",
       "        <script charset=\"utf-8\" src=\"https://cdn.plot.ly/plotly-3.0.1.min.js\"></script>                <div id=\"da7493ec-541a-4574-b952-207c2185b1d2\" class=\"plotly-graph-div\" style=\"height:525px; width:800px;\"></div>            <script type=\"text/javascript\">                window.PLOTLYENV=window.PLOTLYENV || {};                                if (document.getElementById(\"da7493ec-541a-4574-b952-207c2185b1d2\")) {                    Plotly.newPlot(                        \"da7493ec-541a-4574-b952-207c2185b1d2\",                        [{\"hovertemplate\":\"\\u0434\\u0430\\u0442\\u0430=%{x}\\u003cbr\\u003e\\u043e\\u0442\\u043d\\u043e\\u0441\\u0438\\u0442\\u0435\\u043b\\u044c\\u043d\\u043e\\u0435 \\u0438\\u0437\\u043c\\u0435\\u043d\\u0435\\u043d\\u0438\\u0435=%{y}\\u003cextra\\u003e\\u003c\\u002fextra\\u003e\",\"legendgroup\":\"\",\"line\":{\"color\":\"#636efa\",\"dash\":\"solid\",\"width\":4},\"marker\":{\"symbol\":\"circle\"},\"mode\":\"lines\",\"name\":\"\",\"orientation\":\"v\",\"showlegend\":false,\"x\":[\"2019-08-01T00:00:00.000000000\",\"2019-08-02T00:00:00.000000000\",\"2019-08-03T00:00:00.000000000\",\"2019-08-04T00:00:00.000000000\",\"2019-08-05T00:00:00.000000000\",\"2019-08-06T00:00:00.000000000\",\"2019-08-07T00:00:00.000000000\",\"2019-08-08T00:00:00.000000000\",\"2019-08-09T00:00:00.000000000\",\"2019-08-10T00:00:00.000000000\",\"2019-08-11T00:00:00.000000000\",\"2019-08-12T00:00:00.000000000\",\"2019-08-13T00:00:00.000000000\",\"2019-08-14T00:00:00.000000000\",\"2019-08-15T00:00:00.000000000\",\"2019-08-16T00:00:00.000000000\",\"2019-08-17T00:00:00.000000000\",\"2019-08-18T00:00:00.000000000\",\"2019-08-19T00:00:00.000000000\",\"2019-08-20T00:00:00.000000000\",\"2019-08-21T00:00:00.000000000\",\"2019-08-22T00:00:00.000000000\",\"2019-08-23T00:00:00.000000000\",\"2019-08-24T00:00:00.000000000\",\"2019-08-25T00:00:00.000000000\",\"2019-08-26T00:00:00.000000000\",\"2019-08-27T00:00:00.000000000\",\"2019-08-28T00:00:00.000000000\",\"2019-08-29T00:00:00.000000000\",\"2019-08-30T00:00:00.000000000\",\"2019-08-31T00:00:00.000000000\"],\"xaxis\":\"x\",\"y\":{\"dtype\":\"f8\",\"bdata\":\"4DjZKmNYzL\\u002fQnB5K3nOzP8gcC1EUMck\\u002fKPrmbf+Gzj\\u002fAm8LQUjLCPyij\\u002fyUfzNY\\u002fALZYC8nw1T\\u002fQTKVVeePWP+BL\\u002fZ+\\u002fPso\\u002fQMOi58qtqz\\u002fgq\\u002fMTfoiiP4BUrGMsFKG\\u002ffJax3s3HwL9gb2zUC2SxvwCcLnan2VK\\u002fgF6JhUvWmD9APsKkK6KaP0BS1JfnVag\\u002fdP1hvfio3z9gthz+v5DePxyDhA5Cad4\\u002fhA6ilS573D\\u002fwcAOKMIbdP8QIRPn7gts\\u002fMCeKCCTg2j8szEt0r37YP0BLZpOXD9Y\\u002f2GYag9bU0z9YjnmNh\\u002fvQP8y2wQ3wwNA\\u002fZGDTx8OO0D8=\"},\"yaxis\":\"y\",\"type\":\"scatter\"}],                        {\"template\":{\"data\":{\"histogram2dcontour\":[{\"type\":\"histogram2dcontour\",\"colorbar\":{\"outlinewidth\":0,\"ticks\":\"\"},\"colorscale\":[[0.0,\"#0d0887\"],[0.1111111111111111,\"#46039f\"],[0.2222222222222222,\"#7201a8\"],[0.3333333333333333,\"#9c179e\"],[0.4444444444444444,\"#bd3786\"],[0.5555555555555556,\"#d8576b\"],[0.6666666666666666,\"#ed7953\"],[0.7777777777777778,\"#fb9f3a\"],[0.8888888888888888,\"#fdca26\"],[1.0,\"#f0f921\"]]}],\"choropleth\":[{\"type\":\"choropleth\",\"colorbar\":{\"outlinewidth\":0,\"ticks\":\"\"}}],\"histogram2d\":[{\"type\":\"histogram2d\",\"colorbar\":{\"outlinewidth\":0,\"ticks\":\"\"},\"colorscale\":[[0.0,\"#0d0887\"],[0.1111111111111111,\"#46039f\"],[0.2222222222222222,\"#7201a8\"],[0.3333333333333333,\"#9c179e\"],[0.4444444444444444,\"#bd3786\"],[0.5555555555555556,\"#d8576b\"],[0.6666666666666666,\"#ed7953\"],[0.7777777777777778,\"#fb9f3a\"],[0.8888888888888888,\"#fdca26\"],[1.0,\"#f0f921\"]]}],\"heatmap\":[{\"type\":\"heatmap\",\"colorbar\":{\"outlinewidth\":0,\"ticks\":\"\"},\"colorscale\":[[0.0,\"#0d0887\"],[0.1111111111111111,\"#46039f\"],[0.2222222222222222,\"#7201a8\"],[0.3333333333333333,\"#9c179e\"],[0.4444444444444444,\"#bd3786\"],[0.5555555555555556,\"#d8576b\"],[0.6666666666666666,\"#ed7953\"],[0.7777777777777778,\"#fb9f3a\"],[0.8888888888888888,\"#fdca26\"],[1.0,\"#f0f921\"]]}],\"contourcarpet\":[{\"type\":\"contourcarpet\",\"colorbar\":{\"outlinewidth\":0,\"ticks\":\"\"}}],\"contour\":[{\"type\":\"contour\",\"colorbar\":{\"outlinewidth\":0,\"ticks\":\"\"},\"colorscale\":[[0.0,\"#0d0887\"],[0.1111111111111111,\"#46039f\"],[0.2222222222222222,\"#7201a8\"],[0.3333333333333333,\"#9c179e\"],[0.4444444444444444,\"#bd3786\"],[0.5555555555555556,\"#d8576b\"],[0.6666666666666666,\"#ed7953\"],[0.7777777777777778,\"#fb9f3a\"],[0.8888888888888888,\"#fdca26\"],[1.0,\"#f0f921\"]]}],\"surface\":[{\"type\":\"surface\",\"colorbar\":{\"outlinewidth\":0,\"ticks\":\"\"},\"colorscale\":[[0.0,\"#0d0887\"],[0.1111111111111111,\"#46039f\"],[0.2222222222222222,\"#7201a8\"],[0.3333333333333333,\"#9c179e\"],[0.4444444444444444,\"#bd3786\"],[0.5555555555555556,\"#d8576b\"],[0.6666666666666666,\"#ed7953\"],[0.7777777777777778,\"#fb9f3a\"],[0.8888888888888888,\"#fdca26\"],[1.0,\"#f0f921\"]]}],\"mesh3d\":[{\"type\":\"mesh3d\",\"colorbar\":{\"outlinewidth\":0,\"ticks\":\"\"}}],\"scatter\":[{\"fillpattern\":{\"fillmode\":\"overlay\",\"size\":10,\"solidity\":0.2},\"type\":\"scatter\"}],\"parcoords\":[{\"type\":\"parcoords\",\"line\":{\"colorbar\":{\"outlinewidth\":0,\"ticks\":\"\"}}}],\"scatterpolargl\":[{\"type\":\"scatterpolargl\",\"marker\":{\"colorbar\":{\"outlinewidth\":0,\"ticks\":\"\"}}}],\"bar\":[{\"error_x\":{\"color\":\"#2a3f5f\"},\"error_y\":{\"color\":\"#2a3f5f\"},\"marker\":{\"line\":{\"color\":\"#E5ECF6\",\"width\":0.5},\"pattern\":{\"fillmode\":\"overlay\",\"size\":10,\"solidity\":0.2}},\"type\":\"bar\"}],\"scattergeo\":[{\"type\":\"scattergeo\",\"marker\":{\"colorbar\":{\"outlinewidth\":0,\"ticks\":\"\"}}}],\"scatterpolar\":[{\"type\":\"scatterpolar\",\"marker\":{\"colorbar\":{\"outlinewidth\":0,\"ticks\":\"\"}}}],\"histogram\":[{\"marker\":{\"pattern\":{\"fillmode\":\"overlay\",\"size\":10,\"solidity\":0.2}},\"type\":\"histogram\"}],\"scattergl\":[{\"type\":\"scattergl\",\"marker\":{\"colorbar\":{\"outlinewidth\":0,\"ticks\":\"\"}}}],\"scatter3d\":[{\"type\":\"scatter3d\",\"line\":{\"colorbar\":{\"outlinewidth\":0,\"ticks\":\"\"}},\"marker\":{\"colorbar\":{\"outlinewidth\":0,\"ticks\":\"\"}}}],\"scattermap\":[{\"type\":\"scattermap\",\"marker\":{\"colorbar\":{\"outlinewidth\":0,\"ticks\":\"\"}}}],\"scattermapbox\":[{\"type\":\"scattermapbox\",\"marker\":{\"colorbar\":{\"outlinewidth\":0,\"ticks\":\"\"}}}],\"scatterternary\":[{\"type\":\"scatterternary\",\"marker\":{\"colorbar\":{\"outlinewidth\":0,\"ticks\":\"\"}}}],\"scattercarpet\":[{\"type\":\"scattercarpet\",\"marker\":{\"colorbar\":{\"outlinewidth\":0,\"ticks\":\"\"}}}],\"carpet\":[{\"aaxis\":{\"endlinecolor\":\"#2a3f5f\",\"gridcolor\":\"white\",\"linecolor\":\"white\",\"minorgridcolor\":\"white\",\"startlinecolor\":\"#2a3f5f\"},\"baxis\":{\"endlinecolor\":\"#2a3f5f\",\"gridcolor\":\"white\",\"linecolor\":\"white\",\"minorgridcolor\":\"white\",\"startlinecolor\":\"#2a3f5f\"},\"type\":\"carpet\"}],\"table\":[{\"cells\":{\"fill\":{\"color\":\"#EBF0F8\"},\"line\":{\"color\":\"white\"}},\"header\":{\"fill\":{\"color\":\"#C8D4E3\"},\"line\":{\"color\":\"white\"}},\"type\":\"table\"}],\"barpolar\":[{\"marker\":{\"line\":{\"color\":\"#E5ECF6\",\"width\":0.5},\"pattern\":{\"fillmode\":\"overlay\",\"size\":10,\"solidity\":0.2}},\"type\":\"barpolar\"}],\"pie\":[{\"automargin\":true,\"type\":\"pie\"}]},\"layout\":{\"autotypenumbers\":\"strict\",\"colorway\":[\"#636efa\",\"#EF553B\",\"#00cc96\",\"#ab63fa\",\"#FFA15A\",\"#19d3f3\",\"#FF6692\",\"#B6E880\",\"#FF97FF\",\"#FECB52\"],\"font\":{\"color\":\"#2a3f5f\"},\"hovermode\":\"closest\",\"hoverlabel\":{\"align\":\"left\"},\"paper_bgcolor\":\"white\",\"plot_bgcolor\":\"#E5ECF6\",\"polar\":{\"bgcolor\":\"#E5ECF6\",\"angularaxis\":{\"gridcolor\":\"white\",\"linecolor\":\"white\",\"ticks\":\"\"},\"radialaxis\":{\"gridcolor\":\"white\",\"linecolor\":\"white\",\"ticks\":\"\"}},\"ternary\":{\"bgcolor\":\"#E5ECF6\",\"aaxis\":{\"gridcolor\":\"white\",\"linecolor\":\"white\",\"ticks\":\"\"},\"baxis\":{\"gridcolor\":\"white\",\"linecolor\":\"white\",\"ticks\":\"\"},\"caxis\":{\"gridcolor\":\"white\",\"linecolor\":\"white\",\"ticks\":\"\"}},\"coloraxis\":{\"colorbar\":{\"outlinewidth\":0,\"ticks\":\"\"}},\"colorscale\":{\"sequential\":[[0.0,\"#0d0887\"],[0.1111111111111111,\"#46039f\"],[0.2222222222222222,\"#7201a8\"],[0.3333333333333333,\"#9c179e\"],[0.4444444444444444,\"#bd3786\"],[0.5555555555555556,\"#d8576b\"],[0.6666666666666666,\"#ed7953\"],[0.7777777777777778,\"#fb9f3a\"],[0.8888888888888888,\"#fdca26\"],[1.0,\"#f0f921\"]],\"sequentialminus\":[[0.0,\"#0d0887\"],[0.1111111111111111,\"#46039f\"],[0.2222222222222222,\"#7201a8\"],[0.3333333333333333,\"#9c179e\"],[0.4444444444444444,\"#bd3786\"],[0.5555555555555556,\"#d8576b\"],[0.6666666666666666,\"#ed7953\"],[0.7777777777777778,\"#fb9f3a\"],[0.8888888888888888,\"#fdca26\"],[1.0,\"#f0f921\"]],\"diverging\":[[0,\"#8e0152\"],[0.1,\"#c51b7d\"],[0.2,\"#de77ae\"],[0.3,\"#f1b6da\"],[0.4,\"#fde0ef\"],[0.5,\"#f7f7f7\"],[0.6,\"#e6f5d0\"],[0.7,\"#b8e186\"],[0.8,\"#7fbc41\"],[0.9,\"#4d9221\"],[1,\"#276419\"]]},\"xaxis\":{\"gridcolor\":\"white\",\"linecolor\":\"white\",\"ticks\":\"\",\"title\":{\"standoff\":15},\"zerolinecolor\":\"white\",\"automargin\":true,\"zerolinewidth\":2},\"yaxis\":{\"gridcolor\":\"white\",\"linecolor\":\"white\",\"ticks\":\"\",\"title\":{\"standoff\":15},\"zerolinecolor\":\"white\",\"automargin\":true,\"zerolinewidth\":2},\"scene\":{\"xaxis\":{\"backgroundcolor\":\"#E5ECF6\",\"gridcolor\":\"white\",\"linecolor\":\"white\",\"showbackground\":true,\"ticks\":\"\",\"zerolinecolor\":\"white\",\"gridwidth\":2},\"yaxis\":{\"backgroundcolor\":\"#E5ECF6\",\"gridcolor\":\"white\",\"linecolor\":\"white\",\"showbackground\":true,\"ticks\":\"\",\"zerolinecolor\":\"white\",\"gridwidth\":2},\"zaxis\":{\"backgroundcolor\":\"#E5ECF6\",\"gridcolor\":\"white\",\"linecolor\":\"white\",\"showbackground\":true,\"ticks\":\"\",\"zerolinecolor\":\"white\",\"gridwidth\":2}},\"shapedefaults\":{\"line\":{\"color\":\"#2a3f5f\"}},\"annotationdefaults\":{\"arrowcolor\":\"#2a3f5f\",\"arrowhead\":0,\"arrowwidth\":1},\"geo\":{\"bgcolor\":\"white\",\"landcolor\":\"#E5ECF6\",\"subunitcolor\":\"white\",\"showland\":true,\"showlakes\":true,\"lakecolor\":\"white\"},\"title\":{\"x\":0.05},\"mapbox\":{\"style\":\"light\"}}},\"xaxis\":{\"anchor\":\"y\",\"domain\":[0.0,1.0],\"title\":{\"text\":\"\\u0434\\u0430\\u0442\\u0430\"}},\"yaxis\":{\"anchor\":\"x\",\"domain\":[0.0,1.0],\"title\":{\"text\":\"\\u043e\\u0442\\u043d\\u043e\\u0441\\u0438\\u0442\\u0435\\u043b\\u044c\\u043d\\u043e\\u0435 \\u0438\\u0437\\u043c\\u0435\\u043d\\u0435\\u043d\\u0438\\u0435\"}},\"legend\":{\"tracegroupgap\":0},\"margin\":{\"t\":60},\"font\":{\"size\":10},\"width\":800,\"title\":{\"text\":\"\\u041e\\u0442\\u043d\\u043e\\u0441\\u0438\\u0442\\u0435\\u043b\\u044c\\u043d\\u043e\\u0435 \\u0438\\u0437\\u043c\\u0435\\u043d\\u0435\\u043d\\u0438\\u0435 \\u043a\\u0443\\u043c\\u0443\\u043b\\u044f\\u0442\\u0438\\u0432\\u043d\\u043e\\u0433\\u043e \\u0441\\u0440\\u0435\\u0434\\u043d\\u0435\\u0433\\u043e \\u0447\\u0435\\u043a\\u0430 \\u0433\\u0440\\u0443\\u043f\\u043f\\u044b B \\u043a \\u0433\\u0440\\u0443\\u043f\\u043f\\u0435 \\u0410\"},\"shapes\":[{\"line\":{\"color\":\"red\",\"dash\":\"dot\"},\"type\":\"line\",\"x0\":0,\"x1\":1,\"xref\":\"x domain\",\"y0\":0,\"y1\":0,\"yref\":\"y\"}]},                        {\"responsive\": true}                    ).then(function(){\n",
       "                            \n",
       "var gd = document.getElementById('da7493ec-541a-4574-b952-207c2185b1d2');\n",
       "var x = new MutationObserver(function (mutations, observer) {{\n",
       "        var display = window.getComputedStyle(gd).display;\n",
       "        if (!display || display === 'none') {{\n",
       "            console.log([gd, 'removed!']);\n",
       "            Plotly.purge(gd);\n",
       "            observer.disconnect();\n",
       "        }}\n",
       "}});\n",
       "\n",
       "// Listen for the removal of the full notebook cells\n",
       "var notebookContainer = gd.closest('#notebook-container');\n",
       "if (notebookContainer) {{\n",
       "    x.observe(notebookContainer, {childList: true});\n",
       "}}\n",
       "\n",
       "// Listen for the clearing of the current output cell\n",
       "var outputEl = gd.closest('.output');\n",
       "if (outputEl) {{\n",
       "    x.observe(outputEl, {childList: true});\n",
       "}}\n",
       "\n",
       "                        })                };            </script>        </div>"
      ]
     },
     "metadata": {},
     "output_type": "display_data"
    }
   ],
   "source": [
    "\n",
    "fig = px.line(cumulative_conversion_ab,\n",
    "              x='date',\n",
    "              y=k,\n",
    "              labels={\n",
    "                  'date': 'дата',\n",
    "                  'y': 'относительное изменение',\n",
    "                  'group': 'группа'}\n",
    "              )\n",
    "\n",
    "fig.update_layout(width=800,\n",
    "                  title='Относительное изменение кумулятивного среднего чека группы B к группе А',\n",
    "                  font_size=10\n",
    "                  )\n",
    "fig.add_hline(y=0,\n",
    "              line_color='red',\n",
    "              line_dash='dot'\n",
    "              )\n",
    "fig.update_traces(line_width=4)\n",
    "iplot(fig)"
   ]
  },
  {
   "cell_type": "markdown",
   "metadata": {},
   "source": [
    "Промежуточный вывод:  \n",
    "Наблюдаем следущее - средний чек группы В сначала больше, затем снижается до -13%, и резко поднимается до 49% (однозначно находится аномально дорогая покупка) плавно снижаясь до конца месяца"
   ]
  },
  {
   "cell_type": "markdown",
   "metadata": {},
   "source": [
    "### Кумулятивное ср. количество заказов на посетителя"
   ]
  },
  {
   "cell_type": "markdown",
   "metadata": {},
   "source": [
    "Вычислим конверсию - среднее количесвтво заказов на поситетиля "
   ]
  },
  {
   "cell_type": "code",
   "execution_count": 30,
   "metadata": {
    "trusted": true
   },
   "outputs": [],
   "source": [
    "cumulative_data['conversion'] = (cumulative_data['orders'] / \n",
    "                                 cumulative_data['visitors'])"
   ]
  },
  {
   "cell_type": "markdown",
   "metadata": {},
   "source": [
    "Строим график конверсии"
   ]
  },
  {
   "cell_type": "code",
   "execution_count": null,
   "metadata": {
    "trusted": true
   },
   "outputs": [
    {
     "data": {
      "application/vnd.plotly.v1+json": {
       "config": {
        "plotlyServerURL": "https://plot.ly"
       },
       "data": [
        {
         "hovertemplate": "группа=A<br>дата=%{x}<br>коверсия=%{y}<extra></extra>",
         "legendgroup": "A",
         "line": {
          "color": "#636efa",
          "dash": "solid",
          "width": 3
         },
         "marker": {
          "symbol": "circle"
         },
         "mode": "lines",
         "name": "A",
         "orientation": "v",
         "showlegend": true,
         "type": "scatter",
         "x": [
          "2019-08-01T00:00:00.000000000",
          "2019-08-02T00:00:00.000000000",
          "2019-08-03T00:00:00.000000000",
          "2019-08-04T00:00:00.000000000",
          "2019-08-05T00:00:00.000000000",
          "2019-08-06T00:00:00.000000000",
          "2019-08-07T00:00:00.000000000",
          "2019-08-08T00:00:00.000000000",
          "2019-08-09T00:00:00.000000000",
          "2019-08-10T00:00:00.000000000",
          "2019-08-11T00:00:00.000000000",
          "2019-08-12T00:00:00.000000000",
          "2019-08-13T00:00:00.000000000",
          "2019-08-14T00:00:00.000000000",
          "2019-08-15T00:00:00.000000000",
          "2019-08-16T00:00:00.000000000",
          "2019-08-17T00:00:00.000000000",
          "2019-08-18T00:00:00.000000000",
          "2019-08-19T00:00:00.000000000",
          "2019-08-20T00:00:00.000000000",
          "2019-08-21T00:00:00.000000000",
          "2019-08-22T00:00:00.000000000",
          "2019-08-23T00:00:00.000000000",
          "2019-08-24T00:00:00.000000000",
          "2019-08-25T00:00:00.000000000",
          "2019-08-26T00:00:00.000000000",
          "2019-08-27T00:00:00.000000000",
          "2019-08-28T00:00:00.000000000",
          "2019-08-29T00:00:00.000000000",
          "2019-08-30T00:00:00.000000000",
          "2019-08-31T00:00:00.000000000"
         ],
         "xaxis": "x",
         "y": {
          "bdata": "HwdUrCQXoT8I3HU8StagP4q9QoPW3qI/O9q8T3HJoD9OzDyC3NGgPzliF1QzUaA/YntlwbsJoD80BCY69nefP1wyBOto854/XzbFfH6Pnz/Lq93JoDieP6O0ud98F58/22ARGRsFnj/j2PMGFUyeP7tTcFks650/Lhj1U5+tnj+U9tKP5HKePzyHxs1wL54/zwpJ8srRnj9fi8la0l+ePx+uHq4erp4/7bmLOl6Cnj9rNWpielKfP4gffvjhh58/RCrDgNznnj8f9IYe9IaeP+95z3ve854/pScGJB7lnj+iECQItimfP678ASTb8J4/acVDTj5xnj8=",
          "dtype": "f8"
         },
         "yaxis": "y"
        },
        {
         "hovertemplate": "группа=B<br>дата=%{x}<br>коверсия=%{y}<extra></extra>",
         "legendgroup": "B",
         "line": {
          "color": "#EF553B",
          "dash": "solid",
          "width": 3
         },
         "marker": {
          "symbol": "circle"
         },
         "mode": "lines",
         "name": "B",
         "orientation": "v",
         "showlegend": true,
         "type": "scatter",
         "x": [
          "2019-08-01T00:00:00.000000000",
          "2019-08-02T00:00:00.000000000",
          "2019-08-03T00:00:00.000000000",
          "2019-08-04T00:00:00.000000000",
          "2019-08-05T00:00:00.000000000",
          "2019-08-06T00:00:00.000000000",
          "2019-08-07T00:00:00.000000000",
          "2019-08-08T00:00:00.000000000",
          "2019-08-09T00:00:00.000000000",
          "2019-08-10T00:00:00.000000000",
          "2019-08-11T00:00:00.000000000",
          "2019-08-12T00:00:00.000000000",
          "2019-08-13T00:00:00.000000000",
          "2019-08-14T00:00:00.000000000",
          "2019-08-15T00:00:00.000000000",
          "2019-08-16T00:00:00.000000000",
          "2019-08-17T00:00:00.000000000",
          "2019-08-18T00:00:00.000000000",
          "2019-08-19T00:00:00.000000000",
          "2019-08-20T00:00:00.000000000",
          "2019-08-21T00:00:00.000000000",
          "2019-08-22T00:00:00.000000000",
          "2019-08-23T00:00:00.000000000",
          "2019-08-24T00:00:00.000000000",
          "2019-08-25T00:00:00.000000000",
          "2019-08-26T00:00:00.000000000",
          "2019-08-27T00:00:00.000000000",
          "2019-08-28T00:00:00.000000000",
          "2019-08-29T00:00:00.000000000",
          "2019-08-30T00:00:00.000000000",
          "2019-08-31T00:00:00.000000000"
         ],
         "xaxis": "x",
         "y": {
          "bdata": "mJgfaO4onj/Cg3UxJc6hP4SU/l1+UqE/zTo1TdgKnz+I34H4HYifP7f4j4XlyKA/OOQNeUPeoD9IYl+tLmWhPxcyU6AHxKE/DiQcdvCYoj/lUrlR6aGhP+16D1im7KE/uhvaxD+PoT9dW4Fj1mmhPxSuR+F6FKI/C7QWKGBboj+/LxMZoU2iP06CrssYgqE/GqKRnPeyoT+Bbs+y2bmhP436lIYoYaE/z76Iap19oT+TQ42il1uhP16sYL18eKE/1dIaCQopoT8gyz/6eDyhPyOHipke+6A/NKh66kMroT+qmBADgTuhPwevebGUcaE/vF76p6lSoT8=",
          "dtype": "f8"
         },
         "yaxis": "y"
        }
       ],
       "layout": {
        "legend": {
         "title": {
          "text": "группа"
         },
         "tracegroupgap": 0
        },
        "margin": {
         "t": 60
        },
        "shapes": [
         {
          "line": {
           "color": "red",
           "dash": "dot"
          },
          "type": "line",
          "x0": 0,
          "x1": 1,
          "xref": "x domain",
          "y0": 0.034,
          "y1": 0.034,
          "yref": "y"
         },
         {
          "line": {
           "color": "blue",
           "dash": "dot"
          },
          "type": "line",
          "x0": 0,
          "x1": 1,
          "xref": "x domain",
          "y0": 0.03,
          "y1": 0.03,
          "yref": "y"
         }
        ],
        "template": {
         "data": {
          "bar": [
           {
            "error_x": {
             "color": "#2a3f5f"
            },
            "error_y": {
             "color": "#2a3f5f"
            },
            "marker": {
             "line": {
              "color": "#E5ECF6",
              "width": 0.5
             },
             "pattern": {
              "fillmode": "overlay",
              "size": 10,
              "solidity": 0.2
             }
            },
            "type": "bar"
           }
          ],
          "barpolar": [
           {
            "marker": {
             "line": {
              "color": "#E5ECF6",
              "width": 0.5
             },
             "pattern": {
              "fillmode": "overlay",
              "size": 10,
              "solidity": 0.2
             }
            },
            "type": "barpolar"
           }
          ],
          "carpet": [
           {
            "aaxis": {
             "endlinecolor": "#2a3f5f",
             "gridcolor": "white",
             "linecolor": "white",
             "minorgridcolor": "white",
             "startlinecolor": "#2a3f5f"
            },
            "baxis": {
             "endlinecolor": "#2a3f5f",
             "gridcolor": "white",
             "linecolor": "white",
             "minorgridcolor": "white",
             "startlinecolor": "#2a3f5f"
            },
            "type": "carpet"
           }
          ],
          "choropleth": [
           {
            "colorbar": {
             "outlinewidth": 0,
             "ticks": ""
            },
            "type": "choropleth"
           }
          ],
          "contour": [
           {
            "colorbar": {
             "outlinewidth": 0,
             "ticks": ""
            },
            "colorscale": [
             [
              0,
              "#0d0887"
             ],
             [
              0.1111111111111111,
              "#46039f"
             ],
             [
              0.2222222222222222,
              "#7201a8"
             ],
             [
              0.3333333333333333,
              "#9c179e"
             ],
             [
              0.4444444444444444,
              "#bd3786"
             ],
             [
              0.5555555555555556,
              "#d8576b"
             ],
             [
              0.6666666666666666,
              "#ed7953"
             ],
             [
              0.7777777777777778,
              "#fb9f3a"
             ],
             [
              0.8888888888888888,
              "#fdca26"
             ],
             [
              1,
              "#f0f921"
             ]
            ],
            "type": "contour"
           }
          ],
          "contourcarpet": [
           {
            "colorbar": {
             "outlinewidth": 0,
             "ticks": ""
            },
            "type": "contourcarpet"
           }
          ],
          "heatmap": [
           {
            "colorbar": {
             "outlinewidth": 0,
             "ticks": ""
            },
            "colorscale": [
             [
              0,
              "#0d0887"
             ],
             [
              0.1111111111111111,
              "#46039f"
             ],
             [
              0.2222222222222222,
              "#7201a8"
             ],
             [
              0.3333333333333333,
              "#9c179e"
             ],
             [
              0.4444444444444444,
              "#bd3786"
             ],
             [
              0.5555555555555556,
              "#d8576b"
             ],
             [
              0.6666666666666666,
              "#ed7953"
             ],
             [
              0.7777777777777778,
              "#fb9f3a"
             ],
             [
              0.8888888888888888,
              "#fdca26"
             ],
             [
              1,
              "#f0f921"
             ]
            ],
            "type": "heatmap"
           }
          ],
          "histogram": [
           {
            "marker": {
             "pattern": {
              "fillmode": "overlay",
              "size": 10,
              "solidity": 0.2
             }
            },
            "type": "histogram"
           }
          ],
          "histogram2d": [
           {
            "colorbar": {
             "outlinewidth": 0,
             "ticks": ""
            },
            "colorscale": [
             [
              0,
              "#0d0887"
             ],
             [
              0.1111111111111111,
              "#46039f"
             ],
             [
              0.2222222222222222,
              "#7201a8"
             ],
             [
              0.3333333333333333,
              "#9c179e"
             ],
             [
              0.4444444444444444,
              "#bd3786"
             ],
             [
              0.5555555555555556,
              "#d8576b"
             ],
             [
              0.6666666666666666,
              "#ed7953"
             ],
             [
              0.7777777777777778,
              "#fb9f3a"
             ],
             [
              0.8888888888888888,
              "#fdca26"
             ],
             [
              1,
              "#f0f921"
             ]
            ],
            "type": "histogram2d"
           }
          ],
          "histogram2dcontour": [
           {
            "colorbar": {
             "outlinewidth": 0,
             "ticks": ""
            },
            "colorscale": [
             [
              0,
              "#0d0887"
             ],
             [
              0.1111111111111111,
              "#46039f"
             ],
             [
              0.2222222222222222,
              "#7201a8"
             ],
             [
              0.3333333333333333,
              "#9c179e"
             ],
             [
              0.4444444444444444,
              "#bd3786"
             ],
             [
              0.5555555555555556,
              "#d8576b"
             ],
             [
              0.6666666666666666,
              "#ed7953"
             ],
             [
              0.7777777777777778,
              "#fb9f3a"
             ],
             [
              0.8888888888888888,
              "#fdca26"
             ],
             [
              1,
              "#f0f921"
             ]
            ],
            "type": "histogram2dcontour"
           }
          ],
          "mesh3d": [
           {
            "colorbar": {
             "outlinewidth": 0,
             "ticks": ""
            },
            "type": "mesh3d"
           }
          ],
          "parcoords": [
           {
            "line": {
             "colorbar": {
              "outlinewidth": 0,
              "ticks": ""
             }
            },
            "type": "parcoords"
           }
          ],
          "pie": [
           {
            "automargin": true,
            "type": "pie"
           }
          ],
          "scatter": [
           {
            "fillpattern": {
             "fillmode": "overlay",
             "size": 10,
             "solidity": 0.2
            },
            "type": "scatter"
           }
          ],
          "scatter3d": [
           {
            "line": {
             "colorbar": {
              "outlinewidth": 0,
              "ticks": ""
             }
            },
            "marker": {
             "colorbar": {
              "outlinewidth": 0,
              "ticks": ""
             }
            },
            "type": "scatter3d"
           }
          ],
          "scattercarpet": [
           {
            "marker": {
             "colorbar": {
              "outlinewidth": 0,
              "ticks": ""
             }
            },
            "type": "scattercarpet"
           }
          ],
          "scattergeo": [
           {
            "marker": {
             "colorbar": {
              "outlinewidth": 0,
              "ticks": ""
             }
            },
            "type": "scattergeo"
           }
          ],
          "scattergl": [
           {
            "marker": {
             "colorbar": {
              "outlinewidth": 0,
              "ticks": ""
             }
            },
            "type": "scattergl"
           }
          ],
          "scattermap": [
           {
            "marker": {
             "colorbar": {
              "outlinewidth": 0,
              "ticks": ""
             }
            },
            "type": "scattermap"
           }
          ],
          "scattermapbox": [
           {
            "marker": {
             "colorbar": {
              "outlinewidth": 0,
              "ticks": ""
             }
            },
            "type": "scattermapbox"
           }
          ],
          "scatterpolar": [
           {
            "marker": {
             "colorbar": {
              "outlinewidth": 0,
              "ticks": ""
             }
            },
            "type": "scatterpolar"
           }
          ],
          "scatterpolargl": [
           {
            "marker": {
             "colorbar": {
              "outlinewidth": 0,
              "ticks": ""
             }
            },
            "type": "scatterpolargl"
           }
          ],
          "scatterternary": [
           {
            "marker": {
             "colorbar": {
              "outlinewidth": 0,
              "ticks": ""
             }
            },
            "type": "scatterternary"
           }
          ],
          "surface": [
           {
            "colorbar": {
             "outlinewidth": 0,
             "ticks": ""
            },
            "colorscale": [
             [
              0,
              "#0d0887"
             ],
             [
              0.1111111111111111,
              "#46039f"
             ],
             [
              0.2222222222222222,
              "#7201a8"
             ],
             [
              0.3333333333333333,
              "#9c179e"
             ],
             [
              0.4444444444444444,
              "#bd3786"
             ],
             [
              0.5555555555555556,
              "#d8576b"
             ],
             [
              0.6666666666666666,
              "#ed7953"
             ],
             [
              0.7777777777777778,
              "#fb9f3a"
             ],
             [
              0.8888888888888888,
              "#fdca26"
             ],
             [
              1,
              "#f0f921"
             ]
            ],
            "type": "surface"
           }
          ],
          "table": [
           {
            "cells": {
             "fill": {
              "color": "#EBF0F8"
             },
             "line": {
              "color": "white"
             }
            },
            "header": {
             "fill": {
              "color": "#C8D4E3"
             },
             "line": {
              "color": "white"
             }
            },
            "type": "table"
           }
          ]
         },
         "layout": {
          "annotationdefaults": {
           "arrowcolor": "#2a3f5f",
           "arrowhead": 0,
           "arrowwidth": 1
          },
          "autotypenumbers": "strict",
          "coloraxis": {
           "colorbar": {
            "outlinewidth": 0,
            "ticks": ""
           }
          },
          "colorscale": {
           "diverging": [
            [
             0,
             "#8e0152"
            ],
            [
             0.1,
             "#c51b7d"
            ],
            [
             0.2,
             "#de77ae"
            ],
            [
             0.3,
             "#f1b6da"
            ],
            [
             0.4,
             "#fde0ef"
            ],
            [
             0.5,
             "#f7f7f7"
            ],
            [
             0.6,
             "#e6f5d0"
            ],
            [
             0.7,
             "#b8e186"
            ],
            [
             0.8,
             "#7fbc41"
            ],
            [
             0.9,
             "#4d9221"
            ],
            [
             1,
             "#276419"
            ]
           ],
           "sequential": [
            [
             0,
             "#0d0887"
            ],
            [
             0.1111111111111111,
             "#46039f"
            ],
            [
             0.2222222222222222,
             "#7201a8"
            ],
            [
             0.3333333333333333,
             "#9c179e"
            ],
            [
             0.4444444444444444,
             "#bd3786"
            ],
            [
             0.5555555555555556,
             "#d8576b"
            ],
            [
             0.6666666666666666,
             "#ed7953"
            ],
            [
             0.7777777777777778,
             "#fb9f3a"
            ],
            [
             0.8888888888888888,
             "#fdca26"
            ],
            [
             1,
             "#f0f921"
            ]
           ],
           "sequentialminus": [
            [
             0,
             "#0d0887"
            ],
            [
             0.1111111111111111,
             "#46039f"
            ],
            [
             0.2222222222222222,
             "#7201a8"
            ],
            [
             0.3333333333333333,
             "#9c179e"
            ],
            [
             0.4444444444444444,
             "#bd3786"
            ],
            [
             0.5555555555555556,
             "#d8576b"
            ],
            [
             0.6666666666666666,
             "#ed7953"
            ],
            [
             0.7777777777777778,
             "#fb9f3a"
            ],
            [
             0.8888888888888888,
             "#fdca26"
            ],
            [
             1,
             "#f0f921"
            ]
           ]
          },
          "colorway": [
           "#636efa",
           "#EF553B",
           "#00cc96",
           "#ab63fa",
           "#FFA15A",
           "#19d3f3",
           "#FF6692",
           "#B6E880",
           "#FF97FF",
           "#FECB52"
          ],
          "font": {
           "color": "#2a3f5f"
          },
          "geo": {
           "bgcolor": "white",
           "lakecolor": "white",
           "landcolor": "#E5ECF6",
           "showlakes": true,
           "showland": true,
           "subunitcolor": "white"
          },
          "hoverlabel": {
           "align": "left"
          },
          "hovermode": "closest",
          "mapbox": {
           "style": "light"
          },
          "paper_bgcolor": "white",
          "plot_bgcolor": "#E5ECF6",
          "polar": {
           "angularaxis": {
            "gridcolor": "white",
            "linecolor": "white",
            "ticks": ""
           },
           "bgcolor": "#E5ECF6",
           "radialaxis": {
            "gridcolor": "white",
            "linecolor": "white",
            "ticks": ""
           }
          },
          "scene": {
           "xaxis": {
            "backgroundcolor": "#E5ECF6",
            "gridcolor": "white",
            "gridwidth": 2,
            "linecolor": "white",
            "showbackground": true,
            "ticks": "",
            "zerolinecolor": "white"
           },
           "yaxis": {
            "backgroundcolor": "#E5ECF6",
            "gridcolor": "white",
            "gridwidth": 2,
            "linecolor": "white",
            "showbackground": true,
            "ticks": "",
            "zerolinecolor": "white"
           },
           "zaxis": {
            "backgroundcolor": "#E5ECF6",
            "gridcolor": "white",
            "gridwidth": 2,
            "linecolor": "white",
            "showbackground": true,
            "ticks": "",
            "zerolinecolor": "white"
           }
          },
          "shapedefaults": {
           "line": {
            "color": "#2a3f5f"
           }
          },
          "ternary": {
           "aaxis": {
            "gridcolor": "white",
            "linecolor": "white",
            "ticks": ""
           },
           "baxis": {
            "gridcolor": "white",
            "linecolor": "white",
            "ticks": ""
           },
           "bgcolor": "#E5ECF6",
           "caxis": {
            "gridcolor": "white",
            "linecolor": "white",
            "ticks": ""
           }
          },
          "title": {
           "x": 0.05
          },
          "xaxis": {
           "automargin": true,
           "gridcolor": "white",
           "linecolor": "white",
           "ticks": "",
           "title": {
            "standoff": 15
           },
           "zerolinecolor": "white",
           "zerolinewidth": 2
          },
          "yaxis": {
           "automargin": true,
           "gridcolor": "white",
           "linecolor": "white",
           "ticks": "",
           "title": {
            "standoff": 15
           },
           "zerolinecolor": "white",
           "zerolinewidth": 2
          }
         }
        },
        "title": {
         "text": "Кумулятивное ср. кол-во заказов на посетителя по группам"
        },
        "width": 800,
        "xaxis": {
         "anchor": "y",
         "domain": [
          0,
          1
         ],
         "title": {
          "text": "дата"
         }
        },
        "yaxis": {
         "anchor": "x",
         "domain": [
          0,
          1
         ],
         "title": {
          "text": "коверсия"
         }
        }
       }
      },
      "text/html": [
       "<div>            <script src=\"https://cdnjs.cloudflare.com/ajax/libs/mathjax/2.7.5/MathJax.js?config=TeX-AMS-MML_SVG\"></script><script type=\"text/javascript\">if (window.MathJax && window.MathJax.Hub && window.MathJax.Hub.Config) {window.MathJax.Hub.Config({SVG: {font: \"STIX-Web\"}});}</script>                <script type=\"text/javascript\">window.PlotlyConfig = {MathJaxConfig: 'local'};</script>\n",
       "        <script charset=\"utf-8\" src=\"https://cdn.plot.ly/plotly-3.0.1.min.js\"></script>                <div id=\"01469262-e1ec-4f3f-b950-c5ed557e8c98\" class=\"plotly-graph-div\" style=\"height:525px; width:800px;\"></div>            <script type=\"text/javascript\">                window.PLOTLYENV=window.PLOTLYENV || {};                                if (document.getElementById(\"01469262-e1ec-4f3f-b950-c5ed557e8c98\")) {                    Plotly.newPlot(                        \"01469262-e1ec-4f3f-b950-c5ed557e8c98\",                        [{\"hovertemplate\":\"\\u0433\\u0440\\u0443\\u043f\\u043f\\u0430=A\\u003cbr\\u003e\\u0434\\u0430\\u0442\\u0430=%{x}\\u003cbr\\u003e\\u043a\\u043e\\u0432\\u0435\\u0440\\u0441\\u0438\\u044f=%{y}\\u003cextra\\u003e\\u003c\\u002fextra\\u003e\",\"legendgroup\":\"A\",\"line\":{\"color\":\"#636efa\",\"dash\":\"solid\",\"width\":3},\"marker\":{\"symbol\":\"circle\"},\"mode\":\"lines\",\"name\":\"A\",\"orientation\":\"v\",\"showlegend\":true,\"x\":[\"2019-08-01T00:00:00.000000000\",\"2019-08-02T00:00:00.000000000\",\"2019-08-03T00:00:00.000000000\",\"2019-08-04T00:00:00.000000000\",\"2019-08-05T00:00:00.000000000\",\"2019-08-06T00:00:00.000000000\",\"2019-08-07T00:00:00.000000000\",\"2019-08-08T00:00:00.000000000\",\"2019-08-09T00:00:00.000000000\",\"2019-08-10T00:00:00.000000000\",\"2019-08-11T00:00:00.000000000\",\"2019-08-12T00:00:00.000000000\",\"2019-08-13T00:00:00.000000000\",\"2019-08-14T00:00:00.000000000\",\"2019-08-15T00:00:00.000000000\",\"2019-08-16T00:00:00.000000000\",\"2019-08-17T00:00:00.000000000\",\"2019-08-18T00:00:00.000000000\",\"2019-08-19T00:00:00.000000000\",\"2019-08-20T00:00:00.000000000\",\"2019-08-21T00:00:00.000000000\",\"2019-08-22T00:00:00.000000000\",\"2019-08-23T00:00:00.000000000\",\"2019-08-24T00:00:00.000000000\",\"2019-08-25T00:00:00.000000000\",\"2019-08-26T00:00:00.000000000\",\"2019-08-27T00:00:00.000000000\",\"2019-08-28T00:00:00.000000000\",\"2019-08-29T00:00:00.000000000\",\"2019-08-30T00:00:00.000000000\",\"2019-08-31T00:00:00.000000000\"],\"xaxis\":\"x\",\"y\":{\"dtype\":\"f8\",\"bdata\":\"HwdUrCQXoT8I3HU8StagP4q9QoPW3qI\\u002fO9q8T3HJoD9OzDyC3NGgPzliF1QzUaA\\u002fYntlwbsJoD80BCY69nefP1wyBOto854\\u002fXzbFfH6Pnz\\u002fLq93JoDieP6O0ud98F58\\u002f22ARGRsFnj\\u002fj2PMGFUyeP7tTcFks650\\u002fLhj1U5+tnj+U9tKP5HKePzyHxs1wL54\\u002fzwpJ8srRnj9fi8la0l+ePx+uHq4erp4\\u002f7bmLOl6Cnj9rNWpielKfP4gffvjhh58\\u002fRCrDgNznnj8f9IYe9IaeP+95z3ve854\\u002fpScGJB7lnj+iECQItimfP678ASTb8J4\\u002facVDTj5xnj8=\"},\"yaxis\":\"y\",\"type\":\"scatter\"},{\"hovertemplate\":\"\\u0433\\u0440\\u0443\\u043f\\u043f\\u0430=B\\u003cbr\\u003e\\u0434\\u0430\\u0442\\u0430=%{x}\\u003cbr\\u003e\\u043a\\u043e\\u0432\\u0435\\u0440\\u0441\\u0438\\u044f=%{y}\\u003cextra\\u003e\\u003c\\u002fextra\\u003e\",\"legendgroup\":\"B\",\"line\":{\"color\":\"#EF553B\",\"dash\":\"solid\",\"width\":3},\"marker\":{\"symbol\":\"circle\"},\"mode\":\"lines\",\"name\":\"B\",\"orientation\":\"v\",\"showlegend\":true,\"x\":[\"2019-08-01T00:00:00.000000000\",\"2019-08-02T00:00:00.000000000\",\"2019-08-03T00:00:00.000000000\",\"2019-08-04T00:00:00.000000000\",\"2019-08-05T00:00:00.000000000\",\"2019-08-06T00:00:00.000000000\",\"2019-08-07T00:00:00.000000000\",\"2019-08-08T00:00:00.000000000\",\"2019-08-09T00:00:00.000000000\",\"2019-08-10T00:00:00.000000000\",\"2019-08-11T00:00:00.000000000\",\"2019-08-12T00:00:00.000000000\",\"2019-08-13T00:00:00.000000000\",\"2019-08-14T00:00:00.000000000\",\"2019-08-15T00:00:00.000000000\",\"2019-08-16T00:00:00.000000000\",\"2019-08-17T00:00:00.000000000\",\"2019-08-18T00:00:00.000000000\",\"2019-08-19T00:00:00.000000000\",\"2019-08-20T00:00:00.000000000\",\"2019-08-21T00:00:00.000000000\",\"2019-08-22T00:00:00.000000000\",\"2019-08-23T00:00:00.000000000\",\"2019-08-24T00:00:00.000000000\",\"2019-08-25T00:00:00.000000000\",\"2019-08-26T00:00:00.000000000\",\"2019-08-27T00:00:00.000000000\",\"2019-08-28T00:00:00.000000000\",\"2019-08-29T00:00:00.000000000\",\"2019-08-30T00:00:00.000000000\",\"2019-08-31T00:00:00.000000000\"],\"xaxis\":\"x\",\"y\":{\"dtype\":\"f8\",\"bdata\":\"mJgfaO4onj\\u002fCg3UxJc6hP4SU\\u002fl1+UqE\\u002fzTo1TdgKnz+I34H4HYifP7f4j4XlyKA\\u002fOOQNeUPeoD9IYl+tLmWhPxcyU6AHxKE\\u002fDiQcdvCYoj\\u002flUrlR6aGhP+16D1im7KE\\u002fuhvaxD+PoT9dW4Fj1mmhPxSuR+F6FKI\\u002fC7QWKGBboj+\\u002fLxMZoU2iP06CrssYgqE\\u002fGqKRnPeyoT+Bbs+y2bmhP436lIYoYaE\\u002fz76Iap19oT+TQ42il1uhP16sYL18eKE\\u002f1dIaCQopoT8gyz\\u002f6eDyhPyOHipke+6A\\u002fNKh66kMroT+qmBADgTuhPwevebGUcaE\\u002fvF76p6lSoT8=\"},\"yaxis\":\"y\",\"type\":\"scatter\"}],                        {\"template\":{\"data\":{\"histogram2dcontour\":[{\"type\":\"histogram2dcontour\",\"colorbar\":{\"outlinewidth\":0,\"ticks\":\"\"},\"colorscale\":[[0.0,\"#0d0887\"],[0.1111111111111111,\"#46039f\"],[0.2222222222222222,\"#7201a8\"],[0.3333333333333333,\"#9c179e\"],[0.4444444444444444,\"#bd3786\"],[0.5555555555555556,\"#d8576b\"],[0.6666666666666666,\"#ed7953\"],[0.7777777777777778,\"#fb9f3a\"],[0.8888888888888888,\"#fdca26\"],[1.0,\"#f0f921\"]]}],\"choropleth\":[{\"type\":\"choropleth\",\"colorbar\":{\"outlinewidth\":0,\"ticks\":\"\"}}],\"histogram2d\":[{\"type\":\"histogram2d\",\"colorbar\":{\"outlinewidth\":0,\"ticks\":\"\"},\"colorscale\":[[0.0,\"#0d0887\"],[0.1111111111111111,\"#46039f\"],[0.2222222222222222,\"#7201a8\"],[0.3333333333333333,\"#9c179e\"],[0.4444444444444444,\"#bd3786\"],[0.5555555555555556,\"#d8576b\"],[0.6666666666666666,\"#ed7953\"],[0.7777777777777778,\"#fb9f3a\"],[0.8888888888888888,\"#fdca26\"],[1.0,\"#f0f921\"]]}],\"heatmap\":[{\"type\":\"heatmap\",\"colorbar\":{\"outlinewidth\":0,\"ticks\":\"\"},\"colorscale\":[[0.0,\"#0d0887\"],[0.1111111111111111,\"#46039f\"],[0.2222222222222222,\"#7201a8\"],[0.3333333333333333,\"#9c179e\"],[0.4444444444444444,\"#bd3786\"],[0.5555555555555556,\"#d8576b\"],[0.6666666666666666,\"#ed7953\"],[0.7777777777777778,\"#fb9f3a\"],[0.8888888888888888,\"#fdca26\"],[1.0,\"#f0f921\"]]}],\"contourcarpet\":[{\"type\":\"contourcarpet\",\"colorbar\":{\"outlinewidth\":0,\"ticks\":\"\"}}],\"contour\":[{\"type\":\"contour\",\"colorbar\":{\"outlinewidth\":0,\"ticks\":\"\"},\"colorscale\":[[0.0,\"#0d0887\"],[0.1111111111111111,\"#46039f\"],[0.2222222222222222,\"#7201a8\"],[0.3333333333333333,\"#9c179e\"],[0.4444444444444444,\"#bd3786\"],[0.5555555555555556,\"#d8576b\"],[0.6666666666666666,\"#ed7953\"],[0.7777777777777778,\"#fb9f3a\"],[0.8888888888888888,\"#fdca26\"],[1.0,\"#f0f921\"]]}],\"surface\":[{\"type\":\"surface\",\"colorbar\":{\"outlinewidth\":0,\"ticks\":\"\"},\"colorscale\":[[0.0,\"#0d0887\"],[0.1111111111111111,\"#46039f\"],[0.2222222222222222,\"#7201a8\"],[0.3333333333333333,\"#9c179e\"],[0.4444444444444444,\"#bd3786\"],[0.5555555555555556,\"#d8576b\"],[0.6666666666666666,\"#ed7953\"],[0.7777777777777778,\"#fb9f3a\"],[0.8888888888888888,\"#fdca26\"],[1.0,\"#f0f921\"]]}],\"mesh3d\":[{\"type\":\"mesh3d\",\"colorbar\":{\"outlinewidth\":0,\"ticks\":\"\"}}],\"scatter\":[{\"fillpattern\":{\"fillmode\":\"overlay\",\"size\":10,\"solidity\":0.2},\"type\":\"scatter\"}],\"parcoords\":[{\"type\":\"parcoords\",\"line\":{\"colorbar\":{\"outlinewidth\":0,\"ticks\":\"\"}}}],\"scatterpolargl\":[{\"type\":\"scatterpolargl\",\"marker\":{\"colorbar\":{\"outlinewidth\":0,\"ticks\":\"\"}}}],\"bar\":[{\"error_x\":{\"color\":\"#2a3f5f\"},\"error_y\":{\"color\":\"#2a3f5f\"},\"marker\":{\"line\":{\"color\":\"#E5ECF6\",\"width\":0.5},\"pattern\":{\"fillmode\":\"overlay\",\"size\":10,\"solidity\":0.2}},\"type\":\"bar\"}],\"scattergeo\":[{\"type\":\"scattergeo\",\"marker\":{\"colorbar\":{\"outlinewidth\":0,\"ticks\":\"\"}}}],\"scatterpolar\":[{\"type\":\"scatterpolar\",\"marker\":{\"colorbar\":{\"outlinewidth\":0,\"ticks\":\"\"}}}],\"histogram\":[{\"marker\":{\"pattern\":{\"fillmode\":\"overlay\",\"size\":10,\"solidity\":0.2}},\"type\":\"histogram\"}],\"scattergl\":[{\"type\":\"scattergl\",\"marker\":{\"colorbar\":{\"outlinewidth\":0,\"ticks\":\"\"}}}],\"scatter3d\":[{\"type\":\"scatter3d\",\"line\":{\"colorbar\":{\"outlinewidth\":0,\"ticks\":\"\"}},\"marker\":{\"colorbar\":{\"outlinewidth\":0,\"ticks\":\"\"}}}],\"scattermap\":[{\"type\":\"scattermap\",\"marker\":{\"colorbar\":{\"outlinewidth\":0,\"ticks\":\"\"}}}],\"scattermapbox\":[{\"type\":\"scattermapbox\",\"marker\":{\"colorbar\":{\"outlinewidth\":0,\"ticks\":\"\"}}}],\"scatterternary\":[{\"type\":\"scatterternary\",\"marker\":{\"colorbar\":{\"outlinewidth\":0,\"ticks\":\"\"}}}],\"scattercarpet\":[{\"type\":\"scattercarpet\",\"marker\":{\"colorbar\":{\"outlinewidth\":0,\"ticks\":\"\"}}}],\"carpet\":[{\"aaxis\":{\"endlinecolor\":\"#2a3f5f\",\"gridcolor\":\"white\",\"linecolor\":\"white\",\"minorgridcolor\":\"white\",\"startlinecolor\":\"#2a3f5f\"},\"baxis\":{\"endlinecolor\":\"#2a3f5f\",\"gridcolor\":\"white\",\"linecolor\":\"white\",\"minorgridcolor\":\"white\",\"startlinecolor\":\"#2a3f5f\"},\"type\":\"carpet\"}],\"table\":[{\"cells\":{\"fill\":{\"color\":\"#EBF0F8\"},\"line\":{\"color\":\"white\"}},\"header\":{\"fill\":{\"color\":\"#C8D4E3\"},\"line\":{\"color\":\"white\"}},\"type\":\"table\"}],\"barpolar\":[{\"marker\":{\"line\":{\"color\":\"#E5ECF6\",\"width\":0.5},\"pattern\":{\"fillmode\":\"overlay\",\"size\":10,\"solidity\":0.2}},\"type\":\"barpolar\"}],\"pie\":[{\"automargin\":true,\"type\":\"pie\"}]},\"layout\":{\"autotypenumbers\":\"strict\",\"colorway\":[\"#636efa\",\"#EF553B\",\"#00cc96\",\"#ab63fa\",\"#FFA15A\",\"#19d3f3\",\"#FF6692\",\"#B6E880\",\"#FF97FF\",\"#FECB52\"],\"font\":{\"color\":\"#2a3f5f\"},\"hovermode\":\"closest\",\"hoverlabel\":{\"align\":\"left\"},\"paper_bgcolor\":\"white\",\"plot_bgcolor\":\"#E5ECF6\",\"polar\":{\"bgcolor\":\"#E5ECF6\",\"angularaxis\":{\"gridcolor\":\"white\",\"linecolor\":\"white\",\"ticks\":\"\"},\"radialaxis\":{\"gridcolor\":\"white\",\"linecolor\":\"white\",\"ticks\":\"\"}},\"ternary\":{\"bgcolor\":\"#E5ECF6\",\"aaxis\":{\"gridcolor\":\"white\",\"linecolor\":\"white\",\"ticks\":\"\"},\"baxis\":{\"gridcolor\":\"white\",\"linecolor\":\"white\",\"ticks\":\"\"},\"caxis\":{\"gridcolor\":\"white\",\"linecolor\":\"white\",\"ticks\":\"\"}},\"coloraxis\":{\"colorbar\":{\"outlinewidth\":0,\"ticks\":\"\"}},\"colorscale\":{\"sequential\":[[0.0,\"#0d0887\"],[0.1111111111111111,\"#46039f\"],[0.2222222222222222,\"#7201a8\"],[0.3333333333333333,\"#9c179e\"],[0.4444444444444444,\"#bd3786\"],[0.5555555555555556,\"#d8576b\"],[0.6666666666666666,\"#ed7953\"],[0.7777777777777778,\"#fb9f3a\"],[0.8888888888888888,\"#fdca26\"],[1.0,\"#f0f921\"]],\"sequentialminus\":[[0.0,\"#0d0887\"],[0.1111111111111111,\"#46039f\"],[0.2222222222222222,\"#7201a8\"],[0.3333333333333333,\"#9c179e\"],[0.4444444444444444,\"#bd3786\"],[0.5555555555555556,\"#d8576b\"],[0.6666666666666666,\"#ed7953\"],[0.7777777777777778,\"#fb9f3a\"],[0.8888888888888888,\"#fdca26\"],[1.0,\"#f0f921\"]],\"diverging\":[[0,\"#8e0152\"],[0.1,\"#c51b7d\"],[0.2,\"#de77ae\"],[0.3,\"#f1b6da\"],[0.4,\"#fde0ef\"],[0.5,\"#f7f7f7\"],[0.6,\"#e6f5d0\"],[0.7,\"#b8e186\"],[0.8,\"#7fbc41\"],[0.9,\"#4d9221\"],[1,\"#276419\"]]},\"xaxis\":{\"gridcolor\":\"white\",\"linecolor\":\"white\",\"ticks\":\"\",\"title\":{\"standoff\":15},\"zerolinecolor\":\"white\",\"automargin\":true,\"zerolinewidth\":2},\"yaxis\":{\"gridcolor\":\"white\",\"linecolor\":\"white\",\"ticks\":\"\",\"title\":{\"standoff\":15},\"zerolinecolor\":\"white\",\"automargin\":true,\"zerolinewidth\":2},\"scene\":{\"xaxis\":{\"backgroundcolor\":\"#E5ECF6\",\"gridcolor\":\"white\",\"linecolor\":\"white\",\"showbackground\":true,\"ticks\":\"\",\"zerolinecolor\":\"white\",\"gridwidth\":2},\"yaxis\":{\"backgroundcolor\":\"#E5ECF6\",\"gridcolor\":\"white\",\"linecolor\":\"white\",\"showbackground\":true,\"ticks\":\"\",\"zerolinecolor\":\"white\",\"gridwidth\":2},\"zaxis\":{\"backgroundcolor\":\"#E5ECF6\",\"gridcolor\":\"white\",\"linecolor\":\"white\",\"showbackground\":true,\"ticks\":\"\",\"zerolinecolor\":\"white\",\"gridwidth\":2}},\"shapedefaults\":{\"line\":{\"color\":\"#2a3f5f\"}},\"annotationdefaults\":{\"arrowcolor\":\"#2a3f5f\",\"arrowhead\":0,\"arrowwidth\":1},\"geo\":{\"bgcolor\":\"white\",\"landcolor\":\"#E5ECF6\",\"subunitcolor\":\"white\",\"showland\":true,\"showlakes\":true,\"lakecolor\":\"white\"},\"title\":{\"x\":0.05},\"mapbox\":{\"style\":\"light\"}}},\"xaxis\":{\"anchor\":\"y\",\"domain\":[0.0,1.0],\"title\":{\"text\":\"\\u0434\\u0430\\u0442\\u0430\"}},\"yaxis\":{\"anchor\":\"x\",\"domain\":[0.0,1.0],\"title\":{\"text\":\"\\u043a\\u043e\\u0432\\u0435\\u0440\\u0441\\u0438\\u044f\"}},\"legend\":{\"title\":{\"text\":\"\\u0433\\u0440\\u0443\\u043f\\u043f\\u0430\"},\"tracegroupgap\":0},\"margin\":{\"t\":60},\"width\":800,\"title\":{\"text\":\"\\u041a\\u0443\\u043c\\u0443\\u043b\\u044f\\u0442\\u0438\\u0432\\u043d\\u043e\\u0435 \\u0441\\u0440. \\u043a\\u043e\\u043b-\\u0432\\u043e \\u0437\\u0430\\u043a\\u0430\\u0437\\u043e\\u0432 \\u043d\\u0430 \\u043f\\u043e\\u0441\\u0435\\u0442\\u0438\\u0442\\u0435\\u043b\\u044f \\u043f\\u043e \\u0433\\u0440\\u0443\\u043f\\u043f\\u0430\\u043c\"},\"shapes\":[{\"line\":{\"color\":\"red\",\"dash\":\"dot\"},\"type\":\"line\",\"x0\":0,\"x1\":1,\"xref\":\"x domain\",\"y0\":0.034,\"y1\":0.034,\"yref\":\"y\"},{\"line\":{\"color\":\"blue\",\"dash\":\"dot\"},\"type\":\"line\",\"x0\":0,\"x1\":1,\"xref\":\"x domain\",\"y0\":0.03,\"y1\":0.03,\"yref\":\"y\"}]},                        {\"responsive\": true}                    ).then(function(){\n",
       "                            \n",
       "var gd = document.getElementById('01469262-e1ec-4f3f-b950-c5ed557e8c98');\n",
       "var x = new MutationObserver(function (mutations, observer) {{\n",
       "        var display = window.getComputedStyle(gd).display;\n",
       "        if (!display || display === 'none') {{\n",
       "            console.log([gd, 'removed!']);\n",
       "            Plotly.purge(gd);\n",
       "            observer.disconnect();\n",
       "        }}\n",
       "}});\n",
       "\n",
       "// Listen for the removal of the full notebook cells\n",
       "var notebookContainer = gd.closest('#notebook-container');\n",
       "if (notebookContainer) {{\n",
       "    x.observe(notebookContainer, {childList: true});\n",
       "}}\n",
       "\n",
       "// Listen for the clearing of the current output cell\n",
       "var outputEl = gd.closest('.output');\n",
       "if (outputEl) {{\n",
       "    x.observe(outputEl, {childList: true});\n",
       "}}\n",
       "\n",
       "                        })                };            </script>        </div>"
      ]
     },
     "metadata": {},
     "output_type": "display_data"
    }
   ],
   "source": [
    "fig = px.line(cumulative_data,\n",
    "              x='date',\n",
    "              y=cumulative_data['conversion'],\n",
    "              color='group',\n",
    "              labels={\n",
    "                  'date': 'дата',\n",
    "                  'conversion': 'коверсия',\n",
    "                  'group': 'группа'})\n",
    "\n",
    "fig.update_layout(width=800,\n",
    "                  title='Кумулятивное ср. кол-во заказов на посетителя по группам')\n",
    "\n",
    "fig.add_hline(y=0.034, line_color='red', line_dash='dot')\n",
    "fig.add_hline(y=0.03, line_color='blue', line_dash='dot')\n",
    "fig.update_traces(line_width=3)\n",
    "iplot(fig)"
   ]
  },
  {
   "cell_type": "markdown",
   "metadata": {},
   "source": [
    "Промежуточный вывод:  \n",
    "Конверсия группы В чуть больше конверсии группы А. Показатели стабилизировались\n"
   ]
  },
  {
   "cell_type": "markdown",
   "metadata": {},
   "source": [
    "### Относительное изменение кумулятивного ср. кол-ва заказов на посетителя группы В к группе А"
   ]
  },
  {
   "cell_type": "markdown",
   "metadata": {},
   "source": [
    "Вычислим относительное изменнеие кумулятивного среденего кол-ва заказов , обозначим его за `k`"
   ]
  },
  {
   "cell_type": "code",
   "execution_count": 32,
   "metadata": {
    "trusted": true
   },
   "outputs": [],
   "source": [
    "k = (\n",
    "    (cumulative_conversion_ab['orders_b'] /\n",
    "     cumulative_conversion_ab['visitors_b']\n",
    "     ) \n",
    "    /\n",
    "    (cumulative_conversion_ab['orders_a'] /\n",
    "     cumulative_conversion_ab['visitors_a']\n",
    "     ) - 1\n",
    ")"
   ]
  },
  {
   "cell_type": "markdown",
   "metadata": {},
   "source": [
    "Строрим график"
   ]
  },
  {
   "cell_type": "code",
   "execution_count": null,
   "metadata": {
    "trusted": true
   },
   "outputs": [
    {
     "data": {
      "application/vnd.plotly.v1+json": {
       "config": {
        "plotlyServerURL": "https://plot.ly"
       },
       "data": [
        {
         "hovertemplate": "дата=%{x}<br>относительное изменение, %=%{y}<extra></extra>",
         "legendgroup": "",
         "line": {
          "color": "#636efa",
          "dash": "solid",
          "width": 4
         },
         "marker": {
          "symbol": "circle"
         },
         "mode": "lines",
         "name": "",
         "orientation": "v",
         "showlegend": false,
         "type": "scatter",
         "x": [
          "2019-08-01T00:00:00.000000000",
          "2019-08-02T00:00:00.000000000",
          "2019-08-03T00:00:00.000000000",
          "2019-08-04T00:00:00.000000000",
          "2019-08-05T00:00:00.000000000",
          "2019-08-06T00:00:00.000000000",
          "2019-08-07T00:00:00.000000000",
          "2019-08-08T00:00:00.000000000",
          "2019-08-09T00:00:00.000000000",
          "2019-08-10T00:00:00.000000000",
          "2019-08-11T00:00:00.000000000",
          "2019-08-12T00:00:00.000000000",
          "2019-08-13T00:00:00.000000000",
          "2019-08-14T00:00:00.000000000",
          "2019-08-15T00:00:00.000000000",
          "2019-08-16T00:00:00.000000000",
          "2019-08-17T00:00:00.000000000",
          "2019-08-18T00:00:00.000000000",
          "2019-08-19T00:00:00.000000000",
          "2019-08-20T00:00:00.000000000",
          "2019-08-21T00:00:00.000000000",
          "2019-08-22T00:00:00.000000000",
          "2019-08-23T00:00:00.000000000",
          "2019-08-24T00:00:00.000000000",
          "2019-08-25T00:00:00.000000000",
          "2019-08-26T00:00:00.000000000",
          "2019-08-27T00:00:00.000000000",
          "2019-08-28T00:00:00.000000000",
          "2019-08-29T00:00:00.000000000",
          "2019-08-30T00:00:00.000000000",
          "2019-08-31T00:00:00.000000000"
         ],
         "xaxis": "x",
         "y": {
          "bdata": "DnXqWwCHJ8ADLBjgUgAXQF/92WSvaCDAdtEj+MooHsDSOKBnUxAZwCy9zgR37AZAjEoLV6i0FEBASr9ExRwlQEC5xu6AmS1Ax3rdnzfaMUA/jonBerAwQHLDFU2qmS5A+JiQuGr8MEDCG3hAyeYtQIalaytw3DRA8ZLyQZGsM0AUhaJhGjk0QHS4Jn8zATBAJgCBRX62LUDuIxMQibcwQHkZpRr8lipAayuEjANRLUB2jnT96KolQKyKu9QGoiVAIERgWFEZJkDEDXihANkpQIStDuW8cSNABBUuzNxJJkDRwUK4AzElQHKlNyCQgilAnRS7DqOdK0A=",
          "dtype": "f8"
         },
         "yaxis": "y"
        }
       ],
       "layout": {
        "font": {
         "size": 11
        },
        "legend": {
         "tracegroupgap": 0
        },
        "margin": {
         "t": 60
        },
        "shapes": [
         {
          "line": {
           "color": "red",
           "dash": "dot"
          },
          "type": "line",
          "x0": 0,
          "x1": 1,
          "xref": "x domain",
          "y0": 0,
          "y1": 0,
          "yref": "y"
         }
        ],
        "template": {
         "data": {
          "bar": [
           {
            "error_x": {
             "color": "#2a3f5f"
            },
            "error_y": {
             "color": "#2a3f5f"
            },
            "marker": {
             "line": {
              "color": "#E5ECF6",
              "width": 0.5
             },
             "pattern": {
              "fillmode": "overlay",
              "size": 10,
              "solidity": 0.2
             }
            },
            "type": "bar"
           }
          ],
          "barpolar": [
           {
            "marker": {
             "line": {
              "color": "#E5ECF6",
              "width": 0.5
             },
             "pattern": {
              "fillmode": "overlay",
              "size": 10,
              "solidity": 0.2
             }
            },
            "type": "barpolar"
           }
          ],
          "carpet": [
           {
            "aaxis": {
             "endlinecolor": "#2a3f5f",
             "gridcolor": "white",
             "linecolor": "white",
             "minorgridcolor": "white",
             "startlinecolor": "#2a3f5f"
            },
            "baxis": {
             "endlinecolor": "#2a3f5f",
             "gridcolor": "white",
             "linecolor": "white",
             "minorgridcolor": "white",
             "startlinecolor": "#2a3f5f"
            },
            "type": "carpet"
           }
          ],
          "choropleth": [
           {
            "colorbar": {
             "outlinewidth": 0,
             "ticks": ""
            },
            "type": "choropleth"
           }
          ],
          "contour": [
           {
            "colorbar": {
             "outlinewidth": 0,
             "ticks": ""
            },
            "colorscale": [
             [
              0,
              "#0d0887"
             ],
             [
              0.1111111111111111,
              "#46039f"
             ],
             [
              0.2222222222222222,
              "#7201a8"
             ],
             [
              0.3333333333333333,
              "#9c179e"
             ],
             [
              0.4444444444444444,
              "#bd3786"
             ],
             [
              0.5555555555555556,
              "#d8576b"
             ],
             [
              0.6666666666666666,
              "#ed7953"
             ],
             [
              0.7777777777777778,
              "#fb9f3a"
             ],
             [
              0.8888888888888888,
              "#fdca26"
             ],
             [
              1,
              "#f0f921"
             ]
            ],
            "type": "contour"
           }
          ],
          "contourcarpet": [
           {
            "colorbar": {
             "outlinewidth": 0,
             "ticks": ""
            },
            "type": "contourcarpet"
           }
          ],
          "heatmap": [
           {
            "colorbar": {
             "outlinewidth": 0,
             "ticks": ""
            },
            "colorscale": [
             [
              0,
              "#0d0887"
             ],
             [
              0.1111111111111111,
              "#46039f"
             ],
             [
              0.2222222222222222,
              "#7201a8"
             ],
             [
              0.3333333333333333,
              "#9c179e"
             ],
             [
              0.4444444444444444,
              "#bd3786"
             ],
             [
              0.5555555555555556,
              "#d8576b"
             ],
             [
              0.6666666666666666,
              "#ed7953"
             ],
             [
              0.7777777777777778,
              "#fb9f3a"
             ],
             [
              0.8888888888888888,
              "#fdca26"
             ],
             [
              1,
              "#f0f921"
             ]
            ],
            "type": "heatmap"
           }
          ],
          "histogram": [
           {
            "marker": {
             "pattern": {
              "fillmode": "overlay",
              "size": 10,
              "solidity": 0.2
             }
            },
            "type": "histogram"
           }
          ],
          "histogram2d": [
           {
            "colorbar": {
             "outlinewidth": 0,
             "ticks": ""
            },
            "colorscale": [
             [
              0,
              "#0d0887"
             ],
             [
              0.1111111111111111,
              "#46039f"
             ],
             [
              0.2222222222222222,
              "#7201a8"
             ],
             [
              0.3333333333333333,
              "#9c179e"
             ],
             [
              0.4444444444444444,
              "#bd3786"
             ],
             [
              0.5555555555555556,
              "#d8576b"
             ],
             [
              0.6666666666666666,
              "#ed7953"
             ],
             [
              0.7777777777777778,
              "#fb9f3a"
             ],
             [
              0.8888888888888888,
              "#fdca26"
             ],
             [
              1,
              "#f0f921"
             ]
            ],
            "type": "histogram2d"
           }
          ],
          "histogram2dcontour": [
           {
            "colorbar": {
             "outlinewidth": 0,
             "ticks": ""
            },
            "colorscale": [
             [
              0,
              "#0d0887"
             ],
             [
              0.1111111111111111,
              "#46039f"
             ],
             [
              0.2222222222222222,
              "#7201a8"
             ],
             [
              0.3333333333333333,
              "#9c179e"
             ],
             [
              0.4444444444444444,
              "#bd3786"
             ],
             [
              0.5555555555555556,
              "#d8576b"
             ],
             [
              0.6666666666666666,
              "#ed7953"
             ],
             [
              0.7777777777777778,
              "#fb9f3a"
             ],
             [
              0.8888888888888888,
              "#fdca26"
             ],
             [
              1,
              "#f0f921"
             ]
            ],
            "type": "histogram2dcontour"
           }
          ],
          "mesh3d": [
           {
            "colorbar": {
             "outlinewidth": 0,
             "ticks": ""
            },
            "type": "mesh3d"
           }
          ],
          "parcoords": [
           {
            "line": {
             "colorbar": {
              "outlinewidth": 0,
              "ticks": ""
             }
            },
            "type": "parcoords"
           }
          ],
          "pie": [
           {
            "automargin": true,
            "type": "pie"
           }
          ],
          "scatter": [
           {
            "fillpattern": {
             "fillmode": "overlay",
             "size": 10,
             "solidity": 0.2
            },
            "type": "scatter"
           }
          ],
          "scatter3d": [
           {
            "line": {
             "colorbar": {
              "outlinewidth": 0,
              "ticks": ""
             }
            },
            "marker": {
             "colorbar": {
              "outlinewidth": 0,
              "ticks": ""
             }
            },
            "type": "scatter3d"
           }
          ],
          "scattercarpet": [
           {
            "marker": {
             "colorbar": {
              "outlinewidth": 0,
              "ticks": ""
             }
            },
            "type": "scattercarpet"
           }
          ],
          "scattergeo": [
           {
            "marker": {
             "colorbar": {
              "outlinewidth": 0,
              "ticks": ""
             }
            },
            "type": "scattergeo"
           }
          ],
          "scattergl": [
           {
            "marker": {
             "colorbar": {
              "outlinewidth": 0,
              "ticks": ""
             }
            },
            "type": "scattergl"
           }
          ],
          "scattermap": [
           {
            "marker": {
             "colorbar": {
              "outlinewidth": 0,
              "ticks": ""
             }
            },
            "type": "scattermap"
           }
          ],
          "scattermapbox": [
           {
            "marker": {
             "colorbar": {
              "outlinewidth": 0,
              "ticks": ""
             }
            },
            "type": "scattermapbox"
           }
          ],
          "scatterpolar": [
           {
            "marker": {
             "colorbar": {
              "outlinewidth": 0,
              "ticks": ""
             }
            },
            "type": "scatterpolar"
           }
          ],
          "scatterpolargl": [
           {
            "marker": {
             "colorbar": {
              "outlinewidth": 0,
              "ticks": ""
             }
            },
            "type": "scatterpolargl"
           }
          ],
          "scatterternary": [
           {
            "marker": {
             "colorbar": {
              "outlinewidth": 0,
              "ticks": ""
             }
            },
            "type": "scatterternary"
           }
          ],
          "surface": [
           {
            "colorbar": {
             "outlinewidth": 0,
             "ticks": ""
            },
            "colorscale": [
             [
              0,
              "#0d0887"
             ],
             [
              0.1111111111111111,
              "#46039f"
             ],
             [
              0.2222222222222222,
              "#7201a8"
             ],
             [
              0.3333333333333333,
              "#9c179e"
             ],
             [
              0.4444444444444444,
              "#bd3786"
             ],
             [
              0.5555555555555556,
              "#d8576b"
             ],
             [
              0.6666666666666666,
              "#ed7953"
             ],
             [
              0.7777777777777778,
              "#fb9f3a"
             ],
             [
              0.8888888888888888,
              "#fdca26"
             ],
             [
              1,
              "#f0f921"
             ]
            ],
            "type": "surface"
           }
          ],
          "table": [
           {
            "cells": {
             "fill": {
              "color": "#EBF0F8"
             },
             "line": {
              "color": "white"
             }
            },
            "header": {
             "fill": {
              "color": "#C8D4E3"
             },
             "line": {
              "color": "white"
             }
            },
            "type": "table"
           }
          ]
         },
         "layout": {
          "annotationdefaults": {
           "arrowcolor": "#2a3f5f",
           "arrowhead": 0,
           "arrowwidth": 1
          },
          "autotypenumbers": "strict",
          "coloraxis": {
           "colorbar": {
            "outlinewidth": 0,
            "ticks": ""
           }
          },
          "colorscale": {
           "diverging": [
            [
             0,
             "#8e0152"
            ],
            [
             0.1,
             "#c51b7d"
            ],
            [
             0.2,
             "#de77ae"
            ],
            [
             0.3,
             "#f1b6da"
            ],
            [
             0.4,
             "#fde0ef"
            ],
            [
             0.5,
             "#f7f7f7"
            ],
            [
             0.6,
             "#e6f5d0"
            ],
            [
             0.7,
             "#b8e186"
            ],
            [
             0.8,
             "#7fbc41"
            ],
            [
             0.9,
             "#4d9221"
            ],
            [
             1,
             "#276419"
            ]
           ],
           "sequential": [
            [
             0,
             "#0d0887"
            ],
            [
             0.1111111111111111,
             "#46039f"
            ],
            [
             0.2222222222222222,
             "#7201a8"
            ],
            [
             0.3333333333333333,
             "#9c179e"
            ],
            [
             0.4444444444444444,
             "#bd3786"
            ],
            [
             0.5555555555555556,
             "#d8576b"
            ],
            [
             0.6666666666666666,
             "#ed7953"
            ],
            [
             0.7777777777777778,
             "#fb9f3a"
            ],
            [
             0.8888888888888888,
             "#fdca26"
            ],
            [
             1,
             "#f0f921"
            ]
           ],
           "sequentialminus": [
            [
             0,
             "#0d0887"
            ],
            [
             0.1111111111111111,
             "#46039f"
            ],
            [
             0.2222222222222222,
             "#7201a8"
            ],
            [
             0.3333333333333333,
             "#9c179e"
            ],
            [
             0.4444444444444444,
             "#bd3786"
            ],
            [
             0.5555555555555556,
             "#d8576b"
            ],
            [
             0.6666666666666666,
             "#ed7953"
            ],
            [
             0.7777777777777778,
             "#fb9f3a"
            ],
            [
             0.8888888888888888,
             "#fdca26"
            ],
            [
             1,
             "#f0f921"
            ]
           ]
          },
          "colorway": [
           "#636efa",
           "#EF553B",
           "#00cc96",
           "#ab63fa",
           "#FFA15A",
           "#19d3f3",
           "#FF6692",
           "#B6E880",
           "#FF97FF",
           "#FECB52"
          ],
          "font": {
           "color": "#2a3f5f"
          },
          "geo": {
           "bgcolor": "white",
           "lakecolor": "white",
           "landcolor": "#E5ECF6",
           "showlakes": true,
           "showland": true,
           "subunitcolor": "white"
          },
          "hoverlabel": {
           "align": "left"
          },
          "hovermode": "closest",
          "mapbox": {
           "style": "light"
          },
          "paper_bgcolor": "white",
          "plot_bgcolor": "#E5ECF6",
          "polar": {
           "angularaxis": {
            "gridcolor": "white",
            "linecolor": "white",
            "ticks": ""
           },
           "bgcolor": "#E5ECF6",
           "radialaxis": {
            "gridcolor": "white",
            "linecolor": "white",
            "ticks": ""
           }
          },
          "scene": {
           "xaxis": {
            "backgroundcolor": "#E5ECF6",
            "gridcolor": "white",
            "gridwidth": 2,
            "linecolor": "white",
            "showbackground": true,
            "ticks": "",
            "zerolinecolor": "white"
           },
           "yaxis": {
            "backgroundcolor": "#E5ECF6",
            "gridcolor": "white",
            "gridwidth": 2,
            "linecolor": "white",
            "showbackground": true,
            "ticks": "",
            "zerolinecolor": "white"
           },
           "zaxis": {
            "backgroundcolor": "#E5ECF6",
            "gridcolor": "white",
            "gridwidth": 2,
            "linecolor": "white",
            "showbackground": true,
            "ticks": "",
            "zerolinecolor": "white"
           }
          },
          "shapedefaults": {
           "line": {
            "color": "#2a3f5f"
           }
          },
          "ternary": {
           "aaxis": {
            "gridcolor": "white",
            "linecolor": "white",
            "ticks": ""
           },
           "baxis": {
            "gridcolor": "white",
            "linecolor": "white",
            "ticks": ""
           },
           "bgcolor": "#E5ECF6",
           "caxis": {
            "gridcolor": "white",
            "linecolor": "white",
            "ticks": ""
           }
          },
          "title": {
           "x": 0.05
          },
          "xaxis": {
           "automargin": true,
           "gridcolor": "white",
           "linecolor": "white",
           "ticks": "",
           "title": {
            "standoff": 15
           },
           "zerolinecolor": "white",
           "zerolinewidth": 2
          },
          "yaxis": {
           "automargin": true,
           "gridcolor": "white",
           "linecolor": "white",
           "ticks": "",
           "title": {
            "standoff": 15
           },
           "zerolinecolor": "white",
           "zerolinewidth": 2
          }
         }
        },
        "title": {
         "text": "Относительное изменение кумулятивного ср. кол-ва заказов на посетителя группы B к группе А"
        },
        "width": 900,
        "xaxis": {
         "anchor": "y",
         "domain": [
          0,
          1
         ],
         "title": {
          "text": "дата"
         }
        },
        "yaxis": {
         "anchor": "x",
         "domain": [
          0,
          1
         ],
         "title": {
          "text": "относительное изменение, %"
         }
        }
       }
      },
      "text/html": [
       "<div>            <script src=\"https://cdnjs.cloudflare.com/ajax/libs/mathjax/2.7.5/MathJax.js?config=TeX-AMS-MML_SVG\"></script><script type=\"text/javascript\">if (window.MathJax && window.MathJax.Hub && window.MathJax.Hub.Config) {window.MathJax.Hub.Config({SVG: {font: \"STIX-Web\"}});}</script>                <script type=\"text/javascript\">window.PlotlyConfig = {MathJaxConfig: 'local'};</script>\n",
       "        <script charset=\"utf-8\" src=\"https://cdn.plot.ly/plotly-3.0.1.min.js\"></script>                <div id=\"68629e3b-964d-4330-b468-139270250414\" class=\"plotly-graph-div\" style=\"height:525px; width:900px;\"></div>            <script type=\"text/javascript\">                window.PLOTLYENV=window.PLOTLYENV || {};                                if (document.getElementById(\"68629e3b-964d-4330-b468-139270250414\")) {                    Plotly.newPlot(                        \"68629e3b-964d-4330-b468-139270250414\",                        [{\"hovertemplate\":\"\\u0434\\u0430\\u0442\\u0430=%{x}\\u003cbr\\u003e\\u043e\\u0442\\u043d\\u043e\\u0441\\u0438\\u0442\\u0435\\u043b\\u044c\\u043d\\u043e\\u0435 \\u0438\\u0437\\u043c\\u0435\\u043d\\u0435\\u043d\\u0438\\u0435, %=%{y}\\u003cextra\\u003e\\u003c\\u002fextra\\u003e\",\"legendgroup\":\"\",\"line\":{\"color\":\"#636efa\",\"dash\":\"solid\",\"width\":4},\"marker\":{\"symbol\":\"circle\"},\"mode\":\"lines\",\"name\":\"\",\"orientation\":\"v\",\"showlegend\":false,\"x\":[\"2019-08-01T00:00:00.000000000\",\"2019-08-02T00:00:00.000000000\",\"2019-08-03T00:00:00.000000000\",\"2019-08-04T00:00:00.000000000\",\"2019-08-05T00:00:00.000000000\",\"2019-08-06T00:00:00.000000000\",\"2019-08-07T00:00:00.000000000\",\"2019-08-08T00:00:00.000000000\",\"2019-08-09T00:00:00.000000000\",\"2019-08-10T00:00:00.000000000\",\"2019-08-11T00:00:00.000000000\",\"2019-08-12T00:00:00.000000000\",\"2019-08-13T00:00:00.000000000\",\"2019-08-14T00:00:00.000000000\",\"2019-08-15T00:00:00.000000000\",\"2019-08-16T00:00:00.000000000\",\"2019-08-17T00:00:00.000000000\",\"2019-08-18T00:00:00.000000000\",\"2019-08-19T00:00:00.000000000\",\"2019-08-20T00:00:00.000000000\",\"2019-08-21T00:00:00.000000000\",\"2019-08-22T00:00:00.000000000\",\"2019-08-23T00:00:00.000000000\",\"2019-08-24T00:00:00.000000000\",\"2019-08-25T00:00:00.000000000\",\"2019-08-26T00:00:00.000000000\",\"2019-08-27T00:00:00.000000000\",\"2019-08-28T00:00:00.000000000\",\"2019-08-29T00:00:00.000000000\",\"2019-08-30T00:00:00.000000000\",\"2019-08-31T00:00:00.000000000\"],\"xaxis\":\"x\",\"y\":{\"dtype\":\"f8\",\"bdata\":\"DnXqWwCHJ8ADLBjgUgAXQF\\u002f92WSvaCDAdtEj+MooHsDSOKBnUxAZwCy9zgR37AZAjEoLV6i0FEBASr9ExRwlQEC5xu6AmS1Ax3rdnzfaMUA\\u002fjonBerAwQHLDFU2qmS5A+JiQuGr8MEDCG3hAyeYtQIalaytw3DRA8ZLyQZGsM0AUhaJhGjk0QHS4Jn8zATBAJgCBRX62LUDuIxMQibcwQHkZpRr8lipAayuEjANRLUB2jnT96KolQKyKu9QGoiVAIERgWFEZJkDEDXihANkpQIStDuW8cSNABBUuzNxJJkDRwUK4AzElQHKlNyCQgilAnRS7DqOdK0A=\"},\"yaxis\":\"y\",\"type\":\"scatter\"}],                        {\"template\":{\"data\":{\"histogram2dcontour\":[{\"type\":\"histogram2dcontour\",\"colorbar\":{\"outlinewidth\":0,\"ticks\":\"\"},\"colorscale\":[[0.0,\"#0d0887\"],[0.1111111111111111,\"#46039f\"],[0.2222222222222222,\"#7201a8\"],[0.3333333333333333,\"#9c179e\"],[0.4444444444444444,\"#bd3786\"],[0.5555555555555556,\"#d8576b\"],[0.6666666666666666,\"#ed7953\"],[0.7777777777777778,\"#fb9f3a\"],[0.8888888888888888,\"#fdca26\"],[1.0,\"#f0f921\"]]}],\"choropleth\":[{\"type\":\"choropleth\",\"colorbar\":{\"outlinewidth\":0,\"ticks\":\"\"}}],\"histogram2d\":[{\"type\":\"histogram2d\",\"colorbar\":{\"outlinewidth\":0,\"ticks\":\"\"},\"colorscale\":[[0.0,\"#0d0887\"],[0.1111111111111111,\"#46039f\"],[0.2222222222222222,\"#7201a8\"],[0.3333333333333333,\"#9c179e\"],[0.4444444444444444,\"#bd3786\"],[0.5555555555555556,\"#d8576b\"],[0.6666666666666666,\"#ed7953\"],[0.7777777777777778,\"#fb9f3a\"],[0.8888888888888888,\"#fdca26\"],[1.0,\"#f0f921\"]]}],\"heatmap\":[{\"type\":\"heatmap\",\"colorbar\":{\"outlinewidth\":0,\"ticks\":\"\"},\"colorscale\":[[0.0,\"#0d0887\"],[0.1111111111111111,\"#46039f\"],[0.2222222222222222,\"#7201a8\"],[0.3333333333333333,\"#9c179e\"],[0.4444444444444444,\"#bd3786\"],[0.5555555555555556,\"#d8576b\"],[0.6666666666666666,\"#ed7953\"],[0.7777777777777778,\"#fb9f3a\"],[0.8888888888888888,\"#fdca26\"],[1.0,\"#f0f921\"]]}],\"contourcarpet\":[{\"type\":\"contourcarpet\",\"colorbar\":{\"outlinewidth\":0,\"ticks\":\"\"}}],\"contour\":[{\"type\":\"contour\",\"colorbar\":{\"outlinewidth\":0,\"ticks\":\"\"},\"colorscale\":[[0.0,\"#0d0887\"],[0.1111111111111111,\"#46039f\"],[0.2222222222222222,\"#7201a8\"],[0.3333333333333333,\"#9c179e\"],[0.4444444444444444,\"#bd3786\"],[0.5555555555555556,\"#d8576b\"],[0.6666666666666666,\"#ed7953\"],[0.7777777777777778,\"#fb9f3a\"],[0.8888888888888888,\"#fdca26\"],[1.0,\"#f0f921\"]]}],\"surface\":[{\"type\":\"surface\",\"colorbar\":{\"outlinewidth\":0,\"ticks\":\"\"},\"colorscale\":[[0.0,\"#0d0887\"],[0.1111111111111111,\"#46039f\"],[0.2222222222222222,\"#7201a8\"],[0.3333333333333333,\"#9c179e\"],[0.4444444444444444,\"#bd3786\"],[0.5555555555555556,\"#d8576b\"],[0.6666666666666666,\"#ed7953\"],[0.7777777777777778,\"#fb9f3a\"],[0.8888888888888888,\"#fdca26\"],[1.0,\"#f0f921\"]]}],\"mesh3d\":[{\"type\":\"mesh3d\",\"colorbar\":{\"outlinewidth\":0,\"ticks\":\"\"}}],\"scatter\":[{\"fillpattern\":{\"fillmode\":\"overlay\",\"size\":10,\"solidity\":0.2},\"type\":\"scatter\"}],\"parcoords\":[{\"type\":\"parcoords\",\"line\":{\"colorbar\":{\"outlinewidth\":0,\"ticks\":\"\"}}}],\"scatterpolargl\":[{\"type\":\"scatterpolargl\",\"marker\":{\"colorbar\":{\"outlinewidth\":0,\"ticks\":\"\"}}}],\"bar\":[{\"error_x\":{\"color\":\"#2a3f5f\"},\"error_y\":{\"color\":\"#2a3f5f\"},\"marker\":{\"line\":{\"color\":\"#E5ECF6\",\"width\":0.5},\"pattern\":{\"fillmode\":\"overlay\",\"size\":10,\"solidity\":0.2}},\"type\":\"bar\"}],\"scattergeo\":[{\"type\":\"scattergeo\",\"marker\":{\"colorbar\":{\"outlinewidth\":0,\"ticks\":\"\"}}}],\"scatterpolar\":[{\"type\":\"scatterpolar\",\"marker\":{\"colorbar\":{\"outlinewidth\":0,\"ticks\":\"\"}}}],\"histogram\":[{\"marker\":{\"pattern\":{\"fillmode\":\"overlay\",\"size\":10,\"solidity\":0.2}},\"type\":\"histogram\"}],\"scattergl\":[{\"type\":\"scattergl\",\"marker\":{\"colorbar\":{\"outlinewidth\":0,\"ticks\":\"\"}}}],\"scatter3d\":[{\"type\":\"scatter3d\",\"line\":{\"colorbar\":{\"outlinewidth\":0,\"ticks\":\"\"}},\"marker\":{\"colorbar\":{\"outlinewidth\":0,\"ticks\":\"\"}}}],\"scattermap\":[{\"type\":\"scattermap\",\"marker\":{\"colorbar\":{\"outlinewidth\":0,\"ticks\":\"\"}}}],\"scattermapbox\":[{\"type\":\"scattermapbox\",\"marker\":{\"colorbar\":{\"outlinewidth\":0,\"ticks\":\"\"}}}],\"scatterternary\":[{\"type\":\"scatterternary\",\"marker\":{\"colorbar\":{\"outlinewidth\":0,\"ticks\":\"\"}}}],\"scattercarpet\":[{\"type\":\"scattercarpet\",\"marker\":{\"colorbar\":{\"outlinewidth\":0,\"ticks\":\"\"}}}],\"carpet\":[{\"aaxis\":{\"endlinecolor\":\"#2a3f5f\",\"gridcolor\":\"white\",\"linecolor\":\"white\",\"minorgridcolor\":\"white\",\"startlinecolor\":\"#2a3f5f\"},\"baxis\":{\"endlinecolor\":\"#2a3f5f\",\"gridcolor\":\"white\",\"linecolor\":\"white\",\"minorgridcolor\":\"white\",\"startlinecolor\":\"#2a3f5f\"},\"type\":\"carpet\"}],\"table\":[{\"cells\":{\"fill\":{\"color\":\"#EBF0F8\"},\"line\":{\"color\":\"white\"}},\"header\":{\"fill\":{\"color\":\"#C8D4E3\"},\"line\":{\"color\":\"white\"}},\"type\":\"table\"}],\"barpolar\":[{\"marker\":{\"line\":{\"color\":\"#E5ECF6\",\"width\":0.5},\"pattern\":{\"fillmode\":\"overlay\",\"size\":10,\"solidity\":0.2}},\"type\":\"barpolar\"}],\"pie\":[{\"automargin\":true,\"type\":\"pie\"}]},\"layout\":{\"autotypenumbers\":\"strict\",\"colorway\":[\"#636efa\",\"#EF553B\",\"#00cc96\",\"#ab63fa\",\"#FFA15A\",\"#19d3f3\",\"#FF6692\",\"#B6E880\",\"#FF97FF\",\"#FECB52\"],\"font\":{\"color\":\"#2a3f5f\"},\"hovermode\":\"closest\",\"hoverlabel\":{\"align\":\"left\"},\"paper_bgcolor\":\"white\",\"plot_bgcolor\":\"#E5ECF6\",\"polar\":{\"bgcolor\":\"#E5ECF6\",\"angularaxis\":{\"gridcolor\":\"white\",\"linecolor\":\"white\",\"ticks\":\"\"},\"radialaxis\":{\"gridcolor\":\"white\",\"linecolor\":\"white\",\"ticks\":\"\"}},\"ternary\":{\"bgcolor\":\"#E5ECF6\",\"aaxis\":{\"gridcolor\":\"white\",\"linecolor\":\"white\",\"ticks\":\"\"},\"baxis\":{\"gridcolor\":\"white\",\"linecolor\":\"white\",\"ticks\":\"\"},\"caxis\":{\"gridcolor\":\"white\",\"linecolor\":\"white\",\"ticks\":\"\"}},\"coloraxis\":{\"colorbar\":{\"outlinewidth\":0,\"ticks\":\"\"}},\"colorscale\":{\"sequential\":[[0.0,\"#0d0887\"],[0.1111111111111111,\"#46039f\"],[0.2222222222222222,\"#7201a8\"],[0.3333333333333333,\"#9c179e\"],[0.4444444444444444,\"#bd3786\"],[0.5555555555555556,\"#d8576b\"],[0.6666666666666666,\"#ed7953\"],[0.7777777777777778,\"#fb9f3a\"],[0.8888888888888888,\"#fdca26\"],[1.0,\"#f0f921\"]],\"sequentialminus\":[[0.0,\"#0d0887\"],[0.1111111111111111,\"#46039f\"],[0.2222222222222222,\"#7201a8\"],[0.3333333333333333,\"#9c179e\"],[0.4444444444444444,\"#bd3786\"],[0.5555555555555556,\"#d8576b\"],[0.6666666666666666,\"#ed7953\"],[0.7777777777777778,\"#fb9f3a\"],[0.8888888888888888,\"#fdca26\"],[1.0,\"#f0f921\"]],\"diverging\":[[0,\"#8e0152\"],[0.1,\"#c51b7d\"],[0.2,\"#de77ae\"],[0.3,\"#f1b6da\"],[0.4,\"#fde0ef\"],[0.5,\"#f7f7f7\"],[0.6,\"#e6f5d0\"],[0.7,\"#b8e186\"],[0.8,\"#7fbc41\"],[0.9,\"#4d9221\"],[1,\"#276419\"]]},\"xaxis\":{\"gridcolor\":\"white\",\"linecolor\":\"white\",\"ticks\":\"\",\"title\":{\"standoff\":15},\"zerolinecolor\":\"white\",\"automargin\":true,\"zerolinewidth\":2},\"yaxis\":{\"gridcolor\":\"white\",\"linecolor\":\"white\",\"ticks\":\"\",\"title\":{\"standoff\":15},\"zerolinecolor\":\"white\",\"automargin\":true,\"zerolinewidth\":2},\"scene\":{\"xaxis\":{\"backgroundcolor\":\"#E5ECF6\",\"gridcolor\":\"white\",\"linecolor\":\"white\",\"showbackground\":true,\"ticks\":\"\",\"zerolinecolor\":\"white\",\"gridwidth\":2},\"yaxis\":{\"backgroundcolor\":\"#E5ECF6\",\"gridcolor\":\"white\",\"linecolor\":\"white\",\"showbackground\":true,\"ticks\":\"\",\"zerolinecolor\":\"white\",\"gridwidth\":2},\"zaxis\":{\"backgroundcolor\":\"#E5ECF6\",\"gridcolor\":\"white\",\"linecolor\":\"white\",\"showbackground\":true,\"ticks\":\"\",\"zerolinecolor\":\"white\",\"gridwidth\":2}},\"shapedefaults\":{\"line\":{\"color\":\"#2a3f5f\"}},\"annotationdefaults\":{\"arrowcolor\":\"#2a3f5f\",\"arrowhead\":0,\"arrowwidth\":1},\"geo\":{\"bgcolor\":\"white\",\"landcolor\":\"#E5ECF6\",\"subunitcolor\":\"white\",\"showland\":true,\"showlakes\":true,\"lakecolor\":\"white\"},\"title\":{\"x\":0.05},\"mapbox\":{\"style\":\"light\"}}},\"xaxis\":{\"anchor\":\"y\",\"domain\":[0.0,1.0],\"title\":{\"text\":\"\\u0434\\u0430\\u0442\\u0430\"}},\"yaxis\":{\"anchor\":\"x\",\"domain\":[0.0,1.0],\"title\":{\"text\":\"\\u043e\\u0442\\u043d\\u043e\\u0441\\u0438\\u0442\\u0435\\u043b\\u044c\\u043d\\u043e\\u0435 \\u0438\\u0437\\u043c\\u0435\\u043d\\u0435\\u043d\\u0438\\u0435, %\"}},\"legend\":{\"tracegroupgap\":0},\"margin\":{\"t\":60},\"font\":{\"size\":11},\"width\":900,\"title\":{\"text\":\"\\u041e\\u0442\\u043d\\u043e\\u0441\\u0438\\u0442\\u0435\\u043b\\u044c\\u043d\\u043e\\u0435 \\u0438\\u0437\\u043c\\u0435\\u043d\\u0435\\u043d\\u0438\\u0435 \\u043a\\u0443\\u043c\\u0443\\u043b\\u044f\\u0442\\u0438\\u0432\\u043d\\u043e\\u0433\\u043e \\u0441\\u0440. \\u043a\\u043e\\u043b-\\u0432\\u0430 \\u0437\\u0430\\u043a\\u0430\\u0437\\u043e\\u0432 \\u043d\\u0430 \\u043f\\u043e\\u0441\\u0435\\u0442\\u0438\\u0442\\u0435\\u043b\\u044f \\u0433\\u0440\\u0443\\u043f\\u043f\\u044b B \\u043a \\u0433\\u0440\\u0443\\u043f\\u043f\\u0435 \\u0410\"},\"shapes\":[{\"line\":{\"color\":\"red\",\"dash\":\"dot\"},\"type\":\"line\",\"x0\":0,\"x1\":1,\"xref\":\"x domain\",\"y0\":0,\"y1\":0,\"yref\":\"y\"}]},                        {\"responsive\": true}                    ).then(function(){\n",
       "                            \n",
       "var gd = document.getElementById('68629e3b-964d-4330-b468-139270250414');\n",
       "var x = new MutationObserver(function (mutations, observer) {{\n",
       "        var display = window.getComputedStyle(gd).display;\n",
       "        if (!display || display === 'none') {{\n",
       "            console.log([gd, 'removed!']);\n",
       "            Plotly.purge(gd);\n",
       "            observer.disconnect();\n",
       "        }}\n",
       "}});\n",
       "\n",
       "// Listen for the removal of the full notebook cells\n",
       "var notebookContainer = gd.closest('#notebook-container');\n",
       "if (notebookContainer) {{\n",
       "    x.observe(notebookContainer, {childList: true});\n",
       "}}\n",
       "\n",
       "// Listen for the clearing of the current output cell\n",
       "var outputEl = gd.closest('.output');\n",
       "if (outputEl) {{\n",
       "    x.observe(outputEl, {childList: true});\n",
       "}}\n",
       "\n",
       "                        })                };            </script>        </div>"
      ]
     },
     "metadata": {},
     "output_type": "display_data"
    }
   ],
   "source": [
    "fig = px.line(cumulative_conversion_ab,\n",
    "              x='date',\n",
    "              y=k*100,\n",
    "              labels={\n",
    "                  'date': 'дата',\n",
    "                  'y': 'относительное изменение, %',\n",
    "                  'group': 'группа'})\n",
    "\n",
    "\n",
    "fig.update_layout(\n",
    "    width=900,\n",
    "    title='Относительное изменение кумулятивного ср. кол-ва заказов на посетителя группы B к группе А',\n",
    "    font_size=11)\n",
    "\n",
    "fig.add_hline(y=0,\n",
    "              line_color='red',\n",
    "              line_dash='dot')\n",
    "\n",
    "fig.update_traces(line_width=4)\n",
    "iplot(fig)"
   ]
  },
  {
   "cell_type": "markdown",
   "metadata": {},
   "source": [
    "Промежуточный вывод:  \n",
    "Среденне кол-во заказов группы B больше заказов группы А и под конец теста находится между 10% и 15%"
   ]
  },
  {
   "cell_type": "markdown",
   "metadata": {},
   "source": [
    "### Количество заказов по пользователям"
   ]
  },
  {
   "cell_type": "markdown",
   "metadata": {},
   "source": [
    "Посчитаем кол-во заказов пользователей чтоб найти аномалии"
   ]
  },
  {
   "cell_type": "code",
   "execution_count": 34,
   "metadata": {
    "trusted": true
   },
   "outputs": [
    {
     "data": {
      "text/html": [
       "<div>\n",
       "<style scoped>\n",
       "    .dataframe tbody tr th:only-of-type {\n",
       "        vertical-align: middle;\n",
       "    }\n",
       "\n",
       "    .dataframe tbody tr th {\n",
       "        vertical-align: top;\n",
       "    }\n",
       "\n",
       "    .dataframe thead th {\n",
       "        text-align: right;\n",
       "    }\n",
       "</style>\n",
       "<table border=\"1\" class=\"dataframe\">\n",
       "  <thead>\n",
       "    <tr style=\"text-align: right;\">\n",
       "      <th></th>\n",
       "      <th>visitor_id</th>\n",
       "      <th>count_orders</th>\n",
       "    </tr>\n",
       "  </thead>\n",
       "  <tbody>\n",
       "    <tr>\n",
       "      <th>0</th>\n",
       "      <td>5114589</td>\n",
       "      <td>1</td>\n",
       "    </tr>\n",
       "    <tr>\n",
       "      <th>1</th>\n",
       "      <td>6958315</td>\n",
       "      <td>1</td>\n",
       "    </tr>\n",
       "    <tr>\n",
       "      <th>2</th>\n",
       "      <td>8300375</td>\n",
       "      <td>2</td>\n",
       "    </tr>\n",
       "    <tr>\n",
       "      <th>3</th>\n",
       "      <td>11685486</td>\n",
       "      <td>1</td>\n",
       "    </tr>\n",
       "    <tr>\n",
       "      <th>4</th>\n",
       "      <td>39475350</td>\n",
       "      <td>1</td>\n",
       "    </tr>\n",
       "  </tbody>\n",
       "</table>\n",
       "</div>"
      ],
      "text/plain": [
       "   visitor_id  count_orders\n",
       "0     5114589             1\n",
       "1     6958315             1\n",
       "2     8300375             2\n",
       "3    11685486             1\n",
       "4    39475350             1"
      ]
     },
     "execution_count": 34,
     "metadata": {},
     "output_type": "execute_result"
    }
   ],
   "source": [
    "count_orders = (orders\n",
    "                .groupby(\n",
    "                    'visitor_id',\n",
    "                    as_index=False)\n",
    "                ['transaction_id']\n",
    "                .count()\n",
    "                .rename(\n",
    "                    columns={\n",
    "                        'transaction_id': 'count_orders'\n",
    "                    }\n",
    "                )\n",
    "                )\n",
    "\n",
    "\n",
    "\n",
    "count_orders.head()"
   ]
  },
  {
   "cell_type": "markdown",
   "metadata": {},
   "source": [
    "Строим график"
   ]
  },
  {
   "cell_type": "code",
   "execution_count": null,
   "metadata": {
    "trusted": true
   },
   "outputs": [
    {
     "data": {
      "application/vnd.plotly.v1+json": {
       "config": {
        "plotlyServerURL": "https://plot.ly"
       },
       "data": [
        {
         "hovertemplate": "номер заказа=%{x}<br>число заказов=%{y}<extra></extra>",
         "legendgroup": "",
         "marker": {
          "color": "#636efa",
          "symbol": "circle"
         },
         "mode": "markers",
         "name": "",
         "showlegend": false,
         "type": "scattergl",
         "x": {
          "bdata": "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",
          "dtype": "i2"
         },
         "xaxis": "x",
         "y": {
          "bdata": "AQECAQEBAQEBAQEBAQEBAQEBAQEBAQEBAQEBAQEBAQEBAQEBAQEBAQEBAQEFAQEBAQEBAgEBAQUBAQEDAQEBAQEBAgEBAQEBAQEBAQEBAQEBAQEBAgEBAQIBAQEBAQEBAQMBAQECAQEBAQEBAQEBAQEBBAEBAQECAQECAQEBAQECAQEBAQEBAQEBAQEBAQEBAQEBAQMBAQEBAQEBAQEBAQEBAQEBAQECAQEBAQEBAQEBAQEBAQEBAQEBAgEBAQEBAgEBAQEBAQEBAQEBAQEBAQEBAQEBAQEBAQEBAQEBAQEBAQEBAQEBAQEBAQECAQEBAQEBAQEBAQEBAQEBAQEBAQEBAQEBAQEBAQEBAQEBAQEBAQEBAQEBAQEBAQEBAQEBAQEBAQEBAQEBAQEFAQEBAQEBAQEBAQEDAQEBAQIBAgEBAQEBAQEBAQEBAQEBAQEBAQEBAgMBAQEBAQEBAQEBAQEBAQEBAQEBAQEBAQEBAQEBAQEBAQEBAQEBAQEBAQEBAQECAQEBAQEBBAIBAQEBAgEBAgEBAQMBAQEBAQEBAQEBAQEBAQEDAQEBAQEBAgEBAQEBAQIBAQEBAQEBAQEBAQEBAQEBAQEBAQEBAQEBAQEBAQEBAQIBAQEBAQECAQEBAQEBAgEBAQgBAQEDAQEBAQEBAQEBAQIBAwEBAQEBAQEBAQEBAQEBAQEBAQEBAQEBAQEBAQEBAQIBAQEBAQEBAQEBAQEBAQEBAQEBAgEBAQEBAQEBAQIBAQEJAQEBAQECAQEBAQEBAQEBAQEBAQEBCwEBAQEBAQEBAQEBAQEBAQEBAQEBAQECAQEBAQQBAQIBAQEBAQEBAQEBAQEBAQEBAgEBAQEBAQEBAgEBAQEBAQEBAgEBAQICAgEBAQMBAgEBAQEBAQEDAQEBAQEBAQEBAQEBAQEBAQEBAQEBAQIBAQEBAQEBAQECAQEBAQIBAQIBAQEBAQEBAwEBAQEBAQEBAQEBAQEBAQEBBQEBAQECAQEBAQEBAQEBAQEBAQEBAQEBAQEBAQEBAQEBAQEBAQEBAQIBAQEBAQEBAgEBAQEBAQEBAQEBAQEBAQEBAQEBAQEBAQEBAQEBAgEBAQEBAQIBAQEBAgEBAQEBAQEBAQEBAQEBAgEBAQEBAQEBAQEBAQEBAQEBAQEBAQEBAQEBAQEBAQEBAQECAQEBAQEBAQEBAQEBBQEBAQEBAQEBAQEBAgEBAQEBAQEFAQEBAQEBAQEBAQEBAQEDAQEBAQMBAQEBAQECAQEBAgECAQEBAgEBAgIDAgEBAwEBAQEBAQEBAQEBAQEBAQEBAQEBAgEBAQEBAQICAQECAQEBAQEBAQEBAQEBAQMBAQEBAQEBAQEBAQEBCwEBAgEBAQE=",
          "dtype": "i1"
         },
         "yaxis": "y"
        }
       ],
       "layout": {
        "legend": {
         "tracegroupgap": 0
        },
        "margin": {
         "t": 60
        },
        "template": {
         "data": {
          "bar": [
           {
            "error_x": {
             "color": "#2a3f5f"
            },
            "error_y": {
             "color": "#2a3f5f"
            },
            "marker": {
             "line": {
              "color": "#E5ECF6",
              "width": 0.5
             },
             "pattern": {
              "fillmode": "overlay",
              "size": 10,
              "solidity": 0.2
             }
            },
            "type": "bar"
           }
          ],
          "barpolar": [
           {
            "marker": {
             "line": {
              "color": "#E5ECF6",
              "width": 0.5
             },
             "pattern": {
              "fillmode": "overlay",
              "size": 10,
              "solidity": 0.2
             }
            },
            "type": "barpolar"
           }
          ],
          "carpet": [
           {
            "aaxis": {
             "endlinecolor": "#2a3f5f",
             "gridcolor": "white",
             "linecolor": "white",
             "minorgridcolor": "white",
             "startlinecolor": "#2a3f5f"
            },
            "baxis": {
             "endlinecolor": "#2a3f5f",
             "gridcolor": "white",
             "linecolor": "white",
             "minorgridcolor": "white",
             "startlinecolor": "#2a3f5f"
            },
            "type": "carpet"
           }
          ],
          "choropleth": [
           {
            "colorbar": {
             "outlinewidth": 0,
             "ticks": ""
            },
            "type": "choropleth"
           }
          ],
          "contour": [
           {
            "colorbar": {
             "outlinewidth": 0,
             "ticks": ""
            },
            "colorscale": [
             [
              0,
              "#0d0887"
             ],
             [
              0.1111111111111111,
              "#46039f"
             ],
             [
              0.2222222222222222,
              "#7201a8"
             ],
             [
              0.3333333333333333,
              "#9c179e"
             ],
             [
              0.4444444444444444,
              "#bd3786"
             ],
             [
              0.5555555555555556,
              "#d8576b"
             ],
             [
              0.6666666666666666,
              "#ed7953"
             ],
             [
              0.7777777777777778,
              "#fb9f3a"
             ],
             [
              0.8888888888888888,
              "#fdca26"
             ],
             [
              1,
              "#f0f921"
             ]
            ],
            "type": "contour"
           }
          ],
          "contourcarpet": [
           {
            "colorbar": {
             "outlinewidth": 0,
             "ticks": ""
            },
            "type": "contourcarpet"
           }
          ],
          "heatmap": [
           {
            "colorbar": {
             "outlinewidth": 0,
             "ticks": ""
            },
            "colorscale": [
             [
              0,
              "#0d0887"
             ],
             [
              0.1111111111111111,
              "#46039f"
             ],
             [
              0.2222222222222222,
              "#7201a8"
             ],
             [
              0.3333333333333333,
              "#9c179e"
             ],
             [
              0.4444444444444444,
              "#bd3786"
             ],
             [
              0.5555555555555556,
              "#d8576b"
             ],
             [
              0.6666666666666666,
              "#ed7953"
             ],
             [
              0.7777777777777778,
              "#fb9f3a"
             ],
             [
              0.8888888888888888,
              "#fdca26"
             ],
             [
              1,
              "#f0f921"
             ]
            ],
            "type": "heatmap"
           }
          ],
          "histogram": [
           {
            "marker": {
             "pattern": {
              "fillmode": "overlay",
              "size": 10,
              "solidity": 0.2
             }
            },
            "type": "histogram"
           }
          ],
          "histogram2d": [
           {
            "colorbar": {
             "outlinewidth": 0,
             "ticks": ""
            },
            "colorscale": [
             [
              0,
              "#0d0887"
             ],
             [
              0.1111111111111111,
              "#46039f"
             ],
             [
              0.2222222222222222,
              "#7201a8"
             ],
             [
              0.3333333333333333,
              "#9c179e"
             ],
             [
              0.4444444444444444,
              "#bd3786"
             ],
             [
              0.5555555555555556,
              "#d8576b"
             ],
             [
              0.6666666666666666,
              "#ed7953"
             ],
             [
              0.7777777777777778,
              "#fb9f3a"
             ],
             [
              0.8888888888888888,
              "#fdca26"
             ],
             [
              1,
              "#f0f921"
             ]
            ],
            "type": "histogram2d"
           }
          ],
          "histogram2dcontour": [
           {
            "colorbar": {
             "outlinewidth": 0,
             "ticks": ""
            },
            "colorscale": [
             [
              0,
              "#0d0887"
             ],
             [
              0.1111111111111111,
              "#46039f"
             ],
             [
              0.2222222222222222,
              "#7201a8"
             ],
             [
              0.3333333333333333,
              "#9c179e"
             ],
             [
              0.4444444444444444,
              "#bd3786"
             ],
             [
              0.5555555555555556,
              "#d8576b"
             ],
             [
              0.6666666666666666,
              "#ed7953"
             ],
             [
              0.7777777777777778,
              "#fb9f3a"
             ],
             [
              0.8888888888888888,
              "#fdca26"
             ],
             [
              1,
              "#f0f921"
             ]
            ],
            "type": "histogram2dcontour"
           }
          ],
          "mesh3d": [
           {
            "colorbar": {
             "outlinewidth": 0,
             "ticks": ""
            },
            "type": "mesh3d"
           }
          ],
          "parcoords": [
           {
            "line": {
             "colorbar": {
              "outlinewidth": 0,
              "ticks": ""
             }
            },
            "type": "parcoords"
           }
          ],
          "pie": [
           {
            "automargin": true,
            "type": "pie"
           }
          ],
          "scatter": [
           {
            "fillpattern": {
             "fillmode": "overlay",
             "size": 10,
             "solidity": 0.2
            },
            "type": "scatter"
           }
          ],
          "scatter3d": [
           {
            "line": {
             "colorbar": {
              "outlinewidth": 0,
              "ticks": ""
             }
            },
            "marker": {
             "colorbar": {
              "outlinewidth": 0,
              "ticks": ""
             }
            },
            "type": "scatter3d"
           }
          ],
          "scattercarpet": [
           {
            "marker": {
             "colorbar": {
              "outlinewidth": 0,
              "ticks": ""
             }
            },
            "type": "scattercarpet"
           }
          ],
          "scattergeo": [
           {
            "marker": {
             "colorbar": {
              "outlinewidth": 0,
              "ticks": ""
             }
            },
            "type": "scattergeo"
           }
          ],
          "scattergl": [
           {
            "marker": {
             "colorbar": {
              "outlinewidth": 0,
              "ticks": ""
             }
            },
            "type": "scattergl"
           }
          ],
          "scattermap": [
           {
            "marker": {
             "colorbar": {
              "outlinewidth": 0,
              "ticks": ""
             }
            },
            "type": "scattermap"
           }
          ],
          "scattermapbox": [
           {
            "marker": {
             "colorbar": {
              "outlinewidth": 0,
              "ticks": ""
             }
            },
            "type": "scattermapbox"
           }
          ],
          "scatterpolar": [
           {
            "marker": {
             "colorbar": {
              "outlinewidth": 0,
              "ticks": ""
             }
            },
            "type": "scatterpolar"
           }
          ],
          "scatterpolargl": [
           {
            "marker": {
             "colorbar": {
              "outlinewidth": 0,
              "ticks": ""
             }
            },
            "type": "scatterpolargl"
           }
          ],
          "scatterternary": [
           {
            "marker": {
             "colorbar": {
              "outlinewidth": 0,
              "ticks": ""
             }
            },
            "type": "scatterternary"
           }
          ],
          "surface": [
           {
            "colorbar": {
             "outlinewidth": 0,
             "ticks": ""
            },
            "colorscale": [
             [
              0,
              "#0d0887"
             ],
             [
              0.1111111111111111,
              "#46039f"
             ],
             [
              0.2222222222222222,
              "#7201a8"
             ],
             [
              0.3333333333333333,
              "#9c179e"
             ],
             [
              0.4444444444444444,
              "#bd3786"
             ],
             [
              0.5555555555555556,
              "#d8576b"
             ],
             [
              0.6666666666666666,
              "#ed7953"
             ],
             [
              0.7777777777777778,
              "#fb9f3a"
             ],
             [
              0.8888888888888888,
              "#fdca26"
             ],
             [
              1,
              "#f0f921"
             ]
            ],
            "type": "surface"
           }
          ],
          "table": [
           {
            "cells": {
             "fill": {
              "color": "#EBF0F8"
             },
             "line": {
              "color": "white"
             }
            },
            "header": {
             "fill": {
              "color": "#C8D4E3"
             },
             "line": {
              "color": "white"
             }
            },
            "type": "table"
           }
          ]
         },
         "layout": {
          "annotationdefaults": {
           "arrowcolor": "#2a3f5f",
           "arrowhead": 0,
           "arrowwidth": 1
          },
          "autotypenumbers": "strict",
          "coloraxis": {
           "colorbar": {
            "outlinewidth": 0,
            "ticks": ""
           }
          },
          "colorscale": {
           "diverging": [
            [
             0,
             "#8e0152"
            ],
            [
             0.1,
             "#c51b7d"
            ],
            [
             0.2,
             "#de77ae"
            ],
            [
             0.3,
             "#f1b6da"
            ],
            [
             0.4,
             "#fde0ef"
            ],
            [
             0.5,
             "#f7f7f7"
            ],
            [
             0.6,
             "#e6f5d0"
            ],
            [
             0.7,
             "#b8e186"
            ],
            [
             0.8,
             "#7fbc41"
            ],
            [
             0.9,
             "#4d9221"
            ],
            [
             1,
             "#276419"
            ]
           ],
           "sequential": [
            [
             0,
             "#0d0887"
            ],
            [
             0.1111111111111111,
             "#46039f"
            ],
            [
             0.2222222222222222,
             "#7201a8"
            ],
            [
             0.3333333333333333,
             "#9c179e"
            ],
            [
             0.4444444444444444,
             "#bd3786"
            ],
            [
             0.5555555555555556,
             "#d8576b"
            ],
            [
             0.6666666666666666,
             "#ed7953"
            ],
            [
             0.7777777777777778,
             "#fb9f3a"
            ],
            [
             0.8888888888888888,
             "#fdca26"
            ],
            [
             1,
             "#f0f921"
            ]
           ],
           "sequentialminus": [
            [
             0,
             "#0d0887"
            ],
            [
             0.1111111111111111,
             "#46039f"
            ],
            [
             0.2222222222222222,
             "#7201a8"
            ],
            [
             0.3333333333333333,
             "#9c179e"
            ],
            [
             0.4444444444444444,
             "#bd3786"
            ],
            [
             0.5555555555555556,
             "#d8576b"
            ],
            [
             0.6666666666666666,
             "#ed7953"
            ],
            [
             0.7777777777777778,
             "#fb9f3a"
            ],
            [
             0.8888888888888888,
             "#fdca26"
            ],
            [
             1,
             "#f0f921"
            ]
           ]
          },
          "colorway": [
           "#636efa",
           "#EF553B",
           "#00cc96",
           "#ab63fa",
           "#FFA15A",
           "#19d3f3",
           "#FF6692",
           "#B6E880",
           "#FF97FF",
           "#FECB52"
          ],
          "font": {
           "color": "#2a3f5f"
          },
          "geo": {
           "bgcolor": "white",
           "lakecolor": "white",
           "landcolor": "#E5ECF6",
           "showlakes": true,
           "showland": true,
           "subunitcolor": "white"
          },
          "hoverlabel": {
           "align": "left"
          },
          "hovermode": "closest",
          "mapbox": {
           "style": "light"
          },
          "paper_bgcolor": "white",
          "plot_bgcolor": "#E5ECF6",
          "polar": {
           "angularaxis": {
            "gridcolor": "white",
            "linecolor": "white",
            "ticks": ""
           },
           "bgcolor": "#E5ECF6",
           "radialaxis": {
            "gridcolor": "white",
            "linecolor": "white",
            "ticks": ""
           }
          },
          "scene": {
           "xaxis": {
            "backgroundcolor": "#E5ECF6",
            "gridcolor": "white",
            "gridwidth": 2,
            "linecolor": "white",
            "showbackground": true,
            "ticks": "",
            "zerolinecolor": "white"
           },
           "yaxis": {
            "backgroundcolor": "#E5ECF6",
            "gridcolor": "white",
            "gridwidth": 2,
            "linecolor": "white",
            "showbackground": true,
            "ticks": "",
            "zerolinecolor": "white"
           },
           "zaxis": {
            "backgroundcolor": "#E5ECF6",
            "gridcolor": "white",
            "gridwidth": 2,
            "linecolor": "white",
            "showbackground": true,
            "ticks": "",
            "zerolinecolor": "white"
           }
          },
          "shapedefaults": {
           "line": {
            "color": "#2a3f5f"
           }
          },
          "ternary": {
           "aaxis": {
            "gridcolor": "white",
            "linecolor": "white",
            "ticks": ""
           },
           "baxis": {
            "gridcolor": "white",
            "linecolor": "white",
            "ticks": ""
           },
           "bgcolor": "#E5ECF6",
           "caxis": {
            "gridcolor": "white",
            "linecolor": "white",
            "ticks": ""
           }
          },
          "title": {
           "x": 0.05
          },
          "xaxis": {
           "automargin": true,
           "gridcolor": "white",
           "linecolor": "white",
           "ticks": "",
           "title": {
            "standoff": 15
           },
           "zerolinecolor": "white",
           "zerolinewidth": 2
          },
          "yaxis": {
           "automargin": true,
           "gridcolor": "white",
           "linecolor": "white",
           "ticks": "",
           "title": {
            "standoff": 15
           },
           "zerolinecolor": "white",
           "zerolinewidth": 2
          }
         }
        },
        "title": {
         "text": "Количество заказов пользователей"
        },
        "width": 800,
        "xaxis": {
         "anchor": "y",
         "domain": [
          0,
          1
         ],
         "title": {
          "text": "номер заказа"
         }
        },
        "yaxis": {
         "anchor": "x",
         "domain": [
          0,
          1
         ],
         "title": {
          "text": "число заказов"
         }
        }
       }
      },
      "text/html": [
       "<div>            <script src=\"https://cdnjs.cloudflare.com/ajax/libs/mathjax/2.7.5/MathJax.js?config=TeX-AMS-MML_SVG\"></script><script type=\"text/javascript\">if (window.MathJax && window.MathJax.Hub && window.MathJax.Hub.Config) {window.MathJax.Hub.Config({SVG: {font: \"STIX-Web\"}});}</script>                <script type=\"text/javascript\">window.PlotlyConfig = {MathJaxConfig: 'local'};</script>\n",
       "        <script charset=\"utf-8\" src=\"https://cdn.plot.ly/plotly-3.0.1.min.js\"></script>                <div id=\"a34e7f30-5341-4059-ac25-ad6e106671d2\" class=\"plotly-graph-div\" style=\"height:525px; width:800px;\"></div>            <script type=\"text/javascript\">                window.PLOTLYENV=window.PLOTLYENV || {};                                if (document.getElementById(\"a34e7f30-5341-4059-ac25-ad6e106671d2\")) {                    Plotly.newPlot(                        \"a34e7f30-5341-4059-ac25-ad6e106671d2\",                        [{\"hovertemplate\":\"\\u043d\\u043e\\u043c\\u0435\\u0440 \\u0437\\u0430\\u043a\\u0430\\u0437\\u0430=%{x}\\u003cbr\\u003e\\u0447\\u0438\\u0441\\u043b\\u043e \\u0437\\u0430\\u043a\\u0430\\u0437\\u043e\\u0432=%{y}\\u003cextra\\u003e\\u003c\\u002fextra\\u003e\",\"legendgroup\":\"\",\"marker\":{\"color\":\"#636efa\",\"symbol\":\"circle\"},\"mode\":\"markers\",\"name\":\"\",\"showlegend\":false,\"x\":{\"dtype\":\"i2\",\"bdata\":\"AAABAAIAAwAEAAUABgAHAAgACQAKAAsADAANAA4ADwAQABEAEgATABQAFQAWABcAGAAZABoAGwAcAB0AHgAfACAAIQAiACMAJAAlACYAJwAoACkAKgArACwALQAuAC8AMAAxADIAMwA0ADUANgA3ADgAOQA6ADsAPAA9AD4APwBAAEEAQgBDAEQARQBGAEcASABJAEoASwBMAE0ATgBPAFAAUQBSAFMAVABVAFYAVwBYAFkAWgBbAFwAXQBeAF8AYABhAGIAYwBkAGUAZgBnAGgAaQBqAGsAbABtAG4AbwBwAHEAcgBzAHQAdQB2AHcAeAB5AHoAewB8AH0AfgB\\u002fAIAAgQCCAIMAhACFAIYAhwCIAIkAigCLAIwAjQCOAI8AkACRAJIAkwCUAJUAlgCXAJgAmQCaAJsAnACdAJ4AnwCgAKEAogCjAKQApQCmAKcAqACpAKoAqwCsAK0ArgCvALAAsQCyALMAtAC1ALYAtwC4ALkAugC7ALwAvQC+AL8AwADBAMIAwwDEAMUAxgDHAMgAyQDKAMsAzADNAM4AzwDQANEA0gDTANQA1QDWANcA2ADZANoA2wDcAN0A3gDfAOAA4QDiAOMA5ADlAOYA5wDoAOkA6gDrAOwA7QDuAO8A8ADxAPIA8wD0APUA9gD3APgA+QD6APsA\\u002fAD9AP4A\\u002fwAAAQEBAgEDAQQBBQEGAQcBCAEJAQoBCwEMAQ0BDgEPARABEQESARMBFAEVARYBFwEYARkBGgEbARwBHQEeAR8BIAEhASIBIwEkASUBJgEnASgBKQEqASsBLAEtAS4BLwEwATEBMgEzATQBNQE2ATcBOAE5AToBOwE8AT0BPgE\\u002fAUABQQFCAUMBRAFFAUYBRwFIAUkBSgFLAUwBTQFOAU8BUAFRAVIBUwFUAVUBVgFXAVgBWQFaAVsBXAFdAV4BXwFgAWEBYgFjAWQBZQFmAWcBaAFpAWoBawFsAW0BbgFvAXABcQFyAXMBdAF1AXYBdwF4AXkBegF7AXwBfQF+AX8BgAGBAYIBgwGEAYUBhgGHAYgBiQGKAYsBjAGNAY4BjwGQAZEBkgGTAZQBlQGWAZcBmAGZAZoBmwGcAZ0BngGfAaABoQGiAaMBpAGlAaYBpwGoAakBqgGrAawBrQGuAa8BsAGxAbIBswG0AbUBtgG3AbgBuQG6AbsBvAG9Ab4BvwHAAcEBwgHDAcQBxQHGAccByAHJAcoBywHMAc0BzgHPAdAB0QHSAdMB1AHVAdYB1wHYAdkB2gHbAdwB3QHeAd8B4AHhAeIB4wHkAeUB5gHnAegB6QHqAesB7AHtAe4B7wHwAfEB8gHzAfQB9QH2AfcB+AH5AfoB+wH8Af0B\\u002fgH\\u002fAQACAQICAgMCBAIFAgYCBwIIAgkCCgILAgwCDQIOAg8CEAIRAhICEwIUAhUCFgIXAhgCGQIaAhsCHAIdAh4CHwIgAiECIgIjAiQCJQImAicCKAIpAioCKwIsAi0CLgIvAjACMQIyAjMCNAI1AjYCNwI4AjkCOgI7AjwCPQI+Aj8CQAJBAkICQwJEAkUCRgJHAkgCSQJKAksCTAJNAk4CTwJQAlECUgJTAlQCVQJWAlcCWAJZAloCWwJcAl0CXgJfAmACYQJiAmMCZAJlAmYCZwJoAmkCagJrAmwCbQJuAm8CcAJxAnICcwJ0AnUCdgJ3AngCeQJ6AnsCfAJ9An4CfwKAAoECggKDAoQChQKGAocCiAKJAooCiwKMAo0CjgKPApACkQKSApMClAKVApYClwKYApkCmgKbApwCnQKeAp8CoAKhAqICowKkAqUCpgKnAqgCqQKqAqsCrAKtAq4CrwKwArECsgKzArQCtQK2ArcCuAK5AroCuwK8Ar0CvgK\\u002fAsACwQLCAsMCxALFAsYCxwLIAskCygLLAswCzQLOAs8C0ALRAtIC0wLUAtUC1gLXAtgC2QLaAtsC3ALdAt4C3wLgAuEC4gLjAuQC5QLmAucC6ALpAuoC6wLsAu0C7gLvAvAC8QLyAvMC9AL1AvYC9wL4AvkC+gL7AvwC\\u002fQL+Av8CAAMBAwIDAwMEAwUDBgMHAwgDCQMKAwsDDAMNAw4DDwMQAxEDEgMTAxQDFQMWAxcDGAMZAxoDGwMcAx0DHgMfAyADIQMiAyMDJAMlAyYDJwMoAykDKgMrAywDLQMuAy8DMAMxAzIDMwM0AzUDNgM3AzgDOQM6AzsDPAM9Az4DPwNAA0EDQgNDA0QDRQNGA0cDSANJA0oDSwNMA00DTgNPA1ADUQNSA1MDVANVA1YDVwNYA1kDWgNbA1wDXQNeA18DYANhA2IDYwNkA2UDZgNnA2gDaQNqA2sDbANtA24DbwNwA3EDcgNzA3QDdQN2A3cDeAN5A3oDewN8A30DfgN\\u002fA4ADgQOCA4MDhAOFA4YDhwOIA4kDigOLA4wDjQOOA48DkAORA5IDkwOUA5UDlgOXA5gDmQOaA5sDnAOdA54DnwOgA6EDogOjA6QDpQOmA6cDqAOpA6oDqwOsA60DrgOvA7ADsQOyA7MDtAO1A7YDtwO4A7kDugO7A7wDvQO+A78DwAPBA8IDwwPEA8UDxgPHA8gDyQPKA8sDzAPNA84DzwPQA9ED0gPTA9QD1QPWA9cD2APZA9oD2wPcA90D3gPfA+AD4QPiA+MD5APlA+YD5wPoA+kD6gPrA+wD7QPuA+8D8APxA\\u002fID8wP0A\\u002fUD9gP3A\\u002fgD+QP6A\\u002fsD\\u002fAP9A\\u002f4D\\u002fwMABAEEAgQDBAQEBQQGBA==\"},\"xaxis\":\"x\",\"y\":{\"dtype\":\"i1\",\"bdata\":\"AQECAQEBAQEBAQEBAQEBAQEBAQEBAQEBAQEBAQEBAQEBAQEBAQEBAQEBAQEFAQEBAQEBAgEBAQUBAQEDAQEBAQEBAgEBAQEBAQEBAQEBAQEBAQEBAgEBAQIBAQEBAQEBAQMBAQECAQEBAQEBAQEBAQEBBAEBAQECAQECAQEBAQECAQEBAQEBAQEBAQEBAQEBAQEBAQMBAQEBAQEBAQEBAQEBAQEBAQECAQEBAQEBAQEBAQEBAQEBAQEBAgEBAQEBAgEBAQEBAQEBAQEBAQEBAQEBAQEBAQEBAQEBAQEBAQEBAQEBAQEBAQEBAQECAQEBAQEBAQEBAQEBAQEBAQEBAQEBAQEBAQEBAQEBAQEBAQEBAQEBAQEBAQEBAQEBAQEBAQEBAQEBAQEBAQEFAQEBAQEBAQEBAQEDAQEBAQIBAgEBAQEBAQEBAQEBAQEBAQEBAQEBAgMBAQEBAQEBAQEBAQEBAQEBAQEBAQEBAQEBAQEBAQEBAQEBAQEBAQEBAQEBAQECAQEBAQEBBAIBAQEBAgEBAgEBAQMBAQEBAQEBAQEBAQEBAQEDAQEBAQEBAgEBAQEBAQIBAQEBAQEBAQEBAQEBAQEBAQEBAQEBAQEBAQEBAQEBAQIBAQEBAQECAQEBAQEBAgEBAQgBAQEDAQEBAQEBAQEBAQIBAwEBAQEBAQEBAQEBAQEBAQEBAQEBAQEBAQEBAQEBAQIBAQEBAQEBAQEBAQEBAQEBAQEBAgEBAQEBAQEBAQIBAQEJAQEBAQECAQEBAQEBAQEBAQEBAQEBCwEBAQEBAQEBAQEBAQEBAQEBAQEBAQECAQEBAQQBAQIBAQEBAQEBAQEBAQEBAQEBAgEBAQEBAQEBAgEBAQEBAQEBAgEBAQICAgEBAQMBAgEBAQEBAQEDAQEBAQEBAQEBAQEBAQEBAQEBAQEBAQIBAQEBAQEBAQECAQEBAQIBAQIBAQEBAQEBAwEBAQEBAQEBAQEBAQEBAQEBBQEBAQECAQEBAQEBAQEBAQEBAQEBAQEBAQEBAQEBAQEBAQEBAQEBAQIBAQEBAQEBAgEBAQEBAQEBAQEBAQEBAQEBAQEBAQEBAQEBAQEBAgEBAQEBAQIBAQEBAgEBAQEBAQEBAQEBAQEBAgEBAQEBAQEBAQEBAQEBAQEBAQEBAQEBAQEBAQEBAQEBAQECAQEBAQEBAQEBAQEBBQEBAQEBAQEBAQEBAgEBAQEBAQEFAQEBAQEBAQEBAQEBAQEDAQEBAQMBAQEBAQECAQEBAgECAQEBAgEBAgIDAgEBAwEBAQEBAQEBAQEBAQEBAQEBAQEBAgEBAQEBAQICAQECAQEBAQEBAQEBAQEBAQMBAQEBAQEBAQEBAQEBCwEBAgEBAQE=\"},\"yaxis\":\"y\",\"type\":\"scattergl\"}],                        {\"template\":{\"data\":{\"histogram2dcontour\":[{\"type\":\"histogram2dcontour\",\"colorbar\":{\"outlinewidth\":0,\"ticks\":\"\"},\"colorscale\":[[0.0,\"#0d0887\"],[0.1111111111111111,\"#46039f\"],[0.2222222222222222,\"#7201a8\"],[0.3333333333333333,\"#9c179e\"],[0.4444444444444444,\"#bd3786\"],[0.5555555555555556,\"#d8576b\"],[0.6666666666666666,\"#ed7953\"],[0.7777777777777778,\"#fb9f3a\"],[0.8888888888888888,\"#fdca26\"],[1.0,\"#f0f921\"]]}],\"choropleth\":[{\"type\":\"choropleth\",\"colorbar\":{\"outlinewidth\":0,\"ticks\":\"\"}}],\"histogram2d\":[{\"type\":\"histogram2d\",\"colorbar\":{\"outlinewidth\":0,\"ticks\":\"\"},\"colorscale\":[[0.0,\"#0d0887\"],[0.1111111111111111,\"#46039f\"],[0.2222222222222222,\"#7201a8\"],[0.3333333333333333,\"#9c179e\"],[0.4444444444444444,\"#bd3786\"],[0.5555555555555556,\"#d8576b\"],[0.6666666666666666,\"#ed7953\"],[0.7777777777777778,\"#fb9f3a\"],[0.8888888888888888,\"#fdca26\"],[1.0,\"#f0f921\"]]}],\"heatmap\":[{\"type\":\"heatmap\",\"colorbar\":{\"outlinewidth\":0,\"ticks\":\"\"},\"colorscale\":[[0.0,\"#0d0887\"],[0.1111111111111111,\"#46039f\"],[0.2222222222222222,\"#7201a8\"],[0.3333333333333333,\"#9c179e\"],[0.4444444444444444,\"#bd3786\"],[0.5555555555555556,\"#d8576b\"],[0.6666666666666666,\"#ed7953\"],[0.7777777777777778,\"#fb9f3a\"],[0.8888888888888888,\"#fdca26\"],[1.0,\"#f0f921\"]]}],\"contourcarpet\":[{\"type\":\"contourcarpet\",\"colorbar\":{\"outlinewidth\":0,\"ticks\":\"\"}}],\"contour\":[{\"type\":\"contour\",\"colorbar\":{\"outlinewidth\":0,\"ticks\":\"\"},\"colorscale\":[[0.0,\"#0d0887\"],[0.1111111111111111,\"#46039f\"],[0.2222222222222222,\"#7201a8\"],[0.3333333333333333,\"#9c179e\"],[0.4444444444444444,\"#bd3786\"],[0.5555555555555556,\"#d8576b\"],[0.6666666666666666,\"#ed7953\"],[0.7777777777777778,\"#fb9f3a\"],[0.8888888888888888,\"#fdca26\"],[1.0,\"#f0f921\"]]}],\"surface\":[{\"type\":\"surface\",\"colorbar\":{\"outlinewidth\":0,\"ticks\":\"\"},\"colorscale\":[[0.0,\"#0d0887\"],[0.1111111111111111,\"#46039f\"],[0.2222222222222222,\"#7201a8\"],[0.3333333333333333,\"#9c179e\"],[0.4444444444444444,\"#bd3786\"],[0.5555555555555556,\"#d8576b\"],[0.6666666666666666,\"#ed7953\"],[0.7777777777777778,\"#fb9f3a\"],[0.8888888888888888,\"#fdca26\"],[1.0,\"#f0f921\"]]}],\"mesh3d\":[{\"type\":\"mesh3d\",\"colorbar\":{\"outlinewidth\":0,\"ticks\":\"\"}}],\"scatter\":[{\"fillpattern\":{\"fillmode\":\"overlay\",\"size\":10,\"solidity\":0.2},\"type\":\"scatter\"}],\"parcoords\":[{\"type\":\"parcoords\",\"line\":{\"colorbar\":{\"outlinewidth\":0,\"ticks\":\"\"}}}],\"scatterpolargl\":[{\"type\":\"scatterpolargl\",\"marker\":{\"colorbar\":{\"outlinewidth\":0,\"ticks\":\"\"}}}],\"bar\":[{\"error_x\":{\"color\":\"#2a3f5f\"},\"error_y\":{\"color\":\"#2a3f5f\"},\"marker\":{\"line\":{\"color\":\"#E5ECF6\",\"width\":0.5},\"pattern\":{\"fillmode\":\"overlay\",\"size\":10,\"solidity\":0.2}},\"type\":\"bar\"}],\"scattergeo\":[{\"type\":\"scattergeo\",\"marker\":{\"colorbar\":{\"outlinewidth\":0,\"ticks\":\"\"}}}],\"scatterpolar\":[{\"type\":\"scatterpolar\",\"marker\":{\"colorbar\":{\"outlinewidth\":0,\"ticks\":\"\"}}}],\"histogram\":[{\"marker\":{\"pattern\":{\"fillmode\":\"overlay\",\"size\":10,\"solidity\":0.2}},\"type\":\"histogram\"}],\"scattergl\":[{\"type\":\"scattergl\",\"marker\":{\"colorbar\":{\"outlinewidth\":0,\"ticks\":\"\"}}}],\"scatter3d\":[{\"type\":\"scatter3d\",\"line\":{\"colorbar\":{\"outlinewidth\":0,\"ticks\":\"\"}},\"marker\":{\"colorbar\":{\"outlinewidth\":0,\"ticks\":\"\"}}}],\"scattermap\":[{\"type\":\"scattermap\",\"marker\":{\"colorbar\":{\"outlinewidth\":0,\"ticks\":\"\"}}}],\"scattermapbox\":[{\"type\":\"scattermapbox\",\"marker\":{\"colorbar\":{\"outlinewidth\":0,\"ticks\":\"\"}}}],\"scatterternary\":[{\"type\":\"scatterternary\",\"marker\":{\"colorbar\":{\"outlinewidth\":0,\"ticks\":\"\"}}}],\"scattercarpet\":[{\"type\":\"scattercarpet\",\"marker\":{\"colorbar\":{\"outlinewidth\":0,\"ticks\":\"\"}}}],\"carpet\":[{\"aaxis\":{\"endlinecolor\":\"#2a3f5f\",\"gridcolor\":\"white\",\"linecolor\":\"white\",\"minorgridcolor\":\"white\",\"startlinecolor\":\"#2a3f5f\"},\"baxis\":{\"endlinecolor\":\"#2a3f5f\",\"gridcolor\":\"white\",\"linecolor\":\"white\",\"minorgridcolor\":\"white\",\"startlinecolor\":\"#2a3f5f\"},\"type\":\"carpet\"}],\"table\":[{\"cells\":{\"fill\":{\"color\":\"#EBF0F8\"},\"line\":{\"color\":\"white\"}},\"header\":{\"fill\":{\"color\":\"#C8D4E3\"},\"line\":{\"color\":\"white\"}},\"type\":\"table\"}],\"barpolar\":[{\"marker\":{\"line\":{\"color\":\"#E5ECF6\",\"width\":0.5},\"pattern\":{\"fillmode\":\"overlay\",\"size\":10,\"solidity\":0.2}},\"type\":\"barpolar\"}],\"pie\":[{\"automargin\":true,\"type\":\"pie\"}]},\"layout\":{\"autotypenumbers\":\"strict\",\"colorway\":[\"#636efa\",\"#EF553B\",\"#00cc96\",\"#ab63fa\",\"#FFA15A\",\"#19d3f3\",\"#FF6692\",\"#B6E880\",\"#FF97FF\",\"#FECB52\"],\"font\":{\"color\":\"#2a3f5f\"},\"hovermode\":\"closest\",\"hoverlabel\":{\"align\":\"left\"},\"paper_bgcolor\":\"white\",\"plot_bgcolor\":\"#E5ECF6\",\"polar\":{\"bgcolor\":\"#E5ECF6\",\"angularaxis\":{\"gridcolor\":\"white\",\"linecolor\":\"white\",\"ticks\":\"\"},\"radialaxis\":{\"gridcolor\":\"white\",\"linecolor\":\"white\",\"ticks\":\"\"}},\"ternary\":{\"bgcolor\":\"#E5ECF6\",\"aaxis\":{\"gridcolor\":\"white\",\"linecolor\":\"white\",\"ticks\":\"\"},\"baxis\":{\"gridcolor\":\"white\",\"linecolor\":\"white\",\"ticks\":\"\"},\"caxis\":{\"gridcolor\":\"white\",\"linecolor\":\"white\",\"ticks\":\"\"}},\"coloraxis\":{\"colorbar\":{\"outlinewidth\":0,\"ticks\":\"\"}},\"colorscale\":{\"sequential\":[[0.0,\"#0d0887\"],[0.1111111111111111,\"#46039f\"],[0.2222222222222222,\"#7201a8\"],[0.3333333333333333,\"#9c179e\"],[0.4444444444444444,\"#bd3786\"],[0.5555555555555556,\"#d8576b\"],[0.6666666666666666,\"#ed7953\"],[0.7777777777777778,\"#fb9f3a\"],[0.8888888888888888,\"#fdca26\"],[1.0,\"#f0f921\"]],\"sequentialminus\":[[0.0,\"#0d0887\"],[0.1111111111111111,\"#46039f\"],[0.2222222222222222,\"#7201a8\"],[0.3333333333333333,\"#9c179e\"],[0.4444444444444444,\"#bd3786\"],[0.5555555555555556,\"#d8576b\"],[0.6666666666666666,\"#ed7953\"],[0.7777777777777778,\"#fb9f3a\"],[0.8888888888888888,\"#fdca26\"],[1.0,\"#f0f921\"]],\"diverging\":[[0,\"#8e0152\"],[0.1,\"#c51b7d\"],[0.2,\"#de77ae\"],[0.3,\"#f1b6da\"],[0.4,\"#fde0ef\"],[0.5,\"#f7f7f7\"],[0.6,\"#e6f5d0\"],[0.7,\"#b8e186\"],[0.8,\"#7fbc41\"],[0.9,\"#4d9221\"],[1,\"#276419\"]]},\"xaxis\":{\"gridcolor\":\"white\",\"linecolor\":\"white\",\"ticks\":\"\",\"title\":{\"standoff\":15},\"zerolinecolor\":\"white\",\"automargin\":true,\"zerolinewidth\":2},\"yaxis\":{\"gridcolor\":\"white\",\"linecolor\":\"white\",\"ticks\":\"\",\"title\":{\"standoff\":15},\"zerolinecolor\":\"white\",\"automargin\":true,\"zerolinewidth\":2},\"scene\":{\"xaxis\":{\"backgroundcolor\":\"#E5ECF6\",\"gridcolor\":\"white\",\"linecolor\":\"white\",\"showbackground\":true,\"ticks\":\"\",\"zerolinecolor\":\"white\",\"gridwidth\":2},\"yaxis\":{\"backgroundcolor\":\"#E5ECF6\",\"gridcolor\":\"white\",\"linecolor\":\"white\",\"showbackground\":true,\"ticks\":\"\",\"zerolinecolor\":\"white\",\"gridwidth\":2},\"zaxis\":{\"backgroundcolor\":\"#E5ECF6\",\"gridcolor\":\"white\",\"linecolor\":\"white\",\"showbackground\":true,\"ticks\":\"\",\"zerolinecolor\":\"white\",\"gridwidth\":2}},\"shapedefaults\":{\"line\":{\"color\":\"#2a3f5f\"}},\"annotationdefaults\":{\"arrowcolor\":\"#2a3f5f\",\"arrowhead\":0,\"arrowwidth\":1},\"geo\":{\"bgcolor\":\"white\",\"landcolor\":\"#E5ECF6\",\"subunitcolor\":\"white\",\"showland\":true,\"showlakes\":true,\"lakecolor\":\"white\"},\"title\":{\"x\":0.05},\"mapbox\":{\"style\":\"light\"}}},\"xaxis\":{\"anchor\":\"y\",\"domain\":[0.0,1.0],\"title\":{\"text\":\"\\u043d\\u043e\\u043c\\u0435\\u0440 \\u0437\\u0430\\u043a\\u0430\\u0437\\u0430\"}},\"yaxis\":{\"anchor\":\"x\",\"domain\":[0.0,1.0],\"title\":{\"text\":\"\\u0447\\u0438\\u0441\\u043b\\u043e \\u0437\\u0430\\u043a\\u0430\\u0437\\u043e\\u0432\"}},\"legend\":{\"tracegroupgap\":0},\"margin\":{\"t\":60},\"width\":800,\"title\":{\"text\":\"\\u041a\\u043e\\u043b\\u0438\\u0447\\u0435\\u0441\\u0442\\u0432\\u043e \\u0437\\u0430\\u043a\\u0430\\u0437\\u043e\\u0432 \\u043f\\u043e\\u043b\\u044c\\u0437\\u043e\\u0432\\u0430\\u0442\\u0435\\u043b\\u0435\\u0439\"}},                        {\"responsive\": true}                    ).then(function(){\n",
       "                            \n",
       "var gd = document.getElementById('a34e7f30-5341-4059-ac25-ad6e106671d2');\n",
       "var x = new MutationObserver(function (mutations, observer) {{\n",
       "        var display = window.getComputedStyle(gd).display;\n",
       "        if (!display || display === 'none') {{\n",
       "            console.log([gd, 'removed!']);\n",
       "            Plotly.purge(gd);\n",
       "            observer.disconnect();\n",
       "        }}\n",
       "}});\n",
       "\n",
       "// Listen for the removal of the full notebook cells\n",
       "var notebookContainer = gd.closest('#notebook-container');\n",
       "if (notebookContainer) {{\n",
       "    x.observe(notebookContainer, {childList: true});\n",
       "}}\n",
       "\n",
       "// Listen for the clearing of the current output cell\n",
       "var outputEl = gd.closest('.output');\n",
       "if (outputEl) {{\n",
       "    x.observe(outputEl, {childList: true});\n",
       "}}\n",
       "\n",
       "                        })                };            </script>        </div>"
      ]
     },
     "metadata": {},
     "output_type": "display_data"
    }
   ],
   "source": [
    "fig = px.scatter(count_orders,\n",
    "                 y='count_orders',\n",
    "                 labels={\n",
    "                         'count_orders': 'число заказов',\n",
    "                         'index': 'номер заказа'\n",
    "                         }\n",
    "                 )\n",
    "\n",
    "fig.update_layout(width=800,\n",
    "                  title='Количество заказов пользователей')\n",
    "iplot(fig)"
   ]
  },
  {
   "cell_type": "markdown",
   "metadata": {},
   "source": [
    "Видно что пользователи совершали даже 11 покупок. Выясним сколько на самом деле совершают заказов пользователи"
   ]
  },
  {
   "cell_type": "markdown",
   "metadata": {},
   "source": [
    "найдем 95 и 99 перцентили"
   ]
  },
  {
   "cell_type": "code",
   "execution_count": 36,
   "metadata": {
    "trusted": true
   },
   "outputs": [
    {
     "data": {
      "text/plain": [
       "array([2., 4.])"
      ]
     },
     "execution_count": 36,
     "metadata": {},
     "output_type": "execute_result"
    }
   ],
   "source": [
    "bound_count_orders = np.percentile(\n",
    "    count_orders['count_orders'],\n",
    "    [95, 99]\n",
    ")\n",
    "\n",
    "\n",
    "\n",
    "bound_count_orders"
   ]
  },
  {
   "cell_type": "markdown",
   "metadata": {},
   "source": [
    "выходит что 95 % пользователей совершают 2 заказа    \n",
    "а 99 % - менее 4 заказов"
   ]
  },
  {
   "cell_type": "markdown",
   "metadata": {},
   "source": [
    "Выберем границей нормального числа заказов -  4"
   ]
  },
  {
   "cell_type": "code",
   "execution_count": 37,
   "metadata": {
    "trusted": true
   },
   "outputs": [],
   "source": [
    "bound_normal_orders = bound_count_orders[1]"
   ]
  },
  {
   "cell_type": "markdown",
   "metadata": {},
   "source": [
    "### Стоимость заказов пользователей"
   ]
  },
  {
   "cell_type": "markdown",
   "metadata": {},
   "source": [
    "Посмотрим на стоимости заказов пользователей , наверняка есть что-то дорогое"
   ]
  },
  {
   "cell_type": "markdown",
   "metadata": {},
   "source": [
    "сторим соответсвующий график"
   ]
  },
  {
   "cell_type": "code",
   "execution_count": null,
   "metadata": {
    "trusted": true
   },
   "outputs": [
    {
     "data": {
      "application/vnd.plotly.v1+json": {
       "config": {
        "plotlyServerURL": "https://plot.ly"
       },
       "data": [
        {
         "hovertemplate": "заказы=%{x}<br>стоимость=%{y}<extra></extra>",
         "legendgroup": "",
         "marker": {
          "color": "#636efa",
          "symbol": "circle"
         },
         "mode": "markers",
         "name": "",
         "showlegend": false,
         "type": "scattergl",
         "x": {
          "bdata": "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",
          "dtype": "i2"
         },
         "xaxis": "x",
         "y": {
          "bdata": "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",
          "dtype": "i4"
         },
         "yaxis": "y"
        },
        {
         "alignmentgroup": "True",
         "boxpoints": "all",
         "fillcolor": "rgba(255,255,255,0)",
         "hoveron": "points",
         "hovertemplate": "стоимость=%{y}<extra></extra>",
         "jitter": 0,
         "legendgroup": "",
         "line": {
          "color": "rgba(255,255,255,0)"
         },
         "marker": {
          "color": "#636efa",
          "symbol": "line-ew-open"
         },
         "name": "",
         "offsetgroup": "",
         "showlegend": false,
         "type": "box",
         "xaxis": "x2",
         "y": {
          "bdata": "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",
          "dtype": "i4"
         },
         "yaxis": "y2"
        }
       ],
       "layout": {
        "legend": {
         "tracegroupgap": 0
        },
        "margin": {
         "t": 60
        },
        "template": {
         "data": {
          "bar": [
           {
            "error_x": {
             "color": "#2a3f5f"
            },
            "error_y": {
             "color": "#2a3f5f"
            },
            "marker": {
             "line": {
              "color": "#E5ECF6",
              "width": 0.5
             },
             "pattern": {
              "fillmode": "overlay",
              "size": 10,
              "solidity": 0.2
             }
            },
            "type": "bar"
           }
          ],
          "barpolar": [
           {
            "marker": {
             "line": {
              "color": "#E5ECF6",
              "width": 0.5
             },
             "pattern": {
              "fillmode": "overlay",
              "size": 10,
              "solidity": 0.2
             }
            },
            "type": "barpolar"
           }
          ],
          "carpet": [
           {
            "aaxis": {
             "endlinecolor": "#2a3f5f",
             "gridcolor": "white",
             "linecolor": "white",
             "minorgridcolor": "white",
             "startlinecolor": "#2a3f5f"
            },
            "baxis": {
             "endlinecolor": "#2a3f5f",
             "gridcolor": "white",
             "linecolor": "white",
             "minorgridcolor": "white",
             "startlinecolor": "#2a3f5f"
            },
            "type": "carpet"
           }
          ],
          "choropleth": [
           {
            "colorbar": {
             "outlinewidth": 0,
             "ticks": ""
            },
            "type": "choropleth"
           }
          ],
          "contour": [
           {
            "colorbar": {
             "outlinewidth": 0,
             "ticks": ""
            },
            "colorscale": [
             [
              0,
              "#0d0887"
             ],
             [
              0.1111111111111111,
              "#46039f"
             ],
             [
              0.2222222222222222,
              "#7201a8"
             ],
             [
              0.3333333333333333,
              "#9c179e"
             ],
             [
              0.4444444444444444,
              "#bd3786"
             ],
             [
              0.5555555555555556,
              "#d8576b"
             ],
             [
              0.6666666666666666,
              "#ed7953"
             ],
             [
              0.7777777777777778,
              "#fb9f3a"
             ],
             [
              0.8888888888888888,
              "#fdca26"
             ],
             [
              1,
              "#f0f921"
             ]
            ],
            "type": "contour"
           }
          ],
          "contourcarpet": [
           {
            "colorbar": {
             "outlinewidth": 0,
             "ticks": ""
            },
            "type": "contourcarpet"
           }
          ],
          "heatmap": [
           {
            "colorbar": {
             "outlinewidth": 0,
             "ticks": ""
            },
            "colorscale": [
             [
              0,
              "#0d0887"
             ],
             [
              0.1111111111111111,
              "#46039f"
             ],
             [
              0.2222222222222222,
              "#7201a8"
             ],
             [
              0.3333333333333333,
              "#9c179e"
             ],
             [
              0.4444444444444444,
              "#bd3786"
             ],
             [
              0.5555555555555556,
              "#d8576b"
             ],
             [
              0.6666666666666666,
              "#ed7953"
             ],
             [
              0.7777777777777778,
              "#fb9f3a"
             ],
             [
              0.8888888888888888,
              "#fdca26"
             ],
             [
              1,
              "#f0f921"
             ]
            ],
            "type": "heatmap"
           }
          ],
          "histogram": [
           {
            "marker": {
             "pattern": {
              "fillmode": "overlay",
              "size": 10,
              "solidity": 0.2
             }
            },
            "type": "histogram"
           }
          ],
          "histogram2d": [
           {
            "colorbar": {
             "outlinewidth": 0,
             "ticks": ""
            },
            "colorscale": [
             [
              0,
              "#0d0887"
             ],
             [
              0.1111111111111111,
              "#46039f"
             ],
             [
              0.2222222222222222,
              "#7201a8"
             ],
             [
              0.3333333333333333,
              "#9c179e"
             ],
             [
              0.4444444444444444,
              "#bd3786"
             ],
             [
              0.5555555555555556,
              "#d8576b"
             ],
             [
              0.6666666666666666,
              "#ed7953"
             ],
             [
              0.7777777777777778,
              "#fb9f3a"
             ],
             [
              0.8888888888888888,
              "#fdca26"
             ],
             [
              1,
              "#f0f921"
             ]
            ],
            "type": "histogram2d"
           }
          ],
          "histogram2dcontour": [
           {
            "colorbar": {
             "outlinewidth": 0,
             "ticks": ""
            },
            "colorscale": [
             [
              0,
              "#0d0887"
             ],
             [
              0.1111111111111111,
              "#46039f"
             ],
             [
              0.2222222222222222,
              "#7201a8"
             ],
             [
              0.3333333333333333,
              "#9c179e"
             ],
             [
              0.4444444444444444,
              "#bd3786"
             ],
             [
              0.5555555555555556,
              "#d8576b"
             ],
             [
              0.6666666666666666,
              "#ed7953"
             ],
             [
              0.7777777777777778,
              "#fb9f3a"
             ],
             [
              0.8888888888888888,
              "#fdca26"
             ],
             [
              1,
              "#f0f921"
             ]
            ],
            "type": "histogram2dcontour"
           }
          ],
          "mesh3d": [
           {
            "colorbar": {
             "outlinewidth": 0,
             "ticks": ""
            },
            "type": "mesh3d"
           }
          ],
          "parcoords": [
           {
            "line": {
             "colorbar": {
              "outlinewidth": 0,
              "ticks": ""
             }
            },
            "type": "parcoords"
           }
          ],
          "pie": [
           {
            "automargin": true,
            "type": "pie"
           }
          ],
          "scatter": [
           {
            "fillpattern": {
             "fillmode": "overlay",
             "size": 10,
             "solidity": 0.2
            },
            "type": "scatter"
           }
          ],
          "scatter3d": [
           {
            "line": {
             "colorbar": {
              "outlinewidth": 0,
              "ticks": ""
             }
            },
            "marker": {
             "colorbar": {
              "outlinewidth": 0,
              "ticks": ""
             }
            },
            "type": "scatter3d"
           }
          ],
          "scattercarpet": [
           {
            "marker": {
             "colorbar": {
              "outlinewidth": 0,
              "ticks": ""
             }
            },
            "type": "scattercarpet"
           }
          ],
          "scattergeo": [
           {
            "marker": {
             "colorbar": {
              "outlinewidth": 0,
              "ticks": ""
             }
            },
            "type": "scattergeo"
           }
          ],
          "scattergl": [
           {
            "marker": {
             "colorbar": {
              "outlinewidth": 0,
              "ticks": ""
             }
            },
            "type": "scattergl"
           }
          ],
          "scattermap": [
           {
            "marker": {
             "colorbar": {
              "outlinewidth": 0,
              "ticks": ""
             }
            },
            "type": "scattermap"
           }
          ],
          "scattermapbox": [
           {
            "marker": {
             "colorbar": {
              "outlinewidth": 0,
              "ticks": ""
             }
            },
            "type": "scattermapbox"
           }
          ],
          "scatterpolar": [
           {
            "marker": {
             "colorbar": {
              "outlinewidth": 0,
              "ticks": ""
             }
            },
            "type": "scatterpolar"
           }
          ],
          "scatterpolargl": [
           {
            "marker": {
             "colorbar": {
              "outlinewidth": 0,
              "ticks": ""
             }
            },
            "type": "scatterpolargl"
           }
          ],
          "scatterternary": [
           {
            "marker": {
             "colorbar": {
              "outlinewidth": 0,
              "ticks": ""
             }
            },
            "type": "scatterternary"
           }
          ],
          "surface": [
           {
            "colorbar": {
             "outlinewidth": 0,
             "ticks": ""
            },
            "colorscale": [
             [
              0,
              "#0d0887"
             ],
             [
              0.1111111111111111,
              "#46039f"
             ],
             [
              0.2222222222222222,
              "#7201a8"
             ],
             [
              0.3333333333333333,
              "#9c179e"
             ],
             [
              0.4444444444444444,
              "#bd3786"
             ],
             [
              0.5555555555555556,
              "#d8576b"
             ],
             [
              0.6666666666666666,
              "#ed7953"
             ],
             [
              0.7777777777777778,
              "#fb9f3a"
             ],
             [
              0.8888888888888888,
              "#fdca26"
             ],
             [
              1,
              "#f0f921"
             ]
            ],
            "type": "surface"
           }
          ],
          "table": [
           {
            "cells": {
             "fill": {
              "color": "#EBF0F8"
             },
             "line": {
              "color": "white"
             }
            },
            "header": {
             "fill": {
              "color": "#C8D4E3"
             },
             "line": {
              "color": "white"
             }
            },
            "type": "table"
           }
          ]
         },
         "layout": {
          "annotationdefaults": {
           "arrowcolor": "#2a3f5f",
           "arrowhead": 0,
           "arrowwidth": 1
          },
          "autotypenumbers": "strict",
          "coloraxis": {
           "colorbar": {
            "outlinewidth": 0,
            "ticks": ""
           }
          },
          "colorscale": {
           "diverging": [
            [
             0,
             "#8e0152"
            ],
            [
             0.1,
             "#c51b7d"
            ],
            [
             0.2,
             "#de77ae"
            ],
            [
             0.3,
             "#f1b6da"
            ],
            [
             0.4,
             "#fde0ef"
            ],
            [
             0.5,
             "#f7f7f7"
            ],
            [
             0.6,
             "#e6f5d0"
            ],
            [
             0.7,
             "#b8e186"
            ],
            [
             0.8,
             "#7fbc41"
            ],
            [
             0.9,
             "#4d9221"
            ],
            [
             1,
             "#276419"
            ]
           ],
           "sequential": [
            [
             0,
             "#0d0887"
            ],
            [
             0.1111111111111111,
             "#46039f"
            ],
            [
             0.2222222222222222,
             "#7201a8"
            ],
            [
             0.3333333333333333,
             "#9c179e"
            ],
            [
             0.4444444444444444,
             "#bd3786"
            ],
            [
             0.5555555555555556,
             "#d8576b"
            ],
            [
             0.6666666666666666,
             "#ed7953"
            ],
            [
             0.7777777777777778,
             "#fb9f3a"
            ],
            [
             0.8888888888888888,
             "#fdca26"
            ],
            [
             1,
             "#f0f921"
            ]
           ],
           "sequentialminus": [
            [
             0,
             "#0d0887"
            ],
            [
             0.1111111111111111,
             "#46039f"
            ],
            [
             0.2222222222222222,
             "#7201a8"
            ],
            [
             0.3333333333333333,
             "#9c179e"
            ],
            [
             0.4444444444444444,
             "#bd3786"
            ],
            [
             0.5555555555555556,
             "#d8576b"
            ],
            [
             0.6666666666666666,
             "#ed7953"
            ],
            [
             0.7777777777777778,
             "#fb9f3a"
            ],
            [
             0.8888888888888888,
             "#fdca26"
            ],
            [
             1,
             "#f0f921"
            ]
           ]
          },
          "colorway": [
           "#636efa",
           "#EF553B",
           "#00cc96",
           "#ab63fa",
           "#FFA15A",
           "#19d3f3",
           "#FF6692",
           "#B6E880",
           "#FF97FF",
           "#FECB52"
          ],
          "font": {
           "color": "#2a3f5f"
          },
          "geo": {
           "bgcolor": "white",
           "lakecolor": "white",
           "landcolor": "#E5ECF6",
           "showlakes": true,
           "showland": true,
           "subunitcolor": "white"
          },
          "hoverlabel": {
           "align": "left"
          },
          "hovermode": "closest",
          "mapbox": {
           "style": "light"
          },
          "paper_bgcolor": "white",
          "plot_bgcolor": "#E5ECF6",
          "polar": {
           "angularaxis": {
            "gridcolor": "white",
            "linecolor": "white",
            "ticks": ""
           },
           "bgcolor": "#E5ECF6",
           "radialaxis": {
            "gridcolor": "white",
            "linecolor": "white",
            "ticks": ""
           }
          },
          "scene": {
           "xaxis": {
            "backgroundcolor": "#E5ECF6",
            "gridcolor": "white",
            "gridwidth": 2,
            "linecolor": "white",
            "showbackground": true,
            "ticks": "",
            "zerolinecolor": "white"
           },
           "yaxis": {
            "backgroundcolor": "#E5ECF6",
            "gridcolor": "white",
            "gridwidth": 2,
            "linecolor": "white",
            "showbackground": true,
            "ticks": "",
            "zerolinecolor": "white"
           },
           "zaxis": {
            "backgroundcolor": "#E5ECF6",
            "gridcolor": "white",
            "gridwidth": 2,
            "linecolor": "white",
            "showbackground": true,
            "ticks": "",
            "zerolinecolor": "white"
           }
          },
          "shapedefaults": {
           "line": {
            "color": "#2a3f5f"
           }
          },
          "ternary": {
           "aaxis": {
            "gridcolor": "white",
            "linecolor": "white",
            "ticks": ""
           },
           "baxis": {
            "gridcolor": "white",
            "linecolor": "white",
            "ticks": ""
           },
           "bgcolor": "#E5ECF6",
           "caxis": {
            "gridcolor": "white",
            "linecolor": "white",
            "ticks": ""
           }
          },
          "title": {
           "x": 0.05
          },
          "xaxis": {
           "automargin": true,
           "gridcolor": "white",
           "linecolor": "white",
           "ticks": "",
           "title": {
            "standoff": 15
           },
           "zerolinecolor": "white",
           "zerolinewidth": 2
          },
          "yaxis": {
           "automargin": true,
           "gridcolor": "white",
           "linecolor": "white",
           "ticks": "",
           "title": {
            "standoff": 15
           },
           "zerolinecolor": "white",
           "zerolinewidth": 2
          }
         }
        },
        "title": {
         "text": "Стоимость заказов пользователей"
        },
        "width": 800,
        "xaxis": {
         "anchor": "y",
         "domain": [
          0,
          0.8358
         ],
         "title": {
          "text": "заказы"
         }
        },
        "xaxis2": {
         "anchor": "y2",
         "domain": [
          0.8408,
          1
         ],
         "matches": "x2",
         "showgrid": false,
         "showline": false,
         "showticklabels": false,
         "ticks": ""
        },
        "yaxis": {
         "anchor": "x",
         "domain": [
          0,
          1
         ],
         "range": [
          0,
          120000
         ],
         "title": {
          "text": "стоимость"
         }
        },
        "yaxis2": {
         "anchor": "x2",
         "domain": [
          0,
          1
         ],
         "matches": "y",
         "showgrid": true,
         "showticklabels": false
        }
       }
      },
      "text/html": [
       "<div>            <script src=\"https://cdnjs.cloudflare.com/ajax/libs/mathjax/2.7.5/MathJax.js?config=TeX-AMS-MML_SVG\"></script><script type=\"text/javascript\">if (window.MathJax && window.MathJax.Hub && window.MathJax.Hub.Config) {window.MathJax.Hub.Config({SVG: {font: \"STIX-Web\"}});}</script>                <script type=\"text/javascript\">window.PlotlyConfig = {MathJaxConfig: 'local'};</script>\n",
       "        <script charset=\"utf-8\" src=\"https://cdn.plot.ly/plotly-3.0.1.min.js\"></script>                <div id=\"39ff5cd7-5173-4647-8b5e-0d23738313ba\" class=\"plotly-graph-div\" style=\"height:525px; width:800px;\"></div>            <script type=\"text/javascript\">                window.PLOTLYENV=window.PLOTLYENV || {};                                if (document.getElementById(\"39ff5cd7-5173-4647-8b5e-0d23738313ba\")) {                    Plotly.newPlot(                        \"39ff5cd7-5173-4647-8b5e-0d23738313ba\",                        [{\"hovertemplate\":\"\\u0437\\u0430\\u043a\\u0430\\u0437\\u044b=%{x}\\u003cbr\\u003e\\u0441\\u0442\\u043e\\u0438\\u043c\\u043e\\u0441\\u0442\\u044c=%{y}\\u003cextra\\u003e\\u003c\\u002fextra\\u003e\",\"legendgroup\":\"\",\"marker\":{\"color\":\"#636efa\",\"symbol\":\"circle\"},\"mode\":\"markers\",\"name\":\"\",\"showlegend\":false,\"x\":{\"dtype\":\"i2\",\"bdata\":\"AAABAAIAAwAEAAUABgAHAAgACQAKAAsADAANAA4ADwAQABEAEgATABQAFQAWABcAGAAZABoAGwAcAB0AHgAfACAAIQAiACMAJAAlACYAJwAoACkAKgArACwALQAuAC8AMAAxADIAMwA0ADUANgA3ADgAOQA6ADsAPAA9AD4APwBAAEEAQgBDAEQARQBGAEcASABJAEoASwBMAE0ATgBPAFAAUQBSAFMAVABVAFYAVwBYAFkAWgBbAFwAXQBeAF8AYABhAGIAYwBkAGUAZgBnAGgAaQBqAGsAbABtAG4AbwBwAHEAcgBzAHQAdQB2AHcAeAB5AHoAewB8AH0AfgB\\u002fAIAAgQCCAIMAhACFAIYAhwCIAIkAigCLAIwAjQCOAI8AkACRAJIAkwCUAJUAlgCXAJgAmQCaAJsAnACdAJ4AnwCgAKEAogCjAKQApQCmAKcAqACpAKoAqwCsAK0ArgCvALAAsQCyALMAtAC1ALYAtwC4ALkAugC7ALwAvQC+AL8AwADBAMIAwwDEAMUAxgDHAMgAyQDKAMsAzADNAM4AzwDQANEA0gDTANQA1QDWANcA2ADZANoA2wDcAN0A3gDfAOAA4QDiAOMA5ADlAOYA5wDoAOkA6gDrAOwA7QDuAO8A8ADxAPIA8wD0APUA9gD3APgA+QD6APsA\\u002fAD9AP4A\\u002fwAAAQEBAgEDAQQBBQEGAQcBCAEJAQoBCwEMAQ0BDgEPARABEQESARMBFAEVARYBFwEYARkBGgEbARwBHQEeAR8BIAEhASIBIwEkASUBJgEnASgBKQEqASsBLAEtAS4BLwEwATEBMgEzATQBNQE2ATcBOAE5AToBOwE8AT0BPgE\\u002fAUABQQFCAUMBRAFFAUYBRwFIAUkBSgFLAUwBTQFOAU8BUAFRAVIBUwFUAVUBVgFXAVgBWQFaAVsBXAFdAV4BXwFgAWEBYgFjAWQBZQFmAWcBaAFpAWoBawFsAW0BbgFvAXABcQFyAXMBdAF1AXYBdwF4AXkBegF7AXwBfQF+AX8BgAGBAYIBgwGEAYUBhgGHAYgBiQGKAYsBjAGNAY4BjwGQAZEBkgGTAZQBlQGWAZcBmAGZAZoBmwGcAZ0BngGfAaABoQGiAaMBpAGlAaYBpwGoAakBqgGrAawBrQGuAa8BsAGxAbIBswG0AbUBtgG3AbgBuQG6AbsBvAG9Ab4BvwHAAcEBwgHDAcQBxQHGAccByAHJAcoBywHMAc0BzgHPAdAB0QHSAdMB1AHVAdYB1wHYAdkB2gHbAdwB3QHeAd8B4AHhAeIB4wHkAeUB5gHnAegB6QHqAesB7AHtAe4B7wHwAfEB8gHzAfQB9QH2AfcB+AH5AfoB+wH8Af0B\\u002fgH\\u002fAQACAQICAgMCBAIFAgYCBwIIAgkCCgILAgwCDQIOAg8CEAIRAhICEwIUAhUCFgIXAhgCGQIaAhsCHAIdAh4CHwIgAiECIgIjAiQCJQImAicCKAIpAioCKwIsAi0CLgIvAjACMQIyAjMCNAI1AjYCNwI4AjkCOgI7AjwCPQI+Aj8CQAJBAkICQwJEAkUCRgJHAkgCSQJKAksCTAJNAk4CTwJQAlECUgJTAlQCVQJWAlcCWAJZAloCWwJcAl0CXgJfAmACYQJiAmMCZAJlAmYCZwJoAmkCagJrAmwCbQJuAm8CcAJxAnICcwJ0AnUCdgJ3AngCeQJ6AnsCfAJ9An4CfwKAAoECggKDAoQChQKGAocCiAKJAooCiwKMAo0CjgKPApACkQKSApMClAKVApYClwKYApkCmgKbApwCnQKeAp8CoAKhAqICowKkAqUCpgKnAqgCqQKqAqsCrAKtAq4CrwKwArECsgKzArQCtQK2ArcCuAK5AroCuwK8Ar0CvgK\\u002fAsACwQLCAsMCxALFAsYCxwLIAskCygLLAswCzQLOAs8C0ALRAtIC0wLUAtUC1gLXAtgC2QLaAtsC3ALdAt4C3wLgAuEC4gLjAuQC5QLmAucC6ALpAuoC6wLsAu0C7gLvAvAC8QLyAvMC9AL1AvYC9wL4AvkC+gL7AvwC\\u002fQL+Av8CAAMBAwIDAwMEAwUDBgMHAwgDCQMKAwsDDAMNAw4DDwMQAxEDEgMTAxQDFQMWAxcDGAMZAxoDGwMcAx0DHgMfAyADIQMiAyMDJAMlAyYDJwMoAykDKgMrAywDLQMuAy8DMAMxAzIDMwM0AzUDNgM3AzgDOQM6AzsDPAM9Az4DPwNAA0EDQgNDA0QDRQNGA0cDSANJA0oDSwNMA00DTgNPA1ADUQNSA1MDVANVA1YDVwNYA1kDWgNbA1wDXQNeA18DYANhA2IDYwNkA2UDZgNnA2gDaQNqA2sDbANtA24DbwNwA3EDcgNzA3QDdQN2A3cDeAN5A3oDewN8A30DfgN\\u002fA4ADgQOCA4MDhAOFA4YDhwOIA4kDigOLA4wDjQOOA48DkAORA5IDkwOUA5UDlgOXA5gDmQOaA5sDnAOdA54DnwOgA6EDogOjA6QDpQOmA6cDqAOpA6oDqwOsA60DrgOvA7ADsQOyA7MDtAO1A7YDtwO4A7kDugO7A7wDvQO+A78DwAPBA8IDwwPEA8UDxgPHA8gDyQPKA8sDzAPNA84DzwPQA9ED0gPTA9QD1QPWA9cD2APZA9oD2wPcA90D3gPfA+AD4QPiA+MD5APlA+YD5wPoA+kD6gPrA+wD7QPuA+8D8APxA\\u002fID8wP0A\\u002fUD9gP3A\\u002fgD+QP6A\\u002fsD\\u002fAP9A\\u002f4D\\u002fwMABAEEAgQDBAQEBQQGBAcECAQJBAoECwQMBA0EDgQPBBAEEQQSBBMEFAQVBBYEFwQYBBkEGgQbBBwEHQQeBB8EIAQhBCIEIwQkBCUEJgQnBCgEKQQqBCsELAQtBC4ELwQwBDEEMgQzBDQENQQ2BDcEOAQ5BDoEOwQ8BD0EPgQ\\u002fBEAEQQRCBEMERARFBEYERwRIBEkESgRLBEwETQROBE8EUARRBFIEUwRUBFUEVgRXBFgEWQRaBFsEXARdBF4EXwRgBGEEYgRjBGQEZQRmBGcEaARpBGoEawRsBG0EbgRvBHAEcQRyBHMEdAR1BHYEdwR4BHkEegR7BHwEfQR+BH8EgASBBIIEgwSEBIUEhgSHBIgEiQSKBIsEjASNBI4EjwSQBJEEkgSTBJQElQSWBJcEmASZBJoEmwScBJ0EngSfBKAEoQSiBKMEpASlBKYEpwSoBKkEqgSrBKwE\"},\"xaxis\":\"x\",\"y\":{\"dtype\":\"i4\",\"bdata\":\"cgYAANoCAACQAQAAHyYAAAQJAACiCAAARAcAABQEAACONQAAPwcAAKgPAACTEQAAyhwAANEuAADkKgAArTsAACQEAADeAwAAakAAAKYEAAAsAQAAGgQAAHgCAABROwAAgx0AACwBAACgDQAAxB0AAKAUAAC8AgAAvgAAAH8BAACQBgAAcgYAAAFZAAAzCQAApgkAAGoYAAA8SwAAYgIAAKoLAABCBAAASiQAALAJAAC4CwAAXAgAAAYOAABOGwAA4gQAAKANAACaCwAAtEYAAJABAACQAQAAZAAAAL4KAAA6AgAAogsAAKAFAAC0HgAASt0AABYDAACQAQAARgUAAOwJAACuBgAALgkAAOwJAAASOQAAPEsAACcjAAAOKQAAvAIAADtzAAAMAwAAegMAADARAABefgAAJJ8AALoJAAAgCAAAGBUAAOwTAAC0DwAAsgIAAD4wAAAKBQAAfgEAAL4AAAA+CAAA0gUAAMxFAACUBwAAtmcAAFIXAADbAwAAQCMAALMVAADZGwAALAEAAKgMAAAuCQAAswsAAPYJAADARAAAUgMAAPUUAADGIAAA7hYAAJwTAABOGwAAmTgAABYhAABeBgAAqBYAAKwAAABWGAAA+AIAAD4NAACAEQAAgBEAAHMEAAAwMAAAqgUAAIARAAA2HwAA6xMAALgkAAApGQAA\\u002fgsAAAEYAACQ0gAAChsAAEYUAABAGwAACh4AAKoBAABKbwAAhgEAADYfAACmBAAAKwEAANIFAAC5GAAAvgoAAGAiAACuCwAA3gMAACwBAADoJAAAaAsAAKoBAAD8JgAA\\u002fgYAAGoTAACwDgAAmh8AAJABAADWLgAA3gMAANRJAAAUGQAAxgcAAIoCAACgBQAAThsAALQBAAAOBAAA9AYAAJQHAADsDQAADA0AAGgVAAAQlQAA8AoAAOALAADjAwAAvgoAAIoMAAA2AQAAKggAAIwNAAAKAwAAbBYAAOQRAAAwBwAAoA0AAA4GAABGRgAAIgEAABwbAACaBgAAegMAAPkUAABrKwAApQAAAFYKAACsCAAAmgYAAI4IAAAdCwAABwcAANoFAAB6JgAALBoAAPQBAABQCgAAbRIAALl3AAAIFgAAZAAAAC4JAAAECwAAvgoAAA5EAABLNwAAWRAAAJAGAACiCAAA0CoAAC4JAAB0BAAAHgUAALoJAABkBQAAJyoAAF4kAACODQAAiwsAAOo9AACeawAAfTwAAFYKAAA5GAAAEAkAAFcCAACUAgAABRgAAHoLAABeKQAAbgAAAC4JAAAKMgAAmCYAAJgDAACmBAAAoA0AADk8AAC2AwAAgx0AACMJAAB2DAAAOAkAADZCAAAkhgAA9AEAAFQGAAC\\u002fNwAAgAcAAHwBAAAzCQAAMCAAABoBAADaKgAAqgAAAIIHAABAOAAAUkwAANIoAACwCQAAIgEAAPIIAAAmBwAAsoQAAEwEAACUBwAA8ggAAA0TAACIMQAAXAMAABoNAADoAwAAxgcAAEwEAADeAwAA6hoAADxLAACQ0gAAxgcAAKIIAACqAQAAyxAAABIxAACkAQAAxlwAAM4YAADqAQAAGFYAAIYLAABeBgAAJgkAAPYVAAA9HQAAhgEAALAEAACmBAAACQgAAEwAAABsBwAAggoAAPtOAABjEAAA3gMAAOoBAAA+AwAAGgkAALoJAADeCQAA0S4AAJsFAAC0BQAAQgQAAPoAAADGBwAAMhgAAIQNAAAMAwAAzhMAAJIiAACCBQAAegMAACwBAADeBgAAFgMAAMQEAADbAwAAQB8AAGICAADgOgAA6qEAAMYHAAD4AgAAsgIAAO4WAAD6BQAACgUAAG4FAAASEQAApAEAAAQLAABwFwAAkAEAABQKAABEBwAAKBQAAIgZAACIEwAAejoAAHgjAACOAwAAkiIAAIJBAACOCAAAxAkAADYGAAB8AQAAgkEAAJYPAAA6TgAAtjAAAOwJAAB0EwAAhgEAAOoBAAAoQQAAYEAAAKwSAAB6DQAAJxUAAJc\\u002fAABRCQAAeAAAAOwJAADSBQAAdBMAAHYFAAD+UQAAqgUAAKMVAACoDwAADgEAAORSAABQCgAA5QQAAAYxAABwAwAABicAALICAAAyDwAABicAALMVAAAoSwAACAwAAMwBAABGAAAAZgMAAGRpAAAGJwAApjYAADoCAAAMAwAAqGAAAN4DAACUEQAADgEAAKYiAABYAgAAuAEAAO4CAACeBwAArpIAAMB7AAASJQAA8SsAANYBAACkwBMARgoAALQFAABCEwAATAQAAE4MAADyRAAAShUAAIoWAAAnBgAA4k8AACorAADQBwAAzwgAAKoAAADPBwAAiwsAAOoBAACEHAAAIEgAAIYBAAAVGgAASgsAAJoLAABoGAAAtAUAAOoBAACWFAAAhREAALUcAAD+CwAAVAYAANYLAAAKBQAAMgAAAHYMAAC2ZwAAECQAAGBAAAD+BgAAziYAABgLAACQAQAA0gUAAB4jAABMIgAAugkAAMYHAAA6EQAA6AMAAF4BAAAsAQAAUEsAAMk1AACOCAAA+gUAALl3AAD+BgAAGRoAAHQYAACGAQAAagQAANIFAAByBgAAfysAAIROAACiCgAAtSIAAIkhAAC8BwAA0ycAAA55AAC6CQAANwkAAOgkAADEBAAA6gEAAEABAADeAwAAHgoAAPYJAAA6IAAARAIAAOYUAABEDAAAdgcAAONDAADoEgAAEhsAADoWAACaBgAAyhcAAN4DAABEDAAAhgEAAOQCAADIKAAAPg0AABATAAC+GQAALlQAAPQBAAB9ggAA7gIAAMUNAADWqwAATjQAAM4mAAC5AgAAjxEAANEgAAD7TgAAhgEAABATAADuGAAAQgQAAO0IAAD1KAAAkBgAAL8tAABGRgAAbg8AAPhhAAAsBgAAnYoAABYmAABiawAA5gUAADoHAAB6AwAAkxEAAH4TAABCDgAAfhMAAHoDAAD6BQAAsAkAABqBAACdigAA3gMAADMJAACaFQAA0gUAANBrAABlBwAAdnoAAGgBAADGBwAA0gUAACwBAACBFAAAPBoAAPAKAAD6BQAA5w0AADxLAACeFgAA3gYAAFwCAAAyAAAAqA8AAKANAAAKBQAA8kQAAGwWAAAKBQAA3g0AAPAAAAC7CAAANikAAFISAABYMgAAOx8AAJQMAAAYCwAA7wEAAOQCAAAJAQAAthIAAKY2AADsCQAA4AEAALkGAAAGMQAAnBMAAA4LAABUAQAATgcAAJDSAADWLgAAOgcAAMYHAABOGwAAJAQAAEZGAAAKBQAAtmcAAFBLAABuCgAAdAkAAL0MAABiBgAAeJsAAJABAAC+MgAAImUAAC5KAADyDgAANkIAAFpGAAAKKAAAfhMAAIZCAADgCwAA\\u002fxMAAH08AABuAAAAjiYAACQ2AAD6BQAArSIAAAwSAAASJQAAqqoAADxLAAA2BwAAWgAAAF4QAAD6BQAA9oYAAA0qAACGAQAAcBsAAEZGAABaEgAA7gcAAIIKAACONAEAHgoAAA0TAABiKgAA4gQAACYCAABGCgAAXkIAAGwCAACOAgAA1RkAALAnAAAAGQAAKBkAAJoGAAD+agAAngcAAAIIAACQBgAARkYAAI40AQAcAgAA9KYAANAlAAAeFAAA+gUAAIYLAACaAQAARkYAAGAOAABrFAAATgIAAEokAACQFgAAVgkAALl3AACfOAAAegMAABYIAACmBAAA+wkAAP4GAABATAAAqC0AAAYOAABUEAAAdwUAADizAAA2KQAA6gsAAFYJAADWAQAAJwEAAIBFAADWAQAABg4AAD1fAACyAgAAhgEAAA0HAABOGwAAvm4AAIsLAADSBQAAdgwAAONDAAA7cwAAGhgAAIQcAAAeCgAAQg4AAH4TAAB6JgAAxgwAAJk4AACQCwAA\\u002fAMAAJknAABEAgAAGg0AAJo4AACWCQEAXFIBACQTAABXwQAAegMAALICAAA8SwAAYgwAAB6RAACGAQAAzEwAABQKAADUsgAAMgAAABxhAADJBgAAEAQAAEIEAADeAwAAOhYAANolAAB9BAAA3gMAAHIVAADuAgAAMwkAAE4CAABOBwAAtAUAAGgGAAAQJAAA9gkAAIYBAABIAwAAyjAAAIQSAACYDQAAEQMAANIeAAAoCgAAYEAAAH4TAACbDgAAdgwAAIQDAAAwDwAAyQcAAF4BAADKNQAA3gMAAEJPAAB2BQAAEgoAAKYEAADSFAAAVxYAAIQJAABoBgAAegMAAIoCAACmEwAAchAAAGQAAAB6AwAA3gMAALQFAABgCQAAox8AAAQGAACyAgAAYhgAAIBIAAD6AAAANh8AAJYAAAD4EQAArDUAAEABAABGRgAAMwkAAOYKAAAWTgAAbgAAAEIEAABOGwAAggoAANQDAABgBAAAvgAAAGgBAABOAgAA6CQAADg8AABSDQAA0BYAAEoQAACCBQAA6CQAALonAADeAwAA2QMAAKZZAACcBAAAxgcAAKQEAACZOAAA8ggAAHIKAABOAgAAZhIAANAHAAD4AgAAXkcAAAIDAAAcAgAA9G4BAJoLAAC1IgAA0AcAAMYbAAAWAwAAYjEAADgTAADaDAAAMowAAAsRAAAtGQAARkYAAGoEAAB6AwAAbOMAADYGAACcDgAArA0AAG4FAABaAAAAhgEAAKY2AABABgAAdgwAAHQJAACMBQAAoBQAAKhgAADBBgAAsgwAAMIBAAC5dwAAnA4AALAsAABcEAAAEgIAACo0AADSBQAA\\u002flEAAJRDAACECAAAPgMAAF4GAACgAAAAqAcAAGcBAAD+AQAAHgoAALpLAABLAAAAFBkAAPYJAABdBwAAlg8AAG4FAADIDwAAGgQAAGsUAAC+ZAAAsgIAAJMzAACaFQAAXgEAAMoIAABSEgAA2gIAAK6IAABmDQAAZgMAABqBAAB8AQAAIkwAAKQBAADQAgAAPAAAAPoFAADeHAAAjggAAEIEAAAEBgAARg8AALbkAAAgAwAASBwAAK5HAAAfSAAAfTwAAAINAAAEGgAAuxAAACLsAAAeXwAAQgQAABYIAABaIwAACgUAAOwJAACkBAAAMhQAAD4NAAA6BwAATnAAAPIrAAA8SwAAgAcAAMIGAAAMFwAAhgEAACwJAADyCAAA7AkAABAOAAD0AQAAEA4AACgFAADeDgAAMDAAAFsLAADLAwAAUAoAAI46AAC+AAAAgAIAAGIgAACeBwAAZAAAADYVAAA0AwAAoAUAAFQGAAC+AAAA7hgAAHgAAABNEgAAqgUAALQFAAAyCgAAZAAAAKo3AADRLgAA\\u002fgYAAJYPAADeAwAAYAQAAIIAAACwBAAAZAAAAKTOAADeDQAA5goAAFAKAACiDQAA40MAACYRAAA8AAAASCYAADoCAAD0AQAADjMAADIUAAA6BwAAegMAAIw8AAAyCgAAEhoAAKAAAABMDQAAfUgAAKQBAACmBAAAbOMAAOYKAABQCgAA\\u002fgsAAAQGAADWLgAA9yAAAJQgAAAmBwAAUW0AAPUZAACASAAA9AYAAPoAAABgBAAAwCEAAKwXAAAHBwAAdgwAALgGAAB2DAAAmw4AABEDAACZOAAAzAEAAD4NAABeAQAAWjwAAN4DAABeQgAACAcAAPYiAACkAQAAWCAAAKYEAACuRwAAIQcAADgWAACQEAAAmw4AAA0IAACAAgAACh4AAPQGAAB2LwAAAAUAAKgMAABJIgAATgIAAFQBAABUJAAAmh8AAI4hAAB\\u002fFwAAkgQAAD4DAAAqEgAAwgEAAEyaAAC5GQAAthIAAJABAAAyAAAALAEAALoTAACTEQAAsDYAAGJ\\u002fAABUAQAAGEIAAK4AAQCaCwAA1QIAACYZAAAuAwEABAYAAPUZAAD4DAAAIgEAAKYEAADiLAAAXgYAAEwdAAAiAQAAlg8AAH4dAABQCgAAegMAAC0tAADuAgAAwAoAACgFAACcbQAAvAcAAKsGAAB8GgAADhUAADYfAAC8DAAA3gMAABRGAACeYQAAjA8AAFEhAABAFQAAzgkAAM1JAACGaQEAAM0AAGQFAADlBAAA8ggAACwBAACkzgAAjgMAANIFAAAkEwAALBAAAIAHAAB6AwAA6CQAAG4FAADADQAA4wMAAIsLAABsDAAAGBAAALwHAABOAgAAcgEAAI4NAACYDQAATAQAAPEYAACQAQAAmCQAAD0dAACEDQAAfhMAAAcHAADEDgAAMQUAANUZAAAWAwAAugkAAAoFAABgCQAAzAsAAOoBAAC+AAAApgQAACQYAACiYgAACgUAAEwTAACMKAAA2gIAABQ8AADuAgAAcAAAAD57AACYIQAAakAAAFoZAAB2DAAANikAAGQAAAD0FwMA\"},\"yaxis\":\"y\",\"type\":\"scattergl\"},{\"alignmentgroup\":\"True\",\"boxpoints\":\"all\",\"fillcolor\":\"rgba(255,255,255,0)\",\"hoveron\":\"points\",\"hovertemplate\":\"\\u0441\\u0442\\u043e\\u0438\\u043c\\u043e\\u0441\\u0442\\u044c=%{y}\\u003cextra\\u003e\\u003c\\u002fextra\\u003e\",\"jitter\":0,\"legendgroup\":\"\",\"line\":{\"color\":\"rgba(255,255,255,0)\"},\"marker\":{\"color\":\"#636efa\",\"symbol\":\"line-ew-open\"},\"name\":\"\",\"offsetgroup\":\"\",\"showlegend\":false,\"xaxis\":\"x2\",\"y\":{\"dtype\":\"i4\",\"bdata\":\"cgYAANoCAACQAQAAHyYAAAQJAACiCAAARAcAABQEAACONQAAPwcAAKgPAACTEQAAyhwAANEuAADkKgAArTsAACQEAADeAwAAakAAAKYEAAAsAQAAGgQAAHgCAABROwAAgx0AACwBAACgDQAAxB0AAKAUAAC8AgAAvgAAAH8BAACQBgAAcgYAAAFZAAAzCQAApgkAAGoYAAA8SwAAYgIAAKoLAABCBAAASiQAALAJAAC4CwAAXAgAAAYOAABOGwAA4gQAAKANAACaCwAAtEYAAJABAACQAQAAZAAAAL4KAAA6AgAAogsAAKAFAAC0HgAASt0AABYDAACQAQAARgUAAOwJAACuBgAALgkAAOwJAAASOQAAPEsAACcjAAAOKQAAvAIAADtzAAAMAwAAegMAADARAABefgAAJJ8AALoJAAAgCAAAGBUAAOwTAAC0DwAAsgIAAD4wAAAKBQAAfgEAAL4AAAA+CAAA0gUAAMxFAACUBwAAtmcAAFIXAADbAwAAQCMAALMVAADZGwAALAEAAKgMAAAuCQAAswsAAPYJAADARAAAUgMAAPUUAADGIAAA7hYAAJwTAABOGwAAmTgAABYhAABeBgAAqBYAAKwAAABWGAAA+AIAAD4NAACAEQAAgBEAAHMEAAAwMAAAqgUAAIARAAA2HwAA6xMAALgkAAApGQAA\\u002fgsAAAEYAACQ0gAAChsAAEYUAABAGwAACh4AAKoBAABKbwAAhgEAADYfAACmBAAAKwEAANIFAAC5GAAAvgoAAGAiAACuCwAA3gMAACwBAADoJAAAaAsAAKoBAAD8JgAA\\u002fgYAAGoTAACwDgAAmh8AAJABAADWLgAA3gMAANRJAAAUGQAAxgcAAIoCAACgBQAAThsAALQBAAAOBAAA9AYAAJQHAADsDQAADA0AAGgVAAAQlQAA8AoAAOALAADjAwAAvgoAAIoMAAA2AQAAKggAAIwNAAAKAwAAbBYAAOQRAAAwBwAAoA0AAA4GAABGRgAAIgEAABwbAACaBgAAegMAAPkUAABrKwAApQAAAFYKAACsCAAAmgYAAI4IAAAdCwAABwcAANoFAAB6JgAALBoAAPQBAABQCgAAbRIAALl3AAAIFgAAZAAAAC4JAAAECwAAvgoAAA5EAABLNwAAWRAAAJAGAACiCAAA0CoAAC4JAAB0BAAAHgUAALoJAABkBQAAJyoAAF4kAACODQAAiwsAAOo9AACeawAAfTwAAFYKAAA5GAAAEAkAAFcCAACUAgAABRgAAHoLAABeKQAAbgAAAC4JAAAKMgAAmCYAAJgDAACmBAAAoA0AADk8AAC2AwAAgx0AACMJAAB2DAAAOAkAADZCAAAkhgAA9AEAAFQGAAC\\u002fNwAAgAcAAHwBAAAzCQAAMCAAABoBAADaKgAAqgAAAIIHAABAOAAAUkwAANIoAACwCQAAIgEAAPIIAAAmBwAAsoQAAEwEAACUBwAA8ggAAA0TAACIMQAAXAMAABoNAADoAwAAxgcAAEwEAADeAwAA6hoAADxLAACQ0gAAxgcAAKIIAACqAQAAyxAAABIxAACkAQAAxlwAAM4YAADqAQAAGFYAAIYLAABeBgAAJgkAAPYVAAA9HQAAhgEAALAEAACmBAAACQgAAEwAAABsBwAAggoAAPtOAABjEAAA3gMAAOoBAAA+AwAAGgkAALoJAADeCQAA0S4AAJsFAAC0BQAAQgQAAPoAAADGBwAAMhgAAIQNAAAMAwAAzhMAAJIiAACCBQAAegMAACwBAADeBgAAFgMAAMQEAADbAwAAQB8AAGICAADgOgAA6qEAAMYHAAD4AgAAsgIAAO4WAAD6BQAACgUAAG4FAAASEQAApAEAAAQLAABwFwAAkAEAABQKAABEBwAAKBQAAIgZAACIEwAAejoAAHgjAACOAwAAkiIAAIJBAACOCAAAxAkAADYGAAB8AQAAgkEAAJYPAAA6TgAAtjAAAOwJAAB0EwAAhgEAAOoBAAAoQQAAYEAAAKwSAAB6DQAAJxUAAJc\\u002fAABRCQAAeAAAAOwJAADSBQAAdBMAAHYFAAD+UQAAqgUAAKMVAACoDwAADgEAAORSAABQCgAA5QQAAAYxAABwAwAABicAALICAAAyDwAABicAALMVAAAoSwAACAwAAMwBAABGAAAAZgMAAGRpAAAGJwAApjYAADoCAAAMAwAAqGAAAN4DAACUEQAADgEAAKYiAABYAgAAuAEAAO4CAACeBwAArpIAAMB7AAASJQAA8SsAANYBAACkwBMARgoAALQFAABCEwAATAQAAE4MAADyRAAAShUAAIoWAAAnBgAA4k8AACorAADQBwAAzwgAAKoAAADPBwAAiwsAAOoBAACEHAAAIEgAAIYBAAAVGgAASgsAAJoLAABoGAAAtAUAAOoBAACWFAAAhREAALUcAAD+CwAAVAYAANYLAAAKBQAAMgAAAHYMAAC2ZwAAECQAAGBAAAD+BgAAziYAABgLAACQAQAA0gUAAB4jAABMIgAAugkAAMYHAAA6EQAA6AMAAF4BAAAsAQAAUEsAAMk1AACOCAAA+gUAALl3AAD+BgAAGRoAAHQYAACGAQAAagQAANIFAAByBgAAfysAAIROAACiCgAAtSIAAIkhAAC8BwAA0ycAAA55AAC6CQAANwkAAOgkAADEBAAA6gEAAEABAADeAwAAHgoAAPYJAAA6IAAARAIAAOYUAABEDAAAdgcAAONDAADoEgAAEhsAADoWAACaBgAAyhcAAN4DAABEDAAAhgEAAOQCAADIKAAAPg0AABATAAC+GQAALlQAAPQBAAB9ggAA7gIAAMUNAADWqwAATjQAAM4mAAC5AgAAjxEAANEgAAD7TgAAhgEAABATAADuGAAAQgQAAO0IAAD1KAAAkBgAAL8tAABGRgAAbg8AAPhhAAAsBgAAnYoAABYmAABiawAA5gUAADoHAAB6AwAAkxEAAH4TAABCDgAAfhMAAHoDAAD6BQAAsAkAABqBAACdigAA3gMAADMJAACaFQAA0gUAANBrAABlBwAAdnoAAGgBAADGBwAA0gUAACwBAACBFAAAPBoAAPAKAAD6BQAA5w0AADxLAACeFgAA3gYAAFwCAAAyAAAAqA8AAKANAAAKBQAA8kQAAGwWAAAKBQAA3g0AAPAAAAC7CAAANikAAFISAABYMgAAOx8AAJQMAAAYCwAA7wEAAOQCAAAJAQAAthIAAKY2AADsCQAA4AEAALkGAAAGMQAAnBMAAA4LAABUAQAATgcAAJDSAADWLgAAOgcAAMYHAABOGwAAJAQAAEZGAAAKBQAAtmcAAFBLAABuCgAAdAkAAL0MAABiBgAAeJsAAJABAAC+MgAAImUAAC5KAADyDgAANkIAAFpGAAAKKAAAfhMAAIZCAADgCwAA\\u002fxMAAH08AABuAAAAjiYAACQ2AAD6BQAArSIAAAwSAAASJQAAqqoAADxLAAA2BwAAWgAAAF4QAAD6BQAA9oYAAA0qAACGAQAAcBsAAEZGAABaEgAA7gcAAIIKAACONAEAHgoAAA0TAABiKgAA4gQAACYCAABGCgAAXkIAAGwCAACOAgAA1RkAALAnAAAAGQAAKBkAAJoGAAD+agAAngcAAAIIAACQBgAARkYAAI40AQAcAgAA9KYAANAlAAAeFAAA+gUAAIYLAACaAQAARkYAAGAOAABrFAAATgIAAEokAACQFgAAVgkAALl3AACfOAAAegMAABYIAACmBAAA+wkAAP4GAABATAAAqC0AAAYOAABUEAAAdwUAADizAAA2KQAA6gsAAFYJAADWAQAAJwEAAIBFAADWAQAABg4AAD1fAACyAgAAhgEAAA0HAABOGwAAvm4AAIsLAADSBQAAdgwAAONDAAA7cwAAGhgAAIQcAAAeCgAAQg4AAH4TAAB6JgAAxgwAAJk4AACQCwAA\\u002fAMAAJknAABEAgAAGg0AAJo4AACWCQEAXFIBACQTAABXwQAAegMAALICAAA8SwAAYgwAAB6RAACGAQAAzEwAABQKAADUsgAAMgAAABxhAADJBgAAEAQAAEIEAADeAwAAOhYAANolAAB9BAAA3gMAAHIVAADuAgAAMwkAAE4CAABOBwAAtAUAAGgGAAAQJAAA9gkAAIYBAABIAwAAyjAAAIQSAACYDQAAEQMAANIeAAAoCgAAYEAAAH4TAACbDgAAdgwAAIQDAAAwDwAAyQcAAF4BAADKNQAA3gMAAEJPAAB2BQAAEgoAAKYEAADSFAAAVxYAAIQJAABoBgAAegMAAIoCAACmEwAAchAAAGQAAAB6AwAA3gMAALQFAABgCQAAox8AAAQGAACyAgAAYhgAAIBIAAD6AAAANh8AAJYAAAD4EQAArDUAAEABAABGRgAAMwkAAOYKAAAWTgAAbgAAAEIEAABOGwAAggoAANQDAABgBAAAvgAAAGgBAABOAgAA6CQAADg8AABSDQAA0BYAAEoQAACCBQAA6CQAALonAADeAwAA2QMAAKZZAACcBAAAxgcAAKQEAACZOAAA8ggAAHIKAABOAgAAZhIAANAHAAD4AgAAXkcAAAIDAAAcAgAA9G4BAJoLAAC1IgAA0AcAAMYbAAAWAwAAYjEAADgTAADaDAAAMowAAAsRAAAtGQAARkYAAGoEAAB6AwAAbOMAADYGAACcDgAArA0AAG4FAABaAAAAhgEAAKY2AABABgAAdgwAAHQJAACMBQAAoBQAAKhgAADBBgAAsgwAAMIBAAC5dwAAnA4AALAsAABcEAAAEgIAACo0AADSBQAA\\u002flEAAJRDAACECAAAPgMAAF4GAACgAAAAqAcAAGcBAAD+AQAAHgoAALpLAABLAAAAFBkAAPYJAABdBwAAlg8AAG4FAADIDwAAGgQAAGsUAAC+ZAAAsgIAAJMzAACaFQAAXgEAAMoIAABSEgAA2gIAAK6IAABmDQAAZgMAABqBAAB8AQAAIkwAAKQBAADQAgAAPAAAAPoFAADeHAAAjggAAEIEAAAEBgAARg8AALbkAAAgAwAASBwAAK5HAAAfSAAAfTwAAAINAAAEGgAAuxAAACLsAAAeXwAAQgQAABYIAABaIwAACgUAAOwJAACkBAAAMhQAAD4NAAA6BwAATnAAAPIrAAA8SwAAgAcAAMIGAAAMFwAAhgEAACwJAADyCAAA7AkAABAOAAD0AQAAEA4AACgFAADeDgAAMDAAAFsLAADLAwAAUAoAAI46AAC+AAAAgAIAAGIgAACeBwAAZAAAADYVAAA0AwAAoAUAAFQGAAC+AAAA7hgAAHgAAABNEgAAqgUAALQFAAAyCgAAZAAAAKo3AADRLgAA\\u002fgYAAJYPAADeAwAAYAQAAIIAAACwBAAAZAAAAKTOAADeDQAA5goAAFAKAACiDQAA40MAACYRAAA8AAAASCYAADoCAAD0AQAADjMAADIUAAA6BwAAegMAAIw8AAAyCgAAEhoAAKAAAABMDQAAfUgAAKQBAACmBAAAbOMAAOYKAABQCgAA\\u002fgsAAAQGAADWLgAA9yAAAJQgAAAmBwAAUW0AAPUZAACASAAA9AYAAPoAAABgBAAAwCEAAKwXAAAHBwAAdgwAALgGAAB2DAAAmw4AABEDAACZOAAAzAEAAD4NAABeAQAAWjwAAN4DAABeQgAACAcAAPYiAACkAQAAWCAAAKYEAACuRwAAIQcAADgWAACQEAAAmw4AAA0IAACAAgAACh4AAPQGAAB2LwAAAAUAAKgMAABJIgAATgIAAFQBAABUJAAAmh8AAI4hAAB\\u002fFwAAkgQAAD4DAAAqEgAAwgEAAEyaAAC5GQAAthIAAJABAAAyAAAALAEAALoTAACTEQAAsDYAAGJ\\u002fAABUAQAAGEIAAK4AAQCaCwAA1QIAACYZAAAuAwEABAYAAPUZAAD4DAAAIgEAAKYEAADiLAAAXgYAAEwdAAAiAQAAlg8AAH4dAABQCgAAegMAAC0tAADuAgAAwAoAACgFAACcbQAAvAcAAKsGAAB8GgAADhUAADYfAAC8DAAA3gMAABRGAACeYQAAjA8AAFEhAABAFQAAzgkAAM1JAACGaQEAAM0AAGQFAADlBAAA8ggAACwBAACkzgAAjgMAANIFAAAkEwAALBAAAIAHAAB6AwAA6CQAAG4FAADADQAA4wMAAIsLAABsDAAAGBAAALwHAABOAgAAcgEAAI4NAACYDQAATAQAAPEYAACQAQAAmCQAAD0dAACEDQAAfhMAAAcHAADEDgAAMQUAANUZAAAWAwAAugkAAAoFAABgCQAAzAsAAOoBAAC+AAAApgQAACQYAACiYgAACgUAAEwTAACMKAAA2gIAABQ8AADuAgAAcAAAAD57AACYIQAAakAAAFoZAAB2DAAANikAAGQAAAD0FwMA\"},\"yaxis\":\"y2\",\"type\":\"box\"}],                        {\"template\":{\"data\":{\"histogram2dcontour\":[{\"type\":\"histogram2dcontour\",\"colorbar\":{\"outlinewidth\":0,\"ticks\":\"\"},\"colorscale\":[[0.0,\"#0d0887\"],[0.1111111111111111,\"#46039f\"],[0.2222222222222222,\"#7201a8\"],[0.3333333333333333,\"#9c179e\"],[0.4444444444444444,\"#bd3786\"],[0.5555555555555556,\"#d8576b\"],[0.6666666666666666,\"#ed7953\"],[0.7777777777777778,\"#fb9f3a\"],[0.8888888888888888,\"#fdca26\"],[1.0,\"#f0f921\"]]}],\"choropleth\":[{\"type\":\"choropleth\",\"colorbar\":{\"outlinewidth\":0,\"ticks\":\"\"}}],\"histogram2d\":[{\"type\":\"histogram2d\",\"colorbar\":{\"outlinewidth\":0,\"ticks\":\"\"},\"colorscale\":[[0.0,\"#0d0887\"],[0.1111111111111111,\"#46039f\"],[0.2222222222222222,\"#7201a8\"],[0.3333333333333333,\"#9c179e\"],[0.4444444444444444,\"#bd3786\"],[0.5555555555555556,\"#d8576b\"],[0.6666666666666666,\"#ed7953\"],[0.7777777777777778,\"#fb9f3a\"],[0.8888888888888888,\"#fdca26\"],[1.0,\"#f0f921\"]]}],\"heatmap\":[{\"type\":\"heatmap\",\"colorbar\":{\"outlinewidth\":0,\"ticks\":\"\"},\"colorscale\":[[0.0,\"#0d0887\"],[0.1111111111111111,\"#46039f\"],[0.2222222222222222,\"#7201a8\"],[0.3333333333333333,\"#9c179e\"],[0.4444444444444444,\"#bd3786\"],[0.5555555555555556,\"#d8576b\"],[0.6666666666666666,\"#ed7953\"],[0.7777777777777778,\"#fb9f3a\"],[0.8888888888888888,\"#fdca26\"],[1.0,\"#f0f921\"]]}],\"contourcarpet\":[{\"type\":\"contourcarpet\",\"colorbar\":{\"outlinewidth\":0,\"ticks\":\"\"}}],\"contour\":[{\"type\":\"contour\",\"colorbar\":{\"outlinewidth\":0,\"ticks\":\"\"},\"colorscale\":[[0.0,\"#0d0887\"],[0.1111111111111111,\"#46039f\"],[0.2222222222222222,\"#7201a8\"],[0.3333333333333333,\"#9c179e\"],[0.4444444444444444,\"#bd3786\"],[0.5555555555555556,\"#d8576b\"],[0.6666666666666666,\"#ed7953\"],[0.7777777777777778,\"#fb9f3a\"],[0.8888888888888888,\"#fdca26\"],[1.0,\"#f0f921\"]]}],\"surface\":[{\"type\":\"surface\",\"colorbar\":{\"outlinewidth\":0,\"ticks\":\"\"},\"colorscale\":[[0.0,\"#0d0887\"],[0.1111111111111111,\"#46039f\"],[0.2222222222222222,\"#7201a8\"],[0.3333333333333333,\"#9c179e\"],[0.4444444444444444,\"#bd3786\"],[0.5555555555555556,\"#d8576b\"],[0.6666666666666666,\"#ed7953\"],[0.7777777777777778,\"#fb9f3a\"],[0.8888888888888888,\"#fdca26\"],[1.0,\"#f0f921\"]]}],\"mesh3d\":[{\"type\":\"mesh3d\",\"colorbar\":{\"outlinewidth\":0,\"ticks\":\"\"}}],\"scatter\":[{\"fillpattern\":{\"fillmode\":\"overlay\",\"size\":10,\"solidity\":0.2},\"type\":\"scatter\"}],\"parcoords\":[{\"type\":\"parcoords\",\"line\":{\"colorbar\":{\"outlinewidth\":0,\"ticks\":\"\"}}}],\"scatterpolargl\":[{\"type\":\"scatterpolargl\",\"marker\":{\"colorbar\":{\"outlinewidth\":0,\"ticks\":\"\"}}}],\"bar\":[{\"error_x\":{\"color\":\"#2a3f5f\"},\"error_y\":{\"color\":\"#2a3f5f\"},\"marker\":{\"line\":{\"color\":\"#E5ECF6\",\"width\":0.5},\"pattern\":{\"fillmode\":\"overlay\",\"size\":10,\"solidity\":0.2}},\"type\":\"bar\"}],\"scattergeo\":[{\"type\":\"scattergeo\",\"marker\":{\"colorbar\":{\"outlinewidth\":0,\"ticks\":\"\"}}}],\"scatterpolar\":[{\"type\":\"scatterpolar\",\"marker\":{\"colorbar\":{\"outlinewidth\":0,\"ticks\":\"\"}}}],\"histogram\":[{\"marker\":{\"pattern\":{\"fillmode\":\"overlay\",\"size\":10,\"solidity\":0.2}},\"type\":\"histogram\"}],\"scattergl\":[{\"type\":\"scattergl\",\"marker\":{\"colorbar\":{\"outlinewidth\":0,\"ticks\":\"\"}}}],\"scatter3d\":[{\"type\":\"scatter3d\",\"line\":{\"colorbar\":{\"outlinewidth\":0,\"ticks\":\"\"}},\"marker\":{\"colorbar\":{\"outlinewidth\":0,\"ticks\":\"\"}}}],\"scattermap\":[{\"type\":\"scattermap\",\"marker\":{\"colorbar\":{\"outlinewidth\":0,\"ticks\":\"\"}}}],\"scattermapbox\":[{\"type\":\"scattermapbox\",\"marker\":{\"colorbar\":{\"outlinewidth\":0,\"ticks\":\"\"}}}],\"scatterternary\":[{\"type\":\"scatterternary\",\"marker\":{\"colorbar\":{\"outlinewidth\":0,\"ticks\":\"\"}}}],\"scattercarpet\":[{\"type\":\"scattercarpet\",\"marker\":{\"colorbar\":{\"outlinewidth\":0,\"ticks\":\"\"}}}],\"carpet\":[{\"aaxis\":{\"endlinecolor\":\"#2a3f5f\",\"gridcolor\":\"white\",\"linecolor\":\"white\",\"minorgridcolor\":\"white\",\"startlinecolor\":\"#2a3f5f\"},\"baxis\":{\"endlinecolor\":\"#2a3f5f\",\"gridcolor\":\"white\",\"linecolor\":\"white\",\"minorgridcolor\":\"white\",\"startlinecolor\":\"#2a3f5f\"},\"type\":\"carpet\"}],\"table\":[{\"cells\":{\"fill\":{\"color\":\"#EBF0F8\"},\"line\":{\"color\":\"white\"}},\"header\":{\"fill\":{\"color\":\"#C8D4E3\"},\"line\":{\"color\":\"white\"}},\"type\":\"table\"}],\"barpolar\":[{\"marker\":{\"line\":{\"color\":\"#E5ECF6\",\"width\":0.5},\"pattern\":{\"fillmode\":\"overlay\",\"size\":10,\"solidity\":0.2}},\"type\":\"barpolar\"}],\"pie\":[{\"automargin\":true,\"type\":\"pie\"}]},\"layout\":{\"autotypenumbers\":\"strict\",\"colorway\":[\"#636efa\",\"#EF553B\",\"#00cc96\",\"#ab63fa\",\"#FFA15A\",\"#19d3f3\",\"#FF6692\",\"#B6E880\",\"#FF97FF\",\"#FECB52\"],\"font\":{\"color\":\"#2a3f5f\"},\"hovermode\":\"closest\",\"hoverlabel\":{\"align\":\"left\"},\"paper_bgcolor\":\"white\",\"plot_bgcolor\":\"#E5ECF6\",\"polar\":{\"bgcolor\":\"#E5ECF6\",\"angularaxis\":{\"gridcolor\":\"white\",\"linecolor\":\"white\",\"ticks\":\"\"},\"radialaxis\":{\"gridcolor\":\"white\",\"linecolor\":\"white\",\"ticks\":\"\"}},\"ternary\":{\"bgcolor\":\"#E5ECF6\",\"aaxis\":{\"gridcolor\":\"white\",\"linecolor\":\"white\",\"ticks\":\"\"},\"baxis\":{\"gridcolor\":\"white\",\"linecolor\":\"white\",\"ticks\":\"\"},\"caxis\":{\"gridcolor\":\"white\",\"linecolor\":\"white\",\"ticks\":\"\"}},\"coloraxis\":{\"colorbar\":{\"outlinewidth\":0,\"ticks\":\"\"}},\"colorscale\":{\"sequential\":[[0.0,\"#0d0887\"],[0.1111111111111111,\"#46039f\"],[0.2222222222222222,\"#7201a8\"],[0.3333333333333333,\"#9c179e\"],[0.4444444444444444,\"#bd3786\"],[0.5555555555555556,\"#d8576b\"],[0.6666666666666666,\"#ed7953\"],[0.7777777777777778,\"#fb9f3a\"],[0.8888888888888888,\"#fdca26\"],[1.0,\"#f0f921\"]],\"sequentialminus\":[[0.0,\"#0d0887\"],[0.1111111111111111,\"#46039f\"],[0.2222222222222222,\"#7201a8\"],[0.3333333333333333,\"#9c179e\"],[0.4444444444444444,\"#bd3786\"],[0.5555555555555556,\"#d8576b\"],[0.6666666666666666,\"#ed7953\"],[0.7777777777777778,\"#fb9f3a\"],[0.8888888888888888,\"#fdca26\"],[1.0,\"#f0f921\"]],\"diverging\":[[0,\"#8e0152\"],[0.1,\"#c51b7d\"],[0.2,\"#de77ae\"],[0.3,\"#f1b6da\"],[0.4,\"#fde0ef\"],[0.5,\"#f7f7f7\"],[0.6,\"#e6f5d0\"],[0.7,\"#b8e186\"],[0.8,\"#7fbc41\"],[0.9,\"#4d9221\"],[1,\"#276419\"]]},\"xaxis\":{\"gridcolor\":\"white\",\"linecolor\":\"white\",\"ticks\":\"\",\"title\":{\"standoff\":15},\"zerolinecolor\":\"white\",\"automargin\":true,\"zerolinewidth\":2},\"yaxis\":{\"gridcolor\":\"white\",\"linecolor\":\"white\",\"ticks\":\"\",\"title\":{\"standoff\":15},\"zerolinecolor\":\"white\",\"automargin\":true,\"zerolinewidth\":2},\"scene\":{\"xaxis\":{\"backgroundcolor\":\"#E5ECF6\",\"gridcolor\":\"white\",\"linecolor\":\"white\",\"showbackground\":true,\"ticks\":\"\",\"zerolinecolor\":\"white\",\"gridwidth\":2},\"yaxis\":{\"backgroundcolor\":\"#E5ECF6\",\"gridcolor\":\"white\",\"linecolor\":\"white\",\"showbackground\":true,\"ticks\":\"\",\"zerolinecolor\":\"white\",\"gridwidth\":2},\"zaxis\":{\"backgroundcolor\":\"#E5ECF6\",\"gridcolor\":\"white\",\"linecolor\":\"white\",\"showbackground\":true,\"ticks\":\"\",\"zerolinecolor\":\"white\",\"gridwidth\":2}},\"shapedefaults\":{\"line\":{\"color\":\"#2a3f5f\"}},\"annotationdefaults\":{\"arrowcolor\":\"#2a3f5f\",\"arrowhead\":0,\"arrowwidth\":1},\"geo\":{\"bgcolor\":\"white\",\"landcolor\":\"#E5ECF6\",\"subunitcolor\":\"white\",\"showland\":true,\"showlakes\":true,\"lakecolor\":\"white\"},\"title\":{\"x\":0.05},\"mapbox\":{\"style\":\"light\"}}},\"xaxis\":{\"anchor\":\"y\",\"domain\":[0.0,0.8358],\"title\":{\"text\":\"\\u0437\\u0430\\u043a\\u0430\\u0437\\u044b\"}},\"yaxis\":{\"anchor\":\"x\",\"domain\":[0.0,1.0],\"range\":[0,120000.0],\"title\":{\"text\":\"\\u0441\\u0442\\u043e\\u0438\\u043c\\u043e\\u0441\\u0442\\u044c\"}},\"xaxis2\":{\"anchor\":\"y2\",\"domain\":[0.8408,1.0],\"matches\":\"x2\",\"showticklabels\":false,\"showline\":false,\"ticks\":\"\",\"showgrid\":false},\"yaxis2\":{\"anchor\":\"x2\",\"domain\":[0.0,1.0],\"matches\":\"y\",\"showticklabels\":false,\"showgrid\":true},\"legend\":{\"tracegroupgap\":0},\"margin\":{\"t\":60},\"width\":800,\"title\":{\"text\":\"\\u0421\\u0442\\u043e\\u0438\\u043c\\u043e\\u0441\\u0442\\u044c \\u0437\\u0430\\u043a\\u0430\\u0437\\u043e\\u0432 \\u043f\\u043e\\u043b\\u044c\\u0437\\u043e\\u0432\\u0430\\u0442\\u0435\\u043b\\u0435\\u0439\"}},                        {\"responsive\": true}                    ).then(function(){\n",
       "                            \n",
       "var gd = document.getElementById('39ff5cd7-5173-4647-8b5e-0d23738313ba');\n",
       "var x = new MutationObserver(function (mutations, observer) {{\n",
       "        var display = window.getComputedStyle(gd).display;\n",
       "        if (!display || display === 'none') {{\n",
       "            console.log([gd, 'removed!']);\n",
       "            Plotly.purge(gd);\n",
       "            observer.disconnect();\n",
       "        }}\n",
       "}});\n",
       "\n",
       "// Listen for the removal of the full notebook cells\n",
       "var notebookContainer = gd.closest('#notebook-container');\n",
       "if (notebookContainer) {{\n",
       "    x.observe(notebookContainer, {childList: true});\n",
       "}}\n",
       "\n",
       "// Listen for the clearing of the current output cell\n",
       "var outputEl = gd.closest('.output');\n",
       "if (outputEl) {{\n",
       "    x.observe(outputEl, {childList: true});\n",
       "}}\n",
       "\n",
       "                        })                };            </script>        </div>"
      ]
     },
     "metadata": {},
     "output_type": "display_data"
    }
   ],
   "source": [
    "fig = px.scatter(orders,\n",
    "                 y='revenue',\n",
    "                 labels={\n",
    "                   'revenue': 'стоимость',\n",
    "                     'index': 'заказы'\n",
    "                 },\n",
    "                 range_y=[0, 120e3],  # меняем масштаб\n",
    "                 marginal_y='rug'\n",
    "                 )\n",
    "\n",
    "fig.update_layout(\n",
    "    width=800, title='Стоимость заказов пользователей')\n",
    "iplot(fig)"
   ]
  },
  {
   "cell_type": "markdown",
   "metadata": {},
   "source": [
    "Какая граница стоимостей заказа - найдем 95 и 99 перцентили:"
   ]
  },
  {
   "cell_type": "code",
   "execution_count": 39,
   "metadata": {
    "trusted": true
   },
   "outputs": [
    {
     "data": {
      "text/plain": [
       "array([28000. , 58233.2])"
      ]
     },
     "execution_count": 39,
     "metadata": {},
     "output_type": "execute_result"
    }
   ],
   "source": [
    "bound_revenue = np.percentile(orders['revenue'],\n",
    "                              [95, 99]\n",
    "                              )\n",
    "\n",
    "bound_revenue"
   ]
  },
  {
   "cell_type": "markdown",
   "metadata": {},
   "source": [
    "выходит что 95 и 99 % пользователей совершают покупки до 28_000 и до 58_233.2 соответсвенно.    \n",
    "Примем, что покупки больше 58_233.2 считаются аномальными"
   ]
  },
  {
   "cell_type": "code",
   "execution_count": 40,
   "metadata": {
    "trusted": true
   },
   "outputs": [],
   "source": [
    "bound_normal_revenue = bound_revenue[1]"
   ]
  },
  {
   "cell_type": "markdown",
   "metadata": {},
   "source": [
    "### Статистическая значимость различий в среднем кол-ве заказов на посетителя между группами по сырым данным"
   ]
  },
  {
   "cell_type": "markdown",
   "metadata": {},
   "source": [
    "Сформулируем нулевую и альтернативную гипотезы    "
   ]
  },
  {
   "cell_type": "code",
   "execution_count": 41,
   "metadata": {
    "trusted": true
   },
   "outputs": [],
   "source": [
    "H_0 = \"среднее количенство заказов на посетителя обеих групп одинаково\"\n",
    "H_1 = \"среднее количенство заказов на посетителя обеих групп разное\""
   ]
  },
  {
   "cell_type": "markdown",
   "metadata": {},
   "source": [
    "Выберем уровень статистической значимости 5% как общепринятый "
   ]
  },
  {
   "cell_type": "code",
   "execution_count": 42,
   "metadata": {
    "trusted": true
   },
   "outputs": [],
   "source": [
    "alpha = .05"
   ]
  },
  {
   "cell_type": "markdown",
   "metadata": {},
   "source": [
    "Проверять гипотезы будем методом Манна-Уитни"
   ]
  },
  {
   "cell_type": "markdown",
   "metadata": {},
   "source": [
    "разделим заказы по группам"
   ]
  },
  {
   "cell_type": "code",
   "execution_count": 43,
   "metadata": {
    "trusted": true
   },
   "outputs": [],
   "source": [
    "orders_group_a = orders.query('group == \"A\"')\n",
    "orders_group_b = orders.query('group == \"B\"')"
   ]
  },
  {
   "cell_type": "markdown",
   "metadata": {},
   "source": [
    "разделим заказы по группам но уже посчитаем сколько каждый пользователь совершил покупок"
   ]
  },
  {
   "cell_type": "code",
   "execution_count": 44,
   "metadata": {
    "trusted": true
   },
   "outputs": [],
   "source": [
    "orders_by_user_a = (orders_group_a\n",
    "                    .groupby(\n",
    "                        'visitor_id',\n",
    "                        as_index=False\n",
    "                    )\n",
    "                    .agg({'transaction_id': pd.Series.nunique})\n",
    "                    .rename(\n",
    "                        columns={'transaction_id': 'count_orders'})\n",
    "                    )\n",
    "\n",
    "orders_by_user_b = (orders_group_b\n",
    "                    .groupby(\n",
    "                        'visitor_id',\n",
    "                        as_index=False\n",
    "                    )\n",
    "                    .agg({'transaction_id': pd.Series.nunique})\n",
    "                    .rename(\n",
    "                        columns={'transaction_id': 'count_orders'}\n",
    "                    )\n",
    "                    )"
   ]
  },
  {
   "cell_type": "markdown",
   "metadata": {},
   "source": [
    "разделим пользователей по группам"
   ]
  },
  {
   "cell_type": "code",
   "execution_count": 45,
   "metadata": {
    "trusted": true
   },
   "outputs": [],
   "source": [
    "visitors_group_a = visitors.query('group == \"A\"')\n",
    "visitors_group_b = visitors.query('group == \"B\"')"
   ]
  },
  {
   "cell_type": "markdown",
   "metadata": {},
   "source": [
    "запишем для соответсвующи групп пользователей не совершивших покупки"
   ]
  },
  {
   "cell_type": "code",
   "execution_count": 46,
   "metadata": {
    "trusted": true
   },
   "outputs": [],
   "source": [
    "users_group_a_with_zero_orders = (pd.Series(0,\n",
    "                                            index=np.arange(\n",
    "\n",
    "                                                visitors_group_a['visitors'].sum() -\n",
    "                                                len(orders_by_user_a['visitor_id'])\n",
    "                                            ),\n",
    "                                            name='count_orders')\n",
    "                                  )\n",
    "\n",
    "\n",
    "\n",
    "users_group_b_with_zero_orders = (pd.Series(0,\n",
    "                                            index=np.arange(\n",
    "                                                visitors_group_b['visitors'].sum() -\n",
    "                                                len(orders_by_user_b['visitor_id'])\n",
    "                                            ),\n",
    "                                            name='count_orders')\n",
    "                                  )"
   ]
  },
  {
   "cell_type": "markdown",
   "metadata": {},
   "source": [
    "соберем покупки пользователей и не совершенные покупки в массивы для соответствующих групп"
   ]
  },
  {
   "cell_type": "code",
   "execution_count": 47,
   "metadata": {
    "trusted": true
   },
   "outputs": [],
   "source": [
    "sample_a = pd.concat(\n",
    "    [orders_by_user_a['count_orders'],\n",
    "     users_group_a_with_zero_orders]\n",
    ")\n",
    "\n",
    "\n",
    "\n",
    "sample_b = pd.concat(\n",
    "    [orders_by_user_b['count_orders'],\n",
    "     users_group_b_with_zero_orders]\n",
    ")"
   ]
  },
  {
   "cell_type": "markdown",
   "metadata": {},
   "source": [
    "применим метод Манна-Уитни и рассчитаем относительный прирост ср. числа заказов между группами"
   ]
  },
  {
   "cell_type": "code",
   "execution_count": 48,
   "metadata": {
    "trusted": true
   },
   "outputs": [],
   "source": [
    "p_value = stat.mannwhitneyu(sample_a, sample_b)[1]\n",
    "\n",
    "prirost = sample_b.mean()/sample_a.mean()-1"
   ]
  },
  {
   "cell_type": "markdown",
   "metadata": {},
   "source": [
    "напишем функцию которая выведет для наглядности p-value, относительный прирост, и принимаемую гипотезу"
   ]
  },
  {
   "cell_type": "code",
   "execution_count": 49,
   "metadata": {
    "trusted": true
   },
   "outputs": [],
   "source": [
    "def get_info_test(p_value, prirost, info_prirost):\n",
    "    '''выводит:    \n",
    "    p-value    \n",
    "    относительный прирост    \n",
    "     и принимаемую гипотезу'''\n",
    "\n",
    "    print(\"p_value = {:.3f}\".format(p_value))\n",
    "    print(\n",
    "        \"{}: {:.3f}\\n\".format(info_prirost, prirost))\n",
    "\n",
    "    if p_value > alpha:\n",
    "        print(\"принимаем гипотезу:\", H_0)\n",
    "    else:\n",
    "        print(\"принимаем гипотезу:\", H_1)"
   ]
  },
  {
   "cell_type": "markdown",
   "metadata": {},
   "source": [
    "Получаем"
   ]
  },
  {
   "cell_type": "code",
   "execution_count": 50,
   "metadata": {
    "trusted": true
   },
   "outputs": [
    {
     "name": "stdout",
     "output_type": "stream",
     "text": [
      "p_value = 0.017\n",
      "относительный прирост ср. числа заказов группы B по сырым данным: 0.138\n",
      "\n",
      "принимаем гипотезу: среднее количенство заказов на посетителя обеих групп разное\n"
     ]
    }
   ],
   "source": [
    "get_info_test(p_value, prirost,\n",
    "              info_prirost=\"относительный прирост ср. числа заказов группы B по сырым данным\")"
   ]
  },
  {
   "cell_type": "markdown",
   "metadata": {},
   "source": [
    "### Статистическая значимость различий в среднем чеке заказа  между группами по сырым данным"
   ]
  },
  {
   "cell_type": "markdown",
   "metadata": {},
   "source": [
    "Сформулируем нулевую и альтернативную гипотезы    "
   ]
  },
  {
   "cell_type": "code",
   "execution_count": 51,
   "metadata": {
    "trusted": true
   },
   "outputs": [],
   "source": [
    "H_0 = \"различий в среднем чеке между группами нет\"\n",
    "H_1 = \"средние чеки групп разные\""
   ]
  },
  {
   "cell_type": "markdown",
   "metadata": {},
   "source": [
    "уровень статистической значимости"
   ]
  },
  {
   "cell_type": "code",
   "execution_count": 52,
   "metadata": {
    "trusted": true
   },
   "outputs": [],
   "source": [
    "alpha = 0.05"
   ]
  },
  {
   "cell_type": "markdown",
   "metadata": {},
   "source": [
    "применим метод Манна-Уитни к средним чекам групп, и рассчитаем относительный прирост"
   ]
  },
  {
   "cell_type": "code",
   "execution_count": 53,
   "metadata": {
    "trusted": true
   },
   "outputs": [],
   "source": [
    "p_value = stat.mannwhitneyu(\n",
    "    orders_group_a['revenue'],\n",
    "    orders_group_b['revenue'])[1]\n",
    "\n",
    "prirost = (\n",
    "    orders_group_b['revenue'].mean() /\n",
    "    orders_group_a['revenue'].mean() - 1\n",
    ")"
   ]
  },
  {
   "cell_type": "markdown",
   "metadata": {},
   "source": [
    "Получаем"
   ]
  },
  {
   "cell_type": "code",
   "execution_count": 54,
   "metadata": {
    "trusted": true
   },
   "outputs": [
    {
     "name": "stdout",
     "output_type": "stream",
     "text": [
      "p_value = 0.729\n",
      "относительный прирост ср. чека заказов группы В по сырым данным: 0.259\n",
      "\n",
      "принимаем гипотезу: различий в среднем чеке между группами нет\n"
     ]
    }
   ],
   "source": [
    "get_info_test(p_value,\n",
    "              prirost,\n",
    "              info_prirost=\"относительный прирост ср. чека заказов группы В по сырым данным\")"
   ]
  },
  {
   "cell_type": "markdown",
   "metadata": {},
   "source": [
    "### Очистка данных от аномалий"
   ]
  },
  {
   "cell_type": "markdown",
   "metadata": {},
   "source": [
    "Теперь необходимо рассчитать то же самое, но уже по очищенным данным."
   ]
  },
  {
   "cell_type": "markdown",
   "metadata": {},
   "source": [
    "План: найти всех аномальных пользователей и убрать их.   \n",
    "Для начала найдем их в таблице с заказами во всех группах используя границу нормального числа заков найденную ранее при помощи перцентилей"
   ]
  },
  {
   "cell_type": "code",
   "execution_count": 55,
   "metadata": {
    "trusted": true
   },
   "outputs": [],
   "source": [
    "anomal_users_orders = pd.concat(\n",
    "    [orders_by_user_a.query('count_orders > @bound_normal_orders')['visitor_id'],\n",
    "     orders_by_user_b.query('count_orders > @bound_normal_orders')['visitor_id']], axis=0)"
   ]
  },
  {
   "cell_type": "markdown",
   "metadata": {},
   "source": [
    "Теперь отыщем их в таблице с посетителями по границе нормального чека найденного ранее"
   ]
  },
  {
   "cell_type": "code",
   "execution_count": 56,
   "metadata": {
    "trusted": true
   },
   "outputs": [],
   "source": [
    "anomal_users_revenue = orders[\n",
    "    orders['revenue'] > bound_normal_revenue\n",
    "]['visitor_id']"
   ]
  },
  {
   "cell_type": "markdown",
   "metadata": {},
   "source": [
    "соберем их до кучи"
   ]
  },
  {
   "cell_type": "code",
   "execution_count": 57,
   "metadata": {
    "trusted": true
   },
   "outputs": [],
   "source": [
    "anomal_users = (pd.concat(\n",
    "    [\n",
    "        anomal_users_orders,\n",
    "        anomal_users_revenue\n",
    "    ],\n",
    "    axis=0)\n",
    "    .drop_duplicates()\n",
    "    .sort_values()\n",
    ")"
   ]
  },
  {
   "cell_type": "markdown",
   "metadata": {},
   "source": [
    "посмотрим сколько их"
   ]
  },
  {
   "cell_type": "code",
   "execution_count": 58,
   "metadata": {
    "scrolled": true,
    "trusted": true
   },
   "outputs": [
    {
     "name": "stdout",
     "output_type": "stream",
     "text": [
      "количество аномальных пользователей:  15\n"
     ]
    }
   ],
   "source": [
    "print(\"количество аномальных пользователей: \", anomal_users.shape[0])"
   ]
  },
  {
   "cell_type": "markdown",
   "metadata": {},
   "source": [
    "а теперь прицельно уберем их из групп"
   ]
  },
  {
   "cell_type": "code",
   "execution_count": 59,
   "metadata": {
    "trusted": true
   },
   "outputs": [],
   "source": [
    "orders_by_user_a_without_anomal_users = (orders_by_user_a[\n",
    "    np.logical_not(\n",
    "        orders_by_user_a\n",
    "        .isin(anomal_users)\n",
    "    )\n",
    "]\n",
    "    ['count_orders']\n",
    ")\n",
    "\n",
    "orders_by_user_b_without_anomal_users = (orders_by_user_b[\n",
    "    np.logical_not(\n",
    "        orders_by_user_b\n",
    "        .isin(anomal_users)\n",
    "    )\n",
    "]\n",
    "    ['count_orders']\n",
    ")"
   ]
  },
  {
   "cell_type": "markdown",
   "metadata": {},
   "source": [
    "и соберем в массивы число заказов и заказов которых не было по группам"
   ]
  },
  {
   "cell_type": "code",
   "execution_count": 60,
   "metadata": {
    "trusted": true
   },
   "outputs": [],
   "source": [
    "sample_a_filtered = pd.concat(\n",
    "    [\n",
    "        orders_by_user_a_without_anomal_users,\n",
    "        users_group_a_with_zero_orders\n",
    "    ],\n",
    "    axis=0\n",
    ")\n",
    "\n",
    "sample_b_filtered = pd.concat(\n",
    "    [\n",
    "        orders_by_user_b_without_anomal_users,\n",
    "        users_group_b_with_zero_orders\n",
    "    ],\n",
    "    axis=0\n",
    ")"
   ]
  },
  {
   "cell_type": "markdown",
   "metadata": {},
   "source": [
    "применим метод  Манна-Уитни к очищенным данным"
   ]
  },
  {
   "cell_type": "markdown",
   "metadata": {},
   "source": [
    "### Статистическая значимость различий в среднем количестве заказов на посетителя между группами по «очищенным» данным"
   ]
  },
  {
   "cell_type": "markdown",
   "metadata": {},
   "source": [
    "Сформулируем гипотезы и выберем уровень стат значимости"
   ]
  },
  {
   "cell_type": "code",
   "execution_count": 61,
   "metadata": {
    "trusted": true
   },
   "outputs": [],
   "source": [
    "H_0 = \"среднее количенство заказов на посетителя обеих групп одинаково\"\n",
    "H_1 = \"среднее количенство заказов на посетителя обеих групп разное\"\n",
    "alpha = .05"
   ]
  },
  {
   "cell_type": "markdown",
   "metadata": {},
   "source": [
    "применим критерий, найдем относительный прирост "
   ]
  },
  {
   "cell_type": "code",
   "execution_count": 62,
   "metadata": {
    "trusted": true
   },
   "outputs": [
    {
     "name": "stdout",
     "output_type": "stream",
     "text": [
      "p_value = 0.017\n",
      "прирост среднего количества заказов группы В по очищенным данным: 0.138\n",
      "\n",
      "принимаем гипотезу: среднее количенство заказов на посетителя обеих групп разное\n"
     ]
    }
   ],
   "source": [
    "p_value = stat.mannwhitneyu(\n",
    "    sample_a_filtered,\n",
    "    sample_b_filtered)[1]\n",
    "\n",
    "\n",
    "prirost = sample_b_filtered.mean() / sample_a_filtered.mean() - 1\n",
    "\n",
    "\n",
    "\n",
    "get_info_test(p_value, \n",
    "              prirost,\n",
    "              info_prirost=\"прирост среднего количества заказов группы В по очищенным данным\")"
   ]
  },
  {
   "cell_type": "markdown",
   "metadata": {},
   "source": [
    "Отметим, что после устранения аномалий p-value и относительный прирост среднего числа закзов не изменился"
   ]
  },
  {
   "cell_type": "markdown",
   "metadata": {},
   "source": [
    "### Cтатистическая значимость различий в среднем чеке заказа между группами по «очищенным» данным."
   ]
  },
  {
   "cell_type": "markdown",
   "metadata": {},
   "source": [
    "Сформулируем гипотезы и уровень стат значимости по прежнему 0,05"
   ]
  },
  {
   "cell_type": "code",
   "execution_count": 63,
   "metadata": {
    "trusted": true
   },
   "outputs": [],
   "source": [
    "H_0 = \"средний чек обеих групп одинаковый\"\n",
    "H_1 = \"средний чек обеих групп разный\"\n",
    "alpha = .05"
   ]
  },
  {
   "cell_type": "markdown",
   "metadata": {},
   "source": [
    "перед рассчетами среднего чека  уберем аномальных пользователей"
   ]
  },
  {
   "cell_type": "code",
   "execution_count": 64,
   "metadata": {
    "trusted": true
   },
   "outputs": [],
   "source": [
    "revenue_filter_group_a = (orders[\n",
    "    np.logical_and(\n",
    "        orders['group'] == \"A\",\n",
    "\n",
    "\n",
    "\n",
    "        np.logical_not(\n",
    "            orders['visitor_id']\n",
    "            .isin(anomal_users)\n",
    "        )\n",
    "    )\n",
    "]['revenue']\n",
    ")\n",
    "\n",
    "\n",
    "\n",
    "revenue_filter_group_b = (\n",
    "    orders[\n",
    "        np.logical_and(\n",
    "            orders['group'] == \"B\",\n",
    "            np.logical_not(\n",
    "                orders['visitor_id']\n",
    "                .isin(anomal_users)\n",
    "            )\n",
    "        )\n",
    "    ]['revenue']\n",
    ")"
   ]
  },
  {
   "cell_type": "markdown",
   "metadata": {},
   "source": [
    "смотрим результаты"
   ]
  },
  {
   "cell_type": "code",
   "execution_count": 65,
   "metadata": {
    "trusted": true
   },
   "outputs": [
    {
     "name": "stdout",
     "output_type": "stream",
     "text": [
      "p_value = 0.851\n",
      "прирост среднего чека группы В: -0.006\n",
      "\n",
      "принимаем гипотезу: средний чек обеих групп одинаковый\n"
     ]
    }
   ],
   "source": [
    "p_value = stat.mannwhitneyu(revenue_filter_group_a, revenue_filter_group_b)[1]\n",
    "prirost = revenue_filter_group_b.mean() / revenue_filter_group_a.mean() - 1\n",
    "\n",
    "get_info_test(p_value, prirost,\n",
    "              info_prirost=\"прирост среднего чека группы В\")"
   ]
  },
  {
   "cell_type": "markdown",
   "metadata": {},
   "source": [
    "Отметим:    \n",
    "p-value после устранения аномальных значений увеличился,    \n",
    "средний чек уменьшился с 26% до -0,6%"
   ]
  },
  {
   "cell_type": "markdown",
   "metadata": {},
   "source": [
    "# Итоговый вывод "
   ]
  },
  {
   "cell_type": "markdown",
   "metadata": {},
   "source": [
    "Загрузив необходимые файлы с гипотезами, заказами и посетителями,   \n",
    "проверив их на пропуски , дубликаты, соответсвие типам данных содержимых столбцов,\n",
    "приведя названия столбцов к необходимому формату, привели данные к соответствующемк типу данных, \n",
    "произвели приоретизацию гипотез методами приоретизации `ICE` и `RICE`.  \n",
    "\n",
    "Затем вычислили период проведения AB- теста , размер групп и проверили наличие пользователей в обеих руппах и еще проанализировали результаты A/B теста с предварительной подготовкой данных для таких метрик : \n",
    " - кумулятивная вырчка \n",
    "- кумулятивный средний чек\n",
    "- относительное изменение кумулятивного среднего чего группы В к группе А\n",
    "- кумулятивное среденне количество закзов на посетителя\n",
    "- относительное изменение кумулятивного среднего количества заказов на посетителя группы В к группе А,   \n",
    "после чего построили их графики и проанализировали.\n",
    "\n",
    "Далее подготовили данные для нахождения пределов значений кол-ва заказов и их стоимостей чтоб отсечь аномальные значения\n",
    "\n",
    "Затем вычислили статистическую значимость различий в :\n",
    "- среднем количестве заказов на посетителя между группами\n",
    "- среднем чеке заказа между группами\n",
    "\n",
    "до и после фильтрации аномалий."
   ]
  },
  {
   "cell_type": "markdown",
   "metadata": {},
   "source": [
    "\n",
    "Выяснили следующее:\n",
    "\n",
    " -  что приоритетной (по методу `RICE`) гипотезой  является:  \n",
    "\n",
    "`Добавить форму подписки на все основные страницы, чтобы собрать базу клиентов для email-рассылок`.  \n",
    "\n",
    "  \n",
    "- тест проводился весь август\n",
    "- группы теста разделены не равномерно и различаются на 13 %\n",
    "- что 58 человек находятся сразу в обеих группах , но удалять их не представляется возможным т.к. они агрегированы в таблице с посетителями, по этому было принято оставить их для дальнейшего анализа\n",
    "- кумулятивная выручка , кумулятивный средний чек, относительное изменение кумулятивного среднего чека группы В к группы А резко возрастает из-за одной большой покупки,\n",
    "- кумулятивное среднее количество заказов группы В чуть больше чем у группы А и составляет примерно 3,4% против 3%\n",
    "- относительное изменение кумулятивного среднего кол-ва заказов на посетителя группы В к группе А к концу теста находится в пределах 10-14%\n",
    "- 99 % пользователей совершают менее 4 покупок\n",
    "- 99 % пользователей совершают покупки  на сумму менее 58 233.2 рублей"
   ]
  },
  {
   "cell_type": "markdown",
   "metadata": {},
   "source": [
    "до очистки данных от аномалий \n",
    "- прирост ср. количество заказов 13,8% \n",
    "- средний чек группы В на 26% больше чем у группы А\n",
    "\n",
    "после удаления аномальных значений\n",
    "- ср. кол-во заказов увеличилось до 13,8%\n",
    "- средний чек группы B уменьшился и сотавил -0.6%.\n",
    "\n",
    "Т.к. ср. кол-во заказов увеличилось при отсутствии знаяимых изменений по ср. чеку , следовательно стали покупать чаще - выручка увеличилась. \n",
    "Поэтому А/В тест  следует завершить и признать для группы В успешным, т.к. поставленная цель по  увеличения выручки выполняется."
   ]
  }
 ],
 "metadata": {
  "ExecuteTimeLog": [
   {
    "duration": 912,
    "start_time": "2024-10-24T05:09:24.735Z"
   },
   {
    "duration": 229,
    "start_time": "2024-10-24T05:09:25.649Z"
   },
   {
    "duration": 48,
    "start_time": "2024-10-24T05:09:25.879Z"
   },
   {
    "duration": 3,
    "start_time": "2024-10-24T05:09:25.929Z"
   },
   {
    "duration": 18,
    "start_time": "2024-10-24T05:09:25.934Z"
   },
   {
    "duration": 8,
    "start_time": "2024-10-24T05:09:25.953Z"
   },
   {
    "duration": 2,
    "start_time": "2024-10-24T05:09:25.963Z"
   },
   {
    "duration": 4,
    "start_time": "2024-10-24T05:09:25.967Z"
   },
   {
    "duration": 7,
    "start_time": "2024-10-24T05:09:25.972Z"
   },
   {
    "duration": 8,
    "start_time": "2024-10-24T05:09:25.982Z"
   },
   {
    "duration": 69,
    "start_time": "2024-10-24T05:09:25.991Z"
   },
   {
    "duration": 7,
    "start_time": "2024-10-24T05:09:26.061Z"
   },
   {
    "duration": 21,
    "start_time": "2024-10-24T05:09:26.070Z"
   },
   {
    "duration": 7,
    "start_time": "2024-10-24T05:09:26.092Z"
   },
   {
    "duration": 14,
    "start_time": "2024-10-24T05:09:26.100Z"
   },
   {
    "duration": 3,
    "start_time": "2024-10-24T05:09:26.115Z"
   },
   {
    "duration": 5,
    "start_time": "2024-10-24T05:09:26.119Z"
   },
   {
    "duration": 152,
    "start_time": "2024-10-24T05:09:26.125Z"
   },
   {
    "duration": 113,
    "start_time": "2024-10-24T05:09:26.278Z"
   },
   {
    "duration": 5,
    "start_time": "2024-10-24T05:09:26.392Z"
   },
   {
    "duration": 8,
    "start_time": "2024-10-24T05:09:26.398Z"
   },
   {
    "duration": 12,
    "start_time": "2024-10-24T05:09:26.407Z"
   },
   {
    "duration": 488,
    "start_time": "2024-10-24T05:09:26.420Z"
   },
   {
    "duration": 67,
    "start_time": "2024-10-24T05:09:26.909Z"
   },
   {
    "duration": 4,
    "start_time": "2024-10-24T05:09:26.977Z"
   },
   {
    "duration": 9,
    "start_time": "2024-10-24T05:09:26.982Z"
   },
   {
    "duration": 84,
    "start_time": "2024-10-24T05:09:26.992Z"
   },
   {
    "duration": 50,
    "start_time": "2024-10-24T05:09:27.079Z"
   },
   {
    "duration": 3,
    "start_time": "2024-10-24T05:09:27.130Z"
   },
   {
    "duration": 51,
    "start_time": "2024-10-24T05:09:27.134Z"
   },
   {
    "duration": 3,
    "start_time": "2024-10-24T05:09:27.186Z"
   },
   {
    "duration": 44,
    "start_time": "2024-10-24T05:09:27.190Z"
   },
   {
    "duration": 8,
    "start_time": "2024-10-24T05:09:27.235Z"
   },
   {
    "duration": 58,
    "start_time": "2024-10-24T05:09:27.244Z"
   },
   {
    "duration": 3,
    "start_time": "2024-10-24T05:09:27.304Z"
   },
   {
    "duration": 3,
    "start_time": "2024-10-24T05:09:27.309Z"
   },
   {
    "duration": 63,
    "start_time": "2024-10-24T05:09:27.313Z"
   },
   {
    "duration": 4,
    "start_time": "2024-10-24T05:09:27.378Z"
   },
   {
    "duration": 3,
    "start_time": "2024-10-24T05:09:27.383Z"
   },
   {
    "duration": 12,
    "start_time": "2024-10-24T05:09:27.387Z"
   },
   {
    "duration": 13,
    "start_time": "2024-10-24T05:09:27.400Z"
   },
   {
    "duration": 11,
    "start_time": "2024-10-24T05:09:27.414Z"
   },
   {
    "duration": 37,
    "start_time": "2024-10-24T05:09:27.427Z"
   },
   {
    "duration": 6,
    "start_time": "2024-10-24T05:09:27.466Z"
   },
   {
    "duration": 12,
    "start_time": "2024-10-24T05:09:27.473Z"
   },
   {
    "duration": 14,
    "start_time": "2024-10-24T05:09:27.486Z"
   },
   {
    "duration": 13,
    "start_time": "2024-10-24T05:09:27.501Z"
   },
   {
    "duration": 14,
    "start_time": "2024-10-24T05:09:27.515Z"
   },
   {
    "duration": 4,
    "start_time": "2024-10-24T05:09:27.558Z"
   },
   {
    "duration": 50,
    "start_time": "2024-10-24T05:09:27.563Z"
   },
   {
    "duration": 7,
    "start_time": "2024-10-24T05:09:27.614Z"
   },
   {
    "duration": 12,
    "start_time": "2024-10-24T05:09:27.623Z"
   },
   {
    "duration": 6,
    "start_time": "2024-10-24T05:48:16.961Z"
   },
   {
    "duration": 3,
    "start_time": "2024-10-24T05:48:34.450Z"
   },
   {
    "duration": 11,
    "start_time": "2024-10-24T05:59:23.062Z"
   },
   {
    "duration": 11,
    "start_time": "2024-10-24T06:10:18.211Z"
   },
   {
    "duration": 11,
    "start_time": "2024-10-24T06:11:21.404Z"
   },
   {
    "duration": 916,
    "start_time": "2024-10-24T06:11:31.556Z"
   },
   {
    "duration": 273,
    "start_time": "2024-10-24T06:11:32.474Z"
   },
   {
    "duration": 47,
    "start_time": "2024-10-24T06:11:32.748Z"
   },
   {
    "duration": 3,
    "start_time": "2024-10-24T06:11:32.797Z"
   },
   {
    "duration": 9,
    "start_time": "2024-10-24T06:11:32.801Z"
   },
   {
    "duration": 7,
    "start_time": "2024-10-24T06:11:32.811Z"
   },
   {
    "duration": 23,
    "start_time": "2024-10-24T06:11:32.819Z"
   },
   {
    "duration": 4,
    "start_time": "2024-10-24T06:11:32.843Z"
   },
   {
    "duration": 17,
    "start_time": "2024-10-24T06:11:32.848Z"
   },
   {
    "duration": 9,
    "start_time": "2024-10-24T06:11:32.867Z"
   },
   {
    "duration": 39,
    "start_time": "2024-10-24T06:11:32.877Z"
   },
   {
    "duration": 7,
    "start_time": "2024-10-24T06:11:32.918Z"
   },
   {
    "duration": 24,
    "start_time": "2024-10-24T06:11:32.927Z"
   },
   {
    "duration": 8,
    "start_time": "2024-10-24T06:11:32.953Z"
   },
   {
    "duration": 9,
    "start_time": "2024-10-24T06:11:32.962Z"
   },
   {
    "duration": 11,
    "start_time": "2024-10-24T06:11:32.973Z"
   },
   {
    "duration": 14,
    "start_time": "2024-10-24T06:11:32.986Z"
   },
   {
    "duration": 145,
    "start_time": "2024-10-24T06:11:33.001Z"
   },
   {
    "duration": 100,
    "start_time": "2024-10-24T06:11:33.148Z"
   },
   {
    "duration": 8,
    "start_time": "2024-10-24T06:11:33.249Z"
   },
   {
    "duration": 116,
    "start_time": "2024-10-24T06:11:33.259Z"
   },
   {
    "duration": 26,
    "start_time": "2024-10-24T06:11:33.376Z"
   },
   {
    "duration": 14,
    "start_time": "2024-10-24T06:11:33.404Z"
   },
   {
    "duration": 517,
    "start_time": "2024-10-24T06:11:33.419Z"
   },
   {
    "duration": 52,
    "start_time": "2024-10-24T06:11:33.937Z"
   },
   {
    "duration": 4,
    "start_time": "2024-10-24T06:11:33.991Z"
   },
   {
    "duration": 61,
    "start_time": "2024-10-24T06:11:33.996Z"
   },
   {
    "duration": 11,
    "start_time": "2024-10-24T06:11:34.061Z"
   },
   {
    "duration": 62,
    "start_time": "2024-10-24T06:11:34.073Z"
   },
   {
    "duration": 3,
    "start_time": "2024-10-24T06:11:34.137Z"
   },
   {
    "duration": 61,
    "start_time": "2024-10-24T06:11:34.157Z"
   },
   {
    "duration": 27,
    "start_time": "2024-10-24T06:11:34.220Z"
   },
   {
    "duration": 70,
    "start_time": "2024-10-24T06:11:34.248Z"
   },
   {
    "duration": 8,
    "start_time": "2024-10-24T06:11:34.320Z"
   },
   {
    "duration": 49,
    "start_time": "2024-10-24T06:11:34.329Z"
   },
   {
    "duration": 4,
    "start_time": "2024-10-24T06:11:34.379Z"
   },
   {
    "duration": 22,
    "start_time": "2024-10-24T06:11:34.384Z"
   },
   {
    "duration": 65,
    "start_time": "2024-10-24T06:11:34.408Z"
   },
   {
    "duration": 61,
    "start_time": "2024-10-24T06:11:34.475Z"
   },
   {
    "duration": 21,
    "start_time": "2024-10-24T06:11:34.537Z"
   },
   {
    "duration": 18,
    "start_time": "2024-10-24T06:11:34.559Z"
   },
   {
    "duration": 25,
    "start_time": "2024-10-24T06:11:34.579Z"
   },
   {
    "duration": 15,
    "start_time": "2024-10-24T06:11:34.605Z"
   },
   {
    "duration": 20,
    "start_time": "2024-10-24T06:11:34.622Z"
   },
   {
    "duration": 3,
    "start_time": "2024-10-24T06:11:34.643Z"
   },
   {
    "duration": 15,
    "start_time": "2024-10-24T06:11:34.647Z"
   },
   {
    "duration": 10,
    "start_time": "2024-10-24T06:11:34.663Z"
   },
   {
    "duration": 11,
    "start_time": "2024-10-24T06:11:34.674Z"
   },
   {
    "duration": 16,
    "start_time": "2024-10-24T06:11:34.686Z"
   },
   {
    "duration": 14,
    "start_time": "2024-10-24T06:11:34.703Z"
   },
   {
    "duration": 13,
    "start_time": "2024-10-24T06:11:34.718Z"
   },
   {
    "duration": 25,
    "start_time": "2024-10-24T06:11:34.732Z"
   },
   {
    "duration": 14,
    "start_time": "2024-10-24T06:11:34.759Z"
   },
   {
    "duration": 3,
    "start_time": "2024-10-24T06:11:34.774Z"
   },
   {
    "duration": 32,
    "start_time": "2024-10-24T06:11:34.778Z"
   },
   {
    "duration": 4,
    "start_time": "2024-10-24T06:14:35.727Z"
   },
   {
    "duration": 4,
    "start_time": "2024-10-24T06:14:41.687Z"
   },
   {
    "duration": 847,
    "start_time": "2024-10-24T06:17:42.604Z"
   },
   {
    "duration": 159,
    "start_time": "2024-10-24T06:17:43.453Z"
   },
   {
    "duration": 48,
    "start_time": "2024-10-24T06:17:43.613Z"
   },
   {
    "duration": 4,
    "start_time": "2024-10-24T06:17:43.662Z"
   },
   {
    "duration": 7,
    "start_time": "2024-10-24T06:17:43.667Z"
   },
   {
    "duration": 7,
    "start_time": "2024-10-24T06:17:43.675Z"
   },
   {
    "duration": 24,
    "start_time": "2024-10-24T06:17:43.684Z"
   },
   {
    "duration": 12,
    "start_time": "2024-10-24T06:17:43.709Z"
   },
   {
    "duration": 11,
    "start_time": "2024-10-24T06:17:43.723Z"
   },
   {
    "duration": 8,
    "start_time": "2024-10-24T06:17:43.736Z"
   },
   {
    "duration": 86,
    "start_time": "2024-10-24T06:17:43.745Z"
   },
   {
    "duration": 28,
    "start_time": "2024-10-24T06:17:43.833Z"
   },
   {
    "duration": 11,
    "start_time": "2024-10-24T06:17:43.863Z"
   },
   {
    "duration": 17,
    "start_time": "2024-10-24T06:17:43.875Z"
   },
   {
    "duration": 28,
    "start_time": "2024-10-24T06:17:43.893Z"
   },
   {
    "duration": 3,
    "start_time": "2024-10-24T06:17:43.922Z"
   },
   {
    "duration": 6,
    "start_time": "2024-10-24T06:17:43.926Z"
   },
   {
    "duration": 155,
    "start_time": "2024-10-24T06:17:43.933Z"
   },
   {
    "duration": 107,
    "start_time": "2024-10-24T06:17:44.090Z"
   },
   {
    "duration": 70,
    "start_time": "2024-10-24T06:17:44.199Z"
   },
   {
    "duration": 15,
    "start_time": "2024-10-24T06:17:44.271Z"
   },
   {
    "duration": 5,
    "start_time": "2024-10-24T06:17:44.287Z"
   },
   {
    "duration": 4,
    "start_time": "2024-10-24T06:17:44.293Z"
   },
   {
    "duration": 509,
    "start_time": "2024-10-24T06:17:44.298Z"
   },
   {
    "duration": 68,
    "start_time": "2024-10-24T06:17:44.808Z"
   },
   {
    "duration": 4,
    "start_time": "2024-10-24T06:17:44.878Z"
   },
   {
    "duration": 26,
    "start_time": "2024-10-24T06:17:44.884Z"
   },
   {
    "duration": 18,
    "start_time": "2024-10-24T06:17:44.913Z"
   },
   {
    "duration": 68,
    "start_time": "2024-10-24T06:17:44.932Z"
   },
   {
    "duration": 3,
    "start_time": "2024-10-24T06:17:45.001Z"
   },
   {
    "duration": 104,
    "start_time": "2024-10-24T06:17:45.006Z"
   },
   {
    "duration": 3,
    "start_time": "2024-10-24T06:17:45.112Z"
   },
   {
    "duration": 98,
    "start_time": "2024-10-24T06:17:45.117Z"
   },
   {
    "duration": 15,
    "start_time": "2024-10-24T06:17:45.217Z"
   },
   {
    "duration": 64,
    "start_time": "2024-10-24T06:17:45.234Z"
   },
   {
    "duration": 4,
    "start_time": "2024-10-24T06:17:45.300Z"
   },
   {
    "duration": 84,
    "start_time": "2024-10-24T06:17:45.305Z"
   },
   {
    "duration": 55,
    "start_time": "2024-10-24T06:17:45.390Z"
   },
   {
    "duration": 5,
    "start_time": "2024-10-24T06:17:45.446Z"
   },
   {
    "duration": 8,
    "start_time": "2024-10-24T06:17:45.452Z"
   },
   {
    "duration": 40,
    "start_time": "2024-10-24T06:17:45.462Z"
   },
   {
    "duration": 19,
    "start_time": "2024-10-24T06:17:45.503Z"
   },
   {
    "duration": 8,
    "start_time": "2024-10-24T06:17:45.523Z"
   },
   {
    "duration": 29,
    "start_time": "2024-10-24T06:17:45.533Z"
   },
   {
    "duration": 17,
    "start_time": "2024-10-24T06:17:45.563Z"
   },
   {
    "duration": 21,
    "start_time": "2024-10-24T06:17:45.582Z"
   },
   {
    "duration": 9,
    "start_time": "2024-10-24T06:17:45.604Z"
   },
   {
    "duration": 12,
    "start_time": "2024-10-24T06:17:45.615Z"
   },
   {
    "duration": 12,
    "start_time": "2024-10-24T06:17:45.629Z"
   },
   {
    "duration": 7,
    "start_time": "2024-10-24T06:17:45.643Z"
   },
   {
    "duration": 16,
    "start_time": "2024-10-24T06:17:45.651Z"
   },
   {
    "duration": 2,
    "start_time": "2024-10-24T06:17:45.668Z"
   },
   {
    "duration": 34,
    "start_time": "2024-10-24T06:17:45.672Z"
   },
   {
    "duration": 1091,
    "start_time": "2024-10-25T09:35:57.386Z"
   },
   {
    "duration": 300,
    "start_time": "2024-10-25T09:35:58.479Z"
   },
   {
    "duration": 55,
    "start_time": "2024-10-25T09:35:58.780Z"
   },
   {
    "duration": 77,
    "start_time": "2024-10-25T09:35:58.837Z"
   },
   {
    "duration": 9,
    "start_time": "2024-10-25T09:35:58.915Z"
   },
   {
    "duration": 19,
    "start_time": "2024-10-25T09:35:58.925Z"
   },
   {
    "duration": 6,
    "start_time": "2024-10-25T09:35:58.946Z"
   },
   {
    "duration": 6,
    "start_time": "2024-10-25T09:35:58.953Z"
   },
   {
    "duration": 107,
    "start_time": "2024-10-25T09:35:58.960Z"
   },
   {
    "duration": 18,
    "start_time": "2024-10-25T09:35:59.069Z"
   },
   {
    "duration": 19,
    "start_time": "2024-10-25T09:35:59.089Z"
   },
   {
    "duration": 4,
    "start_time": "2024-10-25T09:35:59.109Z"
   },
   {
    "duration": 16,
    "start_time": "2024-10-25T09:35:59.115Z"
   },
   {
    "duration": 13,
    "start_time": "2024-10-25T09:35:59.133Z"
   },
   {
    "duration": 11,
    "start_time": "2024-10-25T09:35:59.148Z"
   },
   {
    "duration": 24,
    "start_time": "2024-10-25T09:35:59.161Z"
   },
   {
    "duration": 188,
    "start_time": "2024-10-25T09:35:59.187Z"
   },
   {
    "duration": 128,
    "start_time": "2024-10-25T09:35:59.377Z"
   },
   {
    "duration": 6,
    "start_time": "2024-10-25T09:35:59.507Z"
   },
   {
    "duration": 26,
    "start_time": "2024-10-25T09:35:59.514Z"
   },
   {
    "duration": 4,
    "start_time": "2024-10-25T09:35:59.542Z"
   },
   {
    "duration": 4,
    "start_time": "2024-10-25T09:35:59.548Z"
   },
   {
    "duration": 592,
    "start_time": "2024-10-25T09:35:59.554Z"
   },
   {
    "duration": 100,
    "start_time": "2024-10-25T09:36:00.148Z"
   },
   {
    "duration": 19,
    "start_time": "2024-10-25T09:36:00.249Z"
   },
   {
    "duration": 54,
    "start_time": "2024-10-25T09:36:00.270Z"
   },
   {
    "duration": 69,
    "start_time": "2024-10-25T09:36:00.326Z"
   },
   {
    "duration": 80,
    "start_time": "2024-10-25T09:36:00.399Z"
   },
   {
    "duration": 39,
    "start_time": "2024-10-25T09:36:00.481Z"
   },
   {
    "duration": 98,
    "start_time": "2024-10-25T09:36:00.522Z"
   },
   {
    "duration": 6,
    "start_time": "2024-10-25T09:36:00.622Z"
   },
   {
    "duration": 81,
    "start_time": "2024-10-25T09:36:00.630Z"
   },
   {
    "duration": 9,
    "start_time": "2024-10-25T09:36:00.713Z"
   },
   {
    "duration": 74,
    "start_time": "2024-10-25T09:36:00.724Z"
   },
   {
    "duration": 5,
    "start_time": "2024-10-25T09:36:00.800Z"
   },
   {
    "duration": 73,
    "start_time": "2024-10-25T09:36:00.806Z"
   },
   {
    "duration": 121,
    "start_time": "2024-10-25T09:36:00.880Z"
   },
   {
    "duration": 5,
    "start_time": "2024-10-25T09:36:01.003Z"
   },
   {
    "duration": 60,
    "start_time": "2024-10-25T09:36:01.011Z"
   },
   {
    "duration": 10,
    "start_time": "2024-10-25T09:36:01.073Z"
   },
   {
    "duration": 4,
    "start_time": "2024-10-25T09:36:01.085Z"
   },
   {
    "duration": 11,
    "start_time": "2024-10-25T09:36:01.091Z"
   },
   {
    "duration": 137,
    "start_time": "2024-10-25T09:36:01.104Z"
   },
   {
    "duration": 6,
    "start_time": "2024-10-25T09:36:01.243Z"
   },
   {
    "duration": 38,
    "start_time": "2024-10-25T09:36:01.251Z"
   },
   {
    "duration": 34,
    "start_time": "2024-10-25T09:36:01.291Z"
   },
   {
    "duration": 81,
    "start_time": "2024-10-25T09:36:01.327Z"
   },
   {
    "duration": 9,
    "start_time": "2024-10-25T09:36:01.410Z"
   },
   {
    "duration": 29,
    "start_time": "2024-10-25T09:36:01.421Z"
   },
   {
    "duration": 33,
    "start_time": "2024-10-25T09:36:01.452Z"
   },
   {
    "duration": 52,
    "start_time": "2024-10-25T09:36:01.487Z"
   },
   {
    "duration": 13,
    "start_time": "2024-10-25T09:36:01.541Z"
   },
   {
    "duration": 31,
    "start_time": "2024-10-25T09:36:01.556Z"
   },
   {
    "duration": 30,
    "start_time": "2024-10-25T09:36:01.589Z"
   },
   {
    "duration": 62,
    "start_time": "2024-10-25T09:36:01.621Z"
   },
   {
    "duration": 50,
    "start_time": "2024-10-25T09:36:01.685Z"
   },
   {
    "duration": 53,
    "start_time": "2024-10-25T09:36:01.736Z"
   },
   {
    "duration": 41,
    "start_time": "2024-10-25T09:36:01.791Z"
   },
   {
    "duration": 9,
    "start_time": "2024-10-25T09:36:01.833Z"
   },
   {
    "duration": 56,
    "start_time": "2024-10-25T09:36:01.844Z"
   },
   {
    "duration": 61,
    "start_time": "2024-10-25T09:36:01.902Z"
   },
   {
    "duration": 26,
    "start_time": "2024-10-25T09:36:01.965Z"
   },
   {
    "duration": 56,
    "start_time": "2024-10-25T09:36:01.993Z"
   },
   {
    "duration": 43,
    "start_time": "2024-10-25T09:36:02.051Z"
   },
   {
    "duration": 1073,
    "start_time": "2024-10-25T09:54:05.401Z"
   },
   {
    "duration": 253,
    "start_time": "2024-10-25T09:54:06.476Z"
   },
   {
    "duration": 58,
    "start_time": "2024-10-25T09:54:06.731Z"
   },
   {
    "duration": 4,
    "start_time": "2024-10-25T09:54:06.790Z"
   },
   {
    "duration": 37,
    "start_time": "2024-10-25T09:54:06.796Z"
   },
   {
    "duration": 17,
    "start_time": "2024-10-25T09:54:06.835Z"
   },
   {
    "duration": 23,
    "start_time": "2024-10-25T09:54:06.854Z"
   },
   {
    "duration": 100,
    "start_time": "2024-10-25T09:54:06.879Z"
   },
   {
    "duration": 41,
    "start_time": "2024-10-25T09:54:06.981Z"
   },
   {
    "duration": 71,
    "start_time": "2024-10-25T09:54:07.024Z"
   },
   {
    "duration": 79,
    "start_time": "2024-10-25T09:54:07.097Z"
   },
   {
    "duration": 36,
    "start_time": "2024-10-25T09:54:07.178Z"
   },
   {
    "duration": 67,
    "start_time": "2024-10-25T09:54:07.215Z"
   },
   {
    "duration": 45,
    "start_time": "2024-10-25T09:54:07.285Z"
   },
   {
    "duration": 16,
    "start_time": "2024-10-25T09:54:07.331Z"
   },
   {
    "duration": 25,
    "start_time": "2024-10-25T09:54:07.349Z"
   },
   {
    "duration": 182,
    "start_time": "2024-10-25T09:54:07.376Z"
   },
   {
    "duration": 119,
    "start_time": "2024-10-25T09:54:07.560Z"
   },
   {
    "duration": 7,
    "start_time": "2024-10-25T09:54:07.681Z"
   },
   {
    "duration": 41,
    "start_time": "2024-10-25T09:54:07.690Z"
   },
   {
    "duration": 40,
    "start_time": "2024-10-25T09:54:07.733Z"
   },
   {
    "duration": 47,
    "start_time": "2024-10-25T09:54:07.776Z"
   },
   {
    "duration": 583,
    "start_time": "2024-10-25T09:54:07.825Z"
   },
   {
    "duration": 122,
    "start_time": "2024-10-25T09:54:08.409Z"
   },
   {
    "duration": 5,
    "start_time": "2024-10-25T09:54:08.532Z"
   },
   {
    "duration": 26,
    "start_time": "2024-10-25T09:54:08.539Z"
   },
   {
    "duration": 35,
    "start_time": "2024-10-25T09:54:08.566Z"
   },
   {
    "duration": 71,
    "start_time": "2024-10-25T09:54:08.602Z"
   },
   {
    "duration": 4,
    "start_time": "2024-10-25T09:54:08.674Z"
   },
   {
    "duration": 85,
    "start_time": "2024-10-25T09:54:08.680Z"
   },
   {
    "duration": 6,
    "start_time": "2024-10-25T09:54:08.767Z"
   },
   {
    "duration": 72,
    "start_time": "2024-10-25T09:54:08.775Z"
   },
   {
    "duration": 12,
    "start_time": "2024-10-25T09:54:08.849Z"
   },
   {
    "duration": 72,
    "start_time": "2024-10-25T09:54:08.863Z"
   },
   {
    "duration": 43,
    "start_time": "2024-10-25T09:54:08.938Z"
   },
   {
    "duration": 22,
    "start_time": "2024-10-25T09:54:08.984Z"
   },
   {
    "duration": 62,
    "start_time": "2024-10-25T09:54:09.008Z"
   },
   {
    "duration": 6,
    "start_time": "2024-10-25T09:54:09.072Z"
   },
   {
    "duration": 40,
    "start_time": "2024-10-25T09:54:09.080Z"
   },
   {
    "duration": 8,
    "start_time": "2024-10-25T09:54:09.122Z"
   },
   {
    "duration": 4,
    "start_time": "2024-10-25T09:54:09.136Z"
   },
   {
    "duration": 12,
    "start_time": "2024-10-25T09:54:09.142Z"
   },
   {
    "duration": 159,
    "start_time": "2024-10-25T09:54:09.156Z"
   },
   {
    "duration": 7,
    "start_time": "2024-10-25T09:54:09.321Z"
   },
   {
    "duration": 8,
    "start_time": "2024-10-25T09:54:09.329Z"
   },
   {
    "duration": 40,
    "start_time": "2024-10-25T09:54:09.338Z"
   },
   {
    "duration": 33,
    "start_time": "2024-10-25T09:54:09.379Z"
   },
   {
    "duration": 3,
    "start_time": "2024-10-25T09:54:09.415Z"
   },
   {
    "duration": 64,
    "start_time": "2024-10-25T09:54:09.420Z"
   },
   {
    "duration": 74,
    "start_time": "2024-10-25T09:54:09.485Z"
   },
   {
    "duration": 88,
    "start_time": "2024-10-25T09:54:09.560Z"
   },
   {
    "duration": 191,
    "start_time": "2024-10-25T09:54:09.650Z"
   },
   {
    "duration": 213,
    "start_time": "2024-10-25T09:54:09.843Z"
   },
   {
    "duration": 80,
    "start_time": "2024-10-25T09:54:10.058Z"
   },
   {
    "duration": 26,
    "start_time": "2024-10-25T09:54:10.139Z"
   },
   {
    "duration": 61,
    "start_time": "2024-10-25T09:54:10.167Z"
   },
   {
    "duration": 21,
    "start_time": "2024-10-25T09:54:10.229Z"
   },
   {
    "duration": 9,
    "start_time": "2024-10-25T09:54:10.251Z"
   },
   {
    "duration": 22,
    "start_time": "2024-10-25T09:54:10.261Z"
   },
   {
    "duration": 24,
    "start_time": "2024-10-25T09:54:10.284Z"
   },
   {
    "duration": 129,
    "start_time": "2024-10-25T09:54:10.309Z"
   },
   {
    "duration": 2,
    "start_time": "2024-10-25T09:54:10.440Z"
   },
   {
    "duration": 22,
    "start_time": "2024-10-25T09:54:10.444Z"
   },
   {
    "duration": 8,
    "start_time": "2024-10-25T09:54:10.467Z"
   },
   {
    "duration": 945,
    "start_time": "2024-10-26T07:31:20.244Z"
   },
   {
    "duration": 243,
    "start_time": "2024-10-26T07:31:21.191Z"
   },
   {
    "duration": 50,
    "start_time": "2024-10-26T07:31:21.436Z"
   },
   {
    "duration": 3,
    "start_time": "2024-10-26T07:31:21.488Z"
   },
   {
    "duration": 6,
    "start_time": "2024-10-26T07:31:21.492Z"
   },
   {
    "duration": 24,
    "start_time": "2024-10-26T07:31:21.499Z"
   },
   {
    "duration": 12,
    "start_time": "2024-10-26T07:31:21.524Z"
   },
   {
    "duration": 7,
    "start_time": "2024-10-26T07:31:21.537Z"
   },
   {
    "duration": 12,
    "start_time": "2024-10-26T07:31:21.545Z"
   },
   {
    "duration": 9,
    "start_time": "2024-10-26T07:31:21.560Z"
   },
   {
    "duration": 11,
    "start_time": "2024-10-26T07:31:21.570Z"
   },
   {
    "duration": 9,
    "start_time": "2024-10-26T07:31:21.583Z"
   },
   {
    "duration": 24,
    "start_time": "2024-10-26T07:31:21.593Z"
   },
   {
    "duration": 12,
    "start_time": "2024-10-26T07:31:21.619Z"
   },
   {
    "duration": 20,
    "start_time": "2024-10-26T07:31:21.633Z"
   },
   {
    "duration": 5,
    "start_time": "2024-10-26T07:31:21.655Z"
   },
   {
    "duration": 9,
    "start_time": "2024-10-26T07:31:21.662Z"
   },
   {
    "duration": 155,
    "start_time": "2024-10-26T07:31:21.673Z"
   },
   {
    "duration": 117,
    "start_time": "2024-10-26T07:31:21.829Z"
   },
   {
    "duration": 5,
    "start_time": "2024-10-26T07:31:21.947Z"
   },
   {
    "duration": 16,
    "start_time": "2024-10-26T07:31:21.953Z"
   },
   {
    "duration": 8,
    "start_time": "2024-10-26T07:31:21.970Z"
   },
   {
    "duration": 9,
    "start_time": "2024-10-26T07:31:21.980Z"
   },
   {
    "duration": 528,
    "start_time": "2024-10-26T07:31:21.990Z"
   },
   {
    "duration": 104,
    "start_time": "2024-10-26T07:31:22.519Z"
   },
   {
    "duration": 5,
    "start_time": "2024-10-26T07:31:22.624Z"
   },
   {
    "duration": 12,
    "start_time": "2024-10-26T07:31:22.631Z"
   },
   {
    "duration": 3,
    "start_time": "2024-10-26T07:31:22.647Z"
   },
   {
    "duration": 98,
    "start_time": "2024-10-26T07:31:22.651Z"
   },
   {
    "duration": 4,
    "start_time": "2024-10-26T07:31:22.750Z"
   },
   {
    "duration": 72,
    "start_time": "2024-10-26T07:31:22.755Z"
   },
   {
    "duration": 3,
    "start_time": "2024-10-26T07:31:22.829Z"
   },
   {
    "duration": 49,
    "start_time": "2024-10-26T07:31:22.834Z"
   },
   {
    "duration": 9,
    "start_time": "2024-10-26T07:31:22.884Z"
   },
   {
    "duration": 71,
    "start_time": "2024-10-26T07:31:22.895Z"
   },
   {
    "duration": 5,
    "start_time": "2024-10-26T07:31:22.968Z"
   },
   {
    "duration": 5,
    "start_time": "2024-10-26T07:31:22.974Z"
   },
   {
    "duration": 87,
    "start_time": "2024-10-26T07:31:22.980Z"
   },
   {
    "duration": 6,
    "start_time": "2024-10-26T07:31:23.069Z"
   },
   {
    "duration": 4,
    "start_time": "2024-10-26T07:31:23.077Z"
   },
   {
    "duration": 7,
    "start_time": "2024-10-26T07:31:23.082Z"
   },
   {
    "duration": 6,
    "start_time": "2024-10-26T07:31:23.090Z"
   },
   {
    "duration": 24,
    "start_time": "2024-10-26T07:31:23.097Z"
   },
   {
    "duration": 136,
    "start_time": "2024-10-26T07:31:23.123Z"
   },
   {
    "duration": 5,
    "start_time": "2024-10-26T07:31:23.261Z"
   },
   {
    "duration": 11,
    "start_time": "2024-10-26T07:31:23.268Z"
   },
   {
    "duration": 9,
    "start_time": "2024-10-26T07:31:23.280Z"
   },
   {
    "duration": 29,
    "start_time": "2024-10-26T07:31:23.290Z"
   },
   {
    "duration": 3,
    "start_time": "2024-10-26T07:31:23.320Z"
   },
   {
    "duration": 5,
    "start_time": "2024-10-26T07:31:23.325Z"
   },
   {
    "duration": 18,
    "start_time": "2024-10-26T07:31:23.331Z"
   },
   {
    "duration": 7,
    "start_time": "2024-10-26T07:31:23.351Z"
   },
   {
    "duration": 8,
    "start_time": "2024-10-26T07:31:23.359Z"
   },
   {
    "duration": 4,
    "start_time": "2024-10-26T07:31:23.368Z"
   },
   {
    "duration": 7,
    "start_time": "2024-10-26T07:31:23.373Z"
   },
   {
    "duration": 5,
    "start_time": "2024-10-26T07:31:23.381Z"
   },
   {
    "duration": 12,
    "start_time": "2024-10-26T07:31:23.388Z"
   },
   {
    "duration": 21,
    "start_time": "2024-10-26T07:31:23.401Z"
   },
   {
    "duration": 9,
    "start_time": "2024-10-26T07:31:23.424Z"
   },
   {
    "duration": 4,
    "start_time": "2024-10-26T07:31:23.434Z"
   },
   {
    "duration": 12,
    "start_time": "2024-10-26T07:31:23.439Z"
   },
   {
    "duration": 25,
    "start_time": "2024-10-26T07:31:23.452Z"
   },
   {
    "duration": 2,
    "start_time": "2024-10-26T07:31:23.479Z"
   },
   {
    "duration": 6,
    "start_time": "2024-10-26T07:31:23.483Z"
   },
   {
    "duration": 5,
    "start_time": "2024-10-26T07:31:23.491Z"
   },
   {
    "duration": 1061,
    "start_time": "2024-10-26T07:36:06.191Z"
   },
   {
    "duration": 169,
    "start_time": "2024-10-26T07:36:07.254Z"
   },
   {
    "duration": 56,
    "start_time": "2024-10-26T07:36:07.425Z"
   },
   {
    "duration": 36,
    "start_time": "2024-10-26T07:36:07.482Z"
   },
   {
    "duration": 13,
    "start_time": "2024-10-26T07:36:07.520Z"
   },
   {
    "duration": 21,
    "start_time": "2024-10-26T07:36:07.534Z"
   },
   {
    "duration": 34,
    "start_time": "2024-10-26T07:36:07.556Z"
   },
   {
    "duration": 17,
    "start_time": "2024-10-26T07:36:07.592Z"
   },
   {
    "duration": 32,
    "start_time": "2024-10-26T07:36:07.611Z"
   },
   {
    "duration": 26,
    "start_time": "2024-10-26T07:36:07.647Z"
   },
   {
    "duration": 56,
    "start_time": "2024-10-26T07:36:07.676Z"
   },
   {
    "duration": 6,
    "start_time": "2024-10-26T07:36:07.734Z"
   },
   {
    "duration": 46,
    "start_time": "2024-10-26T07:36:07.742Z"
   },
   {
    "duration": 10,
    "start_time": "2024-10-26T07:36:07.790Z"
   },
   {
    "duration": 15,
    "start_time": "2024-10-26T07:36:07.801Z"
   },
   {
    "duration": 18,
    "start_time": "2024-10-26T07:36:07.818Z"
   },
   {
    "duration": 39,
    "start_time": "2024-10-26T07:36:07.838Z"
   },
   {
    "duration": 229,
    "start_time": "2024-10-26T07:36:07.879Z"
   },
   {
    "duration": 140,
    "start_time": "2024-10-26T07:36:08.110Z"
   },
   {
    "duration": 29,
    "start_time": "2024-10-26T07:36:08.252Z"
   },
   {
    "duration": 77,
    "start_time": "2024-10-26T07:36:08.282Z"
   },
   {
    "duration": 42,
    "start_time": "2024-10-26T07:36:08.361Z"
   },
   {
    "duration": 16,
    "start_time": "2024-10-26T07:36:08.405Z"
   },
   {
    "duration": 578,
    "start_time": "2024-10-26T07:36:08.423Z"
   },
   {
    "duration": 120,
    "start_time": "2024-10-26T07:36:09.003Z"
   },
   {
    "duration": 5,
    "start_time": "2024-10-26T07:36:09.124Z"
   },
   {
    "duration": 12,
    "start_time": "2024-10-26T07:36:09.131Z"
   },
   {
    "duration": 14,
    "start_time": "2024-10-26T07:36:09.147Z"
   },
   {
    "duration": 83,
    "start_time": "2024-10-26T07:36:09.163Z"
   },
   {
    "duration": 4,
    "start_time": "2024-10-26T07:36:09.247Z"
   },
   {
    "duration": 83,
    "start_time": "2024-10-26T07:36:09.253Z"
   },
   {
    "duration": 4,
    "start_time": "2024-10-26T07:36:09.337Z"
   },
   {
    "duration": 61,
    "start_time": "2024-10-26T07:36:09.343Z"
   },
   {
    "duration": 12,
    "start_time": "2024-10-26T07:36:09.418Z"
   },
   {
    "duration": 53,
    "start_time": "2024-10-26T07:36:09.432Z"
   },
   {
    "duration": 5,
    "start_time": "2024-10-26T07:36:09.487Z"
   },
   {
    "duration": 26,
    "start_time": "2024-10-26T07:36:09.494Z"
   },
   {
    "duration": 61,
    "start_time": "2024-10-26T07:36:09.521Z"
   },
   {
    "duration": 5,
    "start_time": "2024-10-26T07:36:09.584Z"
   },
   {
    "duration": 4,
    "start_time": "2024-10-26T07:36:09.591Z"
   },
   {
    "duration": 3,
    "start_time": "2024-10-26T07:36:09.618Z"
   },
   {
    "duration": 5,
    "start_time": "2024-10-26T07:36:09.623Z"
   },
   {
    "duration": 8,
    "start_time": "2024-10-26T07:36:09.631Z"
   },
   {
    "duration": 198,
    "start_time": "2024-10-26T07:36:09.641Z"
   },
   {
    "duration": 6,
    "start_time": "2024-10-26T07:36:09.841Z"
   },
   {
    "duration": 35,
    "start_time": "2024-10-26T07:36:09.849Z"
   },
   {
    "duration": 41,
    "start_time": "2024-10-26T07:36:09.886Z"
   },
   {
    "duration": 35,
    "start_time": "2024-10-26T07:36:09.928Z"
   },
   {
    "duration": 4,
    "start_time": "2024-10-26T07:36:09.964Z"
   },
   {
    "duration": 36,
    "start_time": "2024-10-26T07:36:09.969Z"
   },
   {
    "duration": 53,
    "start_time": "2024-10-26T07:36:10.007Z"
   },
   {
    "duration": 24,
    "start_time": "2024-10-26T07:36:10.061Z"
   },
   {
    "duration": 37,
    "start_time": "2024-10-26T07:36:10.087Z"
   },
   {
    "duration": 36,
    "start_time": "2024-10-26T07:36:10.126Z"
   },
   {
    "duration": 13,
    "start_time": "2024-10-26T07:36:10.164Z"
   },
   {
    "duration": 42,
    "start_time": "2024-10-26T07:36:10.178Z"
   },
   {
    "duration": 22,
    "start_time": "2024-10-26T07:36:10.222Z"
   },
   {
    "duration": 19,
    "start_time": "2024-10-26T07:36:10.246Z"
   },
   {
    "duration": 18,
    "start_time": "2024-10-26T07:36:10.267Z"
   },
   {
    "duration": 15,
    "start_time": "2024-10-26T07:36:10.286Z"
   },
   {
    "duration": 7,
    "start_time": "2024-10-26T07:36:10.302Z"
   },
   {
    "duration": 43,
    "start_time": "2024-10-26T07:36:10.311Z"
   },
   {
    "duration": 3,
    "start_time": "2024-10-26T07:36:10.356Z"
   },
   {
    "duration": 34,
    "start_time": "2024-10-26T07:36:10.360Z"
   },
   {
    "duration": 48,
    "start_time": "2024-10-26T07:36:10.395Z"
   }
  ],
  "kernelspec": {
   "display_name": "Python 3",
   "language": "python",
   "name": "python3"
  },
  "language_info": {
   "codemirror_mode": {
    "name": "ipython",
    "version": 3
   },
   "file_extension": ".py",
   "mimetype": "text/x-python",
   "name": "python",
   "nbconvert_exporter": "python",
   "pygments_lexer": "ipython3",
   "version": "3.10.12"
  },
  "toc": {
   "base_numbering": 1,
   "nav_menu": {},
   "number_sections": true,
   "sideBar": true,
   "skip_h1_title": true,
   "title_cell": "Table of Contents",
   "title_sidebar": "Contents",
   "toc_cell": false,
   "toc_position": {},
   "toc_section_display": true,
   "toc_window_display": false
  }
 },
 "nbformat": 4,
 "nbformat_minor": 2
}
